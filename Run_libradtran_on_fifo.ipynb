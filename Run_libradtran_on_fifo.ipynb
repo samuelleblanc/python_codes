{
 "cells": [
  {
   "cell_type": "markdown",
   "metadata": {},
   "source": [
    "# Import modues"
   ]
  },
  {
   "cell_type": "code",
   "execution_count": 18,
   "metadata": {
    "ExecuteTime": {
     "end_time": "2020-04-24T23:05:44.615565Z",
     "start_time": "2020-04-24T23:05:44.586185Z"
    }
   },
   "outputs": [],
   "source": [
    "import numpy as np\n",
    "import hdf5storage as hs\n",
    "import os\n",
    "import write_utils as wu\n",
    "import scipy.io as sio\n",
    "from path_utils import getpath\n",
    "import matplotlib.pyplot as plt\n",
    "import load_utils as lu\n",
    "from write_utils import nearest_neighbor, iterate_dict_unicode\n",
    "from tqdm.notebook import tqdm \n",
    "from datetime import datetime\n",
    "from multiprocessing import Pool, cpu_count\n",
    "from copy import deepcopy\n",
    "import signal\n",
    "import warnings\n",
    "import Run_libradtran as Rl"
   ]
  },
  {
   "cell_type": "code",
   "execution_count": 16,
   "metadata": {
    "ExecuteTime": {
     "end_time": "2020-04-24T23:05:28.209652Z",
     "start_time": "2020-04-24T23:05:28.170454Z"
    }
   },
   "outputs": [],
   "source": [
    "%matplotlib notebook"
   ]
  },
  {
   "cell_type": "code",
   "execution_count": 17,
   "metadata": {
    "ExecuteTime": {
     "end_time": "2020-04-24T23:05:36.816418Z",
     "start_time": "2020-04-24T23:05:36.794149Z"
    }
   },
   "outputs": [],
   "source": [
    "warnings.simplefilter('ignore')"
   ]
  },
  {
   "cell_type": "code",
   "execution_count": 19,
   "metadata": {
    "ExecuteTime": {
     "end_time": "2020-04-24T23:05:50.798604Z",
     "start_time": "2020-04-24T23:05:50.777254Z"
    }
   },
   "outputs": [],
   "source": [
    "name = 'ORACLES'\n",
    "vv = 'v3'\n",
    "vr = 'R3'"
   ]
  },
  {
   "cell_type": "code",
   "execution_count": 20,
   "metadata": {
    "ExecuteTime": {
     "end_time": "2020-04-24T23:06:05.471854Z",
     "start_time": "2020-04-24T23:06:05.365067Z"
    }
   },
   "outputs": [
    {
     "name": "stdout",
     "output_type": "stream",
     "text": [
      "Return path named:  ORACLES /data/sam/ORACLES/\n",
      "Return path named:  rtm /scratch/rtm/\n",
      "Return path named:  uvspecb /home/sam/libradtran/libRadtran-2.0.2b/bin/\n",
      "Return path named:  uvspec_dat /home/sam/libradtran/libRadtran-2.0.2/data/\n"
     ]
    }
   ],
   "source": [
    "fp = getpath(name)\n",
    "fp_rtm = getpath('rtm')\n",
    "fp_uvspec = getpath('uvspecb')+'uvspec'\n",
    "matfile = fp+'{}_all_cld_ict.mat'.format(vr)\n",
    "fp_uvspec_dat = getpath('uvspec_dat') \n",
    "fp_rtmdat = fp_rtm+'dat/'"
   ]
  },
  {
   "cell_type": "markdown",
   "metadata": {},
   "source": [
    "### Test out using fifo instead of files"
   ]
  },
  {
   "cell_type": "code",
   "execution_count": 3,
   "metadata": {
    "ExecuteTime": {
     "end_time": "2020-04-24T23:02:28.483515Z",
     "start_time": "2020-04-24T23:02:28.464081Z"
    }
   },
   "outputs": [],
   "source": [
    "import os\n",
    "from multiprocessing import Process, Event\n",
    "import subprocess as sub"
   ]
  },
  {
   "cell_type": "code",
   "execution_count": 51,
   "metadata": {
    "ExecuteTime": {
     "end_time": "2020-04-30T00:59:58.532135Z",
     "start_time": "2020-04-30T00:59:58.505289Z"
    }
   },
   "outputs": [],
   "source": [
    "fp_fifo_in = '/tmp/uvspec_input.fifo'"
   ]
  },
  {
   "cell_type": "code",
   "execution_count": 5,
   "metadata": {
    "ExecuteTime": {
     "end_time": "2020-04-24T23:02:29.713159Z",
     "start_time": "2020-04-24T23:02:29.694076Z"
    }
   },
   "outputs": [],
   "source": [
    "os.mkfifo(fp_fifo_in)"
   ]
  },
  {
   "cell_type": "code",
   "execution_count": 8,
   "metadata": {
    "ExecuteTime": {
     "end_time": "2020-04-24T23:03:18.076005Z",
     "start_time": "2020-04-24T23:02:48.926904Z"
    }
   },
   "outputs": [],
   "source": [
    "p = open(fp_fifo_in,'w')\n",
    "p.write('quiet\\n')\n",
    "p.write('mol_abs_param fu\\n')\n",
    "p.write('rte_solver twostr\\n')\n",
    "p.write('output_process sum\\n')\n",
    "p.write('data_files_path /home/sam/libradtran/libRadtran-2.0.2b/data/ \\n')\n",
    "p.write('source solar /home/sam/libradtran/libRadtran-2.0.2b/data/solar_flux/kurudz_1.0nm.dat per_nm\\n')\n",
    "p.write('wavelength 350.000000 4000.000000\\n')\n",
    "p.write('zout 0 3 100\\n')\n",
    "p.write('latitude N 56.938700\\n')\n",
    "p.write('longitude W 111.866900\\n')\n",
    "p.write('time 2018 06 09 15 30 00\\n')\n",
    "p.write('aerosol_default\\n')\n",
    "p.write('aerosol_modify ssa scale 0.85\\n')\n",
    "p.write('disort_intcor moments\\n')\n",
    "p.write('albedo 0.33\\n')\n",
    "p.close()"
   ]
  },
  {
   "cell_type": "code",
   "execution_count": 9,
   "metadata": {
    "ExecuteTime": {
     "end_time": "2020-04-24T23:03:18.104472Z",
     "start_time": "2020-04-24T23:03:18.081140Z"
    }
   },
   "outputs": [],
   "source": [
    "def print_fifo():\n",
    "    p = open(fp_fifo_in,'w')\n",
    "    p.write('quiet\\n')\n",
    "    p.write('mol_abs_param fu\\n')\n",
    "    p.write('rte_solver twostr\\n')\n",
    "    p.write('output_process sum\\n')\n",
    "    p.write('data_files_path /home/sam/libradtran/libRadtran-2.0.2b/data/ \\n')\n",
    "    p.write('source solar /home/sam/libradtran/libRadtran-2.0.2b/data/solar_flux/kurudz_1.0nm.dat per_nm\\n')\n",
    "    p.write('wavelength 350.000000 4000.000000\\n')\n",
    "    p.write('zout 0 3 100\\n')\n",
    "    p.write('latitude N 56.938700\\n')\n",
    "    p.write('longitude W 111.866900\\n')\n",
    "    p.write('time 2018 06 09 15 30 00\\n')\n",
    "    p.write('aerosol_default\\n')\n",
    "    p.write('aerosol_modify ssa scale 0.85\\n')\n",
    "    p.write('disort_intcor moments\\n')\n",
    "    p.write('albedo 0.33\\n')\n",
    "    p.close()"
   ]
  },
  {
   "cell_type": "code",
   "execution_count": 10,
   "metadata": {
    "ExecuteTime": {
     "end_time": "2020-04-24T23:03:18.126316Z",
     "start_time": "2020-04-24T23:03:18.108562Z"
    }
   },
   "outputs": [],
   "source": [
    "def run():\n",
    "    process = sub.Popen([fp_uvspec],stdin=p, stdout=sub.PIPE,stderr=sub.PIPE)\n",
    "    stdout,stderr = process.communicate()\n",
    "    #stderr = process.stderr.read()\n",
    "    print 'STDOUT:{},{},{}'.format(stdout,stderr,process.poll())"
   ]
  },
  {
   "cell_type": "code",
   "execution_count": 11,
   "metadata": {
    "ExecuteTime": {
     "end_time": "2020-04-24T23:03:18.167943Z",
     "start_time": "2020-04-24T23:03:18.130682Z"
    }
   },
   "outputs": [
    {
     "name": "stdout",
     "output_type": "stream",
     "text": [
      "fifo:  <open file '/tmp/uvspec_input.fifo', mode 'w+' at 0x7f25d5c12c00>\n"
     ]
    },
    {
     "ename": "NameError",
     "evalue": "name 'fp_uvspec' is not defined",
     "output_type": "error",
     "traceback": [
      "\u001b[0;31m\u001b[0m",
      "\u001b[0;31mNameError\u001b[0mTraceback (most recent call last)",
      "\u001b[0;32m<ipython-input-11-5cb4d84037b8>\u001b[0m in \u001b[0;36m<module>\u001b[0;34m()\u001b[0m\n\u001b[1;32m     18\u001b[0m \u001b[0mp\u001b[0m\u001b[0;34m.\u001b[0m\u001b[0mwrite\u001b[0m\u001b[0;34m(\u001b[0m\u001b[0;34m'albedo 0.33\\n'\u001b[0m\u001b[0;34m)\u001b[0m\u001b[0;34m\u001b[0m\u001b[0m\n\u001b[1;32m     19\u001b[0m \u001b[0;31m#p.close()\u001b[0m\u001b[0;34m\u001b[0m\u001b[0;34m\u001b[0m\u001b[0m\n\u001b[0;32m---> 20\u001b[0;31m \u001b[0mprocess\u001b[0m \u001b[0;34m=\u001b[0m \u001b[0msub\u001b[0m\u001b[0;34m.\u001b[0m\u001b[0mPopen\u001b[0m\u001b[0;34m(\u001b[0m\u001b[0;34m[\u001b[0m\u001b[0mfp_uvspec\u001b[0m\u001b[0;34m]\u001b[0m\u001b[0;34m,\u001b[0m\u001b[0mstdin\u001b[0m\u001b[0;34m=\u001b[0m\u001b[0mp\u001b[0m\u001b[0;34m,\u001b[0m\u001b[0mstdout\u001b[0m\u001b[0;34m=\u001b[0m\u001b[0msub\u001b[0m\u001b[0;34m.\u001b[0m\u001b[0mPIPE\u001b[0m\u001b[0;34m,\u001b[0m\u001b[0mstderr\u001b[0m\u001b[0;34m=\u001b[0m\u001b[0msub\u001b[0m\u001b[0;34m.\u001b[0m\u001b[0mPIPE\u001b[0m\u001b[0;34m)\u001b[0m\u001b[0;34m\u001b[0m\u001b[0m\n\u001b[0m\u001b[1;32m     21\u001b[0m \u001b[0mstdout\u001b[0m\u001b[0;34m,\u001b[0m\u001b[0mstderr\u001b[0m \u001b[0;34m=\u001b[0m \u001b[0mprocess\u001b[0m\u001b[0;34m.\u001b[0m\u001b[0mcommunicate\u001b[0m\u001b[0;34m(\u001b[0m\u001b[0;34m)\u001b[0m\u001b[0;34m\u001b[0m\u001b[0m\n\u001b[1;32m     22\u001b[0m \u001b[0;32mprint\u001b[0m \u001b[0;34m'STDOUT:{},{},{}'\u001b[0m\u001b[0;34m.\u001b[0m\u001b[0mformat\u001b[0m\u001b[0;34m(\u001b[0m\u001b[0mstdout\u001b[0m\u001b[0;34m,\u001b[0m\u001b[0mstderr\u001b[0m\u001b[0;34m,\u001b[0m\u001b[0mprocess\u001b[0m\u001b[0;34m.\u001b[0m\u001b[0mpoll\u001b[0m\u001b[0;34m(\u001b[0m\u001b[0;34m)\u001b[0m\u001b[0;34m)\u001b[0m\u001b[0;34m\u001b[0m\u001b[0m\n",
      "\u001b[0;31mNameError\u001b[0m: name 'fp_uvspec' is not defined"
     ]
    }
   ],
   "source": [
    "p = open(fp_fifo_in,'w+')\n",
    "print 'fifo: ',p\n",
    "p.flush()\n",
    "p.write('quiet\\n')\n",
    "p.write('mol_abs_param fu\\n')\n",
    "p.write('rte_solver twostr\\n')\n",
    "p.write('output_process sum\\n')\n",
    "p.write('data_files_path /home/sam/libradtran/libRadtran-2.0.2b/data/ \\n')\n",
    "p.write('source solar /home/sam/libradtran/libRadtran-2.0.2b/data/solar_flux/kurudz_1.0nm.dat per_nm\\n')\n",
    "p.write('wavelength 350.000000 4000.000000\\n')\n",
    "p.write('zout 0 3 100\\n')\n",
    "p.write('latitude N 56.938700\\n')\n",
    "p.write('longitude W 111.866900\\n')\n",
    "p.write('time 2018 06 09 15 30 00\\n')\n",
    "p.write('aerosol_default\\n')\n",
    "p.write('aerosol_modify ssa scale 0.85\\n')\n",
    "p.write('disort_intcor moments\\n')\n",
    "p.write('albedo 0.33\\n')\n",
    "#p.close()\n",
    "process = sub.Popen([fp_uvspec],stdin=p,stdout=sub.PIPE,stderr=sub.PIPE)\n",
    "stdout,stderr = process.communicate()\n",
    "print 'STDOUT:{},{},{}'.format(stdout,stderr,process.poll())\n",
    "p.close()"
   ]
  },
  {
   "cell_type": "code",
   "execution_count": 38,
   "metadata": {
    "ExecuteTime": {
     "end_time": "2020-04-28T01:04:19.805452Z",
     "start_time": "2020-04-28T01:04:19.778911Z"
    }
   },
   "outputs": [],
   "source": [
    "def write_xtrf(fp_fifo_in):\n",
    "    if not os.path.exists(fp_fifo_in):\n",
    "        os.mkfifo(fp_fifo_in)\n",
    "    p = open(fp_fifo_in,'w')\n",
    "    p.flush()\n",
    "    g = ['# wvl[nm]    alb[unitless]',\\\n",
    "'250.000000      -0.043171',\\\n",
    "'350.000000      -0.010611',\\\n",
    "'400.000000      0.005669',\\\n",
    "'500.000000      0.038229',\\\n",
    "'675.000000      0.058627',\\\n",
    "'870.000000      0.229436',\\\n",
    "'995.000000      0.234727',\\\n",
    "'1200.000000     0.240584',\\\n",
    "'1400.000000     0.246298',\\\n",
    "'1600.000000     0.252013',\\\n",
    "'2100.000000     0.266298',\\\n",
    "'3200.000000     0.297727',\\\n",
    "'4900.000000     0.346298']\n",
    "    for llj in g:\n",
    "        p.write('{}\\n'.format(llj))\n",
    "    #p.flush()\n",
    "    p.close()\n",
    "    os.unlink(fp_fifo_in)\n",
    "    #os.remove(fp_fifo_in)"
   ]
  },
  {
   "cell_type": "code",
   "execution_count": 108,
   "metadata": {
    "ExecuteTime": {
     "end_time": "2020-04-30T06:51:29.754289Z",
     "start_time": "2020-04-30T06:51:25.358196Z"
    }
   },
   "outputs": [],
   "source": [
    "write_xtrf(fp_fifo_in)"
   ]
  },
  {
   "cell_type": "code",
   "execution_count": 85,
   "metadata": {
    "ExecuteTime": {
     "end_time": "2020-04-30T05:34:05.852505Z",
     "start_time": "2020-04-30T05:34:05.564430Z"
    }
   },
   "outputs": [
    {
     "data": {
      "text/plain": [
       "8"
      ]
     },
     "execution_count": 85,
     "metadata": {},
     "output_type": "execute_result"
    },
    {
     "data": {
      "text/plain": [
       "17"
      ]
     },
     "execution_count": 85,
     "metadata": {},
     "output_type": "execute_result"
    },
    {
     "data": {
      "text/plain": [
       "18"
      ]
     },
     "execution_count": 85,
     "metadata": {},
     "output_type": "execute_result"
    },
    {
     "data": {
      "text/plain": [
       "19"
      ]
     },
     "execution_count": 85,
     "metadata": {},
     "output_type": "execute_result"
    },
    {
     "data": {
      "text/plain": [
       "62"
      ]
     },
     "execution_count": 85,
     "metadata": {},
     "output_type": "execute_result"
    },
    {
     "data": {
      "text/plain": [
       "92"
      ]
     },
     "execution_count": 85,
     "metadata": {},
     "output_type": "execute_result"
    },
    {
     "data": {
      "text/plain": [
       "34"
      ]
     },
     "execution_count": 85,
     "metadata": {},
     "output_type": "execute_result"
    },
    {
     "data": {
      "text/plain": [
       "13"
      ]
     },
     "execution_count": 85,
     "metadata": {},
     "output_type": "execute_result"
    },
    {
     "data": {
      "text/plain": [
       "21"
      ]
     },
     "execution_count": 85,
     "metadata": {},
     "output_type": "execute_result"
    },
    {
     "data": {
      "text/plain": [
       "23"
      ]
     },
     "execution_count": 85,
     "metadata": {},
     "output_type": "execute_result"
    },
    {
     "data": {
      "text/plain": [
       "25"
      ]
     },
     "execution_count": 85,
     "metadata": {},
     "output_type": "execute_result"
    },
    {
     "data": {
      "text/plain": [
       "16"
      ]
     },
     "execution_count": 85,
     "metadata": {},
     "output_type": "execute_result"
    },
    {
     "data": {
      "text/plain": [
       "30"
      ]
     },
     "execution_count": 85,
     "metadata": {},
     "output_type": "execute_result"
    },
    {
     "data": {
      "text/plain": [
       "22"
      ]
     },
     "execution_count": 85,
     "metadata": {},
     "output_type": "execute_result"
    },
    {
     "data": {
      "text/plain": [
       "12"
      ]
     },
     "execution_count": 85,
     "metadata": {},
     "output_type": "execute_result"
    },
    {
     "data": {
      "text/plain": [
       "34"
      ]
     },
     "execution_count": 85,
     "metadata": {},
     "output_type": "execute_result"
    },
    {
     "name": "stdout",
     "output_type": "stream",
     "text": [
      "STDOUT:, ... choosing atmosphere file midlatitude_summer\n",
      " ... calling uvspec_check(), checking model input data\n",
      " ... calling setup_wlgrid(), generating transmittance wavelength grid\n",
      "     user wavelength range: 350.000000 - 4000.000000 nm\n",
      "     selected wavelength indices 0 - 6\n",
      "     wavelength bands boundaries: 550.000000 - 4900.000000 nm\n",
      " ... calling setup_rte_wlgrid(), generating radiative transfer wavelength grid\n",
      " ... calling setup_sza(), generating model solar zenith and azimuth\n",
      " ... calculating sza with time, latitude and longitude \n",
      "     using Blanco-Muriel et al. (2001) to calculate solar zenith and azimuth\n",
      "     Latitude:               56.94 degree\n",
      "     Longitude:            -111.87 degree\n",
      "     Standard Longitude:      0.00 degree\n",
      "     Time Zone:            UTC+0.0 hours\n",
      "     Standard Time:        Sun Jun  9 15:30:00 2018\n",
      "     Local Apparent Time:             08:03:44\n",
      "     Solar Zenith  Angle:    54.251 degree\n",
      "     Solar Azimuth Angle:   282.995 degree\n",
      "     solar zenith angle from lat/lon/time, sza =  54.251 \n",
      " ... calling setup_ipa(), generating independent pixels\n",
      " ... setup 3D molecular atmosphere\n",
      " ... calling setup_altitude(), determine surface elevation \n",
      " ... reading atmosphere data file /home/sam/libradtran/libRadtran-2.0.2b/data/atmmod/afglms.dat\n",
      " ... converting p and T to a z-grid\n",
      "     assuming: R =   286.933525, g(z=0km) =     9.799999\n",
      " ... calling setup_all_caoth(), generating all clouds etc.\n",
      "     total cloud cover = 1.000000\n",
      " ... calling setup_atmosphere(), generating model atmosphere\n",
      " ... Interpolation methods\n",
      "     z_interpolate pressure          logarithmic         interpolation\n",
      "     z_interpolate temperature       linear              interpolation\n",
      "     z_interpolate refraction index  linear              interpolation\n",
      "     z_interpolate Air  density      logarithmic         interpolation\n",
      "     z_interpolate O3   density      linear mixing ratio interpolation\n",
      "     z_interpolate O2   density      linear mixing ratio interpolation\n",
      "     z_interpolate H2O  density      linear mixing ratio interpolation\n",
      "     z_interpolate CO2  density      linear mixing ratio interpolation\n",
      "     z_interpolate NO2  density      linear mixing ratio interpolation\n",
      "     z_interpolate BRO  density      linear mixing ratio interpolation\n",
      "     z_interpolate OCLO density      linear mixing ratio interpolation\n",
      "     z_interpolate HCHO density      linear mixing ratio interpolation\n",
      "     z_interpolate O4   density      linear mixing ratio interpolation\n",
      "     z_interpolate SO2  density      linear mixing ratio interpolation\n",
      "     z_interpolate CH4  density      linear mixing ratio interpolation\n",
      "     z_interpolate N2O  density      linear mixing ratio interpolation\n",
      "     z_interpolate CO   density      linear mixing ratio interpolation\n",
      "     z_interpolate N2   density      linear mixing ratio interpolation\n",
      " ... setup_zout_levels\n",
      "     only following output levels are considered:\n",
      "  lc    zout[km]\n",
      "----------------\n",
      "   0    0.00000\n",
      "   1    3.00000\n",
      "   2  100.00000\n",
      "*** Scaling profiles\n",
      " ----------------------------------------------------------------------------------------------------------------------------------------\n",
      "  lc |  z[km]  |  Pressure  | Temp.  |    Air      |   Ozone     |     O2      | Water vap.  |    CO2      |    NO2      |      O4      |\n",
      "     |         |   [hPa]    |  [K]   |   [cm-3]    |   [cm-3]    |   [cm-3]    |   [cm-3]    |   [cm-3]    |   [cm-3]    | [1.0e+46cm-6]|\n",
      " ----------------------------------------------------------------------------------------------------------------------------------------\n",
      "    0  120.0000     0.00002   380.00   4.32667e+11   2.16500e+02   3.13925e+10   8.66000e+04   1.51550e+07   6.53830e+01   9.85489e-26\n",
      "    1  115.0000     0.00004   316.80   8.13911e+11   4.07250e+03   7.65630e+10   1.95480e+05   3.25800e+07   1.26247e+02   5.86190e-25\n",
      "    2  110.0000     0.00006   262.40   1.68651e+12   8.44000e+04   2.02560e+11   4.72640e+05   1.01280e+08   2.68392e+02   4.10306e-24\n",
      "    3  105.0000     0.00012   222.20   3.81376e+12   7.63200e+05   5.34240e+11   1.29744e+06   4.19760e+08   6.25824e+02   2.85412e-23\n",
      "    4  100.0000     0.00026   190.50   9.80927e+12   3.92640e+06   1.57056e+12   3.92640e+06   1.91412e+09   1.66872e+03   2.46666e-22\n",
      "    5   95.0000     0.00062   178.30   2.53887e+13   1.77870e+07   4.57380e+12   1.37214e+07   6.86070e+09   4.47216e+03   2.09196e-21\n",
      "    6   90.0000     0.00164   165.00   7.19899e+13   5.40300e+07   1.36876e+13   6.12340e+07   2.23324e+10   1.31833e+04   1.87350e-20\n",
      "    7   85.0000     0.00448   165.10   1.96536e+14   1.12119e+08   3.93400e+13   2.61611e+08   6.29440e+10   3.77664e+04   1.54764e-19\n",
      "    8   80.0000     0.01200   174.10   4.99223e+14   9.99200e+07   1.04416e+14   1.04916e+09   1.63869e+11   1.00919e+05   1.09028e-18\n",
      "    9   75.0000     0.03000   196.10   1.10804e+15   2.10710e+08   2.31781e+14   3.27155e+09   3.65970e+11   2.38435e+05   5.37224e-18\n",
      "   10   70.0000     0.06700   218.10   2.22500e+15   8.90800e+08   4.65443e+14   8.23990e+09   7.34910e+11   5.14437e+05   2.16637e-17\n",
      "   11   65.0000     0.13900   240.10   4.19309e+15   3.35680e+09   8.76964e+14   1.84624e+10   1.38468e+12   1.06159e+06   7.69066e-17\n",
      "   12   60.0000     0.27200   257.10   7.66264e+15   9.96840e+09   1.60261e+15   3.83400e+10   2.53044e+12   2.18538e+06   2.56837e-16\n",
      "   13   55.0000     0.51500   269.30   1.38511e+16   2.49480e+10   2.89674e+15   7.41510e+10   4.57380e+12   4.69854e+06   8.39110e-16\n",
      "   14   50.0000     0.95100   275.70   2.49836e+16   7.00000e+10   5.22500e+15   1.37500e+11   8.25000e+12   1.10750e+07   2.73006e-15\n",
      "   15   47.5000     1.29000   275.20   3.39510e+16   1.18930e+11   7.10182e+15   1.86890e+11   1.12134e+13   2.26307e+07   5.04359e-15\n",
      "   16   45.0000     1.76000   269.90   4.72304e+16   2.12670e+11   9.87734e+15   2.57567e+11   1.55958e+13   5.43490e+07   9.75618e-15\n",
      "   17   42.5000     2.41000   263.70   6.61940e+16   3.90816e+11   1.38442e+16   3.51072e+11   2.18592e+13   1.43741e+08   1.91661e-14\n",
      "   18   40.0000     3.33000   257.50   9.36653e+16   7.07662e+11   1.95896e+16   4.78023e+11   3.09309e+13   3.77732e+08   3.83751e-14\n",
      "   19   37.5000     4.64000   251.30   1.33733e+17   1.16406e+12   2.79642e+16   6.69000e+11   4.41540e+13   8.37588e+08   7.81996e-14\n",
      "   20   35.0000     6.52000   245.20   1.92592e+17   1.71503e+12   4.02743e+16   9.53865e+11   6.35910e+13   1.40286e+09   1.62202e-13\n",
      "   21   32.5000     9.30000   239.00   2.81836e+17   2.28420e+12   5.89380e+16   1.36770e+12   9.30600e+13   2.03322e+09   3.47369e-13\n",
      "   22   30.0000    13.20000   233.70   4.09098e+17   2.86580e+12   8.55646e+16   1.92418e+12   1.35102e+14   2.52190e+09   7.32130e-13\n",
      "   23   27.5000    19.07000   228.45   6.04604e+17   3.63000e+12   1.26445e+17   2.69225e+12   1.99650e+14   2.91005e+09   1.59883e-12\n",
      "   24   25.0000    27.70000   225.10   8.91284e+17   4.28112e+12   1.86407e+17   3.74598e+12   2.94327e+14   3.33571e+09   3.47476e-12\n",
      "   25   24.0000    32.20000   223.90   1.04163e+18   4.16800e+12   2.17778e+17   4.16800e+12   3.43860e+14   3.18852e+09   4.74273e-12\n",
      "   26   23.0000    37.60000   222.80   1.22232e+18   4.15820e+12   2.55607e+17   4.70855e+12   4.03590e+14   3.15534e+09   6.53349e-12\n",
      "   27   22.0000    43.70000   221.60   1.42831e+18   4.14410e+12   2.98661e+17   5.14440e+12   4.71570e+14   3.08664e+09   8.91984e-12\n",
      "   28   21.0000    51.00000   220.40   1.67599e+18   4.02480e+12   3.50493e+17   5.78565e+12   5.53410e+14   2.95152e+09   1.22845e-11\n",
      "   29   20.0000    59.50000   219.20   1.96602e+18   3.93400e+12   4.11103e+17   6.49110e+12   6.49110e+14   2.73413e+09   1.69006e-11\n",
      "   30   19.0000    69.50000   217.90   2.31015e+18   3.46800e+12   4.83208e+17   7.39840e+12   7.62960e+14   2.45072e+09   2.33490e-11\n",
      "   31   18.0000    81.20000   216.80   2.71274e+18   2.71500e+12   5.67435e+17   8.55225e+12   8.95950e+14   2.09327e+09   3.21982e-11\n",
      "   32   17.0000    95.00000   215.70   3.18996e+18   2.23440e+12   6.67128e+17   1.02144e+13   1.05336e+15   1.65665e+09   4.45060e-11\n",
      "   33   16.0000   111.00000   215.70   3.72722e+18   2.23800e+12   7.79570e+17   1.23090e+13   1.23090e+15   1.18987e+09   6.07729e-11\n",
      "   34   15.0000   130.00000   215.70   4.36521e+18   2.18400e+12   9.12912e+17   1.48512e+13   1.44144e+15   7.46928e+08   8.33408e-11\n",
      "   35   14.0000   153.00000   215.70   5.13751e+18   2.26204e+12   1.07447e+18   2.57050e+13   1.69653e+15   3.84547e+08   1.15448e-10\n",
      "   36   13.0000   179.00000   215.80   6.00777e+18   1.80360e+12   1.25651e+18   4.80960e+13   1.98396e+15   2.67534e+08   1.57881e-10\n",
      "   37   12.0000   209.00000   222.30   6.80955e+18   1.51952e+12   1.42413e+18   2.00604e+14   2.24862e+15   2.14641e+08   2.02813e-10\n",
      "   38   11.0000   243.00000   228.80   7.69240e+18   1.38025e+12   1.60888e+18   7.35621e+14   2.54034e+15   2.01688e+08   2.58850e-10\n",
      "   39   10.0000   281.00000   235.30   8.64960e+18   1.12874e+12   1.80910e+18   2.13976e+15   2.85648e+15   2.06013e+08   3.27286e-10\n",
      "   40    9.0000   324.00000   241.70   9.70913e+18   1.07945e+12   2.03064e+18   4.01174e+15   3.20628e+15   2.25411e+08   4.12352e-10\n",
      "   41    8.0000   372.00000   248.20   1.08556e+19   9.91084e+11   2.26974e+18   7.01990e+15   3.58380e+15   2.49780e+08   5.15172e-10\n",
      "   42    7.0000   426.00000   254.70   1.21141e+19   9.40997e+11   2.53308e+18   1.23624e+16   3.99960e+15   2.78760e+08   6.41649e-10\n",
      "   43    6.0000   487.00000   261.20   1.35042e+19   8.65721e+11   2.82359e+18   2.04001e+16   4.45830e+15   3.10730e+08   7.97266e-10\n",
      "   44    5.0000   554.00000   267.20   1.50171e+19   8.28454e+11   3.14127e+18   3.34417e+16   4.95990e+15   3.45690e+08   9.86758e-10\n",
      "   45    4.0000   628.00000   273.20   1.66491e+19   8.03179e+11   3.48194e+18   6.35246e+16   5.49780e+15   3.83180e+08   1.21239e-09\n",
      "   46    3.0000   710.00000   279.20   1.84185e+19   7.78115e+11   3.85187e+18   1.10285e+17   6.08190e+15   4.23890e+08   1.48369e-09\n",
      "   47    2.0000   802.00000   285.20   2.03675e+19   7.52837e+11   4.25942e+18   1.97278e+17   6.72540e+15   4.68740e+08   1.81427e-09\n",
      "   48    1.0000   902.00000   289.70   2.25512e+19   7.53161e+11   4.71713e+18   3.11015e+17   7.44810e+15   5.19110e+08   2.22513e-09\n",
      "   49    0.0000  1013.00000   294.20   2.49390e+19   7.53043e+11   5.21664e+18   4.68250e+17   8.23680e+15   5.74080e+08   2.72133e-09\n",
      " ---------------------------------------------------------------------------------------------------------------------------------------\n",
      "  sum |   -nan |       -nan |   -nan | 2.2e+25cm-2 |  335.559 DU | 4.5e+24cm-2 | 29.598 kg/m2 | 7.1e+21cm-2 | 0.22210 DU  | 1.3e+43cm-5|\n",
      " ---------------------------------------------------------------------------------------------------------------------------------------\n",
      " ... calculate output properties on zout levels\n",
      " ... check ideal gas law for pressure, temperature and number density\n",
      " ... calling setup_temperature(), generating model temperature profile\n",
      " ... calling setup_crs(), reading cross section files\n",
      " ... calling setup_rayleigh(), calculating Rayleigh scattering\n",
      "     using Bodhaine et al. Rayleigh scattering cross section\n",
      " ... calling setup_raman(), calculating Raman scattering\n",
      " ... calling setup_gases(), generating optical properties of trace gases\n",
      " ... calling setup_aerosols(), generating aerosols\n",
      " ... calling setup_caoth3D(), generating 3D clouds etc.\n",
      " ... calling setup_redistribute(), redistributing vertical profiles\n",
      " *** setup_redistribute()\n",
      " ...  redistributing molecular optical properties\n",
      " ...  redistributing molecular cross sections\n",
      " ...  redistributing aerosol optical properties\n",
      " ...  interpolating atmospheric profiles: p, T, densities \n",
      " ...  interpolating index of refraction\n",
      " ...  redistributing airmass stuff\n",
      " ... setup surface temperature\n",
      " ... setting surface temperature to 294.200012 K\n",
      "\n",
      "*** wavelength: iv = 0, 550.000000 nm\n",
      "*** setup_redistribute()\n",
      " --------------------------------------------------------------------------------------------------------------------------------------------------------\n",
      "   lc |      z[km] |\n",
      "      |            |           o3             o2            co2            no2            bro           oclo           hcho        wc.dtau        ic.dtau\n",
      " --------------------------------------------------------------------------------------------------------------------------------------------------------\n",
      " ---------------------------------------------------------------------------------------------------------------------------\n",
      "AMFsum        -nan | 0.000000e+00 | 0.000000e+00 | 0.000000e+00 | 0.000000e+00 | 0.000000e+00 | 0.000000e+00 | 0.000000e+00\n",
      " ---------------------------------------------------------------------------------------------------------------------------\n",
      "AMF column    -nan | 9.020787e+18 | 4.518498e+24 | 7.134470e+21 | 5.970382e+15 | 0.000000e+00 | 0.000000e+00 | 0.000000e+00\n",
      " ---------------------------------------------------------------------------------------------------------------------------\n",
      "AMF BOA crs   -nan | 0.000000e+00 | 0.000000e+00 | 0.000000e+00 | 0.000000e+00 | 0.000000e+00 | 0.000000e+00 | 0.000000e+00\n",
      " ---------------------------------------------------------------------------------------------------------------------------\n",
      "\n",
      "*** wavelength: iv = 1, 1000.000000 nm\n",
      "*** setup_redistribute()\n",
      " --------------------------------------------------------------------------------------------------------------------------------------------------------\n",
      "   lc |      z[km] |\n",
      "      |            |           o3             o2            co2            no2            bro           oclo           hcho        wc.dtau        ic.dtau\n",
      " --------------------------------------------------------------------------------------------------------------------------------------------------------\n",
      " ---------------------------------------------------------------------------------------------------------------------------\n",
      "AMFsum        -nan | 0.000000e+00 | 0.000000e+00 | 0.000000e+00 | 0.000000e+00 | 0.000000e+00 | 0.000000e+00 | 0.000000e+00\n",
      " ---------------------------------------------------------------------------------------------------------------------------\n",
      "AMF column    -nan | 9.020787e+18 | 4.518498e+24 | 7.134470e+21 | 5.970382e+15 | 0.000000e+00 | 0.000000e+00 | 0.000000e+00\n",
      " ---------------------------------------------------------------------------------------------------------------------------\n",
      "AMF BOA crs   -nan | 0.000000e+00 | 0.000000e+00 | 0.000000e+00 | 0.000000e+00 | 0.000000e+00 | 0.000000e+00 | 0.000000e+00\n",
      " ---------------------------------------------------------------------------------------------------------------------------\n",
      "\n",
      "*** wavelength: iv = 2, 1600.000000 nm\n",
      "*** setup_redistribute()\n",
      " --------------------------------------------------------------------------------------------------------------------------------------------------------\n",
      "   lc |      z[km] |\n",
      "      |            |           o3             o2            co2            no2            bro           oclo           hcho        wc.dtau        ic.dtau\n",
      " --------------------------------------------------------------------------------------------------------------------------------------------------------\n",
      " ---------------------------------------------------------------------------------------------------------------------------\n",
      "AMFsum        -nan | 0.000000e+00 | 0.000000e+00 | 0.000000e+00 | 0.000000e+00 | 0.000000e+00 | 0.000000e+00 | 0.000000e+00\n",
      " ---------------------------------------------------------------------------------------------------------------------------\n",
      "AMF column    -nan | 9.020787e+18 | 4.518498e+24 | 7.134470e+21 | 5.970382e+15 | 0.000000e+00 | 0.000000e+00 | 0.000000e+00\n",
      " ---------------------------------------------------------------------------------------------------------------------------\n",
      "AMF BOA crs   -nan | 0.000000e+00 | 0.000000e+00 | 0.000000e+00 | 0.000000e+00 | 0.000000e+00 | 0.000000e+00 | 0.000000e+00\n",
      " ---------------------------------------------------------------------------------------------------------------------------\n",
      "\n",
      "*** wavelength: iv = 3, 2200.000000 nm\n",
      "*** setup_redistribute()\n",
      " --------------------------------------------------------------------------------------------------------------------------------------------------------\n",
      "   lc |      z[km] |\n",
      "      |            |           o3             o2            co2            no2            bro           oclo           hcho        wc.dtau        ic.dtau\n",
      " --------------------------------------------------------------------------------------------------------------------------------------------------------\n",
      " ---------------------------------------------------------------------------------------------------------------------------\n",
      "AMFsum        -nan | 0.000000e+00 | 0.000000e+00 | 0.000000e+00 | 0.000000e+00 | 0.000000e+00 | 0.000000e+00 | 0.000000e+00\n",
      " ---------------------------------------------------------------------------------------------------------------------------\n",
      "AMF column    -nan | 9.020787e+18 | 4.518498e+24 | 7.134470e+21 | 5.970382e+15 | 0.000000e+00 | 0.000000e+00 | 0.000000e+00\n",
      " ---------------------------------------------------------------------------------------------------------------------------\n",
      "AMF BOA crs   -nan | 0.000000e+00 | 0.000000e+00 | 0.000000e+00 | 0.000000e+00 | 0.000000e+00 | 0.000000e+00 | 0.000000e+00\n",
      " ---------------------------------------------------------------------------------------------------------------------------\n",
      "\n",
      "*** wavelength: iv = 4, 3000.000000 nm\n",
      "*** setup_redistribute()\n",
      " --------------------------------------------------------------------------------------------------------------------------------------------------------\n",
      "   lc |      z[km] |\n",
      "      |            |           o3             o2            co2            no2            bro           oclo           hcho        wc.dtau        ic.dtau\n",
      " --------------------------------------------------------------------------------------------------------------------------------------------------------\n",
      " ---------------------------------------------------------------------------------------------------------------------------\n",
      "AMFsum        -nan | 0.000000e+00 | 0.000000e+00 | 0.000000e+00 | 0.000000e+00 | 0.000000e+00 | 0.000000e+00 | 0.000000e+00\n",
      " ---------------------------------------------------------------------------------------------------------------------------\n",
      "AMF column    -nan | 9.020787e+18 | 4.518498e+24 | 7.134470e+21 | 5.970382e+15 | 0.000000e+00 | 0.000000e+00 | 0.000000e+00\n",
      " ---------------------------------------------------------------------------------------------------------------------------\n",
      "AMF BOA crs   -nan | 0.000000e+00 | 0.000000e+00 | 0.000000e+00 | 0.000000e+00 | 0.000000e+00 | 0.000000e+00 | 0.000000e+00\n",
      " ---------------------------------------------------------------------------------------------------------------------------\n",
      "\n",
      "*** wavelength: iv = 5, 3700.000000 nm\n",
      "*** setup_redistribute()\n",
      " --------------------------------------------------------------------------------------------------------------------------------------------------------\n",
      "   lc |      z[km] |\n",
      "      |            |           o3             o2            co2            no2            bro           oclo           hcho        wc.dtau        ic.dtau\n",
      " --------------------------------------------------------------------------------------------------------------------------------------------------------\n",
      " ---------------------------------------------------------------------------------------------------------------------------\n",
      "AMFsum        -nan | 0.000000e+00 | 0.000000e+00 | 0.000000e+00 | 0.000000e+00 | 0.000000e+00 | 0.000000e+00 | 0.000000e+00\n",
      " ---------------------------------------------------------------------------------------------------------------------------\n",
      "AMF column    -nan | 9.020787e+18 | 4.518498e+24 | 7.134470e+21 | 5.970382e+15 | 0.000000e+00 | 0.000000e+00 | 0.000000e+00\n",
      " ---------------------------------------------------------------------------------------------------------------------------\n",
      "AMF BOA crs   -nan | 0.000000e+00 | 0.000000e+00 | 0.000000e+00 | 0.000000e+00 | 0.000000e+00 | 0.000000e+00 | 0.000000e+00\n",
      " ---------------------------------------------------------------------------------------------------------------------------\n",
      "\n",
      "*** wavelength: iv = 6, 4900.000000 nm\n",
      "*** setup_redistribute()\n",
      " --------------------------------------------------------------------------------------------------------------------------------------------------------\n",
      "   lc |      z[km] |\n",
      "      |            |           o3             o2            co2            no2            bro           oclo           hcho        wc.dtau        ic.dtau\n",
      " --------------------------------------------------------------------------------------------------------------------------------------------------------\n",
      " ---------------------------------------------------------------------------------------------------------------------------\n",
      "AMFsum        -nan | 0.000000e+00 | 0.000000e+00 | 0.000000e+00 | 0.000000e+00 | 0.000000e+00 | 0.000000e+00 | 0.000000e+00\n",
      " ---------------------------------------------------------------------------------------------------------------------------\n",
      "AMF column    -nan | 9.020787e+18 | 4.518498e+24 | 7.134470e+21 | 5.970382e+15 | 0.000000e+00 | 0.000000e+00 | 0.000000e+00\n",
      " ---------------------------------------------------------------------------------------------------------------------------\n",
      "AMF BOA crs   -nan | 0.000000e+00 | 0.000000e+00 | 0.000000e+00 | 0.000000e+00 | 0.000000e+00 | 0.000000e+00 | 0.000000e+00\n",
      " ---------------------------------------------------------------------------------------------------------------------------\n",
      " ... calling setup_atmosphere3D(), generating 3D atmosphere\n",
      " ... setup_optprop_molecular3D(), generating 3D gas absorption and Rayleigh scattering coefficients, include in caoth3d\n",
      " ... calling setup_extraterrestrial(), reading extraterrestrial spectrum\n",
      " ... replaced extraterrestrial flux by /home/sam/libradtran/libRadtran-2.0.2b/data/solar_flux/fu\n",
      " ... calling setup_albedo(), generating surface albedo\n",
      "Error -1 reading /tmp/uvspec_input.fifo\n",
      "Error reading albedo file '/tmp/uvspec_input.fifo' \n",
      "      (line 306, function setup_albedo in albedo.c)\n",
      "Error -1 setting up wavelength dependent albedo in uvspec (uvspec.c)\n",
      "Error -1 during execution of uvspec\n",
      ",255\n"
     ]
    }
   ],
   "source": [
    "r, w = os.pipe()\n",
    "os.write(w,'verbose\\n')\n",
    "os.write(w,'mol_abs_param fu\\n')\n",
    "os.write(w,'rte_solver twostr\\n')\n",
    "os.write(w,'output_process sum\\n')\n",
    "os.write(w,'data_files_path /home/sam/libradtran/libRadtran-2.0.2b/data/ \\n')\n",
    "os.write(w,'source solar /home/sam/libradtran/libRadtran-2.0.2b/data/solar_flux/kurudz_1.0nm.dat per_nm\\n')\n",
    "os.write(w,'wavelength 350.000000 4000.000000\\n')\n",
    "os.write(w,'zout 0 3 100\\n')\n",
    "os.write(w,'latitude N 56.938700\\n')\n",
    "os.write(w,'longitude W 111.866900\\n')\n",
    "os.write(w,'time 2018 06 09 15 30 00\\n')\n",
    "os.write(w,'aerosol_default\\n')\n",
    "os.write(w,'aerosol_modify ssa scale 0.85\\n')\n",
    "os.write(w,'disort_intcor moments\\n')\n",
    "os.write(w,'albedo 0.33\\n')\n",
    "os.write(w,'albedo_file {}'.format(fp_fifo_in))\n",
    "os.close(w)\n",
    "#p.close()\n",
    "\n",
    "p1 = Process(target=write_xtrf,args=(fp_fifo_in,))\n",
    "p1.start()\n",
    "\n",
    "process = sub.Popen([fp_uvspec],stdin=r,stdout=sub.PIPE,stderr=sub.PIPE)\n",
    "stdout,stderr = process.communicate()\n",
    "print 'STDOUT:{},{},{}'.format(stdout,stderr,process.poll())\n",
    "#p.close()"
   ]
  },
  {
   "cell_type": "code",
   "execution_count": null,
   "metadata": {},
   "outputs": [],
   "source": []
  },
  {
   "cell_type": "code",
   "execution_count": null,
   "metadata": {},
   "outputs": [],
   "source": []
  }
 ],
 "metadata": {
  "kernelspec": {
   "display_name": "Python 2",
   "language": "python",
   "name": "python2"
  },
  "language_info": {
   "codemirror_mode": {
    "name": "ipython",
    "version": 2
   },
   "file_extension": ".py",
   "mimetype": "text/x-python",
   "name": "python",
   "nbconvert_exporter": "python",
   "pygments_lexer": "ipython2",
   "version": "2.7.17"
  },
  "toc": {
   "base_numbering": 1,
   "nav_menu": {},
   "number_sections": true,
   "sideBar": true,
   "skip_h1_title": false,
   "title_cell": "Table of Contents",
   "title_sidebar": "Contents",
   "toc_cell": false,
   "toc_position": {},
   "toc_section_display": true,
   "toc_window_display": false
  }
 },
 "nbformat": 4,
 "nbformat_minor": 2
}
