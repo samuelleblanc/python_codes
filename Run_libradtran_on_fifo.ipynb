{
 "cells": [
  {
   "cell_type": "markdown",
   "metadata": {},
   "source": [
    "# Import modues"
   ]
  },
  {
   "cell_type": "code",
   "execution_count": 18,
   "metadata": {
    "ExecuteTime": {
     "end_time": "2020-04-24T23:05:44.615565Z",
     "start_time": "2020-04-24T23:05:44.586185Z"
    }
   },
   "outputs": [],
   "source": [
    "import numpy as np\n",
    "import hdf5storage as hs\n",
    "import os\n",
    "import write_utils as wu\n",
    "import scipy.io as sio\n",
    "from path_utils import getpath\n",
    "import matplotlib.pyplot as plt\n",
    "import load_utils as lu\n",
    "from write_utils import nearest_neighbor, iterate_dict_unicode\n",
    "from tqdm.notebook import tqdm \n",
    "from datetime import datetime\n",
    "from multiprocessing import Pool, cpu_count\n",
    "from copy import deepcopy\n",
    "import signal\n",
    "import warnings\n",
    "import Run_libradtran as Rl"
   ]
  },
  {
   "cell_type": "code",
   "execution_count": 16,
   "metadata": {
    "ExecuteTime": {
     "end_time": "2020-04-24T23:05:28.209652Z",
     "start_time": "2020-04-24T23:05:28.170454Z"
    }
   },
   "outputs": [],
   "source": [
    "%matplotlib notebook"
   ]
  },
  {
   "cell_type": "code",
   "execution_count": 17,
   "metadata": {
    "ExecuteTime": {
     "end_time": "2020-04-24T23:05:36.816418Z",
     "start_time": "2020-04-24T23:05:36.794149Z"
    }
   },
   "outputs": [],
   "source": [
    "warnings.simplefilter('ignore')"
   ]
  },
  {
   "cell_type": "code",
   "execution_count": 19,
   "metadata": {
    "ExecuteTime": {
     "end_time": "2020-04-24T23:05:50.798604Z",
     "start_time": "2020-04-24T23:05:50.777254Z"
    }
   },
   "outputs": [],
   "source": [
    "name = 'ORACLES'\n",
    "vv = 'v3'\n",
    "vr = 'R3'"
   ]
  },
  {
   "cell_type": "code",
   "execution_count": 114,
   "metadata": {
    "ExecuteTime": {
     "end_time": "2020-05-11T17:46:24.340394Z",
     "start_time": "2020-05-11T17:46:24.314494Z"
    }
   },
   "outputs": [
    {
     "name": "stdout",
     "output_type": "stream",
     "text": [
      "Return path named:  ORACLES /data/sam/ORACLES/\n",
      "Return path named:  rtm /scratch/rtm/\n",
      "Return path named:  uvspecc /home/sam/libradtran/libRadtran-2.0.2c/bin/\n",
      "Return path named:  uvspec_dat /home/sam/libradtran/libRadtran-2.0.2/data/\n"
     ]
    }
   ],
   "source": [
    "fp = getpath(name)\n",
    "fp_rtm = getpath('rtm')\n",
    "fp_uvspec = getpath('uvspecc')+'uvspec'\n",
    "matfile = fp+'{}_all_cld_ict.mat'.format(vr)\n",
    "fp_uvspec_dat = getpath('uvspec_dat') \n",
    "fp_rtmdat = fp_rtm+'dat/'"
   ]
  },
  {
   "cell_type": "markdown",
   "metadata": {},
   "source": [
    "### Test out using fifo instead of files"
   ]
  },
  {
   "cell_type": "code",
   "execution_count": 3,
   "metadata": {
    "ExecuteTime": {
     "end_time": "2020-04-24T23:02:28.483515Z",
     "start_time": "2020-04-24T23:02:28.464081Z"
    }
   },
   "outputs": [],
   "source": [
    "import os\n",
    "from multiprocessing import Process, Event\n",
    "import subprocess as sub"
   ]
  },
  {
   "cell_type": "code",
   "execution_count": 51,
   "metadata": {
    "ExecuteTime": {
     "end_time": "2020-04-30T00:59:58.532135Z",
     "start_time": "2020-04-30T00:59:58.505289Z"
    }
   },
   "outputs": [],
   "source": [
    "fp_fifo_in = '/tmp/uvspec_input.fifo'"
   ]
  },
  {
   "cell_type": "code",
   "execution_count": 5,
   "metadata": {
    "ExecuteTime": {
     "end_time": "2020-04-24T23:02:29.713159Z",
     "start_time": "2020-04-24T23:02:29.694076Z"
    }
   },
   "outputs": [],
   "source": [
    "os.mkfifo(fp_fifo_in)"
   ]
  },
  {
   "cell_type": "code",
   "execution_count": 8,
   "metadata": {
    "ExecuteTime": {
     "end_time": "2020-04-24T23:03:18.076005Z",
     "start_time": "2020-04-24T23:02:48.926904Z"
    }
   },
   "outputs": [],
   "source": [
    "p = open(fp_fifo_in,'w')\n",
    "p.write('quiet\\n')\n",
    "p.write('mol_abs_param fu\\n')\n",
    "p.write('rte_solver twostr\\n')\n",
    "p.write('output_process sum\\n')\n",
    "p.write('data_files_path /home/sam/libradtran/libRadtran-2.0.2b/data/ \\n')\n",
    "p.write('source solar /home/sam/libradtran/libRadtran-2.0.2b/data/solar_flux/kurudz_1.0nm.dat per_nm\\n')\n",
    "p.write('wavelength 350.000000 4000.000000\\n')\n",
    "p.write('zout 0 3 100\\n')\n",
    "p.write('latitude N 56.938700\\n')\n",
    "p.write('longitude W 111.866900\\n')\n",
    "p.write('time 2018 06 09 15 30 00\\n')\n",
    "p.write('aerosol_default\\n')\n",
    "p.write('aerosol_modify ssa scale 0.85\\n')\n",
    "p.write('disort_intcor moments\\n')\n",
    "p.write('albedo 0.33\\n')\n",
    "p.close()"
   ]
  },
  {
   "cell_type": "code",
   "execution_count": 9,
   "metadata": {
    "ExecuteTime": {
     "end_time": "2020-04-24T23:03:18.104472Z",
     "start_time": "2020-04-24T23:03:18.081140Z"
    }
   },
   "outputs": [],
   "source": [
    "def print_fifo():\n",
    "    p = open(fp_fifo_in,'w')\n",
    "    p.write('quiet\\n')\n",
    "    p.write('mol_abs_param fu\\n')\n",
    "    p.write('rte_solver twostr\\n')\n",
    "    p.write('output_process sum\\n')\n",
    "    p.write('data_files_path /home/sam/libradtran/libRadtran-2.0.2b/data/ \\n')\n",
    "    p.write('source solar /home/sam/libradtran/libRadtran-2.0.2b/data/solar_flux/kurudz_1.0nm.dat per_nm\\n')\n",
    "    p.write('wavelength 350.000000 4000.000000\\n')\n",
    "    p.write('zout 0 3 100\\n')\n",
    "    p.write('latitude N 56.938700\\n')\n",
    "    p.write('longitude W 111.866900\\n')\n",
    "    p.write('time 2018 06 09 15 30 00\\n')\n",
    "    p.write('aerosol_default\\n')\n",
    "    p.write('aerosol_modify ssa scale 0.85\\n')\n",
    "    p.write('disort_intcor moments\\n')\n",
    "    p.write('albedo 0.33\\n')\n",
    "    p.close()"
   ]
  },
  {
   "cell_type": "code",
   "execution_count": 10,
   "metadata": {
    "ExecuteTime": {
     "end_time": "2020-04-24T23:03:18.126316Z",
     "start_time": "2020-04-24T23:03:18.108562Z"
    }
   },
   "outputs": [],
   "source": [
    "def run():\n",
    "    process = sub.Popen([fp_uvspec],stdin=p, stdout=sub.PIPE,stderr=sub.PIPE)\n",
    "    stdout,stderr = process.communicate()\n",
    "    #stderr = process.stderr.read()\n",
    "    print 'STDOUT:{},{},{}'.format(stdout,stderr,process.poll())"
   ]
  },
  {
   "cell_type": "code",
   "execution_count": 11,
   "metadata": {
    "ExecuteTime": {
     "end_time": "2020-04-24T23:03:18.167943Z",
     "start_time": "2020-04-24T23:03:18.130682Z"
    }
   },
   "outputs": [
    {
     "name": "stdout",
     "output_type": "stream",
     "text": [
      "fifo:  <open file '/tmp/uvspec_input.fifo', mode 'w+' at 0x7f25d5c12c00>\n"
     ]
    },
    {
     "ename": "NameError",
     "evalue": "name 'fp_uvspec' is not defined",
     "output_type": "error",
     "traceback": [
      "\u001b[0;31m\u001b[0m",
      "\u001b[0;31mNameError\u001b[0mTraceback (most recent call last)",
      "\u001b[0;32m<ipython-input-11-5cb4d84037b8>\u001b[0m in \u001b[0;36m<module>\u001b[0;34m()\u001b[0m\n\u001b[1;32m     18\u001b[0m \u001b[0mp\u001b[0m\u001b[0;34m.\u001b[0m\u001b[0mwrite\u001b[0m\u001b[0;34m(\u001b[0m\u001b[0;34m'albedo 0.33\\n'\u001b[0m\u001b[0;34m)\u001b[0m\u001b[0;34m\u001b[0m\u001b[0m\n\u001b[1;32m     19\u001b[0m \u001b[0;31m#p.close()\u001b[0m\u001b[0;34m\u001b[0m\u001b[0;34m\u001b[0m\u001b[0m\n\u001b[0;32m---> 20\u001b[0;31m \u001b[0mprocess\u001b[0m \u001b[0;34m=\u001b[0m \u001b[0msub\u001b[0m\u001b[0;34m.\u001b[0m\u001b[0mPopen\u001b[0m\u001b[0;34m(\u001b[0m\u001b[0;34m[\u001b[0m\u001b[0mfp_uvspec\u001b[0m\u001b[0;34m]\u001b[0m\u001b[0;34m,\u001b[0m\u001b[0mstdin\u001b[0m\u001b[0;34m=\u001b[0m\u001b[0mp\u001b[0m\u001b[0;34m,\u001b[0m\u001b[0mstdout\u001b[0m\u001b[0;34m=\u001b[0m\u001b[0msub\u001b[0m\u001b[0;34m.\u001b[0m\u001b[0mPIPE\u001b[0m\u001b[0;34m,\u001b[0m\u001b[0mstderr\u001b[0m\u001b[0;34m=\u001b[0m\u001b[0msub\u001b[0m\u001b[0;34m.\u001b[0m\u001b[0mPIPE\u001b[0m\u001b[0;34m)\u001b[0m\u001b[0;34m\u001b[0m\u001b[0m\n\u001b[0m\u001b[1;32m     21\u001b[0m \u001b[0mstdout\u001b[0m\u001b[0;34m,\u001b[0m\u001b[0mstderr\u001b[0m \u001b[0;34m=\u001b[0m \u001b[0mprocess\u001b[0m\u001b[0;34m.\u001b[0m\u001b[0mcommunicate\u001b[0m\u001b[0;34m(\u001b[0m\u001b[0;34m)\u001b[0m\u001b[0;34m\u001b[0m\u001b[0m\n\u001b[1;32m     22\u001b[0m \u001b[0;32mprint\u001b[0m \u001b[0;34m'STDOUT:{},{},{}'\u001b[0m\u001b[0;34m.\u001b[0m\u001b[0mformat\u001b[0m\u001b[0;34m(\u001b[0m\u001b[0mstdout\u001b[0m\u001b[0;34m,\u001b[0m\u001b[0mstderr\u001b[0m\u001b[0;34m,\u001b[0m\u001b[0mprocess\u001b[0m\u001b[0;34m.\u001b[0m\u001b[0mpoll\u001b[0m\u001b[0;34m(\u001b[0m\u001b[0;34m)\u001b[0m\u001b[0;34m)\u001b[0m\u001b[0;34m\u001b[0m\u001b[0m\n",
      "\u001b[0;31mNameError\u001b[0m: name 'fp_uvspec' is not defined"
     ]
    }
   ],
   "source": [
    "p = open(fp_fifo_in,'w+')\n",
    "print 'fifo: ',p\n",
    "p.flush()\n",
    "p.write('quiet\\n')\n",
    "p.write('mol_abs_param fu\\n')\n",
    "p.write('rte_solver twostr\\n')\n",
    "p.write('output_process sum\\n')\n",
    "p.write('data_files_path /home/sam/libradtran/libRadtran-2.0.2b/data/ \\n')\n",
    "p.write('source solar /home/sam/libradtran/libRadtran-2.0.2b/data/solar_flux/kurudz_1.0nm.dat per_nm\\n')\n",
    "p.write('wavelength 350.000000 4000.000000\\n')\n",
    "p.write('zout 0 3 100\\n')\n",
    "p.write('latitude N 56.938700\\n')\n",
    "p.write('longitude W 111.866900\\n')\n",
    "p.write('time 2018 06 09 15 30 00\\n')\n",
    "p.write('aerosol_default\\n')\n",
    "p.write('aerosol_modify ssa scale 0.85\\n')\n",
    "p.write('disort_intcor moments\\n')\n",
    "p.write('albedo 0.33\\n')\n",
    "#p.close()\n",
    "process = sub.Popen([fp_uvspec],stdin=p,stdout=sub.PIPE,stderr=sub.PIPE)\n",
    "stdout,stderr = process.communicate()\n",
    "print 'STDOUT:{},{},{}'.format(stdout,stderr,process.poll())\n",
    "p.close()"
   ]
  },
  {
   "cell_type": "code",
   "execution_count": 115,
   "metadata": {
    "ExecuteTime": {
     "end_time": "2020-05-11T17:46:32.077586Z",
     "start_time": "2020-05-11T17:46:32.051350Z"
    }
   },
   "outputs": [],
   "source": [
    "def write_xtrf(fp_fifo_in):\n",
    "    if not os.path.exists(fp_fifo_in):\n",
    "        os.mkfifo(fp_fifo_in)\n",
    "    p = open(fp_fifo_in,'w')\n",
    "    p.flush()\n",
    "    g = ['# wvl[nm]    alb[unitless]',\\\n",
    "'250.000000      -0.043171',\\\n",
    "'350.000000      -0.010611',\\\n",
    "'400.000000      0.005669',\\\n",
    "'500.000000      0.038229',\\\n",
    "'675.000000      0.058627',\\\n",
    "'870.000000      0.229436',\\\n",
    "'995.000000      0.234727',\\\n",
    "'1200.000000     0.240584',\\\n",
    "'1400.000000     0.246298',\\\n",
    "'1600.000000     0.252013',\\\n",
    "'2100.000000     0.266298',\\\n",
    "'3200.000000     0.297727',\\\n",
    "'4900.000000     0.346298']\n",
    "    for llj in g:\n",
    "        p.write('{}\\n'.format(llj))\n",
    "    #p.flush()\n",
    "    p.close()\n",
    "    os.unlink(fp_fifo_in)\n",
    "    #os.remove(fp_fifo_in)"
   ]
  },
  {
   "cell_type": "code",
   "execution_count": 164,
   "metadata": {
    "ExecuteTime": {
     "end_time": "2020-05-12T00:31:59.045164Z",
     "start_time": "2020-05-12T00:31:59.011637Z"
    }
   },
   "outputs": [],
   "source": [
    "    g = ['# wvl[nm]    alb[unitless]',\\\n",
    "'250.000000      -0.043171',\\\n",
    "'350.000000      -0.010611',\\\n",
    "'400.000000      0.005669',\\\n",
    "'500.000000      0.038229',\\\n",
    "'675.000000      0.058627',\\\n",
    "'870.000000      0.229436',\\\n",
    "'995.000000      0.234727',\\\n",
    "'1200.000000     0.240584',\\\n",
    "'1400.000000     0.246298',\\\n",
    "'1600.000000     0.252013',\\\n",
    "'2100.000000     0.266298',\\\n",
    "'3200.000000     0.297727',\\\n",
    "'4900.000000     0.346298']"
   ]
  },
  {
   "cell_type": "code",
   "execution_count": 138,
   "metadata": {
    "ExecuteTime": {
     "end_time": "2020-05-11T22:03:38.015907Z",
     "start_time": "2020-05-11T22:03:37.977788Z"
    }
   },
   "outputs": [],
   "source": [
    "Rl.process_wrapper_file_print(fp_fifo_in.replace('.fifo','.dat'),g,fifo=False)"
   ]
  },
  {
   "cell_type": "code",
   "execution_count": 120,
   "metadata": {
    "ExecuteTime": {
     "end_time": "2020-05-11T17:49:17.688583Z",
     "start_time": "2020-05-11T17:49:17.661618Z"
    }
   },
   "outputs": [],
   "source": [
    "def write_xtrf_reg(fp_fifo_in):\n",
    "    #if not os.path.exists(fp_fifo_in):\n",
    "    #    os.mkfifo(fp_fifo_in)\n",
    "    p = open(fp_fifo_in,'w')\n",
    "    #p.flush()\n",
    "    g = ['# wvl[nm]    alb[unitless]',\\\n",
    "'250.000000      -0.043171',\\\n",
    "'350.000000      -0.010611',\\\n",
    "'400.000000      0.005669',\\\n",
    "'500.000000      0.038229',\\\n",
    "'675.000000      0.058627',\\\n",
    "'870.000000      0.229436',\\\n",
    "'995.000000      0.234727',\\\n",
    "'1200.000000     0.240584',\\\n",
    "'1400.000000     0.246298',\\\n",
    "'1600.000000     0.252013',\\\n",
    "'2100.000000     0.266298',\\\n",
    "'3200.000000     0.297727',\\\n",
    "'4900.000000     0.346298']\n",
    "    for llj in g:\n",
    "        p.write('{}\\n'.format(llj))\n",
    "    #p.flush()\n",
    "    p.close()\n",
    "    #os.unlink(fp_fifo_in)\n",
    "    #os.remove(fp_fifo_in)"
   ]
  },
  {
   "cell_type": "code",
   "execution_count": 116,
   "metadata": {
    "ExecuteTime": {
     "end_time": "2020-05-11T17:47:02.347099Z",
     "start_time": "2020-05-11T17:46:33.602003Z"
    }
   },
   "outputs": [],
   "source": [
    "write_xtrf(fp_fifo_in)"
   ]
  },
  {
   "cell_type": "code",
   "execution_count": 165,
   "metadata": {
    "ExecuteTime": {
     "end_time": "2020-05-12T00:32:03.833614Z",
     "start_time": "2020-05-12T00:32:03.802753Z"
    }
   },
   "outputs": [],
   "source": [
    "ga = g"
   ]
  },
  {
   "cell_type": "code",
   "execution_count": 167,
   "metadata": {
    "ExecuteTime": {
     "end_time": "2020-05-12T00:32:50.728251Z",
     "start_time": "2020-05-12T00:32:50.699687Z"
    }
   },
   "outputs": [],
   "source": [
    "ga.extend(g)"
   ]
  },
  {
   "cell_type": "code",
   "execution_count": 168,
   "metadata": {
    "ExecuteTime": {
     "end_time": "2020-05-12T00:32:51.436477Z",
     "start_time": "2020-05-12T00:32:51.403151Z"
    }
   },
   "outputs": [
    {
     "data": {
      "text/plain": [
       "['# wvl[nm]    alb[unitless]',\n",
       " '250.000000      -0.043171',\n",
       " '350.000000      -0.010611',\n",
       " '400.000000      0.005669',\n",
       " '500.000000      0.038229',\n",
       " '675.000000      0.058627',\n",
       " '870.000000      0.229436',\n",
       " '995.000000      0.234727',\n",
       " '1200.000000     0.240584',\n",
       " '1400.000000     0.246298',\n",
       " '1600.000000     0.252013',\n",
       " '2100.000000     0.266298',\n",
       " '3200.000000     0.297727',\n",
       " '4900.000000     0.346298',\n",
       " '# wvl[nm]    alb[unitless]',\n",
       " '250.000000      -0.043171',\n",
       " '350.000000      -0.010611',\n",
       " '400.000000      0.005669',\n",
       " '500.000000      0.038229',\n",
       " '675.000000      0.058627',\n",
       " '870.000000      0.229436',\n",
       " '995.000000      0.234727',\n",
       " '1200.000000     0.240584',\n",
       " '1400.000000     0.246298',\n",
       " '1600.000000     0.252013',\n",
       " '2100.000000     0.266298',\n",
       " '3200.000000     0.297727',\n",
       " '4900.000000     0.346298']"
      ]
     },
     "execution_count": 168,
     "metadata": {},
     "output_type": "execute_result"
    }
   ],
   "source": [
    "ga"
   ]
  },
  {
   "cell_type": "code",
   "execution_count": 127,
   "metadata": {
    "ExecuteTime": {
     "end_time": "2020-05-11T17:52:56.909886Z",
     "start_time": "2020-05-11T17:52:56.777494Z"
    }
   },
   "outputs": [
    {
     "name": "stdout",
     "output_type": "stream",
     "text": [
      "STDOUT:,Error, file '/tmp/uvspec_input.fifo' not found!\n",
      "Error -1 reading /tmp/uvspec_input.fifo\n",
      "Error reading albedo file '/tmp/uvspec_input.fifo' \n",
      "      (line 306, function setup_albedo in albedo.c)\n",
      "Error -1 setting up wavelength dependent albedo in uvspec (uvspec.c)\n",
      "Error -1 during execution of uvspec\n",
      ",255\n",
      "CPU times: user 4.14 ms, sys: 5.39 ms, total: 9.54 ms\n",
      "Wall time: 88.4 ms\n"
     ]
    }
   ],
   "source": [
    "%%time\n",
    "\n",
    "r, w = os.pipe()\n",
    "os.write(w,'quiet\\n')\n",
    "os.write(w,'mol_abs_param fu\\n')\n",
    "os.write(w,'rte_solver twostr\\n')\n",
    "os.write(w,'output_process sum\\n')\n",
    "os.write(w,'data_files_path /home/sam/libradtran/libRadtran-2.0.2b/data/ \\n')\n",
    "os.write(w,'source solar /home/sam/libradtran/libRadtran-2.0.2b/data/solar_flux/kurudz_1.0nm.dat per_nm\\n')\n",
    "os.write(w,'wavelength 350.000000 4000.000000\\n')\n",
    "os.write(w,'zout 0 3 100\\n')\n",
    "os.write(w,'latitude N 56.938700\\n')\n",
    "os.write(w,'longitude W 111.866900\\n')\n",
    "os.write(w,'time 2018 06 09 15 30 00\\n')\n",
    "os.write(w,'aerosol_default\\n')\n",
    "os.write(w,'aerosol_modify ssa scale 0.85\\n')\n",
    "os.write(w,'disort_intcor moments\\n')\n",
    "os.write(w,'albedo 0.33\\n')\n",
    "os.write(w,'albedo_file {}'.format(fp_fifo_in))\n",
    "os.close(w)\n",
    "#p.close()\n",
    "\n",
    "p1 = Process(target=write_xtrf,args=(fp_fifo_in,))\n",
    "p1.start()\n",
    "\n",
    "process = sub.Popen([fp_uvspec],stdin=r,stdout=sub.PIPE,stderr=sub.PIPE)\n",
    "stdout,stderr = process.communicate()\n",
    "print 'STDOUT:{},{},{}'.format(stdout,stderr,process.poll())\n",
    "#p.close()"
   ]
  },
  {
   "cell_type": "code",
   "execution_count": 126,
   "metadata": {
    "ExecuteTime": {
     "end_time": "2020-05-11T17:52:39.600800Z",
     "start_time": "2020-05-11T17:52:39.474039Z"
    }
   },
   "outputs": [
    {
     "name": "stdout",
     "output_type": "stream",
     "text": [
      "STDOUT:  550.000  4.483622e+02  1.019535e+02  9.302277e+01  8.791428e+01 \n",
      "  550.000  5.762602e+02  6.068630e+01  1.065186e+02  1.015288e+02 \n",
      "  550.000  7.749410e+02  2.584145e-05  1.383314e+02  1.246191e+02 \n",
      ",,0\n",
      "CPU times: user 0 ns, sys: 5.77 ms, total: 5.77 ms\n",
      "Wall time: 84.7 ms\n"
     ]
    }
   ],
   "source": [
    "%%time\n",
    "write_xtrf_reg(fp_fifo_in)\n",
    "\n",
    "r, w = os.pipe()\n",
    "os.write(w,'quiet\\n')\n",
    "os.write(w,'mol_abs_param fu\\n')\n",
    "os.write(w,'rte_solver twostr\\n')\n",
    "os.write(w,'output_process sum\\n')\n",
    "os.write(w,'data_files_path /home/sam/libradtran/libRadtran-2.0.2b/data/ \\n')\n",
    "os.write(w,'source solar /home/sam/libradtran/libRadtran-2.0.2b/data/solar_flux/kurudz_1.0nm.dat per_nm\\n')\n",
    "os.write(w,'wavelength 350.000000 4000.000000\\n')\n",
    "os.write(w,'zout 0 3 100\\n')\n",
    "os.write(w,'latitude N 56.938700\\n')\n",
    "os.write(w,'longitude W 111.866900\\n')\n",
    "os.write(w,'time 2018 06 09 15 30 00\\n')\n",
    "os.write(w,'aerosol_default\\n')\n",
    "os.write(w,'aerosol_modify ssa scale 0.85\\n')\n",
    "os.write(w,'disort_intcor moments\\n')\n",
    "os.write(w,'albedo 0.33\\n')\n",
    "os.write(w,'albedo_file {}'.format(fp_fifo_in))\n",
    "os.close(w)\n",
    "#p.close()\n",
    "\n",
    "#p1 = Process(target=write_xtrf,args=(fp_fifo_in,))\n",
    "#p1.start()\n",
    "\n",
    "process = sub.Popen([fp_uvspec],stdin=r,stdout=sub.PIPE,stderr=sub.PIPE)\n",
    "stdout,stderr = process.communicate()\n",
    "print 'STDOUT:{},{},{}'.format(stdout,stderr,process.poll())\n",
    "#p.close()"
   ]
  },
  {
   "cell_type": "code",
   "execution_count": null,
   "metadata": {},
   "outputs": [],
   "source": []
  }
 ],
 "metadata": {
  "kernelspec": {
   "display_name": "Python 2",
   "language": "python",
   "name": "python2"
  },
  "language_info": {
   "codemirror_mode": {
    "name": "ipython",
    "version": 2
   },
   "file_extension": ".py",
   "mimetype": "text/x-python",
   "name": "python",
   "nbconvert_exporter": "python",
   "pygments_lexer": "ipython2",
   "version": "2.7.17"
  },
  "toc": {
   "base_numbering": 1,
   "nav_menu": {},
   "number_sections": true,
   "sideBar": true,
   "skip_h1_title": false,
   "title_cell": "Table of Contents",
   "title_sidebar": "Contents",
   "toc_cell": false,
   "toc_position": {},
   "toc_section_display": true,
   "toc_window_display": false
  }
 },
 "nbformat": 4,
 "nbformat_minor": 2
}
