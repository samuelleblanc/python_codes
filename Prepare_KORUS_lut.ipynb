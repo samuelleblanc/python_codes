{
 "cells": [
  {
   "cell_type": "markdown",
   "metadata": {},
   "source": [
    "# Info\n",
    "Name:  \n",
    "\n",
    "    Prepare_KORUS_lut\n",
    "\n",
    "Purpose:  \n",
    "\n",
    "    Create the input libradtran files for creating a lut of low clouds with aerosol on top to be used in KORUS operational cloud retrievals\n",
    "\n",
    "Calling Sequence:\n",
    "\n",
    "    python Prepare_KORUS_lut\n",
    "  \n",
    "Input:\n",
    "\n",
    "    none\n",
    "\n",
    "Output:\n",
    "   \n",
    "    input files for libradtran 2.0 (uvspec) \n",
    "  \n",
    "Keywords:\n",
    "\n",
    "    none\n",
    "  \n",
    "Dependencies:\n",
    "\n",
    "    - numpy\n",
    "    - scipy : for saving and reading\n",
    "    - mplt_toolkits for basemap, map plotting\n",
    "    - pdb\n",
    "    - datetime\n",
    "\n",
    "  \n",
    "Needed Files:\n",
    "\n",
    "  - ...\n",
    "    \n",
    "History:\n",
    "\n",
    "    Written: Samuel LeBlanc, Bathurst, NB, 2017-01-05\n",
    "             based on Prepare_NAAMES_lut\n",
    "    "
   ]
  },
  {
   "cell_type": "markdown",
   "metadata": {},
   "source": [
    "# Prepare the python environment"
   ]
  },
  {
   "cell_type": "code",
   "execution_count": 3,
   "metadata": {},
   "outputs": [
    {
     "data": {
      "text/plain": [
       "<module 'Run_libradtran' from 'Run_libradtran.pyc'>"
      ]
     },
     "execution_count": 3,
     "metadata": {},
     "output_type": "execute_result"
    }
   ],
   "source": [
    "import numpy as np\n",
    "import scipy.io as sio\n",
    "import os\n",
    "import Run_libradtran as RL\n",
    "reload(RL)"
   ]
  },
  {
   "cell_type": "code",
   "execution_count": null,
   "metadata": {
    "collapsed": true
   },
   "outputs": [],
   "source": [
    "from load_utils import load_from_json"
   ]
  },
  {
   "cell_type": "code",
   "execution_count": null,
   "metadata": {
    "collapsed": true
   },
   "outputs": [],
   "source": [
    "name = 'KORUS'"
   ]
  },
  {
   "cell_type": "code",
   "execution_count": 68,
   "metadata": {
    "collapsed": true
   },
   "outputs": [],
   "source": [
    "if os.sys.platform == 'win32':\n",
    "    fp = 'C:\\\\Users\\\\sleblan2\\\\Research\\\\{}\\\\'.format(name)\n",
    "    fp_rtm = 'C:\\\\Users\\\\sleblan2\\\\Research\\\\{}\\\\rtm\\\\'.format(name)\n",
    "    fp_uvspec = 'C:\\\\Users\\\\sleblan2\\\\Research\\\\libradtran\\\\libRadtran-2.0-beta\\\\bin\\\\uvspec'\n",
    "    fp_rtmdat = 'C:\\\\Users\\\\sleblan2\\\\Research\\\\libradtran\\\\libRadtran-2.0-beta\\\\data\\\\'\n",
    "elif os.sys.platform == 'linux2':\n",
    "    fp = '/u/sleblan2/{}/'.format(name)\n",
    "    fp_rtm = '/nobackup/sleblan2/rtm/'\n",
    "    fp_uvspec = '/u/sleblan2/libradtran/libRadtran-2.0-beta/bin/uvspec'\n",
    "    fp_rtmdat = '/nobackup/sleblan2/AAC_DARF/rtm/' #'/u/sleblan2/4STAR/rtm_dat/'\n",
    "else:\n",
    "    raise Exception"
   ]
  },
  {
   "cell_type": "markdown",
   "metadata": {},
   "source": [
    "# Setup the variables used to create the lut"
   ]
  },
  {
   "cell_type": "code",
   "execution_count": 84,
   "metadata": {
    "collapsed": true
   },
   "outputs": [],
   "source": [
    "vv = 'v3b'\n",
    "mu = np.arange(1.05,4.0,0.2)\n",
    "mu.shape"
   ]
  },
  {
   "cell_type": "code",
   "execution_count": 139,
   "metadata": {},
   "outputs": [],
   "source": [
    "sza = np.round(np.arccos(1.0/mu)*180.0/np.pi)\n",
    "#sza = np.arange(40,91,5)\n",
    "print(sza)"
   ]
  },
  {
   "cell_type": "code",
   "execution_count": 108,
   "metadata": {},
   "outputs": [],
   "source": [
    "tau = np.array([0.1,0.2,0.5,0.75,1.0,1.5,2.0,3.0,4.0,5.0,\n",
    "       6.0,7.0,8.0,9.0,10.0,12.5,15.0,17.5,20.0,25.0,30.0,35.0,40.0,50.0,\n",
    "       60.0,80.0,100.0])\n",
    "ref = np.append(np.append(np.arange(1,15),np.arange(15,30,2)),np.ceil(np.arange(30,61,2.5)))"
   ]
  },
  {
   "cell_type": "code",
   "execution_count": 109,
   "metadata": {},
   "outputs": [
    {
     "data": {
      "text/plain": [
       "array([  2.,   3.,   4.,   5.,   6.,   7.,   8.,   9.,  10.,  11.,  12.,\n",
       "        13.,  14.,  15.,  17.,  19.,  21.,  23.,  25.,  27.,  29.,  30.,\n",
       "        33.,  35.,  38.,  40.,  43.,  45.,  48.,  50.,  53.,  55.,  58.,\n",
       "        60.])"
      ]
     },
     "execution_count": 109,
     "metadata": {},
     "output_type": "execute_result"
    }
   ],
   "source": [
    "ref"
   ]
  },
  {
   "cell_type": "code",
   "execution_count": 112,
   "metadata": {},
   "outputs": [
    {
     "name": "stdout",
     "output_type": "stream",
     "text": [
      "(34L,)\n",
      "(29L,)\n"
     ]
    }
   ],
   "source": [
    "print(ref.shape)\n",
    "print(tau.shape)"
   ]
  },
  {
   "cell_type": "code",
   "execution_count": null,
   "metadata": {
    "collapsed": true
   },
   "outputs": [],
   "source": [
    "pmom = RL.make_pmom_inputs(fp_rtm=fp_rtmdat,source='solar',cloudtype='ic')"
   ]
  },
  {
   "cell_type": "code",
   "execution_count": null,
   "metadata": {
    "collapsed": true
   },
   "outputs": [],
   "source": [
    "#aero = load_from_json(fp+'aero_save.txt')"
   ]
  },
  {
   "cell_type": "code",
   "execution_count": 4,
   "metadata": {},
   "outputs": [
    {
     "ename": "NameError",
     "evalue": "name 'pmom' is not defined",
     "output_type": "error",
     "traceback": [
      "\u001b[1;31m---------------------------------------------------------------------------\u001b[0m",
      "\u001b[1;31mNameError\u001b[0m                                 Traceback (most recent call last)",
      "\u001b[1;32m<ipython-input-4-49cb3cf36720>\u001b[0m in \u001b[0;36m<module>\u001b[1;34m()\u001b[0m\n\u001b[0;32m     15\u001b[0m          \u001b[1;34m'zbot'\u001b[0m\u001b[1;33m:\u001b[0m\u001b[1;36m12.0\u001b[0m\u001b[1;33m,\u001b[0m\u001b[1;33m\u001b[0m\u001b[0m\n\u001b[0;32m     16\u001b[0m          \u001b[1;34m'write_moments_file'\u001b[0m\u001b[1;33m:\u001b[0m\u001b[0mTrue\u001b[0m\u001b[1;33m,\u001b[0m\u001b[1;33m\u001b[0m\u001b[0m\n\u001b[1;32m---> 17\u001b[1;33m          'moms_dict':pmom} # for cirrus mostly\n\u001b[0m\u001b[0;32m     18\u001b[0m source = {'wvl_range':[350,1750],\n\u001b[0;32m     19\u001b[0m           \u001b[1;34m'source'\u001b[0m\u001b[1;33m:\u001b[0m\u001b[1;34m'solar'\u001b[0m\u001b[1;33m,\u001b[0m\u001b[1;33m\u001b[0m\u001b[0m\n",
      "\u001b[1;31mNameError\u001b[0m: name 'pmom' is not defined"
     ]
    }
   ],
   "source": [
    "geo = {'lat':36.9921,\n",
    "       'lon':127.1129,\n",
    "       'doy':245,\n",
    "       'zout':[0.2,8.0,100.0],\n",
    "       'name':'Pyongtaek'}\n",
    "aero = {'z_arr':[2.0,5.0],\n",
    "        'ext':np.array([[0.16837,0.12837, 0.08727, 0.0655, 0.0557, 0.0357, 0.0157],[0.0,0.0,0.0,0.0,0.0,0.0,0.0]]), \n",
    "        #tau = 0.385100,0.261800,0.196500,0.167100\n",
    "        'ssa':np.array([[0.939000,0.937000,0.934400,0.930700,0.929600,0.925600,0.920600],[0.9,0.9,0.9,0.9,0.9,0.9,0.9]]),\n",
    "        'asy':np.array([[0.680998,0.660998,0.629995,0.612484,0.606010,0.596010,0.580010],[0.8,0.8,0.8,0.8,0.8,0.8,0.8]]), \n",
    "        'wvl_arr':[400.0,442.0,668.0,870.0,1020.0,1200.0,1700.0], #442,668,870,1020\n",
    "        'disort_phase':False,\n",
    "        'expand_hg':True,\n",
    "        'details':'From AERONET Socheongcho on May 20 2017, 23:14 UTC, extrapolated by hand'}\n",
    "#aero = {}\n",
    "cloud = {'ztop':12.0,\n",
    "         'zbot':10.0,\n",
    "         'write_moments_file':True,\n",
    "         'moms_dict':pmom} # for cirrus mostly\n",
    "source = {'wvl_range':[350,1750],\n",
    "          'source':'solar',\n",
    "          'integrate_values':False,\n",
    "          'run_fuliou':False,\n",
    "          'dat_path':'/u/sleblan2/libradtran/libRadtran-2.0-beta/data/',\n",
    "          'atm_file':'/u/sleblan2/libradtran/libRadtran-2.0-beta/data/atmmod/afglmw.dat',\n",
    "          'zenith':True}\n",
    "albedo = {'create_albedo_file':False,\n",
    "          'sea_surface_albedo':True,\n",
    "          'wind_speed':5.0}"
   ]
  },
  {
   "cell_type": "code",
   "execution_count": 60,
   "metadata": {},
   "outputs": [],
   "source": [
    "RL.print_version_details(fp+'{name}_lut_{vv}.txt'.format(name=name,vv=vv),vv,geo=geo,\n",
    "                         aero=aero,cloud=cloud,source=source,albedo=albedo,tau=tau,ref=ref,sza=sza,\n",
    "                         cloud_pmom_file=cloud['moms_dict']['file_name'])"
   ]
  },
  {
   "cell_type": "code",
   "execution_count": 71,
   "metadata": {},
   "outputs": [],
   "source": [
    "fp_in = os.path.join(fp_rtm,'input','{vv}_{name}'.format(vv=vv,name=name))\n",
    "fp_out = os.path.join(fp_rtm,'output','{vv}_{name}'.format(vv=vv,name=name))"
   ]
  },
  {
   "cell_type": "code",
   "execution_count": 82,
   "metadata": {
    "collapsed": true
   },
   "outputs": [],
   "source": [
    "f_slit_vis = os.path.join(fp_rtm,'4STAR_vis_slit_1nm.dat')\n",
    "f_slit_nir = os.path.join(fp_rtm,'4STAR_nir_slit_1nm.dat')"
   ]
  },
  {
   "cell_type": "code",
   "execution_count": 72,
   "metadata": {
    "collapsed": true
   },
   "outputs": [],
   "source": [
    "if not os.path.exists(fp_in):\n",
    "    os.makedirs(fp_in)\n",
    "if not os.path.exists(fp_out):\n",
    "    os.makedirs(fp_out)"
   ]
  },
  {
   "cell_type": "code",
   "execution_count": 79,
   "metadata": {},
   "outputs": [],
   "source": [
    "f_list = open(os.path.join(fp,'run','{name}_list_{vv}.sh'.format(vv=vv,name=name)),'w')\n",
    "print f_list.name"
   ]
  },
  {
   "cell_type": "code",
   "execution_count": null,
   "metadata": {
    "collapsed": true
   },
   "outputs": [],
   "source": [
    "after_first_sza = False\n",
    "for s in sza:\n",
    "    for t in tau:\n",
    "        for r in ref:\n",
    "            fname = 'lut_sza%02i_tau%06.2f_ref%04.1f' % (s,t,r)\n",
    "            geo['sza'] = s\n",
    "            cloud['tau'] = t\n",
    "            cloud['ref'] = r\n",
    "            if after_first_sza: cloud['link_to_mom_file'] = True\n",
    "            if r>=50.0:\n",
    "                cloud['phase'] = 'ic'\n",
    "                fname0 = fname+'_'+cloud['phase']+'_w0.dat'\n",
    "                source['wvl_range'] = [400.,981.]\n",
    "                source['slit_file'] = f_slit_vis\n",
    "                if after_first_sza: \n",
    "                    cloud['file_name'] = os.path.join(fp_in,'lut_sza{s:02.0f}_tau{t:06.2f}_ref{r:04.1f}_{p}_w0.dat_cloud'.format(\n",
    "                                          s=sza[0],t=t,r=r,p=cloud['phase']))\n",
    "                RL.write_input_aac(os.path.join(fp_in,fname0),geo=geo,aero=aero,cloud=cloud,source=source,albedo=albedo,\n",
    "                                   verbose=False,make_base=False,set_quiet=True)\n",
    "                f_list.write(fp_uvspec+' < '+os.path.join(fp_in,fname0)+' > '+os.path.join(fp_out,fname0)+'\\n')\n",
    "                fname1 = fname+'_'+cloud['phase']+'_w1.dat'\n",
    "                source['wvl_range'] = [981.,1700.]\n",
    "                source['slit_file'] = f_slit_nir\n",
    "                if after_first_sza: cloud['file_name'] = cloud['file_name'].replace('w0','w1')\n",
    "                RL.write_input_aac(os.path.join(fp_in,fname1),geo=geo,aero=aero,cloud=cloud,source=source,albedo=albedo,\n",
    "                                   verbose=False,make_base=False,set_quiet=True)\n",
    "                f_list.write(fp_uvspec+' < '+os.path.join(fp_in,fname1)+' > '+os.path.join(fp_out,fname1)+'\\n')\n",
    "            if False: #r<=30.0:\n",
    "                cloud['phase'] = 'wc'\n",
    "                fname0 = fname+'_'+cloud['phase']+'_w0.dat'\n",
    "                source['wvl_range'] = [400.,981.]\n",
    "                source['slit_file'] = f_slit_vis\n",
    "                if after_first_sza: \n",
    "                    cloud['file_name'] = os.path.join(fp_in,'lut_sza{s:02.0f}_tau{t:06.2f}_ref{r:04.1f}_{p}_w0.dat_cloud'.format(\n",
    "                                          s=sza[0],t=t,r=r,p=cloud['phase']))\n",
    "                RL.write_input_aac(os.path.join(fp_in,fname0),geo=geo,aero=aero,cloud=cloud,source=source,albedo=albedo,\n",
    "                                   verbose=False,make_base=False,set_quiet=True)\n",
    "                f_list.write(fp_uvspec+' < '+os.path.join(fp_in,fname0)+' > '+os.path.join(fp_out,fname0)+'\\n')\n",
    "                fname1 = fname+'_'+cloud['phase']+'_w1.dat'\n",
    "                source['wvl_range'] = [981.,1700.]\n",
    "                source['slit_file'] = f_slit_nir\n",
    "                if after_first_sza: cloud['file_name'] = cloud['file_name'].replace('w0','w1')\n",
    "                RL.write_input_aac(os.path.join(fp_in,fname1),geo=geo,aero=aero,cloud=cloud,source=source,albedo=albedo,\n",
    "                                   verbose=False,make_base=False,set_quiet=True)\n",
    "                f_list.write(fp_uvspec+' < '+os.path.join(fp_in,fname1)+' > '+os.path.join(fp_out,fname1)+'\\n')                \n",
    "            print s,t,r\n",
    "    after_first_sza = True"
   ]
  },
  {
   "cell_type": "code",
   "execution_count": null,
   "metadata": {
    "collapsed": true
   },
   "outputs": [],
   "source": [
    "f_list.close()"
   ]
  }
 ],
 "metadata": {
  "kernelspec": {
   "display_name": "Python 2",
   "language": "python",
   "name": "python2"
  },
  "language_info": {
   "codemirror_mode": {
    "name": "ipython",
    "version": 2
   },
   "file_extension": ".py",
   "mimetype": "text/x-python",
   "name": "python",
   "nbconvert_exporter": "python",
   "pygments_lexer": "ipython2",
   "version": "2.7.18"
  },
  "toc": {
   "base_numbering": 1,
   "nav_menu": {},
   "number_sections": true,
   "sideBar": true,
   "skip_h1_title": false,
   "title_cell": "Table of Contents",
   "title_sidebar": "Contents",
   "toc_cell": false,
   "toc_position": {},
   "toc_section_display": true,
   "toc_window_display": false
  }
 },
 "nbformat": 4,
 "nbformat_minor": 1
}
