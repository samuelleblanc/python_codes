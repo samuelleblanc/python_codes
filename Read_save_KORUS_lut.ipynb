{
 "cells": [
  {
   "cell_type": "markdown",
   "metadata": {},
   "source": [
    "Name:  \n",
    "\n",
    "    Read_save_KORUS_lut\n",
    "\n",
    "Purpose:  \n",
    "\n",
    "    Read the output files from the KORUS lut after libradran run. \n",
    "    Based on inputs created by Prepare_KORUS_lut\n",
    "\n",
    "Calling Sequence:\n",
    "\n",
    "    python Read_save_KORUS_lut\n",
    "  \n",
    "Input:\n",
    "\n",
    "    none\n",
    "\n",
    "Output:\n",
    "   \n",
    "    Save matlab file of lut files\n",
    "  \n",
    "Keywords:\n",
    "\n",
    "    none\n",
    "  \n",
    "Dependencies:\n",
    "\n",
    "    - numpy\n",
    "    - hdf5storage : for saving and reading\n",
    "    - Run_Libradtran\n",
    "    - os\n",
    "  \n",
    "Needed Files:\n",
    "\n",
    "  - ...\n",
    "    \n",
    "History:\n",
    "\n",
    "    Written: Samuel LeBlanc, Santa Cruz, 2017-02-03"
   ]
  },
  {
   "cell_type": "markdown",
   "metadata": {},
   "source": [
    "# Prepare the python environment"
   ]
  },
  {
   "cell_type": "code",
   "execution_count": 9,
   "metadata": {
    "collapsed": true
   },
   "outputs": [],
   "source": [
    "import numpy as np\n",
    "import Run_libradtran as RL\n",
    "import hdf5storage as hs\n",
    "import os\n",
    "import scipy.io as sio"
   ]
  },
  {
   "cell_type": "code",
   "execution_count": null,
   "metadata": {
    "collapsed": true
   },
   "outputs": [],
   "source": [
    "name = 'KORUS'"
   ]
  },
  {
   "cell_type": "code",
   "execution_count": 5,
   "metadata": {
    "collapsed": true
   },
   "outputs": [],
   "source": [
    "if os.sys.platform == 'win32':\n",
    "    fp = 'C:\\\\Users\\\\sleblan2\\\\Research\\\\{}\\\\'.format(name)\n",
    "    fp_rtm = 'C:\\\\Users\\\\sleblan2\\\\Research\\\\{}\\\\rtm\\\\'.format(name)\n",
    "elif os.sys.platform == 'linux2':\n",
    "    fp = '/u/sleblan2/{}/'.format(name)\n",
    "    fp_rtm = '/nobackup/sleblan2/rtm/'\n",
    "else:\n",
    "    raise Exception"
   ]
  },
  {
   "cell_type": "markdown",
   "metadata": {},
   "source": [
    "# Setup the variables used for lut"
   ]
  },
  {
   "cell_type": "code",
   "execution_count": 6,
   "metadata": {
    "collapsed": true
   },
   "outputs": [],
   "source": [
    "vv = 'v3'"
   ]
  },
  {
   "cell_type": "code",
   "execution_count": null,
   "metadata": {
    "collapsed": true
   },
   "outputs": [],
   "source": [
    "# try to read from the saved version file\n",
    "from load_utils import load_from_json, deep_convert_dict\n",
    "try:\n",
    "    d = load_from_json(fp+'{name}_lut_{vv}.txt'.format(vv=vv,name=name))\n",
    "    if 'lut' in d.keys():\n",
    "        sza = d['lut']['sza']\n",
    "        tau = d['lut']['tau']\n",
    "        ref = d['lut']['ref']\n",
    "        fmt = d['lut']['format']\n",
    "    elif 'lut_details' in d.keys():\n",
    "        sza = d['lut_details']['sza']\n",
    "        tau = d['lut_details']['tau']\n",
    "        ref = d['lut_details']['ref']\n",
    "        fmt = d['lut_details']['format']\n",
    "    else:\n",
    "        raise ValueError\n",
    "    zout = d['geo']['zout']\n",
    "    mu = np.round(1.0/np.cos(sza*np.pi/180.0))\n",
    "    use_json = True\n",
    "except ValueError: # not a json file try old way\n",
    "    print '*** LUT definition file problem! Using predefined lut description'\n",
    "    use_json = False\n",
    "    fmt='lut_sza{sza:02.0f}_tau{tau:06.2f}_ref{ref:04.1f}_{phase}_w{iwvl:1d}.dat'\n",
    "    if vv=='v1':\n",
    "        mu = np.arange(1.05,4.0,0.2)\n",
    "        sza = np.round(np.arccos(1.0/mu)*180.0/np.pi)\n",
    "        tau = np.array([0.1,0.2,0.3,0.5,0.75,1.0,1.5,2.0,2.5,3.0,4.0,5.0,\n",
    "               6.0,7.0,8.0,9.0,10.0,12.5,15.0,17.5,20.0,25.0,30.0,35.0,40.0,50.0,\n",
    "               60.0,80.0,100.0])\n",
    "        ref = np.append(np.append(np.arange(2,15),np.arange(15,30,2)),np.ceil(np.arange(30,61,2.5)))\n",
    "        zout = [0.2,1.5,100.0]\n",
    "    elif vv=='v3':\n",
    "        mu = np.arange(1.05,4.0,0.2)\n",
    "        sza = np.round(np.arccos(1.0/mu)*180.0/np.pi)\n",
    "        tau = np.array([0.1,0.2,0.5,0.75,1.0,1.5,2.0,3.0,4.0,5.0,\n",
    "               6.0,7.0,8.0,9.0,10.0,12.5,15.0,17.5,20.0,25.0,30.0,35.0,40.0,50.0,\n",
    "               60.0,80.0,100.0])\n",
    "        ref = np.append(np.append(np.arange(1,15),np.arange(15,30,2)),np.ceil(np.arange(30,61,2.5)))\n",
    "        zout = [0.2,1.5,100.0]    "
   ]
  },
  {
   "cell_type": "code",
   "execution_count": 7,
   "metadata": {
    "collapsed": true
   },
   "outputs": [],
   "source": [
    "fp_out = os.path.join(fp_rtm,'output','{vv}_{name}'.format(vv=vv,name=name))"
   ]
  },
  {
   "cell_type": "code",
   "execution_count": null,
   "metadata": {
    "collapsed": true
   },
   "outputs": [],
   "source": [
    "dat = RL.read_lut(fp_out,zout=zout,tau=tau,ref=ref,sza=sza,\n",
    "                  phase=['wc','ic'],\n",
    "                  fmt=fmt,\n",
    "                  split_wvl=True)"
   ]
  },
  {
   "cell_type": "code",
   "execution_count": null,
   "metadata": {
    "collapsed": true
   },
   "outputs": [],
   "source": [
    "dat = deep_convert_dict(dat)\n",
    "if use_json:\n",
    "    dat['lut_details'] = deep_convert_dict(d)"
   ]
  },
  {
   "cell_type": "code",
   "execution_count": null,
   "metadata": {
    "collapsed": true
   },
   "outputs": [],
   "source": [
    "print 'Saving matlab file'"
   ]
  },
  {
   "cell_type": "code",
   "execution_count": 10,
   "metadata": {},
   "outputs": [
    {
     "ename": "NameError",
     "evalue": "name 'dat' is not defined",
     "output_type": "error",
     "traceback": [
      "\u001b[1;31m---------------------------------------------------------------------------\u001b[0m",
      "\u001b[1;31mNameError\u001b[0m                                 Traceback (most recent call last)",
      "\u001b[1;32m<ipython-input-10-c69408fbcd1e>\u001b[0m in \u001b[0;36m<module>\u001b[1;34m()\u001b[0m\n\u001b[1;32m----> 1\u001b[1;33m \u001b[0mhs\u001b[0m\u001b[1;33m.\u001b[0m\u001b[0msavemat\u001b[0m\u001b[1;33m(\u001b[0m\u001b[0mfp\u001b[0m\u001b[1;33m+\u001b[0m\u001b[1;34m'{}_NAAMES_lut.mat'\u001b[0m\u001b[1;33m.\u001b[0m\u001b[0mformat\u001b[0m\u001b[1;33m(\u001b[0m\u001b[0mvv\u001b[0m\u001b[1;33m)\u001b[0m\u001b[1;33m,\u001b[0m\u001b[0mdat\u001b[0m\u001b[1;33m)\u001b[0m\u001b[1;33m\u001b[0m\u001b[0m\n\u001b[0m",
      "\u001b[1;31mNameError\u001b[0m: name 'dat' is not defined"
     ]
    }
   ],
   "source": [
    "try:\n",
    "    try:\n",
    "        hs.savemat(fp+'{vv}_{name}_lut.mat'.format(vv=vv,name=name),dat)\n",
    "    except:\n",
    "        sio.savemat(fp+'{vv}_{name}_lut.mat'.format(vv=vv,name=name),dat)\n",
    "except:\n",
    "    import pdb\n",
    "    pdb.set_trace()\n",
    "    sio.savemat(fp+'{vv}_{name}_lut.mat'.format(vv=vv,name=name),dat)"
   ]
  }
 ],
 "metadata": {
  "kernelspec": {
   "display_name": "Python 2",
   "language": "python",
   "name": "python2"
  },
  "language_info": {
   "codemirror_mode": {
    "name": "ipython",
    "version": 2
   },
   "file_extension": ".py",
   "mimetype": "text/x-python",
   "name": "python",
   "nbconvert_exporter": "python",
   "pygments_lexer": "ipython2",
   "version": "2.7.18"
  },
  "toc": {
   "base_numbering": 1,
   "nav_menu": {},
   "number_sections": true,
   "sideBar": true,
   "skip_h1_title": false,
   "title_cell": "Table of Contents",
   "title_sidebar": "Contents",
   "toc_cell": false,
   "toc_position": {},
   "toc_section_display": true,
   "toc_window_display": false
  }
 },
 "nbformat": 4,
 "nbformat_minor": 1
}
