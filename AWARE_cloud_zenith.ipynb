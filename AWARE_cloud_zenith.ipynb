{
 "cells": [
  {
   "cell_type": "markdown",
   "metadata": {},
   "source": [
    "# Info\n",
    "Purpose:\n",
    "\n",
    "    Work with Dan Lubin et al. for cloud remote sensing using AWARE/Antarctic and other cloud retrievals.\n",
    "\n",
    "Input:\n",
    "\n",
    "    arguments\n",
    "\n",
    "Output:\n",
    "\n",
    "    Figure and save files\n",
    "\n",
    "Keywords:\n",
    "\n",
    "    none\n",
    "\n",
    "Dependencies:\n",
    "\n",
    "    - load_utils.py\n",
    "    - matplotlib\n",
    "    - numpy\n",
    "    - Sp_parameters\n",
    "    - write_utils\n",
    "    - path_utils\n",
    "    - hdf5storage\n",
    "    - scipy\n",
    "\n",
    "Needed Files:\n",
    "  - file.rc : for consistent creation of look of matplotlib figures\n",
    "  - ...\n",
    "\n",
    "Modification History:\n",
    "\n",
    "    Written: Samuel LeBlanc, Santa Cruz, CA, 2021-07-30\n",
    "    Modified:\n"
   ]
  },
  {
   "cell_type": "markdown",
   "metadata": {},
   "source": [
    "# Prepare python environment"
   ]
  },
  {
   "cell_type": "code",
   "execution_count": 3,
   "metadata": {
    "ExecuteTime": {
     "end_time": "2021-07-31T00:53:10.127546Z",
     "start_time": "2021-07-31T00:53:10.112831Z"
    }
   },
   "outputs": [],
   "source": [
    "import numpy as np\n",
    "import Sp_parameters as Sp\n",
    "import load_utils as lu\n",
    "import write_utils as wu\n",
    "from path_utils import getpath\n",
    "import hdf5storage as hs\n",
    "import scipy.io as sio\n",
    "import matplotlib.pyplot as plt\n",
    "%matplotlib notebook\n",
    "import os"
   ]
  },
  {
   "cell_type": "code",
   "execution_count": 11,
   "metadata": {
    "ExecuteTime": {
     "end_time": "2021-07-31T00:55:15.612811Z",
     "start_time": "2021-07-31T00:55:15.382443Z"
    }
   },
   "outputs": [],
   "source": [
    "import pandas as pd"
   ]
  },
  {
   "cell_type": "code",
   "execution_count": 9,
   "metadata": {
    "ExecuteTime": {
     "end_time": "2021-07-31T00:53:48.404844Z",
     "start_time": "2021-07-31T00:53:48.396859Z"
    }
   },
   "outputs": [
    {
     "name": "stdout",
     "output_type": "stream",
     "text": [
      "('Return path named: ', 'AWARE', u'/data/sam/AWARE/')\n"
     ]
    }
   ],
   "source": [
    "name = 'AWARE'\n",
    "vv = 'v1'\n",
    "fp = getpath(name)"
   ]
  },
  {
   "cell_type": "markdown",
   "metadata": {},
   "source": [
    "# Load files"
   ]
  },
  {
   "cell_type": "code",
   "execution_count": 12,
   "metadata": {
    "ExecuteTime": {
     "end_time": "2021-07-31T00:55:33.548794Z",
     "start_time": "2021-07-31T00:55:33.542698Z"
    }
   },
   "outputs": [],
   "source": [
    "fl = os.listdir(fp+'data/')"
   ]
  },
  {
   "cell_type": "code",
   "execution_count": 41,
   "metadata": {
    "ExecuteTime": {
     "end_time": "2021-07-31T01:03:29.112715Z",
     "start_time": "2021-07-31T01:03:29.102488Z"
    }
   },
   "outputs": [
    {
     "data": {
      "text/plain": [
       "[u'mac0303.019.txt', u'mac0303.324.pco.txt', u'mac0303.144.txt']"
      ]
     },
     "execution_count": 41,
     "metadata": {},
     "output_type": "execute_result"
    }
   ],
   "source": [
    "fl"
   ]
  },
  {
   "cell_type": "markdown",
   "metadata": {},
   "source": [
    "## Run through and read the values"
   ]
  },
  {
   "cell_type": "code",
   "execution_count": 70,
   "metadata": {
    "ExecuteTime": {
     "end_time": "2021-07-31T01:19:26.105426Z",
     "start_time": "2021-07-31T01:19:26.023525Z"
    }
   },
   "outputs": [
    {
     "name": "stdout",
     "output_type": "stream",
     "text": [
      "mac0303.019\n",
      "   eta_1 = 2.8743\n",
      "   eta_2 = 1.5000\n",
      "   eta_3 = 6.2368\n",
      "   eta_4 = 0.8475\n",
      "   eta_5 = 0.1115\n",
      "   eta_6 = 0.0619\n",
      "   eta_7 = 0.2077\n",
      "   eta_8 = 7.2347\n",
      "   eta_9 = -0.0721\n",
      "   eta_10 = -0.0767\n",
      "   eta_11 = -2.2704\n",
      "   eta_12 = 0.2020\n",
      "   eta_13 = 1.1628\n",
      "   eta_14 = 2.1361\n",
      "   eta_15 = -0.0002\n",
      "   eta_16 = 0.1293\n",
      "mac0303.324.pco\n",
      "   eta_1 = 2.7722\n",
      "   eta_2 = 1.7965\n",
      "   eta_3 = 7.1288\n",
      "   eta_4 = 0.8453\n",
      "   eta_5 = 0.2169\n",
      "   eta_6 = 0.1238\n",
      "   eta_7 = 0.3616\n",
      "   eta_8 = 8.1575\n",
      "   eta_9 = -0.0715\n",
      "   eta_10 = -0.0850\n",
      "   eta_11 = -1.3547\n",
      "   eta_12 = 0.3539\n",
      "   eta_13 = 1.1304\n",
      "   eta_14 = 1.6989\n",
      "   eta_15 = -0.0007\n",
      "   eta_16 = 0.6971\n",
      "mac0303.144\n",
      "   eta_1 = 4.2649\n",
      "   eta_2 = 0.6114\n",
      "   eta_3 = 4.2445\n",
      "   eta_4 = 0.8979\n",
      "   eta_5 = 0.0353\n",
      "   eta_6 = 0.0174\n",
      "   eta_7 = 0.0931\n",
      "   eta_8 = 4.9318\n",
      "   eta_9 = -0.1097\n",
      "   eta_10 = -0.0516\n",
      "   eta_11 = -2.9873\n",
      "   eta_12 = 0.0886\n",
      "   eta_13 = 1.2183\n",
      "   eta_14 = 3.2720\n",
      "   eta_15 = -0.0003\n",
      "   eta_16 = 0.1430\n"
     ]
    }
   ],
   "source": [
    "d = []\n",
    "for f in fl:\n",
    "    d_tmp = pd.read_csv(fp+'data/'+f,delimiter='\\t',header=25)\n",
    "    v_tmp = d_tmp.keys()\n",
    "    par_tmp = Sp.param(d_tmp[v_tmp[1]].to_numpy(), d_tmp['Wavelength'].to_numpy())\n",
    "    print(v_tmp[1])\n",
    "    for i,p in enumerate(par_tmp): print('   eta_{} = {:1.4f}'.format(i+1,p))\n",
    "    d.append({'wvl':d_tmp['Wavelength'].to_numpy(),'rad':d_tmp[v_tmp[1]].to_numpy(),'name':v_tmp[1],'par':par_tmp})"
   ]
  },
  {
   "cell_type": "markdown",
   "metadata": {},
   "source": [
    "# Plot out data"
   ]
  },
  {
   "cell_type": "code",
   "execution_count": null,
   "metadata": {},
   "outputs": [],
   "source": []
  }
 ],
 "metadata": {
  "kernelspec": {
   "display_name": "Python 2",
   "language": "python",
   "name": "python2"
  },
  "language_info": {
   "codemirror_mode": {
    "name": "ipython",
    "version": 2
   },
   "file_extension": ".py",
   "mimetype": "text/x-python",
   "name": "python",
   "nbconvert_exporter": "python",
   "pygments_lexer": "ipython2",
   "version": "2.7.18"
  },
  "toc": {
   "base_numbering": 1,
   "nav_menu": {},
   "number_sections": true,
   "sideBar": true,
   "skip_h1_title": false,
   "title_cell": "Table of Contents",
   "title_sidebar": "Contents",
   "toc_cell": false,
   "toc_position": {},
   "toc_section_display": true,
   "toc_window_display": false
  }
 },
 "nbformat": 4,
 "nbformat_minor": 2
}
