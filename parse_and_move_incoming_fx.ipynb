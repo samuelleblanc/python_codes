{
 "cells": [
  {
   "cell_type": "markdown",
   "metadata": {},
   "source": [
    "# Info\n",
    "Purpose:\n",
    "\n",
    "    Fucntions to support parse_and_move_incoming.py:\n",
    "    Take incoming folder for sunsat and parse the subfolders and incoming files\n",
    "\n",
    "Input:\n",
    "\n",
    "    None\n",
    "\n",
    "Output:\n",
    "\n",
    "    Moved and catagorized files\n",
    "\n",
    "Keywords:\n",
    "\n",
    "    none\n",
    "\n",
    "Dependencies:\n",
    "\n",
    "    - os\n",
    "    - dateutil\n",
    "    - re\n",
    "    - pathlib2\n",
    "    - datefinder\n",
    "\n",
    "Needed Files:\n",
    "  - None\n",
    "\n",
    "Modification History:\n",
    "\n",
    "    Written: Samuel LeBlanc, Santa Cruz, CA, 2020-11-06\n",
    "    Modified: Samuel LeBlanc, Santa Cruz, CA, 2020-12-02\n",
    "             - added support for files without a date in the name, using either the directories' date, or the file's date.\n",
    "    Modified: Samuel LeBlanc, Santa Cruz, CA, 2021-01-26\n",
    "             - pulled out the functions from parse_and_move_incoming into this standalone\n"
   ]
  },
  {
   "cell_type": "markdown",
   "metadata": {},
   "source": [
    "# Set up the background functions"
   ]
  },
  {
   "cell_type": "code",
   "execution_count": 1,
   "metadata": {
    "ExecuteTime": {
     "end_time": "2021-01-26T19:22:57.705107Z",
     "start_time": "2021-01-26T19:22:57.556685Z"
    }
   },
   "outputs": [],
   "source": [
    "from __future__ import print_function\n",
    "import dateutil.parser\n",
    "import re, os\n",
    "from pathlib2 import Path\n",
    "from datefinder import find_dates\n",
    "from datetime import date, datetime\n",
    "import json\n",
    "import filecmp"
   ]
  },
  {
   "cell_type": "code",
   "execution_count": 2,
   "metadata": {
    "ExecuteTime": {
     "end_time": "2020-12-03T22:27:06.373170Z",
     "start_time": "2020-12-03T22:27:06.351477Z"
    }
   },
   "outputs": [],
   "source": [
    "def get_date_and_string(p,dirdate=None):\n",
    "    'p: posix path to extract the date and the string'\n",
    "    fdate = dirdate\n",
    "    fd = [dtemp for dtemp in find_dates(p.stem,source=True)]\n",
    "    if fd:\n",
    "        fdate,f_datestr = fd[0]\n",
    "    else:\n",
    "        f_datestr_re = re.search(\"(\\d{4}?\\d{2}?\\d{2})\",p.stem)          \n",
    "        if f_datestr_re:\n",
    "            f_datestr = f_datestr_re.group()\n",
    "            try:\n",
    "                 fdate = dateutil.parser.parse(f_datestr)\n",
    "            except:\n",
    "                if p.is_dir:\n",
    "                    fdate,f_datestr = get_date_and_string([j for j in p.glob('*')][0])\n",
    "                else:\n",
    "                    fdate,f_datestr = get_date_and_string(p.parent)\n",
    "        else:\n",
    "            if p.suffix in ['.lev10','.lev15','.lev20']: # special for AERONET\n",
    "                f_datestr = re.search(\"(\\d{2}?\\d{2}?\\d{2})\",p.stem).group()\n",
    "                fdate = dateutil.parser.parse(f_datestr,yearfirst=True)\n",
    "    \n",
    "    if not fdate: fdate = datetime.fromtimestamp(p.stat().st_ctime)\n",
    "    if not locals().get('f_datestr'): f_datestr = fdate.strftime('%Y%m%d')\n",
    "        \n",
    "    return fdate,f_datestr"
   ]
  },
  {
   "cell_type": "code",
   "execution_count": 3,
   "metadata": {
    "ExecuteTime": {
     "end_time": "2020-12-03T22:27:06.897428Z",
     "start_time": "2020-12-03T22:27:06.869622Z"
    }
   },
   "outputs": [],
   "source": [
    "def pull_labels(p,datestr,filters={},dirlabel_in=None):\n",
    "    'p:posis path to extract any labels, datestr: datestr within the filename'\n",
    "    f_str = p.stem\n",
    "    f_strs = f_str.replace(datestr,'').strip('_').split('_')\n",
    "    f_strs_up = [tstr.upper() for tstr in f_strs]\n",
    "    instnames_def = {'4STAR':['4STAR','4STARA','4-STAR','4STAR-A'],\n",
    "                     '4STARB':['4STARB','4STAR2','4STAR-B'],\n",
    "                     '3STAR':['3STAR','3-STAR'],\n",
    "                     '2STAR':['2STAR','2-STAR'],\n",
    "                     'muSSTAR':['MUSSTAR','MUSTAR','MU-STAR','MU-SSTAR'],\n",
    "                     '5STAR':['5STARG','5STAR','5STAR-G','5STARF','5STAR-F'],\n",
    "                     'AATS':['AATS','AATS14','AATS-14'],\n",
    "                     'CAIR':['CAIR','C-AIR']}\n",
    "    if not filters:\n",
    "        instnames = instnames_def\n",
    "    else:\n",
    "        instnames = filters.get('instrument_names',instnames_def)\n",
    "    instname,label,dirlabel = None, None, None\n",
    "    for inm in instnames:\n",
    "        for fstar in instnames[inm]:\n",
    "            if fstar in f_strs_up:\n",
    "                instname = inm\n",
    "                null = f_strs.pop(f_strs_up.index(fstar))\n",
    "                f_strs_up.remove(fstar)  \n",
    "    if p.is_dir():\n",
    "        if dirlabel_in: f_strs.insert(0,dirlabel_in)\n",
    "        dirlabel = '_'.join(f_strs)\n",
    "        dirlabel = dirlabel.strip('_')\n",
    "    else:\n",
    "        label = '_'.join(f_strs)\n",
    "        label = label.strip('_')\n",
    "    \n",
    "    if instname == '5STAR':\n",
    "        label = label.replace('_RADIOMETERS','')\n",
    "        if (len(label.split('_'))>1) & label.split('_')[0].isdigit():\n",
    "            label = '_'.join(label.split('_')[1:])\n",
    "    \n",
    "    return dirlabel,label,instname"
   ]
  },
  {
   "cell_type": "code",
   "execution_count": 4,
   "metadata": {
    "ExecuteTime": {
     "end_time": "2020-12-03T22:27:07.263053Z",
     "start_time": "2020-12-03T22:27:07.252233Z"
    }
   },
   "outputs": [],
   "source": [
    "def get_season(now):\n",
    "    'Function to return a string with the season'\n",
    "    Y = 2000 # dummy leap year to allow input X-02-29 (leap day)\n",
    "    seasons = [('Winter', (date(Y,  1,  1),  date(Y,  3, 20))),\n",
    "               ('Spring', (date(Y,  3, 21),  date(Y,  6, 20))),\n",
    "               ('Summer', (date(Y,  6, 21),  date(Y,  9, 22))),\n",
    "               ('Fall', (date(Y,  9, 23),  date(Y, 12, 20))),\n",
    "               ('Winter', (date(Y, 12, 21),  date(Y, 12, 31)))]\n",
    "    \n",
    "    if isinstance(now, datetime):\n",
    "        now = now.date()\n",
    "    now = now.replace(year=Y)\n",
    "    return next(season for season, (start, end) in seasons\n",
    "                if start <= now <= end)"
   ]
  },
  {
   "cell_type": "code",
   "execution_count": 5,
   "metadata": {
    "ExecuteTime": {
     "end_time": "2020-12-03T22:27:07.692662Z",
     "start_time": "2020-12-03T22:27:07.670858Z"
    }
   },
   "outputs": [],
   "source": [
    "class filetypes:\n",
    "    'Class to identify the filetype, labels, dates, instrumentname, suffixes, input is string indicating full file path'\n",
    "    def __init__(self,f,dirlabel=None,dirdate=None,filters={}):\n",
    "        p = Path(f)\n",
    "        self.fdate,self.f_datestr = get_date_and_string(p,dirdate=dirdate)\n",
    "        self.dirlabel,self.label,self.instname = pull_labels(p,self.f_datestr,filters=filters,dirlabel_in=dirlabel)\n",
    "        self.p = p\n",
    "        if not self.dirlabel:\n",
    "            self.dirlabel = dirlabel\n",
    "        if not self.dirlabel:\n",
    "            self.dirlabel = self.label\n",
    "        if not dirdate:\n",
    "            self.dirdate = self.fdate\n",
    "        else:\n",
    "            self.dirdate = dirdate\n",
    "        self.daystr = self.dirdate.strftime('%Y%m%d')\n",
    "        \n",
    "    def _print(self):\n",
    "        print(self.instname, self.dirlabel, self.label, self.fdate, self.f_datestr, self.p.stem)\n",
    "    \n",
    "    def __getitem__(self,i):\n",
    "        'Method to call only the variables in the class like a dict'\n",
    "        return self.__dict__.get(i)\n",
    "\n",
    "    def keys(self):\n",
    "        'Method to wrap the dict call to the class object'\n",
    "        return self.__dict__.keys()"
   ]
  },
  {
   "cell_type": "code",
   "execution_count": 6,
   "metadata": {
    "ExecuteTime": {
     "end_time": "2020-12-03T22:27:08.175422Z",
     "start_time": "2020-12-03T22:27:08.104385Z"
    }
   },
   "outputs": [],
   "source": [
    "def get_newfilepath(f,filters={},debug=False,fake_file=False,nexact=0,\n",
    "                    root_folder='/nobackupp10/nexprojects/sunsat/',verbose=False,dry_run=False):\n",
    "    'function to build the end file path, input of filetype class f, outputs updated file class f'\n",
    "    # determine the campaign\n",
    "    campaign = 'rooftop'\n",
    "    for campaign_name,date_range in filters['time_filter'].items():\n",
    "        if (f.fdate >= date_range[0]) & (f.fdate <= date_range[1]):\n",
    "            campaign = campaign_name\n",
    "        if f.instname=='4STAR':\n",
    "            for campaign_name,date_range in filters['time_filter_4STAR'].items():\n",
    "                if (f.fdate >= date_range[0]) & (f.fdate <= date_range[1]):\n",
    "                    campaign = campaign_name\n",
    "        elif f.instname=='4STARB':\n",
    "            for campaign_name,date_range in filters['time_filter_4STARB'].items():\n",
    "                if (f.fdate >= date_range[0]) & (f.fdate <= date_range[1]):\n",
    "                    campaign = campaign_name\n",
    "        elif f.instname=='AATS':\n",
    "            for campaign_name,date_range in filters['time_filter_AATS'].items():\n",
    "                if (f.fdate >= date_range[0]) & (f.fdate <= date_range[1]):\n",
    "                    campaign = campaign_name\n",
    "    f.campaign = campaign\n",
    "\n",
    "    if f.campaign=='rooftop':\n",
    "        f.season = get_season(f.fdate)\n",
    "        f.year = f.fdate.year\n",
    "        f.campaign = os.path.join('rooftop','{season}_{year}'.format(**f))\n",
    "    \n",
    "    if debug: print(str(f.p))\n",
    "    if debug: print('Campaign found to be:', campaign)\n",
    "    \n",
    "    folders_match_filetype = [ni for ni in filters['directories']\\\n",
    "                              if (f.p.suffix.lower() in filters['directories'][ni]['filetypes'])]\n",
    "    folders_match_label = [j for j in folders_match_filetype if \\\n",
    "                       any([lbl in f.label.lower() for lbl in filters['directories'][j]['label']]) & \\\n",
    "                       (not any([lbl in f.label.lower() for lbl in filters['directories'][j].get('not_label',[])]))]\n",
    "    if debug: print('folders_match_filetype:',folders_match_filetype)\n",
    "    if debug: print('folders_match_label',folders_match_label)\n",
    "    if len(folders_match_label) == 0:\n",
    "        folders_match_label = [j for j in folders_match_filetype if \\\n",
    "                               (not filters['directories'][j]['label'])]\n",
    "        if len(folders_match_label) == 0:\n",
    "            if verbose: print('*** Match move directory not found for file {p.stem}, using base path ***'.format(**f))\n",
    "            folders_match_label = ['']\n",
    "\n",
    "    f.newpath = Path(root_folder).joinpath('{campaign}'.format(**f),folders_match_label[0],\\\n",
    "                                 filters['directories'].get(folders_match_label[0],{}).get('folder_name','').format(**f))   \n",
    "    f.newfile = f.newpath.joinpath(f.p.name)\n",
    "    \n",
    "    if debug: print( 'newpath:',str(f.newpath),' newfile:',str(f.newfile))\n",
    "    f.prefix = '*DRY RUN*: ' if dry_run else ''\n",
    "        \n",
    "    #check if destination file already exists:\n",
    "    if f.newfile.exists() & (not fake_file):\n",
    "        if filecmp.cmp(str(f.newfile),str(f.p),shallow=True):\n",
    "            if filecmp.cmp(str(f.newfile),str(f.p),shallow=False):\n",
    "                # they are the same and don't do anything\n",
    "                if verbose: \n",
    "                    print( '{prefix}Exact same file already exists at: {newfile}, removing incoming file'.format(**f))\n",
    "                if not dry_run: os.remove(str(f.p))\n",
    "                nexact = nexact+1\n",
    "                return None,nexact\n",
    "        if verbose: print( '{prefix}Different file with same name ({p.name}) exists'.format(**f))\n",
    "        f.newpath = f.newpath.joinpath('Uploaded_on_{}'.format(date.today().strftime('%Y%m%d')))\n",
    "        f.newfile = f.newpath.joinpath(f.p.name)\n",
    "        \n",
    "    return folders_match_label,nexact"
   ]
  },
  {
   "cell_type": "code",
   "execution_count": 7,
   "metadata": {
    "ExecuteTime": {
     "end_time": "2020-12-03T22:27:08.617426Z",
     "start_time": "2020-12-03T22:27:08.584881Z"
    }
   },
   "outputs": [],
   "source": [
    "def get_filters_from_json(in_directory):\n",
    "    'function to read in the filters from the json file'\n",
    "    with open(in_directory+'.filters.json') as fjson: \n",
    "        filters = json.load(fjson)\n",
    "\n",
    "    # sanitize input\n",
    "    # set the dates\n",
    "    for nt,lt in filters['time_filter'].items():\n",
    "        lt[0] = datetime(lt[0][0],lt[0][1],lt[0][2])\n",
    "        lt[1] = datetime(lt[1][0],lt[1][1],lt[1][2])\n",
    "    for nt,lt in filters['time_filter_4STAR'].items():\n",
    "        lt[0] = datetime(lt[0][0],lt[0][1],lt[0][2])\n",
    "        lt[1] = datetime(lt[1][0],lt[1][1],lt[1][2])\n",
    "    for nt,lt in filters['time_filter_4STARB'].items():\n",
    "        lt[0] = datetime(lt[0][0],lt[0][1],lt[0][2])\n",
    "        lt[1] = datetime(lt[1][0],lt[1][1],lt[1][2])\n",
    "    for nt,lt in filters['time_filter_AATS'].items():\n",
    "        lt[0] = datetime(lt[0][0],lt[0][1],lt[0][2])\n",
    "        lt[1] = datetime(lt[1][0],lt[1][1],lt[1][2])\n",
    "\n",
    "    # ensure capitalization of the instrument names \n",
    "    for ni,li in filters['instrument_names'].items():\n",
    "        filters['instrument_names'][ni] = [lis.upper() for lis in li]\n",
    "\n",
    "    # ensure lower of the filetypes and labels\n",
    "    for ni in filters['directories']:\n",
    "        filters['directories'][ni]['filetypes'] = [lis.lower() for lis in filters['directories'][ni]['filetypes']]\n",
    "        filters['directories'][ni]['label'] = [lis.lower() for lis in filters['directories'][ni]['label']]\n",
    "        if type(filters['directories'][ni]['folder_name']) is list:\n",
    "            filters['directories'][ni]['folder_name'] = ''\n",
    "    return filters"
   ]
  },
  {
   "cell_type": "code",
   "execution_count": 8,
   "metadata": {
    "ExecuteTime": {
     "end_time": "2020-12-03T22:27:09.176138Z",
     "start_time": "2020-12-03T22:27:09.165722Z"
    }
   },
   "outputs": [],
   "source": [
    "def recurse_through_dir(indir,dirlabel=None,dirdate=None,verbose=False,filters={}):\n",
    "    fl = os.listdir(indir)\n",
    "    fl_array = []\n",
    "    dirs = {}\n",
    "    for f in fl:\n",
    "        if f.startswith('.'): continue #ignore hidden files\n",
    "        if verbose: print(f+' -> ',end='')\n",
    "        fl_array.append(filetypes(indir+'/'+f,dirlabel=dirlabel,filters=filters,dirdate=dirdate))\n",
    "        if verbose: fl_array[-1]._print()\n",
    "        if fl_array[-1].p.is_dir():\n",
    "            dirs[f] = fl_array[-1].dirlabel\n",
    "            fla = recurse_through_dir(indir+'/'+f,dirlabel=dirs[f],verbose=verbose,\n",
    "                                      filters=filters,dirdate=fl_array[-1].fdate)\n",
    "            fl_array.extend(fla)\n",
    "    return fl_array"
   ]
  },
  {
   "cell_type": "code",
   "execution_count": 9,
   "metadata": {
    "ExecuteTime": {
     "end_time": "2020-12-03T22:27:09.668913Z",
     "start_time": "2020-12-03T22:27:09.648261Z"
    }
   },
   "outputs": [],
   "source": [
    "def make_temp_mfile(mfilepath,filelist,starmat,starsun,quicklooks,fig_path,aero_path,gas_path,sun_path,incoming_path):\n",
    "    'Print the matlab commands to a temp m file'\n",
    "    \n",
    "    command_setpath = [\"setnamedpath('starimg','{fig_path}');\".format(fig_path=fig_path),\n",
    "                       \"setnamedpath('starsun','{sun_path}');\".format(sun_path=sun_path),\n",
    "                       \"setnamedpath('aeronet','{aero_path}');\".format(aero_path=aero_path),\n",
    "                       \"setnamedpath('gas_summary','{gas_path}');\".format(gas_path=gas_path)]\n",
    "    command = \"allstarmat({{{filelist}}},'{starmat}')\".format(filelist=filelist,starmat=starmat)\n",
    "    command2 = \"starsun('{starmat}','{starsun}')\".format(starmat=starmat,starsun=starsun)\n",
    "    command3 = \"Quicklooks_4STAR('{starsun}','{starmat}','{quicklooks}')\".format(starmat=starmat,\n",
    "                                   starsun=starsun,quicklooks=quicklooks)\n",
    "    \n",
    "    commands = command_setpath\n",
    "    commands.append(command)\n",
    "    commands.append(command2)\n",
    "    commands.append(\"pa = getnamedpath('starmat');\")\n",
    "    commands.append(\"setnamedpath('starmat','{incoming_path}');\".format(incoming_path=incoming_path))\n",
    "    commands.append(command3)\n",
    "    commands.append(\"setnamedpath('starmat',pa);\")\n",
    "    \n",
    "    with open(mfilepath,'w') as f:\n",
    "        f.write('% Temp matlab script created on : '+str(datetime.now())+' \\n')\n",
    "        for cm_line in commands:\n",
    "            f.write(cm_line+' \\n')\n",
    "        f.write('exit;\\n')\n",
    "    return mfilepath"
   ]
  },
  {
   "cell_type": "code",
   "execution_count": 10,
   "metadata": {
    "ExecuteTime": {
     "end_time": "2020-12-03T22:27:10.318961Z",
     "start_time": "2020-12-03T22:27:10.292688Z"
    }
   },
   "outputs": [],
   "source": [
    "def move_files(fl_arr,filters,verbose=False,dry_run=False,root_folder='/nobackupp10/nexprojects/sunsat/'):\n",
    "    'Function to go through and move the files, create folders if necessary, and check if there are any new raw data'\n",
    "    data_raw_found = False\n",
    "    data_raw_files = {}\n",
    "    nexact, nmoved, ncreated, ndataraw = 0,0,0,0\n",
    "    for f in fl_arr:\n",
    "        # determine the end path of the file\n",
    "        if f.p.is_dir(): continue # do nothing for directories\n",
    "        f.prefix = '*DRY RUN*: ' if dry_run else ''\n",
    "\n",
    "        folders_match_label,nexact = get_newfilepath(f,filters=filters,debug=False,\n",
    "                                                     nexact=nexact,root_folder=root_folder,verbose=verbose,dry_run=dry_run)\n",
    "        if not folders_match_label: continue\n",
    "\n",
    "        if 'data_raw' in folders_match_label:\n",
    "            data_raw_found = True\n",
    "\n",
    "        # now move the files\n",
    "        if not f.newpath.exists() & verbose: print( '{prefix}+Creating new path: {newpath}'.format(**f) )\n",
    "        if not dry_run: \n",
    "            if not f.newpath.exists(): ncreated = ncreated+1\n",
    "            f.newpath.mkdir(parents=True,exist_ok=True)\n",
    "        if verbose: print( '{prefix}~Moving file from {p}\\n   to new path: {newfile}'.format(**f) )\n",
    "        if not dry_run: \n",
    "            nmoved = nmoved+1\n",
    "            f.p.rename(f.newfile)\n",
    "        if 'data_raw' in folders_match_label: \n",
    "            data_raw_files['{instname}_{daystr}'.format(**f)] =\\\n",
    "                          data_raw_files.get('{instname}_{daystr}'.format(**f),[])\n",
    "            data_raw_files['{instname}_{daystr}'.format(**f)].append(str(f.newfile))\n",
    "            ndataraw = ndataraw+1\n",
    "    return data_raw_found, data_raw_files, nexact, nmoved, ncreated, ndataraw"
   ]
  }
 ],
 "metadata": {
  "kernelspec": {
   "display_name": "Python 2",
   "language": "python",
   "name": "python2"
  },
  "language_info": {
   "codemirror_mode": {
    "name": "ipython",
    "version": 2
   },
   "file_extension": ".py",
   "mimetype": "text/x-python",
   "name": "python",
   "nbconvert_exporter": "python",
   "pygments_lexer": "ipython2",
   "version": "2.7.18"
  },
  "toc": {
   "base_numbering": 1,
   "nav_menu": {},
   "number_sections": true,
   "sideBar": true,
   "skip_h1_title": false,
   "title_cell": "Table of Contents",
   "title_sidebar": "Contents",
   "toc_cell": false,
   "toc_position": {},
   "toc_section_display": true,
   "toc_window_display": false
  }
 },
 "nbformat": 4,
 "nbformat_minor": 2
}
