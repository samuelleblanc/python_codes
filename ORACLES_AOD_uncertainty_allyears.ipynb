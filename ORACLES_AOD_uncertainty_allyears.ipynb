{
 "cells": [
  {
   "cell_type": "markdown",
   "id": "b560af31",
   "metadata": {},
   "source": [
    "# Info\n",
    "Purpose:\n",
    "\n",
    "    To build up the ORACLES all years summary of the AOD, and ACAOD, uncertainty. Pulling out all the different uncertainty calculations\n",
    "\n",
    "Input:\n",
    "\n",
    "    None\n",
    "\n",
    "Output:\n",
    "\n",
    "    Figure and save files\n",
    "\n",
    "Keywords:\n",
    "\n",
    "    none\n",
    "\n",
    "Dependencies:\n",
    "\n",
    "    - load_utils.py\n",
    "    - matplotlib\n",
    "    - numpy\n",
    "    - Sp_parameters\n",
    "    - write_utils\n",
    "    - path_utils\n",
    "    - hdf5storage\n",
    "    - scipy\n",
    "\n",
    "Needed Files:\n",
    "  - file.rc : for consistent creation of look of matplotlib figures\n",
    "  - starsun.mat files for ORACLES\n",
    "\n",
    "Modification History:\n",
    "\n",
    "    Written: Samuel LeBlanc, Santa Cruz, CA, 2022-10-24\n",
    "    Modified:\n"
   ]
  },
  {
   "cell_type": "markdown",
   "id": "583c1da7",
   "metadata": {},
   "source": [
    "# Prepare python environment"
   ]
  },
  {
   "cell_type": "code",
   "execution_count": 2,
   "id": "6ce053ff",
   "metadata": {
    "ExecuteTime": {
     "end_time": "2022-10-26T00:45:40.263576Z",
     "start_time": "2022-10-26T00:45:38.285572Z"
    }
   },
   "outputs": [],
   "source": [
    "import numpy as np\n",
    "import Sp_parameters as Sp\n",
    "import load_utils as lu\n",
    "import write_utils as wu\n",
    "from path_utils import getpath\n",
    "import hdf5storage as hs\n",
    "import scipy.io as sio\n",
    "import matplotlib.pyplot as plt\n",
    "%matplotlib notebook\n",
    "import os\n",
    "import glob"
   ]
  },
  {
   "cell_type": "code",
   "execution_count": 3,
   "id": "d2d629f0",
   "metadata": {
    "ExecuteTime": {
     "end_time": "2022-10-26T00:45:40.278334Z",
     "start_time": "2022-10-26T00:45:40.266414Z"
    }
   },
   "outputs": [
    {
     "name": "stdout",
     "output_type": "stream",
     "text": [
      "Return path named:  ORACLES /data/sam/ORACLES/\n",
      "Return path named:  sunsat /data/sunsat/\n"
     ]
    }
   ],
   "source": [
    "name = 'ORACLES'\n",
    "vv = 'v1'\n",
    "fp = getpath(name)\n",
    "fp_sun = getpath('sunsat')"
   ]
  },
  {
   "cell_type": "markdown",
   "id": "631e1f81",
   "metadata": {},
   "source": [
    "# Load files"
   ]
  },
  {
   "cell_type": "markdown",
   "id": "a67cab91",
   "metadata": {},
   "source": [
    "## Load the ict files"
   ]
  },
  {
   "cell_type": "markdown",
   "id": "13050ef0",
   "metadata": {},
   "source": [
    "### 2016"
   ]
  },
  {
   "cell_type": "code",
   "execution_count": 4,
   "id": "b85cdb61",
   "metadata": {
    "ExecuteTime": {
     "end_time": "2022-10-26T00:45:42.463383Z",
     "start_time": "2022-10-26T00:45:40.281607Z"
    }
   },
   "outputs": [],
   "source": [
    "vv6 = 'R4'\n",
    "ar6 = hs.loadmat(fp+'/aod_ict/R4/all_aod_ict_{}_2016.mat'.format(vv6))"
   ]
  },
  {
   "cell_type": "code",
   "execution_count": 5,
   "id": "a0ce692a",
   "metadata": {
    "ExecuteTime": {
     "end_time": "2022-10-26T00:45:42.487767Z",
     "start_time": "2022-10-26T00:45:42.466374Z"
    }
   },
   "outputs": [],
   "source": [
    "ar6['flac'] = (ar6['qual_flag']==0)&(ar6['flag_acaod']==1)\n",
    "ar6['flacr'] = (ar6['qual_flag']==0)&(ar6['flag_acaod']==1)&(ar6['fl_routine'])\n",
    "ar6['flaco'] = (ar6['qual_flag']==0)&(ar6['flag_acaod']==1)&~(ar6['fl_routine'])\n",
    "ar6['flr'] = (ar6['qual_flag']==0) & (ar6['fl_routine'])\n",
    "ar6['flo'] = (ar6['qual_flag']==0) & ~(ar6['fl_routine'])\n",
    "ar6['fl'] = (ar6['qual_flag']==0)"
   ]
  },
  {
   "cell_type": "markdown",
   "id": "892086d5",
   "metadata": {},
   "source": [
    "### 2017"
   ]
  },
  {
   "cell_type": "code",
   "execution_count": 6,
   "id": "bf159956",
   "metadata": {
    "ExecuteTime": {
     "end_time": "2022-10-26T00:45:44.934527Z",
     "start_time": "2022-10-26T00:45:42.491192Z"
    }
   },
   "outputs": [],
   "source": [
    "vv7 = 'R1'\n",
    "ar7 = hs.loadmat(fp+'/aod_ict_2017/R1/all_aod_ict_{}_2017.mat'.format(vv7))"
   ]
  },
  {
   "cell_type": "code",
   "execution_count": 7,
   "id": "1f69ec2f",
   "metadata": {
    "ExecuteTime": {
     "end_time": "2022-10-26T00:45:44.948142Z",
     "start_time": "2022-10-26T00:45:44.937818Z"
    }
   },
   "outputs": [],
   "source": [
    "ar7['flac'] = (ar7['qual_flag']==0)&(ar7['flag_acaod']==1)\n",
    "ar7['flacr'] = (ar7['qual_flag']==0)&(ar7['flag_acaod']==1)&(ar7['fl_routine'])\n",
    "ar7['flaco'] = (ar7['qual_flag']==0)&(ar7['flag_acaod']==1)&~(ar7['fl_routine'])\n",
    "ar7['flr'] = (ar7['qual_flag']==0) & (ar7['fl_routine'])\n",
    "ar7['flo'] = (ar7['qual_flag']==0) & ~(ar7['fl_routine'])\n",
    "ar7['fl'] = (ar7['qual_flag']==0)"
   ]
  },
  {
   "cell_type": "markdown",
   "id": "b2256005",
   "metadata": {},
   "source": [
    "### 2018"
   ]
  },
  {
   "cell_type": "code",
   "execution_count": 8,
   "id": "3293d5b4",
   "metadata": {
    "ExecuteTime": {
     "end_time": "2022-10-26T00:45:47.388682Z",
     "start_time": "2022-10-26T00:45:44.950830Z"
    }
   },
   "outputs": [],
   "source": [
    "vv8 = 'R1'\n",
    "ar8 = hs.loadmat(fp+'/aod_ict_2018/{vv}/all_aod_ict_{vv}_2018.mat'.format(vv=vv8))"
   ]
  },
  {
   "cell_type": "code",
   "execution_count": 9,
   "id": "849498a3",
   "metadata": {
    "ExecuteTime": {
     "end_time": "2022-10-26T00:45:47.403459Z",
     "start_time": "2022-10-26T00:45:47.391554Z"
    }
   },
   "outputs": [],
   "source": [
    "ar8['flac'] = (ar8['qual_flag']==0) & (ar8['flag_acaod']==1)  \n",
    "ar8['flacr'] = (ar8['qual_flag']==0) & (ar8['flag_acaod']==1)&(ar8['fl_routine']) \n",
    "ar8['flaco'] = (ar8['qual_flag']==0) & (ar8['flag_acaod']==1)&~(ar8['fl_routine']) \n",
    "ar8['flr'] = (ar8['qual_flag']==0) & (ar8['fl_routine'])\n",
    "ar8['flo'] = (ar8['qual_flag']==0) & (ar8['fl_routine']==False)\n",
    "ar8['fl'] = (ar8['qual_flag']==0)"
   ]
  },
  {
   "cell_type": "markdown",
   "id": "d0810624",
   "metadata": {},
   "source": [
    "## Load the starsuns aod uncertainty"
   ]
  },
  {
   "cell_type": "markdown",
   "id": "7c7c6cac",
   "metadata": {},
   "source": [
    "### 2016"
   ]
  },
  {
   "cell_type": "code",
   "execution_count": 10,
   "id": "740f9462",
   "metadata": {
    "ExecuteTime": {
     "end_time": "2022-10-26T00:45:47.410684Z",
     "start_time": "2022-10-26T00:45:47.406712Z"
    }
   },
   "outputs": [],
   "source": [
    "days6 = ['20160824','20160825','20160827','20160830','20160831','20160902','20160904','20160906','20160908',\n",
    "       '20160910','20160912','20160914','20160918','20160920','20160924','20160925','20160927','20160930']"
   ]
  },
  {
   "cell_type": "code",
   "execution_count": 11,
   "id": "86cde048",
   "metadata": {
    "ExecuteTime": {
     "end_time": "2022-10-26T00:45:47.453168Z",
     "start_time": "2022-10-26T00:45:47.413121Z"
    }
   },
   "outputs": [],
   "source": [
    "files6 = glob.glob(fp_sun+'ORACLES_2016/data_processed/starsuns/{}/**/*starsun.mat'.format('R3'),recursive=True)"
   ]
  },
  {
   "cell_type": "code",
   "execution_count": 12,
   "id": "98777890",
   "metadata": {
    "ExecuteTime": {
     "end_time": "2022-10-26T00:45:47.458491Z",
     "start_time": "2022-10-26T00:45:47.455358Z"
    }
   },
   "outputs": [],
   "source": [
    "f6s = [f for f in files6 if any(xs in f for xs in days6)]\n",
    "f6s.sort()"
   ]
  },
  {
   "cell_type": "code",
   "execution_count": 13,
   "id": "65efeabf",
   "metadata": {
    "ExecuteTime": {
     "end_time": "2022-10-26T00:45:47.474380Z",
     "start_time": "2022-10-26T00:45:47.460680Z"
    }
   },
   "outputs": [
    {
     "data": {
      "text/plain": [
       "['/data/sunsat/ORACLES_2016/data_processed/starsuns/R3/4STAR_20160824starsun.mat',\n",
       " '/data/sunsat/ORACLES_2016/data_processed/starsuns/R3/4STAR_20160825starsun.mat',\n",
       " '/data/sunsat/ORACLES_2016/data_processed/starsuns/R3/4STAR_20160827starsun.mat',\n",
       " '/data/sunsat/ORACLES_2016/data_processed/starsuns/R3/4STAR_20160830starsun.mat',\n",
       " '/data/sunsat/ORACLES_2016/data_processed/starsuns/R3/4STAR_20160831starsun.mat',\n",
       " '/data/sunsat/ORACLES_2016/data_processed/starsuns/R3/4STAR_20160902starsun.mat',\n",
       " '/data/sunsat/ORACLES_2016/data_processed/starsuns/R3/4STAR_20160904starsun.mat',\n",
       " '/data/sunsat/ORACLES_2016/data_processed/starsuns/R3/4STAR_20160906starsun.mat',\n",
       " '/data/sunsat/ORACLES_2016/data_processed/starsuns/R3/4STAR_20160908starsun.mat',\n",
       " '/data/sunsat/ORACLES_2016/data_processed/starsuns/R3/4STAR_20160910starsun.mat',\n",
       " '/data/sunsat/ORACLES_2016/data_processed/starsuns/R3/4STAR_20160912starsun.mat',\n",
       " '/data/sunsat/ORACLES_2016/data_processed/starsuns/R3/4STAR_20160914starsun.mat',\n",
       " '/data/sunsat/ORACLES_2016/data_processed/starsuns/R3/4STAR_20160918starsun.mat',\n",
       " '/data/sunsat/ORACLES_2016/data_processed/starsuns/R3/4STAR_20160920starsun.mat',\n",
       " '/data/sunsat/ORACLES_2016/data_processed/starsuns/R3/4STAR_20160924starsun.mat',\n",
       " '/data/sunsat/ORACLES_2016/data_processed/starsuns/R3/4STAR_20160925starsun.mat',\n",
       " '/data/sunsat/ORACLES_2016/data_processed/starsuns/R3/4STAR_20160927starsun.mat',\n",
       " '/data/sunsat/ORACLES_2016/data_processed/starsuns/R3/4STAR_20160930starsun.mat']"
      ]
     },
     "execution_count": 13,
     "metadata": {},
     "output_type": "execute_result"
    }
   ],
   "source": [
    "f6s"
   ]
  },
  {
   "cell_type": "code",
   "execution_count": 14,
   "id": "51b93cd0",
   "metadata": {
    "ExecuteTime": {
     "end_time": "2022-10-26T00:45:47.694339Z",
     "start_time": "2022-10-26T00:45:47.690565Z"
    }
   },
   "outputs": [],
   "source": [
    "f6s[11] = '/data/sunsat/ORACLES_2016/data_processed/starsuns/v3/4STAR_20160914starsun.mat'"
   ]
  },
  {
   "cell_type": "code",
   "execution_count": 15,
   "id": "43ca2271",
   "metadata": {
    "ExecuteTime": {
     "end_time": "2022-10-26T00:45:48.364605Z",
     "start_time": "2022-10-26T00:45:48.359964Z"
    }
   },
   "outputs": [],
   "source": [
    "var_names = ['t','tau_aero_noscreening','w','m_aero','tau_aero_err','m_err',\n",
    "                                      'tau_aero_err1','tau_aero_err2','tau_aero_err3','tau_aero_err4','tau_aero_err5',\n",
    "                                      'tau_aero_err6','tau_aero_err7','tau_aero_err8','tau_aero_err9','tau_aero_err10','tau_aero_err11']"
   ]
  },
  {
   "cell_type": "code",
   "execution_count": 16,
   "id": "88bfb4e9",
   "metadata": {
    "ExecuteTime": {
     "end_time": "2022-10-26T00:49:18.981494Z",
     "start_time": "2022-10-26T00:45:49.772319Z"
    }
   },
   "outputs": [
    {
     "name": "stdout",
     "output_type": "stream",
     "text": [
      "20160824\n",
      "20160825\n",
      "20160827\n",
      "20160830\n",
      "20160831\n",
      "20160902\n",
      "20160904\n",
      "20160906\n",
      "20160908\n",
      "20160910\n",
      "20160912\n",
      "20160914\n",
      "20160918\n",
      "20160920\n",
      "20160924\n",
      "20160925\n",
      "20160927\n",
      "20160930\n"
     ]
    }
   ],
   "source": [
    "sp6 = {}\n",
    "for f in f6s:\n",
    "    ss = hs.loadmat(f,variable_names=var_names)\n",
    "    sp6[f.split('_')[-1][0:8]] = ss\n",
    "    print(f.split('_')[-1][0:8])"
   ]
  },
  {
   "cell_type": "code",
   "execution_count": 17,
   "id": "96257960",
   "metadata": {
    "ExecuteTime": {
     "end_time": "2022-10-26T00:49:18.992946Z",
     "start_time": "2022-10-26T00:49:18.988080Z"
    }
   },
   "outputs": [
    {
     "data": {
      "text/plain": [
       "dict_keys(['AOD0355', 'AOD0380', 'AOD0452', 'AOD0470', 'AOD0501', 'AOD0520', 'AOD0530', 'AOD0532', 'AOD0550', 'AOD0606', 'AOD0620', 'AOD0660', 'AOD0675', 'AOD0700', 'AOD0781', 'AOD0865', 'AOD1020', 'AOD1040', 'AOD1064', 'AOD1236', 'AOD1250', 'AOD1559', 'AOD1627', 'AOD1650', 'AOD_angstrom_470_865', 'AOD_polycoef_a0', 'AOD_polycoef_a1', 'AOD_polycoef_a2', 'GPS_Alt', 'Latitude', 'Longitude', 'Start_UTC', 'UNCAOD0355', 'UNCAOD0380', 'UNCAOD0452', 'UNCAOD0470', 'UNCAOD0501', 'UNCAOD0520', 'UNCAOD0530', 'UNCAOD0532', 'UNCAOD0550', 'UNCAOD0606', 'UNCAOD0620', 'UNCAOD0660', 'UNCAOD0675', 'UNCAOD0700', 'UNCAOD0781', 'UNCAOD0865', 'UNCAOD1020', 'UNCAOD1040', 'UNCAOD1064', 'UNCAOD1236', 'UNCAOD1250', 'UNCAOD1559', 'UNCAOD1627', 'UNCAOD1650', 'amass_aer', 'days', 'fl', 'fl1', 'fl2', 'fl3', 'fl_QA', 'fl_alt', 'fl_alt_18', 'fl_alt_22', 'fl_alt_6', 'fl_routine', 'flac', 'flacr', 'flag_acaod', 'flr', 'qual_flag', 'flaco', 'flo'])"
      ]
     },
     "execution_count": 17,
     "metadata": {},
     "output_type": "execute_result"
    }
   ],
   "source": [
    "ar6.keys()"
   ]
  },
  {
   "cell_type": "code",
   "execution_count": 25,
   "id": "4f8b679f",
   "metadata": {
    "ExecuteTime": {
     "end_time": "2022-10-26T01:02:54.325204Z",
     "start_time": "2022-10-26T01:02:54.320235Z"
    }
   },
   "outputs": [],
   "source": [
    "var_names_1d = ['t','m_aero','m_err']\n",
    "var_names_wvl = ['tau_aero_err','tau_aero_err1','tau_aero_err2','tau_aero_err3','tau_aero_err4','tau_aero_err5',\n",
    "                                      'tau_aero_err6','tau_aero_err7','tau_aero_err8','tau_aero_err9','tau_aero_err10','tau_aero_err11']"
   ]
  },
  {
   "cell_type": "code",
   "execution_count": 19,
   "id": "d1c6e12e",
   "metadata": {
    "ExecuteTime": {
     "end_time": "2022-10-26T00:59:05.541142Z",
     "start_time": "2022-10-26T00:59:05.537243Z"
    }
   },
   "outputs": [],
   "source": [
    "wvl = sp6['20160824']['w']"
   ]
  },
  {
   "cell_type": "code",
   "execution_count": 22,
   "id": "fc48abf0",
   "metadata": {
    "ExecuteTime": {
     "end_time": "2022-10-26T01:01:37.259787Z",
     "start_time": "2022-10-26T01:01:37.248721Z"
    }
   },
   "outputs": [],
   "source": [
    "iwvls = [np.argmin(wvl-0.355),\n",
    "         np.argmin(wvl-0.380),\n",
    "         np.argmin(wvl-0.452),\n",
    "         np.argmin(wvl-0.470),\n",
    "         np.argmin(wvl-0.501),\n",
    "         np.argmin(wvl-0.520),\n",
    "         np.argmin(wvl-0.530),\n",
    "         np.argmin(wvl-0.532),\n",
    "         np.argmin(wvl-0.550),\n",
    "         np.argmin(wvl-0.606),\n",
    "         np.argmin(wvl-0.620),\n",
    "         np.argmin(wvl-0.660),\n",
    "         np.argmin(wvl-0.675),\n",
    "         np.argmin(wvl-0.700),\n",
    "         np.argmin(wvl-0.781),\n",
    "         np.argmin(wvl-0.865),\n",
    "         np.argmin(wvl-1.02),\n",
    "         np.argmin(wvl-1.04),\n",
    "         np.argmin(wvl-1.064),\n",
    "         np.argmin(wvl-1.236),\n",
    "         np.argmin(wvl-1.250),\n",
    "         np.argmin(wvl-1.559),\n",
    "         np.argmin(wvl-1.627),\n",
    "         np.argmin(wvl-1.650)]"
   ]
  },
  {
   "cell_type": "code",
   "execution_count": 38,
   "id": "9208178d",
   "metadata": {
    "ExecuteTime": {
     "end_time": "2022-10-26T01:58:03.211592Z",
     "start_time": "2022-10-26T01:58:03.206356Z"
    }
   },
   "outputs": [],
   "source": [
    "wvls = [355,380,452,470,501,520,530,532,550,606,620,660,675,700,781,865,1020,1040,1064,1236,1250,1559,1627,1650]"
   ]
  },
  {
   "cell_type": "code",
   "execution_count": 26,
   "id": "fbb89fd5",
   "metadata": {
    "ExecuteTime": {
     "end_time": "2022-10-26T01:03:31.549496Z",
     "start_time": "2022-10-26T01:03:31.540454Z"
    }
   },
   "outputs": [],
   "source": [
    "# init\n",
    "s6 = {}\n",
    "s6['w'] = wvl\n",
    "for g in var_names_1d: s6[g] = sp6['20160824'][g]\n",
    "for g in var_names_wvl: s6[g] = sp6['20160824'][g][:,iwvls]"
   ]
  },
  {
   "cell_type": "code",
   "execution_count": 31,
   "id": "53cab2b6",
   "metadata": {
    "ExecuteTime": {
     "end_time": "2022-10-26T01:55:56.921564Z",
     "start_time": "2022-10-26T01:55:54.650425Z"
    }
   },
   "outputs": [
    {
     "name": "stdout",
     "output_type": "stream",
     "text": [
      "20160825\n",
      "20160827\n",
      "20160830\n",
      "20160831\n",
      "20160902\n",
      "20160904\n",
      "20160906\n",
      "20160908\n",
      "20160910\n",
      "20160912\n",
      "20160914\n",
      "20160918\n",
      "20160920\n",
      "20160924\n",
      "20160925\n",
      "20160927\n",
      "20160930\n"
     ]
    }
   ],
   "source": [
    " for ss in days6[1:]:\n",
    "        print(ss)\n",
    "        for g in var_names_wvl:\n",
    "            s6[g] = np.append(s6[g],sp6[ss][g][:,iwvls],axis=0)\n",
    "        for g in var_names_1d: s6[g] = np.append(s6[g],sp6[ss][g])"
   ]
  },
  {
   "cell_type": "code",
   "execution_count": 32,
   "id": "b8f88939",
   "metadata": {
    "ExecuteTime": {
     "end_time": "2022-10-26T01:55:58.603759Z",
     "start_time": "2022-10-26T01:55:58.597454Z"
    }
   },
   "outputs": [
    {
     "data": {
      "text/plain": [
       "dict_keys(['w', 't', 'm_aero', 'm_err', 'tau_aero_err', 'tau_aero_err1', 'tau_aero_err2', 'tau_aero_err3', 'tau_aero_err4', 'tau_aero_err5', 'tau_aero_err6', 'tau_aero_err7', 'tau_aero_err8', 'tau_aero_err9', 'tau_aero_err10', 'tau_aero_err11'])"
      ]
     },
     "execution_count": 32,
     "metadata": {},
     "output_type": "execute_result"
    }
   ],
   "source": [
    "s6.keys()"
   ]
  },
  {
   "cell_type": "markdown",
   "id": "4cf3945e",
   "metadata": {},
   "source": [
    "### 2017"
   ]
  },
  {
   "cell_type": "code",
   "execution_count": 15,
   "id": "74b3d561",
   "metadata": {
    "ExecuteTime": {
     "end_time": "2022-10-25T20:54:17.669357Z",
     "start_time": "2022-10-25T20:54:17.663659Z"
    }
   },
   "outputs": [],
   "source": [
    "days7 = ['20170801','20170802','20170807','20170809', '20170812','20170813','20170815','20170817','20170818','20170819','20170821',\n",
    "        '20170824','20170826','20170828','20170830','20170831','20170902','20170903','20170904']"
   ]
  },
  {
   "cell_type": "code",
   "execution_count": 16,
   "id": "96565e2f",
   "metadata": {
    "ExecuteTime": {
     "end_time": "2022-10-25T20:54:17.929599Z",
     "start_time": "2022-10-25T20:54:17.907900Z"
    }
   },
   "outputs": [],
   "source": [
    "files7 = glob.glob(fp_sun+'ORACLES_2017/data_processed/starsuns/{}/**/*starsun.mat'.format('R0'),recursive=True)"
   ]
  },
  {
   "cell_type": "code",
   "execution_count": 17,
   "id": "edfb7b1e",
   "metadata": {
    "ExecuteTime": {
     "end_time": "2022-10-25T20:54:18.146403Z",
     "start_time": "2022-10-25T20:54:18.141841Z"
    }
   },
   "outputs": [],
   "source": [
    "f7s = [f for f in files7 if any(xs in f for xs in days7)]\n",
    "f7s.sort()"
   ]
  },
  {
   "cell_type": "code",
   "execution_count": 18,
   "id": "24e79ad3",
   "metadata": {
    "ExecuteTime": {
     "end_time": "2022-10-25T20:58:44.348033Z",
     "start_time": "2022-10-25T20:54:18.535361Z"
    }
   },
   "outputs": [
    {
     "name": "stdout",
     "output_type": "stream",
     "text": [
      "20170801\n",
      "20170802\n",
      "20170807\n",
      "20170809\n",
      "20170812\n",
      "20170813\n",
      "20170815\n",
      "20170817\n",
      "20170818\n",
      "20170819\n",
      "20170821\n",
      "20170824\n",
      "20170826\n",
      "20170828\n",
      "20170830\n",
      "20170831\n",
      "20170902\n",
      "20170903\n",
      "20170904\n"
     ]
    }
   ],
   "source": [
    "sp7 = {}\n",
    "for f in f7s:\n",
    "    ss = hs.loadmat(f,variable_names=var_names)\n",
    "    sp7[f.split('_')[-1][0:8]] = ss\n",
    "    print(f.split('_')[-1][0:8])"
   ]
  },
  {
   "cell_type": "markdown",
   "id": "2abeecbc",
   "metadata": {},
   "source": [
    "### 2018"
   ]
  },
  {
   "cell_type": "code",
   "execution_count": 19,
   "id": "1e2f6122",
   "metadata": {
    "ExecuteTime": {
     "end_time": "2022-10-25T20:37:21.309398Z",
     "start_time": "2022-10-25T20:37:20.729016Z"
    }
   },
   "outputs": [],
   "source": [
    "days8 = ['20180921','20180922','20180924','20180927','20180930','20181002','20181003','20181005','20181007','20181010','20181012',\n",
    "        '20181015','20181017','20181019','20181021','20181023','20181025','20181026','20181027']"
   ]
  },
  {
   "cell_type": "code",
   "execution_count": 20,
   "id": "40f670a3",
   "metadata": {
    "ExecuteTime": {
     "end_time": "2022-10-25T20:37:21.437644Z",
     "start_time": "2022-10-25T20:37:21.349676Z"
    }
   },
   "outputs": [],
   "source": [
    "files8 = glob.glob(fp_sun+'ORACLES_2018/data_processed/starsuns/{}/**/*starsun.mat'.format('R0'),recursive=True)"
   ]
  },
  {
   "cell_type": "code",
   "execution_count": 21,
   "id": "1e12bb45",
   "metadata": {
    "ExecuteTime": {
     "end_time": "2022-10-25T20:37:21.451604Z",
     "start_time": "2022-10-25T20:37:21.441124Z"
    }
   },
   "outputs": [],
   "source": [
    "f8s = [f for f in files8 if any(xs in f for xs in days8)]\n",
    "f8s.sort()"
   ]
  },
  {
   "cell_type": "code",
   "execution_count": null,
   "id": "85bff488",
   "metadata": {
    "ExecuteTime": {
     "start_time": "2022-10-25T20:29:30.673Z"
    }
   },
   "outputs": [
    {
     "name": "stdout",
     "output_type": "stream",
     "text": [
      "20180921\n",
      "20180922\n",
      "20180924\n"
     ]
    }
   ],
   "source": [
    "sp8 = {}\n",
    "for f in f8s:\n",
    "    ss = hs.loadmat(f,variable_names=var_names)\n",
    "    sp8[f.split('_')[-1][0:8]] = ss\n",
    "    print(f.split('_')[-1][0:8])"
   ]
  },
  {
   "cell_type": "markdown",
   "id": "465e3065",
   "metadata": {},
   "source": [
    "# Plot out data"
   ]
  },
  {
   "cell_type": "markdown",
   "id": "8139a50f",
   "metadata": {},
   "source": [
    "## Separate the different tau errors"
   ]
  },
  {
   "cell_type": "markdown",
   "id": "28f01079",
   "metadata": {},
   "source": [
    " - tau_aero_err1: airmass error (m_err) - abs(tau.*repmat(s.m_err,1,qq))\n",
    " - tau_aero_err2: c0err - 1./s.m_aero*(s.c0err./s.c0);\n",
    " - tau_aero_err3: dark standard deviation - s.darkstd./(s.raw-s.dark)./repmat(s.m_aero,1,qq);\n",
    " - tau_aero_err4: Rayleigh uncertainty - repmat(s.m_ray./s.m_aero,1,qq)*s.tau_r_err.*s.tau_ray;\n",
    " - tau_aero_err5: Ozone tau uncertainty - epmat(s.m_O3./s.m_aero,1,qq)*s.tau_O3_err.*s.tau_O3;\n",
    " - tau_aero_err6: NO2 tau uncertainty - repmat(s.m_NO2./s.m_aero,1,qq)*s.tau_NO2_err.*s.tau_NO2;\n",
    " - tau_aero_err7: O2-O2 tau uncertainty - repmat(s.m_ray./s.m_aero,1,qq).*s.tau_O4_err.*s.tau_O4;\n",
    " - tau_aero_err8: 0 - Legacy, used for H20 tau - 0; % legacy from the AATS code; reserve this variable for future H2O error estimat\n",
    " - tau_aero_err9: tracking error, from FOV vs. quad - s.track_err./repmat(s.m_aero,1,qq);\n",
    " - tau_aero_err10: 0; % reserved for error associated with diffuse light correction; tau_aero_err10=tau_aero.*runc_F'; %error of diffuse light correction\n",
    " - tau_aero_err11: CO2, CH4, N2O tau error - repmat(s.m_ray./s.m_aero,1,qq).*s.tau_CO2_CH4_N2O_abserr;\n",
    "  \n",
    "Differences between tau_aero_err and the saved uncertainty in the ict file due to window deposition corrections"
   ]
  },
  {
   "cell_type": "code",
   "execution_count": 19,
   "id": "f7262186",
   "metadata": {
    "ExecuteTime": {
     "end_time": "2022-10-25T21:27:46.929906Z",
     "start_time": "2022-10-25T21:27:46.808713Z"
    }
   },
   "outputs": [
    {
     "data": {
      "text/plain": [
       "dict_keys(['20160824', '20160825', '20160827', '20160830', '20160831', '20160902', '20160904', '20160906', '20160908', '20160910', '20160912', '20160914', '20160918', '20160920', '20160924', '20160925', '20160927', '20160930'])"
      ]
     },
     "execution_count": 19,
     "metadata": {},
     "output_type": "execute_result"
    }
   ],
   "source": [
    "sp6.keys()"
   ]
  },
  {
   "cell_type": "code",
   "execution_count": 21,
   "id": "0a4d854c",
   "metadata": {
    "ExecuteTime": {
     "end_time": "2022-10-25T21:29:31.454177Z",
     "start_time": "2022-10-25T21:29:31.431384Z"
    }
   },
   "outputs": [
    {
     "data": {
      "text/plain": [
       "(17676, 1556)"
      ]
     },
     "execution_count": 21,
     "metadata": {},
     "output_type": "execute_result"
    }
   ],
   "source": [
    "sp6['20160824']['tau_aero_err1'].shape"
   ]
  },
  {
   "cell_type": "code",
   "execution_count": 39,
   "id": "c4e8db0f",
   "metadata": {
    "ExecuteTime": {
     "end_time": "2022-10-26T01:58:24.300334Z",
     "start_time": "2022-10-26T01:58:24.296651Z"
    }
   },
   "outputs": [],
   "source": [
    "i380 = 1"
   ]
  },
  {
   "cell_type": "code",
   "execution_count": 48,
   "id": "ef8f7f34",
   "metadata": {
    "ExecuteTime": {
     "end_time": "2022-10-26T02:00:55.231811Z",
     "start_time": "2022-10-26T02:00:55.220264Z"
    }
   },
   "outputs": [
    {
     "data": {
      "text/plain": [
       "array([3.669654 +0.j, 3.6960685+0.j, 3.699946 +0.j, ..., 9.093417 +0.j,\n",
       "       9.093591 +0.j, 9.093591 +0.j], dtype=complex64)"
      ]
     },
     "execution_count": 48,
     "metadata": {},
     "output_type": "execute_result"
    }
   ],
   "source": [
    "s6['tau_aero_err5'][ig,i380]"
   ]
  },
  {
   "cell_type": "code",
   "execution_count": 49,
   "id": "6af50d07",
   "metadata": {
    "ExecuteTime": {
     "end_time": "2022-10-26T02:01:12.463549Z",
     "start_time": "2022-10-26T02:01:11.165485Z"
    }
   },
   "outputs": [
    {
     "data": {
      "application/javascript": [
       "/* Put everything inside the global mpl namespace */\n",
       "/* global mpl */\n",
       "window.mpl = {};\n",
       "\n",
       "mpl.get_websocket_type = function () {\n",
       "    if (typeof WebSocket !== 'undefined') {\n",
       "        return WebSocket;\n",
       "    } else if (typeof MozWebSocket !== 'undefined') {\n",
       "        return MozWebSocket;\n",
       "    } else {\n",
       "        alert(\n",
       "            'Your browser does not have WebSocket support. ' +\n",
       "                'Please try Chrome, Safari or Firefox ≥ 6. ' +\n",
       "                'Firefox 4 and 5 are also supported but you ' +\n",
       "                'have to enable WebSockets in about:config.'\n",
       "        );\n",
       "    }\n",
       "};\n",
       "\n",
       "mpl.figure = function (figure_id, websocket, ondownload, parent_element) {\n",
       "    this.id = figure_id;\n",
       "\n",
       "    this.ws = websocket;\n",
       "\n",
       "    this.supports_binary = this.ws.binaryType !== undefined;\n",
       "\n",
       "    if (!this.supports_binary) {\n",
       "        var warnings = document.getElementById('mpl-warnings');\n",
       "        if (warnings) {\n",
       "            warnings.style.display = 'block';\n",
       "            warnings.textContent =\n",
       "                'This browser does not support binary websocket messages. ' +\n",
       "                'Performance may be slow.';\n",
       "        }\n",
       "    }\n",
       "\n",
       "    this.imageObj = new Image();\n",
       "\n",
       "    this.context = undefined;\n",
       "    this.message = undefined;\n",
       "    this.canvas = undefined;\n",
       "    this.rubberband_canvas = undefined;\n",
       "    this.rubberband_context = undefined;\n",
       "    this.format_dropdown = undefined;\n",
       "\n",
       "    this.image_mode = 'full';\n",
       "\n",
       "    this.root = document.createElement('div');\n",
       "    this.root.setAttribute('style', 'display: inline-block');\n",
       "    this._root_extra_style(this.root);\n",
       "\n",
       "    parent_element.appendChild(this.root);\n",
       "\n",
       "    this._init_header(this);\n",
       "    this._init_canvas(this);\n",
       "    this._init_toolbar(this);\n",
       "\n",
       "    var fig = this;\n",
       "\n",
       "    this.waiting = false;\n",
       "\n",
       "    this.ws.onopen = function () {\n",
       "        fig.send_message('supports_binary', { value: fig.supports_binary });\n",
       "        fig.send_message('send_image_mode', {});\n",
       "        if (fig.ratio !== 1) {\n",
       "            fig.send_message('set_dpi_ratio', { dpi_ratio: fig.ratio });\n",
       "        }\n",
       "        fig.send_message('refresh', {});\n",
       "    };\n",
       "\n",
       "    this.imageObj.onload = function () {\n",
       "        if (fig.image_mode === 'full') {\n",
       "            // Full images could contain transparency (where diff images\n",
       "            // almost always do), so we need to clear the canvas so that\n",
       "            // there is no ghosting.\n",
       "            fig.context.clearRect(0, 0, fig.canvas.width, fig.canvas.height);\n",
       "        }\n",
       "        fig.context.drawImage(fig.imageObj, 0, 0);\n",
       "    };\n",
       "\n",
       "    this.imageObj.onunload = function () {\n",
       "        fig.ws.close();\n",
       "    };\n",
       "\n",
       "    this.ws.onmessage = this._make_on_message_function(this);\n",
       "\n",
       "    this.ondownload = ondownload;\n",
       "};\n",
       "\n",
       "mpl.figure.prototype._init_header = function () {\n",
       "    var titlebar = document.createElement('div');\n",
       "    titlebar.classList =\n",
       "        'ui-dialog-titlebar ui-widget-header ui-corner-all ui-helper-clearfix';\n",
       "    var titletext = document.createElement('div');\n",
       "    titletext.classList = 'ui-dialog-title';\n",
       "    titletext.setAttribute(\n",
       "        'style',\n",
       "        'width: 100%; text-align: center; padding: 3px;'\n",
       "    );\n",
       "    titlebar.appendChild(titletext);\n",
       "    this.root.appendChild(titlebar);\n",
       "    this.header = titletext;\n",
       "};\n",
       "\n",
       "mpl.figure.prototype._canvas_extra_style = function (_canvas_div) {};\n",
       "\n",
       "mpl.figure.prototype._root_extra_style = function (_canvas_div) {};\n",
       "\n",
       "mpl.figure.prototype._init_canvas = function () {\n",
       "    var fig = this;\n",
       "\n",
       "    var canvas_div = (this.canvas_div = document.createElement('div'));\n",
       "    canvas_div.setAttribute(\n",
       "        'style',\n",
       "        'border: 1px solid #ddd;' +\n",
       "            'box-sizing: content-box;' +\n",
       "            'clear: both;' +\n",
       "            'min-height: 1px;' +\n",
       "            'min-width: 1px;' +\n",
       "            'outline: 0;' +\n",
       "            'overflow: hidden;' +\n",
       "            'position: relative;' +\n",
       "            'resize: both;'\n",
       "    );\n",
       "\n",
       "    function on_keyboard_event_closure(name) {\n",
       "        return function (event) {\n",
       "            return fig.key_event(event, name);\n",
       "        };\n",
       "    }\n",
       "\n",
       "    canvas_div.addEventListener(\n",
       "        'keydown',\n",
       "        on_keyboard_event_closure('key_press')\n",
       "    );\n",
       "    canvas_div.addEventListener(\n",
       "        'keyup',\n",
       "        on_keyboard_event_closure('key_release')\n",
       "    );\n",
       "\n",
       "    this._canvas_extra_style(canvas_div);\n",
       "    this.root.appendChild(canvas_div);\n",
       "\n",
       "    var canvas = (this.canvas = document.createElement('canvas'));\n",
       "    canvas.classList.add('mpl-canvas');\n",
       "    canvas.setAttribute('style', 'box-sizing: content-box;');\n",
       "\n",
       "    this.context = canvas.getContext('2d');\n",
       "\n",
       "    var backingStore =\n",
       "        this.context.backingStorePixelRatio ||\n",
       "        this.context.webkitBackingStorePixelRatio ||\n",
       "        this.context.mozBackingStorePixelRatio ||\n",
       "        this.context.msBackingStorePixelRatio ||\n",
       "        this.context.oBackingStorePixelRatio ||\n",
       "        this.context.backingStorePixelRatio ||\n",
       "        1;\n",
       "\n",
       "    this.ratio = (window.devicePixelRatio || 1) / backingStore;\n",
       "\n",
       "    var rubberband_canvas = (this.rubberband_canvas = document.createElement(\n",
       "        'canvas'\n",
       "    ));\n",
       "    rubberband_canvas.setAttribute(\n",
       "        'style',\n",
       "        'box-sizing: content-box; position: absolute; left: 0; top: 0; z-index: 1;'\n",
       "    );\n",
       "\n",
       "    // Apply a ponyfill if ResizeObserver is not implemented by browser.\n",
       "    if (this.ResizeObserver === undefined) {\n",
       "        if (window.ResizeObserver !== undefined) {\n",
       "            this.ResizeObserver = window.ResizeObserver;\n",
       "        } else {\n",
       "            var obs = _JSXTOOLS_RESIZE_OBSERVER({});\n",
       "            this.ResizeObserver = obs.ResizeObserver;\n",
       "        }\n",
       "    }\n",
       "\n",
       "    this.resizeObserverInstance = new this.ResizeObserver(function (entries) {\n",
       "        var nentries = entries.length;\n",
       "        for (var i = 0; i < nentries; i++) {\n",
       "            var entry = entries[i];\n",
       "            var width, height;\n",
       "            if (entry.contentBoxSize) {\n",
       "                if (entry.contentBoxSize instanceof Array) {\n",
       "                    // Chrome 84 implements new version of spec.\n",
       "                    width = entry.contentBoxSize[0].inlineSize;\n",
       "                    height = entry.contentBoxSize[0].blockSize;\n",
       "                } else {\n",
       "                    // Firefox implements old version of spec.\n",
       "                    width = entry.contentBoxSize.inlineSize;\n",
       "                    height = entry.contentBoxSize.blockSize;\n",
       "                }\n",
       "            } else {\n",
       "                // Chrome <84 implements even older version of spec.\n",
       "                width = entry.contentRect.width;\n",
       "                height = entry.contentRect.height;\n",
       "            }\n",
       "\n",
       "            // Keep the size of the canvas and rubber band canvas in sync with\n",
       "            // the canvas container.\n",
       "            if (entry.devicePixelContentBoxSize) {\n",
       "                // Chrome 84 implements new version of spec.\n",
       "                canvas.setAttribute(\n",
       "                    'width',\n",
       "                    entry.devicePixelContentBoxSize[0].inlineSize\n",
       "                );\n",
       "                canvas.setAttribute(\n",
       "                    'height',\n",
       "                    entry.devicePixelContentBoxSize[0].blockSize\n",
       "                );\n",
       "            } else {\n",
       "                canvas.setAttribute('width', width * fig.ratio);\n",
       "                canvas.setAttribute('height', height * fig.ratio);\n",
       "            }\n",
       "            canvas.setAttribute(\n",
       "                'style',\n",
       "                'width: ' + width + 'px; height: ' + height + 'px;'\n",
       "            );\n",
       "\n",
       "            rubberband_canvas.setAttribute('width', width);\n",
       "            rubberband_canvas.setAttribute('height', height);\n",
       "\n",
       "            // And update the size in Python. We ignore the initial 0/0 size\n",
       "            // that occurs as the element is placed into the DOM, which should\n",
       "            // otherwise not happen due to the minimum size styling.\n",
       "            if (fig.ws.readyState == 1 && width != 0 && height != 0) {\n",
       "                fig.request_resize(width, height);\n",
       "            }\n",
       "        }\n",
       "    });\n",
       "    this.resizeObserverInstance.observe(canvas_div);\n",
       "\n",
       "    function on_mouse_event_closure(name) {\n",
       "        return function (event) {\n",
       "            return fig.mouse_event(event, name);\n",
       "        };\n",
       "    }\n",
       "\n",
       "    rubberband_canvas.addEventListener(\n",
       "        'mousedown',\n",
       "        on_mouse_event_closure('button_press')\n",
       "    );\n",
       "    rubberband_canvas.addEventListener(\n",
       "        'mouseup',\n",
       "        on_mouse_event_closure('button_release')\n",
       "    );\n",
       "    rubberband_canvas.addEventListener(\n",
       "        'dblclick',\n",
       "        on_mouse_event_closure('dblclick')\n",
       "    );\n",
       "    // Throttle sequential mouse events to 1 every 20ms.\n",
       "    rubberband_canvas.addEventListener(\n",
       "        'mousemove',\n",
       "        on_mouse_event_closure('motion_notify')\n",
       "    );\n",
       "\n",
       "    rubberband_canvas.addEventListener(\n",
       "        'mouseenter',\n",
       "        on_mouse_event_closure('figure_enter')\n",
       "    );\n",
       "    rubberband_canvas.addEventListener(\n",
       "        'mouseleave',\n",
       "        on_mouse_event_closure('figure_leave')\n",
       "    );\n",
       "\n",
       "    canvas_div.addEventListener('wheel', function (event) {\n",
       "        if (event.deltaY < 0) {\n",
       "            event.step = 1;\n",
       "        } else {\n",
       "            event.step = -1;\n",
       "        }\n",
       "        on_mouse_event_closure('scroll')(event);\n",
       "    });\n",
       "\n",
       "    canvas_div.appendChild(canvas);\n",
       "    canvas_div.appendChild(rubberband_canvas);\n",
       "\n",
       "    this.rubberband_context = rubberband_canvas.getContext('2d');\n",
       "    this.rubberband_context.strokeStyle = '#000000';\n",
       "\n",
       "    this._resize_canvas = function (width, height, forward) {\n",
       "        if (forward) {\n",
       "            canvas_div.style.width = width + 'px';\n",
       "            canvas_div.style.height = height + 'px';\n",
       "        }\n",
       "    };\n",
       "\n",
       "    // Disable right mouse context menu.\n",
       "    this.rubberband_canvas.addEventListener('contextmenu', function (_e) {\n",
       "        event.preventDefault();\n",
       "        return false;\n",
       "    });\n",
       "\n",
       "    function set_focus() {\n",
       "        canvas.focus();\n",
       "        canvas_div.focus();\n",
       "    }\n",
       "\n",
       "    window.setTimeout(set_focus, 100);\n",
       "};\n",
       "\n",
       "mpl.figure.prototype._init_toolbar = function () {\n",
       "    var fig = this;\n",
       "\n",
       "    var toolbar = document.createElement('div');\n",
       "    toolbar.classList = 'mpl-toolbar';\n",
       "    this.root.appendChild(toolbar);\n",
       "\n",
       "    function on_click_closure(name) {\n",
       "        return function (_event) {\n",
       "            return fig.toolbar_button_onclick(name);\n",
       "        };\n",
       "    }\n",
       "\n",
       "    function on_mouseover_closure(tooltip) {\n",
       "        return function (event) {\n",
       "            if (!event.currentTarget.disabled) {\n",
       "                return fig.toolbar_button_onmouseover(tooltip);\n",
       "            }\n",
       "        };\n",
       "    }\n",
       "\n",
       "    fig.buttons = {};\n",
       "    var buttonGroup = document.createElement('div');\n",
       "    buttonGroup.classList = 'mpl-button-group';\n",
       "    for (var toolbar_ind in mpl.toolbar_items) {\n",
       "        var name = mpl.toolbar_items[toolbar_ind][0];\n",
       "        var tooltip = mpl.toolbar_items[toolbar_ind][1];\n",
       "        var image = mpl.toolbar_items[toolbar_ind][2];\n",
       "        var method_name = mpl.toolbar_items[toolbar_ind][3];\n",
       "\n",
       "        if (!name) {\n",
       "            /* Instead of a spacer, we start a new button group. */\n",
       "            if (buttonGroup.hasChildNodes()) {\n",
       "                toolbar.appendChild(buttonGroup);\n",
       "            }\n",
       "            buttonGroup = document.createElement('div');\n",
       "            buttonGroup.classList = 'mpl-button-group';\n",
       "            continue;\n",
       "        }\n",
       "\n",
       "        var button = (fig.buttons[name] = document.createElement('button'));\n",
       "        button.classList = 'mpl-widget';\n",
       "        button.setAttribute('role', 'button');\n",
       "        button.setAttribute('aria-disabled', 'false');\n",
       "        button.addEventListener('click', on_click_closure(method_name));\n",
       "        button.addEventListener('mouseover', on_mouseover_closure(tooltip));\n",
       "\n",
       "        var icon_img = document.createElement('img');\n",
       "        icon_img.src = '_images/' + image + '.png';\n",
       "        icon_img.srcset = '_images/' + image + '_large.png 2x';\n",
       "        icon_img.alt = tooltip;\n",
       "        button.appendChild(icon_img);\n",
       "\n",
       "        buttonGroup.appendChild(button);\n",
       "    }\n",
       "\n",
       "    if (buttonGroup.hasChildNodes()) {\n",
       "        toolbar.appendChild(buttonGroup);\n",
       "    }\n",
       "\n",
       "    var fmt_picker = document.createElement('select');\n",
       "    fmt_picker.classList = 'mpl-widget';\n",
       "    toolbar.appendChild(fmt_picker);\n",
       "    this.format_dropdown = fmt_picker;\n",
       "\n",
       "    for (var ind in mpl.extensions) {\n",
       "        var fmt = mpl.extensions[ind];\n",
       "        var option = document.createElement('option');\n",
       "        option.selected = fmt === mpl.default_extension;\n",
       "        option.innerHTML = fmt;\n",
       "        fmt_picker.appendChild(option);\n",
       "    }\n",
       "\n",
       "    var status_bar = document.createElement('span');\n",
       "    status_bar.classList = 'mpl-message';\n",
       "    toolbar.appendChild(status_bar);\n",
       "    this.message = status_bar;\n",
       "};\n",
       "\n",
       "mpl.figure.prototype.request_resize = function (x_pixels, y_pixels) {\n",
       "    // Request matplotlib to resize the figure. Matplotlib will then trigger a resize in the client,\n",
       "    // which will in turn request a refresh of the image.\n",
       "    this.send_message('resize', { width: x_pixels, height: y_pixels });\n",
       "};\n",
       "\n",
       "mpl.figure.prototype.send_message = function (type, properties) {\n",
       "    properties['type'] = type;\n",
       "    properties['figure_id'] = this.id;\n",
       "    this.ws.send(JSON.stringify(properties));\n",
       "};\n",
       "\n",
       "mpl.figure.prototype.send_draw_message = function () {\n",
       "    if (!this.waiting) {\n",
       "        this.waiting = true;\n",
       "        this.ws.send(JSON.stringify({ type: 'draw', figure_id: this.id }));\n",
       "    }\n",
       "};\n",
       "\n",
       "mpl.figure.prototype.handle_save = function (fig, _msg) {\n",
       "    var format_dropdown = fig.format_dropdown;\n",
       "    var format = format_dropdown.options[format_dropdown.selectedIndex].value;\n",
       "    fig.ondownload(fig, format);\n",
       "};\n",
       "\n",
       "mpl.figure.prototype.handle_resize = function (fig, msg) {\n",
       "    var size = msg['size'];\n",
       "    if (size[0] !== fig.canvas.width || size[1] !== fig.canvas.height) {\n",
       "        fig._resize_canvas(size[0], size[1], msg['forward']);\n",
       "        fig.send_message('refresh', {});\n",
       "    }\n",
       "};\n",
       "\n",
       "mpl.figure.prototype.handle_rubberband = function (fig, msg) {\n",
       "    var x0 = msg['x0'] / fig.ratio;\n",
       "    var y0 = (fig.canvas.height - msg['y0']) / fig.ratio;\n",
       "    var x1 = msg['x1'] / fig.ratio;\n",
       "    var y1 = (fig.canvas.height - msg['y1']) / fig.ratio;\n",
       "    x0 = Math.floor(x0) + 0.5;\n",
       "    y0 = Math.floor(y0) + 0.5;\n",
       "    x1 = Math.floor(x1) + 0.5;\n",
       "    y1 = Math.floor(y1) + 0.5;\n",
       "    var min_x = Math.min(x0, x1);\n",
       "    var min_y = Math.min(y0, y1);\n",
       "    var width = Math.abs(x1 - x0);\n",
       "    var height = Math.abs(y1 - y0);\n",
       "\n",
       "    fig.rubberband_context.clearRect(\n",
       "        0,\n",
       "        0,\n",
       "        fig.canvas.width / fig.ratio,\n",
       "        fig.canvas.height / fig.ratio\n",
       "    );\n",
       "\n",
       "    fig.rubberband_context.strokeRect(min_x, min_y, width, height);\n",
       "};\n",
       "\n",
       "mpl.figure.prototype.handle_figure_label = function (fig, msg) {\n",
       "    // Updates the figure title.\n",
       "    fig.header.textContent = msg['label'];\n",
       "};\n",
       "\n",
       "mpl.figure.prototype.handle_cursor = function (fig, msg) {\n",
       "    var cursor = msg['cursor'];\n",
       "    switch (cursor) {\n",
       "        case 0:\n",
       "            cursor = 'pointer';\n",
       "            break;\n",
       "        case 1:\n",
       "            cursor = 'default';\n",
       "            break;\n",
       "        case 2:\n",
       "            cursor = 'crosshair';\n",
       "            break;\n",
       "        case 3:\n",
       "            cursor = 'move';\n",
       "            break;\n",
       "    }\n",
       "    fig.rubberband_canvas.style.cursor = cursor;\n",
       "};\n",
       "\n",
       "mpl.figure.prototype.handle_message = function (fig, msg) {\n",
       "    fig.message.textContent = msg['message'];\n",
       "};\n",
       "\n",
       "mpl.figure.prototype.handle_draw = function (fig, _msg) {\n",
       "    // Request the server to send over a new figure.\n",
       "    fig.send_draw_message();\n",
       "};\n",
       "\n",
       "mpl.figure.prototype.handle_image_mode = function (fig, msg) {\n",
       "    fig.image_mode = msg['mode'];\n",
       "};\n",
       "\n",
       "mpl.figure.prototype.handle_history_buttons = function (fig, msg) {\n",
       "    for (var key in msg) {\n",
       "        if (!(key in fig.buttons)) {\n",
       "            continue;\n",
       "        }\n",
       "        fig.buttons[key].disabled = !msg[key];\n",
       "        fig.buttons[key].setAttribute('aria-disabled', !msg[key]);\n",
       "    }\n",
       "};\n",
       "\n",
       "mpl.figure.prototype.handle_navigate_mode = function (fig, msg) {\n",
       "    if (msg['mode'] === 'PAN') {\n",
       "        fig.buttons['Pan'].classList.add('active');\n",
       "        fig.buttons['Zoom'].classList.remove('active');\n",
       "    } else if (msg['mode'] === 'ZOOM') {\n",
       "        fig.buttons['Pan'].classList.remove('active');\n",
       "        fig.buttons['Zoom'].classList.add('active');\n",
       "    } else {\n",
       "        fig.buttons['Pan'].classList.remove('active');\n",
       "        fig.buttons['Zoom'].classList.remove('active');\n",
       "    }\n",
       "};\n",
       "\n",
       "mpl.figure.prototype.updated_canvas_event = function () {\n",
       "    // Called whenever the canvas gets updated.\n",
       "    this.send_message('ack', {});\n",
       "};\n",
       "\n",
       "// A function to construct a web socket function for onmessage handling.\n",
       "// Called in the figure constructor.\n",
       "mpl.figure.prototype._make_on_message_function = function (fig) {\n",
       "    return function socket_on_message(evt) {\n",
       "        if (evt.data instanceof Blob) {\n",
       "            var img = evt.data;\n",
       "            if (img.type !== 'image/png') {\n",
       "                /* FIXME: We get \"Resource interpreted as Image but\n",
       "                 * transferred with MIME type text/plain:\" errors on\n",
       "                 * Chrome.  But how to set the MIME type?  It doesn't seem\n",
       "                 * to be part of the websocket stream */\n",
       "                img.type = 'image/png';\n",
       "            }\n",
       "\n",
       "            /* Free the memory for the previous frames */\n",
       "            if (fig.imageObj.src) {\n",
       "                (window.URL || window.webkitURL).revokeObjectURL(\n",
       "                    fig.imageObj.src\n",
       "                );\n",
       "            }\n",
       "\n",
       "            fig.imageObj.src = (window.URL || window.webkitURL).createObjectURL(\n",
       "                img\n",
       "            );\n",
       "            fig.updated_canvas_event();\n",
       "            fig.waiting = false;\n",
       "            return;\n",
       "        } else if (\n",
       "            typeof evt.data === 'string' &&\n",
       "            evt.data.slice(0, 21) === 'data:image/png;base64'\n",
       "        ) {\n",
       "            fig.imageObj.src = evt.data;\n",
       "            fig.updated_canvas_event();\n",
       "            fig.waiting = false;\n",
       "            return;\n",
       "        }\n",
       "\n",
       "        var msg = JSON.parse(evt.data);\n",
       "        var msg_type = msg['type'];\n",
       "\n",
       "        // Call the  \"handle_{type}\" callback, which takes\n",
       "        // the figure and JSON message as its only arguments.\n",
       "        try {\n",
       "            var callback = fig['handle_' + msg_type];\n",
       "        } catch (e) {\n",
       "            console.log(\n",
       "                \"No handler for the '\" + msg_type + \"' message type: \",\n",
       "                msg\n",
       "            );\n",
       "            return;\n",
       "        }\n",
       "\n",
       "        if (callback) {\n",
       "            try {\n",
       "                // console.log(\"Handling '\" + msg_type + \"' message: \", msg);\n",
       "                callback(fig, msg);\n",
       "            } catch (e) {\n",
       "                console.log(\n",
       "                    \"Exception inside the 'handler_\" + msg_type + \"' callback:\",\n",
       "                    e,\n",
       "                    e.stack,\n",
       "                    msg\n",
       "                );\n",
       "            }\n",
       "        }\n",
       "    };\n",
       "};\n",
       "\n",
       "// from http://stackoverflow.com/questions/1114465/getting-mouse-location-in-canvas\n",
       "mpl.findpos = function (e) {\n",
       "    //this section is from http://www.quirksmode.org/js/events_properties.html\n",
       "    var targ;\n",
       "    if (!e) {\n",
       "        e = window.event;\n",
       "    }\n",
       "    if (e.target) {\n",
       "        targ = e.target;\n",
       "    } else if (e.srcElement) {\n",
       "        targ = e.srcElement;\n",
       "    }\n",
       "    if (targ.nodeType === 3) {\n",
       "        // defeat Safari bug\n",
       "        targ = targ.parentNode;\n",
       "    }\n",
       "\n",
       "    // pageX,Y are the mouse positions relative to the document\n",
       "    var boundingRect = targ.getBoundingClientRect();\n",
       "    var x = e.pageX - (boundingRect.left + document.body.scrollLeft);\n",
       "    var y = e.pageY - (boundingRect.top + document.body.scrollTop);\n",
       "\n",
       "    return { x: x, y: y };\n",
       "};\n",
       "\n",
       "/*\n",
       " * return a copy of an object with only non-object keys\n",
       " * we need this to avoid circular references\n",
       " * http://stackoverflow.com/a/24161582/3208463\n",
       " */\n",
       "function simpleKeys(original) {\n",
       "    return Object.keys(original).reduce(function (obj, key) {\n",
       "        if (typeof original[key] !== 'object') {\n",
       "            obj[key] = original[key];\n",
       "        }\n",
       "        return obj;\n",
       "    }, {});\n",
       "}\n",
       "\n",
       "mpl.figure.prototype.mouse_event = function (event, name) {\n",
       "    var canvas_pos = mpl.findpos(event);\n",
       "\n",
       "    if (name === 'button_press') {\n",
       "        this.canvas.focus();\n",
       "        this.canvas_div.focus();\n",
       "    }\n",
       "\n",
       "    var x = canvas_pos.x * this.ratio;\n",
       "    var y = canvas_pos.y * this.ratio;\n",
       "\n",
       "    this.send_message(name, {\n",
       "        x: x,\n",
       "        y: y,\n",
       "        button: event.button,\n",
       "        step: event.step,\n",
       "        guiEvent: simpleKeys(event),\n",
       "    });\n",
       "\n",
       "    /* This prevents the web browser from automatically changing to\n",
       "     * the text insertion cursor when the button is pressed.  We want\n",
       "     * to control all of the cursor setting manually through the\n",
       "     * 'cursor' event from matplotlib */\n",
       "    event.preventDefault();\n",
       "    return false;\n",
       "};\n",
       "\n",
       "mpl.figure.prototype._key_event_extra = function (_event, _name) {\n",
       "    // Handle any extra behaviour associated with a key event\n",
       "};\n",
       "\n",
       "mpl.figure.prototype.key_event = function (event, name) {\n",
       "    // Prevent repeat events\n",
       "    if (name === 'key_press') {\n",
       "        if (event.key === this._key) {\n",
       "            return;\n",
       "        } else {\n",
       "            this._key = event.key;\n",
       "        }\n",
       "    }\n",
       "    if (name === 'key_release') {\n",
       "        this._key = null;\n",
       "    }\n",
       "\n",
       "    var value = '';\n",
       "    if (event.ctrlKey && event.key !== 'Control') {\n",
       "        value += 'ctrl+';\n",
       "    }\n",
       "    else if (event.altKey && event.key !== 'Alt') {\n",
       "        value += 'alt+';\n",
       "    }\n",
       "    else if (event.shiftKey && event.key !== 'Shift') {\n",
       "        value += 'shift+';\n",
       "    }\n",
       "\n",
       "    value += 'k' + event.key;\n",
       "\n",
       "    this._key_event_extra(event, name);\n",
       "\n",
       "    this.send_message(name, { key: value, guiEvent: simpleKeys(event) });\n",
       "    return false;\n",
       "};\n",
       "\n",
       "mpl.figure.prototype.toolbar_button_onclick = function (name) {\n",
       "    if (name === 'download') {\n",
       "        this.handle_save(this, null);\n",
       "    } else {\n",
       "        this.send_message('toolbar_button', { name: name });\n",
       "    }\n",
       "};\n",
       "\n",
       "mpl.figure.prototype.toolbar_button_onmouseover = function (tooltip) {\n",
       "    this.message.textContent = tooltip;\n",
       "};\n",
       "\n",
       "///////////////// REMAINING CONTENT GENERATED BY embed_js.py /////////////////\n",
       "// prettier-ignore\n",
       "var _JSXTOOLS_RESIZE_OBSERVER=function(A){var t,i=new WeakMap,n=new WeakMap,a=new WeakMap,r=new WeakMap,o=new Set;function s(e){if(!(this instanceof s))throw new TypeError(\"Constructor requires 'new' operator\");i.set(this,e)}function h(){throw new TypeError(\"Function is not a constructor\")}function c(e,t,i,n){e=0 in arguments?Number(arguments[0]):0,t=1 in arguments?Number(arguments[1]):0,i=2 in arguments?Number(arguments[2]):0,n=3 in arguments?Number(arguments[3]):0,this.right=(this.x=this.left=e)+(this.width=i),this.bottom=(this.y=this.top=t)+(this.height=n),Object.freeze(this)}function d(){t=requestAnimationFrame(d);var s=new WeakMap,p=new Set;o.forEach((function(t){r.get(t).forEach((function(i){var r=t instanceof window.SVGElement,o=a.get(t),d=r?0:parseFloat(o.paddingTop),f=r?0:parseFloat(o.paddingRight),l=r?0:parseFloat(o.paddingBottom),u=r?0:parseFloat(o.paddingLeft),g=r?0:parseFloat(o.borderTopWidth),m=r?0:parseFloat(o.borderRightWidth),w=r?0:parseFloat(o.borderBottomWidth),b=u+f,F=d+l,v=(r?0:parseFloat(o.borderLeftWidth))+m,W=g+w,y=r?0:t.offsetHeight-W-t.clientHeight,E=r?0:t.offsetWidth-v-t.clientWidth,R=b+v,z=F+W,M=r?t.width:parseFloat(o.width)-R-E,O=r?t.height:parseFloat(o.height)-z-y;if(n.has(t)){var k=n.get(t);if(k[0]===M&&k[1]===O)return}n.set(t,[M,O]);var S=Object.create(h.prototype);S.target=t,S.contentRect=new c(u,d,M,O),s.has(i)||(s.set(i,[]),p.add(i)),s.get(i).push(S)}))})),p.forEach((function(e){i.get(e).call(e,s.get(e),e)}))}return s.prototype.observe=function(i){if(i instanceof window.Element){r.has(i)||(r.set(i,new Set),o.add(i),a.set(i,window.getComputedStyle(i)));var n=r.get(i);n.has(this)||n.add(this),cancelAnimationFrame(t),t=requestAnimationFrame(d)}},s.prototype.unobserve=function(i){if(i instanceof window.Element&&r.has(i)){var n=r.get(i);n.has(this)&&(n.delete(this),n.size||(r.delete(i),o.delete(i))),n.size||r.delete(i),o.size||cancelAnimationFrame(t)}},A.DOMRectReadOnly=c,A.ResizeObserver=s,A.ResizeObserverEntry=h,A}; // eslint-disable-line\n",
       "mpl.toolbar_items = [[\"Home\", \"Reset original view\", \"fa fa-home icon-home\", \"home\"], [\"Back\", \"Back to previous view\", \"fa fa-arrow-left icon-arrow-left\", \"back\"], [\"Forward\", \"Forward to next view\", \"fa fa-arrow-right icon-arrow-right\", \"forward\"], [\"\", \"\", \"\", \"\"], [\"Pan\", \"Left button pans, Right button zooms\\nx/y fixes axis, CTRL fixes aspect\", \"fa fa-arrows icon-move\", \"pan\"], [\"Zoom\", \"Zoom to rectangle\\nx/y fixes axis, CTRL fixes aspect\", \"fa fa-square-o icon-check-empty\", \"zoom\"], [\"\", \"\", \"\", \"\"], [\"Download\", \"Download plot\", \"fa fa-floppy-o icon-save\", \"download\"]];\n",
       "\n",
       "mpl.extensions = [\"eps\", \"jpeg\", \"pgf\", \"pdf\", \"png\", \"ps\", \"raw\", \"svg\", \"tif\"];\n",
       "\n",
       "mpl.default_extension = \"png\";/* global mpl */\n",
       "\n",
       "var comm_websocket_adapter = function (comm) {\n",
       "    // Create a \"websocket\"-like object which calls the given IPython comm\n",
       "    // object with the appropriate methods. Currently this is a non binary\n",
       "    // socket, so there is still some room for performance tuning.\n",
       "    var ws = {};\n",
       "\n",
       "    ws.binaryType = comm.kernel.ws.binaryType;\n",
       "    ws.readyState = comm.kernel.ws.readyState;\n",
       "    function updateReadyState(_event) {\n",
       "        if (comm.kernel.ws) {\n",
       "            ws.readyState = comm.kernel.ws.readyState;\n",
       "        } else {\n",
       "            ws.readyState = 3; // Closed state.\n",
       "        }\n",
       "    }\n",
       "    comm.kernel.ws.addEventListener('open', updateReadyState);\n",
       "    comm.kernel.ws.addEventListener('close', updateReadyState);\n",
       "    comm.kernel.ws.addEventListener('error', updateReadyState);\n",
       "\n",
       "    ws.close = function () {\n",
       "        comm.close();\n",
       "    };\n",
       "    ws.send = function (m) {\n",
       "        //console.log('sending', m);\n",
       "        comm.send(m);\n",
       "    };\n",
       "    // Register the callback with on_msg.\n",
       "    comm.on_msg(function (msg) {\n",
       "        //console.log('receiving', msg['content']['data'], msg);\n",
       "        var data = msg['content']['data'];\n",
       "        if (data['blob'] !== undefined) {\n",
       "            data = {\n",
       "                data: new Blob(msg['buffers'], { type: data['blob'] }),\n",
       "            };\n",
       "        }\n",
       "        // Pass the mpl event to the overridden (by mpl) onmessage function.\n",
       "        ws.onmessage(data);\n",
       "    });\n",
       "    return ws;\n",
       "};\n",
       "\n",
       "mpl.mpl_figure_comm = function (comm, msg) {\n",
       "    // This is the function which gets called when the mpl process\n",
       "    // starts-up an IPython Comm through the \"matplotlib\" channel.\n",
       "\n",
       "    var id = msg.content.data.id;\n",
       "    // Get hold of the div created by the display call when the Comm\n",
       "    // socket was opened in Python.\n",
       "    var element = document.getElementById(id);\n",
       "    var ws_proxy = comm_websocket_adapter(comm);\n",
       "\n",
       "    function ondownload(figure, _format) {\n",
       "        window.open(figure.canvas.toDataURL());\n",
       "    }\n",
       "\n",
       "    var fig = new mpl.figure(id, ws_proxy, ondownload, element);\n",
       "\n",
       "    // Call onopen now - mpl needs it, as it is assuming we've passed it a real\n",
       "    // web socket which is closed, not our websocket->open comm proxy.\n",
       "    ws_proxy.onopen();\n",
       "\n",
       "    fig.parent_element = element;\n",
       "    fig.cell_info = mpl.find_output_cell(\"<div id='\" + id + \"'></div>\");\n",
       "    if (!fig.cell_info) {\n",
       "        console.error('Failed to find cell for figure', id, fig);\n",
       "        return;\n",
       "    }\n",
       "    fig.cell_info[0].output_area.element.on(\n",
       "        'cleared',\n",
       "        { fig: fig },\n",
       "        fig._remove_fig_handler\n",
       "    );\n",
       "};\n",
       "\n",
       "mpl.figure.prototype.handle_close = function (fig, msg) {\n",
       "    var width = fig.canvas.width / fig.ratio;\n",
       "    fig.cell_info[0].output_area.element.off(\n",
       "        'cleared',\n",
       "        fig._remove_fig_handler\n",
       "    );\n",
       "    fig.resizeObserverInstance.unobserve(fig.canvas_div);\n",
       "\n",
       "    // Update the output cell to use the data from the current canvas.\n",
       "    fig.push_to_output();\n",
       "    var dataURL = fig.canvas.toDataURL();\n",
       "    // Re-enable the keyboard manager in IPython - without this line, in FF,\n",
       "    // the notebook keyboard shortcuts fail.\n",
       "    IPython.keyboard_manager.enable();\n",
       "    fig.parent_element.innerHTML =\n",
       "        '<img src=\"' + dataURL + '\" width=\"' + width + '\">';\n",
       "    fig.close_ws(fig, msg);\n",
       "};\n",
       "\n",
       "mpl.figure.prototype.close_ws = function (fig, msg) {\n",
       "    fig.send_message('closing', msg);\n",
       "    // fig.ws.close()\n",
       "};\n",
       "\n",
       "mpl.figure.prototype.push_to_output = function (_remove_interactive) {\n",
       "    // Turn the data on the canvas into data in the output cell.\n",
       "    var width = this.canvas.width / this.ratio;\n",
       "    var dataURL = this.canvas.toDataURL();\n",
       "    this.cell_info[1]['text/html'] =\n",
       "        '<img src=\"' + dataURL + '\" width=\"' + width + '\">';\n",
       "};\n",
       "\n",
       "mpl.figure.prototype.updated_canvas_event = function () {\n",
       "    // Tell IPython that the notebook contents must change.\n",
       "    IPython.notebook.set_dirty(true);\n",
       "    this.send_message('ack', {});\n",
       "    var fig = this;\n",
       "    // Wait a second, then push the new image to the DOM so\n",
       "    // that it is saved nicely (might be nice to debounce this).\n",
       "    setTimeout(function () {\n",
       "        fig.push_to_output();\n",
       "    }, 1000);\n",
       "};\n",
       "\n",
       "mpl.figure.prototype._init_toolbar = function () {\n",
       "    var fig = this;\n",
       "\n",
       "    var toolbar = document.createElement('div');\n",
       "    toolbar.classList = 'btn-toolbar';\n",
       "    this.root.appendChild(toolbar);\n",
       "\n",
       "    function on_click_closure(name) {\n",
       "        return function (_event) {\n",
       "            return fig.toolbar_button_onclick(name);\n",
       "        };\n",
       "    }\n",
       "\n",
       "    function on_mouseover_closure(tooltip) {\n",
       "        return function (event) {\n",
       "            if (!event.currentTarget.disabled) {\n",
       "                return fig.toolbar_button_onmouseover(tooltip);\n",
       "            }\n",
       "        };\n",
       "    }\n",
       "\n",
       "    fig.buttons = {};\n",
       "    var buttonGroup = document.createElement('div');\n",
       "    buttonGroup.classList = 'btn-group';\n",
       "    var button;\n",
       "    for (var toolbar_ind in mpl.toolbar_items) {\n",
       "        var name = mpl.toolbar_items[toolbar_ind][0];\n",
       "        var tooltip = mpl.toolbar_items[toolbar_ind][1];\n",
       "        var image = mpl.toolbar_items[toolbar_ind][2];\n",
       "        var method_name = mpl.toolbar_items[toolbar_ind][3];\n",
       "\n",
       "        if (!name) {\n",
       "            /* Instead of a spacer, we start a new button group. */\n",
       "            if (buttonGroup.hasChildNodes()) {\n",
       "                toolbar.appendChild(buttonGroup);\n",
       "            }\n",
       "            buttonGroup = document.createElement('div');\n",
       "            buttonGroup.classList = 'btn-group';\n",
       "            continue;\n",
       "        }\n",
       "\n",
       "        button = fig.buttons[name] = document.createElement('button');\n",
       "        button.classList = 'btn btn-default';\n",
       "        button.href = '#';\n",
       "        button.title = name;\n",
       "        button.innerHTML = '<i class=\"fa ' + image + ' fa-lg\"></i>';\n",
       "        button.addEventListener('click', on_click_closure(method_name));\n",
       "        button.addEventListener('mouseover', on_mouseover_closure(tooltip));\n",
       "        buttonGroup.appendChild(button);\n",
       "    }\n",
       "\n",
       "    if (buttonGroup.hasChildNodes()) {\n",
       "        toolbar.appendChild(buttonGroup);\n",
       "    }\n",
       "\n",
       "    // Add the status bar.\n",
       "    var status_bar = document.createElement('span');\n",
       "    status_bar.classList = 'mpl-message pull-right';\n",
       "    toolbar.appendChild(status_bar);\n",
       "    this.message = status_bar;\n",
       "\n",
       "    // Add the close button to the window.\n",
       "    var buttongrp = document.createElement('div');\n",
       "    buttongrp.classList = 'btn-group inline pull-right';\n",
       "    button = document.createElement('button');\n",
       "    button.classList = 'btn btn-mini btn-primary';\n",
       "    button.href = '#';\n",
       "    button.title = 'Stop Interaction';\n",
       "    button.innerHTML = '<i class=\"fa fa-power-off icon-remove icon-large\"></i>';\n",
       "    button.addEventListener('click', function (_evt) {\n",
       "        fig.handle_close(fig, {});\n",
       "    });\n",
       "    button.addEventListener(\n",
       "        'mouseover',\n",
       "        on_mouseover_closure('Stop Interaction')\n",
       "    );\n",
       "    buttongrp.appendChild(button);\n",
       "    var titlebar = this.root.querySelector('.ui-dialog-titlebar');\n",
       "    titlebar.insertBefore(buttongrp, titlebar.firstChild);\n",
       "};\n",
       "\n",
       "mpl.figure.prototype._remove_fig_handler = function (event) {\n",
       "    var fig = event.data.fig;\n",
       "    if (event.target !== this) {\n",
       "        // Ignore bubbled events from children.\n",
       "        return;\n",
       "    }\n",
       "    fig.close_ws(fig, {});\n",
       "};\n",
       "\n",
       "mpl.figure.prototype._root_extra_style = function (el) {\n",
       "    el.style.boxSizing = 'content-box'; // override notebook setting of border-box.\n",
       "};\n",
       "\n",
       "mpl.figure.prototype._canvas_extra_style = function (el) {\n",
       "    // this is important to make the div 'focusable\n",
       "    el.setAttribute('tabindex', 0);\n",
       "    // reach out to IPython and tell the keyboard manager to turn it's self\n",
       "    // off when our div gets focus\n",
       "\n",
       "    // location in version 3\n",
       "    if (IPython.notebook.keyboard_manager) {\n",
       "        IPython.notebook.keyboard_manager.register_events(el);\n",
       "    } else {\n",
       "        // location in version 2\n",
       "        IPython.keyboard_manager.register_events(el);\n",
       "    }\n",
       "};\n",
       "\n",
       "mpl.figure.prototype._key_event_extra = function (event, _name) {\n",
       "    var manager = IPython.notebook.keyboard_manager;\n",
       "    if (!manager) {\n",
       "        manager = IPython.keyboard_manager;\n",
       "    }\n",
       "\n",
       "    // Check for shift+enter\n",
       "    if (event.shiftKey && event.which === 13) {\n",
       "        this.canvas_div.blur();\n",
       "        // select the cell after this one\n",
       "        var index = IPython.notebook.find_cell_index(this.cell_info[0]);\n",
       "        IPython.notebook.select(index + 1);\n",
       "    }\n",
       "};\n",
       "\n",
       "mpl.figure.prototype.handle_save = function (fig, _msg) {\n",
       "    fig.ondownload(fig, null);\n",
       "};\n",
       "\n",
       "mpl.find_output_cell = function (html_output) {\n",
       "    // Return the cell and output element which can be found *uniquely* in the notebook.\n",
       "    // Note - this is a bit hacky, but it is done because the \"notebook_saving.Notebook\"\n",
       "    // IPython event is triggered only after the cells have been serialised, which for\n",
       "    // our purposes (turning an active figure into a static one), is too late.\n",
       "    var cells = IPython.notebook.get_cells();\n",
       "    var ncells = cells.length;\n",
       "    for (var i = 0; i < ncells; i++) {\n",
       "        var cell = cells[i];\n",
       "        if (cell.cell_type === 'code') {\n",
       "            for (var j = 0; j < cell.output_area.outputs.length; j++) {\n",
       "                var data = cell.output_area.outputs[j];\n",
       "                if (data.data) {\n",
       "                    // IPython >= 3 moved mimebundle to data attribute of output\n",
       "                    data = data.data;\n",
       "                }\n",
       "                if (data['text/html'] === html_output) {\n",
       "                    return [cell, data, j];\n",
       "                }\n",
       "            }\n",
       "        }\n",
       "    }\n",
       "};\n",
       "\n",
       "// Register the function which deals with the matplotlib target/channel.\n",
       "// The kernel may be null if the page has been refreshed.\n",
       "if (IPython.notebook.kernel !== null) {\n",
       "    IPython.notebook.kernel.comm_manager.register_target(\n",
       "        'matplotlib',\n",
       "        mpl.mpl_figure_comm\n",
       "    );\n",
       "}\n"
      ],
      "text/plain": [
       "<IPython.core.display.Javascript object>"
      ]
     },
     "metadata": {},
     "output_type": "display_data"
    },
    {
     "data": {
      "text/html": [
       "<img src=\"data:image/png;base64,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\" width=\"999.99994220156\">"
      ],
      "text/plain": [
       "<IPython.core.display.HTML object>"
      ]
     },
     "metadata": {},
     "output_type": "display_data"
    },
    {
     "name": "stderr",
     "output_type": "stream",
     "text": [
      "<ipython-input-49-f4f882ac681f>:7: ComplexWarning: Casting complex values to real discards the imaginary part\n",
      "  sss = s6[lbl][ig,i380].astype(float)\n",
      "<ipython-input-49-f4f882ac681f>:11: RuntimeWarning: Mean of empty slice\n",
      "  ax[i].axvline(np.nanmean(sss),linestyle='-',label='mean={:1.5f}'.format(np.nanmean(sss)))\n"
     ]
    }
   ],
   "source": [
    "fig,ax = plt.subplots(3,4,figsize=(10,6))\n",
    "ax = ax.ravel()\n",
    "for i in range(11):\n",
    "    lbl = 'tau_aero_err{:1.0f}'.format(i+1)\n",
    "    try:\n",
    "        ig = np.isfinite(s6[lbl][:,i380])\n",
    "        sss = s6[lbl][ig,i380].astype(float)\n",
    "    except IndexError:\n",
    "        sss = s6[lbl].astype(float)\n",
    "    ax[i].hist(sss,bins=30)\n",
    "    ax[i].axvline(np.nanmean(sss),linestyle='-',label='mean={:1.5f}'.format(np.nanmean(sss)))\n",
    "    ax[i].axvline(np.nanmedian(sss),linestyle='--',label='median={:1.5f}'.format(np.nanmedian(sss)))\n",
    "    ax[i].legend(frameon=False)\n",
    "    ax[i].set_title(lbl)\n",
    "    ax[i].grid()\n",
    "ax[11].axis('off')\n",
    "plt.tight_layout()"
   ]
  },
  {
   "cell_type": "code",
   "execution_count": 40,
   "id": "efc26285",
   "metadata": {
    "ExecuteTime": {
     "end_time": "2022-10-25T21:49:51.224265Z",
     "start_time": "2022-10-25T21:49:51.220682Z"
    }
   },
   "outputs": [],
   "source": [
    "ax = ax.ravel()"
   ]
  },
  {
   "cell_type": "code",
   "execution_count": 49,
   "id": "d5359ec7",
   "metadata": {
    "ExecuteTime": {
     "end_time": "2022-10-25T21:55:45.944176Z",
     "start_time": "2022-10-25T21:55:45.935970Z"
    }
   },
   "outputs": [
    {
     "data": {
      "text/plain": [
       "8.868873"
      ]
     },
     "execution_count": 49,
     "metadata": {},
     "output_type": "execute_result"
    }
   ],
   "source": [
    "np.max(sp6['20160824'][lbl][np.isfinite(sp6['20160824'][lbl][:,i500]),i500])"
   ]
  },
  {
   "cell_type": "code",
   "execution_count": 52,
   "id": "f6246f50",
   "metadata": {
    "ExecuteTime": {
     "end_time": "2022-10-25T21:58:20.616572Z",
     "start_time": "2022-10-25T21:58:20.609987Z"
    }
   },
   "outputs": [
    {
     "data": {
      "text/plain": [
       "(1, 1)"
      ]
     },
     "execution_count": 52,
     "metadata": {},
     "output_type": "execute_result"
    }
   ],
   "source": [
    "sp6[ds][lbl].shape"
   ]
  },
  {
   "cell_type": "code",
   "execution_count": null,
   "id": "b2c98813",
   "metadata": {},
   "outputs": [],
   "source": []
  }
 ],
 "metadata": {
  "kernelspec": {
   "display_name": "Python 3",
   "language": "python",
   "name": "python3"
  },
  "language_info": {
   "codemirror_mode": {
    "name": "ipython",
    "version": 3
   },
   "file_extension": ".py",
   "mimetype": "text/x-python",
   "name": "python",
   "nbconvert_exporter": "python",
   "pygments_lexer": "ipython3",
   "version": "3.8.10"
  },
  "toc": {
   "base_numbering": 1,
   "nav_menu": {},
   "number_sections": true,
   "sideBar": true,
   "skip_h1_title": false,
   "title_cell": "Table of Contents",
   "title_sidebar": "Contents",
   "toc_cell": false,
   "toc_position": {
    "height": "calc(100% - 180px)",
    "left": "10px",
    "top": "150px",
    "width": "313.466px"
   },
   "toc_section_display": true,
   "toc_window_display": true
  }
 },
 "nbformat": 4,
 "nbformat_minor": 5
}
