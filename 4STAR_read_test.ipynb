{
 "cells": [
  {
   "cell_type": "markdown",
   "metadata": {},
   "source": [
    "# Intro"
   ]
  },
  {
   "cell_type": "markdown",
   "metadata": {},
   "source": [
    "Software for reading the .dat files, raw data from 4STAR"
   ]
  },
  {
   "cell_type": "markdown",
   "metadata": {},
   "source": [
    "# imports and function"
   ]
  },
  {
   "cell_type": "code",
   "execution_count": 1,
   "metadata": {
    "ExecuteTime": {
     "end_time": "2016-04-24T16:33:07.761000",
     "start_time": "2016-04-24T16:33:05.779000"
    },
    "collapsed": true
   },
   "outputs": [],
   "source": [
    "import numpy as np\n",
    "import os"
   ]
  },
  {
   "cell_type": "code",
   "execution_count": 2,
   "metadata": {
    "ExecuteTime": {
     "end_time": "2016-04-24T16:36:15.212000",
     "start_time": "2016-04-24T16:36:15.209000"
    },
    "collapsed": true
   },
   "outputs": [],
   "source": [
    "fp = 'C:\\Users\\Sunsat\\Documents\\Data\\\\20160208'"
   ]
  },
  {
   "cell_type": "code",
   "execution_count": 5,
   "metadata": {
    "ExecuteTime": {
     "end_time": "2016-04-24T16:37:08.321000",
     "start_time": "2016-04-24T16:37:08.318000"
    },
    "collapsed": true
   },
   "outputs": [],
   "source": [
    "f = fp+'\\\\20160208_004_NIR_SUN.dat'"
   ]
  },
  {
   "cell_type": "code",
   "execution_count": 6,
   "metadata": {
    "ExecuteTime": {
     "end_time": "2016-04-24T16:37:08.884000",
     "start_time": "2016-04-24T16:37:08.878000"
    }
   },
   "outputs": [
    {
     "data": {
      "text/plain": [
       "'C:\\\\Users\\\\Sunsat\\\\Documents\\\\Data\\\\20160208\\\\20160208_004_NIR_SUN.dat'"
      ]
     },
     "execution_count": 6,
     "metadata": {},
     "output_type": "execute_result"
    }
   ],
   "source": [
    "f"
   ]
  },
  {
   "cell_type": "code",
   "execution_count": 8,
   "metadata": {
    "ExecuteTime": {
     "end_time": "2016-04-24T16:37:55.406000",
     "start_time": "2016-04-24T16:37:55.401000"
    }
   },
   "outputs": [
    {
     "data": {
      "text/plain": [
       "True"
      ]
     },
     "execution_count": 8,
     "metadata": {},
     "output_type": "execute_result"
    }
   ],
   "source": [
    "os.path.isfile(f)"
   ]
  },
  {
   "cell_type": "code",
   "execution_count": 15,
   "metadata": {
    "ExecuteTime": {
     "end_time": "2016-04-24T16:43:51.501000",
     "start_time": "2016-04-24T16:43:46.970000"
    }
   },
   "outputs": [],
   "source": [
    "d = np.genfromtxt(f,names=True,skip_header=9)"
   ]
  },
  {
   "cell_type": "code",
   "execution_count": 39,
   "metadata": {
    "ExecuteTime": {
     "end_time": "2016-04-24T21:47:48.783000",
     "start_time": "2016-04-24T21:47:48.774000"
    },
    "collapsed": true
   },
   "outputs": [],
   "source": [
    "head = []\n",
    "with open(f,'r') as ff:\n",
    "    for line in ff:\n",
    "        if line[0].isdigit():\n",
    "           break\n",
    "        else:\n",
    "            head.append(line)"
   ]
  },
  {
   "cell_type": "code",
   "execution_count": 41,
   "metadata": {
    "ExecuteTime": {
     "end_time": "2016-04-24T21:52:15.441000",
     "start_time": "2016-04-24T21:52:15.432000"
    },
    "collapsed": true
   },
   "outputs": [],
   "source": [
    "def get_header(f):\n",
    "    head = []\n",
    "    with open(f,'r') as ff:\n",
    "        for line in ff:\n",
    "            if line[0].isdigit():\n",
    "               break\n",
    "            else:\n",
    "                head.append(line)\n",
    "    numhead = len(head)-1\n",
    "    return head,numhead"
   ]
  },
  {
   "cell_type": "code",
   "execution_count": 42,
   "metadata": {
    "ExecuteTime": {
     "end_time": "2016-04-24T21:52:50.889000",
     "start_time": "2016-04-24T21:52:50.885000"
    },
    "collapsed": true
   },
   "outputs": [],
   "source": [
    "g = fp+'\\\\20160208_009_NIR_FORJ.dat'"
   ]
  },
  {
   "cell_type": "code",
   "execution_count": 43,
   "metadata": {
    "ExecuteTime": {
     "end_time": "2016-04-24T21:53:02.808000",
     "start_time": "2016-04-24T21:53:02.796000"
    },
    "collapsed": true
   },
   "outputs": [],
   "source": [
    "h,n = get_header(g)"
   ]
  },
  {
   "cell_type": "code",
   "execution_count": 44,
   "metadata": {
    "ExecuteTime": {
     "end_time": "2016-04-24T21:53:05.592000",
     "start_time": "2016-04-24T21:53:05.585000"
    }
   },
   "outputs": [
    {
     "data": {
      "text/plain": [
       "['%Mission: roof\\n',\n",
       " '%Operator: SL\\n',\n",
       " '%Detector Type: NIR\\n',\n",
       " '%Detector SN: 0\\n',\n",
       " '%Collection Code: 20130108\\n',\n",
       " '%File Format Version: 20130108.000000\\n',\n",
       " '%Observer Note: FORJ outside right after rotation \\n',\n",
       " '%Offsets:  Azimuth=-4063 ,Elevation=-18140,AzPark=9000,ElPark=11550,SkyBarrellOffset=-417\\n',\n",
       " '%20160208_009_NIR_FORJ.dat\\n',\n",
       " 'YYYY MM DD HH mm ss msec Str Md Zn       Lat       Lon       Alt  Headng   pitch    roll       Tst      Pst        RH AZstep Elstep    AZ_deg    El_deg   QdVlr   QdVtb  QdVtot AZcorr ELcorr   Tbox  Tprecon  RHprecon   Vdettemp   Tint AVG  Pix0 Pix1 Pix2 Pix3 Pix4 Pix5 Pix6 Pix7 Pix8 Pix9 Pix10 Pix11 Pix12 Pix13 Pix14 Pix15 Pix16 Pix17 Pix18 Pix19 Pix20 Pix21 Pix22 Pix23 Pix24 Pix25 Pix26 Pix27 Pix28 Pix29 Pix30 Pix31 Pix32 Pix33 Pix34 Pix35 Pix36 Pix37 Pix38 Pix39 Pix40 Pix41 Pix42 Pix43 Pix44 Pix45 Pix46 Pix47 Pix48 Pix49 Pix50 Pix51 Pix52 Pix53 Pix54 Pix55 Pix56 Pix57 Pix58 Pix59 Pix60 Pix61 Pix62 Pix63 Pix64 Pix65 Pix66 Pix67 Pix68 Pix69 Pix70 Pix71 Pix72 Pix73 Pix74 Pix75 Pix76 Pix77 Pix78 Pix79 Pix80 Pix81 Pix82 Pix83 Pix84 Pix85 Pix86 Pix87 Pix88 Pix89 Pix90 Pix91 Pix92 Pix93 Pix94 Pix95 Pix96 Pix97 Pix98 Pix99 Pix100 Pix101 Pix102 Pix103 Pix104 Pix105 Pix106 Pix107 Pix108 Pix109 Pix110 Pix111 Pix112 Pix113 Pix114 Pix115 Pix116 Pix117 Pix118 Pix119 Pix120 Pix121 Pix122 Pix123 Pix124 Pix125 Pix126 Pix127 Pix128 Pix129 Pix130 Pix131 Pix132 Pix133 Pix134 Pix135 Pix136 Pix137 Pix138 Pix139 Pix140 Pix141 Pix142 Pix143 Pix144 Pix145 Pix146 Pix147 Pix148 Pix149 Pix150 Pix151 Pix152 Pix153 Pix154 Pix155 Pix156 Pix157 Pix158 Pix159 Pix160 Pix161 Pix162 Pix163 Pix164 Pix165 Pix166 Pix167 Pix168 Pix169 Pix170 Pix171 Pix172 Pix173 Pix174 Pix175 Pix176 Pix177 Pix178 Pix179 Pix180 Pix181 Pix182 Pix183 Pix184 Pix185 Pix186 Pix187 Pix188 Pix189 Pix190 Pix191 Pix192 Pix193 Pix194 Pix195 Pix196 Pix197 Pix198 Pix199 Pix200 Pix201 Pix202 Pix203 Pix204 Pix205 Pix206 Pix207 Pix208 Pix209 Pix210 Pix211 Pix212 Pix213 Pix214 Pix215 Pix216 Pix217 Pix218 Pix219 Pix220 Pix221 Pix222 Pix223 Pix224 Pix225 Pix226 Pix227 Pix228 Pix229 Pix230 Pix231 Pix232 Pix233 Pix234 Pix235 Pix236 Pix237 Pix238 Pix239 Pix240 Pix241 Pix242 Pix243 Pix244 Pix245 Pix246 Pix247 Pix248 Pix249 Pix250 Pix251 Pix252 Pix253 Pix254 Pix255 Pix256 Pix257 Pix258 Pix259 Pix260 Pix261 Pix262 Pix263 Pix264 Pix265 Pix266 Pix267 Pix268 Pix269 Pix270 Pix271 Pix272 Pix273 Pix274 Pix275 Pix276 Pix277 Pix278 Pix279 Pix280 Pix281 Pix282 Pix283 Pix284 Pix285 Pix286 Pix287 Pix288 Pix289 Pix290 Pix291 Pix292 Pix293 Pix294 Pix295 Pix296 Pix297 Pix298 Pix299 Pix300 Pix301 Pix302 Pix303 Pix304 Pix305 Pix306 Pix307 Pix308 Pix309 Pix310 Pix311 Pix312 Pix313 Pix314 Pix315 Pix316 Pix317 Pix318 Pix319 Pix320 Pix321 Pix322 Pix323 Pix324 Pix325 Pix326 Pix327 Pix328 Pix329 Pix330 Pix331 Pix332 Pix333 Pix334 Pix335 Pix336 Pix337 Pix338 Pix339 Pix340 Pix341 Pix342 Pix343 Pix344 Pix345 Pix346 Pix347 Pix348 Pix349 Pix350 Pix351 Pix352 Pix353 Pix354 Pix355 Pix356 Pix357 Pix358 Pix359 Pix360 Pix361 Pix362 Pix363 Pix364 Pix365 Pix366 Pix367 Pix368 Pix369 Pix370 Pix371 Pix372 Pix373 Pix374 Pix375 Pix376 Pix377 Pix378 Pix379 Pix380 Pix381 Pix382 Pix383 Pix384 Pix385 Pix386 Pix387 Pix388 Pix389 Pix390 Pix391 Pix392 Pix393 Pix394 Pix395 Pix396 Pix397 Pix398 Pix399 Pix400 Pix401 Pix402 Pix403 Pix404 Pix405 Pix406 Pix407 Pix408 Pix409 Pix410 Pix411 Pix412 Pix413 Pix414 Pix415 Pix416 Pix417 Pix418 Pix419 Pix420 Pix421 Pix422 Pix423 Pix424 Pix425 Pix426 Pix427 Pix428 Pix429 Pix430 Pix431 Pix432 Pix433 Pix434 Pix435 Pix436 Pix437 Pix438 Pix439 Pix440 Pix441 Pix442 Pix443 Pix444 Pix445 Pix446 Pix447 Pix448 Pix449 Pix450 Pix451 Pix452 Pix453 Pix454 Pix455 Pix456 Pix457 Pix458 Pix459 Pix460 Pix461 Pix462 Pix463 Pix464 Pix465 Pix466 Pix467 Pix468 Pix469 Pix470 Pix471 Pix472 Pix473 Pix474 Pix475 Pix476 Pix477 Pix478 Pix479 Pix480 Pix481 Pix482 Pix483 Pix484 Pix485 Pix486 Pix487 Pix488 Pix489 Pix490 Pix491 Pix492 Pix493 Pix494 Pix495 Pix496 Pix497 Pix498 Pix499 Pix500 Pix501 Pix502 Pix503 Pix504 Pix505 Pix506 Pix507 Pix508 Pix509 Pix510 Pix511 \\n']"
      ]
     },
     "execution_count": 44,
     "metadata": {},
     "output_type": "execute_result"
    }
   ],
   "source": [
    "h"
   ]
  },
  {
   "cell_type": "code",
   "execution_count": 45,
   "metadata": {
    "ExecuteTime": {
     "end_time": "2016-04-24T21:53:15.623000",
     "start_time": "2016-04-24T21:53:15.617000"
    }
   },
   "outputs": [
    {
     "data": {
      "text/plain": [
       "9"
      ]
     },
     "execution_count": 45,
     "metadata": {},
     "output_type": "execute_result"
    }
   ],
   "source": [
    "n"
   ]
  },
  {
   "cell_type": "code",
   "execution_count": 46,
   "metadata": {
    "ExecuteTime": {
     "end_time": "2016-04-24T21:57:18.435000",
     "start_time": "2016-04-24T21:57:18.431000"
    },
    "collapsed": true
   },
   "outputs": [],
   "source": [
    "h = fp+'\\\\20160208_008_TRACK.dat'"
   ]
  },
  {
   "cell_type": "code",
   "execution_count": 47,
   "metadata": {
    "ExecuteTime": {
     "end_time": "2016-04-24T21:57:44.788000",
     "start_time": "2016-04-24T21:57:44.772000"
    },
    "collapsed": true
   },
   "outputs": [],
   "source": [
    "hh,nh = get_header(h)"
   ]
  },
  {
   "cell_type": "code",
   "execution_count": 48,
   "metadata": {
    "ExecuteTime": {
     "end_time": "2016-04-24T21:58:13.739000",
     "start_time": "2016-04-24T21:58:13.733000"
    }
   },
   "outputs": [
    {
     "data": {
      "text/plain": [
       "-1"
      ]
     },
     "execution_count": 48,
     "metadata": {},
     "output_type": "execute_result"
    }
   ],
   "source": [
    "nh"
   ]
  },
  {
   "cell_type": "code",
   "execution_count": 49,
   "metadata": {
    "ExecuteTime": {
     "end_time": "2016-04-24T21:58:21.638000",
     "start_time": "2016-04-24T21:58:21.632000"
    }
   },
   "outputs": [
    {
     "data": {
      "text/plain": [
       "[]"
      ]
     },
     "execution_count": 49,
     "metadata": {},
     "output_type": "execute_result"
    }
   ],
   "source": [
    "hh"
   ]
  },
  {
   "cell_type": "code",
   "execution_count": 67,
   "metadata": {
    "ExecuteTime": {
     "end_time": "2016-04-26T07:30:15.702000",
     "start_time": "2016-04-26T07:30:15.695000"
    }
   },
   "outputs": [
    {
     "data": {
      "text/plain": [
       "'C:\\\\Users\\\\Sunsat\\\\Documents\\\\Data\\\\20160208\\\\20160208_008_TRACK.dat'"
      ]
     },
     "execution_count": 67,
     "metadata": {},
     "output_type": "execute_result"
    }
   ],
   "source": [
    "h"
   ]
  },
  {
   "cell_type": "code",
   "execution_count": null,
   "metadata": {
    "collapsed": true
   },
   "outputs": [],
   "source": []
  },
  {
   "cell_type": "code",
   "execution_count": 251,
   "metadata": {
    "ExecuteTime": {
     "end_time": "2016-04-26T18:19:58.938000",
     "start_time": "2016-04-26T18:19:58.933000"
    }
   },
   "outputs": [],
   "source": [
    "typ,fnum =startype(h)"
   ]
  },
  {
   "cell_type": "code",
   "execution_count": 252,
   "metadata": {
    "ExecuteTime": {
     "end_time": "2016-04-26T18:20:08.075000",
     "start_time": "2016-04-26T18:20:08.066000"
    }
   },
   "outputs": [
    {
     "data": {
      "text/plain": [
       "'track'"
      ]
     },
     "execution_count": 252,
     "metadata": {},
     "output_type": "execute_result"
    }
   ],
   "source": [
    "typ"
   ]
  },
  {
   "cell_type": "code",
   "execution_count": 254,
   "metadata": {
    "ExecuteTime": {
     "end_time": "2016-04-26T18:20:38.981000",
     "start_time": "2016-04-26T18:20:38.975000"
    }
   },
   "outputs": [
    {
     "data": {
      "text/plain": [
       "8"
      ]
     },
     "execution_count": 254,
     "metadata": {},
     "output_type": "execute_result"
    }
   ],
   "source": [
    "int(fnum)"
   ]
  },
  {
   "cell_type": "code",
   "execution_count": 71,
   "metadata": {
    "ExecuteTime": {
     "end_time": "2016-04-26T07:30:40.694000",
     "start_time": "2016-04-26T07:30:40.688000"
    }
   },
   "outputs": [
    {
     "data": {
      "text/plain": [
       "'track'"
      ]
     },
     "execution_count": 71,
     "metadata": {},
     "output_type": "execute_result"
    }
   ],
   "source": [
    "typ.lower()"
   ]
  },
  {
   "cell_type": "code",
   "execution_count": 193,
   "metadata": {
    "ExecuteTime": {
     "end_time": "2016-04-26T15:59:20.264000",
     "start_time": "2016-04-26T15:59:20.260000"
    }
   },
   "outputs": [],
   "source": [
    "o = datetime.strptime('20:23:09.015','%H:%M:%S.%f')#,'%H:%M:%S.%s')"
   ]
  },
  {
   "cell_type": "code",
   "execution_count": 195,
   "metadata": {
    "ExecuteTime": {
     "end_time": "2016-04-26T16:00:23.755000",
     "start_time": "2016-04-26T16:00:23.751000"
    }
   },
   "outputs": [],
   "source": [
    "utc = o.hour+o.minute/60.0+o.second/3600.0+o.microsecond/3600.0/1000000.0"
   ]
  },
  {
   "cell_type": "code",
   "execution_count": 172,
   "metadata": {
    "ExecuteTime": {
     "end_time": "2016-04-26T15:34:23.749000",
     "start_time": "2016-04-26T15:34:23.745000"
    },
    "collapsed": true
   },
   "outputs": [],
   "source": [
    "def mktime(txt):\n",
    "    return datetime.strptime(txt,'%H:%M:%S.%f')"
   ]
  },
  {
   "cell_type": "code",
   "execution_count": 197,
   "metadata": {
    "ExecuteTime": {
     "end_time": "2016-04-26T16:01:05.078000",
     "start_time": "2016-04-26T16:01:05.074000"
    },
    "collapsed": true
   },
   "outputs": [],
   "source": [
    "conv1 = {'Time':mkktime}"
   ]
  },
  {
   "cell_type": "code",
   "execution_count": null,
   "metadata": {
    "collapsed": true
   },
   "outputs": [],
   "source": []
  },
  {
   "cell_type": "code",
   "execution_count": 214,
   "metadata": {
    "ExecuteTime": {
     "end_time": "2016-04-26T16:57:19.118000",
     "start_time": "2016-04-26T16:57:19.113000"
    },
    "collapsed": true
   },
   "outputs": [],
   "source": [
    "def mkktime(txt):\n",
    "    o = datetime.strptime(txt,'%H:%M:%S.%f')\n",
    "    return o.hour+o.minute/60.0+o.second/3600.0+o.microsecond/3600.0/1000000.0"
   ]
  },
  {
   "cell_type": "code",
   "execution_count": 177,
   "metadata": {
    "ExecuteTime": {
     "end_time": "2016-04-26T15:36:31.427000",
     "start_time": "2016-04-26T15:36:31.423000"
    }
   },
   "outputs": [],
   "source": [
    "conv = {'Time':mktime,1:mktime,'time':mktime}"
   ]
  },
  {
   "cell_type": "code",
   "execution_count": 167,
   "metadata": {
    "ExecuteTime": {
     "end_time": "2016-04-26T15:26:49.890000",
     "start_time": "2016-04-26T15:26:49.886000"
    },
    "collapsed": true
   },
   "outputs": [],
   "source": [
    "convv = {1:mktime}"
   ]
  },
  {
   "cell_type": "code",
   "execution_count": 190,
   "metadata": {
    "ExecuteTime": {
     "end_time": "2016-04-26T15:57:27.581000",
     "start_time": "2016-04-26T15:57:27.571000"
    },
    "collapsed": true
   },
   "outputs": [],
   "source": [
    "nm = ['N','Time','AzAngle','AzError','ElAngle','ElError','Azpos','Elpos','Vb_t','Vl_r','Vtot','Tsetbox',\\\n",
    "      'Tmonbox','Tbox','Tvnir','Tnir','P1','P2','P3','P4','T1','T2','T3','T4']"
   ]
  },
  {
   "cell_type": "code",
   "execution_count": 222,
   "metadata": {
    "ExecuteTime": {
     "end_time": "2016-04-26T17:01:19.614000",
     "start_time": "2016-04-26T17:01:19.609000"
    },
    "collapsed": true
   },
   "outputs": [],
   "source": [
    "new_nm =  ['N','t','Az_deg','Az_corr','El_deg','El_corr','Az_step','El_step',\\\n",
    "           'QdV_TB','QdV_LR','QdV_tot','T_box_set','T_box_mon','T_box','T_spec_uvis',\\\n",
    "           'T_spec_nir','P1','P2','P3','P4','T1','T2','T3','T4']"
   ]
  },
  {
   "cell_type": "code",
   "execution_count": 223,
   "metadata": {
    "ExecuteTime": {
     "end_time": "2016-04-26T17:01:20.398000",
     "start_time": "2016-04-26T17:01:20.393000"
    },
    "collapsed": true
   },
   "outputs": [],
   "source": [
    "def convt(t):\n",
    "    return float(t)*1000.0-273.15"
   ]
  },
  {
   "cell_type": "code",
   "execution_count": 224,
   "metadata": {
    "ExecuteTime": {
     "end_time": "2016-04-26T17:01:21.231000",
     "start_time": "2016-04-26T17:01:21.226000"
    },
    "collapsed": true
   },
   "outputs": [],
   "source": [
    "conv = {'t':mkktime,'T_box':lambda t:float(t)*100.0-273.15,\\\n",
    "        'T1':convt,'T2':convt,'T3':convt,'T4':convt}"
   ]
  },
  {
   "cell_type": "code",
   "execution_count": 235,
   "metadata": {
    "ExecuteTime": {
     "end_time": "2016-04-26T17:09:04.687000",
     "start_time": "2016-04-26T17:09:00.223000"
    }
   },
   "outputs": [],
   "source": [
    "dd = np.genfromtxt(h,skip_header=2,names=new_nm,delimiter='\\t',converters=conv)"
   ]
  },
  {
   "cell_type": "code",
   "execution_count": 236,
   "metadata": {
    "ExecuteTime": {
     "end_time": "2016-04-26T17:09:05.491000",
     "start_time": "2016-04-26T17:09:05.483000"
    }
   },
   "outputs": [
    {
     "data": {
      "text/plain": [
       "array([ (0.0, 22.098945277777776, -209.98, 1.58, 32.256, 1.8288, -10499.0, -4480.0, -1.67251, -1.72876, 1.645996, 0.0, 0.0, 20.424199999999985, 2.918555, 0.089453, 0.235434, 1.585501, -0.045938, -0.045614, 59.16100000000006, 45.88500000000005, 45.754999999999995, 44.16500000000002),\n",
       "       (1.0, 22.098975555555555, -208.4, 1.2, 33.8544, 1.2024, -10420.0, -4702.0, -1.80332, -2.152881, 2.703809, 0.0, 0.0, 20.521900000000016, 2.920117, 0.089063, 0.232513, 1.579011, -0.054376, -0.053078, 36.212000000000046, 48.384000000000015, 44.327000000000055, 48.547000000000025),\n",
       "       (2.0, 22.09900583333333, -207.2, 1.42, 35.2872, 1.5336, -10360.0, -4901.0, -3.419141, -3.819189, 4.019434, 0.0, 0.0, 20.404700000000048, 2.895898, 0.089063, 0.235434, 1.564731, -0.050157, -0.054701, 29.94799999999998, 47.346000000000004, 65.16600000000005, 42.80099999999999),\n",
       "       ...,\n",
       "       (53082.0, 23.611406111111112, -159.56, 0.0, 31.1976, -0.0, -7978.0, -4333.0, -0.001172, -0.002783, 3.637256, 0.0, 0.0, 20.521900000000016, 2.877344, 0.09082, 0.232837, 1.624446, -0.0203, -0.019976, 37.34800000000001, 47.411, 50.49400000000003, 41.860000000000014),\n",
       "       (53083.0, 23.611432222222223, -159.56, 0.0, 31.1976, -0.0, -7978.0, -4333.0, 0.00332, -0.002246, 3.558545, 0.0, 0.0, 20.58050000000003, 2.863477, 0.088672, 0.233811, 1.605623, -0.017704, -0.0203, 41.95800000000003, 53.059000000000026, 46.924000000000035, 45.041),\n",
       "       (53084.0, 23.611462500000002, -159.56, 0.0, 31.1976, -0.0072, -7978.0, -4333.0, 0.009473, -0.004443, 3.623438, 0.0, 0.0, 20.560900000000004, 2.881055, 0.089453, 0.235758, 1.586475, -0.017704, -0.017055, 43.483000000000004, 49.97500000000002, 49.32600000000002, 33.226)], \n",
       "      dtype=[('N', '<f8'), ('t', '<f8'), ('Az_deg', '<f8'), ('Az_corr', '<f8'), ('El_deg', '<f8'), ('El_corr', '<f8'), ('Az_step', '<f8'), ('El_step', '<f8'), ('QdV_TB', '<f8'), ('QdV_LR', '<f8'), ('QdV_tot', '<f8'), ('T_box_set', '<f8'), ('T_box_mon', '<f8'), ('T_box', '<f8'), ('T_spec_uvis', '<f8'), ('T_spec_nir', '<f8'), ('P1', '<f8'), ('P2', '<f8'), ('P3', '<f8'), ('P4', '<f8'), ('T1', '<f8'), ('T2', '<f8'), ('T3', '<f8'), ('T4', '<f8')])"
      ]
     },
     "execution_count": 236,
     "metadata": {},
     "output_type": "execute_result"
    }
   ],
   "source": [
    "dd"
   ]
  },
  {
   "cell_type": "code",
   "execution_count": 238,
   "metadata": {
    "ExecuteTime": {
     "end_time": "2016-04-26T17:09:12.601000",
     "start_time": "2016-04-26T17:09:12.593000"
    }
   },
   "outputs": [
    {
     "data": {
      "text/plain": [
       "('N',\n",
       " 't',\n",
       " 'Az_deg',\n",
       " 'Az_corr',\n",
       " 'El_deg',\n",
       " 'El_corr',\n",
       " 'Az_step',\n",
       " 'El_step',\n",
       " 'QdV_TB',\n",
       " 'QdV_LR',\n",
       " 'QdV_tot',\n",
       " 'T_box_set',\n",
       " 'T_box_mon',\n",
       " 'T_box',\n",
       " 'T_spec_uvis',\n",
       " 'T_spec_nir',\n",
       " 'P1',\n",
       " 'P2',\n",
       " 'P3',\n",
       " 'P4',\n",
       " 'T1',\n",
       " 'T2',\n",
       " 'T3',\n",
       " 'T4')"
      ]
     },
     "execution_count": 238,
     "metadata": {},
     "output_type": "execute_result"
    }
   ],
   "source": [
    "dd.dtype.names"
   ]
  },
  {
   "cell_type": "code",
   "execution_count": 244,
   "metadata": {
    "ExecuteTime": {
     "end_time": "2016-04-26T17:34:04.207000",
     "start_time": "2016-04-26T17:34:04.197000"
    },
    "collapsed": true
   },
   "outputs": [],
   "source": [
    "def to_dict(d):\n",
    "    'Simple function to switch from numpy named array to dict with numpy arrays'\n",
    "    dd = {}\n",
    "    for n in d.dtype.names:\n",
    "        dd[n] = d[n]\n",
    "    return d"
   ]
  },
  {
   "cell_type": "code",
   "execution_count": 243,
   "metadata": {
    "ExecuteTime": {
     "end_time": "2016-04-26T17:26:19.077000",
     "start_time": "2016-04-26T17:26:19.033000"
    }
   },
   "outputs": [],
   "source": [
    "ddd['El_temp_K'] = 1000.0*ddd['T1']"
   ]
  },
  {
   "cell_type": "code",
   "execution_count": 226,
   "metadata": {
    "ExecuteTime": {
     "end_time": "2016-04-26T17:02:44.826000",
     "start_time": "2016-04-26T17:02:43.533000"
    },
    "collapsed": true
   },
   "outputs": [],
   "source": [
    "import hdf5storage as hs"
   ]
  },
  {
   "cell_type": "code",
   "execution_count": 229,
   "metadata": {
    "ExecuteTime": {
     "end_time": "2016-04-26T17:03:46.134000",
     "start_time": "2016-04-26T17:03:43.727000"
    },
    "collapsed": true
   },
   "outputs": [],
   "source": [
    "import scipy.io as sio"
   ]
  },
  {
   "cell_type": "code",
   "execution_count": 230,
   "metadata": {
    "ExecuteTime": {
     "end_time": "2016-04-26T17:03:49.947000",
     "start_time": "2016-04-26T17:03:47.261000"
    }
   },
   "outputs": [],
   "source": [
    "m = sio.loadmat('C:\\Users\\Sunsat\\Documents\\Data\\\\20151118star.mat')"
   ]
  },
  {
   "cell_type": "code",
   "execution_count": 231,
   "metadata": {
    "ExecuteTime": {
     "end_time": "2016-04-26T17:03:56.238000",
     "start_time": "2016-04-26T17:03:56.230000"
    }
   },
   "outputs": [
    {
     "data": {
      "text/plain": [
       "['vis_cldp',\n",
       " '__version__',\n",
       " 'track',\n",
       " '__header__',\n",
       " 'vis_sun',\n",
       " '__globals__',\n",
       " 'nir_sun',\n",
       " 'nir_zen',\n",
       " 'vis_zen',\n",
       " 'nir_cldp',\n",
       " 'program_version']"
      ]
     },
     "execution_count": 231,
     "metadata": {},
     "output_type": "execute_result"
    }
   ],
   "source": [
    "m.keys()"
   ]
  },
  {
   "cell_type": "code",
   "execution_count": 233,
   "metadata": {
    "ExecuteTime": {
     "end_time": "2016-04-26T17:04:34.124000",
     "start_time": "2016-04-26T17:04:34.117000"
    }
   },
   "outputs": [
    {
     "data": {
      "text/plain": [
       "('pname',\n",
       " 'fname',\n",
       " 'time',\n",
       " 'N',\n",
       " 'T_spec_nir',\n",
       " 'T_spec_uvis',\n",
       " 'T_box',\n",
       " 'T_box_mon',\n",
       " 'T_box_set',\n",
       " 'El_deg',\n",
       " 'El_step',\n",
       " 'El_corr',\n",
       " 'Az_deg',\n",
       " 'Az_step',\n",
       " 'Az_corr',\n",
       " 'QdV_tot',\n",
       " 'QdV_LR',\n",
       " 'QdV_TB',\n",
       " 'T1',\n",
       " 'T2',\n",
       " 'T3',\n",
       " 'T4',\n",
       " 'P1',\n",
       " 'P2',\n",
       " 'P3',\n",
       " 'P4',\n",
       " 'run_id',\n",
       " 'El_temp_K',\n",
       " 'NearWindow_temp_K',\n",
       " 'Az_temp_K',\n",
       " 'Can_P_mB',\n",
       " 'Can_RH',\n",
       " 't',\n",
       " 'filename',\n",
       " 'filen',\n",
       " 'note')"
      ]
     },
     "execution_count": 233,
     "metadata": {},
     "output_type": "execute_result"
    }
   ],
   "source": [
    "m['track'].dtype.names"
   ]
  },
  {
   "cell_type": "code",
   "execution_count": 280,
   "metadata": {},
   "outputs": [
    {
     "data": {
      "text/plain": [
       "array([[ array([u'20151118_002_TRACK.dat', u'20151118_003_TRACK.dat',\n",
       "       u'20151118_004_TRACK.dat', u'20151118_005_TRACK.dat',\n",
       "       u'20151118_006_TRACK.dat', u'20151118_008_TRACK.dat',\n",
       "       u'20151118_012_TRACK.dat', u'20151118_021_TRACK.dat',\n",
       "       u'20151118_022_TRACK.dat', u'20151118_025_TRACK.dat',\n",
       "       u'20151118_026_TRACK.dat', u'20151118_029_TRACK.dat',\n",
       "       u'20151118_030_TRACK.dat', u'20151118_031_TRACK.dat',\n",
       "       u'20151118_032_TRACK.dat', u'20151118_033_TRACK.dat',\n",
       "       u'20151118_036_TRACK.dat', u'20151118_037_TRACK.dat',\n",
       "       u'20151118_038_TRACK.dat', u'20151118_043_TRACK.dat',\n",
       "       u'20151118_044_TRACK.dat', u'20151118_045_TRACK.dat',\n",
       "       u'20151118_050_TRACK.dat', u'20151118_051_TRACK.dat',\n",
       "       u'20151118_052_TRACK.dat', u'20151118_053_TRACK.dat',\n",
       "       u'20151118_058_TRACK.dat', u'20151118_059_TRACK.dat',\n",
       "       u'20151118_060_TRACK.dat', u'20151118_061_TRACK.dat',\n",
       "       u'20151118_062_TRACK.dat', u'20151118_063_TRACK.dat',\n",
       "       u'20151118_064_TRACK.dat', u'20151118_065_TRACK.dat',\n",
       "       u'20151118_066_TRACK.dat', u'20151118_067_TRACK.dat',\n",
       "       u'20151118_068_TRACK.dat', u'20151118_069_TRACK.dat',\n",
       "       u'20151118_070_TRACK.dat', u'20151118_071_TRACK.dat',\n",
       "       u'20151118_072_TRACK.dat', u'20151118_073_TRACK.dat',\n",
       "       u'20151118_074_TRACK.dat', u'20151118_075_TRACK.dat',\n",
       "       u'20151118_076_TRACK.dat', u'20151118_077_TRACK.dat',\n",
       "       u'20151118_078_TRACK.dat', u'20151118_079_TRACK.dat'], \n",
       "      dtype='<U22')]], dtype=object)"
      ]
     },
     "execution_count": 280,
     "metadata": {},
     "output_type": "execute_result"
    }
   ],
   "source": [
    "m['track']['fname']"
   ]
  },
  {
   "cell_type": "code",
   "execution_count": 268,
   "metadata": {
    "ExecuteTime": {
     "end_time": "2016-04-26T18:28:18.003000",
     "start_time": "2016-04-26T18:28:17.995000"
    }
   },
   "outputs": [
    {
     "data": {
      "text/plain": [
       "array([[ 2],\n",
       "       [ 2],\n",
       "       [ 2],\n",
       "       ..., \n",
       "       [77],\n",
       "       [78],\n",
       "       [79]], dtype=uint8)"
      ]
     },
     "execution_count": 268,
     "metadata": {},
     "output_type": "execute_result"
    }
   ],
   "source": [
    "m['track']['filen'][0][0][:]"
   ]
  },
  {
   "cell_type": "code",
   "execution_count": 264,
   "metadata": {
    "ExecuteTime": {
     "end_time": "2016-04-26T18:27:53.533000",
     "start_time": "2016-04-26T18:27:53.526000"
    }
   },
   "outputs": [
    {
     "data": {
      "text/plain": [
       "array([0])"
      ]
     },
     "execution_count": 264,
     "metadata": {},
     "output_type": "execute_result"
    }
   ],
   "source": [
    "np.arange(len())"
   ]
  },
  {
   "cell_type": "code",
   "execution_count": 261,
   "metadata": {
    "ExecuteTime": {
     "end_time": "2016-04-26T18:26:06.882000",
     "start_time": "2016-04-26T18:26:06.875000"
    }
   },
   "outputs": [
    {
     "data": {
      "text/plain": [
       "array([[0]], dtype=object)"
      ]
     },
     "execution_count": 261,
     "metadata": {},
     "output_type": "execute_result"
    }
   ],
   "source": [
    "np.zeros_like(m['track']['filen'])"
   ]
  },
  {
   "cell_type": "code",
   "execution_count": 255,
   "metadata": {
    "ExecuteTime": {
     "end_time": "2016-04-26T18:24:34.983000",
     "start_time": "2016-04-26T18:24:34.968000"
    }
   },
   "outputs": [
    {
     "data": {
      "text/plain": [
       "array([[ array([[ 2],\n",
       "       [ 2],\n",
       "       [ 2],\n",
       "       ..., \n",
       "       [77],\n",
       "       [78],\n",
       "       [79]], dtype=uint8)]], dtype=object)"
      ]
     },
     "execution_count": 255,
     "metadata": {},
     "output_type": "execute_result"
    }
   ],
   "source": [
    "m['track']['filen']"
   ]
  },
  {
   "cell_type": "code",
   "execution_count": 273,
   "metadata": {
    "collapsed": true
   },
   "outputs": [],
   "source": [
    "s = {}"
   ]
  },
  {
   "cell_type": "code",
   "execution_count": 274,
   "metadata": {
    "collapsed": true
   },
   "outputs": [],
   "source": [
    "s['forj'] = [1,2,3]"
   ]
  },
  {
   "cell_type": "code",
   "execution_count": 275,
   "metadata": {},
   "outputs": [
    {
     "data": {
      "text/plain": [
       "['forj']"
      ]
     },
     "execution_count": 275,
     "metadata": {},
     "output_type": "execute_result"
    }
   ],
   "source": [
    "s.keys()"
   ]
  },
  {
   "cell_type": "code",
   "execution_count": 277,
   "metadata": {},
   "outputs": [],
   "source": [
    "if 'sun' in s:\n",
    "    print 'yes'"
   ]
  },
  {
   "cell_type": "code",
   "execution_count": 281,
   "metadata": {},
   "outputs": [
    {
     "ename": "NameError",
     "evalue": "name 'fparts' is not defined",
     "output_type": "error",
     "traceback": [
      "\u001b[1;31m---------------------------------------------------------------------------\u001b[0m",
      "\u001b[1;31mNameError\u001b[0m                                 Traceback (most recent call last)",
      "\u001b[1;32m<ipython-input-281-7e2e36d83306>\u001b[0m in \u001b[0;36m<module>\u001b[1;34m()\u001b[0m\n\u001b[1;32m----> 1\u001b[1;33m \u001b[0mfparts\u001b[0m\u001b[1;33m\u001b[0m\u001b[0m\n\u001b[0m",
      "\u001b[1;31mNameError\u001b[0m: name 'fparts' is not defined"
     ]
    }
   ],
   "source": [
    "fparts"
   ]
  },
  {
   "cell_type": "code",
   "execution_count": 283,
   "metadata": {},
   "outputs": [],
   "source": [
    "fparts = os.path.split(h)"
   ]
  },
  {
   "cell_type": "code",
   "execution_count": 284,
   "metadata": {},
   "outputs": [
    {
     "data": {
      "text/plain": [
       "('C:\\\\Users\\\\Sunsat\\\\Documents\\\\Data\\\\20160208', '20160208_008_TRACK.dat')"
      ]
     },
     "execution_count": 284,
     "metadata": {},
     "output_type": "execute_result"
    }
   ],
   "source": [
    "fparts"
   ]
  },
  {
   "cell_type": "code",
   "execution_count": null,
   "metadata": {
    "collapsed": true
   },
   "outputs": [],
   "source": []
  }
 ],
 "metadata": {
  "kernelspec": {
   "display_name": "Python 2",
   "language": "python",
   "name": "python2"
  },
  "language_info": {
   "codemirror_mode": {
    "name": "ipython",
    "version": 2
   },
   "file_extension": ".py",
   "mimetype": "text/x-python",
   "name": "python",
   "nbconvert_exporter": "python",
   "pygments_lexer": "ipython2",
   "version": "2.7.15+"
  },
  "toc": {
   "base_numbering": 1,
   "nav_menu": {},
   "number_sections": true,
   "sideBar": true,
   "skip_h1_title": false,
   "title_cell": "Table of Contents",
   "title_sidebar": "Contents",
   "toc_cell": false,
   "toc_position": {},
   "toc_section_display": true,
   "toc_window_display": false
  }
 },
 "nbformat": 4,
 "nbformat_minor": 1
}
