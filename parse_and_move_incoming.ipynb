{
 "cells": [
  {
   "cell_type": "markdown",
   "metadata": {},
   "source": [
    "# Info\n",
    "Purpose:\n",
    "\n",
    "    Take incoming folder for sunsat and parse the subfolders and incoming files\n",
    "\n",
    "Input:\n",
    "\n",
    "    None\n",
    "\n",
    "Output:\n",
    "\n",
    "    Moved and catagorized files\n",
    "\n",
    "Keywords:\n",
    "\n",
    "    none\n",
    "\n",
    "Dependencies:\n",
    "\n",
    "    - os\n",
    "    - dateutil\n",
    "    - re\n",
    "    - pathlib2\n",
    "    - datefinder\n",
    "\n",
    "Needed Files:\n",
    "  - None\n",
    "\n",
    "Modification History:\n",
    "\n",
    "    Written: Samuel LeBlanc, Santa Cruz, CA, 2020-11-06\n",
    "    Modified: Samuel LeBlanc, Santa Cruz, CA, 2020-12-02\n",
    "             - added support for files without a date in the name, using either the directories' date, or the file's date.\n"
   ]
  },
  {
   "cell_type": "markdown",
   "metadata": {},
   "source": [
    "# Set up the background functions"
   ]
  },
  {
   "cell_type": "code",
   "execution_count": 57,
   "metadata": {
    "ExecuteTime": {
     "end_time": "2021-03-31T21:23:44.129896Z",
     "start_time": "2021-03-31T21:23:44.123501Z"
    }
   },
   "outputs": [],
   "source": [
    "from __future__ import print_function \n",
    "from parse_and_move_incoming_fx import get_date_and_string, \\\n",
    "     pull_labels, get_season, filetypes, get_newfilepath, get_filters_from_json, \\\n",
    "     recurse_through_dir, make_temp_mfile, move_files"
   ]
  },
  {
   "cell_type": "markdown",
   "metadata": {},
   "source": [
    "# Prepare the command line argument parser"
   ]
  },
  {
   "cell_type": "code",
   "execution_count": 2,
   "metadata": {
    "ExecuteTime": {
     "end_time": "2021-03-31T20:58:13.704876Z",
     "start_time": "2021-03-31T20:58:13.700182Z"
    }
   },
   "outputs": [],
   "source": [
    "import argparse"
   ]
  },
  {
   "cell_type": "code",
   "execution_count": 3,
   "metadata": {
    "ExecuteTime": {
     "end_time": "2021-03-31T20:58:14.256866Z",
     "start_time": "2021-03-31T20:58:14.251747Z"
    }
   },
   "outputs": [],
   "source": [
    "long_description = \"\"\"    Run the incoming file parser and moves the files to the desired sunsat locations\n",
    "    The File locations and folders are defined by the json file: .filters.json\n",
    "    Please update the date ranges within that file for any new field mission, \n",
    "        if not then assumes rooftop measurements for the season_year\n",
    "    Can run a call to matlab for any incoming 4STAR raw data\"\"\""
   ]
  },
  {
   "cell_type": "code",
   "execution_count": 4,
   "metadata": {
    "ExecuteTime": {
     "end_time": "2021-03-31T20:58:14.787845Z",
     "start_time": "2021-03-31T20:58:14.764850Z"
    }
   },
   "outputs": [
    {
     "data": {
      "text/plain": [
       "_StoreTrueAction(option_strings=['-m', '--run_matlab'], dest='run_matlab', nargs=0, const=True, default=False, type=None, choices=None, help='if set, will run the matlab calls if there is 4STAR/4STARB raw files', metavar=None)"
      ]
     },
     "execution_count": 4,
     "metadata": {},
     "output_type": "execute_result"
    }
   ],
   "source": [
    "parser = argparse.ArgumentParser(description=long_description)\n",
    "parser.add_argument('-d','--dry_run',help='if set, turn on dry runs, and not move or delete any file/folder',\n",
    "                    action='store_true')\n",
    "parser.add_argument('-q','--quiet',help='if set, quiet the comments',\n",
    "                    action='store_true')\n",
    "parser.add_argument('-i','--in_dir',nargs='?',\n",
    "                    help='Input directory to recurse files, parse, and move',\n",
    "                    default='/data/sunsat/_incoming_gdrive/')\n",
    "parser.add_argument('-r','--root_dir',nargs='?',\n",
    "                    help='full file path of the root directory to save to',\n",
    "                    default='/data/sunsat/')\n",
    "parser.add_argument('-m','--run_matlab',help='if set, will run the matlab calls if there is 4STAR/4STARB raw files',\n",
    "                    action='store_true')"
   ]
  },
  {
   "cell_type": "code",
   "execution_count": 5,
   "metadata": {
    "ExecuteTime": {
     "end_time": "2021-03-31T20:58:16.033850Z",
     "start_time": "2021-03-31T20:58:16.028215Z"
    }
   },
   "outputs": [],
   "source": [
    "in_ = vars(parser.parse_known_args()[0])"
   ]
  },
  {
   "cell_type": "markdown",
   "metadata": {},
   "source": [
    "# Load the modules and get the defaults"
   ]
  },
  {
   "cell_type": "code",
   "execution_count": 6,
   "metadata": {
    "ExecuteTime": {
     "end_time": "2021-03-31T20:58:18.040761Z",
     "start_time": "2021-03-31T20:58:18.020327Z"
    }
   },
   "outputs": [],
   "source": [
    "import os, zipfile\n",
    "import dateutil.parser\n",
    "import re\n",
    "from pathlib2 import Path\n",
    "from datefinder import find_dates\n",
    "from datetime import date, datetime\n",
    "import json\n",
    "import filecmp\n",
    "import subprocess\n",
    "import threading\n",
    "from aeronet import get_AERONET_file_v2"
   ]
  },
  {
   "cell_type": "code",
   "execution_count": 7,
   "metadata": {
    "ExecuteTime": {
     "end_time": "2021-03-31T20:58:19.898840Z",
     "start_time": "2021-03-31T20:58:19.893094Z"
    }
   },
   "outputs": [],
   "source": [
    "in_directory = in_.get('in_dir','/data/sunsat/_incoming_gdrive/')\n",
    "root_folder = in_.get('root_dir','/data/sunsat/')"
   ]
  },
  {
   "cell_type": "code",
   "execution_count": 8,
   "metadata": {
    "ExecuteTime": {
     "end_time": "2021-03-31T20:58:23.236273Z",
     "start_time": "2021-03-31T20:58:23.229844Z"
    }
   },
   "outputs": [],
   "source": [
    "verbose = not in_.get('quiet',False)\n",
    "dry_run = in_.get('dry_run',True)\n",
    "run_matlab = in_.get('run_matlab',False)"
   ]
  },
  {
   "cell_type": "code",
   "execution_count": 9,
   "metadata": {
    "ExecuteTime": {
     "end_time": "2021-03-31T20:58:24.331180Z",
     "start_time": "2021-03-31T20:58:24.324361Z"
    }
   },
   "outputs": [
    {
     "name": "stdout",
     "output_type": "stream",
     "text": [
      "{'in_dir': '/data/sunsat/_incoming_gdrive/', 'root_dir': '/data/sunsat/', 'quiet': False, 'dry_run': False, 'run_matlab': False}\n"
     ]
    }
   ],
   "source": [
    "if verbose: print( in_)"
   ]
  },
  {
   "cell_type": "code",
   "execution_count": 11,
   "metadata": {
    "ExecuteTime": {
     "end_time": "2021-03-31T20:58:42.966880Z",
     "start_time": "2021-03-31T20:58:42.949056Z"
    }
   },
   "outputs": [],
   "source": [
    "# Go through and unzip any folder\n",
    "prefix = '*DRY RUN*: ' if dry_run else ''\n",
    "for item in os.listdir(in_directory): # loop through items in dir\n",
    "    if item.lower().endswith('.zip'): # check for \".zip\" extension\n",
    "        file_name = Path(in_directory+item) # get full path of files\n",
    "        zip_ref = zipfile.ZipFile(str(file_name)) # create zipfile object\n",
    "        if verbose: \n",
    "            print( '{prefix}found zip file: {file_name}, extracting here.'.format(prefix=prefix,file_name=file_name))\n",
    "        if not dry_run: \n",
    "            file_name.parent.joinpath(file_name.stem).mkdir(parents=True,exist_ok=True) # make a dir to extract to\n",
    "            zip_ref.extractall(str(file_name.parent.joinpath(file_name.stem))) # extract file to dir\n",
    "        zip_ref.close() # close file\n",
    "        if not dry_run: os.remove(str(file_name)) # delete zipped file"
   ]
  },
  {
   "cell_type": "code",
   "execution_count": 58,
   "metadata": {
    "ExecuteTime": {
     "end_time": "2021-03-31T21:23:48.256005Z",
     "start_time": "2021-03-31T21:23:48.075627Z"
    }
   },
   "outputs": [
    {
     "name": "stdout",
     "output_type": "stream",
     "text": [
      "5STARG_20210223_160552_RADIOMETERS_CH9_without_trim.dat -> 5STAR CH9_without_trim CH9_without_trim 2021-02-23 00:00:00 20210223 5STARG_20210223_160552_RADIOMETERS_CH9_without_trim\n",
      "5STARG_20210301_190356_RADIOMETERS_NIRResistor.dat -> 5STAR NIRResistor NIRResistor 2021-03-01 00:00:00 20210301 5STARG_20210301_190356_RADIOMETERS_NIRResistor\n",
      "20210330_4STARsisters_AmesRoof_EastBayFire -> None 4STARsisters_AmesRoof_EastBayFire None 2021-03-30 00:00:00 20210330 20210330_4STARsisters_AmesRoof_EastBayFire\n",
      "20210330_fire3.jpg -> None 4STARsisters_AmesRoof_EastBayFire fire3 2021-03-30 00:00:00 20210330 20210330_fire3\n",
      "20210330_4STARA -> 4STAR 4STARsisters_AmesRoof_EastBayFire None 2021-03-30 00:00:00 20210330 20210330_4STARA\n",
      "4STAR_20210330_005_TRACK.dat -> 4STAR 4STARsisters_AmesRoof_EastBayFire 005_TRACK 2021-03-30 00:00:00 20210330 4STAR_20210330_005_TRACK\n",
      "4STAR_20210330_004_VIS_SKYA.dat -> 4STAR 4STARsisters_AmesRoof_EastBayFire 004_VIS_SKYA 2021-03-30 00:00:00 20210330 4STAR_20210330_004_VIS_SKYA\n",
      "4STAR_20210330_007_VIS_SKYP.dat -> 4STAR 4STARsisters_AmesRoof_EastBayFire 007_VIS_SKYP 2021-03-30 00:00:00 20210330 4STAR_20210330_007_VIS_SKYP\n",
      "4STAR_20210330_011_NIR_SKYP.dat -> 4STAR 4STARsisters_AmesRoof_EastBayFire 011_NIR_SKYP 2021-03-30 00:00:00 20210330 4STAR_20210330_011_NIR_SKYP\n",
      "4STAR_20210330_018_NIR_SUN.dat -> 4STAR 4STARsisters_AmesRoof_EastBayFire 018_NIR_SUN 2021-03-30 00:00:00 20210330 4STAR_20210330_018_NIR_SUN\n",
      "4STAR_20210330_020_NIR_SKYA.dat -> 4STAR 4STARsisters_AmesRoof_EastBayFire 020_NIR_SKYA 2021-03-30 00:00:00 20210330 4STAR_20210330_020_NIR_SKYA\n",
      "4STAR_20210330_018_VIS_SUN.dat -> 4STAR 4STARsisters_AmesRoof_EastBayFire 018_VIS_SUN 2021-03-30 00:00:00 20210330 4STAR_20210330_018_VIS_SUN\n",
      "4STAR_20210330_004_NIR_SKYA.dat -> 4STAR 4STARsisters_AmesRoof_EastBayFire 004_NIR_SKYA 2021-03-30 00:00:00 20210330 4STAR_20210330_004_NIR_SKYA\n",
      "4STAR_20210330_019_VIS_SKYP.dat -> 4STAR 4STARsisters_AmesRoof_EastBayFire 019_VIS_SKYP 2021-03-30 00:00:00 20210330 4STAR_20210330_019_VIS_SKYP\n",
      "4STAR_20210330_021_TRACK.dat -> 4STAR 4STARsisters_AmesRoof_EastBayFire 021_TRACK 2021-03-30 00:00:00 20210330 4STAR_20210330_021_TRACK\n",
      "4STAR_20210330_026_VIS_SUN.dat -> 4STAR 4STARsisters_AmesRoof_EastBayFire 026_VIS_SUN 2021-03-30 00:00:00 20210330 4STAR_20210330_026_VIS_SUN\n",
      "4STAR_20210330_028_VIS_SKYA.dat -> 4STAR 4STARsisters_AmesRoof_EastBayFire 028_VIS_SKYA 2021-03-30 00:00:00 20210330 4STAR_20210330_028_VIS_SKYA\n",
      "4STAR_20210330_020_VIS_SKYA.dat -> 4STAR 4STARsisters_AmesRoof_EastBayFire 020_VIS_SKYA 2021-03-30 00:00:00 20210330 4STAR_20210330_020_VIS_SKYA\n",
      "4STAR_20210330_014_VIS_SUN.dat -> 4STAR 4STARsisters_AmesRoof_EastBayFire 014_VIS_SUN 2021-03-30 00:00:00 20210330 4STAR_20210330_014_VIS_SUN\n",
      "4STAR_20210330_027_NIR_SKYP.dat -> 4STAR 4STARsisters_AmesRoof_EastBayFire 027_NIR_SKYP 2021-03-30 00:00:00 20210330 4STAR_20210330_027_NIR_SKYP\n",
      "4STAR_20210330_010_VIS_SUN.dat -> 4STAR 4STARsisters_AmesRoof_EastBayFire 010_VIS_SUN 2021-03-30 00:00:00 20210330 4STAR_20210330_010_VIS_SUN\n",
      "4STAR_20210330_030_NIR_SUN.dat -> 4STAR 4STARsisters_AmesRoof_EastBayFire 030_NIR_SUN 2021-03-30 00:00:00 20210330 4STAR_20210330_030_NIR_SUN\n",
      "4STAR_20210330_010_NIR_SUN.dat -> 4STAR 4STARsisters_AmesRoof_EastBayFire 010_NIR_SUN 2021-03-30 00:00:00 20210330 4STAR_20210330_010_NIR_SUN\n",
      "4STAR_20210330_023_NIR_SKYP.dat -> 4STAR 4STARsisters_AmesRoof_EastBayFire 023_NIR_SKYP 2021-03-30 00:00:00 20210330 4STAR_20210330_023_NIR_SKYP\n",
      "4STAR_20210330_007_NIR_SKYP.dat -> 4STAR 4STARsisters_AmesRoof_EastBayFire 007_NIR_SKYP 2021-03-30 00:00:00 20210330 4STAR_20210330_007_NIR_SKYP\n",
      "4STAR_20210330_017_TRACK.dat -> 4STAR 4STARsisters_AmesRoof_EastBayFire 017_TRACK 2021-03-30 00:00:00 20210330 4STAR_20210330_017_TRACK\n",
      "4STAR_20210330_013_TRACK.dat -> 4STAR 4STARsisters_AmesRoof_EastBayFire 013_TRACK 2021-03-30 00:00:00 20210330 4STAR_20210330_013_TRACK\n",
      "4STAR_20210330_012_VIS_SKYA.dat -> 4STAR 4STARsisters_AmesRoof_EastBayFire 012_VIS_SKYA 2021-03-30 00:00:00 20210330 4STAR_20210330_012_VIS_SKYA\n",
      "4STAR_20210330_016_VIS_SKYA.dat -> 4STAR 4STARsisters_AmesRoof_EastBayFire 016_VIS_SKYA 2021-03-30 00:00:00 20210330 4STAR_20210330_016_VIS_SKYA\n",
      "4STAR_20210330_003_VIS_SKYP.dat -> 4STAR 4STARsisters_AmesRoof_EastBayFire 003_VIS_SKYP 2021-03-30 00:00:00 20210330 4STAR_20210330_003_VIS_SKYP\n",
      "4STAR_20210330_022_NIR_SUN.dat -> 4STAR 4STARsisters_AmesRoof_EastBayFire 022_NIR_SUN 2021-03-30 00:00:00 20210330 4STAR_20210330_022_NIR_SUN\n",
      "4STAR_20210330_026_NIR_SUN.dat -> 4STAR 4STARsisters_AmesRoof_EastBayFire 026_NIR_SUN 2021-03-30 00:00:00 20210330 4STAR_20210330_026_NIR_SUN\n",
      "4STAR_20210330_019_NIR_SKYP.dat -> 4STAR 4STARsisters_AmesRoof_EastBayFire 019_NIR_SKYP 2021-03-30 00:00:00 20210330 4STAR_20210330_019_NIR_SKYP\n",
      "4STAR_20210330_023_VIS_SKYP.dat -> 4STAR 4STARsisters_AmesRoof_EastBayFire 023_VIS_SKYP 2021-03-30 00:00:00 20210330 4STAR_20210330_023_VIS_SKYP\n",
      "4STAR_20210330_002_TRACK.dat -> 4STAR 4STARsisters_AmesRoof_EastBayFire 002_TRACK 2021-03-30 00:00:00 20210330 4STAR_20210330_002_TRACK\n",
      "4STAR_20210330_008_VIS_SKYA.dat -> 4STAR 4STARsisters_AmesRoof_EastBayFire 008_VIS_SKYA 2021-03-30 00:00:00 20210330 4STAR_20210330_008_VIS_SKYA\n",
      "4STAR_20210330_015_NIR_SKYP.dat -> 4STAR 4STARsisters_AmesRoof_EastBayFire 015_NIR_SKYP 2021-03-30 00:00:00 20210330 4STAR_20210330_015_NIR_SKYP\n",
      "4STAR_20210330_030_VIS_SUN.dat -> 4STAR 4STARsisters_AmesRoof_EastBayFire 030_VIS_SUN 2021-03-30 00:00:00 20210330 4STAR_20210330_030_VIS_SUN\n",
      "4STAR_20210330_027_VIS_SKYP.dat -> 4STAR 4STARsisters_AmesRoof_EastBayFire 027_VIS_SKYP 2021-03-30 00:00:00 20210330 4STAR_20210330_027_VIS_SKYP\n",
      "4STAR_20210330_001_NIR_SUN.dat -> 4STAR 4STARsisters_AmesRoof_EastBayFire 001_NIR_SUN 2021-03-30 00:00:00 20210330 4STAR_20210330_001_NIR_SUN\n",
      "4STAR_20210330_006_VIS_SUN.dat -> 4STAR 4STARsisters_AmesRoof_EastBayFire 006_VIS_SUN 2021-03-30 00:00:00 20210330 4STAR_20210330_006_VIS_SUN\n",
      "4STAR_20210330_024_VIS_SKYA.dat -> 4STAR 4STARsisters_AmesRoof_EastBayFire 024_VIS_SKYA 2021-03-30 00:00:00 20210330 4STAR_20210330_024_VIS_SKYA\n",
      "4STAR_20210330_025_TRACK.dat -> 4STAR 4STARsisters_AmesRoof_EastBayFire 025_TRACK 2021-03-30 00:00:00 20210330 4STAR_20210330_025_TRACK\n",
      "4STAR_20210330_001_VIS_SUN.dat -> 4STAR 4STARsisters_AmesRoof_EastBayFire 001_VIS_SUN 2021-03-30 00:00:00 20210330 4STAR_20210330_001_VIS_SUN\n",
      "4STAR_20210330_028_NIR_SKYA.dat -> 4STAR 4STARsisters_AmesRoof_EastBayFire 028_NIR_SKYA 2021-03-30 00:00:00 20210330 4STAR_20210330_028_NIR_SKYA\n",
      "4STAR_20210330_006_NIR_SUN.dat -> 4STAR 4STARsisters_AmesRoof_EastBayFire 006_NIR_SUN 2021-03-30 00:00:00 20210330 4STAR_20210330_006_NIR_SUN\n",
      "4STAR_20210330_022_VIS_SUN.dat -> 4STAR 4STARsisters_AmesRoof_EastBayFire 022_VIS_SUN 2021-03-30 00:00:00 20210330 4STAR_20210330_022_VIS_SUN\n",
      "4STAR_20210330_015_VIS_SKYP.dat -> 4STAR 4STARsisters_AmesRoof_EastBayFire 015_VIS_SKYP 2021-03-30 00:00:00 20210330 4STAR_20210330_015_VIS_SKYP\n",
      "4STAR_20210330_012_NIR_SKYA.dat -> 4STAR 4STARsisters_AmesRoof_EastBayFire 012_NIR_SKYA 2021-03-30 00:00:00 20210330 4STAR_20210330_012_NIR_SKYA\n",
      "4STAR_20210330_024_NIR_SKYA.dat -> 4STAR 4STARsisters_AmesRoof_EastBayFire 024_NIR_SKYA 2021-03-30 00:00:00 20210330 4STAR_20210330_024_NIR_SKYA\n",
      "4STAR_20210330_009_TRACK.dat -> 4STAR 4STARsisters_AmesRoof_EastBayFire 009_TRACK 2021-03-30 00:00:00 20210330 4STAR_20210330_009_TRACK\n",
      "4STAR_20210330_011_VIS_SKYP.dat -> 4STAR 4STARsisters_AmesRoof_EastBayFire 011_VIS_SKYP 2021-03-30 00:00:00 20210330 4STAR_20210330_011_VIS_SKYP\n",
      "4STAR_20210330_003_NIR_SKYP.dat -> 4STAR 4STARsisters_AmesRoof_EastBayFire 003_NIR_SKYP 2021-03-30 00:00:00 20210330 4STAR_20210330_003_NIR_SKYP\n",
      "4STAR_20210330_016_NIR_SKYA.dat -> 4STAR 4STARsisters_AmesRoof_EastBayFire 016_NIR_SKYA 2021-03-30 00:00:00 20210330 4STAR_20210330_016_NIR_SKYA\n",
      "4STAR_20210330_029_TRACK.dat -> 4STAR 4STARsisters_AmesRoof_EastBayFire 029_TRACK 2021-03-30 00:00:00 20210330 4STAR_20210330_029_TRACK\n",
      "4STAR_20210330_008_NIR_SKYA.dat -> 4STAR 4STARsisters_AmesRoof_EastBayFire 008_NIR_SKYA 2021-03-30 00:00:00 20210330 4STAR_20210330_008_NIR_SKYA\n",
      "4STAR_20210330_014_NIR_SUN.dat -> 4STAR 4STARsisters_AmesRoof_EastBayFire 014_NIR_SUN 2021-03-30 00:00:00 20210330 4STAR_20210330_014_NIR_SUN\n",
      "20210330_fire4.jpg -> None 4STARsisters_AmesRoof_EastBayFire fire4 2021-03-30 00:00:00 20210330 20210330_fire4\n",
      "20210330_fire5.jpg -> None 4STARsisters_AmesRoof_EastBayFire fire5 2021-03-30 00:00:00 20210330 20210330_fire5\n",
      "20210330_notes.jpg -> None 4STARsisters_AmesRoof_EastBayFire notes 2021-03-30 00:00:00 20210330 20210330_notes\n",
      "20210330_leakygauge.jpg -> None 4STARsisters_AmesRoof_EastBayFire leakygauge 2021-03-30 00:00:00 20210330 20210330_leakygauge\n",
      "20210330_bustedgauge.jpg -> None 4STARsisters_AmesRoof_EastBayFire bustedgauge 2021-03-30 00:00:00 20210330 20210330_bustedgauge\n",
      "20210330_4STARB -> 4STARB 4STARsisters_AmesRoof_EastBayFire None 2021-03-30 00:00:00 20210330 20210330_4STARB\n",
      "4STARB_20210330_005_NIR_SUN.dat -> 4STARB 4STARsisters_AmesRoof_EastBayFire 005_NIR_SUN 2021-03-30 00:00:00 20210330 4STARB_20210330_005_NIR_SUN\n",
      "4STARB_20210330_004_TRACK.dat -> 4STARB 4STARsisters_AmesRoof_EastBayFire 004_TRACK 2021-03-30 00:00:00 20210330 4STARB_20210330_004_TRACK\n",
      "4STARB_20210330_001_VIS_SUN.dat -> 4STARB 4STARsisters_AmesRoof_EastBayFire 001_VIS_SUN 2021-03-30 00:00:00 20210330 4STARB_20210330_001_VIS_SUN\n",
      "4STARB_20210330_003_NIR_SUN.dat -> 4STARB 4STARsisters_AmesRoof_EastBayFire 003_NIR_SUN 2021-03-30 00:00:00 20210330 4STARB_20210330_003_NIR_SUN\n",
      "4STARB_20210330_003_VIS_SUN.dat -> 4STARB 4STARsisters_AmesRoof_EastBayFire 003_VIS_SUN 2021-03-30 00:00:00 20210330 4STARB_20210330_003_VIS_SUN\n",
      "4STARB_20210330_006_TRACK.dat -> 4STARB 4STARsisters_AmesRoof_EastBayFire 006_TRACK 2021-03-30 00:00:00 20210330 4STARB_20210330_006_TRACK\n",
      "4STARB_20210330_001_NIR_SUN.dat -> 4STARB 4STARsisters_AmesRoof_EastBayFire 001_NIR_SUN 2021-03-30 00:00:00 20210330 4STARB_20210330_001_NIR_SUN\n",
      "4STARB_20210330_005_VIS_SUN.dat -> 4STARB 4STARsisters_AmesRoof_EastBayFire 005_VIS_SUN 2021-03-30 00:00:00 20210330 4STARB_20210330_005_VIS_SUN\n",
      "4STARB_20210330_002_TRACK.dat -> 4STARB 4STARsisters_AmesRoof_EastBayFire 002_TRACK 2021-03-30 00:00:00 20210330 4STARB_20210330_002_TRACK\n",
      "20210330_morningconditions.jpg -> None 4STARsisters_AmesRoof_EastBayFire morningconditions 2021-03-30 00:00:00 20210330 20210330_morningconditions\n",
      "20210330_fire1.jpg -> None 4STARsisters_AmesRoof_EastBayFire fire1 2021-03-30 00:00:00 20210330 20210330_fire1\n",
      "20210330_fire2.jpg -> None 4STARsisters_AmesRoof_EastBayFire fire2 2021-03-30 00:00:00 20210330 20210330_fire2\n"
     ]
    }
   ],
   "source": [
    "filters = get_filters_from_json(in_directory)\n",
    "fl_arr = recurse_through_dir(in_directory,verbose=verbose,filters=filters)"
   ]
  },
  {
   "cell_type": "code",
   "execution_count": 59,
   "metadata": {
    "ExecuteTime": {
     "end_time": "2021-03-31T21:24:02.155847Z",
     "start_time": "2021-03-31T21:24:02.091627Z"
    }
   },
   "outputs": [
    {
     "name": "stdout",
     "output_type": "stream",
     "text": [
      "*DRY RUN*: +Creating new path: /data/sunsat/rooftop/Winter_2021/data_raw/5STAR_20210223_CH9_without_trim\n",
      "*DRY RUN*: ~Moving file from /data/sunsat/_incoming_gdrive/5STARG_20210223_160552_RADIOMETERS_CH9_without_trim.dat\n",
      "   to new path: /data/sunsat/rooftop/Winter_2021/data_raw/5STAR_20210223_CH9_without_trim/5STARG_20210223_160552_RADIOMETERS_CH9_without_trim.dat\n",
      "*DRY RUN*: +Creating new path: /data/sunsat/rooftop/Winter_2021/data_raw/5STAR_20210301_NIRResistor\n",
      "*DRY RUN*: ~Moving file from /data/sunsat/_incoming_gdrive/5STARG_20210301_190356_RADIOMETERS_NIRResistor.dat\n",
      "   to new path: /data/sunsat/rooftop/Winter_2021/data_raw/5STAR_20210301_NIRResistor/5STARG_20210301_190356_RADIOMETERS_NIRResistor.dat\n",
      "*DRY RUN*: +Creating new path: /data/sunsat/rooftop/Spring_2021/notes/20210330_4STARsisters_AmesRoof_EastBayFire\n",
      "*DRY RUN*: ~Moving file from /data/sunsat/_incoming_gdrive/20210330_4STARsisters_AmesRoof_EastBayFire/20210330_fire3.jpg\n",
      "   to new path: /data/sunsat/rooftop/Spring_2021/notes/20210330_4STARsisters_AmesRoof_EastBayFire/20210330_fire3.jpg\n",
      "*DRY RUN*: +Creating new path: /data/sunsat/rooftop/Spring_2021/data_raw/4STAR_20210330_4STARsisters_AmesRoof_EastBayFire\n",
      "*DRY RUN*: ~Moving file from /data/sunsat/_incoming_gdrive/20210330_4STARsisters_AmesRoof_EastBayFire/20210330_4STARA/4STAR_20210330_005_TRACK.dat\n",
      "   to new path: /data/sunsat/rooftop/Spring_2021/data_raw/4STAR_20210330_4STARsisters_AmesRoof_EastBayFire/4STAR_20210330_005_TRACK.dat\n",
      "*DRY RUN*: +Creating new path: /data/sunsat/rooftop/Spring_2021/data_raw/4STAR_20210330_4STARsisters_AmesRoof_EastBayFire\n",
      "*DRY RUN*: ~Moving file from /data/sunsat/_incoming_gdrive/20210330_4STARsisters_AmesRoof_EastBayFire/20210330_4STARA/4STAR_20210330_004_VIS_SKYA.dat\n",
      "   to new path: /data/sunsat/rooftop/Spring_2021/data_raw/4STAR_20210330_4STARsisters_AmesRoof_EastBayFire/4STAR_20210330_004_VIS_SKYA.dat\n",
      "*DRY RUN*: +Creating new path: /data/sunsat/rooftop/Spring_2021/data_raw/4STAR_20210330_4STARsisters_AmesRoof_EastBayFire\n",
      "*DRY RUN*: ~Moving file from /data/sunsat/_incoming_gdrive/20210330_4STARsisters_AmesRoof_EastBayFire/20210330_4STARA/4STAR_20210330_007_VIS_SKYP.dat\n",
      "   to new path: /data/sunsat/rooftop/Spring_2021/data_raw/4STAR_20210330_4STARsisters_AmesRoof_EastBayFire/4STAR_20210330_007_VIS_SKYP.dat\n",
      "*DRY RUN*: +Creating new path: /data/sunsat/rooftop/Spring_2021/data_raw/4STAR_20210330_4STARsisters_AmesRoof_EastBayFire\n",
      "*DRY RUN*: ~Moving file from /data/sunsat/_incoming_gdrive/20210330_4STARsisters_AmesRoof_EastBayFire/20210330_4STARA/4STAR_20210330_011_NIR_SKYP.dat\n",
      "   to new path: /data/sunsat/rooftop/Spring_2021/data_raw/4STAR_20210330_4STARsisters_AmesRoof_EastBayFire/4STAR_20210330_011_NIR_SKYP.dat\n",
      "*DRY RUN*: +Creating new path: /data/sunsat/rooftop/Spring_2021/data_raw/4STAR_20210330_4STARsisters_AmesRoof_EastBayFire\n",
      "*DRY RUN*: ~Moving file from /data/sunsat/_incoming_gdrive/20210330_4STARsisters_AmesRoof_EastBayFire/20210330_4STARA/4STAR_20210330_018_NIR_SUN.dat\n",
      "   to new path: /data/sunsat/rooftop/Spring_2021/data_raw/4STAR_20210330_4STARsisters_AmesRoof_EastBayFire/4STAR_20210330_018_NIR_SUN.dat\n",
      "*DRY RUN*: +Creating new path: /data/sunsat/rooftop/Spring_2021/data_raw/4STAR_20210330_4STARsisters_AmesRoof_EastBayFire\n",
      "*DRY RUN*: ~Moving file from /data/sunsat/_incoming_gdrive/20210330_4STARsisters_AmesRoof_EastBayFire/20210330_4STARA/4STAR_20210330_020_NIR_SKYA.dat\n",
      "   to new path: /data/sunsat/rooftop/Spring_2021/data_raw/4STAR_20210330_4STARsisters_AmesRoof_EastBayFire/4STAR_20210330_020_NIR_SKYA.dat\n",
      "*DRY RUN*: +Creating new path: /data/sunsat/rooftop/Spring_2021/data_raw/4STAR_20210330_4STARsisters_AmesRoof_EastBayFire\n",
      "*DRY RUN*: ~Moving file from /data/sunsat/_incoming_gdrive/20210330_4STARsisters_AmesRoof_EastBayFire/20210330_4STARA/4STAR_20210330_018_VIS_SUN.dat\n",
      "   to new path: /data/sunsat/rooftop/Spring_2021/data_raw/4STAR_20210330_4STARsisters_AmesRoof_EastBayFire/4STAR_20210330_018_VIS_SUN.dat\n",
      "*DRY RUN*: +Creating new path: /data/sunsat/rooftop/Spring_2021/data_raw/4STAR_20210330_4STARsisters_AmesRoof_EastBayFire\n",
      "*DRY RUN*: ~Moving file from /data/sunsat/_incoming_gdrive/20210330_4STARsisters_AmesRoof_EastBayFire/20210330_4STARA/4STAR_20210330_004_NIR_SKYA.dat\n",
      "   to new path: /data/sunsat/rooftop/Spring_2021/data_raw/4STAR_20210330_4STARsisters_AmesRoof_EastBayFire/4STAR_20210330_004_NIR_SKYA.dat\n",
      "*DRY RUN*: +Creating new path: /data/sunsat/rooftop/Spring_2021/data_raw/4STAR_20210330_4STARsisters_AmesRoof_EastBayFire\n",
      "*DRY RUN*: ~Moving file from /data/sunsat/_incoming_gdrive/20210330_4STARsisters_AmesRoof_EastBayFire/20210330_4STARA/4STAR_20210330_019_VIS_SKYP.dat\n",
      "   to new path: /data/sunsat/rooftop/Spring_2021/data_raw/4STAR_20210330_4STARsisters_AmesRoof_EastBayFire/4STAR_20210330_019_VIS_SKYP.dat\n",
      "*DRY RUN*: +Creating new path: /data/sunsat/rooftop/Spring_2021/data_raw/4STAR_20210330_4STARsisters_AmesRoof_EastBayFire\n",
      "*DRY RUN*: ~Moving file from /data/sunsat/_incoming_gdrive/20210330_4STARsisters_AmesRoof_EastBayFire/20210330_4STARA/4STAR_20210330_021_TRACK.dat\n",
      "   to new path: /data/sunsat/rooftop/Spring_2021/data_raw/4STAR_20210330_4STARsisters_AmesRoof_EastBayFire/4STAR_20210330_021_TRACK.dat\n",
      "*DRY RUN*: +Creating new path: /data/sunsat/rooftop/Spring_2021/data_raw/4STAR_20210330_4STARsisters_AmesRoof_EastBayFire\n",
      "*DRY RUN*: ~Moving file from /data/sunsat/_incoming_gdrive/20210330_4STARsisters_AmesRoof_EastBayFire/20210330_4STARA/4STAR_20210330_026_VIS_SUN.dat\n",
      "   to new path: /data/sunsat/rooftop/Spring_2021/data_raw/4STAR_20210330_4STARsisters_AmesRoof_EastBayFire/4STAR_20210330_026_VIS_SUN.dat\n",
      "*DRY RUN*: +Creating new path: /data/sunsat/rooftop/Spring_2021/data_raw/4STAR_20210330_4STARsisters_AmesRoof_EastBayFire\n",
      "*DRY RUN*: ~Moving file from /data/sunsat/_incoming_gdrive/20210330_4STARsisters_AmesRoof_EastBayFire/20210330_4STARA/4STAR_20210330_028_VIS_SKYA.dat\n",
      "   to new path: /data/sunsat/rooftop/Spring_2021/data_raw/4STAR_20210330_4STARsisters_AmesRoof_EastBayFire/4STAR_20210330_028_VIS_SKYA.dat\n",
      "*DRY RUN*: +Creating new path: /data/sunsat/rooftop/Spring_2021/data_raw/4STAR_20210330_4STARsisters_AmesRoof_EastBayFire\n",
      "*DRY RUN*: ~Moving file from /data/sunsat/_incoming_gdrive/20210330_4STARsisters_AmesRoof_EastBayFire/20210330_4STARA/4STAR_20210330_020_VIS_SKYA.dat\n",
      "   to new path: /data/sunsat/rooftop/Spring_2021/data_raw/4STAR_20210330_4STARsisters_AmesRoof_EastBayFire/4STAR_20210330_020_VIS_SKYA.dat\n",
      "*DRY RUN*: +Creating new path: /data/sunsat/rooftop/Spring_2021/data_raw/4STAR_20210330_4STARsisters_AmesRoof_EastBayFire\n",
      "*DRY RUN*: ~Moving file from /data/sunsat/_incoming_gdrive/20210330_4STARsisters_AmesRoof_EastBayFire/20210330_4STARA/4STAR_20210330_014_VIS_SUN.dat\n",
      "   to new path: /data/sunsat/rooftop/Spring_2021/data_raw/4STAR_20210330_4STARsisters_AmesRoof_EastBayFire/4STAR_20210330_014_VIS_SUN.dat\n",
      "*DRY RUN*: +Creating new path: /data/sunsat/rooftop/Spring_2021/data_raw/4STAR_20210330_4STARsisters_AmesRoof_EastBayFire\n",
      "*DRY RUN*: ~Moving file from /data/sunsat/_incoming_gdrive/20210330_4STARsisters_AmesRoof_EastBayFire/20210330_4STARA/4STAR_20210330_027_NIR_SKYP.dat\n",
      "   to new path: /data/sunsat/rooftop/Spring_2021/data_raw/4STAR_20210330_4STARsisters_AmesRoof_EastBayFire/4STAR_20210330_027_NIR_SKYP.dat\n",
      "*DRY RUN*: +Creating new path: /data/sunsat/rooftop/Spring_2021/data_raw/4STAR_20210330_4STARsisters_AmesRoof_EastBayFire\n",
      "*DRY RUN*: ~Moving file from /data/sunsat/_incoming_gdrive/20210330_4STARsisters_AmesRoof_EastBayFire/20210330_4STARA/4STAR_20210330_010_VIS_SUN.dat\n",
      "   to new path: /data/sunsat/rooftop/Spring_2021/data_raw/4STAR_20210330_4STARsisters_AmesRoof_EastBayFire/4STAR_20210330_010_VIS_SUN.dat\n",
      "*DRY RUN*: +Creating new path: /data/sunsat/rooftop/Spring_2021/data_raw/4STAR_20210330_4STARsisters_AmesRoof_EastBayFire\n",
      "*DRY RUN*: ~Moving file from /data/sunsat/_incoming_gdrive/20210330_4STARsisters_AmesRoof_EastBayFire/20210330_4STARA/4STAR_20210330_030_NIR_SUN.dat\n",
      "   to new path: /data/sunsat/rooftop/Spring_2021/data_raw/4STAR_20210330_4STARsisters_AmesRoof_EastBayFire/4STAR_20210330_030_NIR_SUN.dat\n",
      "*DRY RUN*: +Creating new path: /data/sunsat/rooftop/Spring_2021/data_raw/4STAR_20210330_4STARsisters_AmesRoof_EastBayFire\n",
      "*DRY RUN*: ~Moving file from /data/sunsat/_incoming_gdrive/20210330_4STARsisters_AmesRoof_EastBayFire/20210330_4STARA/4STAR_20210330_010_NIR_SUN.dat\n",
      "   to new path: /data/sunsat/rooftop/Spring_2021/data_raw/4STAR_20210330_4STARsisters_AmesRoof_EastBayFire/4STAR_20210330_010_NIR_SUN.dat\n",
      "*DRY RUN*: +Creating new path: /data/sunsat/rooftop/Spring_2021/data_raw/4STAR_20210330_4STARsisters_AmesRoof_EastBayFire\n",
      "*DRY RUN*: ~Moving file from /data/sunsat/_incoming_gdrive/20210330_4STARsisters_AmesRoof_EastBayFire/20210330_4STARA/4STAR_20210330_023_NIR_SKYP.dat\n",
      "   to new path: /data/sunsat/rooftop/Spring_2021/data_raw/4STAR_20210330_4STARsisters_AmesRoof_EastBayFire/4STAR_20210330_023_NIR_SKYP.dat\n",
      "*DRY RUN*: +Creating new path: /data/sunsat/rooftop/Spring_2021/data_raw/4STAR_20210330_4STARsisters_AmesRoof_EastBayFire\n",
      "*DRY RUN*: ~Moving file from /data/sunsat/_incoming_gdrive/20210330_4STARsisters_AmesRoof_EastBayFire/20210330_4STARA/4STAR_20210330_007_NIR_SKYP.dat\n",
      "   to new path: /data/sunsat/rooftop/Spring_2021/data_raw/4STAR_20210330_4STARsisters_AmesRoof_EastBayFire/4STAR_20210330_007_NIR_SKYP.dat\n",
      "*DRY RUN*: +Creating new path: /data/sunsat/rooftop/Spring_2021/data_raw/4STAR_20210330_4STARsisters_AmesRoof_EastBayFire\n",
      "*DRY RUN*: ~Moving file from /data/sunsat/_incoming_gdrive/20210330_4STARsisters_AmesRoof_EastBayFire/20210330_4STARA/4STAR_20210330_017_TRACK.dat\n",
      "   to new path: /data/sunsat/rooftop/Spring_2021/data_raw/4STAR_20210330_4STARsisters_AmesRoof_EastBayFire/4STAR_20210330_017_TRACK.dat\n",
      "*DRY RUN*: +Creating new path: /data/sunsat/rooftop/Spring_2021/data_raw/4STAR_20210330_4STARsisters_AmesRoof_EastBayFire\n",
      "*DRY RUN*: ~Moving file from /data/sunsat/_incoming_gdrive/20210330_4STARsisters_AmesRoof_EastBayFire/20210330_4STARA/4STAR_20210330_013_TRACK.dat\n",
      "   to new path: /data/sunsat/rooftop/Spring_2021/data_raw/4STAR_20210330_4STARsisters_AmesRoof_EastBayFire/4STAR_20210330_013_TRACK.dat\n",
      "*DRY RUN*: +Creating new path: /data/sunsat/rooftop/Spring_2021/data_raw/4STAR_20210330_4STARsisters_AmesRoof_EastBayFire\n",
      "*DRY RUN*: ~Moving file from /data/sunsat/_incoming_gdrive/20210330_4STARsisters_AmesRoof_EastBayFire/20210330_4STARA/4STAR_20210330_012_VIS_SKYA.dat\n",
      "   to new path: /data/sunsat/rooftop/Spring_2021/data_raw/4STAR_20210330_4STARsisters_AmesRoof_EastBayFire/4STAR_20210330_012_VIS_SKYA.dat\n",
      "*DRY RUN*: +Creating new path: /data/sunsat/rooftop/Spring_2021/data_raw/4STAR_20210330_4STARsisters_AmesRoof_EastBayFire\n",
      "*DRY RUN*: ~Moving file from /data/sunsat/_incoming_gdrive/20210330_4STARsisters_AmesRoof_EastBayFire/20210330_4STARA/4STAR_20210330_016_VIS_SKYA.dat\n",
      "   to new path: /data/sunsat/rooftop/Spring_2021/data_raw/4STAR_20210330_4STARsisters_AmesRoof_EastBayFire/4STAR_20210330_016_VIS_SKYA.dat\n",
      "*DRY RUN*: +Creating new path: /data/sunsat/rooftop/Spring_2021/data_raw/4STAR_20210330_4STARsisters_AmesRoof_EastBayFire\n",
      "*DRY RUN*: ~Moving file from /data/sunsat/_incoming_gdrive/20210330_4STARsisters_AmesRoof_EastBayFire/20210330_4STARA/4STAR_20210330_003_VIS_SKYP.dat\n",
      "   to new path: /data/sunsat/rooftop/Spring_2021/data_raw/4STAR_20210330_4STARsisters_AmesRoof_EastBayFire/4STAR_20210330_003_VIS_SKYP.dat\n",
      "*DRY RUN*: +Creating new path: /data/sunsat/rooftop/Spring_2021/data_raw/4STAR_20210330_4STARsisters_AmesRoof_EastBayFire\n",
      "*DRY RUN*: ~Moving file from /data/sunsat/_incoming_gdrive/20210330_4STARsisters_AmesRoof_EastBayFire/20210330_4STARA/4STAR_20210330_022_NIR_SUN.dat\n",
      "   to new path: /data/sunsat/rooftop/Spring_2021/data_raw/4STAR_20210330_4STARsisters_AmesRoof_EastBayFire/4STAR_20210330_022_NIR_SUN.dat\n",
      "*DRY RUN*: +Creating new path: /data/sunsat/rooftop/Spring_2021/data_raw/4STAR_20210330_4STARsisters_AmesRoof_EastBayFire\n",
      "*DRY RUN*: ~Moving file from /data/sunsat/_incoming_gdrive/20210330_4STARsisters_AmesRoof_EastBayFire/20210330_4STARA/4STAR_20210330_026_NIR_SUN.dat\n",
      "   to new path: /data/sunsat/rooftop/Spring_2021/data_raw/4STAR_20210330_4STARsisters_AmesRoof_EastBayFire/4STAR_20210330_026_NIR_SUN.dat\n",
      "*DRY RUN*: +Creating new path: /data/sunsat/rooftop/Spring_2021/data_raw/4STAR_20210330_4STARsisters_AmesRoof_EastBayFire\n",
      "*DRY RUN*: ~Moving file from /data/sunsat/_incoming_gdrive/20210330_4STARsisters_AmesRoof_EastBayFire/20210330_4STARA/4STAR_20210330_019_NIR_SKYP.dat\n",
      "   to new path: /data/sunsat/rooftop/Spring_2021/data_raw/4STAR_20210330_4STARsisters_AmesRoof_EastBayFire/4STAR_20210330_019_NIR_SKYP.dat\n",
      "*DRY RUN*: +Creating new path: /data/sunsat/rooftop/Spring_2021/data_raw/4STAR_20210330_4STARsisters_AmesRoof_EastBayFire\n",
      "*DRY RUN*: ~Moving file from /data/sunsat/_incoming_gdrive/20210330_4STARsisters_AmesRoof_EastBayFire/20210330_4STARA/4STAR_20210330_023_VIS_SKYP.dat\n",
      "   to new path: /data/sunsat/rooftop/Spring_2021/data_raw/4STAR_20210330_4STARsisters_AmesRoof_EastBayFire/4STAR_20210330_023_VIS_SKYP.dat\n",
      "*DRY RUN*: +Creating new path: /data/sunsat/rooftop/Spring_2021/data_raw/4STAR_20210330_4STARsisters_AmesRoof_EastBayFire\n",
      "*DRY RUN*: ~Moving file from /data/sunsat/_incoming_gdrive/20210330_4STARsisters_AmesRoof_EastBayFire/20210330_4STARA/4STAR_20210330_002_TRACK.dat\n",
      "   to new path: /data/sunsat/rooftop/Spring_2021/data_raw/4STAR_20210330_4STARsisters_AmesRoof_EastBayFire/4STAR_20210330_002_TRACK.dat\n",
      "*DRY RUN*: +Creating new path: /data/sunsat/rooftop/Spring_2021/data_raw/4STAR_20210330_4STARsisters_AmesRoof_EastBayFire\n",
      "*DRY RUN*: ~Moving file from /data/sunsat/_incoming_gdrive/20210330_4STARsisters_AmesRoof_EastBayFire/20210330_4STARA/4STAR_20210330_008_VIS_SKYA.dat\n",
      "   to new path: /data/sunsat/rooftop/Spring_2021/data_raw/4STAR_20210330_4STARsisters_AmesRoof_EastBayFire/4STAR_20210330_008_VIS_SKYA.dat\n",
      "*DRY RUN*: +Creating new path: /data/sunsat/rooftop/Spring_2021/data_raw/4STAR_20210330_4STARsisters_AmesRoof_EastBayFire\n",
      "*DRY RUN*: ~Moving file from /data/sunsat/_incoming_gdrive/20210330_4STARsisters_AmesRoof_EastBayFire/20210330_4STARA/4STAR_20210330_015_NIR_SKYP.dat\n",
      "   to new path: /data/sunsat/rooftop/Spring_2021/data_raw/4STAR_20210330_4STARsisters_AmesRoof_EastBayFire/4STAR_20210330_015_NIR_SKYP.dat\n",
      "*DRY RUN*: +Creating new path: /data/sunsat/rooftop/Spring_2021/data_raw/4STAR_20210330_4STARsisters_AmesRoof_EastBayFire\n",
      "*DRY RUN*: ~Moving file from /data/sunsat/_incoming_gdrive/20210330_4STARsisters_AmesRoof_EastBayFire/20210330_4STARA/4STAR_20210330_030_VIS_SUN.dat\n",
      "   to new path: /data/sunsat/rooftop/Spring_2021/data_raw/4STAR_20210330_4STARsisters_AmesRoof_EastBayFire/4STAR_20210330_030_VIS_SUN.dat\n",
      "*DRY RUN*: +Creating new path: /data/sunsat/rooftop/Spring_2021/data_raw/4STAR_20210330_4STARsisters_AmesRoof_EastBayFire\n",
      "*DRY RUN*: ~Moving file from /data/sunsat/_incoming_gdrive/20210330_4STARsisters_AmesRoof_EastBayFire/20210330_4STARA/4STAR_20210330_027_VIS_SKYP.dat\n",
      "   to new path: /data/sunsat/rooftop/Spring_2021/data_raw/4STAR_20210330_4STARsisters_AmesRoof_EastBayFire/4STAR_20210330_027_VIS_SKYP.dat\n",
      "*DRY RUN*: +Creating new path: /data/sunsat/rooftop/Spring_2021/data_raw/4STAR_20210330_4STARsisters_AmesRoof_EastBayFire\n",
      "*DRY RUN*: ~Moving file from /data/sunsat/_incoming_gdrive/20210330_4STARsisters_AmesRoof_EastBayFire/20210330_4STARA/4STAR_20210330_001_NIR_SUN.dat\n",
      "   to new path: /data/sunsat/rooftop/Spring_2021/data_raw/4STAR_20210330_4STARsisters_AmesRoof_EastBayFire/4STAR_20210330_001_NIR_SUN.dat\n",
      "*DRY RUN*: +Creating new path: /data/sunsat/rooftop/Spring_2021/data_raw/4STAR_20210330_4STARsisters_AmesRoof_EastBayFire\n",
      "*DRY RUN*: ~Moving file from /data/sunsat/_incoming_gdrive/20210330_4STARsisters_AmesRoof_EastBayFire/20210330_4STARA/4STAR_20210330_006_VIS_SUN.dat\n",
      "   to new path: /data/sunsat/rooftop/Spring_2021/data_raw/4STAR_20210330_4STARsisters_AmesRoof_EastBayFire/4STAR_20210330_006_VIS_SUN.dat\n",
      "*DRY RUN*: +Creating new path: /data/sunsat/rooftop/Spring_2021/data_raw/4STAR_20210330_4STARsisters_AmesRoof_EastBayFire\n",
      "*DRY RUN*: ~Moving file from /data/sunsat/_incoming_gdrive/20210330_4STARsisters_AmesRoof_EastBayFire/20210330_4STARA/4STAR_20210330_024_VIS_SKYA.dat\n",
      "   to new path: /data/sunsat/rooftop/Spring_2021/data_raw/4STAR_20210330_4STARsisters_AmesRoof_EastBayFire/4STAR_20210330_024_VIS_SKYA.dat\n",
      "*DRY RUN*: +Creating new path: /data/sunsat/rooftop/Spring_2021/data_raw/4STAR_20210330_4STARsisters_AmesRoof_EastBayFire\n",
      "*DRY RUN*: ~Moving file from /data/sunsat/_incoming_gdrive/20210330_4STARsisters_AmesRoof_EastBayFire/20210330_4STARA/4STAR_20210330_025_TRACK.dat\n",
      "   to new path: /data/sunsat/rooftop/Spring_2021/data_raw/4STAR_20210330_4STARsisters_AmesRoof_EastBayFire/4STAR_20210330_025_TRACK.dat\n",
      "*DRY RUN*: +Creating new path: /data/sunsat/rooftop/Spring_2021/data_raw/4STAR_20210330_4STARsisters_AmesRoof_EastBayFire\n",
      "*DRY RUN*: ~Moving file from /data/sunsat/_incoming_gdrive/20210330_4STARsisters_AmesRoof_EastBayFire/20210330_4STARA/4STAR_20210330_001_VIS_SUN.dat\n",
      "   to new path: /data/sunsat/rooftop/Spring_2021/data_raw/4STAR_20210330_4STARsisters_AmesRoof_EastBayFire/4STAR_20210330_001_VIS_SUN.dat\n",
      "*DRY RUN*: +Creating new path: /data/sunsat/rooftop/Spring_2021/data_raw/4STAR_20210330_4STARsisters_AmesRoof_EastBayFire\n",
      "*DRY RUN*: ~Moving file from /data/sunsat/_incoming_gdrive/20210330_4STARsisters_AmesRoof_EastBayFire/20210330_4STARA/4STAR_20210330_028_NIR_SKYA.dat\n",
      "   to new path: /data/sunsat/rooftop/Spring_2021/data_raw/4STAR_20210330_4STARsisters_AmesRoof_EastBayFire/4STAR_20210330_028_NIR_SKYA.dat\n",
      "*DRY RUN*: +Creating new path: /data/sunsat/rooftop/Spring_2021/data_raw/4STAR_20210330_4STARsisters_AmesRoof_EastBayFire\n",
      "*DRY RUN*: ~Moving file from /data/sunsat/_incoming_gdrive/20210330_4STARsisters_AmesRoof_EastBayFire/20210330_4STARA/4STAR_20210330_006_NIR_SUN.dat\n",
      "   to new path: /data/sunsat/rooftop/Spring_2021/data_raw/4STAR_20210330_4STARsisters_AmesRoof_EastBayFire/4STAR_20210330_006_NIR_SUN.dat\n",
      "*DRY RUN*: +Creating new path: /data/sunsat/rooftop/Spring_2021/data_raw/4STAR_20210330_4STARsisters_AmesRoof_EastBayFire\n",
      "*DRY RUN*: ~Moving file from /data/sunsat/_incoming_gdrive/20210330_4STARsisters_AmesRoof_EastBayFire/20210330_4STARA/4STAR_20210330_022_VIS_SUN.dat\n",
      "   to new path: /data/sunsat/rooftop/Spring_2021/data_raw/4STAR_20210330_4STARsisters_AmesRoof_EastBayFire/4STAR_20210330_022_VIS_SUN.dat\n",
      "*DRY RUN*: +Creating new path: /data/sunsat/rooftop/Spring_2021/data_raw/4STAR_20210330_4STARsisters_AmesRoof_EastBayFire\n",
      "*DRY RUN*: ~Moving file from /data/sunsat/_incoming_gdrive/20210330_4STARsisters_AmesRoof_EastBayFire/20210330_4STARA/4STAR_20210330_015_VIS_SKYP.dat\n",
      "   to new path: /data/sunsat/rooftop/Spring_2021/data_raw/4STAR_20210330_4STARsisters_AmesRoof_EastBayFire/4STAR_20210330_015_VIS_SKYP.dat\n",
      "*DRY RUN*: +Creating new path: /data/sunsat/rooftop/Spring_2021/data_raw/4STAR_20210330_4STARsisters_AmesRoof_EastBayFire\n",
      "*DRY RUN*: ~Moving file from /data/sunsat/_incoming_gdrive/20210330_4STARsisters_AmesRoof_EastBayFire/20210330_4STARA/4STAR_20210330_012_NIR_SKYA.dat\n",
      "   to new path: /data/sunsat/rooftop/Spring_2021/data_raw/4STAR_20210330_4STARsisters_AmesRoof_EastBayFire/4STAR_20210330_012_NIR_SKYA.dat\n",
      "*DRY RUN*: +Creating new path: /data/sunsat/rooftop/Spring_2021/data_raw/4STAR_20210330_4STARsisters_AmesRoof_EastBayFire\n",
      "*DRY RUN*: ~Moving file from /data/sunsat/_incoming_gdrive/20210330_4STARsisters_AmesRoof_EastBayFire/20210330_4STARA/4STAR_20210330_024_NIR_SKYA.dat\n",
      "   to new path: /data/sunsat/rooftop/Spring_2021/data_raw/4STAR_20210330_4STARsisters_AmesRoof_EastBayFire/4STAR_20210330_024_NIR_SKYA.dat\n",
      "*DRY RUN*: +Creating new path: /data/sunsat/rooftop/Spring_2021/data_raw/4STAR_20210330_4STARsisters_AmesRoof_EastBayFire\n",
      "*DRY RUN*: ~Moving file from /data/sunsat/_incoming_gdrive/20210330_4STARsisters_AmesRoof_EastBayFire/20210330_4STARA/4STAR_20210330_009_TRACK.dat\n",
      "   to new path: /data/sunsat/rooftop/Spring_2021/data_raw/4STAR_20210330_4STARsisters_AmesRoof_EastBayFire/4STAR_20210330_009_TRACK.dat\n",
      "*DRY RUN*: +Creating new path: /data/sunsat/rooftop/Spring_2021/data_raw/4STAR_20210330_4STARsisters_AmesRoof_EastBayFire\n",
      "*DRY RUN*: ~Moving file from /data/sunsat/_incoming_gdrive/20210330_4STARsisters_AmesRoof_EastBayFire/20210330_4STARA/4STAR_20210330_011_VIS_SKYP.dat\n",
      "   to new path: /data/sunsat/rooftop/Spring_2021/data_raw/4STAR_20210330_4STARsisters_AmesRoof_EastBayFire/4STAR_20210330_011_VIS_SKYP.dat\n",
      "*DRY RUN*: +Creating new path: /data/sunsat/rooftop/Spring_2021/data_raw/4STAR_20210330_4STARsisters_AmesRoof_EastBayFire\n",
      "*DRY RUN*: ~Moving file from /data/sunsat/_incoming_gdrive/20210330_4STARsisters_AmesRoof_EastBayFire/20210330_4STARA/4STAR_20210330_003_NIR_SKYP.dat\n",
      "   to new path: /data/sunsat/rooftop/Spring_2021/data_raw/4STAR_20210330_4STARsisters_AmesRoof_EastBayFire/4STAR_20210330_003_NIR_SKYP.dat\n",
      "*DRY RUN*: +Creating new path: /data/sunsat/rooftop/Spring_2021/data_raw/4STAR_20210330_4STARsisters_AmesRoof_EastBayFire\n",
      "*DRY RUN*: ~Moving file from /data/sunsat/_incoming_gdrive/20210330_4STARsisters_AmesRoof_EastBayFire/20210330_4STARA/4STAR_20210330_016_NIR_SKYA.dat\n",
      "   to new path: /data/sunsat/rooftop/Spring_2021/data_raw/4STAR_20210330_4STARsisters_AmesRoof_EastBayFire/4STAR_20210330_016_NIR_SKYA.dat\n",
      "*DRY RUN*: +Creating new path: /data/sunsat/rooftop/Spring_2021/data_raw/4STAR_20210330_4STARsisters_AmesRoof_EastBayFire\n",
      "*DRY RUN*: ~Moving file from /data/sunsat/_incoming_gdrive/20210330_4STARsisters_AmesRoof_EastBayFire/20210330_4STARA/4STAR_20210330_029_TRACK.dat\n",
      "   to new path: /data/sunsat/rooftop/Spring_2021/data_raw/4STAR_20210330_4STARsisters_AmesRoof_EastBayFire/4STAR_20210330_029_TRACK.dat\n",
      "*DRY RUN*: +Creating new path: /data/sunsat/rooftop/Spring_2021/data_raw/4STAR_20210330_4STARsisters_AmesRoof_EastBayFire\n",
      "*DRY RUN*: ~Moving file from /data/sunsat/_incoming_gdrive/20210330_4STARsisters_AmesRoof_EastBayFire/20210330_4STARA/4STAR_20210330_008_NIR_SKYA.dat\n",
      "   to new path: /data/sunsat/rooftop/Spring_2021/data_raw/4STAR_20210330_4STARsisters_AmesRoof_EastBayFire/4STAR_20210330_008_NIR_SKYA.dat\n",
      "*DRY RUN*: +Creating new path: /data/sunsat/rooftop/Spring_2021/data_raw/4STAR_20210330_4STARsisters_AmesRoof_EastBayFire\n",
      "*DRY RUN*: ~Moving file from /data/sunsat/_incoming_gdrive/20210330_4STARsisters_AmesRoof_EastBayFire/20210330_4STARA/4STAR_20210330_014_NIR_SUN.dat\n",
      "   to new path: /data/sunsat/rooftop/Spring_2021/data_raw/4STAR_20210330_4STARsisters_AmesRoof_EastBayFire/4STAR_20210330_014_NIR_SUN.dat\n",
      "*DRY RUN*: +Creating new path: /data/sunsat/rooftop/Spring_2021/notes/20210330_4STARsisters_AmesRoof_EastBayFire\n",
      "*DRY RUN*: ~Moving file from /data/sunsat/_incoming_gdrive/20210330_4STARsisters_AmesRoof_EastBayFire/20210330_fire4.jpg\n",
      "   to new path: /data/sunsat/rooftop/Spring_2021/notes/20210330_4STARsisters_AmesRoof_EastBayFire/20210330_fire4.jpg\n",
      "*DRY RUN*: +Creating new path: /data/sunsat/rooftop/Spring_2021/notes/20210330_4STARsisters_AmesRoof_EastBayFire\n",
      "*DRY RUN*: ~Moving file from /data/sunsat/_incoming_gdrive/20210330_4STARsisters_AmesRoof_EastBayFire/20210330_fire5.jpg\n",
      "   to new path: /data/sunsat/rooftop/Spring_2021/notes/20210330_4STARsisters_AmesRoof_EastBayFire/20210330_fire5.jpg\n",
      "*DRY RUN*: +Creating new path: /data/sunsat/rooftop/Spring_2021/notes/20210330_4STARsisters_AmesRoof_EastBayFire\n",
      "*DRY RUN*: ~Moving file from /data/sunsat/_incoming_gdrive/20210330_4STARsisters_AmesRoof_EastBayFire/20210330_notes.jpg\n",
      "   to new path: /data/sunsat/rooftop/Spring_2021/notes/20210330_4STARsisters_AmesRoof_EastBayFire/20210330_notes.jpg\n",
      "*DRY RUN*: +Creating new path: /data/sunsat/rooftop/Spring_2021/notes/20210330_4STARsisters_AmesRoof_EastBayFire\n",
      "*DRY RUN*: ~Moving file from /data/sunsat/_incoming_gdrive/20210330_4STARsisters_AmesRoof_EastBayFire/20210330_leakygauge.jpg\n",
      "   to new path: /data/sunsat/rooftop/Spring_2021/notes/20210330_4STARsisters_AmesRoof_EastBayFire/20210330_leakygauge.jpg\n",
      "*DRY RUN*: +Creating new path: /data/sunsat/rooftop/Spring_2021/notes/20210330_4STARsisters_AmesRoof_EastBayFire\n",
      "*DRY RUN*: ~Moving file from /data/sunsat/_incoming_gdrive/20210330_4STARsisters_AmesRoof_EastBayFire/20210330_bustedgauge.jpg\n",
      "   to new path: /data/sunsat/rooftop/Spring_2021/notes/20210330_4STARsisters_AmesRoof_EastBayFire/20210330_bustedgauge.jpg\n",
      "*DRY RUN*: +Creating new path: /data/sunsat/rooftop/Spring_2021/data_raw/4STARB_20210330_4STARsisters_AmesRoof_EastBayFire\n",
      "*DRY RUN*: ~Moving file from /data/sunsat/_incoming_gdrive/20210330_4STARsisters_AmesRoof_EastBayFire/20210330_4STARB/4STARB_20210330_005_NIR_SUN.dat\n",
      "   to new path: /data/sunsat/rooftop/Spring_2021/data_raw/4STARB_20210330_4STARsisters_AmesRoof_EastBayFire/4STARB_20210330_005_NIR_SUN.dat\n",
      "*DRY RUN*: +Creating new path: /data/sunsat/rooftop/Spring_2021/data_raw/4STARB_20210330_4STARsisters_AmesRoof_EastBayFire\n",
      "*DRY RUN*: ~Moving file from /data/sunsat/_incoming_gdrive/20210330_4STARsisters_AmesRoof_EastBayFire/20210330_4STARB/4STARB_20210330_004_TRACK.dat\n",
      "   to new path: /data/sunsat/rooftop/Spring_2021/data_raw/4STARB_20210330_4STARsisters_AmesRoof_EastBayFire/4STARB_20210330_004_TRACK.dat\n",
      "*DRY RUN*: +Creating new path: /data/sunsat/rooftop/Spring_2021/data_raw/4STARB_20210330_4STARsisters_AmesRoof_EastBayFire\n",
      "*DRY RUN*: ~Moving file from /data/sunsat/_incoming_gdrive/20210330_4STARsisters_AmesRoof_EastBayFire/20210330_4STARB/4STARB_20210330_001_VIS_SUN.dat\n",
      "   to new path: /data/sunsat/rooftop/Spring_2021/data_raw/4STARB_20210330_4STARsisters_AmesRoof_EastBayFire/4STARB_20210330_001_VIS_SUN.dat\n",
      "*DRY RUN*: +Creating new path: /data/sunsat/rooftop/Spring_2021/data_raw/4STARB_20210330_4STARsisters_AmesRoof_EastBayFire\n",
      "*DRY RUN*: ~Moving file from /data/sunsat/_incoming_gdrive/20210330_4STARsisters_AmesRoof_EastBayFire/20210330_4STARB/4STARB_20210330_003_NIR_SUN.dat\n",
      "   to new path: /data/sunsat/rooftop/Spring_2021/data_raw/4STARB_20210330_4STARsisters_AmesRoof_EastBayFire/4STARB_20210330_003_NIR_SUN.dat\n",
      "*DRY RUN*: +Creating new path: /data/sunsat/rooftop/Spring_2021/data_raw/4STARB_20210330_4STARsisters_AmesRoof_EastBayFire\n",
      "*DRY RUN*: ~Moving file from /data/sunsat/_incoming_gdrive/20210330_4STARsisters_AmesRoof_EastBayFire/20210330_4STARB/4STARB_20210330_003_VIS_SUN.dat\n",
      "   to new path: /data/sunsat/rooftop/Spring_2021/data_raw/4STARB_20210330_4STARsisters_AmesRoof_EastBayFire/4STARB_20210330_003_VIS_SUN.dat\n",
      "*DRY RUN*: +Creating new path: /data/sunsat/rooftop/Spring_2021/data_raw/4STARB_20210330_4STARsisters_AmesRoof_EastBayFire\n",
      "*DRY RUN*: ~Moving file from /data/sunsat/_incoming_gdrive/20210330_4STARsisters_AmesRoof_EastBayFire/20210330_4STARB/4STARB_20210330_006_TRACK.dat\n",
      "   to new path: /data/sunsat/rooftop/Spring_2021/data_raw/4STARB_20210330_4STARsisters_AmesRoof_EastBayFire/4STARB_20210330_006_TRACK.dat\n",
      "*DRY RUN*: +Creating new path: /data/sunsat/rooftop/Spring_2021/data_raw/4STARB_20210330_4STARsisters_AmesRoof_EastBayFire\n",
      "*DRY RUN*: ~Moving file from /data/sunsat/_incoming_gdrive/20210330_4STARsisters_AmesRoof_EastBayFire/20210330_4STARB/4STARB_20210330_001_NIR_SUN.dat\n",
      "   to new path: /data/sunsat/rooftop/Spring_2021/data_raw/4STARB_20210330_4STARsisters_AmesRoof_EastBayFire/4STARB_20210330_001_NIR_SUN.dat\n",
      "*DRY RUN*: +Creating new path: /data/sunsat/rooftop/Spring_2021/data_raw/4STARB_20210330_4STARsisters_AmesRoof_EastBayFire\n",
      "*DRY RUN*: ~Moving file from /data/sunsat/_incoming_gdrive/20210330_4STARsisters_AmesRoof_EastBayFire/20210330_4STARB/4STARB_20210330_005_VIS_SUN.dat\n",
      "   to new path: /data/sunsat/rooftop/Spring_2021/data_raw/4STARB_20210330_4STARsisters_AmesRoof_EastBayFire/4STARB_20210330_005_VIS_SUN.dat\n",
      "*DRY RUN*: +Creating new path: /data/sunsat/rooftop/Spring_2021/data_raw/4STARB_20210330_4STARsisters_AmesRoof_EastBayFire\n",
      "*DRY RUN*: ~Moving file from /data/sunsat/_incoming_gdrive/20210330_4STARsisters_AmesRoof_EastBayFire/20210330_4STARB/4STARB_20210330_002_TRACK.dat\n",
      "   to new path: /data/sunsat/rooftop/Spring_2021/data_raw/4STARB_20210330_4STARsisters_AmesRoof_EastBayFire/4STARB_20210330_002_TRACK.dat\n",
      "*DRY RUN*: +Creating new path: /data/sunsat/rooftop/Spring_2021/notes/20210330_4STARsisters_AmesRoof_EastBayFire\n",
      "*DRY RUN*: ~Moving file from /data/sunsat/_incoming_gdrive/20210330_4STARsisters_AmesRoof_EastBayFire/20210330_morningconditions.jpg\n",
      "   to new path: /data/sunsat/rooftop/Spring_2021/notes/20210330_4STARsisters_AmesRoof_EastBayFire/20210330_morningconditions.jpg\n",
      "*DRY RUN*: +Creating new path: /data/sunsat/rooftop/Spring_2021/notes/20210330_4STARsisters_AmesRoof_EastBayFire\n",
      "*DRY RUN*: ~Moving file from /data/sunsat/_incoming_gdrive/20210330_4STARsisters_AmesRoof_EastBayFire/20210330_fire1.jpg\n",
      "   to new path: /data/sunsat/rooftop/Spring_2021/notes/20210330_4STARsisters_AmesRoof_EastBayFire/20210330_fire1.jpg\n",
      "*DRY RUN*: +Creating new path: /data/sunsat/rooftop/Spring_2021/notes/20210330_4STARsisters_AmesRoof_EastBayFire\n",
      "*DRY RUN*: ~Moving file from /data/sunsat/_incoming_gdrive/20210330_4STARsisters_AmesRoof_EastBayFire/20210330_fire2.jpg\n",
      "   to new path: /data/sunsat/rooftop/Spring_2021/notes/20210330_4STARsisters_AmesRoof_EastBayFire/20210330_fire2.jpg\n"
     ]
    }
   ],
   "source": [
    "data_raw_found, data_raw_files, nexact, nmoved, ncreated, ndataraw =\\\n",
    "                move_files(fl_arr,filters,verbose=verbose,dry_run=dry_run,root_folder=root_folder)"
   ]
  },
  {
   "cell_type": "code",
   "execution_count": 65,
   "metadata": {
    "ExecuteTime": {
     "end_time": "2021-03-31T21:33:46.026721Z",
     "start_time": "2021-03-31T21:33:44.886199Z"
    }
   },
   "outputs": [
    {
     "name": "stdout",
     "output_type": "stream",
     "text": [
      "Downloaded AERONET file: /data/sunsat/rooftop/Winter_2021/data_processed/aeronet/210223_210223_NASA_Ames.lev15\n",
      "Downloaded AERONET file: /data/sunsat/rooftop/Winter_2021/data_processed/aeronet/210301_210301_NASA_Ames.lev15\n",
      "Downloaded AERONET file: /data/sunsat/rooftop/Spring_2021/data_processed/aeronet/210330_210330_NASA_Ames.lev15\n"
     ]
    }
   ],
   "source": [
    "# check if there are raw data files, and if so, get the aeronet\n",
    "if data_raw_found:\n",
    "    daystrss = []\n",
    "    for k in data_raw_files.keys():\n",
    "        instname,daystr0 = k.split('_')\n",
    "        fa_tmp = filetypes('{daystr}_AERONET_NASA_Ames.lev15'.format(instname=instname,daystr=daystr0))\n",
    "        fmla_tmp = get_newfilepath(fa_tmp,filters=filters,fake_file=True,\n",
    "                                   root_folder=root_folder,verbose=verbose,dry_run=dry_run)\n",
    "        if not fa_tmp.newpath.exists() & verbose: print( '{prefix}+Creating new path: {newpath}'.format(**fa_tmp) )\n",
    "        if not dry_run: fa_tmp.newpath.mkdir(parents=True,exist_ok=True)\n",
    "        if not daystr0 in daystrss:\n",
    "            daystrss.append(daystr0)\n",
    "            if fa_tmp.campaign.find('rooftop') >= 0:\n",
    "                aeronet_file = get_AERONET_file_v2(date=fa_tmp.fdate,site='NASA_Ames',path=str(fa_tmp.newpath))\n",
    "                if verbose: print('Downloaded AERONET file: {}'.format(aeronet_file))"
   ]
  },
  {
   "cell_type": "code",
   "execution_count": 66,
   "metadata": {
    "ExecuteTime": {
     "end_time": "2021-03-31T21:34:04.105946Z",
     "start_time": "2021-03-31T21:34:04.093992Z"
    }
   },
   "outputs": [
    {
     "name": "stdout",
     "output_type": "stream",
     "text": [
      "*DRY RUN*: -removing :/data/sunsat/_incoming_gdrive/20210330_4STARsisters_AmesRoof_EastBayFire/20210330_4STARA\n",
      "*DRY RUN*: -removing :/data/sunsat/_incoming_gdrive/20210330_4STARsisters_AmesRoof_EastBayFire/20210330_4STARB\n",
      "*DRY RUN*: -removing :/data/sunsat/_incoming_gdrive/20210330_4STARsisters_AmesRoof_EastBayFire\n"
     ]
    }
   ],
   "source": [
    "# clean up folders after move\n",
    "for dirpath, dirnames, filenames in os.walk(in_directory,topdown=False):\n",
    "    if not dirpath in in_directory:\n",
    "        try: \n",
    "            if verbose: print( '{pre}-removing :{path}'.format(pre=prefix,path=dirpath))\n",
    "            if not dry_run:\n",
    "                os.rmdir(dirpath) \n",
    "        except: \n",
    "            pass"
   ]
  },
  {
   "cell_type": "code",
   "execution_count": 67,
   "metadata": {
    "ExecuteTime": {
     "end_time": "2021-03-31T21:34:10.623402Z",
     "start_time": "2021-03-31T21:34:10.551330Z"
    },
    "scrolled": false
   },
   "outputs": [],
   "source": [
    "nmats = 0\n",
    "if run_matlab:\n",
    "    prefix = '*DRY RUN*: ' if dry_run else ''\n",
    "    for dr,drs in data_raw_files.items():\n",
    "        # get the position of the new star.mat and starsun.mat files\n",
    "        f = filetypes('{}star.mat'.format(dr),filters=filters)\n",
    "        fml = get_newfilepath(f,filters=filters,fake_file=True,root_folder=root_folder)\n",
    "        if not dry_run: f.newpath.mkdir(parents=True,exist_ok=True)\n",
    "        fs = filetypes('{}starsun.mat'.format(dr),filters=filters)\n",
    "        fmls = get_newfilepath(fs,filters=filters,fake_file=True,root_folder=root_folder)\n",
    "        if not dry_run: fs.newpath.mkdir(parents=True,exist_ok=True)\n",
    "            \n",
    "        # make the position of the new quicklook file\n",
    "        instname,daystr = dr.split('_')\n",
    "        fq = filetypes('{daystr}_{instname}_Quicklooks.pptx'.format(instname=instname,daystr=daystr))\n",
    "        fmlq = get_newfilepath(fq,filters=filters,fake_file=True,root_folder=root_folder)\n",
    "        if not dry_run: fq.newpath.mkdir(parents=True,exist_ok=True)\n",
    "        \n",
    "        # make the position of the new figure files\n",
    "        ff = filetypes('{daystr}_{instname}_plots.png'.format(instname=instname,daystr=daystr))\n",
    "        fmlf = get_newfilepath(ff,filters=filters,fake_file=True,root_folder=root_folder)\n",
    "        if not dry_run: ff.newpath.parent.mkdir(parents=True,exist_ok=True)\n",
    "        \n",
    "        # make the position of the aeronet files\n",
    "        fa = filetypes('{daystr}_AERONET_NASA_Ames.lev15'.format(instname=instname,daystr=daystr))\n",
    "        fmla = get_newfilepath(fa,filters=filters,fake_file=True,root_folder=root_folder)\n",
    "        if not dry_run: fa.newpath.mkdir(parents=True,exist_ok=True)\n",
    "        \n",
    "        # make the position of the gas_summary files\n",
    "        fg = filetypes('{instname}_{daystr}_gas_summary.mat'.format(instname=instname,daystr=daystr))\n",
    "        fmlg = get_newfilepath(fg,filters=filters,fake_file=True,root_folder=root_folder)\n",
    "        if not dry_run: fg.newpath.mkdir(parents=True,exist_ok=True)\n",
    "        \n",
    "        # make a string of the raw files    \n",
    "        filelist = \"'\"+\"';'\".join(drs)+\"'\"\n",
    "        if not f.instname in ['4STAR','4STARB']: # only for 4STARs for now.\n",
    "            continue\n",
    "            \n",
    "        mfile = make_temp_mfile(in_directory+'temp.m',filelist=filelist,starmat=str(f.newfile),\\\n",
    "                                starsun=str(fs.newfile),quicklooks=in_directory+str(fq.newfile.name),\\\n",
    "                                fig_path=str(ff.newpath.parent)+'/', aero_path=str(fa.newpath)+'/',\\\n",
    "                                gas_path=str(fg.newpath)+'/', sun_path=str(fs.newpath)+'/',incoming_path=in_directory)\n",
    "\n",
    "        if verbose: \n",
    "            print( ' '.join(['{}matlab'.format(prefix),'-nodisplay','-batch',\"{}\".format(Path(mfile).stem)]))\n",
    "        if not dry_run:\n",
    "            pmfile = Path(mfile)\n",
    "            os.chdir(str(pmfile.parent))\n",
    "            process = subprocess.Popen(['matlab','-nodisplay','-batch',\"{}\".format(pmfile.stem)],\n",
    "                                       shell=False, stdout=subprocess.PIPE,stderr=subprocess.PIPE)\n",
    "\n",
    "            while True:\n",
    "                # handle output by direct access to stdout and stderr\n",
    "                output = process.stdout.readline()\n",
    "                if process.poll() is not None:\n",
    "                    break\n",
    "                if output:\n",
    "                    if verbose: print(output.strip())\n",
    "            rc = process.poll()\n",
    "            if verbose: print(rc)\n",
    "            nmats = nmats + 1\n",
    "                \n",
    "            if rc==0:\n",
    "                os.remove(mfile)"
   ]
  },
  {
   "cell_type": "code",
   "execution_count": 68,
   "metadata": {
    "ExecuteTime": {
     "end_time": "2021-03-31T21:34:13.493134Z",
     "start_time": "2021-03-31T21:34:13.486195Z"
    }
   },
   "outputs": [
    {
     "name": "stdout",
     "output_type": "stream",
     "text": [
      "Wed Mar 31 14:34:13 2021 :Python moved 0 files, Created 0 folders, found 63 files, and generated 0 starmats/suns\n"
     ]
    }
   ],
   "source": [
    "print(datetime.now().strftime(\"%c\")+' :Python moved {nmoved} files, Created {ncreated} folders, found {ndataraw} files, and generated {nmats} starmats/suns'\\\n",
    "      .format(nmoved=nmoved,ncreated=ncreated,ndataraw=ndataraw,nmats=nmats))"
   ]
  },
  {
   "cell_type": "code",
   "execution_count": null,
   "metadata": {},
   "outputs": [],
   "source": []
  }
 ],
 "metadata": {
  "kernelspec": {
   "display_name": "Python 2",
   "language": "python",
   "name": "python2"
  },
  "language_info": {
   "codemirror_mode": {
    "name": "ipython",
    "version": 2
   },
   "file_extension": ".py",
   "mimetype": "text/x-python",
   "name": "python",
   "nbconvert_exporter": "python",
   "pygments_lexer": "ipython2",
   "version": "2.7.18"
  },
  "toc": {
   "base_numbering": 1,
   "nav_menu": {},
   "number_sections": true,
   "sideBar": true,
   "skip_h1_title": false,
   "title_cell": "Table of Contents",
   "title_sidebar": "Contents",
   "toc_cell": false,
   "toc_position": {},
   "toc_section_display": true,
   "toc_window_display": false
  }
 },
 "nbformat": 4,
 "nbformat_minor": 2
}
