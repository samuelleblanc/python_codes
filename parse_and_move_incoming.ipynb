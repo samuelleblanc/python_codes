{
 "cells": [
  {
   "cell_type": "markdown",
   "metadata": {},
   "source": [
    "# Info\n",
    "Purpose:\n",
    "\n",
    "    Take incoming folder for sunsat and parse the subfolders and incoming files\n",
    "\n",
    "Input:\n",
    "\n",
    "    None\n",
    "\n",
    "Output:\n",
    "\n",
    "    Moved and catagorized files\n",
    "\n",
    "Keywords:\n",
    "\n",
    "    none\n",
    "\n",
    "Dependencies:\n",
    "\n",
    "    - os\n",
    "    - dateutil\n",
    "    - re\n",
    "    - pathlib2\n",
    "    - datefinder\n",
    "\n",
    "Needed Files:\n",
    "  - None\n",
    "\n",
    "Modification History:\n",
    "\n",
    "    Written: Samuel LeBlanc, Santa Cruz, CA, 2020-11-06\n",
    "    Modified: Samuel LeBlanc, Santa Cruz, CA, 2020-12-02\n",
    "             - added support for files without a date in the name, using either the directories' date, or the file's date.\n"
   ]
  },
  {
   "cell_type": "markdown",
   "metadata": {},
   "source": [
    "# Set up the background functions"
   ]
  },
  {
   "cell_type": "code",
   "execution_count": 2,
   "metadata": {
    "ExecuteTime": {
     "end_time": "2021-01-26T19:21:36.362887Z",
     "start_time": "2021-01-26T19:21:36.351958Z"
    }
   },
   "outputs": [],
   "source": [
    "from __future__ import print_function \n",
    "from parse_and_move_incoming_fx import get_date_and_string, \\\n",
    "     pull_labels, get_season, filetypes, get_newfilepath, get_filters_from_json, \\\n",
    "     recurse_through_dir, make_temp_mfile, move_files"
   ]
  },
  {
   "cell_type": "markdown",
   "metadata": {},
   "source": [
    "# Prepare the command line argument parser"
   ]
  },
  {
   "cell_type": "code",
   "execution_count": 11,
   "metadata": {
    "ExecuteTime": {
     "end_time": "2020-12-03T22:27:12.224955Z",
     "start_time": "2020-12-03T22:27:12.220130Z"
    }
   },
   "outputs": [],
   "source": [
    "import argparse"
   ]
  },
  {
   "cell_type": "code",
   "execution_count": 12,
   "metadata": {
    "ExecuteTime": {
     "end_time": "2020-12-03T22:27:12.761806Z",
     "start_time": "2020-12-03T22:27:12.756941Z"
    }
   },
   "outputs": [],
   "source": [
    "long_description = \"\"\"    Run the incoming file parser and moves the files to the desired sunsat locations\n",
    "    The File locations and folders are defined by the json file: .filters.json\n",
    "    Please update the date ranges within that file for any new field mission, \n",
    "        if not then assumes rooftop measurements for the season_year\n",
    "    Can run a call to matlab for any incoming 4STAR raw data\"\"\""
   ]
  },
  {
   "cell_type": "code",
   "execution_count": 13,
   "metadata": {
    "ExecuteTime": {
     "end_time": "2020-12-03T22:27:13.188278Z",
     "start_time": "2020-12-03T22:27:13.165168Z"
    }
   },
   "outputs": [
    {
     "data": {
      "text/plain": [
       "_StoreTrueAction(option_strings=['-m', '--run_matlab'], dest='run_matlab', nargs=0, const=True, default=False, type=None, choices=None, help='if set, will run the matlab calls if there is 4STAR/4STARB raw files', metavar=None)"
      ]
     },
     "execution_count": 13,
     "metadata": {},
     "output_type": "execute_result"
    }
   ],
   "source": [
    "parser = argparse.ArgumentParser(description=long_description)\n",
    "parser.add_argument('-d','--dry_run',help='if set, turn on dry runs, and not move or delete any file/folder',\n",
    "                    action='store_true')\n",
    "parser.add_argument('-q','--quiet',help='if set, quiet the comments',\n",
    "                    action='store_true')\n",
    "parser.add_argument('-i','--in_dir',nargs='?',\n",
    "                    help='Input directory to recurse files, parse, and move',\n",
    "                    default='/data/sunsat/_incoming_gdrive/')\n",
    "parser.add_argument('-r','--root_dir',nargs='?',\n",
    "                    help='full file path of the root directory to save to',\n",
    "                    default='/data/sunsat/')\n",
    "parser.add_argument('-m','--run_matlab',help='if set, will run the matlab calls if there is 4STAR/4STARB raw files',\n",
    "                    action='store_true')"
   ]
  },
  {
   "cell_type": "code",
   "execution_count": 14,
   "metadata": {
    "ExecuteTime": {
     "end_time": "2020-12-03T22:27:13.721676Z",
     "start_time": "2020-12-03T22:27:13.716219Z"
    }
   },
   "outputs": [],
   "source": [
    "in_ = vars(parser.parse_known_args()[0])"
   ]
  },
  {
   "cell_type": "markdown",
   "metadata": {},
   "source": [
    "# Load the modules and get the defaults"
   ]
  },
  {
   "cell_type": "code",
   "execution_count": 15,
   "metadata": {
    "ExecuteTime": {
     "end_time": "2020-12-03T22:27:16.442676Z",
     "start_time": "2020-12-03T22:27:16.324275Z"
    }
   },
   "outputs": [],
   "source": [
    "import os, zipfile\n",
    "import dateutil.parser\n",
    "import re\n",
    "from pathlib2 import Path\n",
    "from datefinder import find_dates\n",
    "from datetime import date, datetime\n",
    "import json\n",
    "import filecmp\n",
    "import subprocess\n",
    "import threading\n",
    "from aeronet import get_AERONET_file_v2"
   ]
  },
  {
   "cell_type": "code",
   "execution_count": 16,
   "metadata": {
    "ExecuteTime": {
     "end_time": "2020-12-03T22:27:17.733667Z",
     "start_time": "2020-12-03T22:27:17.726179Z"
    }
   },
   "outputs": [],
   "source": [
    "in_directory = in_.get('in_dir','/data/sunsat/_incoming_gdrive/')\n",
    "root_folder = in_.get('root_dir','/data/sunsat/')"
   ]
  },
  {
   "cell_type": "code",
   "execution_count": 17,
   "metadata": {
    "ExecuteTime": {
     "end_time": "2020-12-03T22:27:18.997273Z",
     "start_time": "2020-12-03T22:27:18.990281Z"
    }
   },
   "outputs": [],
   "source": [
    "verbose = not in_.get('quiet',False)\n",
    "dry_run = in_.get('dry_run',True)\n",
    "run_matlab = in_.get('run_matlab',False)"
   ]
  },
  {
   "cell_type": "code",
   "execution_count": 18,
   "metadata": {
    "ExecuteTime": {
     "end_time": "2020-12-03T22:27:19.483732Z",
     "start_time": "2020-12-03T22:27:19.477221Z"
    }
   },
   "outputs": [
    {
     "name": "stdout",
     "output_type": "stream",
     "text": [
      "{'in_dir': '/data/sunsat/_incoming_gdrive/', 'root_dir': '/data/sunsat/', 'quiet': False, 'dry_run': False, 'run_matlab': False}\n"
     ]
    }
   ],
   "source": [
    "if verbose: print( in_)"
   ]
  },
  {
   "cell_type": "code",
   "execution_count": 19,
   "metadata": {
    "ExecuteTime": {
     "end_time": "2020-12-03T22:27:30.369876Z",
     "start_time": "2020-12-03T22:27:30.357281Z"
    }
   },
   "outputs": [],
   "source": [
    "# Go through and unzip any folder\n",
    "prefix = '*DRY RUN*: ' if dry_run else ''\n",
    "for item in os.listdir(in_directory): # loop through items in dir\n",
    "    if item.lower().endswith('.zip'): # check for \".zip\" extension\n",
    "        file_name = Path(in_directory+item) # get full path of files\n",
    "        zip_ref = zipfile.ZipFile(str(file_name)) # create zipfile object\n",
    "        if verbose: \n",
    "            print( '{prefix}found zip file: {file_name}, extracting here.'.format(prefix=prefix,file_name=file_name))\n",
    "        if not dry_run: \n",
    "            file_name.parent.joinpath(file_name.stem).mkdir(parents=True,exist_ok=True) # make a dir to extract to\n",
    "            zip_ref.extractall(str(file_name.parent.joinpath(file_name.stem))) # extract file to dir\n",
    "        zip_ref.close() # close file\n",
    "        if not dry_run: os.remove(str(file_name)) # delete zipped file"
   ]
  },
  {
   "cell_type": "code",
   "execution_count": 21,
   "metadata": {
    "ExecuteTime": {
     "end_time": "2020-12-03T22:27:54.794978Z",
     "start_time": "2020-12-03T22:27:54.645950Z"
    }
   },
   "outputs": [
    {
     "name": "stdout",
     "output_type": "stream",
     "text": [
      "201115_201115_NASA_Ames.lev15 -> None None NASA_Ames 2020-11-15 00:00:00 201115 201115_201115_NASA_Ames\n",
      "20201112_4STARsisters_AmesRoof -> None 4STARsisters_AmesRoof None 2020-11-12 00:00:00 20201112 20201112_4STARsisters_AmesRoof\n",
      "20201112_4STARB -> 4STARB 4STARsisters_AmesRoof None 2020-11-12 00:00:00 20201112 20201112_4STARB\n",
      "4STARB_20201112_003_NIR_SUN.dat -> 4STARB 4STARsisters_AmesRoof 003_NIR_SUN 2020-11-12 00:00:00 20201112 4STARB_20201112_003_NIR_SUN\n",
      "4STARB_20201112_001_VIS_SUN.dat -> 4STARB 4STARsisters_AmesRoof 001_VIS_SUN 2020-11-12 00:00:00 20201112 4STARB_20201112_001_VIS_SUN\n",
      "4STARB_20201112_004_TRACK.dat -> 4STARB 4STARsisters_AmesRoof 004_TRACK 2020-11-12 00:00:00 20201112 4STARB_20201112_004_TRACK\n",
      "4STARB_20201112_003_VIS_SUN.dat -> 4STARB 4STARsisters_AmesRoof 003_VIS_SUN 2020-11-12 00:00:00 20201112 4STARB_20201112_003_VIS_SUN\n",
      "4STARB_20201112_002_TRACK.dat -> 4STARB 4STARsisters_AmesRoof 002_TRACK 2020-11-12 00:00:00 20201112 4STARB_20201112_002_TRACK\n",
      "4STARB_20201112_001_NIR_SUN.dat -> 4STARB 4STARsisters_AmesRoof 001_NIR_SUN 2020-11-12 00:00:00 20201112 4STARB_20201112_001_NIR_SUN\n",
      "20201113_notes.jpg -> None 4STARsisters_AmesRoof notes 2020-11-13 00:00:00 20201113 20201113_notes\n",
      "20201112_4STARA -> 4STAR 4STARsisters_AmesRoof None 2020-11-12 00:00:00 20201112 20201112_4STARA\n",
      "4STAR_20201113_008_TRACK.dat -> 4STAR 4STARsisters_AmesRoof 008_TRACK 2020-11-13 00:00:00 20201113 4STAR_20201113_008_TRACK\n",
      "4STAR_20201113_013_TRACK.dat -> 4STAR 4STARsisters_AmesRoof 013_TRACK 2020-11-13 00:00:00 20201113 4STAR_20201113_013_TRACK\n",
      "4STAR_20201113_003_TRACK.dat -> 4STAR 4STARsisters_AmesRoof 003_TRACK 2020-11-13 00:00:00 20201113 4STAR_20201113_003_TRACK\n",
      "4STAR_20201113_016_TRACK.dat -> 4STAR 4STARsisters_AmesRoof 016_TRACK 2020-11-13 00:00:00 20201113 4STAR_20201113_016_TRACK\n",
      "4STAR_20201112_001_NIR_SUN.dat -> 4STAR 4STARsisters_AmesRoof 001_NIR_SUN 2020-11-12 00:00:00 20201112 4STAR_20201112_001_NIR_SUN\n",
      "4STAR_20201113_012_TRACK.dat -> 4STAR 4STARsisters_AmesRoof 012_TRACK 2020-11-13 00:00:00 20201113 4STAR_20201113_012_TRACK\n",
      "4STAR_20201112_002_TRACK.dat -> 4STAR 4STARsisters_AmesRoof 002_TRACK 2020-11-12 00:00:00 20201112 4STAR_20201112_002_TRACK\n",
      "4STAR_20201113_004_TRACK.dat -> 4STAR 4STARsisters_AmesRoof 004_TRACK 2020-11-13 00:00:00 20201113 4STAR_20201113_004_TRACK\n",
      "4STAR_20201113_007_TRACK.dat -> 4STAR 4STARsisters_AmesRoof 007_TRACK 2020-11-13 00:00:00 20201113 4STAR_20201113_007_TRACK\n",
      "4STAR_20201112_001_VIS_SUN.dat -> 4STAR 4STARsisters_AmesRoof 001_VIS_SUN 2020-11-12 00:00:00 20201112 4STAR_20201112_001_VIS_SUN\n",
      "4STAR_20201113_009_TRACK.dat -> 4STAR 4STARsisters_AmesRoof 009_TRACK 2020-11-13 00:00:00 20201113 4STAR_20201113_009_TRACK\n",
      "4STAR_20201113_006_TRACK.dat -> 4STAR 4STARsisters_AmesRoof 006_TRACK 2020-11-13 00:00:00 20201113 4STAR_20201113_006_TRACK\n",
      "4STAR_20201113_005_TRACK.dat -> 4STAR 4STARsisters_AmesRoof 005_TRACK 2020-11-13 00:00:00 20201113 4STAR_20201113_005_TRACK\n",
      "4STAR_20201113_002_TRACK.dat -> 4STAR 4STARsisters_AmesRoof 002_TRACK 2020-11-13 00:00:00 20201113 4STAR_20201113_002_TRACK\n",
      "4STAR_20201113_014_TRACK.dat -> 4STAR 4STARsisters_AmesRoof 014_TRACK 2020-11-13 00:00:00 20201113 4STAR_20201113_014_TRACK\n",
      "4STAR_20201113_011_TRACK.dat -> 4STAR 4STARsisters_AmesRoof 011_TRACK 2020-11-13 00:00:00 20201113 4STAR_20201113_011_TRACK\n",
      "4STAR_20201113_010_TRACK.dat -> 4STAR 4STARsisters_AmesRoof 010_TRACK 2020-11-13 00:00:00 20201113 4STAR_20201113_010_TRACK\n",
      "4STAR_20201113_001_TRACK.dat -> 4STAR 4STARsisters_AmesRoof 001_TRACK 2020-11-13 00:00:00 20201113 4STAR_20201113_001_TRACK\n",
      "4STAR_20201113_015_TRACK.dat -> 4STAR 4STARsisters_AmesRoof 015_TRACK 2020-11-13 00:00:00 20201113 4STAR_20201113_015_TRACK\n",
      "20201104_4STAR_Quicklooks.pptx -> 4STAR None Quicklooks 2020-11-04 00:00:00 20201104 20201104_4STAR_Quicklooks\n",
      "20201104_4STARB_Quicklooks.pptx -> 4STARB None Quicklooks 2020-11-04 00:00:00 20201104 20201104_4STARB_Quicklooks\n",
      "20201104_4STARboth_AmesRoof_Clear -> None 4STARboth_AmesRoof_Clear None 2020-11-04 00:00:00 20201104 20201104_4STARboth_AmesRoof_Clear\n",
      "20201104_4STARA -> 4STAR 4STARboth_AmesRoof_Clear None 2020-11-04 00:00:00 20201104 20201104_4STARA\n",
      "4STAR_20201105_005_TRACK.dat -> 4STAR 4STARboth_AmesRoof_Clear 005_TRACK 2020-11-05 00:00:00 20201105 4STAR_20201105_005_TRACK\n",
      "4STAR_20201104_001_NIR_SUN.dat -> 4STAR 4STARboth_AmesRoof_Clear 001_NIR_SUN 2020-11-04 00:00:00 20201104 4STAR_20201104_001_NIR_SUN\n",
      "4STAR_20201105_006_TRACK.dat -> 4STAR 4STARboth_AmesRoof_Clear 006_TRACK 2020-11-05 00:00:00 20201105 4STAR_20201105_006_TRACK\n",
      "4STAR_20201105_014_TRACK.dat -> 4STAR 4STARboth_AmesRoof_Clear 014_TRACK 2020-11-05 00:00:00 20201105 4STAR_20201105_014_TRACK\n",
      "4STAR_20201105_003_TRACK.dat -> 4STAR 4STARboth_AmesRoof_Clear 003_TRACK 2020-11-05 00:00:00 20201105 4STAR_20201105_003_TRACK\n",
      "4STAR_20201105_013_TRACK.dat -> 4STAR 4STARboth_AmesRoof_Clear 013_TRACK 2020-11-05 00:00:00 20201105 4STAR_20201105_013_TRACK\n",
      "4STAR_20201105_001_TRACK.dat -> 4STAR 4STARboth_AmesRoof_Clear 001_TRACK 2020-11-05 00:00:00 20201105 4STAR_20201105_001_TRACK\n",
      "4STAR_20201105_009_TRACK.dat -> 4STAR 4STARboth_AmesRoof_Clear 009_TRACK 2020-11-05 00:00:00 20201105 4STAR_20201105_009_TRACK\n",
      "4STAR_20201105_004_TRACK.dat -> 4STAR 4STARboth_AmesRoof_Clear 004_TRACK 2020-11-05 00:00:00 20201105 4STAR_20201105_004_TRACK\n",
      "4STAR_20201105_011_TRACK.dat -> 4STAR 4STARboth_AmesRoof_Clear 011_TRACK 2020-11-05 00:00:00 20201105 4STAR_20201105_011_TRACK\n",
      "4STAR_20201105_010_TRACK.dat -> 4STAR 4STARboth_AmesRoof_Clear 010_TRACK 2020-11-05 00:00:00 20201105 4STAR_20201105_010_TRACK\n",
      "4STAR_20201104_001_VIS_SUN.dat -> 4STAR 4STARboth_AmesRoof_Clear 001_VIS_SUN 2020-11-04 00:00:00 20201104 4STAR_20201104_001_VIS_SUN\n",
      "4STAR_20201104_002_TRACK.dat -> 4STAR 4STARboth_AmesRoof_Clear 002_TRACK 2020-11-04 00:00:00 20201104 4STAR_20201104_002_TRACK\n",
      "4STAR_20201105_002_TRACK.dat -> 4STAR 4STARboth_AmesRoof_Clear 002_TRACK 2020-11-05 00:00:00 20201105 4STAR_20201105_002_TRACK\n",
      "4STAR_20201105_008_TRACK.dat -> 4STAR 4STARboth_AmesRoof_Clear 008_TRACK 2020-11-05 00:00:00 20201105 4STAR_20201105_008_TRACK\n",
      "4STAR_20201105_007_TRACK.dat -> 4STAR 4STARboth_AmesRoof_Clear 007_TRACK 2020-11-05 00:00:00 20201105 4STAR_20201105_007_TRACK\n",
      "4STAR_20201105_012_TRACK.dat -> 4STAR 4STARboth_AmesRoof_Clear 012_TRACK 2020-11-05 00:00:00 20201105 4STAR_20201105_012_TRACK\n",
      "20201104_4STARB -> 4STARB 4STARboth_AmesRoof_Clear None 2020-11-04 00:00:00 20201104 20201104_4STARB\n",
      "4STARB_20201104_003_VIS_SKYA.dat -> 4STARB 4STARboth_AmesRoof_Clear 003_VIS_SKYA 2020-11-04 00:00:00 20201104 4STARB_20201104_003_VIS_SKYA\n",
      "4STARB_20201104_004_NIR_SKYP.dat -> 4STARB 4STARboth_AmesRoof_Clear 004_NIR_SKYP 2020-11-04 00:00:00 20201104 4STARB_20201104_004_NIR_SKYP\n",
      "4STARB_20201104_003_NIR_SKYA.dat -> 4STARB 4STARboth_AmesRoof_Clear 003_NIR_SKYA 2020-11-04 00:00:00 20201104 4STARB_20201104_003_NIR_SKYA\n",
      "4STARB_20201104_005_NIR_SUN.dat -> 4STARB 4STARboth_AmesRoof_Clear 005_NIR_SUN 2020-11-04 00:00:00 20201104 4STARB_20201104_005_NIR_SUN\n",
      "4STARB_20201104_001_VIS_SUN.dat -> 4STARB 4STARboth_AmesRoof_Clear 001_VIS_SUN 2020-11-04 00:00:00 20201104 4STARB_20201104_001_VIS_SUN\n",
      "4STARB_20201104_002_TRACK.dat -> 4STARB 4STARboth_AmesRoof_Clear 002_TRACK 2020-11-04 00:00:00 20201104 4STARB_20201104_002_TRACK\n",
      "4STARB_20201104_005_VIS_SUN.dat -> 4STARB 4STARboth_AmesRoof_Clear 005_VIS_SUN 2020-11-04 00:00:00 20201104 4STARB_20201104_005_VIS_SUN\n",
      "4STARB_20201104_001_NIR_SUN.dat -> 4STARB 4STARboth_AmesRoof_Clear 001_NIR_SUN 2020-11-04 00:00:00 20201104 4STARB_20201104_001_NIR_SUN\n",
      "4STARB_20201104_004_VIS_SKYP.dat -> 4STARB 4STARboth_AmesRoof_Clear 004_VIS_SKYP 2020-11-04 00:00:00 20201104 4STARB_20201104_004_VIS_SKYP\n",
      "20201112_4STARB_Quicklooks.pptx -> 4STARB None Quicklooks 2020-11-12 00:00:00 20201112 20201112_4STARB_Quicklooks\n"
     ]
    }
   ],
   "source": [
    "filters = get_filters_from_json(in_directory)\n",
    "fl_arr = recurse_through_dir(in_directory,verbose=verbose,filters=filters)"
   ]
  },
  {
   "cell_type": "code",
   "execution_count": 22,
   "metadata": {
    "ExecuteTime": {
     "end_time": "2020-12-03T22:28:04.033999Z",
     "start_time": "2020-12-03T22:28:02.982100Z"
    }
   },
   "outputs": [
    {
     "name": "stdout",
     "output_type": "stream",
     "text": [
      "~Moving file from /data/sunsat/_incoming_gdrive/201115_201115_NASA_Ames.lev15\n",
      "   to new path: /data/sunsat/rooftop/Fall_2020/data_processed/aeronet/201115_201115_NASA_Ames.lev15\n",
      "Exact same file already exists at: /data/sunsat/rooftop/Fall_2020/data_raw/4STARB_20201112_4STARsisters_AmesRoof/4STARB_20201112_003_NIR_SUN.dat, removing incoming file\n",
      "Exact same file already exists at: /data/sunsat/rooftop/Fall_2020/data_raw/4STARB_20201112_4STARsisters_AmesRoof/4STARB_20201112_001_VIS_SUN.dat, removing incoming file\n",
      "Exact same file already exists at: /data/sunsat/rooftop/Fall_2020/data_raw/4STARB_20201112_4STARsisters_AmesRoof/4STARB_20201112_004_TRACK.dat, removing incoming file\n",
      "Exact same file already exists at: /data/sunsat/rooftop/Fall_2020/data_raw/4STARB_20201112_4STARsisters_AmesRoof/4STARB_20201112_003_VIS_SUN.dat, removing incoming file\n",
      "Exact same file already exists at: /data/sunsat/rooftop/Fall_2020/data_raw/4STARB_20201112_4STARsisters_AmesRoof/4STARB_20201112_002_TRACK.dat, removing incoming file\n",
      "Exact same file already exists at: /data/sunsat/rooftop/Fall_2020/data_raw/4STARB_20201112_4STARsisters_AmesRoof/4STARB_20201112_001_NIR_SUN.dat, removing incoming file\n",
      "Exact same file already exists at: /data/sunsat/rooftop/Fall_2020/notes/20201112_4STARsisters_AmesRoof/20201113_notes.jpg, removing incoming file\n",
      "+Creating new path: /data/sunsat/rooftop/Fall_2020/data_raw/4STAR_20201112_4STARsisters_AmesRoof\n",
      "~Moving file from /data/sunsat/_incoming_gdrive/20201112_4STARsisters_AmesRoof/20201112_4STARA/4STAR_20201113_008_TRACK.dat\n",
      "   to new path: /data/sunsat/rooftop/Fall_2020/data_raw/4STAR_20201112_4STARsisters_AmesRoof/4STAR_20201113_008_TRACK.dat\n",
      "~Moving file from /data/sunsat/_incoming_gdrive/20201112_4STARsisters_AmesRoof/20201112_4STARA/4STAR_20201113_013_TRACK.dat\n",
      "   to new path: /data/sunsat/rooftop/Fall_2020/data_raw/4STAR_20201112_4STARsisters_AmesRoof/4STAR_20201113_013_TRACK.dat\n",
      "~Moving file from /data/sunsat/_incoming_gdrive/20201112_4STARsisters_AmesRoof/20201112_4STARA/4STAR_20201113_003_TRACK.dat\n",
      "   to new path: /data/sunsat/rooftop/Fall_2020/data_raw/4STAR_20201112_4STARsisters_AmesRoof/4STAR_20201113_003_TRACK.dat\n",
      "~Moving file from /data/sunsat/_incoming_gdrive/20201112_4STARsisters_AmesRoof/20201112_4STARA/4STAR_20201113_016_TRACK.dat\n",
      "   to new path: /data/sunsat/rooftop/Fall_2020/data_raw/4STAR_20201112_4STARsisters_AmesRoof/4STAR_20201113_016_TRACK.dat\n",
      "~Moving file from /data/sunsat/_incoming_gdrive/20201112_4STARsisters_AmesRoof/20201112_4STARA/4STAR_20201112_001_NIR_SUN.dat\n",
      "   to new path: /data/sunsat/rooftop/Fall_2020/data_raw/4STAR_20201112_4STARsisters_AmesRoof/4STAR_20201112_001_NIR_SUN.dat\n",
      "~Moving file from /data/sunsat/_incoming_gdrive/20201112_4STARsisters_AmesRoof/20201112_4STARA/4STAR_20201113_012_TRACK.dat\n",
      "   to new path: /data/sunsat/rooftop/Fall_2020/data_raw/4STAR_20201112_4STARsisters_AmesRoof/4STAR_20201113_012_TRACK.dat\n",
      "~Moving file from /data/sunsat/_incoming_gdrive/20201112_4STARsisters_AmesRoof/20201112_4STARA/4STAR_20201112_002_TRACK.dat\n",
      "   to new path: /data/sunsat/rooftop/Fall_2020/data_raw/4STAR_20201112_4STARsisters_AmesRoof/4STAR_20201112_002_TRACK.dat\n",
      "~Moving file from /data/sunsat/_incoming_gdrive/20201112_4STARsisters_AmesRoof/20201112_4STARA/4STAR_20201113_004_TRACK.dat\n",
      "   to new path: /data/sunsat/rooftop/Fall_2020/data_raw/4STAR_20201112_4STARsisters_AmesRoof/4STAR_20201113_004_TRACK.dat\n",
      "~Moving file from /data/sunsat/_incoming_gdrive/20201112_4STARsisters_AmesRoof/20201112_4STARA/4STAR_20201113_007_TRACK.dat\n",
      "   to new path: /data/sunsat/rooftop/Fall_2020/data_raw/4STAR_20201112_4STARsisters_AmesRoof/4STAR_20201113_007_TRACK.dat\n",
      "~Moving file from /data/sunsat/_incoming_gdrive/20201112_4STARsisters_AmesRoof/20201112_4STARA/4STAR_20201112_001_VIS_SUN.dat\n",
      "   to new path: /data/sunsat/rooftop/Fall_2020/data_raw/4STAR_20201112_4STARsisters_AmesRoof/4STAR_20201112_001_VIS_SUN.dat\n",
      "~Moving file from /data/sunsat/_incoming_gdrive/20201112_4STARsisters_AmesRoof/20201112_4STARA/4STAR_20201113_009_TRACK.dat\n",
      "   to new path: /data/sunsat/rooftop/Fall_2020/data_raw/4STAR_20201112_4STARsisters_AmesRoof/4STAR_20201113_009_TRACK.dat\n",
      "~Moving file from /data/sunsat/_incoming_gdrive/20201112_4STARsisters_AmesRoof/20201112_4STARA/4STAR_20201113_006_TRACK.dat\n",
      "   to new path: /data/sunsat/rooftop/Fall_2020/data_raw/4STAR_20201112_4STARsisters_AmesRoof/4STAR_20201113_006_TRACK.dat\n",
      "~Moving file from /data/sunsat/_incoming_gdrive/20201112_4STARsisters_AmesRoof/20201112_4STARA/4STAR_20201113_005_TRACK.dat\n",
      "   to new path: /data/sunsat/rooftop/Fall_2020/data_raw/4STAR_20201112_4STARsisters_AmesRoof/4STAR_20201113_005_TRACK.dat\n",
      "~Moving file from /data/sunsat/_incoming_gdrive/20201112_4STARsisters_AmesRoof/20201112_4STARA/4STAR_20201113_002_TRACK.dat\n",
      "   to new path: /data/sunsat/rooftop/Fall_2020/data_raw/4STAR_20201112_4STARsisters_AmesRoof/4STAR_20201113_002_TRACK.dat\n",
      "~Moving file from /data/sunsat/_incoming_gdrive/20201112_4STARsisters_AmesRoof/20201112_4STARA/4STAR_20201113_014_TRACK.dat\n",
      "   to new path: /data/sunsat/rooftop/Fall_2020/data_raw/4STAR_20201112_4STARsisters_AmesRoof/4STAR_20201113_014_TRACK.dat\n",
      "~Moving file from /data/sunsat/_incoming_gdrive/20201112_4STARsisters_AmesRoof/20201112_4STARA/4STAR_20201113_011_TRACK.dat\n",
      "   to new path: /data/sunsat/rooftop/Fall_2020/data_raw/4STAR_20201112_4STARsisters_AmesRoof/4STAR_20201113_011_TRACK.dat\n",
      "~Moving file from /data/sunsat/_incoming_gdrive/20201112_4STARsisters_AmesRoof/20201112_4STARA/4STAR_20201113_010_TRACK.dat\n",
      "   to new path: /data/sunsat/rooftop/Fall_2020/data_raw/4STAR_20201112_4STARsisters_AmesRoof/4STAR_20201113_010_TRACK.dat\n",
      "~Moving file from /data/sunsat/_incoming_gdrive/20201112_4STARsisters_AmesRoof/20201112_4STARA/4STAR_20201113_001_TRACK.dat\n",
      "   to new path: /data/sunsat/rooftop/Fall_2020/data_raw/4STAR_20201112_4STARsisters_AmesRoof/4STAR_20201113_001_TRACK.dat\n",
      "~Moving file from /data/sunsat/_incoming_gdrive/20201112_4STARsisters_AmesRoof/20201112_4STARA/4STAR_20201113_015_TRACK.dat\n",
      "   to new path: /data/sunsat/rooftop/Fall_2020/data_raw/4STAR_20201112_4STARsisters_AmesRoof/4STAR_20201113_015_TRACK.dat\n",
      "Exact same file already exists at: /data/sunsat/rooftop/Fall_2020/quicklooks/20201104_4STAR_Quicklooks.pptx, removing incoming file\n",
      "Exact same file already exists at: /data/sunsat/rooftop/Fall_2020/quicklooks/20201104_4STARB_Quicklooks.pptx, removing incoming file\n",
      "Exact same file already exists at: /data/sunsat/rooftop/Fall_2020/data_raw/4STAR_20201104_4STARboth_AmesRoof_Clear/4STAR_20201105_005_TRACK.dat, removing incoming file\n",
      "Exact same file already exists at: /data/sunsat/rooftop/Fall_2020/data_raw/4STAR_20201104_4STARboth_AmesRoof_Clear/4STAR_20201104_001_NIR_SUN.dat, removing incoming file\n",
      "Exact same file already exists at: /data/sunsat/rooftop/Fall_2020/data_raw/4STAR_20201104_4STARboth_AmesRoof_Clear/4STAR_20201105_006_TRACK.dat, removing incoming file\n",
      "Exact same file already exists at: /data/sunsat/rooftop/Fall_2020/data_raw/4STAR_20201104_4STARboth_AmesRoof_Clear/4STAR_20201105_014_TRACK.dat, removing incoming file\n",
      "Exact same file already exists at: /data/sunsat/rooftop/Fall_2020/data_raw/4STAR_20201104_4STARboth_AmesRoof_Clear/4STAR_20201105_003_TRACK.dat, removing incoming file\n",
      "Exact same file already exists at: /data/sunsat/rooftop/Fall_2020/data_raw/4STAR_20201104_4STARboth_AmesRoof_Clear/4STAR_20201105_013_TRACK.dat, removing incoming file\n",
      "Exact same file already exists at: /data/sunsat/rooftop/Fall_2020/data_raw/4STAR_20201104_4STARboth_AmesRoof_Clear/4STAR_20201105_001_TRACK.dat, removing incoming file\n",
      "Exact same file already exists at: /data/sunsat/rooftop/Fall_2020/data_raw/4STAR_20201104_4STARboth_AmesRoof_Clear/4STAR_20201105_009_TRACK.dat, removing incoming file\n",
      "Exact same file already exists at: /data/sunsat/rooftop/Fall_2020/data_raw/4STAR_20201104_4STARboth_AmesRoof_Clear/4STAR_20201105_004_TRACK.dat, removing incoming file\n",
      "Exact same file already exists at: /data/sunsat/rooftop/Fall_2020/data_raw/4STAR_20201104_4STARboth_AmesRoof_Clear/4STAR_20201105_011_TRACK.dat, removing incoming file\n",
      "Exact same file already exists at: /data/sunsat/rooftop/Fall_2020/data_raw/4STAR_20201104_4STARboth_AmesRoof_Clear/4STAR_20201105_010_TRACK.dat, removing incoming file\n",
      "Exact same file already exists at: /data/sunsat/rooftop/Fall_2020/data_raw/4STAR_20201104_4STARboth_AmesRoof_Clear/4STAR_20201104_001_VIS_SUN.dat, removing incoming file\n"
     ]
    },
    {
     "name": "stdout",
     "output_type": "stream",
     "text": [
      "Exact same file already exists at: /data/sunsat/rooftop/Fall_2020/data_raw/4STAR_20201104_4STARboth_AmesRoof_Clear/4STAR_20201104_002_TRACK.dat, removing incoming file\n",
      "Exact same file already exists at: /data/sunsat/rooftop/Fall_2020/data_raw/4STAR_20201104_4STARboth_AmesRoof_Clear/4STAR_20201105_002_TRACK.dat, removing incoming file\n",
      "Exact same file already exists at: /data/sunsat/rooftop/Fall_2020/data_raw/4STAR_20201104_4STARboth_AmesRoof_Clear/4STAR_20201105_008_TRACK.dat, removing incoming file\n",
      "Exact same file already exists at: /data/sunsat/rooftop/Fall_2020/data_raw/4STAR_20201104_4STARboth_AmesRoof_Clear/4STAR_20201105_007_TRACK.dat, removing incoming file\n",
      "Exact same file already exists at: /data/sunsat/rooftop/Fall_2020/data_raw/4STAR_20201104_4STARboth_AmesRoof_Clear/4STAR_20201105_012_TRACK.dat, removing incoming file\n",
      "Exact same file already exists at: /data/sunsat/rooftop/Fall_2020/data_raw/4STARB_20201104_4STARboth_AmesRoof_Clear/4STARB_20201104_003_VIS_SKYA.dat, removing incoming file\n",
      "Exact same file already exists at: /data/sunsat/rooftop/Fall_2020/data_raw/4STARB_20201104_4STARboth_AmesRoof_Clear/4STARB_20201104_004_NIR_SKYP.dat, removing incoming file\n",
      "Exact same file already exists at: /data/sunsat/rooftop/Fall_2020/data_raw/4STARB_20201104_4STARboth_AmesRoof_Clear/4STARB_20201104_003_NIR_SKYA.dat, removing incoming file\n",
      "Exact same file already exists at: /data/sunsat/rooftop/Fall_2020/data_raw/4STARB_20201104_4STARboth_AmesRoof_Clear/4STARB_20201104_005_NIR_SUN.dat, removing incoming file\n",
      "Exact same file already exists at: /data/sunsat/rooftop/Fall_2020/data_raw/4STARB_20201104_4STARboth_AmesRoof_Clear/4STARB_20201104_001_VIS_SUN.dat, removing incoming file\n",
      "Exact same file already exists at: /data/sunsat/rooftop/Fall_2020/data_raw/4STARB_20201104_4STARboth_AmesRoof_Clear/4STARB_20201104_002_TRACK.dat, removing incoming file\n",
      "Exact same file already exists at: /data/sunsat/rooftop/Fall_2020/data_raw/4STARB_20201104_4STARboth_AmesRoof_Clear/4STARB_20201104_005_VIS_SUN.dat, removing incoming file\n",
      "Exact same file already exists at: /data/sunsat/rooftop/Fall_2020/data_raw/4STARB_20201104_4STARboth_AmesRoof_Clear/4STARB_20201104_001_NIR_SUN.dat, removing incoming file\n",
      "Exact same file already exists at: /data/sunsat/rooftop/Fall_2020/data_raw/4STARB_20201104_4STARboth_AmesRoof_Clear/4STARB_20201104_004_VIS_SKYP.dat, removing incoming file\n",
      "Exact same file already exists at: /data/sunsat/rooftop/Fall_2020/quicklooks/20201112_4STARB_Quicklooks.pptx, removing incoming file\n"
     ]
    }
   ],
   "source": [
    "data_raw_found, data_raw_files, nexact, nmoved, ncreated, ndataraw =\\\n",
    "                move_files(fl_arr,filters,verbose=verbose,dry_run=dry_run)"
   ]
  },
  {
   "cell_type": "code",
   "execution_count": 65,
   "metadata": {
    "ExecuteTime": {
     "end_time": "2020-12-03T22:42:23.980565Z",
     "start_time": "2020-12-03T22:42:23.283401Z"
    }
   },
   "outputs": [
    {
     "name": "stdout",
     "output_type": "stream",
     "text": [
      "Downloaded AERONET file: /data/sunsat/rooftop/Fall_2020/data_processed/aeronet/201112_201112_NASA_Ames.lev15\n"
     ]
    },
    {
     "name": "stderr",
     "output_type": "stream",
     "text": [
      "aeronet.py:198: UserWarning: No parser was explicitly specified, so I'm using the best available HTML parser for this system (\"lxml\"). This usually isn't a problem, but if you run this code on another system, or in a different virtual environment, it may use a different parser and behave differently.\n",
      "\n",
      "The code that caused this warning is on line 198 of the file aeronet.py. To get rid of this warning, pass the additional argument 'features=\"lxml\"' to the BeautifulSoup constructor.\n",
      "\n",
      "  soup = BeautifulSoup(html)\n"
     ]
    }
   ],
   "source": [
    "# check if there are raw data files, and if so, get the aeronet\n",
    "if data_raw_found:\n",
    "    daystrss = []\n",
    "    for k in data_raw_files.keys():\n",
    "        instname,daystr0 = k.split('_')\n",
    "        fa_tmp = filetypes('{daystr}_AERONET_NASA_Ames.lev15'.format(instname=instname,daystr=daystr0))\n",
    "        fmla_tmp = get_newfilepath(fa_tmp,filters=filters,fake_file=True,root_folder=root_folder)\n",
    "        if not daystr in daystrss:\n",
    "            daystrss.append(daystr0)\n",
    "            if fa_tmp.campaign.find('rooftop') >= 0:\n",
    "                aeronet_file = get_AERONET_file_v2(date=fa_tmp.fdate,site='NASA_Ames',path=str(fa_tmp.newpath))\n",
    "                if verbose: print('Downloaded AERONET file: {}'.format(aeronet_file))"
   ]
  },
  {
   "cell_type": "code",
   "execution_count": 66,
   "metadata": {
    "ExecuteTime": {
     "end_time": "2020-12-03T22:43:40.344512Z",
     "start_time": "2020-12-03T22:43:40.332707Z"
    }
   },
   "outputs": [
    {
     "name": "stdout",
     "output_type": "stream",
     "text": [
      "-removing :/data/sunsat/_incoming_gdrive/20201112_4STARsisters_AmesRoof/20201112_4STARB\n",
      "-removing :/data/sunsat/_incoming_gdrive/20201112_4STARsisters_AmesRoof/20201112_4STARA\n",
      "-removing :/data/sunsat/_incoming_gdrive/20201112_4STARsisters_AmesRoof\n",
      "-removing :/data/sunsat/_incoming_gdrive/20201104_4STARboth_AmesRoof_Clear/20201104_4STARA\n",
      "-removing :/data/sunsat/_incoming_gdrive/20201104_4STARboth_AmesRoof_Clear/20201104_4STARB\n",
      "-removing :/data/sunsat/_incoming_gdrive/20201104_4STARboth_AmesRoof_Clear\n"
     ]
    }
   ],
   "source": [
    "# clean up folders after move\n",
    "for dirpath, dirnames, filenames in os.walk(in_directory,topdown=False):\n",
    "    if not dirpath in in_directory:\n",
    "        try: \n",
    "            if verbose: print( '{pre}-removing :{path}'.format(pre=prefix,path=dirpath))\n",
    "            if not dry_run:\n",
    "                os.rmdir(dirpath) \n",
    "        except: \n",
    "            pass"
   ]
  },
  {
   "cell_type": "code",
   "execution_count": 75,
   "metadata": {
    "ExecuteTime": {
     "end_time": "2020-12-03T23:10:29.477770Z",
     "start_time": "2020-12-03T23:10:29.399295Z"
    },
    "scrolled": false
   },
   "outputs": [
    {
     "name": "stdout",
     "output_type": "stream",
     "text": [
      "*DRY RUN*: matlab -nodisplay -batch temp\n"
     ]
    }
   ],
   "source": [
    "nmats = 0\n",
    "if run_matlab:\n",
    "    prefix = '*DRY RUN*: ' if dry_run else ''\n",
    "    for dr,drs in data_raw_files.items():\n",
    "        # get the position of the new star.mat and starsun.mat files\n",
    "        f = filetypes('{}star.mat'.format(dr),filters=filters)\n",
    "        fml = get_newfilepath(f,filters=filters,fake_file=True,root_folder=root_folder)\n",
    "        if not dry_run: f.newpath.mkdir(parents=True,exist_ok=True)\n",
    "        fs = filetypes('{}starsun.mat'.format(dr),filters=filters)\n",
    "        fmls = get_newfilepath(fs,filters=filters,fake_file=True,root_folder=root_folder)\n",
    "        if not dry_run: fs.newpath.mkdir(parents=True,exist_ok=True)\n",
    "            \n",
    "        # make the position of the new quicklook file\n",
    "        instname,daystr = dr.split('_')\n",
    "        fq = filetypes('{daystr}_{instname}_Quicklooks.pptx'.format(instname=instname,daystr=daystr))\n",
    "        fmlq = get_newfilepath(fq,filters=filters,fake_file=True,root_folder=root_folder)\n",
    "        if not dry_run: fq.newpath.mkdir(parents=True,exist_ok=True)\n",
    "        \n",
    "        # make the position of the new figure files\n",
    "        ff = filetypes('{daystr}_{instname}_plots.png'.format(instname=instname,daystr=daystr))\n",
    "        fmlf = get_newfilepath(ff,filters=filters,fake_file=True,root_folder=root_folder)\n",
    "        if not dry_run: ff.newpath.parent.mkdir(parents=True,exist_ok=True)\n",
    "        \n",
    "        # make the position of the aeronet files\n",
    "        fa = filetypes('{daystr}_AERONET_NASA_Ames.lev15'.format(instname=instname,daystr=daystr))\n",
    "        fmla = get_newfilepath(fa,filters=filters,fake_file=True,root_folder=root_folder)\n",
    "        if not dry_run: fa.newpath.mkdir(parents=True,exist_ok=True)\n",
    "        \n",
    "        # make the position of the gas_summary files\n",
    "        fg = filetypes('{instname}_{daystr}_gas_summary.mat'.format(instname=instname,daystr=daystr))\n",
    "        fmlg = get_newfilepath(fg,filters=filters,fake_file=True,root_folder=root_folder)\n",
    "        if not dry_run: fg.newpath.mkdir(parents=True,exist_ok=True)\n",
    "        \n",
    "        # make a string of the raw files    \n",
    "        filelist = \"'\"+\"';'\".join(drs)+\"'\"\n",
    "        if not f.instname in ['4STAR','4STARB']: # only for 4STARs for now.\n",
    "            continue\n",
    "            \n",
    "        mfile = make_temp_mfile(in_directory+'temp.m',filelist=filelist,starmat=str(f.newfile),\\\n",
    "                                starsun=str(fs.newfile),quicklooks=in_directory+str(fq.newfile.name),\\\n",
    "                                fig_path=str(ff.newpath.parent)+'/', aero_path=str(fa.newpath)+'/',\\\n",
    "                                gas_path=str(fg.newpath)+'/', sun_path=str(fs.newpath)+'/',incoming_path=in_directory)\n",
    "\n",
    "        if verbose: \n",
    "            print( ' '.join(['{}matlab'.format(prefix),'-nodisplay','-batch',\"{}\".format(Path(mfile).stem)]))\n",
    "        if not dry_run:\n",
    "            pmfile = Path(mfile)\n",
    "            os.chdir(str(pmfile.parent))\n",
    "            process = subprocess.Popen(['matlab','-nodisplay','-batch',\"{}\".format(pmfile.stem)],\n",
    "                                       shell=False, stdout=subprocess.PIPE,stderr=subprocess.PIPE)\n",
    "\n",
    "            while True:\n",
    "                # handle output by direct access to stdout and stderr\n",
    "                output = process.stdout.readline()\n",
    "                if process.poll() is not None:\n",
    "                    break\n",
    "                if output:\n",
    "                    if verbose: print(output.strip())\n",
    "            rc = process.poll()\n",
    "            if verbose: print(rc)\n",
    "            nmats = nmats + 1\n",
    "                \n",
    "            if rc==0:\n",
    "                os.remove(mfile)"
   ]
  },
  {
   "cell_type": "code",
   "execution_count": 140,
   "metadata": {
    "ExecuteTime": {
     "end_time": "2020-12-03T18:24:19.683110Z",
     "start_time": "2020-12-03T18:24:19.674344Z"
    }
   },
   "outputs": [
    {
     "data": {
      "text/plain": [
       "'Thu Dec  3 10:24:19 2020'"
      ]
     },
     "execution_count": 140,
     "metadata": {},
     "output_type": "execute_result"
    }
   ],
   "source": [
    "print(datetime.now().strftime(\"%c\")+' :Python moved {nmoved} files, Created {ncreated} folders, found {ndataraw} files, and generated {nmats} starmats/suns'\\\n",
    "      .format(nmoved=nmoved,ncreated=ncreated,ndataraw=ndataraw,nmats=nmats))"
   ]
  }
 ],
 "metadata": {
  "kernelspec": {
   "display_name": "Python 2",
   "language": "python",
   "name": "python2"
  },
  "language_info": {
   "codemirror_mode": {
    "name": "ipython",
    "version": 2
   },
   "file_extension": ".py",
   "mimetype": "text/x-python",
   "name": "python",
   "nbconvert_exporter": "python",
   "pygments_lexer": "ipython2",
   "version": "2.7.18"
  },
  "toc": {
   "base_numbering": 1,
   "nav_menu": {},
   "number_sections": true,
   "sideBar": true,
   "skip_h1_title": false,
   "title_cell": "Table of Contents",
   "title_sidebar": "Contents",
   "toc_cell": false,
   "toc_position": {},
   "toc_section_display": true,
   "toc_window_display": false
  }
 },
 "nbformat": 4,
 "nbformat_minor": 2
}
