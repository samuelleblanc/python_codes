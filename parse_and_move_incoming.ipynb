{
 "cells": [
  {
   "cell_type": "markdown",
   "metadata": {},
   "source": [
    "# Info\n",
    "Purpose:\n",
    "\n",
    "    Take incoming folder for sunsat and parse the subfolders and incoming files\n",
    "\n",
    "Input:\n",
    "\n",
    "    None\n",
    "\n",
    "Output:\n",
    "\n",
    "    Moved and catagorized files\n",
    "\n",
    "Keywords:\n",
    "\n",
    "    none\n",
    "\n",
    "Dependencies:\n",
    "\n",
    "    - os\n",
    "    - dateutil\n",
    "    - re\n",
    "    - pathlib2\n",
    "    - datefinder\n",
    "\n",
    "Needed Files:\n",
    "  - None\n",
    "\n",
    "Modification History:\n",
    "\n",
    "    Written: Samuel LeBlanc, Santa Cruz, CA, 2020-11-06\n",
    "    Modified: Samuel LeBlanc, Santa Cruz, CA, 2020-12-02\n",
    "             - added support for files without a date in the name, using either the directories' date, or the file's date.\n"
   ]
  },
  {
   "cell_type": "markdown",
   "metadata": {},
   "source": [
    "# Set up the background functions"
   ]
  },
  {
   "cell_type": "code",
   "execution_count": 35,
   "metadata": {
    "ExecuteTime": {
     "end_time": "2021-04-16T01:02:44.376230Z",
     "start_time": "2021-04-16T01:02:44.370120Z"
    }
   },
   "outputs": [],
   "source": [
    "from __future__ import print_function \n",
    "from parse_and_move_incoming_fx import get_date_and_string, \\\n",
    "     pull_labels, get_season, filetypes, get_newfilepath, get_filters_from_json, \\\n",
    "     recurse_through_dir, make_temp_mfile, move_files"
   ]
  },
  {
   "cell_type": "markdown",
   "metadata": {},
   "source": [
    "# Prepare the command line argument parser"
   ]
  },
  {
   "cell_type": "code",
   "execution_count": 2,
   "metadata": {
    "ExecuteTime": {
     "end_time": "2021-04-16T00:53:56.032909Z",
     "start_time": "2021-04-16T00:53:56.027065Z"
    }
   },
   "outputs": [],
   "source": [
    "import argparse"
   ]
  },
  {
   "cell_type": "code",
   "execution_count": 3,
   "metadata": {
    "ExecuteTime": {
     "end_time": "2021-04-16T00:53:56.425055Z",
     "start_time": "2021-04-16T00:53:56.419332Z"
    }
   },
   "outputs": [],
   "source": [
    "long_description = \"\"\"    Run the incoming file parser and moves the files to the desired sunsat locations\n",
    "    The File locations and folders are defined by the json file: .filters.json\n",
    "    Please update the date ranges within that file for any new field mission, \n",
    "        if not then assumes rooftop measurements for the season_year\n",
    "    Can run a call to matlab for any incoming 4STAR raw data\"\"\""
   ]
  },
  {
   "cell_type": "code",
   "execution_count": 4,
   "metadata": {
    "ExecuteTime": {
     "end_time": "2021-04-16T00:53:56.826708Z",
     "start_time": "2021-04-16T00:53:56.803479Z"
    }
   },
   "outputs": [
    {
     "data": {
      "text/plain": [
       "_StoreTrueAction(option_strings=['-m', '--run_matlab'], dest='run_matlab', nargs=0, const=True, default=False, type=None, choices=None, help='if set, will run the matlab calls if there is 4STAR/4STARB raw files', metavar=None)"
      ]
     },
     "execution_count": 4,
     "metadata": {},
     "output_type": "execute_result"
    }
   ],
   "source": [
    "parser = argparse.ArgumentParser(description=long_description)\n",
    "parser.add_argument('-d','--dry_run',help='if set, turn on dry runs, and not move or delete any file/folder',\n",
    "                    action='store_true')\n",
    "parser.add_argument('-q','--quiet',help='if set, quiet the comments',\n",
    "                    action='store_true')\n",
    "parser.add_argument('-i','--in_dir',nargs='?',\n",
    "                    help='Input directory to recurse files, parse, and move',\n",
    "                    default='/data/sunsat/_incoming_gdrive/')\n",
    "parser.add_argument('-r','--root_dir',nargs='?',\n",
    "                    help='full file path of the root directory to save to',\n",
    "                    default='/data/sunsat/')\n",
    "parser.add_argument('-m','--run_matlab',help='if set, will run the matlab calls if there is 4STAR/4STARB raw files',\n",
    "                    action='store_true')"
   ]
  },
  {
   "cell_type": "code",
   "execution_count": 5,
   "metadata": {
    "ExecuteTime": {
     "end_time": "2021-04-16T00:53:57.232805Z",
     "start_time": "2021-04-16T00:53:57.227202Z"
    }
   },
   "outputs": [],
   "source": [
    "in_ = vars(parser.parse_known_args()[0])"
   ]
  },
  {
   "cell_type": "markdown",
   "metadata": {},
   "source": [
    "# Load the modules and get the defaults"
   ]
  },
  {
   "cell_type": "code",
   "execution_count": 6,
   "metadata": {
    "ExecuteTime": {
     "end_time": "2021-04-16T00:53:58.355372Z",
     "start_time": "2021-04-16T00:53:58.338966Z"
    }
   },
   "outputs": [],
   "source": [
    "import os, zipfile\n",
    "import dateutil.parser\n",
    "import re\n",
    "from pathlib2 import Path\n",
    "from datefinder import find_dates\n",
    "from datetime import date, datetime\n",
    "import json\n",
    "import filecmp\n",
    "import subprocess\n",
    "import threading\n",
    "from aeronet import get_AERONET_file_v2"
   ]
  },
  {
   "cell_type": "code",
   "execution_count": 7,
   "metadata": {
    "ExecuteTime": {
     "end_time": "2021-04-16T00:53:59.724826Z",
     "start_time": "2021-04-16T00:53:59.716964Z"
    }
   },
   "outputs": [],
   "source": [
    "in_directory = in_.get('in_dir','/data/sunsat/_incoming_gdrive/')\n",
    "root_folder = in_.get('root_dir','/data/sunsat/')"
   ]
  },
  {
   "cell_type": "code",
   "execution_count": 8,
   "metadata": {
    "ExecuteTime": {
     "end_time": "2021-04-16T00:54:00.850939Z",
     "start_time": "2021-04-16T00:54:00.844037Z"
    }
   },
   "outputs": [],
   "source": [
    "verbose = not in_.get('quiet',False)\n",
    "dry_run = in_.get('dry_run',True)\n",
    "run_matlab = in_.get('run_matlab',False)"
   ]
  },
  {
   "cell_type": "code",
   "execution_count": 9,
   "metadata": {
    "ExecuteTime": {
     "end_time": "2021-04-16T00:54:02.116185Z",
     "start_time": "2021-04-16T00:54:02.107922Z"
    }
   },
   "outputs": [
    {
     "name": "stdout",
     "output_type": "stream",
     "text": [
      "{'in_dir': '/data/sunsat/_incoming_gdrive/', 'root_dir': '/data/sunsat/', 'quiet': False, 'dry_run': False, 'run_matlab': False}\n"
     ]
    }
   ],
   "source": [
    "if verbose: print( in_)"
   ]
  },
  {
   "cell_type": "code",
   "execution_count": 37,
   "metadata": {
    "ExecuteTime": {
     "end_time": "2021-04-16T01:05:43.331724Z",
     "start_time": "2021-04-16T01:05:43.317040Z"
    }
   },
   "outputs": [],
   "source": [
    "# Go through and unzip any folder\n",
    "prefix = '*DRY RUN*: ' if dry_run else ''\n",
    "for item in os.listdir(in_directory): # loop through items in dir\n",
    "    if item.lower().endswith('.zip'): # check for \".zip\" extension\n",
    "        file_name = Path(in_directory+item) # get full path of files\n",
    "        try: \n",
    "            zip_ref = zipfile.ZipFile(str(file_name)) # create zipfile object\n",
    "            if verbose: \n",
    "                print( '{prefix}found zip file: {file_name}, extracting here.'.format(prefix=prefix,file_name=file_name))\n",
    "            if not dry_run: \n",
    "                file_name.parent.joinpath(file_name.stem).mkdir(parents=True,exist_ok=True) # make a dir to extract to\n",
    "                zip_ref.extractall(str(file_name.parent.joinpath(file_name.stem))) # extract file to dir\n",
    "            zip_ref.close() # close file\n",
    "            if not dry_run: os.remove(str(file_name)) # delete zipped file\n",
    "        except NotImplementedError:\n",
    "            if verbose: print('{prefix}Error in processing zip file: {file_name}'.format(prefix=prefix,file_name=file_name))"
   ]
  },
  {
   "cell_type": "code",
   "execution_count": 38,
   "metadata": {
    "ExecuteTime": {
     "end_time": "2021-04-16T01:05:45.765259Z",
     "start_time": "2021-04-16T01:05:44.180145Z"
    }
   },
   "outputs": [
    {
     "name": "stdout",
     "output_type": "stream",
     "text": [
      "4STAR_ORACLES_2016_5wl_360_xfit_more_complete -> 4STAR ORACLES_2016_5wl_360_xfit_more_complete None 2021-04-15 11:26:51.627660 20210415 4STAR_ORACLES_2016_5wl_360_xfit_more_complete\n",
      "4STAR_20160920_203_SKYP.created_20210408_114100.ppl_lv15_5wl_360_xfit_more_complete.output -> 4STAR ORACLES_2016_5wl_360_xfit_more_complete 20160920_203_SKYP.created__114100.ppl_lv15_5wl_360_xfit_more_complete 2021-04-08 16:00:26.994071 20210408 4STAR_20160920_203_SKYP.created_20210408_114100.ppl_lv15_5wl_360_xfit_more_complete\n",
      "4STAR_20160920_042_SKYA.created_20210408_113320.almB_lv10_5wl_360_xfit_more_complete.output -> 4STAR ORACLES_2016_5wl_360_xfit_more_complete 20160920_042_SKYA.created__113320.almB_lv10_5wl_360_xfit_more_complete 2021-04-08 16:00:26.930069 20210408 4STAR_20160920_042_SKYA.created_20210408_113320.almB_lv10_5wl_360_xfit_more_complete\n",
      "4STAR_20160912_025_SKYP.created_20210408_112740.ppl_lv15_5wl_360_xfit_more_complete.mat -> 4STAR ORACLES_2016_5wl_360_xfit_more_complete 20160912_025_SKYP.created__112740.ppl_lv15_5wl_360_xfit_more_complete 2021-04-08 16:00:26.878068 20210408 4STAR_20160912_025_SKYP.created_20210408_112740.ppl_lv15_5wl_360_xfit_more_complete\n",
      "4STAR_20160912_044_SKYA.created_20210408_112842.almA_lv15_5wl_360_xfit_more_complete.mat -> 4STAR ORACLES_2016_5wl_360_xfit_more_complete 20160912_044_SKYA.created__112842.almA_lv15_5wl_360_xfit_more_complete 2021-04-08 16:00:26.886068 20210408 4STAR_20160912_044_SKYA.created_20210408_112842.almA_lv15_5wl_360_xfit_more_complete\n",
      "4STAR_20160902_061_SKYP.created_20210408_112443.ppl_lv15_5wl_360_xfit_more_complete.output -> 4STAR ORACLES_2016_5wl_360_xfit_more_complete 20160902_061_SKYP.created__112443.ppl_lv15_5wl_360_xfit_more_complete 2021-04-08 16:00:26.870068 20210408 4STAR_20160902_061_SKYP.created_20210408_112443.ppl_lv15_5wl_360_xfit_more_complete\n",
      "4STAR_20160902_018_SKYA.created_20210408_111937.avg_lv15_5wl_360_xfit_more_complete.mat -> 4STAR ORACLES_2016_5wl_360_xfit_more_complete 20160902_018_SKYA.created__111937.avg_lv15_5wl_360_xfit_more_complete 2021-04-08 16:00:26.818067 20210408 4STAR_20160902_018_SKYA.created_20210408_111937.avg_lv15_5wl_360_xfit_more_complete\n",
      "4STAR_20160902_072_SKYA.created_20210408_112500.avg_lv10_5wl_360_xfit_more_complete.input -> 4STAR ORACLES_2016_5wl_360_xfit_more_complete 20160902_072_SKYA.created__112500.avg_lv10_5wl_360_xfit_more_complete 2021-04-08 16:00:26.874068 20210408 4STAR_20160902_072_SKYA.created_20210408_112500.avg_lv10_5wl_360_xfit_more_complete\n",
      "4STAR_20160902_019_SKYP.created_20210408_111956.ppl_lv15_5wl_360_xfit_more_complete.input -> 4STAR ORACLES_2016_5wl_360_xfit_more_complete 20160902_019_SKYP.created__111956.ppl_lv15_5wl_360_xfit_more_complete 2021-04-08 16:00:26.818067 20210408 4STAR_20160902_019_SKYP.created_20210408_111956.ppl_lv15_5wl_360_xfit_more_complete\n",
      "4STAR_20160912_028_SKYA.created_20210408_112756.almA_lv15_5wl_360_xfit_more_complete.mat -> 4STAR ORACLES_2016_5wl_360_xfit_more_complete 20160912_028_SKYA.created__112756.almA_lv15_5wl_360_xfit_more_complete 2021-04-08 16:00:26.882068 20210408 4STAR_20160912_028_SKYA.created_20210408_112756.almA_lv15_5wl_360_xfit_more_complete\n",
      "4STAR_20160902_023_SKYP.created_20210408_112031.ppl_lv15_5wl_360_xfit_more_complete.input -> 4STAR ORACLES_2016_5wl_360_xfit_more_complete 20160902_023_SKYP.created__112031.ppl_lv15_5wl_360_xfit_more_complete 2021-04-08 16:00:26.826067 20210408 4STAR_20160902_023_SKYP.created_20210408_112031.ppl_lv15_5wl_360_xfit_more_complete\n",
      "4STAR_20160920_092_SKYA.created_20210408_113638.almB_lv10_5wl_360_xfit_more_complete.output -> 4STAR ORACLES_2016_5wl_360_xfit_more_complete 20160920_092_SKYA.created__113638.almB_lv10_5wl_360_xfit_more_complete 2021-04-08 16:00:26.962070 20210408 4STAR_20160920_092_SKYA.created_20210408_113638.almB_lv10_5wl_360_xfit_more_complete\n",
      "4STAR_20160902_034_SKYA.created_20210408_112153.avg_lv10_5wl_360_xfit_more_complete.output -> 4STAR ORACLES_2016_5wl_360_xfit_more_complete 20160902_034_SKYA.created__112153.avg_lv10_5wl_360_xfit_more_complete 2021-04-08 16:00:26.842067 20210408 4STAR_20160902_034_SKYA.created_20210408_112153.avg_lv10_5wl_360_xfit_more_complete\n",
      "4STAR_20160902_031_SKYP.created_20210408_112137.ppl_lv15_5wl_360_xfit_more_complete.output -> 4STAR ORACLES_2016_5wl_360_xfit_more_complete 20160902_031_SKYP.created__112137.ppl_lv15_5wl_360_xfit_more_complete 2021-04-08 16:00:26.838067 20210408 4STAR_20160902_031_SKYP.created_20210408_112137.ppl_lv15_5wl_360_xfit_more_complete\n",
      "4STAR_20160902_026_SKYA.created_20210408_112047.avg_lv15_5wl_360_xfit_more_complete.output -> 4STAR ORACLES_2016_5wl_360_xfit_more_complete 20160902_026_SKYA.created__112047.avg_lv15_5wl_360_xfit_more_complete 2021-04-08 16:00:26.830067 20210408 4STAR_20160902_026_SKYA.created_20210408_112047.avg_lv15_5wl_360_xfit_more_complete\n",
      "4STAR_20160920_179_SKYP.created_20210408_113950.ppl_lv20_5wl_360_xfit_more_complete.mat -> 4STAR ORACLES_2016_5wl_360_xfit_more_complete 20160920_179_SKYP.created__113950.ppl_lv20_5wl_360_xfit_more_complete 2021-04-08 16:00:26.986071 20210408 4STAR_20160920_179_SKYP.created_20210408_113950.ppl_lv20_5wl_360_xfit_more_complete\n",
      "4STAR_20160920_030_SKYA.created_20210408_113212.almB_lv10_5wl_360_xfit_more_complete.output -> 4STAR ORACLES_2016_5wl_360_xfit_more_complete 20160920_030_SKYA.created__113212.almB_lv10_5wl_360_xfit_more_complete 2021-04-08 16:00:26.918069 20210408 4STAR_20160920_030_SKYA.created_20210408_113212.almB_lv10_5wl_360_xfit_more_complete\n",
      "4STAR_20160920_072_SKYA.created_20210408_113532.almB_lv10_5wl_360_xfit_more_complete.output -> 4STAR ORACLES_2016_5wl_360_xfit_more_complete 20160920_072_SKYA.created__113532.almB_lv10_5wl_360_xfit_more_complete 2021-04-08 16:00:26.954070 20210408 4STAR_20160920_072_SKYA.created_20210408_113532.almB_lv10_5wl_360_xfit_more_complete\n",
      "4STAR_20160912_072_SKYA.created_20210408_112933.avg_lv15_5wl_360_xfit_more_complete.mat -> 4STAR ORACLES_2016_5wl_360_xfit_more_complete 20160912_072_SKYA.created__112933.avg_lv15_5wl_360_xfit_more_complete 2021-04-08 16:00:26.894068 20210408 4STAR_20160912_072_SKYA.created_20210408_112933.avg_lv15_5wl_360_xfit_more_complete\n",
      "4STAR_20160902_053_SKYP.created_20210408_112351.ppl_lv15_5wl_360_xfit_more_complete.output -> 4STAR ORACLES_2016_5wl_360_xfit_more_complete 20160902_053_SKYP.created__112351.ppl_lv15_5wl_360_xfit_more_complete 2021-04-08 16:00:26.858068 20210408 4STAR_20160902_053_SKYP.created_20210408_112351.ppl_lv15_5wl_360_xfit_more_complete\n",
      "4STAR_20160920_033_SKYP.created_20210408_113230.ppl_lv20_5wl_360_xfit_more_complete.mat -> 4STAR ORACLES_2016_5wl_360_xfit_more_complete 20160920_033_SKYP.created__113230.ppl_lv20_5wl_360_xfit_more_complete 2021-04-08 16:00:26.922069 20210408 4STAR_20160920_033_SKYP.created_20210408_113230.ppl_lv20_5wl_360_xfit_more_complete\n",
      "4STAR_20160902_082_SKYP.created_20210408_112535.ppl_lv15_5wl_360_xfit_more_complete.input -> 4STAR ORACLES_2016_5wl_360_xfit_more_complete 20160902_082_SKYP.created__112535.ppl_lv15_5wl_360_xfit_more_complete 2021-04-08 16:00:26.874068 20210408 4STAR_20160902_082_SKYP.created_20210408_112535.ppl_lv15_5wl_360_xfit_more_complete\n",
      "4STAR_20160920_059_SKYA.created_20210408_113411.avg_lv20_5wl_360_xfit_more_complete.mat -> 4STAR ORACLES_2016_5wl_360_xfit_more_complete 20160920_059_SKYA.created__113411.avg_lv20_5wl_360_xfit_more_complete 2021-04-08 16:00:26.942070 20210408 4STAR_20160920_059_SKYA.created_20210408_113411.avg_lv20_5wl_360_xfit_more_complete\n",
      "4STAR_20160920_059_SKYA.created_20210408_113411.almB_lv10_5wl_360_xfit_more_complete.input -> 4STAR ORACLES_2016_5wl_360_xfit_more_complete 20160920_059_SKYA.created__113411.almB_lv10_5wl_360_xfit_more_complete 2021-04-08 16:00:26.938070 20210408 4STAR_20160920_059_SKYA.created_20210408_113411.almB_lv10_5wl_360_xfit_more_complete\n",
      "4STAR_20160902_073_SKYP.created_20210408_112518.ppl_lv15_5wl_360_xfit_more_complete.output -> 4STAR ORACLES_2016_5wl_360_xfit_more_complete 20160902_073_SKYP.created__112518.ppl_lv15_5wl_360_xfit_more_complete 2021-04-08 16:00:26.874068 20210408 4STAR_20160902_073_SKYP.created_20210408_112518.ppl_lv15_5wl_360_xfit_more_complete\n",
      "4STAR_20160920_155_SKYA.created_20210408_113900.almA_lv20_5wl_360_xfit_more_complete.mat -> 4STAR ORACLES_2016_5wl_360_xfit_more_complete 20160920_155_SKYA.created__113900.almA_lv20_5wl_360_xfit_more_complete 2021-04-08 16:00:26.982071 20210408 4STAR_20160920_155_SKYA.created_20210408_113900.almA_lv20_5wl_360_xfit_more_complete\n",
      "4STAR_20160920_075_SKYP.created_20210408_113548.ppl_lv15_5wl_360_xfit_more_complete.input -> 4STAR ORACLES_2016_5wl_360_xfit_more_complete 20160920_075_SKYP.created__113548.ppl_lv15_5wl_360_xfit_more_complete 2021-04-08 16:00:26.954070 20210408 4STAR_20160920_075_SKYP.created_20210408_113548.ppl_lv15_5wl_360_xfit_more_complete\n",
      "4STAR_20160920_143_SKYA.created_20210408_113810.avg_lv10_5wl_360_xfit_more_complete.input -> 4STAR ORACLES_2016_5wl_360_xfit_more_complete 20160920_143_SKYA.created__113810.avg_lv10_5wl_360_xfit_more_complete 2021-04-08 16:00:26.974071 20210408 4STAR_20160920_143_SKYA.created_20210408_113810.avg_lv10_5wl_360_xfit_more_complete\n",
      "4STAR_20160902_072_SKYA.created_20210408_112500.almA_lv20_5wl_360_xfit_more_complete.mat -> 4STAR ORACLES_2016_5wl_360_xfit_more_complete 20160902_072_SKYA.created__112500.almA_lv20_5wl_360_xfit_more_complete 2021-04-08 16:00:26.870068 20210408 4STAR_20160902_072_SKYA.created_20210408_112500.almA_lv20_5wl_360_xfit_more_complete\n",
      "4STAR_20160912_044_SKYA.created_20210408_112842.almA_lv10_5wl_360_xfit_more_complete.output -> 4STAR ORACLES_2016_5wl_360_xfit_more_complete 20160912_044_SKYA.created__112842.almA_lv10_5wl_360_xfit_more_complete 2021-04-08 16:00:26.886068 20210408 4STAR_20160912_044_SKYA.created_20210408_112842.almA_lv10_5wl_360_xfit_more_complete\n",
      "4STAR_20160902_027_SKYP.created_20210408_112105.ppl_lv15_5wl_360_xfit_more_complete.input -> 4STAR ORACLES_2016_5wl_360_xfit_more_complete 20160902_027_SKYP.created__112105.ppl_lv15_5wl_360_xfit_more_complete 2021-04-08 16:00:26.830067 20210408 4STAR_20160902_027_SKYP.created_20210408_112105.ppl_lv15_5wl_360_xfit_more_complete\n",
      "4STAR_20160920_010_SKYP.created_20210408_113045.ppl_lv15_5wl_360_xfit_more_complete.output -> 4STAR ORACLES_2016_5wl_360_xfit_more_complete 20160920_010_SKYP.created__113045.ppl_lv15_5wl_360_xfit_more_complete 2021-04-08 16:00:26.906069 20210408 4STAR_20160920_010_SKYP.created_20210408_113045.ppl_lv15_5wl_360_xfit_more_complete\n",
      "4STAR_20160920_019_SKYA.created_20210408_113119.almA_lv15_5wl_360_xfit_more_complete.input -> 4STAR ORACLES_2016_5wl_360_xfit_more_complete 20160920_019_SKYA.created__113119.almA_lv15_5wl_360_xfit_more_complete 2021-04-08 16:00:26.906069 20210408 4STAR_20160920_019_SKYA.created_20210408_113119.almA_lv15_5wl_360_xfit_more_complete\n",
      "4STAR_20160902_060_SKYA.created_20210408_112425.almB_lv10_5wl_360_xfit_more_complete.output -> 4STAR ORACLES_2016_5wl_360_xfit_more_complete 20160902_060_SKYA.created__112425.almB_lv10_5wl_360_xfit_more_complete 2021-04-08 16:00:26.866068 20210408 4STAR_20160902_060_SKYA.created_20210408_112425.almB_lv10_5wl_360_xfit_more_complete\n",
      "4STAR_20160902_072_SKYA.created_20210408_112500.almB_lv10_5wl_360_xfit_more_complete.output -> 4STAR ORACLES_2016_5wl_360_xfit_more_complete 20160902_072_SKYA.created__112500.almB_lv10_5wl_360_xfit_more_complete 2021-04-08 16:00:26.870068 20210408 4STAR_20160902_072_SKYA.created_20210408_112500.almB_lv10_5wl_360_xfit_more_complete\n",
      "4STAR_20160920_143_SKYA.created_20210408_113810.almA_lv10_5wl_360_xfit_more_complete.output -> 4STAR ORACLES_2016_5wl_360_xfit_more_complete 20160920_143_SKYA.created__113810.almA_lv10_5wl_360_xfit_more_complete 2021-04-08 16:00:26.974071 20210408 4STAR_20160920_143_SKYA.created_20210408_113810.almA_lv10_5wl_360_xfit_more_complete\n",
      "4STAR_20160912_025_SKYP.created_20210408_112740.ppl_lv15_5wl_360_xfit_more_complete.input -> 4STAR ORACLES_2016_5wl_360_xfit_more_complete 20160912_025_SKYP.created__112740.ppl_lv15_5wl_360_xfit_more_complete 2021-04-08 16:00:26.878068 20210408 4STAR_20160912_025_SKYP.created_20210408_112740.ppl_lv15_5wl_360_xfit_more_complete\n",
      "4STAR_20160902_030_SKYA.created_20210408_112119.almA_lv15_5wl_360_xfit_more_complete.input -> 4STAR ORACLES_2016_5wl_360_xfit_more_complete 20160902_030_SKYA.created__112119.almA_lv15_5wl_360_xfit_more_complete 2021-04-08 16:00:26.834067 20210408 4STAR_20160902_030_SKYA.created_20210408_112119.almA_lv15_5wl_360_xfit_more_complete\n",
      "4STAR_20160902_072_SKYA.created_20210408_112500.almA_lv10_5wl_360_xfit_more_complete.input -> 4STAR ORACLES_2016_5wl_360_xfit_more_complete 20160902_072_SKYA.created__112500.almA_lv10_5wl_360_xfit_more_complete 2021-04-08 16:00:26.870068 20210408 4STAR_20160902_072_SKYA.created_20210408_112500.almA_lv10_5wl_360_xfit_more_complete\n",
      "4STAR_20160920_092_SKYA.created_20210408_113638.avg_lv10_5wl_360_xfit_more_complete.input -> 4STAR ORACLES_2016_5wl_360_xfit_more_complete 20160920_092_SKYA.created__113638.avg_lv10_5wl_360_xfit_more_complete 2021-04-08 16:00:26.962070 20210408 4STAR_20160920_092_SKYA.created_20210408_113638.avg_lv10_5wl_360_xfit_more_complete\n",
      "4STAR_20160902_060_SKYA.created_20210408_112425.avg_lv10_5wl_360_xfit_more_complete.input -> 4STAR ORACLES_2016_5wl_360_xfit_more_complete 20160902_060_SKYA.created__112425.avg_lv10_5wl_360_xfit_more_complete 2021-04-08 16:00:26.866068 20210408 4STAR_20160902_060_SKYA.created_20210408_112425.avg_lv10_5wl_360_xfit_more_complete\n",
      "4STAR_20160920_129_SKYA.created_20210408_113737.almB_lv10_5wl_360_xfit_more_complete.output -> 4STAR ORACLES_2016_5wl_360_xfit_more_complete 20160920_129_SKYA.created__113737.almB_lv10_5wl_360_xfit_more_complete 2021-04-08 16:00:26.970070 20210408 4STAR_20160920_129_SKYA.created_20210408_113737.almB_lv10_5wl_360_xfit_more_complete\n",
      "4STAR_20160920_143_SKYA.created_20210408_113810.avg_lv10_5wl_360_xfit_more_complete.output -> 4STAR ORACLES_2016_5wl_360_xfit_more_complete 20160920_143_SKYA.created__113810.avg_lv10_5wl_360_xfit_more_complete 2021-04-08 16:00:26.974071 20210408 4STAR_20160920_143_SKYA.created_20210408_113810.avg_lv10_5wl_360_xfit_more_complete\n",
      "4STAR_20160920_143_SKYA.created_20210408_113810.almB_lv10_5wl_360_xfit_more_complete.output -> 4STAR ORACLES_2016_5wl_360_xfit_more_complete 20160920_143_SKYA.created__113810.almB_lv10_5wl_360_xfit_more_complete 2021-04-08 16:00:26.974071 20210408 4STAR_20160920_143_SKYA.created_20210408_113810.almB_lv10_5wl_360_xfit_more_complete\n",
      "4STAR_20160920_010_SKYP.created_20210408_113045.ppl_lv15_5wl_360_xfit_more_complete.input -> 4STAR ORACLES_2016_5wl_360_xfit_more_complete 20160920_010_SKYP.created__113045.ppl_lv15_5wl_360_xfit_more_complete 2021-04-08 16:00:26.902069 20210408 4STAR_20160920_010_SKYP.created_20210408_113045.ppl_lv15_5wl_360_xfit_more_complete\n",
      "4STAR_20160920_179_SKYP.created_20210408_113950.ppl_lv15_5wl_360_xfit_more_complete.output -> 4STAR ORACLES_2016_5wl_360_xfit_more_complete 20160920_179_SKYP.created__113950.ppl_lv15_5wl_360_xfit_more_complete 2021-04-08 16:00:26.986071 20210408 4STAR_20160920_179_SKYP.created_20210408_113950.ppl_lv15_5wl_360_xfit_more_complete\n",
      "4STAR_20160920_169_SKYA.created_20210408_113917.almA_lv10_5wl_360_xfit_more_complete.input -> 4STAR ORACLES_2016_5wl_360_xfit_more_complete 20160920_169_SKYA.created__113917.almA_lv10_5wl_360_xfit_more_complete 2021-04-08 16:00:26.982071 20210408 4STAR_20160920_169_SKYA.created_20210408_113917.almA_lv10_5wl_360_xfit_more_complete\n",
      "4STAR_20160920_086_SKYP.created_20210408_113604.ppl_lv15_5wl_360_xfit_more_complete.mat -> 4STAR ORACLES_2016_5wl_360_xfit_more_complete 20160920_086_SKYP.created__113604.ppl_lv15_5wl_360_xfit_more_complete 2021-04-08 16:00:26.958070 20210408 4STAR_20160920_086_SKYP.created_20210408_113604.ppl_lv15_5wl_360_xfit_more_complete\n"
     ]
    },
    {
     "name": "stdout",
     "output_type": "stream",
     "text": [
      "4STAR_20160912_028_SKYA.created_20210408_112756.almB_lv15_5wl_360_xfit_more_complete.mat -> 4STAR ORACLES_2016_5wl_360_xfit_more_complete 20160912_028_SKYA.created__112756.almB_lv15_5wl_360_xfit_more_complete 2021-04-08 16:00:26.882068 20210408 4STAR_20160912_028_SKYA.created_20210408_112756.almB_lv15_5wl_360_xfit_more_complete\n",
      "4STAR_20160912_077_SKYP.created_20210408_113026.ppl_lv15_5wl_360_xfit_more_complete.input -> 4STAR ORACLES_2016_5wl_360_xfit_more_complete 20160912_077_SKYP.created__113026.ppl_lv15_5wl_360_xfit_more_complete 2021-04-08 16:00:26.902069 20210408 4STAR_20160912_077_SKYP.created_20210408_113026.ppl_lv15_5wl_360_xfit_more_complete\n",
      "4STAR_20160920_016_SKYP.created_20210408_113102.ppl_lv15_5wl_360_xfit_more_complete.input -> 4STAR ORACLES_2016_5wl_360_xfit_more_complete 20160920_016_SKYP.created__113102.ppl_lv15_5wl_360_xfit_more_complete 2021-04-08 16:00:26.906069 20210408 4STAR_20160920_016_SKYP.created_20210408_113102.ppl_lv15_5wl_360_xfit_more_complete\n",
      "4STAR_20160920_026_SKYA.created_20210408_113137.almB_lv20_5wl_360_xfit_more_complete.mat -> 4STAR ORACLES_2016_5wl_360_xfit_more_complete 20160920_026_SKYA.created__113137.almB_lv20_5wl_360_xfit_more_complete 2021-04-08 16:00:26.914069 20210408 4STAR_20160920_026_SKYA.created_20210408_113137.almB_lv20_5wl_360_xfit_more_complete\n",
      "4STAR_20160902_042_SKYA.created_20210408_112231.almB_lv10_5wl_360_xfit_more_complete.input -> 4STAR ORACLES_2016_5wl_360_xfit_more_complete 20160902_042_SKYA.created__112231.almB_lv10_5wl_360_xfit_more_complete 2021-04-08 16:00:26.846067 20210408 4STAR_20160902_042_SKYA.created_20210408_112231.almB_lv10_5wl_360_xfit_more_complete\n",
      "4STAR_20160902_052_SKYA.created_20210408_112334.almA_lv10_5wl_360_xfit_more_complete.mat -> 4STAR ORACLES_2016_5wl_360_xfit_more_complete 20160902_052_SKYA.created__112334.almA_lv10_5wl_360_xfit_more_complete 2021-04-08 16:00:26.858068 20210408 4STAR_20160902_052_SKYA.created_20210408_112334.almA_lv10_5wl_360_xfit_more_complete\n",
      "4STAR_20160920_129_SKYA.created_20210408_113737.almB_lv10_5wl_360_xfit_more_complete.input -> 4STAR ORACLES_2016_5wl_360_xfit_more_complete 20160920_129_SKYA.created__113737.almB_lv10_5wl_360_xfit_more_complete 2021-04-08 16:00:26.966070 20210408 4STAR_20160920_129_SKYA.created_20210408_113737.almB_lv10_5wl_360_xfit_more_complete\n",
      "4STAR_20160920_053_SKYA.created_20210408_113338.almA_lv15_5wl_360_xfit_more_complete.mat -> 4STAR ORACLES_2016_5wl_360_xfit_more_complete 20160920_053_SKYA.created__113338.almA_lv15_5wl_360_xfit_more_complete 2021-04-08 16:00:26.934069 20210408 4STAR_20160920_053_SKYA.created_20210408_113338.almA_lv15_5wl_360_xfit_more_complete\n",
      "4STAR_20160902_047_SKYP.created_20210408_112319.ppl_lv15_5wl_360_xfit_more_complete.input -> 4STAR ORACLES_2016_5wl_360_xfit_more_complete 20160902_047_SKYP.created__112319.ppl_lv15_5wl_360_xfit_more_complete 2021-04-08 16:00:26.854068 20210408 4STAR_20160902_047_SKYP.created_20210408_112319.ppl_lv15_5wl_360_xfit_more_complete\n",
      "4STAR_20160902_013_SKYP.created_20210408_111920.ppl_lv15_5wl_360_xfit_more_complete.input -> 4STAR ORACLES_2016_5wl_360_xfit_more_complete 20160902_013_SKYP.created__111920.ppl_lv15_5wl_360_xfit_more_complete 2021-04-08 16:00:26.814067 20210408 4STAR_20160902_013_SKYP.created_20210408_111920.ppl_lv15_5wl_360_xfit_more_complete\n",
      "4STAR_20160912_044_SKYA.created_20210408_112842.avg_lv15_5wl_360_xfit_more_complete.mat -> 4STAR ORACLES_2016_5wl_360_xfit_more_complete 20160912_044_SKYA.created__112842.avg_lv15_5wl_360_xfit_more_complete 2021-04-08 16:00:26.890069 20210408 4STAR_20160912_044_SKYA.created_20210408_112842.avg_lv15_5wl_360_xfit_more_complete\n",
      "4STAR_20160902_026_SKYA.created_20210408_112047.almA_lv15_5wl_360_xfit_more_complete.mat -> 4STAR ORACLES_2016_5wl_360_xfit_more_complete 20160902_026_SKYA.created__112047.almA_lv15_5wl_360_xfit_more_complete 2021-04-08 16:00:26.826067 20210408 4STAR_20160902_026_SKYA.created_20210408_112047.almA_lv15_5wl_360_xfit_more_complete\n",
      "4STAR_20160920_019_SKYA.created_20210408_113119.avg_lv15_5wl_360_xfit_more_complete.input -> 4STAR ORACLES_2016_5wl_360_xfit_more_complete 20160920_019_SKYA.created__113119.avg_lv15_5wl_360_xfit_more_complete 2021-04-08 16:00:26.910069 20210408 4STAR_20160920_019_SKYA.created_20210408_113119.avg_lv15_5wl_360_xfit_more_complete\n",
      "4STAR_20160902_010_SKYP.created_20210408_111904.ppl_lv15_5wl_360_xfit_more_complete.input -> 4STAR ORACLES_2016_5wl_360_xfit_more_complete 20160902_010_SKYP.created__111904.ppl_lv15_5wl_360_xfit_more_complete 2021-04-08 16:00:26.810066 20210408 4STAR_20160902_010_SKYP.created_20210408_111904.ppl_lv15_5wl_360_xfit_more_complete\n",
      "4STAR_20160902_042_SKYA.created_20210408_112231.almA_lv10_5wl_360_xfit_more_complete.output -> 4STAR ORACLES_2016_5wl_360_xfit_more_complete 20160902_042_SKYA.created__112231.almA_lv10_5wl_360_xfit_more_complete 2021-04-08 16:00:26.846067 20210408 4STAR_20160902_042_SKYA.created_20210408_112231.almA_lv10_5wl_360_xfit_more_complete\n",
      "4STAR_20160920_129_SKYA.created_20210408_113737.almB_lv15_5wl_360_xfit_more_complete.mat -> 4STAR ORACLES_2016_5wl_360_xfit_more_complete 20160920_129_SKYA.created__113737.almB_lv15_5wl_360_xfit_more_complete 2021-04-08 16:00:26.970070 20210408 4STAR_20160920_129_SKYA.created_20210408_113737.almB_lv15_5wl_360_xfit_more_complete\n",
      "4STAR_20160902_060_SKYA.created_20210408_112425.avg_lv20_5wl_360_xfit_more_complete.mat -> 4STAR ORACLES_2016_5wl_360_xfit_more_complete 20160902_060_SKYA.created__112425.avg_lv20_5wl_360_xfit_more_complete 2021-04-08 16:00:26.866068 20210408 4STAR_20160902_060_SKYA.created_20210408_112425.avg_lv20_5wl_360_xfit_more_complete\n",
      "4STAR_20160920_104_SKYP.created_20210408_113654.ppl_lv15_5wl_360_xfit_more_complete.mat -> 4STAR ORACLES_2016_5wl_360_xfit_more_complete 20160920_104_SKYP.created__113654.ppl_lv15_5wl_360_xfit_more_complete 2021-04-08 16:00:26.962070 20210408 4STAR_20160920_104_SKYP.created_20210408_113654.ppl_lv15_5wl_360_xfit_more_complete\n",
      "4STAR_20160920_036_SKYA.created_20210408_113247.almB_lv10_5wl_360_xfit_more_complete.input -> 4STAR ORACLES_2016_5wl_360_xfit_more_complete 20160920_036_SKYA.created__113247.almB_lv10_5wl_360_xfit_more_complete 2021-04-08 16:00:26.922069 20210408 4STAR_20160920_036_SKYA.created_20210408_113247.almB_lv10_5wl_360_xfit_more_complete\n",
      "4STAR_20160902_034_SKYA.created_20210408_112153.avg_lv10_5wl_360_xfit_more_complete.input -> 4STAR ORACLES_2016_5wl_360_xfit_more_complete 20160902_034_SKYA.created__112153.avg_lv10_5wl_360_xfit_more_complete 2021-04-08 16:00:26.842067 20210408 4STAR_20160902_034_SKYA.created_20210408_112153.avg_lv10_5wl_360_xfit_more_complete\n",
      "4STAR_20160902_046_SKYA.created_20210408_112302.almA_lv10_5wl_360_xfit_more_complete.output -> 4STAR ORACLES_2016_5wl_360_xfit_more_complete 20160902_046_SKYA.created__112302.almA_lv10_5wl_360_xfit_more_complete 2021-04-08 16:00:26.850068 20210408 4STAR_20160902_046_SKYA.created_20210408_112302.almA_lv10_5wl_360_xfit_more_complete\n",
      "4STAR_20160920_092_SKYA.created_20210408_113638.avg_lv10_5wl_360_xfit_more_complete.output -> 4STAR ORACLES_2016_5wl_360_xfit_more_complete 20160920_092_SKYA.created__113638.avg_lv10_5wl_360_xfit_more_complete 2021-04-08 16:00:26.962070 20210408 4STAR_20160920_092_SKYA.created_20210408_113638.avg_lv10_5wl_360_xfit_more_complete\n",
      "4STAR_20160920_203_SKYP.created_20210408_114100.ppl_lv10_5wl_360_xfit_more_complete.mat -> 4STAR ORACLES_2016_5wl_360_xfit_more_complete 20160920_203_SKYP.created__114100.ppl_lv10_5wl_360_xfit_more_complete 2021-04-08 16:00:26.994071 20210408 4STAR_20160920_203_SKYP.created_20210408_114100.ppl_lv10_5wl_360_xfit_more_complete\n",
      "4STAR_20160912_072_SKYA.created_20210408_112933.almA_lv15_5wl_360_xfit_more_complete.output -> 4STAR ORACLES_2016_5wl_360_xfit_more_complete 20160912_072_SKYA.created__112933.almA_lv15_5wl_360_xfit_more_complete 2021-04-08 16:00:26.894068 20210408 4STAR_20160912_072_SKYA.created_20210408_112933.almA_lv15_5wl_360_xfit_more_complete\n",
      "4STAR_20160920_130_SKYP.created_20210408_113753.ppl_lv10_5wl_360_xfit_more_complete.mat -> 4STAR ORACLES_2016_5wl_360_xfit_more_complete 20160920_130_SKYP.created__113753.ppl_lv10_5wl_360_xfit_more_complete 2021-04-08 16:00:26.970070 20210408 4STAR_20160920_130_SKYP.created_20210408_113753.ppl_lv10_5wl_360_xfit_more_complete\n",
      "4STAR_20160902_030_SKYA.created_20210408_112119.almB_lv10_5wl_360_xfit_more_complete.output -> 4STAR ORACLES_2016_5wl_360_xfit_more_complete 20160902_030_SKYA.created__112119.almB_lv10_5wl_360_xfit_more_complete 2021-04-08 16:00:26.834067 20210408 4STAR_20160902_030_SKYA.created_20210408_112119.almB_lv10_5wl_360_xfit_more_complete\n",
      "4STAR_20160902_060_SKYA.created_20210408_112425.almB_lv10_5wl_360_xfit_more_complete.input -> 4STAR ORACLES_2016_5wl_360_xfit_more_complete 20160902_060_SKYA.created__112425.almB_lv10_5wl_360_xfit_more_complete 2021-04-08 16:00:26.866068 20210408 4STAR_20160902_060_SKYA.created_20210408_112425.almB_lv10_5wl_360_xfit_more_complete\n",
      "4STAR_20160920_033_SKYP.created_20210408_113230.ppl_lv15_5wl_360_xfit_more_complete.output -> 4STAR ORACLES_2016_5wl_360_xfit_more_complete 20160920_033_SKYP.created__113230.ppl_lv15_5wl_360_xfit_more_complete 2021-04-08 16:00:26.922069 20210408 4STAR_20160920_033_SKYP.created_20210408_113230.ppl_lv15_5wl_360_xfit_more_complete\n",
      "4STAR_20160902_056_SKYA.created_20210408_112408.avg_lv20_5wl_360_xfit_more_complete.mat -> 4STAR ORACLES_2016_5wl_360_xfit_more_complete 20160902_056_SKYA.created__112408.avg_lv20_5wl_360_xfit_more_complete 2021-04-08 16:00:26.862068 20210408 4STAR_20160902_056_SKYA.created_20210408_112408.avg_lv20_5wl_360_xfit_more_complete\n",
      "4STAR_20160920_065_SKYA.created_20210408_113444.avg_lv10_5wl_360_xfit_more_complete.output -> 4STAR ORACLES_2016_5wl_360_xfit_more_complete 20160920_065_SKYA.created__113444.avg_lv10_5wl_360_xfit_more_complete 2021-04-08 16:00:26.946070 20210408 4STAR_20160920_065_SKYA.created_20210408_113444.avg_lv10_5wl_360_xfit_more_complete\n",
      "4STAR_20160920_104_SKYP.created_20210408_113654.ppl_lv15_5wl_360_xfit_more_complete.output -> 4STAR ORACLES_2016_5wl_360_xfit_more_complete 20160920_104_SKYP.created__113654.ppl_lv15_5wl_360_xfit_more_complete 2021-04-08 16:00:26.966070 20210408 4STAR_20160920_104_SKYP.created_20210408_113654.ppl_lv15_5wl_360_xfit_more_complete\n",
      "4STAR_20160902_030_SKYA.created_20210408_112119.almB_lv10_5wl_360_xfit_more_complete.input -> 4STAR ORACLES_2016_5wl_360_xfit_more_complete 20160902_030_SKYA.created__112119.almB_lv10_5wl_360_xfit_more_complete 2021-04-08 16:00:26.834067 20210408 4STAR_20160902_030_SKYA.created_20210408_112119.almB_lv10_5wl_360_xfit_more_complete\n",
      "4STAR_20160920_143_SKYA.created_20210408_113810.almB_lv10_5wl_360_xfit_more_complete.input -> 4STAR ORACLES_2016_5wl_360_xfit_more_complete 20160920_143_SKYA.created__113810.almB_lv10_5wl_360_xfit_more_complete 2021-04-08 16:00:26.974071 20210408 4STAR_20160920_143_SKYA.created_20210408_113810.almB_lv10_5wl_360_xfit_more_complete\n",
      "4STAR_20160912_028_SKYA.created_20210408_112756.avg_lv15_5wl_360_xfit_more_complete.mat -> 4STAR ORACLES_2016_5wl_360_xfit_more_complete 20160912_028_SKYA.created__112756.avg_lv15_5wl_360_xfit_more_complete 2021-04-08 16:00:26.882068 20210408 4STAR_20160912_028_SKYA.created_20210408_112756.avg_lv15_5wl_360_xfit_more_complete\n",
      "4STAR_20160902_056_SKYA.created_20210408_112408.avg_lv10_5wl_360_xfit_more_complete.input -> 4STAR ORACLES_2016_5wl_360_xfit_more_complete 20160902_056_SKYA.created__112408.avg_lv10_5wl_360_xfit_more_complete 2021-04-08 16:00:26.862068 20210408 4STAR_20160902_056_SKYA.created_20210408_112408.avg_lv10_5wl_360_xfit_more_complete\n",
      "4STAR_20160920_030_SKYA.created_20210408_113212.avg_lv10_5wl_360_xfit_more_complete.output -> 4STAR ORACLES_2016_5wl_360_xfit_more_complete 20160920_030_SKYA.created__113212.avg_lv10_5wl_360_xfit_more_complete 2021-04-08 16:00:26.918069 20210408 4STAR_20160920_030_SKYA.created_20210408_113212.avg_lv10_5wl_360_xfit_more_complete\n",
      "4STAR_20160902_073_SKYP.created_20210408_112518.ppl_lv20_5wl_360_xfit_more_complete.mat -> 4STAR ORACLES_2016_5wl_360_xfit_more_complete 20160902_073_SKYP.created__112518.ppl_lv20_5wl_360_xfit_more_complete 2021-04-08 16:00:26.874068 20210408 4STAR_20160902_073_SKYP.created_20210408_112518.ppl_lv20_5wl_360_xfit_more_complete\n",
      "4STAR_20160920_016_SKYP.created_20210408_113102.ppl_lv15_5wl_360_xfit_more_complete.output -> 4STAR ORACLES_2016_5wl_360_xfit_more_complete 20160920_016_SKYP.created__113102.ppl_lv15_5wl_360_xfit_more_complete 2021-04-08 16:00:26.906069 20210408 4STAR_20160920_016_SKYP.created_20210408_113102.ppl_lv15_5wl_360_xfit_more_complete\n",
      "4STAR_20160902_046_SKYA.created_20210408_112302.almA_lv10_5wl_360_xfit_more_complete.input -> 4STAR ORACLES_2016_5wl_360_xfit_more_complete 20160902_046_SKYA.created__112302.almA_lv10_5wl_360_xfit_more_complete 2021-04-08 16:00:26.850068 20210408 4STAR_20160902_046_SKYA.created_20210408_112302.almA_lv10_5wl_360_xfit_more_complete\n",
      "4STAR_20160902_022_SKYA.created_20210408_112013.almA_lv15_5wl_360_xfit_more_complete.mat -> 4STAR ORACLES_2016_5wl_360_xfit_more_complete 20160902_022_SKYA.created__112013.almA_lv15_5wl_360_xfit_more_complete 2021-04-08 16:00:26.822067 20210408 4STAR_20160902_022_SKYA.created_20210408_112013.almA_lv15_5wl_360_xfit_more_complete\n",
      "4STAR_20160920_107_SKYP.created_20210408_113710.ppl_lv15_5wl_360_xfit_more_complete.input -> 4STAR ORACLES_2016_5wl_360_xfit_more_complete 20160920_107_SKYP.created__113710.ppl_lv15_5wl_360_xfit_more_complete 2021-04-08 16:00:26.966070 20210408 4STAR_20160920_107_SKYP.created_20210408_113710.ppl_lv15_5wl_360_xfit_more_complete\n",
      "4STAR_20160912_076_SKYA.created_20210408_113007.almB_lv15_5wl_360_xfit_more_complete.input -> 4STAR ORACLES_2016_5wl_360_xfit_more_complete 20160912_076_SKYA.created__113007.almB_lv15_5wl_360_xfit_more_complete 2021-04-08 16:00:26.898069 20210408 4STAR_20160912_076_SKYA.created_20210408_113007.almB_lv15_5wl_360_xfit_more_complete\n",
      "4STAR_20160920_129_SKYA.created_20210408_113737.almA_lv10_5wl_360_xfit_more_complete.output -> 4STAR ORACLES_2016_5wl_360_xfit_more_complete 20160920_129_SKYA.created__113737.almA_lv10_5wl_360_xfit_more_complete 2021-04-08 16:00:26.966070 20210408 4STAR_20160920_129_SKYA.created_20210408_113737.almA_lv10_5wl_360_xfit_more_complete\n",
      "4STAR_20160920_042_SKYA.created_20210408_113320.almB_lv10_5wl_360_xfit_more_complete.input -> 4STAR ORACLES_2016_5wl_360_xfit_more_complete 20160920_042_SKYA.created__113320.almB_lv10_5wl_360_xfit_more_complete 2021-04-08 16:00:26.930069 20210408 4STAR_20160920_042_SKYA.created_20210408_113320.almB_lv10_5wl_360_xfit_more_complete\n",
      "4STAR_20160902_056_SKYA.created_20210408_112408.almA_lv10_5wl_360_xfit_more_complete.input -> 4STAR ORACLES_2016_5wl_360_xfit_more_complete 20160902_056_SKYA.created__112408.almA_lv10_5wl_360_xfit_more_complete 2021-04-08 16:00:26.858068 20210408 4STAR_20160902_056_SKYA.created_20210408_112408.almA_lv10_5wl_360_xfit_more_complete\n",
      "4STAR_20160920_065_SKYA.created_20210408_113444.almB_lv20_5wl_360_xfit_more_complete.mat -> 4STAR ORACLES_2016_5wl_360_xfit_more_complete 20160920_065_SKYA.created__113444.almB_lv20_5wl_360_xfit_more_complete 2021-04-08 16:00:26.946070 20210408 4STAR_20160920_065_SKYA.created_20210408_113444.almB_lv20_5wl_360_xfit_more_complete\n",
      "4STAR_20160920_092_SKYA.created_20210408_113638.almB_lv10_5wl_360_xfit_more_complete.input -> 4STAR ORACLES_2016_5wl_360_xfit_more_complete 20160920_092_SKYA.created__113638.almB_lv10_5wl_360_xfit_more_complete 2021-04-08 16:00:26.962070 20210408 4STAR_20160920_092_SKYA.created_20210408_113638.almB_lv10_5wl_360_xfit_more_complete\n",
      "4STAR_20160912_041_SKYP.created_20210408_112825.ppl_lv15_5wl_360_xfit_more_complete.output -> 4STAR ORACLES_2016_5wl_360_xfit_more_complete 20160912_041_SKYP.created__112825.ppl_lv15_5wl_360_xfit_more_complete 2021-04-08 16:00:26.886068 20210408 4STAR_20160912_041_SKYP.created_20210408_112825.ppl_lv15_5wl_360_xfit_more_complete\n",
      "4STAR_20160902_060_SKYA.created_20210408_112425.almA_lv10_5wl_360_xfit_more_complete.output -> 4STAR ORACLES_2016_5wl_360_xfit_more_complete 20160902_060_SKYA.created__112425.almA_lv10_5wl_360_xfit_more_complete 2021-04-08 16:00:26.866068 20210408 4STAR_20160902_060_SKYA.created_20210408_112425.almA_lv10_5wl_360_xfit_more_complete\n"
     ]
    },
    {
     "name": "stdout",
     "output_type": "stream",
     "text": [
      "4STAR_20160920_200_SKYA.created_20210408_114042.almA_lv15_5wl_360_xfit_more_complete.input -> 4STAR ORACLES_2016_5wl_360_xfit_more_complete 20160920_200_SKYA.created__114042.almA_lv15_5wl_360_xfit_more_complete 2021-04-08 16:00:26.990071 20210408 4STAR_20160920_200_SKYA.created_20210408_114042.almA_lv15_5wl_360_xfit_more_complete\n",
      "4STAR_20160912_028_SKYA.created_20210408_112756.avg_lv10_5wl_360_xfit_more_complete.output -> 4STAR ORACLES_2016_5wl_360_xfit_more_complete 20160912_028_SKYA.created__112756.avg_lv10_5wl_360_xfit_more_complete 2021-04-08 16:00:26.882068 20210408 4STAR_20160912_028_SKYA.created_20210408_112756.avg_lv10_5wl_360_xfit_more_complete\n",
      "4STAR_20160902_018_SKYA.created_20210408_111937.avg_lv15_5wl_360_xfit_more_complete.output -> 4STAR ORACLES_2016_5wl_360_xfit_more_complete 20160902_018_SKYA.created__111937.avg_lv15_5wl_360_xfit_more_complete 2021-04-08 16:00:26.818067 20210408 4STAR_20160902_018_SKYA.created_20210408_111937.avg_lv15_5wl_360_xfit_more_complete\n",
      "4STAR_20160902_042_SKYA.created_20210408_112231.almB_lv20_5wl_360_xfit_more_complete.mat -> 4STAR ORACLES_2016_5wl_360_xfit_more_complete 20160902_042_SKYA.created__112231.almB_lv20_5wl_360_xfit_more_complete 2021-04-08 16:00:26.846067 20210408 4STAR_20160902_042_SKYA.created_20210408_112231.almB_lv20_5wl_360_xfit_more_complete\n",
      "4STAR_20160920_129_SKYA.created_20210408_113737.avg_lv10_5wl_360_xfit_more_complete.input -> 4STAR ORACLES_2016_5wl_360_xfit_more_complete 20160920_129_SKYA.created__113737.avg_lv10_5wl_360_xfit_more_complete 2021-04-08 16:00:26.970070 20210408 4STAR_20160920_129_SKYA.created_20210408_113737.avg_lv10_5wl_360_xfit_more_complete\n",
      "4STAR_20160902_082_SKYP.created_20210408_112535.ppl_lv15_5wl_360_xfit_more_complete.output -> 4STAR ORACLES_2016_5wl_360_xfit_more_complete 20160902_082_SKYP.created__112535.ppl_lv15_5wl_360_xfit_more_complete 2021-04-08 16:00:26.874068 20210408 4STAR_20160902_082_SKYP.created_20210408_112535.ppl_lv15_5wl_360_xfit_more_complete\n",
      "4STAR_20160902_056_SKYA.created_20210408_112408.almB_lv10_5wl_360_xfit_more_complete.input -> 4STAR ORACLES_2016_5wl_360_xfit_more_complete 20160902_056_SKYA.created__112408.almB_lv10_5wl_360_xfit_more_complete 2021-04-08 16:00:26.862068 20210408 4STAR_20160902_056_SKYA.created_20210408_112408.almB_lv10_5wl_360_xfit_more_complete\n",
      "4STAR_20160920_042_SKYA.created_20210408_113320.avg_lv10_5wl_360_xfit_more_complete.output -> 4STAR ORACLES_2016_5wl_360_xfit_more_complete 20160920_042_SKYA.created__113320.avg_lv10_5wl_360_xfit_more_complete 2021-04-08 16:00:26.930069 20210408 4STAR_20160920_042_SKYA.created_20210408_113320.avg_lv10_5wl_360_xfit_more_complete\n",
      "4STAR_20160912_041_SKYP.created_20210408_112825.ppl_lv15_5wl_360_xfit_more_complete.mat -> 4STAR ORACLES_2016_5wl_360_xfit_more_complete 20160912_041_SKYP.created__112825.ppl_lv15_5wl_360_xfit_more_complete 2021-04-08 16:00:26.886068 20210408 4STAR_20160912_041_SKYP.created_20210408_112825.ppl_lv15_5wl_360_xfit_more_complete\n",
      "4STAR_20160920_065_SKYA.created_20210408_113444.avg_lv20_5wl_360_xfit_more_complete.mat -> 4STAR ORACLES_2016_5wl_360_xfit_more_complete 20160920_065_SKYA.created__113444.avg_lv20_5wl_360_xfit_more_complete 2021-04-08 16:00:26.946070 20210408 4STAR_20160920_065_SKYA.created_20210408_113444.avg_lv20_5wl_360_xfit_more_complete\n",
      "4STAR_20160920_065_SKYA.created_20210408_113444.almB_lv10_5wl_360_xfit_more_complete.output -> 4STAR ORACLES_2016_5wl_360_xfit_more_complete 20160920_065_SKYA.created__113444.almB_lv10_5wl_360_xfit_more_complete 2021-04-08 16:00:26.946070 20210408 4STAR_20160920_065_SKYA.created_20210408_113444.almB_lv10_5wl_360_xfit_more_complete\n",
      "4STAR_20160902_031_SKYP.created_20210408_112137.ppl_lv15_5wl_360_xfit_more_complete.input -> 4STAR ORACLES_2016_5wl_360_xfit_more_complete 20160902_031_SKYP.created__112137.ppl_lv15_5wl_360_xfit_more_complete 2021-04-08 16:00:26.838067 20210408 4STAR_20160902_031_SKYP.created_20210408_112137.ppl_lv15_5wl_360_xfit_more_complete\n",
      "4STAR_20160920_030_SKYA.created_20210408_113212.avg_lv20_5wl_360_xfit_more_complete.mat -> 4STAR ORACLES_2016_5wl_360_xfit_more_complete 20160920_030_SKYA.created__113212.avg_lv20_5wl_360_xfit_more_complete 2021-04-08 16:00:26.922069 20210408 4STAR_20160920_030_SKYA.created_20210408_113212.avg_lv20_5wl_360_xfit_more_complete\n",
      "4STAR_20160920_030_SKYA.created_20210408_113212.almA_lv10_5wl_360_xfit_more_complete.output -> 4STAR ORACLES_2016_5wl_360_xfit_more_complete 20160920_030_SKYA.created__113212.almA_lv10_5wl_360_xfit_more_complete 2021-04-08 16:00:26.918069 20210408 4STAR_20160920_030_SKYA.created_20210408_113212.almA_lv10_5wl_360_xfit_more_complete\n",
      "4STAR_20160920_182_SKYP.created_20210408_114007.ppl_lv20_5wl_360_xfit_more_complete.mat -> 4STAR ORACLES_2016_5wl_360_xfit_more_complete 20160920_182_SKYP.created__114007.ppl_lv20_5wl_360_xfit_more_complete 2021-04-08 16:00:26.986071 20210408 4STAR_20160920_182_SKYP.created_20210408_114007.ppl_lv20_5wl_360_xfit_more_complete\n",
      "4STAR_20160902_034_SKYA.created_20210408_112153.avg_lv20_5wl_360_xfit_more_complete.mat -> 4STAR ORACLES_2016_5wl_360_xfit_more_complete 20160902_034_SKYA.created__112153.avg_lv20_5wl_360_xfit_more_complete 2021-04-08 16:00:26.842067 20210408 4STAR_20160902_034_SKYA.created_20210408_112153.avg_lv20_5wl_360_xfit_more_complete\n",
      "4STAR_20160920_129_SKYA.created_20210408_113737.almA_lv10_5wl_360_xfit_more_complete.input -> 4STAR ORACLES_2016_5wl_360_xfit_more_complete 20160920_129_SKYA.created__113737.almA_lv10_5wl_360_xfit_more_complete 2021-04-08 16:00:26.966070 20210408 4STAR_20160920_129_SKYA.created_20210408_113737.almA_lv10_5wl_360_xfit_more_complete\n",
      "4STAR_20160912_072_SKYA.created_20210408_112933.almB_lv15_5wl_360_xfit_more_complete.mat -> 4STAR ORACLES_2016_5wl_360_xfit_more_complete 20160912_072_SKYA.created__112933.almB_lv15_5wl_360_xfit_more_complete 2021-04-08 16:00:26.894068 20210408 4STAR_20160912_072_SKYA.created_20210408_112933.almB_lv15_5wl_360_xfit_more_complete\n",
      "4STAR_20160920_062_SKYP.created_20210408_113427.ppl_lv20_5wl_360_xfit_more_complete.mat -> 4STAR ORACLES_2016_5wl_360_xfit_more_complete 20160920_062_SKYP.created__113427.ppl_lv20_5wl_360_xfit_more_complete 2021-04-08 16:00:26.942070 20210408 4STAR_20160920_062_SKYP.created_20210408_113427.ppl_lv20_5wl_360_xfit_more_complete\n",
      "4STAR_20160920_065_SKYA.created_20210408_113444.almA_lv10_5wl_360_xfit_more_complete.input -> 4STAR ORACLES_2016_5wl_360_xfit_more_complete 20160920_065_SKYA.created__113444.almA_lv10_5wl_360_xfit_more_complete 2021-04-08 16:00:26.942070 20210408 4STAR_20160920_065_SKYA.created_20210408_113444.almA_lv10_5wl_360_xfit_more_complete\n",
      "4STAR_20160912_044_SKYA.created_20210408_112842.avg_lv10_5wl_360_xfit_more_complete.input -> 4STAR ORACLES_2016_5wl_360_xfit_more_complete 20160912_044_SKYA.created__112842.avg_lv10_5wl_360_xfit_more_complete 2021-04-08 16:00:26.890069 20210408 4STAR_20160912_044_SKYA.created_20210408_112842.avg_lv10_5wl_360_xfit_more_complete\n",
      "4STAR_20160902_030_SKYA.created_20210408_112119.avg_lv20_5wl_360_xfit_more_complete.mat -> 4STAR ORACLES_2016_5wl_360_xfit_more_complete 20160902_030_SKYA.created__112119.avg_lv20_5wl_360_xfit_more_complete 2021-04-08 16:00:26.838067 20210408 4STAR_20160902_030_SKYA.created_20210408_112119.avg_lv20_5wl_360_xfit_more_complete\n",
      "4STAR_20160902_043_SKYP.created_20210408_112247.ppl_lv10_5wl_360_xfit_more_complete.output -> 4STAR ORACLES_2016_5wl_360_xfit_more_complete 20160902_043_SKYP.created__112247.ppl_lv10_5wl_360_xfit_more_complete 2021-04-08 16:00:26.850068 20210408 4STAR_20160902_043_SKYP.created_20210408_112247.ppl_lv10_5wl_360_xfit_more_complete\n",
      "4STAR_20160920_030_SKYA.created_20210408_113212.almA_lv10_5wl_360_xfit_more_complete.input -> 4STAR ORACLES_2016_5wl_360_xfit_more_complete 20160920_030_SKYA.created__113212.almA_lv10_5wl_360_xfit_more_complete 2021-04-08 16:00:26.918069 20210408 4STAR_20160920_030_SKYA.created_20210408_113212.almA_lv10_5wl_360_xfit_more_complete\n",
      "4STAR_20160902_056_SKYA.created_20210408_112408.avg_lv10_5wl_360_xfit_more_complete.output -> 4STAR ORACLES_2016_5wl_360_xfit_more_complete 20160902_056_SKYA.created__112408.avg_lv10_5wl_360_xfit_more_complete 2021-04-08 16:00:26.862068 20210408 4STAR_20160902_056_SKYA.created_20210408_112408.avg_lv10_5wl_360_xfit_more_complete\n",
      "4STAR_20160920_026_SKYA.created_20210408_113137.almB_lv10_5wl_360_xfit_more_complete.input -> 4STAR ORACLES_2016_5wl_360_xfit_more_complete 20160920_026_SKYA.created__113137.almB_lv10_5wl_360_xfit_more_complete 2021-04-08 16:00:26.910069 20210408 4STAR_20160920_026_SKYA.created_20210408_113137.almB_lv10_5wl_360_xfit_more_complete\n",
      "4STAR_20160920_200_SKYA.created_20210408_114042.almA_lv10_5wl_360_xfit_more_complete.mat -> 4STAR ORACLES_2016_5wl_360_xfit_more_complete 20160920_200_SKYA.created__114042.almA_lv10_5wl_360_xfit_more_complete 2021-04-08 16:00:26.990071 20210408 4STAR_20160920_200_SKYA.created_20210408_114042.almA_lv10_5wl_360_xfit_more_complete\n",
      "4STAR_20160920_065_SKYA.created_20210408_113444.avg_lv10_5wl_360_xfit_more_complete.input -> 4STAR ORACLES_2016_5wl_360_xfit_more_complete 20160920_065_SKYA.created__113444.avg_lv10_5wl_360_xfit_more_complete 2021-04-08 16:00:26.946070 20210408 4STAR_20160920_065_SKYA.created_20210408_113444.avg_lv10_5wl_360_xfit_more_complete\n",
      "4STAR_20160920_030_SKYA.created_20210408_113212.almB_lv10_5wl_360_xfit_more_complete.input -> 4STAR ORACLES_2016_5wl_360_xfit_more_complete 20160920_030_SKYA.created__113212.almB_lv10_5wl_360_xfit_more_complete 2021-04-08 16:00:26.918069 20210408 4STAR_20160920_030_SKYA.created_20210408_113212.almB_lv10_5wl_360_xfit_more_complete\n",
      "4STAR_20160920_092_SKYA.created_20210408_113638.almA_lv10_5wl_360_xfit_more_complete.input -> 4STAR ORACLES_2016_5wl_360_xfit_more_complete 20160920_092_SKYA.created__113638.almA_lv10_5wl_360_xfit_more_complete 2021-04-08 16:00:26.958070 20210408 4STAR_20160920_092_SKYA.created_20210408_113638.almA_lv10_5wl_360_xfit_more_complete\n",
      "4STAR_20160902_072_SKYA.created_20210408_112500.almA_lv10_5wl_360_xfit_more_complete.output -> 4STAR ORACLES_2016_5wl_360_xfit_more_complete 20160902_072_SKYA.created__112500.almA_lv10_5wl_360_xfit_more_complete 2021-04-08 16:00:26.870068 20210408 4STAR_20160902_072_SKYA.created_20210408_112500.almA_lv10_5wl_360_xfit_more_complete\n",
      "4STAR_20160902_022_SKYA.created_20210408_112013.almB_lv15_5wl_360_xfit_more_complete.input -> 4STAR ORACLES_2016_5wl_360_xfit_more_complete 20160902_022_SKYA.created__112013.almB_lv15_5wl_360_xfit_more_complete 2021-04-08 16:00:26.822067 20210408 4STAR_20160902_022_SKYA.created_20210408_112013.almB_lv15_5wl_360_xfit_more_complete\n",
      "4STAR_20160920_072_SKYA.created_20210408_113532.almA_lv20_5wl_360_xfit_more_complete.mat -> 4STAR ORACLES_2016_5wl_360_xfit_more_complete 20160920_072_SKYA.created__113532.almA_lv20_5wl_360_xfit_more_complete 2021-04-08 16:00:26.954070 20210408 4STAR_20160920_072_SKYA.created_20210408_113532.almA_lv20_5wl_360_xfit_more_complete\n",
      "4STAR_20160920_075_SKYP.created_20210408_113548.ppl_lv20_5wl_360_xfit_more_complete.mat -> 4STAR ORACLES_2016_5wl_360_xfit_more_complete 20160920_075_SKYP.created__113548.ppl_lv20_5wl_360_xfit_more_complete 2021-04-08 16:00:26.954070 20210408 4STAR_20160920_075_SKYP.created_20210408_113548.ppl_lv20_5wl_360_xfit_more_complete\n",
      "4STAR_20160920_170_SKYP.created_20210408_113933.ppl_lv15_5wl_360_xfit_more_complete.input -> 4STAR ORACLES_2016_5wl_360_xfit_more_complete 20160920_170_SKYP.created__113933.ppl_lv15_5wl_360_xfit_more_complete 2021-04-08 16:00:26.982071 20210408 4STAR_20160920_170_SKYP.created_20210408_113933.ppl_lv15_5wl_360_xfit_more_complete\n",
      "4STAR_20160912_073_SKYP.created_20210408_112951.ppl_lv15_5wl_360_xfit_more_complete.output -> 4STAR ORACLES_2016_5wl_360_xfit_more_complete 20160912_073_SKYP.created__112951.ppl_lv15_5wl_360_xfit_more_complete 2021-04-08 16:00:26.898069 20210408 4STAR_20160912_073_SKYP.created_20210408_112951.ppl_lv15_5wl_360_xfit_more_complete\n",
      "4STAR_20160902_060_SKYA.created_20210408_112425.almB_lv20_5wl_360_xfit_more_complete.mat -> 4STAR ORACLES_2016_5wl_360_xfit_more_complete 20160902_060_SKYA.created__112425.almB_lv20_5wl_360_xfit_more_complete 2021-04-08 16:00:26.866068 20210408 4STAR_20160902_060_SKYA.created_20210408_112425.almB_lv20_5wl_360_xfit_more_complete\n",
      "4STAR_20160920_010_SKYP.created_20210408_113045.ppl_lv15_5wl_360_xfit_more_complete.mat -> 4STAR ORACLES_2016_5wl_360_xfit_more_complete 20160920_010_SKYP.created__113045.ppl_lv15_5wl_360_xfit_more_complete 2021-04-08 16:00:26.902069 20210408 4STAR_20160920_010_SKYP.created_20210408_113045.ppl_lv15_5wl_360_xfit_more_complete\n",
      "4STAR_20160920_036_SKYA.created_20210408_113247.avg_lv10_5wl_360_xfit_more_complete.output -> 4STAR ORACLES_2016_5wl_360_xfit_more_complete 20160920_036_SKYA.created__113247.avg_lv10_5wl_360_xfit_more_complete 2021-04-08 16:00:26.926069 20210408 4STAR_20160920_036_SKYA.created_20210408_113247.avg_lv10_5wl_360_xfit_more_complete\n",
      "4STAR_20160902_026_SKYA.created_20210408_112047.almB_lv15_5wl_360_xfit_more_complete.input -> 4STAR ORACLES_2016_5wl_360_xfit_more_complete 20160902_026_SKYA.created__112047.almB_lv15_5wl_360_xfit_more_complete 2021-04-08 16:00:26.830067 20210408 4STAR_20160902_026_SKYA.created_20210408_112047.almB_lv15_5wl_360_xfit_more_complete\n",
      "4STAR_20160920_092_SKYA.created_20210408_113638.almA_lv20_5wl_360_xfit_more_complete.mat -> 4STAR ORACLES_2016_5wl_360_xfit_more_complete 20160920_092_SKYA.created__113638.almA_lv20_5wl_360_xfit_more_complete 2021-04-08 16:00:26.962070 20210408 4STAR_20160920_092_SKYA.created_20210408_113638.almA_lv20_5wl_360_xfit_more_complete\n",
      "4STAR_20160902_046_SKYA.created_20210408_112302.almB_lv10_5wl_360_xfit_more_complete.input -> 4STAR ORACLES_2016_5wl_360_xfit_more_complete 20160902_046_SKYA.created__112302.almB_lv10_5wl_360_xfit_more_complete 2021-04-08 16:00:26.850068 20210408 4STAR_20160902_046_SKYA.created_20210408_112302.almB_lv10_5wl_360_xfit_more_complete\n",
      "4STAR_20160902_046_SKYA.created_20210408_112302.avg_lv10_5wl_360_xfit_more_complete.output -> 4STAR ORACLES_2016_5wl_360_xfit_more_complete 20160902_046_SKYA.created__112302.avg_lv10_5wl_360_xfit_more_complete 2021-04-08 16:00:26.854068 20210408 4STAR_20160902_046_SKYA.created_20210408_112302.avg_lv10_5wl_360_xfit_more_complete\n",
      "4STAR_20160920_036_SKYA.created_20210408_113247.avg_lv20_5wl_360_xfit_more_complete.mat -> 4STAR ORACLES_2016_5wl_360_xfit_more_complete 20160920_036_SKYA.created__113247.avg_lv20_5wl_360_xfit_more_complete 2021-04-08 16:00:26.926069 20210408 4STAR_20160920_036_SKYA.created_20210408_113247.avg_lv20_5wl_360_xfit_more_complete\n",
      "4STAR_20160920_042_SKYA.created_20210408_113320.avg_lv20_5wl_360_xfit_more_complete.mat -> 4STAR ORACLES_2016_5wl_360_xfit_more_complete 20160920_042_SKYA.created__113320.avg_lv20_5wl_360_xfit_more_complete 2021-04-08 16:00:26.930069 20210408 4STAR_20160920_042_SKYA.created_20210408_113320.avg_lv20_5wl_360_xfit_more_complete\n",
      "4STAR_20160902_056_SKYA.created_20210408_112408.almA_lv20_5wl_360_xfit_more_complete.mat -> 4STAR ORACLES_2016_5wl_360_xfit_more_complete 20160902_056_SKYA.created__112408.almA_lv20_5wl_360_xfit_more_complete 2021-04-08 16:00:26.862068 20210408 4STAR_20160902_056_SKYA.created_20210408_112408.almA_lv20_5wl_360_xfit_more_complete\n",
      "4STAR_20160920_155_SKYA.created_20210408_113900.almA_lv10_5wl_360_xfit_more_complete.input -> 4STAR ORACLES_2016_5wl_360_xfit_more_complete 20160920_155_SKYA.created__113900.almA_lv10_5wl_360_xfit_more_complete 2021-04-08 16:00:26.978070 20210408 4STAR_20160920_155_SKYA.created_20210408_113900.almA_lv10_5wl_360_xfit_more_complete\n",
      "4STAR_20160920_069_SKYA.created_20210408_113516.almB_lv10_5wl_360_xfit_more_complete.output -> 4STAR ORACLES_2016_5wl_360_xfit_more_complete 20160920_069_SKYA.created__113516.almB_lv10_5wl_360_xfit_more_complete 2021-04-08 16:00:26.950070 20210408 4STAR_20160920_069_SKYA.created_20210408_113516.almB_lv10_5wl_360_xfit_more_complete\n",
      "4STAR_20160920_019_SKYA.created_20210408_113119.almA_lv15_5wl_360_xfit_more_complete.output -> 4STAR ORACLES_2016_5wl_360_xfit_more_complete 20160920_019_SKYA.created__113119.almA_lv15_5wl_360_xfit_more_complete 2021-04-08 16:00:26.906069 20210408 4STAR_20160920_019_SKYA.created_20210408_113119.almA_lv15_5wl_360_xfit_more_complete\n"
     ]
    },
    {
     "name": "stdout",
     "output_type": "stream",
     "text": [
      "4STAR_20160902_047_SKYP.created_20210408_112319.ppl_lv15_5wl_360_xfit_more_complete.mat -> 4STAR ORACLES_2016_5wl_360_xfit_more_complete 20160902_047_SKYP.created__112319.ppl_lv15_5wl_360_xfit_more_complete 2021-04-08 16:00:26.854068 20210408 4STAR_20160902_047_SKYP.created_20210408_112319.ppl_lv15_5wl_360_xfit_more_complete\n",
      "4STAR_20160912_073_SKYP.created_20210408_112951.ppl_lv15_5wl_360_xfit_more_complete.mat -> 4STAR ORACLES_2016_5wl_360_xfit_more_complete 20160912_073_SKYP.created__112951.ppl_lv15_5wl_360_xfit_more_complete 2021-04-08 16:00:26.894068 20210408 4STAR_20160912_073_SKYP.created_20210408_112951.ppl_lv15_5wl_360_xfit_more_complete\n",
      "4STAR_20160912_028_SKYA.created_20210408_112756.almB_lv10_5wl_360_xfit_more_complete.input -> 4STAR ORACLES_2016_5wl_360_xfit_more_complete 20160912_028_SKYA.created__112756.almB_lv10_5wl_360_xfit_more_complete 2021-04-08 16:00:26.882068 20210408 4STAR_20160912_028_SKYA.created_20210408_112756.almB_lv10_5wl_360_xfit_more_complete\n",
      "4STAR_20160920_027_SKYP.created_20210408_113155.ppl_lv20_5wl_360_xfit_more_complete.mat -> 4STAR ORACLES_2016_5wl_360_xfit_more_complete 20160920_027_SKYP.created__113155.ppl_lv20_5wl_360_xfit_more_complete 2021-04-08 16:00:26.914069 20210408 4STAR_20160920_027_SKYP.created_20210408_113155.ppl_lv20_5wl_360_xfit_more_complete\n",
      "4STAR_20160920_152_SKYP.created_20210408_113844.ppl_lv15_5wl_360_xfit_more_complete.output -> 4STAR ORACLES_2016_5wl_360_xfit_more_complete 20160920_152_SKYP.created__113844.ppl_lv15_5wl_360_xfit_more_complete 2021-04-08 16:00:26.978070 20210408 4STAR_20160920_152_SKYP.created_20210408_113844.ppl_lv15_5wl_360_xfit_more_complete\n",
      "4STAR_20160902_053_SKYP.created_20210408_112351.ppl_lv15_5wl_360_xfit_more_complete.mat -> 4STAR ORACLES_2016_5wl_360_xfit_more_complete 20160902_053_SKYP.created__112351.ppl_lv15_5wl_360_xfit_more_complete 2021-04-08 16:00:26.858068 20210408 4STAR_20160902_053_SKYP.created_20210408_112351.ppl_lv15_5wl_360_xfit_more_complete\n",
      "4STAR_20160920_065_SKYA.created_20210408_113444.almB_lv10_5wl_360_xfit_more_complete.input -> 4STAR ORACLES_2016_5wl_360_xfit_more_complete 20160920_065_SKYA.created__113444.almB_lv10_5wl_360_xfit_more_complete 2021-04-08 16:00:26.946070 20210408 4STAR_20160920_065_SKYA.created_20210408_113444.almB_lv10_5wl_360_xfit_more_complete\n",
      "4STAR_20160902_030_SKYA.created_20210408_112119.almB_lv20_5wl_360_xfit_more_complete.mat -> 4STAR ORACLES_2016_5wl_360_xfit_more_complete 20160902_030_SKYA.created__112119.almB_lv20_5wl_360_xfit_more_complete 2021-04-08 16:00:26.834067 20210408 4STAR_20160902_030_SKYA.created_20210408_112119.almB_lv20_5wl_360_xfit_more_complete\n",
      "4STAR_20160920_107_SKYP.created_20210408_113710.ppl_lv15_5wl_360_xfit_more_complete.mat -> 4STAR ORACLES_2016_5wl_360_xfit_more_complete 20160920_107_SKYP.created__113710.ppl_lv15_5wl_360_xfit_more_complete 2021-04-08 16:00:26.966070 20210408 4STAR_20160920_107_SKYP.created_20210408_113710.ppl_lv15_5wl_360_xfit_more_complete\n",
      "4STAR_20160920_170_SKYP.created_20210408_113933.ppl_lv20_5wl_360_xfit_more_complete.mat -> 4STAR ORACLES_2016_5wl_360_xfit_more_complete 20160920_170_SKYP.created__113933.ppl_lv20_5wl_360_xfit_more_complete 2021-04-08 16:00:26.982071 20210408 4STAR_20160920_170_SKYP.created_20210408_113933.ppl_lv20_5wl_360_xfit_more_complete\n",
      "4STAR_20160902_060_SKYA.created_20210408_112425.almA_lv10_5wl_360_xfit_more_complete.input -> 4STAR ORACLES_2016_5wl_360_xfit_more_complete 20160902_060_SKYA.created__112425.almA_lv10_5wl_360_xfit_more_complete 2021-04-08 16:00:26.862068 20210408 4STAR_20160902_060_SKYA.created_20210408_112425.almA_lv10_5wl_360_xfit_more_complete\n",
      "4STAR_20160920_130_SKYP.created_20210408_113753.ppl_lv15_5wl_360_xfit_more_complete.input -> 4STAR ORACLES_2016_5wl_360_xfit_more_complete 20160920_130_SKYP.created__113753.ppl_lv15_5wl_360_xfit_more_complete 2021-04-08 16:00:26.970070 20210408 4STAR_20160920_130_SKYP.created_20210408_113753.ppl_lv15_5wl_360_xfit_more_complete\n",
      "4STAR_20160912_073_SKYP.created_20210408_112951.ppl_lv15_5wl_360_xfit_more_complete.input -> 4STAR ORACLES_2016_5wl_360_xfit_more_complete 20160912_073_SKYP.created__112951.ppl_lv15_5wl_360_xfit_more_complete 2021-04-08 16:00:26.894068 20210408 4STAR_20160912_073_SKYP.created_20210408_112951.ppl_lv15_5wl_360_xfit_more_complete\n",
      "4STAR_20160920_089_SKYP.created_20210408_113621.ppl_lv15_5wl_360_xfit_more_complete.output -> 4STAR ORACLES_2016_5wl_360_xfit_more_complete 20160920_089_SKYP.created__113621.ppl_lv15_5wl_360_xfit_more_complete 2021-04-08 16:00:26.958070 20210408 4STAR_20160920_089_SKYP.created_20210408_113621.ppl_lv15_5wl_360_xfit_more_complete\n",
      "4STAR_20160902_022_SKYA.created_20210408_112013.avg_lv15_5wl_360_xfit_more_complete.output -> 4STAR ORACLES_2016_5wl_360_xfit_more_complete 20160902_022_SKYA.created__112013.avg_lv15_5wl_360_xfit_more_complete 2021-04-08 16:00:26.826067 20210408 4STAR_20160902_022_SKYA.created_20210408_112013.avg_lv15_5wl_360_xfit_more_complete\n",
      "4STAR_20160920_065_SKYA.created_20210408_113444.almA_lv20_5wl_360_xfit_more_complete.mat -> 4STAR ORACLES_2016_5wl_360_xfit_more_complete 20160920_065_SKYA.created__113444.almA_lv20_5wl_360_xfit_more_complete 2021-04-08 16:00:26.946070 20210408 4STAR_20160920_065_SKYA.created_20210408_113444.almA_lv20_5wl_360_xfit_more_complete\n",
      "4STAR_20160920_059_SKYA.created_20210408_113411.avg_lv10_5wl_360_xfit_more_complete.input -> 4STAR ORACLES_2016_5wl_360_xfit_more_complete 20160920_059_SKYA.created__113411.avg_lv10_5wl_360_xfit_more_complete 2021-04-08 16:00:26.942070 20210408 4STAR_20160920_059_SKYA.created_20210408_113411.avg_lv10_5wl_360_xfit_more_complete\n",
      "4STAR_20160920_042_SKYA.created_20210408_113320.almB_lv20_5wl_360_xfit_more_complete.mat -> 4STAR ORACLES_2016_5wl_360_xfit_more_complete 20160920_042_SKYA.created__113320.almB_lv20_5wl_360_xfit_more_complete 2021-04-08 16:00:26.930069 20210408 4STAR_20160920_042_SKYA.created_20210408_113320.almB_lv20_5wl_360_xfit_more_complete\n",
      "4STAR_20160902_082_SKYP.created_20210408_112535.ppl_lv20_5wl_360_xfit_more_complete.mat -> 4STAR ORACLES_2016_5wl_360_xfit_more_complete 20160902_082_SKYP.created__112535.ppl_lv20_5wl_360_xfit_more_complete 2021-04-08 16:00:26.878068 20210408 4STAR_20160902_082_SKYP.created_20210408_112535.ppl_lv20_5wl_360_xfit_more_complete\n",
      "4STAR_20160902_027_SKYP.created_20210408_112105.ppl_lv15_5wl_360_xfit_more_complete.output -> 4STAR ORACLES_2016_5wl_360_xfit_more_complete 20160902_027_SKYP.created__112105.ppl_lv15_5wl_360_xfit_more_complete 2021-04-08 16:00:26.834067 20210408 4STAR_20160902_027_SKYP.created_20210408_112105.ppl_lv15_5wl_360_xfit_more_complete\n",
      "4STAR_20160902_060_SKYA.created_20210408_112425.avg_lv10_5wl_360_xfit_more_complete.output -> 4STAR ORACLES_2016_5wl_360_xfit_more_complete 20160902_060_SKYA.created__112425.avg_lv10_5wl_360_xfit_more_complete 2021-04-08 16:00:26.866068 20210408 4STAR_20160902_060_SKYA.created_20210408_112425.avg_lv10_5wl_360_xfit_more_complete\n",
      "4STAR_20160912_072_SKYA.created_20210408_112933.almA_lv15_5wl_360_xfit_more_complete.mat -> 4STAR ORACLES_2016_5wl_360_xfit_more_complete 20160912_072_SKYA.created__112933.almA_lv15_5wl_360_xfit_more_complete 2021-04-08 16:00:26.890069 20210408 4STAR_20160912_072_SKYA.created_20210408_112933.almA_lv15_5wl_360_xfit_more_complete\n",
      "4STAR_20160912_028_SKYA.created_20210408_112756.almB_lv10_5wl_360_xfit_more_complete.output -> 4STAR ORACLES_2016_5wl_360_xfit_more_complete 20160912_028_SKYA.created__112756.almB_lv10_5wl_360_xfit_more_complete 2021-04-08 16:00:26.882068 20210408 4STAR_20160912_028_SKYA.created_20210408_112756.almB_lv10_5wl_360_xfit_more_complete\n",
      "4STAR_20160902_022_SKYA.created_20210408_112013.avg_lv15_5wl_360_xfit_more_complete.mat -> 4STAR ORACLES_2016_5wl_360_xfit_more_complete 20160902_022_SKYA.created__112013.avg_lv15_5wl_360_xfit_more_complete 2021-04-08 16:00:26.822067 20210408 4STAR_20160902_022_SKYA.created_20210408_112013.avg_lv15_5wl_360_xfit_more_complete\n",
      "4STAR_20160902_010_SKYP.created_20210408_111904.ppl_lv15_5wl_360_xfit_more_complete.output -> 4STAR ORACLES_2016_5wl_360_xfit_more_complete 20160902_010_SKYP.created__111904.ppl_lv15_5wl_360_xfit_more_complete 2021-04-08 16:00:26.814067 20210408 4STAR_20160902_010_SKYP.created_20210408_111904.ppl_lv15_5wl_360_xfit_more_complete\n",
      "4STAR_20160902_034_SKYA.created_20210408_112153.almB_lv10_5wl_360_xfit_more_complete.output -> 4STAR ORACLES_2016_5wl_360_xfit_more_complete 20160902_034_SKYA.created__112153.almB_lv10_5wl_360_xfit_more_complete 2021-04-08 16:00:26.842067 20210408 4STAR_20160902_034_SKYA.created_20210408_112153.almB_lv10_5wl_360_xfit_more_complete\n",
      "4STAR_20160912_045_SKYP.created_20210408_112859.ppl_lv15_5wl_360_xfit_more_complete.output -> 4STAR ORACLES_2016_5wl_360_xfit_more_complete 20160912_045_SKYP.created__112859.ppl_lv15_5wl_360_xfit_more_complete 2021-04-08 16:00:26.890069 20210408 4STAR_20160912_045_SKYP.created_20210408_112859.ppl_lv15_5wl_360_xfit_more_complete\n",
      "4STAR_20160920_019_SKYA.created_20210408_113119.avg_lv15_5wl_360_xfit_more_complete.mat -> 4STAR ORACLES_2016_5wl_360_xfit_more_complete 20160920_019_SKYA.created__113119.avg_lv15_5wl_360_xfit_more_complete 2021-04-08 16:00:26.910069 20210408 4STAR_20160920_019_SKYA.created_20210408_113119.avg_lv15_5wl_360_xfit_more_complete\n",
      "4STAR_20160920_053_SKYA.created_20210408_113338.almB_lv10_5wl_360_xfit_more_complete.input -> 4STAR ORACLES_2016_5wl_360_xfit_more_complete 20160920_053_SKYA.created__113338.almB_lv10_5wl_360_xfit_more_complete 2021-04-08 16:00:26.934069 20210408 4STAR_20160920_053_SKYA.created_20210408_113338.almB_lv10_5wl_360_xfit_more_complete\n",
      "4STAR_20160920_027_SKYP.created_20210408_113155.ppl_lv15_5wl_360_xfit_more_complete.output -> 4STAR ORACLES_2016_5wl_360_xfit_more_complete 20160920_027_SKYP.created__113155.ppl_lv15_5wl_360_xfit_more_complete 2021-04-08 16:00:26.914069 20210408 4STAR_20160920_027_SKYP.created_20210408_113155.ppl_lv15_5wl_360_xfit_more_complete\n",
      "4STAR_20160920_059_SKYA.created_20210408_113411.almB_lv20_5wl_360_xfit_more_complete.mat -> 4STAR ORACLES_2016_5wl_360_xfit_more_complete 20160920_059_SKYA.created__113411.almB_lv20_5wl_360_xfit_more_complete 2021-04-08 16:00:26.942070 20210408 4STAR_20160920_059_SKYA.created_20210408_113411.almB_lv20_5wl_360_xfit_more_complete\n",
      "4STAR_20160920_072_SKYA.created_20210408_113532.almA_lv10_5wl_360_xfit_more_complete.input -> 4STAR ORACLES_2016_5wl_360_xfit_more_complete 20160920_072_SKYA.created__113532.almA_lv10_5wl_360_xfit_more_complete 2021-04-08 16:00:26.950070 20210408 4STAR_20160920_072_SKYA.created_20210408_113532.almA_lv10_5wl_360_xfit_more_complete\n",
      "4STAR_20160920_062_SKYP.created_20210408_113427.ppl_lv15_5wl_360_xfit_more_complete.input -> 4STAR ORACLES_2016_5wl_360_xfit_more_complete 20160920_062_SKYP.created__113427.ppl_lv15_5wl_360_xfit_more_complete 2021-04-08 16:00:26.942070 20210408 4STAR_20160920_062_SKYP.created_20210408_113427.ppl_lv15_5wl_360_xfit_more_complete\n",
      "4STAR_20160902_023_SKYP.created_20210408_112031.ppl_lv15_5wl_360_xfit_more_complete.output -> 4STAR ORACLES_2016_5wl_360_xfit_more_complete 20160902_023_SKYP.created__112031.ppl_lv15_5wl_360_xfit_more_complete 2021-04-08 16:00:26.826067 20210408 4STAR_20160902_023_SKYP.created_20210408_112031.ppl_lv15_5wl_360_xfit_more_complete\n",
      "4STAR_20160902_034_SKYA.created_20210408_112153.almA_lv10_5wl_360_xfit_more_complete.input -> 4STAR ORACLES_2016_5wl_360_xfit_more_complete 20160902_034_SKYA.created__112153.almA_lv10_5wl_360_xfit_more_complete 2021-04-08 16:00:26.838067 20210408 4STAR_20160902_034_SKYA.created_20210408_112153.almA_lv10_5wl_360_xfit_more_complete\n",
      "4STAR_20160912_044_SKYA.created_20210408_112842.avg_lv10_5wl_360_xfit_more_complete.output -> 4STAR ORACLES_2016_5wl_360_xfit_more_complete 20160912_044_SKYA.created__112842.avg_lv10_5wl_360_xfit_more_complete 2021-04-08 16:00:26.890069 20210408 4STAR_20160912_044_SKYA.created_20210408_112842.avg_lv10_5wl_360_xfit_more_complete\n",
      "4STAR_20160920_027_SKYP.created_20210408_113155.ppl_lv15_5wl_360_xfit_more_complete.input -> 4STAR ORACLES_2016_5wl_360_xfit_more_complete 20160920_027_SKYP.created__113155.ppl_lv15_5wl_360_xfit_more_complete 2021-04-08 16:00:26.914069 20210408 4STAR_20160920_027_SKYP.created_20210408_113155.ppl_lv15_5wl_360_xfit_more_complete\n",
      "4STAR_20160912_045_SKYP.created_20210408_112859.ppl_lv15_5wl_360_xfit_more_complete.mat -> 4STAR ORACLES_2016_5wl_360_xfit_more_complete 20160912_045_SKYP.created__112859.ppl_lv15_5wl_360_xfit_more_complete 2021-04-08 16:00:26.890069 20210408 4STAR_20160912_045_SKYP.created_20210408_112859.ppl_lv15_5wl_360_xfit_more_complete\n",
      "4STAR_20160920_200_SKYA.created_20210408_114042.almB_lv15_5wl_360_xfit_more_complete.input -> 4STAR ORACLES_2016_5wl_360_xfit_more_complete 20160920_200_SKYA.created__114042.almB_lv15_5wl_360_xfit_more_complete 2021-04-08 16:00:26.990071 20210408 4STAR_20160920_200_SKYA.created_20210408_114042.almB_lv15_5wl_360_xfit_more_complete\n",
      "4STAR_20160902_061_SKYP.created_20210408_112443.ppl_lv20_5wl_360_xfit_more_complete.mat -> 4STAR ORACLES_2016_5wl_360_xfit_more_complete 20160902_061_SKYP.created__112443.ppl_lv20_5wl_360_xfit_more_complete 2021-04-08 16:00:26.870068 20210408 4STAR_20160902_061_SKYP.created_20210408_112443.ppl_lv20_5wl_360_xfit_more_complete\n",
      "4STAR_20160902_093_SKYP.created_20210408_112552.ppl_lv15_5wl_360_xfit_more_complete.mat -> 4STAR ORACLES_2016_5wl_360_xfit_more_complete 20160902_093_SKYP.created__112552.ppl_lv15_5wl_360_xfit_more_complete 2021-04-08 16:00:26.878068 20210408 4STAR_20160902_093_SKYP.created_20210408_112552.ppl_lv15_5wl_360_xfit_more_complete\n",
      "4STAR_20160920_036_SKYA.created_20210408_113247.almA_lv20_5wl_360_xfit_more_complete.mat -> 4STAR ORACLES_2016_5wl_360_xfit_more_complete 20160920_036_SKYA.created__113247.almA_lv20_5wl_360_xfit_more_complete 2021-04-08 16:00:26.922069 20210408 4STAR_20160920_036_SKYA.created_20210408_113247.almA_lv20_5wl_360_xfit_more_complete\n",
      "4STAR_20160920_053_SKYA.created_20210408_113338.avg_lv10_5wl_360_xfit_more_complete.input -> 4STAR ORACLES_2016_5wl_360_xfit_more_complete 20160920_053_SKYA.created__113338.avg_lv10_5wl_360_xfit_more_complete 2021-04-08 16:00:26.934069 20210408 4STAR_20160920_053_SKYA.created_20210408_113338.avg_lv10_5wl_360_xfit_more_complete\n",
      "4STAR_20160912_077_SKYP.created_20210408_113026.ppl_lv15_5wl_360_xfit_more_complete.output -> 4STAR ORACLES_2016_5wl_360_xfit_more_complete 20160912_077_SKYP.created__113026.ppl_lv15_5wl_360_xfit_more_complete 2021-04-08 16:00:26.902069 20210408 4STAR_20160912_077_SKYP.created_20210408_113026.ppl_lv15_5wl_360_xfit_more_complete\n",
      "4STAR_20160920_036_SKYA.created_20210408_113247.almB_lv20_5wl_360_xfit_more_complete.mat -> 4STAR ORACLES_2016_5wl_360_xfit_more_complete 20160920_036_SKYA.created__113247.almB_lv20_5wl_360_xfit_more_complete 2021-04-08 16:00:26.926069 20210408 4STAR_20160920_036_SKYA.created_20210408_113247.almB_lv20_5wl_360_xfit_more_complete\n",
      "4STAR_20160902_034_SKYA.created_20210408_112153.almB_lv20_5wl_360_xfit_more_complete.mat -> 4STAR ORACLES_2016_5wl_360_xfit_more_complete 20160902_034_SKYA.created__112153.almB_lv20_5wl_360_xfit_more_complete 2021-04-08 16:00:26.842067 20210408 4STAR_20160902_034_SKYA.created_20210408_112153.almB_lv20_5wl_360_xfit_more_complete\n",
      "4STAR_20160920_089_SKYP.created_20210408_113621.ppl_lv15_5wl_360_xfit_more_complete.mat -> 4STAR ORACLES_2016_5wl_360_xfit_more_complete 20160920_089_SKYP.created__113621.ppl_lv15_5wl_360_xfit_more_complete 2021-04-08 16:00:26.958070 20210408 4STAR_20160920_089_SKYP.created_20210408_113621.ppl_lv15_5wl_360_xfit_more_complete\n",
      "4STAR_20160902_019_SKYP.created_20210408_111956.ppl_lv15_5wl_360_xfit_more_complete.mat -> 4STAR ORACLES_2016_5wl_360_xfit_more_complete 20160902_019_SKYP.created__111956.ppl_lv15_5wl_360_xfit_more_complete 2021-04-08 16:00:26.818067 20210408 4STAR_20160902_019_SKYP.created_20210408_111956.ppl_lv15_5wl_360_xfit_more_complete\n",
      "4STAR_20160902_052_SKYA.created_20210408_112334.almA_lv10_5wl_360_xfit_more_complete.input -> 4STAR ORACLES_2016_5wl_360_xfit_more_complete 20160902_052_SKYA.created__112334.almA_lv10_5wl_360_xfit_more_complete 2021-04-08 16:00:26.858068 20210408 4STAR_20160902_052_SKYA.created_20210408_112334.almA_lv10_5wl_360_xfit_more_complete\n"
     ]
    },
    {
     "name": "stdout",
     "output_type": "stream",
     "text": [
      "4STAR_20160912_076_SKYA.created_20210408_113007.avg_lv15_5wl_360_xfit_more_complete.mat -> 4STAR ORACLES_2016_5wl_360_xfit_more_complete 20160912_076_SKYA.created__113007.avg_lv15_5wl_360_xfit_more_complete 2021-04-08 16:00:26.902069 20210408 4STAR_20160912_076_SKYA.created_20210408_113007.avg_lv15_5wl_360_xfit_more_complete\n",
      "4STAR_20160920_066_SKYP.created_20210408_113459.ppl_lv20_5wl_360_xfit_more_complete.mat -> 4STAR ORACLES_2016_5wl_360_xfit_more_complete 20160920_066_SKYP.created__113459.ppl_lv20_5wl_360_xfit_more_complete 2021-04-08 16:00:26.950070 20210408 4STAR_20160920_066_SKYP.created_20210408_113459.ppl_lv20_5wl_360_xfit_more_complete\n",
      "4STAR_20160902_073_SKYP.created_20210408_112518.ppl_lv15_5wl_360_xfit_more_complete.input -> 4STAR ORACLES_2016_5wl_360_xfit_more_complete 20160902_073_SKYP.created__112518.ppl_lv15_5wl_360_xfit_more_complete 2021-04-08 16:00:26.874068 20210408 4STAR_20160902_073_SKYP.created_20210408_112518.ppl_lv15_5wl_360_xfit_more_complete\n",
      "4STAR_20160920_069_SKYA.created_20210408_113516.almB_lv10_5wl_360_xfit_more_complete.mat -> 4STAR ORACLES_2016_5wl_360_xfit_more_complete 20160920_069_SKYA.created__113516.almB_lv10_5wl_360_xfit_more_complete 2021-04-08 16:00:26.950070 20210408 4STAR_20160920_069_SKYA.created_20210408_113516.almB_lv10_5wl_360_xfit_more_complete\n",
      "4STAR_20160920_169_SKYA.created_20210408_113917.almA_lv20_5wl_360_xfit_more_complete.mat -> 4STAR ORACLES_2016_5wl_360_xfit_more_complete 20160920_169_SKYA.created__113917.almA_lv20_5wl_360_xfit_more_complete 2021-04-08 16:00:26.982071 20210408 4STAR_20160920_169_SKYA.created_20210408_113917.almA_lv20_5wl_360_xfit_more_complete\n",
      "4STAR_20160902_052_SKYA.created_20210408_112334.almA_lv10_5wl_360_xfit_more_complete.output -> 4STAR ORACLES_2016_5wl_360_xfit_more_complete 20160902_052_SKYA.created__112334.almA_lv10_5wl_360_xfit_more_complete 2021-04-08 16:00:26.858068 20210408 4STAR_20160902_052_SKYA.created_20210408_112334.almA_lv10_5wl_360_xfit_more_complete\n",
      "4STAR_20160902_030_SKYA.created_20210408_112119.avg_lv10_5wl_360_xfit_more_complete.input -> 4STAR ORACLES_2016_5wl_360_xfit_more_complete 20160902_030_SKYA.created__112119.avg_lv10_5wl_360_xfit_more_complete 2021-04-08 16:00:26.834067 20210408 4STAR_20160902_030_SKYA.created_20210408_112119.avg_lv10_5wl_360_xfit_more_complete\n",
      "4STAR_20160920_149_SKYP.created_20210408_113827.ppl_lv15_5wl_360_xfit_more_complete.output -> 4STAR ORACLES_2016_5wl_360_xfit_more_complete 20160920_149_SKYP.created__113827.ppl_lv15_5wl_360_xfit_more_complete 2021-04-08 16:00:26.978070 20210408 4STAR_20160920_149_SKYP.created_20210408_113827.ppl_lv15_5wl_360_xfit_more_complete\n",
      "4STAR_20160902_046_SKYA.created_20210408_112302.avg_lv10_5wl_360_xfit_more_complete.input -> 4STAR ORACLES_2016_5wl_360_xfit_more_complete 20160902_046_SKYA.created__112302.avg_lv10_5wl_360_xfit_more_complete 2021-04-08 16:00:26.854068 20210408 4STAR_20160902_046_SKYA.created_20210408_112302.avg_lv10_5wl_360_xfit_more_complete\n",
      "4STAR_20160920_019_SKYA.created_20210408_113119.almB_lv15_5wl_360_xfit_more_complete.output -> 4STAR ORACLES_2016_5wl_360_xfit_more_complete 20160920_019_SKYA.created__113119.almB_lv15_5wl_360_xfit_more_complete 2021-04-08 16:00:26.910069 20210408 4STAR_20160920_019_SKYA.created_20210408_113119.almB_lv15_5wl_360_xfit_more_complete\n",
      "4STAR_20160902_060_SKYA.created_20210408_112425.almA_lv20_5wl_360_xfit_more_complete.mat -> 4STAR ORACLES_2016_5wl_360_xfit_more_complete 20160902_060_SKYA.created__112425.almA_lv20_5wl_360_xfit_more_complete 2021-04-08 16:00:26.866068 20210408 4STAR_20160902_060_SKYA.created_20210408_112425.almA_lv20_5wl_360_xfit_more_complete\n",
      "4STAR_20160920_066_SKYP.created_20210408_113459.ppl_lv15_5wl_360_xfit_more_complete.input -> 4STAR ORACLES_2016_5wl_360_xfit_more_complete 20160920_066_SKYP.created__113459.ppl_lv15_5wl_360_xfit_more_complete 2021-04-08 16:00:26.946070 20210408 4STAR_20160920_066_SKYP.created_20210408_113459.ppl_lv15_5wl_360_xfit_more_complete\n",
      "4STAR_20160920_075_SKYP.created_20210408_113548.ppl_lv15_5wl_360_xfit_more_complete.output -> 4STAR ORACLES_2016_5wl_360_xfit_more_complete 20160920_075_SKYP.created__113548.ppl_lv15_5wl_360_xfit_more_complete 2021-04-08 16:00:26.954070 20210408 4STAR_20160920_075_SKYP.created_20210408_113548.ppl_lv15_5wl_360_xfit_more_complete\n",
      "4STAR_20160902_018_SKYA.created_20210408_111937.almB_lv15_5wl_360_xfit_more_complete.input -> 4STAR ORACLES_2016_5wl_360_xfit_more_complete 20160902_018_SKYA.created__111937.almB_lv15_5wl_360_xfit_more_complete 2021-04-08 16:00:26.818067 20210408 4STAR_20160902_018_SKYA.created_20210408_111937.almB_lv15_5wl_360_xfit_more_complete\n",
      "4STAR_20160902_022_SKYA.created_20210408_112013.almA_lv15_5wl_360_xfit_more_complete.output -> 4STAR ORACLES_2016_5wl_360_xfit_more_complete 20160902_022_SKYA.created__112013.almA_lv15_5wl_360_xfit_more_complete 2021-04-08 16:00:26.822067 20210408 4STAR_20160902_022_SKYA.created_20210408_112013.almA_lv15_5wl_360_xfit_more_complete\n",
      "4STAR_20160902_022_SKYA.created_20210408_112013.almA_lv15_5wl_360_xfit_more_complete.input -> 4STAR ORACLES_2016_5wl_360_xfit_more_complete 20160902_022_SKYA.created__112013.almA_lv15_5wl_360_xfit_more_complete 2021-04-08 16:00:26.822067 20210408 4STAR_20160902_022_SKYA.created_20210408_112013.almA_lv15_5wl_360_xfit_more_complete\n",
      "4STAR_20160912_072_SKYA.created_20210408_112933.avg_lv15_5wl_360_xfit_more_complete.output -> 4STAR ORACLES_2016_5wl_360_xfit_more_complete 20160912_072_SKYA.created__112933.avg_lv15_5wl_360_xfit_more_complete 2021-04-08 16:00:26.894068 20210408 4STAR_20160912_072_SKYA.created_20210408_112933.avg_lv15_5wl_360_xfit_more_complete\n",
      "4STAR_20160902_027_SKYP.created_20210408_112105.ppl_lv15_5wl_360_xfit_more_complete.mat -> 4STAR ORACLES_2016_5wl_360_xfit_more_complete 20160902_027_SKYP.created__112105.ppl_lv15_5wl_360_xfit_more_complete 2021-04-08 16:00:26.830067 20210408 4STAR_20160902_027_SKYP.created_20210408_112105.ppl_lv15_5wl_360_xfit_more_complete\n",
      "4STAR_20160920_026_SKYA.created_20210408_113137.almA_lv20_5wl_360_xfit_more_complete.mat -> 4STAR ORACLES_2016_5wl_360_xfit_more_complete 20160920_026_SKYA.created__113137.almA_lv20_5wl_360_xfit_more_complete 2021-04-08 16:00:26.910069 20210408 4STAR_20160920_026_SKYA.created_20210408_113137.almA_lv20_5wl_360_xfit_more_complete\n",
      "4STAR_20160902_034_SKYA.created_20210408_112153.almB_lv10_5wl_360_xfit_more_complete.input -> 4STAR ORACLES_2016_5wl_360_xfit_more_complete 20160902_034_SKYA.created__112153.almB_lv10_5wl_360_xfit_more_complete 2021-04-08 16:00:26.838067 20210408 4STAR_20160902_034_SKYA.created_20210408_112153.almB_lv10_5wl_360_xfit_more_complete\n",
      "4STAR_20160920_086_SKYP.created_20210408_113604.ppl_lv15_5wl_360_xfit_more_complete.output -> 4STAR ORACLES_2016_5wl_360_xfit_more_complete 20160920_086_SKYP.created__113604.ppl_lv15_5wl_360_xfit_more_complete 2021-04-08 16:00:26.958070 20210408 4STAR_20160920_086_SKYP.created_20210408_113604.ppl_lv15_5wl_360_xfit_more_complete\n",
      "4STAR_20160902_018_SKYA.created_20210408_111937.almA_lv15_5wl_360_xfit_more_complete.input -> 4STAR ORACLES_2016_5wl_360_xfit_more_complete 20160902_018_SKYA.created__111937.almA_lv15_5wl_360_xfit_more_complete 2021-04-08 16:00:26.814067 20210408 4STAR_20160902_018_SKYA.created_20210408_111937.almA_lv15_5wl_360_xfit_more_complete\n",
      "4STAR_20160920_203_SKYP.created_20210408_114100.ppl_lv15_5wl_360_xfit_more_complete.input -> 4STAR ORACLES_2016_5wl_360_xfit_more_complete 20160920_203_SKYP.created__114100.ppl_lv15_5wl_360_xfit_more_complete 2021-04-08 16:00:26.994071 20210408 4STAR_20160920_203_SKYP.created_20210408_114100.ppl_lv15_5wl_360_xfit_more_complete\n",
      "4STAR_20160912_044_SKYA.created_20210408_112842.almB_lv10_5wl_360_xfit_more_complete.output -> 4STAR ORACLES_2016_5wl_360_xfit_more_complete 20160912_044_SKYA.created__112842.almB_lv10_5wl_360_xfit_more_complete 2021-04-08 16:00:26.886068 20210408 4STAR_20160912_044_SKYA.created_20210408_112842.almB_lv10_5wl_360_xfit_more_complete\n",
      "4STAR_20160920_039_SKYP.created_20210408_113304.ppl_lv15_5wl_360_xfit_more_complete.output -> 4STAR ORACLES_2016_5wl_360_xfit_more_complete 20160920_039_SKYP.created__113304.ppl_lv15_5wl_360_xfit_more_complete 2021-04-08 16:00:26.926069 20210408 4STAR_20160920_039_SKYP.created_20210408_113304.ppl_lv15_5wl_360_xfit_more_complete\n",
      "4STAR_20160920_026_SKYA.created_20210408_113137.almA_lv10_5wl_360_xfit_more_complete.input -> 4STAR ORACLES_2016_5wl_360_xfit_more_complete 20160920_026_SKYA.created__113137.almA_lv10_5wl_360_xfit_more_complete 2021-04-08 16:00:26.910069 20210408 4STAR_20160920_026_SKYA.created_20210408_113137.almA_lv10_5wl_360_xfit_more_complete\n",
      "4STAR_20160920_036_SKYA.created_20210408_113247.almA_lv10_5wl_360_xfit_more_complete.input -> 4STAR ORACLES_2016_5wl_360_xfit_more_complete 20160920_036_SKYA.created__113247.almA_lv10_5wl_360_xfit_more_complete 2021-04-08 16:00:26.922069 20210408 4STAR_20160920_036_SKYA.created_20210408_113247.almA_lv10_5wl_360_xfit_more_complete\n",
      "4STAR_20160920_069_SKYA.created_20210408_113516.almB_lv10_5wl_360_xfit_more_complete.input -> 4STAR ORACLES_2016_5wl_360_xfit_more_complete 20160920_069_SKYA.created__113516.almB_lv10_5wl_360_xfit_more_complete 2021-04-08 16:00:26.950070 20210408 4STAR_20160920_069_SKYA.created_20210408_113516.almB_lv10_5wl_360_xfit_more_complete\n",
      "4STAR_20160902_030_SKYA.created_20210408_112119.almA_lv20_5wl_360_xfit_more_complete.mat -> 4STAR ORACLES_2016_5wl_360_xfit_more_complete 20160902_030_SKYA.created__112119.almA_lv20_5wl_360_xfit_more_complete 2021-04-08 16:00:26.834067 20210408 4STAR_20160902_030_SKYA.created_20210408_112119.almA_lv20_5wl_360_xfit_more_complete\n",
      "4STAR_20160920_072_SKYA.created_20210408_113532.almA_lv10_5wl_360_xfit_more_complete.output -> 4STAR ORACLES_2016_5wl_360_xfit_more_complete 20160920_072_SKYA.created__113532.almA_lv10_5wl_360_xfit_more_complete 2021-04-08 16:00:26.954070 20210408 4STAR_20160920_072_SKYA.created_20210408_113532.almA_lv10_5wl_360_xfit_more_complete\n",
      "4STAR_20160912_044_SKYA.created_20210408_112842.almA_lv10_5wl_360_xfit_more_complete.input -> 4STAR ORACLES_2016_5wl_360_xfit_more_complete 20160912_044_SKYA.created__112842.almA_lv10_5wl_360_xfit_more_complete 2021-04-08 16:00:26.886068 20210408 4STAR_20160912_044_SKYA.created_20210408_112842.almA_lv10_5wl_360_xfit_more_complete\n",
      "4STAR_20160920_129_SKYA.created_20210408_113737.avg_lv10_5wl_360_xfit_more_complete.mat -> 4STAR ORACLES_2016_5wl_360_xfit_more_complete 20160920_129_SKYA.created__113737.avg_lv10_5wl_360_xfit_more_complete 2021-04-08 16:00:26.970070 20210408 4STAR_20160920_129_SKYA.created_20210408_113737.avg_lv10_5wl_360_xfit_more_complete\n",
      "4STAR_20160920_152_SKYP.created_20210408_113844.ppl_lv15_5wl_360_xfit_more_complete.input -> 4STAR ORACLES_2016_5wl_360_xfit_more_complete 20160920_152_SKYP.created__113844.ppl_lv15_5wl_360_xfit_more_complete 2021-04-08 16:00:26.978070 20210408 4STAR_20160920_152_SKYP.created_20210408_113844.ppl_lv15_5wl_360_xfit_more_complete\n",
      "4STAR_20160902_072_SKYA.created_20210408_112500.almB_lv20_5wl_360_xfit_more_complete.mat -> 4STAR ORACLES_2016_5wl_360_xfit_more_complete 20160902_072_SKYA.created__112500.almB_lv20_5wl_360_xfit_more_complete 2021-04-08 16:00:26.870068 20210408 4STAR_20160902_072_SKYA.created_20210408_112500.almB_lv20_5wl_360_xfit_more_complete\n",
      "4STAR_20160912_044_SKYA.created_20210408_112842.almB_lv15_5wl_360_xfit_more_complete.mat -> 4STAR ORACLES_2016_5wl_360_xfit_more_complete 20160912_044_SKYA.created__112842.almB_lv15_5wl_360_xfit_more_complete 2021-04-08 16:00:26.886068 20210408 4STAR_20160912_044_SKYA.created_20210408_112842.almB_lv15_5wl_360_xfit_more_complete\n",
      "4STAR_20160920_143_SKYA.created_20210408_113810.almA_lv10_5wl_360_xfit_more_complete.input -> 4STAR ORACLES_2016_5wl_360_xfit_more_complete 20160920_143_SKYA.created__113810.almA_lv10_5wl_360_xfit_more_complete 2021-04-08 16:00:26.974071 20210408 4STAR_20160920_143_SKYA.created_20210408_113810.almA_lv10_5wl_360_xfit_more_complete\n",
      "4STAR_20160920_030_SKYA.created_20210408_113212.almB_lv20_5wl_360_xfit_more_complete.mat -> 4STAR ORACLES_2016_5wl_360_xfit_more_complete 20160920_030_SKYA.created__113212.almB_lv20_5wl_360_xfit_more_complete 2021-04-08 16:00:26.918069 20210408 4STAR_20160920_030_SKYA.created_20210408_113212.almB_lv20_5wl_360_xfit_more_complete\n",
      "4STAR_20160902_046_SKYA.created_20210408_112302.almB_lv20_5wl_360_xfit_more_complete.mat -> 4STAR ORACLES_2016_5wl_360_xfit_more_complete 20160902_046_SKYA.created__112302.almB_lv20_5wl_360_xfit_more_complete 2021-04-08 16:00:26.854068 20210408 4STAR_20160902_046_SKYA.created_20210408_112302.almB_lv20_5wl_360_xfit_more_complete\n",
      "4STAR_20160920_182_SKYP.created_20210408_114007.ppl_lv15_5wl_360_xfit_more_complete.output -> 4STAR ORACLES_2016_5wl_360_xfit_more_complete 20160920_182_SKYP.created__114007.ppl_lv15_5wl_360_xfit_more_complete 2021-04-08 16:00:26.986071 20210408 4STAR_20160920_182_SKYP.created_20210408_114007.ppl_lv15_5wl_360_xfit_more_complete\n",
      "4STAR_20160920_042_SKYA.created_20210408_113320.almA_lv10_5wl_360_xfit_more_complete.input -> 4STAR ORACLES_2016_5wl_360_xfit_more_complete 20160920_042_SKYA.created__113320.almA_lv10_5wl_360_xfit_more_complete 2021-04-08 16:00:26.926069 20210408 4STAR_20160920_042_SKYA.created_20210408_113320.almA_lv10_5wl_360_xfit_more_complete\n",
      "4STAR_20160920_069_SKYA.created_20210408_113516.almA_lv20_5wl_360_xfit_more_complete.mat -> 4STAR ORACLES_2016_5wl_360_xfit_more_complete 20160920_069_SKYA.created__113516.almA_lv20_5wl_360_xfit_more_complete 2021-04-08 16:00:26.950070 20210408 4STAR_20160920_069_SKYA.created_20210408_113516.almA_lv20_5wl_360_xfit_more_complete\n",
      "4STAR_20160902_013_SKYP.created_20210408_111920.ppl_lv15_5wl_360_xfit_more_complete.output -> 4STAR ORACLES_2016_5wl_360_xfit_more_complete 20160902_013_SKYP.created__111920.ppl_lv15_5wl_360_xfit_more_complete 2021-04-08 16:00:26.814067 20210408 4STAR_20160902_013_SKYP.created_20210408_111920.ppl_lv15_5wl_360_xfit_more_complete\n",
      "4STAR_20160912_072_SKYA.created_20210408_112933.avg_lv15_5wl_360_xfit_more_complete.input -> 4STAR ORACLES_2016_5wl_360_xfit_more_complete 20160912_072_SKYA.created__112933.avg_lv15_5wl_360_xfit_more_complete 2021-04-08 16:00:26.894068 20210408 4STAR_20160912_072_SKYA.created_20210408_112933.avg_lv15_5wl_360_xfit_more_complete\n",
      "4STAR_20160902_046_SKYA.created_20210408_112302.almA_lv20_5wl_360_xfit_more_complete.mat -> 4STAR ORACLES_2016_5wl_360_xfit_more_complete 20160902_046_SKYA.created__112302.almA_lv20_5wl_360_xfit_more_complete 2021-04-08 16:00:26.850068 20210408 4STAR_20160902_046_SKYA.created_20210408_112302.almA_lv20_5wl_360_xfit_more_complete\n",
      "4STAR_20160902_019_SKYP.created_20210408_111956.ppl_lv15_5wl_360_xfit_more_complete.output -> 4STAR ORACLES_2016_5wl_360_xfit_more_complete 20160902_019_SKYP.created__111956.ppl_lv15_5wl_360_xfit_more_complete 2021-04-08 16:00:26.822067 20210408 4STAR_20160902_019_SKYP.created_20210408_111956.ppl_lv15_5wl_360_xfit_more_complete\n",
      "4STAR_20160902_018_SKYA.created_20210408_111937.almA_lv15_5wl_360_xfit_more_complete.mat -> 4STAR ORACLES_2016_5wl_360_xfit_more_complete 20160902_018_SKYA.created__111937.almA_lv15_5wl_360_xfit_more_complete 2021-04-08 16:00:26.814067 20210408 4STAR_20160902_018_SKYA.created_20210408_111937.almA_lv15_5wl_360_xfit_more_complete\n",
      "4STAR_20160902_035_SKYP.created_20210408_112211.ppl_lv15_5wl_360_xfit_more_complete.input -> 4STAR ORACLES_2016_5wl_360_xfit_more_complete 20160902_035_SKYP.created__112211.ppl_lv15_5wl_360_xfit_more_complete 2021-04-08 16:00:26.842067 20210408 4STAR_20160902_035_SKYP.created_20210408_112211.ppl_lv15_5wl_360_xfit_more_complete\n",
      "4STAR_20160902_026_SKYA.created_20210408_112047.almB_lv15_5wl_360_xfit_more_complete.output -> 4STAR ORACLES_2016_5wl_360_xfit_more_complete 20160902_026_SKYA.created__112047.almB_lv15_5wl_360_xfit_more_complete 2021-04-08 16:00:26.830067 20210408 4STAR_20160902_026_SKYA.created_20210408_112047.almB_lv15_5wl_360_xfit_more_complete\n",
      "4STAR_20160920_059_SKYA.created_20210408_113411.almA_lv10_5wl_360_xfit_more_complete.input -> 4STAR ORACLES_2016_5wl_360_xfit_more_complete 20160920_059_SKYA.created__113411.almA_lv10_5wl_360_xfit_more_complete 2021-04-08 16:00:26.938070 20210408 4STAR_20160920_059_SKYA.created_20210408_113411.almA_lv10_5wl_360_xfit_more_complete\n"
     ]
    },
    {
     "name": "stdout",
     "output_type": "stream",
     "text": [
      "4STAR_20160902_013_SKYP.created_20210408_111920.ppl_lv15_5wl_360_xfit_more_complete.mat -> 4STAR ORACLES_2016_5wl_360_xfit_more_complete 20160902_013_SKYP.created__111920.ppl_lv15_5wl_360_xfit_more_complete 2021-04-08 16:00:26.814067 20210408 4STAR_20160902_013_SKYP.created_20210408_111920.ppl_lv15_5wl_360_xfit_more_complete\n",
      "4STAR_20160920_042_SKYA.created_20210408_113320.almA_lv10_5wl_360_xfit_more_complete.output -> 4STAR ORACLES_2016_5wl_360_xfit_more_complete 20160920_042_SKYA.created__113320.almA_lv10_5wl_360_xfit_more_complete 2021-04-08 16:00:26.930069 20210408 4STAR_20160920_042_SKYA.created_20210408_113320.almA_lv10_5wl_360_xfit_more_complete\n",
      "4STAR_20160912_076_SKYA.created_20210408_113007.avg_lv15_5wl_360_xfit_more_complete.output -> 4STAR ORACLES_2016_5wl_360_xfit_more_complete 20160912_076_SKYA.created__113007.avg_lv15_5wl_360_xfit_more_complete 2021-04-08 16:00:26.902069 20210408 4STAR_20160912_076_SKYA.created_20210408_113007.avg_lv15_5wl_360_xfit_more_complete\n",
      "4STAR_20160920_053_SKYA.created_20210408_113338.almB_lv15_5wl_360_xfit_more_complete.mat -> 4STAR ORACLES_2016_5wl_360_xfit_more_complete 20160920_053_SKYA.created__113338.almB_lv15_5wl_360_xfit_more_complete 2021-04-08 16:00:26.934069 20210408 4STAR_20160920_053_SKYA.created_20210408_113338.almB_lv15_5wl_360_xfit_more_complete\n",
      "4STAR_20160920_026_SKYA.created_20210408_113137.almB_lv10_5wl_360_xfit_more_complete.output -> 4STAR ORACLES_2016_5wl_360_xfit_more_complete 20160920_026_SKYA.created__113137.almB_lv10_5wl_360_xfit_more_complete 2021-04-08 16:00:26.914069 20210408 4STAR_20160920_026_SKYA.created_20210408_113137.almB_lv10_5wl_360_xfit_more_complete\n",
      "4STAR_20160920_089_SKYP.created_20210408_113621.ppl_lv15_5wl_360_xfit_more_complete.input -> 4STAR ORACLES_2016_5wl_360_xfit_more_complete 20160920_089_SKYP.created__113621.ppl_lv15_5wl_360_xfit_more_complete 2021-04-08 16:00:26.958070 20210408 4STAR_20160920_089_SKYP.created_20210408_113621.ppl_lv15_5wl_360_xfit_more_complete\n",
      "4STAR_20160902_042_SKYA.created_20210408_112231.almA_lv10_5wl_360_xfit_more_complete.input -> 4STAR ORACLES_2016_5wl_360_xfit_more_complete 20160902_042_SKYA.created__112231.almA_lv10_5wl_360_xfit_more_complete 2021-04-08 16:00:26.846067 20210408 4STAR_20160902_042_SKYA.created_20210408_112231.almA_lv10_5wl_360_xfit_more_complete\n",
      "4STAR_20160920_072_SKYA.created_20210408_113532.almB_lv10_5wl_360_xfit_more_complete.input -> 4STAR ORACLES_2016_5wl_360_xfit_more_complete 20160920_072_SKYA.created__113532.almB_lv10_5wl_360_xfit_more_complete 2021-04-08 16:00:26.954070 20210408 4STAR_20160920_072_SKYA.created_20210408_113532.almB_lv10_5wl_360_xfit_more_complete\n",
      "4STAR_20160920_200_SKYA.created_20210408_114042.avg_lv15_5wl_360_xfit_more_complete.input -> 4STAR ORACLES_2016_5wl_360_xfit_more_complete 20160920_200_SKYA.created__114042.avg_lv15_5wl_360_xfit_more_complete 2021-04-08 16:00:26.990071 20210408 4STAR_20160920_200_SKYA.created_20210408_114042.avg_lv15_5wl_360_xfit_more_complete\n",
      "4STAR_20160920_053_SKYA.created_20210408_113338.avg_lv15_5wl_360_xfit_more_complete.mat -> 4STAR ORACLES_2016_5wl_360_xfit_more_complete 20160920_053_SKYA.created__113338.avg_lv15_5wl_360_xfit_more_complete 2021-04-08 16:00:26.938070 20210408 4STAR_20160920_053_SKYA.created_20210408_113338.avg_lv15_5wl_360_xfit_more_complete\n",
      "4STAR_20160920_059_SKYA.created_20210408_113411.almB_lv10_5wl_360_xfit_more_complete.output -> 4STAR ORACLES_2016_5wl_360_xfit_more_complete 20160920_059_SKYA.created__113411.almB_lv10_5wl_360_xfit_more_complete 2021-04-08 16:00:26.942070 20210408 4STAR_20160920_059_SKYA.created_20210408_113411.almB_lv10_5wl_360_xfit_more_complete\n",
      "4STAR_20160902_056_SKYA.created_20210408_112408.almB_lv20_5wl_360_xfit_more_complete.mat -> 4STAR ORACLES_2016_5wl_360_xfit_more_complete 20160902_056_SKYA.created__112408.almB_lv20_5wl_360_xfit_more_complete 2021-04-08 16:00:26.862068 20210408 4STAR_20160902_056_SKYA.created_20210408_112408.almB_lv20_5wl_360_xfit_more_complete\n",
      "4STAR_20160912_045_SKYP.created_20210408_112859.ppl_lv15_5wl_360_xfit_more_complete.input -> 4STAR ORACLES_2016_5wl_360_xfit_more_complete 20160912_045_SKYP.created__112859.ppl_lv15_5wl_360_xfit_more_complete 2021-04-08 16:00:26.890069 20210408 4STAR_20160912_045_SKYP.created_20210408_112859.ppl_lv15_5wl_360_xfit_more_complete\n",
      "4STAR_20160920_129_SKYA.created_20210408_113737.avg_lv10_5wl_360_xfit_more_complete.output -> 4STAR ORACLES_2016_5wl_360_xfit_more_complete 20160920_129_SKYA.created__113737.avg_lv10_5wl_360_xfit_more_complete 2021-04-08 16:00:26.970070 20210408 4STAR_20160920_129_SKYA.created_20210408_113737.avg_lv10_5wl_360_xfit_more_complete\n",
      "4STAR_20160920_016_SKYP.created_20210408_113102.ppl_lv15_5wl_360_xfit_more_complete.mat -> 4STAR ORACLES_2016_5wl_360_xfit_more_complete 20160920_016_SKYP.created__113102.ppl_lv15_5wl_360_xfit_more_complete 2021-04-08 16:00:26.906069 20210408 4STAR_20160920_016_SKYP.created_20210408_113102.ppl_lv15_5wl_360_xfit_more_complete\n",
      "4STAR_20160920_130_SKYP.created_20210408_113753.ppl_lv15_5wl_360_xfit_more_complete.output -> 4STAR ORACLES_2016_5wl_360_xfit_more_complete 20160920_130_SKYP.created__113753.ppl_lv15_5wl_360_xfit_more_complete 2021-04-08 16:00:26.970070 20210408 4STAR_20160920_130_SKYP.created_20210408_113753.ppl_lv15_5wl_360_xfit_more_complete\n",
      "4STAR_20160912_044_SKYA.created_20210408_112842.almB_lv10_5wl_360_xfit_more_complete.input -> 4STAR ORACLES_2016_5wl_360_xfit_more_complete 20160912_044_SKYA.created__112842.almB_lv10_5wl_360_xfit_more_complete 2021-04-08 16:00:26.886068 20210408 4STAR_20160912_044_SKYA.created_20210408_112842.almB_lv10_5wl_360_xfit_more_complete\n",
      "4STAR_20160912_028_SKYA.created_20210408_112756.avg_lv10_5wl_360_xfit_more_complete.input -> 4STAR ORACLES_2016_5wl_360_xfit_more_complete 20160912_028_SKYA.created__112756.avg_lv10_5wl_360_xfit_more_complete 2021-04-08 16:00:26.882068 20210408 4STAR_20160912_028_SKYA.created_20210408_112756.avg_lv10_5wl_360_xfit_more_complete\n",
      "4STAR_20160920_143_SKYA.created_20210408_113810.almB_lv20_5wl_360_xfit_more_complete.mat -> 4STAR ORACLES_2016_5wl_360_xfit_more_complete 20160920_143_SKYA.created__113810.almB_lv20_5wl_360_xfit_more_complete 2021-04-08 16:00:26.974071 20210408 4STAR_20160920_143_SKYA.created_20210408_113810.almB_lv20_5wl_360_xfit_more_complete\n",
      "4STAR_20160902_022_SKYA.created_20210408_112013.almB_lv15_5wl_360_xfit_more_complete.mat -> 4STAR ORACLES_2016_5wl_360_xfit_more_complete 20160902_022_SKYA.created__112013.almB_lv15_5wl_360_xfit_more_complete 2021-04-08 16:00:26.822067 20210408 4STAR_20160902_022_SKYA.created_20210408_112013.almB_lv15_5wl_360_xfit_more_complete\n",
      "4STAR_20160912_072_SKYA.created_20210408_112933.almB_lv15_5wl_360_xfit_more_complete.output -> 4STAR ORACLES_2016_5wl_360_xfit_more_complete 20160912_072_SKYA.created__112933.almB_lv15_5wl_360_xfit_more_complete 2021-04-08 16:00:26.894068 20210408 4STAR_20160912_072_SKYA.created_20210408_112933.almB_lv15_5wl_360_xfit_more_complete\n",
      "4STAR_20160920_072_SKYA.created_20210408_113532.almB_lv20_5wl_360_xfit_more_complete.mat -> 4STAR ORACLES_2016_5wl_360_xfit_more_complete 20160920_072_SKYA.created__113532.almB_lv20_5wl_360_xfit_more_complete 2021-04-08 16:00:26.954070 20210408 4STAR_20160920_072_SKYA.created_20210408_113532.almB_lv20_5wl_360_xfit_more_complete\n",
      "4STAR_20160920_104_SKYP.created_20210408_113654.ppl_lv15_5wl_360_xfit_more_complete.input -> 4STAR ORACLES_2016_5wl_360_xfit_more_complete 20160920_104_SKYP.created__113654.ppl_lv15_5wl_360_xfit_more_complete 2021-04-08 16:00:26.962070 20210408 4STAR_20160920_104_SKYP.created_20210408_113654.ppl_lv15_5wl_360_xfit_more_complete\n",
      "4STAR_20160902_010_SKYP.created_20210408_111904.ppl_lv10_5wl_360_xfit_more_complete.mat -> 4STAR ORACLES_2016_5wl_360_xfit_more_complete 20160902_010_SKYP.created__111904.ppl_lv10_5wl_360_xfit_more_complete 2021-04-08 16:00:26.810066 20210408 4STAR_20160902_010_SKYP.created_20210408_111904.ppl_lv10_5wl_360_xfit_more_complete\n",
      "4STAR_20160920_059_SKYA.created_20210408_113411.avg_lv10_5wl_360_xfit_more_complete.output -> 4STAR ORACLES_2016_5wl_360_xfit_more_complete 20160920_059_SKYA.created__113411.avg_lv10_5wl_360_xfit_more_complete 2021-04-08 16:00:26.942070 20210408 4STAR_20160920_059_SKYA.created_20210408_113411.avg_lv10_5wl_360_xfit_more_complete\n",
      "4STAR_20160920_026_SKYA.created_20210408_113137.avg_lv10_5wl_360_xfit_more_complete.output -> 4STAR ORACLES_2016_5wl_360_xfit_more_complete 20160920_026_SKYA.created__113137.avg_lv10_5wl_360_xfit_more_complete 2021-04-08 16:00:26.914069 20210408 4STAR_20160920_026_SKYA.created_20210408_113137.avg_lv10_5wl_360_xfit_more_complete\n",
      "4STAR_20160902_026_SKYA.created_20210408_112047.almA_lv15_5wl_360_xfit_more_complete.input -> 4STAR ORACLES_2016_5wl_360_xfit_more_complete 20160902_026_SKYA.created__112047.almA_lv15_5wl_360_xfit_more_complete 2021-04-08 16:00:26.826067 20210408 4STAR_20160902_026_SKYA.created_20210408_112047.almA_lv15_5wl_360_xfit_more_complete\n",
      "4STAR_20160912_028_SKYA.created_20210408_112756.almA_lv10_5wl_360_xfit_more_complete.input -> 4STAR ORACLES_2016_5wl_360_xfit_more_complete 20160912_028_SKYA.created__112756.almA_lv10_5wl_360_xfit_more_complete 2021-04-08 16:00:26.878068 20210408 4STAR_20160912_028_SKYA.created_20210408_112756.almA_lv10_5wl_360_xfit_more_complete\n",
      "4STAR_20160902_093_SKYP.created_20210408_112552.ppl_lv15_5wl_360_xfit_more_complete.output -> 4STAR ORACLES_2016_5wl_360_xfit_more_complete 20160902_093_SKYP.created__112552.ppl_lv15_5wl_360_xfit_more_complete 2021-04-08 16:00:26.878068 20210408 4STAR_20160902_093_SKYP.created_20210408_112552.ppl_lv15_5wl_360_xfit_more_complete\n",
      "4STAR_20160902_030_SKYA.created_20210408_112119.avg_lv10_5wl_360_xfit_more_complete.output -> 4STAR ORACLES_2016_5wl_360_xfit_more_complete 20160902_030_SKYA.created__112119.avg_lv10_5wl_360_xfit_more_complete 2021-04-08 16:00:26.838067 20210408 4STAR_20160902_030_SKYA.created_20210408_112119.avg_lv10_5wl_360_xfit_more_complete\n",
      "4STAR_20160920_107_SKYP.created_20210408_113710.ppl_lv15_5wl_360_xfit_more_complete.output -> 4STAR ORACLES_2016_5wl_360_xfit_more_complete 20160920_107_SKYP.created__113710.ppl_lv15_5wl_360_xfit_more_complete 2021-04-08 16:00:26.966070 20210408 4STAR_20160920_107_SKYP.created_20210408_113710.ppl_lv15_5wl_360_xfit_more_complete\n",
      "4STAR_20160912_041_SKYP.created_20210408_112825.ppl_lv15_5wl_360_xfit_more_complete.input -> 4STAR ORACLES_2016_5wl_360_xfit_more_complete 20160912_041_SKYP.created__112825.ppl_lv15_5wl_360_xfit_more_complete 2021-04-08 16:00:26.882068 20210408 4STAR_20160912_041_SKYP.created_20210408_112825.ppl_lv15_5wl_360_xfit_more_complete\n",
      "4STAR_20160902_042_SKYA.created_20210408_112231.almB_lv10_5wl_360_xfit_more_complete.output -> 4STAR ORACLES_2016_5wl_360_xfit_more_complete 20160902_042_SKYA.created__112231.almB_lv10_5wl_360_xfit_more_complete 2021-04-08 16:00:26.846067 20210408 4STAR_20160902_042_SKYA.created_20210408_112231.almB_lv10_5wl_360_xfit_more_complete\n",
      "4STAR_20160902_061_SKYP.created_20210408_112443.ppl_lv15_5wl_360_xfit_more_complete.input -> 4STAR ORACLES_2016_5wl_360_xfit_more_complete 20160902_061_SKYP.created__112443.ppl_lv15_5wl_360_xfit_more_complete 2021-04-08 16:00:26.866068 20210408 4STAR_20160902_061_SKYP.created_20210408_112443.ppl_lv15_5wl_360_xfit_more_complete\n",
      "4STAR_20160920_039_SKYP.created_20210408_113304.ppl_lv15_5wl_360_xfit_more_complete.input -> 4STAR ORACLES_2016_5wl_360_xfit_more_complete 20160920_039_SKYP.created__113304.ppl_lv15_5wl_360_xfit_more_complete 2021-04-08 16:00:26.926069 20210408 4STAR_20160920_039_SKYP.created_20210408_113304.ppl_lv15_5wl_360_xfit_more_complete\n",
      "4STAR_20160902_031_SKYP.created_20210408_112137.ppl_lv20_5wl_360_xfit_more_complete.mat -> 4STAR ORACLES_2016_5wl_360_xfit_more_complete 20160902_031_SKYP.created__112137.ppl_lv20_5wl_360_xfit_more_complete 2021-04-08 16:00:26.838067 20210408 4STAR_20160902_031_SKYP.created_20210408_112137.ppl_lv20_5wl_360_xfit_more_complete\n",
      "4STAR_20160902_018_SKYA.created_20210408_111937.almA_lv15_5wl_360_xfit_more_complete.output -> 4STAR ORACLES_2016_5wl_360_xfit_more_complete 20160902_018_SKYA.created__111937.almA_lv15_5wl_360_xfit_more_complete 2021-04-08 16:00:26.814067 20210408 4STAR_20160902_018_SKYA.created_20210408_111937.almA_lv15_5wl_360_xfit_more_complete\n",
      "4STAR_20160920_069_SKYA.created_20210408_113516.almA_lv10_5wl_360_xfit_more_complete.output -> 4STAR ORACLES_2016_5wl_360_xfit_more_complete 20160920_069_SKYA.created__113516.almA_lv10_5wl_360_xfit_more_complete 2021-04-08 16:00:26.950070 20210408 4STAR_20160920_069_SKYA.created_20210408_113516.almA_lv10_5wl_360_xfit_more_complete\n",
      "4STAR_20160920_065_SKYA.created_20210408_113444.almA_lv10_5wl_360_xfit_more_complete.output -> 4STAR ORACLES_2016_5wl_360_xfit_more_complete 20160920_065_SKYA.created__113444.almA_lv10_5wl_360_xfit_more_complete 2021-04-08 16:00:26.946070 20210408 4STAR_20160920_065_SKYA.created_20210408_113444.almA_lv10_5wl_360_xfit_more_complete\n",
      "4STAR_20160920_092_SKYA.created_20210408_113638.almB_lv20_5wl_360_xfit_more_complete.mat -> 4STAR ORACLES_2016_5wl_360_xfit_more_complete 20160920_092_SKYA.created__113638.almB_lv20_5wl_360_xfit_more_complete 2021-04-08 16:00:26.962070 20210408 4STAR_20160920_092_SKYA.created_20210408_113638.almB_lv20_5wl_360_xfit_more_complete\n",
      "4STAR_20160920_092_SKYA.created_20210408_113638.almA_lv10_5wl_360_xfit_more_complete.output -> 4STAR ORACLES_2016_5wl_360_xfit_more_complete 20160920_092_SKYA.created__113638.almA_lv10_5wl_360_xfit_more_complete 2021-04-08 16:00:26.958070 20210408 4STAR_20160920_092_SKYA.created_20210408_113638.almA_lv10_5wl_360_xfit_more_complete\n",
      "4STAR_20160920_053_SKYA.created_20210408_113338.almB_lv10_5wl_360_xfit_more_complete.output -> 4STAR ORACLES_2016_5wl_360_xfit_more_complete 20160920_053_SKYA.created__113338.almB_lv10_5wl_360_xfit_more_complete 2021-04-08 16:00:26.934069 20210408 4STAR_20160920_053_SKYA.created_20210408_113338.almB_lv10_5wl_360_xfit_more_complete\n",
      "4STAR_20160920_026_SKYA.created_20210408_113137.almA_lv10_5wl_360_xfit_more_complete.output -> 4STAR ORACLES_2016_5wl_360_xfit_more_complete 20160920_026_SKYA.created__113137.almA_lv10_5wl_360_xfit_more_complete 2021-04-08 16:00:26.910069 20210408 4STAR_20160920_026_SKYA.created_20210408_113137.almA_lv10_5wl_360_xfit_more_complete\n",
      "4STAR_20160920_149_SKYP.created_20210408_113827.ppl_lv15_5wl_360_xfit_more_complete.input -> 4STAR ORACLES_2016_5wl_360_xfit_more_complete 20160920_149_SKYP.created__113827.ppl_lv15_5wl_360_xfit_more_complete 2021-04-08 16:00:26.978070 20210408 4STAR_20160920_149_SKYP.created_20210408_113827.ppl_lv15_5wl_360_xfit_more_complete\n",
      "4STAR_20160920_019_SKYA.created_20210408_113119.almB_lv15_5wl_360_xfit_more_complete.input -> 4STAR ORACLES_2016_5wl_360_xfit_more_complete 20160920_019_SKYA.created__113119.almB_lv15_5wl_360_xfit_more_complete 2021-04-08 16:00:26.906069 20210408 4STAR_20160920_019_SKYA.created_20210408_113119.almB_lv15_5wl_360_xfit_more_complete\n",
      "4STAR_20160920_169_SKYA.created_20210408_113917.almA_lv10_5wl_360_xfit_more_complete.output -> 4STAR ORACLES_2016_5wl_360_xfit_more_complete 20160920_169_SKYA.created__113917.almA_lv10_5wl_360_xfit_more_complete 2021-04-08 16:00:26.982071 20210408 4STAR_20160920_169_SKYA.created_20210408_113917.almA_lv10_5wl_360_xfit_more_complete\n",
      "4STAR_20160920_036_SKYA.created_20210408_113247.almB_lv10_5wl_360_xfit_more_complete.output -> 4STAR ORACLES_2016_5wl_360_xfit_more_complete 20160920_036_SKYA.created__113247.almB_lv10_5wl_360_xfit_more_complete 2021-04-08 16:00:26.926069 20210408 4STAR_20160920_036_SKYA.created_20210408_113247.almB_lv10_5wl_360_xfit_more_complete\n",
      "4STAR_20160902_043_SKYP.created_20210408_112247.ppl_lv10_5wl_360_xfit_more_complete.input -> 4STAR ORACLES_2016_5wl_360_xfit_more_complete 20160902_043_SKYP.created__112247.ppl_lv10_5wl_360_xfit_more_complete 2021-04-08 16:00:26.850068 20210408 4STAR_20160902_043_SKYP.created_20210408_112247.ppl_lv10_5wl_360_xfit_more_complete\n"
     ]
    },
    {
     "name": "stdout",
     "output_type": "stream",
     "text": [
      "4STAR_20160920_143_SKYA.created_20210408_113810.avg_lv20_5wl_360_xfit_more_complete.mat -> 4STAR ORACLES_2016_5wl_360_xfit_more_complete 20160920_143_SKYA.created__113810.avg_lv20_5wl_360_xfit_more_complete 2021-04-08 16:00:26.978070 20210408 4STAR_20160920_143_SKYA.created_20210408_113810.avg_lv20_5wl_360_xfit_more_complete\n",
      "4STAR_20160920_056_SKYP.created_20210408_113354.ppl_lv15_5wl_360_xfit_more_complete.mat -> 4STAR ORACLES_2016_5wl_360_xfit_more_complete 20160920_056_SKYP.created__113354.ppl_lv15_5wl_360_xfit_more_complete 2021-04-08 16:00:26.938070 20210408 4STAR_20160920_056_SKYP.created_20210408_113354.ppl_lv15_5wl_360_xfit_more_complete\n",
      "4STAR_20160902_034_SKYA.created_20210408_112153.almA_lv20_5wl_360_xfit_more_complete.mat -> 4STAR ORACLES_2016_5wl_360_xfit_more_complete 20160902_034_SKYA.created__112153.almA_lv20_5wl_360_xfit_more_complete 2021-04-08 16:00:26.838067 20210408 4STAR_20160902_034_SKYA.created_20210408_112153.almA_lv20_5wl_360_xfit_more_complete\n",
      "4STAR_20160902_022_SKYA.created_20210408_112013.almB_lv15_5wl_360_xfit_more_complete.output -> 4STAR ORACLES_2016_5wl_360_xfit_more_complete 20160902_022_SKYA.created__112013.almB_lv15_5wl_360_xfit_more_complete 2021-04-08 16:00:26.822067 20210408 4STAR_20160902_022_SKYA.created_20210408_112013.almB_lv15_5wl_360_xfit_more_complete\n",
      "4STAR_20160920_062_SKYP.created_20210408_113427.ppl_lv15_5wl_360_xfit_more_complete.output -> 4STAR ORACLES_2016_5wl_360_xfit_more_complete 20160920_062_SKYP.created__113427.ppl_lv15_5wl_360_xfit_more_complete 2021-04-08 16:00:26.942070 20210408 4STAR_20160920_062_SKYP.created_20210408_113427.ppl_lv15_5wl_360_xfit_more_complete\n",
      "4STAR_20160920_053_SKYA.created_20210408_113338.almA_lv10_5wl_360_xfit_more_complete.input -> 4STAR ORACLES_2016_5wl_360_xfit_more_complete 20160920_053_SKYA.created__113338.almA_lv10_5wl_360_xfit_more_complete 2021-04-08 16:00:26.934069 20210408 4STAR_20160920_053_SKYA.created_20210408_113338.almA_lv10_5wl_360_xfit_more_complete\n",
      "4STAR_20160902_022_SKYA.created_20210408_112013.avg_lv15_5wl_360_xfit_more_complete.input -> 4STAR ORACLES_2016_5wl_360_xfit_more_complete 20160902_022_SKYA.created__112013.avg_lv15_5wl_360_xfit_more_complete 2021-04-08 16:00:26.822067 20210408 4STAR_20160902_022_SKYA.created_20210408_112013.avg_lv15_5wl_360_xfit_more_complete\n",
      "4STAR_20160920_092_SKYA.created_20210408_113638.avg_lv20_5wl_360_xfit_more_complete.mat -> 4STAR ORACLES_2016_5wl_360_xfit_more_complete 20160920_092_SKYA.created__113638.avg_lv20_5wl_360_xfit_more_complete 2021-04-08 16:00:26.962070 20210408 4STAR_20160920_092_SKYA.created_20210408_113638.avg_lv20_5wl_360_xfit_more_complete\n",
      "4STAR_20160920_200_SKYA.created_20210408_114042.almB_lv10_5wl_360_xfit_more_complete.mat -> 4STAR ORACLES_2016_5wl_360_xfit_more_complete 20160920_200_SKYA.created__114042.almB_lv10_5wl_360_xfit_more_complete 2021-04-08 16:00:26.990071 20210408 4STAR_20160920_200_SKYA.created_20210408_114042.almB_lv10_5wl_360_xfit_more_complete\n",
      "4STAR_20160902_046_SKYA.created_20210408_112302.almB_lv10_5wl_360_xfit_more_complete.output -> 4STAR ORACLES_2016_5wl_360_xfit_more_complete 20160902_046_SKYA.created__112302.almB_lv10_5wl_360_xfit_more_complete 2021-04-08 16:00:26.854068 20210408 4STAR_20160902_046_SKYA.created_20210408_112302.almB_lv10_5wl_360_xfit_more_complete\n",
      "4STAR_20160912_076_SKYA.created_20210408_113007.almB_lv15_5wl_360_xfit_more_complete.output -> 4STAR ORACLES_2016_5wl_360_xfit_more_complete 20160912_076_SKYA.created__113007.almB_lv15_5wl_360_xfit_more_complete 2021-04-08 16:00:26.898069 20210408 4STAR_20160912_076_SKYA.created_20210408_113007.almB_lv15_5wl_360_xfit_more_complete\n",
      "4STAR_20160920_129_SKYA.created_20210408_113737.almA_lv15_5wl_360_xfit_more_complete.mat -> 4STAR ORACLES_2016_5wl_360_xfit_more_complete 20160920_129_SKYA.created__113737.almA_lv15_5wl_360_xfit_more_complete 2021-04-08 16:00:26.966070 20210408 4STAR_20160920_129_SKYA.created_20210408_113737.almA_lv15_5wl_360_xfit_more_complete\n",
      "4STAR_20160912_076_SKYA.created_20210408_113007.avg_lv15_5wl_360_xfit_more_complete.input -> 4STAR ORACLES_2016_5wl_360_xfit_more_complete 20160912_076_SKYA.created__113007.avg_lv15_5wl_360_xfit_more_complete 2021-04-08 16:00:26.902069 20210408 4STAR_20160912_076_SKYA.created_20210408_113007.avg_lv15_5wl_360_xfit_more_complete\n",
      "4STAR_20160920_200_SKYA.created_20210408_114042.almA_lv15_5wl_360_xfit_more_complete.output -> 4STAR ORACLES_2016_5wl_360_xfit_more_complete 20160920_200_SKYA.created__114042.almA_lv15_5wl_360_xfit_more_complete 2021-04-08 16:00:26.990071 20210408 4STAR_20160920_200_SKYA.created_20210408_114042.almA_lv15_5wl_360_xfit_more_complete\n",
      "4STAR_20160920_182_SKYP.created_20210408_114007.ppl_lv15_5wl_360_xfit_more_complete.input -> 4STAR ORACLES_2016_5wl_360_xfit_more_complete 20160920_182_SKYP.created__114007.ppl_lv15_5wl_360_xfit_more_complete 2021-04-08 16:00:26.986071 20210408 4STAR_20160920_182_SKYP.created_20210408_114007.ppl_lv15_5wl_360_xfit_more_complete\n",
      "4STAR_20160920_056_SKYP.created_20210408_113354.ppl_lv15_5wl_360_xfit_more_complete.output -> 4STAR ORACLES_2016_5wl_360_xfit_more_complete 20160920_056_SKYP.created__113354.ppl_lv15_5wl_360_xfit_more_complete 2021-04-08 16:00:26.938070 20210408 4STAR_20160920_056_SKYP.created_20210408_113354.ppl_lv15_5wl_360_xfit_more_complete\n",
      "4STAR_20160920_059_SKYA.created_20210408_113411.almA_lv10_5wl_360_xfit_more_complete.output -> 4STAR ORACLES_2016_5wl_360_xfit_more_complete 20160920_059_SKYA.created__113411.almA_lv10_5wl_360_xfit_more_complete 2021-04-08 16:00:26.938070 20210408 4STAR_20160920_059_SKYA.created_20210408_113411.almA_lv10_5wl_360_xfit_more_complete\n",
      "4STAR_20160920_066_SKYP.created_20210408_113459.ppl_lv15_5wl_360_xfit_more_complete.output -> 4STAR ORACLES_2016_5wl_360_xfit_more_complete 20160920_066_SKYP.created__113459.ppl_lv15_5wl_360_xfit_more_complete 2021-04-08 16:00:26.950070 20210408 4STAR_20160920_066_SKYP.created_20210408_113459.ppl_lv15_5wl_360_xfit_more_complete\n",
      "4STAR_20160920_185_SKYA.created_20210408_114024.almA_lv10_5wl_360_xfit_more_complete.input -> 4STAR ORACLES_2016_5wl_360_xfit_more_complete 20160920_185_SKYA.created__114024.almA_lv10_5wl_360_xfit_more_complete 2021-04-08 16:00:26.986071 20210408 4STAR_20160920_185_SKYA.created_20210408_114024.almA_lv10_5wl_360_xfit_more_complete\n",
      "4STAR_20160902_053_SKYP.created_20210408_112351.ppl_lv15_5wl_360_xfit_more_complete.input -> 4STAR ORACLES_2016_5wl_360_xfit_more_complete 20160902_053_SKYP.created__112351.ppl_lv15_5wl_360_xfit_more_complete 2021-04-08 16:00:26.858068 20210408 4STAR_20160902_053_SKYP.created_20210408_112351.ppl_lv15_5wl_360_xfit_more_complete\n",
      "4STAR_20160920_026_SKYA.created_20210408_113137.avg_lv10_5wl_360_xfit_more_complete.input -> 4STAR ORACLES_2016_5wl_360_xfit_more_complete 20160920_026_SKYA.created__113137.avg_lv10_5wl_360_xfit_more_complete 2021-04-08 16:00:26.914069 20210408 4STAR_20160920_026_SKYA.created_20210408_113137.avg_lv10_5wl_360_xfit_more_complete\n",
      "4STAR_20160920_149_SKYP.created_20210408_113827.ppl_lv20_5wl_360_xfit_more_complete.mat -> 4STAR ORACLES_2016_5wl_360_xfit_more_complete 20160920_149_SKYP.created__113827.ppl_lv20_5wl_360_xfit_more_complete 2021-04-08 16:00:26.978070 20210408 4STAR_20160920_149_SKYP.created_20210408_113827.ppl_lv20_5wl_360_xfit_more_complete\n",
      "4STAR_20160902_035_SKYP.created_20210408_112211.ppl_lv20_5wl_360_xfit_more_complete.mat -> 4STAR ORACLES_2016_5wl_360_xfit_more_complete 20160902_035_SKYP.created__112211.ppl_lv20_5wl_360_xfit_more_complete 2021-04-08 16:00:26.842067 20210408 4STAR_20160902_035_SKYP.created_20210408_112211.ppl_lv20_5wl_360_xfit_more_complete\n",
      "4STAR_20160902_056_SKYA.created_20210408_112408.almB_lv10_5wl_360_xfit_more_complete.output -> 4STAR ORACLES_2016_5wl_360_xfit_more_complete 20160902_056_SKYA.created__112408.almB_lv10_5wl_360_xfit_more_complete 2021-04-08 16:00:26.862068 20210408 4STAR_20160902_056_SKYA.created_20210408_112408.almB_lv10_5wl_360_xfit_more_complete\n",
      "4STAR_20160920_069_SKYA.created_20210408_113516.almA_lv10_5wl_360_xfit_more_complete.input -> 4STAR ORACLES_2016_5wl_360_xfit_more_complete 20160920_069_SKYA.created__113516.almA_lv10_5wl_360_xfit_more_complete 2021-04-08 16:00:26.950070 20210408 4STAR_20160920_069_SKYA.created_20210408_113516.almA_lv10_5wl_360_xfit_more_complete\n",
      "4STAR_20160902_047_SKYP.created_20210408_112319.ppl_lv15_5wl_360_xfit_more_complete.output -> 4STAR ORACLES_2016_5wl_360_xfit_more_complete 20160902_047_SKYP.created__112319.ppl_lv15_5wl_360_xfit_more_complete 2021-04-08 16:00:26.854068 20210408 4STAR_20160902_047_SKYP.created_20210408_112319.ppl_lv15_5wl_360_xfit_more_complete\n",
      "4STAR_20160912_025_SKYP.created_20210408_112740.ppl_lv15_5wl_360_xfit_more_complete.output -> 4STAR ORACLES_2016_5wl_360_xfit_more_complete 20160912_025_SKYP.created__112740.ppl_lv15_5wl_360_xfit_more_complete 2021-04-08 16:00:26.878068 20210408 4STAR_20160912_025_SKYP.created_20210408_112740.ppl_lv15_5wl_360_xfit_more_complete\n",
      "4STAR_20160920_155_SKYA.created_20210408_113900.almA_lv10_5wl_360_xfit_more_complete.output -> 4STAR ORACLES_2016_5wl_360_xfit_more_complete 20160920_155_SKYA.created__113900.almA_lv10_5wl_360_xfit_more_complete 2021-04-08 16:00:26.982071 20210408 4STAR_20160920_155_SKYA.created_20210408_113900.almA_lv10_5wl_360_xfit_more_complete\n",
      "4STAR_20160902_072_SKYA.created_20210408_112500.avg_lv20_5wl_360_xfit_more_complete.mat -> 4STAR ORACLES_2016_5wl_360_xfit_more_complete 20160902_072_SKYA.created__112500.avg_lv20_5wl_360_xfit_more_complete 2021-04-08 16:00:26.874068 20210408 4STAR_20160902_072_SKYA.created_20210408_112500.avg_lv20_5wl_360_xfit_more_complete\n",
      "4STAR_20160902_035_SKYP.created_20210408_112211.ppl_lv15_5wl_360_xfit_more_complete.output -> 4STAR ORACLES_2016_5wl_360_xfit_more_complete 20160902_035_SKYP.created__112211.ppl_lv15_5wl_360_xfit_more_complete 2021-04-08 16:00:26.842067 20210408 4STAR_20160902_035_SKYP.created_20210408_112211.ppl_lv15_5wl_360_xfit_more_complete\n",
      "4STAR_20160920_019_SKYA.created_20210408_113119.avg_lv15_5wl_360_xfit_more_complete.output -> 4STAR ORACLES_2016_5wl_360_xfit_more_complete 20160920_019_SKYA.created__113119.avg_lv15_5wl_360_xfit_more_complete 2021-04-08 16:00:26.910069 20210408 4STAR_20160920_019_SKYA.created_20210408_113119.avg_lv15_5wl_360_xfit_more_complete\n",
      "4STAR_20160920_152_SKYP.created_20210408_113844.ppl_lv20_5wl_360_xfit_more_complete.mat -> 4STAR ORACLES_2016_5wl_360_xfit_more_complete 20160920_152_SKYP.created__113844.ppl_lv20_5wl_360_xfit_more_complete 2021-04-08 16:00:26.978070 20210408 4STAR_20160920_152_SKYP.created_20210408_113844.ppl_lv20_5wl_360_xfit_more_complete\n",
      "4STAR_20160920_042_SKYA.created_20210408_113320.avg_lv10_5wl_360_xfit_more_complete.input -> 4STAR ORACLES_2016_5wl_360_xfit_more_complete 20160920_042_SKYA.created__113320.avg_lv10_5wl_360_xfit_more_complete 2021-04-08 16:00:26.930069 20210408 4STAR_20160920_042_SKYA.created_20210408_113320.avg_lv10_5wl_360_xfit_more_complete\n",
      "4STAR_20160902_026_SKYA.created_20210408_112047.avg_lv15_5wl_360_xfit_more_complete.mat -> 4STAR ORACLES_2016_5wl_360_xfit_more_complete 20160902_026_SKYA.created__112047.avg_lv15_5wl_360_xfit_more_complete 2021-04-08 16:00:26.830067 20210408 4STAR_20160902_026_SKYA.created_20210408_112047.avg_lv15_5wl_360_xfit_more_complete\n",
      "4STAR_20160920_036_SKYA.created_20210408_113247.avg_lv10_5wl_360_xfit_more_complete.input -> 4STAR ORACLES_2016_5wl_360_xfit_more_complete 20160920_036_SKYA.created__113247.avg_lv10_5wl_360_xfit_more_complete 2021-04-08 16:00:26.926069 20210408 4STAR_20160920_036_SKYA.created_20210408_113247.avg_lv10_5wl_360_xfit_more_complete\n",
      "4STAR_20160920_200_SKYA.created_20210408_114042.avg_lv15_5wl_360_xfit_more_complete.output -> 4STAR ORACLES_2016_5wl_360_xfit_more_complete 20160920_200_SKYA.created__114042.avg_lv15_5wl_360_xfit_more_complete 2021-04-08 16:00:26.994071 20210408 4STAR_20160920_200_SKYA.created_20210408_114042.avg_lv15_5wl_360_xfit_more_complete\n",
      "4STAR_20160920_185_SKYA.created_20210408_114024.almA_lv20_5wl_360_xfit_more_complete.mat -> 4STAR ORACLES_2016_5wl_360_xfit_more_complete 20160920_185_SKYA.created__114024.almA_lv20_5wl_360_xfit_more_complete 2021-04-08 16:00:26.986071 20210408 4STAR_20160920_185_SKYA.created_20210408_114024.almA_lv20_5wl_360_xfit_more_complete\n",
      "4STAR_20160912_076_SKYA.created_20210408_113007.almB_lv15_5wl_360_xfit_more_complete.mat -> 4STAR ORACLES_2016_5wl_360_xfit_more_complete 20160912_076_SKYA.created__113007.almB_lv15_5wl_360_xfit_more_complete 2021-04-08 16:00:26.898069 20210408 4STAR_20160912_076_SKYA.created_20210408_113007.almB_lv15_5wl_360_xfit_more_complete\n",
      "4STAR_20160902_023_SKYP.created_20210408_112031.ppl_lv20_5wl_360_xfit_more_complete.mat -> 4STAR ORACLES_2016_5wl_360_xfit_more_complete 20160902_023_SKYP.created__112031.ppl_lv20_5wl_360_xfit_more_complete 2021-04-08 16:00:26.826067 20210408 4STAR_20160902_023_SKYP.created_20210408_112031.ppl_lv20_5wl_360_xfit_more_complete\n",
      "4STAR_20160920_143_SKYA.created_20210408_113810.almA_lv20_5wl_360_xfit_more_complete.mat -> 4STAR ORACLES_2016_5wl_360_xfit_more_complete 20160920_143_SKYA.created__113810.almA_lv20_5wl_360_xfit_more_complete 2021-04-08 16:00:26.974071 20210408 4STAR_20160920_143_SKYA.created_20210408_113810.almA_lv20_5wl_360_xfit_more_complete\n",
      "4STAR_20160912_077_SKYP.created_20210408_113026.ppl_lv15_5wl_360_xfit_more_complete.mat -> 4STAR ORACLES_2016_5wl_360_xfit_more_complete 20160912_077_SKYP.created__113026.ppl_lv15_5wl_360_xfit_more_complete 2021-04-08 16:00:26.902069 20210408 4STAR_20160912_077_SKYP.created_20210408_113026.ppl_lv15_5wl_360_xfit_more_complete\n",
      "4STAR_20160902_056_SKYA.created_20210408_112408.almA_lv10_5wl_360_xfit_more_complete.output -> 4STAR ORACLES_2016_5wl_360_xfit_more_complete 20160902_056_SKYA.created__112408.almA_lv10_5wl_360_xfit_more_complete 2021-04-08 16:00:26.858068 20210408 4STAR_20160902_056_SKYA.created_20210408_112408.almA_lv10_5wl_360_xfit_more_complete\n",
      "4STAR_20160902_034_SKYA.created_20210408_112153.almA_lv10_5wl_360_xfit_more_complete.output -> 4STAR ORACLES_2016_5wl_360_xfit_more_complete 20160902_034_SKYA.created__112153.almA_lv10_5wl_360_xfit_more_complete 2021-04-08 16:00:26.838067 20210408 4STAR_20160902_034_SKYA.created_20210408_112153.almA_lv10_5wl_360_xfit_more_complete\n",
      "4STAR_20160902_042_SKYA.created_20210408_112231.avg_lv10_5wl_360_xfit_more_complete.input -> 4STAR ORACLES_2016_5wl_360_xfit_more_complete 20160902_042_SKYA.created__112231.avg_lv10_5wl_360_xfit_more_complete 2021-04-08 16:00:26.846067 20210408 4STAR_20160902_042_SKYA.created_20210408_112231.avg_lv10_5wl_360_xfit_more_complete\n",
      "4STAR_20160920_030_SKYA.created_20210408_113212.almA_lv20_5wl_360_xfit_more_complete.mat -> 4STAR ORACLES_2016_5wl_360_xfit_more_complete 20160920_030_SKYA.created__113212.almA_lv20_5wl_360_xfit_more_complete 2021-04-08 16:00:26.918069 20210408 4STAR_20160920_030_SKYA.created_20210408_113212.almA_lv20_5wl_360_xfit_more_complete\n",
      "4STAR_20160902_030_SKYA.created_20210408_112119.almA_lv15_5wl_360_xfit_more_complete.output -> 4STAR ORACLES_2016_5wl_360_xfit_more_complete 20160902_030_SKYA.created__112119.almA_lv15_5wl_360_xfit_more_complete 2021-04-08 16:00:26.834067 20210408 4STAR_20160902_030_SKYA.created_20210408_112119.almA_lv15_5wl_360_xfit_more_complete\n",
      "4STAR_20160920_019_SKYA.created_20210408_113119.almB_lv15_5wl_360_xfit_more_complete.mat -> 4STAR ORACLES_2016_5wl_360_xfit_more_complete 20160920_019_SKYA.created__113119.almB_lv15_5wl_360_xfit_more_complete 2021-04-08 16:00:26.906069 20210408 4STAR_20160920_019_SKYA.created_20210408_113119.almB_lv15_5wl_360_xfit_more_complete\n",
      "4STAR_20160920_036_SKYA.created_20210408_113247.almA_lv10_5wl_360_xfit_more_complete.output -> 4STAR ORACLES_2016_5wl_360_xfit_more_complete 20160920_036_SKYA.created__113247.almA_lv10_5wl_360_xfit_more_complete 2021-04-08 16:00:26.922069 20210408 4STAR_20160920_036_SKYA.created_20210408_113247.almA_lv10_5wl_360_xfit_more_complete\n",
      "4STAR_20160902_072_SKYA.created_20210408_112500.almB_lv10_5wl_360_xfit_more_complete.input -> 4STAR ORACLES_2016_5wl_360_xfit_more_complete 20160902_072_SKYA.created__112500.almB_lv10_5wl_360_xfit_more_complete 2021-04-08 16:00:26.870068 20210408 4STAR_20160902_072_SKYA.created_20210408_112500.almB_lv10_5wl_360_xfit_more_complete\n"
     ]
    },
    {
     "name": "stdout",
     "output_type": "stream",
     "text": [
      "4STAR_20160902_042_SKYA.created_20210408_112231.avg_lv20_5wl_360_xfit_more_complete.mat -> 4STAR ORACLES_2016_5wl_360_xfit_more_complete 20160902_042_SKYA.created__112231.avg_lv20_5wl_360_xfit_more_complete 2021-04-08 16:00:26.850068 20210408 4STAR_20160902_042_SKYA.created_20210408_112231.avg_lv20_5wl_360_xfit_more_complete\n",
      "4STAR_20160902_026_SKYA.created_20210408_112047.avg_lv15_5wl_360_xfit_more_complete.input -> 4STAR ORACLES_2016_5wl_360_xfit_more_complete 20160902_026_SKYA.created__112047.avg_lv15_5wl_360_xfit_more_complete 2021-04-08 16:00:26.830067 20210408 4STAR_20160902_026_SKYA.created_20210408_112047.avg_lv15_5wl_360_xfit_more_complete\n",
      "4STAR_20160912_072_SKYA.created_20210408_112933.almB_lv15_5wl_360_xfit_more_complete.input -> 4STAR ORACLES_2016_5wl_360_xfit_more_complete 20160912_072_SKYA.created__112933.almB_lv15_5wl_360_xfit_more_complete 2021-04-08 16:00:26.894068 20210408 4STAR_20160912_072_SKYA.created_20210408_112933.almB_lv15_5wl_360_xfit_more_complete\n",
      "4STAR_20160902_046_SKYA.created_20210408_112302.avg_lv20_5wl_360_xfit_more_complete.mat -> 4STAR ORACLES_2016_5wl_360_xfit_more_complete 20160902_046_SKYA.created__112302.avg_lv20_5wl_360_xfit_more_complete 2021-04-08 16:00:26.854068 20210408 4STAR_20160902_046_SKYA.created_20210408_112302.avg_lv20_5wl_360_xfit_more_complete\n",
      "4STAR_20160920_019_SKYA.created_20210408_113119.almA_lv15_5wl_360_xfit_more_complete.mat -> 4STAR ORACLES_2016_5wl_360_xfit_more_complete 20160920_019_SKYA.created__113119.almA_lv15_5wl_360_xfit_more_complete 2021-04-08 16:00:26.906069 20210408 4STAR_20160920_019_SKYA.created_20210408_113119.almA_lv15_5wl_360_xfit_more_complete\n",
      "4STAR_20160920_185_SKYA.created_20210408_114024.almA_lv10_5wl_360_xfit_more_complete.output -> 4STAR ORACLES_2016_5wl_360_xfit_more_complete 20160920_185_SKYA.created__114024.almA_lv10_5wl_360_xfit_more_complete 2021-04-08 16:00:26.986071 20210408 4STAR_20160920_185_SKYA.created_20210408_114024.almA_lv10_5wl_360_xfit_more_complete\n",
      "4STAR_20160920_179_SKYP.created_20210408_113950.ppl_lv15_5wl_360_xfit_more_complete.input -> 4STAR ORACLES_2016_5wl_360_xfit_more_complete 20160920_179_SKYP.created__113950.ppl_lv15_5wl_360_xfit_more_complete 2021-04-08 16:00:26.982071 20210408 4STAR_20160920_179_SKYP.created_20210408_113950.ppl_lv15_5wl_360_xfit_more_complete\n",
      "4STAR_20160920_059_SKYA.created_20210408_113411.almA_lv20_5wl_360_xfit_more_complete.mat -> 4STAR ORACLES_2016_5wl_360_xfit_more_complete 20160920_059_SKYA.created__113411.almA_lv20_5wl_360_xfit_more_complete 2021-04-08 16:00:26.938070 20210408 4STAR_20160920_059_SKYA.created_20210408_113411.almA_lv20_5wl_360_xfit_more_complete\n",
      "4STAR_20160920_170_SKYP.created_20210408_113933.ppl_lv15_5wl_360_xfit_more_complete.output -> 4STAR ORACLES_2016_5wl_360_xfit_more_complete 20160920_170_SKYP.created__113933.ppl_lv15_5wl_360_xfit_more_complete 2021-04-08 16:00:26.982071 20210408 4STAR_20160920_170_SKYP.created_20210408_113933.ppl_lv15_5wl_360_xfit_more_complete\n",
      "4STAR_20160902_093_SKYP.created_20210408_112552.ppl_lv15_5wl_360_xfit_more_complete.input -> 4STAR ORACLES_2016_5wl_360_xfit_more_complete 20160902_093_SKYP.created__112552.ppl_lv15_5wl_360_xfit_more_complete 2021-04-08 16:00:26.878068 20210408 4STAR_20160902_093_SKYP.created_20210408_112552.ppl_lv15_5wl_360_xfit_more_complete\n",
      "4STAR_20160920_039_SKYP.created_20210408_113304.ppl_lv20_5wl_360_xfit_more_complete.mat -> 4STAR ORACLES_2016_5wl_360_xfit_more_complete 20160920_039_SKYP.created__113304.ppl_lv20_5wl_360_xfit_more_complete 2021-04-08 16:00:26.926069 20210408 4STAR_20160920_039_SKYP.created_20210408_113304.ppl_lv20_5wl_360_xfit_more_complete\n",
      "4STAR_20160902_042_SKYA.created_20210408_112231.avg_lv10_5wl_360_xfit_more_complete.output -> 4STAR ORACLES_2016_5wl_360_xfit_more_complete 20160902_042_SKYA.created__112231.avg_lv10_5wl_360_xfit_more_complete 2021-04-08 16:00:26.850068 20210408 4STAR_20160902_042_SKYA.created_20210408_112231.avg_lv10_5wl_360_xfit_more_complete\n",
      "4STAR_20160920_200_SKYA.created_20210408_114042.avg_lv15_5wl_360_xfit_more_complete.mat -> 4STAR ORACLES_2016_5wl_360_xfit_more_complete 20160920_200_SKYA.created__114042.avg_lv15_5wl_360_xfit_more_complete 2021-04-08 16:00:26.990071 20210408 4STAR_20160920_200_SKYA.created_20210408_114042.avg_lv15_5wl_360_xfit_more_complete\n",
      "4STAR_20160902_043_SKYP.created_20210408_112247.ppl_lv20_5wl_360_xfit_more_complete.mat -> 4STAR ORACLES_2016_5wl_360_xfit_more_complete 20160902_043_SKYP.created__112247.ppl_lv20_5wl_360_xfit_more_complete 2021-04-08 16:00:26.850068 20210408 4STAR_20160902_043_SKYP.created_20210408_112247.ppl_lv20_5wl_360_xfit_more_complete\n",
      "4STAR_20160912_076_SKYA.created_20210408_113007.almA_lv15_5wl_360_xfit_more_complete.input -> 4STAR ORACLES_2016_5wl_360_xfit_more_complete 20160912_076_SKYA.created__113007.almA_lv15_5wl_360_xfit_more_complete 2021-04-08 16:00:26.898069 20210408 4STAR_20160912_076_SKYA.created_20210408_113007.almA_lv15_5wl_360_xfit_more_complete\n",
      "4STAR_20160912_076_SKYA.created_20210408_113007.almA_lv15_5wl_360_xfit_more_complete.mat -> 4STAR ORACLES_2016_5wl_360_xfit_more_complete 20160912_076_SKYA.created__113007.almA_lv15_5wl_360_xfit_more_complete 2021-04-08 16:00:26.898069 20210408 4STAR_20160912_076_SKYA.created_20210408_113007.almA_lv15_5wl_360_xfit_more_complete\n",
      "4STAR_20160902_026_SKYA.created_20210408_112047.almB_lv15_5wl_360_xfit_more_complete.mat -> 4STAR ORACLES_2016_5wl_360_xfit_more_complete 20160902_026_SKYA.created__112047.almB_lv15_5wl_360_xfit_more_complete 2021-04-08 16:00:26.830067 20210408 4STAR_20160902_026_SKYA.created_20210408_112047.almB_lv15_5wl_360_xfit_more_complete\n",
      "4STAR_20160912_072_SKYA.created_20210408_112933.almA_lv15_5wl_360_xfit_more_complete.input -> 4STAR ORACLES_2016_5wl_360_xfit_more_complete 20160912_072_SKYA.created__112933.almA_lv15_5wl_360_xfit_more_complete 2021-04-08 16:00:26.890069 20210408 4STAR_20160912_072_SKYA.created_20210408_112933.almA_lv15_5wl_360_xfit_more_complete\n",
      "4STAR_20160920_026_SKYA.created_20210408_113137.avg_lv20_5wl_360_xfit_more_complete.mat -> 4STAR ORACLES_2016_5wl_360_xfit_more_complete 20160920_026_SKYA.created__113137.avg_lv20_5wl_360_xfit_more_complete 2021-04-08 16:00:26.914069 20210408 4STAR_20160920_026_SKYA.created_20210408_113137.avg_lv20_5wl_360_xfit_more_complete\n",
      "4STAR_20160920_086_SKYP.created_20210408_113604.ppl_lv15_5wl_360_xfit_more_complete.input -> 4STAR ORACLES_2016_5wl_360_xfit_more_complete 20160920_086_SKYP.created__113604.ppl_lv15_5wl_360_xfit_more_complete 2021-04-08 16:00:26.958070 20210408 4STAR_20160920_086_SKYP.created_20210408_113604.ppl_lv15_5wl_360_xfit_more_complete\n",
      "4STAR_20160902_072_SKYA.created_20210408_112500.avg_lv10_5wl_360_xfit_more_complete.output -> 4STAR ORACLES_2016_5wl_360_xfit_more_complete 20160902_072_SKYA.created__112500.avg_lv10_5wl_360_xfit_more_complete 2021-04-08 16:00:26.874068 20210408 4STAR_20160902_072_SKYA.created_20210408_112500.avg_lv10_5wl_360_xfit_more_complete\n",
      "4STAR_20160920_033_SKYP.created_20210408_113230.ppl_lv15_5wl_360_xfit_more_complete.input -> 4STAR ORACLES_2016_5wl_360_xfit_more_complete 20160920_033_SKYP.created__113230.ppl_lv15_5wl_360_xfit_more_complete 2021-04-08 16:00:26.922069 20210408 4STAR_20160920_033_SKYP.created_20210408_113230.ppl_lv15_5wl_360_xfit_more_complete\n",
      "4STAR_20160902_018_SKYA.created_20210408_111937.avg_lv15_5wl_360_xfit_more_complete.input -> 4STAR ORACLES_2016_5wl_360_xfit_more_complete 20160902_018_SKYA.created__111937.avg_lv15_5wl_360_xfit_more_complete 2021-04-08 16:00:26.818067 20210408 4STAR_20160902_018_SKYA.created_20210408_111937.avg_lv15_5wl_360_xfit_more_complete\n",
      "4STAR_20160902_042_SKYA.created_20210408_112231.almA_lv20_5wl_360_xfit_more_complete.mat -> 4STAR ORACLES_2016_5wl_360_xfit_more_complete 20160902_042_SKYA.created__112231.almA_lv20_5wl_360_xfit_more_complete 2021-04-08 16:00:26.846067 20210408 4STAR_20160902_042_SKYA.created_20210408_112231.almA_lv20_5wl_360_xfit_more_complete\n",
      "4STAR_20160912_076_SKYA.created_20210408_113007.almA_lv15_5wl_360_xfit_more_complete.output -> 4STAR ORACLES_2016_5wl_360_xfit_more_complete 20160912_076_SKYA.created__113007.almA_lv15_5wl_360_xfit_more_complete 2021-04-08 16:00:26.898069 20210408 4STAR_20160912_076_SKYA.created_20210408_113007.almA_lv15_5wl_360_xfit_more_complete\n",
      "4STAR_20160920_056_SKYP.created_20210408_113354.ppl_lv15_5wl_360_xfit_more_complete.input -> 4STAR ORACLES_2016_5wl_360_xfit_more_complete 20160920_056_SKYP.created__113354.ppl_lv15_5wl_360_xfit_more_complete 2021-04-08 16:00:26.938070 20210408 4STAR_20160920_056_SKYP.created_20210408_113354.ppl_lv15_5wl_360_xfit_more_complete\n",
      "4STAR_20160912_028_SKYA.created_20210408_112756.almA_lv10_5wl_360_xfit_more_complete.output -> 4STAR ORACLES_2016_5wl_360_xfit_more_complete 20160912_028_SKYA.created__112756.almA_lv10_5wl_360_xfit_more_complete 2021-04-08 16:00:26.882068 20210408 4STAR_20160912_028_SKYA.created_20210408_112756.almA_lv10_5wl_360_xfit_more_complete\n",
      "4STAR_20160920_053_SKYA.created_20210408_113338.almA_lv10_5wl_360_xfit_more_complete.output -> 4STAR ORACLES_2016_5wl_360_xfit_more_complete 20160920_053_SKYA.created__113338.almA_lv10_5wl_360_xfit_more_complete 2021-04-08 16:00:26.934069 20210408 4STAR_20160920_053_SKYA.created_20210408_113338.almA_lv10_5wl_360_xfit_more_complete\n",
      "4STAR_20160920_042_SKYA.created_20210408_113320.almA_lv20_5wl_360_xfit_more_complete.mat -> 4STAR ORACLES_2016_5wl_360_xfit_more_complete 20160920_042_SKYA.created__113320.almA_lv20_5wl_360_xfit_more_complete 2021-04-08 16:00:26.930069 20210408 4STAR_20160920_042_SKYA.created_20210408_113320.almA_lv20_5wl_360_xfit_more_complete\n",
      "4STAR_20160920_200_SKYA.created_20210408_114042.almB_lv15_5wl_360_xfit_more_complete.output -> 4STAR ORACLES_2016_5wl_360_xfit_more_complete 20160920_200_SKYA.created__114042.almB_lv15_5wl_360_xfit_more_complete 2021-04-08 16:00:26.990071 20210408 4STAR_20160920_200_SKYA.created_20210408_114042.almB_lv15_5wl_360_xfit_more_complete\n",
      "4STAR_20160920_053_SKYA.created_20210408_113338.avg_lv10_5wl_360_xfit_more_complete.output -> 4STAR ORACLES_2016_5wl_360_xfit_more_complete 20160920_053_SKYA.created__113338.avg_lv10_5wl_360_xfit_more_complete 2021-04-08 16:00:26.938070 20210408 4STAR_20160920_053_SKYA.created_20210408_113338.avg_lv10_5wl_360_xfit_more_complete\n",
      "4STAR_20160920_030_SKYA.created_20210408_113212.avg_lv10_5wl_360_xfit_more_complete.input -> 4STAR ORACLES_2016_5wl_360_xfit_more_complete 20160920_030_SKYA.created__113212.avg_lv10_5wl_360_xfit_more_complete 2021-04-08 16:00:26.918069 20210408 4STAR_20160920_030_SKYA.created_20210408_113212.avg_lv10_5wl_360_xfit_more_complete\n",
      "4STAR_20160902_018_SKYA.created_20210408_111937.almB_lv15_5wl_360_xfit_more_complete.output -> 4STAR ORACLES_2016_5wl_360_xfit_more_complete 20160902_018_SKYA.created__111937.almB_lv15_5wl_360_xfit_more_complete 2021-04-08 16:00:26.818067 20210408 4STAR_20160902_018_SKYA.created_20210408_111937.almB_lv15_5wl_360_xfit_more_complete\n",
      "4STAR_20160902_026_SKYA.created_20210408_112047.almA_lv15_5wl_360_xfit_more_complete.output -> 4STAR ORACLES_2016_5wl_360_xfit_more_complete 20160902_026_SKYA.created__112047.almA_lv15_5wl_360_xfit_more_complete 2021-04-08 16:00:26.826067 20210408 4STAR_20160902_026_SKYA.created_20210408_112047.almA_lv15_5wl_360_xfit_more_complete\n",
      "4STAR_20160902_018_SKYA.created_20210408_111937.almB_lv15_5wl_360_xfit_more_complete.mat -> 4STAR ORACLES_2016_5wl_360_xfit_more_complete 20160902_018_SKYA.created__111937.almB_lv15_5wl_360_xfit_more_complete 2021-04-08 16:00:26.818067 20210408 4STAR_20160902_018_SKYA.created_20210408_111937.almB_lv15_5wl_360_xfit_more_complete\n",
      "20210414_4STARB_AmesRoof -> 4STARB AmesRoof None 2021-04-14 00:00:00 20210414 20210414_4STARB_AmesRoof\n",
      "4STARB_20210414_001_NIR_SUN.dat -> 4STARB AmesRoof 001_NIR_SUN 2021-04-14 00:00:00 20210414 4STARB_20210414_001_NIR_SUN\n",
      "4STARB_20210414_001_VIS_SUN.dat -> 4STARB AmesRoof 001_VIS_SUN 2021-04-14 00:00:00 20210414 4STARB_20210414_001_VIS_SUN\n",
      "4STARB_20210414_002_TRACK.dat -> 4STARB AmesRoof 002_TRACK 2021-04-14 00:00:00 20210414 4STARB_20210414_002_TRACK\n",
      "4STAR_ORACLES_2016_5wl_380_xfit_more_complete -> 4STAR ORACLES_2016_5wl_380_xfit_more_complete None 2021-04-15 11:27:07.380025 20210415 4STAR_ORACLES_2016_5wl_380_xfit_more_complete\n"
     ]
    }
   ],
   "source": [
    "filters = get_filters_from_json(in_directory)\n",
    "fl_arr = recurse_through_dir(in_directory,verbose=verbose,filters=filters)"
   ]
  },
  {
   "cell_type": "code",
   "execution_count": 59,
   "metadata": {
    "ExecuteTime": {
     "end_time": "2021-03-31T21:24:02.155847Z",
     "start_time": "2021-03-31T21:24:02.091627Z"
    }
   },
   "outputs": [
    {
     "name": "stdout",
     "output_type": "stream",
     "text": [
      "*DRY RUN*: +Creating new path: /data/sunsat/rooftop/Winter_2021/data_raw/5STAR_20210223_CH9_without_trim\n",
      "*DRY RUN*: ~Moving file from /data/sunsat/_incoming_gdrive/5STARG_20210223_160552_RADIOMETERS_CH9_without_trim.dat\n",
      "   to new path: /data/sunsat/rooftop/Winter_2021/data_raw/5STAR_20210223_CH9_without_trim/5STARG_20210223_160552_RADIOMETERS_CH9_without_trim.dat\n",
      "*DRY RUN*: +Creating new path: /data/sunsat/rooftop/Winter_2021/data_raw/5STAR_20210301_NIRResistor\n",
      "*DRY RUN*: ~Moving file from /data/sunsat/_incoming_gdrive/5STARG_20210301_190356_RADIOMETERS_NIRResistor.dat\n",
      "   to new path: /data/sunsat/rooftop/Winter_2021/data_raw/5STAR_20210301_NIRResistor/5STARG_20210301_190356_RADIOMETERS_NIRResistor.dat\n",
      "*DRY RUN*: +Creating new path: /data/sunsat/rooftop/Spring_2021/notes/20210330_4STARsisters_AmesRoof_EastBayFire\n",
      "*DRY RUN*: ~Moving file from /data/sunsat/_incoming_gdrive/20210330_4STARsisters_AmesRoof_EastBayFire/20210330_fire3.jpg\n",
      "   to new path: /data/sunsat/rooftop/Spring_2021/notes/20210330_4STARsisters_AmesRoof_EastBayFire/20210330_fire3.jpg\n",
      "*DRY RUN*: +Creating new path: /data/sunsat/rooftop/Spring_2021/data_raw/4STAR_20210330_4STARsisters_AmesRoof_EastBayFire\n",
      "*DRY RUN*: ~Moving file from /data/sunsat/_incoming_gdrive/20210330_4STARsisters_AmesRoof_EastBayFire/20210330_4STARA/4STAR_20210330_005_TRACK.dat\n",
      "   to new path: /data/sunsat/rooftop/Spring_2021/data_raw/4STAR_20210330_4STARsisters_AmesRoof_EastBayFire/4STAR_20210330_005_TRACK.dat\n",
      "*DRY RUN*: +Creating new path: /data/sunsat/rooftop/Spring_2021/data_raw/4STAR_20210330_4STARsisters_AmesRoof_EastBayFire\n",
      "*DRY RUN*: ~Moving file from /data/sunsat/_incoming_gdrive/20210330_4STARsisters_AmesRoof_EastBayFire/20210330_4STARA/4STAR_20210330_004_VIS_SKYA.dat\n",
      "   to new path: /data/sunsat/rooftop/Spring_2021/data_raw/4STAR_20210330_4STARsisters_AmesRoof_EastBayFire/4STAR_20210330_004_VIS_SKYA.dat\n",
      "*DRY RUN*: +Creating new path: /data/sunsat/rooftop/Spring_2021/data_raw/4STAR_20210330_4STARsisters_AmesRoof_EastBayFire\n",
      "*DRY RUN*: ~Moving file from /data/sunsat/_incoming_gdrive/20210330_4STARsisters_AmesRoof_EastBayFire/20210330_4STARA/4STAR_20210330_007_VIS_SKYP.dat\n",
      "   to new path: /data/sunsat/rooftop/Spring_2021/data_raw/4STAR_20210330_4STARsisters_AmesRoof_EastBayFire/4STAR_20210330_007_VIS_SKYP.dat\n",
      "*DRY RUN*: +Creating new path: /data/sunsat/rooftop/Spring_2021/data_raw/4STAR_20210330_4STARsisters_AmesRoof_EastBayFire\n",
      "*DRY RUN*: ~Moving file from /data/sunsat/_incoming_gdrive/20210330_4STARsisters_AmesRoof_EastBayFire/20210330_4STARA/4STAR_20210330_011_NIR_SKYP.dat\n",
      "   to new path: /data/sunsat/rooftop/Spring_2021/data_raw/4STAR_20210330_4STARsisters_AmesRoof_EastBayFire/4STAR_20210330_011_NIR_SKYP.dat\n",
      "*DRY RUN*: +Creating new path: /data/sunsat/rooftop/Spring_2021/data_raw/4STAR_20210330_4STARsisters_AmesRoof_EastBayFire\n",
      "*DRY RUN*: ~Moving file from /data/sunsat/_incoming_gdrive/20210330_4STARsisters_AmesRoof_EastBayFire/20210330_4STARA/4STAR_20210330_018_NIR_SUN.dat\n",
      "   to new path: /data/sunsat/rooftop/Spring_2021/data_raw/4STAR_20210330_4STARsisters_AmesRoof_EastBayFire/4STAR_20210330_018_NIR_SUN.dat\n",
      "*DRY RUN*: +Creating new path: /data/sunsat/rooftop/Spring_2021/data_raw/4STAR_20210330_4STARsisters_AmesRoof_EastBayFire\n",
      "*DRY RUN*: ~Moving file from /data/sunsat/_incoming_gdrive/20210330_4STARsisters_AmesRoof_EastBayFire/20210330_4STARA/4STAR_20210330_020_NIR_SKYA.dat\n",
      "   to new path: /data/sunsat/rooftop/Spring_2021/data_raw/4STAR_20210330_4STARsisters_AmesRoof_EastBayFire/4STAR_20210330_020_NIR_SKYA.dat\n",
      "*DRY RUN*: +Creating new path: /data/sunsat/rooftop/Spring_2021/data_raw/4STAR_20210330_4STARsisters_AmesRoof_EastBayFire\n",
      "*DRY RUN*: ~Moving file from /data/sunsat/_incoming_gdrive/20210330_4STARsisters_AmesRoof_EastBayFire/20210330_4STARA/4STAR_20210330_018_VIS_SUN.dat\n",
      "   to new path: /data/sunsat/rooftop/Spring_2021/data_raw/4STAR_20210330_4STARsisters_AmesRoof_EastBayFire/4STAR_20210330_018_VIS_SUN.dat\n",
      "*DRY RUN*: +Creating new path: /data/sunsat/rooftop/Spring_2021/data_raw/4STAR_20210330_4STARsisters_AmesRoof_EastBayFire\n",
      "*DRY RUN*: ~Moving file from /data/sunsat/_incoming_gdrive/20210330_4STARsisters_AmesRoof_EastBayFire/20210330_4STARA/4STAR_20210330_004_NIR_SKYA.dat\n",
      "   to new path: /data/sunsat/rooftop/Spring_2021/data_raw/4STAR_20210330_4STARsisters_AmesRoof_EastBayFire/4STAR_20210330_004_NIR_SKYA.dat\n",
      "*DRY RUN*: +Creating new path: /data/sunsat/rooftop/Spring_2021/data_raw/4STAR_20210330_4STARsisters_AmesRoof_EastBayFire\n",
      "*DRY RUN*: ~Moving file from /data/sunsat/_incoming_gdrive/20210330_4STARsisters_AmesRoof_EastBayFire/20210330_4STARA/4STAR_20210330_019_VIS_SKYP.dat\n",
      "   to new path: /data/sunsat/rooftop/Spring_2021/data_raw/4STAR_20210330_4STARsisters_AmesRoof_EastBayFire/4STAR_20210330_019_VIS_SKYP.dat\n",
      "*DRY RUN*: +Creating new path: /data/sunsat/rooftop/Spring_2021/data_raw/4STAR_20210330_4STARsisters_AmesRoof_EastBayFire\n",
      "*DRY RUN*: ~Moving file from /data/sunsat/_incoming_gdrive/20210330_4STARsisters_AmesRoof_EastBayFire/20210330_4STARA/4STAR_20210330_021_TRACK.dat\n",
      "   to new path: /data/sunsat/rooftop/Spring_2021/data_raw/4STAR_20210330_4STARsisters_AmesRoof_EastBayFire/4STAR_20210330_021_TRACK.dat\n",
      "*DRY RUN*: +Creating new path: /data/sunsat/rooftop/Spring_2021/data_raw/4STAR_20210330_4STARsisters_AmesRoof_EastBayFire\n",
      "*DRY RUN*: ~Moving file from /data/sunsat/_incoming_gdrive/20210330_4STARsisters_AmesRoof_EastBayFire/20210330_4STARA/4STAR_20210330_026_VIS_SUN.dat\n",
      "   to new path: /data/sunsat/rooftop/Spring_2021/data_raw/4STAR_20210330_4STARsisters_AmesRoof_EastBayFire/4STAR_20210330_026_VIS_SUN.dat\n",
      "*DRY RUN*: +Creating new path: /data/sunsat/rooftop/Spring_2021/data_raw/4STAR_20210330_4STARsisters_AmesRoof_EastBayFire\n",
      "*DRY RUN*: ~Moving file from /data/sunsat/_incoming_gdrive/20210330_4STARsisters_AmesRoof_EastBayFire/20210330_4STARA/4STAR_20210330_028_VIS_SKYA.dat\n",
      "   to new path: /data/sunsat/rooftop/Spring_2021/data_raw/4STAR_20210330_4STARsisters_AmesRoof_EastBayFire/4STAR_20210330_028_VIS_SKYA.dat\n",
      "*DRY RUN*: +Creating new path: /data/sunsat/rooftop/Spring_2021/data_raw/4STAR_20210330_4STARsisters_AmesRoof_EastBayFire\n",
      "*DRY RUN*: ~Moving file from /data/sunsat/_incoming_gdrive/20210330_4STARsisters_AmesRoof_EastBayFire/20210330_4STARA/4STAR_20210330_020_VIS_SKYA.dat\n",
      "   to new path: /data/sunsat/rooftop/Spring_2021/data_raw/4STAR_20210330_4STARsisters_AmesRoof_EastBayFire/4STAR_20210330_020_VIS_SKYA.dat\n",
      "*DRY RUN*: +Creating new path: /data/sunsat/rooftop/Spring_2021/data_raw/4STAR_20210330_4STARsisters_AmesRoof_EastBayFire\n",
      "*DRY RUN*: ~Moving file from /data/sunsat/_incoming_gdrive/20210330_4STARsisters_AmesRoof_EastBayFire/20210330_4STARA/4STAR_20210330_014_VIS_SUN.dat\n",
      "   to new path: /data/sunsat/rooftop/Spring_2021/data_raw/4STAR_20210330_4STARsisters_AmesRoof_EastBayFire/4STAR_20210330_014_VIS_SUN.dat\n",
      "*DRY RUN*: +Creating new path: /data/sunsat/rooftop/Spring_2021/data_raw/4STAR_20210330_4STARsisters_AmesRoof_EastBayFire\n",
      "*DRY RUN*: ~Moving file from /data/sunsat/_incoming_gdrive/20210330_4STARsisters_AmesRoof_EastBayFire/20210330_4STARA/4STAR_20210330_027_NIR_SKYP.dat\n",
      "   to new path: /data/sunsat/rooftop/Spring_2021/data_raw/4STAR_20210330_4STARsisters_AmesRoof_EastBayFire/4STAR_20210330_027_NIR_SKYP.dat\n",
      "*DRY RUN*: +Creating new path: /data/sunsat/rooftop/Spring_2021/data_raw/4STAR_20210330_4STARsisters_AmesRoof_EastBayFire\n",
      "*DRY RUN*: ~Moving file from /data/sunsat/_incoming_gdrive/20210330_4STARsisters_AmesRoof_EastBayFire/20210330_4STARA/4STAR_20210330_010_VIS_SUN.dat\n",
      "   to new path: /data/sunsat/rooftop/Spring_2021/data_raw/4STAR_20210330_4STARsisters_AmesRoof_EastBayFire/4STAR_20210330_010_VIS_SUN.dat\n",
      "*DRY RUN*: +Creating new path: /data/sunsat/rooftop/Spring_2021/data_raw/4STAR_20210330_4STARsisters_AmesRoof_EastBayFire\n",
      "*DRY RUN*: ~Moving file from /data/sunsat/_incoming_gdrive/20210330_4STARsisters_AmesRoof_EastBayFire/20210330_4STARA/4STAR_20210330_030_NIR_SUN.dat\n",
      "   to new path: /data/sunsat/rooftop/Spring_2021/data_raw/4STAR_20210330_4STARsisters_AmesRoof_EastBayFire/4STAR_20210330_030_NIR_SUN.dat\n",
      "*DRY RUN*: +Creating new path: /data/sunsat/rooftop/Spring_2021/data_raw/4STAR_20210330_4STARsisters_AmesRoof_EastBayFire\n",
      "*DRY RUN*: ~Moving file from /data/sunsat/_incoming_gdrive/20210330_4STARsisters_AmesRoof_EastBayFire/20210330_4STARA/4STAR_20210330_010_NIR_SUN.dat\n",
      "   to new path: /data/sunsat/rooftop/Spring_2021/data_raw/4STAR_20210330_4STARsisters_AmesRoof_EastBayFire/4STAR_20210330_010_NIR_SUN.dat\n",
      "*DRY RUN*: +Creating new path: /data/sunsat/rooftop/Spring_2021/data_raw/4STAR_20210330_4STARsisters_AmesRoof_EastBayFire\n",
      "*DRY RUN*: ~Moving file from /data/sunsat/_incoming_gdrive/20210330_4STARsisters_AmesRoof_EastBayFire/20210330_4STARA/4STAR_20210330_023_NIR_SKYP.dat\n",
      "   to new path: /data/sunsat/rooftop/Spring_2021/data_raw/4STAR_20210330_4STARsisters_AmesRoof_EastBayFire/4STAR_20210330_023_NIR_SKYP.dat\n",
      "*DRY RUN*: +Creating new path: /data/sunsat/rooftop/Spring_2021/data_raw/4STAR_20210330_4STARsisters_AmesRoof_EastBayFire\n",
      "*DRY RUN*: ~Moving file from /data/sunsat/_incoming_gdrive/20210330_4STARsisters_AmesRoof_EastBayFire/20210330_4STARA/4STAR_20210330_007_NIR_SKYP.dat\n",
      "   to new path: /data/sunsat/rooftop/Spring_2021/data_raw/4STAR_20210330_4STARsisters_AmesRoof_EastBayFire/4STAR_20210330_007_NIR_SKYP.dat\n",
      "*DRY RUN*: +Creating new path: /data/sunsat/rooftop/Spring_2021/data_raw/4STAR_20210330_4STARsisters_AmesRoof_EastBayFire\n",
      "*DRY RUN*: ~Moving file from /data/sunsat/_incoming_gdrive/20210330_4STARsisters_AmesRoof_EastBayFire/20210330_4STARA/4STAR_20210330_017_TRACK.dat\n",
      "   to new path: /data/sunsat/rooftop/Spring_2021/data_raw/4STAR_20210330_4STARsisters_AmesRoof_EastBayFire/4STAR_20210330_017_TRACK.dat\n",
      "*DRY RUN*: +Creating new path: /data/sunsat/rooftop/Spring_2021/data_raw/4STAR_20210330_4STARsisters_AmesRoof_EastBayFire\n",
      "*DRY RUN*: ~Moving file from /data/sunsat/_incoming_gdrive/20210330_4STARsisters_AmesRoof_EastBayFire/20210330_4STARA/4STAR_20210330_013_TRACK.dat\n",
      "   to new path: /data/sunsat/rooftop/Spring_2021/data_raw/4STAR_20210330_4STARsisters_AmesRoof_EastBayFire/4STAR_20210330_013_TRACK.dat\n",
      "*DRY RUN*: +Creating new path: /data/sunsat/rooftop/Spring_2021/data_raw/4STAR_20210330_4STARsisters_AmesRoof_EastBayFire\n",
      "*DRY RUN*: ~Moving file from /data/sunsat/_incoming_gdrive/20210330_4STARsisters_AmesRoof_EastBayFire/20210330_4STARA/4STAR_20210330_012_VIS_SKYA.dat\n",
      "   to new path: /data/sunsat/rooftop/Spring_2021/data_raw/4STAR_20210330_4STARsisters_AmesRoof_EastBayFire/4STAR_20210330_012_VIS_SKYA.dat\n",
      "*DRY RUN*: +Creating new path: /data/sunsat/rooftop/Spring_2021/data_raw/4STAR_20210330_4STARsisters_AmesRoof_EastBayFire\n",
      "*DRY RUN*: ~Moving file from /data/sunsat/_incoming_gdrive/20210330_4STARsisters_AmesRoof_EastBayFire/20210330_4STARA/4STAR_20210330_016_VIS_SKYA.dat\n",
      "   to new path: /data/sunsat/rooftop/Spring_2021/data_raw/4STAR_20210330_4STARsisters_AmesRoof_EastBayFire/4STAR_20210330_016_VIS_SKYA.dat\n",
      "*DRY RUN*: +Creating new path: /data/sunsat/rooftop/Spring_2021/data_raw/4STAR_20210330_4STARsisters_AmesRoof_EastBayFire\n",
      "*DRY RUN*: ~Moving file from /data/sunsat/_incoming_gdrive/20210330_4STARsisters_AmesRoof_EastBayFire/20210330_4STARA/4STAR_20210330_003_VIS_SKYP.dat\n",
      "   to new path: /data/sunsat/rooftop/Spring_2021/data_raw/4STAR_20210330_4STARsisters_AmesRoof_EastBayFire/4STAR_20210330_003_VIS_SKYP.dat\n",
      "*DRY RUN*: +Creating new path: /data/sunsat/rooftop/Spring_2021/data_raw/4STAR_20210330_4STARsisters_AmesRoof_EastBayFire\n",
      "*DRY RUN*: ~Moving file from /data/sunsat/_incoming_gdrive/20210330_4STARsisters_AmesRoof_EastBayFire/20210330_4STARA/4STAR_20210330_022_NIR_SUN.dat\n",
      "   to new path: /data/sunsat/rooftop/Spring_2021/data_raw/4STAR_20210330_4STARsisters_AmesRoof_EastBayFire/4STAR_20210330_022_NIR_SUN.dat\n",
      "*DRY RUN*: +Creating new path: /data/sunsat/rooftop/Spring_2021/data_raw/4STAR_20210330_4STARsisters_AmesRoof_EastBayFire\n",
      "*DRY RUN*: ~Moving file from /data/sunsat/_incoming_gdrive/20210330_4STARsisters_AmesRoof_EastBayFire/20210330_4STARA/4STAR_20210330_026_NIR_SUN.dat\n",
      "   to new path: /data/sunsat/rooftop/Spring_2021/data_raw/4STAR_20210330_4STARsisters_AmesRoof_EastBayFire/4STAR_20210330_026_NIR_SUN.dat\n",
      "*DRY RUN*: +Creating new path: /data/sunsat/rooftop/Spring_2021/data_raw/4STAR_20210330_4STARsisters_AmesRoof_EastBayFire\n",
      "*DRY RUN*: ~Moving file from /data/sunsat/_incoming_gdrive/20210330_4STARsisters_AmesRoof_EastBayFire/20210330_4STARA/4STAR_20210330_019_NIR_SKYP.dat\n",
      "   to new path: /data/sunsat/rooftop/Spring_2021/data_raw/4STAR_20210330_4STARsisters_AmesRoof_EastBayFire/4STAR_20210330_019_NIR_SKYP.dat\n",
      "*DRY RUN*: +Creating new path: /data/sunsat/rooftop/Spring_2021/data_raw/4STAR_20210330_4STARsisters_AmesRoof_EastBayFire\n",
      "*DRY RUN*: ~Moving file from /data/sunsat/_incoming_gdrive/20210330_4STARsisters_AmesRoof_EastBayFire/20210330_4STARA/4STAR_20210330_023_VIS_SKYP.dat\n",
      "   to new path: /data/sunsat/rooftop/Spring_2021/data_raw/4STAR_20210330_4STARsisters_AmesRoof_EastBayFire/4STAR_20210330_023_VIS_SKYP.dat\n",
      "*DRY RUN*: +Creating new path: /data/sunsat/rooftop/Spring_2021/data_raw/4STAR_20210330_4STARsisters_AmesRoof_EastBayFire\n",
      "*DRY RUN*: ~Moving file from /data/sunsat/_incoming_gdrive/20210330_4STARsisters_AmesRoof_EastBayFire/20210330_4STARA/4STAR_20210330_002_TRACK.dat\n",
      "   to new path: /data/sunsat/rooftop/Spring_2021/data_raw/4STAR_20210330_4STARsisters_AmesRoof_EastBayFire/4STAR_20210330_002_TRACK.dat\n",
      "*DRY RUN*: +Creating new path: /data/sunsat/rooftop/Spring_2021/data_raw/4STAR_20210330_4STARsisters_AmesRoof_EastBayFire\n",
      "*DRY RUN*: ~Moving file from /data/sunsat/_incoming_gdrive/20210330_4STARsisters_AmesRoof_EastBayFire/20210330_4STARA/4STAR_20210330_008_VIS_SKYA.dat\n",
      "   to new path: /data/sunsat/rooftop/Spring_2021/data_raw/4STAR_20210330_4STARsisters_AmesRoof_EastBayFire/4STAR_20210330_008_VIS_SKYA.dat\n",
      "*DRY RUN*: +Creating new path: /data/sunsat/rooftop/Spring_2021/data_raw/4STAR_20210330_4STARsisters_AmesRoof_EastBayFire\n",
      "*DRY RUN*: ~Moving file from /data/sunsat/_incoming_gdrive/20210330_4STARsisters_AmesRoof_EastBayFire/20210330_4STARA/4STAR_20210330_015_NIR_SKYP.dat\n",
      "   to new path: /data/sunsat/rooftop/Spring_2021/data_raw/4STAR_20210330_4STARsisters_AmesRoof_EastBayFire/4STAR_20210330_015_NIR_SKYP.dat\n",
      "*DRY RUN*: +Creating new path: /data/sunsat/rooftop/Spring_2021/data_raw/4STAR_20210330_4STARsisters_AmesRoof_EastBayFire\n",
      "*DRY RUN*: ~Moving file from /data/sunsat/_incoming_gdrive/20210330_4STARsisters_AmesRoof_EastBayFire/20210330_4STARA/4STAR_20210330_030_VIS_SUN.dat\n",
      "   to new path: /data/sunsat/rooftop/Spring_2021/data_raw/4STAR_20210330_4STARsisters_AmesRoof_EastBayFire/4STAR_20210330_030_VIS_SUN.dat\n",
      "*DRY RUN*: +Creating new path: /data/sunsat/rooftop/Spring_2021/data_raw/4STAR_20210330_4STARsisters_AmesRoof_EastBayFire\n",
      "*DRY RUN*: ~Moving file from /data/sunsat/_incoming_gdrive/20210330_4STARsisters_AmesRoof_EastBayFire/20210330_4STARA/4STAR_20210330_027_VIS_SKYP.dat\n",
      "   to new path: /data/sunsat/rooftop/Spring_2021/data_raw/4STAR_20210330_4STARsisters_AmesRoof_EastBayFire/4STAR_20210330_027_VIS_SKYP.dat\n",
      "*DRY RUN*: +Creating new path: /data/sunsat/rooftop/Spring_2021/data_raw/4STAR_20210330_4STARsisters_AmesRoof_EastBayFire\n",
      "*DRY RUN*: ~Moving file from /data/sunsat/_incoming_gdrive/20210330_4STARsisters_AmesRoof_EastBayFire/20210330_4STARA/4STAR_20210330_001_NIR_SUN.dat\n",
      "   to new path: /data/sunsat/rooftop/Spring_2021/data_raw/4STAR_20210330_4STARsisters_AmesRoof_EastBayFire/4STAR_20210330_001_NIR_SUN.dat\n",
      "*DRY RUN*: +Creating new path: /data/sunsat/rooftop/Spring_2021/data_raw/4STAR_20210330_4STARsisters_AmesRoof_EastBayFire\n",
      "*DRY RUN*: ~Moving file from /data/sunsat/_incoming_gdrive/20210330_4STARsisters_AmesRoof_EastBayFire/20210330_4STARA/4STAR_20210330_006_VIS_SUN.dat\n",
      "   to new path: /data/sunsat/rooftop/Spring_2021/data_raw/4STAR_20210330_4STARsisters_AmesRoof_EastBayFire/4STAR_20210330_006_VIS_SUN.dat\n",
      "*DRY RUN*: +Creating new path: /data/sunsat/rooftop/Spring_2021/data_raw/4STAR_20210330_4STARsisters_AmesRoof_EastBayFire\n",
      "*DRY RUN*: ~Moving file from /data/sunsat/_incoming_gdrive/20210330_4STARsisters_AmesRoof_EastBayFire/20210330_4STARA/4STAR_20210330_024_VIS_SKYA.dat\n",
      "   to new path: /data/sunsat/rooftop/Spring_2021/data_raw/4STAR_20210330_4STARsisters_AmesRoof_EastBayFire/4STAR_20210330_024_VIS_SKYA.dat\n",
      "*DRY RUN*: +Creating new path: /data/sunsat/rooftop/Spring_2021/data_raw/4STAR_20210330_4STARsisters_AmesRoof_EastBayFire\n",
      "*DRY RUN*: ~Moving file from /data/sunsat/_incoming_gdrive/20210330_4STARsisters_AmesRoof_EastBayFire/20210330_4STARA/4STAR_20210330_025_TRACK.dat\n",
      "   to new path: /data/sunsat/rooftop/Spring_2021/data_raw/4STAR_20210330_4STARsisters_AmesRoof_EastBayFire/4STAR_20210330_025_TRACK.dat\n",
      "*DRY RUN*: +Creating new path: /data/sunsat/rooftop/Spring_2021/data_raw/4STAR_20210330_4STARsisters_AmesRoof_EastBayFire\n",
      "*DRY RUN*: ~Moving file from /data/sunsat/_incoming_gdrive/20210330_4STARsisters_AmesRoof_EastBayFire/20210330_4STARA/4STAR_20210330_001_VIS_SUN.dat\n",
      "   to new path: /data/sunsat/rooftop/Spring_2021/data_raw/4STAR_20210330_4STARsisters_AmesRoof_EastBayFire/4STAR_20210330_001_VIS_SUN.dat\n",
      "*DRY RUN*: +Creating new path: /data/sunsat/rooftop/Spring_2021/data_raw/4STAR_20210330_4STARsisters_AmesRoof_EastBayFire\n",
      "*DRY RUN*: ~Moving file from /data/sunsat/_incoming_gdrive/20210330_4STARsisters_AmesRoof_EastBayFire/20210330_4STARA/4STAR_20210330_028_NIR_SKYA.dat\n",
      "   to new path: /data/sunsat/rooftop/Spring_2021/data_raw/4STAR_20210330_4STARsisters_AmesRoof_EastBayFire/4STAR_20210330_028_NIR_SKYA.dat\n",
      "*DRY RUN*: +Creating new path: /data/sunsat/rooftop/Spring_2021/data_raw/4STAR_20210330_4STARsisters_AmesRoof_EastBayFire\n",
      "*DRY RUN*: ~Moving file from /data/sunsat/_incoming_gdrive/20210330_4STARsisters_AmesRoof_EastBayFire/20210330_4STARA/4STAR_20210330_006_NIR_SUN.dat\n",
      "   to new path: /data/sunsat/rooftop/Spring_2021/data_raw/4STAR_20210330_4STARsisters_AmesRoof_EastBayFire/4STAR_20210330_006_NIR_SUN.dat\n",
      "*DRY RUN*: +Creating new path: /data/sunsat/rooftop/Spring_2021/data_raw/4STAR_20210330_4STARsisters_AmesRoof_EastBayFire\n",
      "*DRY RUN*: ~Moving file from /data/sunsat/_incoming_gdrive/20210330_4STARsisters_AmesRoof_EastBayFire/20210330_4STARA/4STAR_20210330_022_VIS_SUN.dat\n",
      "   to new path: /data/sunsat/rooftop/Spring_2021/data_raw/4STAR_20210330_4STARsisters_AmesRoof_EastBayFire/4STAR_20210330_022_VIS_SUN.dat\n",
      "*DRY RUN*: +Creating new path: /data/sunsat/rooftop/Spring_2021/data_raw/4STAR_20210330_4STARsisters_AmesRoof_EastBayFire\n",
      "*DRY RUN*: ~Moving file from /data/sunsat/_incoming_gdrive/20210330_4STARsisters_AmesRoof_EastBayFire/20210330_4STARA/4STAR_20210330_015_VIS_SKYP.dat\n",
      "   to new path: /data/sunsat/rooftop/Spring_2021/data_raw/4STAR_20210330_4STARsisters_AmesRoof_EastBayFire/4STAR_20210330_015_VIS_SKYP.dat\n",
      "*DRY RUN*: +Creating new path: /data/sunsat/rooftop/Spring_2021/data_raw/4STAR_20210330_4STARsisters_AmesRoof_EastBayFire\n",
      "*DRY RUN*: ~Moving file from /data/sunsat/_incoming_gdrive/20210330_4STARsisters_AmesRoof_EastBayFire/20210330_4STARA/4STAR_20210330_012_NIR_SKYA.dat\n",
      "   to new path: /data/sunsat/rooftop/Spring_2021/data_raw/4STAR_20210330_4STARsisters_AmesRoof_EastBayFire/4STAR_20210330_012_NIR_SKYA.dat\n",
      "*DRY RUN*: +Creating new path: /data/sunsat/rooftop/Spring_2021/data_raw/4STAR_20210330_4STARsisters_AmesRoof_EastBayFire\n",
      "*DRY RUN*: ~Moving file from /data/sunsat/_incoming_gdrive/20210330_4STARsisters_AmesRoof_EastBayFire/20210330_4STARA/4STAR_20210330_024_NIR_SKYA.dat\n",
      "   to new path: /data/sunsat/rooftop/Spring_2021/data_raw/4STAR_20210330_4STARsisters_AmesRoof_EastBayFire/4STAR_20210330_024_NIR_SKYA.dat\n",
      "*DRY RUN*: +Creating new path: /data/sunsat/rooftop/Spring_2021/data_raw/4STAR_20210330_4STARsisters_AmesRoof_EastBayFire\n",
      "*DRY RUN*: ~Moving file from /data/sunsat/_incoming_gdrive/20210330_4STARsisters_AmesRoof_EastBayFire/20210330_4STARA/4STAR_20210330_009_TRACK.dat\n",
      "   to new path: /data/sunsat/rooftop/Spring_2021/data_raw/4STAR_20210330_4STARsisters_AmesRoof_EastBayFire/4STAR_20210330_009_TRACK.dat\n",
      "*DRY RUN*: +Creating new path: /data/sunsat/rooftop/Spring_2021/data_raw/4STAR_20210330_4STARsisters_AmesRoof_EastBayFire\n",
      "*DRY RUN*: ~Moving file from /data/sunsat/_incoming_gdrive/20210330_4STARsisters_AmesRoof_EastBayFire/20210330_4STARA/4STAR_20210330_011_VIS_SKYP.dat\n",
      "   to new path: /data/sunsat/rooftop/Spring_2021/data_raw/4STAR_20210330_4STARsisters_AmesRoof_EastBayFire/4STAR_20210330_011_VIS_SKYP.dat\n",
      "*DRY RUN*: +Creating new path: /data/sunsat/rooftop/Spring_2021/data_raw/4STAR_20210330_4STARsisters_AmesRoof_EastBayFire\n",
      "*DRY RUN*: ~Moving file from /data/sunsat/_incoming_gdrive/20210330_4STARsisters_AmesRoof_EastBayFire/20210330_4STARA/4STAR_20210330_003_NIR_SKYP.dat\n",
      "   to new path: /data/sunsat/rooftop/Spring_2021/data_raw/4STAR_20210330_4STARsisters_AmesRoof_EastBayFire/4STAR_20210330_003_NIR_SKYP.dat\n",
      "*DRY RUN*: +Creating new path: /data/sunsat/rooftop/Spring_2021/data_raw/4STAR_20210330_4STARsisters_AmesRoof_EastBayFire\n",
      "*DRY RUN*: ~Moving file from /data/sunsat/_incoming_gdrive/20210330_4STARsisters_AmesRoof_EastBayFire/20210330_4STARA/4STAR_20210330_016_NIR_SKYA.dat\n",
      "   to new path: /data/sunsat/rooftop/Spring_2021/data_raw/4STAR_20210330_4STARsisters_AmesRoof_EastBayFire/4STAR_20210330_016_NIR_SKYA.dat\n",
      "*DRY RUN*: +Creating new path: /data/sunsat/rooftop/Spring_2021/data_raw/4STAR_20210330_4STARsisters_AmesRoof_EastBayFire\n",
      "*DRY RUN*: ~Moving file from /data/sunsat/_incoming_gdrive/20210330_4STARsisters_AmesRoof_EastBayFire/20210330_4STARA/4STAR_20210330_029_TRACK.dat\n",
      "   to new path: /data/sunsat/rooftop/Spring_2021/data_raw/4STAR_20210330_4STARsisters_AmesRoof_EastBayFire/4STAR_20210330_029_TRACK.dat\n",
      "*DRY RUN*: +Creating new path: /data/sunsat/rooftop/Spring_2021/data_raw/4STAR_20210330_4STARsisters_AmesRoof_EastBayFire\n",
      "*DRY RUN*: ~Moving file from /data/sunsat/_incoming_gdrive/20210330_4STARsisters_AmesRoof_EastBayFire/20210330_4STARA/4STAR_20210330_008_NIR_SKYA.dat\n",
      "   to new path: /data/sunsat/rooftop/Spring_2021/data_raw/4STAR_20210330_4STARsisters_AmesRoof_EastBayFire/4STAR_20210330_008_NIR_SKYA.dat\n",
      "*DRY RUN*: +Creating new path: /data/sunsat/rooftop/Spring_2021/data_raw/4STAR_20210330_4STARsisters_AmesRoof_EastBayFire\n",
      "*DRY RUN*: ~Moving file from /data/sunsat/_incoming_gdrive/20210330_4STARsisters_AmesRoof_EastBayFire/20210330_4STARA/4STAR_20210330_014_NIR_SUN.dat\n",
      "   to new path: /data/sunsat/rooftop/Spring_2021/data_raw/4STAR_20210330_4STARsisters_AmesRoof_EastBayFire/4STAR_20210330_014_NIR_SUN.dat\n",
      "*DRY RUN*: +Creating new path: /data/sunsat/rooftop/Spring_2021/notes/20210330_4STARsisters_AmesRoof_EastBayFire\n",
      "*DRY RUN*: ~Moving file from /data/sunsat/_incoming_gdrive/20210330_4STARsisters_AmesRoof_EastBayFire/20210330_fire4.jpg\n",
      "   to new path: /data/sunsat/rooftop/Spring_2021/notes/20210330_4STARsisters_AmesRoof_EastBayFire/20210330_fire4.jpg\n",
      "*DRY RUN*: +Creating new path: /data/sunsat/rooftop/Spring_2021/notes/20210330_4STARsisters_AmesRoof_EastBayFire\n",
      "*DRY RUN*: ~Moving file from /data/sunsat/_incoming_gdrive/20210330_4STARsisters_AmesRoof_EastBayFire/20210330_fire5.jpg\n",
      "   to new path: /data/sunsat/rooftop/Spring_2021/notes/20210330_4STARsisters_AmesRoof_EastBayFire/20210330_fire5.jpg\n",
      "*DRY RUN*: +Creating new path: /data/sunsat/rooftop/Spring_2021/notes/20210330_4STARsisters_AmesRoof_EastBayFire\n",
      "*DRY RUN*: ~Moving file from /data/sunsat/_incoming_gdrive/20210330_4STARsisters_AmesRoof_EastBayFire/20210330_notes.jpg\n",
      "   to new path: /data/sunsat/rooftop/Spring_2021/notes/20210330_4STARsisters_AmesRoof_EastBayFire/20210330_notes.jpg\n",
      "*DRY RUN*: +Creating new path: /data/sunsat/rooftop/Spring_2021/notes/20210330_4STARsisters_AmesRoof_EastBayFire\n",
      "*DRY RUN*: ~Moving file from /data/sunsat/_incoming_gdrive/20210330_4STARsisters_AmesRoof_EastBayFire/20210330_leakygauge.jpg\n",
      "   to new path: /data/sunsat/rooftop/Spring_2021/notes/20210330_4STARsisters_AmesRoof_EastBayFire/20210330_leakygauge.jpg\n",
      "*DRY RUN*: +Creating new path: /data/sunsat/rooftop/Spring_2021/notes/20210330_4STARsisters_AmesRoof_EastBayFire\n",
      "*DRY RUN*: ~Moving file from /data/sunsat/_incoming_gdrive/20210330_4STARsisters_AmesRoof_EastBayFire/20210330_bustedgauge.jpg\n",
      "   to new path: /data/sunsat/rooftop/Spring_2021/notes/20210330_4STARsisters_AmesRoof_EastBayFire/20210330_bustedgauge.jpg\n",
      "*DRY RUN*: +Creating new path: /data/sunsat/rooftop/Spring_2021/data_raw/4STARB_20210330_4STARsisters_AmesRoof_EastBayFire\n",
      "*DRY RUN*: ~Moving file from /data/sunsat/_incoming_gdrive/20210330_4STARsisters_AmesRoof_EastBayFire/20210330_4STARB/4STARB_20210330_005_NIR_SUN.dat\n",
      "   to new path: /data/sunsat/rooftop/Spring_2021/data_raw/4STARB_20210330_4STARsisters_AmesRoof_EastBayFire/4STARB_20210330_005_NIR_SUN.dat\n",
      "*DRY RUN*: +Creating new path: /data/sunsat/rooftop/Spring_2021/data_raw/4STARB_20210330_4STARsisters_AmesRoof_EastBayFire\n",
      "*DRY RUN*: ~Moving file from /data/sunsat/_incoming_gdrive/20210330_4STARsisters_AmesRoof_EastBayFire/20210330_4STARB/4STARB_20210330_004_TRACK.dat\n",
      "   to new path: /data/sunsat/rooftop/Spring_2021/data_raw/4STARB_20210330_4STARsisters_AmesRoof_EastBayFire/4STARB_20210330_004_TRACK.dat\n",
      "*DRY RUN*: +Creating new path: /data/sunsat/rooftop/Spring_2021/data_raw/4STARB_20210330_4STARsisters_AmesRoof_EastBayFire\n",
      "*DRY RUN*: ~Moving file from /data/sunsat/_incoming_gdrive/20210330_4STARsisters_AmesRoof_EastBayFire/20210330_4STARB/4STARB_20210330_001_VIS_SUN.dat\n",
      "   to new path: /data/sunsat/rooftop/Spring_2021/data_raw/4STARB_20210330_4STARsisters_AmesRoof_EastBayFire/4STARB_20210330_001_VIS_SUN.dat\n",
      "*DRY RUN*: +Creating new path: /data/sunsat/rooftop/Spring_2021/data_raw/4STARB_20210330_4STARsisters_AmesRoof_EastBayFire\n",
      "*DRY RUN*: ~Moving file from /data/sunsat/_incoming_gdrive/20210330_4STARsisters_AmesRoof_EastBayFire/20210330_4STARB/4STARB_20210330_003_NIR_SUN.dat\n",
      "   to new path: /data/sunsat/rooftop/Spring_2021/data_raw/4STARB_20210330_4STARsisters_AmesRoof_EastBayFire/4STARB_20210330_003_NIR_SUN.dat\n",
      "*DRY RUN*: +Creating new path: /data/sunsat/rooftop/Spring_2021/data_raw/4STARB_20210330_4STARsisters_AmesRoof_EastBayFire\n",
      "*DRY RUN*: ~Moving file from /data/sunsat/_incoming_gdrive/20210330_4STARsisters_AmesRoof_EastBayFire/20210330_4STARB/4STARB_20210330_003_VIS_SUN.dat\n",
      "   to new path: /data/sunsat/rooftop/Spring_2021/data_raw/4STARB_20210330_4STARsisters_AmesRoof_EastBayFire/4STARB_20210330_003_VIS_SUN.dat\n",
      "*DRY RUN*: +Creating new path: /data/sunsat/rooftop/Spring_2021/data_raw/4STARB_20210330_4STARsisters_AmesRoof_EastBayFire\n",
      "*DRY RUN*: ~Moving file from /data/sunsat/_incoming_gdrive/20210330_4STARsisters_AmesRoof_EastBayFire/20210330_4STARB/4STARB_20210330_006_TRACK.dat\n",
      "   to new path: /data/sunsat/rooftop/Spring_2021/data_raw/4STARB_20210330_4STARsisters_AmesRoof_EastBayFire/4STARB_20210330_006_TRACK.dat\n",
      "*DRY RUN*: +Creating new path: /data/sunsat/rooftop/Spring_2021/data_raw/4STARB_20210330_4STARsisters_AmesRoof_EastBayFire\n",
      "*DRY RUN*: ~Moving file from /data/sunsat/_incoming_gdrive/20210330_4STARsisters_AmesRoof_EastBayFire/20210330_4STARB/4STARB_20210330_001_NIR_SUN.dat\n",
      "   to new path: /data/sunsat/rooftop/Spring_2021/data_raw/4STARB_20210330_4STARsisters_AmesRoof_EastBayFire/4STARB_20210330_001_NIR_SUN.dat\n",
      "*DRY RUN*: +Creating new path: /data/sunsat/rooftop/Spring_2021/data_raw/4STARB_20210330_4STARsisters_AmesRoof_EastBayFire\n",
      "*DRY RUN*: ~Moving file from /data/sunsat/_incoming_gdrive/20210330_4STARsisters_AmesRoof_EastBayFire/20210330_4STARB/4STARB_20210330_005_VIS_SUN.dat\n",
      "   to new path: /data/sunsat/rooftop/Spring_2021/data_raw/4STARB_20210330_4STARsisters_AmesRoof_EastBayFire/4STARB_20210330_005_VIS_SUN.dat\n",
      "*DRY RUN*: +Creating new path: /data/sunsat/rooftop/Spring_2021/data_raw/4STARB_20210330_4STARsisters_AmesRoof_EastBayFire\n",
      "*DRY RUN*: ~Moving file from /data/sunsat/_incoming_gdrive/20210330_4STARsisters_AmesRoof_EastBayFire/20210330_4STARB/4STARB_20210330_002_TRACK.dat\n",
      "   to new path: /data/sunsat/rooftop/Spring_2021/data_raw/4STARB_20210330_4STARsisters_AmesRoof_EastBayFire/4STARB_20210330_002_TRACK.dat\n",
      "*DRY RUN*: +Creating new path: /data/sunsat/rooftop/Spring_2021/notes/20210330_4STARsisters_AmesRoof_EastBayFire\n",
      "*DRY RUN*: ~Moving file from /data/sunsat/_incoming_gdrive/20210330_4STARsisters_AmesRoof_EastBayFire/20210330_morningconditions.jpg\n",
      "   to new path: /data/sunsat/rooftop/Spring_2021/notes/20210330_4STARsisters_AmesRoof_EastBayFire/20210330_morningconditions.jpg\n",
      "*DRY RUN*: +Creating new path: /data/sunsat/rooftop/Spring_2021/notes/20210330_4STARsisters_AmesRoof_EastBayFire\n",
      "*DRY RUN*: ~Moving file from /data/sunsat/_incoming_gdrive/20210330_4STARsisters_AmesRoof_EastBayFire/20210330_fire1.jpg\n",
      "   to new path: /data/sunsat/rooftop/Spring_2021/notes/20210330_4STARsisters_AmesRoof_EastBayFire/20210330_fire1.jpg\n",
      "*DRY RUN*: +Creating new path: /data/sunsat/rooftop/Spring_2021/notes/20210330_4STARsisters_AmesRoof_EastBayFire\n",
      "*DRY RUN*: ~Moving file from /data/sunsat/_incoming_gdrive/20210330_4STARsisters_AmesRoof_EastBayFire/20210330_fire2.jpg\n",
      "   to new path: /data/sunsat/rooftop/Spring_2021/notes/20210330_4STARsisters_AmesRoof_EastBayFire/20210330_fire2.jpg\n"
     ]
    }
   ],
   "source": [
    "data_raw_found, data_raw_files, nexact, nmoved, ncreated, ndataraw =\\\n",
    "                move_files(fl_arr,filters,verbose=verbose,dry_run=dry_run,root_folder=root_folder)"
   ]
  },
  {
   "cell_type": "code",
   "execution_count": 65,
   "metadata": {
    "ExecuteTime": {
     "end_time": "2021-03-31T21:33:46.026721Z",
     "start_time": "2021-03-31T21:33:44.886199Z"
    }
   },
   "outputs": [
    {
     "name": "stdout",
     "output_type": "stream",
     "text": [
      "Downloaded AERONET file: /data/sunsat/rooftop/Winter_2021/data_processed/aeronet/210223_210223_NASA_Ames.lev15\n",
      "Downloaded AERONET file: /data/sunsat/rooftop/Winter_2021/data_processed/aeronet/210301_210301_NASA_Ames.lev15\n",
      "Downloaded AERONET file: /data/sunsat/rooftop/Spring_2021/data_processed/aeronet/210330_210330_NASA_Ames.lev15\n"
     ]
    }
   ],
   "source": [
    "# check if there are raw data files, and if so, get the aeronet\n",
    "if data_raw_found:\n",
    "    daystrss = []\n",
    "    for k in data_raw_files.keys():\n",
    "        instname,daystr0 = k.split('_')\n",
    "        fa_tmp = filetypes('{daystr}_AERONET_NASA_Ames.lev15'.format(instname=instname,daystr=daystr0))\n",
    "        fmla_tmp = get_newfilepath(fa_tmp,filters=filters,fake_file=True,\n",
    "                                   root_folder=root_folder,verbose=verbose,dry_run=dry_run)\n",
    "        if not fa_tmp.newpath.exists() & verbose: print( '{prefix}+Creating new path: {newpath}'.format(**fa_tmp) )\n",
    "        if not dry_run: fa_tmp.newpath.mkdir(parents=True,exist_ok=True)\n",
    "        if not daystr0 in daystrss:\n",
    "            daystrss.append(daystr0)\n",
    "            if fa_tmp.campaign.find('rooftop') >= 0:\n",
    "                aeronet_file = get_AERONET_file_v2(date=fa_tmp.fdate,site='NASA_Ames',path=str(fa_tmp.newpath))\n",
    "                if verbose: print('Downloaded AERONET file: {}'.format(aeronet_file))"
   ]
  },
  {
   "cell_type": "code",
   "execution_count": 66,
   "metadata": {
    "ExecuteTime": {
     "end_time": "2021-03-31T21:34:04.105946Z",
     "start_time": "2021-03-31T21:34:04.093992Z"
    }
   },
   "outputs": [
    {
     "name": "stdout",
     "output_type": "stream",
     "text": [
      "*DRY RUN*: -removing :/data/sunsat/_incoming_gdrive/20210330_4STARsisters_AmesRoof_EastBayFire/20210330_4STARA\n",
      "*DRY RUN*: -removing :/data/sunsat/_incoming_gdrive/20210330_4STARsisters_AmesRoof_EastBayFire/20210330_4STARB\n",
      "*DRY RUN*: -removing :/data/sunsat/_incoming_gdrive/20210330_4STARsisters_AmesRoof_EastBayFire\n"
     ]
    }
   ],
   "source": [
    "# clean up folders after move\n",
    "for dirpath, dirnames, filenames in os.walk(in_directory,topdown=False):\n",
    "    if not dirpath in in_directory:\n",
    "        try: \n",
    "            if verbose: print( '{pre}-removing :{path}'.format(pre=prefix,path=dirpath))\n",
    "            if not dry_run:\n",
    "                os.rmdir(dirpath) \n",
    "        except: \n",
    "            pass"
   ]
  },
  {
   "cell_type": "code",
   "execution_count": 67,
   "metadata": {
    "ExecuteTime": {
     "end_time": "2021-03-31T21:34:10.623402Z",
     "start_time": "2021-03-31T21:34:10.551330Z"
    },
    "scrolled": false
   },
   "outputs": [],
   "source": [
    "nmats = 0\n",
    "if run_matlab:\n",
    "    prefix = '*DRY RUN*: ' if dry_run else ''\n",
    "    for dr,drs in data_raw_files.items():\n",
    "        # get the position of the new star.mat and starsun.mat files\n",
    "        f = filetypes('{}star.mat'.format(dr),filters=filters)\n",
    "        fml = get_newfilepath(f,filters=filters,fake_file=True,root_folder=root_folder)\n",
    "        if not dry_run: f.newpath.mkdir(parents=True,exist_ok=True)\n",
    "        fs = filetypes('{}starsun.mat'.format(dr),filters=filters)\n",
    "        fmls = get_newfilepath(fs,filters=filters,fake_file=True,root_folder=root_folder)\n",
    "        if not dry_run: fs.newpath.mkdir(parents=True,exist_ok=True)\n",
    "            \n",
    "        # make the position of the new quicklook file\n",
    "        instname,daystr = dr.split('_')\n",
    "        fq = filetypes('{daystr}_{instname}_Quicklooks.pptx'.format(instname=instname,daystr=daystr))\n",
    "        fmlq = get_newfilepath(fq,filters=filters,fake_file=True,root_folder=root_folder)\n",
    "        if not dry_run: fq.newpath.mkdir(parents=True,exist_ok=True)\n",
    "        \n",
    "        # make the position of the new figure files\n",
    "        ff = filetypes('{daystr}_{instname}_plots.png'.format(instname=instname,daystr=daystr))\n",
    "        fmlf = get_newfilepath(ff,filters=filters,fake_file=True,root_folder=root_folder)\n",
    "        if not dry_run: ff.newpath.parent.mkdir(parents=True,exist_ok=True)\n",
    "        \n",
    "        # make the position of the aeronet files\n",
    "        fa = filetypes('{daystr}_AERONET_NASA_Ames.lev15'.format(instname=instname,daystr=daystr))\n",
    "        fmla = get_newfilepath(fa,filters=filters,fake_file=True,root_folder=root_folder)\n",
    "        if not dry_run: fa.newpath.mkdir(parents=True,exist_ok=True)\n",
    "        \n",
    "        # make the position of the gas_summary files\n",
    "        fg = filetypes('{instname}_{daystr}_gas_summary.mat'.format(instname=instname,daystr=daystr))\n",
    "        fmlg = get_newfilepath(fg,filters=filters,fake_file=True,root_folder=root_folder)\n",
    "        if not dry_run: fg.newpath.mkdir(parents=True,exist_ok=True)\n",
    "        \n",
    "        # make a string of the raw files    \n",
    "        filelist = \"'\"+\"';'\".join(drs)+\"'\"\n",
    "        if not f.instname in ['4STAR','4STARB']: # only for 4STARs for now.\n",
    "            continue\n",
    "            \n",
    "        mfile = make_temp_mfile(in_directory+'temp.m',filelist=filelist,starmat=str(f.newfile),\\\n",
    "                                starsun=str(fs.newfile),quicklooks=in_directory+str(fq.newfile.name),\\\n",
    "                                fig_path=str(ff.newpath.parent)+'/', aero_path=str(fa.newpath)+'/',\\\n",
    "                                gas_path=str(fg.newpath)+'/', sun_path=str(fs.newpath)+'/',incoming_path=in_directory)\n",
    "\n",
    "        if verbose: \n",
    "            print( ' '.join(['{}matlab'.format(prefix),'-nodisplay','-batch',\"{}\".format(Path(mfile).stem)]))\n",
    "        if not dry_run:\n",
    "            pmfile = Path(mfile)\n",
    "            os.chdir(str(pmfile.parent))\n",
    "            process = subprocess.Popen(['matlab','-nodisplay','-batch',\"{}\".format(pmfile.stem)],\n",
    "                                       shell=False, stdout=subprocess.PIPE,stderr=subprocess.PIPE)\n",
    "\n",
    "            while True:\n",
    "                # handle output by direct access to stdout and stderr\n",
    "                output = process.stdout.readline()\n",
    "                if process.poll() is not None:\n",
    "                    break\n",
    "                if output:\n",
    "                    if verbose: print(output.strip())\n",
    "            rc = process.poll()\n",
    "            if verbose: print(rc)\n",
    "            nmats = nmats + 1\n",
    "                \n",
    "            if rc==0:\n",
    "                os.remove(mfile)"
   ]
  },
  {
   "cell_type": "code",
   "execution_count": 68,
   "metadata": {
    "ExecuteTime": {
     "end_time": "2021-03-31T21:34:13.493134Z",
     "start_time": "2021-03-31T21:34:13.486195Z"
    }
   },
   "outputs": [
    {
     "name": "stdout",
     "output_type": "stream",
     "text": [
      "Wed Mar 31 14:34:13 2021 :Python moved 0 files, Created 0 folders, found 63 files, and generated 0 starmats/suns\n"
     ]
    }
   ],
   "source": [
    "print(datetime.now().strftime(\"%c\")+' :Python moved {nmoved} files, Created {ncreated} folders, found {ndataraw} files, and generated {nmats} starmats/suns'\\\n",
    "      .format(nmoved=nmoved,ncreated=ncreated,ndataraw=ndataraw,nmats=nmats))"
   ]
  },
  {
   "cell_type": "code",
   "execution_count": null,
   "metadata": {},
   "outputs": [],
   "source": []
  }
 ],
 "metadata": {
  "kernelspec": {
   "display_name": "Python 2",
   "language": "python",
   "name": "python2"
  },
  "language_info": {
   "codemirror_mode": {
    "name": "ipython",
    "version": 2
   },
   "file_extension": ".py",
   "mimetype": "text/x-python",
   "name": "python",
   "nbconvert_exporter": "python",
   "pygments_lexer": "ipython2",
   "version": "2.7.18"
  },
  "toc": {
   "base_numbering": 1,
   "nav_menu": {},
   "number_sections": true,
   "sideBar": true,
   "skip_h1_title": false,
   "title_cell": "Table of Contents",
   "title_sidebar": "Contents",
   "toc_cell": false,
   "toc_position": {},
   "toc_section_display": true,
   "toc_window_display": false
  }
 },
 "nbformat": 4,
 "nbformat_minor": 2
}
