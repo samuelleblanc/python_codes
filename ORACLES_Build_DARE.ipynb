{
 "cells": [
  {
   "cell_type": "markdown",
   "metadata": {},
   "source": [
    "# Intro\n",
    "Name:  \n",
    "\n",
    "    ORACLES_Build_DARE\n",
    "\n",
    "Purpose:  \n",
    "\n",
    "    Build the aerosol radiative effect input files from the SSFR reflectances, 4STAR AOD, and 4STAR skyscan results\n",
    "  \n",
    "Input:\n",
    "\n",
    "    none at command line\n",
    "  \n",
    "Output:\n",
    "\n",
    "    figures and save files...\n",
    "  \n",
    "Keywords:\n",
    "\n",
    "    none\n",
    "  \n",
    "Dependencies:\n",
    "\n",
    "    - Sp_parameters.py : for Sp class definition, and for defining the functions used to build parameters\n",
    "    - matplotlib\n",
    "    - numpy\n",
    "    - scipy : for saving and reading\n",
    "    - plotting_utils (user defined plotting routines)\n",
    "    - hdf5storage\n",
    "  \n",
    "Needed Files:\n",
    "\n",
    "  - file.rc : for consistent creation of look of matplotlib figures\n",
    "  - 4STAR_cloud retrieval .mat files\n",
    "  \n",
    " Modification History:\n",
    " \n",
    "     Written: by Samuel LeBlanc, Santa Cruz, CA, 2019-12-02"
   ]
  },
  {
   "cell_type": "markdown",
   "metadata": {},
   "source": [
    "# Import of modules"
   ]
  },
  {
   "cell_type": "code",
   "execution_count": 126,
   "metadata": {
    "ExecuteTime": {
     "end_time": "2019-12-03T19:59:23.808847Z",
     "start_time": "2019-12-03T19:59:23.706159Z"
    }
   },
   "outputs": [],
   "source": [
    "import numpy as np\n",
    "import hdf5storage as hs\n",
    "import os\n",
    "import write_utils as wu\n",
    "import scipy.io as sio\n",
    "from path_utils import getpath\n",
    "import matplotlib.pyplot as plt\n",
    "import load_utils as lu\n",
    "from write_utils import nearest_neighbor"
   ]
  },
  {
   "cell_type": "code",
   "execution_count": 127,
   "metadata": {
    "ExecuteTime": {
     "end_time": "2019-12-03T19:59:25.350545Z",
     "start_time": "2019-12-03T19:59:25.126046Z"
    }
   },
   "outputs": [],
   "source": [
    "%matplotlib notebook"
   ]
  },
  {
   "cell_type": "code",
   "execution_count": 4,
   "metadata": {
    "ExecuteTime": {
     "end_time": "2019-12-03T06:42:54.146191Z",
     "start_time": "2019-12-03T06:42:53.948530Z"
    }
   },
   "outputs": [],
   "source": [
    "from tqdm.notebook import tqdm "
   ]
  },
  {
   "cell_type": "code",
   "execution_count": 22,
   "metadata": {
    "ExecuteTime": {
     "end_time": "2019-12-03T07:36:13.299044Z",
     "start_time": "2019-12-03T07:36:13.226873Z"
    }
   },
   "outputs": [],
   "source": [
    "import Run_libradtran as Rl"
   ]
  },
  {
   "cell_type": "code",
   "execution_count": 5,
   "metadata": {
    "ExecuteTime": {
     "end_time": "2019-12-03T06:54:24.722364Z",
     "start_time": "2019-12-03T06:54:24.696076Z"
    }
   },
   "outputs": [],
   "source": [
    "name = 'ORACLES'"
   ]
  },
  {
   "cell_type": "code",
   "execution_count": 13,
   "metadata": {
    "ExecuteTime": {
     "end_time": "2019-12-03T07:29:18.767088Z",
     "start_time": "2019-12-03T07:29:18.727935Z"
    }
   },
   "outputs": [],
   "source": [
    "vv = 'v1'\n",
    "vr = 'R3'"
   ]
  },
  {
   "cell_type": "code",
   "execution_count": 40,
   "metadata": {
    "ExecuteTime": {
     "end_time": "2019-12-03T08:48:27.055179Z",
     "start_time": "2019-12-03T08:48:27.020189Z"
    }
   },
   "outputs": [
    {
     "name": "stdout",
     "output_type": "stream",
     "text": [
      "Return path named:  ORACLES /mnt/c/Users/lebla/Research/ORACLES/\n",
      "Return path named:  rtm /home/samuel/rtm/\n",
      "Return path named:  uvspec_bin /mnt/c/Users/lebla/Research/libradtran/libRadtran-2.0.2/bin/\n",
      "Return path named:  uvspec_dat /mnt/c/Users/lebla/Research/libradtran/libRadtran-2.0.2/data/\n"
     ]
    }
   ],
   "source": [
    "fp = getpath(name)\n",
    "fp_rtm = getpath('rtm')\n",
    "fp_uvspec = getpath('uvspec_bin')+'uvspec'\n",
    "matfile = fp+'{}_all_cld_ict.mat'.format(vr)\n",
    "fp_uvspec_dat = getpath('uvspec_dat')\n",
    "fp_rtmdat = fp_rtm+'dat/'"
   ]
  },
  {
   "cell_type": "markdown",
   "metadata": {},
   "source": [
    "# Load the files"
   ]
  },
  {
   "cell_type": "markdown",
   "metadata": {},
   "source": [
    "## Load the 4STAR AOD"
   ]
  },
  {
   "cell_type": "code",
   "execution_count": 14,
   "metadata": {
    "ExecuteTime": {
     "end_time": "2019-12-03T07:30:03.972418Z",
     "start_time": "2019-12-03T07:30:01.791580Z"
    }
   },
   "outputs": [],
   "source": [
    "ar = hs.loadmat(fp+'/aod_ict/v8/{v}/all_aod_ict_{v}_2016.mat'.format(v=vr))"
   ]
  },
  {
   "cell_type": "code",
   "execution_count": 15,
   "metadata": {
    "ExecuteTime": {
     "end_time": "2019-12-03T07:30:09.056612Z",
     "start_time": "2019-12-03T07:30:09.013142Z"
    },
    "scrolled": true
   },
   "outputs": [
    {
     "data": {
      "text/plain": [
       "[u'AOD1040',\n",
       " u'AOD0532',\n",
       " u'AOD0530',\n",
       " u'UNCAOD0550',\n",
       " u'UNCAOD0700',\n",
       " u'AOD0355',\n",
       " u'AOD1627',\n",
       " u'AOD0520',\n",
       " u'UNCAOD0620',\n",
       " u'AOD0606',\n",
       " u'AOD1064',\n",
       " u'Latitude',\n",
       " u'UNCAOD0452',\n",
       " u'fl_alt_6',\n",
       " u'AOD0620',\n",
       " u'AOD0700',\n",
       " u'AOD0550',\n",
       " u'AOD0660',\n",
       " u'UNCAOD1627',\n",
       " u'AOD0452',\n",
       " u'fl_routine',\n",
       " u'AOD0470',\n",
       " u'fl1',\n",
       " u'UNCAOD1236',\n",
       " u'fl3',\n",
       " u'fl2',\n",
       " u'UNCAOD1064',\n",
       " u'UNCAOD0501',\n",
       " u'AOD_angstrom_470_865',\n",
       " u'AOD_polycoef_a0',\n",
       " u'AOD_polycoef_a2',\n",
       " u'UNCAOD0606',\n",
       " u'UNCAOD0355',\n",
       " u'qual_flag',\n",
       " u'UNCAOD0675',\n",
       " u'AOD1559',\n",
       " u'UNCAOD1650',\n",
       " u'UNCAOD1559',\n",
       " u'UNCAOD1250',\n",
       " u'AOD0501',\n",
       " u'Longitude',\n",
       " u'AOD_polycoef_a1',\n",
       " u'UNCAOD0660',\n",
       " u'GPS_Alt',\n",
       " u'AOD1250',\n",
       " u'flac',\n",
       " u'UNCAOD0380',\n",
       " u'fl',\n",
       " u'AOD0675',\n",
       " u'fl_QA',\n",
       " u'AOD1236',\n",
       " u'AOD1650',\n",
       " u'UNCAOD0470',\n",
       " u'AOD0380',\n",
       " u'UNCAOD0865',\n",
       " u'Start_UTC',\n",
       " u'flr',\n",
       " u'UNCAOD0781',\n",
       " u'days',\n",
       " u'UNCAOD0520',\n",
       " u'fl_alt_22',\n",
       " u'AOD0781',\n",
       " u'fl_alt_18',\n",
       " u'flag_acaod',\n",
       " u'fl_alt',\n",
       " u'AOD0865',\n",
       " u'amass_aer',\n",
       " u'flacr',\n",
       " u'UNCAOD1020',\n",
       " u'UNCAOD0532',\n",
       " u'UNCAOD1040',\n",
       " u'UNCAOD0530',\n",
       " u'AOD1020']"
      ]
     },
     "execution_count": 15,
     "metadata": {},
     "output_type": "execute_result"
    }
   ],
   "source": [
    "ar.keys()"
   ]
  },
  {
   "cell_type": "code",
   "execution_count": 23,
   "metadata": {
    "ExecuteTime": {
     "end_time": "2019-12-03T07:38:40.186610Z",
     "start_time": "2019-12-03T07:38:40.144299Z"
    }
   },
   "outputs": [
    {
     "data": {
      "text/plain": [
       "(483692,)"
      ]
     },
     "execution_count": 23,
     "metadata": {},
     "output_type": "execute_result"
    }
   ],
   "source": [
    "ar['AOD0501'].shape"
   ]
  },
  {
   "cell_type": "code",
   "execution_count": 189,
   "metadata": {
    "ExecuteTime": {
     "end_time": "2019-12-03T21:21:16.052848Z",
     "start_time": "2019-12-03T21:21:16.006233Z"
    }
   },
   "outputs": [
    {
     "name": "stderr",
     "output_type": "stream",
     "text": [
      "/home/samuel/.local/lib/python2.7/site-packages/ipykernel_launcher.py:1: RuntimeWarning: invalid value encountered in arccos\n",
      "  \"\"\"Entry point for launching an IPython kernel.\n"
     ]
    }
   ],
   "source": [
    "sza = np.arccos(1.0/ar['amass_aer'])*180.0/np.pi"
   ]
  },
  {
   "cell_type": "code",
   "execution_count": 149,
   "metadata": {
    "ExecuteTime": {
     "end_time": "2019-12-03T20:12:46.527388Z",
     "start_time": "2019-12-03T20:12:46.464729Z"
    }
   },
   "outputs": [],
   "source": [
    "days = ['20160824','20160825','20160827','20160830','20160831','20160902','20160904','20160906','20160908',\n",
    "       '20160910','20160912','20160914','20160918','20160920','20160924','20160925','20160927','20160930']"
   ]
  },
  {
   "cell_type": "markdown",
   "metadata": {},
   "source": [
    "## Load the retrieved Cloud properties"
   ]
  },
  {
   "cell_type": "code",
   "execution_count": 17,
   "metadata": {
    "ExecuteTime": {
     "end_time": "2019-12-03T07:34:48.636455Z",
     "start_time": "2019-12-03T07:34:48.326158Z"
    }
   },
   "outputs": [],
   "source": [
    "cl = hs.loadmat(fp+'data_other/ssfr_2016_retrieved_COD.mat')"
   ]
  },
  {
   "cell_type": "code",
   "execution_count": 18,
   "metadata": {
    "ExecuteTime": {
     "end_time": "2019-12-03T07:34:53.281604Z",
     "start_time": "2019-12-03T07:34:53.233437Z"
    }
   },
   "outputs": [
    {
     "data": {
      "text/plain": [
       "[u'tau',\n",
       " u'aod',\n",
       " u'utc',\n",
       " u'sza',\n",
       " u'lon',\n",
       " u'days',\n",
       " u'a1',\n",
       " u'a0',\n",
       " u'a2',\n",
       " u'lat',\n",
       " u'ref']"
      ]
     },
     "execution_count": 18,
     "metadata": {},
     "output_type": "execute_result"
    }
   ],
   "source": [
    "cl.keys()"
   ]
  },
  {
   "cell_type": "code",
   "execution_count": 24,
   "metadata": {
    "ExecuteTime": {
     "end_time": "2019-12-03T07:38:51.506200Z",
     "start_time": "2019-12-03T07:38:51.468200Z"
    }
   },
   "outputs": [
    {
     "data": {
      "text/plain": [
       "(380923,)"
      ]
     },
     "execution_count": 24,
     "metadata": {},
     "output_type": "execute_result"
    }
   ],
   "source": [
    "cl['tau'].shape"
   ]
  },
  {
   "cell_type": "code",
   "execution_count": 69,
   "metadata": {
    "ExecuteTime": {
     "end_time": "2019-12-03T19:13:51.515788Z",
     "start_time": "2019-12-03T19:13:51.415322Z"
    }
   },
   "outputs": [],
   "source": [
    "dds = ['20160830','20160831','20160902','20160904','20160906','20160908',\n",
    "       '20160910','20160912','20160914','20160918','20160920','20160924','20160925','20160927']"
   ]
  },
  {
   "cell_type": "code",
   "execution_count": 121,
   "metadata": {
    "ExecuteTime": {
     "end_time": "2019-12-03T19:53:46.312078Z",
     "start_time": "2019-12-03T19:53:46.159810Z"
    }
   },
   "outputs": [
    {
     "data": {
      "text/plain": [
       "array([ 0.,  0.,  0., ..., 13., 13., 13.])"
      ]
     },
     "execution_count": 121,
     "metadata": {},
     "output_type": "execute_result"
    }
   ],
   "source": [
    "cl['days']"
   ]
  },
  {
   "cell_type": "code",
   "execution_count": 124,
   "metadata": {
    "ExecuteTime": {
     "end_time": "2019-12-03T19:56:58.677272Z",
     "start_time": "2019-12-03T19:56:58.554303Z"
    }
   },
   "outputs": [],
   "source": [
    "dd = np.unique(cl['days'])"
   ]
  },
  {
   "cell_type": "code",
   "execution_count": 150,
   "metadata": {
    "ExecuteTime": {
     "end_time": "2019-12-03T20:33:08.420333Z",
     "start_time": "2019-12-03T20:33:08.097976Z"
    }
   },
   "outputs": [
    {
     "name": "stdout",
     "output_type": "stream",
     "text": [
      "0.0\n",
      "1.0\n",
      "2.0\n",
      "3.0\n",
      "4.0\n",
      "5.0\n",
      "6.0\n",
      "7.0\n",
      "8.0\n",
      "9.0\n",
      "10.0\n",
      "11.0\n",
      "12.0\n",
      "13.0\n"
     ]
    }
   ],
   "source": [
    "cod,ref = [],[]\n",
    "for d in dd:\n",
    "    print d\n",
    "    fld = cl['days']==d\n",
    "    fad = ar['days']==d+3.0\n",
    "    #nearest neighbor, but not more than a minute away\n",
    "    cod_tmp = nearest_neighbor(cl['utc'][fld],cl['tau'][fld],ar['Start_UTC'][fad],dist=1.0/60.0) \n",
    "    ref_tmp = nearest_neighbor(cl['utc'][fld],cl['ref'][fld],ar['Start_UTC'][fad],dist=1.0/60.0)\n",
    "    cod = np.append(cod,cod_tmp)\n",
    "    ref = np.append(ref,ref_tmp)"
   ]
  },
  {
   "cell_type": "code",
   "execution_count": 151,
   "metadata": {
    "ExecuteTime": {
     "end_time": "2019-12-03T20:33:12.306412Z",
     "start_time": "2019-12-03T20:33:12.214354Z"
    }
   },
   "outputs": [
    {
     "data": {
      "text/plain": [
       "(379755,)"
      ]
     },
     "execution_count": 151,
     "metadata": {},
     "output_type": "execute_result"
    }
   ],
   "source": [
    "cod.shape"
   ]
  },
  {
   "cell_type": "code",
   "execution_count": 152,
   "metadata": {
    "ExecuteTime": {
     "end_time": "2019-12-03T20:33:13.226712Z",
     "start_time": "2019-12-03T20:33:13.105799Z"
    }
   },
   "outputs": [
    {
     "data": {
      "text/plain": [
       "14"
      ]
     },
     "execution_count": 152,
     "metadata": {},
     "output_type": "execute_result"
    }
   ],
   "source": [
    "len(dds)"
   ]
  },
  {
   "cell_type": "code",
   "execution_count": 153,
   "metadata": {
    "ExecuteTime": {
     "end_time": "2019-12-03T20:33:14.462084Z",
     "start_time": "2019-12-03T20:33:14.362859Z"
    }
   },
   "outputs": [
    {
     "data": {
      "text/plain": [
       "18"
      ]
     },
     "execution_count": 153,
     "metadata": {},
     "output_type": "execute_result"
    }
   ],
   "source": [
    "len(np.unique(ar['days']))"
   ]
  },
  {
   "cell_type": "markdown",
   "metadata": {},
   "source": [
    "## Load the skyscan retrievals"
   ]
  },
  {
   "cell_type": "code",
   "execution_count": 29,
   "metadata": {
    "ExecuteTime": {
     "end_time": "2019-12-03T07:56:13.291865Z",
     "start_time": "2019-12-03T07:56:13.194413Z"
    }
   },
   "outputs": [
    {
     "name": "stdout",
     "output_type": "stream",
     "text": [
      "Reading file: /mnt/c/Users/lebla/Research/ORACLES/aeroinv_2016/netcdf4/4STAR-aeroinv_P3_2016_R0.nc\n",
      "Outputting the Data subdatasets:\n",
      "\u001b[1;36m0: base_time\u001b[0m\n",
      "\u001b[1;36m1: time_offset\u001b[0m\n",
      "\u001b[1;36m2: time\u001b[0m\n",
      "\u001b[1;36m3: wavelength\u001b[0m\n",
      "\u001b[1;36m4: radius\u001b[0m\n",
      "\u001b[1;36m5: psd\u001b[0m\n",
      "\u001b[1;36m6: QA_level\u001b[0m\n",
      "\u001b[1;36m7: sphericity\u001b[0m\n",
      "\u001b[1;36m8: sphericity_err\u001b[0m\n",
      "\u001b[1;36m9: PF_angle\u001b[0m\n",
      "\u001b[1;36m10: sca_angle\u001b[0m\n",
      "\u001b[1;36m11: n_real\u001b[0m\n",
      "\u001b[1;36m12: n_imag\u001b[0m\n",
      "\u001b[1;36m13: SSA\u001b[0m\n",
      "\u001b[1;36m14: AOD_fit_total\u001b[0m\n",
      "\u001b[1;36m15: AOD_fit_fine\u001b[0m\n",
      "\u001b[1;36m16: AOD_fit_coarse\u001b[0m\n",
      "\u001b[1;36m17: AOD_meas\u001b[0m\n",
      "\u001b[1;36m18: AAOD\u001b[0m\n",
      "\u001b[1;36m19: TOD_meas\u001b[0m\n",
      "\u001b[1;36m20: TOD_fit\u001b[0m\n",
      "\u001b[1;36m21: TOD_meas_minus_fit\u001b[0m\n",
      "\u001b[1;36m22: AGOD\u001b[0m\n",
      "\u001b[1;36m23: sfc_alb\u001b[0m\n",
      "\u001b[1;36m24: g_total\u001b[0m\n",
      "\u001b[1;36m25: g_fine\u001b[0m\n",
      "\u001b[1;36m26: g_coarse\u001b[0m\n",
      "\u001b[1;36m27: PF_total\u001b[0m\n",
      "\u001b[1;36m28: PF_fine\u001b[0m\n",
      "\u001b[1;36m29: PF_coarse\u001b[0m\n",
      "\u001b[1;36m30: normalized_sky_radiance\u001b[0m\n",
      "\u001b[1;36m31: normalized_sky_radiance_fit\u001b[0m\n",
      "\u001b[1;36m32: sky_radiance_fit_error\u001b[0m\n",
      "\u001b[1;36m33: scan_tag\u001b[0m\n",
      "\u001b[1;36m34: scan_type\u001b[0m\n",
      "\u001b[1;36m35: Lat\u001b[0m\n",
      "\u001b[1;36m36: Lon\u001b[0m\n",
      "\u001b[1;36m37: GPS_Altitude\u001b[0m\n",
      "\u001b[1;36m38: Heading\u001b[0m\n",
      "\u001b[1;36m39: Pitch\u001b[0m\n",
      "\u001b[1;36m40: Roll\u001b[0m\n",
      "\u001b[1;36m41: GPS_Altitude_std\u001b[0m\n",
      "\u001b[1;36m42: Heading_std\u001b[0m\n",
      "\u001b[1;36m43: Pitch_std\u001b[0m\n",
      "\u001b[1;36m44: Roll_std\u001b[0m\n",
      "\u001b[1;36m45: T_static\u001b[0m\n",
      "\u001b[1;36m46: P_static\u001b[0m\n",
      "\u001b[1;36m47: RH\u001b[0m\n",
      "\u001b[1;36m48: SAZ\u001b[0m\n",
      "\u001b[1;36m49: SZA\u001b[0m\n",
      "\u001b[1;36m50: SEL\u001b[0m\n",
      "\u001b[1;36m51: m_ray\u001b[0m\n",
      "\u001b[1;36m52: PWV\u001b[0m\n",
      "['base_time', 'sca_angle', 'normalized_sky_radiance_fit', 'AGOD', 'Lon', 'm_ray', 'radius', 'sfc_alb', 'wavelength', 'AAOD', 'GPS_Altitude', 'n_real', 'TOD_meas_minus_fit', 'AOD_fit_total', 'SAZ', 'sphericity', 'P_static', 'SZA', 'Roll', 'QA_level', 'g_coarse', 'Lat', 'PF_coarse', 'RH', 'PF_total', 'PWV', 'PF_fine', 'g_fine', 'GPS_Altitude_std', 'Pitch_std', 'TOD_fit', 'Pitch', 'normalized_sky_radiance', 'T_static', 'psd', 'scan_type', 'TOD_meas', 'g_total', 'Heading', 'sky_radiance_fit_error', 'AOD_meas', 'PF_angle', 'SEL', 'n_imag', 'scan_tag', 'AOD_fit_fine', 'time_offset', 'Roll_std', 'Heading_std', 'sphericity_err', 'time', 'SSA', 'AOD_fit_coarse']\n"
     ]
    }
   ],
   "source": [
    "ae,ae_dict = lu.load_netcdf(fp+'aeroinv_2016/netcdf4/4STAR-aeroinv_P3_2016_R0.nc',everything=True)"
   ]
  },
  {
   "cell_type": "code",
   "execution_count": 87,
   "metadata": {
    "ExecuteTime": {
     "end_time": "2019-12-03T19:30:27.368807Z",
     "start_time": "2019-12-03T19:30:27.212913Z"
    },
    "scrolled": true
   },
   "outputs": [
    {
     "data": {
      "text/plain": [
       "['AAOD',\n",
       " 'AGOD',\n",
       " 'AOD_fit_coarse',\n",
       " 'AOD_fit_fine',\n",
       " 'AOD_fit_total',\n",
       " 'AOD_meas',\n",
       " 'GPS_Altitude',\n",
       " 'GPS_Altitude_std',\n",
       " 'Heading',\n",
       " 'Heading_std',\n",
       " 'Lat',\n",
       " 'Lon',\n",
       " 'PF_angle',\n",
       " 'PF_coarse',\n",
       " 'PF_fine',\n",
       " 'PF_total',\n",
       " 'PWV',\n",
       " 'P_static',\n",
       " 'Pitch',\n",
       " 'Pitch_std',\n",
       " 'QA_level',\n",
       " 'RH',\n",
       " 'Roll',\n",
       " 'Roll_std',\n",
       " 'SAZ',\n",
       " 'SEL',\n",
       " 'SSA',\n",
       " 'SZA',\n",
       " 'TOD_fit',\n",
       " 'TOD_meas',\n",
       " 'TOD_meas_minus_fit',\n",
       " 'T_static',\n",
       " 'base_time',\n",
       " 'g_coarse',\n",
       " 'g_fine',\n",
       " 'g_total',\n",
       " 'm_ray',\n",
       " 'n_imag',\n",
       " 'n_real',\n",
       " 'normalized_sky_radiance',\n",
       " 'normalized_sky_radiance_fit',\n",
       " 'psd',\n",
       " 'radius',\n",
       " 'sca_angle',\n",
       " 'scan_tag',\n",
       " 'scan_type',\n",
       " 'sfc_alb',\n",
       " 'sky_radiance_fit_error',\n",
       " 'sphericity',\n",
       " 'sphericity_err',\n",
       " 'time',\n",
       " 'time_offset',\n",
       " 'wavelength']"
      ]
     },
     "execution_count": 87,
     "metadata": {},
     "output_type": "execute_result"
    }
   ],
   "source": [
    "ke = ae.keys()\n",
    "ke.sort()\n",
    "ke"
   ]
  },
  {
   "cell_type": "code",
   "execution_count": 88,
   "metadata": {
    "ExecuteTime": {
     "end_time": "2019-12-03T19:31:20.874951Z",
     "start_time": "2019-12-03T19:31:20.804167Z"
    }
   },
   "outputs": [
    {
     "data": {
      "text/plain": [
       "array([0.2365, 0.1788, 0.1115, 0.0665, 0.0549])"
      ]
     },
     "execution_count": 88,
     "metadata": {},
     "output_type": "execute_result"
    }
   ],
   "source": [
    "ae['AOD_meas'][0]"
   ]
  },
  {
   "cell_type": "code",
   "execution_count": 33,
   "metadata": {
    "ExecuteTime": {
     "end_time": "2019-12-03T07:57:21.962683Z",
     "start_time": "2019-12-03T07:57:21.921152Z"
    }
   },
   "outputs": [
    {
     "data": {
      "text/plain": [
       "<type 'netCDF4._netCDF4.Variable'>\n",
       "float64 SSA(time, wavelength)\n",
       "    long_name: single scattering albedo\n",
       "    units: unitless\n",
       "    source: retrieval\n",
       "    values: 1.0 1.5 2.0\n",
       "    lev2: Has 21+ values at all wavelengths with scattering angle >80 deg and multiple points in each of 4 scattering angle ranges, and <20% asymmetry between CW and CCW legs\n",
       "    lev1p5: Has 10+ values at all wavelengths with scattering angle >80 deg and at least one point in each of 4 scattering angle ranges\n",
       "    lev1: Has at least one point at all wavelengths in each of 4 scattering angle ranges\n",
       "    Comment: Based on AERONET inversion criteria in https://aeronet.gsfc.nasa.gov/new_web/Documents/AERONETcriteria_final1.pdf\n",
       "    Comment2: A consequence of the symmetry requirement for level 2 is that PPL scans can assess at no higher than 1.5\n",
       "unlimited dimensions: time\n",
       "current shape = (84, 5)\n",
       "filling on, default _FillValue of 9.96920996839e+36 used"
      ]
     },
     "execution_count": 33,
     "metadata": {},
     "output_type": "execute_result"
    }
   ],
   "source": [
    "ae_dict['SSA']"
   ]
  },
  {
   "cell_type": "code",
   "execution_count": 34,
   "metadata": {
    "ExecuteTime": {
     "end_time": "2019-12-03T07:57:38.265755Z",
     "start_time": "2019-12-03T07:57:38.225384Z"
    }
   },
   "outputs": [
    {
     "data": {
      "text/plain": [
       "(84, 5)"
      ]
     },
     "execution_count": 34,
     "metadata": {},
     "output_type": "execute_result"
    }
   ],
   "source": [
    "ae['SSA'].shape"
   ]
  },
  {
   "cell_type": "code",
   "execution_count": 194,
   "metadata": {
    "ExecuteTime": {
     "end_time": "2019-12-03T21:26:02.597522Z",
     "start_time": "2019-12-03T21:26:02.560477Z"
    }
   },
   "outputs": [
    {
     "data": {
      "text/plain": [
       "<type 'netCDF4._netCDF4.Variable'>\n",
       "float64 time(time)\n",
       "    long_name: Time offset from midnight\n",
       "    units: seconds since 2016-08-31 00:00:00 0:00\n",
       "unlimited dimensions: time\n",
       "current shape = (84,)\n",
       "filling on, default _FillValue of 9.96920996839e+36 used"
      ]
     },
     "execution_count": 194,
     "metadata": {},
     "output_type": "execute_result"
    }
   ],
   "source": [
    "ae_dict['time']"
   ]
  },
  {
   "cell_type": "code",
   "execution_count": 197,
   "metadata": {
    "ExecuteTime": {
     "end_time": "2019-12-03T21:27:18.092479Z",
     "start_time": "2019-12-03T21:27:18.032521Z"
    }
   },
   "outputs": [
    {
     "data": {
      "text/plain": [
       "array([  9.36436349,   9.38314424,  11.44100489,  13.53473135,\n",
       "        13.55286422,  13.63317105,  13.65609344,  14.15397498,\n",
       "        14.17291726,  55.12454682,  56.45493072,  56.47428852,\n",
       "        56.50556153,  56.52408765,  56.62796449,  56.64651974,\n",
       "        57.3145811 ,  57.57097029,  57.58955459,  58.57214188,\n",
       "        58.99556736,  60.49512862,  60.51375567,  60.53747322,\n",
       "        62.83647775, 153.56740963, 153.58586041, 154.09168935,\n",
       "       154.11113343, 154.98052584, 155.82233424, 155.84067681,\n",
       "       156.42516806, 156.44378445, 157.14872684, 157.16740038,\n",
       "       203.2280269 , 251.08488591, 252.31515166, 300.24803314,\n",
       "       301.14747711, 301.1660435 , 301.18294843, 301.7608256 ,\n",
       "       301.77941441, 302.12064148, 302.14029531, 345.31344008,\n",
       "       345.33189656, 346.52380833, 346.63178176, 346.6632354 ,\n",
       "       349.91946379, 441.84949381, 489.40488159, 489.42472078,\n",
       "       489.45796597, 489.48503416, 489.52466494, 489.55642007,\n",
       "       489.58136179, 491.02055947, 491.14471216, 492.66561342,\n",
       "       492.70347723, 492.75552446, 493.23101581, 493.25420547,\n",
       "       493.28753676, 493.31825604, 493.39634628, 585.70342018,\n",
       "       585.81399486, 587.9221829 , 609.80894124, 609.82767846,\n",
       "       611.75699517, 613.90812606, 613.97765332, 613.99688071,\n",
       "       614.07015826, 614.08907765, 615.32024977, 665.05941757])"
      ]
     },
     "execution_count": 197,
     "metadata": {},
     "output_type": "execute_result"
    }
   ],
   "source": [
    "ae['time']/3600.0"
   ]
  },
  {
   "cell_type": "code",
   "execution_count": null,
   "metadata": {},
   "outputs": [],
   "source": [
    "days = ['20160824','20160825','20160827','20160830','20160831','20160902','20160904','20160906','20160908',\n",
    "       '20160910','20160912','20160914','20160918','20160920','20160924','20160925','20160927','20160930']"
   ]
  },
  {
   "cell_type": "code",
   "execution_count": 199,
   "metadata": {
    "ExecuteTime": {
     "end_time": "2019-12-03T21:33:27.150923Z",
     "start_time": "2019-12-03T21:33:23.325216Z"
    }
   },
   "outputs": [],
   "source": [
    "ar['doy'] = np.array([datetime.strptime(days[int(d)],'%Y%m%d').timetuple().tm_yday for d in ar['days']])"
   ]
  },
  {
   "cell_type": "code",
   "execution_count": 201,
   "metadata": {
    "ExecuteTime": {
     "end_time": "2019-12-03T21:34:34.776874Z",
     "start_time": "2019-12-03T21:34:34.743356Z"
    }
   },
   "outputs": [
    {
     "data": {
      "text/plain": [
       "244"
      ]
     },
     "execution_count": 201,
     "metadata": {},
     "output_type": "execute_result"
    }
   ],
   "source": [
    "datetime.strptime(days[4],'%Y%m%d').timetuple().tm_yday"
   ]
  },
  {
   "cell_type": "code",
   "execution_count": 207,
   "metadata": {
    "ExecuteTime": {
     "end_time": "2019-12-03T21:43:29.529656Z",
     "start_time": "2019-12-03T21:43:29.491302Z"
    }
   },
   "outputs": [],
   "source": [
    "ar['time_ae'] = ar['Start_UTC']+(24.0*(ar['doy']-244))"
   ]
  },
  {
   "cell_type": "code",
   "execution_count": 204,
   "metadata": {
    "ExecuteTime": {
     "end_time": "2019-12-03T21:35:11.380013Z",
     "start_time": "2019-12-03T21:35:11.349573Z"
    }
   },
   "outputs": [
    {
     "data": {
      "text/plain": [
       "array([-156.14305556, -156.14277778, -156.1425    , ...,  737.93      ,\n",
       "        737.93027778,  737.93055556])"
      ]
     },
     "execution_count": 204,
     "metadata": {},
     "output_type": "execute_result"
    }
   ],
   "source": [
    "ar['time_ae']"
   ]
  },
  {
   "cell_type": "markdown",
   "metadata": {},
   "source": [
    "# Prepare the base dict and defaults"
   ]
  },
  {
   "cell_type": "code",
   "execution_count": 35,
   "metadata": {
    "ExecuteTime": {
     "end_time": "2019-12-03T08:42:08.092371Z",
     "start_time": "2019-12-03T08:42:08.053621Z"
    }
   },
   "outputs": [
    {
     "data": {
      "text/plain": [
       "321"
      ]
     },
     "execution_count": 35,
     "metadata": {},
     "output_type": "execute_result"
    }
   ],
   "source": [
    "from datetime import datetime\n",
    "datetime(2015,11,17).timetuple().tm_yday"
   ]
  },
  {
   "cell_type": "code",
   "execution_count": 164,
   "metadata": {
    "ExecuteTime": {
     "end_time": "2019-12-03T20:53:07.089575Z",
     "start_time": "2019-12-03T20:53:07.023871Z"
    }
   },
   "outputs": [],
   "source": [
    "# for all 4STAR aerosol arrays\n",
    "fla = (ar['flag_acaod']==1) & ar['fl'] & ar['fl_QA'] & (ar['days']>2.0)"
   ]
  },
  {
   "cell_type": "code",
   "execution_count": 165,
   "metadata": {
    "ExecuteTime": {
     "end_time": "2019-12-03T20:53:09.369320Z",
     "start_time": "2019-12-03T20:53:09.291900Z"
    }
   },
   "outputs": [],
   "source": [
    "# for the cod and ref arrays\n",
    "fld = (ar['days']>2.0) & (ar['days']!=17.0) \n",
    "flb = (ar['flag_acaod'][fld]==1) & ar['fl'][fld] & ar['fl_QA'][fld]"
   ]
  },
  {
   "cell_type": "code",
   "execution_count": 66,
   "metadata": {
    "ExecuteTime": {
     "end_time": "2019-12-03T19:13:01.423949Z",
     "start_time": "2019-12-03T19:13:01.333626Z"
    },
    "scrolled": true
   },
   "outputs": [
    {
     "data": {
      "text/plain": [
       "[u'AOD0355',\n",
       " u'AOD0380',\n",
       " u'AOD0452',\n",
       " u'AOD0470',\n",
       " u'AOD0501',\n",
       " u'AOD0520',\n",
       " u'AOD0530',\n",
       " u'AOD0532',\n",
       " u'AOD0550',\n",
       " u'AOD0606',\n",
       " u'AOD0620',\n",
       " u'AOD0660',\n",
       " u'AOD0675',\n",
       " u'AOD0700',\n",
       " u'AOD0781',\n",
       " u'AOD0865',\n",
       " u'AOD1020',\n",
       " u'AOD1040',\n",
       " u'AOD1064',\n",
       " u'AOD1236',\n",
       " u'AOD1250',\n",
       " u'AOD1559',\n",
       " u'AOD1627',\n",
       " u'AOD1650',\n",
       " u'AOD_angstrom_470_865',\n",
       " u'AOD_polycoef_a0',\n",
       " u'AOD_polycoef_a1',\n",
       " u'AOD_polycoef_a2',\n",
       " u'GPS_Alt',\n",
       " u'Latitude',\n",
       " u'Longitude',\n",
       " u'Start_UTC',\n",
       " u'UNCAOD0355',\n",
       " u'UNCAOD0380',\n",
       " u'UNCAOD0452',\n",
       " u'UNCAOD0470',\n",
       " u'UNCAOD0501',\n",
       " u'UNCAOD0520',\n",
       " u'UNCAOD0530',\n",
       " u'UNCAOD0532',\n",
       " u'UNCAOD0550',\n",
       " u'UNCAOD0606',\n",
       " u'UNCAOD0620',\n",
       " u'UNCAOD0660',\n",
       " u'UNCAOD0675',\n",
       " u'UNCAOD0700',\n",
       " u'UNCAOD0781',\n",
       " u'UNCAOD0865',\n",
       " u'UNCAOD1020',\n",
       " u'UNCAOD1040',\n",
       " u'UNCAOD1064',\n",
       " u'UNCAOD1236',\n",
       " u'UNCAOD1250',\n",
       " u'UNCAOD1559',\n",
       " u'UNCAOD1627',\n",
       " u'UNCAOD1650',\n",
       " u'amass_aer',\n",
       " u'days',\n",
       " u'fl',\n",
       " u'fl1',\n",
       " u'fl2',\n",
       " u'fl3',\n",
       " u'fl_QA',\n",
       " u'fl_alt',\n",
       " u'fl_alt_18',\n",
       " u'fl_alt_22',\n",
       " u'fl_alt_6',\n",
       " u'fl_routine',\n",
       " u'flac',\n",
       " u'flacr',\n",
       " u'flag_acaod',\n",
       " u'flr',\n",
       " u'qual_flag']"
      ]
     },
     "execution_count": 66,
     "metadata": {},
     "output_type": "execute_result"
    }
   ],
   "source": [
    "ka = ar.keys()\n",
    "ka.sort()\n",
    "ka"
   ]
  },
  {
   "cell_type": "code",
   "execution_count": 80,
   "metadata": {
    "ExecuteTime": {
     "end_time": "2019-12-03T19:18:38.253435Z",
     "start_time": "2019-12-03T19:18:38.180721Z"
    }
   },
   "outputs": [],
   "source": [
    "doy = datetime.strptime(dds[int(ar['days'][fla][0])],'%Y%m%d').timetuple().tm_yday"
   ]
  },
  {
   "cell_type": "code",
   "execution_count": 82,
   "metadata": {
    "ExecuteTime": {
     "end_time": "2019-12-03T19:18:52.100474Z",
     "start_time": "2019-12-03T19:18:51.972421Z"
    }
   },
   "outputs": [
    {
     "data": {
      "text/plain": [
       "246"
      ]
     },
     "execution_count": 82,
     "metadata": {},
     "output_type": "execute_result"
    }
   ],
   "source": [
    "doy"
   ]
  },
  {
   "cell_type": "code",
   "execution_count": 83,
   "metadata": {
    "ExecuteTime": {
     "end_time": "2019-12-03T19:21:20.528103Z",
     "start_time": "2019-12-03T19:21:20.456102Z"
    }
   },
   "outputs": [],
   "source": [
    "geo = {'lat':ar['Latitude'][0],'lon':ar['Longitude'][0],'doy':doy,'zout':[0,1.5,100.0]}\n",
    "aero_no = {} # none\n",
    "cloud = {'ztop':1.0,'zbot':0.5,'write_moments_file':False}\n",
    "source = {'wvl_range':[201.0,5600.0],'source':'solar','integrate_values':True,'run_fuliou':True,\n",
    "          'dat_path':fp_uvspec_dat}\n",
    "albedo = {'create_albedo_file':False,'sea_surface_albedo':True,'wind_speed':5.0}"
   ]
  },
  {
   "cell_type": "code",
   "execution_count": 209,
   "metadata": {
    "ExecuteTime": {
     "end_time": "2019-12-03T21:44:10.028577Z",
     "start_time": "2019-12-03T21:44:08.284317Z"
    }
   },
   "outputs": [],
   "source": [
    "cloud['phase'] = 'wc'\n",
    "geo['sza'] = 40.0\n",
    "cloud['tau'] = 2.0\n",
    "cloud['ref'] = 5.0\n",
    "pmom = Rl.make_pmom_inputs(fp_rtm=fp_rtmdat,source='solar',deltascale=False)\n",
    "cloud['moms_dict'] = pmom"
   ]
  },
  {
   "cell_type": "code",
   "execution_count": 43,
   "metadata": {
    "ExecuteTime": {
     "end_time": "2019-12-03T09:06:54.304457Z",
     "start_time": "2019-12-03T09:06:54.272001Z"
    }
   },
   "outputs": [],
   "source": [
    "pmom['wvl'][0] = 0.250"
   ]
  },
  {
   "cell_type": "code",
   "execution_count": 118,
   "metadata": {
    "ExecuteTime": {
     "end_time": "2019-12-03T19:48:34.983620Z",
     "start_time": "2019-12-03T19:48:34.879237Z"
    }
   },
   "outputs": [
    {
     "data": {
      "text/plain": [
       "array([ 250.,  400.,  500.,  675.,  870.,  995., 4900.])"
      ]
     },
     "execution_count": 118,
     "metadata": {},
     "output_type": "execute_result"
    }
   ],
   "source": [
    "wvl = np.append(np.append([250.0],ae['wavelength']),4900.0)\n",
    "wvl"
   ]
  },
  {
   "cell_type": "code",
   "execution_count": 119,
   "metadata": {
    "ExecuteTime": {
     "end_time": "2019-12-03T19:48:38.244789Z",
     "start_time": "2019-12-03T19:48:38.194411Z"
    }
   },
   "outputs": [],
   "source": [
    "aero = {'expand_hg':True,'disort_phase':False,'z_arr':[2.0,5.0],\n",
    "        'wvl_arr':wvl}"
   ]
  },
  {
   "cell_type": "code",
   "execution_count": 112,
   "metadata": {
    "ExecuteTime": {
     "end_time": "2019-12-03T19:46:20.703699Z",
     "start_time": "2019-12-03T19:46:20.617102Z"
    }
   },
   "outputs": [],
   "source": [
    "def fx_aero(aprop):\n",
    "    'Function the aerosol property a 2d matrix for height and spectra, and extend the wavelength from 250 to 4900 nm'\n",
    "    atmp = np.append([aprop[0]],np.append(aprop,aprop[-1]))\n",
    "    return np.array([atmp,atmp])"
   ]
  },
  {
   "cell_type": "code",
   "execution_count": 181,
   "metadata": {
    "ExecuteTime": {
     "end_time": "2019-12-03T21:12:52.392450Z",
     "start_time": "2019-12-03T21:12:52.366444Z"
    }
   },
   "outputs": [],
   "source": [
    "def fx_ext(a0,a1,a2,wvl=wvl):\n",
    "    'Function to create the extinction coefficients from 4STAR AODs'\n",
    "    aod = np.exp(np.polyval([a2,a1,a0],np.log(wvl)))\n",
    "    aod[-1] = 0.0 # set the last wavelength to zero\n",
    "    return np.array([aod/3.0,aod*0.0])"
   ]
  },
  {
   "cell_type": "code",
   "execution_count": 182,
   "metadata": {
    "ExecuteTime": {
     "end_time": "2019-12-03T21:12:52.888477Z",
     "start_time": "2019-12-03T21:12:52.862787Z"
    }
   },
   "outputs": [],
   "source": [
    "aero['ext'] = fx_ext(ar['AOD_polycoef_a0'][fla][0],ar['AOD_polycoef_a1'][fla][0],ar['AOD_polycoef_a2'][fla][0])"
   ]
  },
  {
   "cell_type": "code",
   "execution_count": 114,
   "metadata": {
    "ExecuteTime": {
     "end_time": "2019-12-03T19:46:55.784056Z",
     "start_time": "2019-12-03T19:46:55.700638Z"
    }
   },
   "outputs": [],
   "source": [
    "aero['asy'] = fx_aero(ae['g_total'][0])"
   ]
  },
  {
   "cell_type": "code",
   "execution_count": 117,
   "metadata": {
    "ExecuteTime": {
     "end_time": "2019-12-03T19:47:30.140806Z",
     "start_time": "2019-12-03T19:47:30.053864Z"
    }
   },
   "outputs": [
    {
     "data": {
      "text/plain": [
       "array([[0.8801, 0.8801, 0.8659, 0.8649, 0.836 , 0.8277, 0.8277],\n",
       "       [0.8801, 0.8801, 0.8659, 0.8649, 0.836 , 0.8277, 0.8277]])"
      ]
     },
     "execution_count": 117,
     "metadata": {},
     "output_type": "execute_result"
    }
   ],
   "source": [
    "aero['ssa'] = fx_aero(ae['SSA'][0])"
   ]
  },
  {
   "cell_type": "markdown",
   "metadata": {},
   "source": [
    "## Prepare the file list and saving"
   ]
  },
  {
   "cell_type": "code",
   "execution_count": 44,
   "metadata": {
    "ExecuteTime": {
     "end_time": "2019-12-03T18:45:48.229276Z",
     "start_time": "2019-12-03T18:45:48.192403Z"
    }
   },
   "outputs": [],
   "source": [
    "def isjupyter():\n",
    "    try:\n",
    "        shell = get_ipython().__class__.__name__\n",
    "        if shell == 'ZMQInteractiveShell':\n",
    "            return True   # Jupyter notebook or qtconsole\n",
    "        elif shell == 'TerminalInteractiveShell':\n",
    "            return False  # Terminal running IPython\n",
    "        else:\n",
    "            return False  # Other type (?)\n",
    "    except NameError:\n",
    "        return False      # Probably standard Python interpreter"
   ]
  },
  {
   "cell_type": "code",
   "execution_count": 45,
   "metadata": {
    "ExecuteTime": {
     "end_time": "2019-12-03T18:46:25.168570Z",
     "start_time": "2019-12-03T18:46:25.132089Z"
    }
   },
   "outputs": [],
   "source": [
    "# open the list file\n",
    "f = open(fp_rtm+'{}_DARE_{}.sh'.format(name,vv),'w')\n",
    "fpp_in = fp_rtm+'input/{}_DARE_{}/'.format(name,vv)\n",
    "fpp_out = fp_rtm+'output/{}_DARE_{}/'.format(name,vv)"
   ]
  },
  {
   "cell_type": "code",
   "execution_count": 46,
   "metadata": {
    "ExecuteTime": {
     "end_time": "2019-12-03T18:46:32.237713Z",
     "start_time": "2019-12-03T18:46:32.212935Z"
    }
   },
   "outputs": [],
   "source": [
    "if not os.path.isdir(fpp_in):\n",
    "    os.mkdir(fpp_in)\n",
    "if not os.path.isdir(fpp_out):\n",
    "     os.mkdir(fpp_out)"
   ]
  },
  {
   "cell_type": "code",
   "execution_count": 120,
   "metadata": {
    "ExecuteTime": {
     "end_time": "2019-12-03T19:49:35.506180Z",
     "start_time": "2019-12-03T19:49:35.454283Z"
    }
   },
   "outputs": [],
   "source": [
    "# for writing out the files"
   ]
  },
  {
   "cell_type": "code",
   "execution_count": 211,
   "metadata": {
    "ExecuteTime": {
     "end_time": "2019-12-03T23:07:50.915662Z",
     "start_time": "2019-12-03T21:44:40.381767Z"
    }
   },
   "outputs": [
    {
     "data": {
      "application/vnd.jupyter.widget-view+json": {
       "model_id": "76d0f4ad8fae4962976b8a56bd369a89",
       "version_major": 2,
       "version_minor": 0
      },
      "text/plain": [
       "HBox(children=(IntProgress(value=0, max=28619), HTML(value=u'')))"
      ]
     },
     "metadata": {},
     "output_type": "display_data"
    }
   ],
   "source": [
    "if isjupyter():\n",
    "    pbar = tqdm(total=len(ar['Start_UTC'][fla]))\n",
    "for i,u in enumerate(ar['Start_UTC'][fla]):\n",
    "    \n",
    "    f_in = '{name}_{vv}_DARE_{i:03d}_withaero.dat'.format(name=name,vv=vv,i=i)\n",
    "\n",
    "    geo['lat'],geo['lon'],geo['sza'] = ar['Latitude'][fla][i],ar['Longitude'][fla][i],sza[fla][i]\n",
    "    day = days[ar['days'][fla][i].astype(int)]\n",
    "    geo['doy'] = datetime(int(day[0:4]),int(day[4:6]),int(day[6:])).timetuple().tm_yday\n",
    "\n",
    "    cloud['tau'],cloud['ref'] = cod[flb][i],ref[flb][i]\n",
    "    cloud['write_moments_file'] = True\n",
    "\n",
    "    iae = np.argmin(abs(ar['time_ae'][fla][i]-ae['time']/3600.0))\n",
    "\n",
    "    # Only run for aerosol rertievals within 1 hour\n",
    "    if abs(ar['time_ae'][fla][i]-ae['time']/3600.0)[iae]<1.0: \n",
    "\n",
    "        aero['ext'] = fx_ext(ar['AOD_polycoef_a0'][fla][i],ar['AOD_polycoef_a1'][fla][i],ar['AOD_polycoef_a2'][fla][i])\n",
    "        aero['ssa'] = fx_aero(ae['SSA'][0])\n",
    "        aero['asy'] = fx_aero(ae['g_total'][iae])\n",
    "\n",
    "        Rl.write_input_aac(fpp_in+f_in,geo=geo,aero=aero,cloud=cloud,source=source,albedo=albedo,\n",
    "                                   verbose=False,make_base=False,set_quiet=True)\n",
    "        f.write('{uv} < {fin} > {out}\\n'.format(uv=fp_uvspec,fin=fpp_in+f_in,out=fpp_out+f_in))\n",
    "\n",
    "        f_in = '{name}_{vv}_star_{i:03d}_noaero.dat'.format(name=name,vv=vv,i=i)\n",
    "        Rl.write_input_aac(fpp_in+f_in,geo=geo,aero=aero_no,cloud=cloud,source=source,albedo=albedo,\n",
    "                                   verbose=False,make_base=False,set_quiet=True)\n",
    "        f.write('{uv} < {fin} > {out}\\n'.format(uv=fp_uvspec,fin=fpp_in+f_in,out=fpp_out+f_in))\n",
    "\n",
    "    if isjupyter(): \n",
    "        pbar.update(1)\n",
    "    else:\n",
    "        print i\n",
    "\n",
    "f.close()"
   ]
  },
  {
   "cell_type": "code",
   "execution_count": null,
   "metadata": {},
   "outputs": [],
   "source": []
  }
 ],
 "metadata": {
  "kernelspec": {
   "display_name": "Python 2",
   "language": "python",
   "name": "python2"
  },
  "language_info": {
   "codemirror_mode": {
    "name": "ipython",
    "version": 2
   },
   "file_extension": ".py",
   "mimetype": "text/x-python",
   "name": "python",
   "nbconvert_exporter": "python",
   "pygments_lexer": "ipython2",
   "version": "2.7.15+"
  },
  "toc": {
   "base_numbering": 1,
   "nav_menu": {},
   "number_sections": true,
   "sideBar": false,
   "skip_h1_title": false,
   "title_cell": "Table of Contents",
   "title_sidebar": "Contents",
   "toc_cell": false,
   "toc_position": {
    "height": "265.333px",
    "left": "88px",
    "top": "220px",
    "width": "342.667px"
   },
   "toc_section_display": true,
   "toc_window_display": true
  }
 },
 "nbformat": 4,
 "nbformat_minor": 2
}
