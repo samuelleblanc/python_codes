{
 "cells": [
  {
   "cell_type": "markdown",
   "metadata": {},
   "source": [
    "# Intro\n",
    "Name:  \n",
    "\n",
    "    ORACLES_Build_DARE\n",
    "\n",
    "Purpose:  \n",
    "\n",
    "    Build the aerosol radiative effect input files from the SSFR reflectances, 4STAR AOD, and 4STAR skyscan results\n",
    "  \n",
    "Input:\n",
    "\n",
    "    none at command line\n",
    "  \n",
    "Output:\n",
    "\n",
    "    figures and save files...\n",
    "  \n",
    "Keywords:\n",
    "\n",
    "    none\n",
    "  \n",
    "Dependencies:\n",
    "\n",
    "    - Sp_parameters.py : for Sp class definition, and for defining the functions used to build parameters\n",
    "    - matplotlib\n",
    "    - numpy\n",
    "    - scipy : for saving and reading\n",
    "    - plotting_utils (user defined plotting routines)\n",
    "    - hdf5storage\n",
    "  \n",
    "Needed Files:\n",
    "\n",
    "  - file.rc : for consistent creation of look of matplotlib figures\n",
    "  - 4STAR_cloud retrieval .mat files\n",
    "  \n",
    " Modification History:\n",
    " \n",
    "     Written: by Samuel LeBlanc, Santa Cruz, CA, 2019-12-02"
   ]
  },
  {
   "cell_type": "markdown",
   "metadata": {},
   "source": [
    "# Import of modules"
   ]
  },
  {
   "cell_type": "code",
   "execution_count": 1,
   "metadata": {
    "ExecuteTime": {
     "end_time": "2019-12-19T20:32:35.121944Z",
     "start_time": "2019-12-19T20:32:34.389837Z"
    }
   },
   "outputs": [
    {
     "name": "stderr",
     "output_type": "stream",
     "text": [
      "/usr/lib/python2.7/dist-packages/h5py/__init__.py:36: FutureWarning: Conversion of the second argument of issubdtype from `float` to `np.floating` is deprecated. In future, it will be treated as `np.float64 == np.dtype(float).type`.\n",
      "  from ._conv import register_converters as _register_converters\n"
     ]
    }
   ],
   "source": [
    "import numpy as np\n",
    "import hdf5storage as hs\n",
    "import os\n",
    "import write_utils as wu\n",
    "import scipy.io as sio\n",
    "from path_utils import getpath\n",
    "import matplotlib.pyplot as plt\n",
    "import load_utils as lu\n",
    "from write_utils import nearest_neighbor, iterate_dict_unicode"
   ]
  },
  {
   "cell_type": "code",
   "execution_count": 2,
   "metadata": {
    "ExecuteTime": {
     "end_time": "2019-12-19T20:32:35.806152Z",
     "start_time": "2019-12-19T20:32:35.792675Z"
    }
   },
   "outputs": [],
   "source": [
    "%matplotlib notebook"
   ]
  },
  {
   "cell_type": "code",
   "execution_count": 3,
   "metadata": {
    "ExecuteTime": {
     "end_time": "2019-12-19T20:32:36.273281Z",
     "start_time": "2019-12-19T20:32:36.259724Z"
    }
   },
   "outputs": [],
   "source": [
    "from tqdm.notebook import tqdm \n",
    "from datetime import datetime"
   ]
  },
  {
   "cell_type": "code",
   "execution_count": 4,
   "metadata": {
    "ExecuteTime": {
     "end_time": "2019-12-19T20:32:36.547462Z",
     "start_time": "2019-12-19T20:32:36.539985Z"
    }
   },
   "outputs": [],
   "source": [
    "import Run_libradtran as Rl"
   ]
  },
  {
   "cell_type": "code",
   "execution_count": 5,
   "metadata": {
    "ExecuteTime": {
     "end_time": "2019-12-19T20:32:36.841470Z",
     "start_time": "2019-12-19T20:32:36.834182Z"
    }
   },
   "outputs": [],
   "source": [
    "name = 'ORACLES'"
   ]
  },
  {
   "cell_type": "code",
   "execution_count": 6,
   "metadata": {
    "ExecuteTime": {
     "end_time": "2019-12-19T20:32:37.178589Z",
     "start_time": "2019-12-19T20:32:37.173379Z"
    }
   },
   "outputs": [],
   "source": [
    "vv = 'v2'\n",
    "vr = 'R3'"
   ]
  },
  {
   "cell_type": "code",
   "execution_count": 7,
   "metadata": {
    "ExecuteTime": {
     "end_time": "2019-12-19T20:32:37.563136Z",
     "start_time": "2019-12-19T20:32:37.549959Z"
    }
   },
   "outputs": [
    {
     "name": "stdout",
     "output_type": "stream",
     "text": [
      "Return path named:  ORACLES /mnt/c/Users/lebla/Research/ORACLES/\n",
      "Return path named:  rtm /home/samuel/rtm/\n",
      "Return path named:  uvspec_bin /mnt/c/Users/lebla/Research/libradtran/libRadtran-2.0.2/bin/\n",
      "Return path named:  uvspec_dat /mnt/c/Users/lebla/Research/libradtran/libRadtran-2.0.2/data/\n"
     ]
    }
   ],
   "source": [
    "fp = getpath(name)\n",
    "fp_rtm = getpath('rtm')\n",
    "fp_uvspec = getpath('uvspec_bin')+'uvspec'\n",
    "matfile = fp+'{}_all_cld_ict.mat'.format(vr)\n",
    "fp_uvspec_dat = getpath('uvspec_dat')\n",
    "fp_rtmdat = fp_rtm+'dat/'"
   ]
  },
  {
   "cell_type": "markdown",
   "metadata": {},
   "source": [
    "# Load the files"
   ]
  },
  {
   "cell_type": "markdown",
   "metadata": {},
   "source": [
    "## Load the 4STAR AOD"
   ]
  },
  {
   "cell_type": "code",
   "execution_count": 8,
   "metadata": {
    "ExecuteTime": {
     "end_time": "2019-12-19T20:32:47.969464Z",
     "start_time": "2019-12-19T20:32:45.529630Z"
    }
   },
   "outputs": [],
   "source": [
    "ar = hs.loadmat(fp+'/aod_ict/v8/{v}/all_aod_ict_{v}_2016.mat'.format(v=vr))"
   ]
  },
  {
   "cell_type": "code",
   "execution_count": 9,
   "metadata": {
    "ExecuteTime": {
     "end_time": "2019-12-19T20:32:51.680270Z",
     "start_time": "2019-12-19T20:32:51.666755Z"
    },
    "scrolled": true
   },
   "outputs": [
    {
     "data": {
      "text/plain": [
       "[u'AOD1040',\n",
       " u'AOD0532',\n",
       " u'AOD0530',\n",
       " u'UNCAOD0550',\n",
       " u'UNCAOD0700',\n",
       " u'AOD0355',\n",
       " u'AOD1627',\n",
       " u'AOD0520',\n",
       " u'UNCAOD0620',\n",
       " u'AOD0606',\n",
       " u'AOD1064',\n",
       " u'Latitude',\n",
       " u'UNCAOD0452',\n",
       " u'fl_alt_6',\n",
       " u'AOD0620',\n",
       " u'AOD0700',\n",
       " u'AOD0550',\n",
       " u'AOD0660',\n",
       " u'UNCAOD1627',\n",
       " u'AOD0452',\n",
       " u'fl_routine',\n",
       " u'AOD0470',\n",
       " u'fl1',\n",
       " u'UNCAOD1236',\n",
       " u'fl3',\n",
       " u'fl2',\n",
       " u'UNCAOD1064',\n",
       " u'UNCAOD0501',\n",
       " u'AOD_angstrom_470_865',\n",
       " u'AOD_polycoef_a0',\n",
       " u'AOD_polycoef_a2',\n",
       " u'UNCAOD0606',\n",
       " u'UNCAOD0355',\n",
       " u'qual_flag',\n",
       " u'UNCAOD0675',\n",
       " u'AOD1559',\n",
       " u'UNCAOD1650',\n",
       " u'UNCAOD1559',\n",
       " u'UNCAOD1250',\n",
       " u'AOD0501',\n",
       " u'Longitude',\n",
       " u'AOD_polycoef_a1',\n",
       " u'UNCAOD0660',\n",
       " u'GPS_Alt',\n",
       " u'AOD1250',\n",
       " u'flac',\n",
       " u'UNCAOD0380',\n",
       " u'fl',\n",
       " u'AOD0675',\n",
       " u'fl_QA',\n",
       " u'AOD1236',\n",
       " u'AOD1650',\n",
       " u'UNCAOD0470',\n",
       " u'AOD0380',\n",
       " u'UNCAOD0865',\n",
       " u'Start_UTC',\n",
       " u'flr',\n",
       " u'UNCAOD0781',\n",
       " u'days',\n",
       " u'UNCAOD0520',\n",
       " u'fl_alt_22',\n",
       " u'AOD0781',\n",
       " u'fl_alt_18',\n",
       " u'flag_acaod',\n",
       " u'fl_alt',\n",
       " u'AOD0865',\n",
       " u'amass_aer',\n",
       " u'flacr',\n",
       " u'UNCAOD1020',\n",
       " u'UNCAOD0532',\n",
       " u'UNCAOD1040',\n",
       " u'UNCAOD0530',\n",
       " u'AOD1020']"
      ]
     },
     "execution_count": 9,
     "metadata": {},
     "output_type": "execute_result"
    }
   ],
   "source": [
    "ar.keys()"
   ]
  },
  {
   "cell_type": "code",
   "execution_count": 10,
   "metadata": {
    "ExecuteTime": {
     "end_time": "2019-12-19T20:32:52.780454Z",
     "start_time": "2019-12-19T20:32:52.772216Z"
    }
   },
   "outputs": [
    {
     "data": {
      "text/plain": [
       "(483692,)"
      ]
     },
     "execution_count": 10,
     "metadata": {},
     "output_type": "execute_result"
    }
   ],
   "source": [
    "ar['AOD0501'].shape"
   ]
  },
  {
   "cell_type": "code",
   "execution_count": 11,
   "metadata": {
    "ExecuteTime": {
     "end_time": "2019-12-19T20:32:53.366598Z",
     "start_time": "2019-12-19T20:32:53.343747Z"
    }
   },
   "outputs": [
    {
     "name": "stderr",
     "output_type": "stream",
     "text": [
      "/home/samuel/.local/lib/python2.7/site-packages/ipykernel_launcher.py:1: RuntimeWarning: invalid value encountered in arccos\n",
      "  \"\"\"Entry point for launching an IPython kernel.\n"
     ]
    }
   ],
   "source": [
    "sza = np.arccos(1.0/ar['amass_aer'])*180.0/np.pi"
   ]
  },
  {
   "cell_type": "code",
   "execution_count": 12,
   "metadata": {
    "ExecuteTime": {
     "end_time": "2019-12-19T20:32:53.947488Z",
     "start_time": "2019-12-19T20:32:53.942513Z"
    }
   },
   "outputs": [],
   "source": [
    "days = ['20160824','20160825','20160827','20160830','20160831','20160902','20160904','20160906','20160908',\n",
    "       '20160910','20160912','20160914','20160918','20160920','20160924','20160925','20160927','20160930']"
   ]
  },
  {
   "cell_type": "code",
   "execution_count": 123,
   "metadata": {
    "ExecuteTime": {
     "end_time": "2019-12-19T22:04:05.955841Z",
     "start_time": "2019-12-19T22:04:05.946674Z"
    }
   },
   "outputs": [
    {
     "data": {
      "text/plain": [
       "18"
      ]
     },
     "execution_count": 123,
     "metadata": {},
     "output_type": "execute_result"
    }
   ],
   "source": [
    "len(days)"
   ]
  },
  {
   "cell_type": "code",
   "execution_count": 122,
   "metadata": {
    "ExecuteTime": {
     "end_time": "2019-12-19T22:03:57.567434Z",
     "start_time": "2019-12-19T22:03:57.556009Z"
    }
   },
   "outputs": [
    {
     "data": {
      "text/plain": [
       "array([ 0.,  0.,  0., ..., 17., 17., 17.])"
      ]
     },
     "execution_count": 122,
     "metadata": {},
     "output_type": "execute_result"
    }
   ],
   "source": [
    "ar['days']"
   ]
  },
  {
   "cell_type": "markdown",
   "metadata": {},
   "source": [
    "## Load the retrieved Cloud properties"
   ]
  },
  {
   "cell_type": "code",
   "execution_count": 13,
   "metadata": {
    "ExecuteTime": {
     "end_time": "2019-12-19T20:33:03.132778Z",
     "start_time": "2019-12-19T20:33:02.656880Z"
    }
   },
   "outputs": [],
   "source": [
    "cl = hs.loadmat(fp+'data_other/ssfr_2016_retrieved_COD_{}.mat'.format(vv))"
   ]
  },
  {
   "cell_type": "code",
   "execution_count": 14,
   "metadata": {
    "ExecuteTime": {
     "end_time": "2019-12-19T20:33:03.819273Z",
     "start_time": "2019-12-19T20:33:03.809850Z"
    }
   },
   "outputs": [
    {
     "data": {
      "text/plain": [
       "[u'tau',\n",
       " u'aod',\n",
       " u'utc',\n",
       " u'Rvis',\n",
       " u'ki',\n",
       " u'sza',\n",
       " u'lon',\n",
       " u'days',\n",
       " u'a1',\n",
       " u'a0',\n",
       " u'a2',\n",
       " u'Rnir',\n",
       " u'lat',\n",
       " u'Rvis_mod',\n",
       " u'Rnir_mod',\n",
       " u'ref']"
      ]
     },
     "execution_count": 14,
     "metadata": {},
     "output_type": "execute_result"
    }
   ],
   "source": [
    "cl.keys()"
   ]
  },
  {
   "cell_type": "code",
   "execution_count": 15,
   "metadata": {
    "ExecuteTime": {
     "end_time": "2019-12-19T20:33:04.708763Z",
     "start_time": "2019-12-19T20:33:04.700249Z"
    }
   },
   "outputs": [
    {
     "data": {
      "text/plain": [
       "(380923,)"
      ]
     },
     "execution_count": 15,
     "metadata": {},
     "output_type": "execute_result"
    }
   ],
   "source": [
    "cl['tau'].shape"
   ]
  },
  {
   "cell_type": "code",
   "execution_count": 16,
   "metadata": {
    "ExecuteTime": {
     "end_time": "2019-12-19T20:33:05.587721Z",
     "start_time": "2019-12-19T20:33:05.582175Z"
    }
   },
   "outputs": [],
   "source": [
    "dds = ['20160830','20160831','20160902','20160904','20160906','20160908',\n",
    "       '20160910','20160912','20160914','20160918','20160920','20160924','20160925','20160927']"
   ]
  },
  {
   "cell_type": "code",
   "execution_count": 124,
   "metadata": {
    "ExecuteTime": {
     "end_time": "2019-12-19T22:04:12.139598Z",
     "start_time": "2019-12-19T22:04:12.132575Z"
    }
   },
   "outputs": [
    {
     "data": {
      "text/plain": [
       "14"
      ]
     },
     "execution_count": 124,
     "metadata": {},
     "output_type": "execute_result"
    }
   ],
   "source": [
    "len(dds)"
   ]
  },
  {
   "cell_type": "code",
   "execution_count": 125,
   "metadata": {
    "ExecuteTime": {
     "end_time": "2019-12-19T22:04:26.019439Z",
     "start_time": "2019-12-19T22:04:26.009847Z"
    }
   },
   "outputs": [
    {
     "data": {
      "text/plain": [
       "array([ 0.,  0.,  0., ..., 13., 13., 13.])"
      ]
     },
     "execution_count": 125,
     "metadata": {},
     "output_type": "execute_result"
    }
   ],
   "source": [
    "cl['days']"
   ]
  },
  {
   "cell_type": "code",
   "execution_count": 18,
   "metadata": {
    "ExecuteTime": {
     "end_time": "2019-12-19T20:33:06.766438Z",
     "start_time": "2019-12-19T20:33:06.746892Z"
    }
   },
   "outputs": [],
   "source": [
    "dd = np.unique(cl['days'])"
   ]
  },
  {
   "cell_type": "code",
   "execution_count": 128,
   "metadata": {
    "ExecuteTime": {
     "end_time": "2019-12-19T22:06:50.741791Z",
     "start_time": "2019-12-19T22:06:50.666301Z"
    }
   },
   "outputs": [
    {
     "name": "stdout",
     "output_type": "stream",
     "text": [
      "0.0\n",
      "1.0\n",
      "2.0\n",
      "3.0\n",
      "4.0\n",
      "5.0\n",
      "6.0\n",
      "7.0\n",
      "8.0\n",
      "9.0\n",
      "10.0\n",
      "11.0\n",
      "12.0\n",
      "13.0\n"
     ]
    }
   ],
   "source": [
    "cod,ref = [],[]\n",
    "for d in dd:\n",
    "    print d\n",
    "    fld = cl['days']==d\n",
    "    fad = ar['days']==d+3.0\n",
    "    #nearest neighbor, but not more than a minute away\n",
    "    cod_tmp = nearest_neighbor(cl['utc'][fld],cl['tau'][fld],ar['Start_UTC'][fad],dist=1.0/60.0) \n",
    "    ref_tmp = nearest_neighbor(cl['utc'][fld],cl['ref'][fld],ar['Start_UTC'][fad],dist=1.0/60.0)\n",
    "    cod = np.append(cod,cod_tmp)\n",
    "    ref = np.append(ref,ref_tmp)"
   ]
  },
  {
   "cell_type": "code",
   "execution_count": 129,
   "metadata": {
    "ExecuteTime": {
     "end_time": "2019-12-19T22:07:01.565824Z",
     "start_time": "2019-12-19T22:07:01.556632Z"
    }
   },
   "outputs": [
    {
     "data": {
      "text/plain": [
       "(379755,)"
      ]
     },
     "execution_count": 129,
     "metadata": {},
     "output_type": "execute_result"
    }
   ],
   "source": [
    "cod.shape"
   ]
  },
  {
   "cell_type": "code",
   "execution_count": 130,
   "metadata": {
    "ExecuteTime": {
     "end_time": "2019-12-19T22:07:02.691277Z",
     "start_time": "2019-12-19T22:07:02.681267Z"
    }
   },
   "outputs": [
    {
     "data": {
      "text/plain": [
       "14"
      ]
     },
     "execution_count": 130,
     "metadata": {},
     "output_type": "execute_result"
    }
   ],
   "source": [
    "len(dds)"
   ]
  },
  {
   "cell_type": "code",
   "execution_count": 131,
   "metadata": {
    "ExecuteTime": {
     "end_time": "2019-12-19T22:07:04.067360Z",
     "start_time": "2019-12-19T22:07:04.044528Z"
    }
   },
   "outputs": [
    {
     "data": {
      "text/plain": [
       "18"
      ]
     },
     "execution_count": 131,
     "metadata": {},
     "output_type": "execute_result"
    }
   ],
   "source": [
    "len(np.unique(ar['days']))"
   ]
  },
  {
   "cell_type": "markdown",
   "metadata": {},
   "source": [
    "## Load the skyscan retrievals"
   ]
  },
  {
   "cell_type": "code",
   "execution_count": 23,
   "metadata": {
    "ExecuteTime": {
     "end_time": "2019-12-19T20:33:14.452666Z",
     "start_time": "2019-12-19T20:33:14.351671Z"
    }
   },
   "outputs": [
    {
     "name": "stdout",
     "output_type": "stream",
     "text": [
      "Reading file: /mnt/c/Users/lebla/Research/ORACLES/aeroinv_2016/netcdf4/4STAR-aeroinv_P3_2016_R0.nc\n",
      "Outputting the Data subdatasets:\n",
      "\u001b[1;36m0: base_time\u001b[0m\n",
      "\u001b[1;36m1: time_offset\u001b[0m\n",
      "\u001b[1;36m2: time\u001b[0m\n",
      "\u001b[1;36m3: wavelength\u001b[0m\n",
      "\u001b[1;36m4: radius\u001b[0m\n",
      "\u001b[1;36m5: psd\u001b[0m\n",
      "\u001b[1;36m6: QA_level\u001b[0m\n",
      "\u001b[1;36m7: sphericity\u001b[0m\n",
      "\u001b[1;36m8: sphericity_err\u001b[0m\n",
      "\u001b[1;36m9: PF_angle\u001b[0m\n",
      "\u001b[1;36m10: sca_angle\u001b[0m\n",
      "\u001b[1;36m11: n_real\u001b[0m\n",
      "\u001b[1;36m12: n_imag\u001b[0m\n",
      "\u001b[1;36m13: SSA\u001b[0m\n",
      "\u001b[1;36m14: AOD_fit_total\u001b[0m\n",
      "\u001b[1;36m15: AOD_fit_fine\u001b[0m\n",
      "\u001b[1;36m16: AOD_fit_coarse\u001b[0m\n",
      "\u001b[1;36m17: AOD_meas\u001b[0m\n",
      "\u001b[1;36m18: AAOD\u001b[0m\n",
      "\u001b[1;36m19: TOD_meas\u001b[0m\n",
      "\u001b[1;36m20: TOD_fit\u001b[0m\n",
      "\u001b[1;36m21: TOD_meas_minus_fit\u001b[0m\n",
      "\u001b[1;36m22: AGOD\u001b[0m\n",
      "\u001b[1;36m23: sfc_alb\u001b[0m\n",
      "\u001b[1;36m24: g_total\u001b[0m\n",
      "\u001b[1;36m25: g_fine\u001b[0m\n",
      "\u001b[1;36m26: g_coarse\u001b[0m\n",
      "\u001b[1;36m27: PF_total\u001b[0m\n",
      "\u001b[1;36m28: PF_fine\u001b[0m\n",
      "\u001b[1;36m29: PF_coarse\u001b[0m\n",
      "\u001b[1;36m30: normalized_sky_radiance\u001b[0m\n",
      "\u001b[1;36m31: normalized_sky_radiance_fit\u001b[0m\n",
      "\u001b[1;36m32: sky_radiance_fit_error\u001b[0m\n",
      "\u001b[1;36m33: scan_tag\u001b[0m\n",
      "\u001b[1;36m34: scan_type\u001b[0m\n",
      "\u001b[1;36m35: Lat\u001b[0m\n",
      "\u001b[1;36m36: Lon\u001b[0m\n",
      "\u001b[1;36m37: GPS_Altitude\u001b[0m\n",
      "\u001b[1;36m38: Heading\u001b[0m\n",
      "\u001b[1;36m39: Pitch\u001b[0m\n",
      "\u001b[1;36m40: Roll\u001b[0m\n",
      "\u001b[1;36m41: GPS_Altitude_std\u001b[0m\n",
      "\u001b[1;36m42: Heading_std\u001b[0m\n",
      "\u001b[1;36m43: Pitch_std\u001b[0m\n",
      "\u001b[1;36m44: Roll_std\u001b[0m\n",
      "\u001b[1;36m45: T_static\u001b[0m\n",
      "\u001b[1;36m46: P_static\u001b[0m\n",
      "\u001b[1;36m47: RH\u001b[0m\n",
      "\u001b[1;36m48: SAZ\u001b[0m\n",
      "\u001b[1;36m49: SZA\u001b[0m\n",
      "\u001b[1;36m50: SEL\u001b[0m\n",
      "\u001b[1;36m51: m_ray\u001b[0m\n",
      "\u001b[1;36m52: PWV\u001b[0m\n",
      "['base_time', 'sca_angle', 'normalized_sky_radiance_fit', 'AGOD', 'Lon', 'm_ray', 'radius', 'sfc_alb', 'wavelength', 'AAOD', 'GPS_Altitude', 'n_real', 'TOD_meas_minus_fit', 'AOD_fit_total', 'SAZ', 'sphericity', 'P_static', 'SZA', 'Roll', 'QA_level', 'g_coarse', 'Lat', 'PF_coarse', 'RH', 'PF_total', 'PWV', 'PF_fine', 'g_fine', 'GPS_Altitude_std', 'Pitch_std', 'TOD_fit', 'Pitch', 'normalized_sky_radiance', 'T_static', 'psd', 'scan_type', 'TOD_meas', 'g_total', 'Heading', 'sky_radiance_fit_error', 'AOD_meas', 'PF_angle', 'SEL', 'n_imag', 'scan_tag', 'AOD_fit_fine', 'time_offset', 'Roll_std', 'Heading_std', 'sphericity_err', 'time', 'SSA', 'AOD_fit_coarse']\n"
     ]
    },
    {
     "name": "stderr",
     "output_type": "stream",
     "text": [
      "load_utils.py:956: RuntimeWarning: invalid value encountered in greater\n",
      "  cdf_data[i] = f.variables[varnames[j]][:]\n"
     ]
    }
   ],
   "source": [
    "try:\n",
    "    ae,ae_dict = lu.load_netcdf(fp+'aeroinv_2016/netcdf4/4STAR-aeroinv_P3_2016_R0.nc',everything=True)\n",
    "except:\n",
    "    import h5py as h5\n",
    "    f5 = h5.File(fp+'aeroinv_2016/netcdf4/4STAR-aeroinv_P3_2016_R0.nc','r')\n",
    "    ae5 = {}\n",
    "    for ka,kd in f5.iteritems():\n",
    "        ae5[ka] = kd.value\n",
    "    ae = ae5"
   ]
  },
  {
   "cell_type": "code",
   "execution_count": 24,
   "metadata": {
    "ExecuteTime": {
     "end_time": "2019-12-19T20:33:16.553914Z",
     "start_time": "2019-12-19T20:33:16.543770Z"
    },
    "scrolled": true
   },
   "outputs": [
    {
     "data": {
      "text/plain": [
       "['AAOD',\n",
       " 'AGOD',\n",
       " 'AOD_fit_coarse',\n",
       " 'AOD_fit_fine',\n",
       " 'AOD_fit_total',\n",
       " 'AOD_meas',\n",
       " 'GPS_Altitude',\n",
       " 'GPS_Altitude_std',\n",
       " 'Heading',\n",
       " 'Heading_std',\n",
       " 'Lat',\n",
       " 'Lon',\n",
       " 'PF_angle',\n",
       " 'PF_coarse',\n",
       " 'PF_fine',\n",
       " 'PF_total',\n",
       " 'PWV',\n",
       " 'P_static',\n",
       " 'Pitch',\n",
       " 'Pitch_std',\n",
       " 'QA_level',\n",
       " 'RH',\n",
       " 'Roll',\n",
       " 'Roll_std',\n",
       " 'SAZ',\n",
       " 'SEL',\n",
       " 'SSA',\n",
       " 'SZA',\n",
       " 'TOD_fit',\n",
       " 'TOD_meas',\n",
       " 'TOD_meas_minus_fit',\n",
       " 'T_static',\n",
       " 'base_time',\n",
       " 'g_coarse',\n",
       " 'g_fine',\n",
       " 'g_total',\n",
       " 'm_ray',\n",
       " 'n_imag',\n",
       " 'n_real',\n",
       " 'normalized_sky_radiance',\n",
       " 'normalized_sky_radiance_fit',\n",
       " 'psd',\n",
       " 'radius',\n",
       " 'sca_angle',\n",
       " 'scan_tag',\n",
       " 'scan_type',\n",
       " 'sfc_alb',\n",
       " 'sky_radiance_fit_error',\n",
       " 'sphericity',\n",
       " 'sphericity_err',\n",
       " 'time',\n",
       " 'time_offset',\n",
       " 'wavelength']"
      ]
     },
     "execution_count": 24,
     "metadata": {},
     "output_type": "execute_result"
    }
   ],
   "source": [
    "ke = ae.keys()\n",
    "ke.sort()\n",
    "ke"
   ]
  },
  {
   "cell_type": "code",
   "execution_count": 192,
   "metadata": {
    "ExecuteTime": {
     "end_time": "2020-01-06T21:06:41.870188Z",
     "start_time": "2020-01-06T21:06:41.846798Z"
    }
   },
   "outputs": [
    {
     "data": {
      "text/plain": [
       "array([0.2365, 0.1788, 0.1115, 0.0665, 0.0549])"
      ]
     },
     "execution_count": 192,
     "metadata": {},
     "output_type": "execute_result"
    }
   ],
   "source": [
    "ae['AOD_meas'][0]"
   ]
  },
  {
   "cell_type": "code",
   "execution_count": 26,
   "metadata": {
    "ExecuteTime": {
     "end_time": "2019-12-19T20:33:18.535091Z",
     "start_time": "2019-12-19T20:33:18.525073Z"
    }
   },
   "outputs": [
    {
     "data": {
      "text/plain": [
       "<type 'netCDF4._netCDF4.Variable'>\n",
       "float64 SSA(time, wavelength)\n",
       "    long_name: single scattering albedo\n",
       "    units: unitless\n",
       "    source: retrieval\n",
       "    values: 1.0 1.5 2.0\n",
       "    lev2: Has 21+ values at all wavelengths with scattering angle >80 deg and multiple points in each of 4 scattering angle ranges, and <20% asymmetry between CW and CCW legs\n",
       "    lev1p5: Has 10+ values at all wavelengths with scattering angle >80 deg and at least one point in each of 4 scattering angle ranges\n",
       "    lev1: Has at least one point at all wavelengths in each of 4 scattering angle ranges\n",
       "    Comment: Based on AERONET inversion criteria in https://aeronet.gsfc.nasa.gov/new_web/Documents/AERONETcriteria_final1.pdf\n",
       "    Comment2: A consequence of the symmetry requirement for level 2 is that PPL scans can assess at no higher than 1.5\n",
       "unlimited dimensions: time\n",
       "current shape = (84, 5)\n",
       "filling on, default _FillValue of 9.96920996839e+36 used"
      ]
     },
     "execution_count": 26,
     "metadata": {},
     "output_type": "execute_result"
    }
   ],
   "source": [
    "ae_dict['SSA']"
   ]
  },
  {
   "cell_type": "code",
   "execution_count": 27,
   "metadata": {
    "ExecuteTime": {
     "end_time": "2019-12-19T20:33:20.726305Z",
     "start_time": "2019-12-19T20:33:20.716609Z"
    },
    "scrolled": true
   },
   "outputs": [
    {
     "data": {
      "text/plain": [
       "(84, 5)"
      ]
     },
     "execution_count": 27,
     "metadata": {},
     "output_type": "execute_result"
    }
   ],
   "source": [
    "ae['SSA'].shape"
   ]
  },
  {
   "cell_type": "code",
   "execution_count": 28,
   "metadata": {
    "ExecuteTime": {
     "end_time": "2019-12-19T20:33:21.103206Z",
     "start_time": "2019-12-19T20:33:21.091097Z"
    }
   },
   "outputs": [
    {
     "data": {
      "text/plain": [
       "<type 'netCDF4._netCDF4.Variable'>\n",
       "float64 time(time)\n",
       "    long_name: Time offset from midnight\n",
       "    units: seconds since 2016-08-31 00:00:00 0:00\n",
       "unlimited dimensions: time\n",
       "current shape = (84,)\n",
       "filling on, default _FillValue of 9.96920996839e+36 used"
      ]
     },
     "execution_count": 28,
     "metadata": {},
     "output_type": "execute_result"
    }
   ],
   "source": [
    "ae_dict['time']"
   ]
  },
  {
   "cell_type": "code",
   "execution_count": 29,
   "metadata": {
    "ExecuteTime": {
     "end_time": "2019-12-19T20:33:21.693044Z",
     "start_time": "2019-12-19T20:33:21.682067Z"
    }
   },
   "outputs": [
    {
     "data": {
      "text/plain": [
       "array([  9.36436349,   9.38314424,  11.44100489,  13.53473135,\n",
       "        13.55286422,  13.63317105,  13.65609344,  14.15397498,\n",
       "        14.17291726,  55.12454682,  56.45493072,  56.47428852,\n",
       "        56.50556153,  56.52408765,  56.62796449,  56.64651974,\n",
       "        57.3145811 ,  57.57097029,  57.58955459,  58.57214188,\n",
       "        58.99556736,  60.49512862,  60.51375567,  60.53747322,\n",
       "        62.83647775, 153.56740963, 153.58586041, 154.09168935,\n",
       "       154.11113343, 154.98052584, 155.82233424, 155.84067681,\n",
       "       156.42516806, 156.44378445, 157.14872684, 157.16740038,\n",
       "       203.2280269 , 251.08488591, 252.31515166, 300.24803314,\n",
       "       301.14747711, 301.1660435 , 301.18294843, 301.7608256 ,\n",
       "       301.77941441, 302.12064148, 302.14029531, 345.31344008,\n",
       "       345.33189656, 346.52380833, 346.63178176, 346.6632354 ,\n",
       "       349.91946379, 441.84949381, 489.40488159, 489.42472078,\n",
       "       489.45796597, 489.48503416, 489.52466494, 489.55642007,\n",
       "       489.58136179, 491.02055947, 491.14471216, 492.66561342,\n",
       "       492.70347723, 492.75552446, 493.23101581, 493.25420547,\n",
       "       493.28753676, 493.31825604, 493.39634628, 585.70342018,\n",
       "       585.81399486, 587.9221829 , 609.80894124, 609.82767846,\n",
       "       611.75699517, 613.90812606, 613.97765332, 613.99688071,\n",
       "       614.07015826, 614.08907765, 615.32024977, 665.05941757])"
      ]
     },
     "execution_count": 29,
     "metadata": {},
     "output_type": "execute_result"
    }
   ],
   "source": [
    "ae['time']/3600.0"
   ]
  },
  {
   "cell_type": "code",
   "execution_count": 30,
   "metadata": {
    "ExecuteTime": {
     "end_time": "2019-12-19T20:33:22.138213Z",
     "start_time": "2019-12-19T20:33:22.131339Z"
    }
   },
   "outputs": [],
   "source": [
    "days = ['20160824','20160825','20160827','20160830','20160831','20160902','20160904','20160906','20160908',\n",
    "       '20160910','20160912','20160914','20160918','20160920','20160924','20160925','20160927','20160930']"
   ]
  },
  {
   "cell_type": "code",
   "execution_count": 31,
   "metadata": {
    "ExecuteTime": {
     "end_time": "2019-12-19T20:33:28.640238Z",
     "start_time": "2019-12-19T20:33:22.792147Z"
    },
    "scrolled": true
   },
   "outputs": [],
   "source": [
    "ar['doy'] = np.array([datetime.strptime(days[int(d)],'%Y%m%d').timetuple().tm_yday for d in ar['days']])"
   ]
  },
  {
   "cell_type": "code",
   "execution_count": 32,
   "metadata": {
    "ExecuteTime": {
     "end_time": "2019-12-19T20:33:28.659121Z",
     "start_time": "2019-12-19T20:33:28.646248Z"
    }
   },
   "outputs": [
    {
     "data": {
      "text/plain": [
       "244"
      ]
     },
     "execution_count": 32,
     "metadata": {},
     "output_type": "execute_result"
    }
   ],
   "source": [
    "datetime.strptime(days[4],'%Y%m%d').timetuple().tm_yday"
   ]
  },
  {
   "cell_type": "code",
   "execution_count": 33,
   "metadata": {
    "ExecuteTime": {
     "end_time": "2019-12-19T20:33:28.681634Z",
     "start_time": "2019-12-19T20:33:28.664413Z"
    }
   },
   "outputs": [],
   "source": [
    "ar['time_ae'] = ar['Start_UTC']+(24.0*(ar['doy']-244))"
   ]
  },
  {
   "cell_type": "code",
   "execution_count": 34,
   "metadata": {
    "ExecuteTime": {
     "end_time": "2019-12-19T20:33:28.697693Z",
     "start_time": "2019-12-19T20:33:28.686702Z"
    }
   },
   "outputs": [
    {
     "data": {
      "text/plain": [
       "array([-156.14305556, -156.14277778, -156.1425    , ...,  737.93      ,\n",
       "        737.93027778,  737.93055556])"
      ]
     },
     "execution_count": 34,
     "metadata": {},
     "output_type": "execute_result"
    }
   ],
   "source": [
    "ar['time_ae']"
   ]
  },
  {
   "cell_type": "markdown",
   "metadata": {},
   "source": [
    "# Prepare the base dict and defaults"
   ]
  },
  {
   "cell_type": "code",
   "execution_count": 35,
   "metadata": {
    "ExecuteTime": {
     "end_time": "2019-12-19T20:33:31.083527Z",
     "start_time": "2019-12-19T20:33:31.074056Z"
    }
   },
   "outputs": [
    {
     "data": {
      "text/plain": [
       "321"
      ]
     },
     "execution_count": 35,
     "metadata": {},
     "output_type": "execute_result"
    }
   ],
   "source": [
    "from datetime import datetime\n",
    "datetime(2015,11,17).timetuple().tm_yday"
   ]
  },
  {
   "cell_type": "code",
   "execution_count": 120,
   "metadata": {
    "ExecuteTime": {
     "end_time": "2019-12-19T20:55:29.241167Z",
     "start_time": "2019-12-19T20:55:29.233073Z"
    }
   },
   "outputs": [],
   "source": [
    "# for all 4STAR aerosol arrays\n",
    "fla = (ar['flag_acaod']==1) & ar['fl'] & ar['fl_QA'] & (ar['days']>2.0) "
   ]
  },
  {
   "cell_type": "code",
   "execution_count": 121,
   "metadata": {
    "ExecuteTime": {
     "end_time": "2019-12-19T20:55:29.893039Z",
     "start_time": "2019-12-19T20:55:29.879745Z"
    }
   },
   "outputs": [],
   "source": [
    "# for the cod and ref arrays\n",
    "fld = (ar['days']>2.0) & (ar['days']!=17.0) \n",
    "flb = (ar['flag_acaod'][fld]==1) & ar['fl'][fld] & ar['fl_QA'][fld]"
   ]
  },
  {
   "cell_type": "code",
   "execution_count": 137,
   "metadata": {
    "ExecuteTime": {
     "end_time": "2019-12-19T22:09:43.980231Z",
     "start_time": "2019-12-19T22:09:43.970116Z"
    }
   },
   "outputs": [
    {
     "data": {
      "text/plain": [
       "28619"
      ]
     },
     "execution_count": 137,
     "metadata": {},
     "output_type": "execute_result"
    }
   ],
   "source": [
    "len(ar['AOD0355'][fla])"
   ]
  },
  {
   "cell_type": "code",
   "execution_count": 138,
   "metadata": {
    "ExecuteTime": {
     "end_time": "2019-12-19T22:09:58.453471Z",
     "start_time": "2019-12-19T22:09:58.444271Z"
    }
   },
   "outputs": [
    {
     "data": {
      "text/plain": [
       "28619"
      ]
     },
     "execution_count": 138,
     "metadata": {},
     "output_type": "execute_result"
    }
   ],
   "source": [
    "len(cod[flb])"
   ]
  },
  {
   "cell_type": "code",
   "execution_count": 145,
   "metadata": {
    "ExecuteTime": {
     "end_time": "2019-12-19T22:11:49.924531Z",
     "start_time": "2019-12-19T22:11:49.351132Z"
    }
   },
   "outputs": [
    {
     "data": {
      "text/plain": [
       "(7986, 21190, 28619)"
      ]
     },
     "execution_count": 145,
     "metadata": {},
     "output_type": "execute_result"
    }
   ],
   "source": [
    "sum(np.isfinite(cod[~flb])),sum(np.isfinite(cod[flb])),len(cod[flb])"
   ]
  },
  {
   "cell_type": "code",
   "execution_count": 38,
   "metadata": {
    "ExecuteTime": {
     "end_time": "2019-12-19T20:33:32.918882Z",
     "start_time": "2019-12-19T20:33:32.910061Z"
    },
    "scrolled": true
   },
   "outputs": [
    {
     "data": {
      "text/plain": [
       "[u'AOD0355',\n",
       " u'AOD0380',\n",
       " u'AOD0452',\n",
       " u'AOD0470',\n",
       " u'AOD0501',\n",
       " u'AOD0520',\n",
       " u'AOD0530',\n",
       " u'AOD0532',\n",
       " u'AOD0550',\n",
       " u'AOD0606',\n",
       " u'AOD0620',\n",
       " u'AOD0660',\n",
       " u'AOD0675',\n",
       " u'AOD0700',\n",
       " u'AOD0781',\n",
       " u'AOD0865',\n",
       " u'AOD1020',\n",
       " u'AOD1040',\n",
       " u'AOD1064',\n",
       " u'AOD1236',\n",
       " u'AOD1250',\n",
       " u'AOD1559',\n",
       " u'AOD1627',\n",
       " u'AOD1650',\n",
       " u'AOD_angstrom_470_865',\n",
       " u'AOD_polycoef_a0',\n",
       " u'AOD_polycoef_a1',\n",
       " u'AOD_polycoef_a2',\n",
       " u'GPS_Alt',\n",
       " u'Latitude',\n",
       " u'Longitude',\n",
       " u'Start_UTC',\n",
       " u'UNCAOD0355',\n",
       " u'UNCAOD0380',\n",
       " u'UNCAOD0452',\n",
       " u'UNCAOD0470',\n",
       " u'UNCAOD0501',\n",
       " u'UNCAOD0520',\n",
       " u'UNCAOD0530',\n",
       " u'UNCAOD0532',\n",
       " u'UNCAOD0550',\n",
       " u'UNCAOD0606',\n",
       " u'UNCAOD0620',\n",
       " u'UNCAOD0660',\n",
       " u'UNCAOD0675',\n",
       " u'UNCAOD0700',\n",
       " u'UNCAOD0781',\n",
       " u'UNCAOD0865',\n",
       " u'UNCAOD1020',\n",
       " u'UNCAOD1040',\n",
       " u'UNCAOD1064',\n",
       " u'UNCAOD1236',\n",
       " u'UNCAOD1250',\n",
       " u'UNCAOD1559',\n",
       " u'UNCAOD1627',\n",
       " u'UNCAOD1650',\n",
       " u'amass_aer',\n",
       " u'days',\n",
       " 'doy',\n",
       " u'fl',\n",
       " u'fl1',\n",
       " u'fl2',\n",
       " u'fl3',\n",
       " u'fl_QA',\n",
       " u'fl_alt',\n",
       " u'fl_alt_18',\n",
       " u'fl_alt_22',\n",
       " u'fl_alt_6',\n",
       " u'fl_routine',\n",
       " u'flac',\n",
       " u'flacr',\n",
       " u'flag_acaod',\n",
       " u'flr',\n",
       " u'qual_flag',\n",
       " 'time_ae']"
      ]
     },
     "execution_count": 38,
     "metadata": {},
     "output_type": "execute_result"
    }
   ],
   "source": [
    "ka = ar.keys()\n",
    "ka.sort()\n",
    "ka"
   ]
  },
  {
   "cell_type": "code",
   "execution_count": 146,
   "metadata": {
    "ExecuteTime": {
     "end_time": "2019-12-19T22:12:38.734339Z",
     "start_time": "2019-12-19T22:12:38.727959Z"
    }
   },
   "outputs": [],
   "source": [
    "doy = datetime.strptime(dds[int(ar['days'][fla][0])],'%Y%m%d').timetuple().tm_yday"
   ]
  },
  {
   "cell_type": "code",
   "execution_count": 147,
   "metadata": {
    "ExecuteTime": {
     "end_time": "2019-12-19T22:12:38.750332Z",
     "start_time": "2019-12-19T22:12:38.739856Z"
    }
   },
   "outputs": [
    {
     "data": {
      "text/plain": [
       "250"
      ]
     },
     "execution_count": 147,
     "metadata": {},
     "output_type": "execute_result"
    }
   ],
   "source": [
    "doy"
   ]
  },
  {
   "cell_type": "code",
   "execution_count": 148,
   "metadata": {
    "ExecuteTime": {
     "end_time": "2019-12-19T22:12:38.764815Z",
     "start_time": "2019-12-19T22:12:38.755473Z"
    }
   },
   "outputs": [],
   "source": [
    "geo = {'lat':ar['Latitude'][0],'lon':ar['Longitude'][0],'doy':doy,'zout':[0,1.5,100.0]}\n",
    "aero_no = {} # none\n",
    "cloud = {'ztop':1.0,'zbot':0.5,'write_moments_file':False}\n",
    "source = {'wvl_range':[201.0,4900.0],'source':'solar','integrate_values':True,'run_fuliou':True,\n",
    "          'dat_path':fp_uvspec_dat}\n",
    "albedo = {'create_albedo_file':False,'sea_surface_albedo':True,'wind_speed':5.0}"
   ]
  },
  {
   "cell_type": "code",
   "execution_count": 149,
   "metadata": {
    "ExecuteTime": {
     "end_time": "2019-12-19T22:12:39.596878Z",
     "start_time": "2019-12-19T22:12:38.769829Z"
    }
   },
   "outputs": [],
   "source": [
    "cloud['phase'] = 'wc'\n",
    "geo['sza'] = 40.0\n",
    "cloud['tau'] = 2.0\n",
    "cloud['ref'] = 5.0\n",
    "pmom = Rl.make_pmom_inputs(fp_rtm=fp_rtmdat,source='solar',deltascale=False)\n",
    "cloud['moms_dict'] = pmom"
   ]
  },
  {
   "cell_type": "code",
   "execution_count": 150,
   "metadata": {
    "ExecuteTime": {
     "end_time": "2019-12-19T22:12:39.607754Z",
     "start_time": "2019-12-19T22:12:39.600399Z"
    }
   },
   "outputs": [],
   "source": [
    "pmom['wvl'][0] = 0.250"
   ]
  },
  {
   "cell_type": "code",
   "execution_count": 151,
   "metadata": {
    "ExecuteTime": {
     "end_time": "2019-12-19T22:12:39.625739Z",
     "start_time": "2019-12-19T22:12:39.613304Z"
    }
   },
   "outputs": [
    {
     "data": {
      "text/plain": [
       "array([ 250.,  400.,  500.,  675.,  870.,  995., 4900.])"
      ]
     },
     "execution_count": 151,
     "metadata": {},
     "output_type": "execute_result"
    }
   ],
   "source": [
    "wvl = np.append(np.append([250.0],ae['wavelength']),4900.0)\n",
    "wvl"
   ]
  },
  {
   "cell_type": "code",
   "execution_count": 152,
   "metadata": {
    "ExecuteTime": {
     "end_time": "2019-12-19T22:12:39.637621Z",
     "start_time": "2019-12-19T22:12:39.631086Z"
    }
   },
   "outputs": [],
   "source": [
    "aero = {'expand_hg':True,'disort_phase':False,'z_arr':[2.0,5.0],\n",
    "        'wvl_arr':wvl}"
   ]
  },
  {
   "cell_type": "code",
   "execution_count": 153,
   "metadata": {
    "ExecuteTime": {
     "end_time": "2019-12-19T22:12:39.648577Z",
     "start_time": "2019-12-19T22:12:39.641944Z"
    }
   },
   "outputs": [],
   "source": [
    "def fx_aero(aprop):\n",
    "    'Function the aerosol property a 2d matrix for height and spectra, and extend the wavelength from 250 to 4900 nm'\n",
    "    atmp = np.append([aprop[0]],np.append(aprop,aprop[-1]))\n",
    "    return np.array([atmp,atmp])"
   ]
  },
  {
   "cell_type": "code",
   "execution_count": 154,
   "metadata": {
    "ExecuteTime": {
     "end_time": "2019-12-19T22:12:39.662222Z",
     "start_time": "2019-12-19T22:12:39.653888Z"
    }
   },
   "outputs": [],
   "source": [
    "def fx_ext(a0,a1,a2,wvl=wvl):\n",
    "    'Function to create the extinction coefficients from 4STAR AODs'\n",
    "    aod = np.exp(np.polyval([a2,a1,a0],np.log(wvl)))\n",
    "    aod[-1] = 0.0 # set the last wavelength to zero\n",
    "    return np.array([aod/3.0,aod*0.0])"
   ]
  },
  {
   "cell_type": "code",
   "execution_count": 155,
   "metadata": {
    "ExecuteTime": {
     "end_time": "2019-12-19T22:12:39.674652Z",
     "start_time": "2019-12-19T22:12:39.667189Z"
    }
   },
   "outputs": [],
   "source": [
    "aero['ext'] = fx_ext(ar['AOD_polycoef_a0'][fla][0],ar['AOD_polycoef_a1'][fla][0],ar['AOD_polycoef_a2'][fla][0])"
   ]
  },
  {
   "cell_type": "code",
   "execution_count": 156,
   "metadata": {
    "ExecuteTime": {
     "end_time": "2019-12-19T22:12:39.687623Z",
     "start_time": "2019-12-19T22:12:39.680141Z"
    }
   },
   "outputs": [],
   "source": [
    "aero['asy'] = fx_aero(ae['g_total'][0])"
   ]
  },
  {
   "cell_type": "code",
   "execution_count": 157,
   "metadata": {
    "ExecuteTime": {
     "end_time": "2019-12-19T22:12:39.698540Z",
     "start_time": "2019-12-19T22:12:39.693748Z"
    }
   },
   "outputs": [],
   "source": [
    "aero['ssa'] = fx_aero(ae['SSA'][0])"
   ]
  },
  {
   "cell_type": "markdown",
   "metadata": {},
   "source": [
    "## Prepare the file list and saving"
   ]
  },
  {
   "cell_type": "code",
   "execution_count": 158,
   "metadata": {
    "ExecuteTime": {
     "end_time": "2019-12-19T22:12:39.710183Z",
     "start_time": "2019-12-19T22:12:39.702842Z"
    }
   },
   "outputs": [],
   "source": [
    "def isjupyter():\n",
    "    try:\n",
    "        shell = get_ipython().__class__.__name__\n",
    "        if shell == 'ZMQInteractiveShell':\n",
    "            return True   # Jupyter notebook or qtconsole\n",
    "        elif shell == 'TerminalInteractiveShell':\n",
    "            return False  # Terminal running IPython\n",
    "        else:\n",
    "            return False  # Other type (?)\n",
    "    except NameError:\n",
    "        return False      # Probably standard Python interpreter"
   ]
  },
  {
   "cell_type": "markdown",
   "metadata": {},
   "source": [
    "## Write the files"
   ]
  },
  {
   "cell_type": "markdown",
   "metadata": {},
   "source": [
    "### Conventional"
   ]
  },
  {
   "cell_type": "code",
   "execution_count": 87,
   "metadata": {
    "ExecuteTime": {
     "end_time": "2019-12-19T19:54:47.649135Z",
     "start_time": "2019-12-19T19:54:47.641371Z"
    }
   },
   "outputs": [],
   "source": [
    "# open the list file\n",
    "f = open(fp_rtm+'{}_DARE_{}.sh'.format(name,vv),'w')\n",
    "fpp_in = fp_rtm+'input/{}_DARE_{}/'.format(name,vv)\n",
    "fpp_out = fp_rtm+'output/{}_DARE_{}/'.format(name,vv)"
   ]
  },
  {
   "cell_type": "code",
   "execution_count": 88,
   "metadata": {
    "ExecuteTime": {
     "end_time": "2019-12-19T19:54:48.968574Z",
     "start_time": "2019-12-19T19:54:48.960137Z"
    }
   },
   "outputs": [],
   "source": [
    "if not os.path.isdir(fpp_in):\n",
    "    os.mkdir(fpp_in)\n",
    "if not os.path.isdir(fpp_out):\n",
    "     os.mkdir(fpp_out)"
   ]
  },
  {
   "cell_type": "code",
   "execution_count": 120,
   "metadata": {
    "ExecuteTime": {
     "end_time": "2019-12-03T19:49:35.506180Z",
     "start_time": "2019-12-03T19:49:35.454283Z"
    }
   },
   "outputs": [],
   "source": [
    "# for writing out the files"
   ]
  },
  {
   "cell_type": "code",
   "execution_count": 89,
   "metadata": {
    "ExecuteTime": {
     "end_time": "2019-12-19T19:57:35.223265Z",
     "start_time": "2019-12-19T19:54:58.271354Z"
    }
   },
   "outputs": [
    {
     "data": {
      "application/vnd.jupyter.widget-view+json": {
       "model_id": "a621a9f6db194f3aa1982ccc81ab6c44",
       "version_major": 2,
       "version_minor": 0
      },
      "text/plain": [
       "HBox(children=(IntProgress(value=0, max=28619), HTML(value=u'')))"
      ]
     },
     "metadata": {},
     "output_type": "display_data"
    },
    {
     "name": "stdout",
     "output_type": "stream",
     "text": [
      "wvl_range starting too low, setting to 250 nm\n",
      "> /mnt/c/Users/lebla/Research/python_codes/Run_libradtran.py(485)write_cloud_file_moments_wvl()\n",
      "-> for iw,wv in enumerate(wvl):\n",
      "(Pdb) q\n"
     ]
    },
    {
     "ename": "BdbQuit",
     "evalue": "",
     "output_type": "error",
     "traceback": [
      "\u001b[0;31m---------------------------------------------------------------------------\u001b[0m",
      "\u001b[0;31mBdbQuit\u001b[0m                                   Traceback (most recent call last)",
      "\u001b[0;32m<ipython-input-89-fa6f432cae66>\u001b[0m in \u001b[0;36m<module>\u001b[0;34m()\u001b[0m\n\u001b[1;32m     22\u001b[0m \u001b[0;34m\u001b[0m\u001b[0m\n\u001b[1;32m     23\u001b[0m         Rl.write_input_aac(fpp_in+f_in,geo=geo,aero=aero,cloud=cloud,source=source,albedo=albedo,\n\u001b[0;32m---> 24\u001b[0;31m                                    verbose=False,make_base=False,set_quiet=True)\n\u001b[0m\u001b[1;32m     25\u001b[0m         \u001b[0mf\u001b[0m\u001b[0;34m.\u001b[0m\u001b[0mwrite\u001b[0m\u001b[0;34m(\u001b[0m\u001b[0;34m'{uv} < {fin} > {out}\\n'\u001b[0m\u001b[0;34m.\u001b[0m\u001b[0mformat\u001b[0m\u001b[0;34m(\u001b[0m\u001b[0muv\u001b[0m\u001b[0;34m=\u001b[0m\u001b[0mfp_uvspec\u001b[0m\u001b[0;34m,\u001b[0m\u001b[0mfin\u001b[0m\u001b[0;34m=\u001b[0m\u001b[0mfpp_in\u001b[0m\u001b[0;34m+\u001b[0m\u001b[0mf_in\u001b[0m\u001b[0;34m,\u001b[0m\u001b[0mout\u001b[0m\u001b[0;34m=\u001b[0m\u001b[0mfpp_out\u001b[0m\u001b[0;34m+\u001b[0m\u001b[0mf_in\u001b[0m\u001b[0;34m)\u001b[0m\u001b[0;34m)\u001b[0m\u001b[0;34m\u001b[0m\u001b[0;34m\u001b[0m\u001b[0m\n\u001b[1;32m     26\u001b[0m \u001b[0;34m\u001b[0m\u001b[0m\n",
      "\u001b[0;32m/mnt/c/Users/lebla/Research/python_codes/Run_libradtran.pyc\u001b[0m in \u001b[0;36mwrite_input_aac\u001b[0;34m(output_file, geo, aero, cloud, source, albedo, verbose, make_base, fp_base_file, set_quiet, max_nmom, solver)\u001b[0m\n\u001b[1;32m    986\u001b[0m             \u001b[0;32mif\u001b[0m \u001b[0;32mnot\u001b[0m \u001b[0mcloud\u001b[0m\u001b[0;34m.\u001b[0m\u001b[0mget\u001b[0m\u001b[0;34m(\u001b[0m\u001b[0;34m'link_to_mom_file'\u001b[0m\u001b[0;34m)\u001b[0m\u001b[0;34m:\u001b[0m\u001b[0;34m\u001b[0m\u001b[0;34m\u001b[0m\u001b[0m\n\u001b[1;32m    987\u001b[0m                 write_cloud_file_moments(cloud['file_name'],cloud['tau'],cloud['ref'],cloud['zbot'],cloud['ztop'],\n\u001b[0;32m--> 988\u001b[0;31m                                          verbose=verbose,moms_dict=cloud.get('moms_dict'),wvl_range=source['wvl_range'])\n\u001b[0m\u001b[1;32m    989\u001b[0m             \u001b[0;32mif\u001b[0m \u001b[0mcloud\u001b[0m\u001b[0;34m[\u001b[0m\u001b[0;34m'cloud_below'\u001b[0m\u001b[0;34m]\u001b[0m\u001b[0;34m:\u001b[0m\u001b[0;34m\u001b[0m\u001b[0;34m\u001b[0m\u001b[0m\n\u001b[1;32m    990\u001b[0m                 \u001b[0;32mif\u001b[0m \u001b[0;32mnot\u001b[0m \u001b[0mcloud\u001b[0m\u001b[0;34m.\u001b[0m\u001b[0mget\u001b[0m\u001b[0;34m(\u001b[0m\u001b[0;34m'link_to_mom_file'\u001b[0m\u001b[0;34m)\u001b[0m\u001b[0;34m:\u001b[0m\u001b[0;34m\u001b[0m\u001b[0;34m\u001b[0m\u001b[0m\n",
      "\u001b[0;32m/mnt/c/Users/lebla/Research/python_codes/Run_libradtran.pyc\u001b[0m in \u001b[0;36mwrite_cloud_file_moments\u001b[0;34m(output_file, tau, ref, zbot, ztop, moms_dict, verbose, append_directly_below, wvl_range)\u001b[0m\n\u001b[1;32m    413\u001b[0m         \u001b[0moutput\u001b[0m\u001b[0;34m.\u001b[0m\u001b[0mwrite\u001b[0m\u001b[0;34m(\u001b[0m\u001b[0;34m'%4.4f\\t%s\\n'\u001b[0m \u001b[0;34m%\u001b[0m \u001b[0;34m(\u001b[0m\u001b[0mzbot\u001b[0m\u001b[0;34m,\u001b[0m\u001b[0mfile_cloud\u001b[0m\u001b[0;34m)\u001b[0m\u001b[0;34m)\u001b[0m\u001b[0;34m\u001b[0m\u001b[0;34m\u001b[0m\u001b[0m\n\u001b[1;32m    414\u001b[0m \u001b[0;34m\u001b[0m\u001b[0m\n\u001b[0;32m--> 415\u001b[0;31m     \u001b[0mwrite_cloud_file_moments_wvl\u001b[0m\u001b[0;34m(\u001b[0m\u001b[0mfile_cloud\u001b[0m\u001b[0;34m,\u001b[0m\u001b[0mwvl\u001b[0m\u001b[0;34m,\u001b[0m\u001b[0mext\u001b[0m\u001b[0;34m,\u001b[0m\u001b[0mssa\u001b[0m\u001b[0;34m,\u001b[0m\u001b[0mmoments\u001b[0m\u001b[0;34m,\u001b[0m\u001b[0mnmom\u001b[0m\u001b[0;34m,\u001b[0m\u001b[0mverbose\u001b[0m\u001b[0;34m=\u001b[0m\u001b[0mverbose\u001b[0m\u001b[0;34m,\u001b[0m\u001b[0mwvl_range\u001b[0m\u001b[0;34m=\u001b[0m\u001b[0mwvl_range\u001b[0m\u001b[0;34m)\u001b[0m\u001b[0;34m\u001b[0m\u001b[0;34m\u001b[0m\u001b[0m\n\u001b[0m\u001b[1;32m    416\u001b[0m \u001b[0;34m\u001b[0m\u001b[0m\n\u001b[1;32m    417\u001b[0m     \u001b[0moutput\u001b[0m\u001b[0;34m.\u001b[0m\u001b[0mclose\u001b[0m\u001b[0;34m(\u001b[0m\u001b[0;34m)\u001b[0m\u001b[0;34m\u001b[0m\u001b[0;34m\u001b[0m\u001b[0m\n",
      "\u001b[0;32m/mnt/c/Users/lebla/Research/python_codes/Run_libradtran.pyc\u001b[0m in \u001b[0;36mwrite_cloud_file_moments_wvl\u001b[0;34m(output_file, wvl, ext, ssa, moments, nmom, verbose, wvl_range)\u001b[0m\n\u001b[1;32m    483\u001b[0m         \u001b[0;32mprint\u001b[0m\u001b[0;34m(\u001b[0m\u001b[0;34m'..printing to cloud moments properties wavelength defined file: %s'\u001b[0m \u001b[0;34m%\u001b[0m \u001b[0moutput_file\u001b[0m\u001b[0;34m)\u001b[0m\u001b[0;34m\u001b[0m\u001b[0;34m\u001b[0m\u001b[0m\n\u001b[1;32m    484\u001b[0m     \u001b[0moutput\u001b[0m\u001b[0;34m.\u001b[0m\u001b[0mwrite\u001b[0m\u001b[0;34m(\u001b[0m\u001b[0;34m'# wvl[nm]    ext[km^-1]   ssa[unitless]  legendre_moments\\n'\u001b[0m\u001b[0;34m)\u001b[0m\u001b[0;34m\u001b[0m\u001b[0;34m\u001b[0m\u001b[0m\n\u001b[0;32m--> 485\u001b[0;31m     \u001b[0;32mfor\u001b[0m \u001b[0miw\u001b[0m\u001b[0;34m,\u001b[0m\u001b[0mwv\u001b[0m \u001b[0;32min\u001b[0m \u001b[0menumerate\u001b[0m\u001b[0;34m(\u001b[0m\u001b[0mwvl\u001b[0m\u001b[0;34m)\u001b[0m\u001b[0;34m:\u001b[0m\u001b[0;34m\u001b[0m\u001b[0;34m\u001b[0m\u001b[0m\n\u001b[0m\u001b[1;32m    486\u001b[0m         \u001b[0;32mif\u001b[0m \u001b[0;34m(\u001b[0m\u001b[0mwv\u001b[0m\u001b[0;34m<\u001b[0m\u001b[0mwvl_range\u001b[0m\u001b[0;34m[\u001b[0m\u001b[0;36m0\u001b[0m\u001b[0;34m]\u001b[0m\u001b[0;34m-\u001b[0m\u001b[0;36m10.0\u001b[0m \u001b[0;32mor\u001b[0m \u001b[0mwv\u001b[0m\u001b[0;34m>\u001b[0m\u001b[0mwvl_range\u001b[0m\u001b[0;34m[\u001b[0m\u001b[0;36m1\u001b[0m\u001b[0;34m]\u001b[0m\u001b[0;34m+\u001b[0m\u001b[0;36m10.0\u001b[0m\u001b[0;34m)\u001b[0m \u001b[0;32mand\u001b[0m \u001b[0mwvl_range\u001b[0m\u001b[0;34m[\u001b[0m\u001b[0;36m1\u001b[0m\u001b[0;34m]\u001b[0m\u001b[0;34m<\u001b[0m\u001b[0;36m10000.0\u001b[0m\u001b[0;34m:\u001b[0m\u001b[0;34m\u001b[0m\u001b[0;34m\u001b[0m\u001b[0m\n\u001b[1;32m    487\u001b[0m             \u001b[0;32mcontinue\u001b[0m\u001b[0;34m\u001b[0m\u001b[0;34m\u001b[0m\u001b[0m\n",
      "\u001b[0;32m/mnt/c/Users/lebla/Research/python_codes/Run_libradtran.pyc\u001b[0m in \u001b[0;36mwrite_cloud_file_moments_wvl\u001b[0;34m(output_file, wvl, ext, ssa, moments, nmom, verbose, wvl_range)\u001b[0m\n\u001b[1;32m    483\u001b[0m         \u001b[0;32mprint\u001b[0m\u001b[0;34m(\u001b[0m\u001b[0;34m'..printing to cloud moments properties wavelength defined file: %s'\u001b[0m \u001b[0;34m%\u001b[0m \u001b[0moutput_file\u001b[0m\u001b[0;34m)\u001b[0m\u001b[0;34m\u001b[0m\u001b[0;34m\u001b[0m\u001b[0m\n\u001b[1;32m    484\u001b[0m     \u001b[0moutput\u001b[0m\u001b[0;34m.\u001b[0m\u001b[0mwrite\u001b[0m\u001b[0;34m(\u001b[0m\u001b[0;34m'# wvl[nm]    ext[km^-1]   ssa[unitless]  legendre_moments\\n'\u001b[0m\u001b[0;34m)\u001b[0m\u001b[0;34m\u001b[0m\u001b[0;34m\u001b[0m\u001b[0m\n\u001b[0;32m--> 485\u001b[0;31m     \u001b[0;32mfor\u001b[0m \u001b[0miw\u001b[0m\u001b[0;34m,\u001b[0m\u001b[0mwv\u001b[0m \u001b[0;32min\u001b[0m \u001b[0menumerate\u001b[0m\u001b[0;34m(\u001b[0m\u001b[0mwvl\u001b[0m\u001b[0;34m)\u001b[0m\u001b[0;34m:\u001b[0m\u001b[0;34m\u001b[0m\u001b[0;34m\u001b[0m\u001b[0m\n\u001b[0m\u001b[1;32m    486\u001b[0m         \u001b[0;32mif\u001b[0m \u001b[0;34m(\u001b[0m\u001b[0mwv\u001b[0m\u001b[0;34m<\u001b[0m\u001b[0mwvl_range\u001b[0m\u001b[0;34m[\u001b[0m\u001b[0;36m0\u001b[0m\u001b[0;34m]\u001b[0m\u001b[0;34m-\u001b[0m\u001b[0;36m10.0\u001b[0m \u001b[0;32mor\u001b[0m \u001b[0mwv\u001b[0m\u001b[0;34m>\u001b[0m\u001b[0mwvl_range\u001b[0m\u001b[0;34m[\u001b[0m\u001b[0;36m1\u001b[0m\u001b[0;34m]\u001b[0m\u001b[0;34m+\u001b[0m\u001b[0;36m10.0\u001b[0m\u001b[0;34m)\u001b[0m \u001b[0;32mand\u001b[0m \u001b[0mwvl_range\u001b[0m\u001b[0;34m[\u001b[0m\u001b[0;36m1\u001b[0m\u001b[0;34m]\u001b[0m\u001b[0;34m<\u001b[0m\u001b[0;36m10000.0\u001b[0m\u001b[0;34m:\u001b[0m\u001b[0;34m\u001b[0m\u001b[0;34m\u001b[0m\u001b[0m\n\u001b[1;32m    487\u001b[0m             \u001b[0;32mcontinue\u001b[0m\u001b[0;34m\u001b[0m\u001b[0;34m\u001b[0m\u001b[0m\n",
      "\u001b[0;32m/usr/lib/python2.7/bdb.pyc\u001b[0m in \u001b[0;36mtrace_dispatch\u001b[0;34m(self, frame, event, arg)\u001b[0m\n\u001b[1;32m     47\u001b[0m             \u001b[0;32mreturn\u001b[0m \u001b[0;31m# None\u001b[0m\u001b[0;34m\u001b[0m\u001b[0;34m\u001b[0m\u001b[0m\n\u001b[1;32m     48\u001b[0m         \u001b[0;32mif\u001b[0m \u001b[0mevent\u001b[0m \u001b[0;34m==\u001b[0m \u001b[0;34m'line'\u001b[0m\u001b[0;34m:\u001b[0m\u001b[0;34m\u001b[0m\u001b[0;34m\u001b[0m\u001b[0m\n\u001b[0;32m---> 49\u001b[0;31m             \u001b[0;32mreturn\u001b[0m \u001b[0mself\u001b[0m\u001b[0;34m.\u001b[0m\u001b[0mdispatch_line\u001b[0m\u001b[0;34m(\u001b[0m\u001b[0mframe\u001b[0m\u001b[0;34m)\u001b[0m\u001b[0;34m\u001b[0m\u001b[0;34m\u001b[0m\u001b[0m\n\u001b[0m\u001b[1;32m     50\u001b[0m         \u001b[0;32mif\u001b[0m \u001b[0mevent\u001b[0m \u001b[0;34m==\u001b[0m \u001b[0;34m'call'\u001b[0m\u001b[0;34m:\u001b[0m\u001b[0;34m\u001b[0m\u001b[0;34m\u001b[0m\u001b[0m\n\u001b[1;32m     51\u001b[0m             \u001b[0;32mreturn\u001b[0m \u001b[0mself\u001b[0m\u001b[0;34m.\u001b[0m\u001b[0mdispatch_call\u001b[0m\u001b[0;34m(\u001b[0m\u001b[0mframe\u001b[0m\u001b[0;34m,\u001b[0m \u001b[0marg\u001b[0m\u001b[0;34m)\u001b[0m\u001b[0;34m\u001b[0m\u001b[0;34m\u001b[0m\u001b[0m\n",
      "\u001b[0;32m/usr/lib/python2.7/bdb.pyc\u001b[0m in \u001b[0;36mdispatch_line\u001b[0;34m(self, frame)\u001b[0m\n\u001b[1;32m     66\u001b[0m         \u001b[0;32mif\u001b[0m \u001b[0mself\u001b[0m\u001b[0;34m.\u001b[0m\u001b[0mstop_here\u001b[0m\u001b[0;34m(\u001b[0m\u001b[0mframe\u001b[0m\u001b[0;34m)\u001b[0m \u001b[0;32mor\u001b[0m \u001b[0mself\u001b[0m\u001b[0;34m.\u001b[0m\u001b[0mbreak_here\u001b[0m\u001b[0;34m(\u001b[0m\u001b[0mframe\u001b[0m\u001b[0;34m)\u001b[0m\u001b[0;34m:\u001b[0m\u001b[0;34m\u001b[0m\u001b[0;34m\u001b[0m\u001b[0m\n\u001b[1;32m     67\u001b[0m             \u001b[0mself\u001b[0m\u001b[0;34m.\u001b[0m\u001b[0muser_line\u001b[0m\u001b[0;34m(\u001b[0m\u001b[0mframe\u001b[0m\u001b[0;34m)\u001b[0m\u001b[0;34m\u001b[0m\u001b[0;34m\u001b[0m\u001b[0m\n\u001b[0;32m---> 68\u001b[0;31m             \u001b[0;32mif\u001b[0m \u001b[0mself\u001b[0m\u001b[0;34m.\u001b[0m\u001b[0mquitting\u001b[0m\u001b[0;34m:\u001b[0m \u001b[0;32mraise\u001b[0m \u001b[0mBdbQuit\u001b[0m\u001b[0;34m\u001b[0m\u001b[0;34m\u001b[0m\u001b[0m\n\u001b[0m\u001b[1;32m     69\u001b[0m         \u001b[0;32mreturn\u001b[0m \u001b[0mself\u001b[0m\u001b[0;34m.\u001b[0m\u001b[0mtrace_dispatch\u001b[0m\u001b[0;34m\u001b[0m\u001b[0;34m\u001b[0m\u001b[0m\n\u001b[1;32m     70\u001b[0m \u001b[0;34m\u001b[0m\u001b[0m\n",
      "\u001b[0;31mBdbQuit\u001b[0m: "
     ]
    }
   ],
   "source": [
    "if isjupyter():\n",
    "    pbar = tqdm(total=len(ar['Start_UTC'][fla]))\n",
    "for i,u in enumerate(ar['Start_UTC'][fla]):\n",
    "    \n",
    "    f_in = '{name}_{vv}_DARE_{i:03d}_withaero.dat'.format(name=name,vv=vv,i=i)\n",
    "\n",
    "    geo['lat'],geo['lon'],geo['sza'] = ar['Latitude'][fla][i],ar['Longitude'][fla][i],sza[fla][i]\n",
    "    day = days[ar['days'][fla][i].astype(int)]\n",
    "    geo['doy'] = datetime(int(day[0:4]),int(day[4:6]),int(day[6:])).timetuple().tm_yday\n",
    "\n",
    "    cloud['tau'],cloud['ref'] = cod[flb][i],ref[flb][i]\n",
    "    cloud['write_moments_file'] = True\n",
    "\n",
    "    iae = np.argmin(abs(ar['time_ae'][fla][i]-ae['time']/3600.0))\n",
    "\n",
    "    # Only run for aerosol rertievals within 1 hour\n",
    "    if abs(ar['time_ae'][fla][i]-ae['time']/3600.0)[iae]<1.0: \n",
    "\n",
    "        aero['ext'] = fx_ext(ar['AOD_polycoef_a0'][fla][i],ar['AOD_polycoef_a1'][fla][i],ar['AOD_polycoef_a2'][fla][i])\n",
    "        aero['ssa'] = fx_aero(ae['SSA'][iae])\n",
    "        aero['asy'] = fx_aero(ae['g_total'][iae])\n",
    "\n",
    "        Rl.write_input_aac(fpp_in+f_in,geo=geo,aero=aero,cloud=cloud,source=source,albedo=albedo,\n",
    "                                   verbose=False,make_base=False,set_quiet=True)\n",
    "        f.write('{uv} < {fin} > {out}\\n'.format(uv=fp_uvspec,fin=fpp_in+f_in,out=fpp_out+f_in))\n",
    "\n",
    "        f_in = '{name}_{vv}_star_{i:03d}_noaero.dat'.format(name=name,vv=vv,i=i)\n",
    "        Rl.write_input_aac(fpp_in+f_in,geo=geo,aero=aero_no,cloud=cloud,source=source,albedo=albedo,\n",
    "                                   verbose=False,make_base=False,set_quiet=True)\n",
    "        f.write('{uv} < {fin} > {out}\\n'.format(uv=fp_uvspec,fin=fpp_in+f_in,out=fpp_out+f_in))\n",
    "\n",
    "    if isjupyter(): \n",
    "        pbar.update(1)\n",
    "    else:\n",
    "        print i\n",
    "\n",
    "f.close()"
   ]
  },
  {
   "cell_type": "markdown",
   "metadata": {},
   "source": [
    "### Multiprocessing"
   ]
  },
  {
   "cell_type": "code",
   "execution_count": 159,
   "metadata": {
    "ExecuteTime": {
     "end_time": "2019-12-19T22:12:39.722054Z",
     "start_time": "2019-12-19T22:12:39.715601Z"
    }
   },
   "outputs": [],
   "source": [
    "from multiprocessing import Pool, cpu_count"
   ]
  },
  {
   "cell_type": "code",
   "execution_count": 160,
   "metadata": {
    "ExecuteTime": {
     "end_time": "2019-12-19T22:12:39.786331Z",
     "start_time": "2019-12-19T22:12:39.779852Z"
    }
   },
   "outputs": [],
   "source": [
    "from copy import deepcopy\n",
    "import signal"
   ]
  },
  {
   "cell_type": "code",
   "execution_count": 161,
   "metadata": {
    "ExecuteTime": {
     "end_time": "2019-12-19T22:12:39.968493Z",
     "start_time": "2019-12-19T22:12:39.963077Z"
    }
   },
   "outputs": [],
   "source": [
    "import warnings\n",
    "warnings.simplefilter('ignore')"
   ]
  },
  {
   "cell_type": "code",
   "execution_count": 162,
   "metadata": {
    "ExecuteTime": {
     "end_time": "2019-12-19T22:12:40.547878Z",
     "start_time": "2019-12-19T22:12:40.539901Z"
    }
   },
   "outputs": [],
   "source": [
    "def worker_init():\n",
    "    # ignore the SIGINI in sub process, just print a log\n",
    "    def sig_int(signal_num, frame):\n",
    "        if verbose: \n",
    "            print 'signal: %s' % signal_num\n",
    "        raise IOError\n",
    "    signal.signal(signal.SIGINT, sig_int)"
   ]
  },
  {
   "cell_type": "code",
   "execution_count": 163,
   "metadata": {
    "ExecuteTime": {
     "end_time": "2019-12-19T22:12:41.613171Z",
     "start_time": "2019-12-19T22:12:41.596754Z"
    }
   },
   "outputs": [],
   "source": [
    "# open the list file\n",
    "f = open(fp_rtm+'{}_DARE_{}.sh'.format(name,vv),'w')\n",
    "fpp_in = fp_rtm+'input/{}_DARE_{}/'.format(name,vv)\n",
    "fpp_out = fp_rtm+'output/{}_DARE_{}/'.format(name,vv)"
   ]
  },
  {
   "cell_type": "code",
   "execution_count": 164,
   "metadata": {
    "ExecuteTime": {
     "end_time": "2019-12-19T22:12:42.118291Z",
     "start_time": "2019-12-19T22:12:42.110324Z"
    }
   },
   "outputs": [],
   "source": [
    "if not os.path.isdir(fpp_in):\n",
    "    os.mkdir(fpp_in)\n",
    "if not os.path.isdir(fpp_out):\n",
    "     os.mkdir(fpp_out)"
   ]
  },
  {
   "cell_type": "code",
   "execution_count": 168,
   "metadata": {
    "ExecuteTime": {
     "end_time": "2019-12-19T22:15:53.035307Z",
     "start_time": "2019-12-19T22:14:58.381229Z"
    }
   },
   "outputs": [
    {
     "data": {
      "application/vnd.jupyter.widget-view+json": {
       "model_id": "fc34ef7df4ff4ff4970ef8c2fcaf23ae",
       "version_major": 2,
       "version_minor": 0
      },
      "text/plain": [
       "HBox(children=(IntProgress(value=0, max=28619), HTML(value=u'')))"
      ]
     },
     "metadata": {},
     "output_type": "display_data"
    }
   ],
   "source": [
    "if isjupyter():\n",
    "    pbar = tqdm(total=len(ar['Start_UTC'][fla]))\n",
    "bb = []\n",
    "for i,u in enumerate(ar['Start_UTC'][fla]):\n",
    "    \n",
    "    f_in = '{name}_{vv}_DARE_{i:03d}_withaero.dat'.format(name=name,vv=vv,i=i)\n",
    "\n",
    "    geo['lat'],geo['lon'],geo['sza'] = ar['Latitude'][fla][i],ar['Longitude'][fla][i],sza[fla][i]\n",
    "    day = days[ar['days'][fla][i].astype(int)]\n",
    "    geo['doy'] = datetime(int(day[0:4]),int(day[4:6]),int(day[6:])).timetuple().tm_yday\n",
    "\n",
    "    if ~np.isfinite(cod[flb][i]):\n",
    "        if isjupyter():\n",
    "            pbar.update(1)\n",
    "        continue\n",
    "    cloud['tau'],cloud['ref'] = cod[flb][i],ref[flb][i]\n",
    "    cloud['write_moments_file'] = True\n",
    "\n",
    "    iae = np.argmin(abs(ar['time_ae'][fla][i]-ae['time']/3600.0))\n",
    "\n",
    "    # Only run for aerosol rertievals within 1 hour\n",
    "    if abs(ar['time_ae'][fla][i]-ae['time']/3600.0)[iae]<1.0: \n",
    "\n",
    "        aero['ext'] = fx_ext(ar['AOD_polycoef_a0'][fla][i],ar['AOD_polycoef_a1'][fla][i],ar['AOD_polycoef_a2'][fla][i])\n",
    "        aero['ssa'] = fx_aero(ae['SSA'][iae])\n",
    "        aero['asy'] = fx_aero(ae['g_total'][iae])\n",
    "\n",
    "        #Rl.write_input_aac(fpp_in+f_in,geo=geo,aero=aero,cloud=cloud,source=source,albedo=albedo,\n",
    "        #                           verbose=False,make_base=False,set_quiet=True)\n",
    "        f.write('{uv} < {fin} > {out}\\n'.format(uv=fp_uvspec,fin=fpp_in+f_in,out=fpp_out+f_in))\n",
    "\n",
    "        f_in_noa = '{name}_{vv}_star_{i:03d}_noaero.dat'.format(name=name,vv=vv,i=i)\n",
    "        #Rl.write_input_aac(fpp_in+f_in,geo=geo,aero=aero_no,cloud=cloud,source=source,albedo=albedo,\n",
    "        #                           verbose=False,make_base=False,set_quiet=True)\n",
    "        f.write('{uv} < {fin} > {out}\\n'.format(uv=fp_uvspec,fin=fpp_in+f_in_noa,out=fpp_out+f_in_noa))\n",
    "        \n",
    "        bb.append({'geo':deepcopy(geo),'cod':cod[flb][i],'ref':ref[flb][i],'aero':deepcopy(aero),\n",
    "                   'f_in':deepcopy(f_in),'f_in_noa':deepcopy(f_in_noa)})\n",
    "\n",
    "    if isjupyter(): \n",
    "        pbar.update(1)\n",
    "    else:\n",
    "        print i\n",
    "\n",
    "f.close()"
   ]
  },
  {
   "cell_type": "code",
   "execution_count": 169,
   "metadata": {
    "ExecuteTime": {
     "end_time": "2019-12-19T22:16:16.838135Z",
     "start_time": "2019-12-19T22:16:16.779505Z"
    }
   },
   "outputs": [],
   "source": [
    "def write_files(d,cloud=cloud,source=source,albedo=albedo,aero_no=aero_no):\n",
    "    'function to feed the pool of workers to write out the all the files'\n",
    "    cloud['tau'],cloud['ref'] = d['cod'],d['ref']\n",
    "    Rl.write_input_aac(fpp_in+d['f_in'],geo=d['geo'],aero=d['aero'],cloud=cloud,source=source,albedo=albedo,\n",
    "                                   verbose=False,make_base=False,set_quiet=True)\n",
    "    Rl.write_input_aac(fpp_in+d['f_in_noa'],geo=d['geo'],aero=aero_no,cloud=cloud,source=source,albedo=albedo,\n",
    "                                   verbose=False,make_base=False,set_quiet=True)"
   ]
  },
  {
   "cell_type": "code",
   "execution_count": 170,
   "metadata": {
    "ExecuteTime": {
     "end_time": "2019-12-19T22:16:39.855818Z",
     "start_time": "2019-12-19T22:16:20.176183Z"
    }
   },
   "outputs": [
    {
     "name": "stderr",
     "output_type": "stream",
     "text": [
      "Process PoolWorker-26:\n",
      "Process PoolWorker-25:\n",
      "Process PoolWorker-28:\n",
      "Process PoolWorker-22:\n",
      "Process PoolWorker-23:\n",
      "Process PoolWorker-24:\n",
      "Process PoolWorker-27:\n",
      "Traceback (most recent call last):\n",
      "Traceback (most recent call last):\n",
      "Traceback (most recent call last):\n",
      "Traceback (most recent call last):\n",
      "Traceback (most recent call last):\n",
      "Traceback (most recent call last):\n",
      "  File \"/usr/lib/python2.7/multiprocessing/process.py\", line 267, in _bootstrap\n",
      "Traceback (most recent call last):\n",
      "  File \"/usr/lib/python2.7/multiprocessing/process.py\", line 267, in _bootstrap\n",
      "    self.run()\n",
      "  File \"/usr/lib/python2.7/multiprocessing/process.py\", line 267, in _bootstrap\n",
      "  File \"/usr/lib/python2.7/multiprocessing/process.py\", line 267, in _bootstrap\n",
      "  File \"/usr/lib/python2.7/multiprocessing/process.py\", line 267, in _bootstrap\n",
      "  File \"/usr/lib/python2.7/multiprocessing/process.py\", line 267, in _bootstrap\n",
      "  File \"/usr/lib/python2.7/multiprocessing/process.py\", line 114, in run\n",
      "  File \"/usr/lib/python2.7/multiprocessing/process.py\", line 267, in _bootstrap\n",
      "    self.run()\n",
      "    self.run()\n",
      "    self._target(*self._args, **self._kwargs)\n",
      "    self.run()\n",
      "    self.run()\n",
      "    self.run()\n",
      "    self.run()\n",
      "  File \"/usr/lib/python2.7/multiprocessing/process.py\", line 114, in run\n",
      "  File \"/usr/lib/python2.7/multiprocessing/pool.py\", line 102, in worker\n",
      "  File \"/usr/lib/python2.7/multiprocessing/process.py\", line 114, in run\n",
      "  File \"/usr/lib/python2.7/multiprocessing/process.py\", line 114, in run\n",
      "  File \"/usr/lib/python2.7/multiprocessing/process.py\", line 114, in run\n",
      "  File \"/usr/lib/python2.7/multiprocessing/process.py\", line 114, in run\n",
      "  File \"/usr/lib/python2.7/multiprocessing/process.py\", line 114, in run\n",
      "    task = get()\n",
      "    self._target(*self._args, **self._kwargs)\n",
      "    self._target(*self._args, **self._kwargs)\n",
      "    self._target(*self._args, **self._kwargs)\n",
      "    self._target(*self._args, **self._kwargs)\n",
      "    self._target(*self._args, **self._kwargs)\n",
      "    self._target(*self._args, **self._kwargs)\n",
      "  File \"/usr/lib/python2.7/multiprocessing/pool.py\", line 102, in worker\n",
      "  File \"/usr/lib/python2.7/multiprocessing/queues.py\", line 374, in get\n",
      "  File \"/usr/lib/python2.7/multiprocessing/pool.py\", line 102, in worker\n",
      "  File \"/usr/lib/python2.7/multiprocessing/pool.py\", line 102, in worker\n",
      "  File \"/usr/lib/python2.7/multiprocessing/pool.py\", line 102, in worker\n",
      "  File \"/usr/lib/python2.7/multiprocessing/pool.py\", line 102, in worker\n",
      "    task = get()\n",
      "    racquire()\n",
      "    task = get()\n",
      "  File \"/usr/lib/python2.7/multiprocessing/pool.py\", line 102, in worker\n",
      "    task = get()\n",
      "    task = get()\n",
      "    task = get()\n",
      "    task = get()\n",
      "  File \"/usr/lib/python2.7/multiprocessing/queues.py\", line 374, in get\n",
      "  File \"<ipython-input-162-4c9013504553>\", line 4, in sig_int\n",
      "  File \"/usr/lib/python2.7/multiprocessing/queues.py\", line 376, in get\n",
      "  File \"/usr/lib/python2.7/multiprocessing/queues.py\", line 374, in get\n",
      "  File \"/usr/lib/python2.7/multiprocessing/queues.py\", line 374, in get\n",
      "  File \"/usr/lib/python2.7/multiprocessing/queues.py\", line 374, in get\n",
      "    racquire()\n",
      "  File \"/usr/lib/python2.7/multiprocessing/queues.py\", line 374, in get\n",
      "    return recv()\n",
      "    if verbose:\n",
      "    racquire()\n",
      "    racquire()\n",
      "  File \"<ipython-input-162-4c9013504553>\", line 4, in sig_int\n",
      "    racquire()\n",
      "    racquire()\n",
      "  File \"<ipython-input-162-4c9013504553>\", line 4, in sig_int\n",
      "NameError: global name 'verbose' is not defined\n",
      "  File \"<ipython-input-162-4c9013504553>\", line 4, in sig_int\n",
      "  File \"<ipython-input-162-4c9013504553>\", line 4, in sig_int\n",
      "    if verbose:\n",
      "  File \"<ipython-input-162-4c9013504553>\", line 4, in sig_int\n",
      "    if verbose:\n",
      "    if verbose:\n",
      "  File \"<ipython-input-162-4c9013504553>\", line 4, in sig_int\n",
      "    if verbose:\n",
      "    if verbose:\n",
      "NameError: global name 'verbose' is not defined\n",
      "    if verbose:\n",
      "NameError: global name 'verbose' is not defined\n",
      "NameError: global name 'verbose' is not defined\n",
      "NameError: global name 'verbose' is not defined\n",
      "NameError: global name 'verbose' is not defined\n",
      "NameError: global name 'verbose' is not defined\n"
     ]
    }
   ],
   "source": [
    "p = Pool(cpu_count()-1,worker_init)"
   ]
  },
  {
   "cell_type": "code",
   "execution_count": 171,
   "metadata": {
    "ExecuteTime": {
     "end_time": "2019-12-19T22:16:50.649587Z",
     "start_time": "2019-12-19T22:16:50.639300Z"
    }
   },
   "outputs": [
    {
     "data": {
      "text/plain": [
       "16596"
      ]
     },
     "execution_count": 171,
     "metadata": {},
     "output_type": "execute_result"
    }
   ],
   "source": [
    "len(bb)"
   ]
  },
  {
   "cell_type": "code",
   "execution_count": 174,
   "metadata": {
    "ExecuteTime": {
     "end_time": "2019-12-19T22:33:45.971228Z",
     "start_time": "2019-12-19T22:17:57.728904Z"
    }
   },
   "outputs": [],
   "source": [
    "results = p.map(write_files,bb)"
   ]
  },
  {
   "cell_type": "markdown",
   "metadata": {},
   "source": [
    "## Run the calculations"
   ]
  },
  {
   "cell_type": "markdown",
   "metadata": {},
   "source": [
    "Run the files from command line:\n",
    "\n",
    "using command parallel --jobs=20 < ORACLES_DARE_v1.sh"
   ]
  },
  {
   "cell_type": "code",
   "execution_count": 175,
   "metadata": {
    "ExecuteTime": {
     "end_time": "2019-12-19T22:34:51.646221Z",
     "start_time": "2019-12-19T22:34:51.640254Z"
    }
   },
   "outputs": [],
   "source": [
    "f_list = fp_rtm+'{}_DARE_{}.sh'.format(name,vv)"
   ]
  },
  {
   "cell_type": "code",
   "execution_count": 176,
   "metadata": {
    "ExecuteTime": {
     "end_time": "2019-12-19T22:34:58.857915Z",
     "start_time": "2019-12-19T22:34:56.856019Z"
    }
   },
   "outputs": [
    {
     "name": "stdout",
     "output_type": "stream",
     "text": [
      "33192 /home/samuel/rtm/ORACLES_DARE_v2.sh\r\n"
     ]
    }
   ],
   "source": [
    "! wc -l $f_list"
   ]
  },
  {
   "cell_type": "code",
   "execution_count": 179,
   "metadata": {
    "ExecuteTime": {
     "end_time": "2019-12-19T22:38:20.504676Z",
     "start_time": "2019-12-19T22:38:20.497088Z"
    }
   },
   "outputs": [],
   "source": [
    "f_listout = f_list+'.out'"
   ]
  },
  {
   "cell_type": "code",
   "execution_count": 191,
   "metadata": {
    "ExecuteTime": {
     "end_time": "2019-12-23T18:36:25.026256Z",
     "start_time": "2019-12-23T18:20:39.474280Z"
    }
   },
   "outputs": [],
   "source": [
    "!parallel --jobs=7 --bar < $f_list 2> $f_listout"
   ]
  },
  {
   "cell_type": "markdown",
   "metadata": {},
   "source": [
    "## Read the files"
   ]
  },
  {
   "cell_type": "code",
   "execution_count": 195,
   "metadata": {
    "ExecuteTime": {
     "end_time": "2020-01-06T21:10:38.826861Z",
     "start_time": "2020-01-06T21:10:38.815504Z"
    }
   },
   "outputs": [
    {
     "data": {
      "text/plain": [
       "(u'/home/samuel/rtm/output/ORACLES_DARE_v2/', 'ORACLES', 'v2', [0, 1.5, 100.0])"
      ]
     },
     "execution_count": 195,
     "metadata": {},
     "output_type": "execute_result"
    }
   ],
   "source": [
    "fpp_out,name,vv,geo['zout']"
   ]
  },
  {
   "cell_type": "code",
   "execution_count": 198,
   "metadata": {
    "ExecuteTime": {
     "end_time": "2020-01-06T21:11:48.605837Z",
     "start_time": "2020-01-06T21:11:18.354500Z"
    }
   },
   "outputs": [],
   "source": [
    "n = len(ar['Start_UTC'][fla])\n",
    "nz = len(geo['zout'])\n",
    "nw = len(aero['wvl_arr'])\n",
    "dat = {'cod':np.zeros(n)+np.nan,'ref':np.zeros(n)+np.nan,'ext':np.zeros((n,nw))+np.nan,\n",
    "       'ssa':np.zeros((n,nw))+np.nan,'asy':np.zeros((n,nw))+np.nan,'zout':geo['zout'],\n",
    "       'wvl':aero['wvl_arr'],'sza':np.zeros(n)+np.nan,\n",
    "       'dn':np.zeros((n,nz))+np.nan,'up':np.zeros((n,nz))+np.nan,\n",
    "       'dn_noa':np.zeros((n,nz))+np.nan,'up_noa':np.zeros((n,nz))+np.nan}\n",
    "\n",
    "for i,u in enumerate(ar['Start_UTC'][fla]):\n",
    "    \n",
    "    dat['cod'][i] = cod[flb][i]\n",
    "    dat['ref'][i] = ref[flb][i]\n",
    "    dat['sza'][i] = sza[fla][i]\n",
    "\n",
    "    iae = np.argmin(abs(ar['time_ae'][fla][i]-ae['time']/3600.0))\n",
    "    # Only run for aerosol rertievals within 1 hour\n",
    "    if abs(ar['time_ae'][fla][i]-ae['time']/3600.0)[iae]<1.0: \n",
    "\n",
    "        dat['ext'][i,:] = fx_ext(ar['AOD_polycoef_a0'][fla][i],ar['AOD_polycoef_a1'][fla][i],ar['AOD_polycoef_a2'][fla][i])[0]\n",
    "        dat['ssa'][i,:] = fx_aero(ae['SSA'][iae])[0]\n",
    "        dat['asy'][i,:] = fx_aero(ae['g_total'][iae])[0]\n"
   ]
  },
  {
   "cell_type": "code",
   "execution_count": 203,
   "metadata": {
    "ExecuteTime": {
     "end_time": "2020-01-06T21:18:25.367887Z",
     "start_time": "2020-01-06T21:18:25.354545Z"
    }
   },
   "outputs": [],
   "source": [
    "def read_files(i,dat=dat,fpp_out=fpp_out,name=name,vv=vv,zout=geo['zout']):\n",
    "    'function to feed the pool of workers to read all the files'\n",
    "    try:\n",
    "        f_in = '{name}_{vv}_DARE_{i:03d}_withaero.dat'.format(name=name,vv=vv,i=i)\n",
    "        o = Rl.read_libradtran(fpp_out+f_in,zout=geo['zout'])\n",
    "        f_in = '{name}_{vv}_star_{i:03d}_noaero.dat'.format(name=name,vv=vv,i=i)\n",
    "        on = Rl.read_libradtran(fpp_out+f_in,zout=geo['zout'])\n",
    "\n",
    "        dat['dn'][i,:] = o['diffuse_down']+o['direct_down']\n",
    "        dat['dn_noa'][i,:] = on['diffuse_down']+on['direct_down']\n",
    "        dat['up'][i,:] = o['diffuse_up']\n",
    "        dat['up_noa'][i,:] = on['diffuse_up']\n",
    "    except:\n",
    "        pass"
   ]
  },
  {
   "cell_type": "code",
   "execution_count": null,
   "metadata": {
    "ExecuteTime": {
     "start_time": "2020-01-06T21:18:30.959Z"
    }
   },
   "outputs": [],
   "source": [
    "outputs = p.map(read_files,range(len(ar['Start_UTC'][fla])))"
   ]
  },
  {
   "cell_type": "markdown",
   "metadata": {},
   "source": [
    "For the original method (without multiprocessing)"
   ]
  },
  {
   "cell_type": "code",
   "execution_count": 133,
   "metadata": {
    "ExecuteTime": {
     "end_time": "2019-12-04T04:28:28.384019Z",
     "start_time": "2019-12-04T04:27:39.638000Z"
    }
   },
   "outputs": [
    {
     "data": {
      "application/vnd.jupyter.widget-view+json": {
       "model_id": "7e2d484723fd4df8b0eccf86039f1e09",
       "version_major": 2,
       "version_minor": 0
      },
      "text/plain": [
       "HBox(children=(IntProgress(value=0, max=28619), HTML(value=u'')))"
      ]
     },
     "metadata": {},
     "output_type": "display_data"
    }
   ],
   "source": [
    "\n",
    "if isjupyter():\n",
    "    pbar = tqdm(total=n)\n",
    "    \n",
    "\n",
    "for i,u in enumerate(ar['Start_UTC'][fla]):\n",
    "    \n",
    "    dat['cod'][i] = cod[flb][i]\n",
    "    dat['ref'][i] = ref[flb][i]\n",
    "    dat['sza'][i] = sza[fla][i]\n",
    "\n",
    "    iae = np.argmin(abs(ar['time_ae'][fla][i]-ae['time']/3600.0))\n",
    "    # Only run for aerosol rertievals within 1 hour\n",
    "    if abs(ar['time_ae'][fla][i]-ae['time']/3600.0)[iae]<1.0: \n",
    "\n",
    "        dat['ext'][i,:] = fx_ext(ar['AOD_polycoef_a0'][fla][i],ar['AOD_polycoef_a1'][fla][i],ar['AOD_polycoef_a2'][fla][i])[0]\n",
    "        dat['ssa'][i,:] = fx_aero(ae['SSA'][iae])[0]\n",
    "        dat['asy'][i,:] = fx_aero(ae['g_total'][iae])[0]\n",
    "        try:\n",
    "            f_in = '{name}_{vv}_DARE_{i:03d}_withaero.dat'.format(name=name,vv=vv,i=i)\n",
    "            o = Rl.read_libradtran(fpp_out+f_in,zout=geo['zout'])\n",
    "            f_in = '{name}_{vv}_star_{i:03d}_noaero.dat'.format(name=name,vv=vv,i=i)\n",
    "            on = Rl.read_libradtran(fpp_out+f_in,zout=geo['zout'])\n",
    "\n",
    "            dat['dn'][i,:] = o['diffuse_down']+o['direct_down']\n",
    "            dat['dn_noa'][i,:] = on['diffuse_down']+on['direct_down']\n",
    "            dat['up'][i,:] = o['diffuse_up']\n",
    "            dat['up_noa'][i,:] = on['diffuse_up']\n",
    "        except:\n",
    "            pass\n",
    "\n",
    "    if isjupyter(): \n",
    "        pbar.update(1)\n",
    "    else:\n",
    "        print i\n"
   ]
  },
  {
   "cell_type": "code",
   "execution_count": 134,
   "metadata": {
    "ExecuteTime": {
     "end_time": "2019-12-04T04:29:46.730808Z",
     "start_time": "2019-12-04T04:29:46.720068Z"
    }
   },
   "outputs": [],
   "source": [
    "dat['dare'] = (dat['dn']-dat['up']) - (dat['dn_noa']-dat['up_noa'])"
   ]
  },
  {
   "cell_type": "code",
   "execution_count": 52,
   "metadata": {
    "ExecuteTime": {
     "end_time": "2019-12-19T18:32:40.971582Z",
     "start_time": "2019-12-19T18:32:40.962106Z"
    }
   },
   "outputs": [],
   "source": [
    "dat['utc'] = ar['Start_UTC'][fla]\n",
    "dat['lat'] = ar['Latitude'][fla]\n",
    "dat['lon'] = ar['Longitude'][fla]\n",
    "dat['doy'] = ar['doy'][fla]"
   ]
  },
  {
   "cell_type": "markdown",
   "metadata": {},
   "source": [
    "## Save the file"
   ]
  },
  {
   "cell_type": "code",
   "execution_count": 53,
   "metadata": {
    "ExecuteTime": {
     "end_time": "2019-12-19T18:32:45.209150Z",
     "start_time": "2019-12-19T18:32:44.937602Z"
    }
   },
   "outputs": [
    {
     "name": "stdout",
     "output_type": "stream",
     "text": [
      "no dn\n",
      "no asy\n",
      "no sza\n",
      "zout\n",
      "no wvl\n",
      "no lat\n",
      "no ssa\n",
      "no utc\n",
      "no dn_noa\n",
      "no up_noa\n",
      "no lon\n",
      "no up\n",
      "no ext\n",
      "no doy\n",
      "no cod\n",
      "no ref\n",
      "saving file to: /mnt/c/Users/lebla/Research/ORACLES/ORACLES_DARE_aero_prop_v1.mat\n"
     ]
    }
   ],
   "source": [
    "dat1 = iterate_dict_unicode(dat)\n",
    "print 'saving file to: '+fp+'{name}_DARE_aero_prop_{vv}.mat'.format(name=name,vv=vv)\n",
    "hs.savemat(fp+'{name}_DARE_aero_prop_{vv}.mat'.format(name=name,vv=vv),dat1)"
   ]
  },
  {
   "cell_type": "code",
   "execution_count": 135,
   "metadata": {
    "ExecuteTime": {
     "end_time": "2019-12-04T04:29:48.441642Z",
     "start_time": "2019-12-04T04:29:48.127559Z"
    }
   },
   "outputs": [
    {
     "name": "stdout",
     "output_type": "stream",
     "text": [
      "no dn\n",
      "no asy\n",
      "no up\n",
      "no up_noa\n",
      "no wvl\n",
      "no ssa\n",
      "no dare\n",
      "no dn_noa\n",
      "zout\n",
      "no ext\n",
      "no cod\n",
      "no ref\n",
      "saving file to: /data/sam/ORACLES/ORACLES_DARE_v1.mat\n"
     ]
    },
    {
     "name": "stderr",
     "output_type": "stream",
     "text": [
      "/home/sam/.local/lib/python2.7/site-packages/hdf5storage/__init__.py:1306: H5pyDeprecationWarning: The default file mode will change to 'r' (read-only) in h5py 3.0. To suppress this warning, pass the mode you need to h5py.File(), or set the global default h5.get_config().default_file_mode, or set the environment variable H5PY_DEFAULT_READONLY=1. Available modes are: 'r', 'r+', 'w', 'w-'/'x', 'a'. See the docs for details.\n",
      "  f = h5py.File(filename)\n"
     ]
    }
   ],
   "source": [
    "dat1 = iterate_dict_unicode(dat)\n",
    "print 'saving file to: '+fp+'{name}_DARE_{vv}.mat'.format(name=name,vv=vv)\n",
    "hs.savemat(fp+'{name}_DARE_{vv}.mat'.format(name=name,vv=vv),dat1)"
   ]
  }
 ],
 "metadata": {
  "kernelspec": {
   "display_name": "Python 2",
   "language": "python",
   "name": "python2"
  },
  "language_info": {
   "codemirror_mode": {
    "name": "ipython",
    "version": 2
   },
   "file_extension": ".py",
   "mimetype": "text/x-python",
   "name": "python",
   "nbconvert_exporter": "python",
   "pygments_lexer": "ipython2",
   "version": "2.7.15+"
  },
  "notify_time": "5",
  "toc": {
   "base_numbering": 1,
   "nav_menu": {
    "height": "232px",
    "width": "304px"
   },
   "number_sections": true,
   "sideBar": false,
   "skip_h1_title": false,
   "title_cell": "Table of Contents",
   "title_sidebar": "Contents",
   "toc_cell": false,
   "toc_position": {
    "height": "336.313px",
    "left": "88px",
    "top": "220px",
    "width": "377.313px"
   },
   "toc_section_display": true,
   "toc_window_display": true
  }
 },
 "nbformat": 4,
 "nbformat_minor": 2
}
