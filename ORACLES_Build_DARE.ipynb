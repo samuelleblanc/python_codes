{
 "cells": [
  {
   "cell_type": "markdown",
   "metadata": {},
   "source": [
    "# Intro\n",
    "Name:  \n",
    "\n",
    "    ORACLES_Build_DARE\n",
    "\n",
    "Purpose:  \n",
    "\n",
    "    Build the aerosol radiative effect input files from the SSFR reflectances, 4STAR AOD, and 4STAR skyscan results\n",
    "  \n",
    "Input:\n",
    "\n",
    "    none at command line\n",
    "  \n",
    "Output:\n",
    "\n",
    "    figures and save files...\n",
    "  \n",
    "Keywords:\n",
    "\n",
    "    none\n",
    "  \n",
    "Dependencies:\n",
    "\n",
    "    - Sp_parameters.py : for Sp class definition, and for defining the functions used to build parameters\n",
    "    - matplotlib\n",
    "    - numpy\n",
    "    - scipy : for saving and reading\n",
    "    - plotting_utils (user defined plotting routines)\n",
    "    - hdf5storage\n",
    "  \n",
    "Needed Files:\n",
    "\n",
    "  - file.rc : for consistent creation of look of matplotlib figures\n",
    "  - 4STAR_cloud retrieval .mat files\n",
    "  \n",
    "Modification History:\n",
    " \n",
    "     Written: by Samuel LeBlanc, Santa Cruz, CA, 2019-12-02\n",
    "     \n",
    "     Modified: by Samuel LeBlanc, Santa Cruz, CA, 2020-11-18\n",
    "             - updated for R4 ORACLES 2016 and mie 2020-11-12\n",
    "     Modified: by Samuel LeBlanc, Santa Cruz, C, 2021-02-04\n",
    "             - updated with delta SSA +/-0.03 for v5"
   ]
  },
  {
   "cell_type": "markdown",
   "metadata": {},
   "source": [
    "# Import of modules"
   ]
  },
  {
   "cell_type": "code",
   "execution_count": 1,
   "metadata": {
    "ExecuteTime": {
     "end_time": "2021-05-06T19:44:30.864676Z",
     "start_time": "2021-05-06T19:44:30.003358Z"
    }
   },
   "outputs": [],
   "source": [
    "import numpy as np\n",
    "import hdf5storage as hs\n",
    "import os\n",
    "import write_utils as wu\n",
    "import scipy.io as sio\n",
    "from path_utils import getpath\n",
    "import matplotlib.pyplot as plt\n",
    "import load_utils as lu\n",
    "from write_utils import nearest_neighbor, iterate_dict_unicode"
   ]
  },
  {
   "cell_type": "code",
   "execution_count": 2,
   "metadata": {
    "ExecuteTime": {
     "end_time": "2021-05-06T19:44:30.898536Z",
     "start_time": "2021-05-06T19:44:30.869910Z"
    }
   },
   "outputs": [],
   "source": [
    "%matplotlib notebook"
   ]
  },
  {
   "cell_type": "code",
   "execution_count": 3,
   "metadata": {
    "ExecuteTime": {
     "end_time": "2021-05-06T19:44:32.980141Z",
     "start_time": "2021-05-06T19:44:32.966149Z"
    }
   },
   "outputs": [],
   "source": [
    "from tqdm.notebook import tqdm \n",
    "from datetime import datetime, timedelta"
   ]
  },
  {
   "cell_type": "code",
   "execution_count": 4,
   "metadata": {
    "ExecuteTime": {
     "end_time": "2021-05-06T19:44:33.446048Z",
     "start_time": "2021-05-06T19:44:33.438489Z"
    }
   },
   "outputs": [],
   "source": [
    "from multiprocessing import Pool, cpu_count\n",
    "from copy import deepcopy\n",
    "import signal\n",
    "import warnings\n",
    "warnings.simplefilter('ignore')"
   ]
  },
  {
   "cell_type": "code",
   "execution_count": 5,
   "metadata": {
    "ExecuteTime": {
     "end_time": "2021-05-06T19:44:34.070527Z",
     "start_time": "2021-05-06T19:44:34.065059Z"
    }
   },
   "outputs": [],
   "source": [
    "from scipy.interpolate import interp1d"
   ]
  },
  {
   "cell_type": "code",
   "execution_count": 6,
   "metadata": {
    "ExecuteTime": {
     "end_time": "2021-05-06T19:44:34.734274Z",
     "start_time": "2021-05-06T19:44:34.724926Z"
    }
   },
   "outputs": [],
   "source": [
    "import Run_libradtran as Rl"
   ]
  },
  {
   "cell_type": "code",
   "execution_count": 7,
   "metadata": {
    "ExecuteTime": {
     "end_time": "2021-05-06T19:44:35.796511Z",
     "start_time": "2021-05-06T19:44:35.790887Z"
    }
   },
   "outputs": [],
   "source": [
    "name = 'ORACLES'"
   ]
  },
  {
   "cell_type": "code",
   "execution_count": 8,
   "metadata": {
    "ExecuteTime": {
     "end_time": "2021-05-06T19:44:36.818088Z",
     "start_time": "2021-05-06T19:44:36.813350Z"
    }
   },
   "outputs": [],
   "source": [
    "vv = 'v5'\n",
    "vr = 'R4'"
   ]
  },
  {
   "cell_type": "code",
   "execution_count": 9,
   "metadata": {
    "ExecuteTime": {
     "end_time": "2021-05-06T19:44:37.392440Z",
     "start_time": "2021-05-06T19:44:37.379510Z"
    }
   },
   "outputs": [
    {
     "name": "stdout",
     "output_type": "stream",
     "text": [
      "Return path named:  ORACLES /data/sam/ORACLES/\n",
      "Return path named:  rtm /scratch/rtm/\n",
      "Return path named:  uvspecb /home/sam/libradtran/libRadtran-2.0.2b/bin/\n",
      "Return path named:  uvspec_dat /home/sam/libradtran/libRadtran-2.0.2/data/\n"
     ]
    }
   ],
   "source": [
    "fp = getpath(name)\n",
    "fp_rtm = getpath('rtm')\n",
    "fp_uvspec = getpath('uvspecb')+'uvspec'\n",
    "matfile = fp+'{}_all_cld_ict.mat'.format(vr)\n",
    "fp_uvspec_dat = getpath('uvspec_dat') \n",
    "fp_rtmdat = fp_rtm+'dat/'"
   ]
  },
  {
   "cell_type": "markdown",
   "metadata": {},
   "source": [
    "# Load the files"
   ]
  },
  {
   "cell_type": "markdown",
   "metadata": {},
   "source": [
    "## Load the 4STAR AOD"
   ]
  },
  {
   "cell_type": "code",
   "execution_count": 10,
   "metadata": {
    "ExecuteTime": {
     "end_time": "2021-05-06T19:48:44.976658Z",
     "start_time": "2021-05-06T19:48:42.376393Z"
    }
   },
   "outputs": [],
   "source": [
    "ar = hs.loadmat(fp+'/aod_ict/{v}/all_aod_ict_{v}_2016.mat'.format(v=vr,vi='v9'))"
   ]
  },
  {
   "cell_type": "code",
   "execution_count": 11,
   "metadata": {
    "ExecuteTime": {
     "end_time": "2021-05-06T19:48:44.996934Z",
     "start_time": "2021-05-06T19:48:44.982714Z"
    },
    "scrolled": true
   },
   "outputs": [
    {
     "data": {
      "text/plain": [
       "[u'AOD1040',\n",
       " u'AOD0532',\n",
       " u'AOD0530',\n",
       " u'UNCAOD0550',\n",
       " u'UNCAOD0700',\n",
       " u'AOD0355',\n",
       " u'AOD1627',\n",
       " u'AOD0520',\n",
       " u'UNCAOD0620',\n",
       " u'AOD0606',\n",
       " u'AOD1064',\n",
       " u'Latitude',\n",
       " u'UNCAOD0452',\n",
       " u'fl_alt_6',\n",
       " u'AOD0620',\n",
       " u'AOD0700',\n",
       " u'AOD0550',\n",
       " u'AOD0660',\n",
       " u'UNCAOD1627',\n",
       " u'AOD0452',\n",
       " u'fl_routine',\n",
       " u'AOD0470',\n",
       " u'fl1',\n",
       " u'UNCAOD1236',\n",
       " u'fl3',\n",
       " u'fl2',\n",
       " u'UNCAOD1064',\n",
       " u'UNCAOD0501',\n",
       " u'AOD_angstrom_470_865',\n",
       " u'AOD_polycoef_a0',\n",
       " u'AOD_polycoef_a2',\n",
       " u'UNCAOD0606',\n",
       " u'UNCAOD0355',\n",
       " u'qual_flag',\n",
       " u'UNCAOD0675',\n",
       " u'AOD1559',\n",
       " u'UNCAOD1650',\n",
       " u'UNCAOD1559',\n",
       " u'UNCAOD1250',\n",
       " u'AOD0501',\n",
       " u'Longitude',\n",
       " u'AOD_polycoef_a1',\n",
       " u'UNCAOD0660',\n",
       " u'GPS_Alt',\n",
       " u'AOD1250',\n",
       " u'flac',\n",
       " u'UNCAOD0380',\n",
       " u'fl',\n",
       " u'AOD0675',\n",
       " u'fl_QA',\n",
       " u'AOD1236',\n",
       " u'AOD1650',\n",
       " u'UNCAOD0470',\n",
       " u'AOD0380',\n",
       " u'UNCAOD0865',\n",
       " u'Start_UTC',\n",
       " u'flr',\n",
       " u'UNCAOD0781',\n",
       " u'days',\n",
       " u'UNCAOD0520',\n",
       " u'fl_alt_22',\n",
       " u'AOD0781',\n",
       " u'fl_alt_18',\n",
       " u'flag_acaod',\n",
       " u'fl_alt',\n",
       " u'AOD0865',\n",
       " u'amass_aer',\n",
       " u'flacr',\n",
       " u'UNCAOD1020',\n",
       " u'UNCAOD0532',\n",
       " u'UNCAOD1040',\n",
       " u'UNCAOD0530',\n",
       " u'AOD1020']"
      ]
     },
     "execution_count": 11,
     "metadata": {},
     "output_type": "execute_result"
    }
   ],
   "source": [
    "ar.keys()"
   ]
  },
  {
   "cell_type": "code",
   "execution_count": 12,
   "metadata": {
    "ExecuteTime": {
     "end_time": "2021-05-06T19:48:45.009819Z",
     "start_time": "2021-05-06T19:48:45.001343Z"
    }
   },
   "outputs": [
    {
     "data": {
      "text/plain": [
       "(483692,)"
      ]
     },
     "execution_count": 12,
     "metadata": {},
     "output_type": "execute_result"
    }
   ],
   "source": [
    "ar['AOD0501'].shape"
   ]
  },
  {
   "cell_type": "code",
   "execution_count": 13,
   "metadata": {
    "ExecuteTime": {
     "end_time": "2021-05-06T19:48:45.039056Z",
     "start_time": "2021-05-06T19:48:45.014719Z"
    }
   },
   "outputs": [],
   "source": [
    "sza = np.arccos(1.0/ar['amass_aer'])*180.0/np.pi"
   ]
  },
  {
   "cell_type": "code",
   "execution_count": 14,
   "metadata": {
    "ExecuteTime": {
     "end_time": "2021-05-06T19:48:45.214211Z",
     "start_time": "2021-05-06T19:48:45.208703Z"
    }
   },
   "outputs": [],
   "source": [
    "days = ['20160824','20160825','20160827','20160830','20160831','20160902','20160904','20160906','20160908',\n",
    "       '20160910','20160912','20160914','20160918','20160920','20160924','20160925','20160927','20160930']"
   ]
  },
  {
   "cell_type": "code",
   "execution_count": 15,
   "metadata": {
    "ExecuteTime": {
     "end_time": "2021-05-06T19:48:45.613549Z",
     "start_time": "2021-05-06T19:48:45.604854Z"
    }
   },
   "outputs": [
    {
     "data": {
      "text/plain": [
       "18"
      ]
     },
     "execution_count": 15,
     "metadata": {},
     "output_type": "execute_result"
    }
   ],
   "source": [
    "len(days)"
   ]
  },
  {
   "cell_type": "code",
   "execution_count": 16,
   "metadata": {
    "ExecuteTime": {
     "end_time": "2021-05-06T19:48:46.314190Z",
     "start_time": "2021-05-06T19:48:46.303717Z"
    }
   },
   "outputs": [
    {
     "data": {
      "text/plain": [
       "array([ 0.,  0.,  0., ..., 17., 17., 17.])"
      ]
     },
     "execution_count": 16,
     "metadata": {},
     "output_type": "execute_result"
    }
   ],
   "source": [
    "ar['days']"
   ]
  },
  {
   "cell_type": "markdown",
   "metadata": {},
   "source": [
    "## Load the retrieved Cloud properties"
   ]
  },
  {
   "cell_type": "code",
   "execution_count": 17,
   "metadata": {
    "ExecuteTime": {
     "end_time": "2021-05-06T19:48:48.283980Z",
     "start_time": "2021-05-06T19:48:47.744085Z"
    }
   },
   "outputs": [
    {
     "name": "stdout",
     "output_type": "stream",
     "text": [
      "loading: /data/sam/ORACLES/data_other/ssfr_2016_retrieved_COD_v4.mat\n"
     ]
    }
   ],
   "source": [
    "cl = hs.loadmat(fp+'data_other/ssfr_2016_retrieved_COD_{}.mat'.format('v4'))\n",
    "print 'loading: '+fp+'data_other/ssfr_2016_retrieved_COD_{}.mat'.format('v4')"
   ]
  },
  {
   "cell_type": "code",
   "execution_count": 18,
   "metadata": {
    "ExecuteTime": {
     "end_time": "2021-05-06T19:48:48.944863Z",
     "start_time": "2021-05-06T19:48:48.937031Z"
    }
   },
   "outputs": [
    {
     "data": {
      "text/plain": [
       "[u'tau',\n",
       " u'aod',\n",
       " u'utc',\n",
       " u'Rvis',\n",
       " u'ki',\n",
       " u'sza',\n",
       " u'lon',\n",
       " u'days',\n",
       " u'a1',\n",
       " u'a0',\n",
       " u'a2',\n",
       " u'Rnir',\n",
       " u'lat',\n",
       " u'Rvis_mod',\n",
       " u'Rnir_mod',\n",
       " u'ref']"
      ]
     },
     "execution_count": 18,
     "metadata": {},
     "output_type": "execute_result"
    }
   ],
   "source": [
    "cl.keys()"
   ]
  },
  {
   "cell_type": "code",
   "execution_count": 19,
   "metadata": {
    "ExecuteTime": {
     "end_time": "2021-05-06T19:48:49.652103Z",
     "start_time": "2021-05-06T19:48:49.644645Z"
    }
   },
   "outputs": [
    {
     "data": {
      "text/plain": [
       "(380923,)"
      ]
     },
     "execution_count": 19,
     "metadata": {},
     "output_type": "execute_result"
    }
   ],
   "source": [
    "cl['tau'].shape"
   ]
  },
  {
   "cell_type": "code",
   "execution_count": 20,
   "metadata": {
    "ExecuteTime": {
     "end_time": "2021-05-06T19:48:50.349735Z",
     "start_time": "2021-05-06T19:48:50.345384Z"
    }
   },
   "outputs": [],
   "source": [
    "dds = ['20160830','20160831','20160902','20160904','20160906','20160908',\n",
    "       '20160910','20160912','20160914','20160918','20160920','20160924','20160925','20160927']"
   ]
  },
  {
   "cell_type": "code",
   "execution_count": 21,
   "metadata": {
    "ExecuteTime": {
     "end_time": "2021-05-06T19:48:50.815729Z",
     "start_time": "2021-05-06T19:48:50.807269Z"
    }
   },
   "outputs": [
    {
     "data": {
      "text/plain": [
       "14"
      ]
     },
     "execution_count": 21,
     "metadata": {},
     "output_type": "execute_result"
    }
   ],
   "source": [
    "len(dds)"
   ]
  },
  {
   "cell_type": "code",
   "execution_count": 22,
   "metadata": {
    "ExecuteTime": {
     "end_time": "2021-05-06T19:48:51.194973Z",
     "start_time": "2021-05-06T19:48:51.183149Z"
    }
   },
   "outputs": [
    {
     "data": {
      "text/plain": [
       "array([ 0.,  0.,  0., ..., 13., 13., 13.])"
      ]
     },
     "execution_count": 22,
     "metadata": {},
     "output_type": "execute_result"
    }
   ],
   "source": [
    "cl['days']"
   ]
  },
  {
   "cell_type": "code",
   "execution_count": 23,
   "metadata": {
    "ExecuteTime": {
     "end_time": "2021-05-06T19:48:51.690313Z",
     "start_time": "2021-05-06T19:48:51.668250Z"
    }
   },
   "outputs": [],
   "source": [
    "dd = np.unique(cl['days'])"
   ]
  },
  {
   "cell_type": "code",
   "execution_count": 24,
   "metadata": {
    "ExecuteTime": {
     "end_time": "2021-05-06T19:48:52.235555Z",
     "start_time": "2021-05-06T19:48:52.140454Z"
    }
   },
   "outputs": [
    {
     "name": "stdout",
     "output_type": "stream",
     "text": [
      "0.0\n",
      "1.0\n",
      "2.0\n",
      "3.0\n",
      "4.0\n",
      "5.0\n",
      "6.0\n",
      "7.0\n",
      "8.0\n",
      "9.0\n",
      "10.0\n",
      "11.0\n",
      "12.0\n",
      "13.0\n"
     ]
    }
   ],
   "source": [
    "cod,ref = [],[]\n",
    "for d in dd:\n",
    "    print d\n",
    "    fld = cl['days']==d\n",
    "    fad = ar['days']==d+3.0\n",
    "    #nearest neighbor, but not more than a minute away\n",
    "    cod_tmp = nearest_neighbor(cl['utc'][fld],cl['tau'][fld],ar['Start_UTC'][fad],dist=1.0/60.0) \n",
    "    ref_tmp = nearest_neighbor(cl['utc'][fld],cl['ref'][fld],ar['Start_UTC'][fad],dist=1.0/60.0)\n",
    "    cod = np.append(cod,cod_tmp)\n",
    "    ref = np.append(ref,ref_tmp)"
   ]
  },
  {
   "cell_type": "code",
   "execution_count": 25,
   "metadata": {
    "ExecuteTime": {
     "end_time": "2021-05-06T19:48:52.994232Z",
     "start_time": "2021-05-06T19:48:52.987345Z"
    }
   },
   "outputs": [
    {
     "data": {
      "text/plain": [
       "(379755,)"
      ]
     },
     "execution_count": 25,
     "metadata": {},
     "output_type": "execute_result"
    }
   ],
   "source": [
    "cod.shape"
   ]
  },
  {
   "cell_type": "code",
   "execution_count": 26,
   "metadata": {
    "ExecuteTime": {
     "end_time": "2021-05-06T19:48:53.676792Z",
     "start_time": "2021-05-06T19:48:53.667823Z"
    }
   },
   "outputs": [
    {
     "data": {
      "text/plain": [
       "14"
      ]
     },
     "execution_count": 26,
     "metadata": {},
     "output_type": "execute_result"
    }
   ],
   "source": [
    "len(dds)"
   ]
  },
  {
   "cell_type": "code",
   "execution_count": 27,
   "metadata": {
    "ExecuteTime": {
     "end_time": "2021-05-06T19:48:54.274746Z",
     "start_time": "2021-05-06T19:48:54.247858Z"
    }
   },
   "outputs": [
    {
     "data": {
      "text/plain": [
       "18"
      ]
     },
     "execution_count": 27,
     "metadata": {},
     "output_type": "execute_result"
    }
   ],
   "source": [
    "len(np.unique(ar['days']))"
   ]
  },
  {
   "cell_type": "markdown",
   "metadata": {},
   "source": [
    "## Load the skyscan retrievals"
   ]
  },
  {
   "cell_type": "code",
   "execution_count": 28,
   "metadata": {
    "ExecuteTime": {
     "end_time": "2021-05-06T19:48:56.035368Z",
     "start_time": "2021-05-06T19:48:55.664214Z"
    }
   },
   "outputs": [
    {
     "name": "stdout",
     "output_type": "stream",
     "text": [
      "Reading file: /data/sam/ORACLES/aeroinv_2016/netcdf4/4STAR-aeroinv_P3_2016_R0.nc\n"
     ]
    }
   ],
   "source": [
    "try:\n",
    "    ae,ae_dict = lu.load_netcdf(fp+'aeroinv_2016/netcdf4/4STAR-aeroinv_P3_2016_R0.nc',everything=True)\n",
    "except:\n",
    "    import h5py as h5\n",
    "    f5 = h5.File(fp+'aeroinv_2016/netcdf4/4STAR-aeroinv_P3_2016_R0.nc','r')\n",
    "    ae5 = {}\n",
    "    ae5_dict = {}\n",
    "    for ka,kd in f5.iteritems():\n",
    "        ae5[ka] = kd.value\n",
    "        ae5_dict[ka] = {}\n",
    "        for kdict in kd.attrs.iteritems():\n",
    "            if type(kdict[1])!=type(np.array([])):\n",
    "                ae5_dict[ka][kdict[0]] = kdict[1]\n",
    "    ae = ae5\n",
    "    ae_dict = ae5_dict"
   ]
  },
  {
   "cell_type": "code",
   "execution_count": 29,
   "metadata": {
    "ExecuteTime": {
     "end_time": "2021-05-06T19:48:56.715542Z",
     "start_time": "2021-05-06T19:48:56.702168Z"
    },
    "scrolled": true
   },
   "outputs": [
    {
     "data": {
      "text/plain": [
       "[u'AAOD',\n",
       " u'AGOD',\n",
       " u'AOD_fit_coarse',\n",
       " u'AOD_fit_fine',\n",
       " u'AOD_fit_total',\n",
       " u'AOD_meas',\n",
       " u'GPS_Altitude',\n",
       " u'GPS_Altitude_std',\n",
       " u'Heading',\n",
       " u'Heading_std',\n",
       " u'Lat',\n",
       " u'Lon',\n",
       " u'PF_angle',\n",
       " u'PF_coarse',\n",
       " u'PF_fine',\n",
       " u'PF_total',\n",
       " u'PWV',\n",
       " u'P_static',\n",
       " u'Pitch',\n",
       " u'Pitch_std',\n",
       " u'QA_level',\n",
       " u'RH',\n",
       " u'Roll',\n",
       " u'Roll_std',\n",
       " u'SA',\n",
       " u'SAZ',\n",
       " u'SEL',\n",
       " u'SSA',\n",
       " u'SZA',\n",
       " u'TOD_fit',\n",
       " u'TOD_meas',\n",
       " u'TOD_meas_minus_fit',\n",
       " u'T_static',\n",
       " u'base_time',\n",
       " u'g_coarse',\n",
       " u'g_fine',\n",
       " u'g_total',\n",
       " u'm_ray',\n",
       " u'n_imag',\n",
       " u'n_real',\n",
       " u'normalized_sky_radiance',\n",
       " u'normalized_sky_radiance_fit',\n",
       " u'psd',\n",
       " u'radius',\n",
       " u'sca_angle',\n",
       " u'scan_tag',\n",
       " u'scan_type',\n",
       " u'sfc_alb',\n",
       " u'sky_radiance_fit_error',\n",
       " u'sphericity',\n",
       " u'sphericity_err',\n",
       " u'time',\n",
       " u'time_offset',\n",
       " u'wavelength']"
      ]
     },
     "execution_count": 29,
     "metadata": {},
     "output_type": "execute_result"
    }
   ],
   "source": [
    "ke = ae.keys()\n",
    "ke.sort()\n",
    "ke"
   ]
  },
  {
   "cell_type": "code",
   "execution_count": 29,
   "metadata": {
    "ExecuteTime": {
     "end_time": "2021-02-25T06:00:10.546051Z",
     "start_time": "2021-02-25T06:00:10.536314Z"
    }
   },
   "outputs": [
    {
     "data": {
      "text/plain": [
       "array([0.2365, 0.1788, 0.1115, 0.0665, 0.0549])"
      ]
     },
     "execution_count": 29,
     "metadata": {},
     "output_type": "execute_result"
    }
   ],
   "source": [
    "ae['AOD_meas'][0]"
   ]
  },
  {
   "cell_type": "code",
   "execution_count": 30,
   "metadata": {
    "ExecuteTime": {
     "end_time": "2021-05-06T19:48:59.081797Z",
     "start_time": "2021-05-06T19:48:59.072226Z"
    }
   },
   "outputs": [
    {
     "data": {
      "text/plain": [
       "{u'Comment': 'Based on AERONET inversion criteria in https://aeronet.gsfc.nasa.gov/new_web/Documents/AERONETcriteria_final1.pdf',\n",
       " u'Comment2': 'A consequence of the symmetry requirement for level 2 is that PPL scans can assess at no higher than 1.5',\n",
       " u'_Netcdf4Dimid': 0,\n",
       " u'lev1': 'Has at least one point at all wavelengths in each of 4 scattering angle ranges',\n",
       " u'lev1p5': 'Has 10+ values at all wavelengths with scattering angle >80 deg and at least one point in each of 4 scattering angle ranges',\n",
       " u'lev2': 'Has 21+ values at all wavelengths with scattering angle >80 deg and multiple points in each of 4 scattering angle ranges, and <20% asymmetry between CW and CCW legs',\n",
       " u'long_name': 'absorption AOD',\n",
       " u'source': 'retrieval',\n",
       " u'units': 'unitless',\n",
       " u'values': '1.0 1.5 2.0'}"
      ]
     },
     "execution_count": 30,
     "metadata": {},
     "output_type": "execute_result"
    }
   ],
   "source": [
    "ae_dict['AAOD']"
   ]
  },
  {
   "cell_type": "code",
   "execution_count": 31,
   "metadata": {
    "ExecuteTime": {
     "end_time": "2021-05-06T19:49:01.012059Z",
     "start_time": "2021-05-06T19:49:01.001475Z"
    }
   },
   "outputs": [
    {
     "data": {
      "text/plain": [
       "{u'Comment': 'Based on AERONET inversion criteria in https://aeronet.gsfc.nasa.gov/new_web/Documents/AERONETcriteria_final1.pdf',\n",
       " u'Comment2': 'A consequence of the symmetry requirement for level 2 is that PPL scans can assess at no higher than 1.5',\n",
       " u'_Netcdf4Dimid': 0,\n",
       " u'lev1': 'Has at least one point at all wavelengths in each of 4 scattering angle ranges',\n",
       " u'lev1p5': 'Has 10+ values at all wavelengths with scattering angle >80 deg and at least one point in each of 4 scattering angle ranges',\n",
       " u'lev2': 'Has 21+ values at all wavelengths with scattering angle >80 deg and multiple points in each of 4 scattering angle ranges, and <20% asymmetry between CW and CCW legs',\n",
       " u'long_name': 'single scattering albedo',\n",
       " u'source': 'retrieval',\n",
       " u'units': 'unitless',\n",
       " u'values': '1.0 1.5 2.0'}"
      ]
     },
     "execution_count": 31,
     "metadata": {},
     "output_type": "execute_result"
    }
   ],
   "source": [
    "ae_dict['SSA']"
   ]
  },
  {
   "cell_type": "code",
   "execution_count": 32,
   "metadata": {
    "ExecuteTime": {
     "end_time": "2021-05-06T19:49:01.883443Z",
     "start_time": "2021-05-06T19:49:01.875736Z"
    },
    "scrolled": true
   },
   "outputs": [
    {
     "data": {
      "text/plain": [
       "(84, 5)"
      ]
     },
     "execution_count": 32,
     "metadata": {},
     "output_type": "execute_result"
    }
   ],
   "source": [
    "ae['SSA'].shape"
   ]
  },
  {
   "cell_type": "code",
   "execution_count": 33,
   "metadata": {
    "ExecuteTime": {
     "end_time": "2021-05-06T19:49:02.728152Z",
     "start_time": "2021-05-06T19:49:02.719325Z"
    }
   },
   "outputs": [
    {
     "data": {
      "text/plain": [
       "{u'CLASS': 'DIMENSION_SCALE',\n",
       " u'NAME': 'time',\n",
       " u'_Netcdf4Dimid': 0,\n",
       " u'long_name': 'Time offset from midnight',\n",
       " u'units': 'seconds since 2016-08-31 00:00:00 0:00'}"
      ]
     },
     "execution_count": 33,
     "metadata": {},
     "output_type": "execute_result"
    }
   ],
   "source": [
    "ae_dict['time']"
   ]
  },
  {
   "cell_type": "code",
   "execution_count": 34,
   "metadata": {
    "ExecuteTime": {
     "end_time": "2021-05-06T19:49:05.165210Z",
     "start_time": "2021-05-06T19:49:05.153748Z"
    }
   },
   "outputs": [
    {
     "data": {
      "text/plain": [
       "array([  9.36436349,   9.38314424,  11.44100489,  13.53473135,\n",
       "        13.55286422,  13.63317105,  13.65609344,  14.15397498,\n",
       "        14.17291726,  55.12454682,  56.45493072,  56.47428852,\n",
       "        56.50556153,  56.52408765,  56.62796449,  56.64651974,\n",
       "        57.3145811 ,  57.57097029,  57.58955459,  58.57214188,\n",
       "        58.99556736,  60.49512862,  60.51375567,  60.53747322,\n",
       "        62.83647775, 153.56740963, 153.58586041, 154.09168935,\n",
       "       154.11113343, 154.98052584, 155.82233424, 155.84067681,\n",
       "       156.42516806, 156.44378445, 157.14872684, 157.16740038,\n",
       "       203.2280269 , 251.08488591, 252.31515166, 300.24803314,\n",
       "       301.14747711, 301.1660435 , 301.18294843, 301.7608256 ,\n",
       "       301.77941441, 302.12064148, 302.14029531, 345.31344008,\n",
       "       345.33189656, 346.52380833, 346.63178176, 346.6632354 ,\n",
       "       349.91946379, 441.84949381, 489.40488159, 489.42472078,\n",
       "       489.45796597, 489.48503416, 489.52466494, 489.55642007,\n",
       "       489.58136179, 491.02055947, 491.14471216, 492.66561342,\n",
       "       492.70347723, 492.75552446, 493.23101581, 493.25420547,\n",
       "       493.28753676, 493.31825604, 493.39634628, 585.70342018,\n",
       "       585.81399486, 587.9221829 , 609.80894124, 609.82767846,\n",
       "       611.75699517, 613.90812606, 613.97765332, 613.99688071,\n",
       "       614.07015826, 614.08907765, 615.32024977, 665.05941757])"
      ]
     },
     "execution_count": 34,
     "metadata": {},
     "output_type": "execute_result"
    }
   ],
   "source": [
    "ae['time']/3600.0"
   ]
  },
  {
   "cell_type": "code",
   "execution_count": 35,
   "metadata": {
    "ExecuteTime": {
     "end_time": "2021-05-06T19:49:06.242605Z",
     "start_time": "2021-05-06T19:49:06.237351Z"
    }
   },
   "outputs": [],
   "source": [
    "days = ['20160824','20160825','20160827','20160830','20160831','20160902','20160904','20160906','20160908',\n",
    "       '20160910','20160912','20160914','20160918','20160920','20160924','20160925','20160927','20160930']"
   ]
  },
  {
   "cell_type": "code",
   "execution_count": 36,
   "metadata": {
    "ExecuteTime": {
     "end_time": "2021-05-06T19:49:15.105785Z",
     "start_time": "2021-05-06T19:49:08.406033Z"
    },
    "scrolled": true
   },
   "outputs": [],
   "source": [
    "ar['doy'] = np.array([datetime.strptime(days[int(d)],'%Y%m%d').timetuple().tm_yday for d in ar['days']])"
   ]
  },
  {
   "cell_type": "code",
   "execution_count": 37,
   "metadata": {
    "ExecuteTime": {
     "end_time": "2021-05-06T19:49:15.118447Z",
     "start_time": "2021-05-06T19:49:15.110994Z"
    }
   },
   "outputs": [
    {
     "data": {
      "text/plain": [
       "244"
      ]
     },
     "execution_count": 37,
     "metadata": {},
     "output_type": "execute_result"
    }
   ],
   "source": [
    "datetime.strptime(days[4],'%Y%m%d').timetuple().tm_yday"
   ]
  },
  {
   "cell_type": "code",
   "execution_count": 38,
   "metadata": {
    "ExecuteTime": {
     "end_time": "2021-05-06T19:49:16.525775Z",
     "start_time": "2021-05-06T19:49:16.510161Z"
    }
   },
   "outputs": [],
   "source": [
    "ar['time_ae'] = ar['Start_UTC']+(24.0*(ar['doy']-244))"
   ]
  },
  {
   "cell_type": "code",
   "execution_count": 39,
   "metadata": {
    "ExecuteTime": {
     "end_time": "2021-05-06T19:49:17.690464Z",
     "start_time": "2021-05-06T19:49:17.680459Z"
    }
   },
   "outputs": [
    {
     "data": {
      "text/plain": [
       "array([-156.14305556, -156.14277778, -156.1425    , ...,  737.93      ,\n",
       "        737.93027778,  737.93055556])"
      ]
     },
     "execution_count": 39,
     "metadata": {},
     "output_type": "execute_result"
    }
   ],
   "source": [
    "ar['time_ae']"
   ]
  },
  {
   "cell_type": "markdown",
   "metadata": {},
   "source": [
    "## Load the MODIS cloud retrievals"
   ]
  },
  {
   "cell_type": "code",
   "execution_count": 40,
   "metadata": {
    "ExecuteTime": {
     "end_time": "2021-05-06T19:49:21.140784Z",
     "start_time": "2021-05-06T19:49:21.128004Z"
    }
   },
   "outputs": [],
   "source": [
    "import pytz"
   ]
  },
  {
   "cell_type": "code",
   "execution_count": 41,
   "metadata": {
    "ExecuteTime": {
     "end_time": "2021-05-06T19:49:21.642232Z",
     "start_time": "2021-05-06T19:49:21.632652Z"
    }
   },
   "outputs": [
    {
     "data": {
      "text/plain": [
       "u'/data/sam/ORACLES/'"
      ]
     },
     "execution_count": 41,
     "metadata": {},
     "output_type": "execute_result"
    }
   ],
   "source": [
    "fp"
   ]
  },
  {
   "cell_type": "code",
   "execution_count": 42,
   "metadata": {
    "ExecuteTime": {
     "end_time": "2021-05-06T19:49:22.487043Z",
     "start_time": "2021-05-06T19:49:22.432258Z"
    }
   },
   "outputs": [],
   "source": [
    "fmod = os.listdir(fp+'data_other/MODIS/MOD06_L2/2016/268/')\n",
    "fgeo = os.listdir(fp+'data_other/MODIS/MOD03/2016/268/')\n",
    "fmod.sort()\n",
    "fgeo.sort()"
   ]
  },
  {
   "cell_type": "code",
   "execution_count": 45,
   "metadata": {
    "ExecuteTime": {
     "end_time": "2021-02-08T19:01:39.329305Z",
     "start_time": "2021-02-08T19:01:39.323325Z"
    }
   },
   "outputs": [],
   "source": [
    "vals = (('QA',123),('CF',38),('ref',66),('COD',72),('mask',110),('t',0))"
   ]
  },
  {
   "cell_type": "code",
   "execution_count": 46,
   "metadata": {
    "ExecuteTime": {
     "end_time": "2021-02-08T19:01:41.087580Z",
     "start_time": "2021-02-08T19:01:39.905572Z"
    }
   },
   "outputs": [],
   "source": [
    "geo,geo_dict = lu.load_hdf(fp+'data_other/MODIS/MOD03/2016/268/'+fgeo[0],values=(('lat',12),('lon',13)),verbose=False)"
   ]
  },
  {
   "cell_type": "code",
   "execution_count": 47,
   "metadata": {
    "ExecuteTime": {
     "end_time": "2021-02-05T00:01:32.928156Z",
     "start_time": "2021-02-05T00:01:32.923035Z"
    }
   },
   "outputs": [],
   "source": [
    "def bits_stripping(bit_start,bit_count,value):\n",
    "\tbitmask=pow(2,bit_start+bit_count)-1\n",
    "\treturn np.right_shift(np.bitwise_and(value,bitmask),bit_start)"
   ]
  },
  {
   "cell_type": "code",
   "execution_count": 48,
   "metadata": {
    "ExecuteTime": {
     "end_time": "2021-02-05T00:01:32.961787Z",
     "start_time": "2021-02-05T00:01:32.952912Z"
    }
   },
   "outputs": [],
   "source": [
    "def mod_qa(aq_val):\n",
    "    qa_cod_useful = bits_stripping(0,1,aq_val[4])\n",
    "    qa_cod_conf = bits_stripping(1,2,aq_val[4])\n",
    "    qa_ref_useful = bits_stripping(3,1,aq_val[4])\n",
    "    qa_ref_conf = bits_stripping(4,2,aq_val[4])\n",
    "    return (qa_cod_useful>0) & (qa_cod_conf>1) & (qa_ref_useful>0) & (qa_ref_conf>1) "
   ]
  },
  {
   "cell_type": "code",
   "execution_count": 49,
   "metadata": {
    "ExecuteTime": {
     "end_time": "2021-02-05T00:01:33.276604Z",
     "start_time": "2021-02-05T00:01:33.269038Z"
    }
   },
   "outputs": [],
   "source": [
    "def mod_qa_arr(aq_arr):\n",
    "    qa_cod_useful = bits_stripping(0,1,aq_arr[:,:,4])\n",
    "    qa_cod_conf = bits_stripping(1,2,aq_arr[:,:,4])\n",
    "    qa_ref_useful = bits_stripping(3,1,aq_arr[:,:,4])\n",
    "    qa_ref_conf = bits_stripping(4,2,aq_arr[:,:,4])\n",
    "    return (qa_cod_useful>0) & (qa_cod_conf>1) & (qa_ref_useful>0) & (qa_ref_conf>1) "
   ]
  },
  {
   "cell_type": "markdown",
   "metadata": {},
   "source": [
    "### pre-load the geo for easier calcs"
   ]
  },
  {
   "cell_type": "code",
   "execution_count": 50,
   "metadata": {
    "ExecuteTime": {
     "end_time": "2021-02-05T00:01:37.206780Z",
     "start_time": "2021-02-05T00:01:37.182703Z"
    }
   },
   "outputs": [],
   "source": [
    "from pyhdf.SD import SD, SDC"
   ]
  },
  {
   "cell_type": "code",
   "execution_count": 51,
   "metadata": {
    "ExecuteTime": {
     "end_time": "2021-02-05T00:01:37.722456Z",
     "start_time": "2021-02-05T00:01:37.718958Z"
    }
   },
   "outputs": [],
   "source": [
    "from copy import deepcopy"
   ]
  },
  {
   "cell_type": "code",
   "execution_count": 59,
   "metadata": {
    "ExecuteTime": {
     "end_time": "2021-02-05T00:03:56.305990Z",
     "start_time": "2021-02-05T00:03:56.295589Z"
    }
   },
   "outputs": [],
   "source": [
    "if not 'fla' in locals(): \n",
    "    # for all 4STAR aerosol arrays\n",
    "    fla = (ar['flag_acaod']==1) & ar['fl'] & ar['fl_QA'] & (ar['days']>2.0)"
   ]
  },
  {
   "cell_type": "code",
   "execution_count": 60,
   "metadata": {
    "ExecuteTime": {
     "end_time": "2021-02-05T00:05:22.749750Z",
     "start_time": "2021-02-05T00:03:58.883705Z"
    },
    "scrolled": true
   },
   "outputs": [
    {
     "name": "stdout",
     "output_type": "stream",
     "text": [
      "244\n",
      "246\n",
      "248\n",
      "250\n",
      "252\n",
      "254\n",
      "256\n",
      "258\n",
      "262\n",
      "264\n",
      "268\n",
      "269\n",
      "271\n"
     ]
    }
   ],
   "source": [
    "geoso = {}\n",
    "doys = np.unique(ar['doy'][fla])\n",
    "for ddy in doys:\n",
    "    print ddy\n",
    "    fgeo = os.listdir(fp+'data_other/MODIS/MOD03/2016/{}/'.format(ddy))\n",
    "    fgeo.sort()\n",
    "    geo_time = np.array([float(g.split('.')[2][0:2])+float(g.split('.')[2][2:])/60.0 for g in fgeo])\n",
    "    geoso['{}'.format(ddy)] = {'time':geo_time[:],'fname':fgeo[:],\n",
    "                               'path':fp+'data_other/MODIS/MOD03/2016/{}/'.format(ddy),\n",
    "                               'lat':np.zeros((len(geo_time),2030,1354))+np.nan,\n",
    "                               'lon':np.zeros((len(geo_time),2030,1354))+np.nan}\n",
    "    for ngeo,fg in enumerate(fgeo):\n",
    "        geo_tmp,geo_tmp_dict = lu.load_hdf(geoso['{}'.format(ddy)]['path']+fg,values=(('lat',12),('lon',13)),verbose=False)\n",
    "        geoso['{}'.format(ddy)]['lat'][ngeo,:,:] = geo_tmp['lat'][:2030,:1354]\n",
    "        geoso['{}'.format(ddy)]['lon'][ngeo,:,:] = geo_tmp['lon'][:2030,:1354]\n",
    "    # load the MOD06 file pointers\n",
    "    fmods = os.listdir(fp+'data_other/MODIS/MOD06_L2/2016/{}/'.format(ddy))\n",
    "    fmods.sort()\n",
    "    fh = []\n",
    "    for ff in fmods:\n",
    "        fh1 = SD(str(fp+'data_other/MODIS/MOD06_L2/2016/{}/'.format(ddy)+ff),SDC.READ)\n",
    "        fh.append(fh1)\n",
    "    geoso['{}'.format(ddy)]['fh'] = fh[:]"
   ]
  },
  {
   "cell_type": "code",
   "execution_count": 53,
   "metadata": {
    "ExecuteTime": {
     "end_time": "2021-02-05T00:01:41.539138Z",
     "start_time": "2021-02-05T00:01:41.504002Z"
    }
   },
   "outputs": [
    {
     "ename": "NameError",
     "evalue": "name 'fla' is not defined",
     "output_type": "error",
     "traceback": [
      "\u001b[0;31m\u001b[0m",
      "\u001b[0;31mNameError\u001b[0mTraceback (most recent call last)",
      "\u001b[0;32m<ipython-input-53-23f9b0a2ba94>\u001b[0m in \u001b[0;36m<module>\u001b[0;34m()\u001b[0m\n\u001b[1;32m      1\u001b[0m \u001b[0mgeosy\u001b[0m \u001b[0;34m=\u001b[0m \u001b[0;34m{\u001b[0m\u001b[0;34m}\u001b[0m\u001b[0;34m\u001b[0m\u001b[0m\n\u001b[0;32m----> 2\u001b[0;31m \u001b[0mdoys\u001b[0m \u001b[0;34m=\u001b[0m \u001b[0mnp\u001b[0m\u001b[0;34m.\u001b[0m\u001b[0munique\u001b[0m\u001b[0;34m(\u001b[0m\u001b[0mar\u001b[0m\u001b[0;34m[\u001b[0m\u001b[0;34m'doy'\u001b[0m\u001b[0;34m]\u001b[0m\u001b[0;34m[\u001b[0m\u001b[0mfla\u001b[0m\u001b[0;34m]\u001b[0m\u001b[0;34m)\u001b[0m\u001b[0;34m\u001b[0m\u001b[0m\n\u001b[0m\u001b[1;32m      3\u001b[0m \u001b[0;32mfor\u001b[0m \u001b[0mddy\u001b[0m \u001b[0;32min\u001b[0m \u001b[0mdoys\u001b[0m\u001b[0;34m:\u001b[0m\u001b[0;34m\u001b[0m\u001b[0m\n\u001b[1;32m      4\u001b[0m     \u001b[0;32mprint\u001b[0m \u001b[0mddy\u001b[0m\u001b[0;34m\u001b[0m\u001b[0m\n\u001b[1;32m      5\u001b[0m     \u001b[0mfgeo\u001b[0m \u001b[0;34m=\u001b[0m \u001b[0mos\u001b[0m\u001b[0;34m.\u001b[0m\u001b[0mlistdir\u001b[0m\u001b[0;34m(\u001b[0m\u001b[0mfp\u001b[0m\u001b[0;34m+\u001b[0m\u001b[0;34m'data_other/MODIS/MYD03/2016/{}/'\u001b[0m\u001b[0;34m.\u001b[0m\u001b[0mformat\u001b[0m\u001b[0;34m(\u001b[0m\u001b[0mddy\u001b[0m\u001b[0;34m)\u001b[0m\u001b[0;34m)\u001b[0m\u001b[0;34m\u001b[0m\u001b[0m\n",
      "\u001b[0;31mNameError\u001b[0m: name 'fla' is not defined"
     ]
    }
   ],
   "source": [
    "geosy = {}\n",
    "doys = np.unique(ar['doy'][fla])\n",
    "for ddy in doys:\n",
    "    print ddy\n",
    "    fgeo = os.listdir(fp+'data_other/MODIS/MYD03/2016/{}/'.format(ddy))\n",
    "    fgeo.sort()\n",
    "    geo_time = np.array([float(g.split('.')[2][0:2])+float(g.split('.')[2][2:])/60.0 for g in fgeo])\n",
    "    geosy['{}'.format(ddy)] = {'time':deepcopy(geo_time),\n",
    "                               'fname':deepcopy(fgeo),\n",
    "                               'path':fp+'data_other/MODIS/MYD03/2016/{}/'.format(ddy),\n",
    "                   'lat':np.zeros((len(geo_time),2030,1354))+np.nan,'lon':np.zeros((len(geo_time),2030,1354))+np.nan}\n",
    "    for ngeo,fg in enumerate(fgeo):\n",
    "        geo_tmp,geo_tmp_dict = lu.load_hdf(geosy['{}'.format(ddy)]['path']+fg,values=(('lat',12),('lon',13)),verbose=False)\n",
    "        geosy['{}'.format(ddy)]['lat'][ngeo,:,:] = geo_tmp['lat'][:2030,:1354]\n",
    "        geosy['{}'.format(ddy)]['lon'][ngeo,:,:] = geo_tmp['lon'][:2030,:1354]\n",
    "    # load the MYD06 file pointers\n",
    "    fmods = os.listdir(fp+'data_other/MODIS/MYD06_L2/2016/{}/'.format(ddy))\n",
    "    fmods.sort()\n",
    "    fh = []\n",
    "    for ff in fmods:\n",
    "        fh1 = SD(str(fp+'data_other/MODIS/MYD06_L2/2016/{}/'.format(ddy)+ff),SDC.READ)\n",
    "        fh.append(fh1)\n",
    "    geosy['{}'.format(ddy)]['fh'] = fh[:]"
   ]
  },
  {
   "cell_type": "code",
   "execution_count": 79,
   "metadata": {
    "ExecuteTime": {
     "end_time": "2020-11-21T07:50:33.434611Z",
     "start_time": "2020-11-21T07:50:33.425194Z"
    }
   },
   "outputs": [
    {
     "data": {
      "text/plain": [
       "[u'MOD06_L2.A2016268.0825.061.2017328111439.hdf',\n",
       " u'MOD06_L2.A2016268.0830.061.2017328111414.hdf',\n",
       " u'MOD06_L2.A2016268.0835.061.2017328114509.hdf',\n",
       " u'MOD06_L2.A2016268.1005.061.2017328113548.hdf',\n",
       " u'MOD06_L2.A2016268.1010.061.2017328114130.hdf',\n",
       " u'MOD06_L2.A2016268.1140.061.2017328112541.hdf',\n",
       " u'MOD06_L2.A2016268.1145.061.2017328113520.hdf',\n",
       " u'MOD06_L2.A2016268.1150.061.2017328113559.hdf']"
      ]
     },
     "execution_count": 79,
     "metadata": {},
     "output_type": "execute_result"
    }
   ],
   "source": [
    "fmod"
   ]
  },
  {
   "cell_type": "code",
   "execution_count": 80,
   "metadata": {
    "ExecuteTime": {
     "end_time": "2020-11-21T07:50:35.580928Z",
     "start_time": "2020-11-21T07:50:35.571354Z"
    }
   },
   "outputs": [
    {
     "data": {
      "text/plain": [
       "[u'MOD03.A2016264.0850.061.2017327133229.hdf',\n",
       " u'MOD03.A2016264.0855.006.2016266191652.hdf',\n",
       " u'MOD03.A2016264.1025.061.2017327133328.hdf',\n",
       " u'MOD03.A2016264.1030.061.2017327133338.hdf',\n",
       " u'MOD03.A2016264.1035.061.2017327133339.hdf',\n",
       " u'MOD03.A2016264.1205.061.2017327133225.hdf']"
      ]
     },
     "execution_count": 80,
     "metadata": {},
     "output_type": "execute_result"
    }
   ],
   "source": [
    "geoso['264']['fname']"
   ]
  },
  {
   "cell_type": "code",
   "execution_count": 93,
   "metadata": {
    "ExecuteTime": {
     "end_time": "2020-11-23T02:48:58.969782Z",
     "start_time": "2020-11-23T02:48:58.956467Z"
    }
   },
   "outputs": [],
   "source": [
    "def read_mod06_hdf_pixel(fh,ix,iy):\n",
    "    re = fh.select('Cloud_Effective_Radius')\n",
    "    ref = re[ix][iy]\n",
    "    if ref == re.attributes()['_FillValue']: ref = np.nan\n",
    "    ref = ref*re.attributes()['scale_factor']\n",
    "    \n",
    "    co = fh.select('Cloud_Optical_Thickness')\n",
    "    cod = co[ix][iy]\n",
    "    if cod == co.attributes()['_FillValue']: cod = np.nan\n",
    "    cod = cod*co.attributes()['scale_factor']\n",
    "    \n",
    "    #ma = fh.select('Cloud_Mask_1km')\n",
    "    #mask = ma[ix][iy]\n",
    "    \n",
    "    qal = fh.select('Quality_Assurance_1km')\n",
    "    qa = qal[ix][iy]\n",
    "    \n",
    "    return cod,ref,qa"
   ]
  },
  {
   "cell_type": "markdown",
   "metadata": {},
   "source": [
    "### Run through the flight data and build colocations"
   ]
  },
  {
   "cell_type": "code",
   "execution_count": 94,
   "metadata": {
    "ExecuteTime": {
     "end_time": "2020-11-23T02:48:58.984298Z",
     "start_time": "2020-11-23T02:48:58.974350Z"
    }
   },
   "outputs": [],
   "source": [
    "import map_utils as mu"
   ]
  },
  {
   "cell_type": "code",
   "execution_count": 95,
   "metadata": {
    "ExecuteTime": {
     "end_time": "2020-11-23T02:48:59.001305Z",
     "start_time": "2020-11-23T02:48:58.989092Z"
    }
   },
   "outputs": [],
   "source": [
    "def read_mod06(fh):\n",
    "    re = fh.select('Cloud_Effective_Radius')\n",
    "    ref = re.get()\n",
    "    ref = ref*re.attributes()['scale_factor']\n",
    "    ref[ref<0] = np.nan\n",
    "    \n",
    "    co = fh.select('Cloud_Optical_Thickness')\n",
    "    codm = co.get()\n",
    "    codm = codm*co.attributes()['scale_factor']\n",
    "    codm[codm<0] = np.nan\n",
    "        \n",
    "    qal = fh.select('Quality_Assurance_1km')\n",
    "    qa = mod_qa_arr(qal.get())\n",
    "    \n",
    "    #cod[~qa] = np.nan\n",
    "    #ref[~qa] = np.nan\n",
    "    \n",
    "    return codm,ref"
   ]
  },
  {
   "cell_type": "code",
   "execution_count": 96,
   "metadata": {
    "ExecuteTime": {
     "end_time": "2020-11-23T02:48:59.026383Z",
     "start_time": "2020-11-23T02:48:59.003615Z"
    }
   },
   "outputs": [
    {
     "data": {
      "text/plain": [
       "array([244, 246, 248, 250, 252, 254, 256, 258, 262, 264, 268, 269, 271])"
      ]
     },
     "execution_count": 96,
     "metadata": {},
     "output_type": "execute_result"
    }
   ],
   "source": [
    "doys"
   ]
  },
  {
   "cell_type": "code",
   "execution_count": 97,
   "metadata": {
    "ExecuteTime": {
     "end_time": "2020-11-23T02:48:59.395845Z",
     "start_time": "2020-11-23T02:48:59.031022Z"
    }
   },
   "outputs": [
    {
     "data": {
      "text/plain": [
       "20284"
      ]
     },
     "execution_count": 97,
     "metadata": {},
     "output_type": "execute_result"
    }
   ],
   "source": [
    "iaes = np.array([it for it,ta in enumerate(ar['time_ae'][fla]) if any(abs(ta - ae['time']/3600)<1.0)])\n",
    "len(iaes)"
   ]
  },
  {
   "cell_type": "code",
   "execution_count": 100,
   "metadata": {
    "ExecuteTime": {
     "end_time": "2020-11-23T02:52:18.938424Z",
     "start_time": "2020-11-23T02:52:18.918526Z"
    }
   },
   "outputs": [],
   "source": [
    "nval = len(ar['Start_UTC'][fla])\n",
    "mod = {'time':np.zeros((nval))+np.nan,'lat':np.zeros((nval))+np.nan,'lon':np.zeros((nval))+np.nan,\n",
    "       'cod':np.zeros((nval))+np.nan,\n",
    "       'ref':np.zeros((nval))+np.nan,'qa':np.zeros((nval))-1,'mask':np.zeros((nval))-1}\n",
    "myd = {'time':np.zeros((nval))+np.nan,'lat':np.zeros((nval))+np.nan,'lon':np.zeros((nval))+np.nan,\n",
    "       'cod':np.zeros((nval))+np.nan,\n",
    "       'ref':np.zeros((nval))+np.nan,'qa':np.zeros((nval))-1,'mask':np.zeros((nval))-1}"
   ]
  },
  {
   "cell_type": "code",
   "execution_count": 101,
   "metadata": {
    "ExecuteTime": {
     "end_time": "2020-11-23T03:11:41.107527Z",
     "start_time": "2020-11-23T02:53:52.511972Z"
    }
   },
   "outputs": [
    {
     "name": "stdout",
     "output_type": "stream",
     "text": [
      "244\n",
      "Running through flight track: [########################################]100% -- Done! \n",
      "Running through flight track: [########################################]100% -- Done! \n",
      "Running through flight track: [########################################]100% -- Done! \n",
      "Running through flight track: [########################################]100% -- Done! \n",
      "Running through flight track: [########################################]100% -- Done! \n",
      "246\n",
      "Running through flight track: [########################################]100% -- Done! \n",
      "Running through flight track: [########################################]100% -- Done! \n",
      "Running through flight track: [########################################]100% -- Done! \n",
      "250\n",
      "Running through flight track: [########################################]100% -- Done! \n",
      "Running through flight track: [########################################]100% -- Done! \n",
      "Running through flight track: [########################################]100% -- Done! \n",
      "252\n",
      "Running through flight track: [########################################]100% -- Done! \n",
      "Running through flight track: [########################################]100% -- Done! \n",
      "254\n",
      "Running through flight track: [########################################]100% -- Done! \n",
      "Running through flight track: [########################################]100% -- Done! \n",
      "256\n",
      "Running through flight track: [########################################]100% -- Done! \n",
      "Running through flight track: [########################################]100% -- Done! \n",
      "Running through flight track: [########################################]100% -- Done! \n",
      "Running through flight track: [########################################]100% -- Done! \n",
      "258\n",
      "Running through flight track: [########################################]100% -- Done! \n",
      "Running through flight track: [########################################]100% -- Done! \n",
      "262\n",
      "Running through flight track: [########################################]100% -- Done! \n",
      "Running through flight track: [########################################]100% -- Done! \n",
      "264\n",
      "Running through flight track: [########################################]100% -- Done! \n",
      "Running through flight track: [########################################]100% -- Done! \n",
      "Running through flight track: [########################################]100% -- Done! \n",
      "Running through flight track: [########################################]100% -- Done! \n",
      "268\n",
      "Running through flight track: [########################################]100% -- Done! \n",
      "Running through flight track: [########################################]100% -- Done! \n",
      "269\n",
      "Running through flight track: [########################################]100% -- Done! \n",
      "Running through flight track: [########################################]100% -- Done! \n",
      "Running through flight track: [########################################]100% -- Done! \n",
      "Running through flight track: [########################################]100% -- Done! \n",
      "Running through flight track: [########################################]100% -- Done! \n",
      "271\n",
      "Running through flight track: [########################################]100% -- Done! \n",
      "Running through flight track: [########################################]100% -- Done! \n"
     ]
    }
   ],
   "source": [
    "dos = np.unique(ar['doy'][fla][iaes])\n",
    "for ddd in dos:\n",
    "    ad = '{}'.format(ddd)\n",
    "    print ad\n",
    "    idd = ar['doy'][fla][iaes]==ddd\n",
    "    for igo,go in enumerate(geoso[ad]['fh']):\n",
    "        ind = mu.map_ind(geoso[ad]['lat'][igo,:,:],geoso[ad]['lon'][igo,:,:],\n",
    "                         ar['Latitude'][fla][iaes][idd],ar['Longitude'][fla][iaes][idd])\n",
    "        if np.array(ind).any():\n",
    "            codm,ref = read_mod06(go)\n",
    "            cs = np.array([[np.nanmean(codm[ix-4:ix+4,iy-4:iy+4]),np.nanmean(ref[ix-4:ix+4,iy-4:iy+4])] for ix,iy in ind.T])\n",
    "            mod['cod'][iaes[idd]] = cs[:,0]\n",
    "            mod['ref'][iaes[idd]] = cs[:,1]\n",
    "            mod['time'][iaes[idd]] = geoso[ad]['time'][igo]\n",
    "            mod['lat'][iaes[idd]] = ar['Latitude'][fla][iaes][idd]\n",
    "            mod['lon'][iaes[idd]] = ar['Longitude'][fla][iaes][idd]\n",
    "            \n",
    "    for igy,gy in enumerate(geosy[ad]['fh']):\n",
    "        ind = mu.map_ind(geosy[ad]['lat'][igy,:,:],geosy[ad]['lon'][igy,:,:],\n",
    "                         ar['Latitude'][fla][iaes][idd],ar['Longitude'][fla][iaes][idd])\n",
    "        if np.array(ind).any():\n",
    "            cody,refy = read_mod06(gy)\n",
    "            cs = np.array([[np.nanmean(cody[ix-4:ix+4,iy-4:iy+4]),np.nanmean(refy[ix-4:ix+4,iy-4:iy+4])] for ix,iy in ind.T])\n",
    "            myd['cod'][iaes[idd]] = cs[:,0]\n",
    "            myd['ref'][iaes[idd]] = cs[:,1]\n",
    "            myd['time'][iaes[idd]] = geosy[ad]['time'][igy]\n",
    "            myd['lat'][iaes[idd]] = ar['Latitude'][fla][iaes][idd]\n",
    "            myd['lon'][iaes[idd]] = ar['Longitude'][fla][iaes][idd]"
   ]
  },
  {
   "cell_type": "code",
   "execution_count": 102,
   "metadata": {
    "ExecuteTime": {
     "end_time": "2020-11-23T03:43:55.846246Z",
     "start_time": "2020-11-23T03:43:55.813617Z"
    }
   },
   "outputs": [],
   "source": [
    "sio.savemat(fp+'data_other/MODIS/MODIS_ORACLES2016_match.mat',{'mod':mod,'myd':myd})"
   ]
  },
  {
   "cell_type": "code",
   "execution_count": 273,
   "metadata": {
    "ExecuteTime": {
     "end_time": "2020-11-21T18:56:24.591875Z",
     "start_time": "2020-11-21T18:56:24.551496Z"
    }
   },
   "outputs": [
    {
     "data": {
      "application/javascript": [
       "/* Put everything inside the global mpl namespace */\n",
       "window.mpl = {};\n",
       "\n",
       "\n",
       "mpl.get_websocket_type = function() {\n",
       "    if (typeof(WebSocket) !== 'undefined') {\n",
       "        return WebSocket;\n",
       "    } else if (typeof(MozWebSocket) !== 'undefined') {\n",
       "        return MozWebSocket;\n",
       "    } else {\n",
       "        alert('Your browser does not have WebSocket support.' +\n",
       "              'Please try Chrome, Safari or Firefox ≥ 6. ' +\n",
       "              'Firefox 4 and 5 are also supported but you ' +\n",
       "              'have to enable WebSockets in about:config.');\n",
       "    };\n",
       "}\n",
       "\n",
       "mpl.figure = function(figure_id, websocket, ondownload, parent_element) {\n",
       "    this.id = figure_id;\n",
       "\n",
       "    this.ws = websocket;\n",
       "\n",
       "    this.supports_binary = (this.ws.binaryType != undefined);\n",
       "\n",
       "    if (!this.supports_binary) {\n",
       "        var warnings = document.getElementById(\"mpl-warnings\");\n",
       "        if (warnings) {\n",
       "            warnings.style.display = 'block';\n",
       "            warnings.textContent = (\n",
       "                \"This browser does not support binary websocket messages. \" +\n",
       "                    \"Performance may be slow.\");\n",
       "        }\n",
       "    }\n",
       "\n",
       "    this.imageObj = new Image();\n",
       "\n",
       "    this.context = undefined;\n",
       "    this.message = undefined;\n",
       "    this.canvas = undefined;\n",
       "    this.rubberband_canvas = undefined;\n",
       "    this.rubberband_context = undefined;\n",
       "    this.format_dropdown = undefined;\n",
       "\n",
       "    this.image_mode = 'full';\n",
       "\n",
       "    this.root = $('<div/>');\n",
       "    this._root_extra_style(this.root)\n",
       "    this.root.attr('style', 'display: inline-block');\n",
       "\n",
       "    $(parent_element).append(this.root);\n",
       "\n",
       "    this._init_header(this);\n",
       "    this._init_canvas(this);\n",
       "    this._init_toolbar(this);\n",
       "\n",
       "    var fig = this;\n",
       "\n",
       "    this.waiting = false;\n",
       "\n",
       "    this.ws.onopen =  function () {\n",
       "            fig.send_message(\"supports_binary\", {value: fig.supports_binary});\n",
       "            fig.send_message(\"send_image_mode\", {});\n",
       "            if (mpl.ratio != 1) {\n",
       "                fig.send_message(\"set_dpi_ratio\", {'dpi_ratio': mpl.ratio});\n",
       "            }\n",
       "            fig.send_message(\"refresh\", {});\n",
       "        }\n",
       "\n",
       "    this.imageObj.onload = function() {\n",
       "            if (fig.image_mode == 'full') {\n",
       "                // Full images could contain transparency (where diff images\n",
       "                // almost always do), so we need to clear the canvas so that\n",
       "                // there is no ghosting.\n",
       "                fig.context.clearRect(0, 0, fig.canvas.width, fig.canvas.height);\n",
       "            }\n",
       "            fig.context.drawImage(fig.imageObj, 0, 0);\n",
       "        };\n",
       "\n",
       "    this.imageObj.onunload = function() {\n",
       "        fig.ws.close();\n",
       "    }\n",
       "\n",
       "    this.ws.onmessage = this._make_on_message_function(this);\n",
       "\n",
       "    this.ondownload = ondownload;\n",
       "}\n",
       "\n",
       "mpl.figure.prototype._init_header = function() {\n",
       "    var titlebar = $(\n",
       "        '<div class=\"ui-dialog-titlebar ui-widget-header ui-corner-all ' +\n",
       "        'ui-helper-clearfix\"/>');\n",
       "    var titletext = $(\n",
       "        '<div class=\"ui-dialog-title\" style=\"width: 100%; ' +\n",
       "        'text-align: center; padding: 3px;\"/>');\n",
       "    titlebar.append(titletext)\n",
       "    this.root.append(titlebar);\n",
       "    this.header = titletext[0];\n",
       "}\n",
       "\n",
       "\n",
       "\n",
       "mpl.figure.prototype._canvas_extra_style = function(canvas_div) {\n",
       "\n",
       "}\n",
       "\n",
       "\n",
       "mpl.figure.prototype._root_extra_style = function(canvas_div) {\n",
       "\n",
       "}\n",
       "\n",
       "mpl.figure.prototype._init_canvas = function() {\n",
       "    var fig = this;\n",
       "\n",
       "    var canvas_div = $('<div/>');\n",
       "\n",
       "    canvas_div.attr('style', 'position: relative; clear: both; outline: 0');\n",
       "\n",
       "    function canvas_keyboard_event(event) {\n",
       "        return fig.key_event(event, event['data']);\n",
       "    }\n",
       "\n",
       "    canvas_div.keydown('key_press', canvas_keyboard_event);\n",
       "    canvas_div.keyup('key_release', canvas_keyboard_event);\n",
       "    this.canvas_div = canvas_div\n",
       "    this._canvas_extra_style(canvas_div)\n",
       "    this.root.append(canvas_div);\n",
       "\n",
       "    var canvas = $('<canvas/>');\n",
       "    canvas.addClass('mpl-canvas');\n",
       "    canvas.attr('style', \"left: 0; top: 0; z-index: 0; outline: 0\")\n",
       "\n",
       "    this.canvas = canvas[0];\n",
       "    this.context = canvas[0].getContext(\"2d\");\n",
       "\n",
       "    var backingStore = this.context.backingStorePixelRatio ||\n",
       "\tthis.context.webkitBackingStorePixelRatio ||\n",
       "\tthis.context.mozBackingStorePixelRatio ||\n",
       "\tthis.context.msBackingStorePixelRatio ||\n",
       "\tthis.context.oBackingStorePixelRatio ||\n",
       "\tthis.context.backingStorePixelRatio || 1;\n",
       "\n",
       "    mpl.ratio = (window.devicePixelRatio || 1) / backingStore;\n",
       "\n",
       "    var rubberband = $('<canvas/>');\n",
       "    rubberband.attr('style', \"position: absolute; left: 0; top: 0; z-index: 1;\")\n",
       "\n",
       "    var pass_mouse_events = true;\n",
       "\n",
       "    canvas_div.resizable({\n",
       "        start: function(event, ui) {\n",
       "            pass_mouse_events = false;\n",
       "        },\n",
       "        resize: function(event, ui) {\n",
       "            fig.request_resize(ui.size.width, ui.size.height);\n",
       "        },\n",
       "        stop: function(event, ui) {\n",
       "            pass_mouse_events = true;\n",
       "            fig.request_resize(ui.size.width, ui.size.height);\n",
       "        },\n",
       "    });\n",
       "\n",
       "    function mouse_event_fn(event) {\n",
       "        if (pass_mouse_events)\n",
       "            return fig.mouse_event(event, event['data']);\n",
       "    }\n",
       "\n",
       "    rubberband.mousedown('button_press', mouse_event_fn);\n",
       "    rubberband.mouseup('button_release', mouse_event_fn);\n",
       "    // Throttle sequential mouse events to 1 every 20ms.\n",
       "    rubberband.mousemove('motion_notify', mouse_event_fn);\n",
       "\n",
       "    rubberband.mouseenter('figure_enter', mouse_event_fn);\n",
       "    rubberband.mouseleave('figure_leave', mouse_event_fn);\n",
       "\n",
       "    canvas_div.on(\"wheel\", function (event) {\n",
       "        event = event.originalEvent;\n",
       "        event['data'] = 'scroll'\n",
       "        if (event.deltaY < 0) {\n",
       "            event.step = 1;\n",
       "        } else {\n",
       "            event.step = -1;\n",
       "        }\n",
       "        mouse_event_fn(event);\n",
       "    });\n",
       "\n",
       "    canvas_div.append(canvas);\n",
       "    canvas_div.append(rubberband);\n",
       "\n",
       "    this.rubberband = rubberband;\n",
       "    this.rubberband_canvas = rubberband[0];\n",
       "    this.rubberband_context = rubberband[0].getContext(\"2d\");\n",
       "    this.rubberband_context.strokeStyle = \"#000000\";\n",
       "\n",
       "    this._resize_canvas = function(width, height) {\n",
       "        // Keep the size of the canvas, canvas container, and rubber band\n",
       "        // canvas in synch.\n",
       "        canvas_div.css('width', width)\n",
       "        canvas_div.css('height', height)\n",
       "\n",
       "        canvas.attr('width', width * mpl.ratio);\n",
       "        canvas.attr('height', height * mpl.ratio);\n",
       "        canvas.attr('style', 'width: ' + width + 'px; height: ' + height + 'px;');\n",
       "\n",
       "        rubberband.attr('width', width);\n",
       "        rubberband.attr('height', height);\n",
       "    }\n",
       "\n",
       "    // Set the figure to an initial 600x600px, this will subsequently be updated\n",
       "    // upon first draw.\n",
       "    this._resize_canvas(600, 600);\n",
       "\n",
       "    // Disable right mouse context menu.\n",
       "    $(this.rubberband_canvas).bind(\"contextmenu\",function(e){\n",
       "        return false;\n",
       "    });\n",
       "\n",
       "    function set_focus () {\n",
       "        canvas.focus();\n",
       "        canvas_div.focus();\n",
       "    }\n",
       "\n",
       "    window.setTimeout(set_focus, 100);\n",
       "}\n",
       "\n",
       "mpl.figure.prototype._init_toolbar = function() {\n",
       "    var fig = this;\n",
       "\n",
       "    var nav_element = $('<div/>')\n",
       "    nav_element.attr('style', 'width: 100%');\n",
       "    this.root.append(nav_element);\n",
       "\n",
       "    // Define a callback function for later on.\n",
       "    function toolbar_event(event) {\n",
       "        return fig.toolbar_button_onclick(event['data']);\n",
       "    }\n",
       "    function toolbar_mouse_event(event) {\n",
       "        return fig.toolbar_button_onmouseover(event['data']);\n",
       "    }\n",
       "\n",
       "    for(var toolbar_ind in mpl.toolbar_items) {\n",
       "        var name = mpl.toolbar_items[toolbar_ind][0];\n",
       "        var tooltip = mpl.toolbar_items[toolbar_ind][1];\n",
       "        var image = mpl.toolbar_items[toolbar_ind][2];\n",
       "        var method_name = mpl.toolbar_items[toolbar_ind][3];\n",
       "\n",
       "        if (!name) {\n",
       "            // put a spacer in here.\n",
       "            continue;\n",
       "        }\n",
       "        var button = $('<button/>');\n",
       "        button.addClass('ui-button ui-widget ui-state-default ui-corner-all ' +\n",
       "                        'ui-button-icon-only');\n",
       "        button.attr('role', 'button');\n",
       "        button.attr('aria-disabled', 'false');\n",
       "        button.click(method_name, toolbar_event);\n",
       "        button.mouseover(tooltip, toolbar_mouse_event);\n",
       "\n",
       "        var icon_img = $('<span/>');\n",
       "        icon_img.addClass('ui-button-icon-primary ui-icon');\n",
       "        icon_img.addClass(image);\n",
       "        icon_img.addClass('ui-corner-all');\n",
       "\n",
       "        var tooltip_span = $('<span/>');\n",
       "        tooltip_span.addClass('ui-button-text');\n",
       "        tooltip_span.html(tooltip);\n",
       "\n",
       "        button.append(icon_img);\n",
       "        button.append(tooltip_span);\n",
       "\n",
       "        nav_element.append(button);\n",
       "    }\n",
       "\n",
       "    var fmt_picker_span = $('<span/>');\n",
       "\n",
       "    var fmt_picker = $('<select/>');\n",
       "    fmt_picker.addClass('mpl-toolbar-option ui-widget ui-widget-content');\n",
       "    fmt_picker_span.append(fmt_picker);\n",
       "    nav_element.append(fmt_picker_span);\n",
       "    this.format_dropdown = fmt_picker[0];\n",
       "\n",
       "    for (var ind in mpl.extensions) {\n",
       "        var fmt = mpl.extensions[ind];\n",
       "        var option = $(\n",
       "            '<option/>', {selected: fmt === mpl.default_extension}).html(fmt);\n",
       "        fmt_picker.append(option)\n",
       "    }\n",
       "\n",
       "    // Add hover states to the ui-buttons\n",
       "    $( \".ui-button\" ).hover(\n",
       "        function() { $(this).addClass(\"ui-state-hover\");},\n",
       "        function() { $(this).removeClass(\"ui-state-hover\");}\n",
       "    );\n",
       "\n",
       "    var status_bar = $('<span class=\"mpl-message\"/>');\n",
       "    nav_element.append(status_bar);\n",
       "    this.message = status_bar[0];\n",
       "}\n",
       "\n",
       "mpl.figure.prototype.request_resize = function(x_pixels, y_pixels) {\n",
       "    // Request matplotlib to resize the figure. Matplotlib will then trigger a resize in the client,\n",
       "    // which will in turn request a refresh of the image.\n",
       "    this.send_message('resize', {'width': x_pixels, 'height': y_pixels});\n",
       "}\n",
       "\n",
       "mpl.figure.prototype.send_message = function(type, properties) {\n",
       "    properties['type'] = type;\n",
       "    properties['figure_id'] = this.id;\n",
       "    this.ws.send(JSON.stringify(properties));\n",
       "}\n",
       "\n",
       "mpl.figure.prototype.send_draw_message = function() {\n",
       "    if (!this.waiting) {\n",
       "        this.waiting = true;\n",
       "        this.ws.send(JSON.stringify({type: \"draw\", figure_id: this.id}));\n",
       "    }\n",
       "}\n",
       "\n",
       "\n",
       "mpl.figure.prototype.handle_save = function(fig, msg) {\n",
       "    var format_dropdown = fig.format_dropdown;\n",
       "    var format = format_dropdown.options[format_dropdown.selectedIndex].value;\n",
       "    fig.ondownload(fig, format);\n",
       "}\n",
       "\n",
       "\n",
       "mpl.figure.prototype.handle_resize = function(fig, msg) {\n",
       "    var size = msg['size'];\n",
       "    if (size[0] != fig.canvas.width || size[1] != fig.canvas.height) {\n",
       "        fig._resize_canvas(size[0], size[1]);\n",
       "        fig.send_message(\"refresh\", {});\n",
       "    };\n",
       "}\n",
       "\n",
       "mpl.figure.prototype.handle_rubberband = function(fig, msg) {\n",
       "    var x0 = msg['x0'] / mpl.ratio;\n",
       "    var y0 = (fig.canvas.height - msg['y0']) / mpl.ratio;\n",
       "    var x1 = msg['x1'] / mpl.ratio;\n",
       "    var y1 = (fig.canvas.height - msg['y1']) / mpl.ratio;\n",
       "    x0 = Math.floor(x0) + 0.5;\n",
       "    y0 = Math.floor(y0) + 0.5;\n",
       "    x1 = Math.floor(x1) + 0.5;\n",
       "    y1 = Math.floor(y1) + 0.5;\n",
       "    var min_x = Math.min(x0, x1);\n",
       "    var min_y = Math.min(y0, y1);\n",
       "    var width = Math.abs(x1 - x0);\n",
       "    var height = Math.abs(y1 - y0);\n",
       "\n",
       "    fig.rubberband_context.clearRect(\n",
       "        0, 0, fig.canvas.width, fig.canvas.height);\n",
       "\n",
       "    fig.rubberband_context.strokeRect(min_x, min_y, width, height);\n",
       "}\n",
       "\n",
       "mpl.figure.prototype.handle_figure_label = function(fig, msg) {\n",
       "    // Updates the figure title.\n",
       "    fig.header.textContent = msg['label'];\n",
       "}\n",
       "\n",
       "mpl.figure.prototype.handle_cursor = function(fig, msg) {\n",
       "    var cursor = msg['cursor'];\n",
       "    switch(cursor)\n",
       "    {\n",
       "    case 0:\n",
       "        cursor = 'pointer';\n",
       "        break;\n",
       "    case 1:\n",
       "        cursor = 'default';\n",
       "        break;\n",
       "    case 2:\n",
       "        cursor = 'crosshair';\n",
       "        break;\n",
       "    case 3:\n",
       "        cursor = 'move';\n",
       "        break;\n",
       "    }\n",
       "    fig.rubberband_canvas.style.cursor = cursor;\n",
       "}\n",
       "\n",
       "mpl.figure.prototype.handle_message = function(fig, msg) {\n",
       "    fig.message.textContent = msg['message'];\n",
       "}\n",
       "\n",
       "mpl.figure.prototype.handle_draw = function(fig, msg) {\n",
       "    // Request the server to send over a new figure.\n",
       "    fig.send_draw_message();\n",
       "}\n",
       "\n",
       "mpl.figure.prototype.handle_image_mode = function(fig, msg) {\n",
       "    fig.image_mode = msg['mode'];\n",
       "}\n",
       "\n",
       "mpl.figure.prototype.updated_canvas_event = function() {\n",
       "    // Called whenever the canvas gets updated.\n",
       "    this.send_message(\"ack\", {});\n",
       "}\n",
       "\n",
       "// A function to construct a web socket function for onmessage handling.\n",
       "// Called in the figure constructor.\n",
       "mpl.figure.prototype._make_on_message_function = function(fig) {\n",
       "    return function socket_on_message(evt) {\n",
       "        if (evt.data instanceof Blob) {\n",
       "            /* FIXME: We get \"Resource interpreted as Image but\n",
       "             * transferred with MIME type text/plain:\" errors on\n",
       "             * Chrome.  But how to set the MIME type?  It doesn't seem\n",
       "             * to be part of the websocket stream */\n",
       "            evt.data.type = \"image/png\";\n",
       "\n",
       "            /* Free the memory for the previous frames */\n",
       "            if (fig.imageObj.src) {\n",
       "                (window.URL || window.webkitURL).revokeObjectURL(\n",
       "                    fig.imageObj.src);\n",
       "            }\n",
       "\n",
       "            fig.imageObj.src = (window.URL || window.webkitURL).createObjectURL(\n",
       "                evt.data);\n",
       "            fig.updated_canvas_event();\n",
       "            fig.waiting = false;\n",
       "            return;\n",
       "        }\n",
       "        else if (typeof evt.data === 'string' && evt.data.slice(0, 21) == \"data:image/png;base64\") {\n",
       "            fig.imageObj.src = evt.data;\n",
       "            fig.updated_canvas_event();\n",
       "            fig.waiting = false;\n",
       "            return;\n",
       "        }\n",
       "\n",
       "        var msg = JSON.parse(evt.data);\n",
       "        var msg_type = msg['type'];\n",
       "\n",
       "        // Call the  \"handle_{type}\" callback, which takes\n",
       "        // the figure and JSON message as its only arguments.\n",
       "        try {\n",
       "            var callback = fig[\"handle_\" + msg_type];\n",
       "        } catch (e) {\n",
       "            console.log(\"No handler for the '\" + msg_type + \"' message type: \", msg);\n",
       "            return;\n",
       "        }\n",
       "\n",
       "        if (callback) {\n",
       "            try {\n",
       "                // console.log(\"Handling '\" + msg_type + \"' message: \", msg);\n",
       "                callback(fig, msg);\n",
       "            } catch (e) {\n",
       "                console.log(\"Exception inside the 'handler_\" + msg_type + \"' callback:\", e, e.stack, msg);\n",
       "            }\n",
       "        }\n",
       "    };\n",
       "}\n",
       "\n",
       "// from http://stackoverflow.com/questions/1114465/getting-mouse-location-in-canvas\n",
       "mpl.findpos = function(e) {\n",
       "    //this section is from http://www.quirksmode.org/js/events_properties.html\n",
       "    var targ;\n",
       "    if (!e)\n",
       "        e = window.event;\n",
       "    if (e.target)\n",
       "        targ = e.target;\n",
       "    else if (e.srcElement)\n",
       "        targ = e.srcElement;\n",
       "    if (targ.nodeType == 3) // defeat Safari bug\n",
       "        targ = targ.parentNode;\n",
       "\n",
       "    // jQuery normalizes the pageX and pageY\n",
       "    // pageX,Y are the mouse positions relative to the document\n",
       "    // offset() returns the position of the element relative to the document\n",
       "    var x = e.pageX - $(targ).offset().left;\n",
       "    var y = e.pageY - $(targ).offset().top;\n",
       "\n",
       "    return {\"x\": x, \"y\": y};\n",
       "};\n",
       "\n",
       "/*\n",
       " * return a copy of an object with only non-object keys\n",
       " * we need this to avoid circular references\n",
       " * http://stackoverflow.com/a/24161582/3208463\n",
       " */\n",
       "function simpleKeys (original) {\n",
       "  return Object.keys(original).reduce(function (obj, key) {\n",
       "    if (typeof original[key] !== 'object')\n",
       "        obj[key] = original[key]\n",
       "    return obj;\n",
       "  }, {});\n",
       "}\n",
       "\n",
       "mpl.figure.prototype.mouse_event = function(event, name) {\n",
       "    var canvas_pos = mpl.findpos(event)\n",
       "\n",
       "    if (name === 'button_press')\n",
       "    {\n",
       "        this.canvas.focus();\n",
       "        this.canvas_div.focus();\n",
       "    }\n",
       "\n",
       "    var x = canvas_pos.x * mpl.ratio;\n",
       "    var y = canvas_pos.y * mpl.ratio;\n",
       "\n",
       "    this.send_message(name, {x: x, y: y, button: event.button,\n",
       "                             step: event.step,\n",
       "                             guiEvent: simpleKeys(event)});\n",
       "\n",
       "    /* This prevents the web browser from automatically changing to\n",
       "     * the text insertion cursor when the button is pressed.  We want\n",
       "     * to control all of the cursor setting manually through the\n",
       "     * 'cursor' event from matplotlib */\n",
       "    event.preventDefault();\n",
       "    return false;\n",
       "}\n",
       "\n",
       "mpl.figure.prototype._key_event_extra = function(event, name) {\n",
       "    // Handle any extra behaviour associated with a key event\n",
       "}\n",
       "\n",
       "mpl.figure.prototype.key_event = function(event, name) {\n",
       "\n",
       "    // Prevent repeat events\n",
       "    if (name == 'key_press')\n",
       "    {\n",
       "        if (event.which === this._key)\n",
       "            return;\n",
       "        else\n",
       "            this._key = event.which;\n",
       "    }\n",
       "    if (name == 'key_release')\n",
       "        this._key = null;\n",
       "\n",
       "    var value = '';\n",
       "    if (event.ctrlKey && event.which != 17)\n",
       "        value += \"ctrl+\";\n",
       "    if (event.altKey && event.which != 18)\n",
       "        value += \"alt+\";\n",
       "    if (event.shiftKey && event.which != 16)\n",
       "        value += \"shift+\";\n",
       "\n",
       "    value += 'k';\n",
       "    value += event.which.toString();\n",
       "\n",
       "    this._key_event_extra(event, name);\n",
       "\n",
       "    this.send_message(name, {key: value,\n",
       "                             guiEvent: simpleKeys(event)});\n",
       "    return false;\n",
       "}\n",
       "\n",
       "mpl.figure.prototype.toolbar_button_onclick = function(name) {\n",
       "    if (name == 'download') {\n",
       "        this.handle_save(this, null);\n",
       "    } else {\n",
       "        this.send_message(\"toolbar_button\", {name: name});\n",
       "    }\n",
       "};\n",
       "\n",
       "mpl.figure.prototype.toolbar_button_onmouseover = function(tooltip) {\n",
       "    this.message.textContent = tooltip;\n",
       "};\n",
       "mpl.toolbar_items = [[\"Home\", \"Reset original view\", \"fa fa-home icon-home\", \"home\"], [\"Back\", \"Back to  previous view\", \"fa fa-arrow-left icon-arrow-left\", \"back\"], [\"Forward\", \"Forward to next view\", \"fa fa-arrow-right icon-arrow-right\", \"forward\"], [\"\", \"\", \"\", \"\"], [\"Pan\", \"Pan axes with left mouse, zoom with right\", \"fa fa-arrows icon-move\", \"pan\"], [\"Zoom\", \"Zoom to rectangle\", \"fa fa-square-o icon-check-empty\", \"zoom\"], [\"\", \"\", \"\", \"\"], [\"Download\", \"Download plot\", \"fa fa-floppy-o icon-save\", \"download\"]];\n",
       "\n",
       "mpl.extensions = [\"eps\", \"jpeg\", \"pdf\", \"png\", \"ps\", \"raw\", \"svg\", \"tif\"];\n",
       "\n",
       "mpl.default_extension = \"png\";var comm_websocket_adapter = function(comm) {\n",
       "    // Create a \"websocket\"-like object which calls the given IPython comm\n",
       "    // object with the appropriate methods. Currently this is a non binary\n",
       "    // socket, so there is still some room for performance tuning.\n",
       "    var ws = {};\n",
       "\n",
       "    ws.close = function() {\n",
       "        comm.close()\n",
       "    };\n",
       "    ws.send = function(m) {\n",
       "        //console.log('sending', m);\n",
       "        comm.send(m);\n",
       "    };\n",
       "    // Register the callback with on_msg.\n",
       "    comm.on_msg(function(msg) {\n",
       "        //console.log('receiving', msg['content']['data'], msg);\n",
       "        // Pass the mpl event to the overridden (by mpl) onmessage function.\n",
       "        ws.onmessage(msg['content']['data'])\n",
       "    });\n",
       "    return ws;\n",
       "}\n",
       "\n",
       "mpl.mpl_figure_comm = function(comm, msg) {\n",
       "    // This is the function which gets called when the mpl process\n",
       "    // starts-up an IPython Comm through the \"matplotlib\" channel.\n",
       "\n",
       "    var id = msg.content.data.id;\n",
       "    // Get hold of the div created by the display call when the Comm\n",
       "    // socket was opened in Python.\n",
       "    var element = $(\"#\" + id);\n",
       "    var ws_proxy = comm_websocket_adapter(comm)\n",
       "\n",
       "    function ondownload(figure, format) {\n",
       "        window.open(figure.imageObj.src);\n",
       "    }\n",
       "\n",
       "    var fig = new mpl.figure(id, ws_proxy,\n",
       "                           ondownload,\n",
       "                           element.get(0));\n",
       "\n",
       "    // Call onopen now - mpl needs it, as it is assuming we've passed it a real\n",
       "    // web socket which is closed, not our websocket->open comm proxy.\n",
       "    ws_proxy.onopen();\n",
       "\n",
       "    fig.parent_element = element.get(0);\n",
       "    fig.cell_info = mpl.find_output_cell(\"<div id='\" + id + \"'></div>\");\n",
       "    if (!fig.cell_info) {\n",
       "        console.error(\"Failed to find cell for figure\", id, fig);\n",
       "        return;\n",
       "    }\n",
       "\n",
       "    var output_index = fig.cell_info[2]\n",
       "    var cell = fig.cell_info[0];\n",
       "\n",
       "};\n",
       "\n",
       "mpl.figure.prototype.handle_close = function(fig, msg) {\n",
       "    var width = fig.canvas.width/mpl.ratio\n",
       "    fig.root.unbind('remove')\n",
       "\n",
       "    // Update the output cell to use the data from the current canvas.\n",
       "    fig.push_to_output();\n",
       "    var dataURL = fig.canvas.toDataURL();\n",
       "    // Re-enable the keyboard manager in IPython - without this line, in FF,\n",
       "    // the notebook keyboard shortcuts fail.\n",
       "    IPython.keyboard_manager.enable()\n",
       "    $(fig.parent_element).html('<img src=\"' + dataURL + '\" width=\"' + width + '\">');\n",
       "    fig.close_ws(fig, msg);\n",
       "}\n",
       "\n",
       "mpl.figure.prototype.close_ws = function(fig, msg){\n",
       "    fig.send_message('closing', msg);\n",
       "    // fig.ws.close()\n",
       "}\n",
       "\n",
       "mpl.figure.prototype.push_to_output = function(remove_interactive) {\n",
       "    // Turn the data on the canvas into data in the output cell.\n",
       "    var width = this.canvas.width/mpl.ratio\n",
       "    var dataURL = this.canvas.toDataURL();\n",
       "    this.cell_info[1]['text/html'] = '<img src=\"' + dataURL + '\" width=\"' + width + '\">';\n",
       "}\n",
       "\n",
       "mpl.figure.prototype.updated_canvas_event = function() {\n",
       "    // Tell IPython that the notebook contents must change.\n",
       "    IPython.notebook.set_dirty(true);\n",
       "    this.send_message(\"ack\", {});\n",
       "    var fig = this;\n",
       "    // Wait a second, then push the new image to the DOM so\n",
       "    // that it is saved nicely (might be nice to debounce this).\n",
       "    setTimeout(function () { fig.push_to_output() }, 1000);\n",
       "}\n",
       "\n",
       "mpl.figure.prototype._init_toolbar = function() {\n",
       "    var fig = this;\n",
       "\n",
       "    var nav_element = $('<div/>')\n",
       "    nav_element.attr('style', 'width: 100%');\n",
       "    this.root.append(nav_element);\n",
       "\n",
       "    // Define a callback function for later on.\n",
       "    function toolbar_event(event) {\n",
       "        return fig.toolbar_button_onclick(event['data']);\n",
       "    }\n",
       "    function toolbar_mouse_event(event) {\n",
       "        return fig.toolbar_button_onmouseover(event['data']);\n",
       "    }\n",
       "\n",
       "    for(var toolbar_ind in mpl.toolbar_items){\n",
       "        var name = mpl.toolbar_items[toolbar_ind][0];\n",
       "        var tooltip = mpl.toolbar_items[toolbar_ind][1];\n",
       "        var image = mpl.toolbar_items[toolbar_ind][2];\n",
       "        var method_name = mpl.toolbar_items[toolbar_ind][3];\n",
       "\n",
       "        if (!name) { continue; };\n",
       "\n",
       "        var button = $('<button class=\"btn btn-default\" href=\"#\" title=\"' + name + '\"><i class=\"fa ' + image + ' fa-lg\"></i></button>');\n",
       "        button.click(method_name, toolbar_event);\n",
       "        button.mouseover(tooltip, toolbar_mouse_event);\n",
       "        nav_element.append(button);\n",
       "    }\n",
       "\n",
       "    // Add the status bar.\n",
       "    var status_bar = $('<span class=\"mpl-message\" style=\"text-align:right; float: right;\"/>');\n",
       "    nav_element.append(status_bar);\n",
       "    this.message = status_bar[0];\n",
       "\n",
       "    // Add the close button to the window.\n",
       "    var buttongrp = $('<div class=\"btn-group inline pull-right\"></div>');\n",
       "    var button = $('<button class=\"btn btn-mini btn-primary\" href=\"#\" title=\"Stop Interaction\"><i class=\"fa fa-power-off icon-remove icon-large\"></i></button>');\n",
       "    button.click(function (evt) { fig.handle_close(fig, {}); } );\n",
       "    button.mouseover('Stop Interaction', toolbar_mouse_event);\n",
       "    buttongrp.append(button);\n",
       "    var titlebar = this.root.find($('.ui-dialog-titlebar'));\n",
       "    titlebar.prepend(buttongrp);\n",
       "}\n",
       "\n",
       "mpl.figure.prototype._root_extra_style = function(el){\n",
       "    var fig = this\n",
       "    el.on(\"remove\", function(){\n",
       "\tfig.close_ws(fig, {});\n",
       "    });\n",
       "}\n",
       "\n",
       "mpl.figure.prototype._canvas_extra_style = function(el){\n",
       "    // this is important to make the div 'focusable\n",
       "    el.attr('tabindex', 0)\n",
       "    // reach out to IPython and tell the keyboard manager to turn it's self\n",
       "    // off when our div gets focus\n",
       "\n",
       "    // location in version 3\n",
       "    if (IPython.notebook.keyboard_manager) {\n",
       "        IPython.notebook.keyboard_manager.register_events(el);\n",
       "    }\n",
       "    else {\n",
       "        // location in version 2\n",
       "        IPython.keyboard_manager.register_events(el);\n",
       "    }\n",
       "\n",
       "}\n",
       "\n",
       "mpl.figure.prototype._key_event_extra = function(event, name) {\n",
       "    var manager = IPython.notebook.keyboard_manager;\n",
       "    if (!manager)\n",
       "        manager = IPython.keyboard_manager;\n",
       "\n",
       "    // Check for shift+enter\n",
       "    if (event.shiftKey && event.which == 13) {\n",
       "        this.canvas_div.blur();\n",
       "        event.shiftKey = false;\n",
       "        // Send a \"J\" for go to next cell\n",
       "        event.which = 74;\n",
       "        event.keyCode = 74;\n",
       "        manager.command_mode();\n",
       "        manager.handle_keydown(event);\n",
       "    }\n",
       "}\n",
       "\n",
       "mpl.figure.prototype.handle_save = function(fig, msg) {\n",
       "    fig.ondownload(fig, null);\n",
       "}\n",
       "\n",
       "\n",
       "mpl.find_output_cell = function(html_output) {\n",
       "    // Return the cell and output element which can be found *uniquely* in the notebook.\n",
       "    // Note - this is a bit hacky, but it is done because the \"notebook_saving.Notebook\"\n",
       "    // IPython event is triggered only after the cells have been serialised, which for\n",
       "    // our purposes (turning an active figure into a static one), is too late.\n",
       "    var cells = IPython.notebook.get_cells();\n",
       "    var ncells = cells.length;\n",
       "    for (var i=0; i<ncells; i++) {\n",
       "        var cell = cells[i];\n",
       "        if (cell.cell_type === 'code'){\n",
       "            for (var j=0; j<cell.output_area.outputs.length; j++) {\n",
       "                var data = cell.output_area.outputs[j];\n",
       "                if (data.data) {\n",
       "                    // IPython >= 3 moved mimebundle to data attribute of output\n",
       "                    data = data.data;\n",
       "                }\n",
       "                if (data['text/html'] == html_output) {\n",
       "                    return [cell, data, j];\n",
       "                }\n",
       "            }\n",
       "        }\n",
       "    }\n",
       "}\n",
       "\n",
       "// Register the function which deals with the matplotlib target/channel.\n",
       "// The kernel may be null if the page has been refreshed.\n",
       "if (IPython.notebook.kernel != null) {\n",
       "    IPython.notebook.kernel.comm_manager.register_target('matplotlib', mpl.mpl_figure_comm);\n",
       "}\n"
      ],
      "text/plain": [
       "<IPython.core.display.Javascript object>"
      ]
     },
     "metadata": {},
     "output_type": "display_data"
    },
    {
     "data": {
      "text/html": [
       "<img src=\"data:image/png;base64,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\" width=\"640\">"
      ],
      "text/plain": [
       "<IPython.core.display.HTML object>"
      ]
     },
     "metadata": {},
     "output_type": "display_data"
    },
    {
     "data": {
      "text/plain": [
       "[<matplotlib.lines.Line2D at 0x7fa5e7055190>]"
      ]
     },
     "execution_count": 273,
     "metadata": {},
     "output_type": "execute_result"
    }
   ],
   "source": [
    "plt.figure()\n",
    "plt.plot(mod['cod'])\n",
    "plt.plot(myd['cod'])"
   ]
  },
  {
   "cell_type": "markdown",
   "metadata": {},
   "source": [
    "### Get the fit to sine function\n",
    "Following Min & Zhang,2014 function for cloud fraction diurnal cycle \n",
    "\n",
    "$COD(t) = A sin(\\frac{\\pi(t+\\phi)}{12})+B$\n",
    "\n",
    "With local max at 6:50 am (for cloud fraction but applied to COD), giving $\\phi=-0.96$\n",
    "\n",
    "For two points, we get to solve for A and B:  \n",
    "\n",
    "$A = \\frac{COD_2(t_2)-COD_1(t_1)}{sin(\\frac{\\pi(t_2+\\phi)}{12})-sin(\\frac{\\pi(t_1+\\phi)}{12})}$\n",
    "  \n",
    "and \n",
    "\n",
    "$B = COD_1(t_1) - \\frac{COD_2(t_2)-COD_1(t_1)}{sin(\\frac{\\pi(t_2+\\phi)}{12})-sin(\\frac{\\pi(t_1+\\phi)}{12})} sin(\\frac{\\pi(t_1+\\phi)}{12})$\n",
    "  \n",
    "Do the same for ref \n"
   ]
  },
  {
   "cell_type": "code",
   "execution_count": 58,
   "metadata": {
    "ExecuteTime": {
     "end_time": "2021-05-06T19:49:58.729458Z",
     "start_time": "2021-05-06T19:49:58.721379Z"
    }
   },
   "outputs": [],
   "source": [
    "def fit_sine(f1,f2,t1,t2):\n",
    "    'get the fitted values for the sine wave f1 anf f2 are either cod or ref, t1 and t2 are the times in hours'\n",
    "    phi = -0.96\n",
    "    A = (f2-f1) / (np.sin(np.pi*(t2+phi)/12.0) - np.sin(np.pi*(t1+phi)/12.0))\n",
    "    B = f1 - A*np.sin(np.pi*(t1+phi)/12.0)\n",
    "    return A,B"
   ]
  },
  {
   "cell_type": "code",
   "execution_count": 59,
   "metadata": {
    "ExecuteTime": {
     "end_time": "2021-05-06T19:49:59.236463Z",
     "start_time": "2021-05-06T19:49:59.221264Z"
    }
   },
   "outputs": [],
   "source": [
    "def get_sines(A,B,f0,t0,utcs=np.arange(0,24.0,0.5),val_range=[0,100]):\n",
    "    phi = -0.96\n",
    "    fbs = A*np.sin(np.pi*(utcs+phi)/12.0)+B\n",
    "    fb0 = A*np.sin(np.pi*(t0+phi)/12.0)+B\n",
    "    fb_frac = fb0/f0\n",
    "    new_f = fbs/fb_frac\n",
    "    if any(new_f<0):\n",
    "        new_f = new_f+abs(np.nanmin(new_f))\n",
    "    if np.nanmax(new_f)>val_range[1]:\n",
    "        frac_fit = val_range[1]/np.nanmax(new_f)\n",
    "        #print 'fract_fit: ',frac_fit\n",
    "        new_f = get_sines(A*frac_fit,B+frac_fit,f0,t0,utcs=utcs,val_range=val_range)\n",
    "    return new_f"
   ]
  },
  {
   "cell_type": "markdown",
   "metadata": {},
   "source": [
    "Prep for sine fitting (fill out missing values with interp)"
   ]
  },
  {
   "cell_type": "code",
   "execution_count": 106,
   "metadata": {
    "ExecuteTime": {
     "end_time": "2020-11-23T03:44:03.598835Z",
     "start_time": "2020-11-23T03:44:03.581148Z"
    }
   },
   "outputs": [],
   "source": [
    "mod_cod = np.arange(0,len(mod['time'][iaes]))\n",
    "myd_cod = np.arange(0,len(myd['time'][iaes]))\n",
    "fmodcod = interp1d(mod_cod[np.isfinite(mod['cod'][iaes])],mod['cod'][iaes[np.isfinite(mod['cod'][iaes])]],bounds_error=False,kind='linear',fill_value='extrapolate')\n",
    "fmydcod = interp1d(myd_cod[np.isfinite(myd['cod'][iaes])],myd['cod'][iaes[np.isfinite(myd['cod'][iaes])]],bounds_error=False,kind='linear',fill_value=\"extrapolate\")\n",
    "mod['codb'] = fmodcod(mod_cod)\n",
    "myd['codb'] = fmydcod(myd_cod)"
   ]
  },
  {
   "cell_type": "code",
   "execution_count": 107,
   "metadata": {
    "ExecuteTime": {
     "end_time": "2020-11-23T03:44:04.258315Z",
     "start_time": "2020-11-23T03:44:04.241353Z"
    }
   },
   "outputs": [],
   "source": [
    "mod_ref = np.arange(0,len(mod['time'][iaes]))\n",
    "myd_ref = np.arange(0,len(myd['time'][iaes]))\n",
    "fmodref = interp1d(mod_ref[np.isfinite(mod['ref'][iaes])],mod['ref'][iaes[np.isfinite(mod['ref'][iaes])]],bounds_error=False,kind='linear',fill_value='extrapolate')\n",
    "fmydref = interp1d(myd_ref[np.isfinite(myd['ref'][iaes])],myd['ref'][iaes[np.isfinite(myd['ref'][iaes])]],bounds_error=False,kind='linear',fill_value=\"extrapolate\")\n",
    "mod['refb'] = fmodref(mod_ref)\n",
    "myd['refb'] = fmydref(myd_ref)"
   ]
  },
  {
   "cell_type": "code",
   "execution_count": 108,
   "metadata": {
    "ExecuteTime": {
     "end_time": "2020-11-23T03:44:05.457446Z",
     "start_time": "2020-11-23T03:44:05.443170Z"
    }
   },
   "outputs": [],
   "source": [
    "A_cod,B_cod = fit_sine(mod['codb'],myd['codb'],mod['time'][iaes],myd['time'][iaes])\n",
    "A_ref,B_ref = fit_sine(mod['refb'],myd['refb'],mod['time'][iaes],myd['time'][iaes])"
   ]
  },
  {
   "cell_type": "markdown",
   "metadata": {},
   "source": [
    "#### Save"
   ]
  },
  {
   "cell_type": "code",
   "execution_count": 113,
   "metadata": {
    "ExecuteTime": {
     "end_time": "2020-11-23T04:02:04.605810Z",
     "start_time": "2020-11-23T04:02:04.600570Z"
    }
   },
   "outputs": [],
   "source": [
    "diurn = {'A_cod':A_cod,'B_cod':B_cod,'A_ref':A_ref,'B_ref':B_ref,'utcs':np.arange(0,24,0.5),'iaes':iaes}"
   ]
  },
  {
   "cell_type": "code",
   "execution_count": 114,
   "metadata": {
    "ExecuteTime": {
     "end_time": "2020-11-23T04:02:05.252770Z",
     "start_time": "2020-11-23T04:02:05.232321Z"
    }
   },
   "outputs": [],
   "source": [
    "sio.savemat(fp+'data_other/MODIS/MODIS_ORACLES2016_match.mat',{'mod':mod,'myd':myd,'diurn':diurn})"
   ]
  },
  {
   "cell_type": "markdown",
   "metadata": {},
   "source": [
    "#### Load"
   ]
  },
  {
   "cell_type": "code",
   "execution_count": 43,
   "metadata": {
    "ExecuteTime": {
     "end_time": "2021-05-06T19:49:29.541956Z",
     "start_time": "2021-05-06T19:49:29.446322Z"
    }
   },
   "outputs": [],
   "source": [
    "ddiurn = sio.loadmat(fp+'data_other/MODIS/MODIS_ORACLES2016_match.mat')"
   ]
  },
  {
   "cell_type": "code",
   "execution_count": 44,
   "metadata": {
    "ExecuteTime": {
     "end_time": "2021-05-06T19:49:30.360669Z",
     "start_time": "2021-05-06T19:49:30.350953Z"
    }
   },
   "outputs": [
    {
     "data": {
      "text/plain": [
       "['__header__', '__globals__', 'mod', '__version__', 'myd', 'diurn']"
      ]
     },
     "execution_count": 44,
     "metadata": {},
     "output_type": "execute_result"
    }
   ],
   "source": [
    "ddiurn.keys()"
   ]
  },
  {
   "cell_type": "code",
   "execution_count": 45,
   "metadata": {
    "ExecuteTime": {
     "end_time": "2021-05-06T19:49:31.301963Z",
     "start_time": "2021-05-06T19:49:31.296108Z"
    }
   },
   "outputs": [],
   "source": [
    "def revert_from_mat(m):\n",
    "    for k in m.dtype.names:\n",
    "        if len(m[k])==1:\n",
    "            m[k] = m[k][0,0]\n",
    "    return m"
   ]
  },
  {
   "cell_type": "code",
   "execution_count": 46,
   "metadata": {
    "ExecuteTime": {
     "end_time": "2021-05-06T19:49:32.123495Z",
     "start_time": "2021-05-06T19:49:32.118425Z"
    }
   },
   "outputs": [],
   "source": [
    "mod = ddiurn['mod']\n",
    "myd = ddiurn['myd']\n",
    "diurn = ddiurn['diurn']"
   ]
  },
  {
   "cell_type": "code",
   "execution_count": 47,
   "metadata": {
    "ExecuteTime": {
     "end_time": "2021-05-06T19:49:32.932453Z",
     "start_time": "2021-05-06T19:49:32.833821Z"
    }
   },
   "outputs": [
    {
     "ename": "ValueError",
     "evalue": "could not broadcast input array from shape (1,20284) into shape (1,1)",
     "output_type": "error",
     "traceback": [
      "\u001b[0;31m\u001b[0m",
      "\u001b[0;31mValueError\u001b[0mTraceback (most recent call last)",
      "\u001b[0;32m<ipython-input-47-48ea628bf499>\u001b[0m in \u001b[0;36m<module>\u001b[0;34m()\u001b[0m\n\u001b[0;32m----> 1\u001b[0;31m \u001b[0mmod\u001b[0m \u001b[0;34m=\u001b[0m \u001b[0mrevert_from_mat\u001b[0m\u001b[0;34m(\u001b[0m\u001b[0mddiurn\u001b[0m\u001b[0;34m[\u001b[0m\u001b[0;34m'mod'\u001b[0m\u001b[0;34m]\u001b[0m\u001b[0;34m)\u001b[0m\u001b[0;34m\u001b[0m\u001b[0m\n\u001b[0m\u001b[1;32m      2\u001b[0m \u001b[0mmyd\u001b[0m \u001b[0;34m=\u001b[0m \u001b[0mrevert_from_mat\u001b[0m\u001b[0;34m(\u001b[0m\u001b[0mddiurn\u001b[0m\u001b[0;34m[\u001b[0m\u001b[0;34m'myd'\u001b[0m\u001b[0;34m]\u001b[0m\u001b[0;34m)\u001b[0m\u001b[0;34m\u001b[0m\u001b[0m\n\u001b[1;32m      3\u001b[0m \u001b[0mdiurn\u001b[0m \u001b[0;34m=\u001b[0m \u001b[0mrevert_from_mat\u001b[0m\u001b[0;34m(\u001b[0m\u001b[0mddiurn\u001b[0m\u001b[0;34m[\u001b[0m\u001b[0;34m'diurn'\u001b[0m\u001b[0;34m]\u001b[0m\u001b[0;34m)\u001b[0m\u001b[0;34m\u001b[0m\u001b[0m\n",
      "\u001b[0;32m<ipython-input-45-6a6e1350a950>\u001b[0m in \u001b[0;36mrevert_from_mat\u001b[0;34m(m)\u001b[0m\n\u001b[1;32m      2\u001b[0m     \u001b[0;32mfor\u001b[0m \u001b[0mk\u001b[0m \u001b[0;32min\u001b[0m \u001b[0mm\u001b[0m\u001b[0;34m.\u001b[0m\u001b[0mdtype\u001b[0m\u001b[0;34m.\u001b[0m\u001b[0mnames\u001b[0m\u001b[0;34m:\u001b[0m\u001b[0;34m\u001b[0m\u001b[0m\n\u001b[1;32m      3\u001b[0m         \u001b[0;32mif\u001b[0m \u001b[0mlen\u001b[0m\u001b[0;34m(\u001b[0m\u001b[0mm\u001b[0m\u001b[0;34m[\u001b[0m\u001b[0mk\u001b[0m\u001b[0;34m]\u001b[0m\u001b[0;34m)\u001b[0m\u001b[0;34m==\u001b[0m\u001b[0;36m1\u001b[0m\u001b[0;34m:\u001b[0m\u001b[0;34m\u001b[0m\u001b[0m\n\u001b[0;32m----> 4\u001b[0;31m             \u001b[0mm\u001b[0m\u001b[0;34m[\u001b[0m\u001b[0mk\u001b[0m\u001b[0;34m]\u001b[0m \u001b[0;34m=\u001b[0m \u001b[0mm\u001b[0m\u001b[0;34m[\u001b[0m\u001b[0mk\u001b[0m\u001b[0;34m]\u001b[0m\u001b[0;34m[\u001b[0m\u001b[0;36m0\u001b[0m\u001b[0;34m,\u001b[0m\u001b[0;36m0\u001b[0m\u001b[0;34m]\u001b[0m\u001b[0;34m\u001b[0m\u001b[0m\n\u001b[0m\u001b[1;32m      5\u001b[0m     \u001b[0;32mreturn\u001b[0m \u001b[0mm\u001b[0m\u001b[0;34m\u001b[0m\u001b[0m\n",
      "\u001b[0;31mValueError\u001b[0m: could not broadcast input array from shape (1,20284) into shape (1,1)"
     ]
    }
   ],
   "source": [
    "mod = revert_from_mat(ddiurn['mod'])\n",
    "myd = revert_from_mat(ddiurn['myd'])\n",
    "diurn = revert_from_mat(ddiurn['diurn'])"
   ]
  },
  {
   "cell_type": "code",
   "execution_count": 48,
   "metadata": {
    "ExecuteTime": {
     "end_time": "2021-05-06T19:49:35.566247Z",
     "start_time": "2021-05-06T19:49:35.559211Z"
    }
   },
   "outputs": [],
   "source": [
    "A_cod, B_cod, A_ref, B_ref, iaes = diurn['A_cod'][0,0].flatten(),diurn['B_cod'][0,0].flatten(),\\\n",
    "                                    diurn['A_ref'][0,0].flatten(),diurn['B_ref'][0,0].flatten(),diurn['iaes'][0,0].flatten()"
   ]
  },
  {
   "cell_type": "code",
   "execution_count": 49,
   "metadata": {
    "ExecuteTime": {
     "end_time": "2021-05-06T19:49:36.385412Z",
     "start_time": "2021-05-06T19:49:36.377029Z"
    }
   },
   "outputs": [
    {
     "data": {
      "text/plain": [
       "array([15.44126827, 15.44126827, 15.44126827, ..., -0.65644355,\n",
       "       -0.73080352, -0.73080352])"
      ]
     },
     "execution_count": 49,
     "metadata": {},
     "output_type": "execute_result"
    }
   ],
   "source": [
    "A_cod"
   ]
  },
  {
   "cell_type": "code",
   "execution_count": 50,
   "metadata": {
    "ExecuteTime": {
     "end_time": "2021-05-06T19:49:37.337011Z",
     "start_time": "2021-05-06T19:49:37.326840Z"
    }
   },
   "outputs": [
    {
     "data": {
      "text/plain": [
       "(20284, 1, 20284)"
      ]
     },
     "execution_count": 50,
     "metadata": {},
     "output_type": "execute_result"
    }
   ],
   "source": [
    "len(A_cod),len(mod['lat']),len(iaes)"
   ]
  },
  {
   "cell_type": "code",
   "execution_count": 51,
   "metadata": {
    "ExecuteTime": {
     "end_time": "2021-05-06T19:49:38.216644Z",
     "start_time": "2021-05-06T19:49:38.207659Z"
    }
   },
   "outputs": [
    {
     "data": {
      "text/plain": [
       "1"
      ]
     },
     "execution_count": 51,
     "metadata": {},
     "output_type": "execute_result"
    }
   ],
   "source": [
    "len(ddiurn['mod'])"
   ]
  },
  {
   "cell_type": "code",
   "execution_count": 52,
   "metadata": {
    "ExecuteTime": {
     "end_time": "2021-05-06T19:49:39.090078Z",
     "start_time": "2021-05-06T19:49:39.082846Z"
    }
   },
   "outputs": [
    {
     "data": {
      "text/plain": [
       "('codb', 'mask', 'lon', 'qa', 'cod', 'time', 'lat', 'refb', 'ref')"
      ]
     },
     "execution_count": 52,
     "metadata": {},
     "output_type": "execute_result"
    }
   ],
   "source": [
    "mod.dtype.names"
   ]
  },
  {
   "cell_type": "markdown",
   "metadata": {},
   "source": [
    "#### plot"
   ]
  },
  {
   "cell_type": "code",
   "execution_count": 51,
   "metadata": {
    "ExecuteTime": {
     "end_time": "2021-02-25T06:00:56.947265Z",
     "start_time": "2021-02-25T06:00:56.850701Z"
    }
   },
   "outputs": [
    {
     "data": {
      "application/javascript": [
       "/* Put everything inside the global mpl namespace */\n",
       "window.mpl = {};\n",
       "\n",
       "\n",
       "mpl.get_websocket_type = function() {\n",
       "    if (typeof(WebSocket) !== 'undefined') {\n",
       "        return WebSocket;\n",
       "    } else if (typeof(MozWebSocket) !== 'undefined') {\n",
       "        return MozWebSocket;\n",
       "    } else {\n",
       "        alert('Your browser does not have WebSocket support.' +\n",
       "              'Please try Chrome, Safari or Firefox ≥ 6. ' +\n",
       "              'Firefox 4 and 5 are also supported but you ' +\n",
       "              'have to enable WebSockets in about:config.');\n",
       "    };\n",
       "}\n",
       "\n",
       "mpl.figure = function(figure_id, websocket, ondownload, parent_element) {\n",
       "    this.id = figure_id;\n",
       "\n",
       "    this.ws = websocket;\n",
       "\n",
       "    this.supports_binary = (this.ws.binaryType != undefined);\n",
       "\n",
       "    if (!this.supports_binary) {\n",
       "        var warnings = document.getElementById(\"mpl-warnings\");\n",
       "        if (warnings) {\n",
       "            warnings.style.display = 'block';\n",
       "            warnings.textContent = (\n",
       "                \"This browser does not support binary websocket messages. \" +\n",
       "                    \"Performance may be slow.\");\n",
       "        }\n",
       "    }\n",
       "\n",
       "    this.imageObj = new Image();\n",
       "\n",
       "    this.context = undefined;\n",
       "    this.message = undefined;\n",
       "    this.canvas = undefined;\n",
       "    this.rubberband_canvas = undefined;\n",
       "    this.rubberband_context = undefined;\n",
       "    this.format_dropdown = undefined;\n",
       "\n",
       "    this.image_mode = 'full';\n",
       "\n",
       "    this.root = $('<div/>');\n",
       "    this._root_extra_style(this.root)\n",
       "    this.root.attr('style', 'display: inline-block');\n",
       "\n",
       "    $(parent_element).append(this.root);\n",
       "\n",
       "    this._init_header(this);\n",
       "    this._init_canvas(this);\n",
       "    this._init_toolbar(this);\n",
       "\n",
       "    var fig = this;\n",
       "\n",
       "    this.waiting = false;\n",
       "\n",
       "    this.ws.onopen =  function () {\n",
       "            fig.send_message(\"supports_binary\", {value: fig.supports_binary});\n",
       "            fig.send_message(\"send_image_mode\", {});\n",
       "            if (mpl.ratio != 1) {\n",
       "                fig.send_message(\"set_dpi_ratio\", {'dpi_ratio': mpl.ratio});\n",
       "            }\n",
       "            fig.send_message(\"refresh\", {});\n",
       "        }\n",
       "\n",
       "    this.imageObj.onload = function() {\n",
       "            if (fig.image_mode == 'full') {\n",
       "                // Full images could contain transparency (where diff images\n",
       "                // almost always do), so we need to clear the canvas so that\n",
       "                // there is no ghosting.\n",
       "                fig.context.clearRect(0, 0, fig.canvas.width, fig.canvas.height);\n",
       "            }\n",
       "            fig.context.drawImage(fig.imageObj, 0, 0);\n",
       "        };\n",
       "\n",
       "    this.imageObj.onunload = function() {\n",
       "        fig.ws.close();\n",
       "    }\n",
       "\n",
       "    this.ws.onmessage = this._make_on_message_function(this);\n",
       "\n",
       "    this.ondownload = ondownload;\n",
       "}\n",
       "\n",
       "mpl.figure.prototype._init_header = function() {\n",
       "    var titlebar = $(\n",
       "        '<div class=\"ui-dialog-titlebar ui-widget-header ui-corner-all ' +\n",
       "        'ui-helper-clearfix\"/>');\n",
       "    var titletext = $(\n",
       "        '<div class=\"ui-dialog-title\" style=\"width: 100%; ' +\n",
       "        'text-align: center; padding: 3px;\"/>');\n",
       "    titlebar.append(titletext)\n",
       "    this.root.append(titlebar);\n",
       "    this.header = titletext[0];\n",
       "}\n",
       "\n",
       "\n",
       "\n",
       "mpl.figure.prototype._canvas_extra_style = function(canvas_div) {\n",
       "\n",
       "}\n",
       "\n",
       "\n",
       "mpl.figure.prototype._root_extra_style = function(canvas_div) {\n",
       "\n",
       "}\n",
       "\n",
       "mpl.figure.prototype._init_canvas = function() {\n",
       "    var fig = this;\n",
       "\n",
       "    var canvas_div = $('<div/>');\n",
       "\n",
       "    canvas_div.attr('style', 'position: relative; clear: both; outline: 0');\n",
       "\n",
       "    function canvas_keyboard_event(event) {\n",
       "        return fig.key_event(event, event['data']);\n",
       "    }\n",
       "\n",
       "    canvas_div.keydown('key_press', canvas_keyboard_event);\n",
       "    canvas_div.keyup('key_release', canvas_keyboard_event);\n",
       "    this.canvas_div = canvas_div\n",
       "    this._canvas_extra_style(canvas_div)\n",
       "    this.root.append(canvas_div);\n",
       "\n",
       "    var canvas = $('<canvas/>');\n",
       "    canvas.addClass('mpl-canvas');\n",
       "    canvas.attr('style', \"left: 0; top: 0; z-index: 0; outline: 0\")\n",
       "\n",
       "    this.canvas = canvas[0];\n",
       "    this.context = canvas[0].getContext(\"2d\");\n",
       "\n",
       "    var backingStore = this.context.backingStorePixelRatio ||\n",
       "\tthis.context.webkitBackingStorePixelRatio ||\n",
       "\tthis.context.mozBackingStorePixelRatio ||\n",
       "\tthis.context.msBackingStorePixelRatio ||\n",
       "\tthis.context.oBackingStorePixelRatio ||\n",
       "\tthis.context.backingStorePixelRatio || 1;\n",
       "\n",
       "    mpl.ratio = (window.devicePixelRatio || 1) / backingStore;\n",
       "\n",
       "    var rubberband = $('<canvas/>');\n",
       "    rubberband.attr('style', \"position: absolute; left: 0; top: 0; z-index: 1;\")\n",
       "\n",
       "    var pass_mouse_events = true;\n",
       "\n",
       "    canvas_div.resizable({\n",
       "        start: function(event, ui) {\n",
       "            pass_mouse_events = false;\n",
       "        },\n",
       "        resize: function(event, ui) {\n",
       "            fig.request_resize(ui.size.width, ui.size.height);\n",
       "        },\n",
       "        stop: function(event, ui) {\n",
       "            pass_mouse_events = true;\n",
       "            fig.request_resize(ui.size.width, ui.size.height);\n",
       "        },\n",
       "    });\n",
       "\n",
       "    function mouse_event_fn(event) {\n",
       "        if (pass_mouse_events)\n",
       "            return fig.mouse_event(event, event['data']);\n",
       "    }\n",
       "\n",
       "    rubberband.mousedown('button_press', mouse_event_fn);\n",
       "    rubberband.mouseup('button_release', mouse_event_fn);\n",
       "    // Throttle sequential mouse events to 1 every 20ms.\n",
       "    rubberband.mousemove('motion_notify', mouse_event_fn);\n",
       "\n",
       "    rubberband.mouseenter('figure_enter', mouse_event_fn);\n",
       "    rubberband.mouseleave('figure_leave', mouse_event_fn);\n",
       "\n",
       "    canvas_div.on(\"wheel\", function (event) {\n",
       "        event = event.originalEvent;\n",
       "        event['data'] = 'scroll'\n",
       "        if (event.deltaY < 0) {\n",
       "            event.step = 1;\n",
       "        } else {\n",
       "            event.step = -1;\n",
       "        }\n",
       "        mouse_event_fn(event);\n",
       "    });\n",
       "\n",
       "    canvas_div.append(canvas);\n",
       "    canvas_div.append(rubberband);\n",
       "\n",
       "    this.rubberband = rubberband;\n",
       "    this.rubberband_canvas = rubberband[0];\n",
       "    this.rubberband_context = rubberband[0].getContext(\"2d\");\n",
       "    this.rubberband_context.strokeStyle = \"#000000\";\n",
       "\n",
       "    this._resize_canvas = function(width, height) {\n",
       "        // Keep the size of the canvas, canvas container, and rubber band\n",
       "        // canvas in synch.\n",
       "        canvas_div.css('width', width)\n",
       "        canvas_div.css('height', height)\n",
       "\n",
       "        canvas.attr('width', width * mpl.ratio);\n",
       "        canvas.attr('height', height * mpl.ratio);\n",
       "        canvas.attr('style', 'width: ' + width + 'px; height: ' + height + 'px;');\n",
       "\n",
       "        rubberband.attr('width', width);\n",
       "        rubberband.attr('height', height);\n",
       "    }\n",
       "\n",
       "    // Set the figure to an initial 600x600px, this will subsequently be updated\n",
       "    // upon first draw.\n",
       "    this._resize_canvas(600, 600);\n",
       "\n",
       "    // Disable right mouse context menu.\n",
       "    $(this.rubberband_canvas).bind(\"contextmenu\",function(e){\n",
       "        return false;\n",
       "    });\n",
       "\n",
       "    function set_focus () {\n",
       "        canvas.focus();\n",
       "        canvas_div.focus();\n",
       "    }\n",
       "\n",
       "    window.setTimeout(set_focus, 100);\n",
       "}\n",
       "\n",
       "mpl.figure.prototype._init_toolbar = function() {\n",
       "    var fig = this;\n",
       "\n",
       "    var nav_element = $('<div/>')\n",
       "    nav_element.attr('style', 'width: 100%');\n",
       "    this.root.append(nav_element);\n",
       "\n",
       "    // Define a callback function for later on.\n",
       "    function toolbar_event(event) {\n",
       "        return fig.toolbar_button_onclick(event['data']);\n",
       "    }\n",
       "    function toolbar_mouse_event(event) {\n",
       "        return fig.toolbar_button_onmouseover(event['data']);\n",
       "    }\n",
       "\n",
       "    for(var toolbar_ind in mpl.toolbar_items) {\n",
       "        var name = mpl.toolbar_items[toolbar_ind][0];\n",
       "        var tooltip = mpl.toolbar_items[toolbar_ind][1];\n",
       "        var image = mpl.toolbar_items[toolbar_ind][2];\n",
       "        var method_name = mpl.toolbar_items[toolbar_ind][3];\n",
       "\n",
       "        if (!name) {\n",
       "            // put a spacer in here.\n",
       "            continue;\n",
       "        }\n",
       "        var button = $('<button/>');\n",
       "        button.addClass('ui-button ui-widget ui-state-default ui-corner-all ' +\n",
       "                        'ui-button-icon-only');\n",
       "        button.attr('role', 'button');\n",
       "        button.attr('aria-disabled', 'false');\n",
       "        button.click(method_name, toolbar_event);\n",
       "        button.mouseover(tooltip, toolbar_mouse_event);\n",
       "\n",
       "        var icon_img = $('<span/>');\n",
       "        icon_img.addClass('ui-button-icon-primary ui-icon');\n",
       "        icon_img.addClass(image);\n",
       "        icon_img.addClass('ui-corner-all');\n",
       "\n",
       "        var tooltip_span = $('<span/>');\n",
       "        tooltip_span.addClass('ui-button-text');\n",
       "        tooltip_span.html(tooltip);\n",
       "\n",
       "        button.append(icon_img);\n",
       "        button.append(tooltip_span);\n",
       "\n",
       "        nav_element.append(button);\n",
       "    }\n",
       "\n",
       "    var fmt_picker_span = $('<span/>');\n",
       "\n",
       "    var fmt_picker = $('<select/>');\n",
       "    fmt_picker.addClass('mpl-toolbar-option ui-widget ui-widget-content');\n",
       "    fmt_picker_span.append(fmt_picker);\n",
       "    nav_element.append(fmt_picker_span);\n",
       "    this.format_dropdown = fmt_picker[0];\n",
       "\n",
       "    for (var ind in mpl.extensions) {\n",
       "        var fmt = mpl.extensions[ind];\n",
       "        var option = $(\n",
       "            '<option/>', {selected: fmt === mpl.default_extension}).html(fmt);\n",
       "        fmt_picker.append(option)\n",
       "    }\n",
       "\n",
       "    // Add hover states to the ui-buttons\n",
       "    $( \".ui-button\" ).hover(\n",
       "        function() { $(this).addClass(\"ui-state-hover\");},\n",
       "        function() { $(this).removeClass(\"ui-state-hover\");}\n",
       "    );\n",
       "\n",
       "    var status_bar = $('<span class=\"mpl-message\"/>');\n",
       "    nav_element.append(status_bar);\n",
       "    this.message = status_bar[0];\n",
       "}\n",
       "\n",
       "mpl.figure.prototype.request_resize = function(x_pixels, y_pixels) {\n",
       "    // Request matplotlib to resize the figure. Matplotlib will then trigger a resize in the client,\n",
       "    // which will in turn request a refresh of the image.\n",
       "    this.send_message('resize', {'width': x_pixels, 'height': y_pixels});\n",
       "}\n",
       "\n",
       "mpl.figure.prototype.send_message = function(type, properties) {\n",
       "    properties['type'] = type;\n",
       "    properties['figure_id'] = this.id;\n",
       "    this.ws.send(JSON.stringify(properties));\n",
       "}\n",
       "\n",
       "mpl.figure.prototype.send_draw_message = function() {\n",
       "    if (!this.waiting) {\n",
       "        this.waiting = true;\n",
       "        this.ws.send(JSON.stringify({type: \"draw\", figure_id: this.id}));\n",
       "    }\n",
       "}\n",
       "\n",
       "\n",
       "mpl.figure.prototype.handle_save = function(fig, msg) {\n",
       "    var format_dropdown = fig.format_dropdown;\n",
       "    var format = format_dropdown.options[format_dropdown.selectedIndex].value;\n",
       "    fig.ondownload(fig, format);\n",
       "}\n",
       "\n",
       "\n",
       "mpl.figure.prototype.handle_resize = function(fig, msg) {\n",
       "    var size = msg['size'];\n",
       "    if (size[0] != fig.canvas.width || size[1] != fig.canvas.height) {\n",
       "        fig._resize_canvas(size[0], size[1]);\n",
       "        fig.send_message(\"refresh\", {});\n",
       "    };\n",
       "}\n",
       "\n",
       "mpl.figure.prototype.handle_rubberband = function(fig, msg) {\n",
       "    var x0 = msg['x0'] / mpl.ratio;\n",
       "    var y0 = (fig.canvas.height - msg['y0']) / mpl.ratio;\n",
       "    var x1 = msg['x1'] / mpl.ratio;\n",
       "    var y1 = (fig.canvas.height - msg['y1']) / mpl.ratio;\n",
       "    x0 = Math.floor(x0) + 0.5;\n",
       "    y0 = Math.floor(y0) + 0.5;\n",
       "    x1 = Math.floor(x1) + 0.5;\n",
       "    y1 = Math.floor(y1) + 0.5;\n",
       "    var min_x = Math.min(x0, x1);\n",
       "    var min_y = Math.min(y0, y1);\n",
       "    var width = Math.abs(x1 - x0);\n",
       "    var height = Math.abs(y1 - y0);\n",
       "\n",
       "    fig.rubberband_context.clearRect(\n",
       "        0, 0, fig.canvas.width, fig.canvas.height);\n",
       "\n",
       "    fig.rubberband_context.strokeRect(min_x, min_y, width, height);\n",
       "}\n",
       "\n",
       "mpl.figure.prototype.handle_figure_label = function(fig, msg) {\n",
       "    // Updates the figure title.\n",
       "    fig.header.textContent = msg['label'];\n",
       "}\n",
       "\n",
       "mpl.figure.prototype.handle_cursor = function(fig, msg) {\n",
       "    var cursor = msg['cursor'];\n",
       "    switch(cursor)\n",
       "    {\n",
       "    case 0:\n",
       "        cursor = 'pointer';\n",
       "        break;\n",
       "    case 1:\n",
       "        cursor = 'default';\n",
       "        break;\n",
       "    case 2:\n",
       "        cursor = 'crosshair';\n",
       "        break;\n",
       "    case 3:\n",
       "        cursor = 'move';\n",
       "        break;\n",
       "    }\n",
       "    fig.rubberband_canvas.style.cursor = cursor;\n",
       "}\n",
       "\n",
       "mpl.figure.prototype.handle_message = function(fig, msg) {\n",
       "    fig.message.textContent = msg['message'];\n",
       "}\n",
       "\n",
       "mpl.figure.prototype.handle_draw = function(fig, msg) {\n",
       "    // Request the server to send over a new figure.\n",
       "    fig.send_draw_message();\n",
       "}\n",
       "\n",
       "mpl.figure.prototype.handle_image_mode = function(fig, msg) {\n",
       "    fig.image_mode = msg['mode'];\n",
       "}\n",
       "\n",
       "mpl.figure.prototype.updated_canvas_event = function() {\n",
       "    // Called whenever the canvas gets updated.\n",
       "    this.send_message(\"ack\", {});\n",
       "}\n",
       "\n",
       "// A function to construct a web socket function for onmessage handling.\n",
       "// Called in the figure constructor.\n",
       "mpl.figure.prototype._make_on_message_function = function(fig) {\n",
       "    return function socket_on_message(evt) {\n",
       "        if (evt.data instanceof Blob) {\n",
       "            /* FIXME: We get \"Resource interpreted as Image but\n",
       "             * transferred with MIME type text/plain:\" errors on\n",
       "             * Chrome.  But how to set the MIME type?  It doesn't seem\n",
       "             * to be part of the websocket stream */\n",
       "            evt.data.type = \"image/png\";\n",
       "\n",
       "            /* Free the memory for the previous frames */\n",
       "            if (fig.imageObj.src) {\n",
       "                (window.URL || window.webkitURL).revokeObjectURL(\n",
       "                    fig.imageObj.src);\n",
       "            }\n",
       "\n",
       "            fig.imageObj.src = (window.URL || window.webkitURL).createObjectURL(\n",
       "                evt.data);\n",
       "            fig.updated_canvas_event();\n",
       "            fig.waiting = false;\n",
       "            return;\n",
       "        }\n",
       "        else if (typeof evt.data === 'string' && evt.data.slice(0, 21) == \"data:image/png;base64\") {\n",
       "            fig.imageObj.src = evt.data;\n",
       "            fig.updated_canvas_event();\n",
       "            fig.waiting = false;\n",
       "            return;\n",
       "        }\n",
       "\n",
       "        var msg = JSON.parse(evt.data);\n",
       "        var msg_type = msg['type'];\n",
       "\n",
       "        // Call the  \"handle_{type}\" callback, which takes\n",
       "        // the figure and JSON message as its only arguments.\n",
       "        try {\n",
       "            var callback = fig[\"handle_\" + msg_type];\n",
       "        } catch (e) {\n",
       "            console.log(\"No handler for the '\" + msg_type + \"' message type: \", msg);\n",
       "            return;\n",
       "        }\n",
       "\n",
       "        if (callback) {\n",
       "            try {\n",
       "                // console.log(\"Handling '\" + msg_type + \"' message: \", msg);\n",
       "                callback(fig, msg);\n",
       "            } catch (e) {\n",
       "                console.log(\"Exception inside the 'handler_\" + msg_type + \"' callback:\", e, e.stack, msg);\n",
       "            }\n",
       "        }\n",
       "    };\n",
       "}\n",
       "\n",
       "// from http://stackoverflow.com/questions/1114465/getting-mouse-location-in-canvas\n",
       "mpl.findpos = function(e) {\n",
       "    //this section is from http://www.quirksmode.org/js/events_properties.html\n",
       "    var targ;\n",
       "    if (!e)\n",
       "        e = window.event;\n",
       "    if (e.target)\n",
       "        targ = e.target;\n",
       "    else if (e.srcElement)\n",
       "        targ = e.srcElement;\n",
       "    if (targ.nodeType == 3) // defeat Safari bug\n",
       "        targ = targ.parentNode;\n",
       "\n",
       "    // jQuery normalizes the pageX and pageY\n",
       "    // pageX,Y are the mouse positions relative to the document\n",
       "    // offset() returns the position of the element relative to the document\n",
       "    var x = e.pageX - $(targ).offset().left;\n",
       "    var y = e.pageY - $(targ).offset().top;\n",
       "\n",
       "    return {\"x\": x, \"y\": y};\n",
       "};\n",
       "\n",
       "/*\n",
       " * return a copy of an object with only non-object keys\n",
       " * we need this to avoid circular references\n",
       " * http://stackoverflow.com/a/24161582/3208463\n",
       " */\n",
       "function simpleKeys (original) {\n",
       "  return Object.keys(original).reduce(function (obj, key) {\n",
       "    if (typeof original[key] !== 'object')\n",
       "        obj[key] = original[key]\n",
       "    return obj;\n",
       "  }, {});\n",
       "}\n",
       "\n",
       "mpl.figure.prototype.mouse_event = function(event, name) {\n",
       "    var canvas_pos = mpl.findpos(event)\n",
       "\n",
       "    if (name === 'button_press')\n",
       "    {\n",
       "        this.canvas.focus();\n",
       "        this.canvas_div.focus();\n",
       "    }\n",
       "\n",
       "    var x = canvas_pos.x * mpl.ratio;\n",
       "    var y = canvas_pos.y * mpl.ratio;\n",
       "\n",
       "    this.send_message(name, {x: x, y: y, button: event.button,\n",
       "                             step: event.step,\n",
       "                             guiEvent: simpleKeys(event)});\n",
       "\n",
       "    /* This prevents the web browser from automatically changing to\n",
       "     * the text insertion cursor when the button is pressed.  We want\n",
       "     * to control all of the cursor setting manually through the\n",
       "     * 'cursor' event from matplotlib */\n",
       "    event.preventDefault();\n",
       "    return false;\n",
       "}\n",
       "\n",
       "mpl.figure.prototype._key_event_extra = function(event, name) {\n",
       "    // Handle any extra behaviour associated with a key event\n",
       "}\n",
       "\n",
       "mpl.figure.prototype.key_event = function(event, name) {\n",
       "\n",
       "    // Prevent repeat events\n",
       "    if (name == 'key_press')\n",
       "    {\n",
       "        if (event.which === this._key)\n",
       "            return;\n",
       "        else\n",
       "            this._key = event.which;\n",
       "    }\n",
       "    if (name == 'key_release')\n",
       "        this._key = null;\n",
       "\n",
       "    var value = '';\n",
       "    if (event.ctrlKey && event.which != 17)\n",
       "        value += \"ctrl+\";\n",
       "    if (event.altKey && event.which != 18)\n",
       "        value += \"alt+\";\n",
       "    if (event.shiftKey && event.which != 16)\n",
       "        value += \"shift+\";\n",
       "\n",
       "    value += 'k';\n",
       "    value += event.which.toString();\n",
       "\n",
       "    this._key_event_extra(event, name);\n",
       "\n",
       "    this.send_message(name, {key: value,\n",
       "                             guiEvent: simpleKeys(event)});\n",
       "    return false;\n",
       "}\n",
       "\n",
       "mpl.figure.prototype.toolbar_button_onclick = function(name) {\n",
       "    if (name == 'download') {\n",
       "        this.handle_save(this, null);\n",
       "    } else {\n",
       "        this.send_message(\"toolbar_button\", {name: name});\n",
       "    }\n",
       "};\n",
       "\n",
       "mpl.figure.prototype.toolbar_button_onmouseover = function(tooltip) {\n",
       "    this.message.textContent = tooltip;\n",
       "};\n",
       "mpl.toolbar_items = [[\"Home\", \"Reset original view\", \"fa fa-home icon-home\", \"home\"], [\"Back\", \"Back to  previous view\", \"fa fa-arrow-left icon-arrow-left\", \"back\"], [\"Forward\", \"Forward to next view\", \"fa fa-arrow-right icon-arrow-right\", \"forward\"], [\"\", \"\", \"\", \"\"], [\"Pan\", \"Pan axes with left mouse, zoom with right\", \"fa fa-arrows icon-move\", \"pan\"], [\"Zoom\", \"Zoom to rectangle\", \"fa fa-square-o icon-check-empty\", \"zoom\"], [\"\", \"\", \"\", \"\"], [\"Download\", \"Download plot\", \"fa fa-floppy-o icon-save\", \"download\"]];\n",
       "\n",
       "mpl.extensions = [\"eps\", \"jpeg\", \"pdf\", \"png\", \"ps\", \"raw\", \"svg\", \"tif\"];\n",
       "\n",
       "mpl.default_extension = \"png\";var comm_websocket_adapter = function(comm) {\n",
       "    // Create a \"websocket\"-like object which calls the given IPython comm\n",
       "    // object with the appropriate methods. Currently this is a non binary\n",
       "    // socket, so there is still some room for performance tuning.\n",
       "    var ws = {};\n",
       "\n",
       "    ws.close = function() {\n",
       "        comm.close()\n",
       "    };\n",
       "    ws.send = function(m) {\n",
       "        //console.log('sending', m);\n",
       "        comm.send(m);\n",
       "    };\n",
       "    // Register the callback with on_msg.\n",
       "    comm.on_msg(function(msg) {\n",
       "        //console.log('receiving', msg['content']['data'], msg);\n",
       "        // Pass the mpl event to the overridden (by mpl) onmessage function.\n",
       "        ws.onmessage(msg['content']['data'])\n",
       "    });\n",
       "    return ws;\n",
       "}\n",
       "\n",
       "mpl.mpl_figure_comm = function(comm, msg) {\n",
       "    // This is the function which gets called when the mpl process\n",
       "    // starts-up an IPython Comm through the \"matplotlib\" channel.\n",
       "\n",
       "    var id = msg.content.data.id;\n",
       "    // Get hold of the div created by the display call when the Comm\n",
       "    // socket was opened in Python.\n",
       "    var element = $(\"#\" + id);\n",
       "    var ws_proxy = comm_websocket_adapter(comm)\n",
       "\n",
       "    function ondownload(figure, format) {\n",
       "        window.open(figure.imageObj.src);\n",
       "    }\n",
       "\n",
       "    var fig = new mpl.figure(id, ws_proxy,\n",
       "                           ondownload,\n",
       "                           element.get(0));\n",
       "\n",
       "    // Call onopen now - mpl needs it, as it is assuming we've passed it a real\n",
       "    // web socket which is closed, not our websocket->open comm proxy.\n",
       "    ws_proxy.onopen();\n",
       "\n",
       "    fig.parent_element = element.get(0);\n",
       "    fig.cell_info = mpl.find_output_cell(\"<div id='\" + id + \"'></div>\");\n",
       "    if (!fig.cell_info) {\n",
       "        console.error(\"Failed to find cell for figure\", id, fig);\n",
       "        return;\n",
       "    }\n",
       "\n",
       "    var output_index = fig.cell_info[2]\n",
       "    var cell = fig.cell_info[0];\n",
       "\n",
       "};\n",
       "\n",
       "mpl.figure.prototype.handle_close = function(fig, msg) {\n",
       "    var width = fig.canvas.width/mpl.ratio\n",
       "    fig.root.unbind('remove')\n",
       "\n",
       "    // Update the output cell to use the data from the current canvas.\n",
       "    fig.push_to_output();\n",
       "    var dataURL = fig.canvas.toDataURL();\n",
       "    // Re-enable the keyboard manager in IPython - without this line, in FF,\n",
       "    // the notebook keyboard shortcuts fail.\n",
       "    IPython.keyboard_manager.enable()\n",
       "    $(fig.parent_element).html('<img src=\"' + dataURL + '\" width=\"' + width + '\">');\n",
       "    fig.close_ws(fig, msg);\n",
       "}\n",
       "\n",
       "mpl.figure.prototype.close_ws = function(fig, msg){\n",
       "    fig.send_message('closing', msg);\n",
       "    // fig.ws.close()\n",
       "}\n",
       "\n",
       "mpl.figure.prototype.push_to_output = function(remove_interactive) {\n",
       "    // Turn the data on the canvas into data in the output cell.\n",
       "    var width = this.canvas.width/mpl.ratio\n",
       "    var dataURL = this.canvas.toDataURL();\n",
       "    this.cell_info[1]['text/html'] = '<img src=\"' + dataURL + '\" width=\"' + width + '\">';\n",
       "}\n",
       "\n",
       "mpl.figure.prototype.updated_canvas_event = function() {\n",
       "    // Tell IPython that the notebook contents must change.\n",
       "    IPython.notebook.set_dirty(true);\n",
       "    this.send_message(\"ack\", {});\n",
       "    var fig = this;\n",
       "    // Wait a second, then push the new image to the DOM so\n",
       "    // that it is saved nicely (might be nice to debounce this).\n",
       "    setTimeout(function () { fig.push_to_output() }, 1000);\n",
       "}\n",
       "\n",
       "mpl.figure.prototype._init_toolbar = function() {\n",
       "    var fig = this;\n",
       "\n",
       "    var nav_element = $('<div/>')\n",
       "    nav_element.attr('style', 'width: 100%');\n",
       "    this.root.append(nav_element);\n",
       "\n",
       "    // Define a callback function for later on.\n",
       "    function toolbar_event(event) {\n",
       "        return fig.toolbar_button_onclick(event['data']);\n",
       "    }\n",
       "    function toolbar_mouse_event(event) {\n",
       "        return fig.toolbar_button_onmouseover(event['data']);\n",
       "    }\n",
       "\n",
       "    for(var toolbar_ind in mpl.toolbar_items){\n",
       "        var name = mpl.toolbar_items[toolbar_ind][0];\n",
       "        var tooltip = mpl.toolbar_items[toolbar_ind][1];\n",
       "        var image = mpl.toolbar_items[toolbar_ind][2];\n",
       "        var method_name = mpl.toolbar_items[toolbar_ind][3];\n",
       "\n",
       "        if (!name) { continue; };\n",
       "\n",
       "        var button = $('<button class=\"btn btn-default\" href=\"#\" title=\"' + name + '\"><i class=\"fa ' + image + ' fa-lg\"></i></button>');\n",
       "        button.click(method_name, toolbar_event);\n",
       "        button.mouseover(tooltip, toolbar_mouse_event);\n",
       "        nav_element.append(button);\n",
       "    }\n",
       "\n",
       "    // Add the status bar.\n",
       "    var status_bar = $('<span class=\"mpl-message\" style=\"text-align:right; float: right;\"/>');\n",
       "    nav_element.append(status_bar);\n",
       "    this.message = status_bar[0];\n",
       "\n",
       "    // Add the close button to the window.\n",
       "    var buttongrp = $('<div class=\"btn-group inline pull-right\"></div>');\n",
       "    var button = $('<button class=\"btn btn-mini btn-primary\" href=\"#\" title=\"Stop Interaction\"><i class=\"fa fa-power-off icon-remove icon-large\"></i></button>');\n",
       "    button.click(function (evt) { fig.handle_close(fig, {}); } );\n",
       "    button.mouseover('Stop Interaction', toolbar_mouse_event);\n",
       "    buttongrp.append(button);\n",
       "    var titlebar = this.root.find($('.ui-dialog-titlebar'));\n",
       "    titlebar.prepend(buttongrp);\n",
       "}\n",
       "\n",
       "mpl.figure.prototype._root_extra_style = function(el){\n",
       "    var fig = this\n",
       "    el.on(\"remove\", function(){\n",
       "\tfig.close_ws(fig, {});\n",
       "    });\n",
       "}\n",
       "\n",
       "mpl.figure.prototype._canvas_extra_style = function(el){\n",
       "    // this is important to make the div 'focusable\n",
       "    el.attr('tabindex', 0)\n",
       "    // reach out to IPython and tell the keyboard manager to turn it's self\n",
       "    // off when our div gets focus\n",
       "\n",
       "    // location in version 3\n",
       "    if (IPython.notebook.keyboard_manager) {\n",
       "        IPython.notebook.keyboard_manager.register_events(el);\n",
       "    }\n",
       "    else {\n",
       "        // location in version 2\n",
       "        IPython.keyboard_manager.register_events(el);\n",
       "    }\n",
       "\n",
       "}\n",
       "\n",
       "mpl.figure.prototype._key_event_extra = function(event, name) {\n",
       "    var manager = IPython.notebook.keyboard_manager;\n",
       "    if (!manager)\n",
       "        manager = IPython.keyboard_manager;\n",
       "\n",
       "    // Check for shift+enter\n",
       "    if (event.shiftKey && event.which == 13) {\n",
       "        this.canvas_div.blur();\n",
       "        event.shiftKey = false;\n",
       "        // Send a \"J\" for go to next cell\n",
       "        event.which = 74;\n",
       "        event.keyCode = 74;\n",
       "        manager.command_mode();\n",
       "        manager.handle_keydown(event);\n",
       "    }\n",
       "}\n",
       "\n",
       "mpl.figure.prototype.handle_save = function(fig, msg) {\n",
       "    fig.ondownload(fig, null);\n",
       "}\n",
       "\n",
       "\n",
       "mpl.find_output_cell = function(html_output) {\n",
       "    // Return the cell and output element which can be found *uniquely* in the notebook.\n",
       "    // Note - this is a bit hacky, but it is done because the \"notebook_saving.Notebook\"\n",
       "    // IPython event is triggered only after the cells have been serialised, which for\n",
       "    // our purposes (turning an active figure into a static one), is too late.\n",
       "    var cells = IPython.notebook.get_cells();\n",
       "    var ncells = cells.length;\n",
       "    for (var i=0; i<ncells; i++) {\n",
       "        var cell = cells[i];\n",
       "        if (cell.cell_type === 'code'){\n",
       "            for (var j=0; j<cell.output_area.outputs.length; j++) {\n",
       "                var data = cell.output_area.outputs[j];\n",
       "                if (data.data) {\n",
       "                    // IPython >= 3 moved mimebundle to data attribute of output\n",
       "                    data = data.data;\n",
       "                }\n",
       "                if (data['text/html'] == html_output) {\n",
       "                    return [cell, data, j];\n",
       "                }\n",
       "            }\n",
       "        }\n",
       "    }\n",
       "}\n",
       "\n",
       "// Register the function which deals with the matplotlib target/channel.\n",
       "// The kernel may be null if the page has been refreshed.\n",
       "if (IPython.notebook.kernel != null) {\n",
       "    IPython.notebook.kernel.comm_manager.register_target('matplotlib', mpl.mpl_figure_comm);\n",
       "}\n"
      ],
      "text/plain": [
       "<IPython.core.display.Javascript object>"
      ]
     },
     "metadata": {},
     "output_type": "display_data"
    },
    {
     "data": {
      "text/html": [
       "<img src=\"data:image/png;base64,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\" width=\"640\">"
      ],
      "text/plain": [
       "<IPython.core.display.HTML object>"
      ]
     },
     "metadata": {},
     "output_type": "display_data"
    },
    {
     "data": {
      "application/javascript": [
       "/* Put everything inside the global mpl namespace */\n",
       "window.mpl = {};\n",
       "\n",
       "\n",
       "mpl.get_websocket_type = function() {\n",
       "    if (typeof(WebSocket) !== 'undefined') {\n",
       "        return WebSocket;\n",
       "    } else if (typeof(MozWebSocket) !== 'undefined') {\n",
       "        return MozWebSocket;\n",
       "    } else {\n",
       "        alert('Your browser does not have WebSocket support.' +\n",
       "              'Please try Chrome, Safari or Firefox ≥ 6. ' +\n",
       "              'Firefox 4 and 5 are also supported but you ' +\n",
       "              'have to enable WebSockets in about:config.');\n",
       "    };\n",
       "}\n",
       "\n",
       "mpl.figure = function(figure_id, websocket, ondownload, parent_element) {\n",
       "    this.id = figure_id;\n",
       "\n",
       "    this.ws = websocket;\n",
       "\n",
       "    this.supports_binary = (this.ws.binaryType != undefined);\n",
       "\n",
       "    if (!this.supports_binary) {\n",
       "        var warnings = document.getElementById(\"mpl-warnings\");\n",
       "        if (warnings) {\n",
       "            warnings.style.display = 'block';\n",
       "            warnings.textContent = (\n",
       "                \"This browser does not support binary websocket messages. \" +\n",
       "                    \"Performance may be slow.\");\n",
       "        }\n",
       "    }\n",
       "\n",
       "    this.imageObj = new Image();\n",
       "\n",
       "    this.context = undefined;\n",
       "    this.message = undefined;\n",
       "    this.canvas = undefined;\n",
       "    this.rubberband_canvas = undefined;\n",
       "    this.rubberband_context = undefined;\n",
       "    this.format_dropdown = undefined;\n",
       "\n",
       "    this.image_mode = 'full';\n",
       "\n",
       "    this.root = $('<div/>');\n",
       "    this._root_extra_style(this.root)\n",
       "    this.root.attr('style', 'display: inline-block');\n",
       "\n",
       "    $(parent_element).append(this.root);\n",
       "\n",
       "    this._init_header(this);\n",
       "    this._init_canvas(this);\n",
       "    this._init_toolbar(this);\n",
       "\n",
       "    var fig = this;\n",
       "\n",
       "    this.waiting = false;\n",
       "\n",
       "    this.ws.onopen =  function () {\n",
       "            fig.send_message(\"supports_binary\", {value: fig.supports_binary});\n",
       "            fig.send_message(\"send_image_mode\", {});\n",
       "            if (mpl.ratio != 1) {\n",
       "                fig.send_message(\"set_dpi_ratio\", {'dpi_ratio': mpl.ratio});\n",
       "            }\n",
       "            fig.send_message(\"refresh\", {});\n",
       "        }\n",
       "\n",
       "    this.imageObj.onload = function() {\n",
       "            if (fig.image_mode == 'full') {\n",
       "                // Full images could contain transparency (where diff images\n",
       "                // almost always do), so we need to clear the canvas so that\n",
       "                // there is no ghosting.\n",
       "                fig.context.clearRect(0, 0, fig.canvas.width, fig.canvas.height);\n",
       "            }\n",
       "            fig.context.drawImage(fig.imageObj, 0, 0);\n",
       "        };\n",
       "\n",
       "    this.imageObj.onunload = function() {\n",
       "        fig.ws.close();\n",
       "    }\n",
       "\n",
       "    this.ws.onmessage = this._make_on_message_function(this);\n",
       "\n",
       "    this.ondownload = ondownload;\n",
       "}\n",
       "\n",
       "mpl.figure.prototype._init_header = function() {\n",
       "    var titlebar = $(\n",
       "        '<div class=\"ui-dialog-titlebar ui-widget-header ui-corner-all ' +\n",
       "        'ui-helper-clearfix\"/>');\n",
       "    var titletext = $(\n",
       "        '<div class=\"ui-dialog-title\" style=\"width: 100%; ' +\n",
       "        'text-align: center; padding: 3px;\"/>');\n",
       "    titlebar.append(titletext)\n",
       "    this.root.append(titlebar);\n",
       "    this.header = titletext[0];\n",
       "}\n",
       "\n",
       "\n",
       "\n",
       "mpl.figure.prototype._canvas_extra_style = function(canvas_div) {\n",
       "\n",
       "}\n",
       "\n",
       "\n",
       "mpl.figure.prototype._root_extra_style = function(canvas_div) {\n",
       "\n",
       "}\n",
       "\n",
       "mpl.figure.prototype._init_canvas = function() {\n",
       "    var fig = this;\n",
       "\n",
       "    var canvas_div = $('<div/>');\n",
       "\n",
       "    canvas_div.attr('style', 'position: relative; clear: both; outline: 0');\n",
       "\n",
       "    function canvas_keyboard_event(event) {\n",
       "        return fig.key_event(event, event['data']);\n",
       "    }\n",
       "\n",
       "    canvas_div.keydown('key_press', canvas_keyboard_event);\n",
       "    canvas_div.keyup('key_release', canvas_keyboard_event);\n",
       "    this.canvas_div = canvas_div\n",
       "    this._canvas_extra_style(canvas_div)\n",
       "    this.root.append(canvas_div);\n",
       "\n",
       "    var canvas = $('<canvas/>');\n",
       "    canvas.addClass('mpl-canvas');\n",
       "    canvas.attr('style', \"left: 0; top: 0; z-index: 0; outline: 0\")\n",
       "\n",
       "    this.canvas = canvas[0];\n",
       "    this.context = canvas[0].getContext(\"2d\");\n",
       "\n",
       "    var backingStore = this.context.backingStorePixelRatio ||\n",
       "\tthis.context.webkitBackingStorePixelRatio ||\n",
       "\tthis.context.mozBackingStorePixelRatio ||\n",
       "\tthis.context.msBackingStorePixelRatio ||\n",
       "\tthis.context.oBackingStorePixelRatio ||\n",
       "\tthis.context.backingStorePixelRatio || 1;\n",
       "\n",
       "    mpl.ratio = (window.devicePixelRatio || 1) / backingStore;\n",
       "\n",
       "    var rubberband = $('<canvas/>');\n",
       "    rubberband.attr('style', \"position: absolute; left: 0; top: 0; z-index: 1;\")\n",
       "\n",
       "    var pass_mouse_events = true;\n",
       "\n",
       "    canvas_div.resizable({\n",
       "        start: function(event, ui) {\n",
       "            pass_mouse_events = false;\n",
       "        },\n",
       "        resize: function(event, ui) {\n",
       "            fig.request_resize(ui.size.width, ui.size.height);\n",
       "        },\n",
       "        stop: function(event, ui) {\n",
       "            pass_mouse_events = true;\n",
       "            fig.request_resize(ui.size.width, ui.size.height);\n",
       "        },\n",
       "    });\n",
       "\n",
       "    function mouse_event_fn(event) {\n",
       "        if (pass_mouse_events)\n",
       "            return fig.mouse_event(event, event['data']);\n",
       "    }\n",
       "\n",
       "    rubberband.mousedown('button_press', mouse_event_fn);\n",
       "    rubberband.mouseup('button_release', mouse_event_fn);\n",
       "    // Throttle sequential mouse events to 1 every 20ms.\n",
       "    rubberband.mousemove('motion_notify', mouse_event_fn);\n",
       "\n",
       "    rubberband.mouseenter('figure_enter', mouse_event_fn);\n",
       "    rubberband.mouseleave('figure_leave', mouse_event_fn);\n",
       "\n",
       "    canvas_div.on(\"wheel\", function (event) {\n",
       "        event = event.originalEvent;\n",
       "        event['data'] = 'scroll'\n",
       "        if (event.deltaY < 0) {\n",
       "            event.step = 1;\n",
       "        } else {\n",
       "            event.step = -1;\n",
       "        }\n",
       "        mouse_event_fn(event);\n",
       "    });\n",
       "\n",
       "    canvas_div.append(canvas);\n",
       "    canvas_div.append(rubberband);\n",
       "\n",
       "    this.rubberband = rubberband;\n",
       "    this.rubberband_canvas = rubberband[0];\n",
       "    this.rubberband_context = rubberband[0].getContext(\"2d\");\n",
       "    this.rubberband_context.strokeStyle = \"#000000\";\n",
       "\n",
       "    this._resize_canvas = function(width, height) {\n",
       "        // Keep the size of the canvas, canvas container, and rubber band\n",
       "        // canvas in synch.\n",
       "        canvas_div.css('width', width)\n",
       "        canvas_div.css('height', height)\n",
       "\n",
       "        canvas.attr('width', width * mpl.ratio);\n",
       "        canvas.attr('height', height * mpl.ratio);\n",
       "        canvas.attr('style', 'width: ' + width + 'px; height: ' + height + 'px;');\n",
       "\n",
       "        rubberband.attr('width', width);\n",
       "        rubberband.attr('height', height);\n",
       "    }\n",
       "\n",
       "    // Set the figure to an initial 600x600px, this will subsequently be updated\n",
       "    // upon first draw.\n",
       "    this._resize_canvas(600, 600);\n",
       "\n",
       "    // Disable right mouse context menu.\n",
       "    $(this.rubberband_canvas).bind(\"contextmenu\",function(e){\n",
       "        return false;\n",
       "    });\n",
       "\n",
       "    function set_focus () {\n",
       "        canvas.focus();\n",
       "        canvas_div.focus();\n",
       "    }\n",
       "\n",
       "    window.setTimeout(set_focus, 100);\n",
       "}\n",
       "\n",
       "mpl.figure.prototype._init_toolbar = function() {\n",
       "    var fig = this;\n",
       "\n",
       "    var nav_element = $('<div/>')\n",
       "    nav_element.attr('style', 'width: 100%');\n",
       "    this.root.append(nav_element);\n",
       "\n",
       "    // Define a callback function for later on.\n",
       "    function toolbar_event(event) {\n",
       "        return fig.toolbar_button_onclick(event['data']);\n",
       "    }\n",
       "    function toolbar_mouse_event(event) {\n",
       "        return fig.toolbar_button_onmouseover(event['data']);\n",
       "    }\n",
       "\n",
       "    for(var toolbar_ind in mpl.toolbar_items) {\n",
       "        var name = mpl.toolbar_items[toolbar_ind][0];\n",
       "        var tooltip = mpl.toolbar_items[toolbar_ind][1];\n",
       "        var image = mpl.toolbar_items[toolbar_ind][2];\n",
       "        var method_name = mpl.toolbar_items[toolbar_ind][3];\n",
       "\n",
       "        if (!name) {\n",
       "            // put a spacer in here.\n",
       "            continue;\n",
       "        }\n",
       "        var button = $('<button/>');\n",
       "        button.addClass('ui-button ui-widget ui-state-default ui-corner-all ' +\n",
       "                        'ui-button-icon-only');\n",
       "        button.attr('role', 'button');\n",
       "        button.attr('aria-disabled', 'false');\n",
       "        button.click(method_name, toolbar_event);\n",
       "        button.mouseover(tooltip, toolbar_mouse_event);\n",
       "\n",
       "        var icon_img = $('<span/>');\n",
       "        icon_img.addClass('ui-button-icon-primary ui-icon');\n",
       "        icon_img.addClass(image);\n",
       "        icon_img.addClass('ui-corner-all');\n",
       "\n",
       "        var tooltip_span = $('<span/>');\n",
       "        tooltip_span.addClass('ui-button-text');\n",
       "        tooltip_span.html(tooltip);\n",
       "\n",
       "        button.append(icon_img);\n",
       "        button.append(tooltip_span);\n",
       "\n",
       "        nav_element.append(button);\n",
       "    }\n",
       "\n",
       "    var fmt_picker_span = $('<span/>');\n",
       "\n",
       "    var fmt_picker = $('<select/>');\n",
       "    fmt_picker.addClass('mpl-toolbar-option ui-widget ui-widget-content');\n",
       "    fmt_picker_span.append(fmt_picker);\n",
       "    nav_element.append(fmt_picker_span);\n",
       "    this.format_dropdown = fmt_picker[0];\n",
       "\n",
       "    for (var ind in mpl.extensions) {\n",
       "        var fmt = mpl.extensions[ind];\n",
       "        var option = $(\n",
       "            '<option/>', {selected: fmt === mpl.default_extension}).html(fmt);\n",
       "        fmt_picker.append(option)\n",
       "    }\n",
       "\n",
       "    // Add hover states to the ui-buttons\n",
       "    $( \".ui-button\" ).hover(\n",
       "        function() { $(this).addClass(\"ui-state-hover\");},\n",
       "        function() { $(this).removeClass(\"ui-state-hover\");}\n",
       "    );\n",
       "\n",
       "    var status_bar = $('<span class=\"mpl-message\"/>');\n",
       "    nav_element.append(status_bar);\n",
       "    this.message = status_bar[0];\n",
       "}\n",
       "\n",
       "mpl.figure.prototype.request_resize = function(x_pixels, y_pixels) {\n",
       "    // Request matplotlib to resize the figure. Matplotlib will then trigger a resize in the client,\n",
       "    // which will in turn request a refresh of the image.\n",
       "    this.send_message('resize', {'width': x_pixels, 'height': y_pixels});\n",
       "}\n",
       "\n",
       "mpl.figure.prototype.send_message = function(type, properties) {\n",
       "    properties['type'] = type;\n",
       "    properties['figure_id'] = this.id;\n",
       "    this.ws.send(JSON.stringify(properties));\n",
       "}\n",
       "\n",
       "mpl.figure.prototype.send_draw_message = function() {\n",
       "    if (!this.waiting) {\n",
       "        this.waiting = true;\n",
       "        this.ws.send(JSON.stringify({type: \"draw\", figure_id: this.id}));\n",
       "    }\n",
       "}\n",
       "\n",
       "\n",
       "mpl.figure.prototype.handle_save = function(fig, msg) {\n",
       "    var format_dropdown = fig.format_dropdown;\n",
       "    var format = format_dropdown.options[format_dropdown.selectedIndex].value;\n",
       "    fig.ondownload(fig, format);\n",
       "}\n",
       "\n",
       "\n",
       "mpl.figure.prototype.handle_resize = function(fig, msg) {\n",
       "    var size = msg['size'];\n",
       "    if (size[0] != fig.canvas.width || size[1] != fig.canvas.height) {\n",
       "        fig._resize_canvas(size[0], size[1]);\n",
       "        fig.send_message(\"refresh\", {});\n",
       "    };\n",
       "}\n",
       "\n",
       "mpl.figure.prototype.handle_rubberband = function(fig, msg) {\n",
       "    var x0 = msg['x0'] / mpl.ratio;\n",
       "    var y0 = (fig.canvas.height - msg['y0']) / mpl.ratio;\n",
       "    var x1 = msg['x1'] / mpl.ratio;\n",
       "    var y1 = (fig.canvas.height - msg['y1']) / mpl.ratio;\n",
       "    x0 = Math.floor(x0) + 0.5;\n",
       "    y0 = Math.floor(y0) + 0.5;\n",
       "    x1 = Math.floor(x1) + 0.5;\n",
       "    y1 = Math.floor(y1) + 0.5;\n",
       "    var min_x = Math.min(x0, x1);\n",
       "    var min_y = Math.min(y0, y1);\n",
       "    var width = Math.abs(x1 - x0);\n",
       "    var height = Math.abs(y1 - y0);\n",
       "\n",
       "    fig.rubberband_context.clearRect(\n",
       "        0, 0, fig.canvas.width, fig.canvas.height);\n",
       "\n",
       "    fig.rubberband_context.strokeRect(min_x, min_y, width, height);\n",
       "}\n",
       "\n",
       "mpl.figure.prototype.handle_figure_label = function(fig, msg) {\n",
       "    // Updates the figure title.\n",
       "    fig.header.textContent = msg['label'];\n",
       "}\n",
       "\n",
       "mpl.figure.prototype.handle_cursor = function(fig, msg) {\n",
       "    var cursor = msg['cursor'];\n",
       "    switch(cursor)\n",
       "    {\n",
       "    case 0:\n",
       "        cursor = 'pointer';\n",
       "        break;\n",
       "    case 1:\n",
       "        cursor = 'default';\n",
       "        break;\n",
       "    case 2:\n",
       "        cursor = 'crosshair';\n",
       "        break;\n",
       "    case 3:\n",
       "        cursor = 'move';\n",
       "        break;\n",
       "    }\n",
       "    fig.rubberband_canvas.style.cursor = cursor;\n",
       "}\n",
       "\n",
       "mpl.figure.prototype.handle_message = function(fig, msg) {\n",
       "    fig.message.textContent = msg['message'];\n",
       "}\n",
       "\n",
       "mpl.figure.prototype.handle_draw = function(fig, msg) {\n",
       "    // Request the server to send over a new figure.\n",
       "    fig.send_draw_message();\n",
       "}\n",
       "\n",
       "mpl.figure.prototype.handle_image_mode = function(fig, msg) {\n",
       "    fig.image_mode = msg['mode'];\n",
       "}\n",
       "\n",
       "mpl.figure.prototype.updated_canvas_event = function() {\n",
       "    // Called whenever the canvas gets updated.\n",
       "    this.send_message(\"ack\", {});\n",
       "}\n",
       "\n",
       "// A function to construct a web socket function for onmessage handling.\n",
       "// Called in the figure constructor.\n",
       "mpl.figure.prototype._make_on_message_function = function(fig) {\n",
       "    return function socket_on_message(evt) {\n",
       "        if (evt.data instanceof Blob) {\n",
       "            /* FIXME: We get \"Resource interpreted as Image but\n",
       "             * transferred with MIME type text/plain:\" errors on\n",
       "             * Chrome.  But how to set the MIME type?  It doesn't seem\n",
       "             * to be part of the websocket stream */\n",
       "            evt.data.type = \"image/png\";\n",
       "\n",
       "            /* Free the memory for the previous frames */\n",
       "            if (fig.imageObj.src) {\n",
       "                (window.URL || window.webkitURL).revokeObjectURL(\n",
       "                    fig.imageObj.src);\n",
       "            }\n",
       "\n",
       "            fig.imageObj.src = (window.URL || window.webkitURL).createObjectURL(\n",
       "                evt.data);\n",
       "            fig.updated_canvas_event();\n",
       "            fig.waiting = false;\n",
       "            return;\n",
       "        }\n",
       "        else if (typeof evt.data === 'string' && evt.data.slice(0, 21) == \"data:image/png;base64\") {\n",
       "            fig.imageObj.src = evt.data;\n",
       "            fig.updated_canvas_event();\n",
       "            fig.waiting = false;\n",
       "            return;\n",
       "        }\n",
       "\n",
       "        var msg = JSON.parse(evt.data);\n",
       "        var msg_type = msg['type'];\n",
       "\n",
       "        // Call the  \"handle_{type}\" callback, which takes\n",
       "        // the figure and JSON message as its only arguments.\n",
       "        try {\n",
       "            var callback = fig[\"handle_\" + msg_type];\n",
       "        } catch (e) {\n",
       "            console.log(\"No handler for the '\" + msg_type + \"' message type: \", msg);\n",
       "            return;\n",
       "        }\n",
       "\n",
       "        if (callback) {\n",
       "            try {\n",
       "                // console.log(\"Handling '\" + msg_type + \"' message: \", msg);\n",
       "                callback(fig, msg);\n",
       "            } catch (e) {\n",
       "                console.log(\"Exception inside the 'handler_\" + msg_type + \"' callback:\", e, e.stack, msg);\n",
       "            }\n",
       "        }\n",
       "    };\n",
       "}\n",
       "\n",
       "// from http://stackoverflow.com/questions/1114465/getting-mouse-location-in-canvas\n",
       "mpl.findpos = function(e) {\n",
       "    //this section is from http://www.quirksmode.org/js/events_properties.html\n",
       "    var targ;\n",
       "    if (!e)\n",
       "        e = window.event;\n",
       "    if (e.target)\n",
       "        targ = e.target;\n",
       "    else if (e.srcElement)\n",
       "        targ = e.srcElement;\n",
       "    if (targ.nodeType == 3) // defeat Safari bug\n",
       "        targ = targ.parentNode;\n",
       "\n",
       "    // jQuery normalizes the pageX and pageY\n",
       "    // pageX,Y are the mouse positions relative to the document\n",
       "    // offset() returns the position of the element relative to the document\n",
       "    var x = e.pageX - $(targ).offset().left;\n",
       "    var y = e.pageY - $(targ).offset().top;\n",
       "\n",
       "    return {\"x\": x, \"y\": y};\n",
       "};\n",
       "\n",
       "/*\n",
       " * return a copy of an object with only non-object keys\n",
       " * we need this to avoid circular references\n",
       " * http://stackoverflow.com/a/24161582/3208463\n",
       " */\n",
       "function simpleKeys (original) {\n",
       "  return Object.keys(original).reduce(function (obj, key) {\n",
       "    if (typeof original[key] !== 'object')\n",
       "        obj[key] = original[key]\n",
       "    return obj;\n",
       "  }, {});\n",
       "}\n",
       "\n",
       "mpl.figure.prototype.mouse_event = function(event, name) {\n",
       "    var canvas_pos = mpl.findpos(event)\n",
       "\n",
       "    if (name === 'button_press')\n",
       "    {\n",
       "        this.canvas.focus();\n",
       "        this.canvas_div.focus();\n",
       "    }\n",
       "\n",
       "    var x = canvas_pos.x * mpl.ratio;\n",
       "    var y = canvas_pos.y * mpl.ratio;\n",
       "\n",
       "    this.send_message(name, {x: x, y: y, button: event.button,\n",
       "                             step: event.step,\n",
       "                             guiEvent: simpleKeys(event)});\n",
       "\n",
       "    /* This prevents the web browser from automatically changing to\n",
       "     * the text insertion cursor when the button is pressed.  We want\n",
       "     * to control all of the cursor setting manually through the\n",
       "     * 'cursor' event from matplotlib */\n",
       "    event.preventDefault();\n",
       "    return false;\n",
       "}\n",
       "\n",
       "mpl.figure.prototype._key_event_extra = function(event, name) {\n",
       "    // Handle any extra behaviour associated with a key event\n",
       "}\n",
       "\n",
       "mpl.figure.prototype.key_event = function(event, name) {\n",
       "\n",
       "    // Prevent repeat events\n",
       "    if (name == 'key_press')\n",
       "    {\n",
       "        if (event.which === this._key)\n",
       "            return;\n",
       "        else\n",
       "            this._key = event.which;\n",
       "    }\n",
       "    if (name == 'key_release')\n",
       "        this._key = null;\n",
       "\n",
       "    var value = '';\n",
       "    if (event.ctrlKey && event.which != 17)\n",
       "        value += \"ctrl+\";\n",
       "    if (event.altKey && event.which != 18)\n",
       "        value += \"alt+\";\n",
       "    if (event.shiftKey && event.which != 16)\n",
       "        value += \"shift+\";\n",
       "\n",
       "    value += 'k';\n",
       "    value += event.which.toString();\n",
       "\n",
       "    this._key_event_extra(event, name);\n",
       "\n",
       "    this.send_message(name, {key: value,\n",
       "                             guiEvent: simpleKeys(event)});\n",
       "    return false;\n",
       "}\n",
       "\n",
       "mpl.figure.prototype.toolbar_button_onclick = function(name) {\n",
       "    if (name == 'download') {\n",
       "        this.handle_save(this, null);\n",
       "    } else {\n",
       "        this.send_message(\"toolbar_button\", {name: name});\n",
       "    }\n",
       "};\n",
       "\n",
       "mpl.figure.prototype.toolbar_button_onmouseover = function(tooltip) {\n",
       "    this.message.textContent = tooltip;\n",
       "};\n",
       "mpl.toolbar_items = [[\"Home\", \"Reset original view\", \"fa fa-home icon-home\", \"home\"], [\"Back\", \"Back to  previous view\", \"fa fa-arrow-left icon-arrow-left\", \"back\"], [\"Forward\", \"Forward to next view\", \"fa fa-arrow-right icon-arrow-right\", \"forward\"], [\"\", \"\", \"\", \"\"], [\"Pan\", \"Pan axes with left mouse, zoom with right\", \"fa fa-arrows icon-move\", \"pan\"], [\"Zoom\", \"Zoom to rectangle\", \"fa fa-square-o icon-check-empty\", \"zoom\"], [\"\", \"\", \"\", \"\"], [\"Download\", \"Download plot\", \"fa fa-floppy-o icon-save\", \"download\"]];\n",
       "\n",
       "mpl.extensions = [\"eps\", \"jpeg\", \"pdf\", \"png\", \"ps\", \"raw\", \"svg\", \"tif\"];\n",
       "\n",
       "mpl.default_extension = \"png\";var comm_websocket_adapter = function(comm) {\n",
       "    // Create a \"websocket\"-like object which calls the given IPython comm\n",
       "    // object with the appropriate methods. Currently this is a non binary\n",
       "    // socket, so there is still some room for performance tuning.\n",
       "    var ws = {};\n",
       "\n",
       "    ws.close = function() {\n",
       "        comm.close()\n",
       "    };\n",
       "    ws.send = function(m) {\n",
       "        //console.log('sending', m);\n",
       "        comm.send(m);\n",
       "    };\n",
       "    // Register the callback with on_msg.\n",
       "    comm.on_msg(function(msg) {\n",
       "        //console.log('receiving', msg['content']['data'], msg);\n",
       "        // Pass the mpl event to the overridden (by mpl) onmessage function.\n",
       "        ws.onmessage(msg['content']['data'])\n",
       "    });\n",
       "    return ws;\n",
       "}\n",
       "\n",
       "mpl.mpl_figure_comm = function(comm, msg) {\n",
       "    // This is the function which gets called when the mpl process\n",
       "    // starts-up an IPython Comm through the \"matplotlib\" channel.\n",
       "\n",
       "    var id = msg.content.data.id;\n",
       "    // Get hold of the div created by the display call when the Comm\n",
       "    // socket was opened in Python.\n",
       "    var element = $(\"#\" + id);\n",
       "    var ws_proxy = comm_websocket_adapter(comm)\n",
       "\n",
       "    function ondownload(figure, format) {\n",
       "        window.open(figure.imageObj.src);\n",
       "    }\n",
       "\n",
       "    var fig = new mpl.figure(id, ws_proxy,\n",
       "                           ondownload,\n",
       "                           element.get(0));\n",
       "\n",
       "    // Call onopen now - mpl needs it, as it is assuming we've passed it a real\n",
       "    // web socket which is closed, not our websocket->open comm proxy.\n",
       "    ws_proxy.onopen();\n",
       "\n",
       "    fig.parent_element = element.get(0);\n",
       "    fig.cell_info = mpl.find_output_cell(\"<div id='\" + id + \"'></div>\");\n",
       "    if (!fig.cell_info) {\n",
       "        console.error(\"Failed to find cell for figure\", id, fig);\n",
       "        return;\n",
       "    }\n",
       "\n",
       "    var output_index = fig.cell_info[2]\n",
       "    var cell = fig.cell_info[0];\n",
       "\n",
       "};\n",
       "\n",
       "mpl.figure.prototype.handle_close = function(fig, msg) {\n",
       "    var width = fig.canvas.width/mpl.ratio\n",
       "    fig.root.unbind('remove')\n",
       "\n",
       "    // Update the output cell to use the data from the current canvas.\n",
       "    fig.push_to_output();\n",
       "    var dataURL = fig.canvas.toDataURL();\n",
       "    // Re-enable the keyboard manager in IPython - without this line, in FF,\n",
       "    // the notebook keyboard shortcuts fail.\n",
       "    IPython.keyboard_manager.enable()\n",
       "    $(fig.parent_element).html('<img src=\"' + dataURL + '\" width=\"' + width + '\">');\n",
       "    fig.close_ws(fig, msg);\n",
       "}\n",
       "\n",
       "mpl.figure.prototype.close_ws = function(fig, msg){\n",
       "    fig.send_message('closing', msg);\n",
       "    // fig.ws.close()\n",
       "}\n",
       "\n",
       "mpl.figure.prototype.push_to_output = function(remove_interactive) {\n",
       "    // Turn the data on the canvas into data in the output cell.\n",
       "    var width = this.canvas.width/mpl.ratio\n",
       "    var dataURL = this.canvas.toDataURL();\n",
       "    this.cell_info[1]['text/html'] = '<img src=\"' + dataURL + '\" width=\"' + width + '\">';\n",
       "}\n",
       "\n",
       "mpl.figure.prototype.updated_canvas_event = function() {\n",
       "    // Tell IPython that the notebook contents must change.\n",
       "    IPython.notebook.set_dirty(true);\n",
       "    this.send_message(\"ack\", {});\n",
       "    var fig = this;\n",
       "    // Wait a second, then push the new image to the DOM so\n",
       "    // that it is saved nicely (might be nice to debounce this).\n",
       "    setTimeout(function () { fig.push_to_output() }, 1000);\n",
       "}\n",
       "\n",
       "mpl.figure.prototype._init_toolbar = function() {\n",
       "    var fig = this;\n",
       "\n",
       "    var nav_element = $('<div/>')\n",
       "    nav_element.attr('style', 'width: 100%');\n",
       "    this.root.append(nav_element);\n",
       "\n",
       "    // Define a callback function for later on.\n",
       "    function toolbar_event(event) {\n",
       "        return fig.toolbar_button_onclick(event['data']);\n",
       "    }\n",
       "    function toolbar_mouse_event(event) {\n",
       "        return fig.toolbar_button_onmouseover(event['data']);\n",
       "    }\n",
       "\n",
       "    for(var toolbar_ind in mpl.toolbar_items){\n",
       "        var name = mpl.toolbar_items[toolbar_ind][0];\n",
       "        var tooltip = mpl.toolbar_items[toolbar_ind][1];\n",
       "        var image = mpl.toolbar_items[toolbar_ind][2];\n",
       "        var method_name = mpl.toolbar_items[toolbar_ind][3];\n",
       "\n",
       "        if (!name) { continue; };\n",
       "\n",
       "        var button = $('<button class=\"btn btn-default\" href=\"#\" title=\"' + name + '\"><i class=\"fa ' + image + ' fa-lg\"></i></button>');\n",
       "        button.click(method_name, toolbar_event);\n",
       "        button.mouseover(tooltip, toolbar_mouse_event);\n",
       "        nav_element.append(button);\n",
       "    }\n",
       "\n",
       "    // Add the status bar.\n",
       "    var status_bar = $('<span class=\"mpl-message\" style=\"text-align:right; float: right;\"/>');\n",
       "    nav_element.append(status_bar);\n",
       "    this.message = status_bar[0];\n",
       "\n",
       "    // Add the close button to the window.\n",
       "    var buttongrp = $('<div class=\"btn-group inline pull-right\"></div>');\n",
       "    var button = $('<button class=\"btn btn-mini btn-primary\" href=\"#\" title=\"Stop Interaction\"><i class=\"fa fa-power-off icon-remove icon-large\"></i></button>');\n",
       "    button.click(function (evt) { fig.handle_close(fig, {}); } );\n",
       "    button.mouseover('Stop Interaction', toolbar_mouse_event);\n",
       "    buttongrp.append(button);\n",
       "    var titlebar = this.root.find($('.ui-dialog-titlebar'));\n",
       "    titlebar.prepend(buttongrp);\n",
       "}\n",
       "\n",
       "mpl.figure.prototype._root_extra_style = function(el){\n",
       "    var fig = this\n",
       "    el.on(\"remove\", function(){\n",
       "\tfig.close_ws(fig, {});\n",
       "    });\n",
       "}\n",
       "\n",
       "mpl.figure.prototype._canvas_extra_style = function(el){\n",
       "    // this is important to make the div 'focusable\n",
       "    el.attr('tabindex', 0)\n",
       "    // reach out to IPython and tell the keyboard manager to turn it's self\n",
       "    // off when our div gets focus\n",
       "\n",
       "    // location in version 3\n",
       "    if (IPython.notebook.keyboard_manager) {\n",
       "        IPython.notebook.keyboard_manager.register_events(el);\n",
       "    }\n",
       "    else {\n",
       "        // location in version 2\n",
       "        IPython.keyboard_manager.register_events(el);\n",
       "    }\n",
       "\n",
       "}\n",
       "\n",
       "mpl.figure.prototype._key_event_extra = function(event, name) {\n",
       "    var manager = IPython.notebook.keyboard_manager;\n",
       "    if (!manager)\n",
       "        manager = IPython.keyboard_manager;\n",
       "\n",
       "    // Check for shift+enter\n",
       "    if (event.shiftKey && event.which == 13) {\n",
       "        this.canvas_div.blur();\n",
       "        event.shiftKey = false;\n",
       "        // Send a \"J\" for go to next cell\n",
       "        event.which = 74;\n",
       "        event.keyCode = 74;\n",
       "        manager.command_mode();\n",
       "        manager.handle_keydown(event);\n",
       "    }\n",
       "}\n",
       "\n",
       "mpl.figure.prototype.handle_save = function(fig, msg) {\n",
       "    fig.ondownload(fig, null);\n",
       "}\n",
       "\n",
       "\n",
       "mpl.find_output_cell = function(html_output) {\n",
       "    // Return the cell and output element which can be found *uniquely* in the notebook.\n",
       "    // Note - this is a bit hacky, but it is done because the \"notebook_saving.Notebook\"\n",
       "    // IPython event is triggered only after the cells have been serialised, which for\n",
       "    // our purposes (turning an active figure into a static one), is too late.\n",
       "    var cells = IPython.notebook.get_cells();\n",
       "    var ncells = cells.length;\n",
       "    for (var i=0; i<ncells; i++) {\n",
       "        var cell = cells[i];\n",
       "        if (cell.cell_type === 'code'){\n",
       "            for (var j=0; j<cell.output_area.outputs.length; j++) {\n",
       "                var data = cell.output_area.outputs[j];\n",
       "                if (data.data) {\n",
       "                    // IPython >= 3 moved mimebundle to data attribute of output\n",
       "                    data = data.data;\n",
       "                }\n",
       "                if (data['text/html'] == html_output) {\n",
       "                    return [cell, data, j];\n",
       "                }\n",
       "            }\n",
       "        }\n",
       "    }\n",
       "}\n",
       "\n",
       "// Register the function which deals with the matplotlib target/channel.\n",
       "// The kernel may be null if the page has been refreshed.\n",
       "if (IPython.notebook.kernel != null) {\n",
       "    IPython.notebook.kernel.comm_manager.register_target('matplotlib', mpl.mpl_figure_comm);\n",
       "}\n"
      ],
      "text/plain": [
       "<IPython.core.display.Javascript object>"
      ]
     },
     "metadata": {},
     "output_type": "display_data"
    },
    {
     "data": {
      "text/html": [
       "<img src=\"data:image/png;base64,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\" width=\"640\">"
      ],
      "text/plain": [
       "<IPython.core.display.HTML object>"
      ]
     },
     "metadata": {},
     "output_type": "display_data"
    },
    {
     "data": {
      "text/plain": [
       "Text(0.5,1,'ref')"
      ]
     },
     "execution_count": 51,
     "metadata": {},
     "output_type": "execute_result"
    }
   ],
   "source": [
    "plt.figure()\n",
    "plt.plot(A_cod,label='A')\n",
    "plt.plot(B_cod,label='B')\n",
    "plt.title('COD')\n",
    "plt.legend()\n",
    "plt.figure()\n",
    "plt.plot(A_ref,label='A')\n",
    "plt.plot(B_ref,label='B')\n",
    "plt.legend()\n",
    "plt.title('ref')"
   ]
  },
  {
   "cell_type": "markdown",
   "metadata": {},
   "source": [
    " Fill out the values to not have NaN"
   ]
  },
  {
   "cell_type": "code",
   "execution_count": 53,
   "metadata": {
    "ExecuteTime": {
     "end_time": "2021-05-06T19:49:46.283274Z",
     "start_time": "2021-05-06T19:49:46.266778Z"
    }
   },
   "outputs": [],
   "source": [
    "x_cod = np.arange(0,len(A_cod))\n",
    "fAcod = interp1d(x_cod[np.isfinite(A_cod)],A_cod[np.isfinite(A_cod)],bounds_error=False,kind='linear',fill_value='extrapolate')\n",
    "fBcod = interp1d(x_cod[np.isfinite(A_cod)],B_cod[np.isfinite(A_cod)],bounds_error=False,kind='linear',fill_value=\"extrapolate\")\n",
    "A_codb = fAcod(x_cod)\n",
    "B_codb = fBcod(x_cod)"
   ]
  },
  {
   "cell_type": "code",
   "execution_count": 54,
   "metadata": {
    "ExecuteTime": {
     "end_time": "2021-05-06T19:49:47.090183Z",
     "start_time": "2021-05-06T19:49:47.073558Z"
    }
   },
   "outputs": [],
   "source": [
    "x_ref = np.arange(0,len(A_ref))\n",
    "fAref = interp1d(x_ref[np.isfinite(A_ref)],A_ref[np.isfinite(A_ref)],bounds_error=False,kind='linear',fill_value='extrapolate')\n",
    "fBref = interp1d(x_ref[np.isfinite(A_ref)],B_ref[np.isfinite(A_ref)],bounds_error=False,kind='linear',fill_value=\"extrapolate\")\n",
    "A_refb = fAref(x_ref)\n",
    "B_refb = fBref(x_ref)"
   ]
  },
  {
   "cell_type": "code",
   "execution_count": 55,
   "metadata": {
    "ExecuteTime": {
     "end_time": "2021-05-06T19:49:48.597300Z",
     "start_time": "2021-05-06T19:49:48.586253Z"
    }
   },
   "outputs": [],
   "source": [
    "if not 'fla' in locals():\n",
    "    # for all 4STAR aerosol arrays\n",
    "    fla = (ar['flag_acaod']==1) & ar['fl'] & ar['fl_QA'] & (ar['days']>2.0) "
   ]
  },
  {
   "cell_type": "code",
   "execution_count": 56,
   "metadata": {
    "ExecuteTime": {
     "end_time": "2021-05-06T19:49:49.308784Z",
     "start_time": "2021-05-06T19:49:49.294045Z"
    }
   },
   "outputs": [],
   "source": [
    "if not 'flb' in locals():\n",
    "    # for the cod and ref arrays\n",
    "    fld = (ar['days']>2.0) & (ar['days']!=17.0) \n",
    "    flb = (ar['flag_acaod'][fld]==1) & ar['fl'][fld] & ar['fl_QA'][fld]"
   ]
  },
  {
   "cell_type": "code",
   "execution_count": 60,
   "metadata": {
    "ExecuteTime": {
     "end_time": "2021-05-06T19:50:08.005218Z",
     "start_time": "2021-05-06T19:50:07.987422Z"
    }
   },
   "outputs": [
    {
     "name": "stdout",
     "output_type": "stream",
     "text": [
      "12.5 4.25 8.703888888888889 15.44126827125967 17.19649216501383\n"
     ]
    },
    {
     "data": {
      "text/plain": [
       "array([ 5.3758919 ,  6.17485422,  6.98659201,  7.79721623,  8.59285687,\n",
       "        9.35990028, 10.08522215, 10.75641202, 11.36198565, 11.89158149,\n",
       "       12.33613803, 12.68804877, 12.94129242, 13.09153592, 13.13620855,\n",
       "       13.07454596, 12.90760321, 12.63823674, 12.27105547, 11.81234199,\n",
       "       11.26994501, 10.6531451 ,  9.97249586,  9.2396434 ,  8.46712702,\n",
       "        7.6681647 ,  6.8564269 ,  6.04580269,  5.25016205,  4.48311864,\n",
       "        3.75779677,  3.08660689,  2.48103327,  1.95143742,  1.50688089,\n",
       "        1.15497015,  0.9017265 ,  0.751483  ,  0.70681037,  0.76847296,\n",
       "        0.93541571,  1.20478218,  1.57196344,  2.03067692,  2.5730739 ,\n",
       "        3.18987382,  3.87052306,  4.60337552])"
      ]
     },
     "execution_count": 60,
     "metadata": {},
     "output_type": "execute_result"
    }
   ],
   "source": [
    "# test\n",
    "i = 0\n",
    "print cod[flb][iaes][i],ref[flb][iaes][i],ar['Start_UTC'][fla][iaes][i],A_cod[i],B_cod[i]\n",
    "get_sines(A_cod[i],B_cod[i],cod[flb][iaes][i],ar['Start_UTC'][fla][iaes][i])"
   ]
  },
  {
   "cell_type": "code",
   "execution_count": 61,
   "metadata": {
    "ExecuteTime": {
     "end_time": "2021-05-06T19:50:09.600171Z",
     "start_time": "2021-05-06T19:50:09.586322Z"
    }
   },
   "outputs": [
    {
     "data": {
      "text/plain": [
       "array([4.51312888, 4.48361922, 4.45363769, 4.42369729, 4.39431031,\n",
       "       4.36597956, 4.3391898 , 4.31439941, 4.29203255, 4.27247193,\n",
       "       4.25605224, 4.24305442, 4.23370087, 4.22815162, 4.22650164,\n",
       "       4.22877915, 4.23494518, 4.24489423, 4.25845606, 4.27539864,\n",
       "       4.29543207, 4.31821357, 4.34335335, 4.37042125, 4.39895414,\n",
       "       4.4284638 , 4.45844533, 4.48838573, 4.51777272, 4.54610346,\n",
       "       4.57289322, 4.59768361, 4.62005047, 4.63961109, 4.65603078,\n",
       "       4.6690286 , 4.67838215, 4.6839314 , 4.68558138, 4.68330387,\n",
       "       4.67713784, 4.66718879, 4.65362696, 4.63668438, 4.61665095,\n",
       "       4.59386945, 4.56872967, 4.54166177])"
      ]
     },
     "execution_count": 61,
     "metadata": {},
     "output_type": "execute_result"
    }
   ],
   "source": [
    "get_sines(A_ref[i],B_ref[i],ref[flb][iaes][i],ar['Start_UTC'][fla][iaes][i])"
   ]
  },
  {
   "cell_type": "markdown",
   "metadata": {},
   "source": [
    "### Run through the modis match multidimensional (old)"
   ]
  },
  {
   "cell_type": "code",
   "execution_count": null,
   "metadata": {
    "ExecuteTime": {
     "start_time": "2020-11-21T07:29:18.448Z"
    }
   },
   "outputs": [],
   "source": [
    "if False:\n",
    "    if isjupyter():\n",
    "        pbar = tqdm(total=nval)\n",
    "    for i,u in enumerate(ar['Start_UTC'][fla]):\n",
    "        if i<22760: \n",
    "            pbar.update(1)\n",
    "            continue\n",
    "        iae = np.argmin(abs(ar['time_ae'][fla][i]-ae['time']/3600.0))\n",
    "        if abs(ar['time_ae'][fla][i]-ae['time']/3600.0)[iae]<1.0: \n",
    "            ad = '{}'.format(ar['doy'][fla][i])\n",
    "            for igo,go in enumerate(geoso[ad]['fh']):\n",
    "                ix,iy = np.unravel_index(np.argmin(abs(geoso[ad]['lat'][igo,:,:]-ar['Latitude'][fla][i])+\n",
    "                            abs(geoso[ad]['lon'][igo,:,:]-ar['Longitude'][fla][i])),geoso[ad]['lon'][igo,:,:].shape)\n",
    "                if (abs(geoso[ad]['lat'][igo,ix,iy]-ar['Latitude'][fla][i])<0.1) &\\\n",
    "                   (abs(geoso[ad]['lon'][igo,ix,iy]-ar['Longitude'][fla][i])<0.1):\n",
    "                    try:\n",
    "                        cod,ref,qa = read_mod06_hdf_pixel(go,ix,iy)\n",
    "                        if mod_qa(qa): \n",
    "                            mod['cod'][i] = cod\n",
    "                            mod['ref'][i] = ref\n",
    "                            mod['time'][i] = geoso[ad]['time'][igo]\n",
    "                    except:\n",
    "                        pass\n",
    "            for igy,gy in enumerate(geosy[ad]['fh']):\n",
    "                ix,iy = np.unravel_index(np.argmin(abs(geosy[ad]['lat'][igy,:,:]-ar['Latitude'][fla][i])+\n",
    "                            abs(geosy[ad]['lon'][igy,:,:]-ar['Longitude'][fla][i])),geosy[ad]['lon'][igy,:,:].shape)\n",
    "                if (abs(geosy[ad]['lat'][igy,ix,iy]-ar['Latitude'][fla][i])<0.1) &\\\n",
    "                   (abs(geosy[ad]['lon'][igy,ix,iy]-ar['Longitude'][fla][i])<0.1):\n",
    "                    try:\n",
    "                        cody,refy,qay = read_mod06_hdf_pixel(gy,ix,iy)\n",
    "                        if mod_qa(qay):\n",
    "                            myd['cod'][i] = cody\n",
    "                            myd['ref'][i] = refy\n",
    "                            myd['time'][i] = geosy[ad]['time'][igy]\n",
    "                    except:\n",
    "                        pass\n",
    "        pbar.update(1)"
   ]
  },
  {
   "cell_type": "code",
   "execution_count": 68,
   "metadata": {
    "ExecuteTime": {
     "end_time": "2021-02-08T19:03:54.675791Z",
     "start_time": "2021-02-08T19:03:54.670318Z"
    }
   },
   "outputs": [],
   "source": [
    "class KeyboardInterruptError(Exception): pass"
   ]
  },
  {
   "cell_type": "code",
   "execution_count": 574,
   "metadata": {
    "ExecuteTime": {
     "end_time": "2020-11-21T01:02:25.213223Z",
     "start_time": "2020-11-21T01:02:24.773894Z"
    }
   },
   "outputs": [
    {
     "name": "stdout",
     "output_type": "stream",
     "text": [
      "signal: 2\n",
      "signal: 2\n",
      "signal: 2\n",
      "signal: 2\n"
     ]
    }
   ],
   "source": [
    "def get_modis_val(i):\n",
    "    m = {'ocod':np.nan,'oref':np.nan,'omask':np.nan,'otime':np.nan,\n",
    "         'ycod':np.nan,'yref':np.nan,'ymask':np.nan,'ytime':np.nan}\n",
    "    iae = np.argmin(abs(ar['time_ae'][fla][i]-ae['time']/3600.0))\n",
    "    if abs(ar['time_ae'][fla][i]-ae['time']/3600.0)[iae]<1.0: \n",
    "        ad = '{}'.format(ar['doy'][fla][i])\n",
    "        for igo,go in enumerate(geoso[ad]['fh']):\n",
    "            ix,iy = np.unravel_index(np.argmin(abs(geoso[ad]['lat'][igo,:,:]-ar['Latitude'][fla][i])+\n",
    "                        abs(geoso[ad]['lon'][igo,:,:]-ar['Longitude'][fla][i])),geoso[ad]['lon'][igo,:,:].shape)\n",
    "            if (abs(geoso[ad]['lat'][igo,ix,iy]-ar['Latitude'][fla][i])<0.02) &\\\n",
    "               (abs(geoso[ad]['lon'][igo,ix,iy]-ar['Longitude'][fla][i])<0.02):\n",
    "                cod,ref,qa = read_mod06_hdf_pixel(go,ix,iy)\n",
    "                if mod_qa(qa):\n",
    "                    try: \n",
    "                        m['ocod'] = cod\n",
    "                        m['oref'] = ref\n",
    "                    except:\n",
    "                        pass\n",
    "                    m['otime'] = geoso[ad]['time'][igo]\n",
    "        for igy,gy in enumerate(geosy[ad]['fh']):\n",
    "            ix,iy = np.unravel_index(np.argmin(abs(geosy[ad]['lat'][igy,:,:]-ar['Latitude'][fla][i])+\n",
    "                        abs(geosy[ad]['lon'][igy,:,:]-ar['Longitude'][fla][i])),geosy[ad]['lon'][igy,:,:].shape)\n",
    "            if (abs(geosy[ad]['lat'][igy,ix,iy]-ar['Latitude'][fla][i])<0.02) &\\\n",
    "               (abs(geosy[ad]['lon'][igy,ix,iy]-ar['Longitude'][fla][i])<0.02):\n",
    "                cody,refy,qay = read_mod06_hdf_pixel(gy,ix,iy)\n",
    "                if mod_qa(qay):\n",
    "                    try:\n",
    "                        m['ycod'] = cody\n",
    "                        m['yref'] = refy\n",
    "                    except:\n",
    "                        pass\n",
    "                    m['ytime'] = geosy[ad]['time'][igy]"
   ]
  },
  {
   "cell_type": "code",
   "execution_count": 575,
   "metadata": {
    "ExecuteTime": {
     "end_time": "2020-11-21T01:02:27.131744Z",
     "start_time": "2020-11-21T01:02:26.806149Z"
    }
   },
   "outputs": [
    {
     "name": "stdout",
     "output_type": "stream",
     "text": [
      "signal: 2\n",
      "signal: 2\n",
      "signal: 2\n"
     ]
    }
   ],
   "source": [
    "def worker_init(verbose=True):\n",
    "    # ignore the SIGINI in sub process, just print a log\n",
    "    def sig_int(signal_num, frame):\n",
    "        if verbose: \n",
    "            print 'signal: %s' % signal_num\n",
    "        raise IOError\n",
    "    signal.signal(signal.SIGINT, sig_int)"
   ]
  },
  {
   "cell_type": "code",
   "execution_count": null,
   "metadata": {
    "ExecuteTime": {
     "end_time": "2020-11-21T01:05:35.687919Z",
     "start_time": "2020-11-21T01:02:28.438709Z"
    }
   },
   "outputs": [],
   "source": [
    "p = Pool(cpu_count()-1,worker_init)"
   ]
  },
  {
   "cell_type": "code",
   "execution_count": null,
   "metadata": {
    "ExecuteTime": {
     "end_time": "2020-11-21T01:34:25.571719Z",
     "start_time": "2020-11-21T01:16:05.926922Z"
    }
   },
   "outputs": [],
   "source": [
    "mod_outputs = []\n",
    "max_ = len(ar['Start_UTC'][fla])\n",
    "with tqdm(total=max_) as pbar:\n",
    "    for i, outs in tqdm(enumerate(p.imap_unordered(get_modis_val, range(0, max_)))):\n",
    "        pbar.update()\n",
    "        mod_outputs.append(outs)"
   ]
  },
  {
   "cell_type": "code",
   "execution_count": 318,
   "metadata": {
    "ExecuteTime": {
     "end_time": "2020-11-21T20:14:54.910591Z",
     "start_time": "2020-11-21T20:14:54.892815Z"
    }
   },
   "outputs": [
    {
     "ename": "IndexError",
     "evalue": "boolean index did not match indexed array along dimension 0; dimension is 2030 but corresponding boolean dimension is 379755",
     "output_type": "error",
     "traceback": [
      "\u001b[0;31m\u001b[0m",
      "\u001b[0;31mIndexError\u001b[0mTraceback (most recent call last)",
      "\u001b[0;32m<ipython-input-318-b0148248ad6c>\u001b[0m in \u001b[0;36m<module>\u001b[0;34m()\u001b[0m\n\u001b[0;32m----> 1\u001b[0;31m \u001b[0mcod\u001b[0m\u001b[0;34m[\u001b[0m\u001b[0mflb\u001b[0m\u001b[0;34m]\u001b[0m\u001b[0;34m\u001b[0m\u001b[0m\n\u001b[0m",
      "\u001b[0;31mIndexError\u001b[0m: boolean index did not match indexed array along dimension 0; dimension is 2030 but corresponding boolean dimension is 379755"
     ]
    }
   ],
   "source": [
    "cod[flb]"
   ]
  },
  {
   "cell_type": "markdown",
   "metadata": {},
   "source": [
    "# Prepare the base dict and defaults"
   ]
  },
  {
   "cell_type": "code",
   "execution_count": 62,
   "metadata": {
    "ExecuteTime": {
     "end_time": "2021-05-06T19:50:22.733448Z",
     "start_time": "2021-05-06T19:50:22.724157Z"
    }
   },
   "outputs": [
    {
     "data": {
      "text/plain": [
       "321"
      ]
     },
     "execution_count": 62,
     "metadata": {},
     "output_type": "execute_result"
    }
   ],
   "source": [
    "from datetime import datetime\n",
    "datetime(2015,11,17).timetuple().tm_yday"
   ]
  },
  {
   "cell_type": "code",
   "execution_count": 63,
   "metadata": {
    "ExecuteTime": {
     "end_time": "2021-05-06T19:50:23.508931Z",
     "start_time": "2021-05-06T19:50:23.501680Z"
    }
   },
   "outputs": [],
   "source": [
    "# for all 4STAR aerosol arrays\n",
    "fla = (ar['flag_acaod']==1) & ar['fl'] & ar['fl_QA'] & (ar['days']>2.0) "
   ]
  },
  {
   "cell_type": "code",
   "execution_count": 64,
   "metadata": {
    "ExecuteTime": {
     "end_time": "2021-05-06T19:50:24.072673Z",
     "start_time": "2021-05-06T19:50:24.060513Z"
    }
   },
   "outputs": [],
   "source": [
    "# for the cod and ref arrays\n",
    "fld = (ar['days']>2.0) & (ar['days']!=17.0) \n",
    "flb = (ar['flag_acaod'][fld]==1) & ar['fl'][fld] & ar['fl_QA'][fld]"
   ]
  },
  {
   "cell_type": "code",
   "execution_count": 65,
   "metadata": {
    "ExecuteTime": {
     "end_time": "2021-05-06T19:50:24.484353Z",
     "start_time": "2021-05-06T19:50:24.475350Z"
    }
   },
   "outputs": [
    {
     "data": {
      "text/plain": [
       "27672"
      ]
     },
     "execution_count": 65,
     "metadata": {},
     "output_type": "execute_result"
    }
   ],
   "source": [
    "len(ar['AOD0355'][fla])"
   ]
  },
  {
   "cell_type": "code",
   "execution_count": 66,
   "metadata": {
    "ExecuteTime": {
     "end_time": "2021-05-06T19:50:24.877147Z",
     "start_time": "2021-05-06T19:50:24.869924Z"
    }
   },
   "outputs": [
    {
     "data": {
      "text/plain": [
       "27672"
      ]
     },
     "execution_count": 66,
     "metadata": {},
     "output_type": "execute_result"
    }
   ],
   "source": [
    "len(cod[flb])"
   ]
  },
  {
   "cell_type": "code",
   "execution_count": 67,
   "metadata": {
    "ExecuteTime": {
     "end_time": "2021-05-06T19:50:26.546378Z",
     "start_time": "2021-05-06T19:50:25.301267Z"
    }
   },
   "outputs": [
    {
     "data": {
      "text/plain": [
       "(4354, 16327, 27672)"
      ]
     },
     "execution_count": 67,
     "metadata": {},
     "output_type": "execute_result"
    }
   ],
   "source": [
    "sum(np.isfinite(cod[~flb])),sum(np.isfinite(cod[flb])),len(cod[flb])"
   ]
  },
  {
   "cell_type": "code",
   "execution_count": 68,
   "metadata": {
    "ExecuteTime": {
     "end_time": "2021-05-06T19:50:26.562752Z",
     "start_time": "2021-05-06T19:50:26.551261Z"
    },
    "scrolled": true
   },
   "outputs": [
    {
     "data": {
      "text/plain": [
       "[u'AOD0355',\n",
       " u'AOD0380',\n",
       " u'AOD0452',\n",
       " u'AOD0470',\n",
       " u'AOD0501',\n",
       " u'AOD0520',\n",
       " u'AOD0530',\n",
       " u'AOD0532',\n",
       " u'AOD0550',\n",
       " u'AOD0606',\n",
       " u'AOD0620',\n",
       " u'AOD0660',\n",
       " u'AOD0675',\n",
       " u'AOD0700',\n",
       " u'AOD0781',\n",
       " u'AOD0865',\n",
       " u'AOD1020',\n",
       " u'AOD1040',\n",
       " u'AOD1064',\n",
       " u'AOD1236',\n",
       " u'AOD1250',\n",
       " u'AOD1559',\n",
       " u'AOD1627',\n",
       " u'AOD1650',\n",
       " u'AOD_angstrom_470_865',\n",
       " u'AOD_polycoef_a0',\n",
       " u'AOD_polycoef_a1',\n",
       " u'AOD_polycoef_a2',\n",
       " u'GPS_Alt',\n",
       " u'Latitude',\n",
       " u'Longitude',\n",
       " u'Start_UTC',\n",
       " u'UNCAOD0355',\n",
       " u'UNCAOD0380',\n",
       " u'UNCAOD0452',\n",
       " u'UNCAOD0470',\n",
       " u'UNCAOD0501',\n",
       " u'UNCAOD0520',\n",
       " u'UNCAOD0530',\n",
       " u'UNCAOD0532',\n",
       " u'UNCAOD0550',\n",
       " u'UNCAOD0606',\n",
       " u'UNCAOD0620',\n",
       " u'UNCAOD0660',\n",
       " u'UNCAOD0675',\n",
       " u'UNCAOD0700',\n",
       " u'UNCAOD0781',\n",
       " u'UNCAOD0865',\n",
       " u'UNCAOD1020',\n",
       " u'UNCAOD1040',\n",
       " u'UNCAOD1064',\n",
       " u'UNCAOD1236',\n",
       " u'UNCAOD1250',\n",
       " u'UNCAOD1559',\n",
       " u'UNCAOD1627',\n",
       " u'UNCAOD1650',\n",
       " u'amass_aer',\n",
       " u'days',\n",
       " 'doy',\n",
       " u'fl',\n",
       " u'fl1',\n",
       " u'fl2',\n",
       " u'fl3',\n",
       " u'fl_QA',\n",
       " u'fl_alt',\n",
       " u'fl_alt_18',\n",
       " u'fl_alt_22',\n",
       " u'fl_alt_6',\n",
       " u'fl_routine',\n",
       " u'flac',\n",
       " u'flacr',\n",
       " u'flag_acaod',\n",
       " u'flr',\n",
       " u'qual_flag',\n",
       " 'time_ae']"
      ]
     },
     "execution_count": 68,
     "metadata": {},
     "output_type": "execute_result"
    }
   ],
   "source": [
    "ka = ar.keys()\n",
    "ka.sort()\n",
    "ka"
   ]
  },
  {
   "cell_type": "code",
   "execution_count": 69,
   "metadata": {
    "ExecuteTime": {
     "end_time": "2021-05-06T19:50:29.144002Z",
     "start_time": "2021-05-06T19:50:29.137095Z"
    }
   },
   "outputs": [],
   "source": [
    "doy = datetime.strptime(dds[int(ar['days'][fla][0])],'%Y%m%d').timetuple().tm_yday"
   ]
  },
  {
   "cell_type": "code",
   "execution_count": 70,
   "metadata": {
    "ExecuteTime": {
     "end_time": "2021-05-06T19:50:29.685851Z",
     "start_time": "2021-05-06T19:50:29.678548Z"
    }
   },
   "outputs": [
    {
     "data": {
      "text/plain": [
       "250"
      ]
     },
     "execution_count": 70,
     "metadata": {},
     "output_type": "execute_result"
    }
   ],
   "source": [
    "doy"
   ]
  },
  {
   "cell_type": "code",
   "execution_count": 71,
   "metadata": {
    "ExecuteTime": {
     "end_time": "2021-05-06T19:50:30.884200Z",
     "start_time": "2021-05-06T19:50:30.875282Z"
    }
   },
   "outputs": [],
   "source": [
    "geo = {'lat':ar['Latitude'][0],'lon':ar['Longitude'][0],'doy':doy,'zout':[0,1.5,100.0]}\n",
    "aero_no = {} # none\n",
    "cloud = {'ztop':1.0,'zbot':0.5,'write_moments_file':False}\n",
    "source = {'wvl_range':[201.0,4900.0],'source':'solar','integrate_values':True,'run_fuliou':True,\n",
    "          'dat_path':fp_uvspec_dat}\n",
    "albedo = {'create_albedo_file':False,'sea_surface_albedo':True,'wind_speed':5.0}"
   ]
  },
  {
   "cell_type": "code",
   "execution_count": 72,
   "metadata": {
    "ExecuteTime": {
     "end_time": "2021-05-06T19:50:31.720180Z",
     "start_time": "2021-05-06T19:50:31.714876Z"
    }
   },
   "outputs": [],
   "source": [
    "cloud['phase'] = 'wc'\n",
    "geo['sza'] = 40.0\n",
    "cloud['tau'] = 2.0\n",
    "cloud['ref'] = 5.0"
   ]
  },
  {
   "cell_type": "code",
   "execution_count": 73,
   "metadata": {
    "ExecuteTime": {
     "end_time": "2021-05-06T19:50:46.823964Z",
     "start_time": "2021-05-06T19:50:32.475134Z"
    }
   },
   "outputs": [
    {
     "name": "stdout",
     "output_type": "stream",
     "text": [
      "ntheta (40, 28)\n",
      "wvl (28,)\n",
      "nim (28,)\n",
      "file_name nre (28,)\n",
      "rho (40, 28)\n",
      "phase (40, 28, 1500)\n",
      "ssa (40, 28)\n",
      "pmom (40, 28, 9000)\n",
      "nmom (40, 28)\n",
      "ext (40, 28)\n",
      "theta (40, 28, 1500)\n",
      "ref (1, 40)\n"
     ]
    }
   ],
   "source": [
    "pmom = Rl.make_pmom_inputs(fp_rtm=fp_rtmdat,source='solar',deltascale=True,new=True)\n",
    "tw = ['ntheta','rho','ssa','nmom','ext']\n",
    "th = ['phase','pmom','theta']\n",
    "on = ['wvl','nim','nre']\n",
    "pmom_new = {}\n",
    "for k in pmom.keys():\n",
    "    if k in tw:\n",
    "        pmom_new[k] = pmom[k][:,::50]\n",
    "    elif k in th:\n",
    "        pmom_new[k] = pmom[k][:,::50,:]\n",
    "    elif k in on:\n",
    "        pmom_new[k] = pmom[k][::50]\n",
    "    else:\n",
    "        pmom_new[k] = pmom[k]\n",
    "    \n",
    "    try:\n",
    "        print k, pmom_new[k].shape        \n",
    "    except:\n",
    "        pass\n",
    "pmom_new['wvl'][0] = 0.250\n",
    "pmom_new['wvl'][-1] = 4.900\n",
    "cloud['moms_dict'] = pmom_new"
   ]
  },
  {
   "cell_type": "code",
   "execution_count": 74,
   "metadata": {
    "ExecuteTime": {
     "end_time": "2021-05-06T19:52:31.648756Z",
     "start_time": "2021-05-06T19:52:31.638410Z"
    }
   },
   "outputs": [
    {
     "data": {
      "text/plain": [
       "array([0.25, 0.4 , 0.45, 0.5 , 0.55, 0.6 , 0.65, 0.7 , 0.75, 0.8 , 0.85,\n",
       "       0.9 , 0.95, 1.  , 1.05, 1.1 , 1.15, 1.2 , 1.25, 1.3 , 1.35, 1.4 ,\n",
       "       1.45, 1.5 , 1.55, 1.6 , 1.65, 4.9 ])"
      ]
     },
     "execution_count": 74,
     "metadata": {},
     "output_type": "execute_result"
    }
   ],
   "source": [
    "pmom_new['wvl']"
   ]
  },
  {
   "cell_type": "code",
   "execution_count": 75,
   "metadata": {
    "ExecuteTime": {
     "end_time": "2021-05-06T19:52:32.443211Z",
     "start_time": "2021-05-06T19:52:32.433322Z"
    }
   },
   "outputs": [
    {
     "data": {
      "text/plain": [
       "array([ 250.,  400.,  500.,  675.,  870.,  995., 4900.])"
      ]
     },
     "execution_count": 75,
     "metadata": {},
     "output_type": "execute_result"
    }
   ],
   "source": [
    "wvl = np.append(np.append([250.0],ae['wavelength']),4900.0)\n",
    "wvl"
   ]
  },
  {
   "cell_type": "code",
   "execution_count": 76,
   "metadata": {
    "ExecuteTime": {
     "end_time": "2021-05-06T19:52:33.374359Z",
     "start_time": "2021-05-06T19:52:33.369440Z"
    }
   },
   "outputs": [],
   "source": [
    "aero = {'expand_hg':True,'disort_phase':False,'z_arr':[2.0,5.0],\n",
    "        'wvl_arr':wvl}"
   ]
  },
  {
   "cell_type": "code",
   "execution_count": 77,
   "metadata": {
    "ExecuteTime": {
     "end_time": "2021-05-06T19:52:34.298682Z",
     "start_time": "2021-05-06T19:52:34.292999Z"
    }
   },
   "outputs": [],
   "source": [
    "def fx_aero(aprop):\n",
    "    'Function the aerosol property a 2d matrix for height and spectra, and extend the wavelength from 250 to 4900 nm'\n",
    "    atmp = np.append([aprop[0]],np.append(aprop,aprop[-1]))\n",
    "    return np.array([atmp,atmp])"
   ]
  },
  {
   "cell_type": "code",
   "execution_count": 78,
   "metadata": {
    "ExecuteTime": {
     "end_time": "2021-05-06T19:52:35.165006Z",
     "start_time": "2021-05-06T19:52:35.157247Z"
    }
   },
   "outputs": [],
   "source": [
    "def fx_ext(a0,a1,a2,wvl=wvl):\n",
    "    'Function to create the extinction coefficients from 4STAR AODs'\n",
    "    aod = np.exp(np.polyval([a2,a1,a0],np.log(wvl)))\n",
    "    aod[-1] = 0.0 # set the last wavelength to zero\n",
    "    return np.array([aod/3.0,aod*0.0])"
   ]
  },
  {
   "cell_type": "code",
   "execution_count": 79,
   "metadata": {
    "ExecuteTime": {
     "end_time": "2021-05-06T19:52:35.745296Z",
     "start_time": "2021-05-06T19:52:35.736708Z"
    }
   },
   "outputs": [],
   "source": [
    "aero['ext'] = fx_ext(ar['AOD_polycoef_a0'][fla][0],ar['AOD_polycoef_a1'][fla][0],ar['AOD_polycoef_a2'][fla][0])"
   ]
  },
  {
   "cell_type": "code",
   "execution_count": 80,
   "metadata": {
    "ExecuteTime": {
     "end_time": "2021-05-06T19:52:36.197098Z",
     "start_time": "2021-05-06T19:52:36.192833Z"
    }
   },
   "outputs": [],
   "source": [
    "aero['asy'] = fx_aero(ae['g_total'][0])"
   ]
  },
  {
   "cell_type": "code",
   "execution_count": 81,
   "metadata": {
    "ExecuteTime": {
     "end_time": "2021-05-06T19:52:36.698391Z",
     "start_time": "2021-05-06T19:52:36.693923Z"
    }
   },
   "outputs": [],
   "source": [
    "aero['ssa'] = fx_aero(ae['SSA'][0])"
   ]
  },
  {
   "cell_type": "markdown",
   "metadata": {},
   "source": [
    "## Prepare the file list and saving"
   ]
  },
  {
   "cell_type": "code",
   "execution_count": 82,
   "metadata": {
    "ExecuteTime": {
     "end_time": "2021-05-06T19:52:38.988523Z",
     "start_time": "2021-05-06T19:52:38.983036Z"
    }
   },
   "outputs": [],
   "source": [
    "from path_utils import isjupyter"
   ]
  },
  {
   "cell_type": "code",
   "execution_count": 83,
   "metadata": {
    "ExecuteTime": {
     "end_time": "2021-05-06T19:52:39.572658Z",
     "start_time": "2021-05-06T19:52:39.565357Z"
    }
   },
   "outputs": [
    {
     "data": {
      "text/plain": [
       "True"
      ]
     },
     "execution_count": 83,
     "metadata": {},
     "output_type": "execute_result"
    }
   ],
   "source": [
    "isjupyter()"
   ]
  },
  {
   "cell_type": "markdown",
   "metadata": {},
   "source": [
    "## Write the files"
   ]
  },
  {
   "cell_type": "markdown",
   "metadata": {},
   "source": [
    "### Conventional"
   ]
  },
  {
   "cell_type": "code",
   "execution_count": 80,
   "metadata": {
    "ExecuteTime": {
     "end_time": "2020-04-13T22:30:00.799075Z",
     "start_time": "2020-04-13T22:30:00.791620Z"
    }
   },
   "outputs": [],
   "source": [
    "# open the list file\n",
    "f = open(fp_rtm+'{}_DARE_{}.sh'.format(name,vv),'w')\n",
    "fpp_in = fp_rtm+'input/{}_DARE_{}/'.format(name,vv)\n",
    "fpp_out = fp_rtm+'output/{}_DARE_{}/'.format(name,vv)"
   ]
  },
  {
   "cell_type": "code",
   "execution_count": 81,
   "metadata": {
    "ExecuteTime": {
     "end_time": "2020-04-13T22:30:02.174567Z",
     "start_time": "2020-04-13T22:30:02.168598Z"
    }
   },
   "outputs": [],
   "source": [
    "if not os.path.isdir(fpp_in):\n",
    "    os.mkdir(fpp_in)\n",
    "if not os.path.isdir(fpp_out):\n",
    "     os.mkdir(fpp_out)"
   ]
  },
  {
   "cell_type": "code",
   "execution_count": 120,
   "metadata": {
    "ExecuteTime": {
     "end_time": "2019-12-03T19:49:35.506180Z",
     "start_time": "2019-12-03T19:49:35.454283Z"
    }
   },
   "outputs": [],
   "source": [
    "# for writing out the files"
   ]
  },
  {
   "cell_type": "code",
   "execution_count": 109,
   "metadata": {
    "ExecuteTime": {
     "end_time": "2020-04-14T22:34:55.545799Z",
     "start_time": "2020-04-14T22:34:55.531436Z"
    }
   },
   "outputs": [
    {
     "data": {
      "text/plain": [
       "array([  9.36436349,   9.38314424,  11.44100489,  13.53473135,\n",
       "        13.55286422,  13.63317105,  13.65609344,  14.15397498,\n",
       "        14.17291726,  55.12454682,  56.45493072,  56.47428852,\n",
       "        56.50556153,  56.52408765,  56.62796449,  56.64651974,\n",
       "        57.3145811 ,  57.57097029,  57.58955459,  58.57214188,\n",
       "        58.99556736,  60.49512862,  60.51375567,  60.53747322,\n",
       "        62.83647775, 153.56740963, 153.58586041, 154.09168935,\n",
       "       154.11113343, 154.98052584, 155.82233424, 155.84067681,\n",
       "       156.42516806, 156.44378445, 157.14872684, 157.16740038,\n",
       "       203.2280269 , 251.08488591, 252.31515166, 300.24803314,\n",
       "       301.14747711, 301.1660435 , 301.18294843, 301.7608256 ,\n",
       "       301.77941441, 302.12064148, 302.14029531, 345.31344008,\n",
       "       345.33189656, 346.52380833, 346.63178176, 346.6632354 ,\n",
       "       349.91946379, 441.84949381, 489.40488159, 489.42472078,\n",
       "       489.45796597, 489.48503416, 489.52466494, 489.55642007,\n",
       "       489.58136179, 491.02055947, 491.14471216, 492.66561342,\n",
       "       492.70347723, 492.75552446, 493.23101581, 493.25420547,\n",
       "       493.28753676, 493.31825604, 493.39634628, 585.70342018,\n",
       "       585.81399486, 587.9221829 , 609.80894124, 609.82767846,\n",
       "       611.75699517, 613.90812606, 613.97765332, 613.99688071,\n",
       "       614.07015826, 614.08907765, 615.32024977, 665.05941757])"
      ]
     },
     "execution_count": 109,
     "metadata": {},
     "output_type": "execute_result"
    }
   ],
   "source": [
    "ae['time']/3600.0"
   ]
  },
  {
   "cell_type": "code",
   "execution_count": 110,
   "metadata": {
    "ExecuteTime": {
     "end_time": "2020-04-14T22:35:11.016164Z",
     "start_time": "2020-04-14T22:35:11.007502Z"
    }
   },
   "outputs": [
    {
     "data": {
      "text/plain": [
       "array([  7.95472222,   7.955     ,   7.95527778, ..., 665.405     ,\n",
       "       665.40527778, 665.40555556])"
      ]
     },
     "execution_count": 110,
     "metadata": {},
     "output_type": "execute_result"
    }
   ],
   "source": [
    "ar['time_ae'][fla]"
   ]
  },
  {
   "cell_type": "code",
   "execution_count": 82,
   "metadata": {
    "ExecuteTime": {
     "end_time": "2020-04-13T22:34:55.258889Z",
     "start_time": "2020-04-13T22:30:06.896519Z"
    }
   },
   "outputs": [
    {
     "data": {
      "application/vnd.jupyter.widget-view+json": {
       "model_id": "1de2bc444024459ca0b89d827e369e29",
       "version_major": 2,
       "version_minor": 0
      },
      "text/plain": [
       "A Jupyter Widget"
      ]
     },
     "metadata": {},
     "output_type": "display_data"
    },
    {
     "name": "stdout",
     "output_type": "stream",
     "text": [
      "> /home/sam/python_codes/Run_libradtran.py(485)write_cloud_file_moments_wvl()\n",
      "-> for iw,wv in enumerate(wvl):\n",
      "(Pdb) q\n"
     ]
    },
    {
     "ename": "BdbQuit",
     "evalue": "",
     "output_type": "error",
     "traceback": [
      "\u001b[0;31m\u001b[0m",
      "\u001b[0;31mBdbQuit\u001b[0mTraceback (most recent call last)",
      "\u001b[0;32m<ipython-input-82-fa6f432cae66>\u001b[0m in \u001b[0;36m<module>\u001b[0;34m()\u001b[0m\n\u001b[1;32m     27\u001b[0m         \u001b[0mf_in\u001b[0m \u001b[0;34m=\u001b[0m \u001b[0;34m'{name}_{vv}_star_{i:03d}_noaero.dat'\u001b[0m\u001b[0;34m.\u001b[0m\u001b[0mformat\u001b[0m\u001b[0;34m(\u001b[0m\u001b[0mname\u001b[0m\u001b[0;34m=\u001b[0m\u001b[0mname\u001b[0m\u001b[0;34m,\u001b[0m\u001b[0mvv\u001b[0m\u001b[0;34m=\u001b[0m\u001b[0mvv\u001b[0m\u001b[0;34m,\u001b[0m\u001b[0mi\u001b[0m\u001b[0;34m=\u001b[0m\u001b[0mi\u001b[0m\u001b[0;34m)\u001b[0m\u001b[0;34m\u001b[0m\u001b[0m\n\u001b[1;32m     28\u001b[0m         Rl.write_input_aac(fpp_in+f_in,geo=geo,aero=aero_no,cloud=cloud,source=source,albedo=albedo,\n\u001b[0;32m---> 29\u001b[0;31m                                    verbose=False,make_base=False,set_quiet=True)\n\u001b[0m\u001b[1;32m     30\u001b[0m         \u001b[0mf\u001b[0m\u001b[0;34m.\u001b[0m\u001b[0mwrite\u001b[0m\u001b[0;34m(\u001b[0m\u001b[0;34m'{uv} < {fin} > {out}\\n'\u001b[0m\u001b[0;34m.\u001b[0m\u001b[0mformat\u001b[0m\u001b[0;34m(\u001b[0m\u001b[0muv\u001b[0m\u001b[0;34m=\u001b[0m\u001b[0mfp_uvspec\u001b[0m\u001b[0;34m,\u001b[0m\u001b[0mfin\u001b[0m\u001b[0;34m=\u001b[0m\u001b[0mfpp_in\u001b[0m\u001b[0;34m+\u001b[0m\u001b[0mf_in\u001b[0m\u001b[0;34m,\u001b[0m\u001b[0mout\u001b[0m\u001b[0;34m=\u001b[0m\u001b[0mfpp_out\u001b[0m\u001b[0;34m+\u001b[0m\u001b[0mf_in\u001b[0m\u001b[0;34m)\u001b[0m\u001b[0;34m)\u001b[0m\u001b[0;34m\u001b[0m\u001b[0m\n\u001b[1;32m     31\u001b[0m \u001b[0;34m\u001b[0m\u001b[0m\n",
      "\u001b[0;32m/home/sam/python_codes/Run_libradtran.pyc\u001b[0m in \u001b[0;36mwrite_input_aac\u001b[0;34m(output_file, geo, aero, cloud, source, albedo, verbose, make_base, fp_base_file, set_quiet, max_nmom, solver)\u001b[0m\n\u001b[1;32m    988\u001b[0m             \u001b[0;32mif\u001b[0m \u001b[0;32mnot\u001b[0m \u001b[0mcloud\u001b[0m\u001b[0;34m.\u001b[0m\u001b[0mget\u001b[0m\u001b[0;34m(\u001b[0m\u001b[0;34m'link_to_mom_file'\u001b[0m\u001b[0;34m)\u001b[0m\u001b[0;34m:\u001b[0m\u001b[0;34m\u001b[0m\u001b[0m\n\u001b[1;32m    989\u001b[0m                 write_cloud_file_moments(cloud['file_name'],cloud['tau'],cloud['ref'],cloud['zbot'],cloud['ztop'],\n\u001b[0;32m--> 990\u001b[0;31m                                          verbose=verbose,moms_dict=cloud.get('moms_dict'),wvl_range=source['wvl_range'])\n\u001b[0m\u001b[1;32m    991\u001b[0m             \u001b[0;32mif\u001b[0m \u001b[0mcloud\u001b[0m\u001b[0;34m[\u001b[0m\u001b[0;34m'cloud_below'\u001b[0m\u001b[0;34m]\u001b[0m\u001b[0;34m:\u001b[0m\u001b[0;34m\u001b[0m\u001b[0m\n\u001b[1;32m    992\u001b[0m                 \u001b[0;32mif\u001b[0m \u001b[0;32mnot\u001b[0m \u001b[0mcloud\u001b[0m\u001b[0;34m.\u001b[0m\u001b[0mget\u001b[0m\u001b[0;34m(\u001b[0m\u001b[0;34m'link_to_mom_file'\u001b[0m\u001b[0;34m)\u001b[0m\u001b[0;34m:\u001b[0m\u001b[0;34m\u001b[0m\u001b[0m\n",
      "\u001b[0;32m/home/sam/python_codes/Run_libradtran.pyc\u001b[0m in \u001b[0;36mwrite_cloud_file_moments\u001b[0;34m(output_file, tau, ref, zbot, ztop, moms_dict, verbose, append_directly_below, wvl_range)\u001b[0m\n\u001b[1;32m    413\u001b[0m         \u001b[0moutput\u001b[0m\u001b[0;34m.\u001b[0m\u001b[0mwrite\u001b[0m\u001b[0;34m(\u001b[0m\u001b[0;34m'%4.4f\\t%s\\n'\u001b[0m \u001b[0;34m%\u001b[0m \u001b[0;34m(\u001b[0m\u001b[0mzbot\u001b[0m\u001b[0;34m,\u001b[0m\u001b[0mfile_cloud\u001b[0m\u001b[0;34m)\u001b[0m\u001b[0;34m)\u001b[0m\u001b[0;34m\u001b[0m\u001b[0m\n\u001b[1;32m    414\u001b[0m \u001b[0;34m\u001b[0m\u001b[0m\n\u001b[0;32m--> 415\u001b[0;31m     \u001b[0mwrite_cloud_file_moments_wvl\u001b[0m\u001b[0;34m(\u001b[0m\u001b[0mfile_cloud\u001b[0m\u001b[0;34m,\u001b[0m\u001b[0mwvl\u001b[0m\u001b[0;34m,\u001b[0m\u001b[0mext\u001b[0m\u001b[0;34m,\u001b[0m\u001b[0mssa\u001b[0m\u001b[0;34m,\u001b[0m\u001b[0mmoments\u001b[0m\u001b[0;34m,\u001b[0m\u001b[0mnmom\u001b[0m\u001b[0;34m,\u001b[0m\u001b[0mverbose\u001b[0m\u001b[0;34m=\u001b[0m\u001b[0mverbose\u001b[0m\u001b[0;34m,\u001b[0m\u001b[0mwvl_range\u001b[0m\u001b[0;34m=\u001b[0m\u001b[0mwvl_range\u001b[0m\u001b[0;34m)\u001b[0m\u001b[0;34m\u001b[0m\u001b[0m\n\u001b[0m\u001b[1;32m    416\u001b[0m \u001b[0;34m\u001b[0m\u001b[0m\n\u001b[1;32m    417\u001b[0m     \u001b[0moutput\u001b[0m\u001b[0;34m.\u001b[0m\u001b[0mclose\u001b[0m\u001b[0;34m(\u001b[0m\u001b[0;34m)\u001b[0m\u001b[0;34m\u001b[0m\u001b[0m\n",
      "\u001b[0;32m/home/sam/python_codes/Run_libradtran.pyc\u001b[0m in \u001b[0;36mwrite_cloud_file_moments_wvl\u001b[0;34m(output_file, wvl, ext, ssa, moments, nmom, verbose, wvl_range)\u001b[0m\n\u001b[1;32m    483\u001b[0m         \u001b[0;32mprint\u001b[0m\u001b[0;34m(\u001b[0m\u001b[0;34m'..printing to cloud moments properties wavelength defined file: %s'\u001b[0m \u001b[0;34m%\u001b[0m \u001b[0moutput_file\u001b[0m\u001b[0;34m)\u001b[0m\u001b[0;34m\u001b[0m\u001b[0m\n\u001b[1;32m    484\u001b[0m     \u001b[0moutput\u001b[0m\u001b[0;34m.\u001b[0m\u001b[0mwrite\u001b[0m\u001b[0;34m(\u001b[0m\u001b[0;34m'# wvl[nm]    ext[km^-1]   ssa[unitless]  legendre_moments\\n'\u001b[0m\u001b[0;34m)\u001b[0m\u001b[0;34m\u001b[0m\u001b[0m\n\u001b[0;32m--> 485\u001b[0;31m     \u001b[0;32mfor\u001b[0m \u001b[0miw\u001b[0m\u001b[0;34m,\u001b[0m\u001b[0mwv\u001b[0m \u001b[0;32min\u001b[0m \u001b[0menumerate\u001b[0m\u001b[0;34m(\u001b[0m\u001b[0mwvl\u001b[0m\u001b[0;34m)\u001b[0m\u001b[0;34m:\u001b[0m\u001b[0;34m\u001b[0m\u001b[0m\n\u001b[0m\u001b[1;32m    486\u001b[0m         \u001b[0;32mif\u001b[0m \u001b[0;34m(\u001b[0m\u001b[0mwv\u001b[0m\u001b[0;34m<\u001b[0m\u001b[0mwvl_range\u001b[0m\u001b[0;34m[\u001b[0m\u001b[0;36m0\u001b[0m\u001b[0;34m]\u001b[0m\u001b[0;34m-\u001b[0m\u001b[0;36m10.0\u001b[0m \u001b[0;32mor\u001b[0m \u001b[0mwv\u001b[0m\u001b[0;34m>\u001b[0m\u001b[0mwvl_range\u001b[0m\u001b[0;34m[\u001b[0m\u001b[0;36m1\u001b[0m\u001b[0;34m]\u001b[0m\u001b[0;34m+\u001b[0m\u001b[0;36m10.0\u001b[0m\u001b[0;34m)\u001b[0m \u001b[0;32mand\u001b[0m \u001b[0mwvl_range\u001b[0m\u001b[0;34m[\u001b[0m\u001b[0;36m1\u001b[0m\u001b[0;34m]\u001b[0m\u001b[0;34m<\u001b[0m\u001b[0;36m10000.0\u001b[0m\u001b[0;34m:\u001b[0m\u001b[0;34m\u001b[0m\u001b[0m\n\u001b[1;32m    487\u001b[0m             \u001b[0;32mcontinue\u001b[0m\u001b[0;34m\u001b[0m\u001b[0m\n",
      "\u001b[0;32m/home/sam/python_codes/Run_libradtran.pyc\u001b[0m in \u001b[0;36mwrite_cloud_file_moments_wvl\u001b[0;34m(output_file, wvl, ext, ssa, moments, nmom, verbose, wvl_range)\u001b[0m\n\u001b[1;32m    483\u001b[0m         \u001b[0;32mprint\u001b[0m\u001b[0;34m(\u001b[0m\u001b[0;34m'..printing to cloud moments properties wavelength defined file: %s'\u001b[0m \u001b[0;34m%\u001b[0m \u001b[0moutput_file\u001b[0m\u001b[0;34m)\u001b[0m\u001b[0;34m\u001b[0m\u001b[0m\n\u001b[1;32m    484\u001b[0m     \u001b[0moutput\u001b[0m\u001b[0;34m.\u001b[0m\u001b[0mwrite\u001b[0m\u001b[0;34m(\u001b[0m\u001b[0;34m'# wvl[nm]    ext[km^-1]   ssa[unitless]  legendre_moments\\n'\u001b[0m\u001b[0;34m)\u001b[0m\u001b[0;34m\u001b[0m\u001b[0m\n\u001b[0;32m--> 485\u001b[0;31m     \u001b[0;32mfor\u001b[0m \u001b[0miw\u001b[0m\u001b[0;34m,\u001b[0m\u001b[0mwv\u001b[0m \u001b[0;32min\u001b[0m \u001b[0menumerate\u001b[0m\u001b[0;34m(\u001b[0m\u001b[0mwvl\u001b[0m\u001b[0;34m)\u001b[0m\u001b[0;34m:\u001b[0m\u001b[0;34m\u001b[0m\u001b[0m\n\u001b[0m\u001b[1;32m    486\u001b[0m         \u001b[0;32mif\u001b[0m \u001b[0;34m(\u001b[0m\u001b[0mwv\u001b[0m\u001b[0;34m<\u001b[0m\u001b[0mwvl_range\u001b[0m\u001b[0;34m[\u001b[0m\u001b[0;36m0\u001b[0m\u001b[0;34m]\u001b[0m\u001b[0;34m-\u001b[0m\u001b[0;36m10.0\u001b[0m \u001b[0;32mor\u001b[0m \u001b[0mwv\u001b[0m\u001b[0;34m>\u001b[0m\u001b[0mwvl_range\u001b[0m\u001b[0;34m[\u001b[0m\u001b[0;36m1\u001b[0m\u001b[0;34m]\u001b[0m\u001b[0;34m+\u001b[0m\u001b[0;36m10.0\u001b[0m\u001b[0;34m)\u001b[0m \u001b[0;32mand\u001b[0m \u001b[0mwvl_range\u001b[0m\u001b[0;34m[\u001b[0m\u001b[0;36m1\u001b[0m\u001b[0;34m]\u001b[0m\u001b[0;34m<\u001b[0m\u001b[0;36m10000.0\u001b[0m\u001b[0;34m:\u001b[0m\u001b[0;34m\u001b[0m\u001b[0m\n\u001b[1;32m    487\u001b[0m             \u001b[0;32mcontinue\u001b[0m\u001b[0;34m\u001b[0m\u001b[0m\n",
      "\u001b[0;32m/usr/lib/python2.7/bdb.pyc\u001b[0m in \u001b[0;36mtrace_dispatch\u001b[0;34m(self, frame, event, arg)\u001b[0m\n\u001b[1;32m     47\u001b[0m             \u001b[0;32mreturn\u001b[0m \u001b[0;31m# None\u001b[0m\u001b[0;34m\u001b[0m\u001b[0m\n\u001b[1;32m     48\u001b[0m         \u001b[0;32mif\u001b[0m \u001b[0mevent\u001b[0m \u001b[0;34m==\u001b[0m \u001b[0;34m'line'\u001b[0m\u001b[0;34m:\u001b[0m\u001b[0;34m\u001b[0m\u001b[0m\n\u001b[0;32m---> 49\u001b[0;31m             \u001b[0;32mreturn\u001b[0m \u001b[0mself\u001b[0m\u001b[0;34m.\u001b[0m\u001b[0mdispatch_line\u001b[0m\u001b[0;34m(\u001b[0m\u001b[0mframe\u001b[0m\u001b[0;34m)\u001b[0m\u001b[0;34m\u001b[0m\u001b[0m\n\u001b[0m\u001b[1;32m     50\u001b[0m         \u001b[0;32mif\u001b[0m \u001b[0mevent\u001b[0m \u001b[0;34m==\u001b[0m \u001b[0;34m'call'\u001b[0m\u001b[0;34m:\u001b[0m\u001b[0;34m\u001b[0m\u001b[0m\n\u001b[1;32m     51\u001b[0m             \u001b[0;32mreturn\u001b[0m \u001b[0mself\u001b[0m\u001b[0;34m.\u001b[0m\u001b[0mdispatch_call\u001b[0m\u001b[0;34m(\u001b[0m\u001b[0mframe\u001b[0m\u001b[0;34m,\u001b[0m \u001b[0marg\u001b[0m\u001b[0;34m)\u001b[0m\u001b[0;34m\u001b[0m\u001b[0m\n",
      "\u001b[0;32m/usr/lib/python2.7/bdb.pyc\u001b[0m in \u001b[0;36mdispatch_line\u001b[0;34m(self, frame)\u001b[0m\n\u001b[1;32m     66\u001b[0m         \u001b[0;32mif\u001b[0m \u001b[0mself\u001b[0m\u001b[0;34m.\u001b[0m\u001b[0mstop_here\u001b[0m\u001b[0;34m(\u001b[0m\u001b[0mframe\u001b[0m\u001b[0;34m)\u001b[0m \u001b[0;32mor\u001b[0m \u001b[0mself\u001b[0m\u001b[0;34m.\u001b[0m\u001b[0mbreak_here\u001b[0m\u001b[0;34m(\u001b[0m\u001b[0mframe\u001b[0m\u001b[0;34m)\u001b[0m\u001b[0;34m:\u001b[0m\u001b[0;34m\u001b[0m\u001b[0m\n\u001b[1;32m     67\u001b[0m             \u001b[0mself\u001b[0m\u001b[0;34m.\u001b[0m\u001b[0muser_line\u001b[0m\u001b[0;34m(\u001b[0m\u001b[0mframe\u001b[0m\u001b[0;34m)\u001b[0m\u001b[0;34m\u001b[0m\u001b[0m\n\u001b[0;32m---> 68\u001b[0;31m             \u001b[0;32mif\u001b[0m \u001b[0mself\u001b[0m\u001b[0;34m.\u001b[0m\u001b[0mquitting\u001b[0m\u001b[0;34m:\u001b[0m \u001b[0;32mraise\u001b[0m \u001b[0mBdbQuit\u001b[0m\u001b[0;34m\u001b[0m\u001b[0m\n\u001b[0m\u001b[1;32m     69\u001b[0m         \u001b[0;32mreturn\u001b[0m \u001b[0mself\u001b[0m\u001b[0;34m.\u001b[0m\u001b[0mtrace_dispatch\u001b[0m\u001b[0;34m\u001b[0m\u001b[0m\n\u001b[1;32m     70\u001b[0m \u001b[0;34m\u001b[0m\u001b[0m\n",
      "\u001b[0;31mBdbQuit\u001b[0m: "
     ]
    }
   ],
   "source": [
    "if isjupyter():\n",
    "    pbar = tqdm(total=len(ar['Start_UTC'][fla]))\n",
    "for i,u in enumerate(ar['Start_UTC'][fla]):\n",
    "    \n",
    "    f_in = '{name}_{vv}_DARE_{i:03d}_withaero.dat'.format(name=name,vv=vv,i=i)\n",
    "\n",
    "    geo['lat'],geo['lon'],geo['sza'] = ar['Latitude'][fla][i],ar['Longitude'][fla][i],sza[fla][i]\n",
    "    day = days[ar['days'][fla][i].astype(int)]\n",
    "    geo['doy'] = datetime(int(day[0:4]),int(day[4:6]),int(day[6:])).timetuple().tm_yday\n",
    "\n",
    "    cloud['tau'],cloud['ref'] = cod[flb][i],ref[flb][i]\n",
    "    cloud['write_moments_file'] = True\n",
    "\n",
    "    iae = np.argmin(abs(ar['time_ae'][fla][i]-ae['time']/3600.0))\n",
    "\n",
    "    # Only run for aerosol rertievals within 1 hour\n",
    "    if abs(ar['time_ae'][fla][i]-ae['time']/3600.0)[iae]<1.0: \n",
    "\n",
    "        aero['ext'] = fx_ext(ar['AOD_polycoef_a0'][fla][i],ar['AOD_polycoef_a1'][fla][i],ar['AOD_polycoef_a2'][fla][i])\n",
    "        aero['ssa'] = fx_aero(ae['SSA'][iae])\n",
    "        aero['asy'] = fx_aero(ae['g_total'][iae])\n",
    "\n",
    "        Rl.write_input_aac(fpp_in+f_in,geo=geo,aero=aero,cloud=cloud,source=source,albedo=albedo,\n",
    "                                   verbose=False,make_base=False,set_quiet=True)\n",
    "        f.write('{uv} < {fin} > {out}\\n'.format(uv=fp_uvspec,fin=fpp_in+f_in,out=fpp_out+f_in))\n",
    "\n",
    "        f_in = '{name}_{vv}_star_{i:03d}_noaero.dat'.format(name=name,vv=vv,i=i)\n",
    "        Rl.write_input_aac(fpp_in+f_in,geo=geo,aero=aero_no,cloud=cloud,source=source,albedo=albedo,\n",
    "                                   verbose=False,make_base=False,set_quiet=True)\n",
    "        f.write('{uv} < {fin} > {out}\\n'.format(uv=fp_uvspec,fin=fpp_in+f_in,out=fpp_out+f_in))\n",
    "\n",
    "    if isjupyter(): \n",
    "        pbar.update(1)\n",
    "    else:\n",
    "        print i\n",
    "\n",
    "f.close()"
   ]
  },
  {
   "cell_type": "markdown",
   "metadata": {},
   "source": [
    "### Multiprocessing"
   ]
  },
  {
   "cell_type": "code",
   "execution_count": 146,
   "metadata": {
    "ExecuteTime": {
     "end_time": "2020-11-18T23:23:26.538610Z",
     "start_time": "2020-11-18T23:23:26.533323Z"
    }
   },
   "outputs": [],
   "source": [
    "def worker_init(verbose=True):\n",
    "    # ignore the SIGINI in sub process, just print a log\n",
    "    def sig_int(signal_num, frame):\n",
    "        if verbose: \n",
    "            print 'signal: %s' % signal_num\n",
    "        raise IOError\n",
    "    signal.signal(signal.SIGINT, sig_int)"
   ]
  },
  {
   "cell_type": "code",
   "execution_count": 60,
   "metadata": {
    "ExecuteTime": {
     "end_time": "2020-11-22T22:06:52.263341Z",
     "start_time": "2020-11-22T22:06:52.207884Z"
    }
   },
   "outputs": [],
   "source": [
    "# open the list file\n",
    "f = open(fp_rtm+'{}_DARE_{}.sh'.format(name,vv),'w')\n",
    "fpp_in = fp_rtm+'input/{}_DARE_{}/'.format(name,vv)\n",
    "fpp_out = fp_rtm+'output/{}_DARE_{}/'.format(name,vv)"
   ]
  },
  {
   "cell_type": "code",
   "execution_count": 148,
   "metadata": {
    "ExecuteTime": {
     "end_time": "2020-11-18T23:23:28.178101Z",
     "start_time": "2020-11-18T23:23:28.172708Z"
    }
   },
   "outputs": [],
   "source": [
    "if not os.path.isdir(fpp_in):\n",
    "    os.mkdir(fpp_in)\n",
    "if not os.path.isdir(fpp_out):\n",
    "     os.mkdir(fpp_out)"
   ]
  },
  {
   "cell_type": "code",
   "execution_count": 149,
   "metadata": {
    "ExecuteTime": {
     "end_time": "2020-11-18T23:24:26.104208Z",
     "start_time": "2020-11-18T23:23:31.311338Z"
    }
   },
   "outputs": [
    {
     "data": {
      "application/vnd.jupyter.widget-view+json": {
       "model_id": "813144b888fd451e9ec9171e471c455c",
       "version_major": 2,
       "version_minor": 0
      },
      "text/plain": [
       "A Jupyter Widget"
      ]
     },
     "metadata": {},
     "output_type": "display_data"
    }
   ],
   "source": [
    "if isjupyter():\n",
    "    pbar = tqdm(total=len(ar['Start_UTC'][fla]))\n",
    "bb = []\n",
    "for i,u in enumerate(ar['Start_UTC'][fla]):\n",
    "    \n",
    "    f_in = '{name}_{vv}_DARE_{i:03d}_withaero.dat'.format(name=name,vv=vv,i=i)\n",
    "\n",
    "    geo['lat'],geo['lon'],geo['sza'] = ar['Latitude'][fla][i],ar['Longitude'][fla][i],sza[fla][i]\n",
    "    day = days[ar['days'][fla][i].astype(int)]\n",
    "    geo['doy'] = datetime(int(day[0:4]),int(day[4:6]),int(day[6:])).timetuple().tm_yday\n",
    "\n",
    "    if ~np.isfinite(cod[flb][i]):\n",
    "        if isjupyter():\n",
    "            pbar.update(1)\n",
    "        continue\n",
    "    cloud['tau'],cloud['ref'] = cod[flb][i],ref[flb][i]\n",
    "    cloud['write_moments_file'] = True\n",
    "\n",
    "    iae = np.argmin(abs(ar['time_ae'][fla][i]-ae['time']/3600.0))\n",
    "\n",
    "    # Only run for aerosol rertievals within 1 hour\n",
    "    if abs(ar['time_ae'][fla][i]-ae['time']/3600.0)[iae]<1.0: \n",
    "\n",
    "        aero['ext'] = fx_ext(ar['AOD_polycoef_a0'][fla][i],ar['AOD_polycoef_a1'][fla][i],ar['AOD_polycoef_a2'][fla][i])\n",
    "        aero['ssa'] = fx_aero(ae['SSA'][iae])\n",
    "        aero['asy'] = fx_aero(ae['g_total'][iae])\n",
    "\n",
    "        #Rl.write_input_aac(fpp_in+f_in,geo=geo,aero=aero,cloud=cloud,source=source,albedo=albedo,\n",
    "        #                           verbose=False,make_base=False,set_quiet=True)\n",
    "        f.write('{uv} < {fin} > {out}\\n'.format(uv=fp_uvspec,fin=fpp_in+f_in,out=fpp_out+f_in))\n",
    "\n",
    "        f_in_noa = '{name}_{vv}_star_{i:03d}_noaero.dat'.format(name=name,vv=vv,i=i)\n",
    "        #Rl.write_input_aac(fpp_in+f_in,geo=geo,aero=aero_no,cloud=cloud,source=source,albedo=albedo,\n",
    "        #                           verbose=False,make_base=False,set_quiet=True)\n",
    "        f.write('{uv} < {fin} > {out}\\n'.format(uv=fp_uvspec,fin=fpp_in+f_in_noa,out=fpp_out+f_in_noa))\n",
    "        \n",
    "        bb.append({'geo':deepcopy(geo),'cod':cod[flb][i],'ref':ref[flb][i],'aero':deepcopy(aero),\n",
    "                   'f_in':deepcopy(f_in),'f_in_noa':deepcopy(f_in_noa)})\n",
    "\n",
    "    if isjupyter(): \n",
    "        pbar.update(1)\n",
    "    else:\n",
    "        print i\n",
    "\n",
    "f.close()"
   ]
  },
  {
   "cell_type": "code",
   "execution_count": 150,
   "metadata": {
    "ExecuteTime": {
     "end_time": "2020-11-18T23:24:38.182271Z",
     "start_time": "2020-11-18T23:24:38.170629Z"
    }
   },
   "outputs": [],
   "source": [
    "def write_files(d,cloud=cloud,source=source,albedo=albedo,aero_no=aero_no):\n",
    "    'function to feed the pool of workers to write out the all the files'\n",
    "    cloud['tau'],cloud['ref'] = d['cod'],d['ref']\n",
    "    Rl.write_input_aac(fpp_in+d['f_in'],geo=d['geo'],aero=d['aero'],cloud=cloud,source=source,albedo=albedo,\n",
    "                                   verbose=False,make_base=False,set_quiet=True)\n",
    "    Rl.write_input_aac(fpp_in+d['f_in_noa'],geo=d['geo'],aero=aero_no,cloud=cloud,source=source,albedo=albedo,\n",
    "                                   verbose=False,make_base=False,set_quiet=True)"
   ]
  },
  {
   "cell_type": "code",
   "execution_count": 151,
   "metadata": {
    "ExecuteTime": {
     "end_time": "2020-11-18T23:24:41.975964Z",
     "start_time": "2020-11-18T23:24:38.798458Z"
    }
   },
   "outputs": [
    {
     "name": "stdout",
     "output_type": "stream",
     "text": [
      "signal: 2\n",
      "signal: 2\n",
      "signal: 2\n",
      "signal: 2\n",
      "signal: 2\n",
      "signal: 2\n",
      "signal: 2\n",
      "signal: 2\n",
      "signal: 2\n",
      "signal: 2\n",
      "signal: 2\n",
      "signal: 2\n",
      "signal: 2\n",
      "signal: 2\n",
      "signal: 2\n",
      "signal: 2\n",
      "signal: 2\n",
      "signal: 2\n",
      "signal: 2\n",
      "signal: 2\n",
      "signal: 2\n",
      "signal: 2\n",
      "signal: 2\n",
      "signal: 2"
     ]
    },
    {
     "name": "stderr",
     "output_type": "stream",
     "text": [
      "Process PoolWorker-127:\n",
      "Process PoolWorker-137:\n",
      "Process PoolWorker-132:\n",
      "Process PoolWorker-139:\n",
      "Process PoolWorker-126:\n",
      "Process PoolWorker-121:\n",
      "Process PoolWorker-120:\n",
      "Process PoolWorker-130:\n",
      "Process PoolWorker-128:\n",
      "Process PoolWorker-131:\n",
      "Process PoolWorker-122:\n",
      "Process PoolWorker-124:\n",
      "Process PoolWorker-129:\n",
      "Process PoolWorker-136:\n",
      "Process PoolWorker-140:\n",
      "Process PoolWorker-133:\n",
      "Process PoolWorker-134:\n",
      "Process PoolWorker-138:\n",
      "Traceback (most recent call last):\n",
      "Traceback (most recent call last):\n",
      "Traceback (most recent call last):\n",
      "Traceback (most recent call last):\n",
      "Traceback (most recent call last):\n",
      "Traceback (most recent call last):\n",
      "Traceback (most recent call last):\n",
      "Traceback (most recent call last):\n",
      "Traceback (most recent call last):\n",
      "Traceback (most recent call last):\n",
      "Traceback (most recent call last):\n",
      "Traceback (most recent call last):\n",
      "Traceback (most recent call last):\n",
      "Traceback (most recent call last):\n",
      "Traceback (most recent call last):\n",
      "Traceback (most recent call last):\n",
      "Traceback (most recent call last):\n",
      "Traceback (most recent call last):\n",
      "  File \"/usr/lib/python2.7/multiprocessing/process.py\", line 267, in _bootstrap\n",
      "  File \"/usr/lib/python2.7/multiprocessing/process.py\", line 267, in _bootstrap\n",
      "  File \"/usr/lib/python2.7/multiprocessing/process.py\", line 267, in _bootstrap\n",
      "  File \"/usr/lib/python2.7/multiprocessing/process.py\", line 267, in _bootstrap\n",
      "  File \"/usr/lib/python2.7/multiprocessing/process.py\", line 267, in _bootstrap\n",
      "  File \"/usr/lib/python2.7/multiprocessing/process.py\", line 267, in _bootstrap\n",
      "  File \"/usr/lib/python2.7/multiprocessing/process.py\", line 267, in _bootstrap\n",
      "  File \"/usr/lib/python2.7/multiprocessing/process.py\", line 267, in _bootstrap\n",
      "  File \"/usr/lib/python2.7/multiprocessing/process.py\", line 267, in _bootstrap\n",
      "  File \"/usr/lib/python2.7/multiprocessing/process.py\", line 267, in _bootstrap\n",
      "  File \"/usr/lib/python2.7/multiprocessing/process.py\", line 267, in _bootstrap\n",
      "  File \"/usr/lib/python2.7/multiprocessing/process.py\", line 267, in _bootstrap\n",
      "  File \"/usr/lib/python2.7/multiprocessing/process.py\", line 267, in _bootstrap\n",
      "  File \"/usr/lib/python2.7/multiprocessing/process.py\", line 267, in _bootstrap\n",
      "  File \"/usr/lib/python2.7/multiprocessing/process.py\", line 267, in _bootstrap\n",
      "  File \"/usr/lib/python2.7/multiprocessing/process.py\", line 267, in _bootstrap\n",
      "  File \"/usr/lib/python2.7/multiprocessing/process.py\", line 267, in _bootstrap\n",
      "  File \"/usr/lib/python2.7/multiprocessing/process.py\", line 267, in _bootstrap\n",
      "    self.run()\n",
      "    self.run()\n",
      "    self.run()\n",
      "    self.run()\n",
      "    self.run()\n",
      "    self.run()\n",
      "    self.run()\n",
      "    self.run()\n",
      "    self.run()\n",
      "    self.run()\n",
      "    self.run()\n",
      "    self.run()\n",
      "    self.run()\n",
      "    self.run()\n",
      "    self.run()\n",
      "    self.run()\n",
      "    self.run()\n",
      "  File \"/usr/lib/python2.7/multiprocessing/process.py\", line 114, in run\n",
      "  File \"/usr/lib/python2.7/multiprocessing/process.py\", line 114, in run\n",
      "  File \"/usr/lib/python2.7/multiprocessing/process.py\", line 114, in run\n",
      "  File \"/usr/lib/python2.7/multiprocessing/process.py\", line 114, in run\n",
      "  File \"/usr/lib/python2.7/multiprocessing/process.py\", line 114, in run\n",
      "  File \"/usr/lib/python2.7/multiprocessing/process.py\", line 114, in run\n",
      "Process PoolWorker-141:\n",
      "Process PoolWorker-123:\n",
      "  File \"/usr/lib/python2.7/multiprocessing/process.py\", line 114, in run\n",
      "  File \"/usr/lib/python2.7/multiprocessing/process.py\", line 114, in run\n",
      "    self.run()\n",
      "  File \"/usr/lib/python2.7/multiprocessing/process.py\", line 114, in run\n",
      "  File \"/usr/lib/python2.7/multiprocessing/process.py\", line 114, in run\n",
      "  File \"/usr/lib/python2.7/multiprocessing/process.py\", line 114, in run\n",
      "  File \"/usr/lib/python2.7/multiprocessing/process.py\", line 114, in run\n",
      "  File \"/usr/lib/python2.7/multiprocessing/process.py\", line 114, in run\n",
      "  File \"/usr/lib/python2.7/multiprocessing/process.py\", line 114, in run\n",
      "    self._target(*self._args, **self._kwargs)\n",
      "  File \"/usr/lib/python2.7/multiprocessing/process.py\", line 114, in run\n",
      "  File \"/usr/lib/python2.7/multiprocessing/process.py\", line 114, in run\n",
      "    self._target(*self._args, **self._kwargs)\n",
      "    self._target(*self._args, **self._kwargs)\n",
      "  File \"/usr/lib/python2.7/multiprocessing/process.py\", line 114, in run\n",
      "    self._target(*self._args, **self._kwargs)\n",
      "Traceback (most recent call last):\n",
      "    self._target(*self._args, **self._kwargs)\n",
      "Traceback (most recent call last):\n",
      "    self._target(*self._args, **self._kwargs)\n",
      "    self._target(*self._args, **self._kwargs)\n",
      "    self._target(*self._args, **self._kwargs)\n",
      "    self._target(*self._args, **self._kwargs)\n",
      "  File \"/usr/lib/python2.7/multiprocessing/process.py\", line 114, in run\n",
      "    self._target(*self._args, **self._kwargs)\n",
      "    self._target(*self._args, **self._kwargs)\n",
      "    self._target(*self._args, **self._kwargs)\n",
      "    self._target(*self._args, **self._kwargs)\n",
      "    self._target(*self._args, **self._kwargs)\n",
      "  File \"/usr/lib/python2.7/multiprocessing/pool.py\", line 102, in worker\n",
      "    self._target(*self._args, **self._kwargs)\n",
      "    self._target(*self._args, **self._kwargs)\n",
      "  File \"/usr/lib/python2.7/multiprocessing/pool.py\", line 102, in worker\n",
      "  File \"/usr/lib/python2.7/multiprocessing/pool.py\", line 102, in worker\n",
      "  File \"/usr/lib/python2.7/multiprocessing/process.py\", line 267, in _bootstrap\n",
      "  File \"/usr/lib/python2.7/multiprocessing/pool.py\", line 102, in worker\n",
      "  File \"/usr/lib/python2.7/multiprocessing/pool.py\", line 102, in worker\n",
      "    self._target(*self._args, **self._kwargs)\n",
      "  File \"/usr/lib/python2.7/multiprocessing/pool.py\", line 102, in worker\n",
      "  File \"/usr/lib/python2.7/multiprocessing/pool.py\", line 102, in worker\n",
      "  File \"/usr/lib/python2.7/multiprocessing/process.py\", line 267, in _bootstrap\n",
      "  File \"/usr/lib/python2.7/multiprocessing/pool.py\", line 102, in worker\n",
      "  File \"/usr/lib/python2.7/multiprocessing/pool.py\", line 102, in worker\n",
      "    self._target(*self._args, **self._kwargs)\n",
      "  File \"/usr/lib/python2.7/multiprocessing/pool.py\", line 102, in worker\n",
      "  File \"/usr/lib/python2.7/multiprocessing/pool.py\", line 102, in worker\n",
      "  File \"/usr/lib/python2.7/multiprocessing/pool.py\", line 102, in worker\n",
      "  File \"/usr/lib/python2.7/multiprocessing/pool.py\", line 102, in worker\n",
      "    task = get()\n",
      "    task = get()\n",
      "    self.run()\n",
      "    task = get()\n",
      "    task = get()\n",
      "  File \"/usr/lib/python2.7/multiprocessing/pool.py\", line 102, in worker\n",
      "    self.run()\n",
      "  File \"/usr/lib/python2.7/multiprocessing/pool.py\", line 102, in worker\n",
      "  File \"/usr/lib/python2.7/multiprocessing/pool.py\", line 102, in worker\n",
      "    task = get()\n",
      "    task = get()\n",
      "  File \"/usr/lib/python2.7/multiprocessing/pool.py\", line 102, in worker\n",
      "    task = get()\n",
      "    task = get()\n",
      "    task = get()\n",
      "    task = get()\n",
      "  File \"/usr/lib/python2.7/multiprocessing/pool.py\", line 102, in worker\n",
      "  File \"/usr/lib/python2.7/multiprocessing/queues.py\", line 378, in get\n",
      "  File \"/usr/lib/python2.7/multiprocessing/queues.py\", line 378, in get\n",
      "    task = get()\n",
      "    task = get()\n",
      "  File \"/usr/lib/python2.7/multiprocessing/queues.py\", line 378, in get\n",
      "    task = get()\n",
      "  File \"/usr/lib/python2.7/multiprocessing/queues.py\", line 378, in get\n",
      "    task = get()\n",
      "  File \"/usr/lib/python2.7/multiprocessing/queues.py\", line 378, in get\n",
      "    task = get()\n",
      "    task = get()\n",
      "    task = get()\n",
      "  File \"/usr/lib/python2.7/multiprocessing/queues.py\", line 378, in get\n",
      "  File \"/usr/lib/python2.7/multiprocessing/process.py\", line 114, in run\n",
      "  File \"/usr/lib/python2.7/multiprocessing/process.py\", line 114, in run\n",
      "  File \"/usr/lib/python2.7/multiprocessing/queues.py\", line 378, in get\n",
      "  File \"/usr/lib/python2.7/multiprocessing/queues.py\", line 378, in get\n",
      "  File \"/usr/lib/python2.7/multiprocessing/queues.py\", line 378, in get\n",
      "  File \"/usr/lib/python2.7/multiprocessing/queues.py\", line 378, in get\n",
      "    rrelease()\n",
      "    rrelease()\n",
      "    task = get()\n",
      "  File \"/usr/lib/python2.7/multiprocessing/queues.py\", line 378, in get\n",
      "  File \"/usr/lib/python2.7/multiprocessing/queues.py\", line 378, in get\n",
      "    rrelease()\n",
      "  File \"/usr/lib/python2.7/multiprocessing/queues.py\", line 378, in get\n",
      "    rrelease()\n",
      "  File \"/usr/lib/python2.7/multiprocessing/queues.py\", line 378, in get\n",
      "    rrelease()\n",
      "  File \"/usr/lib/python2.7/multiprocessing/queues.py\", line 378, in get\n",
      "    self._target(*self._args, **self._kwargs)\n",
      "  File \"/usr/lib/python2.7/multiprocessing/queues.py\", line 378, in get\n"
     ]
    },
    {
     "name": "stderr",
     "output_type": "stream",
     "text": [
      "    rrelease()\n",
      "    rrelease()\n",
      "ValueError: semaphore or lock released too many times\n",
      "    rrelease()\n",
      "    rrelease()\n",
      "  File \"/usr/lib/python2.7/multiprocessing/queues.py\", line 378, in get\n",
      "    self._target(*self._args, **self._kwargs)\n",
      "ValueError: semaphore or lock released too many times\n",
      "ValueError: semaphore or lock released too many times\n",
      "    rrelease()\n",
      "    rrelease()\n",
      "  File \"/usr/lib/python2.7/multiprocessing/queues.py\", line 378, in get\n",
      "    rrelease()\n",
      "ValueError: semaphore or lock released too many times\n",
      "    rrelease()\n",
      "    rrelease()\n",
      "ValueError: semaphore or lock released too many times\n",
      "    rrelease()\n",
      "  File \"/usr/lib/python2.7/multiprocessing/pool.py\", line 102, in worker\n",
      "    rrelease()\n",
      "ValueError: semaphore or lock released too many times\n",
      "ValueError: semaphore or lock released too many times\n"
     ]
    },
    {
     "name": "stdout",
     "output_type": "stream",
     "text": [
      "signal: 2"
     ]
    },
    {
     "name": "stderr",
     "output_type": "stream",
     "text": [
      "ValueError: semaphore or lock released too many times\n",
      "ValueError: semaphore or lock released too many times\n",
      "  File \"/usr/lib/python2.7/multiprocessing/pool.py\", line 102, in worker\n",
      "    rrelease()\n"
     ]
    },
    {
     "name": "stdout",
     "output_type": "stream",
     "text": [
      "signal: 2signal: 2"
     ]
    },
    {
     "name": "stderr",
     "output_type": "stream",
     "text": [
      "    rrelease()\n",
      "ValueError: semaphore or lock released too many times\n",
      "ValueError: semaphore or lock released too many times\n",
      "ValueError: semaphore or lock released too many times\n"
     ]
    },
    {
     "name": "stdout",
     "output_type": "stream",
     "text": [
      "signal: 2"
     ]
    },
    {
     "name": "stderr",
     "output_type": "stream",
     "text": [
      "ValueError: semaphore or lock released too many times\n",
      "ValueError: semaphore or lock released too many times\n",
      "ValueError: semaphore or lock released too many times\n"
     ]
    },
    {
     "name": "stdout",
     "output_type": "stream",
     "text": [
      "signal: 2"
     ]
    },
    {
     "name": "stderr",
     "output_type": "stream",
     "text": [
      "    task = get()\n",
      "ValueError: semaphore or lock released too many times\n"
     ]
    },
    {
     "name": "stdout",
     "output_type": "stream",
     "text": [
      "signal: 2signal: 2signal: 2signal: 2signal: 2"
     ]
    },
    {
     "name": "stderr",
     "output_type": "stream",
     "text": [
      "  File \"/usr/lib/python2.7/multiprocessing/queues.py\", line 378, in get\n"
     ]
    },
    {
     "name": "stdout",
     "output_type": "stream",
     "text": [
      "signal: 2"
     ]
    },
    {
     "name": "stderr",
     "output_type": "stream",
     "text": [
      "ValueError: semaphore or lock released too many times\n",
      "    task = get()\n"
     ]
    },
    {
     "name": "stdout",
     "output_type": "stream",
     "text": [
      "signal: 2signal: 2signal: 2"
     ]
    },
    {
     "name": "stderr",
     "output_type": "stream",
     "text": [
      "ValueError: semaphore or lock released too many times\n"
     ]
    },
    {
     "name": "stdout",
     "output_type": "stream",
     "text": [
      "signal: 2signal: 2"
     ]
    },
    {
     "name": "stderr",
     "output_type": "stream",
     "text": [
      "Process PoolWorker-125:\n",
      "    rrelease()\n"
     ]
    },
    {
     "name": "stdout",
     "output_type": "stream",
     "text": [
      "signal: 2"
     ]
    },
    {
     "name": "stderr",
     "output_type": "stream",
     "text": [
      "  File \"/usr/lib/python2.7/multiprocessing/queues.py\", line 378, in get\n"
     ]
    },
    {
     "name": "stdout",
     "output_type": "stream",
     "text": [
      "signal: 2"
     ]
    },
    {
     "name": "stderr",
     "output_type": "stream",
     "text": [
      "Traceback (most recent call last):\n",
      "ValueError: semaphore or lock released too many times\n",
      "    rrelease()\n",
      "  File \"/usr/lib/python2.7/multiprocessing/process.py\", line 267, in _bootstrap\n"
     ]
    },
    {
     "name": "stdout",
     "output_type": "stream",
     "text": [
      "signal: 2"
     ]
    },
    {
     "name": "stderr",
     "output_type": "stream",
     "text": [
      "ValueError: semaphore or lock released too many times\n",
      "    self.run()\n"
     ]
    },
    {
     "name": "stdout",
     "output_type": "stream",
     "text": [
      "signal: 2"
     ]
    },
    {
     "name": "stderr",
     "output_type": "stream",
     "text": [
      "  File \"/usr/lib/python2.7/multiprocessing/process.py\", line 114, in run\n",
      "    self._target(*self._args, **self._kwargs)\n",
      "  File \"/usr/lib/python2.7/multiprocessing/pool.py\", line 102, in worker\n",
      "    task = get()\n",
      "  File \"/usr/lib/python2.7/multiprocessing/queues.py\", line 378, in get\n",
      "    rrelease()\n",
      "ValueError: semaphore or lock released too many times\n"
     ]
    },
    {
     "name": "stdout",
     "output_type": "stream",
     "text": [
      "signal: 2"
     ]
    }
   ],
   "source": [
    "p = Pool(cpu_count()-1,worker_init)"
   ]
  },
  {
   "cell_type": "code",
   "execution_count": 152,
   "metadata": {
    "ExecuteTime": {
     "end_time": "2020-11-18T23:24:42.799017Z",
     "start_time": "2020-11-18T23:24:42.787014Z"
    }
   },
   "outputs": [
    {
     "data": {
      "text/plain": [
       "13551"
      ]
     },
     "execution_count": 152,
     "metadata": {},
     "output_type": "execute_result"
    }
   ],
   "source": [
    "len(bb)"
   ]
  },
  {
   "cell_type": "code",
   "execution_count": 153,
   "metadata": {
    "ExecuteTime": {
     "end_time": "2020-11-18T23:25:37.484975Z",
     "start_time": "2020-11-18T23:24:43.591023Z"
    }
   },
   "outputs": [
    {
     "data": {
      "application/vnd.jupyter.widget-view+json": {
       "model_id": "53cb48b54edf493090744b7a3bf928d2",
       "version_major": 2,
       "version_minor": 0
      },
      "text/plain": [
       "A Jupyter Widget"
      ]
     },
     "metadata": {},
     "output_type": "display_data"
    },
    {
     "data": {
      "application/vnd.jupyter.widget-view+json": {
       "model_id": "7ab30a6a81b8434bbf517b295d90f457",
       "version_major": 2,
       "version_minor": 0
      },
      "text/plain": [
       "A Jupyter Widget"
      ]
     },
     "metadata": {},
     "output_type": "display_data"
    },
    {
     "name": "stdout",
     "output_type": "stream",
     "text": [
      "\n",
      "\n"
     ]
    }
   ],
   "source": [
    "results = []\n",
    "max_ = len(bb)\n",
    "with tqdm(total=max_) as pbar:\n",
    "    for i, res in tqdm(enumerate(p.imap_unordered(write_files, bb))):\n",
    "        pbar.update()\n",
    "        results.append(res)"
   ]
  },
  {
   "cell_type": "code",
   "execution_count": 257,
   "metadata": {
    "ExecuteTime": {
     "end_time": "2020-04-24T20:09:25.436590Z",
     "start_time": "2020-04-24T20:02:00.931390Z"
    }
   },
   "outputs": [],
   "source": [
    "results = p.map(write_files,bb)"
   ]
  },
  {
   "cell_type": "markdown",
   "metadata": {},
   "source": [
    "### Diurnal averaging with multiprocessing"
   ]
  },
  {
   "cell_type": "code",
   "execution_count": 106,
   "metadata": {
    "ExecuteTime": {
     "end_time": "2021-05-06T20:37:32.528666Z",
     "start_time": "2021-05-06T20:37:32.519742Z"
    }
   },
   "outputs": [
    {
     "name": "stdout",
     "output_type": "stream",
     "text": [
      "v5 v5_aodp\n"
     ]
    }
   ],
   "source": [
    "if vv=='v3':\n",
    "    vvh = 'v3_24h'\n",
    "    dssa = 0.0\n",
    "elif vv =='v4':\n",
    "    vvh = 'v4_24h'\n",
    "    dssa = 0.0\n",
    "elif vv == 'v5':\n",
    "    vvh = 'v5_aodp'\n",
    "print vv,vvh"
   ]
  },
  {
   "cell_type": "code",
   "execution_count": 107,
   "metadata": {
    "ExecuteTime": {
     "end_time": "2021-05-06T20:37:33.812830Z",
     "start_time": "2021-05-06T20:37:33.797710Z"
    }
   },
   "outputs": [
    {
     "data": {
      "text/plain": [
       "(0.03, 0.0, 0.0)"
      ]
     },
     "execution_count": 107,
     "metadata": {},
     "output_type": "execute_result"
    }
   ],
   "source": [
    "dssa = 0.0\n",
    "dasy = 0.0\n",
    "daod = 0.0\n",
    "\n",
    "\n",
    "if vvh == 'v5_ssam': dssa = -0.03\n",
    "elif vvh == 'v5_ssap': dssa = 0.03\n",
    "elif vvh == 'v5_asym': dasy = -0.03\n",
    "elif vvh == 'v5_asyp': dasy = 0.03\n",
    "elif vvh == 'v5_aodm': daod = -0.03\n",
    "elif vvh == 'v5_aodp': daod = 0.03\n",
    "daod,dssa,dasy"
   ]
  },
  {
   "cell_type": "code",
   "execution_count": 108,
   "metadata": {
    "ExecuteTime": {
     "end_time": "2021-05-06T20:37:35.169335Z",
     "start_time": "2021-05-06T20:37:35.164582Z"
    }
   },
   "outputs": [],
   "source": [
    "vvh = vvh+'_diurnal' # for the version with diurnal cycles from MODIS"
   ]
  },
  {
   "cell_type": "code",
   "execution_count": 109,
   "metadata": {
    "ExecuteTime": {
     "end_time": "2021-05-06T20:37:36.124249Z",
     "start_time": "2021-05-06T20:37:36.118583Z"
    }
   },
   "outputs": [
    {
     "name": "stdout",
     "output_type": "stream",
     "text": [
      "v5_aodp_diurnal\n"
     ]
    }
   ],
   "source": [
    "print vvh"
   ]
  },
  {
   "cell_type": "code",
   "execution_count": 110,
   "metadata": {
    "ExecuteTime": {
     "end_time": "2021-05-06T20:37:37.819194Z",
     "start_time": "2021-05-06T20:37:37.812176Z"
    }
   },
   "outputs": [],
   "source": [
    "def worker_init(verbose=True):\n",
    "    # ignore the SIGINI in sub process, just print a log\n",
    "    def sig_int(signal_num, frame):\n",
    "        if verbose: \n",
    "            print 'signal: %s' % signal_num\n",
    "        raise IOError\n",
    "    signal.signal(signal.SIGINT, sig_int)"
   ]
  },
  {
   "cell_type": "code",
   "execution_count": 111,
   "metadata": {
    "ExecuteTime": {
     "end_time": "2021-05-06T20:37:39.015346Z",
     "start_time": "2021-05-06T20:37:38.961281Z"
    }
   },
   "outputs": [],
   "source": [
    "# open the list file\n",
    "f = open(fp_rtm+'{}_DARE_{}.sh'.format(name,vvh),'w')\n",
    "fpp_in = fp_rtm+'input/{}_DARE_{}/'.format(name,vvh)\n",
    "fpp_out = fp_rtm+'output/{}_DARE_{}/'.format(name,vvh)"
   ]
  },
  {
   "cell_type": "code",
   "execution_count": 112,
   "metadata": {
    "ExecuteTime": {
     "end_time": "2021-05-06T20:37:39.856855Z",
     "start_time": "2021-05-06T20:37:39.827773Z"
    }
   },
   "outputs": [],
   "source": [
    "if not os.path.isdir(fpp_in):\n",
    "    os.mkdir(fpp_in)\n",
    "if not os.path.isdir(fpp_out):\n",
    "     os.mkdir(fpp_out)"
   ]
  },
  {
   "cell_type": "code",
   "execution_count": 113,
   "metadata": {
    "ExecuteTime": {
     "end_time": "2021-05-06T20:38:38.839672Z",
     "start_time": "2021-05-06T20:37:41.461199Z"
    }
   },
   "outputs": [
    {
     "data": {
      "application/vnd.jupyter.widget-view+json": {
       "model_id": "903bcfcf6ece46d897338decb5fa7c4b",
       "version_major": 2,
       "version_minor": 0
      },
      "text/plain": [
       "HBox(children=(IntProgress(value=0, max=27672), HTML(value=u'')))"
      ]
     },
     "metadata": {},
     "output_type": "display_data"
    }
   ],
   "source": [
    "if isjupyter():\n",
    "    pbar = tqdm(total=len(ar['Start_UTC'][fla]))\n",
    "bb = []\n",
    "ii = 0 \n",
    "for i,u in enumerate(ar['Start_UTC'][fla]):\n",
    "    \n",
    "    f_in = '{name}_{vv}_DARE_{i:03d}_withaero.dat'.format(name=name,vv=vvh,i=i)\n",
    "\n",
    "    geo['lat'],geo['lon'],geo['sza'] = ar['Latitude'][fla][i],ar['Longitude'][fla][i],sza[fla][i]\n",
    "    day = days[ar['days'][fla][i].astype(int)]\n",
    "    geo['doy'] = datetime(int(day[0:4]),int(day[4:6]),int(day[6:])).timetuple().tm_yday\n",
    "\n",
    "    if ~np.isfinite(cod[flb][i]):\n",
    "        if isjupyter():\n",
    "            pbar.update(1)\n",
    "        continue\n",
    "    cloud['tau'],cloud['ref'] = cod[flb][i],ref[flb][i]\n",
    "    cloud['write_moments_file'] = True\n",
    "\n",
    "    iae = np.argmin(abs(ar['time_ae'][fla][i]-ae['time']/3600.0))\n",
    "\n",
    "    # Only run for aerosol rertievals within 1 hour\n",
    "    if abs(ar['time_ae'][fla][i]-ae['time']/3600.0)[iae]<1.0: \n",
    "\n",
    "        aero['ext'] = fx_ext(ar['AOD_polycoef_a0'][fla][i],ar['AOD_polycoef_a1'][fla][i],ar['AOD_polycoef_a2'][fla][i])+daod\n",
    "        try: aero['ext'][aero['ext']<0.0] = 0.0\n",
    "        except: pass\n",
    "        aero['ssa'] = fx_aero(ae['SSA'][iae])+dssa\n",
    "        try: aero['ssa'][aero['ssa']>1.0] = 1.0\n",
    "        except: pass\n",
    "        try: aero['ssa'][aero['ssa']<0.0] = 0.0\n",
    "        except: pass\n",
    "        aero['asy'] = fx_aero(ae['g_total'][iae])+dasy\n",
    "        try: aero['asy'][aero['asy']>1.0] = 1.0\n",
    "        except: pass\n",
    "        try: aero['asy'][aero['asy']<0.0] = 0.0\n",
    "        except: pass\n",
    "\n",
    "        #Rl.write_input_aac(fpp_in+f_in,geo=geo,aero=aero,cloud=cloud,source=source,albedo=albedo,\n",
    "        #                           verbose=False,make_base=False,set_quiet=True)\n",
    "        f.write('{uv} < {fin} > {out}\\n'.format(uv=fp_uvspec,fin=fpp_in+f_in,out=fpp_out+f_in))\n",
    "\n",
    "        f_in_noa = '{name}_{vv}_star_{i:03d}_noaero.dat'.format(name=name,vv=vvh,i=i)\n",
    "        #Rl.write_input_aac(fpp_in+f_in,geo=geo,aero=aero_no,cloud=cloud,source=source,albedo=albedo,\n",
    "        #                           verbose=False,make_base=False,set_quiet=True)\n",
    "        f.write('{uv} < {fin} > {out}\\n'.format(uv=fp_uvspec,fin=fpp_in+f_in_noa,out=fpp_out+f_in_noa))\n",
    "        \n",
    "        bb.append({'geo':deepcopy(geo),'cod':cod[flb][i],'ref':ref[flb][i],'aero':deepcopy(aero),\n",
    "                   'f_in':deepcopy(f_in),'f_in_noa':deepcopy(f_in_noa),\n",
    "                   'A_cod':A_cod[ii],'B_cod':B_cod[ii],'A_ref':A_ref[ii],'B_ref':B_ref[ii],'UTC':ar['Start_UTC'][fla][i]})\n",
    "        ii = ii+1\n",
    "\n",
    "    if isjupyter(): \n",
    "        pbar.update(1)\n",
    "    else:\n",
    "        print i\n",
    "\n",
    "f.close()"
   ]
  },
  {
   "cell_type": "code",
   "execution_count": 114,
   "metadata": {
    "ExecuteTime": {
     "end_time": "2021-05-06T20:44:10.923017Z",
     "start_time": "2021-05-06T20:43:50.499035Z"
    }
   },
   "outputs": [
    {
     "data": {
      "application/vnd.jupyter.widget-view+json": {
       "model_id": "674382cee56341929ca986860505da48",
       "version_major": 2,
       "version_minor": 0
      },
      "text/plain": [
       "HBox(children=(IntProgress(value=0, max=27672), HTML(value=u'')))"
      ]
     },
     "metadata": {},
     "output_type": "display_data"
    }
   ],
   "source": [
    "# Go through and write out the list file for 24 h\n",
    "f = open(fp_rtm+'{}_DARE_{}.sh'.format(name,vvh),'w')\n",
    "if isjupyter():\n",
    "    pbar = tqdm(total=len(ar['Start_UTC'][fla]))\n",
    "errlog = fp_rtm+'{}_DARE_{}_error.log'.format(name,vvh)\n",
    "for i,u in enumerate(ar['Start_UTC'][fla]):\n",
    "    if ~np.isfinite(cod[flb][i]):\n",
    "        if isjupyter():\n",
    "            pbar.update(1)\n",
    "        continue\n",
    "    iae = np.argmin(abs(ar['time_ae'][fla][i]-ae['time']/3600.0))\n",
    "    if abs(ar['time_ae'][fla][i]-ae['time']/3600.0)[iae]<1.0: \n",
    "        for ux in np.arange(0,24,0.5):\n",
    "            f_in = '{name}_{vv}_DARE_{i:03d}_withaero_{ux:04.1f}.dat'.format(name=name,vv=vvh,i=i,ux=ux)\n",
    "            f_in_noa = '{name}_{vv}_star_{i:03d}_noaero_{ux:04.1f}.dat'.format(name=name,vv=vvh,i=i,ux=ux)\n",
    "            f.write('{uv} < {fin} > {out} 2>> {err}\\n'.format(uv=fp_uvspec,fin=fpp_in+f_in,out=fpp_out+f_in,err=errlog))\n",
    "            f.write('{uv} < {fin} > {out} 2>> {err}\\n'.format(uv=fp_uvspec,fin=fpp_in+f_in_noa,out=fpp_out+f_in_noa,err=errlog))\n",
    "    pbar.update(1)  \n",
    "f.close()"
   ]
  },
  {
   "cell_type": "code",
   "execution_count": 115,
   "metadata": {
    "ExecuteTime": {
     "end_time": "2021-05-06T20:54:14.831351Z",
     "start_time": "2021-05-06T20:54:14.820804Z"
    }
   },
   "outputs": [
    {
     "data": {
      "text/plain": [
       "u'/scratch/rtm/ORACLES_DARE_v5_aodp_diurnal.sh'"
      ]
     },
     "execution_count": 115,
     "metadata": {},
     "output_type": "execute_result"
    }
   ],
   "source": [
    "fp_rtm+'{}_DARE_{}.sh'.format(name,vvh)"
   ]
  },
  {
   "cell_type": "code",
   "execution_count": 116,
   "metadata": {
    "ExecuteTime": {
     "end_time": "2021-05-06T20:54:15.678184Z",
     "start_time": "2021-05-06T20:54:15.660353Z"
    }
   },
   "outputs": [],
   "source": [
    "def write_files(d,cloud=cloud,source=source,albedo=albedo,aero_no=aero_no):\n",
    "    'function to feed the pool of workers to write out the all the files'\n",
    "    cloud['tau'],cloud['ref'] = d['cod'],d['ref']\n",
    "    d['f_in'] = d['f_in'].replace('.dat','')+'_{ux:04.1f}.dat'\n",
    "    d['f_in_noa'] = d['f_in_noa'].replace('.dat','')+'_{ux:04.1f}.dat'\n",
    "    for ux in np.arange(0,24,0.5):\n",
    "        d['geo']['utc'] = ux\n",
    "        d['geo']['hour'] = int(ux)\n",
    "        d['geo']['minute'] = int((ux-int(ux))*60.0)\n",
    "        d['geo']['second'] = 0\n",
    "        d['geo'].pop('sza',None)\n",
    "        Rl.write_input_aac(fpp_in+d['f_in'].format(ux=ux),geo=d['geo'],aero=d['aero'],cloud=cloud,source=source,albedo=albedo,\n",
    "                                   verbose=False,make_base=False,set_quiet=True)\n",
    "        Rl.write_input_aac(fpp_in+d['f_in_noa'].format(ux=ux),geo=d['geo'],aero=aero_no,cloud=cloud,source=source,albedo=albedo,\n",
    "                                   verbose=False,make_base=False,set_quiet=True)"
   ]
  },
  {
   "cell_type": "code",
   "execution_count": 117,
   "metadata": {
    "ExecuteTime": {
     "end_time": "2021-05-06T20:54:16.517755Z",
     "start_time": "2021-05-06T20:54:16.506629Z"
    }
   },
   "outputs": [
    {
     "data": {
      "text/plain": [
       "244"
      ]
     },
     "execution_count": 117,
     "metadata": {},
     "output_type": "execute_result"
    }
   ],
   "source": [
    "from datetime import datetime, timedelta\n",
    "ud = datetime(2016,1,1) + timedelta(bb[0]['geo']['doy'])\n",
    "bb[0]['geo']['doy']"
   ]
  },
  {
   "cell_type": "code",
   "execution_count": 118,
   "metadata": {
    "ExecuteTime": {
     "end_time": "2021-05-06T20:54:17.285543Z",
     "start_time": "2021-05-06T20:54:17.275999Z"
    }
   },
   "outputs": [
    {
     "data": {
      "text/plain": [
       "datetime.timedelta(0)"
      ]
     },
     "execution_count": 118,
     "metadata": {},
     "output_type": "execute_result"
    }
   ],
   "source": [
    "timedelta()"
   ]
  },
  {
   "cell_type": "code",
   "execution_count": 119,
   "metadata": {
    "ExecuteTime": {
     "end_time": "2021-05-06T20:54:17.973863Z",
     "start_time": "2021-05-06T20:54:17.964580Z"
    }
   },
   "outputs": [
    {
     "data": {
      "text/plain": [
       "9"
      ]
     },
     "execution_count": 119,
     "metadata": {},
     "output_type": "execute_result"
    }
   ],
   "source": [
    "ud.month"
   ]
  },
  {
   "cell_type": "code",
   "execution_count": 120,
   "metadata": {
    "ExecuteTime": {
     "end_time": "2021-05-06T20:54:18.723434Z",
     "start_time": "2021-05-06T20:54:18.714969Z"
    }
   },
   "outputs": [
    {
     "data": {
      "text/plain": [
       "13551"
      ]
     },
     "execution_count": 120,
     "metadata": {},
     "output_type": "execute_result"
    }
   ],
   "source": [
    "len(bb)"
   ]
  },
  {
   "cell_type": "code",
   "execution_count": 121,
   "metadata": {
    "ExecuteTime": {
     "end_time": "2021-05-06T20:54:20.103656Z",
     "start_time": "2021-05-06T20:54:20.082570Z"
    }
   },
   "outputs": [],
   "source": [
    "def write_files(d,cloud=cloud,source=source,albedo=albedo,aero_no=aero_no):\n",
    "    'function to feed the pool of workers to write out the all the files'\n",
    "    cloud['tau'],cloud['ref'] = d['cod'],d['ref']\n",
    "    d['f_in'] = d['f_in'].replace('.dat','')+'_{ux:04.1f}.dat'\n",
    "    d['f_in_noa'] = d['f_in_noa'].replace('.dat','')+'_{ux:04.1f}.dat'\n",
    "    ud = datetime.datetime(2016,1,1) + datetime.timedelta(d['geo']['doy'])\n",
    "    d['geo']['day'] = ud.day\n",
    "    d['geo']['year'] = ud.year\n",
    "    d['geo']['month'] = ud.month\n",
    "    for ux in np.arange(0,24,0.5):\n",
    "        d['geo']['utc'] = ux\n",
    "        d['geo']['hour'] = int(ux)\n",
    "        d['geo']['minute'] = int((ux-int(ux))*60.0)\n",
    "        d['geo']['second'] = 0\n",
    "        d['geo'].pop('sza',None)\n",
    "        Rl.write_input_aac(fpp_in+d['f_in'].format(ux=ux),geo=d['geo'],aero=d['aero'],cloud=cloud,source=source,albedo=albedo,\n",
    "                                   verbose=False,make_base=False,set_quiet=True)\n",
    "        Rl.write_input_aac(fpp_in+d['f_in_noa'].format(ux=ux),geo=d['geo'],aero=aero_no,cloud=cloud,source=source,albedo=albedo,\n",
    "                                   verbose=False,make_base=False,set_quiet=True)"
   ]
  },
  {
   "cell_type": "code",
   "execution_count": 122,
   "metadata": {
    "ExecuteTime": {
     "end_time": "2021-05-06T20:54:22.230413Z",
     "start_time": "2021-05-06T20:54:22.196919Z"
    }
   },
   "outputs": [],
   "source": [
    "def write_files_sub(d,cloud=cloud,source=source,albedo=albedo,aero_no=aero_no):\n",
    "    'function to feed the pool of workers to write out the all the files'\n",
    "    cloud['tau'],cloud['ref'] = d['cod'],d['ref']\n",
    "    d['f_in'] = d['f_in'].replace('.dat','')+'_{ux:04.1f}.dat'\n",
    "    d['f_in_noa'] = d['f_in_noa'].replace('.dat','')+'_{ux:04.1f}.dat'\n",
    "    ud = datetime(2016,1,1) + timedelta(d['geo']['doy'])\n",
    "    d['geo']['day'] = ud.day\n",
    "    d['geo']['year'] = ud.year\n",
    "    d['geo']['month'] = ud.month\n",
    "    source['run_fuliou'] = True\n",
    "    d['aero']['link_to_mom_file'] = False\n",
    "    d['aero']['file_name'] = fpp_in+d['f_in'].format(ux=0.0)+'_aero'\n",
    "    cloud['link_to_mom_file'] = False\n",
    "    cloud['file_name'] = fpp_in+d['f_in'].format(ux=0.0)+'_cloud'\n",
    "    d['geo'].pop('doy',None)\n",
    "    for ux in np.arange(0,24,0.5):\n",
    "        d['geo']['utc'] = ux\n",
    "        d['geo']['hour'] = int(ux)\n",
    "        d['geo']['minute'] = int((ux-int(ux))*60.0)\n",
    "        d['geo']['second'] = 0\n",
    "        d['geo'].pop('sza',None)\n",
    "        Rl.write_input_aac(fpp_in+d['f_in'].format(ux=ux),geo=d['geo'],aero=d['aero'],cloud=cloud,\n",
    "                           source=source,albedo=albedo,solver='twostr',\n",
    "                           verbose=False,make_base=False,set_quiet=True)\n",
    "        Rl.write_input_aac(fpp_in+d['f_in_noa'].format(ux=ux),geo=d['geo'],aero=aero_no,cloud=cloud,\n",
    "                           source=source,albedo=albedo,solver='twostr',\n",
    "                           verbose=False,make_base=False,set_quiet=True)\n",
    "        cloud['link_to_mom_file'] = True\n",
    "        d['aero']['link_to_mom_file'] = True"
   ]
  },
  {
   "cell_type": "code",
   "execution_count": 123,
   "metadata": {
    "ExecuteTime": {
     "end_time": "2021-05-06T20:54:23.666318Z",
     "start_time": "2021-05-06T20:54:23.628881Z"
    }
   },
   "outputs": [],
   "source": [
    "def write_files_sub_diurn(d,cloud=cloud,source=source,albedo=albedo,aero_no=aero_no):\n",
    "    'function to feed the pool of workers to write out the all the files'\n",
    "    cloud['tau'],cloud['ref'] = d['cod'],d['ref']\n",
    "    d['f_in'] = d['f_in'].replace('.dat','')+'_{ux:04.1f}.dat'\n",
    "    d['f_in_noa'] = d['f_in_noa'].replace('.dat','')+'_{ux:04.1f}.dat'\n",
    "    ud = datetime(2016,1,1) + timedelta(d['geo']['doy'])\n",
    "    d['geo']['day'] = ud.day\n",
    "    d['geo']['year'] = ud.year\n",
    "    d['geo']['month'] = ud.month\n",
    "    source['run_fuliou'] = True\n",
    "    d['aero']['link_to_mom_file'] = False\n",
    "    d['aero']['file_name'] = fpp_in+d['f_in'].format(ux=0.0)+'_aero'\n",
    "    cloud['link_to_mom_file'] = False\n",
    "    cloud['file_name'] = fpp_in+d['f_in'].format(ux=0.0)+'_cloud'\n",
    "    d['geo'].pop('doy',None)\n",
    "    cods = get_sines(d['A_cod'],d['B_cod'],d['cod'],d['UTC'])\n",
    "    refs = get_sines(d['A_ref'],d['B_ref'],d['ref'],d['UTC'])\n",
    "    for iux,ux in enumerate(np.arange(0,24,0.5)):\n",
    "        d['geo']['utc'] = ux\n",
    "        d['geo']['hour'] = int(ux)\n",
    "        d['geo']['minute'] = int((ux-int(ux))*60.0)\n",
    "        d['geo']['second'] = 0\n",
    "        d['geo'].pop('sza',None)\n",
    "        cloud['tau'],cloud['ref'] = cods[iux],refs[iux]\n",
    "        if ~np.isfinite(cloud['tau']): cloud['tau'] = d['cod']\n",
    "        if ~np.isfinite(cloud['ref']): cloud['ref'] = d['ref']\n",
    "        Rl.write_input_aac(fpp_in+d['f_in'].format(ux=ux),geo=d['geo'],aero=d['aero'],cloud=cloud,\n",
    "                           source=source,albedo=albedo,solver='twostr',\n",
    "                           verbose=False,make_base=False,set_quiet=True)\n",
    "        Rl.write_input_aac(fpp_in+d['f_in_noa'].format(ux=ux),geo=d['geo'],aero=aero_no,cloud=cloud,\n",
    "                           source=source,albedo=albedo,solver='twostr',\n",
    "                           verbose=False,make_base=False,set_quiet=True)\n",
    "        cloud['link_to_mom_file'] = False\n",
    "        d['aero']['link_to_mom_file'] = True"
   ]
  },
  {
   "cell_type": "code",
   "execution_count": 124,
   "metadata": {
    "ExecuteTime": {
     "end_time": "2021-05-06T20:54:27.846182Z",
     "start_time": "2021-05-06T20:54:25.666376Z"
    },
    "scrolled": false
   },
   "outputs": [],
   "source": [
    "p = Pool(cpu_count()-1,worker_init)"
   ]
  },
  {
   "cell_type": "code",
   "execution_count": 191,
   "metadata": {
    "ExecuteTime": {
     "end_time": "2021-02-27T03:20:56.510875Z",
     "start_time": "2021-02-27T03:19:44.743979Z"
    }
   },
   "outputs": [
    {
     "data": {
      "application/vnd.jupyter.widget-view+json": {
       "model_id": "1a53bf61aa62425686b88b88903b7ec3",
       "version_major": 2,
       "version_minor": 0
      },
      "text/plain": [
       "HBox(children=(IntProgress(value=0, max=13551), HTML(value=u'')))"
      ]
     },
     "metadata": {},
     "output_type": "display_data"
    },
    {
     "data": {
      "application/vnd.jupyter.widget-view+json": {
       "model_id": "2755adeedb084178998b34a8dac63a88",
       "version_major": 2,
       "version_minor": 0
      },
      "text/plain": [
       "HBox(children=(IntProgress(value=1, bar_style=u'info', max=1), HTML(value=u'')))"
      ]
     },
     "metadata": {},
     "output_type": "display_data"
    },
    {
     "name": "stdout",
     "output_type": "stream",
     "text": [
      "\n",
      "\n"
     ]
    }
   ],
   "source": [
    "results = []\n",
    "max_ = len(bb)\n",
    "with tqdm(total=max_) as pbar:\n",
    "    for i, res in tqdm(enumerate(p.imap_unordered(write_files_sub, bb))):\n",
    "        pbar.update()\n",
    "        results.append(res)"
   ]
  },
  {
   "cell_type": "code",
   "execution_count": 125,
   "metadata": {
    "ExecuteTime": {
     "end_time": "2021-05-06T21:32:48.114169Z",
     "start_time": "2021-05-06T20:54:31.885174Z"
    },
    "scrolled": true
   },
   "outputs": [
    {
     "data": {
      "application/vnd.jupyter.widget-view+json": {
       "model_id": "f1c2e441cbd048f5a2a859611738af32",
       "version_major": 2,
       "version_minor": 0
      },
      "text/plain": [
       "HBox(children=(IntProgress(value=0, max=13551), HTML(value=u'')))"
      ]
     },
     "metadata": {},
     "output_type": "display_data"
    },
    {
     "data": {
      "application/vnd.jupyter.widget-view+json": {
       "model_id": "f49cde9f69464b90b76b6bbc7d88f052",
       "version_major": 2,
       "version_minor": 0
      },
      "text/plain": [
       "HBox(children=(IntProgress(value=1, bar_style=u'info', max=1), HTML(value=u'')))"
      ]
     },
     "metadata": {},
     "output_type": "display_data"
    },
    {
     "name": "stdout",
     "output_type": "stream",
     "text": [
      "\n",
      "\n"
     ]
    }
   ],
   "source": [
    "results = []\n",
    "max_ = len(bb)\n",
    "with tqdm(total=max_) as pbar:\n",
    "    for i, res in tqdm(enumerate(p.imap_unordered(write_files_sub_diurn, bb))):\n",
    "        pbar.update()\n",
    "        results.append(res)"
   ]
  },
  {
   "cell_type": "markdown",
   "metadata": {},
   "source": [
    "### Test out using fifo instead of files"
   ]
  },
  {
   "cell_type": "code",
   "execution_count": 119,
   "metadata": {
    "ExecuteTime": {
     "end_time": "2020-04-15T00:12:35.019380Z",
     "start_time": "2020-04-15T00:12:35.010826Z"
    }
   },
   "outputs": [],
   "source": [
    "import os\n",
    "from multiprocessing import Process, Event\n",
    "import subprocess as sub"
   ]
  },
  {
   "cell_type": "code",
   "execution_count": 113,
   "metadata": {
    "ExecuteTime": {
     "end_time": "2020-04-14T23:53:50.876324Z",
     "start_time": "2020-04-14T23:53:50.870822Z"
    }
   },
   "outputs": [],
   "source": [
    "fp_fifo_in = '/tmp/uvspec_input.fifo'"
   ]
  },
  {
   "cell_type": "code",
   "execution_count": 114,
   "metadata": {
    "ExecuteTime": {
     "end_time": "2020-04-14T23:54:00.980178Z",
     "start_time": "2020-04-14T23:54:00.975214Z"
    }
   },
   "outputs": [],
   "source": [
    "os.mkfifo(fp_fifo_in)"
   ]
  },
  {
   "cell_type": "code",
   "execution_count": 118,
   "metadata": {
    "ExecuteTime": {
     "end_time": "2020-04-15T00:05:24.271068Z",
     "start_time": "2020-04-15T00:05:00.263991Z"
    }
   },
   "outputs": [],
   "source": [
    "p = open(fp_fifo_in,'w')\n",
    "p.write('quiet\\n')\n",
    "p.write('mol_abs_param fu\\n')\n",
    "p.write('rte_solver twostr\\n')\n",
    "p.write('output_process sum\\n')\n",
    "p.write('data_files_path /home/sam/libradtran/libRadtran-2.0.2b/data/ \\n')\n",
    "p.write('source solar /home/sam/libradtran/libRadtran-2.0.2b/data/solar_flux/kurudz_1.0nm.dat per_nm\\n')\n",
    "p.write('wavelength 350.000000 4000.000000\\n')\n",
    "p.write('zout 0 3 100\\n')\n",
    "p.write('latitude N 56.938700\\n')\n",
    "p.write('longitude W 111.866900\\n')\n",
    "p.write('time 2018 06 09 15 30 00\\n')\n",
    "p.write('aerosol_default\\n')\n",
    "p.write('aerosol_modify ssa scale 0.85\\n')\n",
    "p.write('disort_intcor moments\\n')\n",
    "p.write('albedo 0.33\\n')\n",
    "p.close()"
   ]
  },
  {
   "cell_type": "code",
   "execution_count": 154,
   "metadata": {
    "ExecuteTime": {
     "end_time": "2020-04-15T01:08:36.651561Z",
     "start_time": "2020-04-15T01:08:36.635170Z"
    }
   },
   "outputs": [],
   "source": [
    "def print_fifo():\n",
    "    p = open(fp_fifo_in,'w')\n",
    "    p.write('quiet\\n')\n",
    "    p.write('mol_abs_param fu\\n')\n",
    "    p.write('rte_solver twostr\\n')\n",
    "    p.write('output_process sum\\n')\n",
    "    p.write('data_files_path /home/sam/libradtran/libRadtran-2.0.2b/data/ \\n')\n",
    "    p.write('source solar /home/sam/libradtran/libRadtran-2.0.2b/data/solar_flux/kurudz_1.0nm.dat per_nm\\n')\n",
    "    p.write('wavelength 350.000000 4000.000000\\n')\n",
    "    p.write('zout 0 3 100\\n')\n",
    "    p.write('latitude N 56.938700\\n')\n",
    "    p.write('longitude W 111.866900\\n')\n",
    "    p.write('time 2018 06 09 15 30 00\\n')\n",
    "    p.write('aerosol_default\\n')\n",
    "    p.write('aerosol_modify ssa scale 0.85\\n')\n",
    "    p.write('disort_intcor moments\\n')\n",
    "    p.write('albedo 0.33\\n')\n",
    "    p.close()"
   ]
  },
  {
   "cell_type": "code",
   "execution_count": 155,
   "metadata": {
    "ExecuteTime": {
     "end_time": "2020-04-15T01:08:43.826991Z",
     "start_time": "2020-04-15T01:08:43.819851Z"
    }
   },
   "outputs": [],
   "source": [
    "def run():\n",
    "    process = sub.Popen([fp_uvspec],stdin=p, stdout=sub.PIPE,stderr=sub.PIPE)\n",
    "    stdout,stderr = process.communicate()\n",
    "    #stderr = process.stderr.read()\n",
    "    print 'STDOUT:{},{},{}'.format(stdout,stderr,process.poll())"
   ]
  },
  {
   "cell_type": "code",
   "execution_count": 175,
   "metadata": {
    "ExecuteTime": {
     "end_time": "2020-04-15T01:35:39.425277Z",
     "start_time": "2020-04-15T01:35:29.998872Z"
    }
   },
   "outputs": [
    {
     "name": "stdout",
     "output_type": "stream",
     "text": [
      "fifo:  <open file '/tmp/uvspec_input.fifo', mode 'w+' at 0x7efe1fe9b810>\n"
     ]
    },
    {
     "ename": "KeyboardInterrupt",
     "evalue": "",
     "output_type": "error",
     "traceback": [
      "\u001b[0;31m\u001b[0m",
      "\u001b[0;31mKeyboardInterrupt\u001b[0mTraceback (most recent call last)",
      "\u001b[0;32m<ipython-input-175-5cb4d84037b8>\u001b[0m in \u001b[0;36m<module>\u001b[0;34m()\u001b[0m\n\u001b[1;32m     19\u001b[0m \u001b[0;31m#p.close()\u001b[0m\u001b[0;34m\u001b[0m\u001b[0;34m\u001b[0m\u001b[0m\n\u001b[1;32m     20\u001b[0m \u001b[0mprocess\u001b[0m \u001b[0;34m=\u001b[0m \u001b[0msub\u001b[0m\u001b[0;34m.\u001b[0m\u001b[0mPopen\u001b[0m\u001b[0;34m(\u001b[0m\u001b[0;34m[\u001b[0m\u001b[0mfp_uvspec\u001b[0m\u001b[0;34m]\u001b[0m\u001b[0;34m,\u001b[0m\u001b[0mstdin\u001b[0m\u001b[0;34m=\u001b[0m\u001b[0mp\u001b[0m\u001b[0;34m,\u001b[0m\u001b[0mstdout\u001b[0m\u001b[0;34m=\u001b[0m\u001b[0msub\u001b[0m\u001b[0;34m.\u001b[0m\u001b[0mPIPE\u001b[0m\u001b[0;34m,\u001b[0m\u001b[0mstderr\u001b[0m\u001b[0;34m=\u001b[0m\u001b[0msub\u001b[0m\u001b[0;34m.\u001b[0m\u001b[0mPIPE\u001b[0m\u001b[0;34m)\u001b[0m\u001b[0;34m\u001b[0m\u001b[0m\n\u001b[0;32m---> 21\u001b[0;31m \u001b[0mstdout\u001b[0m\u001b[0;34m,\u001b[0m\u001b[0mstderr\u001b[0m \u001b[0;34m=\u001b[0m \u001b[0mprocess\u001b[0m\u001b[0;34m.\u001b[0m\u001b[0mcommunicate\u001b[0m\u001b[0;34m(\u001b[0m\u001b[0;34m)\u001b[0m\u001b[0;34m\u001b[0m\u001b[0m\n\u001b[0m\u001b[1;32m     22\u001b[0m \u001b[0;32mprint\u001b[0m \u001b[0;34m'STDOUT:{},{},{}'\u001b[0m\u001b[0;34m.\u001b[0m\u001b[0mformat\u001b[0m\u001b[0;34m(\u001b[0m\u001b[0mstdout\u001b[0m\u001b[0;34m,\u001b[0m\u001b[0mstderr\u001b[0m\u001b[0;34m,\u001b[0m\u001b[0mprocess\u001b[0m\u001b[0;34m.\u001b[0m\u001b[0mpoll\u001b[0m\u001b[0;34m(\u001b[0m\u001b[0;34m)\u001b[0m\u001b[0;34m)\u001b[0m\u001b[0;34m\u001b[0m\u001b[0m\n\u001b[1;32m     23\u001b[0m \u001b[0mp\u001b[0m\u001b[0;34m.\u001b[0m\u001b[0mclose\u001b[0m\u001b[0;34m(\u001b[0m\u001b[0;34m)\u001b[0m\u001b[0;34m\u001b[0m\u001b[0m\n",
      "\u001b[0;32m/usr/lib/python2.7/subprocess.pyc\u001b[0m in \u001b[0;36mcommunicate\u001b[0;34m(self, input)\u001b[0m\n\u001b[1;32m    481\u001b[0m             \u001b[0;32mreturn\u001b[0m \u001b[0;34m(\u001b[0m\u001b[0mstdout\u001b[0m\u001b[0;34m,\u001b[0m \u001b[0mstderr\u001b[0m\u001b[0;34m)\u001b[0m\u001b[0;34m\u001b[0m\u001b[0m\n\u001b[1;32m    482\u001b[0m \u001b[0;34m\u001b[0m\u001b[0m\n\u001b[0;32m--> 483\u001b[0;31m         \u001b[0;32mreturn\u001b[0m \u001b[0mself\u001b[0m\u001b[0;34m.\u001b[0m\u001b[0m_communicate\u001b[0m\u001b[0;34m(\u001b[0m\u001b[0minput\u001b[0m\u001b[0;34m)\u001b[0m\u001b[0;34m\u001b[0m\u001b[0m\n\u001b[0m\u001b[1;32m    484\u001b[0m \u001b[0;34m\u001b[0m\u001b[0m\n\u001b[1;32m    485\u001b[0m \u001b[0;34m\u001b[0m\u001b[0m\n",
      "\u001b[0;32m/usr/lib/python2.7/subprocess.pyc\u001b[0m in \u001b[0;36m_communicate\u001b[0;34m(self, input)\u001b[0m\n\u001b[1;32m   1122\u001b[0m \u001b[0;34m\u001b[0m\u001b[0m\n\u001b[1;32m   1123\u001b[0m             \u001b[0;32mif\u001b[0m \u001b[0m_has_poll\u001b[0m\u001b[0;34m:\u001b[0m\u001b[0;34m\u001b[0m\u001b[0m\n\u001b[0;32m-> 1124\u001b[0;31m                 \u001b[0mstdout\u001b[0m\u001b[0;34m,\u001b[0m \u001b[0mstderr\u001b[0m \u001b[0;34m=\u001b[0m \u001b[0mself\u001b[0m\u001b[0;34m.\u001b[0m\u001b[0m_communicate_with_poll\u001b[0m\u001b[0;34m(\u001b[0m\u001b[0minput\u001b[0m\u001b[0;34m)\u001b[0m\u001b[0;34m\u001b[0m\u001b[0m\n\u001b[0m\u001b[1;32m   1125\u001b[0m             \u001b[0;32melse\u001b[0m\u001b[0;34m:\u001b[0m\u001b[0;34m\u001b[0m\u001b[0m\n\u001b[1;32m   1126\u001b[0m                 \u001b[0mstdout\u001b[0m\u001b[0;34m,\u001b[0m \u001b[0mstderr\u001b[0m \u001b[0;34m=\u001b[0m \u001b[0mself\u001b[0m\u001b[0;34m.\u001b[0m\u001b[0m_communicate_with_select\u001b[0m\u001b[0;34m(\u001b[0m\u001b[0minput\u001b[0m\u001b[0;34m)\u001b[0m\u001b[0;34m\u001b[0m\u001b[0m\n",
      "\u001b[0;32m/usr/lib/python2.7/subprocess.pyc\u001b[0m in \u001b[0;36m_communicate_with_poll\u001b[0;34m(self, input)\u001b[0m\n\u001b[1;32m   1176\u001b[0m             \u001b[0;32mwhile\u001b[0m \u001b[0mfd2file\u001b[0m\u001b[0;34m:\u001b[0m\u001b[0;34m\u001b[0m\u001b[0m\n\u001b[1;32m   1177\u001b[0m                 \u001b[0;32mtry\u001b[0m\u001b[0;34m:\u001b[0m\u001b[0;34m\u001b[0m\u001b[0m\n\u001b[0;32m-> 1178\u001b[0;31m                     \u001b[0mready\u001b[0m \u001b[0;34m=\u001b[0m \u001b[0mpoller\u001b[0m\u001b[0;34m.\u001b[0m\u001b[0mpoll\u001b[0m\u001b[0;34m(\u001b[0m\u001b[0;34m)\u001b[0m\u001b[0;34m\u001b[0m\u001b[0m\n\u001b[0m\u001b[1;32m   1179\u001b[0m                 \u001b[0;32mexcept\u001b[0m \u001b[0mselect\u001b[0m\u001b[0;34m.\u001b[0m\u001b[0merror\u001b[0m\u001b[0;34m,\u001b[0m \u001b[0me\u001b[0m\u001b[0;34m:\u001b[0m\u001b[0;34m\u001b[0m\u001b[0m\n\u001b[1;32m   1180\u001b[0m                     \u001b[0;32mif\u001b[0m \u001b[0me\u001b[0m\u001b[0;34m.\u001b[0m\u001b[0margs\u001b[0m\u001b[0;34m[\u001b[0m\u001b[0;36m0\u001b[0m\u001b[0;34m]\u001b[0m \u001b[0;34m==\u001b[0m \u001b[0merrno\u001b[0m\u001b[0;34m.\u001b[0m\u001b[0mEINTR\u001b[0m\u001b[0;34m:\u001b[0m\u001b[0;34m\u001b[0m\u001b[0m\n",
      "\u001b[0;31mKeyboardInterrupt\u001b[0m: "
     ]
    },
    {
     "name": "stdout",
     "output_type": "stream",
     "text": [
      "signal: 2\n",
      "signal: 2\n",
      "signal: 2\n",
      "signal: 2\n",
      "signal: 2\n",
      "signal: 2\n",
      "signal: 2\n",
      "signal: 2\n",
      "signal: 2\n",
      "signal: 2\n",
      "signal: 2\n",
      "signal: 2\n",
      "signal: 2\n",
      "signal: 2\n",
      "signal: 2\n",
      "signal: 2\n",
      "signal: 2\n",
      "signal: 2\n",
      "signal: 2\n",
      "signal: 2\n",
      "signal: 2\n",
      "signal: 2\n",
      "signal: 2\n",
      "signal: 2\n",
      "signal: 2\n",
      "signal: 2\n",
      "signal: 2\n",
      "signal: 2\n",
      "signal: 2\n",
      "signal: 2\n",
      "signal: 2\n",
      "signal: 2\n",
      "signal: 2\n",
      "signal: 2\n",
      "signal: 2\n",
      "signal: 2\n",
      "signal: 2\n",
      "signal: 2\n",
      "signal: 2\n",
      "signal: 2\n",
      "signal: 2\n",
      "signal: 2\n"
     ]
    },
    {
     "name": "stderr",
     "output_type": "stream",
     "text": [
      "Process PoolWorker-258:\n",
      "Process PoolWorker-241:\n",
      "Process PoolWorker-257:\n",
      "Process PoolWorker-252:\n",
      "Process PoolWorker-246:\n",
      "Process PoolWorker-251:\n",
      "Process PoolWorker-256:\n",
      "Process PoolWorker-220:\n",
      "Process PoolWorker-250:\n",
      "Process PoolWorker-227:\n",
      "Process PoolWorker-238:\n",
      "Process PoolWorker-240:\n",
      "Process PoolWorker-254:\n",
      "Process PoolWorker-224:\n",
      "Process PoolWorker-231:\n",
      "Process PoolWorker-244:\n"
     ]
    },
    {
     "name": "stdout",
     "output_type": "stream",
     "text": [
      "signal: 2"
     ]
    },
    {
     "name": "stderr",
     "output_type": "stream",
     "text": [
      "Traceback (most recent call last):\n",
      "Process PoolWorker-232:\n",
      "Process PoolWorker-221:\n",
      "Process PoolWorker-239:\n",
      "Process PoolWorker-229:\n",
      "Process PoolWorker-233:\n",
      "Process PoolWorker-249:\n"
     ]
    },
    {
     "name": "stdout",
     "output_type": "stream",
     "text": [
      "signal: 2"
     ]
    },
    {
     "name": "stderr",
     "output_type": "stream",
     "text": [
      "Process PoolWorker-245:\n",
      "Process PoolWorker-235:\n",
      "Process PoolWorker-236:\n",
      "Process PoolWorker-243:\n",
      "Process PoolWorker-242:\n",
      "Process PoolWorker-223:\n",
      "Process PoolWorker-226:\n",
      "Process PoolWorker-230:\n",
      "Process PoolWorker-253:\n",
      "Traceback (most recent call last):\n",
      "Traceback (most recent call last):\n",
      "Traceback (most recent call last):\n",
      "Process PoolWorker-228:\n",
      "Process PoolWorker-234:\n",
      "Process PoolWorker-247:\n",
      "Process PoolWorker-248:\n",
      "Traceback (most recent call last):\n",
      "Traceback (most recent call last):\n",
      "Process PoolWorker-237:\n",
      "Traceback (most recent call last):\n",
      "Traceback (most recent call last):\n",
      "Traceback (most recent call last):\n",
      "Traceback (most recent call last):\n",
      "Traceback (most recent call last):\n",
      "Traceback (most recent call last):\n",
      "Traceback (most recent call last):\n",
      "Traceback (most recent call last):\n",
      "Traceback (most recent call last):\n",
      "Traceback (most recent call last):\n",
      "Traceback (most recent call last):\n",
      "Traceback (most recent call last):\n",
      "  File \"/usr/lib/python2.7/multiprocessing/process.py\", line 267, in _bootstrap\n",
      "Traceback (most recent call last):\n",
      "Traceback (most recent call last):\n",
      "Traceback (most recent call last):\n",
      "Traceback (most recent call last):\n",
      "Traceback (most recent call last):\n",
      "Traceback (most recent call last):\n",
      "Traceback (most recent call last):\n",
      "Traceback (most recent call last):\n",
      "Traceback (most recent call last):\n",
      "Traceback (most recent call last):\n",
      "Traceback (most recent call last):\n",
      "Traceback (most recent call last):\n",
      "Traceback (most recent call last):\n",
      "  File \"/usr/lib/python2.7/multiprocessing/process.py\", line 267, in _bootstrap\n",
      "  File \"/usr/lib/python2.7/multiprocessing/process.py\", line 267, in _bootstrap\n",
      "  File \"/usr/lib/python2.7/multiprocessing/process.py\", line 267, in _bootstrap\n",
      "Traceback (most recent call last):\n",
      "Traceback (most recent call last):\n",
      "  File \"/usr/lib/python2.7/multiprocessing/process.py\", line 267, in _bootstrap\n",
      "  File \"/usr/lib/python2.7/multiprocessing/process.py\", line 267, in _bootstrap\n",
      "Traceback (most recent call last):\n",
      "  File \"/usr/lib/python2.7/multiprocessing/process.py\", line 267, in _bootstrap\n",
      "Traceback (most recent call last):\n",
      "Traceback (most recent call last):\n",
      "  File \"/usr/lib/python2.7/multiprocessing/process.py\", line 267, in _bootstrap\n",
      "  File \"/usr/lib/python2.7/multiprocessing/process.py\", line 267, in _bootstrap\n",
      "  File \"/usr/lib/python2.7/multiprocessing/process.py\", line 267, in _bootstrap\n",
      "  File \"/usr/lib/python2.7/multiprocessing/process.py\", line 267, in _bootstrap\n",
      "  File \"/usr/lib/python2.7/multiprocessing/process.py\", line 267, in _bootstrap\n",
      "  File \"/usr/lib/python2.7/multiprocessing/process.py\", line 267, in _bootstrap\n",
      "  File \"/usr/lib/python2.7/multiprocessing/process.py\", line 267, in _bootstrap\n",
      "  File \"/usr/lib/python2.7/multiprocessing/process.py\", line 267, in _bootstrap\n",
      "  File \"/usr/lib/python2.7/multiprocessing/process.py\", line 267, in _bootstrap\n",
      "  File \"/usr/lib/python2.7/multiprocessing/process.py\", line 267, in _bootstrap\n",
      "  File \"/usr/lib/python2.7/multiprocessing/process.py\", line 267, in _bootstrap\n",
      "  File \"/usr/lib/python2.7/multiprocessing/process.py\", line 267, in _bootstrap\n",
      "  File \"/usr/lib/python2.7/multiprocessing/process.py\", line 267, in _bootstrap\n",
      "    self.run()\n",
      "  File \"/usr/lib/python2.7/multiprocessing/process.py\", line 267, in _bootstrap\n",
      "  File \"/usr/lib/python2.7/multiprocessing/process.py\", line 267, in _bootstrap\n",
      "  File \"/usr/lib/python2.7/multiprocessing/process.py\", line 267, in _bootstrap\n",
      "  File \"/usr/lib/python2.7/multiprocessing/process.py\", line 267, in _bootstrap\n",
      "  File \"/usr/lib/python2.7/multiprocessing/process.py\", line 267, in _bootstrap\n",
      "  File \"/usr/lib/python2.7/multiprocessing/process.py\", line 267, in _bootstrap\n",
      "  File \"/usr/lib/python2.7/multiprocessing/process.py\", line 267, in _bootstrap\n",
      "  File \"/usr/lib/python2.7/multiprocessing/process.py\", line 267, in _bootstrap\n",
      "  File \"/usr/lib/python2.7/multiprocessing/process.py\", line 267, in _bootstrap\n",
      "  File \"/usr/lib/python2.7/multiprocessing/process.py\", line 267, in _bootstrap\n",
      "  File \"/usr/lib/python2.7/multiprocessing/process.py\", line 267, in _bootstrap\n",
      "  File \"/usr/lib/python2.7/multiprocessing/process.py\", line 267, in _bootstrap\n",
      "    self.run()\n",
      "    self.run()\n",
      "    self.run()\n",
      "    self.run()\n",
      "  File \"/usr/lib/python2.7/multiprocessing/process.py\", line 267, in _bootstrap\n",
      "    self.run()\n",
      "  File \"/usr/lib/python2.7/multiprocessing/process.py\", line 267, in _bootstrap\n",
      "  File \"/usr/lib/python2.7/multiprocessing/process.py\", line 267, in _bootstrap\n",
      "  File \"/usr/lib/python2.7/multiprocessing/process.py\", line 267, in _bootstrap\n",
      "    self.run()\n",
      "    self.run()\n",
      "    self.run()\n",
      "    self.run()\n",
      "    self.run()\n",
      "    self.run()\n",
      "    self.run()\n",
      "    self.run()\n",
      "    self.run()\n",
      "    self.run()\n",
      "    self.run()\n",
      "    self.run()\n",
      "  File \"/usr/lib/python2.7/multiprocessing/process.py\", line 114, in run\n",
      "    self.run()\n",
      "    self.run()\n",
      "    self.run()\n",
      "    self.run()\n",
      "    self.run()\n",
      "    self.run()\n",
      "    self.run()\n",
      "    self.run()\n",
      "    self.run()\n",
      "    self.run()\n",
      "    self.run()\n",
      "    self.run()\n",
      "    self.run()\n",
      "  File \"/usr/lib/python2.7/multiprocessing/process.py\", line 114, in run\n",
      "  File \"/usr/lib/python2.7/multiprocessing/process.py\", line 114, in run\n",
      "  File \"/usr/lib/python2.7/multiprocessing/process.py\", line 114, in run\n",
      "    self.run()\n",
      "  File \"/usr/lib/python2.7/multiprocessing/process.py\", line 114, in run\n",
      "    self.run()\n",
      "    self.run()\n",
      "  File \"/usr/lib/python2.7/multiprocessing/process.py\", line 114, in run\n",
      "    self.run()\n",
      "  File \"/usr/lib/python2.7/multiprocessing/process.py\", line 114, in run\n",
      "    self.run()\n",
      "  File \"/usr/lib/python2.7/multiprocessing/process.py\", line 114, in run\n",
      "  File \"/usr/lib/python2.7/multiprocessing/process.py\", line 114, in run\n",
      "  File \"/usr/lib/python2.7/multiprocessing/process.py\", line 114, in run\n",
      "  File \"/usr/lib/python2.7/multiprocessing/process.py\", line 114, in run\n",
      "  File \"/usr/lib/python2.7/multiprocessing/process.py\", line 114, in run\n",
      "  File \"/usr/lib/python2.7/multiprocessing/process.py\", line 114, in run\n",
      "  File \"/usr/lib/python2.7/multiprocessing/process.py\", line 114, in run\n",
      "  File \"/usr/lib/python2.7/multiprocessing/process.py\", line 114, in run\n",
      "  File \"/usr/lib/python2.7/multiprocessing/process.py\", line 114, in run\n",
      "  File \"/usr/lib/python2.7/multiprocessing/process.py\", line 114, in run\n",
      "    self._target(*self._args, **self._kwargs)\n",
      "  File \"/usr/lib/python2.7/multiprocessing/process.py\", line 114, in run\n",
      "  File \"/usr/lib/python2.7/multiprocessing/process.py\", line 114, in run\n",
      "  File \"/usr/lib/python2.7/multiprocessing/process.py\", line 114, in run\n",
      "  File \"/usr/lib/python2.7/multiprocessing/process.py\", line 114, in run\n",
      "  File \"/usr/lib/python2.7/multiprocessing/process.py\", line 114, in run\n",
      "  File \"/usr/lib/python2.7/multiprocessing/process.py\", line 114, in run\n",
      "  File \"/usr/lib/python2.7/multiprocessing/process.py\", line 114, in run\n",
      "  File \"/usr/lib/python2.7/multiprocessing/process.py\", line 114, in run\n",
      "  File \"/usr/lib/python2.7/multiprocessing/process.py\", line 114, in run\n",
      "  File \"/usr/lib/python2.7/multiprocessing/process.py\", line 114, in run\n",
      "  File \"/usr/lib/python2.7/multiprocessing/process.py\", line 114, in run\n",
      "  File \"/usr/lib/python2.7/multiprocessing/process.py\", line 114, in run\n",
      "    self._target(*self._args, **self._kwargs)\n",
      "  File \"/usr/lib/python2.7/multiprocessing/process.py\", line 114, in run\n",
      "    self._target(*self._args, **self._kwargs)\n",
      "  File \"/usr/lib/python2.7/multiprocessing/process.py\", line 114, in run\n",
      "    self._target(*self._args, **self._kwargs)\n",
      "  File \"/usr/lib/python2.7/multiprocessing/process.py\", line 114, in run\n",
      "    self._target(*self._args, **self._kwargs)\n",
      "  File \"/usr/lib/python2.7/multiprocessing/process.py\", line 114, in run\n",
      "    self._target(*self._args, **self._kwargs)\n",
      "  File \"/usr/lib/python2.7/multiprocessing/process.py\", line 114, in run\n",
      "  File \"/usr/lib/python2.7/multiprocessing/process.py\", line 114, in run\n",
      "    self._target(*self._args, **self._kwargs)\n",
      "  File \"/usr/lib/python2.7/multiprocessing/process.py\", line 114, in run\n",
      "    self._target(*self._args, **self._kwargs)\n",
      "    self._target(*self._args, **self._kwargs)\n",
      "    self._target(*self._args, **self._kwargs)\n",
      "    self._target(*self._args, **self._kwargs)\n",
      "    self._target(*self._args, **self._kwargs)\n",
      "    self._target(*self._args, **self._kwargs)\n"
     ]
    },
    {
     "name": "stderr",
     "output_type": "stream",
     "text": [
      "    self._target(*self._args, **self._kwargs)\n",
      "    self._target(*self._args, **self._kwargs)\n",
      "    self._target(*self._args, **self._kwargs)\n",
      "    self._target(*self._args, **self._kwargs)\n",
      "  File \"/usr/lib/python2.7/multiprocessing/pool.py\", line 102, in worker\n",
      "    self._target(*self._args, **self._kwargs)\n",
      "    self._target(*self._args, **self._kwargs)\n",
      "    self._target(*self._args, **self._kwargs)\n",
      "    self._target(*self._args, **self._kwargs)\n",
      "    self._target(*self._args, **self._kwargs)\n",
      "    self._target(*self._args, **self._kwargs)\n",
      "    self._target(*self._args, **self._kwargs)\n",
      "    self._target(*self._args, **self._kwargs)\n",
      "    self._target(*self._args, **self._kwargs)\n",
      "    self._target(*self._args, **self._kwargs)\n",
      "    self._target(*self._args, **self._kwargs)\n",
      "    self._target(*self._args, **self._kwargs)\n",
      "  File \"/usr/lib/python2.7/multiprocessing/pool.py\", line 102, in worker\n",
      "  File \"/usr/lib/python2.7/multiprocessing/pool.py\", line 102, in worker\n",
      "    self._target(*self._args, **self._kwargs)\n",
      "  File \"/usr/lib/python2.7/multiprocessing/pool.py\", line 102, in worker\n",
      "    self._target(*self._args, **self._kwargs)\n",
      "    self._target(*self._args, **self._kwargs)\n",
      "  File \"/usr/lib/python2.7/multiprocessing/pool.py\", line 102, in worker\n",
      "  File \"/usr/lib/python2.7/multiprocessing/pool.py\", line 102, in worker\n",
      "    self._target(*self._args, **self._kwargs)\n",
      "    self._target(*self._args, **self._kwargs)\n",
      "  File \"/usr/lib/python2.7/multiprocessing/pool.py\", line 102, in worker\n",
      "    self._target(*self._args, **self._kwargs)\n",
      "  File \"/usr/lib/python2.7/multiprocessing/pool.py\", line 102, in worker\n",
      "    self._target(*self._args, **self._kwargs)\n",
      "  File \"/usr/lib/python2.7/multiprocessing/pool.py\", line 102, in worker\n",
      "  File \"/usr/lib/python2.7/multiprocessing/pool.py\", line 102, in worker\n",
      "  File \"/usr/lib/python2.7/multiprocessing/pool.py\", line 102, in worker\n",
      "  File \"/usr/lib/python2.7/multiprocessing/pool.py\", line 102, in worker\n",
      "  File \"/usr/lib/python2.7/multiprocessing/pool.py\", line 102, in worker\n",
      "  File \"/usr/lib/python2.7/multiprocessing/pool.py\", line 102, in worker\n",
      "  File \"/usr/lib/python2.7/multiprocessing/pool.py\", line 102, in worker\n",
      "  File \"/usr/lib/python2.7/multiprocessing/pool.py\", line 102, in worker\n",
      "  File \"/usr/lib/python2.7/multiprocessing/pool.py\", line 102, in worker\n",
      "  File \"/usr/lib/python2.7/multiprocessing/pool.py\", line 102, in worker\n",
      "  File \"/usr/lib/python2.7/multiprocessing/pool.py\", line 102, in worker\n",
      "  File \"/usr/lib/python2.7/multiprocessing/pool.py\", line 102, in worker\n",
      "  File \"/usr/lib/python2.7/multiprocessing/pool.py\", line 102, in worker\n",
      "    task = get()\n",
      "  File \"/usr/lib/python2.7/multiprocessing/pool.py\", line 102, in worker\n",
      "  File \"/usr/lib/python2.7/multiprocessing/pool.py\", line 102, in worker\n",
      "  File \"/usr/lib/python2.7/multiprocessing/pool.py\", line 102, in worker\n",
      "  File \"/usr/lib/python2.7/multiprocessing/pool.py\", line 102, in worker\n",
      "  File \"/usr/lib/python2.7/multiprocessing/pool.py\", line 102, in worker\n",
      "  File \"/usr/lib/python2.7/multiprocessing/pool.py\", line 102, in worker\n",
      "  File \"/usr/lib/python2.7/multiprocessing/pool.py\", line 102, in worker\n",
      "    task = get()\n",
      "    task = get()\n",
      "  File \"/usr/lib/python2.7/multiprocessing/pool.py\", line 102, in worker\n",
      "  File \"/usr/lib/python2.7/multiprocessing/pool.py\", line 102, in worker\n",
      "    task = get()\n",
      "  File \"/usr/lib/python2.7/multiprocessing/pool.py\", line 102, in worker\n",
      "  File \"/usr/lib/python2.7/multiprocessing/pool.py\", line 102, in worker\n",
      "    task = get()\n",
      "    task = get()\n",
      "  File \"/usr/lib/python2.7/multiprocessing/pool.py\", line 102, in worker\n",
      "  File \"/usr/lib/python2.7/multiprocessing/pool.py\", line 102, in worker\n",
      "  File \"/usr/lib/python2.7/multiprocessing/pool.py\", line 102, in worker\n",
      "    task = get()\n",
      "    task = get()\n",
      "  File \"/usr/lib/python2.7/multiprocessing/pool.py\", line 102, in worker\n",
      "    task = get()\n",
      "    task = get()\n",
      "    task = get()\n",
      "    task = get()\n",
      "    task = get()\n",
      "    task = get()\n",
      "    task = get()\n",
      "    task = get()\n",
      "    task = get()\n",
      "    task = get()\n",
      "    task = get()\n",
      "    task = get()\n",
      "  File \"/usr/lib/python2.7/multiprocessing/queues.py\", line 378, in get\n",
      "    task = get()\n",
      "    task = get()\n",
      "    task = get()\n",
      "    task = get()\n",
      "    task = get()\n",
      "    task = get()\n",
      "  File \"/usr/lib/python2.7/multiprocessing/queues.py\", line 378, in get\n",
      "  File \"/usr/lib/python2.7/multiprocessing/queues.py\", line 378, in get\n",
      "    task = get()\n",
      "    task = get()\n",
      "    task = get()\n",
      "  File \"/usr/lib/python2.7/multiprocessing/queues.py\", line 378, in get\n",
      "    task = get()\n",
      "  File \"/usr/lib/python2.7/multiprocessing/queues.py\", line 378, in get\n",
      "    task = get()\n",
      "  File \"/usr/lib/python2.7/multiprocessing/queues.py\", line 378, in get\n",
      "    task = get()\n",
      "  File \"/usr/lib/python2.7/multiprocessing/queues.py\", line 378, in get\n",
      "    task = get()\n",
      "  File \"/usr/lib/python2.7/multiprocessing/queues.py\", line 378, in get\n",
      "    task = get()\n",
      "  File \"/usr/lib/python2.7/multiprocessing/queues.py\", line 378, in get\n",
      "  File \"/usr/lib/python2.7/multiprocessing/queues.py\", line 378, in get\n",
      "  File \"/usr/lib/python2.7/multiprocessing/queues.py\", line 378, in get\n",
      "  File \"/usr/lib/python2.7/multiprocessing/queues.py\", line 378, in get\n",
      "    task = get()\n",
      "    task = get()\n",
      "  File \"/usr/lib/python2.7/multiprocessing/queues.py\", line 378, in get\n",
      "  File \"/usr/lib/python2.7/multiprocessing/queues.py\", line 378, in get\n",
      "  File \"/usr/lib/python2.7/multiprocessing/queues.py\", line 378, in get\n",
      "  File \"/usr/lib/python2.7/multiprocessing/queues.py\", line 378, in get\n",
      "  File \"/usr/lib/python2.7/multiprocessing/queues.py\", line 378, in get\n",
      "  File \"/usr/lib/python2.7/multiprocessing/queues.py\", line 378, in get\n",
      "  File \"/usr/lib/python2.7/multiprocessing/queues.py\", line 378, in get\n",
      "  File \"/usr/lib/python2.7/multiprocessing/queues.py\", line 378, in get\n",
      "    rrelease()\n",
      "  File \"/usr/lib/python2.7/multiprocessing/queues.py\", line 378, in get\n",
      "  File \"/usr/lib/python2.7/multiprocessing/queues.py\", line 378, in get\n",
      "  File \"/usr/lib/python2.7/multiprocessing/queues.py\", line 378, in get\n",
      "  File \"/usr/lib/python2.7/multiprocessing/queues.py\", line 378, in get\n",
      "  File \"/usr/lib/python2.7/multiprocessing/queues.py\", line 378, in get\n",
      "  File \"/usr/lib/python2.7/multiprocessing/queues.py\", line 378, in get\n",
      "    rrelease()\n",
      "  File \"/usr/lib/python2.7/multiprocessing/queues.py\", line 378, in get\n",
      "    rrelease()\n",
      "  File \"/usr/lib/python2.7/multiprocessing/queues.py\", line 378, in get\n",
      "    rrelease()\n",
      "  File \"/usr/lib/python2.7/multiprocessing/queues.py\", line 378, in get\n",
      "  File \"/usr/lib/python2.7/multiprocessing/queues.py\", line 378, in get\n",
      "  File \"/usr/lib/python2.7/multiprocessing/queues.py\", line 378, in get\n",
      "    rrelease()\n",
      "  File \"/usr/lib/python2.7/multiprocessing/queues.py\", line 378, in get\n",
      "    rrelease()\n",
      "    rrelease()\n",
      "    rrelease()\n",
      "  File \"/usr/lib/python2.7/multiprocessing/queues.py\", line 378, in get\n",
      "  File \"/usr/lib/python2.7/multiprocessing/queues.py\", line 378, in get\n",
      "    rrelease()\n",
      "    rrelease()\n",
      "  File \"/usr/lib/python2.7/multiprocessing/queues.py\", line 378, in get\n",
      "    rrelease()\n",
      "    rrelease()\n",
      "  File \"/usr/lib/python2.7/multiprocessing/queues.py\", line 378, in get\n",
      "    rrelease()\n",
      "    rrelease()\n",
      "    rrelease()\n",
      "    rrelease()\n",
      "    rrelease()\n",
      "    rrelease()\n",
      "    rrelease()\n",
      "    rrelease()\n",
      "ValueError: semaphore or lock released too many times\n",
      "    rrelease()\n",
      "    rrelease()\n",
      "    rrelease()\n",
      "    rrelease()\n",
      "    rrelease()\n",
      "    rrelease()\n",
      "ValueError: semaphore or lock released too many times\n",
      "    rrelease()\n",
      "ValueError: semaphore or lock released too many times\n",
      "    rrelease()\n",
      "ValueError: semaphore or lock released too many times\n",
      "    rrelease()\n",
      "    rrelease()\n",
      "ValueError: semaphore or lock released too many times\n",
      "    rrelease()\n",
      "    rrelease()\n",
      "ValueError: semaphore or lock released too many times\n",
      "ValueError: semaphore or lock released too many times\n",
      "ValueError: semaphore or lock released too many times\n",
      "    rrelease()\n",
      "ValueError: semaphore or lock released too many times\n",
      "    rrelease()\n",
      "ValueError: semaphore or lock released too many times\n",
      "    rrelease()\n",
      "ValueError: semaphore or lock released too many times\n",
      "ValueError: semaphore or lock released too many times\n",
      "ValueError: semaphore or lock released too many times\n",
      "ValueError: semaphore or lock released too many times\n",
      "    rrelease()\n",
      "ValueError: semaphore or lock released too many times\n"
     ]
    },
    {
     "name": "stderr",
     "output_type": "stream",
     "text": [
      "ValueError: semaphore or lock released too many times\n",
      "ValueError: semaphore or lock released too many times\n",
      "ValueError: semaphore or lock released too many times\n",
      "ValueError: semaphore or lock released too many times\n",
      "ValueError: semaphore or lock released too many times\n"
     ]
    },
    {
     "name": "stdout",
     "output_type": "stream",
     "text": [
      "signal: 2"
     ]
    },
    {
     "name": "stderr",
     "output_type": "stream",
     "text": [
      "ValueError: semaphore or lock released too many times\n",
      "ValueError: semaphore or lock released too many times\n",
      "ValueError: semaphore or lock released too many times\n",
      "ValueError: semaphore or lock released too many times\n",
      "ValueError: semaphore or lock released too many times\n"
     ]
    },
    {
     "name": "stdout",
     "output_type": "stream",
     "text": [
      "signal: 2"
     ]
    },
    {
     "name": "stderr",
     "output_type": "stream",
     "text": [
      "ValueError: semaphore or lock released too many times\n"
     ]
    },
    {
     "name": "stdout",
     "output_type": "stream",
     "text": [
      "signal: 2"
     ]
    },
    {
     "name": "stderr",
     "output_type": "stream",
     "text": [
      "ValueError: semaphore or lock released too many times\n",
      "ValueError: semaphore or lock released too many times\n"
     ]
    },
    {
     "name": "stdout",
     "output_type": "stream",
     "text": [
      "signal: 2"
     ]
    },
    {
     "name": "stderr",
     "output_type": "stream",
     "text": [
      "ValueError: semaphore or lock released too many times\n",
      "ValueError: semaphore or lock released too many times\n"
     ]
    },
    {
     "name": "stdout",
     "output_type": "stream",
     "text": [
      "signal: 2"
     ]
    },
    {
     "name": "stderr",
     "output_type": "stream",
     "text": [
      "ValueError: semaphore or lock released too many times\n",
      "ValueError: semaphore or lock released too many times\n"
     ]
    },
    {
     "name": "stdout",
     "output_type": "stream",
     "text": [
      "signal: 2signal: 2signal: 2"
     ]
    },
    {
     "name": "stderr",
     "output_type": "stream",
     "text": [
      "ValueError: semaphore or lock released too many times\n"
     ]
    },
    {
     "name": "stdout",
     "output_type": "stream",
     "text": [
      "signal: 2"
     ]
    },
    {
     "name": "stderr",
     "output_type": "stream",
     "text": [
      "ValueError: semaphore or lock released too many times\n",
      "ValueError: semaphore or lock released too many times\n"
     ]
    },
    {
     "name": "stdout",
     "output_type": "stream",
     "text": [
      "signal: 2signal: 2signal: 2signal: 2"
     ]
    },
    {
     "name": "stderr",
     "output_type": "stream",
     "text": [
      "ValueError: semaphore or lock released too many times\n"
     ]
    },
    {
     "name": "stdout",
     "output_type": "stream",
     "text": [
      "signal: 2signal: 2signal: 2signal: 2signal: 2signal: 2signal: 2signal: 2signal: 2signal: 2signal: 2signal: 2signal: 2signal: 2signal: 2signal: 2signal: 2signal: 2signal: 2signal: 2signal: 2signal: 2signal: 2"
     ]
    }
   ],
   "source": [
    "p = open(fp_fifo_in,'w+')\n",
    "print 'fifo: ',p\n",
    "p.flush()\n",
    "p.write('quiet\\n')\n",
    "p.write('mol_abs_param fu\\n')\n",
    "p.write('rte_solver twostr\\n')\n",
    "p.write('output_process sum\\n')\n",
    "p.write('data_files_path /home/sam/libradtran/libRadtran-2.0.2b/data/ \\n')\n",
    "p.write('source solar /home/sam/libradtran/libRadtran-2.0.2b/data/solar_flux/kurudz_1.0nm.dat per_nm\\n')\n",
    "p.write('wavelength 350.000000 4000.000000\\n')\n",
    "p.write('zout 0 3 100\\n')\n",
    "p.write('latitude N 56.938700\\n')\n",
    "p.write('longitude W 111.866900\\n')\n",
    "p.write('time 2018 06 09 15 30 00\\n')\n",
    "p.write('aerosol_default\\n')\n",
    "p.write('aerosol_modify ssa scale 0.85\\n')\n",
    "p.write('disort_intcor moments\\n')\n",
    "p.write('albedo 0.33\\n')\n",
    "#p.close()\n",
    "process = sub.Popen([fp_uvspec],stdin=p,stdout=sub.PIPE,stderr=sub.PIPE)\n",
    "stdout,stderr = process.communicate()\n",
    "print 'STDOUT:{},{},{}'.format(stdout,stderr,process.poll())\n",
    "p.close()"
   ]
  },
  {
   "cell_type": "code",
   "execution_count": 216,
   "metadata": {
    "ExecuteTime": {
     "end_time": "2020-04-15T02:23:19.702982Z",
     "start_time": "2020-04-15T02:23:19.687998Z"
    }
   },
   "outputs": [],
   "source": [
    "def write_xtrf(fp_fifo_in):\n",
    "    if not os.path.exists(fp_fifo_in):\n",
    "        os.mkfifo(fp_fifo_in)\n",
    "    p = open(fp_fifo_in,'w')\n",
    "    p.flush()\n",
    "    g = ['# wvl[nm]    alb[unitless',\\\n",
    "'250.000000      -0.043171',\\\n",
    "'350.000000      -0.010611',\\\n",
    "'400.000000      0.005669',\\\n",
    "'500.000000      0.038229',\\\n",
    "'675.000000      0.058627',\\\n",
    "'870.000000      0.229436',\\\n",
    "'995.000000      0.234727',\\\n",
    "'1200.000000     0.240584',\\\n",
    "'1400.000000     0.246298',\\\n",
    "'1600.000000     0.252013',\\\n",
    "'2100.000000     0.266298',\\\n",
    "'3200.000000     0.297727',\\\n",
    "'4900.000000     0.346298']\n",
    "    for llj in g:\n",
    "        p.write('{}\\n'.format(llj))\n",
    "    #p.flush()\n",
    "    p.close()\n",
    "    os.unlink(fp_fifo_in)\n",
    "    #os.remove(fp_fifo_in)"
   ]
  },
  {
   "cell_type": "code",
   "execution_count": 209,
   "metadata": {
    "ExecuteTime": {
     "end_time": "2020-04-15T02:15:28.906620Z",
     "start_time": "2020-04-15T02:15:24.563576Z"
    }
   },
   "outputs": [
    {
     "ename": "OSError",
     "evalue": "[Errno 2] No such file or directory: '/tmp/uvspec_input.fifo'",
     "output_type": "error",
     "traceback": [
      "\u001b[0;31m\u001b[0m",
      "\u001b[0;31mOSError\u001b[0mTraceback (most recent call last)",
      "\u001b[0;32m<ipython-input-209-b7afc16da463>\u001b[0m in \u001b[0;36m<module>\u001b[0;34m()\u001b[0m\n\u001b[0;32m----> 1\u001b[0;31m \u001b[0mwrite_xtrf\u001b[0m\u001b[0;34m(\u001b[0m\u001b[0mfp_fifo_in\u001b[0m\u001b[0;34m)\u001b[0m\u001b[0;34m\u001b[0m\u001b[0m\n\u001b[0m",
      "\u001b[0;32m<ipython-input-208-1427f0756d51>\u001b[0m in \u001b[0;36mwrite_xtrf\u001b[0;34m(fp_fifo_in)\u001b[0m\n\u001b[1;32m     11\u001b[0m     \u001b[0mp\u001b[0m\u001b[0;34m.\u001b[0m\u001b[0mclose\u001b[0m\u001b[0;34m(\u001b[0m\u001b[0;34m)\u001b[0m\u001b[0;34m\u001b[0m\u001b[0m\n\u001b[1;32m     12\u001b[0m     \u001b[0mos\u001b[0m\u001b[0;34m.\u001b[0m\u001b[0munlink\u001b[0m\u001b[0;34m(\u001b[0m\u001b[0mfp_fifo_in\u001b[0m\u001b[0;34m)\u001b[0m\u001b[0;34m\u001b[0m\u001b[0m\n\u001b[0;32m---> 13\u001b[0;31m     \u001b[0mos\u001b[0m\u001b[0;34m.\u001b[0m\u001b[0mremove\u001b[0m\u001b[0;34m(\u001b[0m\u001b[0mfp_fifo_in\u001b[0m\u001b[0;34m)\u001b[0m\u001b[0;34m\u001b[0m\u001b[0m\n\u001b[0m",
      "\u001b[0;31mOSError\u001b[0m: [Errno 2] No such file or directory: '/tmp/uvspec_input.fifo'"
     ]
    }
   ],
   "source": [
    "write_xtrf(fp_fifo_in)"
   ]
  },
  {
   "cell_type": "code",
   "execution_count": 218,
   "metadata": {
    "ExecuteTime": {
     "end_time": "2020-04-15T04:47:11.170481Z",
     "start_time": "2020-04-15T04:47:11.062280Z"
    },
    "scrolled": true
   },
   "outputs": [
    {
     "name": "stdout",
     "output_type": "stream",
     "text": [
      "STDOUT:, ... choosing atmosphere file midlatitude_summer\n",
      " ... calling uvspec_check(), checking model input data\n",
      " ... calling setup_wlgrid(), generating transmittance wavelength grid\n",
      "     user wavelength range: 350.000000 - 4000.000000 nm\n",
      "     selected wavelength indices 0 - 6\n",
      "     wavelength bands boundaries: 550.000000 - 4900.000000 nm\n",
      " ... calling setup_rte_wlgrid(), generating radiative transfer wavelength grid\n",
      " ... calling setup_sza(), generating model solar zenith and azimuth\n",
      " ... calculating sza with time, latitude and longitude \n",
      "     using Blanco-Muriel et al. (2001) to calculate solar zenith and azimuth\n",
      "     Latitude:               56.94 degree\n",
      "     Longitude:            -111.87 degree\n",
      "     Standard Longitude:      0.00 degree\n",
      "     Time Zone:            UTC+0.0 hours\n",
      "     Standard Time:        Sun Jun  9 15:30:00 2018\n",
      "     Local Apparent Time:             08:03:44\n",
      "     Solar Zenith  Angle:    54.251 degree\n",
      "     Solar Azimuth Angle:   282.995 degree\n",
      "     solar zenith angle from lat/lon/time, sza =  54.251 \n",
      " ... calling setup_ipa(), generating independent pixels\n",
      " ... setup 3D molecular atmosphere\n",
      " ... calling setup_altitude(), determine surface elevation \n",
      " ... reading atmosphere data file /home/sam/libradtran/libRadtran-2.0.2b/data/atmmod/afglms.dat\n",
      " ... converting p and T to a z-grid\n",
      "     assuming: R =   286.933525, g(z=0km) =     9.799999\n",
      " ... calling setup_all_caoth(), generating all clouds etc.\n",
      "     total cloud cover = 1.000000\n",
      " ... calling setup_atmosphere(), generating model atmosphere\n",
      " ... Interpolation methods\n",
      "     z_interpolate pressure          logarithmic         interpolation\n",
      "     z_interpolate temperature       linear              interpolation\n",
      "     z_interpolate refraction index  linear              interpolation\n",
      "     z_interpolate Air  density      logarithmic         interpolation\n",
      "     z_interpolate O3   density      linear mixing ratio interpolation\n",
      "     z_interpolate O2   density      linear mixing ratio interpolation\n",
      "     z_interpolate H2O  density      linear mixing ratio interpolation\n",
      "     z_interpolate CO2  density      linear mixing ratio interpolation\n",
      "     z_interpolate NO2  density      linear mixing ratio interpolation\n",
      "     z_interpolate BRO  density      linear mixing ratio interpolation\n",
      "     z_interpolate OCLO density      linear mixing ratio interpolation\n",
      "     z_interpolate HCHO density      linear mixing ratio interpolation\n",
      "     z_interpolate O4   density      linear mixing ratio interpolation\n",
      "     z_interpolate SO2  density      linear mixing ratio interpolation\n",
      "     z_interpolate CH4  density      linear mixing ratio interpolation\n",
      "     z_interpolate N2O  density      linear mixing ratio interpolation\n",
      "     z_interpolate CO   density      linear mixing ratio interpolation\n",
      "     z_interpolate N2   density      linear mixing ratio interpolation\n",
      " ... setup_zout_levels\n",
      "     only following output levels are considered:\n",
      "  lc    zout[km]\n",
      "----------------\n",
      "   0    0.00000\n",
      "   1    3.00000\n",
      "   2  100.00000\n",
      "*** Scaling profiles\n",
      " ----------------------------------------------------------------------------------------------------------------------------------------\n",
      "  lc |  z[km]  |  Pressure  | Temp.  |    Air      |   Ozone     |     O2      | Water vap.  |    CO2      |    NO2      |      O4      |\n",
      "     |         |   [hPa]    |  [K]   |   [cm-3]    |   [cm-3]    |   [cm-3]    |   [cm-3]    |   [cm-3]    |   [cm-3]    | [1.0e+46cm-6]|\n",
      " ----------------------------------------------------------------------------------------------------------------------------------------\n",
      "    0  120.0000     0.00002   380.00   4.32667e+11   2.16500e+02   3.13925e+10   8.66000e+04   1.51550e+07   6.53830e+01   9.85489e-26\n",
      "    1  115.0000     0.00004   316.80   8.13911e+11   4.07250e+03   7.65630e+10   1.95480e+05   3.25800e+07   1.26247e+02   5.86190e-25\n",
      "    2  110.0000     0.00006   262.40   1.68651e+12   8.44000e+04   2.02560e+11   4.72640e+05   1.01280e+08   2.68392e+02   4.10306e-24\n",
      "    3  105.0000     0.00012   222.20   3.81376e+12   7.63200e+05   5.34240e+11   1.29744e+06   4.19760e+08   6.25824e+02   2.85412e-23\n",
      "    4  100.0000     0.00026   190.50   9.80927e+12   3.92640e+06   1.57056e+12   3.92640e+06   1.91412e+09   1.66872e+03   2.46666e-22\n",
      "    5   95.0000     0.00062   178.30   2.53887e+13   1.77870e+07   4.57380e+12   1.37214e+07   6.86070e+09   4.47216e+03   2.09196e-21\n",
      "    6   90.0000     0.00164   165.00   7.19899e+13   5.40300e+07   1.36876e+13   6.12340e+07   2.23324e+10   1.31833e+04   1.87350e-20\n",
      "    7   85.0000     0.00448   165.10   1.96536e+14   1.12119e+08   3.93400e+13   2.61611e+08   6.29440e+10   3.77664e+04   1.54764e-19\n",
      "    8   80.0000     0.01200   174.10   4.99223e+14   9.99200e+07   1.04416e+14   1.04916e+09   1.63869e+11   1.00919e+05   1.09028e-18\n",
      "    9   75.0000     0.03000   196.10   1.10804e+15   2.10710e+08   2.31781e+14   3.27155e+09   3.65970e+11   2.38435e+05   5.37224e-18\n",
      "   10   70.0000     0.06700   218.10   2.22500e+15   8.90800e+08   4.65443e+14   8.23990e+09   7.34910e+11   5.14437e+05   2.16637e-17\n",
      "   11   65.0000     0.13900   240.10   4.19309e+15   3.35680e+09   8.76964e+14   1.84624e+10   1.38468e+12   1.06159e+06   7.69066e-17\n",
      "   12   60.0000     0.27200   257.10   7.66264e+15   9.96840e+09   1.60261e+15   3.83400e+10   2.53044e+12   2.18538e+06   2.56837e-16\n",
      "   13   55.0000     0.51500   269.30   1.38511e+16   2.49480e+10   2.89674e+15   7.41510e+10   4.57380e+12   4.69854e+06   8.39110e-16\n",
      "   14   50.0000     0.95100   275.70   2.49836e+16   7.00000e+10   5.22500e+15   1.37500e+11   8.25000e+12   1.10750e+07   2.73006e-15\n",
      "   15   47.5000     1.29000   275.20   3.39510e+16   1.18930e+11   7.10182e+15   1.86890e+11   1.12134e+13   2.26307e+07   5.04359e-15\n",
      "   16   45.0000     1.76000   269.90   4.72304e+16   2.12670e+11   9.87734e+15   2.57567e+11   1.55958e+13   5.43490e+07   9.75618e-15\n",
      "   17   42.5000     2.41000   263.70   6.61940e+16   3.90816e+11   1.38442e+16   3.51072e+11   2.18592e+13   1.43741e+08   1.91661e-14\n",
      "   18   40.0000     3.33000   257.50   9.36653e+16   7.07662e+11   1.95896e+16   4.78023e+11   3.09309e+13   3.77732e+08   3.83751e-14\n",
      "   19   37.5000     4.64000   251.30   1.33733e+17   1.16406e+12   2.79642e+16   6.69000e+11   4.41540e+13   8.37588e+08   7.81996e-14\n",
      "   20   35.0000     6.52000   245.20   1.92592e+17   1.71503e+12   4.02743e+16   9.53865e+11   6.35910e+13   1.40286e+09   1.62202e-13\n",
      "   21   32.5000     9.30000   239.00   2.81836e+17   2.28420e+12   5.89380e+16   1.36770e+12   9.30600e+13   2.03322e+09   3.47369e-13\n",
      "   22   30.0000    13.20000   233.70   4.09098e+17   2.86580e+12   8.55646e+16   1.92418e+12   1.35102e+14   2.52190e+09   7.32130e-13\n",
      "   23   27.5000    19.07000   228.45   6.04604e+17   3.63000e+12   1.26445e+17   2.69225e+12   1.99650e+14   2.91005e+09   1.59883e-12\n",
      "   24   25.0000    27.70000   225.10   8.91284e+17   4.28112e+12   1.86407e+17   3.74598e+12   2.94327e+14   3.33571e+09   3.47476e-12\n",
      "   25   24.0000    32.20000   223.90   1.04163e+18   4.16800e+12   2.17778e+17   4.16800e+12   3.43860e+14   3.18852e+09   4.74273e-12\n",
      "   26   23.0000    37.60000   222.80   1.22232e+18   4.15820e+12   2.55607e+17   4.70855e+12   4.03590e+14   3.15534e+09   6.53349e-12\n",
      "   27   22.0000    43.70000   221.60   1.42831e+18   4.14410e+12   2.98661e+17   5.14440e+12   4.71570e+14   3.08664e+09   8.91984e-12\n",
      "   28   21.0000    51.00000   220.40   1.67599e+18   4.02480e+12   3.50493e+17   5.78565e+12   5.53410e+14   2.95152e+09   1.22845e-11\n",
      "   29   20.0000    59.50000   219.20   1.96602e+18   3.93400e+12   4.11103e+17   6.49110e+12   6.49110e+14   2.73413e+09   1.69006e-11\n",
      "   30   19.0000    69.50000   217.90   2.31015e+18   3.46800e+12   4.83208e+17   7.39840e+12   7.62960e+14   2.45072e+09   2.33490e-11\n",
      "   31   18.0000    81.20000   216.80   2.71274e+18   2.71500e+12   5.67435e+17   8.55225e+12   8.95950e+14   2.09327e+09   3.21982e-11\n",
      "   32   17.0000    95.00000   215.70   3.18996e+18   2.23440e+12   6.67128e+17   1.02144e+13   1.05336e+15   1.65665e+09   4.45060e-11\n",
      "   33   16.0000   111.00000   215.70   3.72722e+18   2.23800e+12   7.79570e+17   1.23090e+13   1.23090e+15   1.18987e+09   6.07729e-11\n",
      "   34   15.0000   130.00000   215.70   4.36521e+18   2.18400e+12   9.12912e+17   1.48512e+13   1.44144e+15   7.46928e+08   8.33408e-11\n",
      "   35   14.0000   153.00000   215.70   5.13751e+18   2.26204e+12   1.07447e+18   2.57050e+13   1.69653e+15   3.84547e+08   1.15448e-10\n",
      "   36   13.0000   179.00000   215.80   6.00777e+18   1.80360e+12   1.25651e+18   4.80960e+13   1.98396e+15   2.67534e+08   1.57881e-10\n",
      "   37   12.0000   209.00000   222.30   6.80955e+18   1.51952e+12   1.42413e+18   2.00604e+14   2.24862e+15   2.14641e+08   2.02813e-10\n",
      "   38   11.0000   243.00000   228.80   7.69240e+18   1.38025e+12   1.60888e+18   7.35621e+14   2.54034e+15   2.01688e+08   2.58850e-10\n",
      "   39   10.0000   281.00000   235.30   8.64960e+18   1.12874e+12   1.80910e+18   2.13976e+15   2.85648e+15   2.06013e+08   3.27286e-10\n",
      "   40    9.0000   324.00000   241.70   9.70913e+18   1.07945e+12   2.03064e+18   4.01174e+15   3.20628e+15   2.25411e+08   4.12352e-10\n",
      "   41    8.0000   372.00000   248.20   1.08556e+19   9.91084e+11   2.26974e+18   7.01990e+15   3.58380e+15   2.49780e+08   5.15172e-10\n",
      "   42    7.0000   426.00000   254.70   1.21141e+19   9.40997e+11   2.53308e+18   1.23624e+16   3.99960e+15   2.78760e+08   6.41649e-10\n",
      "   43    6.0000   487.00000   261.20   1.35042e+19   8.65721e+11   2.82359e+18   2.04001e+16   4.45830e+15   3.10730e+08   7.97266e-10\n",
      "   44    5.0000   554.00000   267.20   1.50171e+19   8.28454e+11   3.14127e+18   3.34417e+16   4.95990e+15   3.45690e+08   9.86758e-10\n",
      "   45    4.0000   628.00000   273.20   1.66491e+19   8.03179e+11   3.48194e+18   6.35246e+16   5.49780e+15   3.83180e+08   1.21239e-09\n",
      "   46    3.0000   710.00000   279.20   1.84185e+19   7.78115e+11   3.85187e+18   1.10285e+17   6.08190e+15   4.23890e+08   1.48369e-09\n",
      "   47    2.0000   802.00000   285.20   2.03675e+19   7.52837e+11   4.25942e+18   1.97278e+17   6.72540e+15   4.68740e+08   1.81427e-09\n",
      "   48    1.0000   902.00000   289.70   2.25512e+19   7.53161e+11   4.71713e+18   3.11015e+17   7.44810e+15   5.19110e+08   2.22513e-09\n",
      "   49    0.0000  1013.00000   294.20   2.49390e+19   7.53043e+11   5.21664e+18   4.68250e+17   8.23680e+15   5.74080e+08   2.72133e-09\n",
      " ---------------------------------------------------------------------------------------------------------------------------------------\n",
      "  sum |   -nan |       -nan |   -nan | 2.2e+25cm-2 |  335.559 DU | 4.5e+24cm-2 | 29.598 kg/m2 | 7.1e+21cm-2 | 0.22210 DU  | 1.3e+43cm-5|\n",
      " ---------------------------------------------------------------------------------------------------------------------------------------\n",
      " ... calculate output properties on zout levels\n",
      " ... check ideal gas law for pressure, temperature and number density\n",
      " ... calling setup_temperature(), generating model temperature profile\n",
      " ... calling setup_crs(), reading cross section files\n",
      " ... calling setup_rayleigh(), calculating Rayleigh scattering\n",
      "     using Bodhaine et al. Rayleigh scattering cross section\n",
      " ... calling setup_raman(), calculating Raman scattering\n",
      " ... calling setup_gases(), generating optical properties of trace gases\n",
      " ... calling setup_aerosols(), generating aerosols\n",
      " ... calling setup_caoth3D(), generating 3D clouds etc.\n",
      " ... calling setup_redistribute(), redistributing vertical profiles\n",
      " *** setup_redistribute()\n",
      " ...  redistributing molecular optical properties\n",
      " ...  redistributing molecular cross sections\n",
      " ...  redistributing aerosol optical properties\n",
      " ...  interpolating atmospheric profiles: p, T, densities \n",
      " ...  interpolating index of refraction\n",
      " ...  redistributing airmass stuff\n",
      " ... setup surface temperature\n",
      " ... setting surface temperature to 294.200012 K\n",
      "\n",
      "*** wavelength: iv = 0, 550.000000 nm\n",
      "*** setup_redistribute()\n",
      " --------------------------------------------------------------------------------------------------------------------------------------------------------\n",
      "   lc |      z[km] |\n",
      "      |            |           o3             o2            co2            no2            bro           oclo           hcho        wc.dtau        ic.dtau\n",
      " --------------------------------------------------------------------------------------------------------------------------------------------------------\n",
      " ---------------------------------------------------------------------------------------------------------------------------\n",
      "AMFsum        -nan | 0.000000e+00 | 0.000000e+00 | 0.000000e+00 | 0.000000e+00 | 0.000000e+00 | 0.000000e+00 | 0.000000e+00\n",
      " ---------------------------------------------------------------------------------------------------------------------------\n",
      "AMF column    -nan | 9.020787e+18 | 4.518498e+24 | 7.134470e+21 | 5.970382e+15 | 0.000000e+00 | 0.000000e+00 | 0.000000e+00\n",
      " ---------------------------------------------------------------------------------------------------------------------------\n",
      "AMF BOA crs   -nan | 0.000000e+00 | 0.000000e+00 | 0.000000e+00 | 0.000000e+00 | 0.000000e+00 | 0.000000e+00 | 0.000000e+00\n",
      " ---------------------------------------------------------------------------------------------------------------------------\n",
      "\n",
      "*** wavelength: iv = 1, 1000.000000 nm\n",
      "*** setup_redistribute()\n",
      " --------------------------------------------------------------------------------------------------------------------------------------------------------\n",
      "   lc |      z[km] |\n",
      "      |            |           o3             o2            co2            no2            bro           oclo           hcho        wc.dtau        ic.dtau\n",
      " --------------------------------------------------------------------------------------------------------------------------------------------------------\n",
      " ---------------------------------------------------------------------------------------------------------------------------\n",
      "AMFsum        -nan | 0.000000e+00 | 0.000000e+00 | 0.000000e+00 | 0.000000e+00 | 0.000000e+00 | 0.000000e+00 | 0.000000e+00\n",
      " ---------------------------------------------------------------------------------------------------------------------------\n",
      "AMF column    -nan | 9.020787e+18 | 4.518498e+24 | 7.134470e+21 | 5.970382e+15 | 0.000000e+00 | 0.000000e+00 | 0.000000e+00\n",
      " ---------------------------------------------------------------------------------------------------------------------------\n",
      "AMF BOA crs   -nan | 0.000000e+00 | 0.000000e+00 | 0.000000e+00 | 0.000000e+00 | 0.000000e+00 | 0.000000e+00 | 0.000000e+00\n",
      " ---------------------------------------------------------------------------------------------------------------------------\n",
      "\n",
      "*** wavelength: iv = 2, 1600.000000 nm\n",
      "*** setup_redistribute()\n",
      " --------------------------------------------------------------------------------------------------------------------------------------------------------\n",
      "   lc |      z[km] |\n",
      "      |            |           o3             o2            co2            no2            bro           oclo           hcho        wc.dtau        ic.dtau\n",
      " --------------------------------------------------------------------------------------------------------------------------------------------------------\n",
      " ---------------------------------------------------------------------------------------------------------------------------\n",
      "AMFsum        -nan | 0.000000e+00 | 0.000000e+00 | 0.000000e+00 | 0.000000e+00 | 0.000000e+00 | 0.000000e+00 | 0.000000e+00\n",
      " ---------------------------------------------------------------------------------------------------------------------------\n",
      "AMF column    -nan | 9.020787e+18 | 4.518498e+24 | 7.134470e+21 | 5.970382e+15 | 0.000000e+00 | 0.000000e+00 | 0.000000e+00\n",
      " ---------------------------------------------------------------------------------------------------------------------------\n",
      "AMF BOA crs   -nan | 0.000000e+00 | 0.000000e+00 | 0.000000e+00 | 0.000000e+00 | 0.000000e+00 | 0.000000e+00 | 0.000000e+00\n",
      " ---------------------------------------------------------------------------------------------------------------------------\n",
      "\n",
      "*** wavelength: iv = 3, 2200.000000 nm\n",
      "*** setup_redistribute()\n",
      " --------------------------------------------------------------------------------------------------------------------------------------------------------\n",
      "   lc |      z[km] |\n",
      "      |            |           o3             o2            co2            no2            bro           oclo           hcho        wc.dtau        ic.dtau\n",
      " --------------------------------------------------------------------------------------------------------------------------------------------------------\n",
      " ---------------------------------------------------------------------------------------------------------------------------\n",
      "AMFsum        -nan | 0.000000e+00 | 0.000000e+00 | 0.000000e+00 | 0.000000e+00 | 0.000000e+00 | 0.000000e+00 | 0.000000e+00\n",
      " ---------------------------------------------------------------------------------------------------------------------------\n",
      "AMF column    -nan | 9.020787e+18 | 4.518498e+24 | 7.134470e+21 | 5.970382e+15 | 0.000000e+00 | 0.000000e+00 | 0.000000e+00\n",
      " ---------------------------------------------------------------------------------------------------------------------------\n",
      "AMF BOA crs   -nan | 0.000000e+00 | 0.000000e+00 | 0.000000e+00 | 0.000000e+00 | 0.000000e+00 | 0.000000e+00 | 0.000000e+00\n",
      " ---------------------------------------------------------------------------------------------------------------------------\n",
      "\n",
      "*** wavelength: iv = 4, 3000.000000 nm\n",
      "*** setup_redistribute()\n",
      " --------------------------------------------------------------------------------------------------------------------------------------------------------\n",
      "   lc |      z[km] |\n",
      "      |            |           o3             o2            co2            no2            bro           oclo           hcho        wc.dtau        ic.dtau\n",
      " --------------------------------------------------------------------------------------------------------------------------------------------------------\n",
      " ---------------------------------------------------------------------------------------------------------------------------\n",
      "AMFsum        -nan | 0.000000e+00 | 0.000000e+00 | 0.000000e+00 | 0.000000e+00 | 0.000000e+00 | 0.000000e+00 | 0.000000e+00\n",
      " ---------------------------------------------------------------------------------------------------------------------------\n",
      "AMF column    -nan | 9.020787e+18 | 4.518498e+24 | 7.134470e+21 | 5.970382e+15 | 0.000000e+00 | 0.000000e+00 | 0.000000e+00\n",
      " ---------------------------------------------------------------------------------------------------------------------------\n",
      "AMF BOA crs   -nan | 0.000000e+00 | 0.000000e+00 | 0.000000e+00 | 0.000000e+00 | 0.000000e+00 | 0.000000e+00 | 0.000000e+00\n",
      " ---------------------------------------------------------------------------------------------------------------------------\n",
      "\n",
      "*** wavelength: iv = 5, 3700.000000 nm\n",
      "*** setup_redistribute()\n",
      " --------------------------------------------------------------------------------------------------------------------------------------------------------\n",
      "   lc |      z[km] |\n",
      "      |            |           o3             o2            co2            no2            bro           oclo           hcho        wc.dtau        ic.dtau\n",
      " --------------------------------------------------------------------------------------------------------------------------------------------------------\n",
      " ---------------------------------------------------------------------------------------------------------------------------\n",
      "AMFsum        -nan | 0.000000e+00 | 0.000000e+00 | 0.000000e+00 | 0.000000e+00 | 0.000000e+00 | 0.000000e+00 | 0.000000e+00\n",
      " ---------------------------------------------------------------------------------------------------------------------------\n",
      "AMF column    -nan | 9.020787e+18 | 4.518498e+24 | 7.134470e+21 | 5.970382e+15 | 0.000000e+00 | 0.000000e+00 | 0.000000e+00\n",
      " ---------------------------------------------------------------------------------------------------------------------------\n",
      "AMF BOA crs   -nan | 0.000000e+00 | 0.000000e+00 | 0.000000e+00 | 0.000000e+00 | 0.000000e+00 | 0.000000e+00 | 0.000000e+00\n",
      " ---------------------------------------------------------------------------------------------------------------------------\n",
      "\n",
      "*** wavelength: iv = 6, 4900.000000 nm\n",
      "*** setup_redistribute()\n",
      " --------------------------------------------------------------------------------------------------------------------------------------------------------\n",
      "   lc |      z[km] |\n",
      "      |            |           o3             o2            co2            no2            bro           oclo           hcho        wc.dtau        ic.dtau\n",
      " --------------------------------------------------------------------------------------------------------------------------------------------------------\n",
      " ---------------------------------------------------------------------------------------------------------------------------\n",
      "AMFsum        -nan | 0.000000e+00 | 0.000000e+00 | 0.000000e+00 | 0.000000e+00 | 0.000000e+00 | 0.000000e+00 | 0.000000e+00\n",
      " ---------------------------------------------------------------------------------------------------------------------------\n",
      "AMF column    -nan | 9.020787e+18 | 4.518498e+24 | 7.134470e+21 | 5.970382e+15 | 0.000000e+00 | 0.000000e+00 | 0.000000e+00\n",
      " ---------------------------------------------------------------------------------------------------------------------------\n",
      "AMF BOA crs   -nan | 0.000000e+00 | 0.000000e+00 | 0.000000e+00 | 0.000000e+00 | 0.000000e+00 | 0.000000e+00 | 0.000000e+00\n",
      " ---------------------------------------------------------------------------------------------------------------------------\n",
      " ... calling setup_atmosphere3D(), generating 3D atmosphere\n",
      " ... setup_optprop_molecular3D(), generating 3D gas absorption and Rayleigh scattering coefficients, include in caoth3d\n",
      " ... calling setup_extraterrestrial(), reading extraterrestrial spectrum\n",
      " ... replaced extraterrestrial flux by /home/sam/libradtran/libRadtran-2.0.2b/data/solar_flux/fu\n",
      " ... calling setup_albedo(), generating surface albedo\n",
      "Error -1 reading /tmp/uvspec_input.fifo\n",
      "Error reading albedo file '/tmp/uvspec_input.fifo' \n",
      "      (line 306, function setup_albedo in albedo.c)\n",
      "Error -1 setting up wavelength dependent albedo in uvspec (uvspec.c)\n",
      "Error -1 during execution of uvspec\n",
      ",255\n"
     ]
    }
   ],
   "source": [
    "r, w = os.pipe()\n",
    "os.write(w,'verbose\\n')\n",
    "os.write(w,'mol_abs_param fu\\n')\n",
    "os.write(w,'rte_solver twostr\\n')\n",
    "os.write(w,'output_process sum\\n')\n",
    "os.write(w,'data_files_path /home/sam/libradtran/libRadtran-2.0.2b/data/ \\n')\n",
    "os.write(w,'source solar /home/sam/libradtran/libRadtran-2.0.2b/data/solar_flux/kurudz_1.0nm.dat per_nm\\n')\n",
    "os.write(w,'wavelength 350.000000 4000.000000\\n')\n",
    "os.write(w,'zout 0 3 100\\n')\n",
    "os.write(w,'latitude N 56.938700\\n')\n",
    "os.write(w,'longitude W 111.866900\\n')\n",
    "os.write(w,'time 2018 06 09 15 30 00\\n')\n",
    "os.write(w,'aerosol_default\\n')\n",
    "os.write(w,'aerosol_modify ssa scale 0.85\\n')\n",
    "os.write(w,'disort_intcor moments\\n')\n",
    "os.write(w,'albedo 0.33\\n')\n",
    "os.write(w,'albedo_file {}'.format(fp_fifo_in))\n",
    "os.close(w)\n",
    "#p.close()\n",
    "\n",
    "p1 = Process(target=write_xtrf,args=(fp_fifo_in,))\n",
    "p1.start()\n",
    "\n",
    "process = sub.Popen([fp_uvspec],stdin=r,stdout=sub.PIPE,stderr=sub.PIPE)\n",
    "stdout,stderr = process.communicate()\n",
    "print 'STDOUT:{},{},{}'.format(stdout,stderr,process.poll())\n",
    "#p.close()"
   ]
  },
  {
   "cell_type": "markdown",
   "metadata": {},
   "source": [
    "### Run only the CRE portion in multiprocessing"
   ]
  },
  {
   "cell_type": "code",
   "execution_count": 59,
   "metadata": {
    "ExecuteTime": {
     "end_time": "2020-01-09T19:07:26.227904Z",
     "start_time": "2020-01-09T19:07:26.220706Z"
    }
   },
   "outputs": [],
   "source": [
    "def worker_init(verbose=True):\n",
    "    # ignore the SIGINI in sub process, just print a log\n",
    "    def sig_int(signal_num, frame):\n",
    "        if verbose: \n",
    "            print 'signal: %s' % signal_num\n",
    "        raise IOError\n",
    "    signal.signal(signal.SIGINT, sig_int)"
   ]
  },
  {
   "cell_type": "code",
   "execution_count": 60,
   "metadata": {
    "ExecuteTime": {
     "end_time": "2020-01-09T19:07:44.505594Z",
     "start_time": "2020-01-09T19:07:44.498570Z"
    }
   },
   "outputs": [],
   "source": [
    "# open the list file\n",
    "f = open(fp_rtm+'{}_DARE_CRE_{}.sh'.format(name,vv),'w')\n",
    "fpp_in = fp_rtm+'input/{}_DARE_CRE_{}/'.format(name,vv)\n",
    "fpp_out = fp_rtm+'output/{}_DARE_CRE_{}/'.format(name,vv)"
   ]
  },
  {
   "cell_type": "code",
   "execution_count": 61,
   "metadata": {
    "ExecuteTime": {
     "end_time": "2020-01-09T19:07:54.901155Z",
     "start_time": "2020-01-09T19:07:54.893386Z"
    }
   },
   "outputs": [],
   "source": [
    "if not os.path.isdir(fpp_in):\n",
    "    os.mkdir(fpp_in)\n",
    "if not os.path.isdir(fpp_out):\n",
    "     os.mkdir(fpp_out)"
   ]
  },
  {
   "cell_type": "code",
   "execution_count": 63,
   "metadata": {
    "ExecuteTime": {
     "end_time": "2020-01-09T19:11:13.630734Z",
     "start_time": "2020-01-09T19:10:18.628063Z"
    }
   },
   "outputs": [
    {
     "data": {
      "application/vnd.jupyter.widget-view+json": {
       "model_id": "f352de093ba14df1b27ff884c4cb5c1f",
       "version_major": 2,
       "version_minor": 0
      },
      "text/plain": [
       "HBox(children=(IntProgress(value=0, max=28619), HTML(value=u'')))"
      ]
     },
     "metadata": {},
     "output_type": "display_data"
    }
   ],
   "source": [
    "if isjupyter():\n",
    "    pbar = tqdm(total=len(ar['Start_UTC'][fla]))\n",
    "bb = []\n",
    "for i,u in enumerate(ar['Start_UTC'][fla]):\n",
    "    \n",
    "    f_in = '{name}_{vv}_DARE_CRE_{i:03d}_withaero_clear.dat'.format(name=name,vv=vv,i=i)\n",
    "\n",
    "    geo['lat'],geo['lon'],geo['sza'] = ar['Latitude'][fla][i],ar['Longitude'][fla][i],sza[fla][i]\n",
    "    day = days[ar['days'][fla][i].astype(int)]\n",
    "    geo['doy'] = datetime(int(day[0:4]),int(day[4:6]),int(day[6:])).timetuple().tm_yday\n",
    "\n",
    "    if ~np.isfinite(cod[flb][i]):\n",
    "        if isjupyter():\n",
    "            pbar.update(1)\n",
    "        continue\n",
    "    cloud['tau'],cloud['ref'] = 0.0,ref[flb][i]\n",
    "    cloud['write_moments_file'] = True\n",
    "\n",
    "    iae = np.argmin(abs(ar['time_ae'][fla][i]-ae['time']/3600.0))\n",
    "\n",
    "    # Only run for aerosol rertievals within 1 hour\n",
    "    if abs(ar['time_ae'][fla][i]-ae['time']/3600.0)[iae]<1.0: \n",
    "\n",
    "        aero['ext'] = fx_ext(ar['AOD_polycoef_a0'][fla][i],ar['AOD_polycoef_a1'][fla][i],ar['AOD_polycoef_a2'][fla][i])\n",
    "        aero['ssa'] = fx_aero(ae['SSA'][iae])\n",
    "        aero['asy'] = fx_aero(ae['g_total'][iae])\n",
    "\n",
    "        #Rl.write_input_aac(fpp_in+f_in,geo=geo,aero=aero,cloud=cloud,source=source,albedo=albedo,\n",
    "        #                           verbose=False,make_base=False,set_quiet=True)\n",
    "        f.write('{uv} < {fin} > {out}\\n'.format(uv=fp_uvspec,fin=fpp_in+f_in,out=fpp_out+f_in))\n",
    "\n",
    "     #   f_in_noa = '{name}_{vv}_star_{i:03d}_noaero.dat'.format(name=name,vv=vv,i=i)\n",
    "        #Rl.write_input_aac(fpp_in+f_in,geo=geo,aero=aero_no,cloud=cloud,source=source,albedo=albedo,\n",
    "        #                           verbose=False,make_base=False,set_quiet=True)\n",
    "     #   f.write('{uv} < {fin} > {out}\\n'.format(uv=fp_uvspec,fin=fpp_in+f_in_noa,out=fpp_out+f_in_noa))\n",
    "        \n",
    "        bb.append({'geo':deepcopy(geo),'cod':cod[flb][i],'ref':ref[flb][i],'aero':deepcopy(aero),\n",
    "                   'f_in':deepcopy(f_in)})\n",
    "\n",
    "    if isjupyter(): \n",
    "        pbar.update(1)\n",
    "    else:\n",
    "        print i\n",
    "\n",
    "f.close()"
   ]
  },
  {
   "cell_type": "code",
   "execution_count": 64,
   "metadata": {
    "ExecuteTime": {
     "end_time": "2020-01-09T19:11:24.214738Z",
     "start_time": "2020-01-09T19:11:24.206982Z"
    }
   },
   "outputs": [],
   "source": [
    "def write_files_cre(d,cloud=cloud,source=source,albedo=albedo,aero_no=aero_no):\n",
    "    'function to feed the pool of workers to write out the all the files'\n",
    "    cloud['tau'],cloud['ref'] = d['cod'],d['ref']\n",
    "    Rl.write_input_aac(fpp_in+d['f_in'],geo=d['geo'],aero=d['aero'],cloud=cloud,source=source,albedo=albedo,\n",
    "                                   verbose=False,make_base=False,set_quiet=True)\n",
    "    #Rl.write_input_aac(fpp_in+d['f_in_noa'],geo=d['geo'],aero=aero_no,cloud=cloud,source=source,albedo=albedo,\n",
    "    #                               verbose=False,make_base=False,set_quiet=True)"
   ]
  },
  {
   "cell_type": "code",
   "execution_count": 67,
   "metadata": {
    "ExecuteTime": {
     "end_time": "2020-01-10T01:54:37.453575Z",
     "start_time": "2020-01-10T01:54:36.860971Z"
    }
   },
   "outputs": [],
   "source": [
    "p = Pool(cpu_count()-1,worker_init)"
   ]
  },
  {
   "cell_type": "code",
   "execution_count": 68,
   "metadata": {
    "ExecuteTime": {
     "end_time": "2020-01-10T02:03:19.033697Z",
     "start_time": "2020-01-10T01:54:42.739257Z"
    }
   },
   "outputs": [],
   "source": [
    "results_cre = p.map(write_files_cre,bb)"
   ]
  },
  {
   "cell_type": "code",
   "execution_count": 70,
   "metadata": {
    "ExecuteTime": {
     "end_time": "2020-01-10T20:06:21.588032Z",
     "start_time": "2020-01-10T20:06:21.578114Z"
    }
   },
   "outputs": [
    {
     "data": {
      "text/plain": [
       "16596"
      ]
     },
     "execution_count": 70,
     "metadata": {},
     "output_type": "execute_result"
    }
   ],
   "source": [
    "len(results_cre)"
   ]
  },
  {
   "cell_type": "markdown",
   "metadata": {},
   "source": [
    "## Run the calculations"
   ]
  },
  {
   "cell_type": "markdown",
   "metadata": {},
   "source": [
    "Run the files from command line:\n",
    "\n",
    "using command parallel --jobs=20 < ORACLES_DARE_v1.sh"
   ]
  },
  {
   "cell_type": "markdown",
   "metadata": {},
   "source": [
    "### For Single point during each day"
   ]
  },
  {
   "cell_type": "code",
   "execution_count": 172,
   "metadata": {
    "ExecuteTime": {
     "end_time": "2020-11-18T23:29:29.464072Z",
     "start_time": "2020-11-18T23:29:29.459515Z"
    }
   },
   "outputs": [],
   "source": [
    "f_list = fp_rtm+'{}_DARE_{}.sh'.format(name,vv)"
   ]
  },
  {
   "cell_type": "code",
   "execution_count": 173,
   "metadata": {
    "ExecuteTime": {
     "end_time": "2020-11-18T23:29:30.512630Z",
     "start_time": "2020-11-18T23:29:30.081681Z"
    }
   },
   "outputs": [
    {
     "name": "stdout",
     "output_type": "stream",
     "text": [
      "27102 /scratch/rtm/ORACLES_DARE_v4.sh\r\n"
     ]
    }
   ],
   "source": [
    "! wc -l $f_list"
   ]
  },
  {
   "cell_type": "code",
   "execution_count": 174,
   "metadata": {
    "ExecuteTime": {
     "end_time": "2020-11-18T23:29:31.564967Z",
     "start_time": "2020-11-18T23:29:31.560101Z"
    }
   },
   "outputs": [],
   "source": [
    "f_listout = f_list+'.out'"
   ]
  },
  {
   "cell_type": "code",
   "execution_count": null,
   "metadata": {
    "ExecuteTime": {
     "end_time": "2020-11-19T00:51:17.628120Z",
     "start_time": "2020-11-18T23:29:32.382421Z"
    }
   },
   "outputs": [],
   "source": [
    "!parallel --jobs=22 --bar < $f_list #2> $f_listout"
   ]
  },
  {
   "cell_type": "markdown",
   "metadata": {},
   "source": [
    "### For daily averages"
   ]
  },
  {
   "cell_type": "code",
   "execution_count": 126,
   "metadata": {
    "ExecuteTime": {
     "end_time": "2021-05-06T21:40:08.752280Z",
     "start_time": "2021-05-06T21:40:08.745778Z"
    }
   },
   "outputs": [],
   "source": [
    "f_list = fp_rtm+'{}_DARE_{}.sh'.format(name,vvh)"
   ]
  },
  {
   "cell_type": "code",
   "execution_count": 127,
   "metadata": {
    "ExecuteTime": {
     "end_time": "2021-05-06T21:40:11.364978Z",
     "start_time": "2021-05-06T21:40:09.942183Z"
    }
   },
   "outputs": [
    {
     "name": "stdout",
     "output_type": "stream",
     "text": [
      "1300896 /scratch/rtm/ORACLES_DARE_v5_aodp_diurnal.sh\r\n"
     ]
    }
   ],
   "source": [
    "! wc -l $f_list"
   ]
  },
  {
   "cell_type": "code",
   "execution_count": 195,
   "metadata": {
    "ExecuteTime": {
     "end_time": "2021-02-27T07:41:50.680389Z",
     "start_time": "2021-02-27T07:41:50.675288Z"
    }
   },
   "outputs": [],
   "source": [
    "f_listout = f_list+'.out'"
   ]
  },
  {
   "cell_type": "code",
   "execution_count": null,
   "metadata": {
    "ExecuteTime": {
     "end_time": "2020-11-19T09:45:33.952570Z",
     "start_time": "2020-11-19T04:14:03.603166Z"
    }
   },
   "outputs": [
    {
     "name": "stdout",
     "output_type": "stream",
     "text": [
      "signal: 2\n",
      "signal: 2\n",
      "signal: 2\n"
     ]
    },
    {
     "name": "stderr",
     "output_type": "stream",
     "text": [
      "Process PoolWorker-486:\n",
      "Traceback (most recent call last):\n",
      "  File \"/usr/lib/python2.7/multiprocessing/process.py\", line 267, in _bootstrap\n",
      "    self.run()\n",
      "  File \"/usr/lib/python2.7/multiprocessing/process.py\", line 114, in run\n",
      "Traceback (most recent call last):\n",
      "    self._target(*self._args, **self._kwargs)\n",
      "ValueError: semaphore or lock released too many times\n",
      "    rrelease()\n",
      "    self.run()\n",
      "    task = get()\n",
      "  File \"/usr/lib/python2.7/multiprocessing/process.py\", line 114, in run\n",
      "  File \"/usr/lib/python2.7/multiprocessing/queues.py\", line 378, in get\n",
      "    self._target(*self._args, **self._kwargs)\n",
      "    rrelease()\n",
      "  File \"/usr/lib/python2.7/multiprocessing/pool.py\", line 102, in worker\n",
      "ValueError: semaphore or lock released too many times\n",
      "    task = get()\n",
      "  File \"/usr/lib/python2.7/multiprocessing/queues.py\", line 378, in get\n"
     ]
    }
   ],
   "source": [
    "!parallel --jobs=22 --bar < $f_list #2> $f_listout"
   ]
  },
  {
   "cell_type": "markdown",
   "metadata": {},
   "source": [
    "### For the CRE"
   ]
  },
  {
   "cell_type": "code",
   "execution_count": 71,
   "metadata": {
    "ExecuteTime": {
     "end_time": "2020-01-10T20:07:36.886978Z",
     "start_time": "2020-01-10T20:07:36.881824Z"
    }
   },
   "outputs": [],
   "source": [
    "f_list = fp_rtm+'{}_DARE_CRE_{}.sh'.format(name,vv)"
   ]
  },
  {
   "cell_type": "code",
   "execution_count": 72,
   "metadata": {
    "ExecuteTime": {
     "end_time": "2020-01-10T20:07:45.784048Z",
     "start_time": "2020-01-10T20:07:45.561672Z"
    }
   },
   "outputs": [
    {
     "name": "stdout",
     "output_type": "stream",
     "text": [
      "16597 /home/samuel/rtm/ORACLES_DARE_CRE_v2.sh\r\n"
     ]
    }
   ],
   "source": [
    "! wc -l $f_list"
   ]
  },
  {
   "cell_type": "code",
   "execution_count": 73,
   "metadata": {
    "ExecuteTime": {
     "end_time": "2020-01-10T20:07:52.984792Z",
     "start_time": "2020-01-10T20:07:52.978455Z"
    }
   },
   "outputs": [],
   "source": [
    "f_listout = f_list+'.out'"
   ]
  },
  {
   "cell_type": "code",
   "execution_count": 74,
   "metadata": {
    "ExecuteTime": {
     "end_time": "2020-01-10T21:41:53.552321Z",
     "start_time": "2020-01-10T20:08:00.370208Z"
    }
   },
   "outputs": [],
   "source": [
    "!parallel --jobs=7 --bar < $f_list 2> $f_listout"
   ]
  },
  {
   "cell_type": "markdown",
   "metadata": {},
   "source": [
    "## Read the files"
   ]
  },
  {
   "cell_type": "code",
   "execution_count": 128,
   "metadata": {
    "ExecuteTime": {
     "end_time": "2021-05-08T00:39:57.706468Z",
     "start_time": "2021-05-08T00:39:57.691558Z"
    },
    "scrolled": false
   },
   "outputs": [
    {
     "data": {
      "text/plain": [
       "(u'/scratch/rtm/output/ORACLES_DARE_v5_aodp_diurnal/',\n",
       " 'ORACLES',\n",
       " 'v5',\n",
       " [0, 1.5, 100.0])"
      ]
     },
     "execution_count": 128,
     "metadata": {},
     "output_type": "execute_result"
    }
   ],
   "source": [
    "fpp_out,name,vv,geo['zout']"
   ]
  },
  {
   "cell_type": "code",
   "execution_count": 129,
   "metadata": {
    "ExecuteTime": {
     "end_time": "2021-05-08T00:40:37.202711Z",
     "start_time": "2021-05-08T00:39:59.344476Z"
    }
   },
   "outputs": [],
   "source": [
    "n = len(ar['Start_UTC'][fla])\n",
    "nz = len(geo['zout'])\n",
    "nw = len(aero['wvl_arr'])\n",
    "nt = 48\n",
    "dat = {'cod':np.zeros(n)+np.nan,'ref':np.zeros(n)+np.nan,'ext':np.zeros((n,nw))+np.nan,\n",
    "       'ssa':np.zeros((n,nw))+np.nan,'asy':np.zeros((n,nw))+np.nan,'zout':geo['zout'],\n",
    "       'wvl':aero['wvl_arr'],'sza':np.zeros(n)+np.nan,\n",
    "       'dn':np.zeros((n,nz))+np.nan,'up':np.zeros((n,nz))+np.nan,\n",
    "       'dn_noa':np.zeros((n,nz))+np.nan,'up_noa':np.zeros((n,nz))+np.nan,\n",
    "       'dn_avg':np.zeros((n,nz))+np.nan,'up_avg':np.zeros((n,nz))+np.nan,\n",
    "       'dn_noa_avg':np.zeros((n,nz))+np.nan,'up_noa_avg':np.zeros((n,nz))+np.nan}\n",
    "\n",
    "for i,u in enumerate(ar['Start_UTC'][fla]):\n",
    "    \n",
    "    dat['cod'][i] = cod[flb][i]\n",
    "    dat['ref'][i] = ref[flb][i]\n",
    "    dat['sza'][i] = sza[fla][i]\n",
    "\n",
    "    iae = np.argmin(abs(ar['time_ae'][fla][i]-ae['time']/3600.0))\n",
    "    # Only run for aerosol rertievals within 1 hour\n",
    "    if abs(ar['time_ae'][fla][i]-ae['time']/3600.0)[iae]<1.0: \n",
    "\n",
    "        dat['ext'][i,:] = fx_ext(ar['AOD_polycoef_a0'][fla][i],ar['AOD_polycoef_a1'][fla][i],ar['AOD_polycoef_a2'][fla][i])[0]\n",
    "        dat['ssa'][i,:] = fx_aero(ae['SSA'][iae])[0]+dssa\n",
    "        try: dat['ssa'][i,dat['ssa'][i,:]>1.0] = 1.0\n",
    "        except: pass\n",
    "        try: dat['ssa'][i,dat['ssa'][i,:]<0.0] = 0.0\n",
    "        except: pass\n",
    "        dat['asy'][i,:] = fx_aero(ae['g_total'][iae])[0]\n"
   ]
  },
  {
   "cell_type": "markdown",
   "metadata": {},
   "source": [
    "### Conventional"
   ]
  },
  {
   "cell_type": "code",
   "execution_count": 133,
   "metadata": {
    "ExecuteTime": {
     "end_time": "2019-12-04T04:28:28.384019Z",
     "start_time": "2019-12-04T04:27:39.638000Z"
    }
   },
   "outputs": [
    {
     "data": {
      "application/vnd.jupyter.widget-view+json": {
       "model_id": "7e2d484723fd4df8b0eccf86039f1e09",
       "version_major": 2,
       "version_minor": 0
      },
      "text/plain": [
       "HBox(children=(IntProgress(value=0, max=28619), HTML(value=u'')))"
      ]
     },
     "metadata": {},
     "output_type": "display_data"
    }
   ],
   "source": [
    "\n",
    "if isjupyter():\n",
    "    pbar = tqdm(total=n)\n",
    "    \n",
    "\n",
    "for i,u in enumerate(ar['Start_UTC'][fla]):\n",
    "    \n",
    "    dat['cod'][i] = cod[flb][i]\n",
    "    dat['ref'][i] = ref[flb][i]\n",
    "    dat['sza'][i] = sza[fla][i]\n",
    "\n",
    "    iae = np.argmin(abs(ar['time_ae'][fla][i]-ae['time']/3600.0))\n",
    "    # Only run for aerosol rertievals within 1 hour\n",
    "    if abs(ar['time_ae'][fla][i]-ae['time']/3600.0)[iae]<1.0: \n",
    "\n",
    "        dat['ext'][i,:] = fx_ext(ar['AOD_polycoef_a0'][fla][i],ar['AOD_polycoef_a1'][fla][i],ar['AOD_polycoef_a2'][fla][i])[0]\n",
    "        dat['ssa'][i,:] = fx_aero(ae['SSA'][iae])[0]\n",
    "        dat['asy'][i,:] = fx_aero(ae['g_total'][iae])[0]\n",
    "        try:\n",
    "            f_in = '{name}_{vv}_DARE_{i:03d}_withaero.dat'.format(name=name,vv=vv,i=i)\n",
    "            o = Rl.read_libradtran(fpp_out+f_in,zout=geo['zout'])\n",
    "            f_in = '{name}_{vv}_star_{i:03d}_noaero.dat'.format(name=name,vv=vv,i=i)\n",
    "            on = Rl.read_libradtran(fpp_out+f_in,zout=geo['zout'])\n",
    "\n",
    "            dat['dn'][i,:] = o['diffuse_down']+o['direct_down']\n",
    "            dat['dn_noa'][i,:] = on['diffuse_down']+on['direct_down']\n",
    "            dat['up'][i,:] = o['diffuse_up']\n",
    "            dat['up_noa'][i,:] = on['diffuse_up']\n",
    "        except:\n",
    "            pass\n",
    "\n",
    "    if isjupyter(): \n",
    "        pbar.update(1)\n",
    "    else:\n",
    "        print i\n"
   ]
  },
  {
   "cell_type": "markdown",
   "metadata": {},
   "source": [
    "### Multiprocessing"
   ]
  },
  {
   "cell_type": "code",
   "execution_count": 186,
   "metadata": {
    "ExecuteTime": {
     "end_time": "2021-02-05T17:41:36.109421Z",
     "start_time": "2021-02-05T17:41:36.103064Z"
    }
   },
   "outputs": [],
   "source": [
    "class KeyboardInterruptError(Exception): pass"
   ]
  },
  {
   "cell_type": "code",
   "execution_count": 187,
   "metadata": {
    "ExecuteTime": {
     "end_time": "2021-02-05T17:41:36.136266Z",
     "start_time": "2021-02-05T17:41:36.114906Z"
    }
   },
   "outputs": [],
   "source": [
    "def read_files(i,fpp_out=fpp_out,name=name,vv=vv,zout=geo['zout']):\n",
    "    'function to feed the pool of workers to read all the files'\n",
    "    out = {}\n",
    "    try:\n",
    "        f_in = '{name}_{vv}_DARE_{i:03d}_withaero.dat'.format(name=name,vv=vv,i=i)\n",
    "        o = Rl.read_libradtran(fpp_out+f_in,zout=zout)\n",
    "        f_in = '{name}_{vv}_star_{i:03d}_noaero.dat'.format(name=name,vv=vv,i=i)\n",
    "        on = Rl.read_libradtran(fpp_out+f_in,zout=zout)\n",
    "\n",
    "        #dat['dn'][i,:] = o['diffuse_down']+o['direct_down']\n",
    "        #dat['dn_noa'][i,:] = on['diffuse_down']+on['direct_down']\n",
    "        #dat['up'][i,:] = o['diffuse_up']\n",
    "        #dat['up_noa'][i,:] = on['diffuse_up']\n",
    "        \n",
    "        out['dn'] = o['diffuse_down']+o['direct_down']\n",
    "        out['dn_noa'] = on['diffuse_down']+on['direct_down']\n",
    "        out['up'] = o['diffuse_up']\n",
    "        out['up_noa'] = on['diffuse_up']\n",
    "        out['i'] = i\n",
    "    except KeyboardInterrupt:\n",
    "        raise KeyboardInterruptError()\n",
    "        \n",
    "    except:\n",
    "        out['dn'] = np.zeros(len(zout))+np.nan\n",
    "        out['dn_noa'] = np.zeros(len(zout))+np.nan\n",
    "        out['up'] = np.zeros(len(zout))+np.nan\n",
    "        out['up_noa'] = np.zeros(len(zout))+np.nan\n",
    "        out['i'] = i\n",
    "    return out"
   ]
  },
  {
   "cell_type": "code",
   "execution_count": 188,
   "metadata": {
    "ExecuteTime": {
     "end_time": "2021-02-05T17:41:36.152228Z",
     "start_time": "2021-02-05T17:41:36.141614Z"
    }
   },
   "outputs": [],
   "source": [
    "def worker_init(verbose=True):\n",
    "    # ignore the SIGINI in sub process, just print a log\n",
    "    def sig_int(signal_num, frame):\n",
    "        if verbose: \n",
    "            print 'signal: %s' % signal_num\n",
    "        raise IOError\n",
    "    signal.signal(signal.SIGINT, sig_int)"
   ]
  },
  {
   "cell_type": "code",
   "execution_count": 66,
   "metadata": {
    "ExecuteTime": {
     "end_time": "2020-11-22T22:08:31.173304Z",
     "start_time": "2020-11-22T22:08:29.060583Z"
    }
   },
   "outputs": [
    {
     "name": "stdout",
     "output_type": "stream",
     "text": [
      "signal: 2\n",
      "signal: 2\n",
      "signal: 2\n",
      "signal: 2\n",
      "signal: 2\n",
      "signal: 2\n",
      "signal: 2\n",
      "signal: 2\n",
      "signal: 2\n",
      "signal: 2\n",
      "signal: 2\n",
      "signal: 2\n",
      "signal: 2\n",
      "signal: 2\n",
      "signal: 2\n",
      "signal: 2\n",
      "signal: 2\n",
      "signal: 2\n",
      "signal: 2\n",
      "signal: 2\n",
      "signal: 2\n",
      "signal: 2\n",
      "signal: 2\n"
     ]
    },
    {
     "name": "stderr",
     "output_type": "stream",
     "text": [
      "Process PoolWorker-3:\n",
      "Process PoolWorker-19:\n",
      "Process PoolWorker-13:\n",
      "Process PoolWorker-15:\n",
      "Process PoolWorker-4:\n",
      "Process PoolWorker-9:\n",
      "Process PoolWorker-18:\n",
      "Process PoolWorker-6:\n"
     ]
    },
    {
     "name": "stdout",
     "output_type": "stream",
     "text": [
      "signal: 2"
     ]
    },
    {
     "name": "stderr",
     "output_type": "stream",
     "text": [
      "Process PoolWorker-16:\n",
      "Process PoolWorker-10:\n"
     ]
    },
    {
     "name": "stdout",
     "output_type": "stream",
     "text": [
      "signal: 2"
     ]
    },
    {
     "name": "stderr",
     "output_type": "stream",
     "text": [
      "Process PoolWorker-17:\n",
      "Process PoolWorker-8:\n",
      "Process PoolWorker-20:\n",
      "Process PoolWorker-2:\n",
      "Process PoolWorker-11:\n",
      "Traceback (most recent call last):\n",
      "Process PoolWorker-1:\n",
      "Process PoolWorker-7:\n",
      "Process PoolWorker-14:\n",
      "Process PoolWorker-12:\n",
      "Traceback (most recent call last):\n",
      "Traceback (most recent call last):\n",
      "Process PoolWorker-5:\n",
      "Traceback (most recent call last):\n",
      "Traceback (most recent call last):\n",
      "Traceback (most recent call last):\n",
      "Traceback (most recent call last):\n",
      "Traceback (most recent call last):\n",
      "Traceback (most recent call last):\n",
      "Traceback (most recent call last):\n",
      "Traceback (most recent call last):\n",
      "Traceback (most recent call last):\n",
      "Traceback (most recent call last):\n",
      "Traceback (most recent call last):\n",
      "Traceback (most recent call last):\n",
      "Traceback (most recent call last):\n",
      "Traceback (most recent call last):\n",
      "  File \"/usr/lib/python2.7/multiprocessing/process.py\", line 267, in _bootstrap\n",
      "Traceback (most recent call last):\n",
      "Traceback (most recent call last):\n",
      "Traceback (most recent call last):\n",
      "  File \"/usr/lib/python2.7/multiprocessing/process.py\", line 267, in _bootstrap\n",
      "  File \"/usr/lib/python2.7/multiprocessing/process.py\", line 267, in _bootstrap\n",
      "  File \"/usr/lib/python2.7/multiprocessing/process.py\", line 267, in _bootstrap\n",
      "  File \"/usr/lib/python2.7/multiprocessing/process.py\", line 267, in _bootstrap\n",
      "  File \"/usr/lib/python2.7/multiprocessing/process.py\", line 267, in _bootstrap\n",
      "  File \"/usr/lib/python2.7/multiprocessing/process.py\", line 267, in _bootstrap\n",
      "  File \"/usr/lib/python2.7/multiprocessing/process.py\", line 267, in _bootstrap\n",
      "  File \"/usr/lib/python2.7/multiprocessing/process.py\", line 267, in _bootstrap\n",
      "  File \"/usr/lib/python2.7/multiprocessing/process.py\", line 267, in _bootstrap\n",
      "  File \"/usr/lib/python2.7/multiprocessing/process.py\", line 267, in _bootstrap\n",
      "  File \"/usr/lib/python2.7/multiprocessing/process.py\", line 267, in _bootstrap\n",
      "  File \"/usr/lib/python2.7/multiprocessing/process.py\", line 267, in _bootstrap\n",
      "  File \"/usr/lib/python2.7/multiprocessing/process.py\", line 267, in _bootstrap\n",
      "  File \"/usr/lib/python2.7/multiprocessing/process.py\", line 267, in _bootstrap\n",
      "  File \"/usr/lib/python2.7/multiprocessing/process.py\", line 267, in _bootstrap\n",
      "  File \"/usr/lib/python2.7/multiprocessing/process.py\", line 267, in _bootstrap\n",
      "  File \"/usr/lib/python2.7/multiprocessing/process.py\", line 267, in _bootstrap\n",
      "    self.run()\n",
      "    self.run()\n",
      "    self.run()\n",
      "    self.run()\n",
      "    self.run()\n",
      "    self.run()\n",
      "    self.run()\n",
      "    self.run()\n",
      "    self.run()\n",
      "    self.run()\n",
      "    self.run()\n",
      "    self.run()\n",
      "    self.run()\n",
      "  File \"/usr/lib/python2.7/multiprocessing/process.py\", line 267, in _bootstrap\n",
      "    self.run()\n",
      "    self.run()\n",
      "  File \"/usr/lib/python2.7/multiprocessing/process.py\", line 114, in run\n",
      "  File \"/usr/lib/python2.7/multiprocessing/process.py\", line 114, in run\n",
      "  File \"/usr/lib/python2.7/multiprocessing/process.py\", line 114, in run\n",
      "  File \"/usr/lib/python2.7/multiprocessing/process.py\", line 114, in run\n",
      "  File \"/usr/lib/python2.7/multiprocessing/process.py\", line 114, in run\n",
      "    self.run()\n",
      "  File \"/usr/lib/python2.7/multiprocessing/process.py\", line 114, in run\n",
      "  File \"/usr/lib/python2.7/multiprocessing/process.py\", line 114, in run\n",
      "  File \"/usr/lib/python2.7/multiprocessing/process.py\", line 114, in run\n",
      "  File \"/usr/lib/python2.7/multiprocessing/process.py\", line 114, in run\n",
      "    self.run()\n",
      "  File \"/usr/lib/python2.7/multiprocessing/process.py\", line 114, in run\n",
      "  File \"/usr/lib/python2.7/multiprocessing/process.py\", line 267, in _bootstrap\n",
      "  File \"/usr/lib/python2.7/multiprocessing/process.py\", line 114, in run\n",
      "  File \"/usr/lib/python2.7/multiprocessing/process.py\", line 114, in run\n",
      "  File \"/usr/lib/python2.7/multiprocessing/process.py\", line 114, in run\n",
      "    self.run()\n",
      "    self._target(*self._args, **self._kwargs)\n",
      "  File \"/usr/lib/python2.7/multiprocessing/process.py\", line 114, in run\n",
      "    self._target(*self._args, **self._kwargs)\n",
      "  File \"/usr/lib/python2.7/multiprocessing/process.py\", line 114, in run\n",
      "    self._target(*self._args, **self._kwargs)\n",
      "    self._target(*self._args, **self._kwargs)\n",
      "    self.run()\n",
      "  File \"/usr/lib/python2.7/multiprocessing/process.py\", line 114, in run\n",
      "    self._target(*self._args, **self._kwargs)\n",
      "    self._target(*self._args, **self._kwargs)\n",
      "    self._target(*self._args, **self._kwargs)\n",
      "    self._target(*self._args, **self._kwargs)\n",
      "    self._target(*self._args, **self._kwargs)\n",
      "  File \"/usr/lib/python2.7/multiprocessing/process.py\", line 114, in run\n",
      "    self._target(*self._args, **self._kwargs)\n",
      "    self.run()\n",
      "    self._target(*self._args, **self._kwargs)\n",
      "    self._target(*self._args, **self._kwargs)\n",
      "  File \"/usr/lib/python2.7/multiprocessing/process.py\", line 114, in run\n",
      "    self._target(*self._args, **self._kwargs)\n",
      "  File \"/usr/lib/python2.7/multiprocessing/pool.py\", line 102, in worker\n",
      "    self._target(*self._args, **self._kwargs)\n",
      "  File \"/usr/lib/python2.7/multiprocessing/pool.py\", line 102, in worker\n",
      "    self._target(*self._args, **self._kwargs)\n",
      "  File \"/usr/lib/python2.7/multiprocessing/pool.py\", line 102, in worker\n",
      "  File \"/usr/lib/python2.7/multiprocessing/process.py\", line 114, in run\n",
      "    self._target(*self._args, **self._kwargs)\n",
      "  File \"/usr/lib/python2.7/multiprocessing/pool.py\", line 102, in worker\n",
      "  File \"/usr/lib/python2.7/multiprocessing/pool.py\", line 102, in worker\n",
      "  File \"/usr/lib/python2.7/multiprocessing/pool.py\", line 102, in worker\n",
      "  File \"/usr/lib/python2.7/multiprocessing/pool.py\", line 102, in worker\n",
      "  File \"/usr/lib/python2.7/multiprocessing/pool.py\", line 102, in worker\n",
      "  File \"/usr/lib/python2.7/multiprocessing/pool.py\", line 102, in worker\n",
      "  File \"/usr/lib/python2.7/multiprocessing/pool.py\", line 102, in worker\n",
      "    self._target(*self._args, **self._kwargs)\n",
      "  File \"/usr/lib/python2.7/multiprocessing/pool.py\", line 102, in worker\n",
      "  File \"/usr/lib/python2.7/multiprocessing/pool.py\", line 102, in worker\n",
      "  File \"/usr/lib/python2.7/multiprocessing/pool.py\", line 102, in worker\n",
      "  File \"/usr/lib/python2.7/multiprocessing/pool.py\", line 102, in worker\n",
      "    task = get()\n",
      "    task = get()\n",
      "    self._target(*self._args, **self._kwargs)\n",
      "    task = get()\n",
      "  File \"/usr/lib/python2.7/multiprocessing/pool.py\", line 102, in worker\n",
      "    task = get()\n",
      "    task = get()\n",
      "  File \"/usr/lib/python2.7/multiprocessing/pool.py\", line 102, in worker\n",
      "    task = get()\n",
      "    task = get()\n",
      "    task = get()\n",
      "    task = get()\n",
      "  File \"/usr/lib/python2.7/multiprocessing/pool.py\", line 102, in worker\n",
      "    task = get()\n",
      "    self._target(*self._args, **self._kwargs)\n",
      "    task = get()\n",
      "    task = get()\n",
      "  File \"/usr/lib/python2.7/multiprocessing/process.py\", line 114, in run\n",
      "    task = get()\n",
      "    task = get()\n",
      "  File \"/usr/lib/python2.7/multiprocessing/queues.py\", line 378, in get\n",
      "  File \"/usr/lib/python2.7/multiprocessing/queues.py\", line 378, in get\n",
      "  File \"/usr/lib/python2.7/multiprocessing/pool.py\", line 102, in worker\n",
      "  File \"/usr/lib/python2.7/multiprocessing/queues.py\", line 378, in get\n",
      "  File \"/usr/lib/python2.7/multiprocessing/queues.py\", line 378, in get\n",
      "    task = get()\n",
      "    task = get()\n",
      "  File \"/usr/lib/python2.7/multiprocessing/queues.py\", line 378, in get\n",
      "  File \"/usr/lib/python2.7/multiprocessing/queues.py\", line 378, in get\n",
      "  File \"/usr/lib/python2.7/multiprocessing/queues.py\", line 378, in get\n",
      "  File \"/usr/lib/python2.7/multiprocessing/queues.py\", line 378, in get\n",
      "  File \"/usr/lib/python2.7/multiprocessing/queues.py\", line 378, in get\n",
      "    task = get()\n",
      "  File \"/usr/lib/python2.7/multiprocessing/pool.py\", line 102, in worker\n",
      "  File \"/usr/lib/python2.7/multiprocessing/queues.py\", line 378, in get\n",
      "  File \"/usr/lib/python2.7/multiprocessing/queues.py\", line 378, in get\n",
      "  File \"/usr/lib/python2.7/multiprocessing/queues.py\", line 378, in get\n",
      "  File \"/usr/lib/python2.7/multiprocessing/queues.py\", line 378, in get\n",
      "    rrelease()\n",
      "    task = get()\n",
      "    self._target(*self._args, **self._kwargs)\n",
      "    rrelease()\n",
      "    rrelease()\n",
      "  File \"/usr/lib/python2.7/multiprocessing/queues.py\", line 378, in get\n",
      "    rrelease()\n",
      "  File \"/usr/lib/python2.7/multiprocessing/queues.py\", line 378, in get\n",
      "  File \"/usr/lib/python2.7/multiprocessing/queues.py\", line 378, in get\n",
      "    rrelease()\n",
      "    rrelease()\n",
      "    rrelease()\n",
      "    rrelease()\n",
      "  File \"/usr/lib/python2.7/multiprocessing/queues.py\", line 378, in get\n"
     ]
    },
    {
     "name": "stderr",
     "output_type": "stream",
     "text": [
      "    rrelease()\n",
      "    rrelease()\n",
      "    task = get()\n",
      "    rrelease()\n",
      "    rrelease()\n",
      "ValueError: semaphore or lock released too many times\n",
      "  File \"/usr/lib/python2.7/multiprocessing/queues.py\", line 378, in get\n",
      "  File \"/usr/lib/python2.7/multiprocessing/pool.py\", line 102, in worker\n",
      "    rrelease()\n",
      "ValueError: semaphore or lock released too many times\n",
      "ValueError: semaphore or lock released too many times\n",
      "    rrelease()\n",
      "ValueError: semaphore or lock released too many times\n",
      "    rrelease()\n",
      "ValueError: semaphore or lock released too many times\n",
      "ValueError: semaphore or lock released too many times\n",
      "ValueError: semaphore or lock released too many times\n",
      "    rrelease()\n",
      "ValueError: semaphore or lock released too many times\n",
      "ValueError: semaphore or lock released too many times\n",
      "  File \"/usr/lib/python2.7/multiprocessing/queues.py\", line 378, in get\n",
      "ValueError: semaphore or lock released too many times\n"
     ]
    },
    {
     "name": "stdout",
     "output_type": "stream",
     "text": [
      "signal: 2"
     ]
    },
    {
     "name": "stderr",
     "output_type": "stream",
     "text": [
      "    rrelease()\n",
      "ValueError: semaphore or lock released too many times\n",
      "    task = get()\n"
     ]
    },
    {
     "name": "stdout",
     "output_type": "stream",
     "text": [
      "signal: 2signal: 2"
     ]
    },
    {
     "name": "stderr",
     "output_type": "stream",
     "text": [
      "ValueError: semaphore or lock released too many times\n"
     ]
    },
    {
     "name": "stdout",
     "output_type": "stream",
     "text": [
      "signal: 2"
     ]
    },
    {
     "name": "stderr",
     "output_type": "stream",
     "text": [
      "ValueError: semaphore or lock released too many times\n"
     ]
    },
    {
     "name": "stdout",
     "output_type": "stream",
     "text": [
      "signal: 2signal: 2signal: 2"
     ]
    },
    {
     "name": "stderr",
     "output_type": "stream",
     "text": [
      "ValueError: semaphore or lock released too many times\n"
     ]
    },
    {
     "name": "stdout",
     "output_type": "stream",
     "text": [
      "signal: 2signal: 2"
     ]
    },
    {
     "name": "stderr",
     "output_type": "stream",
     "text": [
      "ValueError: semaphore or lock released too many times\n",
      "    rrelease()\n",
      "    rrelease()\n",
      "ValueError: semaphore or lock released too many times\n",
      "  File \"/usr/lib/python2.7/multiprocessing/queues.py\", line 378, in get\n"
     ]
    },
    {
     "name": "stdout",
     "output_type": "stream",
     "text": [
      "signal: 2signal: 2"
     ]
    },
    {
     "name": "stderr",
     "output_type": "stream",
     "text": [
      "ValueError: semaphore or lock released too many times\n"
     ]
    },
    {
     "name": "stdout",
     "output_type": "stream",
     "text": [
      "signal: 2signal: 2signal: 2"
     ]
    },
    {
     "name": "stderr",
     "output_type": "stream",
     "text": [
      "ValueError: semaphore or lock released too many times\n",
      "ValueError: semaphore or lock released too many times\n"
     ]
    },
    {
     "name": "stdout",
     "output_type": "stream",
     "text": [
      "signal: 2signal: 2signal: 2signal: 2signal: 2"
     ]
    },
    {
     "name": "stderr",
     "output_type": "stream",
     "text": [
      "    rrelease()\n",
      "ValueError: semaphore or lock released too many times\n"
     ]
    },
    {
     "name": "stdout",
     "output_type": "stream",
     "text": [
      "signal: 2"
     ]
    }
   ],
   "source": [
    "p = Pool(cpu_count()-1,worker_init)"
   ]
  },
  {
   "cell_type": "code",
   "execution_count": 67,
   "metadata": {
    "ExecuteTime": {
     "end_time": "2020-11-22T22:08:35.768105Z",
     "start_time": "2020-11-22T22:08:31.953065Z"
    }
   },
   "outputs": [
    {
     "data": {
      "application/vnd.jupyter.widget-view+json": {
       "model_id": "9a25c7492ec34eb5809b59d6a76c8023",
       "version_major": 2,
       "version_minor": 0
      },
      "text/plain": [
       "A Jupyter Widget"
      ]
     },
     "metadata": {},
     "output_type": "display_data"
    },
    {
     "data": {
      "application/vnd.jupyter.widget-view+json": {
       "model_id": "ca4da29e9e444c85bcdf25fa8a11a35d",
       "version_major": 2,
       "version_minor": 0
      },
      "text/plain": [
       "A Jupyter Widget"
      ]
     },
     "metadata": {},
     "output_type": "display_data"
    },
    {
     "name": "stdout",
     "output_type": "stream",
     "text": [
      "\n",
      "\n"
     ]
    }
   ],
   "source": [
    "outputs = []\n",
    "max_ = len(ar['Start_UTC'][fla])\n",
    "with tqdm(total=max_) as pbar:\n",
    "    for i, outs in tqdm(enumerate(p.imap_unordered(read_files, range(0, max_)))):\n",
    "        pbar.update()\n",
    "        outputs.append(outs)"
   ]
  },
  {
   "cell_type": "code",
   "execution_count": 68,
   "metadata": {
    "ExecuteTime": {
     "end_time": "2020-11-22T22:08:36.517168Z",
     "start_time": "2020-11-22T22:08:36.505517Z"
    }
   },
   "outputs": [
    {
     "data": {
      "text/plain": [
       "{'dn': array([242.714     , 819.1433    , 960.38314097]),\n",
       " 'dn_noa': array([248.3537    , 833.05365   , 960.38314175]),\n",
       " 'i': 88,\n",
       " 'up': array([ 15.95853, 555.2325 , 531.787  ]),\n",
       " 'up_noa': array([ 16.3686, 563.4535, 548.3354])}"
      ]
     },
     "execution_count": 68,
     "metadata": {},
     "output_type": "execute_result"
    }
   ],
   "source": [
    "outputs[100]"
   ]
  },
  {
   "cell_type": "code",
   "execution_count": 69,
   "metadata": {
    "ExecuteTime": {
     "end_time": "2020-11-22T22:08:38.437185Z",
     "start_time": "2020-11-22T22:08:38.427012Z"
    }
   },
   "outputs": [
    {
     "data": {
      "text/plain": [
       "({'dn': array([nan, nan, nan]),\n",
       "  'dn_noa': array([nan, nan, nan]),\n",
       "  'i': 9,\n",
       "  'up': array([nan, nan, nan]),\n",
       "  'up_noa': array([nan, nan, nan])},\n",
       " {'dn': array([276.52890292, 728.4003    , 919.24013776]),\n",
       "  'dn_noa': array([303.68920399, 790.20073   , 919.24013975]),\n",
       "  'i': 2001,\n",
       "  'up': array([ 17.89621, 436.073  , 413.5954 ]),\n",
       "  'up_noa': array([ 19.84184, 470.714  , 464.0869 ])})"
      ]
     },
     "execution_count": 69,
     "metadata": {},
     "output_type": "execute_result"
    }
   ],
   "source": [
    "outputs[0],outputs[2000]"
   ]
  },
  {
   "cell_type": "code",
   "execution_count": 70,
   "metadata": {
    "ExecuteTime": {
     "end_time": "2020-11-22T22:08:40.226574Z",
     "start_time": "2020-11-22T22:08:40.216764Z"
    }
   },
   "outputs": [
    {
     "data": {
      "text/plain": [
       "['dn',\n",
       " 'dn_noa_avg',\n",
       " 'dn_noa',\n",
       " 'ssa',\n",
       " 'asy',\n",
       " 'sza',\n",
       " 'zout',\n",
       " 'up',\n",
       " 'ext',\n",
       " 'up_noa',\n",
       " 'cod',\n",
       " 'wvl',\n",
       " 'up_noa_avg',\n",
       " 'up_avg',\n",
       " 'dn_avg',\n",
       " 'ref']"
      ]
     },
     "execution_count": 70,
     "metadata": {},
     "output_type": "execute_result"
    }
   ],
   "source": [
    "dat.keys()"
   ]
  },
  {
   "cell_type": "code",
   "execution_count": 71,
   "metadata": {
    "ExecuteTime": {
     "end_time": "2020-11-22T22:08:41.679356Z",
     "start_time": "2020-11-22T22:08:41.546197Z"
    }
   },
   "outputs": [],
   "source": [
    "for oo in outputs:\n",
    "    dat['dn'][oo['i'],:] = oo['dn']\n",
    "    dat['dn_noa'][oo['i'],:] = oo['dn_noa']\n",
    "    dat['up'][oo['i'],:] = oo['up']\n",
    "    dat['up_noa'][oo['i'],:] = oo['up_noa']"
   ]
  },
  {
   "cell_type": "code",
   "execution_count": 72,
   "metadata": {
    "ExecuteTime": {
     "end_time": "2020-11-22T22:08:42.690409Z",
     "start_time": "2020-11-22T22:08:42.682191Z"
    }
   },
   "outputs": [
    {
     "data": {
      "text/plain": [
       "array([nan, nan, nan])"
      ]
     },
     "execution_count": 72,
     "metadata": {},
     "output_type": "execute_result"
    }
   ],
   "source": [
    "outputs[0]['dn']"
   ]
  },
  {
   "cell_type": "code",
   "execution_count": 73,
   "metadata": {
    "ExecuteTime": {
     "end_time": "2020-11-22T22:08:44.924969Z",
     "start_time": "2020-11-22T22:08:44.915385Z"
    }
   },
   "outputs": [
    {
     "data": {
      "text/plain": [
       "828.6699070126839"
      ]
     },
     "execution_count": 73,
     "metadata": {},
     "output_type": "execute_result"
    }
   ],
   "source": [
    "np.nanmean(dat['dn'])"
   ]
  },
  {
   "cell_type": "markdown",
   "metadata": {},
   "source": [
    "### Multiprocessing reading for diurnal averaging"
   ]
  },
  {
   "cell_type": "code",
   "execution_count": 130,
   "metadata": {
    "ExecuteTime": {
     "end_time": "2021-05-08T01:11:22.929496Z",
     "start_time": "2021-05-08T01:10:33.746976Z"
    }
   },
   "outputs": [],
   "source": [
    "n = len(ar['Start_UTC'][fla])\n",
    "nz = len(geo['zout'])\n",
    "nw = len(aero['wvl_arr'])\n",
    "nt = 48\n",
    "dat_24h = {'cod':np.zeros(n)+np.nan,'ref':np.zeros(n)+np.nan,'ext':np.zeros((n,nw))+np.nan,\n",
    "       'ssa':np.zeros((n,nw))+np.nan,'asy':np.zeros((n,nw))+np.nan,'zout':geo['zout'],\n",
    "       'wvl':aero['wvl_arr'],'sza':np.zeros(n)+np.nan,\n",
    "       'dn':np.zeros((n,nt,nz))+np.nan,'up':np.zeros((n,nt,nz))+np.nan,\n",
    "       'dn_noa':np.zeros((n,nt,nz))+np.nan,'up_noa':np.zeros((n,nt,nz))+np.nan,\n",
    "       'dn_avg':np.zeros((n,nz))+np.nan,'up_avg':np.zeros((n,nz))+np.nan,\n",
    "       'dn_noa_avg':np.zeros((n,nz))+np.nan,'up_noa_avg':np.zeros((n,nz))+np.nan,\n",
    "          'cods':np.zeros((n,nt))+np.nan,'refs':np.zeros((n,nt))+np.nan}\n",
    "ii = 0 \n",
    "for i,u in enumerate(ar['Start_UTC'][fla]):\n",
    "\n",
    "    dat_24h['cod'][i] = cod[flb][i]\n",
    "    dat_24h['ref'][i] = ref[flb][i]\n",
    "    dat_24h['sza'][i] = sza[fla][i]\n",
    "\n",
    "\n",
    "    iae = np.argmin(abs(ar['time_ae'][fla][i]-ae['time']/3600.0))\n",
    "    # Only run for aerosol rertievals within 1 hour\n",
    "    if abs(ar['time_ae'][fla][i]-ae['time']/3600.0)[iae]<1.0: \n",
    "\n",
    "        dat_24h['ext'][i,:] = fx_ext(ar['AOD_polycoef_a0'][fla][i],ar['AOD_polycoef_a1'][fla][i],ar['AOD_polycoef_a2'][fla][i])[0]+daod\n",
    "        try: dat_24h['ext'][i,dat_24h['ext'][i,:]<0.0] = 0.0\n",
    "        except: pass\n",
    "        #dat_24h['ssa'][i,:] = fx_aero(ae['SSA'][iae])[0]\n",
    "        dat_24h['ssa'][i,:] = fx_aero(ae['SSA'][iae])[0]+dssa\n",
    "        try: dat_24h['ssa'][i,dat_24h['ssa'][i,:]>1.0] = 1.0\n",
    "        except: pass\n",
    "        try: dat_24h['ssa'][i,dat_24h['ssa'][i,:]<0.0] = 0.0\n",
    "        except: pass\n",
    "        dat_24h['asy'][i,:] = fx_aero(ae['g_total'][iae])[0]+dasy\n",
    "        try: dat_24h['asy'][i,dat_24h['asy'][i,:]>1.0] = 1.0\n",
    "        except: pass\n",
    "        try: dat_24h['asy'][i,dat_24h['asy'][i,:]<0.0] = 0.0\n",
    "        except: pass\n",
    "        \n",
    "        dat_24h['cods'][i,:] = get_sines(A_cod[ii],B_cod[ii],cod[flb][i],u)\n",
    "        dat_24h['refs'][i,:] = get_sines(A_ref[ii],B_ref[ii],ref[flb][i],u)\n",
    "        ii = ii + 1\n"
   ]
  },
  {
   "cell_type": "code",
   "execution_count": 131,
   "metadata": {
    "ExecuteTime": {
     "end_time": "2021-05-08T01:11:22.943014Z",
     "start_time": "2021-05-08T01:11:22.934580Z"
    }
   },
   "outputs": [],
   "source": [
    "class KeyboardInterruptError(Exception): pass"
   ]
  },
  {
   "cell_type": "code",
   "execution_count": 132,
   "metadata": {
    "ExecuteTime": {
     "end_time": "2021-05-08T01:11:22.955820Z",
     "start_time": "2021-05-08T01:11:22.946670Z"
    }
   },
   "outputs": [],
   "source": [
    "v = np.zeros((48,3))+np.nan"
   ]
  },
  {
   "cell_type": "code",
   "execution_count": 133,
   "metadata": {
    "ExecuteTime": {
     "end_time": "2021-05-08T01:11:22.977906Z",
     "start_time": "2021-05-08T01:11:22.960697Z"
    }
   },
   "outputs": [
    {
     "data": {
      "text/plain": [
       "array([nan, nan, nan])"
      ]
     },
     "execution_count": 133,
     "metadata": {},
     "output_type": "execute_result"
    }
   ],
   "source": [
    "np.nanmean(v,axis=0)"
   ]
  },
  {
   "cell_type": "code",
   "execution_count": 134,
   "metadata": {
    "ExecuteTime": {
     "end_time": "2021-05-08T01:11:22.990604Z",
     "start_time": "2021-05-08T01:11:22.982626Z"
    }
   },
   "outputs": [
    {
     "data": {
      "text/plain": [
       "'v5_aodp_diurnal'"
      ]
     },
     "execution_count": 134,
     "metadata": {},
     "output_type": "execute_result"
    }
   ],
   "source": [
    "vvh"
   ]
  },
  {
   "cell_type": "code",
   "execution_count": 135,
   "metadata": {
    "ExecuteTime": {
     "end_time": "2021-05-08T01:11:23.001994Z",
     "start_time": "2021-05-08T01:11:22.995532Z"
    }
   },
   "outputs": [],
   "source": [
    "if not 'fpp_out' in locals():\n",
    "    fpp_in = fp_rtm+'input/{}_DARE_{}/'.format(name,vvh)\n",
    "    fpp_out = fp_rtm+'output/{}_DARE_{}/'.format(name,vvh)"
   ]
  },
  {
   "cell_type": "code",
   "execution_count": 136,
   "metadata": {
    "ExecuteTime": {
     "end_time": "2021-05-08T01:11:23.040476Z",
     "start_time": "2021-05-08T01:11:23.006930Z"
    }
   },
   "outputs": [],
   "source": [
    "def read_files(i,fpp_out=fpp_out,name=name,vv=vvh,zout=geo['zout']):\n",
    "    'function to feed the pool of workers to read all the files'\n",
    "    nz = len(zout)\n",
    "    out = {'dn':np.zeros((48,nz))+np.nan,'dn_noa':np.zeros((48,nz))+np.nan,\n",
    "           'up':np.zeros((48,nz))+np.nan,'up_noa':np.zeros((48,nz))+np.nan}\n",
    "    out['i'] = i\n",
    "    for u,ux in enumerate(np.arange(0,24,0.5)):\n",
    "        f_in = '{name}_{vv}_DARE_{i:03d}_withaero_{ux:04.1f}.dat'.format(name=name,vv=vv,i=i,ux=ux)\n",
    "        f_in_noa = '{name}_{vv}_star_{i:03d}_noaero_{ux:04.1f}.dat'.format(name=name,vv=vv,i=i,ux=ux)\n",
    "        \n",
    "        try:\n",
    "            o = Rl.read_libradtran(fpp_out+f_in,zout=zout)\n",
    "            on = Rl.read_libradtran(fpp_out+f_in_noa,zout=zout)\n",
    "\n",
    "            #dat['dn'][i,:] = o['diffuse_down']+o['direct_down']\n",
    "            #dat['dn_noa'][i,:] = on['diffuse_down']+on['direct_down']\n",
    "            #dat['up'][i,:] = o['diffuse_up']\n",
    "            #dat['up_noa'][i,:] = on['diffuse_up']\n",
    "\n",
    "            out['dn'][u,:] = o['diffuse_down']+o['direct_down']\n",
    "            out['dn_noa'][u,:] = on['diffuse_down']+on['direct_down']\n",
    "            out['up'][u,:] = o['diffuse_up']\n",
    "            out['up_noa'][u,:] = on['diffuse_up']\n",
    "            \n",
    "        except KeyboardInterrupt:\n",
    "            raise KeyboardInterruptError()\n",
    "\n",
    "        except:\n",
    "            out['dn'][u,:] = np.zeros(len(zout))+np.nan\n",
    "            out['dn_noa'][u,:] = np.zeros(len(zout))+np.nan\n",
    "            out['up'][u,:] = np.zeros(len(zout))+np.nan\n",
    "            out['up_noa'][u,:] = np.zeros(len(zout))+np.nan\n",
    "\n",
    "    out['dn_avg'] = np.nanmean(out['dn'],axis=0)\n",
    "    out['dn_noa_avg'] = np.nanmean(out['dn_noa'],axis=0)\n",
    "    out['up_avg'] = np.nanmean(out['up'],axis=0)\n",
    "    out['up_noa_avg'] = np.nanmean(out['up_noa'],axis=0)\n",
    "    return out"
   ]
  },
  {
   "cell_type": "code",
   "execution_count": 137,
   "metadata": {
    "ExecuteTime": {
     "end_time": "2021-05-08T01:11:23.051932Z",
     "start_time": "2021-05-08T01:11:23.044495Z"
    }
   },
   "outputs": [],
   "source": [
    "def worker_init(verbose=True):\n",
    "    # ignore the SIGINI in sub process, just print a log\n",
    "    def sig_int(signal_num, frame):\n",
    "        if verbose: \n",
    "            print 'signal: %s' % signal_num\n",
    "        raise IOError\n",
    "    signal.signal(signal.SIGINT, sig_int)"
   ]
  },
  {
   "cell_type": "code",
   "execution_count": 138,
   "metadata": {
    "ExecuteTime": {
     "end_time": "2021-05-08T01:37:19.916990Z",
     "start_time": "2021-05-08T01:37:16.913498Z"
    }
   },
   "outputs": [],
   "source": [
    "p = Pool(cpu_count()-1,worker_init)"
   ]
  },
  {
   "cell_type": "code",
   "execution_count": 139,
   "metadata": {
    "ExecuteTime": {
     "end_time": "2021-05-08T01:37:32.710177Z",
     "start_time": "2021-05-08T01:37:22.863025Z"
    }
   },
   "outputs": [
    {
     "data": {
      "application/vnd.jupyter.widget-view+json": {
       "model_id": "dcc2f921945640df937523f23e086ce4",
       "version_major": 2,
       "version_minor": 0
      },
      "text/plain": [
       "HBox(children=(IntProgress(value=0, max=27672), HTML(value=u'')))"
      ]
     },
     "metadata": {},
     "output_type": "display_data"
    },
    {
     "data": {
      "application/vnd.jupyter.widget-view+json": {
       "model_id": "8bb50bfe516f4dfc8c6c68b48a85d279",
       "version_major": 2,
       "version_minor": 0
      },
      "text/plain": [
       "HBox(children=(IntProgress(value=1, bar_style=u'info', max=1), HTML(value=u'')))"
      ]
     },
     "metadata": {},
     "output_type": "display_data"
    },
    {
     "name": "stdout",
     "output_type": "stream",
     "text": [
      "\n",
      "\n"
     ]
    }
   ],
   "source": [
    "outputs = []\n",
    "max_ = len(ar['Start_UTC'][fla])\n",
    "with tqdm(total=max_) as pbar:\n",
    "    for i, outs in tqdm(enumerate(p.imap_unordered(read_files, range(0, max_)))):\n",
    "        pbar.update()\n",
    "        outputs.append(outs)"
   ]
  },
  {
   "cell_type": "code",
   "execution_count": 140,
   "metadata": {
    "ExecuteTime": {
     "end_time": "2021-05-08T01:37:32.723266Z",
     "start_time": "2021-05-08T01:37:32.714104Z"
    }
   },
   "outputs": [
    {
     "data": {
      "text/plain": [
       "27672"
      ]
     },
     "execution_count": 140,
     "metadata": {},
     "output_type": "execute_result"
    }
   ],
   "source": [
    "len(outputs)"
   ]
  },
  {
   "cell_type": "code",
   "execution_count": 141,
   "metadata": {
    "ExecuteTime": {
     "end_time": "2021-05-08T01:37:33.272956Z",
     "start_time": "2021-05-08T01:37:32.727561Z"
    }
   },
   "outputs": [],
   "source": [
    "for oo in outputs:\n",
    "    dat_24h['dn_avg'][oo['i'],:] = oo['dn_avg']\n",
    "    dat_24h['dn_noa_avg'][oo['i'],:] = oo['dn_noa_avg']\n",
    "    dat_24h['up_avg'][oo['i'],:] = oo['up_avg']\n",
    "    dat_24h['up_noa_avg'][oo['i'],:] = oo['up_noa_avg']\n",
    "    dat_24h['dn'][oo['i'],:,:] = oo['dn']\n",
    "    dat_24h['dn_noa'][oo['i'],:,:] = oo['dn_noa']\n",
    "    dat_24h['up'][oo['i'],:,:] = oo['up']\n",
    "    dat_24h['up_noa'][oo['i'],:,:] = oo['up_noa']"
   ]
  },
  {
   "cell_type": "code",
   "execution_count": 142,
   "metadata": {
    "ExecuteTime": {
     "end_time": "2021-05-08T01:37:33.538839Z",
     "start_time": "2021-05-08T01:37:33.277965Z"
    }
   },
   "outputs": [],
   "source": [
    "dat_24h['dare'] = (dat_24h['dn']-dat_24h['up']) - (dat_24h['dn_noa']-dat_24h['up_noa'])"
   ]
  },
  {
   "cell_type": "code",
   "execution_count": 143,
   "metadata": {
    "ExecuteTime": {
     "end_time": "2021-05-08T01:37:33.552538Z",
     "start_time": "2021-05-08T01:37:33.544100Z"
    }
   },
   "outputs": [],
   "source": [
    "dat_24h['utc'] = ar['Start_UTC'][fla]\n",
    "dat_24h['lat'] = ar['Latitude'][fla]\n",
    "dat_24h['lon'] = ar['Longitude'][fla]\n",
    "dat_24h['doy'] = ar['doy'][fla]"
   ]
  },
  {
   "cell_type": "code",
   "execution_count": 144,
   "metadata": {
    "ExecuteTime": {
     "end_time": "2021-05-08T01:37:33.564827Z",
     "start_time": "2021-05-08T01:37:33.557058Z"
    }
   },
   "outputs": [],
   "source": [
    "dat_24h['dare_avg'] = (dat_24h['dn_avg']-dat_24h['up_avg']) - (dat_24h['dn_noa_avg']-dat_24h['up_noa_avg'])"
   ]
  },
  {
   "cell_type": "markdown",
   "metadata": {},
   "source": [
    "### combine"
   ]
  },
  {
   "cell_type": "code",
   "execution_count": 145,
   "metadata": {
    "ExecuteTime": {
     "end_time": "2021-05-08T01:37:35.598593Z",
     "start_time": "2021-05-08T01:37:35.591174Z"
    }
   },
   "outputs": [],
   "source": [
    "dat['dare'] = (dat['dn']-dat['up']) - (dat['dn_noa']-dat['up_noa'])"
   ]
  },
  {
   "cell_type": "code",
   "execution_count": 146,
   "metadata": {
    "ExecuteTime": {
     "end_time": "2021-05-08T01:37:36.665924Z",
     "start_time": "2021-05-08T01:37:36.656909Z"
    }
   },
   "outputs": [],
   "source": [
    "dat['utc'] = ar['Start_UTC'][fla]\n",
    "dat['lat'] = ar['Latitude'][fla]\n",
    "dat['lon'] = ar['Longitude'][fla]\n",
    "dat['doy'] = ar['doy'][fla]"
   ]
  },
  {
   "cell_type": "code",
   "execution_count": 206,
   "metadata": {
    "ExecuteTime": {
     "end_time": "2021-02-05T17:52:25.845913Z",
     "start_time": "2021-02-05T17:52:25.837820Z"
    }
   },
   "outputs": [],
   "source": [
    "dat['dare_avg'] = (dat['dn_avg']-dat['up_avg']) - (dat['dn_noa_avg']-dat['up_noa_avg'])"
   ]
  },
  {
   "cell_type": "code",
   "execution_count": 207,
   "metadata": {
    "ExecuteTime": {
     "end_time": "2021-02-05T17:52:26.311399Z",
     "start_time": "2021-02-05T17:52:26.304052Z"
    }
   },
   "outputs": [
    {
     "data": {
      "text/plain": [
       "(27672, 3)"
      ]
     },
     "execution_count": 207,
     "metadata": {},
     "output_type": "execute_result"
    }
   ],
   "source": [
    "dat['dare_avg'].shape"
   ]
  },
  {
   "cell_type": "markdown",
   "metadata": {},
   "source": [
    "## Save the file"
   ]
  },
  {
   "cell_type": "code",
   "execution_count": 105,
   "metadata": {
    "ExecuteTime": {
     "end_time": "2020-05-14T05:13:29.490181Z",
     "start_time": "2020-05-14T05:13:25.146477Z"
    }
   },
   "outputs": [
    {
     "name": "stdout",
     "output_type": "stream",
     "text": [
      "no sza\n",
      "no lon\n",
      "no dn_avg\n",
      "no ref\n",
      "no dn\n",
      "no asy\n",
      "zout\n",
      "no wvl\n",
      "no lat\n",
      "no ssa\n",
      "no dare\n",
      "no utc\n",
      "no dn_noa\n",
      "no up_noa_avg\n",
      "no up\n",
      "no dare_avg\n",
      "no ext\n",
      "no doy\n",
      "no cod\n",
      "no dn_noa_avg\n",
      "no up_avg\n",
      "no up_noa\n",
      "saving file to: /data/sam/ORACLES/ORACLES_DARE_aero_prop_v3_24h.mat\n"
     ]
    }
   ],
   "source": [
    "dat1 = iterate_dict_unicode(dat)\n",
    "print 'saving file to: '+fp+'{name}_DARE_aero_prop_{vv}.mat'.format(name=name,vv=vv)\n",
    "hs.savemat(fp+'{name}_DARE_aero_prop_{vv}.mat'.format(name=name,vv=vv),dat1)"
   ]
  },
  {
   "cell_type": "code",
   "execution_count": 78,
   "metadata": {
    "ExecuteTime": {
     "end_time": "2020-11-22T22:09:01.015009Z",
     "start_time": "2020-11-22T22:09:00.622427Z"
    }
   },
   "outputs": [
    {
     "name": "stdout",
     "output_type": "stream",
     "text": [
      "no sza\n",
      "no lon\n",
      "no dn_avg\n",
      "no ref\n",
      "no dn\n",
      "no asy\n",
      "zout\n",
      "no wvl\n",
      "no lat\n",
      "no ssa\n",
      "no dare\n",
      "no utc\n",
      "no dn_noa\n",
      "no up_noa_avg\n",
      "no up\n",
      "no dare_avg\n",
      "no ext\n",
      "no doy\n",
      "no cod\n",
      "no dn_noa_avg\n",
      "no up_avg\n",
      "no up_noa\n",
      "saving file to: /data/sam/ORACLES/ORACLES_DARE_v4.mat\n"
     ]
    }
   ],
   "source": [
    "dat1 = iterate_dict_unicode(dat)\n",
    "print 'saving file to: '+fp+'{name}_DARE_{vv}.mat'.format(name=name,vv=vv)\n",
    "hs.savemat(fp+'{name}_DARE_{vv}.mat'.format(name=name,vv=vv),dat1)"
   ]
  },
  {
   "cell_type": "code",
   "execution_count": 147,
   "metadata": {
    "ExecuteTime": {
     "end_time": "2021-05-08T01:37:49.752298Z",
     "start_time": "2021-05-08T01:37:47.457069Z"
    },
    "scrolled": false
   },
   "outputs": [
    {
     "name": "stdout",
     "output_type": "stream",
     "text": [
      "no refs\n",
      "no sza\n",
      "no cods\n",
      "no lon\n",
      "no dn_avg\n",
      "no ref\n",
      "no dn\n",
      "no asy\n",
      "zout\n",
      "no wvl\n",
      "no lat\n",
      "no ssa\n",
      "no dare\n",
      "no utc\n",
      "no dn_noa\n",
      "no up_noa_avg\n",
      "no up\n",
      "no dare_avg\n",
      "no ext\n",
      "no doy\n",
      "no cod\n",
      "no dn_noa_avg\n",
      "no up_avg\n",
      "no up_noa\n",
      "saving file to: /data/sam/ORACLES/ORACLES_DARE_v5_aodp_diurnal.mat\n"
     ]
    }
   ],
   "source": [
    "dat1_24h = iterate_dict_unicode(dat_24h)\n",
    "print 'saving file to: '+fp+'{name}_DARE_{vv}.mat'.format(name=name,vv=vvh)\n",
    "hs.savemat(fp+'{name}_DARE_{vv}.mat'.format(name=name,vv=vvh),dat1_24h)"
   ]
  },
  {
   "cell_type": "code",
   "execution_count": null,
   "metadata": {},
   "outputs": [],
   "source": []
  }
 ],
 "metadata": {
  "kernelspec": {
   "display_name": "Python 2",
   "language": "python",
   "name": "python2"
  },
  "language_info": {
   "codemirror_mode": {
    "name": "ipython",
    "version": 2
   },
   "file_extension": ".py",
   "mimetype": "text/x-python",
   "name": "python",
   "nbconvert_exporter": "python",
   "pygments_lexer": "ipython2",
   "version": "2.7.18"
  },
  "notify_time": "5",
  "toc": {
   "base_numbering": 1,
   "nav_menu": {
    "height": "232px",
    "width": "304px"
   },
   "number_sections": true,
   "sideBar": false,
   "skip_h1_title": false,
   "title_cell": "Table of Contents",
   "title_sidebar": "Contents",
   "toc_cell": false,
   "toc_position": {
    "height": "657.448px",
    "left": "50.9896px",
    "top": "183.99px",
    "width": "450.469px"
   },
   "toc_section_display": true,
   "toc_window_display": true
  }
 },
 "nbformat": 4,
 "nbformat_minor": 2
}
