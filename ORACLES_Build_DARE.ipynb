{
 "cells": [
  {
   "cell_type": "markdown",
   "metadata": {},
   "source": [
    "# Intro\n",
    "Name:  \n",
    "\n",
    "    ORACLES_Build_DARE\n",
    "\n",
    "Purpose:  \n",
    "\n",
    "    Build the aerosol radiative effect input files from the SSFR reflectances, 4STAR AOD, and 4STAR skyscan results\n",
    "  \n",
    "Input:\n",
    "\n",
    "    none at command line\n",
    "  \n",
    "Output:\n",
    "\n",
    "    figures and save files...\n",
    "  \n",
    "Keywords:\n",
    "\n",
    "    none\n",
    "  \n",
    "Dependencies:\n",
    "\n",
    "    - Sp_parameters.py : for Sp class definition, and for defining the functions used to build parameters\n",
    "    - matplotlib\n",
    "    - numpy\n",
    "    - scipy : for saving and reading\n",
    "    - plotting_utils (user defined plotting routines)\n",
    "    - hdf5storage\n",
    "  \n",
    "Needed Files:\n",
    "\n",
    "  - file.rc : for consistent creation of look of matplotlib figures\n",
    "  - 4STAR_cloud retrieval .mat files\n",
    "  \n",
    " Modification History:\n",
    " \n",
    "     Written: by Samuel LeBlanc, Santa Cruz, CA, 2019-12-02"
   ]
  },
  {
   "cell_type": "markdown",
   "metadata": {},
   "source": [
    "# Import of modules"
   ]
  },
  {
   "cell_type": "code",
   "execution_count": 1,
   "metadata": {
    "ExecuteTime": {
     "end_time": "2020-05-11T20:13:54.043680Z",
     "start_time": "2020-05-11T20:13:52.898701Z"
    }
   },
   "outputs": [],
   "source": [
    "import numpy as np\n",
    "import hdf5storage as hs\n",
    "import os\n",
    "import write_utils as wu\n",
    "import scipy.io as sio\n",
    "from path_utils import getpath\n",
    "import matplotlib.pyplot as plt\n",
    "import load_utils as lu\n",
    "from write_utils import nearest_neighbor, iterate_dict_unicode"
   ]
  },
  {
   "cell_type": "code",
   "execution_count": 2,
   "metadata": {
    "ExecuteTime": {
     "end_time": "2020-05-11T20:13:54.072745Z",
     "start_time": "2020-05-11T20:13:54.048175Z"
    }
   },
   "outputs": [],
   "source": [
    "%matplotlib notebook"
   ]
  },
  {
   "cell_type": "code",
   "execution_count": 3,
   "metadata": {
    "ExecuteTime": {
     "end_time": "2020-05-11T20:13:54.087964Z",
     "start_time": "2020-05-11T20:13:54.076946Z"
    }
   },
   "outputs": [],
   "source": [
    "from tqdm.notebook import tqdm \n",
    "from datetime import datetime"
   ]
  },
  {
   "cell_type": "code",
   "execution_count": 4,
   "metadata": {
    "ExecuteTime": {
     "end_time": "2020-05-11T20:13:54.585439Z",
     "start_time": "2020-05-11T20:13:54.578366Z"
    }
   },
   "outputs": [],
   "source": [
    "from multiprocessing import Pool, cpu_count\n",
    "from copy import deepcopy\n",
    "import signal\n",
    "import warnings\n",
    "warnings.simplefilter('ignore')"
   ]
  },
  {
   "cell_type": "code",
   "execution_count": 5,
   "metadata": {
    "ExecuteTime": {
     "end_time": "2020-05-11T20:13:55.448503Z",
     "start_time": "2020-05-11T20:13:55.441693Z"
    }
   },
   "outputs": [],
   "source": [
    "import Run_libradtran as Rl"
   ]
  },
  {
   "cell_type": "code",
   "execution_count": 6,
   "metadata": {
    "ExecuteTime": {
     "end_time": "2020-05-11T20:13:56.118357Z",
     "start_time": "2020-05-11T20:13:56.112865Z"
    }
   },
   "outputs": [],
   "source": [
    "name = 'ORACLES'"
   ]
  },
  {
   "cell_type": "code",
   "execution_count": 16,
   "metadata": {
    "ExecuteTime": {
     "end_time": "2020-05-11T20:14:59.471260Z",
     "start_time": "2020-05-11T20:14:59.465171Z"
    }
   },
   "outputs": [],
   "source": [
    "vv = 'v3'\n",
    "vr = 'R3'"
   ]
  },
  {
   "cell_type": "code",
   "execution_count": 8,
   "metadata": {
    "ExecuteTime": {
     "end_time": "2020-05-11T20:14:06.299997Z",
     "start_time": "2020-05-11T20:14:06.285539Z"
    }
   },
   "outputs": [
    {
     "name": "stdout",
     "output_type": "stream",
     "text": [
      "Return path named:  ORACLES /data/sam/ORACLES/\n",
      "Return path named:  rtm /scratch/rtm/\n",
      "Return path named:  uvspecb /home/sam/libradtran/libRadtran-2.0.2b/bin/\n",
      "Return path named:  uvspec_dat /home/sam/libradtran/libRadtran-2.0.2/data/\n"
     ]
    }
   ],
   "source": [
    "fp = getpath(name)\n",
    "fp_rtm = getpath('rtm')\n",
    "fp_uvspec = getpath('uvspecb')+'uvspec'\n",
    "matfile = fp+'{}_all_cld_ict.mat'.format(vr)\n",
    "fp_uvspec_dat = getpath('uvspec_dat') \n",
    "fp_rtmdat = fp_rtm+'dat/'"
   ]
  },
  {
   "cell_type": "markdown",
   "metadata": {},
   "source": [
    "# Load the files"
   ]
  },
  {
   "cell_type": "markdown",
   "metadata": {},
   "source": [
    "## Load the 4STAR AOD"
   ]
  },
  {
   "cell_type": "code",
   "execution_count": 9,
   "metadata": {
    "ExecuteTime": {
     "end_time": "2020-05-11T20:14:12.771260Z",
     "start_time": "2020-05-11T20:14:10.311135Z"
    }
   },
   "outputs": [],
   "source": [
    "ar = hs.loadmat(fp+'/aod_ict/v8/{v}/all_aod_ict_{v}_2016.mat'.format(v=vr))"
   ]
  },
  {
   "cell_type": "code",
   "execution_count": 10,
   "metadata": {
    "ExecuteTime": {
     "end_time": "2020-04-13T22:00:11.063861Z",
     "start_time": "2020-04-13T22:00:11.048595Z"
    },
    "scrolled": true
   },
   "outputs": [
    {
     "data": {
      "text/plain": [
       "[u'AOD1040',\n",
       " u'AOD0532',\n",
       " u'AOD0530',\n",
       " u'UNCAOD0550',\n",
       " u'UNCAOD0700',\n",
       " u'AOD0355',\n",
       " u'AOD1627',\n",
       " u'AOD0520',\n",
       " u'UNCAOD0620',\n",
       " u'AOD0606',\n",
       " u'AOD1064',\n",
       " u'Latitude',\n",
       " u'UNCAOD0452',\n",
       " u'fl_alt_6',\n",
       " u'AOD0620',\n",
       " u'AOD0700',\n",
       " u'AOD0550',\n",
       " u'AOD0660',\n",
       " u'UNCAOD1627',\n",
       " u'AOD0452',\n",
       " u'fl_routine',\n",
       " u'AOD0470',\n",
       " u'fl1',\n",
       " u'UNCAOD1236',\n",
       " u'fl3',\n",
       " u'fl2',\n",
       " u'UNCAOD1064',\n",
       " u'UNCAOD0501',\n",
       " u'AOD_angstrom_470_865',\n",
       " u'AOD_polycoef_a0',\n",
       " u'AOD_polycoef_a2',\n",
       " u'UNCAOD0606',\n",
       " u'UNCAOD0355',\n",
       " u'qual_flag',\n",
       " u'UNCAOD0675',\n",
       " u'AOD1559',\n",
       " u'UNCAOD1650',\n",
       " u'UNCAOD1559',\n",
       " u'UNCAOD1250',\n",
       " u'AOD0501',\n",
       " u'Longitude',\n",
       " u'AOD_polycoef_a1',\n",
       " u'UNCAOD0660',\n",
       " u'GPS_Alt',\n",
       " u'AOD1250',\n",
       " u'flac',\n",
       " u'UNCAOD0380',\n",
       " u'fl',\n",
       " u'AOD0675',\n",
       " u'fl_QA',\n",
       " u'AOD1236',\n",
       " u'AOD1650',\n",
       " u'UNCAOD0470',\n",
       " u'AOD0380',\n",
       " u'UNCAOD0865',\n",
       " u'Start_UTC',\n",
       " u'flr',\n",
       " u'UNCAOD0781',\n",
       " u'days',\n",
       " u'UNCAOD0520',\n",
       " u'fl_alt_22',\n",
       " u'AOD0781',\n",
       " u'fl_alt_18',\n",
       " u'flag_acaod',\n",
       " u'fl_alt',\n",
       " u'AOD0865',\n",
       " u'amass_aer',\n",
       " u'flacr',\n",
       " u'UNCAOD1020',\n",
       " u'UNCAOD0532',\n",
       " u'UNCAOD1040',\n",
       " u'UNCAOD0530',\n",
       " u'AOD1020']"
      ]
     },
     "execution_count": 10,
     "metadata": {},
     "output_type": "execute_result"
    }
   ],
   "source": [
    "ar.keys()"
   ]
  },
  {
   "cell_type": "code",
   "execution_count": 11,
   "metadata": {
    "ExecuteTime": {
     "end_time": "2020-04-13T22:00:12.393452Z",
     "start_time": "2020-04-13T22:00:12.382802Z"
    }
   },
   "outputs": [
    {
     "data": {
      "text/plain": [
       "(483692,)"
      ]
     },
     "execution_count": 11,
     "metadata": {},
     "output_type": "execute_result"
    }
   ],
   "source": [
    "ar['AOD0501'].shape"
   ]
  },
  {
   "cell_type": "code",
   "execution_count": 17,
   "metadata": {
    "ExecuteTime": {
     "end_time": "2020-05-11T20:15:02.787225Z",
     "start_time": "2020-05-11T20:15:02.760866Z"
    }
   },
   "outputs": [],
   "source": [
    "sza = np.arccos(1.0/ar['amass_aer'])*180.0/np.pi"
   ]
  },
  {
   "cell_type": "code",
   "execution_count": 18,
   "metadata": {
    "ExecuteTime": {
     "end_time": "2020-05-11T20:15:03.343118Z",
     "start_time": "2020-05-11T20:15:03.337033Z"
    }
   },
   "outputs": [],
   "source": [
    "days = ['20160824','20160825','20160827','20160830','20160831','20160902','20160904','20160906','20160908',\n",
    "       '20160910','20160912','20160914','20160918','20160920','20160924','20160925','20160927','20160930']"
   ]
  },
  {
   "cell_type": "code",
   "execution_count": 19,
   "metadata": {
    "ExecuteTime": {
     "end_time": "2020-05-11T20:15:03.865109Z",
     "start_time": "2020-05-11T20:15:03.856951Z"
    }
   },
   "outputs": [
    {
     "data": {
      "text/plain": [
       "18"
      ]
     },
     "execution_count": 19,
     "metadata": {},
     "output_type": "execute_result"
    }
   ],
   "source": [
    "len(days)"
   ]
  },
  {
   "cell_type": "code",
   "execution_count": 20,
   "metadata": {
    "ExecuteTime": {
     "end_time": "2020-05-11T20:15:04.274447Z",
     "start_time": "2020-05-11T20:15:04.265049Z"
    }
   },
   "outputs": [
    {
     "data": {
      "text/plain": [
       "array([ 0.,  0.,  0., ..., 17., 17., 17.])"
      ]
     },
     "execution_count": 20,
     "metadata": {},
     "output_type": "execute_result"
    }
   ],
   "source": [
    "ar['days']"
   ]
  },
  {
   "cell_type": "markdown",
   "metadata": {},
   "source": [
    "## Load the retrieved Cloud properties"
   ]
  },
  {
   "cell_type": "code",
   "execution_count": 21,
   "metadata": {
    "ExecuteTime": {
     "end_time": "2020-05-11T20:15:06.389797Z",
     "start_time": "2020-05-11T20:15:05.900379Z"
    }
   },
   "outputs": [],
   "source": [
    "cl = hs.loadmat(fp+'data_other/ssfr_2016_retrieved_COD_{}.mat'.format(vv))"
   ]
  },
  {
   "cell_type": "code",
   "execution_count": 22,
   "metadata": {
    "ExecuteTime": {
     "end_time": "2020-05-11T20:15:07.204316Z",
     "start_time": "2020-05-11T20:15:07.193011Z"
    }
   },
   "outputs": [
    {
     "data": {
      "text/plain": [
       "[u'tau',\n",
       " u'aod',\n",
       " u'utc',\n",
       " u'Rvis',\n",
       " u'ki',\n",
       " u'sza',\n",
       " u'lon',\n",
       " u'days',\n",
       " u'a1',\n",
       " u'a0',\n",
       " u'a2',\n",
       " u'Rnir',\n",
       " u'lat',\n",
       " u'Rvis_mod',\n",
       " u'Rnir_mod',\n",
       " u'ref']"
      ]
     },
     "execution_count": 22,
     "metadata": {},
     "output_type": "execute_result"
    }
   ],
   "source": [
    "cl.keys()"
   ]
  },
  {
   "cell_type": "code",
   "execution_count": 23,
   "metadata": {
    "ExecuteTime": {
     "end_time": "2020-05-11T20:15:08.650305Z",
     "start_time": "2020-05-11T20:15:08.641429Z"
    }
   },
   "outputs": [
    {
     "data": {
      "text/plain": [
       "(380923,)"
      ]
     },
     "execution_count": 23,
     "metadata": {},
     "output_type": "execute_result"
    }
   ],
   "source": [
    "cl['tau'].shape"
   ]
  },
  {
   "cell_type": "code",
   "execution_count": 24,
   "metadata": {
    "ExecuteTime": {
     "end_time": "2020-05-11T20:15:09.358173Z",
     "start_time": "2020-05-11T20:15:09.353321Z"
    }
   },
   "outputs": [],
   "source": [
    "dds = ['20160830','20160831','20160902','20160904','20160906','20160908',\n",
    "       '20160910','20160912','20160914','20160918','20160920','20160924','20160925','20160927']"
   ]
  },
  {
   "cell_type": "code",
   "execution_count": 25,
   "metadata": {
    "ExecuteTime": {
     "end_time": "2020-05-11T20:15:10.010321Z",
     "start_time": "2020-05-11T20:15:10.001222Z"
    }
   },
   "outputs": [
    {
     "data": {
      "text/plain": [
       "14"
      ]
     },
     "execution_count": 25,
     "metadata": {},
     "output_type": "execute_result"
    }
   ],
   "source": [
    "len(dds)"
   ]
  },
  {
   "cell_type": "code",
   "execution_count": 26,
   "metadata": {
    "ExecuteTime": {
     "end_time": "2020-05-11T20:15:10.770050Z",
     "start_time": "2020-05-11T20:15:10.760923Z"
    }
   },
   "outputs": [
    {
     "data": {
      "text/plain": [
       "array([ 0.,  0.,  0., ..., 13., 13., 13.])"
      ]
     },
     "execution_count": 26,
     "metadata": {},
     "output_type": "execute_result"
    }
   ],
   "source": [
    "cl['days']"
   ]
  },
  {
   "cell_type": "code",
   "execution_count": 27,
   "metadata": {
    "ExecuteTime": {
     "end_time": "2020-05-11T20:15:11.606108Z",
     "start_time": "2020-05-11T20:15:11.586287Z"
    }
   },
   "outputs": [],
   "source": [
    "dd = np.unique(cl['days'])"
   ]
  },
  {
   "cell_type": "code",
   "execution_count": 28,
   "metadata": {
    "ExecuteTime": {
     "end_time": "2020-05-11T20:15:12.788340Z",
     "start_time": "2020-05-11T20:15:12.689734Z"
    }
   },
   "outputs": [
    {
     "name": "stdout",
     "output_type": "stream",
     "text": [
      "0.0\n",
      "1.0\n",
      "2.0\n",
      "3.0\n",
      "4.0\n",
      "5.0\n",
      "6.0\n",
      "7.0\n",
      "8.0\n",
      "9.0\n",
      "10.0\n",
      "11.0\n",
      "12.0\n",
      "13.0\n"
     ]
    }
   ],
   "source": [
    "cod,ref = [],[]\n",
    "for d in dd:\n",
    "    print d\n",
    "    fld = cl['days']==d\n",
    "    fad = ar['days']==d+3.0\n",
    "    #nearest neighbor, but not more than a minute away\n",
    "    cod_tmp = nearest_neighbor(cl['utc'][fld],cl['tau'][fld],ar['Start_UTC'][fad],dist=1.0/60.0) \n",
    "    ref_tmp = nearest_neighbor(cl['utc'][fld],cl['ref'][fld],ar['Start_UTC'][fad],dist=1.0/60.0)\n",
    "    cod = np.append(cod,cod_tmp)\n",
    "    ref = np.append(ref,ref_tmp)"
   ]
  },
  {
   "cell_type": "code",
   "execution_count": 29,
   "metadata": {
    "ExecuteTime": {
     "end_time": "2020-05-11T20:15:13.896924Z",
     "start_time": "2020-05-11T20:15:13.888651Z"
    }
   },
   "outputs": [
    {
     "data": {
      "text/plain": [
       "(379755,)"
      ]
     },
     "execution_count": 29,
     "metadata": {},
     "output_type": "execute_result"
    }
   ],
   "source": [
    "cod.shape"
   ]
  },
  {
   "cell_type": "code",
   "execution_count": 30,
   "metadata": {
    "ExecuteTime": {
     "end_time": "2020-05-11T20:15:14.563514Z",
     "start_time": "2020-05-11T20:15:14.554180Z"
    }
   },
   "outputs": [
    {
     "data": {
      "text/plain": [
       "14"
      ]
     },
     "execution_count": 30,
     "metadata": {},
     "output_type": "execute_result"
    }
   ],
   "source": [
    "len(dds)"
   ]
  },
  {
   "cell_type": "code",
   "execution_count": 31,
   "metadata": {
    "ExecuteTime": {
     "end_time": "2020-05-11T20:15:15.083555Z",
     "start_time": "2020-05-11T20:15:15.058463Z"
    }
   },
   "outputs": [
    {
     "data": {
      "text/plain": [
       "18"
      ]
     },
     "execution_count": 31,
     "metadata": {},
     "output_type": "execute_result"
    }
   ],
   "source": [
    "len(np.unique(ar['days']))"
   ]
  },
  {
   "cell_type": "markdown",
   "metadata": {},
   "source": [
    "## Load the skyscan retrievals"
   ]
  },
  {
   "cell_type": "code",
   "execution_count": 32,
   "metadata": {
    "ExecuteTime": {
     "end_time": "2020-05-11T20:15:18.130010Z",
     "start_time": "2020-05-11T20:15:17.753519Z"
    }
   },
   "outputs": [
    {
     "name": "stdout",
     "output_type": "stream",
     "text": [
      "Reading file: /data/sam/ORACLES/aeroinv_2016/netcdf4/4STAR-aeroinv_P3_2016_R0.nc\n"
     ]
    }
   ],
   "source": [
    "try:\n",
    "    ae,ae_dict = lu.load_netcdf(fp+'aeroinv_2016/netcdf4/4STAR-aeroinv_P3_2016_R0.nc',everything=True)\n",
    "except:\n",
    "    import h5py as h5\n",
    "    f5 = h5.File(fp+'aeroinv_2016/netcdf4/4STAR-aeroinv_P3_2016_R0.nc','r')\n",
    "    ae5 = {}\n",
    "    ae5_dict = {}\n",
    "    for ka,kd in f5.iteritems():\n",
    "        ae5[ka] = kd.value\n",
    "        ae5_dict[ka] = {}\n",
    "        for kdict in kd.attrs.iteritems():\n",
    "            if type(kdict[1])!=type(np.array([])):\n",
    "                ae5_dict[ka][kdict[0]] = kdict[1]\n",
    "    ae = ae5\n",
    "    ae_dict = ae5_dict"
   ]
  },
  {
   "cell_type": "code",
   "execution_count": 33,
   "metadata": {
    "ExecuteTime": {
     "end_time": "2020-05-11T20:15:22.423918Z",
     "start_time": "2020-05-11T20:15:22.410489Z"
    },
    "scrolled": true
   },
   "outputs": [
    {
     "data": {
      "text/plain": [
       "[u'AAOD',\n",
       " u'AGOD',\n",
       " u'AOD_fit_coarse',\n",
       " u'AOD_fit_fine',\n",
       " u'AOD_fit_total',\n",
       " u'AOD_meas',\n",
       " u'GPS_Altitude',\n",
       " u'GPS_Altitude_std',\n",
       " u'Heading',\n",
       " u'Heading_std',\n",
       " u'Lat',\n",
       " u'Lon',\n",
       " u'PF_angle',\n",
       " u'PF_coarse',\n",
       " u'PF_fine',\n",
       " u'PF_total',\n",
       " u'PWV',\n",
       " u'P_static',\n",
       " u'Pitch',\n",
       " u'Pitch_std',\n",
       " u'QA_level',\n",
       " u'RH',\n",
       " u'Roll',\n",
       " u'Roll_std',\n",
       " u'SA',\n",
       " u'SAZ',\n",
       " u'SEL',\n",
       " u'SSA',\n",
       " u'SZA',\n",
       " u'TOD_fit',\n",
       " u'TOD_meas',\n",
       " u'TOD_meas_minus_fit',\n",
       " u'T_static',\n",
       " u'base_time',\n",
       " u'g_coarse',\n",
       " u'g_fine',\n",
       " u'g_total',\n",
       " u'm_ray',\n",
       " u'n_imag',\n",
       " u'n_real',\n",
       " u'normalized_sky_radiance',\n",
       " u'normalized_sky_radiance_fit',\n",
       " u'psd',\n",
       " u'radius',\n",
       " u'sca_angle',\n",
       " u'scan_tag',\n",
       " u'scan_type',\n",
       " u'sfc_alb',\n",
       " u'sky_radiance_fit_error',\n",
       " u'sphericity',\n",
       " u'sphericity_err',\n",
       " u'time',\n",
       " u'time_offset',\n",
       " u'wavelength']"
      ]
     },
     "execution_count": 33,
     "metadata": {},
     "output_type": "execute_result"
    }
   ],
   "source": [
    "ke = ae.keys()\n",
    "ke.sort()\n",
    "ke"
   ]
  },
  {
   "cell_type": "code",
   "execution_count": 34,
   "metadata": {
    "ExecuteTime": {
     "end_time": "2020-05-11T20:15:23.650992Z",
     "start_time": "2020-05-11T20:15:23.641385Z"
    }
   },
   "outputs": [
    {
     "data": {
      "text/plain": [
       "array([0.2365, 0.1788, 0.1115, 0.0665, 0.0549])"
      ]
     },
     "execution_count": 34,
     "metadata": {},
     "output_type": "execute_result"
    }
   ],
   "source": [
    "ae['AOD_meas'][0]"
   ]
  },
  {
   "cell_type": "code",
   "execution_count": 35,
   "metadata": {
    "ExecuteTime": {
     "end_time": "2020-05-11T20:15:24.320734Z",
     "start_time": "2020-05-11T20:15:24.313688Z"
    }
   },
   "outputs": [
    {
     "data": {
      "text/plain": [
       "{u'Comment': 'Based on AERONET inversion criteria in https://aeronet.gsfc.nasa.gov/new_web/Documents/AERONETcriteria_final1.pdf',\n",
       " u'Comment2': 'A consequence of the symmetry requirement for level 2 is that PPL scans can assess at no higher than 1.5',\n",
       " u'_Netcdf4Dimid': 0,\n",
       " u'lev1': 'Has at least one point at all wavelengths in each of 4 scattering angle ranges',\n",
       " u'lev1p5': 'Has 10+ values at all wavelengths with scattering angle >80 deg and at least one point in each of 4 scattering angle ranges',\n",
       " u'lev2': 'Has 21+ values at all wavelengths with scattering angle >80 deg and multiple points in each of 4 scattering angle ranges, and <20% asymmetry between CW and CCW legs',\n",
       " u'long_name': 'absorption AOD',\n",
       " u'source': 'retrieval',\n",
       " u'units': 'unitless',\n",
       " u'values': '1.0 1.5 2.0'}"
      ]
     },
     "execution_count": 35,
     "metadata": {},
     "output_type": "execute_result"
    }
   ],
   "source": [
    "ae_dict['AAOD']"
   ]
  },
  {
   "cell_type": "code",
   "execution_count": 50,
   "metadata": {
    "ExecuteTime": {
     "end_time": "2020-04-13T22:25:43.548640Z",
     "start_time": "2020-04-13T22:25:43.539142Z"
    }
   },
   "outputs": [
    {
     "data": {
      "text/plain": [
       "{u'Comment': 'Based on AERONET inversion criteria in https://aeronet.gsfc.nasa.gov/new_web/Documents/AERONETcriteria_final1.pdf',\n",
       " u'Comment2': 'A consequence of the symmetry requirement for level 2 is that PPL scans can assess at no higher than 1.5',\n",
       " u'_Netcdf4Dimid': 0,\n",
       " u'lev1': 'Has at least one point at all wavelengths in each of 4 scattering angle ranges',\n",
       " u'lev1p5': 'Has 10+ values at all wavelengths with scattering angle >80 deg and at least one point in each of 4 scattering angle ranges',\n",
       " u'lev2': 'Has 21+ values at all wavelengths with scattering angle >80 deg and multiple points in each of 4 scattering angle ranges, and <20% asymmetry between CW and CCW legs',\n",
       " u'long_name': 'single scattering albedo',\n",
       " u'source': 'retrieval',\n",
       " u'units': 'unitless',\n",
       " u'values': '1.0 1.5 2.0'}"
      ]
     },
     "execution_count": 50,
     "metadata": {},
     "output_type": "execute_result"
    }
   ],
   "source": [
    "ae_dict['SSA']"
   ]
  },
  {
   "cell_type": "code",
   "execution_count": 51,
   "metadata": {
    "ExecuteTime": {
     "end_time": "2020-04-13T22:25:50.317443Z",
     "start_time": "2020-04-13T22:25:50.307248Z"
    },
    "scrolled": true
   },
   "outputs": [
    {
     "data": {
      "text/plain": [
       "(84, 5)"
      ]
     },
     "execution_count": 51,
     "metadata": {},
     "output_type": "execute_result"
    }
   ],
   "source": [
    "ae['SSA'].shape"
   ]
  },
  {
   "cell_type": "code",
   "execution_count": 52,
   "metadata": {
    "ExecuteTime": {
     "end_time": "2020-04-13T22:25:51.483095Z",
     "start_time": "2020-04-13T22:25:51.475202Z"
    }
   },
   "outputs": [
    {
     "data": {
      "text/plain": [
       "{u'CLASS': 'DIMENSION_SCALE',\n",
       " u'NAME': 'time',\n",
       " u'_Netcdf4Dimid': 0,\n",
       " u'long_name': 'Time offset from midnight',\n",
       " u'units': 'seconds since 2016-08-31 00:00:00 0:00'}"
      ]
     },
     "execution_count": 52,
     "metadata": {},
     "output_type": "execute_result"
    }
   ],
   "source": [
    "ae_dict['time']"
   ]
  },
  {
   "cell_type": "code",
   "execution_count": 36,
   "metadata": {
    "ExecuteTime": {
     "end_time": "2020-05-11T20:15:28.436488Z",
     "start_time": "2020-05-11T20:15:28.425274Z"
    }
   },
   "outputs": [
    {
     "data": {
      "text/plain": [
       "array([  9.36436349,   9.38314424,  11.44100489,  13.53473135,\n",
       "        13.55286422,  13.63317105,  13.65609344,  14.15397498,\n",
       "        14.17291726,  55.12454682,  56.45493072,  56.47428852,\n",
       "        56.50556153,  56.52408765,  56.62796449,  56.64651974,\n",
       "        57.3145811 ,  57.57097029,  57.58955459,  58.57214188,\n",
       "        58.99556736,  60.49512862,  60.51375567,  60.53747322,\n",
       "        62.83647775, 153.56740963, 153.58586041, 154.09168935,\n",
       "       154.11113343, 154.98052584, 155.82233424, 155.84067681,\n",
       "       156.42516806, 156.44378445, 157.14872684, 157.16740038,\n",
       "       203.2280269 , 251.08488591, 252.31515166, 300.24803314,\n",
       "       301.14747711, 301.1660435 , 301.18294843, 301.7608256 ,\n",
       "       301.77941441, 302.12064148, 302.14029531, 345.31344008,\n",
       "       345.33189656, 346.52380833, 346.63178176, 346.6632354 ,\n",
       "       349.91946379, 441.84949381, 489.40488159, 489.42472078,\n",
       "       489.45796597, 489.48503416, 489.52466494, 489.55642007,\n",
       "       489.58136179, 491.02055947, 491.14471216, 492.66561342,\n",
       "       492.70347723, 492.75552446, 493.23101581, 493.25420547,\n",
       "       493.28753676, 493.31825604, 493.39634628, 585.70342018,\n",
       "       585.81399486, 587.9221829 , 609.80894124, 609.82767846,\n",
       "       611.75699517, 613.90812606, 613.97765332, 613.99688071,\n",
       "       614.07015826, 614.08907765, 615.32024977, 665.05941757])"
      ]
     },
     "execution_count": 36,
     "metadata": {},
     "output_type": "execute_result"
    }
   ],
   "source": [
    "ae['time']/3600.0"
   ]
  },
  {
   "cell_type": "code",
   "execution_count": 37,
   "metadata": {
    "ExecuteTime": {
     "end_time": "2020-05-11T20:15:30.222429Z",
     "start_time": "2020-05-11T20:15:30.217418Z"
    }
   },
   "outputs": [],
   "source": [
    "days = ['20160824','20160825','20160827','20160830','20160831','20160902','20160904','20160906','20160908',\n",
    "       '20160910','20160912','20160914','20160918','20160920','20160924','20160925','20160927','20160930']"
   ]
  },
  {
   "cell_type": "code",
   "execution_count": 38,
   "metadata": {
    "ExecuteTime": {
     "end_time": "2020-05-11T20:15:37.436084Z",
     "start_time": "2020-05-11T20:15:30.697735Z"
    },
    "scrolled": true
   },
   "outputs": [],
   "source": [
    "ar['doy'] = np.array([datetime.strptime(days[int(d)],'%Y%m%d').timetuple().tm_yday for d in ar['days']])"
   ]
  },
  {
   "cell_type": "code",
   "execution_count": 39,
   "metadata": {
    "ExecuteTime": {
     "end_time": "2020-05-11T20:15:37.450071Z",
     "start_time": "2020-05-11T20:15:37.441175Z"
    }
   },
   "outputs": [
    {
     "data": {
      "text/plain": [
       "244"
      ]
     },
     "execution_count": 39,
     "metadata": {},
     "output_type": "execute_result"
    }
   ],
   "source": [
    "datetime.strptime(days[4],'%Y%m%d').timetuple().tm_yday"
   ]
  },
  {
   "cell_type": "code",
   "execution_count": 40,
   "metadata": {
    "ExecuteTime": {
     "end_time": "2020-05-11T20:15:37.467761Z",
     "start_time": "2020-05-11T20:15:37.454719Z"
    }
   },
   "outputs": [],
   "source": [
    "ar['time_ae'] = ar['Start_UTC']+(24.0*(ar['doy']-244))"
   ]
  },
  {
   "cell_type": "code",
   "execution_count": 41,
   "metadata": {
    "ExecuteTime": {
     "end_time": "2020-05-11T20:15:37.480741Z",
     "start_time": "2020-05-11T20:15:37.472075Z"
    }
   },
   "outputs": [
    {
     "data": {
      "text/plain": [
       "array([-156.14305556, -156.14277778, -156.1425    , ...,  737.93      ,\n",
       "        737.93027778,  737.93055556])"
      ]
     },
     "execution_count": 41,
     "metadata": {},
     "output_type": "execute_result"
    }
   ],
   "source": [
    "ar['time_ae']"
   ]
  },
  {
   "cell_type": "markdown",
   "metadata": {},
   "source": [
    "# Prepare the base dict and defaults"
   ]
  },
  {
   "cell_type": "code",
   "execution_count": 42,
   "metadata": {
    "ExecuteTime": {
     "end_time": "2020-05-11T20:15:46.809366Z",
     "start_time": "2020-05-11T20:15:46.799034Z"
    }
   },
   "outputs": [
    {
     "data": {
      "text/plain": [
       "321"
      ]
     },
     "execution_count": 42,
     "metadata": {},
     "output_type": "execute_result"
    }
   ],
   "source": [
    "from datetime import datetime\n",
    "datetime(2015,11,17).timetuple().tm_yday"
   ]
  },
  {
   "cell_type": "code",
   "execution_count": 43,
   "metadata": {
    "ExecuteTime": {
     "end_time": "2020-05-11T20:15:47.516827Z",
     "start_time": "2020-05-11T20:15:47.506951Z"
    }
   },
   "outputs": [],
   "source": [
    "# for all 4STAR aerosol arrays\n",
    "fla = (ar['flag_acaod']==1) & ar['fl'] & ar['fl_QA'] & (ar['days']>2.0) "
   ]
  },
  {
   "cell_type": "code",
   "execution_count": 44,
   "metadata": {
    "ExecuteTime": {
     "end_time": "2020-05-11T20:15:48.182904Z",
     "start_time": "2020-05-11T20:15:48.170534Z"
    }
   },
   "outputs": [],
   "source": [
    "# for the cod and ref arrays\n",
    "fld = (ar['days']>2.0) & (ar['days']!=17.0) \n",
    "flb = (ar['flag_acaod'][fld]==1) & ar['fl'][fld] & ar['fl_QA'][fld]"
   ]
  },
  {
   "cell_type": "code",
   "execution_count": 45,
   "metadata": {
    "ExecuteTime": {
     "end_time": "2020-05-11T20:15:49.028311Z",
     "start_time": "2020-05-11T20:15:49.018481Z"
    }
   },
   "outputs": [
    {
     "data": {
      "text/plain": [
       "28619"
      ]
     },
     "execution_count": 45,
     "metadata": {},
     "output_type": "execute_result"
    }
   ],
   "source": [
    "len(ar['AOD0355'][fla])"
   ]
  },
  {
   "cell_type": "code",
   "execution_count": 46,
   "metadata": {
    "ExecuteTime": {
     "end_time": "2020-05-11T20:15:49.586717Z",
     "start_time": "2020-05-11T20:15:49.579720Z"
    }
   },
   "outputs": [
    {
     "data": {
      "text/plain": [
       "28619"
      ]
     },
     "execution_count": 46,
     "metadata": {},
     "output_type": "execute_result"
    }
   ],
   "source": [
    "len(cod[flb])"
   ]
  },
  {
   "cell_type": "code",
   "execution_count": 47,
   "metadata": {
    "ExecuteTime": {
     "end_time": "2020-05-11T20:15:52.585937Z",
     "start_time": "2020-05-11T20:15:51.314315Z"
    }
   },
   "outputs": [
    {
     "data": {
      "text/plain": [
       "(7986, 21190, 28619)"
      ]
     },
     "execution_count": 47,
     "metadata": {},
     "output_type": "execute_result"
    }
   ],
   "source": [
    "sum(np.isfinite(cod[~flb])),sum(np.isfinite(cod[flb])),len(cod[flb])"
   ]
  },
  {
   "cell_type": "code",
   "execution_count": 236,
   "metadata": {
    "ExecuteTime": {
     "end_time": "2020-04-24T19:59:50.862827Z",
     "start_time": "2020-04-24T19:59:50.849307Z"
    },
    "scrolled": true
   },
   "outputs": [
    {
     "data": {
      "text/plain": [
       "[u'AOD0355',\n",
       " u'AOD0380',\n",
       " u'AOD0452',\n",
       " u'AOD0470',\n",
       " u'AOD0501',\n",
       " u'AOD0520',\n",
       " u'AOD0530',\n",
       " u'AOD0532',\n",
       " u'AOD0550',\n",
       " u'AOD0606',\n",
       " u'AOD0620',\n",
       " u'AOD0660',\n",
       " u'AOD0675',\n",
       " u'AOD0700',\n",
       " u'AOD0781',\n",
       " u'AOD0865',\n",
       " u'AOD1020',\n",
       " u'AOD1040',\n",
       " u'AOD1064',\n",
       " u'AOD1236',\n",
       " u'AOD1250',\n",
       " u'AOD1559',\n",
       " u'AOD1627',\n",
       " u'AOD1650',\n",
       " u'AOD_angstrom_470_865',\n",
       " u'AOD_polycoef_a0',\n",
       " u'AOD_polycoef_a1',\n",
       " u'AOD_polycoef_a2',\n",
       " u'GPS_Alt',\n",
       " u'Latitude',\n",
       " u'Longitude',\n",
       " u'Start_UTC',\n",
       " u'UNCAOD0355',\n",
       " u'UNCAOD0380',\n",
       " u'UNCAOD0452',\n",
       " u'UNCAOD0470',\n",
       " u'UNCAOD0501',\n",
       " u'UNCAOD0520',\n",
       " u'UNCAOD0530',\n",
       " u'UNCAOD0532',\n",
       " u'UNCAOD0550',\n",
       " u'UNCAOD0606',\n",
       " u'UNCAOD0620',\n",
       " u'UNCAOD0660',\n",
       " u'UNCAOD0675',\n",
       " u'UNCAOD0700',\n",
       " u'UNCAOD0781',\n",
       " u'UNCAOD0865',\n",
       " u'UNCAOD1020',\n",
       " u'UNCAOD1040',\n",
       " u'UNCAOD1064',\n",
       " u'UNCAOD1236',\n",
       " u'UNCAOD1250',\n",
       " u'UNCAOD1559',\n",
       " u'UNCAOD1627',\n",
       " u'UNCAOD1650',\n",
       " u'amass_aer',\n",
       " u'days',\n",
       " 'doy',\n",
       " u'fl',\n",
       " u'fl1',\n",
       " u'fl2',\n",
       " u'fl3',\n",
       " u'fl_QA',\n",
       " u'fl_alt',\n",
       " u'fl_alt_18',\n",
       " u'fl_alt_22',\n",
       " u'fl_alt_6',\n",
       " u'fl_routine',\n",
       " u'flac',\n",
       " u'flacr',\n",
       " u'flag_acaod',\n",
       " u'flr',\n",
       " u'qual_flag',\n",
       " 'time_ae']"
      ]
     },
     "execution_count": 236,
     "metadata": {},
     "output_type": "execute_result"
    }
   ],
   "source": [
    "ka = ar.keys()\n",
    "ka.sort()\n",
    "ka"
   ]
  },
  {
   "cell_type": "code",
   "execution_count": 48,
   "metadata": {
    "ExecuteTime": {
     "end_time": "2020-05-11T20:15:54.255776Z",
     "start_time": "2020-05-11T20:15:54.251483Z"
    }
   },
   "outputs": [],
   "source": [
    "doy = datetime.strptime(dds[int(ar['days'][fla][0])],'%Y%m%d').timetuple().tm_yday"
   ]
  },
  {
   "cell_type": "code",
   "execution_count": 49,
   "metadata": {
    "ExecuteTime": {
     "end_time": "2020-05-11T20:15:54.715177Z",
     "start_time": "2020-05-11T20:15:54.706205Z"
    }
   },
   "outputs": [
    {
     "data": {
      "text/plain": [
       "250"
      ]
     },
     "execution_count": 49,
     "metadata": {},
     "output_type": "execute_result"
    }
   ],
   "source": [
    "doy"
   ]
  },
  {
   "cell_type": "code",
   "execution_count": 50,
   "metadata": {
    "ExecuteTime": {
     "end_time": "2020-05-11T20:15:56.064287Z",
     "start_time": "2020-05-11T20:15:56.055070Z"
    }
   },
   "outputs": [],
   "source": [
    "geo = {'lat':ar['Latitude'][0],'lon':ar['Longitude'][0],'doy':doy,'zout':[0,1.5,100.0]}\n",
    "aero_no = {} # none\n",
    "cloud = {'ztop':1.0,'zbot':0.5,'write_moments_file':False}\n",
    "source = {'wvl_range':[201.0,4900.0],'source':'solar','integrate_values':True,'run_fuliou':True,\n",
    "          'dat_path':fp_uvspec_dat}\n",
    "albedo = {'create_albedo_file':False,'sea_surface_albedo':True,'wind_speed':5.0}"
   ]
  },
  {
   "cell_type": "code",
   "execution_count": 51,
   "metadata": {
    "ExecuteTime": {
     "end_time": "2020-05-11T20:16:28.904298Z",
     "start_time": "2020-05-11T20:15:57.282301Z"
    }
   },
   "outputs": [],
   "source": [
    "cloud['phase'] = 'wc'\n",
    "geo['sza'] = 40.0\n",
    "cloud['tau'] = 2.0\n",
    "cloud['ref'] = 5.0\n",
    "pmom = Rl.make_pmom_inputs(fp_rtm=fp_rtmdat,source='solar',deltascale=False)\n",
    "cloud['moms_dict'] = pmom"
   ]
  },
  {
   "cell_type": "code",
   "execution_count": 52,
   "metadata": {
    "ExecuteTime": {
     "end_time": "2020-05-11T20:16:28.913196Z",
     "start_time": "2020-05-11T20:16:28.909397Z"
    }
   },
   "outputs": [],
   "source": [
    "pmom['wvl'][0] = 0.250"
   ]
  },
  {
   "cell_type": "code",
   "execution_count": 53,
   "metadata": {
    "ExecuteTime": {
     "end_time": "2020-05-11T20:16:28.930280Z",
     "start_time": "2020-05-11T20:16:28.917708Z"
    }
   },
   "outputs": [
    {
     "data": {
      "text/plain": [
       "array([ 250.,  400.,  500.,  675.,  870.,  995., 4900.])"
      ]
     },
     "execution_count": 53,
     "metadata": {},
     "output_type": "execute_result"
    }
   ],
   "source": [
    "wvl = np.append(np.append([250.0],ae['wavelength']),4900.0)\n",
    "wvl"
   ]
  },
  {
   "cell_type": "code",
   "execution_count": 54,
   "metadata": {
    "ExecuteTime": {
     "end_time": "2020-05-11T20:16:28.939508Z",
     "start_time": "2020-05-11T20:16:28.934671Z"
    }
   },
   "outputs": [],
   "source": [
    "aero = {'expand_hg':True,'disort_phase':False,'z_arr':[2.0,5.0],\n",
    "        'wvl_arr':wvl}"
   ]
  },
  {
   "cell_type": "code",
   "execution_count": 55,
   "metadata": {
    "ExecuteTime": {
     "end_time": "2020-05-11T20:16:28.951029Z",
     "start_time": "2020-05-11T20:16:28.944188Z"
    }
   },
   "outputs": [],
   "source": [
    "def fx_aero(aprop):\n",
    "    'Function the aerosol property a 2d matrix for height and spectra, and extend the wavelength from 250 to 4900 nm'\n",
    "    atmp = np.append([aprop[0]],np.append(aprop,aprop[-1]))\n",
    "    return np.array([atmp,atmp])"
   ]
  },
  {
   "cell_type": "code",
   "execution_count": 56,
   "metadata": {
    "ExecuteTime": {
     "end_time": "2020-05-11T20:16:28.962212Z",
     "start_time": "2020-05-11T20:16:28.955333Z"
    }
   },
   "outputs": [],
   "source": [
    "def fx_ext(a0,a1,a2,wvl=wvl):\n",
    "    'Function to create the extinction coefficients from 4STAR AODs'\n",
    "    aod = np.exp(np.polyval([a2,a1,a0],np.log(wvl)))\n",
    "    aod[-1] = 0.0 # set the last wavelength to zero\n",
    "    return np.array([aod/3.0,aod*0.0])"
   ]
  },
  {
   "cell_type": "code",
   "execution_count": 57,
   "metadata": {
    "ExecuteTime": {
     "end_time": "2020-05-11T20:16:28.974972Z",
     "start_time": "2020-05-11T20:16:28.966904Z"
    }
   },
   "outputs": [],
   "source": [
    "aero['ext'] = fx_ext(ar['AOD_polycoef_a0'][fla][0],ar['AOD_polycoef_a1'][fla][0],ar['AOD_polycoef_a2'][fla][0])"
   ]
  },
  {
   "cell_type": "code",
   "execution_count": 58,
   "metadata": {
    "ExecuteTime": {
     "end_time": "2020-05-11T20:16:28.984648Z",
     "start_time": "2020-05-11T20:16:28.979906Z"
    }
   },
   "outputs": [],
   "source": [
    "aero['asy'] = fx_aero(ae['g_total'][0])"
   ]
  },
  {
   "cell_type": "code",
   "execution_count": 59,
   "metadata": {
    "ExecuteTime": {
     "end_time": "2020-05-11T20:16:28.994645Z",
     "start_time": "2020-05-11T20:16:28.989249Z"
    }
   },
   "outputs": [],
   "source": [
    "aero['ssa'] = fx_aero(ae['SSA'][0])"
   ]
  },
  {
   "cell_type": "markdown",
   "metadata": {},
   "source": [
    "## Prepare the file list and saving"
   ]
  },
  {
   "cell_type": "code",
   "execution_count": 60,
   "metadata": {
    "ExecuteTime": {
     "end_time": "2020-05-11T20:16:29.006989Z",
     "start_time": "2020-05-11T20:16:28.999389Z"
    }
   },
   "outputs": [],
   "source": [
    "def isjupyter():\n",
    "    try:\n",
    "        shell = get_ipython().__class__.__name__\n",
    "        if shell == 'ZMQInteractiveShell':\n",
    "            return True   # Jupyter notebook or qtconsole\n",
    "        elif shell == 'TerminalInteractiveShell':\n",
    "            return False  # Terminal running IPython\n",
    "        else:\n",
    "            return False  # Other type (?)\n",
    "    except NameError:\n",
    "        return False      # Probably standard Python interpreter"
   ]
  },
  {
   "cell_type": "markdown",
   "metadata": {},
   "source": [
    "## Write the files"
   ]
  },
  {
   "cell_type": "markdown",
   "metadata": {},
   "source": [
    "### Conventional"
   ]
  },
  {
   "cell_type": "code",
   "execution_count": 80,
   "metadata": {
    "ExecuteTime": {
     "end_time": "2020-04-13T22:30:00.799075Z",
     "start_time": "2020-04-13T22:30:00.791620Z"
    }
   },
   "outputs": [],
   "source": [
    "# open the list file\n",
    "f = open(fp_rtm+'{}_DARE_{}.sh'.format(name,vv),'w')\n",
    "fpp_in = fp_rtm+'input/{}_DARE_{}/'.format(name,vv)\n",
    "fpp_out = fp_rtm+'output/{}_DARE_{}/'.format(name,vv)"
   ]
  },
  {
   "cell_type": "code",
   "execution_count": 81,
   "metadata": {
    "ExecuteTime": {
     "end_time": "2020-04-13T22:30:02.174567Z",
     "start_time": "2020-04-13T22:30:02.168598Z"
    }
   },
   "outputs": [],
   "source": [
    "if not os.path.isdir(fpp_in):\n",
    "    os.mkdir(fpp_in)\n",
    "if not os.path.isdir(fpp_out):\n",
    "     os.mkdir(fpp_out)"
   ]
  },
  {
   "cell_type": "code",
   "execution_count": 120,
   "metadata": {
    "ExecuteTime": {
     "end_time": "2019-12-03T19:49:35.506180Z",
     "start_time": "2019-12-03T19:49:35.454283Z"
    }
   },
   "outputs": [],
   "source": [
    "# for writing out the files"
   ]
  },
  {
   "cell_type": "code",
   "execution_count": 109,
   "metadata": {
    "ExecuteTime": {
     "end_time": "2020-04-14T22:34:55.545799Z",
     "start_time": "2020-04-14T22:34:55.531436Z"
    }
   },
   "outputs": [
    {
     "data": {
      "text/plain": [
       "array([  9.36436349,   9.38314424,  11.44100489,  13.53473135,\n",
       "        13.55286422,  13.63317105,  13.65609344,  14.15397498,\n",
       "        14.17291726,  55.12454682,  56.45493072,  56.47428852,\n",
       "        56.50556153,  56.52408765,  56.62796449,  56.64651974,\n",
       "        57.3145811 ,  57.57097029,  57.58955459,  58.57214188,\n",
       "        58.99556736,  60.49512862,  60.51375567,  60.53747322,\n",
       "        62.83647775, 153.56740963, 153.58586041, 154.09168935,\n",
       "       154.11113343, 154.98052584, 155.82233424, 155.84067681,\n",
       "       156.42516806, 156.44378445, 157.14872684, 157.16740038,\n",
       "       203.2280269 , 251.08488591, 252.31515166, 300.24803314,\n",
       "       301.14747711, 301.1660435 , 301.18294843, 301.7608256 ,\n",
       "       301.77941441, 302.12064148, 302.14029531, 345.31344008,\n",
       "       345.33189656, 346.52380833, 346.63178176, 346.6632354 ,\n",
       "       349.91946379, 441.84949381, 489.40488159, 489.42472078,\n",
       "       489.45796597, 489.48503416, 489.52466494, 489.55642007,\n",
       "       489.58136179, 491.02055947, 491.14471216, 492.66561342,\n",
       "       492.70347723, 492.75552446, 493.23101581, 493.25420547,\n",
       "       493.28753676, 493.31825604, 493.39634628, 585.70342018,\n",
       "       585.81399486, 587.9221829 , 609.80894124, 609.82767846,\n",
       "       611.75699517, 613.90812606, 613.97765332, 613.99688071,\n",
       "       614.07015826, 614.08907765, 615.32024977, 665.05941757])"
      ]
     },
     "execution_count": 109,
     "metadata": {},
     "output_type": "execute_result"
    }
   ],
   "source": [
    "ae['time']/3600.0"
   ]
  },
  {
   "cell_type": "code",
   "execution_count": 110,
   "metadata": {
    "ExecuteTime": {
     "end_time": "2020-04-14T22:35:11.016164Z",
     "start_time": "2020-04-14T22:35:11.007502Z"
    }
   },
   "outputs": [
    {
     "data": {
      "text/plain": [
       "array([  7.95472222,   7.955     ,   7.95527778, ..., 665.405     ,\n",
       "       665.40527778, 665.40555556])"
      ]
     },
     "execution_count": 110,
     "metadata": {},
     "output_type": "execute_result"
    }
   ],
   "source": [
    "ar['time_ae'][fla]"
   ]
  },
  {
   "cell_type": "code",
   "execution_count": 82,
   "metadata": {
    "ExecuteTime": {
     "end_time": "2020-04-13T22:34:55.258889Z",
     "start_time": "2020-04-13T22:30:06.896519Z"
    }
   },
   "outputs": [
    {
     "data": {
      "application/vnd.jupyter.widget-view+json": {
       "model_id": "1de2bc444024459ca0b89d827e369e29",
       "version_major": 2,
       "version_minor": 0
      },
      "text/plain": [
       "A Jupyter Widget"
      ]
     },
     "metadata": {},
     "output_type": "display_data"
    },
    {
     "name": "stdout",
     "output_type": "stream",
     "text": [
      "> /home/sam/python_codes/Run_libradtran.py(485)write_cloud_file_moments_wvl()\n",
      "-> for iw,wv in enumerate(wvl):\n",
      "(Pdb) q\n"
     ]
    },
    {
     "ename": "BdbQuit",
     "evalue": "",
     "output_type": "error",
     "traceback": [
      "\u001b[0;31m\u001b[0m",
      "\u001b[0;31mBdbQuit\u001b[0mTraceback (most recent call last)",
      "\u001b[0;32m<ipython-input-82-fa6f432cae66>\u001b[0m in \u001b[0;36m<module>\u001b[0;34m()\u001b[0m\n\u001b[1;32m     27\u001b[0m         \u001b[0mf_in\u001b[0m \u001b[0;34m=\u001b[0m \u001b[0;34m'{name}_{vv}_star_{i:03d}_noaero.dat'\u001b[0m\u001b[0;34m.\u001b[0m\u001b[0mformat\u001b[0m\u001b[0;34m(\u001b[0m\u001b[0mname\u001b[0m\u001b[0;34m=\u001b[0m\u001b[0mname\u001b[0m\u001b[0;34m,\u001b[0m\u001b[0mvv\u001b[0m\u001b[0;34m=\u001b[0m\u001b[0mvv\u001b[0m\u001b[0;34m,\u001b[0m\u001b[0mi\u001b[0m\u001b[0;34m=\u001b[0m\u001b[0mi\u001b[0m\u001b[0;34m)\u001b[0m\u001b[0;34m\u001b[0m\u001b[0m\n\u001b[1;32m     28\u001b[0m         Rl.write_input_aac(fpp_in+f_in,geo=geo,aero=aero_no,cloud=cloud,source=source,albedo=albedo,\n\u001b[0;32m---> 29\u001b[0;31m                                    verbose=False,make_base=False,set_quiet=True)\n\u001b[0m\u001b[1;32m     30\u001b[0m         \u001b[0mf\u001b[0m\u001b[0;34m.\u001b[0m\u001b[0mwrite\u001b[0m\u001b[0;34m(\u001b[0m\u001b[0;34m'{uv} < {fin} > {out}\\n'\u001b[0m\u001b[0;34m.\u001b[0m\u001b[0mformat\u001b[0m\u001b[0;34m(\u001b[0m\u001b[0muv\u001b[0m\u001b[0;34m=\u001b[0m\u001b[0mfp_uvspec\u001b[0m\u001b[0;34m,\u001b[0m\u001b[0mfin\u001b[0m\u001b[0;34m=\u001b[0m\u001b[0mfpp_in\u001b[0m\u001b[0;34m+\u001b[0m\u001b[0mf_in\u001b[0m\u001b[0;34m,\u001b[0m\u001b[0mout\u001b[0m\u001b[0;34m=\u001b[0m\u001b[0mfpp_out\u001b[0m\u001b[0;34m+\u001b[0m\u001b[0mf_in\u001b[0m\u001b[0;34m)\u001b[0m\u001b[0;34m)\u001b[0m\u001b[0;34m\u001b[0m\u001b[0m\n\u001b[1;32m     31\u001b[0m \u001b[0;34m\u001b[0m\u001b[0m\n",
      "\u001b[0;32m/home/sam/python_codes/Run_libradtran.pyc\u001b[0m in \u001b[0;36mwrite_input_aac\u001b[0;34m(output_file, geo, aero, cloud, source, albedo, verbose, make_base, fp_base_file, set_quiet, max_nmom, solver)\u001b[0m\n\u001b[1;32m    988\u001b[0m             \u001b[0;32mif\u001b[0m \u001b[0;32mnot\u001b[0m \u001b[0mcloud\u001b[0m\u001b[0;34m.\u001b[0m\u001b[0mget\u001b[0m\u001b[0;34m(\u001b[0m\u001b[0;34m'link_to_mom_file'\u001b[0m\u001b[0;34m)\u001b[0m\u001b[0;34m:\u001b[0m\u001b[0;34m\u001b[0m\u001b[0m\n\u001b[1;32m    989\u001b[0m                 write_cloud_file_moments(cloud['file_name'],cloud['tau'],cloud['ref'],cloud['zbot'],cloud['ztop'],\n\u001b[0;32m--> 990\u001b[0;31m                                          verbose=verbose,moms_dict=cloud.get('moms_dict'),wvl_range=source['wvl_range'])\n\u001b[0m\u001b[1;32m    991\u001b[0m             \u001b[0;32mif\u001b[0m \u001b[0mcloud\u001b[0m\u001b[0;34m[\u001b[0m\u001b[0;34m'cloud_below'\u001b[0m\u001b[0;34m]\u001b[0m\u001b[0;34m:\u001b[0m\u001b[0;34m\u001b[0m\u001b[0m\n\u001b[1;32m    992\u001b[0m                 \u001b[0;32mif\u001b[0m \u001b[0;32mnot\u001b[0m \u001b[0mcloud\u001b[0m\u001b[0;34m.\u001b[0m\u001b[0mget\u001b[0m\u001b[0;34m(\u001b[0m\u001b[0;34m'link_to_mom_file'\u001b[0m\u001b[0;34m)\u001b[0m\u001b[0;34m:\u001b[0m\u001b[0;34m\u001b[0m\u001b[0m\n",
      "\u001b[0;32m/home/sam/python_codes/Run_libradtran.pyc\u001b[0m in \u001b[0;36mwrite_cloud_file_moments\u001b[0;34m(output_file, tau, ref, zbot, ztop, moms_dict, verbose, append_directly_below, wvl_range)\u001b[0m\n\u001b[1;32m    413\u001b[0m         \u001b[0moutput\u001b[0m\u001b[0;34m.\u001b[0m\u001b[0mwrite\u001b[0m\u001b[0;34m(\u001b[0m\u001b[0;34m'%4.4f\\t%s\\n'\u001b[0m \u001b[0;34m%\u001b[0m \u001b[0;34m(\u001b[0m\u001b[0mzbot\u001b[0m\u001b[0;34m,\u001b[0m\u001b[0mfile_cloud\u001b[0m\u001b[0;34m)\u001b[0m\u001b[0;34m)\u001b[0m\u001b[0;34m\u001b[0m\u001b[0m\n\u001b[1;32m    414\u001b[0m \u001b[0;34m\u001b[0m\u001b[0m\n\u001b[0;32m--> 415\u001b[0;31m     \u001b[0mwrite_cloud_file_moments_wvl\u001b[0m\u001b[0;34m(\u001b[0m\u001b[0mfile_cloud\u001b[0m\u001b[0;34m,\u001b[0m\u001b[0mwvl\u001b[0m\u001b[0;34m,\u001b[0m\u001b[0mext\u001b[0m\u001b[0;34m,\u001b[0m\u001b[0mssa\u001b[0m\u001b[0;34m,\u001b[0m\u001b[0mmoments\u001b[0m\u001b[0;34m,\u001b[0m\u001b[0mnmom\u001b[0m\u001b[0;34m,\u001b[0m\u001b[0mverbose\u001b[0m\u001b[0;34m=\u001b[0m\u001b[0mverbose\u001b[0m\u001b[0;34m,\u001b[0m\u001b[0mwvl_range\u001b[0m\u001b[0;34m=\u001b[0m\u001b[0mwvl_range\u001b[0m\u001b[0;34m)\u001b[0m\u001b[0;34m\u001b[0m\u001b[0m\n\u001b[0m\u001b[1;32m    416\u001b[0m \u001b[0;34m\u001b[0m\u001b[0m\n\u001b[1;32m    417\u001b[0m     \u001b[0moutput\u001b[0m\u001b[0;34m.\u001b[0m\u001b[0mclose\u001b[0m\u001b[0;34m(\u001b[0m\u001b[0;34m)\u001b[0m\u001b[0;34m\u001b[0m\u001b[0m\n",
      "\u001b[0;32m/home/sam/python_codes/Run_libradtran.pyc\u001b[0m in \u001b[0;36mwrite_cloud_file_moments_wvl\u001b[0;34m(output_file, wvl, ext, ssa, moments, nmom, verbose, wvl_range)\u001b[0m\n\u001b[1;32m    483\u001b[0m         \u001b[0;32mprint\u001b[0m\u001b[0;34m(\u001b[0m\u001b[0;34m'..printing to cloud moments properties wavelength defined file: %s'\u001b[0m \u001b[0;34m%\u001b[0m \u001b[0moutput_file\u001b[0m\u001b[0;34m)\u001b[0m\u001b[0;34m\u001b[0m\u001b[0m\n\u001b[1;32m    484\u001b[0m     \u001b[0moutput\u001b[0m\u001b[0;34m.\u001b[0m\u001b[0mwrite\u001b[0m\u001b[0;34m(\u001b[0m\u001b[0;34m'# wvl[nm]    ext[km^-1]   ssa[unitless]  legendre_moments\\n'\u001b[0m\u001b[0;34m)\u001b[0m\u001b[0;34m\u001b[0m\u001b[0m\n\u001b[0;32m--> 485\u001b[0;31m     \u001b[0;32mfor\u001b[0m \u001b[0miw\u001b[0m\u001b[0;34m,\u001b[0m\u001b[0mwv\u001b[0m \u001b[0;32min\u001b[0m \u001b[0menumerate\u001b[0m\u001b[0;34m(\u001b[0m\u001b[0mwvl\u001b[0m\u001b[0;34m)\u001b[0m\u001b[0;34m:\u001b[0m\u001b[0;34m\u001b[0m\u001b[0m\n\u001b[0m\u001b[1;32m    486\u001b[0m         \u001b[0;32mif\u001b[0m \u001b[0;34m(\u001b[0m\u001b[0mwv\u001b[0m\u001b[0;34m<\u001b[0m\u001b[0mwvl_range\u001b[0m\u001b[0;34m[\u001b[0m\u001b[0;36m0\u001b[0m\u001b[0;34m]\u001b[0m\u001b[0;34m-\u001b[0m\u001b[0;36m10.0\u001b[0m \u001b[0;32mor\u001b[0m \u001b[0mwv\u001b[0m\u001b[0;34m>\u001b[0m\u001b[0mwvl_range\u001b[0m\u001b[0;34m[\u001b[0m\u001b[0;36m1\u001b[0m\u001b[0;34m]\u001b[0m\u001b[0;34m+\u001b[0m\u001b[0;36m10.0\u001b[0m\u001b[0;34m)\u001b[0m \u001b[0;32mand\u001b[0m \u001b[0mwvl_range\u001b[0m\u001b[0;34m[\u001b[0m\u001b[0;36m1\u001b[0m\u001b[0;34m]\u001b[0m\u001b[0;34m<\u001b[0m\u001b[0;36m10000.0\u001b[0m\u001b[0;34m:\u001b[0m\u001b[0;34m\u001b[0m\u001b[0m\n\u001b[1;32m    487\u001b[0m             \u001b[0;32mcontinue\u001b[0m\u001b[0;34m\u001b[0m\u001b[0m\n",
      "\u001b[0;32m/home/sam/python_codes/Run_libradtran.pyc\u001b[0m in \u001b[0;36mwrite_cloud_file_moments_wvl\u001b[0;34m(output_file, wvl, ext, ssa, moments, nmom, verbose, wvl_range)\u001b[0m\n\u001b[1;32m    483\u001b[0m         \u001b[0;32mprint\u001b[0m\u001b[0;34m(\u001b[0m\u001b[0;34m'..printing to cloud moments properties wavelength defined file: %s'\u001b[0m \u001b[0;34m%\u001b[0m \u001b[0moutput_file\u001b[0m\u001b[0;34m)\u001b[0m\u001b[0;34m\u001b[0m\u001b[0m\n\u001b[1;32m    484\u001b[0m     \u001b[0moutput\u001b[0m\u001b[0;34m.\u001b[0m\u001b[0mwrite\u001b[0m\u001b[0;34m(\u001b[0m\u001b[0;34m'# wvl[nm]    ext[km^-1]   ssa[unitless]  legendre_moments\\n'\u001b[0m\u001b[0;34m)\u001b[0m\u001b[0;34m\u001b[0m\u001b[0m\n\u001b[0;32m--> 485\u001b[0;31m     \u001b[0;32mfor\u001b[0m \u001b[0miw\u001b[0m\u001b[0;34m,\u001b[0m\u001b[0mwv\u001b[0m \u001b[0;32min\u001b[0m \u001b[0menumerate\u001b[0m\u001b[0;34m(\u001b[0m\u001b[0mwvl\u001b[0m\u001b[0;34m)\u001b[0m\u001b[0;34m:\u001b[0m\u001b[0;34m\u001b[0m\u001b[0m\n\u001b[0m\u001b[1;32m    486\u001b[0m         \u001b[0;32mif\u001b[0m \u001b[0;34m(\u001b[0m\u001b[0mwv\u001b[0m\u001b[0;34m<\u001b[0m\u001b[0mwvl_range\u001b[0m\u001b[0;34m[\u001b[0m\u001b[0;36m0\u001b[0m\u001b[0;34m]\u001b[0m\u001b[0;34m-\u001b[0m\u001b[0;36m10.0\u001b[0m \u001b[0;32mor\u001b[0m \u001b[0mwv\u001b[0m\u001b[0;34m>\u001b[0m\u001b[0mwvl_range\u001b[0m\u001b[0;34m[\u001b[0m\u001b[0;36m1\u001b[0m\u001b[0;34m]\u001b[0m\u001b[0;34m+\u001b[0m\u001b[0;36m10.0\u001b[0m\u001b[0;34m)\u001b[0m \u001b[0;32mand\u001b[0m \u001b[0mwvl_range\u001b[0m\u001b[0;34m[\u001b[0m\u001b[0;36m1\u001b[0m\u001b[0;34m]\u001b[0m\u001b[0;34m<\u001b[0m\u001b[0;36m10000.0\u001b[0m\u001b[0;34m:\u001b[0m\u001b[0;34m\u001b[0m\u001b[0m\n\u001b[1;32m    487\u001b[0m             \u001b[0;32mcontinue\u001b[0m\u001b[0;34m\u001b[0m\u001b[0m\n",
      "\u001b[0;32m/usr/lib/python2.7/bdb.pyc\u001b[0m in \u001b[0;36mtrace_dispatch\u001b[0;34m(self, frame, event, arg)\u001b[0m\n\u001b[1;32m     47\u001b[0m             \u001b[0;32mreturn\u001b[0m \u001b[0;31m# None\u001b[0m\u001b[0;34m\u001b[0m\u001b[0m\n\u001b[1;32m     48\u001b[0m         \u001b[0;32mif\u001b[0m \u001b[0mevent\u001b[0m \u001b[0;34m==\u001b[0m \u001b[0;34m'line'\u001b[0m\u001b[0;34m:\u001b[0m\u001b[0;34m\u001b[0m\u001b[0m\n\u001b[0;32m---> 49\u001b[0;31m             \u001b[0;32mreturn\u001b[0m \u001b[0mself\u001b[0m\u001b[0;34m.\u001b[0m\u001b[0mdispatch_line\u001b[0m\u001b[0;34m(\u001b[0m\u001b[0mframe\u001b[0m\u001b[0;34m)\u001b[0m\u001b[0;34m\u001b[0m\u001b[0m\n\u001b[0m\u001b[1;32m     50\u001b[0m         \u001b[0;32mif\u001b[0m \u001b[0mevent\u001b[0m \u001b[0;34m==\u001b[0m \u001b[0;34m'call'\u001b[0m\u001b[0;34m:\u001b[0m\u001b[0;34m\u001b[0m\u001b[0m\n\u001b[1;32m     51\u001b[0m             \u001b[0;32mreturn\u001b[0m \u001b[0mself\u001b[0m\u001b[0;34m.\u001b[0m\u001b[0mdispatch_call\u001b[0m\u001b[0;34m(\u001b[0m\u001b[0mframe\u001b[0m\u001b[0;34m,\u001b[0m \u001b[0marg\u001b[0m\u001b[0;34m)\u001b[0m\u001b[0;34m\u001b[0m\u001b[0m\n",
      "\u001b[0;32m/usr/lib/python2.7/bdb.pyc\u001b[0m in \u001b[0;36mdispatch_line\u001b[0;34m(self, frame)\u001b[0m\n\u001b[1;32m     66\u001b[0m         \u001b[0;32mif\u001b[0m \u001b[0mself\u001b[0m\u001b[0;34m.\u001b[0m\u001b[0mstop_here\u001b[0m\u001b[0;34m(\u001b[0m\u001b[0mframe\u001b[0m\u001b[0;34m)\u001b[0m \u001b[0;32mor\u001b[0m \u001b[0mself\u001b[0m\u001b[0;34m.\u001b[0m\u001b[0mbreak_here\u001b[0m\u001b[0;34m(\u001b[0m\u001b[0mframe\u001b[0m\u001b[0;34m)\u001b[0m\u001b[0;34m:\u001b[0m\u001b[0;34m\u001b[0m\u001b[0m\n\u001b[1;32m     67\u001b[0m             \u001b[0mself\u001b[0m\u001b[0;34m.\u001b[0m\u001b[0muser_line\u001b[0m\u001b[0;34m(\u001b[0m\u001b[0mframe\u001b[0m\u001b[0;34m)\u001b[0m\u001b[0;34m\u001b[0m\u001b[0m\n\u001b[0;32m---> 68\u001b[0;31m             \u001b[0;32mif\u001b[0m \u001b[0mself\u001b[0m\u001b[0;34m.\u001b[0m\u001b[0mquitting\u001b[0m\u001b[0;34m:\u001b[0m \u001b[0;32mraise\u001b[0m \u001b[0mBdbQuit\u001b[0m\u001b[0;34m\u001b[0m\u001b[0m\n\u001b[0m\u001b[1;32m     69\u001b[0m         \u001b[0;32mreturn\u001b[0m \u001b[0mself\u001b[0m\u001b[0;34m.\u001b[0m\u001b[0mtrace_dispatch\u001b[0m\u001b[0;34m\u001b[0m\u001b[0m\n\u001b[1;32m     70\u001b[0m \u001b[0;34m\u001b[0m\u001b[0m\n",
      "\u001b[0;31mBdbQuit\u001b[0m: "
     ]
    }
   ],
   "source": [
    "if isjupyter():\n",
    "    pbar = tqdm(total=len(ar['Start_UTC'][fla]))\n",
    "for i,u in enumerate(ar['Start_UTC'][fla]):\n",
    "    \n",
    "    f_in = '{name}_{vv}_DARE_{i:03d}_withaero.dat'.format(name=name,vv=vv,i=i)\n",
    "\n",
    "    geo['lat'],geo['lon'],geo['sza'] = ar['Latitude'][fla][i],ar['Longitude'][fla][i],sza[fla][i]\n",
    "    day = days[ar['days'][fla][i].astype(int)]\n",
    "    geo['doy'] = datetime(int(day[0:4]),int(day[4:6]),int(day[6:])).timetuple().tm_yday\n",
    "\n",
    "    cloud['tau'],cloud['ref'] = cod[flb][i],ref[flb][i]\n",
    "    cloud['write_moments_file'] = True\n",
    "\n",
    "    iae = np.argmin(abs(ar['time_ae'][fla][i]-ae['time']/3600.0))\n",
    "\n",
    "    # Only run for aerosol rertievals within 1 hour\n",
    "    if abs(ar['time_ae'][fla][i]-ae['time']/3600.0)[iae]<1.0: \n",
    "\n",
    "        aero['ext'] = fx_ext(ar['AOD_polycoef_a0'][fla][i],ar['AOD_polycoef_a1'][fla][i],ar['AOD_polycoef_a2'][fla][i])\n",
    "        aero['ssa'] = fx_aero(ae['SSA'][iae])\n",
    "        aero['asy'] = fx_aero(ae['g_total'][iae])\n",
    "\n",
    "        Rl.write_input_aac(fpp_in+f_in,geo=geo,aero=aero,cloud=cloud,source=source,albedo=albedo,\n",
    "                                   verbose=False,make_base=False,set_quiet=True)\n",
    "        f.write('{uv} < {fin} > {out}\\n'.format(uv=fp_uvspec,fin=fpp_in+f_in,out=fpp_out+f_in))\n",
    "\n",
    "        f_in = '{name}_{vv}_star_{i:03d}_noaero.dat'.format(name=name,vv=vv,i=i)\n",
    "        Rl.write_input_aac(fpp_in+f_in,geo=geo,aero=aero_no,cloud=cloud,source=source,albedo=albedo,\n",
    "                                   verbose=False,make_base=False,set_quiet=True)\n",
    "        f.write('{uv} < {fin} > {out}\\n'.format(uv=fp_uvspec,fin=fpp_in+f_in,out=fpp_out+f_in))\n",
    "\n",
    "    if isjupyter(): \n",
    "        pbar.update(1)\n",
    "    else:\n",
    "        print i\n",
    "\n",
    "f.close()"
   ]
  },
  {
   "cell_type": "markdown",
   "metadata": {},
   "source": [
    "### Multiprocessing"
   ]
  },
  {
   "cell_type": "code",
   "execution_count": 250,
   "metadata": {
    "ExecuteTime": {
     "end_time": "2020-04-24T20:00:39.921705Z",
     "start_time": "2020-04-24T20:00:39.913683Z"
    }
   },
   "outputs": [],
   "source": [
    "def worker_init(verbose=True):\n",
    "    # ignore the SIGINI in sub process, just print a log\n",
    "    def sig_int(signal_num, frame):\n",
    "        if verbose: \n",
    "            print 'signal: %s' % signal_num\n",
    "        raise IOError\n",
    "    signal.signal(signal.SIGINT, sig_int)"
   ]
  },
  {
   "cell_type": "code",
   "execution_count": 251,
   "metadata": {
    "ExecuteTime": {
     "end_time": "2020-04-24T20:00:40.593345Z",
     "start_time": "2020-04-24T20:00:40.577994Z"
    }
   },
   "outputs": [],
   "source": [
    "# open the list file\n",
    "f = open(fp_rtm+'{}_DARE_{}.sh'.format(name,vv),'w')\n",
    "fpp_in = fp_rtm+'input/{}_DARE_{}/'.format(name,vv)\n",
    "fpp_out = fp_rtm+'output/{}_DARE_{}/'.format(name,vv)"
   ]
  },
  {
   "cell_type": "code",
   "execution_count": 252,
   "metadata": {
    "ExecuteTime": {
     "end_time": "2020-04-24T20:00:41.741851Z",
     "start_time": "2020-04-24T20:00:41.734494Z"
    }
   },
   "outputs": [],
   "source": [
    "if not os.path.isdir(fpp_in):\n",
    "    os.mkdir(fpp_in)\n",
    "if not os.path.isdir(fpp_out):\n",
    "     os.mkdir(fpp_out)"
   ]
  },
  {
   "cell_type": "code",
   "execution_count": 253,
   "metadata": {
    "ExecuteTime": {
     "end_time": "2020-04-24T20:01:48.594681Z",
     "start_time": "2020-04-24T20:00:45.060290Z"
    }
   },
   "outputs": [
    {
     "data": {
      "application/vnd.jupyter.widget-view+json": {
       "model_id": "379fc4bb35c54cf38748f8605cd79b44",
       "version_major": 2,
       "version_minor": 0
      },
      "text/plain": [
       "A Jupyter Widget"
      ]
     },
     "metadata": {},
     "output_type": "display_data"
    }
   ],
   "source": [
    "if isjupyter():\n",
    "    pbar = tqdm(total=len(ar['Start_UTC'][fla]))\n",
    "bb = []\n",
    "for i,u in enumerate(ar['Start_UTC'][fla]):\n",
    "    \n",
    "    f_in = '{name}_{vv}_DARE_{i:03d}_withaero.dat'.format(name=name,vv=vv,i=i)\n",
    "\n",
    "    geo['lat'],geo['lon'],geo['sza'] = ar['Latitude'][fla][i],ar['Longitude'][fla][i],sza[fla][i]\n",
    "    day = days[ar['days'][fla][i].astype(int)]\n",
    "    geo['doy'] = datetime(int(day[0:4]),int(day[4:6]),int(day[6:])).timetuple().tm_yday\n",
    "\n",
    "    if ~np.isfinite(cod[flb][i]):\n",
    "        if isjupyter():\n",
    "            pbar.update(1)\n",
    "        continue\n",
    "    cloud['tau'],cloud['ref'] = cod[flb][i],ref[flb][i]\n",
    "    cloud['write_moments_file'] = True\n",
    "\n",
    "    iae = np.argmin(abs(ar['time_ae'][fla][i]-ae['time']/3600.0))\n",
    "\n",
    "    # Only run for aerosol rertievals within 1 hour\n",
    "    if abs(ar['time_ae'][fla][i]-ae['time']/3600.0)[iae]<1.0: \n",
    "\n",
    "        aero['ext'] = fx_ext(ar['AOD_polycoef_a0'][fla][i],ar['AOD_polycoef_a1'][fla][i],ar['AOD_polycoef_a2'][fla][i])\n",
    "        aero['ssa'] = fx_aero(ae['SSA'][iae])\n",
    "        aero['asy'] = fx_aero(ae['g_total'][iae])\n",
    "\n",
    "        #Rl.write_input_aac(fpp_in+f_in,geo=geo,aero=aero,cloud=cloud,source=source,albedo=albedo,\n",
    "        #                           verbose=False,make_base=False,set_quiet=True)\n",
    "        f.write('{uv} < {fin} > {out}\\n'.format(uv=fp_uvspec,fin=fpp_in+f_in,out=fpp_out+f_in))\n",
    "\n",
    "        f_in_noa = '{name}_{vv}_star_{i:03d}_noaero.dat'.format(name=name,vv=vv,i=i)\n",
    "        #Rl.write_input_aac(fpp_in+f_in,geo=geo,aero=aero_no,cloud=cloud,source=source,albedo=albedo,\n",
    "        #                           verbose=False,make_base=False,set_quiet=True)\n",
    "        f.write('{uv} < {fin} > {out}\\n'.format(uv=fp_uvspec,fin=fpp_in+f_in_noa,out=fpp_out+f_in_noa))\n",
    "        \n",
    "        bb.append({'geo':deepcopy(geo),'cod':cod[flb][i],'ref':ref[flb][i],'aero':deepcopy(aero),\n",
    "                   'f_in':deepcopy(f_in),'f_in_noa':deepcopy(f_in_noa)})\n",
    "\n",
    "    if isjupyter(): \n",
    "        pbar.update(1)\n",
    "    else:\n",
    "        print i\n",
    "\n",
    "f.close()"
   ]
  },
  {
   "cell_type": "code",
   "execution_count": 254,
   "metadata": {
    "ExecuteTime": {
     "end_time": "2020-04-24T20:01:56.577754Z",
     "start_time": "2020-04-24T20:01:56.563927Z"
    }
   },
   "outputs": [],
   "source": [
    "def write_files(d,cloud=cloud,source=source,albedo=albedo,aero_no=aero_no):\n",
    "    'function to feed the pool of workers to write out the all the files'\n",
    "    cloud['tau'],cloud['ref'] = d['cod'],d['ref']\n",
    "    Rl.write_input_aac(fpp_in+d['f_in'],geo=d['geo'],aero=d['aero'],cloud=cloud,source=source,albedo=albedo,\n",
    "                                   verbose=False,make_base=False,set_quiet=True)\n",
    "    Rl.write_input_aac(fpp_in+d['f_in_noa'],geo=d['geo'],aero=aero_no,cloud=cloud,source=source,albedo=albedo,\n",
    "                                   verbose=False,make_base=False,set_quiet=True)"
   ]
  },
  {
   "cell_type": "code",
   "execution_count": 255,
   "metadata": {
    "ExecuteTime": {
     "end_time": "2020-04-24T20:01:58.445410Z",
     "start_time": "2020-04-24T20:01:57.889206Z"
    }
   },
   "outputs": [
    {
     "name": "stdout",
     "output_type": "stream",
     "text": [
      "signal: 2\n",
      "signal: 2\n",
      "signal: 2\n",
      "signal: 2\n",
      "signal: 2\n",
      "signal: 2\n",
      "signal: 2\n",
      "signal: 2\n",
      "signal: 2\n",
      "signal: 2\n",
      "signal: 2\n",
      "signal: 2\n",
      "signal: 2\n",
      "signal: 2\n",
      "signal: 2\n",
      "signal: 2\n",
      "signal: 2\n",
      "signal: 2\n",
      "signal: 2\n",
      "signal: 2\n",
      "signal: 2\n",
      "signal: 2\n",
      "signal: 2\n"
     ]
    }
   ],
   "source": [
    "p = Pool(cpu_count()-1,worker_init)"
   ]
  },
  {
   "cell_type": "code",
   "execution_count": 256,
   "metadata": {
    "ExecuteTime": {
     "end_time": "2020-04-24T20:01:59.397966Z",
     "start_time": "2020-04-24T20:01:59.385659Z"
    }
   },
   "outputs": [
    {
     "data": {
      "text/plain": [
       "16596"
      ]
     },
     "execution_count": 256,
     "metadata": {},
     "output_type": "execute_result"
    }
   ],
   "source": [
    "len(bb)"
   ]
  },
  {
   "cell_type": "code",
   "execution_count": 257,
   "metadata": {
    "ExecuteTime": {
     "end_time": "2020-04-24T20:09:25.436590Z",
     "start_time": "2020-04-24T20:02:00.931390Z"
    }
   },
   "outputs": [],
   "source": [
    "results = p.map(write_files,bb)"
   ]
  },
  {
   "cell_type": "markdown",
   "metadata": {},
   "source": [
    "### Diurnal averaging with multiprocessing"
   ]
  },
  {
   "cell_type": "code",
   "execution_count": 61,
   "metadata": {
    "ExecuteTime": {
     "end_time": "2020-05-11T20:16:29.018185Z",
     "start_time": "2020-05-11T20:16:29.011404Z"
    }
   },
   "outputs": [],
   "source": [
    "vv = 'v3_24h'"
   ]
  },
  {
   "cell_type": "code",
   "execution_count": 62,
   "metadata": {
    "ExecuteTime": {
     "end_time": "2020-05-11T20:16:29.029179Z",
     "start_time": "2020-05-11T20:16:29.022990Z"
    }
   },
   "outputs": [],
   "source": [
    "def worker_init(verbose=True):\n",
    "    # ignore the SIGINI in sub process, just print a log\n",
    "    def sig_int(signal_num, frame):\n",
    "        if verbose: \n",
    "            print 'signal: %s' % signal_num\n",
    "        raise IOError\n",
    "    signal.signal(signal.SIGINT, sig_int)"
   ]
  },
  {
   "cell_type": "code",
   "execution_count": 63,
   "metadata": {
    "ExecuteTime": {
     "end_time": "2020-05-11T20:16:29.041810Z",
     "start_time": "2020-05-11T20:16:29.033915Z"
    }
   },
   "outputs": [],
   "source": [
    "# open the list file\n",
    "f = open(fp_rtm+'{}_DARE_{}.sh'.format(name,vv),'w')\n",
    "fpp_in = fp_rtm+'input/{}_DARE_{}/'.format(name,vv)\n",
    "fpp_out = fp_rtm+'output/{}_DARE_{}/'.format(name,vv)"
   ]
  },
  {
   "cell_type": "code",
   "execution_count": 64,
   "metadata": {
    "ExecuteTime": {
     "end_time": "2020-05-11T20:16:29.052251Z",
     "start_time": "2020-05-11T20:16:29.046324Z"
    }
   },
   "outputs": [],
   "source": [
    "if not os.path.isdir(fpp_in):\n",
    "    os.mkdir(fpp_in)\n",
    "if not os.path.isdir(fpp_out):\n",
    "     os.mkdir(fpp_out)"
   ]
  },
  {
   "cell_type": "code",
   "execution_count": 65,
   "metadata": {
    "ExecuteTime": {
     "end_time": "2020-05-11T20:17:36.581401Z",
     "start_time": "2020-05-11T20:16:32.936899Z"
    }
   },
   "outputs": [
    {
     "data": {
      "application/vnd.jupyter.widget-view+json": {
       "model_id": "022850a95b194b25b8cf9256bd7bcbc2",
       "version_major": 2,
       "version_minor": 0
      },
      "text/plain": [
       "A Jupyter Widget"
      ]
     },
     "metadata": {},
     "output_type": "display_data"
    }
   ],
   "source": [
    "if isjupyter():\n",
    "    pbar = tqdm(total=len(ar['Start_UTC'][fla]))\n",
    "bb = []\n",
    "for i,u in enumerate(ar['Start_UTC'][fla]):\n",
    "    \n",
    "    f_in = '{name}_{vv}_DARE_{i:03d}_withaero.dat'.format(name=name,vv=vv,i=i)\n",
    "\n",
    "    geo['lat'],geo['lon'],geo['sza'] = ar['Latitude'][fla][i],ar['Longitude'][fla][i],sza[fla][i]\n",
    "    day = days[ar['days'][fla][i].astype(int)]\n",
    "    geo['doy'] = datetime(int(day[0:4]),int(day[4:6]),int(day[6:])).timetuple().tm_yday\n",
    "\n",
    "    if ~np.isfinite(cod[flb][i]):\n",
    "        if isjupyter():\n",
    "            pbar.update(1)\n",
    "        continue\n",
    "    cloud['tau'],cloud['ref'] = cod[flb][i],ref[flb][i]\n",
    "    cloud['write_moments_file'] = True\n",
    "\n",
    "    iae = np.argmin(abs(ar['time_ae'][fla][i]-ae['time']/3600.0))\n",
    "\n",
    "    # Only run for aerosol rertievals within 1 hour\n",
    "    if abs(ar['time_ae'][fla][i]-ae['time']/3600.0)[iae]<1.0: \n",
    "\n",
    "        aero['ext'] = fx_ext(ar['AOD_polycoef_a0'][fla][i],ar['AOD_polycoef_a1'][fla][i],ar['AOD_polycoef_a2'][fla][i])\n",
    "        aero['ssa'] = fx_aero(ae['SSA'][iae])\n",
    "        aero['asy'] = fx_aero(ae['g_total'][iae])\n",
    "\n",
    "        #Rl.write_input_aac(fpp_in+f_in,geo=geo,aero=aero,cloud=cloud,source=source,albedo=albedo,\n",
    "        #                           verbose=False,make_base=False,set_quiet=True)\n",
    "        f.write('{uv} < {fin} > {out}\\n'.format(uv=fp_uvspec,fin=fpp_in+f_in,out=fpp_out+f_in))\n",
    "\n",
    "        f_in_noa = '{name}_{vv}_star_{i:03d}_noaero.dat'.format(name=name,vv=vv,i=i)\n",
    "        #Rl.write_input_aac(fpp_in+f_in,geo=geo,aero=aero_no,cloud=cloud,source=source,albedo=albedo,\n",
    "        #                           verbose=False,make_base=False,set_quiet=True)\n",
    "        f.write('{uv} < {fin} > {out}\\n'.format(uv=fp_uvspec,fin=fpp_in+f_in_noa,out=fpp_out+f_in_noa))\n",
    "        \n",
    "        bb.append({'geo':deepcopy(geo),'cod':cod[flb][i],'ref':ref[flb][i],'aero':deepcopy(aero),\n",
    "                   'f_in':deepcopy(f_in),'f_in_noa':deepcopy(f_in_noa)})\n",
    "\n",
    "    if isjupyter(): \n",
    "        pbar.update(1)\n",
    "    else:\n",
    "        print i\n",
    "\n",
    "f.close()"
   ]
  },
  {
   "cell_type": "code",
   "execution_count": 71,
   "metadata": {
    "ExecuteTime": {
     "end_time": "2020-05-12T03:36:10.762307Z",
     "start_time": "2020-05-12T03:35:47.003382Z"
    }
   },
   "outputs": [
    {
     "data": {
      "application/vnd.jupyter.widget-view+json": {
       "model_id": "2123ce9c90244d86b62d1229222a86a6",
       "version_major": 2,
       "version_minor": 0
      },
      "text/plain": [
       "A Jupyter Widget"
      ]
     },
     "metadata": {},
     "output_type": "display_data"
    }
   ],
   "source": [
    "# Go through and write out the list file for 24 h\n",
    "f = open(fp_rtm+'{}_DARE_{}.sh'.format(name,vv),'w')\n",
    "if isjupyter():\n",
    "    pbar = tqdm(total=len(ar['Start_UTC'][fla]))\n",
    "for i,u in enumerate(ar['Start_UTC'][fla]):\n",
    "    iae = np.argmin(abs(ar['time_ae'][fla][i]-ae['time']/3600.0))\n",
    "    if abs(ar['time_ae'][fla][i]-ae['time']/3600.0)[iae]<1.0: \n",
    "        for ux in np.arange(0,24,0.5):\n",
    "            f_in = '{name}_{vv}_DARE_{i:03d}_withaero_{ux:04.1f}.dat'.format(name=name,vv=vv,i=i,ux=ux)\n",
    "            f_in_noa = '{name}_{vv}_star_{i:03d}_noaero_{ux:04.1f}.dat'.format(name=name,vv=vv,i=i,ux=ux)\n",
    "            f.write('{uv} < {fin} > {out}\\n'.format(uv=fp_uvspec,fin=fpp_in+f_in,out=fpp_out+f_in))\n",
    "            f.write('{uv} < {fin} > {out}\\n'.format(uv=fp_uvspec,fin=fpp_in+f_in_noa,out=fpp_out+f_in_noa))\n",
    "        pbar.update(1)  \n",
    "f.close()"
   ]
  },
  {
   "cell_type": "code",
   "execution_count": 66,
   "metadata": {
    "ExecuteTime": {
     "end_time": "2020-05-11T20:19:51.982742Z",
     "start_time": "2020-05-11T20:19:51.965190Z"
    }
   },
   "outputs": [],
   "source": [
    "def write_files(d,cloud=cloud,source=source,albedo=albedo,aero_no=aero_no):\n",
    "    'function to feed the pool of workers to write out the all the files'\n",
    "    cloud['tau'],cloud['ref'] = d['cod'],d['ref']\n",
    "    d['f_in'] = d['f_in'].replace('.dat','')+'_{ux:04.1f}.dat'\n",
    "    d['f_in_noa'] = d['f_in_noa'].replace('.dat','')+'_{ux:04.1f}.dat'\n",
    "    for ux in np.arange(0,24,0.5):\n",
    "        d['geo']['utc'] = ux\n",
    "        d['geo']['hour'] = int(ux)\n",
    "        d['geo']['minute'] = int((ux-int(ux))*60.0)\n",
    "        d['geo']['second'] = 0\n",
    "        d['geo'].pop('sza',None)\n",
    "        Rl.write_input_aac(fpp_in+d['f_in'].format(ux=ux),geo=d['geo'],aero=d['aero'],cloud=cloud,source=source,albedo=albedo,\n",
    "                                   verbose=False,make_base=False,set_quiet=True)\n",
    "        Rl.write_input_aac(fpp_in+d['f_in_noa'].format(ux=ux),geo=d['geo'],aero=aero_no,cloud=cloud,source=source,albedo=albedo,\n",
    "                                   verbose=False,make_base=False,set_quiet=True)"
   ]
  },
  {
   "cell_type": "code",
   "execution_count": 73,
   "metadata": {
    "ExecuteTime": {
     "end_time": "2020-05-12T04:51:19.126476Z",
     "start_time": "2020-05-12T04:51:19.119432Z"
    }
   },
   "outputs": [
    {
     "data": {
      "text/plain": [
       "244"
      ]
     },
     "execution_count": 73,
     "metadata": {},
     "output_type": "execute_result"
    }
   ],
   "source": [
    "import datetime\n",
    "ud = datetime.datetime(2016,1,1) + datetime.timedelta(bb[0]['geo']['doy'])\n",
    "bb[0]['geo']['doy']"
   ]
  },
  {
   "cell_type": "code",
   "execution_count": 75,
   "metadata": {
    "ExecuteTime": {
     "end_time": "2020-05-12T04:51:28.804641Z",
     "start_time": "2020-05-12T04:51:28.793250Z"
    }
   },
   "outputs": [
    {
     "data": {
      "text/plain": [
       "9"
      ]
     },
     "execution_count": 75,
     "metadata": {},
     "output_type": "execute_result"
    }
   ],
   "source": [
    "ud.month"
   ]
  },
  {
   "cell_type": "code",
   "execution_count": null,
   "metadata": {},
   "outputs": [],
   "source": [
    "def write_files(d,cloud=cloud,source=source,albedo=albedo,aero_no=aero_no):\n",
    "    'function to feed the pool of workers to write out the all the files'\n",
    "    cloud['tau'],cloud['ref'] = d['cod'],d['ref']\n",
    "    d['f_in'] = d['f_in'].replace('.dat','')+'_{ux:04.1f}.dat'\n",
    "    d['f_in_noa'] = d['f_in_noa'].replace('.dat','')+'_{ux:04.1f}.dat'\n",
    "    ud = datetime.datetime(2016,1,1) + datetime.timedelta(d['geo']['doy'])\n",
    "    d['geo']['day'] = ud.day\n",
    "    d['geo']['year'] = ud.year\n",
    "    d['geo']['month'] = ud.month\n",
    "    for ux in np.arange(0,24,0.5):\n",
    "        d['geo']['utc'] = ux\n",
    "        d['geo']['hour'] = int(ux)\n",
    "        d['geo']['minute'] = int((ux-int(ux))*60.0)\n",
    "        d['geo']['second'] = 0\n",
    "        d['geo'].pop('sza',None)\n",
    "        Rl.write_input_aac(fpp_in+d['f_in'].format(ux=ux),geo=d['geo'],aero=d['aero'],cloud=cloud,source=source,albedo=albedo,\n",
    "                                   verbose=False,make_base=False,set_quiet=True)\n",
    "        Rl.write_input_aac(fpp_in+d['f_in_noa'].format(ux=ux),geo=d['geo'],aero=aero_no,cloud=cloud,source=source,albedo=albedo,\n",
    "                                   verbose=False,make_base=False,set_quiet=True)"
   ]
  },
  {
   "cell_type": "code",
   "execution_count": 82,
   "metadata": {
    "ExecuteTime": {
     "end_time": "2020-05-12T05:10:13.214696Z",
     "start_time": "2020-05-12T05:10:13.187108Z"
    }
   },
   "outputs": [],
   "source": [
    "def write_files_sub(d,cloud=cloud,source=source,albedo=albedo,aero_no=aero_no):\n",
    "    'function to feed the pool of workers to write out the all the files'\n",
    "    cloud['tau'],cloud['ref'] = d['cod'],d['ref']\n",
    "    d['f_in'] = d['f_in'].replace('.dat','')+'_{ux:04.1f}.dat'\n",
    "    d['f_in_noa'] = d['f_in_noa'].replace('.dat','')+'_{ux:04.1f}.dat'\n",
    "    ud = datetime.datetime(2016,1,1) + datetime.timedelta(d['geo']['doy'])\n",
    "    d['geo']['day'] = ud.day\n",
    "    d['geo']['year'] = ud.year\n",
    "    d['geo']['month'] = ud.month\n",
    "    source['run_fuliou'] = True\n",
    "    d['aero']['link_to_mom_file'] = True\n",
    "    d['aero']['file_name'] = fpp_in+d['f_in'].format(ux=0.0)+'_aero'\n",
    "    cloud['link_to_mom_file'] = True\n",
    "    cloud['file_name'] = fpp_in+d['f_in'].format(ux=0.0)+'_cloud'\n",
    "    d['geo'].pop('doy',None)\n",
    "    for ux in np.arange(0,24,0.5):\n",
    "        d['geo']['utc'] = ux\n",
    "        d['geo']['hour'] = int(ux)\n",
    "        d['geo']['minute'] = int((ux-int(ux))*60.0)\n",
    "        d['geo']['second'] = 0\n",
    "        d['geo'].pop('sza',None)\n",
    "        Rl.write_input_aac(fpp_in+d['f_in'].format(ux=ux),geo=d['geo'],aero=d['aero'],cloud=cloud,\n",
    "                           source=source,albedo=albedo,solver='twostr',\n",
    "                           verbose=False,make_base=False,set_quiet=True)\n",
    "        Rl.write_input_aac(fpp_in+d['f_in_noa'].format(ux=ux),geo=d['geo'],aero=aero_no,cloud=cloud,\n",
    "                           source=source,albedo=albedo,solver='twostr',\n",
    "                           verbose=False,make_base=False,set_quiet=True)"
   ]
  },
  {
   "cell_type": "code",
   "execution_count": 83,
   "metadata": {
    "ExecuteTime": {
     "end_time": "2020-05-12T05:10:14.502581Z",
     "start_time": "2020-05-12T05:10:14.010538Z"
    }
   },
   "outputs": [],
   "source": [
    "p = Pool(cpu_count()-1,worker_init)"
   ]
  },
  {
   "cell_type": "code",
   "execution_count": 84,
   "metadata": {
    "ExecuteTime": {
     "end_time": "2020-05-12T05:10:58.206723Z",
     "start_time": "2020-05-12T05:10:15.677722Z"
    }
   },
   "outputs": [
    {
     "data": {
      "application/vnd.jupyter.widget-view+json": {
       "model_id": "9e55ea0415f34568ac0fb3e958a07a9a",
       "version_major": 2,
       "version_minor": 0
      },
      "text/plain": [
       "A Jupyter Widget"
      ]
     },
     "metadata": {},
     "output_type": "display_data"
    },
    {
     "data": {
      "application/vnd.jupyter.widget-view+json": {
       "model_id": "d305e3644bc64e308634796f4888a67b",
       "version_major": 2,
       "version_minor": 0
      },
      "text/plain": [
       "A Jupyter Widget"
      ]
     },
     "metadata": {},
     "output_type": "display_data"
    },
    {
     "name": "stdout",
     "output_type": "stream",
     "text": [
      "\n",
      "\n"
     ]
    }
   ],
   "source": [
    "results = []\n",
    "max_ = len(bb)\n",
    "with tqdm(total=max_) as pbar:\n",
    "    for i, res in tqdm(enumerate(p.imap_unordered(write_files_sub, bb))):\n",
    "        pbar.update()\n",
    "        results.append(res)"
   ]
  },
  {
   "cell_type": "code",
   "execution_count": null,
   "metadata": {},
   "outputs": [],
   "source": [
    "##results = p.map(write_files,bb)"
   ]
  },
  {
   "cell_type": "markdown",
   "metadata": {},
   "source": [
    "### Test out using fifo instead of files"
   ]
  },
  {
   "cell_type": "code",
   "execution_count": 119,
   "metadata": {
    "ExecuteTime": {
     "end_time": "2020-04-15T00:12:35.019380Z",
     "start_time": "2020-04-15T00:12:35.010826Z"
    }
   },
   "outputs": [],
   "source": [
    "import os\n",
    "from multiprocessing import Process, Event\n",
    "import subprocess as sub"
   ]
  },
  {
   "cell_type": "code",
   "execution_count": 113,
   "metadata": {
    "ExecuteTime": {
     "end_time": "2020-04-14T23:53:50.876324Z",
     "start_time": "2020-04-14T23:53:50.870822Z"
    }
   },
   "outputs": [],
   "source": [
    "fp_fifo_in = '/tmp/uvspec_input.fifo'"
   ]
  },
  {
   "cell_type": "code",
   "execution_count": 114,
   "metadata": {
    "ExecuteTime": {
     "end_time": "2020-04-14T23:54:00.980178Z",
     "start_time": "2020-04-14T23:54:00.975214Z"
    }
   },
   "outputs": [],
   "source": [
    "os.mkfifo(fp_fifo_in)"
   ]
  },
  {
   "cell_type": "code",
   "execution_count": 118,
   "metadata": {
    "ExecuteTime": {
     "end_time": "2020-04-15T00:05:24.271068Z",
     "start_time": "2020-04-15T00:05:00.263991Z"
    }
   },
   "outputs": [],
   "source": [
    "p = open(fp_fifo_in,'w')\n",
    "p.write('quiet\\n')\n",
    "p.write('mol_abs_param fu\\n')\n",
    "p.write('rte_solver twostr\\n')\n",
    "p.write('output_process sum\\n')\n",
    "p.write('data_files_path /home/sam/libradtran/libRadtran-2.0.2b/data/ \\n')\n",
    "p.write('source solar /home/sam/libradtran/libRadtran-2.0.2b/data/solar_flux/kurudz_1.0nm.dat per_nm\\n')\n",
    "p.write('wavelength 350.000000 4000.000000\\n')\n",
    "p.write('zout 0 3 100\\n')\n",
    "p.write('latitude N 56.938700\\n')\n",
    "p.write('longitude W 111.866900\\n')\n",
    "p.write('time 2018 06 09 15 30 00\\n')\n",
    "p.write('aerosol_default\\n')\n",
    "p.write('aerosol_modify ssa scale 0.85\\n')\n",
    "p.write('disort_intcor moments\\n')\n",
    "p.write('albedo 0.33\\n')\n",
    "p.close()"
   ]
  },
  {
   "cell_type": "code",
   "execution_count": 154,
   "metadata": {
    "ExecuteTime": {
     "end_time": "2020-04-15T01:08:36.651561Z",
     "start_time": "2020-04-15T01:08:36.635170Z"
    }
   },
   "outputs": [],
   "source": [
    "def print_fifo():\n",
    "    p = open(fp_fifo_in,'w')\n",
    "    p.write('quiet\\n')\n",
    "    p.write('mol_abs_param fu\\n')\n",
    "    p.write('rte_solver twostr\\n')\n",
    "    p.write('output_process sum\\n')\n",
    "    p.write('data_files_path /home/sam/libradtran/libRadtran-2.0.2b/data/ \\n')\n",
    "    p.write('source solar /home/sam/libradtran/libRadtran-2.0.2b/data/solar_flux/kurudz_1.0nm.dat per_nm\\n')\n",
    "    p.write('wavelength 350.000000 4000.000000\\n')\n",
    "    p.write('zout 0 3 100\\n')\n",
    "    p.write('latitude N 56.938700\\n')\n",
    "    p.write('longitude W 111.866900\\n')\n",
    "    p.write('time 2018 06 09 15 30 00\\n')\n",
    "    p.write('aerosol_default\\n')\n",
    "    p.write('aerosol_modify ssa scale 0.85\\n')\n",
    "    p.write('disort_intcor moments\\n')\n",
    "    p.write('albedo 0.33\\n')\n",
    "    p.close()"
   ]
  },
  {
   "cell_type": "code",
   "execution_count": 155,
   "metadata": {
    "ExecuteTime": {
     "end_time": "2020-04-15T01:08:43.826991Z",
     "start_time": "2020-04-15T01:08:43.819851Z"
    }
   },
   "outputs": [],
   "source": [
    "def run():\n",
    "    process = sub.Popen([fp_uvspec],stdin=p, stdout=sub.PIPE,stderr=sub.PIPE)\n",
    "    stdout,stderr = process.communicate()\n",
    "    #stderr = process.stderr.read()\n",
    "    print 'STDOUT:{},{},{}'.format(stdout,stderr,process.poll())"
   ]
  },
  {
   "cell_type": "code",
   "execution_count": 175,
   "metadata": {
    "ExecuteTime": {
     "end_time": "2020-04-15T01:35:39.425277Z",
     "start_time": "2020-04-15T01:35:29.998872Z"
    }
   },
   "outputs": [
    {
     "name": "stdout",
     "output_type": "stream",
     "text": [
      "fifo:  <open file '/tmp/uvspec_input.fifo', mode 'w+' at 0x7efe1fe9b810>\n"
     ]
    },
    {
     "ename": "KeyboardInterrupt",
     "evalue": "",
     "output_type": "error",
     "traceback": [
      "\u001b[0;31m\u001b[0m",
      "\u001b[0;31mKeyboardInterrupt\u001b[0mTraceback (most recent call last)",
      "\u001b[0;32m<ipython-input-175-5cb4d84037b8>\u001b[0m in \u001b[0;36m<module>\u001b[0;34m()\u001b[0m\n\u001b[1;32m     19\u001b[0m \u001b[0;31m#p.close()\u001b[0m\u001b[0;34m\u001b[0m\u001b[0;34m\u001b[0m\u001b[0m\n\u001b[1;32m     20\u001b[0m \u001b[0mprocess\u001b[0m \u001b[0;34m=\u001b[0m \u001b[0msub\u001b[0m\u001b[0;34m.\u001b[0m\u001b[0mPopen\u001b[0m\u001b[0;34m(\u001b[0m\u001b[0;34m[\u001b[0m\u001b[0mfp_uvspec\u001b[0m\u001b[0;34m]\u001b[0m\u001b[0;34m,\u001b[0m\u001b[0mstdin\u001b[0m\u001b[0;34m=\u001b[0m\u001b[0mp\u001b[0m\u001b[0;34m,\u001b[0m\u001b[0mstdout\u001b[0m\u001b[0;34m=\u001b[0m\u001b[0msub\u001b[0m\u001b[0;34m.\u001b[0m\u001b[0mPIPE\u001b[0m\u001b[0;34m,\u001b[0m\u001b[0mstderr\u001b[0m\u001b[0;34m=\u001b[0m\u001b[0msub\u001b[0m\u001b[0;34m.\u001b[0m\u001b[0mPIPE\u001b[0m\u001b[0;34m)\u001b[0m\u001b[0;34m\u001b[0m\u001b[0m\n\u001b[0;32m---> 21\u001b[0;31m \u001b[0mstdout\u001b[0m\u001b[0;34m,\u001b[0m\u001b[0mstderr\u001b[0m \u001b[0;34m=\u001b[0m \u001b[0mprocess\u001b[0m\u001b[0;34m.\u001b[0m\u001b[0mcommunicate\u001b[0m\u001b[0;34m(\u001b[0m\u001b[0;34m)\u001b[0m\u001b[0;34m\u001b[0m\u001b[0m\n\u001b[0m\u001b[1;32m     22\u001b[0m \u001b[0;32mprint\u001b[0m \u001b[0;34m'STDOUT:{},{},{}'\u001b[0m\u001b[0;34m.\u001b[0m\u001b[0mformat\u001b[0m\u001b[0;34m(\u001b[0m\u001b[0mstdout\u001b[0m\u001b[0;34m,\u001b[0m\u001b[0mstderr\u001b[0m\u001b[0;34m,\u001b[0m\u001b[0mprocess\u001b[0m\u001b[0;34m.\u001b[0m\u001b[0mpoll\u001b[0m\u001b[0;34m(\u001b[0m\u001b[0;34m)\u001b[0m\u001b[0;34m)\u001b[0m\u001b[0;34m\u001b[0m\u001b[0m\n\u001b[1;32m     23\u001b[0m \u001b[0mp\u001b[0m\u001b[0;34m.\u001b[0m\u001b[0mclose\u001b[0m\u001b[0;34m(\u001b[0m\u001b[0;34m)\u001b[0m\u001b[0;34m\u001b[0m\u001b[0m\n",
      "\u001b[0;32m/usr/lib/python2.7/subprocess.pyc\u001b[0m in \u001b[0;36mcommunicate\u001b[0;34m(self, input)\u001b[0m\n\u001b[1;32m    481\u001b[0m             \u001b[0;32mreturn\u001b[0m \u001b[0;34m(\u001b[0m\u001b[0mstdout\u001b[0m\u001b[0;34m,\u001b[0m \u001b[0mstderr\u001b[0m\u001b[0;34m)\u001b[0m\u001b[0;34m\u001b[0m\u001b[0m\n\u001b[1;32m    482\u001b[0m \u001b[0;34m\u001b[0m\u001b[0m\n\u001b[0;32m--> 483\u001b[0;31m         \u001b[0;32mreturn\u001b[0m \u001b[0mself\u001b[0m\u001b[0;34m.\u001b[0m\u001b[0m_communicate\u001b[0m\u001b[0;34m(\u001b[0m\u001b[0minput\u001b[0m\u001b[0;34m)\u001b[0m\u001b[0;34m\u001b[0m\u001b[0m\n\u001b[0m\u001b[1;32m    484\u001b[0m \u001b[0;34m\u001b[0m\u001b[0m\n\u001b[1;32m    485\u001b[0m \u001b[0;34m\u001b[0m\u001b[0m\n",
      "\u001b[0;32m/usr/lib/python2.7/subprocess.pyc\u001b[0m in \u001b[0;36m_communicate\u001b[0;34m(self, input)\u001b[0m\n\u001b[1;32m   1122\u001b[0m \u001b[0;34m\u001b[0m\u001b[0m\n\u001b[1;32m   1123\u001b[0m             \u001b[0;32mif\u001b[0m \u001b[0m_has_poll\u001b[0m\u001b[0;34m:\u001b[0m\u001b[0;34m\u001b[0m\u001b[0m\n\u001b[0;32m-> 1124\u001b[0;31m                 \u001b[0mstdout\u001b[0m\u001b[0;34m,\u001b[0m \u001b[0mstderr\u001b[0m \u001b[0;34m=\u001b[0m \u001b[0mself\u001b[0m\u001b[0;34m.\u001b[0m\u001b[0m_communicate_with_poll\u001b[0m\u001b[0;34m(\u001b[0m\u001b[0minput\u001b[0m\u001b[0;34m)\u001b[0m\u001b[0;34m\u001b[0m\u001b[0m\n\u001b[0m\u001b[1;32m   1125\u001b[0m             \u001b[0;32melse\u001b[0m\u001b[0;34m:\u001b[0m\u001b[0;34m\u001b[0m\u001b[0m\n\u001b[1;32m   1126\u001b[0m                 \u001b[0mstdout\u001b[0m\u001b[0;34m,\u001b[0m \u001b[0mstderr\u001b[0m \u001b[0;34m=\u001b[0m \u001b[0mself\u001b[0m\u001b[0;34m.\u001b[0m\u001b[0m_communicate_with_select\u001b[0m\u001b[0;34m(\u001b[0m\u001b[0minput\u001b[0m\u001b[0;34m)\u001b[0m\u001b[0;34m\u001b[0m\u001b[0m\n",
      "\u001b[0;32m/usr/lib/python2.7/subprocess.pyc\u001b[0m in \u001b[0;36m_communicate_with_poll\u001b[0;34m(self, input)\u001b[0m\n\u001b[1;32m   1176\u001b[0m             \u001b[0;32mwhile\u001b[0m \u001b[0mfd2file\u001b[0m\u001b[0;34m:\u001b[0m\u001b[0;34m\u001b[0m\u001b[0m\n\u001b[1;32m   1177\u001b[0m                 \u001b[0;32mtry\u001b[0m\u001b[0;34m:\u001b[0m\u001b[0;34m\u001b[0m\u001b[0m\n\u001b[0;32m-> 1178\u001b[0;31m                     \u001b[0mready\u001b[0m \u001b[0;34m=\u001b[0m \u001b[0mpoller\u001b[0m\u001b[0;34m.\u001b[0m\u001b[0mpoll\u001b[0m\u001b[0;34m(\u001b[0m\u001b[0;34m)\u001b[0m\u001b[0;34m\u001b[0m\u001b[0m\n\u001b[0m\u001b[1;32m   1179\u001b[0m                 \u001b[0;32mexcept\u001b[0m \u001b[0mselect\u001b[0m\u001b[0;34m.\u001b[0m\u001b[0merror\u001b[0m\u001b[0;34m,\u001b[0m \u001b[0me\u001b[0m\u001b[0;34m:\u001b[0m\u001b[0;34m\u001b[0m\u001b[0m\n\u001b[1;32m   1180\u001b[0m                     \u001b[0;32mif\u001b[0m \u001b[0me\u001b[0m\u001b[0;34m.\u001b[0m\u001b[0margs\u001b[0m\u001b[0;34m[\u001b[0m\u001b[0;36m0\u001b[0m\u001b[0;34m]\u001b[0m \u001b[0;34m==\u001b[0m \u001b[0merrno\u001b[0m\u001b[0;34m.\u001b[0m\u001b[0mEINTR\u001b[0m\u001b[0;34m:\u001b[0m\u001b[0;34m\u001b[0m\u001b[0m\n",
      "\u001b[0;31mKeyboardInterrupt\u001b[0m: "
     ]
    },
    {
     "name": "stdout",
     "output_type": "stream",
     "text": [
      "signal: 2\n",
      "signal: 2\n",
      "signal: 2\n",
      "signal: 2\n",
      "signal: 2\n",
      "signal: 2\n",
      "signal: 2\n",
      "signal: 2\n",
      "signal: 2\n",
      "signal: 2\n",
      "signal: 2\n",
      "signal: 2\n",
      "signal: 2\n",
      "signal: 2\n",
      "signal: 2\n",
      "signal: 2\n",
      "signal: 2\n",
      "signal: 2\n",
      "signal: 2\n",
      "signal: 2\n",
      "signal: 2\n",
      "signal: 2\n",
      "signal: 2\n",
      "signal: 2\n",
      "signal: 2\n",
      "signal: 2\n",
      "signal: 2\n",
      "signal: 2\n",
      "signal: 2\n",
      "signal: 2\n",
      "signal: 2\n",
      "signal: 2\n",
      "signal: 2\n",
      "signal: 2\n",
      "signal: 2\n",
      "signal: 2\n",
      "signal: 2\n",
      "signal: 2\n",
      "signal: 2\n",
      "signal: 2\n",
      "signal: 2\n",
      "signal: 2\n"
     ]
    },
    {
     "name": "stderr",
     "output_type": "stream",
     "text": [
      "Process PoolWorker-258:\n",
      "Process PoolWorker-241:\n",
      "Process PoolWorker-257:\n",
      "Process PoolWorker-252:\n",
      "Process PoolWorker-246:\n",
      "Process PoolWorker-251:\n",
      "Process PoolWorker-256:\n",
      "Process PoolWorker-220:\n",
      "Process PoolWorker-250:\n",
      "Process PoolWorker-227:\n",
      "Process PoolWorker-238:\n",
      "Process PoolWorker-240:\n",
      "Process PoolWorker-254:\n",
      "Process PoolWorker-224:\n",
      "Process PoolWorker-231:\n",
      "Process PoolWorker-244:\n"
     ]
    },
    {
     "name": "stdout",
     "output_type": "stream",
     "text": [
      "signal: 2"
     ]
    },
    {
     "name": "stderr",
     "output_type": "stream",
     "text": [
      "Traceback (most recent call last):\n",
      "Process PoolWorker-232:\n",
      "Process PoolWorker-221:\n",
      "Process PoolWorker-239:\n",
      "Process PoolWorker-229:\n",
      "Process PoolWorker-233:\n",
      "Process PoolWorker-249:\n"
     ]
    },
    {
     "name": "stdout",
     "output_type": "stream",
     "text": [
      "signal: 2"
     ]
    },
    {
     "name": "stderr",
     "output_type": "stream",
     "text": [
      "Process PoolWorker-245:\n",
      "Process PoolWorker-235:\n",
      "Process PoolWorker-236:\n",
      "Process PoolWorker-243:\n",
      "Process PoolWorker-242:\n",
      "Process PoolWorker-223:\n",
      "Process PoolWorker-226:\n",
      "Process PoolWorker-230:\n",
      "Process PoolWorker-253:\n",
      "Traceback (most recent call last):\n",
      "Traceback (most recent call last):\n",
      "Traceback (most recent call last):\n",
      "Process PoolWorker-228:\n",
      "Process PoolWorker-234:\n",
      "Process PoolWorker-247:\n",
      "Process PoolWorker-248:\n",
      "Traceback (most recent call last):\n",
      "Traceback (most recent call last):\n",
      "Process PoolWorker-237:\n",
      "Traceback (most recent call last):\n",
      "Traceback (most recent call last):\n",
      "Traceback (most recent call last):\n",
      "Traceback (most recent call last):\n",
      "Traceback (most recent call last):\n",
      "Traceback (most recent call last):\n",
      "Traceback (most recent call last):\n",
      "Traceback (most recent call last):\n",
      "Traceback (most recent call last):\n",
      "Traceback (most recent call last):\n",
      "Traceback (most recent call last):\n",
      "Traceback (most recent call last):\n",
      "  File \"/usr/lib/python2.7/multiprocessing/process.py\", line 267, in _bootstrap\n",
      "Traceback (most recent call last):\n",
      "Traceback (most recent call last):\n",
      "Traceback (most recent call last):\n",
      "Traceback (most recent call last):\n",
      "Traceback (most recent call last):\n",
      "Traceback (most recent call last):\n",
      "Traceback (most recent call last):\n",
      "Traceback (most recent call last):\n",
      "Traceback (most recent call last):\n",
      "Traceback (most recent call last):\n",
      "Traceback (most recent call last):\n",
      "Traceback (most recent call last):\n",
      "Traceback (most recent call last):\n",
      "  File \"/usr/lib/python2.7/multiprocessing/process.py\", line 267, in _bootstrap\n",
      "  File \"/usr/lib/python2.7/multiprocessing/process.py\", line 267, in _bootstrap\n",
      "  File \"/usr/lib/python2.7/multiprocessing/process.py\", line 267, in _bootstrap\n",
      "Traceback (most recent call last):\n",
      "Traceback (most recent call last):\n",
      "  File \"/usr/lib/python2.7/multiprocessing/process.py\", line 267, in _bootstrap\n",
      "  File \"/usr/lib/python2.7/multiprocessing/process.py\", line 267, in _bootstrap\n",
      "Traceback (most recent call last):\n",
      "  File \"/usr/lib/python2.7/multiprocessing/process.py\", line 267, in _bootstrap\n",
      "Traceback (most recent call last):\n",
      "Traceback (most recent call last):\n",
      "  File \"/usr/lib/python2.7/multiprocessing/process.py\", line 267, in _bootstrap\n",
      "  File \"/usr/lib/python2.7/multiprocessing/process.py\", line 267, in _bootstrap\n",
      "  File \"/usr/lib/python2.7/multiprocessing/process.py\", line 267, in _bootstrap\n",
      "  File \"/usr/lib/python2.7/multiprocessing/process.py\", line 267, in _bootstrap\n",
      "  File \"/usr/lib/python2.7/multiprocessing/process.py\", line 267, in _bootstrap\n",
      "  File \"/usr/lib/python2.7/multiprocessing/process.py\", line 267, in _bootstrap\n",
      "  File \"/usr/lib/python2.7/multiprocessing/process.py\", line 267, in _bootstrap\n",
      "  File \"/usr/lib/python2.7/multiprocessing/process.py\", line 267, in _bootstrap\n",
      "  File \"/usr/lib/python2.7/multiprocessing/process.py\", line 267, in _bootstrap\n",
      "  File \"/usr/lib/python2.7/multiprocessing/process.py\", line 267, in _bootstrap\n",
      "  File \"/usr/lib/python2.7/multiprocessing/process.py\", line 267, in _bootstrap\n",
      "  File \"/usr/lib/python2.7/multiprocessing/process.py\", line 267, in _bootstrap\n",
      "  File \"/usr/lib/python2.7/multiprocessing/process.py\", line 267, in _bootstrap\n",
      "    self.run()\n",
      "  File \"/usr/lib/python2.7/multiprocessing/process.py\", line 267, in _bootstrap\n",
      "  File \"/usr/lib/python2.7/multiprocessing/process.py\", line 267, in _bootstrap\n",
      "  File \"/usr/lib/python2.7/multiprocessing/process.py\", line 267, in _bootstrap\n",
      "  File \"/usr/lib/python2.7/multiprocessing/process.py\", line 267, in _bootstrap\n",
      "  File \"/usr/lib/python2.7/multiprocessing/process.py\", line 267, in _bootstrap\n",
      "  File \"/usr/lib/python2.7/multiprocessing/process.py\", line 267, in _bootstrap\n",
      "  File \"/usr/lib/python2.7/multiprocessing/process.py\", line 267, in _bootstrap\n",
      "  File \"/usr/lib/python2.7/multiprocessing/process.py\", line 267, in _bootstrap\n",
      "  File \"/usr/lib/python2.7/multiprocessing/process.py\", line 267, in _bootstrap\n",
      "  File \"/usr/lib/python2.7/multiprocessing/process.py\", line 267, in _bootstrap\n",
      "  File \"/usr/lib/python2.7/multiprocessing/process.py\", line 267, in _bootstrap\n",
      "  File \"/usr/lib/python2.7/multiprocessing/process.py\", line 267, in _bootstrap\n",
      "    self.run()\n",
      "    self.run()\n",
      "    self.run()\n",
      "    self.run()\n",
      "  File \"/usr/lib/python2.7/multiprocessing/process.py\", line 267, in _bootstrap\n",
      "    self.run()\n",
      "  File \"/usr/lib/python2.7/multiprocessing/process.py\", line 267, in _bootstrap\n",
      "  File \"/usr/lib/python2.7/multiprocessing/process.py\", line 267, in _bootstrap\n",
      "  File \"/usr/lib/python2.7/multiprocessing/process.py\", line 267, in _bootstrap\n",
      "    self.run()\n",
      "    self.run()\n",
      "    self.run()\n",
      "    self.run()\n",
      "    self.run()\n",
      "    self.run()\n",
      "    self.run()\n",
      "    self.run()\n",
      "    self.run()\n",
      "    self.run()\n",
      "    self.run()\n",
      "    self.run()\n",
      "  File \"/usr/lib/python2.7/multiprocessing/process.py\", line 114, in run\n",
      "    self.run()\n",
      "    self.run()\n",
      "    self.run()\n",
      "    self.run()\n",
      "    self.run()\n",
      "    self.run()\n",
      "    self.run()\n",
      "    self.run()\n",
      "    self.run()\n",
      "    self.run()\n",
      "    self.run()\n",
      "    self.run()\n",
      "    self.run()\n",
      "  File \"/usr/lib/python2.7/multiprocessing/process.py\", line 114, in run\n",
      "  File \"/usr/lib/python2.7/multiprocessing/process.py\", line 114, in run\n",
      "  File \"/usr/lib/python2.7/multiprocessing/process.py\", line 114, in run\n",
      "    self.run()\n",
      "  File \"/usr/lib/python2.7/multiprocessing/process.py\", line 114, in run\n",
      "    self.run()\n",
      "    self.run()\n",
      "  File \"/usr/lib/python2.7/multiprocessing/process.py\", line 114, in run\n",
      "    self.run()\n",
      "  File \"/usr/lib/python2.7/multiprocessing/process.py\", line 114, in run\n",
      "    self.run()\n",
      "  File \"/usr/lib/python2.7/multiprocessing/process.py\", line 114, in run\n",
      "  File \"/usr/lib/python2.7/multiprocessing/process.py\", line 114, in run\n",
      "  File \"/usr/lib/python2.7/multiprocessing/process.py\", line 114, in run\n",
      "  File \"/usr/lib/python2.7/multiprocessing/process.py\", line 114, in run\n",
      "  File \"/usr/lib/python2.7/multiprocessing/process.py\", line 114, in run\n",
      "  File \"/usr/lib/python2.7/multiprocessing/process.py\", line 114, in run\n",
      "  File \"/usr/lib/python2.7/multiprocessing/process.py\", line 114, in run\n",
      "  File \"/usr/lib/python2.7/multiprocessing/process.py\", line 114, in run\n",
      "  File \"/usr/lib/python2.7/multiprocessing/process.py\", line 114, in run\n",
      "  File \"/usr/lib/python2.7/multiprocessing/process.py\", line 114, in run\n",
      "    self._target(*self._args, **self._kwargs)\n",
      "  File \"/usr/lib/python2.7/multiprocessing/process.py\", line 114, in run\n",
      "  File \"/usr/lib/python2.7/multiprocessing/process.py\", line 114, in run\n",
      "  File \"/usr/lib/python2.7/multiprocessing/process.py\", line 114, in run\n",
      "  File \"/usr/lib/python2.7/multiprocessing/process.py\", line 114, in run\n",
      "  File \"/usr/lib/python2.7/multiprocessing/process.py\", line 114, in run\n",
      "  File \"/usr/lib/python2.7/multiprocessing/process.py\", line 114, in run\n",
      "  File \"/usr/lib/python2.7/multiprocessing/process.py\", line 114, in run\n",
      "  File \"/usr/lib/python2.7/multiprocessing/process.py\", line 114, in run\n",
      "  File \"/usr/lib/python2.7/multiprocessing/process.py\", line 114, in run\n",
      "  File \"/usr/lib/python2.7/multiprocessing/process.py\", line 114, in run\n",
      "  File \"/usr/lib/python2.7/multiprocessing/process.py\", line 114, in run\n",
      "  File \"/usr/lib/python2.7/multiprocessing/process.py\", line 114, in run\n",
      "    self._target(*self._args, **self._kwargs)\n",
      "  File \"/usr/lib/python2.7/multiprocessing/process.py\", line 114, in run\n",
      "    self._target(*self._args, **self._kwargs)\n",
      "  File \"/usr/lib/python2.7/multiprocessing/process.py\", line 114, in run\n",
      "    self._target(*self._args, **self._kwargs)\n",
      "  File \"/usr/lib/python2.7/multiprocessing/process.py\", line 114, in run\n",
      "    self._target(*self._args, **self._kwargs)\n",
      "  File \"/usr/lib/python2.7/multiprocessing/process.py\", line 114, in run\n",
      "    self._target(*self._args, **self._kwargs)\n",
      "  File \"/usr/lib/python2.7/multiprocessing/process.py\", line 114, in run\n",
      "  File \"/usr/lib/python2.7/multiprocessing/process.py\", line 114, in run\n",
      "    self._target(*self._args, **self._kwargs)\n",
      "  File \"/usr/lib/python2.7/multiprocessing/process.py\", line 114, in run\n",
      "    self._target(*self._args, **self._kwargs)\n",
      "    self._target(*self._args, **self._kwargs)\n",
      "    self._target(*self._args, **self._kwargs)\n",
      "    self._target(*self._args, **self._kwargs)\n",
      "    self._target(*self._args, **self._kwargs)\n",
      "    self._target(*self._args, **self._kwargs)\n"
     ]
    },
    {
     "name": "stderr",
     "output_type": "stream",
     "text": [
      "    self._target(*self._args, **self._kwargs)\n",
      "    self._target(*self._args, **self._kwargs)\n",
      "    self._target(*self._args, **self._kwargs)\n",
      "    self._target(*self._args, **self._kwargs)\n",
      "  File \"/usr/lib/python2.7/multiprocessing/pool.py\", line 102, in worker\n",
      "    self._target(*self._args, **self._kwargs)\n",
      "    self._target(*self._args, **self._kwargs)\n",
      "    self._target(*self._args, **self._kwargs)\n",
      "    self._target(*self._args, **self._kwargs)\n",
      "    self._target(*self._args, **self._kwargs)\n",
      "    self._target(*self._args, **self._kwargs)\n",
      "    self._target(*self._args, **self._kwargs)\n",
      "    self._target(*self._args, **self._kwargs)\n",
      "    self._target(*self._args, **self._kwargs)\n",
      "    self._target(*self._args, **self._kwargs)\n",
      "    self._target(*self._args, **self._kwargs)\n",
      "    self._target(*self._args, **self._kwargs)\n",
      "  File \"/usr/lib/python2.7/multiprocessing/pool.py\", line 102, in worker\n",
      "  File \"/usr/lib/python2.7/multiprocessing/pool.py\", line 102, in worker\n",
      "    self._target(*self._args, **self._kwargs)\n",
      "  File \"/usr/lib/python2.7/multiprocessing/pool.py\", line 102, in worker\n",
      "    self._target(*self._args, **self._kwargs)\n",
      "    self._target(*self._args, **self._kwargs)\n",
      "  File \"/usr/lib/python2.7/multiprocessing/pool.py\", line 102, in worker\n",
      "  File \"/usr/lib/python2.7/multiprocessing/pool.py\", line 102, in worker\n",
      "    self._target(*self._args, **self._kwargs)\n",
      "    self._target(*self._args, **self._kwargs)\n",
      "  File \"/usr/lib/python2.7/multiprocessing/pool.py\", line 102, in worker\n",
      "    self._target(*self._args, **self._kwargs)\n",
      "  File \"/usr/lib/python2.7/multiprocessing/pool.py\", line 102, in worker\n",
      "    self._target(*self._args, **self._kwargs)\n",
      "  File \"/usr/lib/python2.7/multiprocessing/pool.py\", line 102, in worker\n",
      "  File \"/usr/lib/python2.7/multiprocessing/pool.py\", line 102, in worker\n",
      "  File \"/usr/lib/python2.7/multiprocessing/pool.py\", line 102, in worker\n",
      "  File \"/usr/lib/python2.7/multiprocessing/pool.py\", line 102, in worker\n",
      "  File \"/usr/lib/python2.7/multiprocessing/pool.py\", line 102, in worker\n",
      "  File \"/usr/lib/python2.7/multiprocessing/pool.py\", line 102, in worker\n",
      "  File \"/usr/lib/python2.7/multiprocessing/pool.py\", line 102, in worker\n",
      "  File \"/usr/lib/python2.7/multiprocessing/pool.py\", line 102, in worker\n",
      "  File \"/usr/lib/python2.7/multiprocessing/pool.py\", line 102, in worker\n",
      "  File \"/usr/lib/python2.7/multiprocessing/pool.py\", line 102, in worker\n",
      "  File \"/usr/lib/python2.7/multiprocessing/pool.py\", line 102, in worker\n",
      "  File \"/usr/lib/python2.7/multiprocessing/pool.py\", line 102, in worker\n",
      "  File \"/usr/lib/python2.7/multiprocessing/pool.py\", line 102, in worker\n",
      "    task = get()\n",
      "  File \"/usr/lib/python2.7/multiprocessing/pool.py\", line 102, in worker\n",
      "  File \"/usr/lib/python2.7/multiprocessing/pool.py\", line 102, in worker\n",
      "  File \"/usr/lib/python2.7/multiprocessing/pool.py\", line 102, in worker\n",
      "  File \"/usr/lib/python2.7/multiprocessing/pool.py\", line 102, in worker\n",
      "  File \"/usr/lib/python2.7/multiprocessing/pool.py\", line 102, in worker\n",
      "  File \"/usr/lib/python2.7/multiprocessing/pool.py\", line 102, in worker\n",
      "  File \"/usr/lib/python2.7/multiprocessing/pool.py\", line 102, in worker\n",
      "    task = get()\n",
      "    task = get()\n",
      "  File \"/usr/lib/python2.7/multiprocessing/pool.py\", line 102, in worker\n",
      "  File \"/usr/lib/python2.7/multiprocessing/pool.py\", line 102, in worker\n",
      "    task = get()\n",
      "  File \"/usr/lib/python2.7/multiprocessing/pool.py\", line 102, in worker\n",
      "  File \"/usr/lib/python2.7/multiprocessing/pool.py\", line 102, in worker\n",
      "    task = get()\n",
      "    task = get()\n",
      "  File \"/usr/lib/python2.7/multiprocessing/pool.py\", line 102, in worker\n",
      "  File \"/usr/lib/python2.7/multiprocessing/pool.py\", line 102, in worker\n",
      "  File \"/usr/lib/python2.7/multiprocessing/pool.py\", line 102, in worker\n",
      "    task = get()\n",
      "    task = get()\n",
      "  File \"/usr/lib/python2.7/multiprocessing/pool.py\", line 102, in worker\n",
      "    task = get()\n",
      "    task = get()\n",
      "    task = get()\n",
      "    task = get()\n",
      "    task = get()\n",
      "    task = get()\n",
      "    task = get()\n",
      "    task = get()\n",
      "    task = get()\n",
      "    task = get()\n",
      "    task = get()\n",
      "    task = get()\n",
      "  File \"/usr/lib/python2.7/multiprocessing/queues.py\", line 378, in get\n",
      "    task = get()\n",
      "    task = get()\n",
      "    task = get()\n",
      "    task = get()\n",
      "    task = get()\n",
      "    task = get()\n",
      "  File \"/usr/lib/python2.7/multiprocessing/queues.py\", line 378, in get\n",
      "  File \"/usr/lib/python2.7/multiprocessing/queues.py\", line 378, in get\n",
      "    task = get()\n",
      "    task = get()\n",
      "    task = get()\n",
      "  File \"/usr/lib/python2.7/multiprocessing/queues.py\", line 378, in get\n",
      "    task = get()\n",
      "  File \"/usr/lib/python2.7/multiprocessing/queues.py\", line 378, in get\n",
      "    task = get()\n",
      "  File \"/usr/lib/python2.7/multiprocessing/queues.py\", line 378, in get\n",
      "    task = get()\n",
      "  File \"/usr/lib/python2.7/multiprocessing/queues.py\", line 378, in get\n",
      "    task = get()\n",
      "  File \"/usr/lib/python2.7/multiprocessing/queues.py\", line 378, in get\n",
      "    task = get()\n",
      "  File \"/usr/lib/python2.7/multiprocessing/queues.py\", line 378, in get\n",
      "  File \"/usr/lib/python2.7/multiprocessing/queues.py\", line 378, in get\n",
      "  File \"/usr/lib/python2.7/multiprocessing/queues.py\", line 378, in get\n",
      "  File \"/usr/lib/python2.7/multiprocessing/queues.py\", line 378, in get\n",
      "    task = get()\n",
      "    task = get()\n",
      "  File \"/usr/lib/python2.7/multiprocessing/queues.py\", line 378, in get\n",
      "  File \"/usr/lib/python2.7/multiprocessing/queues.py\", line 378, in get\n",
      "  File \"/usr/lib/python2.7/multiprocessing/queues.py\", line 378, in get\n",
      "  File \"/usr/lib/python2.7/multiprocessing/queues.py\", line 378, in get\n",
      "  File \"/usr/lib/python2.7/multiprocessing/queues.py\", line 378, in get\n",
      "  File \"/usr/lib/python2.7/multiprocessing/queues.py\", line 378, in get\n",
      "  File \"/usr/lib/python2.7/multiprocessing/queues.py\", line 378, in get\n",
      "  File \"/usr/lib/python2.7/multiprocessing/queues.py\", line 378, in get\n",
      "    rrelease()\n",
      "  File \"/usr/lib/python2.7/multiprocessing/queues.py\", line 378, in get\n",
      "  File \"/usr/lib/python2.7/multiprocessing/queues.py\", line 378, in get\n",
      "  File \"/usr/lib/python2.7/multiprocessing/queues.py\", line 378, in get\n",
      "  File \"/usr/lib/python2.7/multiprocessing/queues.py\", line 378, in get\n",
      "  File \"/usr/lib/python2.7/multiprocessing/queues.py\", line 378, in get\n",
      "  File \"/usr/lib/python2.7/multiprocessing/queues.py\", line 378, in get\n",
      "    rrelease()\n",
      "  File \"/usr/lib/python2.7/multiprocessing/queues.py\", line 378, in get\n",
      "    rrelease()\n",
      "  File \"/usr/lib/python2.7/multiprocessing/queues.py\", line 378, in get\n",
      "    rrelease()\n",
      "  File \"/usr/lib/python2.7/multiprocessing/queues.py\", line 378, in get\n",
      "  File \"/usr/lib/python2.7/multiprocessing/queues.py\", line 378, in get\n",
      "  File \"/usr/lib/python2.7/multiprocessing/queues.py\", line 378, in get\n",
      "    rrelease()\n",
      "  File \"/usr/lib/python2.7/multiprocessing/queues.py\", line 378, in get\n",
      "    rrelease()\n",
      "    rrelease()\n",
      "    rrelease()\n",
      "  File \"/usr/lib/python2.7/multiprocessing/queues.py\", line 378, in get\n",
      "  File \"/usr/lib/python2.7/multiprocessing/queues.py\", line 378, in get\n",
      "    rrelease()\n",
      "    rrelease()\n",
      "  File \"/usr/lib/python2.7/multiprocessing/queues.py\", line 378, in get\n",
      "    rrelease()\n",
      "    rrelease()\n",
      "  File \"/usr/lib/python2.7/multiprocessing/queues.py\", line 378, in get\n",
      "    rrelease()\n",
      "    rrelease()\n",
      "    rrelease()\n",
      "    rrelease()\n",
      "    rrelease()\n",
      "    rrelease()\n",
      "    rrelease()\n",
      "    rrelease()\n",
      "ValueError: semaphore or lock released too many times\n",
      "    rrelease()\n",
      "    rrelease()\n",
      "    rrelease()\n",
      "    rrelease()\n",
      "    rrelease()\n",
      "    rrelease()\n",
      "ValueError: semaphore or lock released too many times\n",
      "    rrelease()\n",
      "ValueError: semaphore or lock released too many times\n",
      "    rrelease()\n",
      "ValueError: semaphore or lock released too many times\n",
      "    rrelease()\n",
      "    rrelease()\n",
      "ValueError: semaphore or lock released too many times\n",
      "    rrelease()\n",
      "    rrelease()\n",
      "ValueError: semaphore or lock released too many times\n",
      "ValueError: semaphore or lock released too many times\n",
      "ValueError: semaphore or lock released too many times\n",
      "    rrelease()\n",
      "ValueError: semaphore or lock released too many times\n",
      "    rrelease()\n",
      "ValueError: semaphore or lock released too many times\n",
      "    rrelease()\n",
      "ValueError: semaphore or lock released too many times\n",
      "ValueError: semaphore or lock released too many times\n",
      "ValueError: semaphore or lock released too many times\n",
      "ValueError: semaphore or lock released too many times\n",
      "    rrelease()\n",
      "ValueError: semaphore or lock released too many times\n"
     ]
    },
    {
     "name": "stderr",
     "output_type": "stream",
     "text": [
      "ValueError: semaphore or lock released too many times\n",
      "ValueError: semaphore or lock released too many times\n",
      "ValueError: semaphore or lock released too many times\n",
      "ValueError: semaphore or lock released too many times\n",
      "ValueError: semaphore or lock released too many times\n"
     ]
    },
    {
     "name": "stdout",
     "output_type": "stream",
     "text": [
      "signal: 2"
     ]
    },
    {
     "name": "stderr",
     "output_type": "stream",
     "text": [
      "ValueError: semaphore or lock released too many times\n",
      "ValueError: semaphore or lock released too many times\n",
      "ValueError: semaphore or lock released too many times\n",
      "ValueError: semaphore or lock released too many times\n",
      "ValueError: semaphore or lock released too many times\n"
     ]
    },
    {
     "name": "stdout",
     "output_type": "stream",
     "text": [
      "signal: 2"
     ]
    },
    {
     "name": "stderr",
     "output_type": "stream",
     "text": [
      "ValueError: semaphore or lock released too many times\n"
     ]
    },
    {
     "name": "stdout",
     "output_type": "stream",
     "text": [
      "signal: 2"
     ]
    },
    {
     "name": "stderr",
     "output_type": "stream",
     "text": [
      "ValueError: semaphore or lock released too many times\n",
      "ValueError: semaphore or lock released too many times\n"
     ]
    },
    {
     "name": "stdout",
     "output_type": "stream",
     "text": [
      "signal: 2"
     ]
    },
    {
     "name": "stderr",
     "output_type": "stream",
     "text": [
      "ValueError: semaphore or lock released too many times\n",
      "ValueError: semaphore or lock released too many times\n"
     ]
    },
    {
     "name": "stdout",
     "output_type": "stream",
     "text": [
      "signal: 2"
     ]
    },
    {
     "name": "stderr",
     "output_type": "stream",
     "text": [
      "ValueError: semaphore or lock released too many times\n",
      "ValueError: semaphore or lock released too many times\n"
     ]
    },
    {
     "name": "stdout",
     "output_type": "stream",
     "text": [
      "signal: 2signal: 2signal: 2"
     ]
    },
    {
     "name": "stderr",
     "output_type": "stream",
     "text": [
      "ValueError: semaphore or lock released too many times\n"
     ]
    },
    {
     "name": "stdout",
     "output_type": "stream",
     "text": [
      "signal: 2"
     ]
    },
    {
     "name": "stderr",
     "output_type": "stream",
     "text": [
      "ValueError: semaphore or lock released too many times\n",
      "ValueError: semaphore or lock released too many times\n"
     ]
    },
    {
     "name": "stdout",
     "output_type": "stream",
     "text": [
      "signal: 2signal: 2signal: 2signal: 2"
     ]
    },
    {
     "name": "stderr",
     "output_type": "stream",
     "text": [
      "ValueError: semaphore or lock released too many times\n"
     ]
    },
    {
     "name": "stdout",
     "output_type": "stream",
     "text": [
      "signal: 2signal: 2signal: 2signal: 2signal: 2signal: 2signal: 2signal: 2signal: 2signal: 2signal: 2signal: 2signal: 2signal: 2signal: 2signal: 2signal: 2signal: 2signal: 2signal: 2signal: 2signal: 2signal: 2"
     ]
    }
   ],
   "source": [
    "p = open(fp_fifo_in,'w+')\n",
    "print 'fifo: ',p\n",
    "p.flush()\n",
    "p.write('quiet\\n')\n",
    "p.write('mol_abs_param fu\\n')\n",
    "p.write('rte_solver twostr\\n')\n",
    "p.write('output_process sum\\n')\n",
    "p.write('data_files_path /home/sam/libradtran/libRadtran-2.0.2b/data/ \\n')\n",
    "p.write('source solar /home/sam/libradtran/libRadtran-2.0.2b/data/solar_flux/kurudz_1.0nm.dat per_nm\\n')\n",
    "p.write('wavelength 350.000000 4000.000000\\n')\n",
    "p.write('zout 0 3 100\\n')\n",
    "p.write('latitude N 56.938700\\n')\n",
    "p.write('longitude W 111.866900\\n')\n",
    "p.write('time 2018 06 09 15 30 00\\n')\n",
    "p.write('aerosol_default\\n')\n",
    "p.write('aerosol_modify ssa scale 0.85\\n')\n",
    "p.write('disort_intcor moments\\n')\n",
    "p.write('albedo 0.33\\n')\n",
    "#p.close()\n",
    "process = sub.Popen([fp_uvspec],stdin=p,stdout=sub.PIPE,stderr=sub.PIPE)\n",
    "stdout,stderr = process.communicate()\n",
    "print 'STDOUT:{},{},{}'.format(stdout,stderr,process.poll())\n",
    "p.close()"
   ]
  },
  {
   "cell_type": "code",
   "execution_count": 216,
   "metadata": {
    "ExecuteTime": {
     "end_time": "2020-04-15T02:23:19.702982Z",
     "start_time": "2020-04-15T02:23:19.687998Z"
    }
   },
   "outputs": [],
   "source": [
    "def write_xtrf(fp_fifo_in):\n",
    "    if not os.path.exists(fp_fifo_in):\n",
    "        os.mkfifo(fp_fifo_in)\n",
    "    p = open(fp_fifo_in,'w')\n",
    "    p.flush()\n",
    "    g = ['# wvl[nm]    alb[unitless',\\\n",
    "'250.000000      -0.043171',\\\n",
    "'350.000000      -0.010611',\\\n",
    "'400.000000      0.005669',\\\n",
    "'500.000000      0.038229',\\\n",
    "'675.000000      0.058627',\\\n",
    "'870.000000      0.229436',\\\n",
    "'995.000000      0.234727',\\\n",
    "'1200.000000     0.240584',\\\n",
    "'1400.000000     0.246298',\\\n",
    "'1600.000000     0.252013',\\\n",
    "'2100.000000     0.266298',\\\n",
    "'3200.000000     0.297727',\\\n",
    "'4900.000000     0.346298']\n",
    "    for llj in g:\n",
    "        p.write('{}\\n'.format(llj))\n",
    "    #p.flush()\n",
    "    p.close()\n",
    "    os.unlink(fp_fifo_in)\n",
    "    #os.remove(fp_fifo_in)"
   ]
  },
  {
   "cell_type": "code",
   "execution_count": 209,
   "metadata": {
    "ExecuteTime": {
     "end_time": "2020-04-15T02:15:28.906620Z",
     "start_time": "2020-04-15T02:15:24.563576Z"
    }
   },
   "outputs": [
    {
     "ename": "OSError",
     "evalue": "[Errno 2] No such file or directory: '/tmp/uvspec_input.fifo'",
     "output_type": "error",
     "traceback": [
      "\u001b[0;31m\u001b[0m",
      "\u001b[0;31mOSError\u001b[0mTraceback (most recent call last)",
      "\u001b[0;32m<ipython-input-209-b7afc16da463>\u001b[0m in \u001b[0;36m<module>\u001b[0;34m()\u001b[0m\n\u001b[0;32m----> 1\u001b[0;31m \u001b[0mwrite_xtrf\u001b[0m\u001b[0;34m(\u001b[0m\u001b[0mfp_fifo_in\u001b[0m\u001b[0;34m)\u001b[0m\u001b[0;34m\u001b[0m\u001b[0m\n\u001b[0m",
      "\u001b[0;32m<ipython-input-208-1427f0756d51>\u001b[0m in \u001b[0;36mwrite_xtrf\u001b[0;34m(fp_fifo_in)\u001b[0m\n\u001b[1;32m     11\u001b[0m     \u001b[0mp\u001b[0m\u001b[0;34m.\u001b[0m\u001b[0mclose\u001b[0m\u001b[0;34m(\u001b[0m\u001b[0;34m)\u001b[0m\u001b[0;34m\u001b[0m\u001b[0m\n\u001b[1;32m     12\u001b[0m     \u001b[0mos\u001b[0m\u001b[0;34m.\u001b[0m\u001b[0munlink\u001b[0m\u001b[0;34m(\u001b[0m\u001b[0mfp_fifo_in\u001b[0m\u001b[0;34m)\u001b[0m\u001b[0;34m\u001b[0m\u001b[0m\n\u001b[0;32m---> 13\u001b[0;31m     \u001b[0mos\u001b[0m\u001b[0;34m.\u001b[0m\u001b[0mremove\u001b[0m\u001b[0;34m(\u001b[0m\u001b[0mfp_fifo_in\u001b[0m\u001b[0;34m)\u001b[0m\u001b[0;34m\u001b[0m\u001b[0m\n\u001b[0m",
      "\u001b[0;31mOSError\u001b[0m: [Errno 2] No such file or directory: '/tmp/uvspec_input.fifo'"
     ]
    }
   ],
   "source": [
    "write_xtrf(fp_fifo_in)"
   ]
  },
  {
   "cell_type": "code",
   "execution_count": 218,
   "metadata": {
    "ExecuteTime": {
     "end_time": "2020-04-15T04:47:11.170481Z",
     "start_time": "2020-04-15T04:47:11.062280Z"
    },
    "scrolled": true
   },
   "outputs": [
    {
     "name": "stdout",
     "output_type": "stream",
     "text": [
      "STDOUT:, ... choosing atmosphere file midlatitude_summer\n",
      " ... calling uvspec_check(), checking model input data\n",
      " ... calling setup_wlgrid(), generating transmittance wavelength grid\n",
      "     user wavelength range: 350.000000 - 4000.000000 nm\n",
      "     selected wavelength indices 0 - 6\n",
      "     wavelength bands boundaries: 550.000000 - 4900.000000 nm\n",
      " ... calling setup_rte_wlgrid(), generating radiative transfer wavelength grid\n",
      " ... calling setup_sza(), generating model solar zenith and azimuth\n",
      " ... calculating sza with time, latitude and longitude \n",
      "     using Blanco-Muriel et al. (2001) to calculate solar zenith and azimuth\n",
      "     Latitude:               56.94 degree\n",
      "     Longitude:            -111.87 degree\n",
      "     Standard Longitude:      0.00 degree\n",
      "     Time Zone:            UTC+0.0 hours\n",
      "     Standard Time:        Sun Jun  9 15:30:00 2018\n",
      "     Local Apparent Time:             08:03:44\n",
      "     Solar Zenith  Angle:    54.251 degree\n",
      "     Solar Azimuth Angle:   282.995 degree\n",
      "     solar zenith angle from lat/lon/time, sza =  54.251 \n",
      " ... calling setup_ipa(), generating independent pixels\n",
      " ... setup 3D molecular atmosphere\n",
      " ... calling setup_altitude(), determine surface elevation \n",
      " ... reading atmosphere data file /home/sam/libradtran/libRadtran-2.0.2b/data/atmmod/afglms.dat\n",
      " ... converting p and T to a z-grid\n",
      "     assuming: R =   286.933525, g(z=0km) =     9.799999\n",
      " ... calling setup_all_caoth(), generating all clouds etc.\n",
      "     total cloud cover = 1.000000\n",
      " ... calling setup_atmosphere(), generating model atmosphere\n",
      " ... Interpolation methods\n",
      "     z_interpolate pressure          logarithmic         interpolation\n",
      "     z_interpolate temperature       linear              interpolation\n",
      "     z_interpolate refraction index  linear              interpolation\n",
      "     z_interpolate Air  density      logarithmic         interpolation\n",
      "     z_interpolate O3   density      linear mixing ratio interpolation\n",
      "     z_interpolate O2   density      linear mixing ratio interpolation\n",
      "     z_interpolate H2O  density      linear mixing ratio interpolation\n",
      "     z_interpolate CO2  density      linear mixing ratio interpolation\n",
      "     z_interpolate NO2  density      linear mixing ratio interpolation\n",
      "     z_interpolate BRO  density      linear mixing ratio interpolation\n",
      "     z_interpolate OCLO density      linear mixing ratio interpolation\n",
      "     z_interpolate HCHO density      linear mixing ratio interpolation\n",
      "     z_interpolate O4   density      linear mixing ratio interpolation\n",
      "     z_interpolate SO2  density      linear mixing ratio interpolation\n",
      "     z_interpolate CH4  density      linear mixing ratio interpolation\n",
      "     z_interpolate N2O  density      linear mixing ratio interpolation\n",
      "     z_interpolate CO   density      linear mixing ratio interpolation\n",
      "     z_interpolate N2   density      linear mixing ratio interpolation\n",
      " ... setup_zout_levels\n",
      "     only following output levels are considered:\n",
      "  lc    zout[km]\n",
      "----------------\n",
      "   0    0.00000\n",
      "   1    3.00000\n",
      "   2  100.00000\n",
      "*** Scaling profiles\n",
      " ----------------------------------------------------------------------------------------------------------------------------------------\n",
      "  lc |  z[km]  |  Pressure  | Temp.  |    Air      |   Ozone     |     O2      | Water vap.  |    CO2      |    NO2      |      O4      |\n",
      "     |         |   [hPa]    |  [K]   |   [cm-3]    |   [cm-3]    |   [cm-3]    |   [cm-3]    |   [cm-3]    |   [cm-3]    | [1.0e+46cm-6]|\n",
      " ----------------------------------------------------------------------------------------------------------------------------------------\n",
      "    0  120.0000     0.00002   380.00   4.32667e+11   2.16500e+02   3.13925e+10   8.66000e+04   1.51550e+07   6.53830e+01   9.85489e-26\n",
      "    1  115.0000     0.00004   316.80   8.13911e+11   4.07250e+03   7.65630e+10   1.95480e+05   3.25800e+07   1.26247e+02   5.86190e-25\n",
      "    2  110.0000     0.00006   262.40   1.68651e+12   8.44000e+04   2.02560e+11   4.72640e+05   1.01280e+08   2.68392e+02   4.10306e-24\n",
      "    3  105.0000     0.00012   222.20   3.81376e+12   7.63200e+05   5.34240e+11   1.29744e+06   4.19760e+08   6.25824e+02   2.85412e-23\n",
      "    4  100.0000     0.00026   190.50   9.80927e+12   3.92640e+06   1.57056e+12   3.92640e+06   1.91412e+09   1.66872e+03   2.46666e-22\n",
      "    5   95.0000     0.00062   178.30   2.53887e+13   1.77870e+07   4.57380e+12   1.37214e+07   6.86070e+09   4.47216e+03   2.09196e-21\n",
      "    6   90.0000     0.00164   165.00   7.19899e+13   5.40300e+07   1.36876e+13   6.12340e+07   2.23324e+10   1.31833e+04   1.87350e-20\n",
      "    7   85.0000     0.00448   165.10   1.96536e+14   1.12119e+08   3.93400e+13   2.61611e+08   6.29440e+10   3.77664e+04   1.54764e-19\n",
      "    8   80.0000     0.01200   174.10   4.99223e+14   9.99200e+07   1.04416e+14   1.04916e+09   1.63869e+11   1.00919e+05   1.09028e-18\n",
      "    9   75.0000     0.03000   196.10   1.10804e+15   2.10710e+08   2.31781e+14   3.27155e+09   3.65970e+11   2.38435e+05   5.37224e-18\n",
      "   10   70.0000     0.06700   218.10   2.22500e+15   8.90800e+08   4.65443e+14   8.23990e+09   7.34910e+11   5.14437e+05   2.16637e-17\n",
      "   11   65.0000     0.13900   240.10   4.19309e+15   3.35680e+09   8.76964e+14   1.84624e+10   1.38468e+12   1.06159e+06   7.69066e-17\n",
      "   12   60.0000     0.27200   257.10   7.66264e+15   9.96840e+09   1.60261e+15   3.83400e+10   2.53044e+12   2.18538e+06   2.56837e-16\n",
      "   13   55.0000     0.51500   269.30   1.38511e+16   2.49480e+10   2.89674e+15   7.41510e+10   4.57380e+12   4.69854e+06   8.39110e-16\n",
      "   14   50.0000     0.95100   275.70   2.49836e+16   7.00000e+10   5.22500e+15   1.37500e+11   8.25000e+12   1.10750e+07   2.73006e-15\n",
      "   15   47.5000     1.29000   275.20   3.39510e+16   1.18930e+11   7.10182e+15   1.86890e+11   1.12134e+13   2.26307e+07   5.04359e-15\n",
      "   16   45.0000     1.76000   269.90   4.72304e+16   2.12670e+11   9.87734e+15   2.57567e+11   1.55958e+13   5.43490e+07   9.75618e-15\n",
      "   17   42.5000     2.41000   263.70   6.61940e+16   3.90816e+11   1.38442e+16   3.51072e+11   2.18592e+13   1.43741e+08   1.91661e-14\n",
      "   18   40.0000     3.33000   257.50   9.36653e+16   7.07662e+11   1.95896e+16   4.78023e+11   3.09309e+13   3.77732e+08   3.83751e-14\n",
      "   19   37.5000     4.64000   251.30   1.33733e+17   1.16406e+12   2.79642e+16   6.69000e+11   4.41540e+13   8.37588e+08   7.81996e-14\n",
      "   20   35.0000     6.52000   245.20   1.92592e+17   1.71503e+12   4.02743e+16   9.53865e+11   6.35910e+13   1.40286e+09   1.62202e-13\n",
      "   21   32.5000     9.30000   239.00   2.81836e+17   2.28420e+12   5.89380e+16   1.36770e+12   9.30600e+13   2.03322e+09   3.47369e-13\n",
      "   22   30.0000    13.20000   233.70   4.09098e+17   2.86580e+12   8.55646e+16   1.92418e+12   1.35102e+14   2.52190e+09   7.32130e-13\n",
      "   23   27.5000    19.07000   228.45   6.04604e+17   3.63000e+12   1.26445e+17   2.69225e+12   1.99650e+14   2.91005e+09   1.59883e-12\n",
      "   24   25.0000    27.70000   225.10   8.91284e+17   4.28112e+12   1.86407e+17   3.74598e+12   2.94327e+14   3.33571e+09   3.47476e-12\n",
      "   25   24.0000    32.20000   223.90   1.04163e+18   4.16800e+12   2.17778e+17   4.16800e+12   3.43860e+14   3.18852e+09   4.74273e-12\n",
      "   26   23.0000    37.60000   222.80   1.22232e+18   4.15820e+12   2.55607e+17   4.70855e+12   4.03590e+14   3.15534e+09   6.53349e-12\n",
      "   27   22.0000    43.70000   221.60   1.42831e+18   4.14410e+12   2.98661e+17   5.14440e+12   4.71570e+14   3.08664e+09   8.91984e-12\n",
      "   28   21.0000    51.00000   220.40   1.67599e+18   4.02480e+12   3.50493e+17   5.78565e+12   5.53410e+14   2.95152e+09   1.22845e-11\n",
      "   29   20.0000    59.50000   219.20   1.96602e+18   3.93400e+12   4.11103e+17   6.49110e+12   6.49110e+14   2.73413e+09   1.69006e-11\n",
      "   30   19.0000    69.50000   217.90   2.31015e+18   3.46800e+12   4.83208e+17   7.39840e+12   7.62960e+14   2.45072e+09   2.33490e-11\n",
      "   31   18.0000    81.20000   216.80   2.71274e+18   2.71500e+12   5.67435e+17   8.55225e+12   8.95950e+14   2.09327e+09   3.21982e-11\n",
      "   32   17.0000    95.00000   215.70   3.18996e+18   2.23440e+12   6.67128e+17   1.02144e+13   1.05336e+15   1.65665e+09   4.45060e-11\n",
      "   33   16.0000   111.00000   215.70   3.72722e+18   2.23800e+12   7.79570e+17   1.23090e+13   1.23090e+15   1.18987e+09   6.07729e-11\n",
      "   34   15.0000   130.00000   215.70   4.36521e+18   2.18400e+12   9.12912e+17   1.48512e+13   1.44144e+15   7.46928e+08   8.33408e-11\n",
      "   35   14.0000   153.00000   215.70   5.13751e+18   2.26204e+12   1.07447e+18   2.57050e+13   1.69653e+15   3.84547e+08   1.15448e-10\n",
      "   36   13.0000   179.00000   215.80   6.00777e+18   1.80360e+12   1.25651e+18   4.80960e+13   1.98396e+15   2.67534e+08   1.57881e-10\n",
      "   37   12.0000   209.00000   222.30   6.80955e+18   1.51952e+12   1.42413e+18   2.00604e+14   2.24862e+15   2.14641e+08   2.02813e-10\n",
      "   38   11.0000   243.00000   228.80   7.69240e+18   1.38025e+12   1.60888e+18   7.35621e+14   2.54034e+15   2.01688e+08   2.58850e-10\n",
      "   39   10.0000   281.00000   235.30   8.64960e+18   1.12874e+12   1.80910e+18   2.13976e+15   2.85648e+15   2.06013e+08   3.27286e-10\n",
      "   40    9.0000   324.00000   241.70   9.70913e+18   1.07945e+12   2.03064e+18   4.01174e+15   3.20628e+15   2.25411e+08   4.12352e-10\n",
      "   41    8.0000   372.00000   248.20   1.08556e+19   9.91084e+11   2.26974e+18   7.01990e+15   3.58380e+15   2.49780e+08   5.15172e-10\n",
      "   42    7.0000   426.00000   254.70   1.21141e+19   9.40997e+11   2.53308e+18   1.23624e+16   3.99960e+15   2.78760e+08   6.41649e-10\n",
      "   43    6.0000   487.00000   261.20   1.35042e+19   8.65721e+11   2.82359e+18   2.04001e+16   4.45830e+15   3.10730e+08   7.97266e-10\n",
      "   44    5.0000   554.00000   267.20   1.50171e+19   8.28454e+11   3.14127e+18   3.34417e+16   4.95990e+15   3.45690e+08   9.86758e-10\n",
      "   45    4.0000   628.00000   273.20   1.66491e+19   8.03179e+11   3.48194e+18   6.35246e+16   5.49780e+15   3.83180e+08   1.21239e-09\n",
      "   46    3.0000   710.00000   279.20   1.84185e+19   7.78115e+11   3.85187e+18   1.10285e+17   6.08190e+15   4.23890e+08   1.48369e-09\n",
      "   47    2.0000   802.00000   285.20   2.03675e+19   7.52837e+11   4.25942e+18   1.97278e+17   6.72540e+15   4.68740e+08   1.81427e-09\n",
      "   48    1.0000   902.00000   289.70   2.25512e+19   7.53161e+11   4.71713e+18   3.11015e+17   7.44810e+15   5.19110e+08   2.22513e-09\n",
      "   49    0.0000  1013.00000   294.20   2.49390e+19   7.53043e+11   5.21664e+18   4.68250e+17   8.23680e+15   5.74080e+08   2.72133e-09\n",
      " ---------------------------------------------------------------------------------------------------------------------------------------\n",
      "  sum |   -nan |       -nan |   -nan | 2.2e+25cm-2 |  335.559 DU | 4.5e+24cm-2 | 29.598 kg/m2 | 7.1e+21cm-2 | 0.22210 DU  | 1.3e+43cm-5|\n",
      " ---------------------------------------------------------------------------------------------------------------------------------------\n",
      " ... calculate output properties on zout levels\n",
      " ... check ideal gas law for pressure, temperature and number density\n",
      " ... calling setup_temperature(), generating model temperature profile\n",
      " ... calling setup_crs(), reading cross section files\n",
      " ... calling setup_rayleigh(), calculating Rayleigh scattering\n",
      "     using Bodhaine et al. Rayleigh scattering cross section\n",
      " ... calling setup_raman(), calculating Raman scattering\n",
      " ... calling setup_gases(), generating optical properties of trace gases\n",
      " ... calling setup_aerosols(), generating aerosols\n",
      " ... calling setup_caoth3D(), generating 3D clouds etc.\n",
      " ... calling setup_redistribute(), redistributing vertical profiles\n",
      " *** setup_redistribute()\n",
      " ...  redistributing molecular optical properties\n",
      " ...  redistributing molecular cross sections\n",
      " ...  redistributing aerosol optical properties\n",
      " ...  interpolating atmospheric profiles: p, T, densities \n",
      " ...  interpolating index of refraction\n",
      " ...  redistributing airmass stuff\n",
      " ... setup surface temperature\n",
      " ... setting surface temperature to 294.200012 K\n",
      "\n",
      "*** wavelength: iv = 0, 550.000000 nm\n",
      "*** setup_redistribute()\n",
      " --------------------------------------------------------------------------------------------------------------------------------------------------------\n",
      "   lc |      z[km] |\n",
      "      |            |           o3             o2            co2            no2            bro           oclo           hcho        wc.dtau        ic.dtau\n",
      " --------------------------------------------------------------------------------------------------------------------------------------------------------\n",
      " ---------------------------------------------------------------------------------------------------------------------------\n",
      "AMFsum        -nan | 0.000000e+00 | 0.000000e+00 | 0.000000e+00 | 0.000000e+00 | 0.000000e+00 | 0.000000e+00 | 0.000000e+00\n",
      " ---------------------------------------------------------------------------------------------------------------------------\n",
      "AMF column    -nan | 9.020787e+18 | 4.518498e+24 | 7.134470e+21 | 5.970382e+15 | 0.000000e+00 | 0.000000e+00 | 0.000000e+00\n",
      " ---------------------------------------------------------------------------------------------------------------------------\n",
      "AMF BOA crs   -nan | 0.000000e+00 | 0.000000e+00 | 0.000000e+00 | 0.000000e+00 | 0.000000e+00 | 0.000000e+00 | 0.000000e+00\n",
      " ---------------------------------------------------------------------------------------------------------------------------\n",
      "\n",
      "*** wavelength: iv = 1, 1000.000000 nm\n",
      "*** setup_redistribute()\n",
      " --------------------------------------------------------------------------------------------------------------------------------------------------------\n",
      "   lc |      z[km] |\n",
      "      |            |           o3             o2            co2            no2            bro           oclo           hcho        wc.dtau        ic.dtau\n",
      " --------------------------------------------------------------------------------------------------------------------------------------------------------\n",
      " ---------------------------------------------------------------------------------------------------------------------------\n",
      "AMFsum        -nan | 0.000000e+00 | 0.000000e+00 | 0.000000e+00 | 0.000000e+00 | 0.000000e+00 | 0.000000e+00 | 0.000000e+00\n",
      " ---------------------------------------------------------------------------------------------------------------------------\n",
      "AMF column    -nan | 9.020787e+18 | 4.518498e+24 | 7.134470e+21 | 5.970382e+15 | 0.000000e+00 | 0.000000e+00 | 0.000000e+00\n",
      " ---------------------------------------------------------------------------------------------------------------------------\n",
      "AMF BOA crs   -nan | 0.000000e+00 | 0.000000e+00 | 0.000000e+00 | 0.000000e+00 | 0.000000e+00 | 0.000000e+00 | 0.000000e+00\n",
      " ---------------------------------------------------------------------------------------------------------------------------\n",
      "\n",
      "*** wavelength: iv = 2, 1600.000000 nm\n",
      "*** setup_redistribute()\n",
      " --------------------------------------------------------------------------------------------------------------------------------------------------------\n",
      "   lc |      z[km] |\n",
      "      |            |           o3             o2            co2            no2            bro           oclo           hcho        wc.dtau        ic.dtau\n",
      " --------------------------------------------------------------------------------------------------------------------------------------------------------\n",
      " ---------------------------------------------------------------------------------------------------------------------------\n",
      "AMFsum        -nan | 0.000000e+00 | 0.000000e+00 | 0.000000e+00 | 0.000000e+00 | 0.000000e+00 | 0.000000e+00 | 0.000000e+00\n",
      " ---------------------------------------------------------------------------------------------------------------------------\n",
      "AMF column    -nan | 9.020787e+18 | 4.518498e+24 | 7.134470e+21 | 5.970382e+15 | 0.000000e+00 | 0.000000e+00 | 0.000000e+00\n",
      " ---------------------------------------------------------------------------------------------------------------------------\n",
      "AMF BOA crs   -nan | 0.000000e+00 | 0.000000e+00 | 0.000000e+00 | 0.000000e+00 | 0.000000e+00 | 0.000000e+00 | 0.000000e+00\n",
      " ---------------------------------------------------------------------------------------------------------------------------\n",
      "\n",
      "*** wavelength: iv = 3, 2200.000000 nm\n",
      "*** setup_redistribute()\n",
      " --------------------------------------------------------------------------------------------------------------------------------------------------------\n",
      "   lc |      z[km] |\n",
      "      |            |           o3             o2            co2            no2            bro           oclo           hcho        wc.dtau        ic.dtau\n",
      " --------------------------------------------------------------------------------------------------------------------------------------------------------\n",
      " ---------------------------------------------------------------------------------------------------------------------------\n",
      "AMFsum        -nan | 0.000000e+00 | 0.000000e+00 | 0.000000e+00 | 0.000000e+00 | 0.000000e+00 | 0.000000e+00 | 0.000000e+00\n",
      " ---------------------------------------------------------------------------------------------------------------------------\n",
      "AMF column    -nan | 9.020787e+18 | 4.518498e+24 | 7.134470e+21 | 5.970382e+15 | 0.000000e+00 | 0.000000e+00 | 0.000000e+00\n",
      " ---------------------------------------------------------------------------------------------------------------------------\n",
      "AMF BOA crs   -nan | 0.000000e+00 | 0.000000e+00 | 0.000000e+00 | 0.000000e+00 | 0.000000e+00 | 0.000000e+00 | 0.000000e+00\n",
      " ---------------------------------------------------------------------------------------------------------------------------\n",
      "\n",
      "*** wavelength: iv = 4, 3000.000000 nm\n",
      "*** setup_redistribute()\n",
      " --------------------------------------------------------------------------------------------------------------------------------------------------------\n",
      "   lc |      z[km] |\n",
      "      |            |           o3             o2            co2            no2            bro           oclo           hcho        wc.dtau        ic.dtau\n",
      " --------------------------------------------------------------------------------------------------------------------------------------------------------\n",
      " ---------------------------------------------------------------------------------------------------------------------------\n",
      "AMFsum        -nan | 0.000000e+00 | 0.000000e+00 | 0.000000e+00 | 0.000000e+00 | 0.000000e+00 | 0.000000e+00 | 0.000000e+00\n",
      " ---------------------------------------------------------------------------------------------------------------------------\n",
      "AMF column    -nan | 9.020787e+18 | 4.518498e+24 | 7.134470e+21 | 5.970382e+15 | 0.000000e+00 | 0.000000e+00 | 0.000000e+00\n",
      " ---------------------------------------------------------------------------------------------------------------------------\n",
      "AMF BOA crs   -nan | 0.000000e+00 | 0.000000e+00 | 0.000000e+00 | 0.000000e+00 | 0.000000e+00 | 0.000000e+00 | 0.000000e+00\n",
      " ---------------------------------------------------------------------------------------------------------------------------\n",
      "\n",
      "*** wavelength: iv = 5, 3700.000000 nm\n",
      "*** setup_redistribute()\n",
      " --------------------------------------------------------------------------------------------------------------------------------------------------------\n",
      "   lc |      z[km] |\n",
      "      |            |           o3             o2            co2            no2            bro           oclo           hcho        wc.dtau        ic.dtau\n",
      " --------------------------------------------------------------------------------------------------------------------------------------------------------\n",
      " ---------------------------------------------------------------------------------------------------------------------------\n",
      "AMFsum        -nan | 0.000000e+00 | 0.000000e+00 | 0.000000e+00 | 0.000000e+00 | 0.000000e+00 | 0.000000e+00 | 0.000000e+00\n",
      " ---------------------------------------------------------------------------------------------------------------------------\n",
      "AMF column    -nan | 9.020787e+18 | 4.518498e+24 | 7.134470e+21 | 5.970382e+15 | 0.000000e+00 | 0.000000e+00 | 0.000000e+00\n",
      " ---------------------------------------------------------------------------------------------------------------------------\n",
      "AMF BOA crs   -nan | 0.000000e+00 | 0.000000e+00 | 0.000000e+00 | 0.000000e+00 | 0.000000e+00 | 0.000000e+00 | 0.000000e+00\n",
      " ---------------------------------------------------------------------------------------------------------------------------\n",
      "\n",
      "*** wavelength: iv = 6, 4900.000000 nm\n",
      "*** setup_redistribute()\n",
      " --------------------------------------------------------------------------------------------------------------------------------------------------------\n",
      "   lc |      z[km] |\n",
      "      |            |           o3             o2            co2            no2            bro           oclo           hcho        wc.dtau        ic.dtau\n",
      " --------------------------------------------------------------------------------------------------------------------------------------------------------\n",
      " ---------------------------------------------------------------------------------------------------------------------------\n",
      "AMFsum        -nan | 0.000000e+00 | 0.000000e+00 | 0.000000e+00 | 0.000000e+00 | 0.000000e+00 | 0.000000e+00 | 0.000000e+00\n",
      " ---------------------------------------------------------------------------------------------------------------------------\n",
      "AMF column    -nan | 9.020787e+18 | 4.518498e+24 | 7.134470e+21 | 5.970382e+15 | 0.000000e+00 | 0.000000e+00 | 0.000000e+00\n",
      " ---------------------------------------------------------------------------------------------------------------------------\n",
      "AMF BOA crs   -nan | 0.000000e+00 | 0.000000e+00 | 0.000000e+00 | 0.000000e+00 | 0.000000e+00 | 0.000000e+00 | 0.000000e+00\n",
      " ---------------------------------------------------------------------------------------------------------------------------\n",
      " ... calling setup_atmosphere3D(), generating 3D atmosphere\n",
      " ... setup_optprop_molecular3D(), generating 3D gas absorption and Rayleigh scattering coefficients, include in caoth3d\n",
      " ... calling setup_extraterrestrial(), reading extraterrestrial spectrum\n",
      " ... replaced extraterrestrial flux by /home/sam/libradtran/libRadtran-2.0.2b/data/solar_flux/fu\n",
      " ... calling setup_albedo(), generating surface albedo\n",
      "Error -1 reading /tmp/uvspec_input.fifo\n",
      "Error reading albedo file '/tmp/uvspec_input.fifo' \n",
      "      (line 306, function setup_albedo in albedo.c)\n",
      "Error -1 setting up wavelength dependent albedo in uvspec (uvspec.c)\n",
      "Error -1 during execution of uvspec\n",
      ",255\n"
     ]
    }
   ],
   "source": [
    "r, w = os.pipe()\n",
    "os.write(w,'verbose\\n')\n",
    "os.write(w,'mol_abs_param fu\\n')\n",
    "os.write(w,'rte_solver twostr\\n')\n",
    "os.write(w,'output_process sum\\n')\n",
    "os.write(w,'data_files_path /home/sam/libradtran/libRadtran-2.0.2b/data/ \\n')\n",
    "os.write(w,'source solar /home/sam/libradtran/libRadtran-2.0.2b/data/solar_flux/kurudz_1.0nm.dat per_nm\\n')\n",
    "os.write(w,'wavelength 350.000000 4000.000000\\n')\n",
    "os.write(w,'zout 0 3 100\\n')\n",
    "os.write(w,'latitude N 56.938700\\n')\n",
    "os.write(w,'longitude W 111.866900\\n')\n",
    "os.write(w,'time 2018 06 09 15 30 00\\n')\n",
    "os.write(w,'aerosol_default\\n')\n",
    "os.write(w,'aerosol_modify ssa scale 0.85\\n')\n",
    "os.write(w,'disort_intcor moments\\n')\n",
    "os.write(w,'albedo 0.33\\n')\n",
    "os.write(w,'albedo_file {}'.format(fp_fifo_in))\n",
    "os.close(w)\n",
    "#p.close()\n",
    "\n",
    "p1 = Process(target=write_xtrf,args=(fp_fifo_in,))\n",
    "p1.start()\n",
    "\n",
    "process = sub.Popen([fp_uvspec],stdin=r,stdout=sub.PIPE,stderr=sub.PIPE)\n",
    "stdout,stderr = process.communicate()\n",
    "print 'STDOUT:{},{},{}'.format(stdout,stderr,process.poll())\n",
    "#p.close()"
   ]
  },
  {
   "cell_type": "markdown",
   "metadata": {},
   "source": [
    "### Run only the CRE portion in multiprocessing"
   ]
  },
  {
   "cell_type": "code",
   "execution_count": 59,
   "metadata": {
    "ExecuteTime": {
     "end_time": "2020-01-09T19:07:26.227904Z",
     "start_time": "2020-01-09T19:07:26.220706Z"
    }
   },
   "outputs": [],
   "source": [
    "def worker_init(verbose=True):\n",
    "    # ignore the SIGINI in sub process, just print a log\n",
    "    def sig_int(signal_num, frame):\n",
    "        if verbose: \n",
    "            print 'signal: %s' % signal_num\n",
    "        raise IOError\n",
    "    signal.signal(signal.SIGINT, sig_int)"
   ]
  },
  {
   "cell_type": "code",
   "execution_count": 60,
   "metadata": {
    "ExecuteTime": {
     "end_time": "2020-01-09T19:07:44.505594Z",
     "start_time": "2020-01-09T19:07:44.498570Z"
    }
   },
   "outputs": [],
   "source": [
    "# open the list file\n",
    "f = open(fp_rtm+'{}_DARE_CRE_{}.sh'.format(name,vv),'w')\n",
    "fpp_in = fp_rtm+'input/{}_DARE_CRE_{}/'.format(name,vv)\n",
    "fpp_out = fp_rtm+'output/{}_DARE_CRE_{}/'.format(name,vv)"
   ]
  },
  {
   "cell_type": "code",
   "execution_count": 61,
   "metadata": {
    "ExecuteTime": {
     "end_time": "2020-01-09T19:07:54.901155Z",
     "start_time": "2020-01-09T19:07:54.893386Z"
    }
   },
   "outputs": [],
   "source": [
    "if not os.path.isdir(fpp_in):\n",
    "    os.mkdir(fpp_in)\n",
    "if not os.path.isdir(fpp_out):\n",
    "     os.mkdir(fpp_out)"
   ]
  },
  {
   "cell_type": "code",
   "execution_count": 63,
   "metadata": {
    "ExecuteTime": {
     "end_time": "2020-01-09T19:11:13.630734Z",
     "start_time": "2020-01-09T19:10:18.628063Z"
    }
   },
   "outputs": [
    {
     "data": {
      "application/vnd.jupyter.widget-view+json": {
       "model_id": "f352de093ba14df1b27ff884c4cb5c1f",
       "version_major": 2,
       "version_minor": 0
      },
      "text/plain": [
       "HBox(children=(IntProgress(value=0, max=28619), HTML(value=u'')))"
      ]
     },
     "metadata": {},
     "output_type": "display_data"
    }
   ],
   "source": [
    "if isjupyter():\n",
    "    pbar = tqdm(total=len(ar['Start_UTC'][fla]))\n",
    "bb = []\n",
    "for i,u in enumerate(ar['Start_UTC'][fla]):\n",
    "    \n",
    "    f_in = '{name}_{vv}_DARE_CRE_{i:03d}_withaero_clear.dat'.format(name=name,vv=vv,i=i)\n",
    "\n",
    "    geo['lat'],geo['lon'],geo['sza'] = ar['Latitude'][fla][i],ar['Longitude'][fla][i],sza[fla][i]\n",
    "    day = days[ar['days'][fla][i].astype(int)]\n",
    "    geo['doy'] = datetime(int(day[0:4]),int(day[4:6]),int(day[6:])).timetuple().tm_yday\n",
    "\n",
    "    if ~np.isfinite(cod[flb][i]):\n",
    "        if isjupyter():\n",
    "            pbar.update(1)\n",
    "        continue\n",
    "    cloud['tau'],cloud['ref'] = 0.0,ref[flb][i]\n",
    "    cloud['write_moments_file'] = True\n",
    "\n",
    "    iae = np.argmin(abs(ar['time_ae'][fla][i]-ae['time']/3600.0))\n",
    "\n",
    "    # Only run for aerosol rertievals within 1 hour\n",
    "    if abs(ar['time_ae'][fla][i]-ae['time']/3600.0)[iae]<1.0: \n",
    "\n",
    "        aero['ext'] = fx_ext(ar['AOD_polycoef_a0'][fla][i],ar['AOD_polycoef_a1'][fla][i],ar['AOD_polycoef_a2'][fla][i])\n",
    "        aero['ssa'] = fx_aero(ae['SSA'][iae])\n",
    "        aero['asy'] = fx_aero(ae['g_total'][iae])\n",
    "\n",
    "        #Rl.write_input_aac(fpp_in+f_in,geo=geo,aero=aero,cloud=cloud,source=source,albedo=albedo,\n",
    "        #                           verbose=False,make_base=False,set_quiet=True)\n",
    "        f.write('{uv} < {fin} > {out}\\n'.format(uv=fp_uvspec,fin=fpp_in+f_in,out=fpp_out+f_in))\n",
    "\n",
    "     #   f_in_noa = '{name}_{vv}_star_{i:03d}_noaero.dat'.format(name=name,vv=vv,i=i)\n",
    "        #Rl.write_input_aac(fpp_in+f_in,geo=geo,aero=aero_no,cloud=cloud,source=source,albedo=albedo,\n",
    "        #                           verbose=False,make_base=False,set_quiet=True)\n",
    "     #   f.write('{uv} < {fin} > {out}\\n'.format(uv=fp_uvspec,fin=fpp_in+f_in_noa,out=fpp_out+f_in_noa))\n",
    "        \n",
    "        bb.append({'geo':deepcopy(geo),'cod':cod[flb][i],'ref':ref[flb][i],'aero':deepcopy(aero),\n",
    "                   'f_in':deepcopy(f_in)})\n",
    "\n",
    "    if isjupyter(): \n",
    "        pbar.update(1)\n",
    "    else:\n",
    "        print i\n",
    "\n",
    "f.close()"
   ]
  },
  {
   "cell_type": "code",
   "execution_count": 64,
   "metadata": {
    "ExecuteTime": {
     "end_time": "2020-01-09T19:11:24.214738Z",
     "start_time": "2020-01-09T19:11:24.206982Z"
    }
   },
   "outputs": [],
   "source": [
    "def write_files_cre(d,cloud=cloud,source=source,albedo=albedo,aero_no=aero_no):\n",
    "    'function to feed the pool of workers to write out the all the files'\n",
    "    cloud['tau'],cloud['ref'] = d['cod'],d['ref']\n",
    "    Rl.write_input_aac(fpp_in+d['f_in'],geo=d['geo'],aero=d['aero'],cloud=cloud,source=source,albedo=albedo,\n",
    "                                   verbose=False,make_base=False,set_quiet=True)\n",
    "    #Rl.write_input_aac(fpp_in+d['f_in_noa'],geo=d['geo'],aero=aero_no,cloud=cloud,source=source,albedo=albedo,\n",
    "    #                               verbose=False,make_base=False,set_quiet=True)"
   ]
  },
  {
   "cell_type": "code",
   "execution_count": 67,
   "metadata": {
    "ExecuteTime": {
     "end_time": "2020-01-10T01:54:37.453575Z",
     "start_time": "2020-01-10T01:54:36.860971Z"
    }
   },
   "outputs": [],
   "source": [
    "p = Pool(cpu_count()-1,worker_init)"
   ]
  },
  {
   "cell_type": "code",
   "execution_count": 68,
   "metadata": {
    "ExecuteTime": {
     "end_time": "2020-01-10T02:03:19.033697Z",
     "start_time": "2020-01-10T01:54:42.739257Z"
    }
   },
   "outputs": [],
   "source": [
    "results_cre = p.map(write_files_cre,bb)"
   ]
  },
  {
   "cell_type": "code",
   "execution_count": 70,
   "metadata": {
    "ExecuteTime": {
     "end_time": "2020-01-10T20:06:21.588032Z",
     "start_time": "2020-01-10T20:06:21.578114Z"
    }
   },
   "outputs": [
    {
     "data": {
      "text/plain": [
       "16596"
      ]
     },
     "execution_count": 70,
     "metadata": {},
     "output_type": "execute_result"
    }
   ],
   "source": [
    "len(results_cre)"
   ]
  },
  {
   "cell_type": "markdown",
   "metadata": {},
   "source": [
    "## Run the calculations"
   ]
  },
  {
   "cell_type": "markdown",
   "metadata": {},
   "source": [
    "Run the files from command line:\n",
    "\n",
    "using command parallel --jobs=20 < ORACLES_DARE_v1.sh"
   ]
  },
  {
   "cell_type": "code",
   "execution_count": 258,
   "metadata": {
    "ExecuteTime": {
     "end_time": "2020-04-24T20:09:47.906931Z",
     "start_time": "2020-04-24T20:09:47.891401Z"
    }
   },
   "outputs": [],
   "source": [
    "f_list = fp_rtm+'{}_DARE_{}.sh'.format(name,vv)"
   ]
  },
  {
   "cell_type": "code",
   "execution_count": 259,
   "metadata": {
    "ExecuteTime": {
     "end_time": "2020-04-24T20:09:49.002170Z",
     "start_time": "2020-04-24T20:09:48.758150Z"
    }
   },
   "outputs": [
    {
     "name": "stdout",
     "output_type": "stream",
     "text": [
      "33192 /scratch/rtm/ORACLES_DARE_v3.sh\r\n"
     ]
    }
   ],
   "source": [
    "! wc -l $f_list"
   ]
  },
  {
   "cell_type": "code",
   "execution_count": 260,
   "metadata": {
    "ExecuteTime": {
     "end_time": "2020-04-24T20:09:50.261360Z",
     "start_time": "2020-04-24T20:09:50.255326Z"
    }
   },
   "outputs": [],
   "source": [
    "f_listout = f_list+'.out'"
   ]
  },
  {
   "cell_type": "code",
   "execution_count": null,
   "metadata": {
    "ExecuteTime": {
     "end_time": "2020-04-24T21:54:58.753904Z",
     "start_time": "2020-04-24T20:19:13.821763Z"
    }
   },
   "outputs": [],
   "source": [
    "!parallel --jobs=22 --bar < $f_list #2> $f_listout"
   ]
  },
  {
   "cell_type": "markdown",
   "metadata": {},
   "source": [
    "### For the CRE"
   ]
  },
  {
   "cell_type": "code",
   "execution_count": 71,
   "metadata": {
    "ExecuteTime": {
     "end_time": "2020-01-10T20:07:36.886978Z",
     "start_time": "2020-01-10T20:07:36.881824Z"
    }
   },
   "outputs": [],
   "source": [
    "f_list = fp_rtm+'{}_DARE_CRE_{}.sh'.format(name,vv)"
   ]
  },
  {
   "cell_type": "code",
   "execution_count": 72,
   "metadata": {
    "ExecuteTime": {
     "end_time": "2020-01-10T20:07:45.784048Z",
     "start_time": "2020-01-10T20:07:45.561672Z"
    }
   },
   "outputs": [
    {
     "name": "stdout",
     "output_type": "stream",
     "text": [
      "16597 /home/samuel/rtm/ORACLES_DARE_CRE_v2.sh\r\n"
     ]
    }
   ],
   "source": [
    "! wc -l $f_list"
   ]
  },
  {
   "cell_type": "code",
   "execution_count": 73,
   "metadata": {
    "ExecuteTime": {
     "end_time": "2020-01-10T20:07:52.984792Z",
     "start_time": "2020-01-10T20:07:52.978455Z"
    }
   },
   "outputs": [],
   "source": [
    "f_listout = f_list+'.out'"
   ]
  },
  {
   "cell_type": "code",
   "execution_count": 74,
   "metadata": {
    "ExecuteTime": {
     "end_time": "2020-01-10T21:41:53.552321Z",
     "start_time": "2020-01-10T20:08:00.370208Z"
    }
   },
   "outputs": [],
   "source": [
    "!parallel --jobs=7 --bar < $f_list 2> $f_listout"
   ]
  },
  {
   "cell_type": "markdown",
   "metadata": {},
   "source": [
    "## Read the files"
   ]
  },
  {
   "cell_type": "code",
   "execution_count": 263,
   "metadata": {
    "ExecuteTime": {
     "end_time": "2020-04-24T21:55:49.950886Z",
     "start_time": "2020-04-24T21:55:49.931904Z"
    }
   },
   "outputs": [
    {
     "data": {
      "text/plain": [
       "(u'/scratch/rtm/output/ORACLES_DARE_v3/', 'ORACLES', 'v3', [0, 1.5, 100.0])"
      ]
     },
     "execution_count": 263,
     "metadata": {},
     "output_type": "execute_result"
    }
   ],
   "source": [
    "fpp_out,name,vv,geo['zout']"
   ]
  },
  {
   "cell_type": "code",
   "execution_count": 264,
   "metadata": {
    "ExecuteTime": {
     "end_time": "2020-04-24T21:56:30.583744Z",
     "start_time": "2020-04-24T21:55:50.585656Z"
    }
   },
   "outputs": [],
   "source": [
    "n = len(ar['Start_UTC'][fla])\n",
    "nz = len(geo['zout'])\n",
    "nw = len(aero['wvl_arr'])\n",
    "dat = {'cod':np.zeros(n)+np.nan,'ref':np.zeros(n)+np.nan,'ext':np.zeros((n,nw))+np.nan,\n",
    "       'ssa':np.zeros((n,nw))+np.nan,'asy':np.zeros((n,nw))+np.nan,'zout':geo['zout'],\n",
    "       'wvl':aero['wvl_arr'],'sza':np.zeros(n)+np.nan,\n",
    "       'dn':np.zeros((n,nz))+np.nan,'up':np.zeros((n,nz))+np.nan,\n",
    "       'dn_noa':np.zeros((n,nz))+np.nan,'up_noa':np.zeros((n,nz))+np.nan}\n",
    "\n",
    "for i,u in enumerate(ar['Start_UTC'][fla]):\n",
    "    \n",
    "    dat['cod'][i] = cod[flb][i]\n",
    "    dat['ref'][i] = ref[flb][i]\n",
    "    dat['sza'][i] = sza[fla][i]\n",
    "\n",
    "    iae = np.argmin(abs(ar['time_ae'][fla][i]-ae['time']/3600.0))\n",
    "    # Only run for aerosol rertievals within 1 hour\n",
    "    if abs(ar['time_ae'][fla][i]-ae['time']/3600.0)[iae]<1.0: \n",
    "\n",
    "        dat['ext'][i,:] = fx_ext(ar['AOD_polycoef_a0'][fla][i],ar['AOD_polycoef_a1'][fla][i],ar['AOD_polycoef_a2'][fla][i])[0]\n",
    "        dat['ssa'][i,:] = fx_aero(ae['SSA'][iae])[0]\n",
    "        dat['asy'][i,:] = fx_aero(ae['g_total'][iae])[0]\n"
   ]
  },
  {
   "cell_type": "markdown",
   "metadata": {},
   "source": [
    "### Conventional"
   ]
  },
  {
   "cell_type": "code",
   "execution_count": 133,
   "metadata": {
    "ExecuteTime": {
     "end_time": "2019-12-04T04:28:28.384019Z",
     "start_time": "2019-12-04T04:27:39.638000Z"
    }
   },
   "outputs": [
    {
     "data": {
      "application/vnd.jupyter.widget-view+json": {
       "model_id": "7e2d484723fd4df8b0eccf86039f1e09",
       "version_major": 2,
       "version_minor": 0
      },
      "text/plain": [
       "HBox(children=(IntProgress(value=0, max=28619), HTML(value=u'')))"
      ]
     },
     "metadata": {},
     "output_type": "display_data"
    }
   ],
   "source": [
    "\n",
    "if isjupyter():\n",
    "    pbar = tqdm(total=n)\n",
    "    \n",
    "\n",
    "for i,u in enumerate(ar['Start_UTC'][fla]):\n",
    "    \n",
    "    dat['cod'][i] = cod[flb][i]\n",
    "    dat['ref'][i] = ref[flb][i]\n",
    "    dat['sza'][i] = sza[fla][i]\n",
    "\n",
    "    iae = np.argmin(abs(ar['time_ae'][fla][i]-ae['time']/3600.0))\n",
    "    # Only run for aerosol rertievals within 1 hour\n",
    "    if abs(ar['time_ae'][fla][i]-ae['time']/3600.0)[iae]<1.0: \n",
    "\n",
    "        dat['ext'][i,:] = fx_ext(ar['AOD_polycoef_a0'][fla][i],ar['AOD_polycoef_a1'][fla][i],ar['AOD_polycoef_a2'][fla][i])[0]\n",
    "        dat['ssa'][i,:] = fx_aero(ae['SSA'][iae])[0]\n",
    "        dat['asy'][i,:] = fx_aero(ae['g_total'][iae])[0]\n",
    "        try:\n",
    "            f_in = '{name}_{vv}_DARE_{i:03d}_withaero.dat'.format(name=name,vv=vv,i=i)\n",
    "            o = Rl.read_libradtran(fpp_out+f_in,zout=geo['zout'])\n",
    "            f_in = '{name}_{vv}_star_{i:03d}_noaero.dat'.format(name=name,vv=vv,i=i)\n",
    "            on = Rl.read_libradtran(fpp_out+f_in,zout=geo['zout'])\n",
    "\n",
    "            dat['dn'][i,:] = o['diffuse_down']+o['direct_down']\n",
    "            dat['dn_noa'][i,:] = on['diffuse_down']+on['direct_down']\n",
    "            dat['up'][i,:] = o['diffuse_up']\n",
    "            dat['up_noa'][i,:] = on['diffuse_up']\n",
    "        except:\n",
    "            pass\n",
    "\n",
    "    if isjupyter(): \n",
    "        pbar.update(1)\n",
    "    else:\n",
    "        print i\n"
   ]
  },
  {
   "cell_type": "markdown",
   "metadata": {},
   "source": [
    "### Multiprocessing"
   ]
  },
  {
   "cell_type": "code",
   "execution_count": 265,
   "metadata": {
    "ExecuteTime": {
     "end_time": "2020-04-24T21:56:41.498410Z",
     "start_time": "2020-04-24T21:56:41.482695Z"
    }
   },
   "outputs": [],
   "source": [
    "class KeyboardInterruptError(Exception): pass"
   ]
  },
  {
   "cell_type": "code",
   "execution_count": 266,
   "metadata": {
    "ExecuteTime": {
     "end_time": "2020-04-24T21:56:42.216191Z",
     "start_time": "2020-04-24T21:56:42.194754Z"
    }
   },
   "outputs": [],
   "source": [
    "def read_files(i,fpp_out=fpp_out,name=name,vv=vv,zout=geo['zout']):\n",
    "    'function to feed the pool of workers to read all the files'\n",
    "    out = {}\n",
    "    try:\n",
    "        f_in = '{name}_{vv}_DARE_{i:03d}_withaero.dat'.format(name=name,vv=vv,i=i)\n",
    "        o = Rl.read_libradtran(fpp_out+f_in,zout=zout)\n",
    "        f_in = '{name}_{vv}_star_{i:03d}_noaero.dat'.format(name=name,vv=vv,i=i)\n",
    "        on = Rl.read_libradtran(fpp_out+f_in,zout=zout)\n",
    "\n",
    "        #dat['dn'][i,:] = o['diffuse_down']+o['direct_down']\n",
    "        #dat['dn_noa'][i,:] = on['diffuse_down']+on['direct_down']\n",
    "        #dat['up'][i,:] = o['diffuse_up']\n",
    "        #dat['up_noa'][i,:] = on['diffuse_up']\n",
    "        \n",
    "        out['dn'] = o['diffuse_down']+o['direct_down']\n",
    "        out['dn_noa'] = on['diffuse_down']+on['direct_down']\n",
    "        out['up'] = o['diffuse_up']\n",
    "        out['up_noa'] = on['diffuse_up']\n",
    "        out['i'] = i\n",
    "    except KeyboardInterrupt:\n",
    "        raise KeyboardInterruptError()\n",
    "        \n",
    "    except:\n",
    "        out['dn'] = np.zeros(len(zout))+np.nan\n",
    "        out['dn_noa'] = np.zeros(len(zout))+np.nan\n",
    "        out['up'] = np.zeros(len(zout))+np.nan\n",
    "        out['up_noa'] = np.zeros(len(zout))+np.nan\n",
    "        out['i'] = i\n",
    "    return out"
   ]
  },
  {
   "cell_type": "code",
   "execution_count": 267,
   "metadata": {
    "ExecuteTime": {
     "end_time": "2020-04-24T21:56:42.843116Z",
     "start_time": "2020-04-24T21:56:42.834331Z"
    }
   },
   "outputs": [],
   "source": [
    "def worker_init(verbose=True):\n",
    "    # ignore the SIGINI in sub process, just print a log\n",
    "    def sig_int(signal_num, frame):\n",
    "        if verbose: \n",
    "            print 'signal: %s' % signal_num\n",
    "        raise IOError\n",
    "    signal.signal(signal.SIGINT, sig_int)"
   ]
  },
  {
   "cell_type": "code",
   "execution_count": 268,
   "metadata": {
    "ExecuteTime": {
     "end_time": "2020-04-24T21:56:44.603066Z",
     "start_time": "2020-04-24T21:56:44.002354Z"
    }
   },
   "outputs": [],
   "source": [
    "p = Pool(cpu_count()-1,worker_init)"
   ]
  },
  {
   "cell_type": "code",
   "execution_count": 269,
   "metadata": {
    "ExecuteTime": {
     "end_time": "2020-04-24T21:56:49.385328Z",
     "start_time": "2020-04-24T21:56:45.492761Z"
    }
   },
   "outputs": [
    {
     "data": {
      "application/vnd.jupyter.widget-view+json": {
       "model_id": "f793506e9cae486486ff4afe85ba3aba",
       "version_major": 2,
       "version_minor": 0
      },
      "text/plain": [
       "A Jupyter Widget"
      ]
     },
     "metadata": {},
     "output_type": "display_data"
    },
    {
     "data": {
      "application/vnd.jupyter.widget-view+json": {
       "model_id": "e24fb4b0aebe4dd497e8214a8c227841",
       "version_major": 2,
       "version_minor": 0
      },
      "text/plain": [
       "A Jupyter Widget"
      ]
     },
     "metadata": {},
     "output_type": "display_data"
    },
    {
     "name": "stdout",
     "output_type": "stream",
     "text": [
      "\n",
      "\n"
     ]
    }
   ],
   "source": [
    "outputs = []\n",
    "max_ = len(ar['Start_UTC'][fla])\n",
    "with tqdm(total=max_) as pbar:\n",
    "    for i, outs in tqdm(enumerate(p.imap_unordered(read_files, range(0, max_)))):\n",
    "        pbar.update()\n",
    "        outputs.append(outs)"
   ]
  },
  {
   "cell_type": "code",
   "execution_count": 270,
   "metadata": {
    "ExecuteTime": {
     "end_time": "2020-04-24T21:57:05.709315Z",
     "start_time": "2020-04-24T21:57:05.690583Z"
    }
   },
   "outputs": [
    {
     "data": {
      "text/plain": [
       "({'dn': array([nan, nan, nan]),\n",
       "  'dn_noa': array([nan, nan, nan]),\n",
       "  'i': 0,\n",
       "  'up': array([nan, nan, nan]),\n",
       "  'up_noa': array([nan, nan, nan])},\n",
       " {'dn': array([268.05470042, 727.363     , 919.24013782]),\n",
       "  'dn_noa': array([295.14450057, 790.4571    , 919.24013982]),\n",
       "  'i': 2000,\n",
       "  'up': array([ 17.37525, 425.3283 , 403.6783 ]),\n",
       "  'up_noa': array([ 19.31185, 460.4589 , 454.3849 ])})"
      ]
     },
     "execution_count": 270,
     "metadata": {},
     "output_type": "execute_result"
    }
   ],
   "source": [
    "outputs[0],outputs[2000]"
   ]
  },
  {
   "cell_type": "code",
   "execution_count": 271,
   "metadata": {
    "ExecuteTime": {
     "end_time": "2020-04-24T21:57:07.419417Z",
     "start_time": "2020-04-24T21:57:07.411419Z"
    }
   },
   "outputs": [
    {
     "data": {
      "text/plain": [
       "['dn',\n",
       " 'asy',\n",
       " 'sza',\n",
       " 'zout',\n",
       " 'wvl',\n",
       " 'ssa',\n",
       " 'dn_noa',\n",
       " 'up_noa',\n",
       " 'up',\n",
       " 'ext',\n",
       " 'cod',\n",
       " 'ref']"
      ]
     },
     "execution_count": 271,
     "metadata": {},
     "output_type": "execute_result"
    }
   ],
   "source": [
    "dat.keys()"
   ]
  },
  {
   "cell_type": "code",
   "execution_count": 272,
   "metadata": {
    "ExecuteTime": {
     "end_time": "2020-04-24T21:57:12.437075Z",
     "start_time": "2020-04-24T21:57:12.299252Z"
    }
   },
   "outputs": [],
   "source": [
    "for oo in outputs:\n",
    "    dat['dn'][oo['i'],:] = oo['dn']\n",
    "    dat['dn_noa'][oo['i'],:] = oo['dn_noa']\n",
    "    dat['up'][oo['i'],:] = oo['up']\n",
    "    dat['up_noa'][oo['i'],:] = oo['up_noa']"
   ]
  },
  {
   "cell_type": "markdown",
   "metadata": {},
   "source": [
    "### combine"
   ]
  },
  {
   "cell_type": "code",
   "execution_count": 273,
   "metadata": {
    "ExecuteTime": {
     "end_time": "2020-04-24T21:57:14.031718Z",
     "start_time": "2020-04-24T21:57:14.017132Z"
    }
   },
   "outputs": [],
   "source": [
    "dat['dare'] = (dat['dn']-dat['up']) - (dat['dn_noa']-dat['up_noa'])"
   ]
  },
  {
   "cell_type": "code",
   "execution_count": 274,
   "metadata": {
    "ExecuteTime": {
     "end_time": "2020-04-24T21:57:14.568516Z",
     "start_time": "2020-04-24T21:57:14.557037Z"
    }
   },
   "outputs": [],
   "source": [
    "dat['utc'] = ar['Start_UTC'][fla]\n",
    "dat['lat'] = ar['Latitude'][fla]\n",
    "dat['lon'] = ar['Longitude'][fla]\n",
    "dat['doy'] = ar['doy'][fla]"
   ]
  },
  {
   "cell_type": "markdown",
   "metadata": {},
   "source": [
    "## Save the file"
   ]
  },
  {
   "cell_type": "code",
   "execution_count": 275,
   "metadata": {
    "ExecuteTime": {
     "end_time": "2020-04-24T21:57:17.209241Z",
     "start_time": "2020-04-24T21:57:16.649534Z"
    }
   },
   "outputs": [
    {
     "name": "stdout",
     "output_type": "stream",
     "text": [
      "no dn\n",
      "no asy\n",
      "no sza\n",
      "zout\n",
      "no wvl\n",
      "no lat\n",
      "no ssa\n",
      "no dare\n",
      "no utc\n",
      "no dn_noa\n",
      "no up_noa\n",
      "no lon\n",
      "no up\n",
      "no ext\n",
      "no doy\n",
      "no cod\n",
      "no ref\n",
      "saving file to: /data/sam/ORACLES/ORACLES_DARE_aero_prop_v3.mat\n"
     ]
    }
   ],
   "source": [
    "dat1 = iterate_dict_unicode(dat)\n",
    "print 'saving file to: '+fp+'{name}_DARE_aero_prop_{vv}.mat'.format(name=name,vv=vv)\n",
    "hs.savemat(fp+'{name}_DARE_aero_prop_{vv}.mat'.format(name=name,vv=vv),dat1)"
   ]
  },
  {
   "cell_type": "code",
   "execution_count": 276,
   "metadata": {
    "ExecuteTime": {
     "end_time": "2020-04-24T21:57:18.495150Z",
     "start_time": "2020-04-24T21:57:18.114065Z"
    }
   },
   "outputs": [
    {
     "name": "stdout",
     "output_type": "stream",
     "text": [
      "no dn\n",
      "no asy\n",
      "no sza\n",
      "zout\n",
      "no wvl\n",
      "no lat\n",
      "no ssa\n",
      "no dare\n",
      "no utc\n",
      "no dn_noa\n",
      "no up_noa\n",
      "no lon\n",
      "no up\n",
      "no ext\n",
      "no doy\n",
      "no cod\n",
      "no ref\n",
      "saving file to: /data/sam/ORACLES/ORACLES_DARE_v3.mat\n"
     ]
    }
   ],
   "source": [
    "dat1 = iterate_dict_unicode(dat)\n",
    "print 'saving file to: '+fp+'{name}_DARE_{vv}.mat'.format(name=name,vv=vv)\n",
    "hs.savemat(fp+'{name}_DARE_{vv}.mat'.format(name=name,vv=vv),dat1)"
   ]
  },
  {
   "cell_type": "code",
   "execution_count": null,
   "metadata": {},
   "outputs": [],
   "source": []
  }
 ],
 "metadata": {
  "kernelspec": {
   "display_name": "Python 2",
   "language": "python",
   "name": "python2"
  },
  "language_info": {
   "codemirror_mode": {
    "name": "ipython",
    "version": 2
   },
   "file_extension": ".py",
   "mimetype": "text/x-python",
   "name": "python",
   "nbconvert_exporter": "python",
   "pygments_lexer": "ipython2",
   "version": "2.7.17"
  },
  "notify_time": "5",
  "toc": {
   "base_numbering": 1,
   "nav_menu": {
    "height": "232px",
    "width": "304px"
   },
   "number_sections": true,
   "sideBar": false,
   "skip_h1_title": false,
   "title_cell": "Table of Contents",
   "title_sidebar": "Contents",
   "toc_cell": false,
   "toc_position": {
    "height": "577.465px",
    "left": "49.9965px",
    "top": "180.993px",
    "width": "532.483px"
   },
   "toc_section_display": true,
   "toc_window_display": true
  }
 },
 "nbformat": 4,
 "nbformat_minor": 2
}
