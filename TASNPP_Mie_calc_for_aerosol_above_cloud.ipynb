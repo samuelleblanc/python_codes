{
 "cells": [
  {
   "cell_type": "markdown",
   "id": "80ce5f0b",
   "metadata": {},
   "source": [
    "# Info\n",
    "Purpose:\n",
    "\n",
    "    To Calculate aerosol optical properties for aerosol above cloud reitrewvals using MODIS and VIIRS\n",
    "    Using the wavelengths: \n",
    "    0.47, 0.55, 0.67, 0.86, 1.24, 2.1µm\n",
    "    \n",
    "    - Using the retrieved size distributions\n",
    "    - retrieval results of refractive index (imaginary and real) at wavelengths: 400, 500, 675, 870, 995 nm\n",
    "\n",
    "\n",
    "Output:\n",
    "\n",
    "    Figure and save files\n",
    "\n",
    "Keywords:\n",
    "\n",
    "    none\n",
    "\n",
    "Dependencies:\n",
    "\n",
    "    - load_utils.py\n",
    "    - matplotlib\n",
    "    - numpy\n",
    "    - Sp_parameters\n",
    "    - write_utils\n",
    "    - path_utils\n",
    "    - libradtran\n",
    "\n",
    "Needed Files:\n",
    "  - netcdf of aeroinv from ORACLES\n",
    "  - ...\n",
    "\n",
    "Modification History:\n",
    "\n",
    "    Written: Samuel LeBlanc, Santa Cruz, CA, 2022-09-12\n",
    "    Modified:\n"
   ]
  },
  {
   "cell_type": "markdown",
   "id": "e656db3d",
   "metadata": {},
   "source": [
    "# Prepare python environment"
   ]
  },
  {
   "cell_type": "code",
   "execution_count": 3,
   "id": "91f57814",
   "metadata": {
    "ExecuteTime": {
     "end_time": "2022-09-12T23:05:44.845355Z",
     "start_time": "2022-09-12T23:05:44.835492Z"
    }
   },
   "outputs": [],
   "source": [
    "import numpy as np\n",
    "import Sp_parameters as Sp\n",
    "import load_utils as lu\n",
    "import write_utils as wu\n",
    "from path_utils import getpath\n",
    "import hdf5storage as hs\n",
    "import scipy.io as sio\n",
    "import matplotlib.pyplot as plt\n",
    "%matplotlib notebook\n",
    "import os\n"
   ]
  },
  {
   "cell_type": "code",
   "execution_count": 7,
   "id": "df4f5a0b",
   "metadata": {
    "ExecuteTime": {
     "end_time": "2022-09-12T23:10:50.303249Z",
     "start_time": "2022-09-12T23:10:50.295838Z"
    }
   },
   "outputs": [
    {
     "name": "stdout",
     "output_type": "stream",
     "text": [
      "Created new path: /data/sunsat/ORACLES_2016/ under the name: sunsat_ORACLES2016\n",
      "Return path named:  sunsat_ORACLES2016 /data/sunsat/ORACLES_2016/\n"
     ]
    }
   ],
   "source": [
    "name = 'sunsat_ORACLES2016'\n",
    "vv = 'v1'\n",
    "fp = getpath(name)\n"
   ]
  },
  {
   "cell_type": "code",
   "execution_count": 17,
   "id": "e1c675fa",
   "metadata": {
    "ExecuteTime": {
     "end_time": "2022-09-12T23:18:17.033759Z",
     "start_time": "2022-09-12T23:18:17.028990Z"
    }
   },
   "outputs": [
    {
     "name": "stdout",
     "output_type": "stream",
     "text": [
      "Return path named:  uvspec_bin /home/sam/libradtran/libRadtran-2.0.2/bin/\n"
     ]
    }
   ],
   "source": [
    "fp_lib = getpath('uvspec_bin')"
   ]
  },
  {
   "cell_type": "code",
   "execution_count": 27,
   "id": "1bfd1229",
   "metadata": {
    "ExecuteTime": {
     "end_time": "2022-09-13T00:45:19.856566Z",
     "start_time": "2022-09-13T00:45:19.850781Z"
    }
   },
   "outputs": [
    {
     "name": "stdout",
     "output_type": "stream",
     "text": [
      "Return path named:  rtm /scratch/rtm/\n"
     ]
    }
   ],
   "source": [
    "fp_rtm0 = getpath('rtm')\n",
    "fp_rtm = fp_rtm0 +'TASNPP_mie/'"
   ]
  },
  {
   "cell_type": "code",
   "execution_count": 28,
   "id": "37326745",
   "metadata": {
    "ExecuteTime": {
     "end_time": "2022-09-13T00:52:43.735706Z",
     "start_time": "2022-09-13T00:52:43.700851Z"
    }
   },
   "outputs": [],
   "source": [
    "if not os.path.exists(fp_rtm): \n",
    "    os.mkdir(fp_rtm)"
   ]
  },
  {
   "cell_type": "markdown",
   "id": "64ab4f76",
   "metadata": {},
   "source": [
    "# Load files"
   ]
  },
  {
   "cell_type": "code",
   "execution_count": 8,
   "id": "05ff86f2",
   "metadata": {
    "ExecuteTime": {
     "end_time": "2022-09-12T23:13:39.118990Z",
     "start_time": "2022-09-12T23:13:39.114865Z"
    }
   },
   "outputs": [],
   "source": [
    "f = fp + 'data_archival/AEROINV_nc_R0/NC_FORMAT_NETCDF4_CLASSIC/4STAR-aeroinv_P3_2016_R0.nc'"
   ]
  },
  {
   "cell_type": "code",
   "execution_count": 9,
   "id": "9bec6afb",
   "metadata": {
    "ExecuteTime": {
     "end_time": "2022-09-12T23:14:54.500902Z",
     "start_time": "2022-09-12T23:14:54.199037Z"
    }
   },
   "outputs": [
    {
     "name": "stdout",
     "output_type": "stream",
     "text": [
      "Reading file: /data/sunsat/ORACLES_2016/data_archival/AEROINV_nc_R0/NC_FORMAT_NETCDF4_CLASSIC/4STAR-aeroinv_P3_2016_R0.nc\n",
      "Outputting the Data subdatasets:\n",
      "\u001b[1;36m0: base_time\u001b[0m\n",
      "\u001b[1;36m1: time_offset\u001b[0m\n",
      "\u001b[1;36m2: time\u001b[0m\n",
      "\u001b[1;36m3: wavelength\u001b[0m\n",
      "\u001b[1;36m4: radius\u001b[0m\n",
      "\u001b[1;36m5: psd\u001b[0m\n",
      "\u001b[1;36m6: QA_level\u001b[0m\n",
      "\u001b[1;36m7: sphericity\u001b[0m\n",
      "\u001b[1;36m8: sphericity_err\u001b[0m\n",
      "\u001b[1;36m9: PF_angle\u001b[0m\n",
      "\u001b[1;36m10: sca_angle\u001b[0m\n",
      "\u001b[1;36m11: n_real\u001b[0m\n",
      "\u001b[1;36m12: n_imag\u001b[0m\n",
      "\u001b[1;36m13: SSA\u001b[0m\n",
      "\u001b[1;36m14: AOD_fit_total\u001b[0m\n",
      "\u001b[1;36m15: AOD_fit_fine\u001b[0m\n",
      "\u001b[1;36m16: AOD_fit_coarse\u001b[0m\n",
      "\u001b[1;36m17: AOD_meas\u001b[0m\n",
      "\u001b[1;36m18: AAOD\u001b[0m\n",
      "\u001b[1;36m19: TOD_meas\u001b[0m\n",
      "\u001b[1;36m20: TOD_fit\u001b[0m\n",
      "\u001b[1;36m21: TOD_meas_minus_fit\u001b[0m\n",
      "\u001b[1;36m22: AGOD\u001b[0m\n",
      "\u001b[1;36m23: sfc_alb\u001b[0m\n",
      "\u001b[1;36m24: g_total\u001b[0m\n",
      "\u001b[1;36m25: g_fine\u001b[0m\n",
      "\u001b[1;36m26: g_coarse\u001b[0m\n",
      "\u001b[1;36m27: PF_total\u001b[0m\n",
      "\u001b[1;36m28: PF_fine\u001b[0m\n",
      "\u001b[1;36m29: PF_coarse\u001b[0m\n",
      "\u001b[1;36m30: normalized_sky_radiance\u001b[0m\n",
      "\u001b[1;36m31: normalized_sky_radiance_fit\u001b[0m\n",
      "\u001b[1;36m32: sky_radiance_fit_error\u001b[0m\n",
      "\u001b[1;36m33: scan_tag\u001b[0m\n",
      "\u001b[1;36m34: scan_type\u001b[0m\n",
      "\u001b[1;36m35: Lat\u001b[0m\n",
      "\u001b[1;36m36: Lon\u001b[0m\n",
      "\u001b[1;36m37: GPS_Altitude\u001b[0m\n",
      "\u001b[1;36m38: Heading\u001b[0m\n",
      "\u001b[1;36m39: Pitch\u001b[0m\n",
      "\u001b[1;36m40: Roll\u001b[0m\n",
      "\u001b[1;36m41: GPS_Altitude_std\u001b[0m\n",
      "\u001b[1;36m42: Heading_std\u001b[0m\n",
      "\u001b[1;36m43: Pitch_std\u001b[0m\n",
      "\u001b[1;36m44: Roll_std\u001b[0m\n",
      "\u001b[1;36m45: T_static\u001b[0m\n",
      "\u001b[1;36m46: P_static\u001b[0m\n",
      "\u001b[1;36m47: RH\u001b[0m\n",
      "\u001b[1;36m48: SAZ\u001b[0m\n",
      "\u001b[1;36m49: SZA\u001b[0m\n",
      "\u001b[1;36m50: SEL\u001b[0m\n",
      "\u001b[1;36m51: m_ray\u001b[0m\n",
      "\u001b[1;36m52: PWV\u001b[0m\n",
      "[b'base_time', b'time_offset', b'time', b'wavelength', b'radius', b'psd', b'QA_level', b'sphericity', b'sphericity_err', b'PF_angle', b'sca_angle', b'n_real', b'n_imag', b'SSA', b'AOD_fit_total', b'AOD_fit_fine', b'AOD_fit_coarse', b'AOD_meas', b'AAOD', b'TOD_meas', b'TOD_fit', b'TOD_meas_minus_fit', b'AGOD', b'sfc_alb', b'g_total', b'g_fine', b'g_coarse', b'PF_total', b'PF_fine', b'PF_coarse', b'normalized_sky_radiance', b'normalized_sky_radiance_fit', b'sky_radiance_fit_error', b'scan_tag', b'scan_type', b'Lat', b'Lon', b'GPS_Altitude', b'Heading', b'Pitch', b'Roll', b'GPS_Altitude_std', b'Heading_std', b'Pitch_std', b'Roll_std', b'T_static', b'P_static', b'RH', b'SAZ', b'SZA', b'SEL', b'm_ray', b'PWV']\n"
     ]
    }
   ],
   "source": [
    "ae,ae_dict = lu.load_netcdf(f,everything=True)"
   ]
  },
  {
   "cell_type": "code",
   "execution_count": 14,
   "id": "2508e2c4",
   "metadata": {
    "ExecuteTime": {
     "end_time": "2022-09-12T23:17:21.959384Z",
     "start_time": "2022-09-12T23:17:21.953412Z"
    }
   },
   "outputs": [
    {
     "data": {
      "text/plain": [
       "86"
      ]
     },
     "execution_count": 14,
     "metadata": {},
     "output_type": "execute_result"
    }
   ],
   "source": [
    "len(ae[b'time'])"
   ]
  },
  {
   "cell_type": "markdown",
   "id": "56b44600",
   "metadata": {},
   "source": [
    "# Run through each retrieval and make input files"
   ]
  },
  {
   "cell_type": "markdown",
   "id": "1db34901",
   "metadata": {},
   "source": [
    "## Prep functions for printing size distribution"
   ]
  },
  {
   "cell_type": "markdown",
   "id": "989f1a8a",
   "metadata": {},
   "source": [
    "From the libradtran documentation for mie size distribution file:  \n",
    ">Specify a two column file, r [micron], dn(r)/dr, which describes a size distribution"
   ]
  },
  {
   "cell_type": "code",
   "execution_count": 34,
   "id": "6438abc1",
   "metadata": {
    "ExecuteTime": {
     "end_time": "2022-09-13T00:55:48.549356Z",
     "start_time": "2022-09-13T00:55:48.543414Z"
    }
   },
   "outputs": [],
   "source": [
    "def print_size_dist_file(fname,r,dnr):\n",
    "    with open(fname,'w') as f:\n",
    "        for ir,rr in list(enumerate(r)):\n",
    "            f.write('{:3.10f} {:3.10f}\\n'.format(rr,dnr[ir]))"
   ]
  },
  {
   "cell_type": "code",
   "execution_count": 20,
   "id": "a32dea44",
   "metadata": {
    "ExecuteTime": {
     "end_time": "2022-09-12T23:22:50.357659Z",
     "start_time": "2022-09-12T23:22:50.349169Z"
    }
   },
   "outputs": [
    {
     "data": {
      "text/plain": [
       "<class 'netCDF4._netCDF4.Variable'>\n",
       "float64 radius(radius)\n",
       "    long_name: particle radius\n",
       "    units: um\n",
       "unlimited dimensions: \n",
       "current shape = (22,)\n",
       "filling on, default _FillValue of 9.969209968386869e+36 used"
      ]
     },
     "execution_count": 20,
     "metadata": {},
     "output_type": "execute_result"
    }
   ],
   "source": [
    "ae_dict[b'radius']"
   ]
  },
  {
   "cell_type": "code",
   "execution_count": 21,
   "id": "45e16b02",
   "metadata": {
    "ExecuteTime": {
     "end_time": "2022-09-12T23:23:04.651741Z",
     "start_time": "2022-09-12T23:23:04.643361Z"
    }
   },
   "outputs": [
    {
     "data": {
      "text/plain": [
       "<class 'netCDF4._netCDF4.Variable'>\n",
       "float64 psd(time, radius)\n",
       "    long_name: particle size distribution\n",
       "    units: dV/dlnR\n",
       "    source: retrieval\n",
       "unlimited dimensions: time\n",
       "current shape = (86, 22)\n",
       "filling on, default _FillValue of 9.969209968386869e+36 used"
      ]
     },
     "execution_count": 21,
     "metadata": {},
     "output_type": "execute_result"
    }
   ],
   "source": [
    "ae_dict[b'psd']"
   ]
  },
  {
   "cell_type": "code",
   "execution_count": 25,
   "id": "a13c944e",
   "metadata": {
    "ExecuteTime": {
     "end_time": "2022-09-13T00:43:46.800026Z",
     "start_time": "2022-09-13T00:43:46.794866Z"
    }
   },
   "outputs": [],
   "source": [
    "def convert_dvlnr_to_dndr(psd,r):\n",
    "     # All about that conversion from the volume size distribution of dV(r)/dln(r) to number size distribution dN(r)/dr\n",
    "    Nr = psd/(4.0*np.pi/3.0)\n",
    "    for i,rr in list(enumerate(r)):\n",
    "        Nr[i] = Nr[i]/rr**4.0\n",
    "    return Nr"
   ]
  },
  {
   "cell_type": "code",
   "execution_count": 37,
   "id": "f3972a47",
   "metadata": {
    "ExecuteTime": {
     "end_time": "2022-09-13T00:58:06.507360Z",
     "start_time": "2022-09-13T00:58:06.501465Z"
    }
   },
   "outputs": [],
   "source": [
    "print_size_dist_file(fp_rtm+'mie_tester.psd',ae[b'radius'],convert_dvlnr_to_dndr(ae[b'psd'][0,:],ae[b'radius']))"
   ]
  },
  {
   "cell_type": "markdown",
   "id": "a0240ebb",
   "metadata": {},
   "source": [
    "## Prep function for printing index of refraction"
   ]
  },
  {
   "cell_type": "code",
   "execution_count": null,
   "id": "c5b79cee",
   "metadata": {},
   "outputs": [],
   "source": []
  }
 ],
 "metadata": {
  "kernelspec": {
   "display_name": "Python 3",
   "language": "python",
   "name": "python3"
  },
  "language_info": {
   "codemirror_mode": {
    "name": "ipython",
    "version": 3
   },
   "file_extension": ".py",
   "mimetype": "text/x-python",
   "name": "python",
   "nbconvert_exporter": "python",
   "pygments_lexer": "ipython3",
   "version": "3.8.10"
  },
  "toc": {
   "base_numbering": 1,
   "nav_menu": {},
   "number_sections": true,
   "sideBar": true,
   "skip_h1_title": false,
   "title_cell": "Table of Contents",
   "title_sidebar": "Contents",
   "toc_cell": false,
   "toc_position": {},
   "toc_section_display": true,
   "toc_window_display": false
  }
 },
 "nbformat": 4,
 "nbformat_minor": 5
}
