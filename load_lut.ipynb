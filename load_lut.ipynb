{
 "cells": [
  {
   "cell_type": "code",
   "execution_count": 2,
   "metadata": {},
   "outputs": [
    {
     "name": "stdout",
     "output_type": "stream",
     "text": [
      "C:\\Users\\sleblan2\\Research\\python_codes\\file.rc\n",
      "yes\n"
     ]
    }
   ],
   "source": [
    "import matplotlib.pyplot as plt\n",
    "import matplotlib.colors as colors\n",
    "import numpy as np, h5py\n",
    "import plotly.plotly as py\n",
    "import scipy.io as sio\n",
    "import math\n",
    "import os\n",
    "import warnings\n",
    "warnings.simplefilter('ignore', np.RankWarning)\n",
    "import Sp_parameters as Sp\n",
    "py.sign_in(\"samuelleblanc\", \"4y3khh7ld4\")\n",
    "print 'C:\\\\Users\\\\sleblan2\\\\Research\\\\python_codes\\\\file.rc'\n",
    "%matplotlib inline\n",
    "from matplotlib import rc_file\n",
    "rc_file('C:\\\\Users\\\\sleblan2\\\\Research\\\\python_codes\\\\file.rc')\n",
    "# set the basic directory path\n",
    "fp='C:\\\\Users\\\\sleblan2\\\\Research\\\\TCAP\\\\'\n",
    "if __name__ == \"__main__\":\n",
    "    print('yes')"
   ]
  },
  {
   "cell_type": "code",
   "execution_count": 3,
   "metadata": {},
   "outputs": [
    {
     "name": "stdout",
     "output_type": "stream",
     "text": [
      "['tau', 'ab', 'pw', 'sp_irrdn', 'sp', 'zenlambda', 'sza', 'zout', 'sp_irrup', 'z', 'ref']\n",
      "sp (2, 1556, 2, 35, 24)\n",
      "sp (wp, wvl, z, re, ta)\n"
     ]
    }
   ],
   "source": [
    "# load the idl save file containing the modeled radiances\n",
    "s=sio.idl.readsav(fp+'model/sp_v1_20130219_4STAR.out')\n",
    "print s.keys()\n",
    "print 'sp', s.sp.shape\n",
    "print 'sp (wp, wvl, z, re, ta)'"
   ]
  },
  {
   "cell_type": "code",
   "execution_count": 4,
   "metadata": {},
   "outputs": [],
   "source": [
    "# create custom key for sorting via wavelength\n",
    "iwvls = np.argsort(s.zenlambda)\n",
    "s.zenlambda.sort()"
   ]
  },
  {
   "cell_type": "code",
   "execution_count": 5,
   "metadata": {},
   "outputs": [
    {
     "name": "stdout",
     "output_type": "stream",
     "text": [
      "['utc', 'rad', 'good', 'nm', '__version__', '__header__', '__globals__']\n",
      "Measured radiance Shape:  (3296, 1512)\n",
      "0.110006678277\n"
     ]
    },
    {
     "data": {
      "text/plain": [
       "array([634], dtype=uint16)"
      ]
     },
     "execution_count": 5,
     "metadata": {},
     "output_type": "execute_result"
    }
   ],
   "source": [
    "# load the matlab file containing the measured TCAP radiances\n",
    "m = sio.loadmat(fp+'4STAR/20130219starzen_rad.mat')\n",
    "sm = sio.idl.AttrDict(m)\n",
    "print sm.keys()\n",
    "print 'Measured radiance Shape: ', sm.rad.shape\n",
    "\n",
    "print np.nanmax(sm.rad[sm.good[100],:])\n",
    "sm.good[100]"
   ]
  },
  {
   "cell_type": "code",
   "execution_count": 49,
   "metadata": {},
   "outputs": [
    {
     "data": {
      "text/plain": [
       "<module 'Sp_parameters' from 'Sp_parameters.py'>"
      ]
     },
     "execution_count": 49,
     "metadata": {},
     "output_type": "execute_result"
    }
   ],
   "source": [
    "import Sp_parameters as Sp\n",
    "reload(Sp)"
   ]
  },
  {
   "cell_type": "code",
   "execution_count": 50,
   "metadata": {},
   "outputs": [
    {
     "name": "stdout",
     "output_type": "stream",
     "text": [
      "1556 1556\n",
      "in sp\n",
      "(2, 1556, 2, 35, 24)\n",
      "(2, 1556, 2, 35, 24)\n",
      "(111,)\n",
      "(59,)\n",
      "Running interpolation: [########################################]\n",
      "Overwriting the current sp, tau, and ref with the new high resolution values\n"
     ]
    }
   ],
   "source": [
    "lut = Sp.Sp(s)\n",
    "warnings.simplefilter('ignore')\n",
    "lut.sp_hires()"
   ]
  },
  {
   "cell_type": "code",
   "execution_count": 51,
   "metadata": {},
   "outputs": [
    {
     "data": {
      "text/plain": [
       "array([[[[  2.47655313e-06,   3.06574578e-03,   6.96254781e-03, ...,\n",
       "            2.05477767e+00,   1.48514952e-01,   3.52036953e-02],\n",
       "         [ -3.57359858e-06,   3.16852938e-03,   7.19619819e-03, ...,\n",
       "            1.86952321e+00,   1.55516386e-01,   4.22676132e-02],\n",
       "         [ -3.25827476e-06,   3.22372832e-03,   7.32167788e-03, ...,\n",
       "            1.76768611e+00,   1.64514556e-01,   4.93315311e-02],\n",
       "         ..., \n",
       "         [  2.84040513e-06,   2.90389107e-03,   4.69048281e-04, ...,\n",
       "            2.04558328e+00,   3.00000000e-03,   2.55438093e-02],\n",
       "         [  3.89124153e-06,   2.89032356e-03,   4.44819046e-04, ...,\n",
       "            2.04637139e+00,   3.00000000e-03,   2.52873257e-02],\n",
       "         [ -1.72036464e-06,   2.87639862e-03,   4.19951491e-04, ...,\n",
       "            2.04717659e+00,   3.00000000e-03,   2.50308421e-02]],\n",
       "\n",
       "        [[  6.69716061e-07,   3.35155769e-03,   7.82091788e-03, ...,\n",
       "            2.27164352e+00,   1.23635192e-01,   3.38719152e-02],\n",
       "         [  7.89008075e-06,   3.41640796e-03,   7.95803465e-03, ...,\n",
       "            2.04991421e+00,   1.29973509e-01,   4.03750626e-02],\n",
       "         [  7.81857311e-07,   3.45117254e-03,   8.03153948e-03, ...,\n",
       "            1.92827092e+00,   1.37552019e-01,   4.68782101e-02],\n",
       "         ..., \n",
       "         [  2.93681870e-06,   2.05713541e-03,   1.41788782e-04, ...,\n",
       "            1.98283996e+00,   3.00000000e-03,   2.91098259e-02],\n",
       "         [  1.52869541e-06,   2.04055860e-03,   1.31937071e-04, ...,\n",
       "            1.98379089e+00,   3.00000000e-03,   2.88208852e-02],\n",
       "         [  5.83031931e-06,   2.02352758e-03,   1.21815415e-04, ...,\n",
       "            1.98476232e+00,   3.00000000e-03,   2.85319444e-02]],\n",
       "\n",
       "        [[ -1.82307339e-06,   3.13134678e-03,   7.75976567e-03, ...,\n",
       "            2.39011879e+00,   1.08854549e-01,   3.31630521e-02],\n",
       "         [  5.55653755e-06,   3.21097902e-03,   7.87074592e-03, ...,\n",
       "            2.14644439e+00,   1.15821393e-01,   3.93550583e-02],\n",
       "         [ -3.14469827e-07,   3.25347507e-03,   7.92997096e-03, ...,\n",
       "            2.01286261e+00,   1.23268973e-01,   4.55470645e-02],\n",
       "         ..., \n",
       "         [ -2.16793250e-06,   1.53890827e-03,   7.69591727e-05, ...,\n",
       "            1.90812135e+00,   3.00000000e-03,   3.12561713e-02],\n",
       "         [ -4.63783679e-06,   1.51945310e-03,   7.08776484e-05, ...,\n",
       "            1.90915676e+00,   3.00000000e-03,   3.09481138e-02],\n",
       "         [  5.83611342e-06,   1.49944886e-03,   6.46244917e-05, ...,\n",
       "            1.91021447e+00,   3.00000000e-03,   3.06400564e-02]],\n",
       "\n",
       "        ..., \n",
       "        [[             nan,              nan,              nan, ...,\n",
       "                       nan,   3.00000000e-03,   0.00000000e+00],\n",
       "         [             nan,              nan,              nan, ...,\n",
       "                       nan,   3.00000000e-03,   0.00000000e+00],\n",
       "         [             nan,              nan,              nan, ...,\n",
       "                       nan,   3.00000000e-03,   0.00000000e+00],\n",
       "         ..., \n",
       "         [             nan,              nan,              nan, ...,\n",
       "                       nan,   3.00000000e-03,   0.00000000e+00],\n",
       "         [             nan,              nan,              nan, ...,\n",
       "                       nan,   3.00000000e-03,   0.00000000e+00],\n",
       "         [             nan,              nan,              nan, ...,\n",
       "                       nan,   3.00000000e-03,   0.00000000e+00]],\n",
       "\n",
       "        [[             nan,              nan,              nan, ...,\n",
       "                       nan,   3.00000000e-03,   0.00000000e+00],\n",
       "         [             nan,              nan,              nan, ...,\n",
       "                       nan,   3.00000000e-03,   0.00000000e+00],\n",
       "         [             nan,              nan,              nan, ...,\n",
       "                       nan,   3.00000000e-03,   0.00000000e+00],\n",
       "         ..., \n",
       "         [             nan,              nan,              nan, ...,\n",
       "                       nan,   3.00000000e-03,   0.00000000e+00],\n",
       "         [             nan,              nan,              nan, ...,\n",
       "                       nan,   3.00000000e-03,   0.00000000e+00],\n",
       "         [             nan,              nan,              nan, ...,\n",
       "                       nan,   3.00000000e-03,   0.00000000e+00]],\n",
       "\n",
       "        [[             nan,              nan,              nan, ...,\n",
       "                       nan,   3.00000000e-03,   0.00000000e+00],\n",
       "         [             nan,              nan,              nan, ...,\n",
       "                       nan,   3.00000000e-03,   0.00000000e+00],\n",
       "         [             nan,              nan,              nan, ...,\n",
       "                       nan,   3.00000000e-03,   0.00000000e+00],\n",
       "         ..., \n",
       "         [             nan,              nan,              nan, ...,\n",
       "                       nan,   3.00000000e-03,   0.00000000e+00],\n",
       "         [             nan,              nan,              nan, ...,\n",
       "                       nan,   3.00000000e-03,   0.00000000e+00],\n",
       "         [             nan,              nan,              nan, ...,\n",
       "                       nan,   3.00000000e-03,   0.00000000e+00]]],\n",
       "\n",
       "\n",
       "       [[[             nan,              nan,              nan, ...,\n",
       "                       nan,   3.00000000e-03,   0.00000000e+00],\n",
       "         [             nan,              nan,              nan, ...,\n",
       "                       nan,   3.00000000e-03,   0.00000000e+00],\n",
       "         [             nan,              nan,              nan, ...,\n",
       "                       nan,   3.00000000e-03,   0.00000000e+00],\n",
       "         ..., \n",
       "         [             nan,              nan,              nan, ...,\n",
       "                       nan,   3.00000000e-03,   0.00000000e+00],\n",
       "         [             nan,              nan,              nan, ...,\n",
       "                       nan,   3.00000000e-03,   0.00000000e+00],\n",
       "         [             nan,              nan,              nan, ...,\n",
       "                       nan,   3.00000000e-03,   0.00000000e+00]],\n",
       "\n",
       "        [[             nan,              nan,              nan, ...,\n",
       "                       nan,   3.00000000e-03,   0.00000000e+00],\n",
       "         [             nan,              nan,              nan, ...,\n",
       "                       nan,   3.00000000e-03,   0.00000000e+00],\n",
       "         [             nan,              nan,              nan, ...,\n",
       "                       nan,   3.00000000e-03,   0.00000000e+00],\n",
       "         ..., \n",
       "         [             nan,              nan,              nan, ...,\n",
       "                       nan,   3.00000000e-03,   0.00000000e+00],\n",
       "         [             nan,              nan,              nan, ...,\n",
       "                       nan,   3.00000000e-03,   0.00000000e+00],\n",
       "         [             nan,              nan,              nan, ...,\n",
       "                       nan,   3.00000000e-03,   0.00000000e+00]],\n",
       "\n",
       "        [[             nan,              nan,              nan, ...,\n",
       "                       nan,   3.00000000e-03,   0.00000000e+00],\n",
       "         [             nan,              nan,              nan, ...,\n",
       "                       nan,   3.00000000e-03,   0.00000000e+00],\n",
       "         [             nan,              nan,              nan, ...,\n",
       "                       nan,   3.00000000e-03,   0.00000000e+00],\n",
       "         ..., \n",
       "         [             nan,              nan,              nan, ...,\n",
       "                       nan,   3.00000000e-03,   0.00000000e+00],\n",
       "         [             nan,              nan,              nan, ...,\n",
       "                       nan,   3.00000000e-03,   0.00000000e+00],\n",
       "         [             nan,              nan,              nan, ...,\n",
       "                       nan,   3.00000000e-03,   0.00000000e+00]],\n",
       "\n",
       "        ..., \n",
       "        [[ -5.60214914e-06,   2.92131213e-03,   5.40448788e-03, ...,\n",
       "            2.04609236e+00,   7.21999980e-02,   5.11103086e-02],\n",
       "         [  2.89123083e-06,   2.92950222e-03,   5.24916214e-03, ...,\n",
       "            1.92910836e+00,   6.68513994e-02,   6.31210085e-02],\n",
       "         [ -4.00050660e-06,   2.93412097e-03,   5.16156709e-03, ...,\n",
       "            1.86222866e+00,   6.66058859e-02,   7.51317084e-02],\n",
       "         ..., \n",
       "         [ -4.66032625e-07,  -5.14682670e-03,   0.00000000e+00, ...,\n",
       "            3.25888151e+00,   3.00000000e-03,   7.72041492e-03],\n",
       "         [ -1.71503109e-06,  -4.98941632e-03,   0.00000000e+00, ...,\n",
       "            3.30104034e+00,   3.00000000e-03,   7.63833541e-03],\n",
       "         [  3.02934308e-07,  -4.81047676e-03,   0.00000000e+00, ...,\n",
       "            3.34528233e+00,   3.00000000e-03,   7.55625591e-03]],\n",
       "\n",
       "        [[  4.53297189e-06,   2.90750509e-03,   5.39914436e-03, ...,\n",
       "            2.04719337e+00,   7.22627243e-02,   5.11029046e-02],\n",
       "         [ -6.43323709e-06,   2.91366248e-03,   5.24351460e-03, ...,\n",
       "            1.93013489e+00,   6.69349075e-02,   6.31119424e-02],\n",
       "         [  7.23822776e-06,   2.91713481e-03,   5.15575030e-03, ...,\n",
       "            1.86321503e+00,   6.67162329e-02,   7.51209802e-02],\n",
       "         ..., \n",
       "         [  3.03647730e-08,  -6.30436181e-03,   0.00000000e+00, ...,\n",
       "            3.25955311e+00,   3.00000000e-03,   7.72479400e-03],\n",
       "         [  2.50021119e-07,  -6.12259996e-03,   0.00000000e+00, ...,\n",
       "            3.30168960e+00,   3.00000000e-03,   7.64266921e-03],\n",
       "         [  3.80698032e-08,  -5.91550840e-03,   0.00000000e+00, ...,\n",
       "            3.34590718e+00,   3.00000000e-03,   7.56054441e-03]],\n",
       "\n",
       "        [[  4.15738166e-06,   2.89368717e-03,   5.39379663e-03, ...,\n",
       "            2.04829512e+00,   7.23256316e-02,   5.10955006e-02],\n",
       "         [  3.94906969e-06,   2.89781076e-03,   5.23786279e-03, ...,\n",
       "            1.93116208e+00,   6.70186760e-02,   6.31028763e-02],\n",
       "         [ -9.52133308e-07,   2.90013612e-03,   5.14992922e-03, ...,\n",
       "            1.86420200e+00,   6.68269281e-02,   7.51102519e-02],\n",
       "         ..., \n",
       "         [  1.42582212e-06,  -7.62188726e-03,   0.00000000e+00, ...,\n",
       "            3.26022333e+00,   3.00000000e-03,   7.72917308e-03],\n",
       "         [  1.88956423e-06,  -7.41534378e-03,   0.00000000e+00, ...,\n",
       "            3.30233752e+00,   3.00000000e-03,   7.64700300e-03],\n",
       "         [  1.37660951e-06,  -7.17940632e-03,   0.00000000e+00, ...,\n",
       "            3.34653071e+00,   3.00000000e-03,   7.56483292e-03]]]])"
      ]
     },
     "execution_count": 51,
     "metadata": {},
     "output_type": "execute_result"
    }
   ],
   "source": [
    "lut.params()"
   ]
  },
  {
   "cell_type": "code",
   "execution_count": 52,
   "metadata": {},
   "outputs": [],
   "source": [
    "pcoef = lut.norm_par()"
   ]
  },
  {
   "cell_type": "code",
   "execution_count": 55,
   "metadata": {},
   "outputs": [
    {
     "name": "stdout",
     "output_type": "stream",
     "text": [
      "(16,)\n"
     ]
    }
   ],
   "source": [
    "print pcoef['coef'].shape"
   ]
  },
  {
   "cell_type": "code",
   "execution_count": null,
   "metadata": {},
   "outputs": [],
   "source": []
  }
 ],
 "metadata": {
  "kernelspec": {
   "display_name": "Python 2",
   "language": "python",
   "name": "python2"
  },
  "language_info": {
   "codemirror_mode": {
    "name": "ipython",
    "version": 2
   },
   "file_extension": ".py",
   "mimetype": "text/x-python",
   "name": "python",
   "nbconvert_exporter": "python",
   "pygments_lexer": "ipython2",
   "version": "2.7.17"
  },
  "toc": {
   "base_numbering": 1,
   "nav_menu": {},
   "number_sections": true,
   "sideBar": true,
   "skip_h1_title": false,
   "title_cell": "Table of Contents",
   "title_sidebar": "Contents",
   "toc_cell": false,
   "toc_position": {},
   "toc_section_display": true,
   "toc_window_display": false
  }
 },
 "nbformat": 4,
 "nbformat_minor": 1
}
