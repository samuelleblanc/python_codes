{
 "cells": [
  {
   "cell_type": "markdown",
   "metadata": {},
   "source": [
    "Name:  \n",
    "\n",
    "    Run_zen_cld_retrieval\n",
    "\n",
    "Purpose:  \n",
    "\n",
    "    Run the zenith cloud property retrieval on the supplied 4STAR starzen.mat file\n",
    "    Applies the 15 parameters spectral cloud retrieval [LeBlanc et al., 2015, amt]\n",
    "    Run with python code versions of the lut saved to .mat and the starzen created with the matlab codes\n",
    "    Outputs pngs of the plots of the retrieved values\n",
    "\n",
    "Calling Sequence:\n",
    "\n",
    "    python Run_zen_cld_retrieval fp_starzen fp_zencld -o fp_zencld_plots -lut fp_lut_mat\n",
    "    where:\n",
    "        fp_starzen: the full path (with .mat extension) of the starzen file to read\n",
    "        fp_zencld: (optional) the full path of the output file (with .mat extension) of the saved retrieval file\n",
    "                   if omitted, uses the same directory as starzen.mat, but saves file as *_zencld.mat\n",
    "        fp_zencld_plots: (optional) the full path of the directory to save the plots from the retrieval\n",
    "                        if omitted uss the same directory as starzen.matà\n",
    "        fp_lut_mat: (optional) put in a special look up table file path \n",
    "        forceliq: (optional) if set, then retrieval will only use the liquid cloud\n",
    "        plotlut: (optional) if set, then it will create a plot of the lut\n",
    "        makemovie: (optional) if set, then it will create a movie of the measured radiances, normalized,\n",
    "                              and time series of measured radiances, including retrievals \n",
    "        makeslides: (optional) if set, will create a powerpoint slide of the different figures created\n",
    "\n",
    "Input:\n",
    "\n",
    "    See Calling Sequence above.\n",
    "\n",
    "Output:\n",
    "   \n",
    "    Save matlab file of retrieved zenith cloud properties\n",
    "  \n",
    "Keywords:\n",
    "\n",
    "    none\n",
    "  \n",
    "Dependencies:\n",
    "\n",
    "    - numpy\n",
    "    - hdf5storage : for saving and reading\n",
    "    - Run_Libradtran\n",
    "    - os\n",
    "    - sys\n",
    "    - matplotlib\n",
    "    - argparse\n",
    "    - Tkinter (for file open dialogs)\n",
    "    - Sp_parameter\n",
    "    - mpltools for color cycle\n",
    "    - load_utils for mat2py_time and toutc\n",
    "  \n",
    "Needed Files:\n",
    "\n",
    "  - lut .mat file created by Read_save_NAAMES_lut\n",
    "  - starzen.mat file created by the matlab program : starzen.m\n",
    "  \n",
    "Example:\n",
    "\n",
    "    >> python Run_zen_cld_retrieval.py -lut /nobackup/sleblan2/NAAMES/model/v2_NAAMES_lut.mat /nobackup/sleblan2/NAAMES/c130/20151114starzen.mat -o /u/sleblan2/NAAMES/plot/\n",
    "loading file /nobackup/sleblan2/NAAMES/c130/20151114starzen.mat\n",
    "Exception occured: unable to create file (File accessibilty: Unable to open file)\n",
    "Running the parameter calculations on measured spectra\n",
    "Making plots...\n",
    "zenrad... norm zenrad... utc curtain zenrad... utc curtain norm zenrad... curtain zenrad... curtain norm zenrad... Loading the lut file: /nobackup/sleblan2/NAAMES/model/v2_NAAMES_lut.mat\n",
    "Running interpolation on params: [########################################]100% -- Done!\n",
    "Running interpolation on params: [########################################]100% -- Done!\n",
    "Running interpolation on params: [########################################]100% -- Done!\n",
    "Running interpolation on params: [########################################]100% -- Done!\n",
    "Running interpolation on params: [########################################]100% -- Done!\n",
    "Running interpolation on params: [########################################]100% -- Done!\n",
    "Running interpolation on params: [########################################]100% -- Done!\n",
    "Running interpolation on params: [########################################]100% -- Done!\n",
    "Running interpolation on params: [########################################]100% -- Done!\n",
    "Running interpolation on params: [########################################]100% -- Done!\n",
    "Running interpolation on params: [########################################]100% -- Done!\n",
    "Running interpolation on params: [########################################]100% -- Done!\n",
    "Running interpolation on params: [########################################]100% -- Done!\n",
    "Running interpolation on params: [########################################]100% -- Done!\n",
    "Running interpolation on params: [########################################]100% -- Done!\n",
    "Running through the airmasses\n",
    "airmass: 3.2360679775, 11/3\n",
    "['tau', 'verbose', 'sza', 'stdparn', 'par', 'hiresirrad', 'meansp', 'iwvls', 'stdsp', 'ref', 'norm', 'iset', 'parn', 'stdpar', 'reflect', 'isubwvl', 'wvl', 'npar', 'sphires', 'refsp', 'parhires', 'sp', 'irrad', 'tausp']\n",
    "meas.good lengh: (142,),meas.utc length: (850,)\n",
    "In Rk, Measurement space length: (850,)\n",
    "Retrieval progress over times: [########################################]100% -- Done!\n",
    "airmass: 3.42030361983, 12/3\n",
    "['tau', 'verbose', 'sza', 'stdparn', 'par', 'hiresirrad', 'meansp', 'iwvls', 'stdsp', 'ref', 'norm', 'iset', 'parn', 'stdpar', 'reflect', 'isubwvl', 'wvl', 'npar', 'sphires', 'refsp', 'parhires', 'sp', 'irrad', 'tausp']\n",
    "meas.good lengh: (48,),meas.utc length: (850,)\n",
    "In Rk, Measurement space length: (850,)\n",
    "Retrieval progress over times: [########################################]100% -- Done!\n",
    "airmass: 3.86370330516, 14/3\n",
    "['tau', 'verbose', 'sza', 'stdparn', 'par', 'hiresirrad', 'meansp', 'iwvls', 'stdsp', 'ref', 'norm', 'iset', 'parn', 'stdpar', 'reflect', 'isubwvl', 'wvl', 'npar', 'sphires', 'refsp', 'parhires', 'sp', 'irrad', 'tausp']\n",
    "meas.good lengh: (660,),meas.utc length: (850,)\n",
    "In Rk, Measurement space length: (850,)\n",
    "Retrieval progress over times: [########################################]100% -- Done!\n",
    "saving to file: /nobackup/sleblan2/NAAMES/c13020151114_zen_cld_retrieved.mat\n",
    "making the retrieval plots\n",
    "making the retrieval histogram plots\n",
    "making the map\n",
    "\n",
    "History:\n",
    "\n",
    "    Written: Samuel LeBlanc, NASA Ames, 2015-10-26\n",
    "    Modified: Samuel LeBlanc, NASA Ames, 2016-10-06\n",
    "            - added force liquid keyword to call and plot_lut for plotting the lut.\n",
    "            - added making a movie with the results\n",
    "            - added filtering of data prior to ensure good retrievals\n",
    "    Modified: Samuel LeBlanc, NASA Ames, 2016-10-20\n",
    "    Modified: Samuel LeBlanc, Santa Cruz, 2016-11-22\n",
    "            - added keyword for subsetting the hires parameters to a smaller range of ref and tau values defined by user\n",
    "    Modified: Samuel LeBlanc, Mountain View, CA, 2017-02-22\n",
    "            - added index_zout keyword for setting a different zout index used for calculating the lut parameters\n",
    "    Modified: Samuel LeBlanc, Santa Cruz, CA, 2022-10-20\n",
    "            - added keyword to handle SASZe files with 'sky', 'nm', and 'time' values\n",
    "            "
   ]
  },
  {
   "cell_type": "code",
   "execution_count": 3,
   "metadata": {
    "ExecuteTime": {
     "end_time": "2022-10-20T17:25:46.830290Z",
     "start_time": "2022-10-20T17:25:46.824106Z"
    }
   },
   "outputs": [],
   "source": [
    "import argparse"
   ]
  },
  {
   "cell_type": "markdown",
   "metadata": {},
   "source": [
    "## Prepare command line argument parser"
   ]
  },
  {
   "cell_type": "code",
   "execution_count": 4,
   "metadata": {
    "ExecuteTime": {
     "end_time": "2022-10-20T17:25:47.845086Z",
     "start_time": "2022-10-20T17:25:47.839586Z"
    }
   },
   "outputs": [],
   "source": [
    "long_description = \"\"\"    Run the zenith cloud property retrieval on the supplied 4STAR starzen.mat file\n",
    "    Applies the 15 parameters spectral cloud retrieval [LeBlanc et al., 2015, amt]\n",
    "    Run with python code versions of the lut saved to .mat and the starzen created with the matlab codes\n",
    "    Outputs pngs of the plots of the retrieved values\"\"\""
   ]
  },
  {
   "cell_type": "code",
   "execution_count": 5,
   "metadata": {
    "ExecuteTime": {
     "end_time": "2022-10-20T17:25:48.292664Z",
     "start_time": "2022-10-20T17:25:48.255223Z"
    }
   },
   "outputs": [
    {
     "data": {
      "text/plain": [
       "_StoreTrueAction(option_strings=['-sas', '--sas'], dest='sas', nargs=0, const=True, default=False, type=None, choices=None, help='if set, will use the SaS-Ze matlab files provided by Connor Flynn', metavar=None)"
      ]
     },
     "execution_count": 5,
     "metadata": {},
     "output_type": "execute_result"
    }
   ],
   "source": [
    "parser = argparse.ArgumentParser(description=long_description)\n",
    "parser.add_argument('fp_starzen',nargs='?',help='the full path (with .mat extension) of the starzen file to read')\n",
    "parser.add_argument('fp_zencld',nargs='?',\n",
    "                    help='''(optional) the full path of the output file (with .mat extension) of the saved retrieval file\n",
    "                   if omitted, uses the same directory as starzen.mat, but saves file as *_zencld.mat''')\n",
    "parser.add_argument('-o','--fp_zencld_plot',nargs='?',\n",
    "                    help=\"\"\"(optional) the full path of the directory to save the plots from the retrieval\n",
    "                        if omitted uss the same directory as starzen.mat\"\"\")\n",
    "parser.add_argument('-lut','--fp_lut_mat',nargs='?',help='Put in special look up table file path')\n",
    "parser.add_argument('-f',nargs='?',help='not used')\n",
    "parser.add_argument('-n','--noplot',help='if set, will not output plots',action='store_true')\n",
    "parser.add_argument('-liq','--forceliq',help='if set, will force to only use liquid cloud lut',action='store_true')\n",
    "parser.add_argument('-ice','--forceice',help='if set, will force to only use ice cloud lut',action='store_true')\n",
    "parser.add_argument('-plotlut','--plotlut',help='if set, will plot the look up table',action='store_true')\n",
    "parser.add_argument('-movie','--makemovie',help='if set, will create a movie of the measurements and retrievals',\n",
    "                    action='store_true')\n",
    "parser.add_argument('-slides','--makeslides',help='if set, will create a powerpoint of figures created',\n",
    "                    action='store_true')\n",
    "parser.add_argument('-noflt','--nofilter',help='if set, will not filter out bad measurements',\n",
    "                    action='store_true')\n",
    "parser.add_argument('-noretr','--noretrieval',help='if set, will not run the retrieval, only for debugging and plotting',\n",
    "                    action='store_true')\n",
    "parser.add_argument('-db','--debug',help='if set, turn on debug comments and set_trace() at a few locations',\n",
    "                    action='store_true')\n",
    "parser.add_argument('-refrange','--refrange',help='Sets the range of effective radius to be used in the lut [start end]',\n",
    "                    nargs=2,type=float)\n",
    "parser.add_argument('-taurange','--taurange',help='Sets the range of optical depth to be used in the lut [start end]',\n",
    "                    nargs=2,type=float)\n",
    "parser.add_argument('-iz','--index_zout',help='Sets the index of the zout to use for building the lut. Default is 0',\n",
    "                    type=int)\n",
    "parser.add_argument('-sas','--sas',help='if set, will use the SaS-Ze matlab files provided by Connor Flynn',action='store_true')"
   ]
  },
  {
   "cell_type": "code",
   "execution_count": 2,
   "metadata": {
    "ExecuteTime": {
     "end_time": "2022-10-20T17:25:43.795094Z",
     "start_time": "2022-10-20T17:25:43.757472Z"
    }
   },
   "outputs": [
    {
     "ename": "NameError",
     "evalue": "name 'parser' is not defined",
     "output_type": "error",
     "traceback": [
      "\u001b[0;31m\u001b[0m",
      "\u001b[0;31mNameError\u001b[0mTraceback (most recent call last)",
      "\u001b[0;32m<ipython-input-2-99ce861248a1>\u001b[0m in \u001b[0;36m<module>\u001b[0;34m()\u001b[0m\n\u001b[0;32m----> 1\u001b[0;31m \u001b[0min_\u001b[0m \u001b[0;34m=\u001b[0m \u001b[0mvars\u001b[0m\u001b[0;34m(\u001b[0m\u001b[0mparser\u001b[0m\u001b[0;34m.\u001b[0m\u001b[0mparse_args\u001b[0m\u001b[0;34m(\u001b[0m\u001b[0;34m)\u001b[0m\u001b[0;34m)\u001b[0m\u001b[0;34m\u001b[0m\u001b[0m\n\u001b[0m",
      "\u001b[0;31mNameError\u001b[0m: name 'parser' is not defined"
     ]
    }
   ],
   "source": [
    "in_ = vars(parser.parse_args())"
   ]
  },
  {
   "cell_type": "markdown",
   "metadata": {},
   "source": [
    "## Import rest of needed modules"
   ]
  },
  {
   "cell_type": "code",
   "execution_count": null,
   "metadata": {
    "collapsed": true
   },
   "outputs": [],
   "source": [
    "import sys\n",
    "import os\n",
    "import matplotlib.pyplot as plt\n",
    "import Run_libradtran as RL\n",
    "import hdf5storage as hs\n",
    "import numpy as np\n",
    "from load_utils import mat2py_time, toutc\n",
    "import Sp_parameters as Sp\n",
    "from mpltools import color\n",
    "import scipy.io as sio\n",
    "import run_kisq_retrieval as rk\n",
    "try:\n",
    "    from mpl_toolkits.basemap import Basemap\n",
    "    isbasemap = True\n",
    "except:\n",
    "    isbasemap = False\n",
    "try:\n",
    "    import warnings\n",
    "    warnings.simplefilter(action = \"ignore\", category = FutureWarning)\n",
    "except:\n",
    "    pass"
   ]
  },
  {
   "cell_type": "markdown",
   "metadata": {},
   "source": [
    "## Parse command line and get appropriate paths"
   ]
  },
  {
   "cell_type": "code",
   "execution_count": 74,
   "metadata": {},
   "outputs": [
    {
     "name": "stdout",
     "output_type": "stream",
     "text": [
      "Using interactive version hard coded fp_starzen\n",
      "C:\\Users\\sleblan2\\Research\\4STAR\\SEAC4RS\\20130913\\20130913starzen_3.mat\n"
     ]
    }
   ],
   "source": [
    "if in_['f']:\n",
    "    print 'Using interactive version hard coded fp_starzen'\n",
    "    if os.sys.platform == 'win32':\n",
    "        fp = 'C:\\\\Users\\\\sleblan2\\\\Research\\\\SEAC4RS\\\\'\n",
    "    elif os.sys.platform == 'linux2':\n",
    "        fp = '/u/sleblan2/SEAC4RS/'\n",
    "    else:\n",
    "        raise Exception\n",
    "    fp_starzen = os.path.abspath(fp+'../4STAR/SEAC4RS/20130913/20130913starzen_3.mat')\n",
    "    print fp_starzen\n",
    "else:\n",
    "    if not in_.get('fp_starzen'):\n",
    "        from Tkinter import Tk\n",
    "        from tkFileDialog import asksaveasfilename\n",
    "        Tk().withdraw() # we don't want a full GUI, so keep the root window from appearing\n",
    "        filename = asksaveasfilename(defaultextension='*.mat',filetypes=[('mat file','*.mat'),('All files','*.*')]) \n",
    "        # show an \"Open\" dialog box and return the path to the selected file\n",
    "        fp_starzen = os.path.abspath(filename)\n",
    "    else:\n",
    "        fp_starzen = in_.get('fp_starzen')"
   ]
  },
  {
   "cell_type": "code",
   "execution_count": 75,
   "metadata": {
    "collapsed": true
   },
   "outputs": [],
   "source": [
    "fp,fname = os.path.split(fp_starzen)\n",
    "if fname[0:5]=='4STAR':\n",
    "    datestr = fname[6:14]\n",
    "else:\n",
    "    datestr = fname[0:8]"
   ]
  },
  {
   "cell_type": "code",
   "execution_count": 76,
   "metadata": {
    "collapsed": true
   },
   "outputs": [],
   "source": [
    "if in_.get('fp_zencld'):\n",
    "    fp_zencld = in_.get('fp_zencld')\n",
    "else:\n",
    "    fp_zencld = fp+'{datestr}_zencld.mat'.format(datestr=datestr)"
   ]
  },
  {
   "cell_type": "code",
   "execution_count": 77,
   "metadata": {
    "collapsed": true
   },
   "outputs": [],
   "source": [
    "if in_.get('fp_zencld_plot'):\n",
    "    fp_zencld_plot = in_.get('fp_zencld_plot')\n",
    "else:\n",
    "    fp_zencld = fp"
   ]
  },
  {
   "cell_type": "code",
   "execution_count": 93,
   "metadata": {
    "collapsed": true
   },
   "outputs": [],
   "source": [
    "if in_.get('fp_lut_mat'):\n",
    "    fp_lut_mat = in_.get('fp_lut_mat')\n",
    "else:\n",
    "    fp_lut_mat = fp+os.path.sep+'v2_NAAMES_lut.mat'"
   ]
  },
  {
   "cell_type": "code",
   "execution_count": null,
   "metadata": {
    "collapsed": true
   },
   "outputs": [],
   "source": [
    "if in_.get('noplot'):\n",
    "    noplot = True\n",
    "else:\n",
    "    noplot = False"
   ]
  },
  {
   "cell_type": "code",
   "execution_count": null,
   "metadata": {
    "collapsed": true
   },
   "outputs": [],
   "source": [
    "if in_.get('forceliq'):\n",
    "    forceliq = True\n",
    "    print 'Force liquid cloud'\n",
    "else:\n",
    "    forceliq = False"
   ]
  },
  {
   "cell_type": "code",
   "execution_count": null,
   "metadata": {
    "collapsed": true
   },
   "outputs": [],
   "source": [
    "if in_.get('forceice'):\n",
    "    forceice = True\n",
    "    print 'Force Ice cloud'\n",
    "else:\n",
    "    forceice = False"
   ]
  },
  {
   "cell_type": "code",
   "execution_count": null,
   "metadata": {
    "collapsed": true
   },
   "outputs": [],
   "source": [
    "iz = in_.get('index_zout',0)\n",
    "if in_.get('index_zout'):\n",
    "    iz = in_.get('index_zout')\n",
    "else:\n",
    "    iz = 0\n",
    "print 'Z level index set at:  {}'.format(iz)"
   ]
  },
  {
   "cell_type": "code",
   "execution_count": null,
   "metadata": {
    "collapsed": true
   },
   "outputs": [],
   "source": [
    "plot_lut = in_.get('plotlut',False)\n",
    "make_movie = in_.get('makemovie',False)\n",
    "no_filter = in_.get('nofilter',False)\n",
    "debug = in_.get('debug',False)\n",
    "make_slides = in_.get('makeslides',False)\n",
    "refrange = in_.get('refrange')\n",
    "taurange = in_.get('taurange')\n",
    "use_sas = in_.get('sas',False)"
   ]
  },
  {
   "cell_type": "code",
   "execution_count": null,
   "metadata": {
    "collapsed": true
   },
   "outputs": [],
   "source": [
    "if refrange:\n",
    "    start_ref = refrange[0]\n",
    "    end_ref = refrange[1]\n",
    "else:\n",
    "    start_ref,end_ref = None,None\n",
    "if taurange:\n",
    "    start_tau = taurange[0]\n",
    "    end_tau = taurange[1]\n",
    "else:\n",
    "    start_tau,end_tau = None,None"
   ]
  },
  {
   "cell_type": "markdown",
   "metadata": {},
   "source": [
    "# Load starzen files and the look up table"
   ]
  },
  {
   "cell_type": "code",
   "execution_count": 79,
   "metadata": {
    "collapsed": true
   },
   "outputs": [],
   "source": [
    "if not os.path.isfile(fp_starzen):\n",
    "    raise IOError('file {} is not found'.format(fp_starzen))"
   ]
  },
  {
   "cell_type": "code",
   "execution_count": null,
   "metadata": {
    "collapsed": true
   },
   "outputs": [],
   "source": [
    "print 'loading file {}'.format(fp_starzen)"
   ]
  },
  {
   "cell_type": "code",
   "execution_count": null,
   "metadata": {
    "collapsed": true
   },
   "outputs": [],
   "source": [
    "try:\n",
    "    mea = hs.loadmat(fp_starzen)\n",
    "except Exception as ei:\n",
    "    if debug: print 'Exception occured: {}'.format(ei)\n",
    "    mea = sio.loadmat(fp_starzen)"
   ]
  },
  {
   "cell_type": "code",
   "execution_count": 7,
   "metadata": {
    "ExecuteTime": {
     "end_time": "2022-10-20T19:21:13.300877Z",
     "start_time": "2022-10-20T19:21:13.272825Z"
    }
   },
   "outputs": [
    {
     "ename": "NameError",
     "evalue": "name 'use_sas' is not defined",
     "output_type": "error",
     "traceback": [
      "\u001b[0;31m\u001b[0m",
      "\u001b[0;31mNameError\u001b[0mTraceback (most recent call last)",
      "\u001b[0;32m<ipython-input-7-49d75bee6e5e>\u001b[0m in \u001b[0;36m<module>\u001b[0;34m()\u001b[0m\n\u001b[0;32m----> 1\u001b[0;31m \u001b[0;32mif\u001b[0m \u001b[0muse_sas\u001b[0m\u001b[0;34m:\u001b[0m\u001b[0;34m\u001b[0m\u001b[0m\n\u001b[0m\u001b[1;32m      2\u001b[0m     \u001b[0;32mfrom\u001b[0m \u001b[0mmap_utils\u001b[0m \u001b[0;32mimport\u001b[0m \u001b[0mget_sza_azi\u001b[0m\u001b[0;34m\u001b[0m\u001b[0m\n\u001b[1;32m      3\u001b[0m     \u001b[0mtt\u001b[0m \u001b[0;34m=\u001b[0m \u001b[0mmat2py_time\u001b[0m\u001b[0;34m(\u001b[0m\u001b[0mmea\u001b[0m\u001b[0;34m[\u001b[0m\u001b[0;34m'time'\u001b[0m\u001b[0;34m]\u001b[0m\u001b[0;34m[\u001b[0m\u001b[0;36m0\u001b[0m\u001b[0;34m,\u001b[0m\u001b[0;34m:\u001b[0m\u001b[0;34m]\u001b[0m\u001b[0;34m)\u001b[0m\u001b[0;34m\u001b[0m\u001b[0m\n\u001b[1;32m      4\u001b[0m     \u001b[0mmea\u001b[0m\u001b[0;34m[\u001b[0m\u001b[0;34m'rad'\u001b[0m\u001b[0;34m]\u001b[0m \u001b[0;34m=\u001b[0m \u001b[0mmea\u001b[0m\u001b[0;34m[\u001b[0m\u001b[0;34m'sky'\u001b[0m\u001b[0;34m]\u001b[0m\u001b[0;34m.\u001b[0m\u001b[0mT\u001b[0m\u001b[0;34m\u001b[0m\u001b[0m\n\u001b[1;32m      5\u001b[0m     \u001b[0mmea\u001b[0m\u001b[0;34m[\u001b[0m\u001b[0;34m'lat'\u001b[0m\u001b[0;34m]\u001b[0m \u001b[0;34m=\u001b[0m \u001b[0mnp\u001b[0m\u001b[0;34m.\u001b[0m\u001b[0mzeros_like\u001b[0m\u001b[0;34m(\u001b[0m\u001b[0mtt\u001b[0m\u001b[0;34m)\u001b[0m\u001b[0;34m+\u001b[0m\u001b[0;36m36.607322\u001b[0m \u001b[0;31m#SGP C1 latitute\u001b[0m\u001b[0;34m\u001b[0m\u001b[0m\n",
      "\u001b[0;31mNameError\u001b[0m: name 'use_sas' is not defined"
     ]
    }
   ],
   "source": [
    "if use_sas:\n",
    "    from map_utils import get_sza_azi\n",
    "    tt = mat2py_time(mea['time'][0,:])\n",
    "    mea['rad'] = mea['sky'].T\n",
    "    mea['Lat'] = np.zeros_like(tt)+36.607322 #SGP C1 latitute\n",
    "    mea['Lon'] = np.zeros_like(tt)-97.487643 #SGP C1 longitute\n",
    "    mea['Alt'] = np.zeros_like(tt)+314.0     #SGP C1 surface Altitute\n",
    "    sza_nul,azi_nul = get_sza_azi(mea['Lat'],mea['Lon'],tt,alt=mea['Alt'][0])\n",
    "    mea['sza'] = np.array(sza_nul)\n",
    "else:\n",
    "    tt = mat2py_time(mea['t'])\n",
    "mea['utc'] = toutc(tt)"
   ]
  },
  {
   "cell_type": "code",
   "execution_count": null,
   "metadata": {
    "collapsed": true
   },
   "outputs": [],
   "source": [
    "print 'Running the parameter calculations on measured spectra'\n",
    "meas = Sp.Sp(mea,verbose=False)\n",
    "meas.params()"
   ]
  },
  {
   "cell_type": "markdown",
   "metadata": {},
   "source": [
    "### plot out the different spectra"
   ]
  },
  {
   "cell_type": "code",
   "execution_count": null,
   "metadata": {
    "collapsed": true
   },
   "outputs": [],
   "source": [
    "if not noplot:\n",
    "    print('Making plots...')\n",
    "    fig1 = Sp.plt_zenrad(meas)\n",
    "    fig1.savefig(fp_zencld_plot+'{datestr}_zenrad.png'.format(datestr=datestr),\n",
    "                 dpi=600,transparent=True)\n",
    "    print('zenrad...'),\n",
    "\n",
    "    fig1n = Sp.plt_norm_zenrad(meas)\n",
    "    fig1n.savefig(fp_zencld_plot+'{datestr}_norm_zenrad.png'.format(datestr=datestr),\n",
    "                  dpi=600,transparent=True)\n",
    "    print('norm zenrad...'),\n",
    "\n",
    "    fig2 = Sp.curtain_zenrad(meas,utc=True)\n",
    "    fig2.savefig(fp_zencld_plot+'{datestr}_curtain_utc_zenrad.png'.format(datestr=datestr),\n",
    "                 dpi=600,transparent=True)\n",
    "    print('utc curtain zenrad...'),\n",
    "\n",
    "    fig2n = Sp.curtain_norm_zenrad(meas,utc=True)\n",
    "    fig2n.savefig(fp_zencld_plot+'{datestr}_curtain_utc_norm_zenrad.png'.format(datestr=datestr),\n",
    "                  dpi=600,transparent=True)\n",
    "    print('utc curtain norm zenrad...'),\n",
    "\n",
    "    fig3 = Sp.curtain_zenrad(meas,utc=False)\n",
    "    fig3.savefig(fp_zencld_plot+'{datestr}_curtain_zenrad.png'.format(datestr=datestr),\n",
    "                 dpi=600,transparent=True)\n",
    "    print('curtain zenrad...'),\n",
    "\n",
    "    fig3n = Sp.curtain_norm_zenrad(meas,utc=False)\n",
    "    fig3n.savefig(fp_zencld_plot+'{datestr}_curtain_norm_zenrad.png'.format(datestr=datestr),\n",
    "                  dpi=600,transparent=True)\n",
    "    print('curtain norm zenrad...'),"
   ]
  },
  {
   "cell_type": "markdown",
   "metadata": {},
   "source": [
    "### Load the lut file"
   ]
  },
  {
   "cell_type": "code",
   "execution_count": 90,
   "metadata": {},
   "outputs": [
    {
     "name": "stdout",
     "output_type": "stream",
     "text": [
      "Loading the lut file:C:\\Users\\sleblan2\\Research\\4STAR\\SEAC4RS\\20130913v2_NAAMES_lut.mat\n"
     ]
    }
   ],
   "source": [
    "print('Loading the lut file:{}'.format(fp_lut_mat))\n",
    "if not os.path.isfile(fp_lut_mat):\n",
    "    print('File {} does not exist'.format(fp_lut_mat))\n",
    "    raise IOError('LUT File not found: {}'.format(fp_lut_mat))\n",
    "try:\n",
    "    luts = hs.loadmat(fp_lut_mat)\n",
    "except Exception as ei:\n",
    "    if debug: print 'Exception occured when loading lut : {} *** Trying second method'.format(ei)\n",
    "    luts = sio.loadmat(fp_lut_mat)"
   ]
  },
  {
   "cell_type": "markdown",
   "metadata": {},
   "source": [
    "### run through the lut for each sza/airmass and create the lut params in hires"
   ]
  },
  {
   "cell_type": "code",
   "execution_count": null,
   "metadata": {},
   "outputs": [],
   "source": [
    "if in_.get('noretrieval',False):\n",
    "    print('***Exiting without running retrieval***')\n",
    "    quit()"
   ]
  },
  {
   "cell_type": "code",
   "execution_count": null,
   "metadata": {
    "collapsed": true
   },
   "outputs": [],
   "source": [
    "airmass = 1./np.cos(luts['sza']*np.pi/180.0)"
   ]
  },
  {
   "cell_type": "code",
   "execution_count": null,
   "metadata": {
    "collapsed": true
   },
   "outputs": [],
   "source": [
    "meas.airmass = 1.0/np.cos(meas.sza*np.pi/180.0)\n",
    "if len(airmass) > 1:\n",
    "    idx = Sp.find_closest(airmass,meas.airmass)\n",
    "else: \n",
    "    print '*** There is only one airmass in the lut: Using {} ***'.format(airmass)\n",
    "    idx = np.zeros_like(meas.airmass,dtype=np.int)"
   ]
  },
  {
   "cell_type": "code",
   "execution_count": null,
   "metadata": {
    "collapsed": true
   },
   "outputs": [],
   "source": [
    "lut = []"
   ]
  },
  {
   "cell_type": "code",
   "execution_count": null,
   "metadata": {
    "collapsed": true
   },
   "outputs": [],
   "source": [
    "for s in xrange(len(luts['sza'])):\n",
    "    sptemp = {}\n",
    "    sptemp['tau'] = luts['tau']\n",
    "    sptemp['ref'] = luts['ref']\n",
    "    sptemp['zout'] = luts['zout']\n",
    "    sptemp['sza'] = luts['sza']\n",
    "    sptemp['phase'] = luts['phase']\n",
    "    sptemp['irr_dn_diff'] = luts['irr_dn_diff'][:,:,:,:,:,s]\n",
    "    sptemp['irr_dn'] = luts['irr_dn'][:,:,:,:,:,s]\n",
    "    sptemp['irr_up'] = luts['irr_up'][:,:,:,:,:,s]\n",
    "    sptemp['wvl'] = [luts['wvl']]\n",
    "    sptemp['rad'] = luts['rad'][:,:,:,:,:,s]\n",
    "    ltemp = Sp.Sp(sptemp,verbose=False)\n",
    "    if s in idx:\n",
    "        ltemp.params(liq_only=forceliq,ice_only=forceice,iz=iz)\n",
    "        ltemp.param_hires(start_ref=start_ref,end_ref=end_ref,start_tau=start_tau,end_tau=end_tau)\n",
    "    lut.append(ltemp)"
   ]
  },
  {
   "cell_type": "markdown",
   "metadata": {},
   "source": [
    "## Define the good points and start doing the retrieval"
   ]
  },
  {
   "cell_type": "code",
   "execution_count": null,
   "metadata": {
    "collapsed": true
   },
   "outputs": [],
   "source": [
    "meas.airmass = 1.0/np.cos(meas.sza*np.pi/180.0)\n",
    "if len(airmass) > 1:\n",
    "    idx = Sp.find_closest(airmass,meas.airmass)\n",
    "else: \n",
    "    print '*** There is only one airmass in the lut: Using {} ***'.format(airmass)\n",
    "    idx = np.zeros_like(meas.airmass,dtype=np.int)"
   ]
  },
  {
   "cell_type": "code",
   "execution_count": null,
   "metadata": {
    "collapsed": true
   },
   "outputs": [],
   "source": [
    "(meas.taut,meas.ref,meas.phase,meas.ki) = (np.zeros_like(meas.utc),np.zeros_like(meas.utc),np.zeros_like(meas.utc),np.zeros_like(meas.utc))"
   ]
  },
  {
   "cell_type": "code",
   "execution_count": null,
   "metadata": {
    "collapsed": true
   },
   "outputs": [],
   "source": [
    "(meas.taut,meas.ref,meas.phase,meas.ki) = (meas.taut*np.nan,meas.ref*np.nan,meas.phase*np.nan,meas.ki*np.nan)"
   ]
  },
  {
   "cell_type": "code",
   "execution_count": null,
   "metadata": {
    "collapsed": true
   },
   "outputs": [],
   "source": [
    "print 'Running through the airmasses'\n",
    "for i in np.unique(idx):\n",
    "    try: \n",
    "        print 'airmass: {airmass}, {i}/{i_tot}'.format(airmass=airmass[i],i=i,i_tot=idx.max()-idx.min())\n",
    "    except:\n",
    "        if debug:\n",
    "            import pdb; pdb.set_trace()\n",
    "        else: \n",
    "            print 'Exception occurred at airmass: {} *** skipping'.format(airmass[i])\n",
    "    meas.good = np.where(idx==i)[0]\n",
    "    if not no_filter:\n",
    "        i500 = np.argmin(abs(meas.wvl-500))\n",
    "        #i980,i995 = np.argmin(abs(meas.wvl-980)),np.argmin(abs(meas.wvl-995))\n",
    "        #i999,i992 = np.argmin(abs(meas.wvl-999)),np.argmin(abs(meas.wvl-992))\n",
    "        i981,i982 = 1039,1040\n",
    "        #ss = np.nanstd(meas.norm[meas.good,i980:i995],axis=1)/np.nanmean(meas.norm[meas.good,i980:i995],axis=1)\n",
    "        sss = abs(meas.norm[meas.good,i981]-meas.norm[meas.good,i982])\n",
    "        #flt = (meas.norm[meas.good,i500]>0.4) & (ss<0.05)\n",
    "        flt = sss<0.1 #(meas.norm[meas.good,i500]>0.4) & (sss<0.1)\n",
    "        #import pdb; pdb.set_trace()\n",
    "        meas.good = meas.good[flt]\n",
    "    if debug:\n",
    "        try:\n",
    "            print lut[i].__dict__.keys()\n",
    "        except Exception as ei:\n",
    "            print 'exception: {}'.format(ei)\n",
    "            import pdb; pdb.set_trace()\n",
    "    print 'meas.good lengh: {},meas.utc length: {}'.format(meas.good.shape,meas.utc.shape)\n",
    "    tau,ref,phase,ki = rk.run_retrieval(meas,lut[i],force_liq=forceliq,force_ice=forceice)\n",
    "    meas.taut[meas.good] = tau[meas.good]\n",
    "    meas.ref[meas.good] = ref[meas.good]\n",
    "    meas.phase[meas.good] = phase[meas.good]\n",
    "    meas.ki[meas.good] = ki[meas.good]"
   ]
  },
  {
   "cell_type": "code",
   "execution_count": null,
   "metadata": {
    "collapsed": true
   },
   "outputs": [],
   "source": [
    "meas.tau = meas.taut"
   ]
  },
  {
   "cell_type": "markdown",
   "metadata": {},
   "source": [
    "## Save the retrieval results"
   ]
  },
  {
   "cell_type": "code",
   "execution_count": null,
   "metadata": {
    "collapsed": true
   },
   "outputs": [],
   "source": [
    "mdict = {'tau':meas.tau,'ref':meas.ref,'phase':meas.phase,'ki':meas.ki,\n",
    "         'utc':meas.utc,'sza':meas.sza,'lat':meas.lat,'lon':meas.lon,'alt':meas.alt}"
   ]
  },
  {
   "cell_type": "code",
   "execution_count": null,
   "metadata": {
    "collapsed": true
   },
   "outputs": [],
   "source": [
    "fp_out = os.path.join(fp,'{datestr}_zen_cld_retrieved.mat'.format(datestr=datestr))\n",
    "print 'saving to file: {fp_out}'.format(fp_out=fp_out)\n",
    "hs.savemat(fp_out,mdict)"
   ]
  },
  {
   "cell_type": "markdown",
   "metadata": {},
   "source": [
    "## Make output plots"
   ]
  },
  {
   "cell_type": "code",
   "execution_count": null,
   "metadata": {
    "collapsed": true
   },
   "outputs": [],
   "source": [
    "if not noplot:\n",
    "    print 'making the retrieval plots'\n",
    "    figz = Sp.plot_zen_cld_retrieval(meas)\n",
    "    figz.savefig(fp_zencld_plot+'{datestr}_retrieval_out.png'.format(datestr=datestr),dpi=600,transparent=True)"
   ]
  },
  {
   "cell_type": "code",
   "execution_count": null,
   "metadata": {
    "collapsed": true
   },
   "outputs": [],
   "source": [
    "if not noplot:\n",
    "    print 'making the retrieval histogram plots'\n",
    "    figh = Sp.plot_hist_cld_retrieval(meas)\n",
    "    figh.savefig(fp_zencld_plot+'{datestr}_retrieval_hist_out.png'.format(datestr=datestr),dpi=600,transparent=True)"
   ]
  },
  {
   "cell_type": "code",
   "execution_count": null,
   "metadata": {
    "collapsed": true
   },
   "outputs": [],
   "source": [
    "if not noplot:\n",
    "    print 'making the map'\n",
    "    figm = Sp.plot_map_cld_retrieval(meas)\n",
    "    figm.savefig(fp_zencld_plot+'{datestr}_map_retr_zencld.png'.format(datestr=datestr),dpi=600,transparent=True)"
   ]
  },
  {
   "cell_type": "code",
   "execution_count": null,
   "metadata": {
    "collapsed": true
   },
   "outputs": [],
   "source": [
    "if plot_lut:\n",
    "    print 'making the lut plots'\n",
    "    for i,ll in enumerate(lut):\n",
    "        if len(lut[i].par)>4:\n",
    "            continue\n",
    "        if not i in np.unique(idx):\n",
    "            continue\n",
    "        try: \n",
    "            figl,axl = Sp.plot_lut_vs_tau(lut[i],forceliq=forceliq,forceice=forceice)\n",
    "            figl.savefig(fp_zencld_plot+'{datestr}_lut_only_sza_{sza:02.1f}.png'.format(datestr=datestr,sza=ll['sza'][i]),\n",
    "                         dpi=600,transparent=True)\n",
    "        except:\n",
    "            print '*** Problem with plotting of sza:{sza:02.1f}'.format(sza=ll['sza'][i])\n",
    "            if debug:\n",
    "                import pdb; pdb.set_trace()\n",
    "        try:\n",
    "            ik = (idx==np.int32(i))\n",
    "            npar = len(meas.par[0,:])-1\n",
    "            if ik.any():\n",
    "                for ai,ax in enumerate(axl[0:npar]):\n",
    "                    try:\n",
    "                        ax.scatter(meas.tau[ik[:,0]],meas.par[ik[:,0],ai],marker='x',zorder=200,color='k')\n",
    "                    except:\n",
    "                        print '** problem inside multiple'\n",
    "                        if debug:\n",
    "                            import pdb; pdb.set_trace()\n",
    "\n",
    "                figl.savefig(fp_zencld_plot+'{datestr}_lut_with_data_sza_{sza:02.1f}.png'.format(\n",
    "                        datestr=datestr,sza=ll['sza'][i]),\n",
    "                             dpi=600,transparent=True)\n",
    "        except:\n",
    "            print '*** Problem with plotting values on top of lut of sza:{sza:02.1f}'.format(sza=ll['sza'][i])\n",
    "            if debug:\n",
    "                import pdb; pdb.set_trace()"
   ]
  },
  {
   "cell_type": "code",
   "execution_count": null,
   "metadata": {
    "collapsed": true
   },
   "outputs": [],
   "source": [
    "if make_movie:\n",
    "    print 'Making the movie of measurement and retrievals'\n",
    "    Sp.plot_sp_movie(meas,fp_zencld_plot,gif=False)"
   ]
  },
  {
   "cell_type": "code",
   "execution_count": null,
   "metadata": {
    "collapsed": true
   },
   "outputs": [],
   "source": [
    "if make_slides:\n",
    "    print 'Making the powerpoint slides of the figures'\n",
    "    from plotting_utils import make_pptx\n",
    "    make_pptx(fp_zencld_plot,'Cloud retrievals {}'.format(datestr),title='4STAR Zenith Cloud retrievals for {}'.format(datestr),\n",
    "              glob_pattern='*{}_????[!only]*?.png'.format(datestr))"
   ]
  }
 ],
 "metadata": {
  "kernelspec": {
   "display_name": "Python 2",
   "language": "python",
   "name": "python2"
  },
  "language_info": {
   "codemirror_mode": {
    "name": "ipython",
    "version": 2
   },
   "file_extension": ".py",
   "mimetype": "text/x-python",
   "name": "python",
   "nbconvert_exporter": "python",
   "pygments_lexer": "ipython2",
   "version": "2.7.18"
  },
  "toc": {
   "base_numbering": 1,
   "nav_menu": {},
   "number_sections": true,
   "sideBar": false,
   "skip_h1_title": false,
   "title_cell": "Table of Contents",
   "title_sidebar": "Contents",
   "toc_cell": false,
   "toc_position": {},
   "toc_section_display": "block",
   "toc_window_display": false
  },
  "varInspector": {
   "cols": {
    "lenName": 16,
    "lenType": 16,
    "lenVar": 40
   },
   "kernels_config": {
    "python": {
     "delete_cmd_postfix": "",
     "delete_cmd_prefix": "del ",
     "library": "var_list.py",
     "varRefreshCmd": "print(var_dic_list())"
    },
    "r": {
     "delete_cmd_postfix": ") ",
     "delete_cmd_prefix": "rm(",
     "library": "var_list.r",
     "varRefreshCmd": "cat(var_dic_list()) "
    }
   },
   "types_to_exclude": [
    "module",
    "function",
    "builtin_function_or_method",
    "instance",
    "_Feature"
   ],
   "window_display": false
  }
 },
 "nbformat": 4,
 "nbformat_minor": 1
}
