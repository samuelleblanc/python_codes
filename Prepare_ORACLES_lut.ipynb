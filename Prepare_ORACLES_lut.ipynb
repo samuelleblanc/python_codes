{
 "cells": [
  {
   "cell_type": "markdown",
   "metadata": {},
   "source": [
    "# Info\n",
    "Name:  \n",
    "\n",
    "    Prepare_ORACLES_lut\n",
    "\n",
    "Purpose:  \n",
    "\n",
    "    Create the input libradtran files for creating a lut of low clouds with aerosol on top to be used in ORACLES operational cloud retrievals\n",
    "\n",
    "Calling Sequence:\n",
    "\n",
    "    python Prepare_ORACLES_lut\n",
    "  \n",
    "Input:\n",
    "\n",
    "    none\n",
    "\n",
    "Output:\n",
    "   \n",
    "    input files for libradtran 2.0 (uvspec) \n",
    "  \n",
    "Keywords:\n",
    "\n",
    "    none\n",
    "  \n",
    "Dependencies:\n",
    "\n",
    "    - numpy\n",
    "    - scipy : for saving and reading\n",
    "    - mplt_toolkits for basemap, map plotting\n",
    "    - pdb\n",
    "    - datetime\n",
    "\n",
    "  \n",
    "Needed Files:\n",
    "\n",
    "  - ...\n",
    "    \n",
    "History:\n",
    "\n",
    "    Written: Samuel LeBlanc,Swakopmund, Namibia, 2016-09-01\n",
    "             based on Prepare_NAAMES_lut\n",
    "    "
   ]
  },
  {
   "cell_type": "markdown",
   "metadata": {},
   "source": [
    "# Prepare the python environment"
   ]
  },
  {
   "cell_type": "code",
   "execution_count": 1,
   "metadata": {
    "ExecuteTime": {
     "end_time": "2022-03-16T18:13:16.339809Z",
     "start_time": "2022-03-16T18:13:16.157833Z"
    }
   },
   "outputs": [
    {
     "data": {
      "text/plain": [
       "<module 'Run_libradtran' from 'Run_libradtran.pyc'>"
      ]
     },
     "execution_count": 1,
     "metadata": {},
     "output_type": "execute_result"
    }
   ],
   "source": [
    "import numpy as np\n",
    "import scipy.io as sio\n",
    "import os\n",
    "import Run_libradtran as RL\n",
    "reload(RL)"
   ]
  },
  {
   "cell_type": "code",
   "execution_count": 2,
   "metadata": {
    "ExecuteTime": {
     "end_time": "2022-03-16T18:13:17.268811Z",
     "start_time": "2022-03-16T18:13:17.263701Z"
    }
   },
   "outputs": [],
   "source": [
    "from load_utils import load_from_json"
   ]
  },
  {
   "cell_type": "code",
   "execution_count": 3,
   "metadata": {
    "ExecuteTime": {
     "end_time": "2022-03-16T18:13:26.227589Z",
     "start_time": "2022-03-16T18:13:26.216282Z"
    }
   },
   "outputs": [],
   "source": [
    "if os.sys.platform == 'win32':\n",
    "    fp = 'C:\\\\Users\\\\sleblan2\\\\Research\\\\ORACLES\\\\'\n",
    "    fp_rtm = 'C:\\\\Users\\\\sleblan2\\\\Research\\\\ORACLES\\\\rtm\\\\'\n",
    "    fp_uvspec = 'C:\\\\Users\\\\sleblan2\\\\Research\\\\libradtran\\\\libRadtran-2.0-beta\\\\bin\\\\uvspec'\n",
    "    fp_rtmdat = 'C:\\\\Users\\\\sleblan2\\\\Research\\\\libradtran\\\\libRadtran-2.0-beta\\\\data\\\\'\n",
    "elif os.sys.platform == 'linux2':\n",
    "    fp = '/u/sleblan2/ORACLES/'\n",
    "    fp_rtm = '/nobackup/sleblan2/rtm/'\n",
    "    fp_uvspec = '/u/sleblan2/libradtran/libRadtran-2.0-beta/bin/uvspec'\n",
    "    fp_rtmdat = '/nobackup/sleblan2/AAC_DARF/rtm/' #'/u/sleblan2/4STAR/rtm_dat/'\n",
    "else:\n",
    "    raise Exception"
   ]
  },
  {
   "cell_type": "code",
   "execution_count": 4,
   "metadata": {
    "ExecuteTime": {
     "end_time": "2022-03-16T18:18:11.475492Z",
     "start_time": "2022-03-16T18:18:11.468874Z"
    }
   },
   "outputs": [],
   "source": [
    "fp = '/data/sam/ORACLES/'\n",
    "fp_rtm = '/scratch/rtm/'\n",
    "fp_uvspec = '/home/sam/libradtran/libRadtran-2.0.2/bin/uvspec'\n",
    "fp_rtmdat = '/scratch/rtm/dat/' #'/u/sleblan2/4STAR/rtm_dat/'"
   ]
  },
  {
   "cell_type": "markdown",
   "metadata": {},
   "source": [
    "# Setup the variables used to create the lut"
   ]
  },
  {
   "cell_type": "code",
   "execution_count": 5,
   "metadata": {
    "ExecuteTime": {
     "end_time": "2022-03-16T18:18:13.092149Z",
     "start_time": "2022-03-16T18:18:13.083858Z"
    }
   },
   "outputs": [
    {
     "data": {
      "text/plain": [
       "(16,)"
      ]
     },
     "execution_count": 5,
     "metadata": {},
     "output_type": "execute_result"
    }
   ],
   "source": [
    "vv = 'v5_midaod'\n",
    "mu = np.arange(1.02,3.4,0.15)\n",
    "mu.shape"
   ]
  },
  {
   "cell_type": "code",
   "execution_count": 6,
   "metadata": {
    "ExecuteTime": {
     "end_time": "2022-03-16T18:18:14.323348Z",
     "start_time": "2022-03-16T18:18:14.315638Z"
    }
   },
   "outputs": [
    {
     "name": "stdout",
     "output_type": "stream",
     "text": [
      "[11. 31. 41. 47. 52. 56. 59. 61. 63. 65. 67. 68. 69. 70. 71. 72.]\n"
     ]
    }
   ],
   "source": [
    "sza = np.round(np.arccos(1.0/mu)*180.0/np.pi)\n",
    "#sza = np.arange(40,91,5)\n",
    "print(sza)"
   ]
  },
  {
   "cell_type": "code",
   "execution_count": 7,
   "metadata": {
    "ExecuteTime": {
     "end_time": "2022-03-16T18:18:15.347780Z",
     "start_time": "2022-03-16T18:18:15.339425Z"
    }
   },
   "outputs": [],
   "source": [
    "tau = np.array([0.1,0.2,0.5,0.75,1.0,1.5,2.0,3.0,4.0,5.0,\n",
    "       6.0,7.0,8.0,9.0,10.0,12.5,15.0,17.5,20.0,25.0,30.0,35.0,40.0,50.0,\n",
    "       60.0,80.0,100.0])\n",
    "ref = np.append(np.append(np.arange(1,15),np.arange(15,30,2)),np.ceil(np.arange(30,61,2.5)))"
   ]
  },
  {
   "cell_type": "code",
   "execution_count": 8,
   "metadata": {
    "ExecuteTime": {
     "end_time": "2022-03-16T18:18:15.942114Z",
     "start_time": "2022-03-16T18:18:15.931664Z"
    }
   },
   "outputs": [
    {
     "data": {
      "text/plain": [
       "array([ 1.,  2.,  3.,  4.,  5.,  6.,  7.,  8.,  9., 10., 11., 12., 13.,\n",
       "       14., 15., 17., 19., 21., 23., 25., 27., 29., 30., 33., 35., 38.,\n",
       "       40., 43., 45., 48., 50., 53., 55., 58., 60.])"
      ]
     },
     "execution_count": 8,
     "metadata": {},
     "output_type": "execute_result"
    }
   ],
   "source": [
    "ref"
   ]
  },
  {
   "cell_type": "code",
   "execution_count": 9,
   "metadata": {
    "ExecuteTime": {
     "end_time": "2022-03-16T18:18:16.794690Z",
     "start_time": "2022-03-16T18:18:16.787850Z"
    }
   },
   "outputs": [
    {
     "name": "stdout",
     "output_type": "stream",
     "text": [
      "(35,)\n",
      "(27,)\n"
     ]
    }
   ],
   "source": [
    "print(ref.shape)\n",
    "print(tau.shape)"
   ]
  },
  {
   "cell_type": "code",
   "execution_count": 10,
   "metadata": {
    "ExecuteTime": {
     "end_time": "2022-03-16T18:18:34.425808Z",
     "start_time": "2022-03-16T18:18:20.102146Z"
    }
   },
   "outputs": [],
   "source": [
    "pmom = RL.make_pmom_inputs(fp_rtm=fp_rtmdat,source='solar',deltascale=True)"
   ]
  },
  {
   "cell_type": "code",
   "execution_count": 11,
   "metadata": {
    "ExecuteTime": {
     "end_time": "2022-03-16T18:22:33.112517Z",
     "start_time": "2022-03-16T18:22:32.880816Z"
    }
   },
   "outputs": [
    {
     "name": "stderr",
     "output_type": "stream",
     "text": [
      "/home/sam/.local/lib/python2.7/site-packages/json_tricks/np.py:22: JsonTricksDeprecation: `json_tricks.np` is deprecated, you can import directly from `json_tricks`\n",
      "  warnings.warn('`json_tricks.np` is deprecated, you can import directly from `json_tricks`', JsonTricksDeprecation)\n"
     ]
    }
   ],
   "source": [
    "aero = load_from_json(fp+'aero_file_v4.txt')\n",
    "aero['ext'] = aero['ext']*0.5/aero['ext'][0,3]"
   ]
  },
  {
   "cell_type": "code",
   "execution_count": 12,
   "metadata": {
    "ExecuteTime": {
     "end_time": "2022-03-16T18:22:33.983921Z",
     "start_time": "2022-03-16T18:22:33.967815Z"
    }
   },
   "outputs": [],
   "source": [
    "#geo = {'lat':-22.979,\n",
    "#       'lon':14.645,\n",
    "#       'doy':245,\n",
    "#       'zout':[0.2,1.5,100.0]}\n",
    "geo = {'lat':-0.576265,\n",
    "       'lon': 6.639029,\n",
    "       'doy':225,\n",
    "       'zout':[0.2,1.5,100.0]}\n",
    "#aero = {'z_arr':[2.0,5.0],\n",
    "#        'ext':np.array([[0.6,0.4,0.10,0.04],[0.0,0.0,0.0,0.0]]),\n",
    "#        'ssa':np.array([[0.8,0.85,0.9,0.95],[0.9,0.9,0.9,0.9]]),\n",
    "#        'asy':np.array([[0.8,0.8,0.8,0.8],[0.8,0.8,0.8,0.8]]),\n",
    "#        'wvl_arr':[400.0,500.0,650.0,940.0],\n",
    "#        'disort_phase':False,\n",
    "#        'expand_hg':True}\n",
    "cloud = {'ztop':1.0,\n",
    "         'zbot':0.5,\n",
    "         'write_moments_file':True,\n",
    "         'moms_dict':pmom}\n",
    "source = {'wvl_range':[350,1750],\n",
    "          'source':'solar',\n",
    "          'integrate_values':False,\n",
    "          'run_fuliou':False,\n",
    "          'dat_path':'/u/sleblan2/libradtran/libRadtran-2.0-beta/data/',\n",
    "          'atm_file':'/u/sleblan2/ORACLES/atmos_20170815.dat',\n",
    "          'zenith':True}\n",
    "albedo = {'create_albedo_file':True,\n",
    "          'sea_surface_albedo':False,\n",
    "          'alb':[0.0592,0.0589,0.0560,0.0523,0.0383,0.0381,0.0383,0.0383,0.0375,0.0383,0.0361,0.0558],\n",
    "          'alb_wvl':[380.0,415.0,440.0,500.0,675.0,870.0,990.0,1020.0,1064.0,1250.0,1650.0,2100.0],\n",
    "          'wind_speed':5.0}"
   ]
  },
  {
   "cell_type": "code",
   "execution_count": 13,
   "metadata": {
    "ExecuteTime": {
     "end_time": "2022-03-16T18:22:43.361394Z",
     "start_time": "2022-03-16T18:22:41.527681Z"
    }
   },
   "outputs": [],
   "source": [
    "RL.print_version_details(fp+'ORACLES_lut_%s.txt'%vv,vv,geo=geo,\n",
    "                         aero=aero,cloud=cloud,source=source,albedo=albedo,\n",
    "                         tau=tau,ref=ref,sza=sza,cloud_pmom_file=fp_rtmdat+'mie_hi_delta.mat')"
   ]
  },
  {
   "cell_type": "code",
   "execution_count": 14,
   "metadata": {
    "ExecuteTime": {
     "end_time": "2022-03-16T18:22:46.613123Z",
     "start_time": "2022-03-16T18:22:46.607709Z"
    }
   },
   "outputs": [],
   "source": [
    "fp_in = os.path.join(fp_rtm,'input','%s_ORACLES'%vv)\n",
    "fp_out = os.path.join(fp_rtm,'output','%s_ORACLES'%vv)"
   ]
  },
  {
   "cell_type": "code",
   "execution_count": 15,
   "metadata": {
    "ExecuteTime": {
     "end_time": "2022-03-16T18:22:48.846586Z",
     "start_time": "2022-03-16T18:22:48.840271Z"
    }
   },
   "outputs": [],
   "source": [
    "f_slit_vis = os.path.join(fp_rtm,'4STAR_vis_slit_1nm.dat')\n",
    "f_slit_nir = os.path.join(fp_rtm,'4STAR_nir_slit_1nm.dat')"
   ]
  },
  {
   "cell_type": "code",
   "execution_count": 16,
   "metadata": {
    "ExecuteTime": {
     "end_time": "2022-03-16T18:22:49.564305Z",
     "start_time": "2022-03-16T18:22:49.511669Z"
    }
   },
   "outputs": [],
   "source": [
    "if not os.path.exists(fp_in):\n",
    "    os.makedirs(fp_in)\n",
    "if not os.path.exists(fp_out):\n",
    "    os.makedirs(fp_out)"
   ]
  },
  {
   "cell_type": "code",
   "execution_count": 19,
   "metadata": {
    "ExecuteTime": {
     "end_time": "2022-03-16T18:23:41.567935Z",
     "start_time": "2022-03-16T18:23:41.560577Z"
    }
   },
   "outputs": [
    {
     "name": "stdout",
     "output_type": "stream",
     "text": [
      "/data/sam/ORACLES/run/ORACLES_list_v5_midaod.sh\n"
     ]
    }
   ],
   "source": [
    "f_list = open(os.path.join(fp,'run','ORACLES_list_%s.sh'%vv),'w')\n",
    "print f_list.name"
   ]
  },
  {
   "cell_type": "code",
   "execution_count": 20,
   "metadata": {
    "ExecuteTime": {
     "end_time": "2022-03-16T18:24:15.042367Z",
     "start_time": "2022-03-16T18:23:42.191611Z"
    }
   },
   "outputs": [
    {
     "name": "stdout",
     "output_type": "stream",
     "text": [
      "..setting the dicts to defaults\n",
      "..write out general default values\n",
      "..write out source dict values\n",
      "..write out the albedo values\n",
      "..write out the geo values\n",
      "..write out the aerosol parameters\n",
      "..File finished write_aerosol_file_explicit_wvl, closed\n",
      "..File finished write_aerosol_file_explicit, closed\n",
      "..write out the cloud properties\n",
      "..Liquid water cloud\n",
      "... wvl_range: 400.0 981.0\n",
      "..File write_cloud_file_moments_wvl finished, closed\n",
      "..File finished write_cloud_file_moments, closed\n",
      "Finished printing main input file: Closing file\n",
      "11.0 0.1 1.0\n",
      "..setting the dicts to defaults\n",
      "..write out general default values\n",
      "..write out source dict values\n",
      "..write out the albedo values\n",
      "..write out the geo values\n",
      "..write out the aerosol parameters\n",
      "..File finished write_aerosol_file_explicit_wvl, closed\n",
      "..File finished write_aerosol_file_explicit, closed\n",
      "..write out the cloud properties\n",
      "..Liquid water cloud\n",
      "... wvl_range: 400.0 981.0\n",
      "..File write_cloud_file_moments_wvl finished, closed\n",
      "..File finished write_cloud_file_moments, closed\n",
      "Finished printing main input file: Closing file\n",
      "11.0 0.1 2.0\n",
      "..setting the dicts to defaults\n",
      "..write out general default values\n",
      "..write out source dict values\n",
      "..write out the albedo values\n",
      "..write out the geo values\n",
      "..write out the aerosol parameters\n",
      "..File finished write_aerosol_file_explicit_wvl, closed\n",
      "..File finished write_aerosol_file_explicit, closed\n",
      "..write out the cloud properties\n",
      "..Liquid water cloud\n",
      "... wvl_range: 400.0 981.0\n",
      "..File write_cloud_file_moments_wvl finished, closed\n",
      "..File finished write_cloud_file_moments, closed\n",
      "Finished printing main input file: Closing file\n",
      "11.0 0.1 3.0\n",
      "..setting the dicts to defaults\n",
      "..write out general default values\n",
      "..write out source dict values\n",
      "..write out the albedo values\n",
      "..write out the geo values\n",
      "..write out the aerosol parameters\n",
      "..File finished write_aerosol_file_explicit_wvl, closed\n",
      "..File finished write_aerosol_file_explicit, closed\n",
      "..write out the cloud properties\n",
      "..Liquid water cloud\n",
      "... wvl_range: 400.0 981.0\n",
      "..File write_cloud_file_moments_wvl finished, closed\n",
      "..File finished write_cloud_file_moments, closed\n",
      "Finished printing main input file: Closing file\n",
      "11.0 0.1 4.0\n",
      "..setting the dicts to defaults\n",
      "..write out general default values\n",
      "..write out source dict values\n",
      "..write out the albedo values\n",
      "..write out the geo values\n",
      "..write out the aerosol parameters\n",
      "..File finished write_aerosol_file_explicit_wvl, closed\n",
      "..File finished write_aerosol_file_explicit, closed\n",
      "..write out the cloud properties\n",
      "..Liquid water cloud\n",
      "... wvl_range: 400.0 981.0\n",
      "..File write_cloud_file_moments_wvl finished, closed\n",
      "..File finished write_cloud_file_moments, closed\n",
      "Finished printing main input file: Closing file\n",
      "11.0 0.1 5.0\n",
      "..setting the dicts to defaults\n",
      "..write out general default values\n",
      "..write out source dict values\n",
      "..write out the albedo values\n",
      "..write out the geo values\n",
      "..write out the aerosol parameters\n",
      "..File finished write_aerosol_file_explicit_wvl, closed\n",
      "..File finished write_aerosol_file_explicit, closed\n",
      "..write out the cloud properties\n",
      "..Liquid water cloud\n",
      "... wvl_range: 400.0 981.0\n",
      "..File write_cloud_file_moments_wvl finished, closed\n",
      "..File finished write_cloud_file_moments, closed\n",
      "Finished printing main input file: Closing file\n",
      "11.0 0.1 6.0\n",
      "..setting the dicts to defaults\n",
      "..write out general default values\n",
      "..write out source dict values\n",
      "..write out the albedo values\n",
      "..write out the geo values\n",
      "..write out the aerosol parameters\n",
      "..File finished write_aerosol_file_explicit_wvl, closed\n",
      "..File finished write_aerosol_file_explicit, closed\n",
      "..write out the cloud properties\n",
      "..Liquid water cloud\n",
      "... wvl_range: 400.0 981.0\n",
      "..File write_cloud_file_moments_wvl finished, closed\n",
      "..File finished write_cloud_file_moments, closed\n",
      "Finished printing main input file: Closing file\n",
      "11.0 0.1 7.0\n",
      "..setting the dicts to defaults\n",
      "..write out general default values\n",
      "..write out source dict values\n",
      "..write out the albedo values\n",
      "..write out the geo values\n",
      "..write out the aerosol parameters\n",
      "..File finished write_aerosol_file_explicit_wvl, closed\n",
      "..File finished write_aerosol_file_explicit, closed\n",
      "..write out the cloud properties\n",
      "..Liquid water cloud\n",
      "... wvl_range: 400.0 981.0\n",
      "..File write_cloud_file_moments_wvl finished, closed\n",
      "..File finished write_cloud_file_moments, closed\n",
      "Finished printing main input file: Closing file\n",
      "11.0 0.1 8.0\n",
      "..setting the dicts to defaults\n",
      "..write out general default values\n",
      "..write out source dict values\n",
      "..write out the albedo values\n",
      "..write out the geo values\n",
      "..write out the aerosol parameters\n",
      "..File finished write_aerosol_file_explicit_wvl, closed\n",
      "..File finished write_aerosol_file_explicit, closed\n",
      "..write out the cloud properties\n",
      "..Liquid water cloud\n",
      "... wvl_range: 400.0 981.0\n",
      "..File write_cloud_file_moments_wvl finished, closed\n",
      "..File finished write_cloud_file_moments, closed\n",
      "Finished printing main input file: Closing file\n",
      "11.0 0.1 9.0\n",
      "..setting the dicts to defaults\n",
      "..write out general default values\n",
      "..write out source dict values\n",
      "..write out the albedo values\n",
      "..write out the geo values\n",
      "..write out the aerosol parameters\n",
      "..File finished write_aerosol_file_explicit_wvl, closed\n",
      "..File finished write_aerosol_file_explicit, closed\n",
      "..write out the cloud properties\n",
      "..Liquid water cloud\n",
      "... wvl_range: 400.0 981.0\n",
      "..File write_cloud_file_moments_wvl finished, closed\n",
      "..File finished write_cloud_file_moments, closed\n",
      "Finished printing main input file: Closing file\n",
      "11.0 0.1 10.0\n",
      "..setting the dicts to defaults\n",
      "..write out general default values\n",
      "..write out source dict values\n",
      "..write out the albedo values\n",
      "..write out the geo values\n",
      "..write out the aerosol parameters\n",
      "..File finished write_aerosol_file_explicit_wvl, closed\n",
      "..File finished write_aerosol_file_explicit, closed\n",
      "..write out the cloud properties\n",
      "..Liquid water cloud\n",
      "... wvl_range: 400.0 981.0\n",
      "..File write_cloud_file_moments_wvl finished, closed\n",
      "..File finished write_cloud_file_moments, closed\n",
      "Finished printing main input file: Closing file\n",
      "11.0 0.1 11.0\n",
      "..setting the dicts to defaults\n",
      "..write out general default values\n",
      "..write out source dict values\n",
      "..write out the albedo values\n",
      "..write out the geo values\n",
      "..write out the aerosol parameters\n",
      "..File finished write_aerosol_file_explicit_wvl, closed\n",
      "..File finished write_aerosol_file_explicit, closed\n",
      "..write out the cloud properties\n",
      "..Liquid water cloud\n",
      "... wvl_range: 400.0 981.0\n",
      "..File write_cloud_file_moments_wvl finished, closed\n",
      "..File finished write_cloud_file_moments, closed\n",
      "Finished printing main input file: Closing file\n",
      "11.0 0.1 12.0\n",
      "..setting the dicts to defaults\n",
      "..write out general default values\n",
      "..write out source dict values\n",
      "..write out the albedo values\n",
      "..write out the geo values\n",
      "..write out the aerosol parameters\n",
      "..File finished write_aerosol_file_explicit_wvl, closed\n",
      "..File finished write_aerosol_file_explicit, closed\n",
      "..write out the cloud properties\n",
      "..Liquid water cloud\n",
      "... wvl_range: 400.0 981.0\n",
      "..File write_cloud_file_moments_wvl finished, closed\n",
      "..File finished write_cloud_file_moments, closed\n",
      "Finished printing main input file: Closing file\n",
      "11.0 0.1 13.0\n",
      "..setting the dicts to defaults\n",
      "..write out general default values\n",
      "..write out source dict values\n",
      "..write out the albedo values\n",
      "..write out the geo values\n",
      "..write out the aerosol parameters\n",
      "..File finished write_aerosol_file_explicit_wvl, closed\n",
      "..File finished write_aerosol_file_explicit, closed\n",
      "..write out the cloud properties\n",
      "..Liquid water cloud\n",
      "... wvl_range: 400.0 981.0\n",
      "..File write_cloud_file_moments_wvl finished, closed\n",
      "..File finished write_cloud_file_moments, closed\n",
      "Finished printing main input file: Closing file\n",
      "11.0 0.1 14.0\n",
      "..setting the dicts to defaults\n",
      "..write out general default values\n",
      "..write out source dict values\n",
      "..write out the albedo values\n",
      "..write out the geo values\n",
      "..write out the aerosol parameters\n",
      "..File finished write_aerosol_file_explicit_wvl, closed\n",
      "..File finished write_aerosol_file_explicit, closed\n",
      "..write out the cloud properties\n",
      "..Liquid water cloud\n",
      "... wvl_range: 400.0 981.0\n",
      "..File write_cloud_file_moments_wvl finished, closed\n",
      "..File finished write_cloud_file_moments, closed\n",
      "Finished printing main input file: Closing file\n",
      "11.0 0.1 15.0\n",
      "..setting the dicts to defaults\n",
      "..write out general default values\n",
      "..write out source dict values\n",
      "..write out the albedo values\n",
      "..write out the geo values\n",
      "..write out the aerosol parameters\n",
      "..File finished write_aerosol_file_explicit_wvl, closed\n",
      "..File finished write_aerosol_file_explicit, closed\n",
      "..write out the cloud properties\n",
      "..Liquid water cloud\n",
      "... wvl_range: 400.0 981.0\n"
     ]
    },
    {
     "name": "stdout",
     "output_type": "stream",
     "text": [
      "..File write_cloud_file_moments_wvl finished, closed\n",
      "..File finished write_cloud_file_moments, closed\n",
      "Finished printing main input file: Closing file\n",
      "11.0 0.1 17.0\n",
      "..setting the dicts to defaults\n",
      "..write out general default values\n",
      "..write out source dict values\n",
      "..write out the albedo values\n",
      "..write out the geo values\n",
      "..write out the aerosol parameters\n",
      "..File finished write_aerosol_file_explicit_wvl, closed\n",
      "..File finished write_aerosol_file_explicit, closed\n",
      "..write out the cloud properties\n",
      "..Liquid water cloud\n",
      "... wvl_range: 400.0 981.0\n",
      "..File write_cloud_file_moments_wvl finished, closed\n",
      "..File finished write_cloud_file_moments, closed\n",
      "Finished printing main input file: Closing file\n",
      "11.0 0.1 19.0\n",
      "..setting the dicts to defaults\n",
      "..write out general default values\n",
      "..write out source dict values\n",
      "..write out the albedo values\n",
      "..write out the geo values\n",
      "..write out the aerosol parameters\n",
      "..File finished write_aerosol_file_explicit_wvl, closed\n",
      "..File finished write_aerosol_file_explicit, closed\n",
      "..write out the cloud properties\n",
      "..Liquid water cloud\n",
      "... wvl_range: 400.0 981.0\n",
      "..File write_cloud_file_moments_wvl finished, closed\n",
      "..File finished write_cloud_file_moments, closed\n",
      "Finished printing main input file: Closing file\n",
      "11.0 0.1 21.0\n",
      "..setting the dicts to defaults\n",
      "..write out general default values\n",
      "..write out source dict values\n",
      "..write out the albedo values\n",
      "..write out the geo values\n",
      "..write out the aerosol parameters\n",
      "..File finished write_aerosol_file_explicit_wvl, closed\n",
      "..File finished write_aerosol_file_explicit, closed\n",
      "..write out the cloud properties\n",
      "..Liquid water cloud\n",
      "... wvl_range: 400.0 981.0\n",
      "..File write_cloud_file_moments_wvl finished, closed\n",
      "..File finished write_cloud_file_moments, closed\n",
      "Finished printing main input file: Closing file\n",
      "11.0 0.1 23.0\n",
      "..setting the dicts to defaults\n",
      "..write out general default values\n",
      "..write out source dict values\n",
      "..write out the albedo values\n",
      "..write out the geo values\n",
      "..write out the aerosol parameters\n",
      "..File finished write_aerosol_file_explicit_wvl, closed\n",
      "..File finished write_aerosol_file_explicit, closed\n",
      "..write out the cloud properties\n",
      "..Liquid water cloud\n",
      "... wvl_range: 400.0 981.0\n",
      "..File write_cloud_file_moments_wvl finished, closed\n",
      "..File finished write_cloud_file_moments, closed\n",
      "Finished printing main input file: Closing file\n",
      "11.0 0.1 25.0\n",
      "..setting the dicts to defaults\n",
      "..write out general default values\n",
      "..write out source dict values\n",
      "..write out the albedo values\n",
      "..write out the geo values\n",
      "..write out the aerosol parameters\n",
      "..File finished write_aerosol_file_explicit_wvl, closed\n",
      "..File finished write_aerosol_file_explicit, closed\n",
      "..write out the cloud properties\n",
      "..Liquid water cloud\n",
      "... wvl_range: 400.0 981.0\n",
      "..File write_cloud_file_moments_wvl finished, closed\n",
      "..File finished write_cloud_file_moments, closed\n",
      "Finished printing main input file: Closing file\n",
      "11.0 0.1 27.0\n",
      "..setting the dicts to defaults\n",
      "..write out general default values\n",
      "..write out source dict values\n",
      "..write out the albedo values\n",
      "..write out the geo values\n",
      "..write out the aerosol parameters\n",
      "..File finished write_aerosol_file_explicit_wvl, closed\n",
      "..File finished write_aerosol_file_explicit, closed\n",
      "..write out the cloud properties\n",
      "..Liquid water cloud\n",
      "... wvl_range: 400.0 981.0\n",
      "..File write_cloud_file_moments_wvl finished, closed\n",
      "..File finished write_cloud_file_moments, closed\n",
      "Finished printing main input file: Closing file\n",
      "11.0 0.1 29.0\n",
      "..setting the dicts to defaults\n",
      "..write out general default values\n",
      "..write out source dict values\n",
      "..write out the albedo values\n",
      "..write out the geo values\n",
      "..write out the aerosol parameters\n",
      "..File finished write_aerosol_file_explicit_wvl, closed\n",
      "..File finished write_aerosol_file_explicit, closed\n",
      "..write out the cloud properties\n",
      "..Liquid water cloud\n",
      "... wvl_range: 400.0 981.0\n",
      "..File write_cloud_file_moments_wvl finished, closed\n",
      "..File finished write_cloud_file_moments, closed\n",
      "Finished printing main input file: Closing file\n",
      "11.0 0.1 30.0\n",
      "11.0 0.1 33.0\n",
      "11.0 0.1 35.0\n",
      "11.0 0.1 38.0\n",
      "11.0 0.1 40.0\n",
      "11.0 0.1 43.0\n",
      "11.0 0.1 45.0\n",
      "11.0 0.1 48.0\n",
      "11.0 0.1 50.0\n",
      "11.0 0.1 53.0\n",
      "11.0 0.1 55.0\n",
      "11.0 0.1 58.0\n",
      "11.0 0.1 60.0\n"
     ]
    }
   ],
   "source": [
    "for s in sza:\n",
    "    for t in tau:\n",
    "        for r in ref:\n",
    "            fname = 'lut_sza%02i_tau%06.2f_ref%04.1f' % (s,t,r)\n",
    "            geo['sza'] = s\n",
    "            cloud['tau'] = t\n",
    "            cloud['ref'] = r\n",
    "            if False: #r>=5.0:\n",
    "                cloud['phase'] = 'ic'\n",
    "                fname0 = fname+'_'+cloud['phase']+'_w0.dat'\n",
    "                source['wvl_range'] = [400.,981.]\n",
    "                source['slit_file'] = f_slit_vis\n",
    "                RL.write_input_aac(os.path.join(fp_in,fname0),geo=geo,aero=aero,cloud=cloud,source=source,albedo=albedo,\n",
    "                                   verbose=False,make_base=False,set_quiet=True)\n",
    "                f_list.write(fp_uvspec+' < '+os.path.join(fp_in,fname0)+' > '+os.path.join(fp_out,fname0)+'\\n')\n",
    "                fname1 = fname+'_'+cloud['phase']+'_w1.dat'\n",
    "                source['wvl_range'] = [981.,1700.]\n",
    "                source['slit_file'] = f_slit_nir\n",
    "                RL.write_input_aac(os.path.join(fp_in,fname1),geo=geo,aero=aero,cloud=cloud,source=source,albedo=albedo,\n",
    "                                   verbose=False,make_base=False,set_quiet=True)\n",
    "                f_list.write(fp_uvspec+' < '+os.path.join(fp_in,fname1)+' > '+os.path.join(fp_out,fname1)+'\\n')\n",
    "            if r<=30.0:\n",
    "                cloud['phase'] = 'wc'\n",
    "                fname0 = fname+'_'+cloud['phase']+'_w0.dat'\n",
    "                source['wvl_range'] = [400.,981.]\n",
    "                source['slit_file'] = f_slit_vis\n",
    "                RL.write_input_aac(os.path.join(fp_in,fname0),geo=geo,aero=aero,cloud=cloud,source=source,albedo=albedo,\n",
    "                                   verbose=True,make_base=False,set_quiet=True)\n",
    "                f_list.write(fp_uvspec+' < '+os.path.join(fp_in,fname0)+' > '+os.path.join(fp_out,fname0)+'\\n')\n",
    "                fname1 = fname+'_'+cloud['phase']+'_w1.dat'\n",
    "                source['wvl_range'] = [981.,1700.]\n",
    "                source['slit_file'] = f_slit_nir\n",
    "                RL.write_input_aac(os.path.join(fp_in,fname1),geo=geo,aero=aero,cloud=cloud,source=source,albedo=albedo,\n",
    "                                   verbose=False,make_base=False,set_quiet=True)\n",
    "                f_list.write(fp_uvspec+' < '+os.path.join(fp_in,fname1)+' > '+os.path.join(fp_out,fname1)+'\\n')     \n",
    "                albedo['create_albedo_file'] = False\n",
    "            print s,t,r\n",
    "        break\n",
    "    break"
   ]
  },
  {
   "cell_type": "code",
   "execution_count": null,
   "metadata": {
    "collapsed": true
   },
   "outputs": [],
   "source": [
    "f_list.close()"
   ]
  }
 ],
 "metadata": {
  "kernelspec": {
   "display_name": "Python 2",
   "language": "python",
   "name": "python2"
  },
  "language_info": {
   "codemirror_mode": {
    "name": "ipython",
    "version": 2
   },
   "file_extension": ".py",
   "mimetype": "text/x-python",
   "name": "python",
   "nbconvert_exporter": "python",
   "pygments_lexer": "ipython2",
   "version": "2.7.18"
  },
  "toc": {
   "base_numbering": 1,
   "nav_menu": {},
   "number_sections": true,
   "sideBar": false,
   "skip_h1_title": false,
   "title_cell": "Table of Contents",
   "title_sidebar": "Contents",
   "toc_cell": false,
   "toc_position": {},
   "toc_section_display": "block",
   "toc_window_display": false
  },
  "varInspector": {
   "cols": {
    "lenName": 16,
    "lenType": 16,
    "lenVar": 40
   },
   "kernels_config": {
    "python": {
     "delete_cmd_postfix": "",
     "delete_cmd_prefix": "del ",
     "library": "var_list.py",
     "varRefreshCmd": "print(var_dic_list())"
    },
    "r": {
     "delete_cmd_postfix": ") ",
     "delete_cmd_prefix": "rm(",
     "library": "var_list.r",
     "varRefreshCmd": "cat(var_dic_list()) "
    }
   },
   "types_to_exclude": [
    "module",
    "function",
    "builtin_function_or_method",
    "instance",
    "_Feature"
   ],
   "window_display": false
  }
 },
 "nbformat": 4,
 "nbformat_minor": 1
}
