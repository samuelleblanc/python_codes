{
 "cells": [
  {
   "cell_type": "markdown",
   "metadata": {},
   "source": [
    "# Info\n",
    "Name:  \n",
    "\n",
    "    Prepare_ORACLES_lut\n",
    "\n",
    "Purpose:  \n",
    "\n",
    "    Create the input libradtran files for creating a lut of low clouds with aerosol on top to be used in ORACLES operational cloud retrievals\n",
    "\n",
    "Calling Sequence:\n",
    "\n",
    "    python Prepare_ORACLES_lut\n",
    "  \n",
    "Input:\n",
    "\n",
    "    none\n",
    "\n",
    "Output:\n",
    "   \n",
    "    input files for libradtran 2.0 (uvspec) \n",
    "  \n",
    "Keywords:\n",
    "\n",
    "    none\n",
    "  \n",
    "Dependencies:\n",
    "\n",
    "    - numpy\n",
    "    - scipy : for saving and reading\n",
    "    - mplt_toolkits for basemap, map plotting\n",
    "    - pdb\n",
    "    - datetime\n",
    "\n",
    "  \n",
    "Needed Files:\n",
    "\n",
    "  - ...\n",
    "    \n",
    "History:\n",
    "\n",
    "    Written: Samuel LeBlanc,Swakopmund, Namibia, 2016-09-01\n",
    "             based on Prepare_NAAMES_lut\n",
    "    "
   ]
  },
  {
   "cell_type": "markdown",
   "metadata": {},
   "source": [
    "# Prepare the python environment"
   ]
  },
  {
   "cell_type": "code",
   "execution_count": 2,
   "metadata": {
    "ExecuteTime": {
     "end_time": "2017-12-05T04:53:14.490783Z",
     "start_time": "2017-12-05T04:53:14.185585Z"
    }
   },
   "outputs": [
    {
     "data": {
      "text/plain": [
       "<module 'Run_libradtran' from 'Run_libradtran.pyc'>"
      ]
     },
     "execution_count": 2,
     "metadata": {},
     "output_type": "execute_result"
    }
   ],
   "source": [
    "import numpy as np\n",
    "import scipy.io as sio\n",
    "import os\n",
    "import Run_libradtran as RL\n",
    "reload(RL)"
   ]
  },
  {
   "cell_type": "code",
   "execution_count": 3,
   "metadata": {
    "ExecuteTime": {
     "end_time": "2017-12-05T04:53:14.574741Z",
     "start_time": "2017-12-05T04:53:14.570154Z"
    }
   },
   "outputs": [],
   "source": [
    "from load_utils import load_from_json"
   ]
  },
  {
   "cell_type": "code",
   "execution_count": 68,
   "metadata": {
    "collapsed": true
   },
   "outputs": [],
   "source": [
    "if os.sys.platform == 'win32':\n",
    "    fp = 'C:\\\\Users\\\\sleblan2\\\\Research\\\\ORACLES\\\\'\n",
    "    fp_rtm = 'C:\\\\Users\\\\sleblan2\\\\Research\\\\ORACLES\\\\rtm\\\\'\n",
    "    fp_uvspec = 'C:\\\\Users\\\\sleblan2\\\\Research\\\\libradtran\\\\libRadtran-2.0-beta\\\\bin\\\\uvspec'\n",
    "    fp_rtmdat = 'C:\\\\Users\\\\sleblan2\\\\Research\\\\libradtran\\\\libRadtran-2.0-beta\\\\data\\\\'\n",
    "elif os.sys.platform == 'linux2':\n",
    "    fp = '/u/sleblan2/ORACLES/'\n",
    "    fp_rtm = '/nobackup/sleblan2/rtm/'\n",
    "    fp_uvspec = '/u/sleblan2/libradtran/libRadtran-2.0-beta/bin/uvspec'\n",
    "    fp_rtmdat = '/nobackup/sleblan2/AAC_DARF/rtm/' #'/u/sleblan2/4STAR/rtm_dat/'\n",
    "else:\n",
    "    raise Exception"
   ]
  },
  {
   "cell_type": "markdown",
   "metadata": {},
   "source": [
    "# Setup the variables used to create the lut"
   ]
  },
  {
   "cell_type": "code",
   "execution_count": 17,
   "metadata": {
    "ExecuteTime": {
     "end_time": "2017-12-05T04:55:02.701877Z",
     "start_time": "2017-12-05T04:55:02.697000Z"
    }
   },
   "outputs": [
    {
     "data": {
      "text/plain": [
       "(16,)"
      ]
     },
     "execution_count": 17,
     "metadata": {},
     "output_type": "execute_result"
    }
   ],
   "source": [
    "vv = 'v4'\n",
    "mu = np.arange(1.02,3.4,0.15)\n",
    "mu.shape"
   ]
  },
  {
   "cell_type": "code",
   "execution_count": 18,
   "metadata": {
    "ExecuteTime": {
     "end_time": "2017-12-05T04:55:03.278507Z",
     "start_time": "2017-12-05T04:55:03.273301Z"
    }
   },
   "outputs": [
    {
     "name": "stdout",
     "output_type": "stream",
     "text": [
      "[ 11.  31.  41.  47.  52.  56.  59.  61.  63.  65.  67.  68.  69.  70.  71.\n",
      "  72.]\n"
     ]
    }
   ],
   "source": [
    "sza = np.round(np.arccos(1.0/mu)*180.0/np.pi)\n",
    "#sza = np.arange(40,91,5)\n",
    "print(sza)"
   ]
  },
  {
   "cell_type": "code",
   "execution_count": 108,
   "metadata": {},
   "outputs": [],
   "source": [
    "tau = np.array([0.1,0.2,0.5,0.75,1.0,1.5,2.0,3.0,4.0,5.0,\n",
    "       6.0,7.0,8.0,9.0,10.0,12.5,15.0,17.5,20.0,25.0,30.0,35.0,40.0,50.0,\n",
    "       60.0,80.0,100.0])\n",
    "ref = np.append(np.append(np.arange(1,15),np.arange(15,30,2)),np.ceil(np.arange(30,61,2.5)))"
   ]
  },
  {
   "cell_type": "code",
   "execution_count": 109,
   "metadata": {},
   "outputs": [
    {
     "data": {
      "text/plain": [
       "array([  2.,   3.,   4.,   5.,   6.,   7.,   8.,   9.,  10.,  11.,  12.,\n",
       "        13.,  14.,  15.,  17.,  19.,  21.,  23.,  25.,  27.,  29.,  30.,\n",
       "        33.,  35.,  38.,  40.,  43.,  45.,  48.,  50.,  53.,  55.,  58.,\n",
       "        60.])"
      ]
     },
     "execution_count": 109,
     "metadata": {},
     "output_type": "execute_result"
    }
   ],
   "source": [
    "ref"
   ]
  },
  {
   "cell_type": "code",
   "execution_count": 112,
   "metadata": {},
   "outputs": [
    {
     "name": "stdout",
     "output_type": "stream",
     "text": [
      "(34L,)\n",
      "(29L,)\n"
     ]
    }
   ],
   "source": [
    "print(ref.shape)\n",
    "print(tau.shape)"
   ]
  },
  {
   "cell_type": "code",
   "execution_count": null,
   "metadata": {
    "collapsed": true
   },
   "outputs": [],
   "source": [
    "pmom = RL.make_pmom_inputs(fp_rtm=fp_rtmdat,source='solar',deltascale=True)"
   ]
  },
  {
   "cell_type": "code",
   "execution_count": null,
   "metadata": {
    "collapsed": true
   },
   "outputs": [],
   "source": [
    "aero = load_from_json(fp+'aero_file_v4.txt')"
   ]
  },
  {
   "cell_type": "code",
   "execution_count": 70,
   "metadata": {},
   "outputs": [],
   "source": [
    "#geo = {'lat':-22.979,\n",
    "#       'lon':14.645,\n",
    "#       'doy':245,\n",
    "#       'zout':[0.2,1.5,100.0]}\n",
    "geo = {'lat':-0.576265,\n",
    "       'lon': 6.639029,\n",
    "       'doy':225,\n",
    "       'zout':[0.2,1.5,100.0]}\n",
    "#aero = {'z_arr':[2.0,5.0],\n",
    "#        'ext':np.array([[0.6,0.4,0.10,0.04],[0.0,0.0,0.0,0.0]]),\n",
    "#        'ssa':np.array([[0.8,0.85,0.9,0.95],[0.9,0.9,0.9,0.9]]),\n",
    "#        'asy':np.array([[0.8,0.8,0.8,0.8],[0.8,0.8,0.8,0.8]]),\n",
    "#        'wvl_arr':[400.0,500.0,650.0,940.0],\n",
    "#        'disort_phase':False,\n",
    "#        'expand_hg':True}\n",
    "cloud = {'ztop':1.0,\n",
    "         'zbot':0.5,\n",
    "         'write_moments_file':True,\n",
    "         'moms_dict':pmom}\n",
    "source = {'wvl_range':[350,1750],\n",
    "          'source':'solar',\n",
    "          'integrate_values':False,\n",
    "          'run_fuliou':False,\n",
    "          'dat_path':'/u/sleblan2/libradtran/libRadtran-2.0-beta/data/',\n",
    "          'atm_file':'/u/sleblan2/ORACLES/atmos_20170815.dat',\n",
    "          'zenith':True}\n",
    "albedo = {'create_albedo_file':True,\n",
    "          'sea_surface_albedo':False,\n",
    "          'alb':[0.0589,0.0589,0.0560,0.0523,0.0383,0.0381,0.0383,0.0383,0.0375,0.0383,0.0361,0.0558],\n",
    "          'alb_wvl':[380.0,415.0,440.0,500.0,675.0,870.0,990.0,1020.0,1064.0,1250.0,1650.0,2100.0],\n",
    "          'wind_speed':5.0}"
   ]
  },
  {
   "cell_type": "code",
   "execution_count": 60,
   "metadata": {},
   "outputs": [],
   "source": [
    "RL.print_version_details(fp+'ORACLES_lut_%s.txt'%vv,vv,geo=geo,\n",
    "                         aero=aero,cloud=cloud,source=source,albedo=albedo,\n",
    "                         tau=tau,ref=ref,sza=sza,cloud_pmom_file=fp_rtmdat+'mie_hi_delta.mat')"
   ]
  },
  {
   "cell_type": "code",
   "execution_count": 71,
   "metadata": {},
   "outputs": [],
   "source": [
    "fp_in = os.path.join(fp_rtm,'input','%s_ORACLES'%vv)\n",
    "fp_out = os.path.join(fp_rtm,'output','%s_ORACLES'%vv)"
   ]
  },
  {
   "cell_type": "code",
   "execution_count": 82,
   "metadata": {
    "collapsed": true
   },
   "outputs": [],
   "source": [
    "f_slit_vis = os.path.join(fp_rtm,'4STAR_vis_slit_1nm.dat')\n",
    "f_slit_nir = os.path.join(fp_rtm,'4STAR_nir_slit_1nm.dat')"
   ]
  },
  {
   "cell_type": "code",
   "execution_count": 72,
   "metadata": {
    "collapsed": true
   },
   "outputs": [],
   "source": [
    "if not os.path.exists(fp_in):\n",
    "    os.makedirs(fp_in)\n",
    "if not os.path.exists(fp_out):\n",
    "    os.makedirs(fp_out)"
   ]
  },
  {
   "cell_type": "code",
   "execution_count": 79,
   "metadata": {},
   "outputs": [],
   "source": [
    "f_list = open(os.path.join(fp,'run','ORACLES_list_%s.sh'%vv),'w')\n",
    "print f_list.name"
   ]
  },
  {
   "cell_type": "code",
   "execution_count": null,
   "metadata": {
    "collapsed": true
   },
   "outputs": [],
   "source": [
    "for s in sza:\n",
    "    for t in tau:\n",
    "        for r in ref:\n",
    "            fname = 'lut_sza%02i_tau%06.2f_ref%04.1f' % (s,t,r)\n",
    "            geo['sza'] = s\n",
    "            cloud['tau'] = t\n",
    "            cloud['ref'] = r\n",
    "            if False: #r>=5.0:\n",
    "                cloud['phase'] = 'ic'\n",
    "                fname0 = fname+'_'+cloud['phase']+'_w0.dat'\n",
    "                source['wvl_range'] = [400.,981.]\n",
    "                source['slit_file'] = f_slit_vis\n",
    "                RL.write_input_aac(os.path.join(fp_in,fname0),geo=geo,aero=aero,cloud=cloud,source=source,albedo=albedo,\n",
    "                                   verbose=False,make_base=False,set_quiet=True)\n",
    "                f_list.write(fp_uvspec+' < '+os.path.join(fp_in,fname0)+' > '+os.path.join(fp_out,fname0)+'\\n')\n",
    "                fname1 = fname+'_'+cloud['phase']+'_w1.dat'\n",
    "                source['wvl_range'] = [981.,1700.]\n",
    "                source['slit_file'] = f_slit_nir\n",
    "                RL.write_input_aac(os.path.join(fp_in,fname1),geo=geo,aero=aero,cloud=cloud,source=source,albedo=albedo,\n",
    "                                   verbose=False,make_base=False,set_quiet=True)\n",
    "                f_list.write(fp_uvspec+' < '+os.path.join(fp_in,fname1)+' > '+os.path.join(fp_out,fname1)+'\\n')\n",
    "            if r<=30.0:\n",
    "                cloud['phase'] = 'wc'\n",
    "                fname0 = fname+'_'+cloud['phase']+'_w0.dat'\n",
    "                source['wvl_range'] = [400.,981.]\n",
    "                source['slit_file'] = f_slit_vis\n",
    "                RL.write_input_aac(os.path.join(fp_in,fname0),geo=geo,aero=aero,cloud=cloud,source=source,albedo=albedo,\n",
    "                                   verbose=True,make_base=False,set_quiet=True)\n",
    "                f_list.write(fp_uvspec+' < '+os.path.join(fp_in,fname0)+' > '+os.path.join(fp_out,fname0)+'\\n')\n",
    "                fname1 = fname+'_'+cloud['phase']+'_w1.dat'\n",
    "                source['wvl_range'] = [981.,1700.]\n",
    "                source['slit_file'] = f_slit_nir\n",
    "                RL.write_input_aac(os.path.join(fp_in,fname1),geo=geo,aero=aero,cloud=cloud,source=source,albedo=albedo,\n",
    "                                   verbose=False,make_base=False,set_quiet=True)\n",
    "                f_list.write(fp_uvspec+' < '+os.path.join(fp_in,fname1)+' > '+os.path.join(fp_out,fname1)+'\\n')     \n",
    "                albedo['create_albedo_file'] = False\n",
    "            print s,t,r\n",
    "        break\n",
    "    break"
   ]
  },
  {
   "cell_type": "code",
   "execution_count": null,
   "metadata": {
    "collapsed": true
   },
   "outputs": [],
   "source": [
    "f_list.close()"
   ]
  }
 ],
 "metadata": {
  "kernelspec": {
   "display_name": "Python 2",
   "language": "python",
   "name": "python2"
  },
  "language_info": {
   "codemirror_mode": {
    "name": "ipython",
    "version": 2
   },
   "file_extension": ".py",
   "mimetype": "text/x-python",
   "name": "python",
   "nbconvert_exporter": "python",
   "pygments_lexer": "ipython2",
   "version": "2.7.12"
  },
  "toc": {
   "nav_menu": {},
   "number_sections": true,
   "sideBar": false,
   "skip_h1_title": false,
   "toc_cell": false,
   "toc_position": {},
   "toc_section_display": "block",
   "toc_window_display": false
  },
  "varInspector": {
   "cols": {
    "lenName": 16,
    "lenType": 16,
    "lenVar": 40
   },
   "kernels_config": {
    "python": {
     "delete_cmd_postfix": "",
     "delete_cmd_prefix": "del ",
     "library": "var_list.py",
     "varRefreshCmd": "print(var_dic_list())"
    },
    "r": {
     "delete_cmd_postfix": ") ",
     "delete_cmd_prefix": "rm(",
     "library": "var_list.r",
     "varRefreshCmd": "cat(var_dic_list()) "
    }
   },
   "types_to_exclude": [
    "module",
    "function",
    "builtin_function_or_method",
    "instance",
    "_Feature"
   ],
   "window_display": false
  }
 },
 "nbformat": 4,
 "nbformat_minor": 1
}
