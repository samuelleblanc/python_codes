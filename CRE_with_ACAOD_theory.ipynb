{
 "cells": [
  {
   "cell_type": "markdown",
   "metadata": {},
   "source": [
    "# Info\n",
    "Name:  \n",
    "\n",
    "    CRE_with_ACAOD_theory\n",
    "\n",
    "Purpose:  \n",
    "\n",
    "    Run CRE calculations with above cloud aerosol\n",
    "    Vary in systematic ways to quantify the range of CRE\n",
    "  \n",
    "Input:\n",
    "\n",
    "    command line arguments:\n",
    "        - doread : for reading the output files\n",
    "  \n",
    "Output:\n",
    "\n",
    "    libradtran input files\n",
    "    save files of the libradtran output\n",
    "  \n",
    "Keywords:\n",
    "\n",
    "    none\n",
    "  \n",
    "Dependencies:\n",
    "\n",
    "    - load_utils.py : for loading OMI HDF5 files\n",
    "    - matplotlib\n",
    "    - numpy\n",
    "  \n",
    "Needed Files:\n",
    "\n",
    "  - file.rc : for consistent creation of look of matplotlib figures\n",
    "  - ...\n",
    "  \n",
    "Modification History:\n",
    "\n",
    "    Written: Samuel LeBlanc, Santa Cruz, CA, 2019-06-19\n",
    "    Modified: "
   ]
  },
  {
   "cell_type": "markdown",
   "metadata": {},
   "source": [
    "# Prepare python environment"
   ]
  },
  {
   "cell_type": "code",
   "execution_count": 22,
   "metadata": {
    "ExecuteTime": {
     "end_time": "2019-06-19T20:48:12.502322Z",
     "start_time": "2019-06-19T20:48:12.497287Z"
    }
   },
   "outputs": [],
   "source": [
    "import numpy as np\n",
    "import hdf5storage as hs\n",
    "import os\n",
    "import write_utils as wu\n",
    "from load_utils import load_from_json\n",
    "import argparse\n",
    "import Run_libradtran as Rl\n",
    "from datetime import datetime\n",
    "from path_utils import getpath"
   ]
  },
  {
   "cell_type": "code",
   "execution_count": 34,
   "metadata": {
    "ExecuteTime": {
     "end_time": "2019-06-19T22:21:08.165872Z",
     "start_time": "2019-06-19T22:21:08.163019Z"
    }
   },
   "outputs": [],
   "source": [
    "name = 'ORACLES_theory'"
   ]
  },
  {
   "cell_type": "code",
   "execution_count": 33,
   "metadata": {
    "ExecuteTime": {
     "end_time": "2019-06-19T22:21:07.219413Z",
     "start_time": "2019-06-19T22:21:07.216625Z"
    }
   },
   "outputs": [],
   "source": [
    "vv = 'v1'"
   ]
  },
  {
   "cell_type": "code",
   "execution_count": 25,
   "metadata": {
    "ExecuteTime": {
     "end_time": "2019-06-19T20:48:54.324624Z",
     "start_time": "2019-06-19T20:48:54.317316Z"
    }
   },
   "outputs": [
    {
     "name": "stdout",
     "output_type": "stream",
     "text": [
      "Return path named:  ORACLES /mnt/c/Users/sleblanc/Research/ORACLES/\n"
     ]
    }
   ],
   "source": [
    "fp = getpath('ORACLES')\n",
    "if os.sys.platform == 'win32':\n",
    "    fp = getpath('ORACLES')\n",
    "    fp_rtm = 'C:\\\\Users\\\\sleblan2\\\\Research\\\\ORACLES\\\\rtm\\\\'\n",
    "    fp_uvspec = 'C:\\\\Users\\\\sleblan2\\\\Research\\\\libradtran\\\\libRadtran-2.0-beta\\\\bin\\\\uvspec'\n",
    "    fp_rtmdat = 'C:\\\\Users\\\\sleblan2\\\\Research\\\\libradtran\\\\libRadtran-2.0-beta\\\\data\\\\'\n",
    "    #matfile = fp+'..//zen_ict/v3/{}_all_cld_ict.mat'.format(vr)\n",
    "elif os.sys.platform == 'linux2':\n",
    "    fp_rtm = '/nobackup/sleblan2/rtm/'\n",
    "    fp_uvspec = '/u/sleblan2/libradtran/libRadtran-2.0-beta/bin/uvspec'\n",
    "    fp_rtmdat = '/nobackup/sleblan2/AAC_DARF/rtm/' #'/u/sleblan2/4STAR/rtm_dat/'\n",
    "    #matfile = fp+'{}_all_cld_ict.mat'.format(vr)\n",
    "else:\n",
    "    raise Exception"
   ]
  },
  {
   "cell_type": "markdown",
   "metadata": {},
   "source": [
    "## Setup the command line arguments"
   ]
  },
  {
   "cell_type": "code",
   "execution_count": 8,
   "metadata": {
    "ExecuteTime": {
     "end_time": "2019-06-19T20:43:38.516035Z",
     "start_time": "2019-06-19T20:43:38.511938Z"
    }
   },
   "outputs": [],
   "source": [
    "long_description = \"\"\"    Prepare the Cloud radiative effect files for calculations and thn save them using the doread argument\"\"\""
   ]
  },
  {
   "cell_type": "code",
   "execution_count": 9,
   "metadata": {
    "ExecuteTime": {
     "end_time": "2019-06-19T20:43:38.725280Z",
     "start_time": "2019-06-19T20:43:38.717526Z"
    }
   },
   "outputs": [
    {
     "data": {
      "text/plain": [
       "_StoreTrueAction(option_strings=['-doread', '--doread'], dest='doread', nargs=0, const=True, default=False, type=None, choices=None, help='if set, will only read the output, not produce them', metavar=None)"
      ]
     },
     "execution_count": 9,
     "metadata": {},
     "output_type": "execute_result"
    }
   ],
   "source": [
    "parser = argparse.ArgumentParser(description=long_description)\n",
    "parser.add_argument('-doread','--doread',help='if set, will only read the output, not produce them',\n",
    "                    action='store_true')"
   ]
  },
  {
   "cell_type": "code",
   "execution_count": 10,
   "metadata": {
    "ExecuteTime": {
     "end_time": "2019-06-19T20:43:45.998669Z",
     "start_time": "2019-06-19T20:43:45.990288Z"
    }
   },
   "outputs": [
    {
     "name": "stderr",
     "output_type": "stream",
     "text": [
      "usage: ipykernel_launcher.py [-h] [-doread]\n",
      "ipykernel_launcher.py: error: unrecognized arguments: -f /home/sleblanc/.local/share/jupyter/runtime/kernel-0309ae0f-aea3-4dbf-b6b9-a6ec86c19b9a.json\n"
     ]
    },
    {
     "ename": "SystemExit",
     "evalue": "2",
     "output_type": "error",
     "traceback": [
      "An exception has occurred, use %tb to see the full traceback.\n",
      "\u001b[0;31mSystemExit\u001b[0m\u001b[0;31m:\u001b[0m 2\n"
     ]
    },
    {
     "name": "stderr",
     "output_type": "stream",
     "text": [
      "/usr/local/lib/python2.7/dist-packages/IPython/core/interactiveshell.py:2890: UserWarning: To exit: use 'exit', 'quit', or Ctrl-D.\n",
      "  warn(\"To exit: use 'exit', 'quit', or Ctrl-D.\", stacklevel=1)\n"
     ]
    }
   ],
   "source": [
    "in_ = vars(parser.parse_args())\n",
    "do_read = in_.get('doread',False)"
   ]
  },
  {
   "cell_type": "markdown",
   "metadata": {},
   "source": [
    "# Prepare the radiative transfer"
   ]
  },
  {
   "cell_type": "code",
   "execution_count": 13,
   "metadata": {
    "ExecuteTime": {
     "end_time": "2019-06-19T20:46:05.877089Z",
     "start_time": "2019-06-19T20:46:05.872029Z"
    }
   },
   "outputs": [],
   "source": [
    "geo = {'lat':47.6212167,'lon':52.74245,'doy':321,'zout':[0,1.5,100.0],'sza':30.0}\n",
    "aero_no = {} # none\n",
    "cloud = {'ztop':1.0,'zbot':0.5,'write_moments_file':False}\n",
    "source = {'wvl_range':[201.0,4000.0],'source':'solar','integrate_values':True,'run_fuliou':True,\n",
    "          'dat_path':'/u/sleblan2/libradtran/libRadtran-2.0-beta/data/'}\n",
    "albedo = {'create_albedo_file':False,'sea_surface_albedo':True,'wind_speed':5.0}"
   ]
  },
  {
   "cell_type": "code",
   "execution_count": 18,
   "metadata": {
    "ExecuteTime": {
     "end_time": "2019-06-19T20:46:33.890220Z",
     "start_time": "2019-06-19T20:46:33.873412Z"
    }
   },
   "outputs": [
    {
     "ename": "NameError",
     "evalue": "name 'fp_rtmdat' is not defined",
     "output_type": "error",
     "traceback": [
      "\u001b[0;31m---------------------------------------------------------------------------\u001b[0m",
      "\u001b[0;31mNameError\u001b[0m                                 Traceback (most recent call last)",
      "\u001b[0;32m<ipython-input-18-de95b84b28a9>\u001b[0m in \u001b[0;36m<module>\u001b[0;34m()\u001b[0m\n\u001b[1;32m      3\u001b[0m \u001b[0mcloud\u001b[0m\u001b[0;34m[\u001b[0m\u001b[0;34m'tau'\u001b[0m\u001b[0;34m]\u001b[0m \u001b[0;34m=\u001b[0m \u001b[0;36m2.0\u001b[0m\u001b[0;34m\u001b[0m\u001b[0m\n\u001b[1;32m      4\u001b[0m \u001b[0mcloud\u001b[0m\u001b[0;34m[\u001b[0m\u001b[0;34m'ref'\u001b[0m\u001b[0;34m]\u001b[0m \u001b[0;34m=\u001b[0m \u001b[0;36m5.0\u001b[0m\u001b[0;34m\u001b[0m\u001b[0m\n\u001b[0;32m----> 5\u001b[0;31m \u001b[0mpmom\u001b[0m \u001b[0;34m=\u001b[0m \u001b[0mRl\u001b[0m\u001b[0;34m.\u001b[0m\u001b[0mmake_pmom_inputs\u001b[0m\u001b[0;34m(\u001b[0m\u001b[0mfp_rtm\u001b[0m\u001b[0;34m=\u001b[0m\u001b[0mfp_rtmdat\u001b[0m\u001b[0;34m,\u001b[0m\u001b[0msource\u001b[0m\u001b[0;34m=\u001b[0m\u001b[0;34m'solar'\u001b[0m\u001b[0;34m)\u001b[0m\u001b[0;34m\u001b[0m\u001b[0m\n\u001b[0m\u001b[1;32m      6\u001b[0m \u001b[0mcloud\u001b[0m\u001b[0;34m[\u001b[0m\u001b[0;34m'moms_dict'\u001b[0m\u001b[0;34m]\u001b[0m \u001b[0;34m=\u001b[0m \u001b[0mpmom\u001b[0m\u001b[0;34m\u001b[0m\u001b[0m\n",
      "\u001b[0;31mNameError\u001b[0m: name 'fp_rtmdat' is not defined"
     ]
    }
   ],
   "source": [
    "cloud['phase'] = 'wc'\n",
    "geo['sza'] = 40.0\n",
    "cloud['tau'] = 2.0\n",
    "cloud['ref'] = 5.0\n",
    "pmom = Rl.make_pmom_inputs(fp_rtm=fp_rtmdat,source='solar')\n",
    "cloud['moms_dict'] = pmom"
   ]
  },
  {
   "cell_type": "code",
   "execution_count": 19,
   "metadata": {
    "ExecuteTime": {
     "end_time": "2019-06-19T20:46:45.996096Z",
     "start_time": "2019-06-19T20:46:45.992545Z"
    }
   },
   "outputs": [],
   "source": [
    "phase_star = {0:'wc',1:'ic'}"
   ]
  },
  {
   "cell_type": "code",
   "execution_count": 20,
   "metadata": {
    "ExecuteTime": {
     "end_time": "2019-06-19T20:46:53.445325Z",
     "start_time": "2019-06-19T20:46:53.442295Z"
    }
   },
   "outputs": [],
   "source": [
    "phase_modis = {0:'wc',1:'wc',2:'ic',3:'ic',6:'wc'}"
   ]
  },
  {
   "cell_type": "markdown",
   "metadata": {},
   "source": [
    "## Load the aerosol values"
   ]
  },
  {
   "cell_type": "code",
   "execution_count": 28,
   "metadata": {
    "ExecuteTime": {
     "end_time": "2019-06-19T20:53:27.449938Z",
     "start_time": "2019-06-19T20:53:27.438795Z"
    }
   },
   "outputs": [],
   "source": [
    "try:\n",
    "    aero = load_from_json(fp+'model/aero_save_v2.txt')\n",
    "except IOError:\n",
    "    aero = load_from_json(fp+'aero_save_v2.txt')"
   ]
  },
  {
   "cell_type": "code",
   "execution_count": 29,
   "metadata": {
    "ExecuteTime": {
     "end_time": "2019-06-19T20:53:38.039724Z",
     "start_time": "2019-06-19T20:53:38.030927Z"
    }
   },
   "outputs": [
    {
     "data": {
      "text/plain": [
       "{u'asy': array([[0.713289  , 0.68328872, 0.66672784, 0.64227709, 0.62344345,\n",
       "         0.62167625, 0.62605761, 0.62786658, 0.6320782 , 0.52784278,\n",
       "         0.427843  , 0.377843  ],\n",
       "        [0.713289  , 0.68328872, 0.66672784, 0.64227709, 0.62344345,\n",
       "         0.62167625, 0.62605761, 0.62786658, 0.6320782 , 0.52784278,\n",
       "         0.427843  , 0.377843  ]]),\n",
       " u'disort_phase': False,\n",
       " u'expand_hg': True,\n",
       " u'ext': array([[0.238175  , 0.18817546, 0.16828887, 0.12297602, 0.07998438,\n",
       "         0.04323721, 0.035     , 0.03277363, 0.02493016, 0.015     ,\n",
       "         0.01      , 0.005     ],\n",
       "        [0.        , 0.        , 0.        , 0.        , 0.        ,\n",
       "         0.        , 0.        , 0.        , 0.        , 0.        ,\n",
       "         0.        , 0.        ]]),\n",
       " u'ssa': array([[0.917084  , 0.88708406, 0.8821453 , 0.87309964, 0.8612953 ,\n",
       "         0.84643443, 0.84020162, 0.8378846 , 0.82512145, 0.79110621,\n",
       "         0.761106  , 0.721106  ],\n",
       "        [0.917084  , 0.88708406, 0.8821453 , 0.87309964, 0.8612953 ,\n",
       "         0.84643443, 0.84020162, 0.8378846 , 0.82512145, 0.79110621,\n",
       "         0.761106  , 0.721106  ]]),\n",
       " u'wvl_arr': [200.0,\n",
       "  350.0,\n",
       "  400.0,\n",
       "  500.0,\n",
       "  650.0,\n",
       "  875.0,\n",
       "  980.0,\n",
       "  1020.0,\n",
       "  1240.0,\n",
       "  1710.0,\n",
       "  2410.0,\n",
       "  4900.0],\n",
       " u'z_arr': [2.0, 5.0]}"
      ]
     },
     "execution_count": 29,
     "metadata": {},
     "output_type": "execute_result"
    }
   ],
   "source": [
    "aero"
   ]
  },
  {
   "cell_type": "code",
   "execution_count": 37,
   "metadata": {
    "ExecuteTime": {
     "end_time": "2019-06-19T22:35:17.903524Z",
     "start_time": "2019-06-19T22:35:17.898548Z"
    }
   },
   "outputs": [
    {
     "data": {
      "text/plain": [
       "(2, 12)"
      ]
     },
     "execution_count": 37,
     "metadata": {},
     "output_type": "execute_result"
    }
   ],
   "source": [
    "aero['ext'].shape"
   ]
  },
  {
   "cell_type": "code",
   "execution_count": 30,
   "metadata": {
    "ExecuteTime": {
     "end_time": "2019-06-19T22:17:12.224328Z",
     "start_time": "2019-06-19T22:17:12.219883Z"
    }
   },
   "outputs": [],
   "source": [
    "# set the range of ext, ssa, and asy to model at 500 nm\n",
    "ext_arr = [0.05,0.1,0.15,0.2,0.3]\n",
    "ssa_arr = [0.75,0.8,0.85,0.875,0.9]\n",
    "asy_arr = [0.6,0.65,0.7,0.75]"
   ]
  },
  {
   "cell_type": "markdown",
   "metadata": {},
   "source": [
    "## Set up the cloud properties"
   ]
  },
  {
   "cell_type": "code",
   "execution_count": 31,
   "metadata": {
    "ExecuteTime": {
     "end_time": "2019-06-19T22:19:34.724253Z",
     "start_time": "2019-06-19T22:19:34.721252Z"
    }
   },
   "outputs": [],
   "source": [
    "cod_arr = [1.0,2.5,5.0,7.5,10.0,12.5,15.0,20.0]\n",
    "ref_arr = [2.0,5.0,7.5,10.0,12.5,15.0]"
   ]
  },
  {
   "cell_type": "markdown",
   "metadata": {},
   "source": [
    "# Prep the libradtran input file writing"
   ]
  },
  {
   "cell_type": "code",
   "execution_count": 35,
   "metadata": {
    "ExecuteTime": {
     "end_time": "2019-06-19T22:21:17.871068Z",
     "start_time": "2019-06-19T22:21:17.863951Z"
    }
   },
   "outputs": [],
   "source": [
    "# open the list file\n",
    "f = open(fp+'rtm/{}_CRE_{}.sh'.format(name,vv),'w')\n",
    "fpp_in = '/nobackup/sleblan2/rtm/input/{}_CRE_{}/'.format(name,vv)\n",
    "fpp_out = '/nobackup/sleblan2/rtm/output/{}_CRE_{}/'.format(name,vv)\n",
    "fp_uv = '/u/sleblan2/libradtran/libRadtran-2.0-beta/bin/uvspec'\n",
    "fp_in = fp+'rtm/input/CRE/'"
   ]
  },
  {
   "cell_type": "code",
   "execution_count": null,
   "metadata": {},
   "outputs": [],
   "source": [
    "if not os.path.isdir(fpp_in):\n",
    "    os.mkdir(fpp_in)\n",
    "if not os.path.isdir(fpp_out):\n",
    "     os.mkdir(fpp_out)"
   ]
  },
  {
   "cell_type": "code",
   "execution_count": 36,
   "metadata": {
    "ExecuteTime": {
     "end_time": "2019-06-19T22:21:43.209193Z",
     "start_time": "2019-06-19T22:21:43.204813Z"
    }
   },
   "outputs": [
    {
     "ename": "SyntaxError",
     "evalue": "unexpected EOF while parsing (<ipython-input-36-9fbdcec99ef2>, line 1)",
     "output_type": "error",
     "traceback": [
      "\u001b[0;36m  File \u001b[0;32m\"<ipython-input-36-9fbdcec99ef2>\"\u001b[0;36m, line \u001b[0;32m1\u001b[0m\n\u001b[0;31m    if not do_read:\u001b[0m\n\u001b[0m                   ^\u001b[0m\n\u001b[0;31mSyntaxError\u001b[0m\u001b[0;31m:\u001b[0m unexpected EOF while parsing\n"
     ]
    }
   ],
   "source": [
    "if not do_read:"
   ]
  },
  {
   "cell_type": "code",
   "execution_count": null,
   "metadata": {},
   "outputs": [],
   "source": [
    "# make input\n",
    "    \n",
    "    for ic,c in enumerate(cod_arr): \n",
    "        for ir, r in enumerate(ref_arr):\n",
    "            for je, e in enumerate(ext_arr):\n",
    "                for js, s in enumerate(ssa_arr):\n",
    "                    for ja, a in enumerate(asy_arr):\n",
    "                        fm = {'ic':ic,'ir':ir,'je':je,'js':js,'ja':ja,'name':name,'vv':vv}\n",
    "                        f_in = '{name}_{vv}_{ic:02d}{ir:02d}{je:02d}{js:02d}{ja:02d}_withaero.dat'.format(**fm)\n",
    "\n",
    "                        aero['ext'] = aero['ext']*e/aero['ext'][0,3]\n",
    "                        aero['ssa'] = aero['ssa']*s/aero['ssa'][0,3]\n",
    "                        aero['asy'] = aero['asy']*a/aero['asy'][0,3]\n",
    "                        cloud['tau'],cloud['ref'] = c,r\n",
    "                        cloud['write_moments_file'] = True\n",
    "                        \n",
    "                        Rl.write_input_aac(fpp_in+f_in,geo=geo,aero=aero,cloud=cloud,source=source,albedo=albedo,\n",
    "                                                   verbose=False,make_base=False,set_quiet=True)\n",
    "                        f.write('{uv} < {fin} > {out}\\n'.format(uv=fp_uv,fin=fpp_in+f_in,out=fpp_out+f_in))\n",
    "\n",
    "                        f_in = '{name}_{vv}_{ic:02d}{ir:02d}{je:02d}{js:02d}{ja:02d}_withaero_clear.dat'.format(**fm)\n",
    "                        cloud['tau'] = 0.0\n",
    "                        Rl.write_input_aac(fpp_in+f_in,geo=geo,aero=aero,cloud=cloud,source=source,albedo=albedo,\n",
    "                                                   verbose=False,make_base=False,set_quiet=True)\n",
    "                        f.write('{uv} < {fin} > {out}\\n'.format(uv=fp_uv,fin=fpp_in+f_in,out=fpp_out+f_in))\n",
    "\n",
    "                        f_in = '{name}_{vv}_{ic:02d}{ir:02d}{je:02d}{js:02d}{ja:02d}_noaero.dat'.format(**fm)\n",
    "                        cloud['tau'] = c\n",
    "                        if cloud['ref']>25.0:\n",
    "                            cloud['write_moments_file'] = True\n",
    "                        else:\n",
    "                            cloud['write_moments_file'] = False\n",
    "                        Rl.write_input_aac(fpp_in+f_in,geo=geo,aero=aero_no,cloud=cloud,source=source,albedo=albedo,\n",
    "                                                   verbose=False,make_base=False,set_quiet=True)\n",
    "                        f.write('{uv} < {fin} > {out}\\n'.format(uv=fp_uv,fin=fpp_in+f_in,out=fpp_out+f_in))\n",
    "\n",
    "                        f_in = '{name}_{vv}_{ic:02d}{ir:02d}{je:02d}{js:02d}{ja:02d}_noaero_clear.dat'.format(**fm)\n",
    "                        cloud['tau'] = 0.0\n",
    "                        Rl.write_input_aac(fpp_in+f_in,geo=geo,aero=aero_no,cloud=cloud,source=source,albedo=albedo,\n",
    "                                                   verbose=False,make_base=False,set_quiet=True)\n",
    "                        f.write('{uv} < {fin} > {out}\\n'.format(uv=fp_uv,fin=fpp_in+f_in,out=fpp_out+f_in))\n",
    "                        \n",
    "                        print 'cod:{ic:02d}, ref:{ir:02d}, ext:{je:02d}, ssa:{js:02d}, asy:{ja:02d}'.format(**fm)\n",
    "\n",
    "    f.close()"
   ]
  },
  {
   "cell_type": "markdown",
   "metadata": {},
   "source": [
    "# Read the output"
   ]
  },
  {
   "cell_type": "code",
   "execution_count": null,
   "metadata": {},
   "outputs": [],
   "source": [
    "else:"
   ]
  },
  {
   "cell_type": "code",
   "execution_count": null,
   "metadata": {},
   "outputs": [],
   "source": [
    "# read output\n",
    "    nc,nr,ne,ns,na = len(cod_arr),len(ref_arr),len(ext_arr),len(ssa_arr),len(asy_arr)\n",
    "    nz = len(geo['zout'])\n",
    "    star_aero_CRE = {'dn':np.zeros((nc,nr,ne,ns,na,nz))+np.nan,'up':np.zeros((nc,nr,ne,ns,na,nz))+np.nan}\n",
    "    star_aero_CRE_clear = {'dn':np.zeros((nc,nr,ne,ns,na,nz))+np.nan,'up':np.zeros((nc,nr,ne,ns,na,nz))+np.nan}\n",
    "    star_aero_C = np.zeros((nc,nr,ne,ns,na,nz))+np.nan\n",
    "    star_noaero_CRE = {'dn':np.zeros((nc,nr,ne,ns,na,nz))+np.nan,'up':np.zeros((nc,nr,ne,ns,na,nz))+np.nan}\n",
    "    star_noaero_CRE_clear = {'dn':np.zeros((nc,nr,ne,ns,na,nz))+np.nan,'up':np.zeros((nc,nr,ne,ns,na,nz))+np.nan}\n",
    "    star_noaero_C = np.zeros((nc,nr,ne,ns,na,nz))+np.nan"
   ]
  },
  {
   "cell_type": "code",
   "execution_count": null,
   "metadata": {},
   "outputs": [],
   "source": [
    "# run through to read\n",
    "    print '{name}'.format(**fm)\n",
    "    for ic,c in enumerate(cod_arr): \n",
    "        for ir, r in enumerate(ref_arr):\n",
    "            print 'cod:{ic:02d} - ref:{ir:02d}'.format(ic=ic,ir=ir)\n",
    "            for je, e in enumerate(ext_arr):\n",
    "                for js, s in enumerate(ssa_arr):\n",
    "                    for ja, a in enumerate(asy_arr):\n",
    "                        fm = {'ic':ic,'ir':ir,'je':je,'js':js,'ja':ja,'name':name,'vv':vv}\n",
    "                        print '\\r{je:02d}{js:02d}{ja:02d}..'.format(**fm)\n",
    "                        f_in = '{name}_{vv}_{ic:02d}{ir:02d}{je:02d}{js:02d}{ja:02d}_withaero.dat'.format(**fm)\n",
    "                        s = Rl.read_libradtran(fpp_out+f_in,zout=geo['zout'])\n",
    "                        f_in = '{name}_{vv}_{ic:02d}{ir:02d}{je:02d}{js:02d}{ja:02d}_withaero_clear.dat'.format(**fm)\n",
    "                        sc = Rl.read_libradtran(fpp_out+f_in,zout=geo['zout'])\n",
    "\n",
    "                        star_aero_CRE['dn'][ic,ir,je,js,ja,:] = s['diffuse_down']+s['direct_down']\n",
    "                        star_aero_CRE_clear['dn'][ic,ir,je,js,ja,:] = sc['diffuse_down']+sc['direct_down']\n",
    "                        star_aero_CRE['up'][ic,ir,je,js,ja,:] = s['diffuse_up']\n",
    "                        star_aero_CRE_clear['up'][ic,ir,je,js,ja,:] = sc['diffuse_up']\n",
    "                        star_aero_C[ic,ir,je,js,ja,:] = (star_aero_CRE['dn'][ic,ir,je,js,ja,:]-star_aero_CRE['up'][ic,ir,je,js,ja,:]) - \\\n",
    "                                           (star_aero_CRE_clear['dn'][ic,ir,je,js,ja,:]-star_aero_CRE_clear['up'][ic,ir,je,js,ja,:])\n",
    "        \n",
    "                        f_in = '{name}_{vv}_{ic:02d}{ir:02d}{je:02d}{js:02d}{ja:02d}_noaero.dat'.format(**fm)\n",
    "                        sn = Rl.read_libradtran(fpp_out+f_in,zout=geo['zout'])\n",
    "                        f_in = '{name}_{vv}_{ic:02d}{ir:02d}{je:02d}{js:02d}{ja:02d}_noaero_clear.dat'.format(**fm)\n",
    "                        snc = Rl.read_libradtran(fpp_out+f_in,zout=geo['zout'])\n",
    "\n",
    "                        star_noaero_CRE['dn'][ic,ir,je,js,ja,:] = sn['diffuse_down']+sn['direct_down']\n",
    "                        star_noaero_CRE_clear['dn'][ic,ir,je,js,ja,:] = snc['diffuse_down']+snc['direct_down']\n",
    "                        star_noaero_CRE['up'][ic,ir,je,js,ja,:] = sn['diffuse_up']\n",
    "                        star_noaero_CRE_clear['up'][ic,ir,je,js,ja,:] = snc['diffuse_up']\n",
    "                        star_noaero_C[ic,ir,je,js,ja,:] = (star_noaero_CRE['dn'][ic,ir,je,js,ja,:]-star_noaero_CRE['up'][ic,ir,je,js,ja,:]) - \\\n",
    "                                             (star_noaero_CRE_clear['dn'][ic,ir,je,js,ja,:]-star_noaero_CRE_clear['up'][ic,ir,je,js,ja,:])"
   ]
  },
  {
   "cell_type": "code",
   "execution_count": null,
   "metadata": {},
   "outputs": [],
   "source": [
    "# save the output\n",
    "    star1 = {'star_noaero_CRE':star_noaero_CRE,'star_noaero_CRE_clear':star_noaero_CRE_clear,'star_noaero_C':star_noaero_C,\n",
    "            'star_aero_CRE':star_aero_CRE,'star_aero_CRE_clear':star_aero_CRE_clear,'star_aero_C':star_aero_C}\n",
    "    star = wu.iterate_dict_unicode(star1)\n",
    "    print 'saving file to: '+fp+'{name}_CRE_{vv}.mat'.format(name=name,vv=vv)\n",
    "    hs.savemat(fp+'{name}_CRE_{vv}.mat'.format(name=name,vv=vv),star)\n",
    "    #hs.savemat(fp+'{name}_CRE_{vv}.mat'.format(name=name,vv=vv),star_noaero_CRE,star_noaero_CRE_clear,star_noaero_C,\n",
    "     #                                                           star_aero_CRE,star_aero_CRE_clear,star_aero_C)"
   ]
  }
 ],
 "metadata": {
  "kernelspec": {
   "display_name": "Python 2",
   "language": "python",
   "name": "python2"
  },
  "language_info": {
   "codemirror_mode": {
    "name": "ipython",
    "version": 2
   },
   "file_extension": ".py",
   "mimetype": "text/x-python",
   "name": "python",
   "nbconvert_exporter": "python",
   "pygments_lexer": "ipython2",
   "version": "2.7.12"
  },
  "toc": {
   "nav_menu": {},
   "number_sections": true,
   "sideBar": false,
   "skip_h1_title": false,
   "toc_cell": false,
   "toc_position": {},
   "toc_section_display": "block",
   "toc_window_display": false
  }
 },
 "nbformat": 4,
 "nbformat_minor": 2
}
