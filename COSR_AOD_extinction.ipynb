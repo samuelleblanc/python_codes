{
 "cells": [
  {
   "cell_type": "markdown",
   "metadata": {},
   "source": [
    "# Info\n",
    "Name:  \n",
    "\n",
    "    COSR_AOD_extinction\n",
    "\n",
    "Purpose:  \n",
    "\n",
    "    Analysis of COSR data. Focus on case studies, and define the changes in AOD. Obtain the extinction coefficient from case     studies\n",
    "  \n",
    "Input:\n",
    "\n",
    "    None\n",
    "  \n",
    "Output:\n",
    "\n",
    "    Figures\n",
    "  \n",
    "Keywords:\n",
    "\n",
    "    none\n",
    "  \n",
    "Dependencies:\n",
    "\n",
    "    - load_utils.py : for loading OMI HDF5 files\n",
    "    - matplotlib\n",
    "    - numpy\n",
    "  \n",
    "Needed Files:\n",
    "\n",
    "  - file.rc : for consistent creation of look of matplotlib figures\n",
    "  - COSR starsun.mat, and flag files\n",
    "  \n",
    "Modification History:\n",
    "\n",
    "    Written: Samuel LeBlanc, Santa Cruz, CA, 2019-09-25\n",
    "    Modified: "
   ]
  },
  {
   "cell_type": "markdown",
   "metadata": {},
   "source": [
    "# Prepare python environment"
   ]
  },
  {
   "cell_type": "code",
   "execution_count": 1,
   "metadata": {
    "ExecuteTime": {
     "end_time": "2019-09-25T17:07:53.403173Z",
     "start_time": "2019-09-25T17:07:44.053486Z"
    }
   },
   "outputs": [
    {
     "name": "stderr",
     "output_type": "stream",
     "text": [
      "/usr/local/lib/python2.7/dist-packages/h5py/__init__.py:36: FutureWarning: Conversion of the second argument of issubdtype from `float` to `np.floating` is deprecated. In future, it will be treated as `np.float64 == np.dtype(float).type`.\n",
      "  from ._conv import register_converters as _register_converters\n"
     ]
    }
   ],
   "source": [
    "%config InlineBackend.rc = {}\n",
    "import matplotlib \n",
    "import os\n",
    "matplotlib.rc_file(os.path.join(os.getcwd(),'file.rc'))\n",
    "import matplotlib.pyplot as plt\n",
    "import matplotlib.colors as colors\n",
    "import numpy as np\n",
    "import Sp_parameters as Sp\n",
    "from load_utils import mat2py_time, toutc, load_ict\n",
    "import load_utils as lu\n",
    "import plotting_utils as pu\n",
    "from path_utils import getpath\n",
    "import hdf5storage as hs\n",
    "from datetime import datetime\n",
    "from scipy.interpolate import UnivariateSpline\n",
    "import matplotlib.dates as mdates\n",
    "from mpl_toolkits.basemap import Basemap\n",
    "import scipy.stats as st"
   ]
  },
  {
   "cell_type": "code",
   "execution_count": 2,
   "metadata": {
    "ExecuteTime": {
     "end_time": "2019-09-25T17:07:53.543074Z",
     "start_time": "2019-09-25T17:07:53.406083Z"
    }
   },
   "outputs": [],
   "source": [
    "%matplotlib notebook"
   ]
  },
  {
   "cell_type": "code",
   "execution_count": 6,
   "metadata": {
    "ExecuteTime": {
     "end_time": "2019-09-25T17:11:55.069616Z",
     "start_time": "2019-09-25T17:11:55.065074Z"
    }
   },
   "outputs": [
    {
     "name": "stdout",
     "output_type": "stream",
     "text": [
      "Return path named:  COSR /mnt/c/Users/sleblanc/Research/COSR/\n"
     ]
    }
   ],
   "source": [
    "fp =getpath('COSR')"
   ]
  },
  {
   "cell_type": "markdown",
   "metadata": {},
   "source": [
    "# Load files"
   ]
  },
  {
   "cell_type": "markdown",
   "metadata": {},
   "source": [
    "## Load the starsun"
   ]
  },
  {
   "cell_type": "code",
   "execution_count": null,
   "metadata": {},
   "outputs": [],
   "source": []
  },
  {
   "cell_type": "markdown",
   "metadata": {},
   "source": [
    "## Load the flag files"
   ]
  },
  {
   "cell_type": "code",
   "execution_count": null,
   "metadata": {},
   "outputs": [],
   "source": []
  },
  {
   "cell_type": "markdown",
   "metadata": {},
   "source": [
    "# Run analysis and prepare variables\n",
    "Do some of the calculations to the data here"
   ]
  },
  {
   "cell_type": "markdown",
   "metadata": {},
   "source": [
    "# Plotting\n",
    "Present some fo the early plots here"
   ]
  },
  {
   "cell_type": "code",
   "execution_count": null,
   "metadata": {},
   "outputs": [],
   "source": []
  }
 ],
 "metadata": {
  "kernelspec": {
   "display_name": "Python 2",
   "language": "python",
   "name": "python2"
  },
  "language_info": {
   "codemirror_mode": {
    "name": "ipython",
    "version": 2
   },
   "file_extension": ".py",
   "mimetype": "text/x-python",
   "name": "python",
   "nbconvert_exporter": "python",
   "pygments_lexer": "ipython2",
   "version": "2.7.18"
  },
  "toc": {
   "base_numbering": 1,
   "nav_menu": {},
   "number_sections": true,
   "sideBar": true,
   "skip_h1_title": false,
   "title_cell": "Table of Contents",
   "title_sidebar": "Contents",
   "toc_cell": false,
   "toc_position": {},
   "toc_section_display": "block",
   "toc_window_display": false
  }
 },
 "nbformat": 4,
 "nbformat_minor": 2
}
