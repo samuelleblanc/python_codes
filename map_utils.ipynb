{
 "cells": [
  {
   "cell_type": "code",
   "execution_count": null,
   "metadata": {
    "run_control": {
     "breakpoint": false,
     "read_only": false
    }
   },
   "outputs": [],
   "source": [
    "def __init__():\n",
    "    \"\"\"\n",
    "       Collection of codes to run some typical map utilities\n",
    "       \n",
    "           - spherical_dist: codes to calculate the distance from a certain lat lon points\n",
    "           - map_ind: find the indices of the closest point \n",
    "           - radius_m2deg: return the radius of a circle defined by meters to lat lon degrees, \n",
    "           \n",
    "        details are in the info of each module\n",
    "    \"\"\"\n",
    "    pass"
   ]
  },
  {
   "cell_type": "code",
   "execution_count": 1,
   "metadata": {
    "run_control": {
     "breakpoint": false,
     "read_only": false
    }
   },
   "outputs": [],
   "source": [
    "def spherical_dist(pos1, pos2, r=6378.1,use_mi=False):\n",
    "    \"\"\"\n",
    "    Calculate the distance, in km if using the default radius, \n",
    "    from one point to another (can use arrays)\n",
    "    pos1 is array of [lat,lon]\n",
    "    pos2 is array of [lat,lon]\n",
    "    if use_mi = True, radius set to 3958.75 miles, default to False, with radius of 6378.1 km\n",
    "\n",
    "    Modified: Samuel LeBlanc, NASA Ames, Santa Cruz, CA, 2015-09-02\n",
    "    \"\"\"\n",
    "    if use_mi:\n",
    "        r = 3958.75\n",
    "        print('using miles')\n",
    "    import numpy as np\n",
    "    pos1 = np.array(pos1)\n",
    "    pos2 = np.array(pos2)\n",
    "    pos1 = pos1 * np.pi / 180\n",
    "    pos2 = pos2 * np.pi / 180\n",
    "    cos_lat1 = np.cos(pos1[..., 0])\n",
    "    cos_lat2 = np.cos(pos2[..., 0])\n",
    "    cos_lat_d = np.cos(pos1[..., 0] - pos2[..., 0])\n",
    "    cos_lon_d = np.cos(pos1[..., 1] - pos2[..., 1])\n",
    "    return r * np.arccos(cos_lat_d - cos_lat1 * cos_lat2 * (1 - cos_lon_d))"
   ]
  },
  {
   "cell_type": "code",
   "execution_count": 1,
   "metadata": {
    "run_control": {
     "breakpoint": false,
     "read_only": false
    }
   },
   "outputs": [],
   "source": [
    "def bearing(pos1,pos2):\n",
    "    \"Calculate the initial bearing, in degrees, to go from one point to another, along a great circle\"\n",
    "    import numpy as np\n",
    "    pos1 = np.array(pos1)\n",
    "    pos2 = np.array(pos2)\n",
    "    pos1 = pos1 * np.pi / 180\n",
    "    pos2 = pos2 * np.pi / 180\n",
    "    cos_lat1 = np.cos(pos1[..., 0])\n",
    "    cos_lat2 = np.cos(pos2[..., 0])\n",
    "    sin_lat1 = np.sin(pos1[...,0])\n",
    "    sin_lat2 = np.sin(pos2[...,0])\n",
    "    sin_lon_d = np.sin(pos1[...,1]-pos2[...,1])\n",
    "    cos_lat_d = np.cos(pos1[..., 0] - pos2[..., 0])\n",
    "    cos_lon_d = np.cos(pos1[..., 1] - pos2[..., 1])\n",
    "    return 360.0-((np.arctan2(sin_lon_d*cos_lat2,cos_lat1*sin_lat2-sin_lat1*cos_lat2*cos_lon_d)*180.0/np.pi+360.0) % 360.0)"
   ]
  },
  {
   "cell_type": "code",
   "execution_count": 2,
   "metadata": {
    "run_control": {
     "breakpoint": false,
     "read_only": false
    }
   },
   "outputs": [],
   "source": [
    "def map_ind(mod_lon,mod_lat,meas_lon,meas_lat,meas_good=None,verbose=False):\n",
    "    \"\"\" Run to get indices in the measurement space of all the closest mod points. Assuming earth geometry.\"\"\"\n",
    "    from map_utils import spherical_dist\n",
    "    from Sp_parameters import startprogress, progress, endprogress\n",
    "    import numpy as np\n",
    "    try:\n",
    "        if not meas_good:\n",
    "            meas_good = np.where(meas_lon)\n",
    "    except ValueError:\n",
    "        if not meas_good.any():\n",
    "            meas_good = np.where(meas_lon)\n",
    "        \n",
    "    imodis = np.logical_and(np.logical_and(mod_lon>min(meas_lon[meas_good])-0.02 , mod_lon<max(meas_lon[meas_good])+0.02),\n",
    "                            np.logical_and(mod_lat>min(meas_lat[meas_good])-0.02 , mod_lat<max(meas_lat[meas_good])+0.02))\n",
    "    wimodis = np.where(imodis)\n",
    "    if not wimodis[0].any():\n",
    "        if verbose: print('** No points found within range +/- 0.02 in lat and lon, Extending range to +/- 0.2 **')\n",
    "        imodis = np.logical_and(np.logical_and(mod_lon>min(meas_lon[meas_good])-0.2 , mod_lon<max(meas_lon[meas_good])+0.2),\n",
    "                                np.logical_and(mod_lat>min(meas_lat[meas_good])-0.2 , mod_lat<max(meas_lat[meas_good])+0.2))\n",
    "        wimodis = np.where(imodis)\n",
    "        if not wimodis[0].any():\n",
    "            if verbose: print('** No points found in extended range, returning null **')\n",
    "            return []\n",
    "    N1 = mod_lon[imodis].size\n",
    "    modis_grid = np.hstack([mod_lon[imodis].reshape((N1,1)),mod_lat[imodis].reshape((N1,1))])\n",
    "    try:\n",
    "        N2 = len(meas_good)\n",
    "        if N2==1 or N2==2:\n",
    "            meas_good = meas_good[0]\n",
    "            N2 = len(meas_good)\n",
    "        meas_grid = np.hstack([np.array(meas_lon[meas_good]).reshape((N2,1)),np.array(meas_lat[meas_good]).reshape((N2,1))])\n",
    "    except:\n",
    "        import pdb; pdb.set_trace()\n",
    "    meas_in = meas_grid.astype(int)\n",
    "    meas_ind = np.array([meas_good.ravel()*0,meas_good.ravel()*0])\n",
    "    startprogress('Running through flight track')\n",
    "    for i in range(meas_good.size):\n",
    "        d = spherical_dist(meas_grid[i],modis_grid)\n",
    "        try:\n",
    "            meas_ind[0,i] = wimodis[0][np.argmin(d)]\n",
    "        except:\n",
    "            import pdb; pdb.set_trace()\n",
    "        meas_ind[1,i] = wimodis[1][np.argmin(d)]\n",
    "        progress(float(i)/len(meas_good)*100)\n",
    "    endprogress()\n",
    "    return meas_ind"
   ]
  },
  {
   "cell_type": "code",
   "execution_count": null,
   "metadata": {
    "run_control": {
     "breakpoint": false,
     "read_only": false
    }
   },
   "outputs": [],
   "source": [
    "def radius_m2deg(center_lon,center_lat,radius):\n",
    "    \"\"\" \n",
    "    Return the radius in lat lon degrees of a circle centered at the points defined by\n",
    "      center_lon\n",
    "      center_lat\n",
    "    with a radius defined in meters by:\n",
    "      radius\n",
    "      \n",
    "    Dependencies:\n",
    "        \n",
    "        - geopy library\n",
    "    \"\"\"\n",
    "    from geopy import Point\n",
    "    from geopy.distance import VincentyDistance\n",
    "    origin = Point(center_lat,center_lon)\n",
    "    destination = VincentyDistance(kilometers=radius/1000.0).destination(origin,0.0)\n",
    "    radius_degrees = abs(center_lat-destination.latitude)\n",
    "    return radius_degrees"
   ]
  },
  {
   "cell_type": "code",
   "execution_count": 1,
   "metadata": {
    "run_control": {
     "breakpoint": false,
     "read_only": false
    }
   },
   "outputs": [],
   "source": [
    "def stats_within_radius(lat1,lon1,lat2,lon2,x2,radius,subset=True):\n",
    "    \"\"\"\n",
    "    Run through all points defined by lat1 and lon1 (can be arrays)\n",
    "    to find the points within defined by lat2 and lon2 that are within a distance in meters defined by radius\n",
    "    lat2, lon2, x2 can be multidimensional, will be flattened first\n",
    "    if subset (optional) is set to True, and there are more than 100 points, only every 10th in lat1, lon1 will be used.\n",
    "    Returns a dicttionary of statistics:\n",
    "        'index' : array of indices of flattened lat2 and lon2 that are within radius meters of each point of lat1 and lon1\n",
    "        'std' : array of standard deviation of x2 that are near lat1 and lon1 by radius\n",
    "        'range' : range of values of x2 near lat1, lon1\n",
    "        'mean' : mean of values of x2 near lat1, lon1\n",
    "        'median': median values of x2 near lat1, lon1\n",
    "    \"\"\"\n",
    "    from scipy.spatial import cKDTree\n",
    "    from map_utils import radius_m2deg\n",
    "    import numpy as np\n",
    "    print('Setting up the lat, lon, localization')\n",
    "    max_distance = radius_m2deg(lon1[0],lat1[0],radius) #transform to degrees\n",
    "    if (len(lat1) > 100) & subset:\n",
    "        points_ref = np.column_stack((lat1[::10],lon1[::10]))\n",
    "    else:\n",
    "        points_ref = np.column_stack((lat1,lon1))\n",
    "    if len(lat2.shape) > 1:\n",
    "        points = np.column_stack((lat2.reshape(lat2.size),lon2.reshape(lon2.size)))\n",
    "        xx = x2.reshape(x2.size)\n",
    "    else:\n",
    "        points = np.column_stack((lat2,lon2)) \n",
    "        xx = x2\n",
    "    tree = cKDTree(points)\n",
    "    tree_ref = cKDTree(points_ref)\n",
    "    out = dict()\n",
    "    print('... Getting the index points')\n",
    "    out['index'] = tree_ref.query_ball_tree(tree,max_distance)\n",
    "    out['std'] = []\n",
    "    out['range'] = []\n",
    "    out['mean'] = []\n",
    "    out['median'] = []\n",
    "    print('... Running through index points')\n",
    "    for i in out['index']:\n",
    "        if not i:\n",
    "            out['std'].append(np.NaN)\n",
    "            out['range'].append(np.NaN)\n",
    "            out['mean'].append(np.NaN)\n",
    "            out['median'].append(np.NaN)\n",
    "        else:\n",
    "            out['std'].append(np.nanstd(xx[i]))\n",
    "            out['range'].append(np.nanmax(xx[i])-np.nanmin(xx[i]))\n",
    "            out['mean'].append(np.nanmean(xx[i]))\n",
    "            out['median'].append(np.median(xx[i]))\n",
    "    out['std'] = np.array(out['std'])\n",
    "    out['range'] = np.array(out['range'])\n",
    "    out['mean'] = np.array(out['mean'])\n",
    "    out['median'] = np.array(out['median'])\n",
    "    print(list(out.keys()))\n",
    "    return out"
   ]
  },
  {
   "cell_type": "code",
   "execution_count": 3,
   "metadata": {
    "run_control": {
     "breakpoint": false
    }
   },
   "outputs": [],
   "source": [
    "def equi(m, centerlon, centerlat, radius, *args, **kwargs):\n",
    "    \"\"\"\n",
    "    plot a single circle on a map\n",
    "    uses the shoot function below\n",
    "    from: http://www.geophysique.be/2011/02/20/matplotlib-basemap-tutorial-09-drawing-circles/\n",
    "    by: Thomas Lecocq\n",
    "    \"\"\"\n",
    "    from map_utils import shoot\n",
    "    glon1 = centerlon\n",
    "    glat1 = centerlat\n",
    "    X = []\n",
    "    Y = []\n",
    "    for azimuth in range(0, 360):\n",
    "        glon2, glat2, baz = shoot(glon1, glat1, azimuth, radius)\n",
    "        X.append(glon2)\n",
    "        Y.append(glat2)\n",
    "    X.append(X[0])\n",
    "    Y.append(Y[0])\n",
    "\n",
    "    #m.plot(X,Y,**kwargs) #Should work, but doesn't...\n",
    "    X,Y = m(X,Y)\n",
    "    line = m.ax.plot(X,Y,**kwargs)\n",
    "    return line"
   ]
  },
  {
   "cell_type": "code",
   "execution_count": 4,
   "metadata": {
    "run_control": {
     "breakpoint": false
    }
   },
   "outputs": [],
   "source": [
    "def shoot(lon, lat, azimuth, maxdist=None):\n",
    "    \"\"\"Shooter Function\n",
    "    Original javascript on http://williams.best.vwh.net/gccalc.htm\n",
    "    Translated to python by Thomas Lecocq\n",
    "    \"\"\"\n",
    "    import numpy as np\n",
    "    import warnings\n",
    "    glat1 = lat * np.pi / 180.\n",
    "    glon1 = lon * np.pi / 180.\n",
    "    s = maxdist / 1.852\n",
    "    faz = azimuth * np.pi / 180.\n",
    " \n",
    "    EPS= 0.00000000005\n",
    "    if ((np.abs(np.cos(glat1))<EPS) and not (np.abs(np.sin(faz))<EPS)):\n",
    "        warnings.warn(\"Only N-S courses are meaningful, starting at a pole!\")\n",
    " \n",
    "    a=6378.13/1.852\n",
    "    f=1/298.257223563\n",
    "    r = 1 - f\n",
    "    tu = r * np.tan(glat1)\n",
    "    sf = np.sin(faz)\n",
    "    cf = np.cos(faz)\n",
    "    if (cf==0):\n",
    "        b=0.\n",
    "    else:\n",
    "        b=2. * np.arctan2 (tu, cf)\n",
    " \n",
    "    cu = 1. / np.sqrt(1 + tu * tu)\n",
    "    su = tu * cu\n",
    "    sa = cu * sf\n",
    "    c2a = 1 - sa * sa\n",
    "    x = 1. + np.sqrt(1. + c2a * (1. / (r * r) - 1.))\n",
    "    x = (x - 2.) / x\n",
    "    c = 1. - x\n",
    "    c = (x * x / 4. + 1.) / c\n",
    "    d = (0.375 * x * x - 1.) * x\n",
    "    tu = s / (r * a * c)\n",
    "    y = tu\n",
    "    c = y + 1\n",
    "    while (np.abs (y - c) > EPS):\n",
    " \n",
    "        sy = np.sin(y)\n",
    "        cy = np.cos(y)\n",
    "        cz = np.cos(b + y)\n",
    "        e = 2. * cz * cz - 1.\n",
    "        c = y\n",
    "        x = e * cy\n",
    "        y = e + e - 1.\n",
    "        y = (((sy * sy * 4. - 3.) * y * cz * d / 6. + x) *\n",
    "              d / 4. - cz) * sy * d + tu\n",
    " \n",
    "    b = cu * cy * cf - su * sy\n",
    "    c = r * np.sqrt(sa * sa + b * b)\n",
    "    d = su * cy + cu * sy * cf\n",
    "    glat2 = (np.arctan2(d, c) + np.pi) % (2*np.pi) - np.pi\n",
    "    c = cu * cy - su * sy * cf\n",
    "    x = np.arctan2(sy * sf, c)\n",
    "    c = ((-3. * c2a + 4.) * f + 4.) * c2a * f / 16.\n",
    "    d = ((e * cy * c + cz) * sy * c + y) * sa\n",
    "    glon2 = ((glon1 + x - (1. - c) * d * f + np.pi) % (2*np.pi)) - np.pi    \n",
    " \n",
    "    baz = (np.arctan2(sa, b) + np.pi) % (2 * np.pi)\n",
    " \n",
    "    glon2 *= 180./np.pi\n",
    "    glat2 *= 180./np.pi\n",
    "    baz *= 180./np.pi\n",
    " \n",
    "    return (glon2, glat2, baz)"
   ]
  },
  {
   "cell_type": "code",
   "execution_count": null,
   "metadata": {
    "run_control": {
     "breakpoint": false
    }
   },
   "outputs": [],
   "source": [
    "def great(m, startlon, startlat, azimuth,*args, **kwargs):\n",
    "    \"\"\"\n",
    "    function to draw great circle, takes into account crossing the border\n",
    "    by: Thomas Lecocq\n",
    "    \"\"\"\n",
    "    glon1 = startlon\n",
    "    glat1 = startlat\n",
    "    glon2 = glon1\n",
    "    glat2 = glat1\n",
    " \n",
    "    step = 50\n",
    " \n",
    "    glon2, glat2, baz = shoot(glon1, glat1, azimuth, step)\n",
    "    if azimuth-180 >= 0:\n",
    "        while glon2 <= startlon:\n",
    "            line = m.drawgreatcircle(glon1, glat1, glon2, glat2,del_s=50,**kwargs)\n",
    "            azimuth = baz + 180.\n",
    "            glat1, glon1 = (glat2, glon2)\n",
    " \n",
    "            glon2, glat2, baz = shoot(glon1, glat1, azimuth, step)\n",
    "    elif azimuth-180 < 0:\n",
    "        while glon2 >= startlon:\n",
    "            line = m.drawgreatcircle(glon1, glat1, glon2, glat2,del_s=50,**kwargs)\n",
    "            azimuth = baz + 180.\n",
    "            glat1, glon1 = (glat2, glon2)\n",
    " \n",
    "            glon2, glat2, baz = shoot(glon1, glat1, azimuth, step)\n",
    "    return line"
   ]
  },
  {
   "cell_type": "code",
   "execution_count": 1,
   "metadata": {
    "run_control": {
     "breakpoint": false
    }
   },
   "outputs": [],
   "source": [
    "def get_sza_azi(lat,lon,datetimet,alt=None,return_sunearthfactor=False,return_sunf_and_dec=False):\n",
    "    \"\"\"\n",
    "    Program wrapper for pyephem.Sun to get the solar zenith angle and the solar azimuth angle\n",
    "    can use inputs of list or numpy arrays\n",
    "    require input of lat,lon,datetimet\n",
    "    optional input of altitutde (in meters)\n",
    "    optional output of sun earth distance factor if return_sunearthfactor is set to True\n",
    "    optional output of sun earth distance factor and sun declination if return_sunf_and_dec is set to True\n",
    "    \"\"\"\n",
    "    import ephem\n",
    "    from numpy import pi,isscalar\n",
    "    sun = ephem.Sun()\n",
    "    obs = ephem.Observer()\n",
    "    if isscalar(lat):\n",
    "        if isscalar(datetimet):\n",
    "            lat = [lat]\n",
    "            lon = [lon]\n",
    "            datetime = [datetimet]\n",
    "        else:\n",
    "            lati = [lat for i in range(len(datetimet))]\n",
    "            loni = [lon for i in range(len(datetimet))]\n",
    "            lat,lon = lati,loni\n",
    "    n = len(lat)\n",
    "    sza = []\n",
    "    azi = []\n",
    "    sunf = []\n",
    "    dec = []\n",
    "    for i in range(n):\n",
    "        obs.lat,obs.lon,obs.date = lat[i]/180.0*pi,lon[i]/180.0*pi,datetimet[i]\n",
    "        if alt:\n",
    "            obs.elevation = alt\n",
    "        sun.compute(obs)\n",
    "        sza.append(90.0-sun.alt*180/pi)\n",
    "        azi.append(sun.az*180/pi)\n",
    "        sunf.append(1.0/(sun.earth_distance**2))\n",
    "        dec.append(sun.dec*180.0/pi)\n",
    "    if return_sunf_and_dec:\n",
    "        return sza,azi,sunf,dec\n",
    "    elif return_sunearthfactor:\n",
    "        return sza,azi,sunf\n",
    "    else:\n",
    "        return sza,azi"
   ]
  },
  {
   "cell_type": "code",
   "execution_count": 1,
   "metadata": {
    "collapsed": true,
    "jupyter": {
     "outputs_hidden": true
    }
   },
   "outputs": [],
   "source": [
    "def consecutive(data, stepsize=1):\n",
    "    'simple program to get consecutive values'\n",
    "    import numpy as np\n",
    "    return np.split(data, np.where(np.diff(data) != stepsize)[0]+1)"
   ]
  },
  {
   "cell_type": "code",
   "execution_count": 3,
   "metadata": {
    "collapsed": true,
    "jupyter": {
     "outputs_hidden": true
    }
   },
   "outputs": [],
   "source": [
    "def mplot_spec(m,lon,lat,*args,**kwargs):\n",
    "    'Program to plot lines on a map, wihtout the extra cross sides of lines because of the dateline problem'\n",
    "    import numpy as np\n",
    "    from map_utils import consecutive\n",
    "    latrange = [m.llcrnrlat,m.urcrnrlat]\n",
    "    lonrange = [m.llcrnrlon,m.urcrnrlon]\n",
    "    lon = np.array(lon)\n",
    "    lat = np.array(lat)\n",
    "    ii, = np.where((lat<=latrange[1])&(lat>=latrange[0])&(lon>=lonrange[0])&(lon<=lonrange[1]))\n",
    "    ic = consecutive(ii)\n",
    "    lines = []\n",
    "    for c in ic:\n",
    "        if c[0] != 0 : c = np.insert(c,0,c[0]-1)\n",
    "        if c[-1] != len(lon)-1: c = np.append(c,c[-1]+1)\n",
    "        x,y = m(lon[c],lat[c])\n",
    "        lines.append(m.plot(x,y,*args,**kwargs))\n",
    "    return lines"
   ]
  },
  {
   "cell_type": "code",
   "execution_count": 3,
   "metadata": {
    "collapsed": true,
    "jupyter": {
     "outputs_hidden": true
    }
   },
   "outputs": [],
   "source": [
    "def PolyArea(x,y):\n",
    "    'Program to calculate the area within a polygon defined by vertices x,y (both arrays)'\n",
    "    import numpy as np\n",
    "    return 0.5*np.abs(np.dot(x,np.roll(y,1))-np.dot(y,np.roll(x,1)))"
   ]
  },
  {
   "cell_type": "code",
   "execution_count": 2,
   "metadata": {
    "collapsed": true,
    "jupyter": {
     "outputs_hidden": true
    }
   },
   "outputs": [],
   "source": [
    "def WithinArea(xpoint,ypoint,xpoly,ypoly):\n",
    "    'return True if point (at xpoint,ypoint coordinates) within area defined by xpoly,ypoly vertices'\n",
    "    from map_utils import PolyArea\n",
    "    import numpy as np\n",
    "    area = PolyArea(xpoly,ypoly)\n",
    "    area_sup = 0.0\n",
    "    for i in range(len(xpoly)-1):\n",
    "        area_sup += PolyArea([xpoint,xpoly[i],xpoly[i+1]],[ypoint,ypoly[i],ypoly[i+1]])\n",
    "    return area_sup<=area"
   ]
  },
  {
   "cell_type": "code",
   "execution_count": null,
   "metadata": {
    "collapsed": true,
    "jupyter": {
     "outputs_hidden": true
    }
   },
   "outputs": [],
   "source": []
  }
 ],
 "metadata": {
  "kernelspec": {
   "display_name": "Python 3 (ipykernel)",
   "language": "python",
   "name": "python3"
  },
  "language_info": {
   "codemirror_mode": {
    "name": "ipython",
    "version": 3
   },
   "file_extension": ".py",
   "mimetype": "text/x-python",
   "name": "python",
   "nbconvert_exporter": "python",
   "pygments_lexer": "ipython3",
   "version": "3.10.10"
  },
  "toc": {
   "base_numbering": 1,
   "nav_menu": {},
   "number_sections": true,
   "sideBar": false,
   "skip_h1_title": false,
   "title_cell": "Table of Contents",
   "title_sidebar": "Contents",
   "toc_cell": false,
   "toc_position": {},
   "toc_section_display": "block",
   "toc_window_display": false
  },
  "varInspector": {
   "cols": {
    "lenName": 16,
    "lenType": 16,
    "lenVar": 40
   },
   "kernels_config": {
    "python": {
     "delete_cmd_postfix": "",
     "delete_cmd_prefix": "del ",
     "library": "var_list.py",
     "varRefreshCmd": "print(var_dic_list())"
    },
    "r": {
     "delete_cmd_postfix": ") ",
     "delete_cmd_prefix": "rm(",
     "library": "var_list.r",
     "varRefreshCmd": "cat(var_dic_list()) "
    }
   },
   "types_to_exclude": [
    "module",
    "function",
    "builtin_function_or_method",
    "instance",
    "_Feature"
   ],
   "window_display": false
  }
 },
 "nbformat": 4,
 "nbformat_minor": 4
}
