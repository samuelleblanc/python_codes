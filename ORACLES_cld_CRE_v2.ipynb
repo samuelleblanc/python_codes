{
 "cells": [
  {
   "cell_type": "markdown",
   "metadata": {},
   "source": [
    "# Intro\n",
    "Name:  \n",
    "\n",
    "    ORACLES_cld_CRE_v2\n",
    "\n",
    "Purpose:  \n",
    "\n",
    "    Build the cloud radiative effect input files from the cloud retrieval exported from ORACLES_cld_explore file\n",
    "  \n",
    "Input:\n",
    "\n",
    "    none at command line\n",
    "  \n",
    "Output:\n",
    "\n",
    "    figures and save files...\n",
    "  \n",
    "Keywords:\n",
    "\n",
    "    none\n",
    "  \n",
    "Dependencies:\n",
    "\n",
    "    - Sp_parameters.py : for Sp class definition, and for defining the functions used to build parameters\n",
    "    - matplotlib\n",
    "    - mpltools\n",
    "    - numpy\n",
    "    - scipy : for saving and reading\n",
    "    - plotting_utils (user defined plotting routines)\n",
    "    - hdf5storage\n",
    "  \n",
    "Needed Files:\n",
    "\n",
    "  - file.rc : for consistent creation of look of matplotlib figures\n",
    "  - 4STAR_cloud retrieval .mat files\n",
    "  \n",
    " Modification History:\n",
    " \n",
    "     Written: by Samuel LeBlanc, Bathurst, NB, 2017-01-06\n",
    "     Modified: Samuel LeBlanc, Santa Cruz, CA, 2019-11-20\n",
    "               - changed the file to load multiple aerosol models for CRE calculations"
   ]
  },
  {
   "cell_type": "markdown",
   "metadata": {},
   "source": [
    "# Import of modules"
   ]
  },
  {
   "cell_type": "code",
   "execution_count": 1,
   "metadata": {
    "ExecuteTime": {
     "end_time": "2019-11-22T00:15:22.789838Z",
     "start_time": "2019-11-22T00:15:22.344697Z"
    }
   },
   "outputs": [
    {
     "name": "stderr",
     "output_type": "stream",
     "text": [
      "/usr/lib/python2.7/dist-packages/h5py/__init__.py:36: FutureWarning: Conversion of the second argument of issubdtype from `float` to `np.floating` is deprecated. In future, it will be treated as `np.float64 == np.dtype(float).type`.\n",
      "  from ._conv import register_converters as _register_converters\n"
     ]
    }
   ],
   "source": [
    "import numpy as np\n",
    "import hdf5storage as hs\n",
    "import os\n",
    "import write_utils as wu\n",
    "import scipy.io as sio\n",
    "from path_utils import getpath\n",
    "import matplotlib.pyplot as plt"
   ]
  },
  {
   "cell_type": "code",
   "execution_count": 55,
   "metadata": {
    "ExecuteTime": {
     "end_time": "2019-11-22T01:02:15.895842Z",
     "start_time": "2019-11-22T01:02:15.888998Z"
    }
   },
   "outputs": [],
   "source": [
    "from load_utils import load_from_json, mat2py_time,toutc"
   ]
  },
  {
   "cell_type": "code",
   "execution_count": 3,
   "metadata": {
    "ExecuteTime": {
     "end_time": "2019-11-22T00:15:23.503662Z",
     "start_time": "2019-11-22T00:15:23.496803Z"
    }
   },
   "outputs": [],
   "source": [
    "name = 'ORACLES'"
   ]
  },
  {
   "cell_type": "code",
   "execution_count": 4,
   "metadata": {
    "ExecuteTime": {
     "end_time": "2019-11-22T00:15:23.931950Z",
     "start_time": "2019-11-22T00:15:23.927646Z"
    }
   },
   "outputs": [],
   "source": [
    "vv = 'v5'\n",
    "vr = 'R2'"
   ]
  },
  {
   "cell_type": "code",
   "execution_count": 23,
   "metadata": {
    "ExecuteTime": {
     "end_time": "2019-11-22T00:39:08.697846Z",
     "start_time": "2019-11-22T00:39:08.679763Z"
    }
   },
   "outputs": [
    {
     "name": "stdout",
     "output_type": "stream",
     "text": [
      "Return path named:  rtm /home/samuel/rtm/\n",
      "Return path named:  uvspec_bin /mnt/c/Users/lebla/Research/libradtran/libRadtran-2.0.2/bin/\n",
      "Return path named:  ORACLES /mnt/c/Users/lebla/Research/ORACLES/\n",
      "Return path named:  uvspec_dat /mnt/c/Users/lebla/Research/libradtran/libRadtran-2.0.2/data/\n"
     ]
    }
   ],
   "source": [
    "fp_rtm = getpath('rtm')\n",
    "fp_uvspec = getpath('uvspec_bin')+'uvspec'\n",
    "fp = getpath('ORACLES')\n",
    "fp_rtmdat = fp_rtm+'dat/'\n",
    "matfile = fp+'{}_all_cld_ict.mat'.format(vr)\n",
    "fp_uvspec_dat = getpath('uvspec_dat')"
   ]
  },
  {
   "cell_type": "markdown",
   "metadata": {},
   "source": [
    "## Set up for command line arguments"
   ]
  },
  {
   "cell_type": "code",
   "execution_count": 75,
   "metadata": {
    "collapsed": true
   },
   "outputs": [],
   "source": [
    "import argparse"
   ]
  },
  {
   "cell_type": "code",
   "execution_count": 76,
   "metadata": {
    "collapsed": true
   },
   "outputs": [],
   "source": [
    "long_description = \"\"\"    Prepare the Cloud radiative effect files for calculations and thn save them using the doread argument\"\"\""
   ]
  },
  {
   "cell_type": "code",
   "execution_count": null,
   "metadata": {
    "collapsed": true
   },
   "outputs": [],
   "source": [
    "parser = argparse.ArgumentParser(description=long_description)\n",
    "parser.add_argument('-doread','--doread',help='if set, will only read the output, not produce them',\n",
    "                    action='store_true')"
   ]
  },
  {
   "cell_type": "code",
   "execution_count": null,
   "metadata": {
    "collapsed": true
   },
   "outputs": [],
   "source": [
    "in_ = vars(parser.parse_args())\n",
    "do_read = in_.get('doread',False)"
   ]
  },
  {
   "cell_type": "markdown",
   "metadata": {},
   "source": [
    "# Load the saved files"
   ]
  },
  {
   "cell_type": "markdown",
   "metadata": {},
   "source": [
    "## Load the cloud retrievals"
   ]
  },
  {
   "cell_type": "code",
   "execution_count": 6,
   "metadata": {
    "ExecuteTime": {
     "end_time": "2019-11-22T00:15:28.597348Z",
     "start_time": "2019-11-22T00:15:28.468790Z"
    }
   },
   "outputs": [],
   "source": [
    " ar = hs.loadmat(fp+'zen_ict/{}/{}_all_cld_ict.mat'.format(vv,vr))"
   ]
  },
  {
   "cell_type": "code",
   "execution_count": 7,
   "metadata": {
    "ExecuteTime": {
     "end_time": "2019-11-22T00:15:28.835785Z",
     "start_time": "2019-11-22T00:15:28.816545Z"
    }
   },
   "outputs": [
    {
     "data": {
      "text/plain": [
       "[u'fl_alt',\n",
       " u'tau',\n",
       " u'ref_err',\n",
       " u'LWP',\n",
       " u'sza',\n",
       " u'lat_fl',\n",
       " u'lat',\n",
       " u'alt',\n",
       " u'tau_err_fl',\n",
       " u'lon_fl',\n",
       " u'tau_err',\n",
       " u'alt_fl',\n",
       " u'lon',\n",
       " u'tau_fl',\n",
       " u'LWP_err',\n",
       " u'LWP_err_fl',\n",
       " u'ref',\n",
       " u'ref_err_fl',\n",
       " u'fl_ki',\n",
       " u'utc_fl',\n",
       " u'LWP_fl',\n",
       " u'delta',\n",
       " u'phase',\n",
       " u'fl',\n",
       " u'fl_match',\n",
       " u'utc',\n",
       " u'ki',\n",
       " u'days',\n",
       " u'fl_incld',\n",
       " u'ref_fl']"
      ]
     },
     "execution_count": 7,
     "metadata": {},
     "output_type": "execute_result"
    }
   ],
   "source": [
    "ar.keys()"
   ]
  },
  {
   "cell_type": "code",
   "execution_count": 8,
   "metadata": {
    "ExecuteTime": {
     "end_time": "2019-11-22T00:24:07.693087Z",
     "start_time": "2019-11-22T00:24:07.686562Z"
    }
   },
   "outputs": [],
   "source": [
    "dds = ['20160827','20160830','20160831','20160902','20160904','20160906','20160908',\n",
    "       '20160910','20160912','20160914','20160918','20160920','20160924','20160925','20160927']"
   ]
  },
  {
   "cell_type": "markdown",
   "metadata": {},
   "source": [
    "## Load the linked acaod values"
   ]
  },
  {
   "cell_type": "code",
   "execution_count": 9,
   "metadata": {
    "ExecuteTime": {
     "end_time": "2019-11-22T00:24:10.411338Z",
     "start_time": "2019-11-22T00:24:10.307816Z"
    }
   },
   "outputs": [],
   "source": [
    "aca = hs.loadmat(fp+'starzen/acaod_index_{}.mat'.format(vv))"
   ]
  },
  {
   "cell_type": "code",
   "execution_count": 10,
   "metadata": {
    "ExecuteTime": {
     "end_time": "2019-11-22T00:24:11.639022Z",
     "start_time": "2019-11-22T00:24:11.630139Z"
    }
   },
   "outputs": [
    {
     "data": {
      "text/plain": [
       "[u'files', u'utc', u'acaod_index']"
      ]
     },
     "execution_count": 10,
     "metadata": {},
     "output_type": "execute_result"
    }
   ],
   "source": [
    "aca.keys()"
   ]
  },
  {
   "cell_type": "code",
   "execution_count": 11,
   "metadata": {
    "ExecuteTime": {
     "end_time": "2019-11-22T00:24:12.979813Z",
     "start_time": "2019-11-22T00:24:12.969955Z"
    }
   },
   "outputs": [
    {
     "data": {
      "text/plain": [
       "{u'0': 'ORACLES_lut_v5_05aod.txt',\n",
       " u'1': 'ORACLES_lut_v5_10aod.txt',\n",
       " u'2': 'ORACLES_lut_v5_15aod.txt',\n",
       " u'3': 'ORACLES_lut_v5_lowaod.txt',\n",
       " u'4': 'ORACLES_lut_v5_midaod.txt',\n",
       " u'5': 'ORACLES_lut_v5_65aod.txt',\n",
       " u'6': 'ORACLES_lut_v5_80aod.txt'}"
      ]
     },
     "execution_count": 11,
     "metadata": {},
     "output_type": "execute_result"
    }
   ],
   "source": [
    "aca['files']"
   ]
  },
  {
   "cell_type": "code",
   "execution_count": 16,
   "metadata": {
    "ExecuteTime": {
     "end_time": "2019-11-22T00:31:58.128333Z",
     "start_time": "2019-11-22T00:31:57.832154Z"
    }
   },
   "outputs": [
    {
     "data": {
      "text/plain": [
       "(array([1406.,    0.,    0.,    0.,    0.,    0.,  234.,    0.,    0.,\n",
       "         218.]),\n",
       " array([0. , 0.3, 0.6, 0.9, 1.2, 1.5, 1.8, 2.1, 2.4, 2.7, 3. ]),\n",
       " <a list of 10 Patch objects>)"
      ]
     },
     "execution_count": 16,
     "metadata": {},
     "output_type": "execute_result"
    },
    {
     "data": {
      "image/png": "[encoded data removed]",
      "text/plain": [
       "<Figure size 432x288 with 1 Axes>"
      ]
     },
     "metadata": {
      "needs_background": "light"
     },
     "output_type": "display_data"
    }
   ],
   "source": [
    "plt.figure()\n",
    "plt.hist(aca['acaod_index']['20160904'])"
   ]
  },
  {
   "cell_type": "markdown",
   "metadata": {},
   "source": [
    "# Prepare input files for radiative transfer"
   ]
  },
  {
   "cell_type": "code",
   "execution_count": 17,
   "metadata": {
    "ExecuteTime": {
     "end_time": "2019-11-22T00:33:23.073761Z",
     "start_time": "2019-11-22T00:33:23.051470Z"
    }
   },
   "outputs": [],
   "source": [
    "import Run_libradtran as Rl"
   ]
  },
  {
   "cell_type": "markdown",
   "metadata": {},
   "source": [
    "## Prepare the defaults"
   ]
  },
  {
   "cell_type": "code",
   "execution_count": 21,
   "metadata": {
    "ExecuteTime": {
     "end_time": "2019-11-22T00:38:02.852456Z",
     "start_time": "2019-11-22T00:38:02.845434Z"
    }
   },
   "outputs": [],
   "source": [
    "from datetime import datetime\n",
    "doy = datetime(int(dds[0][0:4]),int(dds[0][4:6]),int(dds[0][6:8])).timetuple().tm_yday"
   ]
  },
  {
   "cell_type": "code",
   "execution_count": 19,
   "metadata": {
    "ExecuteTime": {
     "end_time": "2019-11-22T00:33:45.219763Z",
     "start_time": "2019-11-22T00:33:45.210939Z"
    },
    "scrolled": true
   },
   "outputs": [
    {
     "data": {
      "text/plain": [
       "array([ 0.,  0.,  0., ..., 14., 14., 14.])"
      ]
     },
     "execution_count": 19,
     "metadata": {},
     "output_type": "execute_result"
    }
   ],
   "source": [
    "ar['days']"
   ]
  },
  {
   "cell_type": "code",
   "execution_count": 24,
   "metadata": {
    "ExecuteTime": {
     "end_time": "2019-11-22T00:39:29.457523Z",
     "start_time": "2019-11-22T00:39:29.449447Z"
    }
   },
   "outputs": [],
   "source": [
    "geo = {'lat':47.6212167,'lon':52.74245,'doy':doy,'zout':[0,1.5,100.0]}\n",
    "aero_no = {} # none\n",
    "cloud = {'ztop':1.0,'zbot':0.5,'write_moments_file':False}\n",
    "source = {'wvl_range':[201.0,4000.0],'source':'solar','integrate_values':True,'run_fuliou':True,\n",
    "          'dat_path':fp_uvspec_dat}\n",
    "albedo = {'create_albedo_file':False,'sea_surface_albedo':True,'wind_speed':5.0}"
   ]
  },
  {
   "cell_type": "code",
   "execution_count": 27,
   "metadata": {
    "ExecuteTime": {
     "end_time": "2019-11-22T00:44:30.590043Z",
     "start_time": "2019-11-22T00:44:28.677964Z"
    }
   },
   "outputs": [],
   "source": [
    "cloud['phase'] = 'wc'\n",
    "geo['sza'] = 40.0\n",
    "cloud['tau'] = 2.0\n",
    "cloud['ref'] = 5.0\n",
    "pmom = Rl.make_pmom_inputs(fp_rtm=fp_rtmdat,source='solar')\n",
    "cloud['moms_dict'] = pmom"
   ]
  },
  {
   "cell_type": "code",
   "execution_count": 28,
   "metadata": {
    "ExecuteTime": {
     "end_time": "2019-11-22T00:44:32.138166Z",
     "start_time": "2019-11-22T00:44:32.132542Z"
    }
   },
   "outputs": [],
   "source": [
    "phase_star = {0:'wc',1:'ic'}"
   ]
  },
  {
   "cell_type": "code",
   "execution_count": 29,
   "metadata": {
    "ExecuteTime": {
     "end_time": "2019-11-22T00:44:33.099129Z",
     "start_time": "2019-11-22T00:44:33.093826Z"
    }
   },
   "outputs": [],
   "source": [
    "phase_modis = {0:'wc',1:'wc',2:'ic',3:'ic',6:'wc'}"
   ]
  },
  {
   "cell_type": "markdown",
   "metadata": {},
   "source": [
    "## Load the aerosol values"
   ]
  },
  {
   "cell_type": "code",
   "execution_count": 30,
   "metadata": {
    "ExecuteTime": {
     "end_time": "2019-11-22T00:46:01.755570Z",
     "start_time": "2019-11-22T00:46:01.743931Z"
    }
   },
   "outputs": [
    {
     "data": {
      "text/plain": [
       "u'/mnt/c/Users/lebla/Research/ORACLES/'"
      ]
     },
     "execution_count": 30,
     "metadata": {},
     "output_type": "execute_result"
    }
   ],
   "source": [
    "fp"
   ]
  },
  {
   "cell_type": "code",
   "execution_count": 38,
   "metadata": {
    "ExecuteTime": {
     "end_time": "2019-11-22T00:51:05.213067Z",
     "start_time": "2019-11-22T00:51:05.178750Z"
    }
   },
   "outputs": [],
   "source": [
    "aca['aero'] = {}\n",
    "for ka in aca['files'].keys():\n",
    "    aa = load_from_json(fp+'/model/'+aca['files'][ka])\n",
    "    aca['aero'][ka] = aa['aero']"
   ]
  },
  {
   "cell_type": "code",
   "execution_count": 39,
   "metadata": {
    "ExecuteTime": {
     "end_time": "2019-11-22T00:51:06.179894Z",
     "start_time": "2019-11-22T00:51:06.168263Z"
    }
   },
   "outputs": [
    {
     "data": {
      "text/plain": [
       "OrderedDict([(u'ext',\n",
       "              array([[0.19367598, 0.15301802, 0.1368469 , 0.1       , 0.06504064,\n",
       "                      0.03515906, 0.02846083, 0.02665043, 0.02027237, 0.0121975 ,\n",
       "                      0.00813167, 0.00406583],\n",
       "                     [0.        , 0.        , 0.        , 0.        , 0.        ,\n",
       "                      0.        , 0.        , 0.        , 0.        , 0.        ,\n",
       "                      0.        , 0.        ]])),\n",
       "             (u'wvl_arr',\n",
       "              [200.0,\n",
       "               350.0,\n",
       "               400.0,\n",
       "               500.0,\n",
       "               650.0,\n",
       "               875.0,\n",
       "               980.0,\n",
       "               1020.0,\n",
       "               1240.0,\n",
       "               1710.0,\n",
       "               2410.0,\n",
       "               4900.0]),\n",
       "             (u'expand_hg', True),\n",
       "             (u'disort_phase', False),\n",
       "             (u'asy',\n",
       "              array([[0.75      , 0.71      , 0.69      , 0.645     , 0.58      ,\n",
       "                      0.52      , 0.512     , 0.51      , 0.49      , 0.45      ,\n",
       "                      0.427843  , 0.377843  ],\n",
       "                     [0.713289  , 0.68328872, 0.66672784, 0.64227709, 0.62344345,\n",
       "                      0.62167625, 0.62605761, 0.62786658, 0.6320782 , 0.52784278,\n",
       "                      0.427843  , 0.377843  ]])),\n",
       "             (u'z_arr', [2.0, 5.0]),\n",
       "             (u'ssa',\n",
       "              array([[0.885     , 0.88      , 0.878     , 0.875     , 0.87      ,\n",
       "                      0.851     , 0.841     , 0.838     , 0.82      , 0.79110621,\n",
       "                      0.761106  , 0.721106  ],\n",
       "                     [0.917084  , 0.88708406, 0.8821453 , 0.87309964, 0.8612953 ,\n",
       "                      0.84643443, 0.84020162, 0.8378846 , 0.82512145, 0.79110621,\n",
       "                      0.761106  , 0.721106  ]]))])"
      ]
     },
     "execution_count": 39,
     "metadata": {},
     "output_type": "execute_result"
    }
   ],
   "source": [
    "aca['aero']['1']"
   ]
  },
  {
   "cell_type": "markdown",
   "metadata": {},
   "source": [
    "## Prepare the paths and files for input files"
   ]
  },
  {
   "cell_type": "code",
   "execution_count": 65,
   "metadata": {
    "ExecuteTime": {
     "end_time": "2019-11-22T01:10:54.050689Z",
     "start_time": "2019-11-22T01:10:54.042064Z"
    }
   },
   "outputs": [],
   "source": [
    "def isjupyter():\n",
    "    try:\n",
    "        shell = get_ipython().__class__.__name__\n",
    "        if shell == 'ZMQInteractiveShell':\n",
    "            return True   # Jupyter notebook or qtconsole\n",
    "        elif shell == 'TerminalInteractiveShell':\n",
    "            return False  # Terminal running IPython\n",
    "        else:\n",
    "            return False  # Other type (?)\n",
    "    except NameError:\n",
    "        return False      # Probably standard Python interpreter"
   ]
  },
  {
   "cell_type": "code",
   "execution_count": 40,
   "metadata": {
    "ExecuteTime": {
     "end_time": "2019-11-22T00:54:57.456785Z",
     "start_time": "2019-11-22T00:54:57.450484Z"
    }
   },
   "outputs": [],
   "source": [
    "# open the list file\n",
    "f = open(fp_rtm+'{}_CRE_{}.sh'.format(name,vv),'w')\n",
    "fpp_in = fp_rtm+'input/{}_CRE_{}/'.format(name,vv)\n",
    "fpp_out = fp_rtm+'output/{}_CRE_{}/'.format(name,vv)"
   ]
  },
  {
   "cell_type": "code",
   "execution_count": 41,
   "metadata": {
    "ExecuteTime": {
     "end_time": "2019-11-22T00:54:58.901284Z",
     "start_time": "2019-11-22T00:54:58.894041Z"
    }
   },
   "outputs": [],
   "source": [
    "if not os.path.isdir(fpp_in):\n",
    "    os.mkdir(fpp_in)\n",
    "if not os.path.isdir(fpp_out):\n",
    "     os.mkdir(fpp_out)"
   ]
  },
  {
   "cell_type": "code",
   "execution_count": 42,
   "metadata": {
    "ExecuteTime": {
     "end_time": "2019-11-22T00:55:00.616113Z",
     "start_time": "2019-11-22T00:55:00.606086Z"
    }
   },
   "outputs": [
    {
     "data": {
      "text/plain": [
       "[u'fl_alt',\n",
       " u'tau',\n",
       " u'ref_err',\n",
       " u'LWP',\n",
       " u'sza',\n",
       " u'lat_fl',\n",
       " u'lat',\n",
       " u'alt',\n",
       " u'tau_err_fl',\n",
       " u'lon_fl',\n",
       " u'tau_err',\n",
       " u'alt_fl',\n",
       " u'lon',\n",
       " u'tau_fl',\n",
       " u'LWP_err',\n",
       " u'LWP_err_fl',\n",
       " u'ref',\n",
       " u'ref_err_fl',\n",
       " u'fl_ki',\n",
       " u'utc_fl',\n",
       " u'LWP_fl',\n",
       " u'delta',\n",
       " u'phase',\n",
       " u'fl',\n",
       " u'fl_match',\n",
       " u'utc',\n",
       " u'ki',\n",
       " u'days',\n",
       " u'fl_incld',\n",
       " u'ref_fl']"
      ]
     },
     "execution_count": 42,
     "metadata": {},
     "output_type": "execute_result"
    }
   ],
   "source": [
    "ar.keys()"
   ]
  },
  {
   "cell_type": "code",
   "execution_count": 43,
   "metadata": {
    "ExecuteTime": {
     "end_time": "2019-11-22T00:57:02.386992Z",
     "start_time": "2019-11-22T00:57:02.380115Z"
    }
   },
   "outputs": [
    {
     "data": {
      "text/plain": [
       "(3816,)"
      ]
     },
     "execution_count": 43,
     "metadata": {},
     "output_type": "execute_result"
    }
   ],
   "source": [
    "ar['lat_fl'].shape"
   ]
  },
  {
   "cell_type": "code",
   "execution_count": null,
   "metadata": {
    "collapsed": true
   },
   "outputs": [],
   "source": [
    "if not do_read:"
   ]
  },
  {
   "cell_type": "code",
   "execution_count": 70,
   "metadata": {
    "ExecuteTime": {
     "end_time": "2019-11-22T01:17:58.313128Z",
     "start_time": "2019-11-22T01:17:58.278455Z"
    }
   },
   "outputs": [
    {
     "data": {
      "application/vnd.jupyter.widget-view+json": {
       "model_id": "e8679b56b11148a7a98ad428e4c734eb",
       "version_major": 2,
       "version_minor": 0
      },
      "text/plain": [
       "HBox(children=(IntProgress(value=0, max=3816), HTML(value=u'')))"
      ]
     },
     "metadata": {},
     "output_type": "display_data"
    }
   ],
   "source": [
    "if isjupyter():\n",
    "    from tqdm.notebook import tqdm \n",
    "    pbar = tqdm(total=len(ar['lat_fl']))"
   ]
  },
  {
   "cell_type": "code",
   "execution_count": 72,
   "metadata": {
    "ExecuteTime": {
     "end_time": "2019-11-22T01:19:50.587590Z",
     "start_time": "2019-11-22T01:18:15.111211Z"
    }
   },
   "outputs": [
    {
     "name": "stdout",
     "output_type": "stream",
     "text": [
      "wvl_range starting too low, setting to 250 nm\n"
     ]
    },
    {
     "ename": "IndexError",
     "evalue": "index 432 is out of bounds for axis 0 with size 305",
     "output_type": "error",
     "traceback": [
      "\u001b[0;31m---------------------------------------------------------------------------\u001b[0m",
      "\u001b[0;31mIndexError\u001b[0m                                Traceback (most recent call last)",
      "\u001b[0;32m<ipython-input-72-f7fc58322d2b>\u001b[0m in \u001b[0;36m<module>\u001b[0;34m()\u001b[0m\n\u001b[1;32m     12\u001b[0m \u001b[0;34m\u001b[0m\u001b[0m\n\u001b[1;32m     13\u001b[0m     \u001b[0mi_aca\u001b[0m \u001b[0;34m=\u001b[0m \u001b[0mnp\u001b[0m\u001b[0;34m.\u001b[0m\u001b[0margmin\u001b[0m\u001b[0;34m(\u001b[0m\u001b[0mabs\u001b[0m\u001b[0;34m(\u001b[0m\u001b[0maca\u001b[0m\u001b[0;34m[\u001b[0m\u001b[0;34m'utc'\u001b[0m\u001b[0;34m]\u001b[0m\u001b[0;34m[\u001b[0m\u001b[0mday\u001b[0m\u001b[0;34m]\u001b[0m\u001b[0;34m-\u001b[0m\u001b[0mar\u001b[0m\u001b[0;34m[\u001b[0m\u001b[0;34m'utc_fl'\u001b[0m\u001b[0;34m]\u001b[0m\u001b[0;34m[\u001b[0m\u001b[0mi\u001b[0m\u001b[0;34m]\u001b[0m\u001b[0;34m)\u001b[0m\u001b[0;34m)\u001b[0m\u001b[0;34m\u001b[0m\u001b[0;34m\u001b[0m\u001b[0m\n\u001b[0;32m---> 14\u001b[0;31m     \u001b[0mi_aero\u001b[0m \u001b[0;34m=\u001b[0m \u001b[0;34m'{}'\u001b[0m\u001b[0;34m.\u001b[0m\u001b[0mformat\u001b[0m\u001b[0;34m(\u001b[0m\u001b[0maca\u001b[0m\u001b[0;34m[\u001b[0m\u001b[0;34m'acaod_index'\u001b[0m\u001b[0;34m]\u001b[0m\u001b[0;34m[\u001b[0m\u001b[0mday\u001b[0m\u001b[0;34m]\u001b[0m\u001b[0;34m[\u001b[0m\u001b[0mi\u001b[0m\u001b[0;34m]\u001b[0m\u001b[0;34m)\u001b[0m\u001b[0;34m\u001b[0m\u001b[0;34m\u001b[0m\u001b[0m\n\u001b[0m\u001b[1;32m     15\u001b[0m \u001b[0;34m\u001b[0m\u001b[0m\n\u001b[1;32m     16\u001b[0m     Rl.write_input_aac(fpp_in+f_in,geo=geo,aero=aca['aero'][i_aero],cloud=cloud,source=source,albedo=albedo,\n",
      "\u001b[0;31mIndexError\u001b[0m: index 432 is out of bounds for axis 0 with size 305"
     ]
    }
   ],
   "source": [
    "    # make input\n",
    "    for i,l in enumerate(ar['lat_fl']):\n",
    "\n",
    "        #print i\n",
    "\n",
    "        f_in = '{name}_{vv}_star_{i:03d}_withaero.dat'.format(name=name,vv=vv,i=i)\n",
    "        geo['lat'],geo['lon'],geo['sza'] = l,ar['lon_fl'][i],ar['sza'][ar['fl'].astype(bool)][i]\n",
    "        day = dds[ar['days'][ar['fl'].astype(bool)][i].astype(int)]\n",
    "        geo['doy'] = datetime(int(day[0:4]),int(day[4:6]),int(day[6:])).timetuple().tm_yday\n",
    "        cloud['tau'],cloud['ref'] = ar['tau_fl'][i],ar['ref_fl'][i]\n",
    "        cloud['write_moments_file'] = True\n",
    "\n",
    "        i_aca = np.argmin(abs(aca['utc'][day]-ar['utc_fl'][i]))\n",
    "        i_aero = '{}'.format(aca['acaod_index'][day][i_aca])\n",
    "        \n",
    "        Rl.write_input_aac(fpp_in+f_in,geo=geo,aero=aca['aero'][i_aero],cloud=cloud,source=source,albedo=albedo,\n",
    "                                   verbose=False,make_base=False,set_quiet=True)\n",
    "        f.write('{uv} < {fin} > {out}\\n'.format(uv=fp_uvspec,fin=fpp_in+f_in,out=fpp_out+f_in))\n",
    "\n",
    "        f_in = '{name}_{vv}_star_{i:03d}_withaero_clear.dat'.format(name=name,vv=vv,i=i)\n",
    "        cloud['tau'] = 0.0\n",
    "        Rl.write_input_aac(fpp_in+f_in,geo=geo,aero=aca['aero'][i_aero],cloud=cloud,source=source,albedo=albedo,\n",
    "                                   verbose=False,make_base=False,set_quiet=True)\n",
    "        f.write('{uv} < {fin} > {out}\\n'.format(uv=fp_uvspec,fin=fpp_in+f_in,out=fpp_out+f_in))\n",
    "\n",
    "        f_in = '{name}_{vv}_star_{i:03d}_noaero.dat'.format(name=name,vv=vv,i=i)\n",
    "        cloud['tau'] = ar['tau_fl'][i]\n",
    "        if cloud['ref']>25.0:\n",
    "            cloud['write_moments_file'] = True\n",
    "        else:\n",
    "            cloud['write_moments_file'] = False\n",
    "        Rl.write_input_aac(fpp_in+f_in,geo=geo,aero=aero_no,cloud=cloud,source=source,albedo=albedo,\n",
    "                                   verbose=False,make_base=False,set_quiet=True)\n",
    "        f.write('{uv} < {fin} > {out}\\n'.format(uv=fp_uvspec,fin=fpp_in+f_in,out=fpp_out+f_in))\n",
    "\n",
    "        f_in = '{name}_{vv}_star_{i:03d}_noaero_clear.dat'.format(name=name,vv=vv,i=i)\n",
    "        cloud['tau'] = 0.0\n",
    "        Rl.write_input_aac(fpp_in+f_in,geo=geo,aero=aero_no,cloud=cloud,source=source,albedo=albedo,\n",
    "                                   verbose=False,make_base=False,set_quiet=True)\n",
    "        f.write('{uv} < {fin} > {out}\\n'.format(uv=fp_uvspec,fin=fpp_in+f_in,out=fpp_out+f_in))\n",
    "        if isjupyter(): \n",
    "            pbar.update(1)\n",
    "\n",
    "    f.close()"
   ]
  },
  {
   "cell_type": "code",
   "execution_count": 73,
   "metadata": {
    "ExecuteTime": {
     "end_time": "2019-11-22T01:20:03.221028Z",
     "start_time": "2019-11-22T01:20:03.210311Z"
    }
   },
   "outputs": [
    {
     "data": {
      "text/plain": [
       "'20160830'"
      ]
     },
     "execution_count": 73,
     "metadata": {},
     "output_type": "execute_result"
    }
   ],
   "source": [
    "day"
   ]
  },
  {
   "cell_type": "code",
   "execution_count": null,
   "metadata": {},
   "outputs": [],
   "source": []
  },
  {
   "cell_type": "code",
   "execution_count": null,
   "metadata": {
    "collapsed": true
   },
   "outputs": [],
   "source": [
    "else:"
   ]
  },
  {
   "cell_type": "code",
   "execution_count": null,
   "metadata": {
    "collapsed": true
   },
   "outputs": [],
   "source": [
    "# read output\n",
    "    nstar = len(ar['lat_fl'])\n",
    "    nz = len(geo['zout'])\n",
    "    star_aero_CRE = {'dn':np.zeros((nstar,nz))+np.nan,'up':np.zeros((nstar,nz))+np.nan}\n",
    "    star_aero_CRE_clear = {'dn':np.zeros((nstar,nz))+np.nan,'up':np.zeros((nstar,nz))+np.nan}\n",
    "    star_aero_C = np.zeros((nstar,nz))+np.nan\n",
    "    star_noaero_CRE = {'dn':np.zeros((nstar,nz))+np.nan,'up':np.zeros((nstar,nz))+np.nan}\n",
    "    star_noaero_CRE_clear = {'dn':np.zeros((nstar,nz))+np.nan,'up':np.zeros((nstar,nz))+np.nan}\n",
    "    star_noaero_C = np.zeros((nstar,nz))+np.nan"
   ]
  },
  {
   "cell_type": "code",
   "execution_count": null,
   "metadata": {
    "collapsed": true
   },
   "outputs": [],
   "source": [
    "# run through to read\n",
    "    print '4STAR'\n",
    "    for i,l in enumerate(ar['lat_fl']):\n",
    "        print '\\r{}..'.format(i)\n",
    "        f_in = '{name}_{vv}_star_{i:03d}_withaero.dat'.format(name=name,vv=vv,i=i)\n",
    "        s = Rl.read_libradtran(fpp_out+f_in,zout=geo['zout'])\n",
    "        f_in = '{name}_{vv}_star_{i:03d}_withaero_clear.dat'.format(name=name,vv=vv,i=i)\n",
    "        sc = Rl.read_libradtran(fpp_out+f_in,zout=geo['zout'])\n",
    "\n",
    "        star_aero_CRE['dn'][i,:] = s['diffuse_down']+s['direct_down']\n",
    "        star_aero_CRE_clear['dn'][i,:] = sc['diffuse_down']+sc['direct_down']\n",
    "        star_aero_CRE['up'][i,:] = s['diffuse_up']\n",
    "        star_aero_CRE_clear['up'][i,:] = sc['diffuse_up']\n",
    "        star_aero_C[i,:] = (star_aero_CRE['dn'][i,:]-star_aero_CRE['up'][i,:]) - \\\n",
    "                           (star_aero_CRE_clear['dn'][i,:]-star_aero_CRE_clear['up'][i,:])\n",
    "        \n",
    "        f_in = '{name}_{vv}_star_{i:03d}_noaero.dat'.format(name=name,vv=vv,i=i)\n",
    "        sn = Rl.read_libradtran(fpp_out+f_in,zout=geo['zout'])\n",
    "        f_in = '{name}_{vv}_star_{i:03d}_noaero_clear.dat'.format(name=name,vv=vv,i=i)\n",
    "        snc = Rl.read_libradtran(fpp_out+f_in,zout=geo['zout'])\n",
    "\n",
    "        star_noaero_CRE['dn'][i,:] = sn['diffuse_down']+sn['direct_down']\n",
    "        star_noaero_CRE_clear['dn'][i,:] = snc['diffuse_down']+snc['direct_down']\n",
    "        star_noaero_CRE['up'][i,:] = sn['diffuse_up']\n",
    "        star_noaero_CRE_clear['up'][i,:] = snc['diffuse_up']\n",
    "        star_noaero_C[i,:] = (star_noaero_CRE['dn'][i,:]-star_noaero_CRE['up'][i,:]) - \\\n",
    "                             (star_noaero_CRE_clear['dn'][i,:]-star_noaero_CRE_clear['up'][i,:])"
   ]
  },
  {
   "cell_type": "code",
   "execution_count": null,
   "metadata": {
    "collapsed": true
   },
   "outputs": [],
   "source": [
    "# save the output\n",
    "    star1 = {'star_noaero_CRE':star_noaero_CRE,'star_noaero_CRE_clear':star_noaero_CRE_clear,'star_noaero_C':star_noaero_C,\n",
    "            'star_aero_CRE':star_aero_CRE,'star_aero_CRE_clear':star_aero_CRE_clear,'star_aero_C':star_aero_C}\n",
    "    star = wu.iterate_dict_unicode(star1)\n",
    "    print 'saving file to: '+fp+'{name}_CRE_{vv}.mat'.format(name=name,vv=vv)\n",
    "    hs.savemat(fp+'{name}_CRE_{vv}.mat'.format(name=name,vv=vv),star)\n",
    "    #hs.savemat(fp+'{name}_CRE_{vv}.mat'.format(name=name,vv=vv),star_noaero_CRE,star_noaero_CRE_clear,star_noaero_C,\n",
    "     #                                                           star_aero_CRE,star_aero_CRE_clear,star_aero_C)"
   ]
  }
 ],
 "metadata": {
  "kernelspec": {
   "display_name": "Python 2",
   "language": "python",
   "name": "python2"
  },
  "language_info": {
   "codemirror_mode": {
    "name": "ipython",
    "version": 2
   },
   "file_extension": ".py",
   "mimetype": "text/x-python",
   "name": "python",
   "nbconvert_exporter": "python",
   "pygments_lexer": "ipython2",
   "version": "2.7.15+"
  },
  "toc": {
   "base_numbering": 1,
   "nav_menu": {},
   "number_sections": true,
   "sideBar": false,
   "skip_h1_title": false,
   "title_cell": "Table of Contents",
   "title_sidebar": "Contents",
   "toc_cell": false,
   "toc_position": {},
   "toc_section_display": "block",
   "toc_window_display": true
  },
  "varInspector": {
   "cols": {
    "lenName": 16,
    "lenType": 16,
    "lenVar": 40
   },
   "kernels_config": {
    "python": {
     "delete_cmd_postfix": "",
     "delete_cmd_prefix": "del ",
     "library": "var_list.py",
     "varRefreshCmd": "print(var_dic_list())"
    },
    "r": {
     "delete_cmd_postfix": ") ",
     "delete_cmd_prefix": "rm(",
     "library": "var_list.r",
     "varRefreshCmd": "cat(var_dic_list()) "
    }
   },
   "types_to_exclude": [
    "module",
    "function",
    "builtin_function_or_method",
    "instance",
    "_Feature"
   ],
   "window_display": false
  }
 },
 "nbformat": 4,
 "nbformat_minor": 1
}
