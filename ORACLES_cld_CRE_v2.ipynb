{
 "cells": [
  {
   "cell_type": "markdown",
   "metadata": {},
   "source": [
    "# Intro\n",
    "Name:  \n",
    "\n",
    "    ORACLES_cld_CRE_v2\n",
    "\n",
    "Purpose:  \n",
    "\n",
    "    Build the cloud radiative effect input files from the cloud retrieval exported from ORACLES_cld_explore file\n",
    "  \n",
    "Input:\n",
    "\n",
    "    none at command line\n",
    "  \n",
    "Output:\n",
    "\n",
    "    figures and save files...\n",
    "  \n",
    "Keywords:\n",
    "\n",
    "    none\n",
    "  \n",
    "Dependencies:\n",
    "\n",
    "    - Sp_parameters.py : for Sp class definition, and for defining the functions used to build parameters\n",
    "    - matplotlib\n",
    "    - mpltools\n",
    "    - numpy\n",
    "    - scipy : for saving and reading\n",
    "    - plotting_utils (user defined plotting routines)\n",
    "    - hdf5storage\n",
    "  \n",
    "Needed Files:\n",
    "\n",
    "  - file.rc : for consistent creation of look of matplotlib figures\n",
    "  - 4STAR_cloud retrieval .mat files\n",
    "  \n",
    " Modification History:\n",
    " \n",
    "     Written: by Samuel LeBlanc, Bathurst, NB, 2017-01-06\n",
    "     Modified: Samuel LeBlanc, Santa Cruz, CA, 2019-11-20\n",
    "               - changed the file to load multiple aerosol models for CRE calculations"
   ]
  },
  {
   "cell_type": "markdown",
   "metadata": {},
   "source": [
    "# Import of modules"
   ]
  },
  {
   "cell_type": "code",
   "execution_count": 1,
   "metadata": {
    "ExecuteTime": {
     "end_time": "2019-11-21T05:09:46.923243Z",
     "start_time": "2019-11-21T05:09:46.435110Z"
    }
   },
   "outputs": [
    {
     "name": "stderr",
     "output_type": "stream",
     "text": [
      "/usr/lib/python2.7/dist-packages/h5py/__init__.py:36: FutureWarning: Conversion of the second argument of issubdtype from `float` to `np.floating` is deprecated. In future, it will be treated as `np.float64 == np.dtype(float).type`.\n",
      "  from ._conv import register_converters as _register_converters\n"
     ]
    }
   ],
   "source": [
    "import numpy as np\n",
    "import hdf5storage as hs\n",
    "import os\n",
    "import write_utils as wu\n",
    "import scipy.io as sio"
   ]
  },
  {
   "cell_type": "code",
   "execution_count": 2,
   "metadata": {
    "ExecuteTime": {
     "end_time": "2019-11-21T05:09:46.937406Z",
     "start_time": "2019-11-21T05:09:46.931383Z"
    }
   },
   "outputs": [],
   "source": [
    "from load_utils import load_from_json"
   ]
  },
  {
   "cell_type": "code",
   "execution_count": 3,
   "metadata": {
    "ExecuteTime": {
     "end_time": "2019-11-21T05:09:48.142205Z",
     "start_time": "2019-11-21T05:09:48.136012Z"
    }
   },
   "outputs": [],
   "source": [
    "name = 'ORACLES'"
   ]
  },
  {
   "cell_type": "code",
   "execution_count": 4,
   "metadata": {
    "ExecuteTime": {
     "end_time": "2019-11-21T05:09:53.394540Z",
     "start_time": "2019-11-21T05:09:53.390491Z"
    }
   },
   "outputs": [],
   "source": [
    "vv = 'v5'\n",
    "vr = 'R2'"
   ]
  },
  {
   "cell_type": "code",
   "execution_count": 49,
   "metadata": {},
   "outputs": [],
   "source": [
    "if os.sys.platform == 'win32':\n",
    "    fp = 'C:\\\\Users\\\\sleblan2\\\\Research\\\\ORACLES\\\\'\n",
    "    fp_rtm = 'C:\\\\Users\\\\sleblan2\\\\Research\\\\ORACLES\\\\rtm\\\\'\n",
    "    fp_uvspec = 'C:\\\\Users\\\\sleblan2\\\\Research\\\\libradtran\\\\libRadtran-2.0-beta\\\\bin\\\\uvspec'\n",
    "    fp_rtmdat = 'C:\\\\Users\\\\sleblan2\\\\Research\\\\libradtran\\\\libRadtran-2.0-beta\\\\data\\\\'\n",
    "    matfile = fp+'..//zen_ict/v3/{}_all_cld_ict.mat'.format(vr)\n",
    "elif os.sys.platform == 'linux2':\n",
    "    fp = '/u/sleblan2/ORACLES/'\n",
    "    fp_rtm = '/nobackup/sleblan2/rtm/'\n",
    "    fp_uvspec = '/u/sleblan2/libradtran/libRadtran-2.0-beta/bin/uvspec'\n",
    "    fp_rtmdat = '/nobackup/sleblan2/AAC_DARF/rtm/' #'/u/sleblan2/4STAR/rtm_dat/'\n",
    "    matfile = fp+'{}_all_cld_ict.mat'.format(vr)\n",
    "else:\n",
    "    raise Exception"
   ]
  },
  {
   "cell_type": "markdown",
   "metadata": {},
   "source": [
    "## Set up for command line arguments"
   ]
  },
  {
   "cell_type": "code",
   "execution_count": 75,
   "metadata": {
    "collapsed": true
   },
   "outputs": [],
   "source": [
    "import argparse"
   ]
  },
  {
   "cell_type": "code",
   "execution_count": 76,
   "metadata": {
    "collapsed": true
   },
   "outputs": [],
   "source": [
    "long_description = \"\"\"    Prepare the Cloud radiative effect files for calculations and thn save them using the doread argument\"\"\""
   ]
  },
  {
   "cell_type": "code",
   "execution_count": null,
   "metadata": {
    "collapsed": true
   },
   "outputs": [],
   "source": [
    "parser = argparse.ArgumentParser(description=long_description)\n",
    "parser.add_argument('-doread','--doread',help='if set, will only read the output, not produce them',\n",
    "                    action='store_true')"
   ]
  },
  {
   "cell_type": "code",
   "execution_count": null,
   "metadata": {
    "collapsed": true
   },
   "outputs": [],
   "source": [
    "in_ = vars(parser.parse_args())\n",
    "do_read = in_.get('doread',False)"
   ]
  },
  {
   "cell_type": "markdown",
   "metadata": {},
   "source": [
    "# Load the saved files"
   ]
  },
  {
   "cell_type": "code",
   "execution_count": 5,
   "metadata": {},
   "outputs": [],
   "source": [
    "ar = hs.loadmat(matfile)"
   ]
  },
  {
   "cell_type": "code",
   "execution_count": 6,
   "metadata": {},
   "outputs": [
    {
     "data": {
      "text/plain": [
       "[u'fl_alt',\n",
       " u'tau',\n",
       " u'sza',\n",
       " u'lat_fl',\n",
       " u'lat',\n",
       " u'alt',\n",
       " u'lon_fl',\n",
       " u'alt_fl',\n",
       " u'lon',\n",
       " u'tau_fl',\n",
       " u'ref',\n",
       " u'fl_ki',\n",
       " u'utc_fl',\n",
       " u'delta',\n",
       " u'phase',\n",
       " u'fl',\n",
       " u'fl_match',\n",
       " u'utc',\n",
       " u'ref_fl',\n",
       " u'days',\n",
       " u'fl_incld',\n",
       " u'ki']"
      ]
     },
     "execution_count": 6,
     "metadata": {},
     "output_type": "execute_result"
    }
   ],
   "source": [
    "ar.keys()"
   ]
  },
  {
   "cell_type": "code",
   "execution_count": 12,
   "metadata": {
    "collapsed": true
   },
   "outputs": [],
   "source": [
    "dds = ['20160827','20160830','20160831','20160902','20160904','20160906','20160908',\n",
    "       '20160910','20160912','20160914','20160918','20160920','20160924','20160925','20160927']"
   ]
  },
  {
   "cell_type": "markdown",
   "metadata": {},
   "source": [
    "# Prepare input files for radiative transfer"
   ]
  },
  {
   "cell_type": "code",
   "execution_count": 7,
   "metadata": {
    "collapsed": true
   },
   "outputs": [],
   "source": [
    "import Run_libradtran as Rl"
   ]
  },
  {
   "cell_type": "markdown",
   "metadata": {},
   "source": [
    "## Prepare the defaults"
   ]
  },
  {
   "cell_type": "code",
   "execution_count": 10,
   "metadata": {},
   "outputs": [
    {
     "data": {
      "text/plain": [
       "321"
      ]
     },
     "execution_count": 10,
     "metadata": {},
     "output_type": "execute_result"
    }
   ],
   "source": [
    "from datetime import datetime\n",
    "datetime(2015,11,17).timetuple().tm_yday"
   ]
  },
  {
   "cell_type": "code",
   "execution_count": 14,
   "metadata": {
    "scrolled": true
   },
   "outputs": [
    {
     "data": {
      "text/plain": [
       "array([  0.,   0.,   0., ...,  14.,  14.,  14.])"
      ]
     },
     "execution_count": 14,
     "metadata": {},
     "output_type": "execute_result"
    }
   ],
   "source": [
    "ar['days']"
   ]
  },
  {
   "cell_type": "code",
   "execution_count": 15,
   "metadata": {
    "collapsed": true
   },
   "outputs": [],
   "source": [
    "geo = {'lat':47.6212167,'lon':52.74245,'doy':321,'zout':[0,1.5,100.0]}\n",
    "aero_no = {} # none\n",
    "cloud = {'ztop':1.0,'zbot':0.5,'write_moments_file':False}\n",
    "source = {'wvl_range':[201.0,4000.0],'source':'solar','integrate_values':True,'run_fuliou':True,\n",
    "          'dat_path':'/u/sleblan2/libradtran/libRadtran-2.0-beta/data/'}\n",
    "albedo = {'create_albedo_file':False,'sea_surface_albedo':True,'wind_speed':5.0}"
   ]
  },
  {
   "cell_type": "code",
   "execution_count": 16,
   "metadata": {
    "collapsed": true
   },
   "outputs": [],
   "source": [
    "cloud['phase'] = 'wc'\n",
    "geo['sza'] = 40.0\n",
    "cloud['tau'] = 2.0\n",
    "cloud['ref'] = 5.0\n",
    "pmom = Rl.make_pmom_inputs(fp_rtm=fp_rtmdat,source='solar')\n",
    "cloud['moms_dict'] = pmom"
   ]
  },
  {
   "cell_type": "code",
   "execution_count": 17,
   "metadata": {
    "collapsed": true
   },
   "outputs": [],
   "source": [
    "phase_star = {0:'wc',1:'ic'}"
   ]
  },
  {
   "cell_type": "code",
   "execution_count": 18,
   "metadata": {
    "collapsed": true
   },
   "outputs": [],
   "source": [
    "phase_modis = {0:'wc',1:'wc',2:'ic',3:'ic',6:'wc'}"
   ]
  },
  {
   "cell_type": "markdown",
   "metadata": {},
   "source": [
    "## Load the aerosol values"
   ]
  },
  {
   "cell_type": "code",
   "execution_count": 82,
   "metadata": {},
   "outputs": [],
   "source": [
    "if os.sys.platform == 'win32':\n",
    "        fp_aero = fp+'model\\\\aero_save_v2.txt'\n",
    "else:\n",
    "        fp_aero = fp+'aero_save_v2.txt'\n",
    "aero = load_from_json(fp_aero)"
   ]
  },
  {
   "cell_type": "code",
   "execution_count": 83,
   "metadata": {},
   "outputs": [
    {
     "data": {
      "text/plain": [
       "{u'asy': array([[ 0.713289  ,  0.68328872,  0.66672784,  0.64227709,  0.62344345,\n",
       "          0.62167625,  0.62605761,  0.62786658,  0.6320782 ,  0.52784278,\n",
       "          0.427843  ,  0.377843  ],\n",
       "        [ 0.713289  ,  0.68328872,  0.66672784,  0.64227709,  0.62344345,\n",
       "          0.62167625,  0.62605761,  0.62786658,  0.6320782 ,  0.52784278,\n",
       "          0.427843  ,  0.377843  ]]),\n",
       " u'disort_phase': False,\n",
       " u'expand_hg': True,\n",
       " u'ext': array([[ 0.238175  ,  0.18817546,  0.16828887,  0.12297602,  0.07998438,\n",
       "          0.04323721,  0.035     ,  0.03277363,  0.02493016,  0.015     ,\n",
       "          0.01      ,  0.005     ],\n",
       "        [ 0.        ,  0.        ,  0.        ,  0.        ,  0.        ,\n",
       "          0.        ,  0.        ,  0.        ,  0.        ,  0.        ,\n",
       "          0.        ,  0.        ]]),\n",
       " u'ssa': array([[ 0.917084  ,  0.88708406,  0.8821453 ,  0.87309964,  0.8612953 ,\n",
       "          0.84643443,  0.84020162,  0.8378846 ,  0.82512145,  0.79110621,\n",
       "          0.761106  ,  0.721106  ],\n",
       "        [ 0.917084  ,  0.88708406,  0.8821453 ,  0.87309964,  0.8612953 ,\n",
       "          0.84643443,  0.84020162,  0.8378846 ,  0.82512145,  0.79110621,\n",
       "          0.761106  ,  0.721106  ]]),\n",
       " u'wvl_arr': [200.0,\n",
       "  350.0,\n",
       "  400.0,\n",
       "  500.0,\n",
       "  650.0,\n",
       "  875.0,\n",
       "  980.0,\n",
       "  1020.0,\n",
       "  1240.0,\n",
       "  1710.0,\n",
       "  2410.0,\n",
       "  4900.0],\n",
       " u'z_arr': [2.0, 5.0]}"
      ]
     },
     "execution_count": 83,
     "metadata": {},
     "output_type": "execute_result"
    }
   ],
   "source": [
    "aero"
   ]
  },
  {
   "cell_type": "markdown",
   "metadata": {},
   "source": [
    "## Prepare the paths and files for input files"
   ]
  },
  {
   "cell_type": "code",
   "execution_count": 71,
   "metadata": {},
   "outputs": [],
   "source": [
    "# open the list file\n",
    "f = open(fp+'rtm/{}_CRE_{}.sh'.format(name,vv),'w')\n",
    "fpp_in = '/nobackup/sleblan2/rtm/input/{}_CRE_{}/'.format(name,vv)\n",
    "fpp_out = '/nobackup/sleblan2/rtm/output/{}_CRE_{}/'.format(name,vv)\n",
    "fp_uv = '/u/sleblan2/libradtran/libRadtran-2.0-beta/bin/uvspec'\n",
    "fp_in = fp+'rtm/input/CRE/'"
   ]
  },
  {
   "cell_type": "code",
   "execution_count": 74,
   "metadata": {},
   "outputs": [
    {
     "ename": "WindowsError",
     "evalue": "[Error 3] The system cannot find the path specified: '/nobackup/sleblan2/rtm/input/ORACLES_CRE/'",
     "output_type": "error",
     "traceback": [
      "\u001b[1;31m---------------------------------------------------------------------------\u001b[0m",
      "\u001b[1;31mWindowsError\u001b[0m                              Traceback (most recent call last)",
      "\u001b[1;32m<ipython-input-74-a3e7790198d1>\u001b[0m in \u001b[0;36m<module>\u001b[1;34m()\u001b[0m\n\u001b[0;32m      1\u001b[0m \u001b[1;32mif\u001b[0m \u001b[1;32mnot\u001b[0m \u001b[0mos\u001b[0m\u001b[1;33m.\u001b[0m\u001b[0mpath\u001b[0m\u001b[1;33m.\u001b[0m\u001b[0misdir\u001b[0m\u001b[1;33m(\u001b[0m\u001b[0mfpp_in\u001b[0m\u001b[1;33m)\u001b[0m\u001b[1;33m:\u001b[0m\u001b[1;33m\u001b[0m\u001b[0m\n\u001b[1;32m----> 2\u001b[1;33m     \u001b[0mos\u001b[0m\u001b[1;33m.\u001b[0m\u001b[0mmkdir\u001b[0m\u001b[1;33m(\u001b[0m\u001b[0mfpp_in\u001b[0m\u001b[1;33m)\u001b[0m\u001b[1;33m\u001b[0m\u001b[0m\n\u001b[0m\u001b[0;32m      3\u001b[0m \u001b[1;32mif\u001b[0m \u001b[1;32mnot\u001b[0m \u001b[0mos\u001b[0m\u001b[1;33m.\u001b[0m\u001b[0mpath\u001b[0m\u001b[1;33m.\u001b[0m\u001b[0misdir\u001b[0m\u001b[1;33m(\u001b[0m\u001b[0mfpp_out\u001b[0m\u001b[1;33m)\u001b[0m\u001b[1;33m:\u001b[0m\u001b[1;33m\u001b[0m\u001b[0m\n\u001b[0;32m      4\u001b[0m      \u001b[0mos\u001b[0m\u001b[1;33m.\u001b[0m\u001b[0mmkdir\u001b[0m\u001b[1;33m(\u001b[0m\u001b[0mfpp_out\u001b[0m\u001b[1;33m)\u001b[0m\u001b[1;33m\u001b[0m\u001b[0m\n",
      "\u001b[1;31mWindowsError\u001b[0m: [Error 3] The system cannot find the path specified: '/nobackup/sleblan2/rtm/input/ORACLES_CRE/'"
     ]
    }
   ],
   "source": [
    "if not os.path.isdir(fpp_in):\n",
    "    os.mkdir(fpp_in)\n",
    "if not os.path.isdir(fpp_out):\n",
    "     os.mkdir(fpp_out)"
   ]
  },
  {
   "cell_type": "code",
   "execution_count": 23,
   "metadata": {},
   "outputs": [
    {
     "data": {
      "text/plain": [
       "[u'fl_alt',\n",
       " u'tau',\n",
       " u'sza',\n",
       " u'lat_fl',\n",
       " u'lat',\n",
       " u'alt',\n",
       " u'lon_fl',\n",
       " u'alt_fl',\n",
       " u'lon',\n",
       " u'tau_fl',\n",
       " u'ref',\n",
       " u'fl_ki',\n",
       " u'utc_fl',\n",
       " u'delta',\n",
       " u'phase',\n",
       " u'fl',\n",
       " u'fl_match',\n",
       " u'utc',\n",
       " u'ref_fl',\n",
       " u'days',\n",
       " u'fl_incld',\n",
       " u'ki']"
      ]
     },
     "execution_count": 23,
     "metadata": {},
     "output_type": "execute_result"
    }
   ],
   "source": [
    "ar.keys()"
   ]
  },
  {
   "cell_type": "code",
   "execution_count": null,
   "metadata": {
    "collapsed": true
   },
   "outputs": [],
   "source": [
    "if not do_read:"
   ]
  },
  {
   "cell_type": "code",
   "execution_count": null,
   "metadata": {
    "collapsed": true
   },
   "outputs": [],
   "source": [
    "# make input\n",
    "    for i,l in enumerate(ar['lat_fl']):\n",
    "\n",
    "        print i\n",
    "\n",
    "        f_in = '{name}_{vv}_star_{i:03d}_withaero.dat'.format(name=name,vv=vv,i=i)\n",
    "        geo['lat'],geo['lon'],geo['sza'] = l,ar['lon_fl'][i],ar['sza'][ar['fl'].astype(bool)][i]\n",
    "        day = dds[ar['days'][ar['fl'].astype(bool)][i].astype(int)]\n",
    "        geo['doy'] = datetime(int(day[0:4]),int(day[4:6]),int(day[6:])).timetuple().tm_yday\n",
    "        cloud['tau'],cloud['ref'] = ar['tau_fl'][i],ar['ref_fl'][i]\n",
    "        cloud['write_moments_file'] = True\n",
    "        Rl.write_input_aac(fpp_in+f_in,geo=geo,aero=aero,cloud=cloud,source=source,albedo=albedo,\n",
    "                                   verbose=False,make_base=False,set_quiet=True)\n",
    "        f.write('{uv} < {fin} > {out}\\n'.format(uv=fp_uv,fin=fpp_in+f_in,out=fpp_out+f_in))\n",
    "\n",
    "        f_in = '{name}_{vv}_star_{i:03d}_withaero_clear.dat'.format(name=name,vv=vv,i=i)\n",
    "        cloud['tau'] = 0.0\n",
    "        Rl.write_input_aac(fpp_in+f_in,geo=geo,aero=aero,cloud=cloud,source=source,albedo=albedo,\n",
    "                                   verbose=False,make_base=False,set_quiet=True)\n",
    "        f.write('{uv} < {fin} > {out}\\n'.format(uv=fp_uv,fin=fpp_in+f_in,out=fpp_out+f_in))\n",
    "\n",
    "        f_in = '{name}_{vv}_star_{i:03d}_noaero.dat'.format(name=name,vv=vv,i=i)\n",
    "        cloud['tau'] = ar['tau_fl'][i]\n",
    "        if cloud['ref']>25.0:\n",
    "            cloud['write_moments_file'] = True\n",
    "        else:\n",
    "            cloud['write_moments_file'] = False\n",
    "        Rl.write_input_aac(fpp_in+f_in,geo=geo,aero=aero_no,cloud=cloud,source=source,albedo=albedo,\n",
    "                                   verbose=False,make_base=False,set_quiet=True)\n",
    "        f.write('{uv} < {fin} > {out}\\n'.format(uv=fp_uv,fin=fpp_in+f_in,out=fpp_out+f_in))\n",
    "\n",
    "        f_in = '{name}_{vv}_star_{i:03d}_noaero_clear.dat'.format(name=name,vv=vv,i=i)\n",
    "        cloud['tau'] = 0.0\n",
    "        Rl.write_input_aac(fpp_in+f_in,geo=geo,aero=aero_no,cloud=cloud,source=source,albedo=albedo,\n",
    "                                   verbose=False,make_base=False,set_quiet=True)\n",
    "        f.write('{uv} < {fin} > {out}\\n'.format(uv=fp_uv,fin=fpp_in+f_in,out=fpp_out+f_in))\n",
    "\n",
    "    f.close()"
   ]
  },
  {
   "cell_type": "code",
   "execution_count": null,
   "metadata": {
    "collapsed": true
   },
   "outputs": [],
   "source": [
    "else:"
   ]
  },
  {
   "cell_type": "code",
   "execution_count": null,
   "metadata": {
    "collapsed": true
   },
   "outputs": [],
   "source": [
    "# read output\n",
    "    nstar = len(ar['lat_fl'])\n",
    "    nz = len(geo['zout'])\n",
    "    star_aero_CRE = {'dn':np.zeros((nstar,nz))+np.nan,'up':np.zeros((nstar,nz))+np.nan}\n",
    "    star_aero_CRE_clear = {'dn':np.zeros((nstar,nz))+np.nan,'up':np.zeros((nstar,nz))+np.nan}\n",
    "    star_aero_C = np.zeros((nstar,nz))+np.nan\n",
    "    star_noaero_CRE = {'dn':np.zeros((nstar,nz))+np.nan,'up':np.zeros((nstar,nz))+np.nan}\n",
    "    star_noaero_CRE_clear = {'dn':np.zeros((nstar,nz))+np.nan,'up':np.zeros((nstar,nz))+np.nan}\n",
    "    star_noaero_C = np.zeros((nstar,nz))+np.nan"
   ]
  },
  {
   "cell_type": "code",
   "execution_count": null,
   "metadata": {
    "collapsed": true
   },
   "outputs": [],
   "source": [
    "# run through to read\n",
    "    print '4STAR'\n",
    "    for i,l in enumerate(ar['lat_fl']):\n",
    "        print '\\r{}..'.format(i)\n",
    "        f_in = '{name}_{vv}_star_{i:03d}_withaero.dat'.format(name=name,vv=vv,i=i)\n",
    "        s = Rl.read_libradtran(fpp_out+f_in,zout=geo['zout'])\n",
    "        f_in = '{name}_{vv}_star_{i:03d}_withaero_clear.dat'.format(name=name,vv=vv,i=i)\n",
    "        sc = Rl.read_libradtran(fpp_out+f_in,zout=geo['zout'])\n",
    "\n",
    "        star_aero_CRE['dn'][i,:] = s['diffuse_down']+s['direct_down']\n",
    "        star_aero_CRE_clear['dn'][i,:] = sc['diffuse_down']+sc['direct_down']\n",
    "        star_aero_CRE['up'][i,:] = s['diffuse_up']\n",
    "        star_aero_CRE_clear['up'][i,:] = sc['diffuse_up']\n",
    "        star_aero_C[i,:] = (star_aero_CRE['dn'][i,:]-star_aero_CRE['up'][i,:]) - \\\n",
    "                           (star_aero_CRE_clear['dn'][i,:]-star_aero_CRE_clear['up'][i,:])\n",
    "        \n",
    "        f_in = '{name}_{vv}_star_{i:03d}_noaero.dat'.format(name=name,vv=vv,i=i)\n",
    "        sn = Rl.read_libradtran(fpp_out+f_in,zout=geo['zout'])\n",
    "        f_in = '{name}_{vv}_star_{i:03d}_noaero_clear.dat'.format(name=name,vv=vv,i=i)\n",
    "        snc = Rl.read_libradtran(fpp_out+f_in,zout=geo['zout'])\n",
    "\n",
    "        star_noaero_CRE['dn'][i,:] = sn['diffuse_down']+sn['direct_down']\n",
    "        star_noaero_CRE_clear['dn'][i,:] = snc['diffuse_down']+snc['direct_down']\n",
    "        star_noaero_CRE['up'][i,:] = sn['diffuse_up']\n",
    "        star_noaero_CRE_clear['up'][i,:] = snc['diffuse_up']\n",
    "        star_noaero_C[i,:] = (star_noaero_CRE['dn'][i,:]-star_noaero_CRE['up'][i,:]) - \\\n",
    "                             (star_noaero_CRE_clear['dn'][i,:]-star_noaero_CRE_clear['up'][i,:])"
   ]
  },
  {
   "cell_type": "code",
   "execution_count": null,
   "metadata": {
    "collapsed": true
   },
   "outputs": [],
   "source": [
    "# save the output\n",
    "    star1 = {'star_noaero_CRE':star_noaero_CRE,'star_noaero_CRE_clear':star_noaero_CRE_clear,'star_noaero_C':star_noaero_C,\n",
    "            'star_aero_CRE':star_aero_CRE,'star_aero_CRE_clear':star_aero_CRE_clear,'star_aero_C':star_aero_C}\n",
    "    star = wu.iterate_dict_unicode(star1)\n",
    "    print 'saving file to: '+fp+'{name}_CRE_{vv}.mat'.format(name=name,vv=vv)\n",
    "    hs.savemat(fp+'{name}_CRE_{vv}.mat'.format(name=name,vv=vv),star)\n",
    "    #hs.savemat(fp+'{name}_CRE_{vv}.mat'.format(name=name,vv=vv),star_noaero_CRE,star_noaero_CRE_clear,star_noaero_C,\n",
    "     #                                                           star_aero_CRE,star_aero_CRE_clear,star_aero_C)"
   ]
  }
 ],
 "metadata": {
  "kernelspec": {
   "display_name": "Python 2",
   "language": "python",
   "name": "python2"
  },
  "language_info": {
   "codemirror_mode": {
    "name": "ipython",
    "version": 2
   },
   "file_extension": ".py",
   "mimetype": "text/x-python",
   "name": "python",
   "nbconvert_exporter": "python",
   "pygments_lexer": "ipython2",
   "version": "2.7.15+"
  },
  "toc": {
   "base_numbering": 1,
   "nav_menu": {},
   "number_sections": true,
   "sideBar": false,
   "skip_h1_title": false,
   "title_cell": "Table of Contents",
   "title_sidebar": "Contents",
   "toc_cell": false,
   "toc_position": {},
   "toc_section_display": "block",
   "toc_window_display": false
  },
  "varInspector": {
   "cols": {
    "lenName": 16,
    "lenType": 16,
    "lenVar": 40
   },
   "kernels_config": {
    "python": {
     "delete_cmd_postfix": "",
     "delete_cmd_prefix": "del ",
     "library": "var_list.py",
     "varRefreshCmd": "print(var_dic_list())"
    },
    "r": {
     "delete_cmd_postfix": ") ",
     "delete_cmd_prefix": "rm(",
     "library": "var_list.r",
     "varRefreshCmd": "cat(var_dic_list()) "
    }
   },
   "types_to_exclude": [
    "module",
    "function",
    "builtin_function_or_method",
    "instance",
    "_Feature"
   ],
   "window_display": false
  }
 },
 "nbformat": 4,
 "nbformat_minor": 1
}
