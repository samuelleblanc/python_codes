{
 "cells": [
  {
   "cell_type": "markdown",
   "id": "9b07409b-0046-49fc-b00c-73dc5e593e60",
   "metadata": {},
   "source": [
    "# Info\n",
    "Purpose:\n",
    "\n",
    "    To test out the isofit v3 Hyperion reprocessing\n",
    "\n",
    "\n",
    "Output:\n",
    "\n",
    "    Figure\n",
    "\n",
    "Keywords:\n",
    "\n",
    "    none\n",
    "\n",
    "Dependencies:\n",
    "\n",
    "    - hyperion package built by Yohei SHinozuka\n",
    "    - hyperion L1R files\n",
    "\n",
    "Needed Files:\n",
    "  - hyperion L1R hdf files\n",
    "  - ...\n",
    "\n",
    "Modification History:\n",
    "\n",
    "    Written: Samuel LeBlanc, Santa Cruz, CA, 2025-02-12\n",
    "            - based on test.ipynb file from Yohei Shinozuka\n",
    "    Modified:\n"
   ]
  },
  {
   "cell_type": "markdown",
   "id": "a7446da8-1423-429d-8cef-0ea5b9317fcd",
   "metadata": {},
   "source": [
    "# Prepare python environment"
   ]
  },
  {
   "cell_type": "code",
   "execution_count": 11,
   "id": "73a44349-635e-419a-bd31-b3225fa42b30",
   "metadata": {},
   "outputs": [
    {
     "data": {
      "text/plain": [
       "<Figure size 640x480 with 0 Axes>"
      ]
     },
     "metadata": {},
     "output_type": "display_data"
    }
   ],
   "source": [
    "import sys\n",
    "#sys.path = sys.path[1:]\n",
    "import os\n",
    "from glob import glob\n",
    "from importlib import reload\n",
    "import platform\n",
    "from datetime import datetime\n",
    "import filecmp\n",
    "from IPython.display import HTML, display\n",
    "import numpy as np\n",
    "import matplotlib.pyplot as plt\n",
    "import matplotlib.image as mpimg\n",
    "import matplotlib.ticker as mticker\n",
    "plt.figure() # Run this before importing isofit.utils (via h2i)\n",
    "from netCDF4 import Dataset\n",
    "from spectral.io import envi\n",
    "from scipy.io import loadmat\n",
    "from hyperion import test, testmemory, hyperion, hyperion2isofit"
   ]
  },
  {
   "cell_type": "markdown",
   "id": "f8600966-c3ba-415b-b488-0f2bbcea71cf",
   "metadata": {},
   "source": [
    "## set the paths"
   ]
  },
  {
   "cell_type": "code",
   "execution_count": 12,
   "id": "c28fa1ac-7313-4d83-8bb2-5ca021b38d1a",
   "metadata": {},
   "outputs": [],
   "source": [
    "from path_utils import getpath"
   ]
  },
  {
   "cell_type": "code",
   "execution_count": 13,
   "id": "6ba87334-d6c6-422b-b3cf-5bac69b7cf0d",
   "metadata": {},
   "outputs": [
    {
     "name": "stdout",
     "output_type": "stream",
     "text": [
      "Return path named:  hyperion_fig /data2/SBG/Hyperion_data/fig/\n"
     ]
    }
   ],
   "source": [
    "figdir = getpath('hyperion_fig')\n",
    "figprefix = os.path.join(figdir, '{}')\n",
    "figexts = ('png', 'eps', )"
   ]
  },
  {
   "cell_type": "code",
   "execution_count": 14,
   "id": "e1325477-3321-4436-836c-4e9db6d9be0f",
   "metadata": {},
   "outputs": [],
   "source": [
    "from isofit.utils import apply_oe"
   ]
  },
  {
   "cell_type": "code",
   "execution_count": 15,
   "id": "7fc75b0b-1c26-488c-8ea6-91df09ba1c90",
   "metadata": {},
   "outputs": [
    {
     "data": {
      "text/plain": [
       "<module 'isofit.utils.apply_oe' from '/home/sam/mambaforge/envs/isofit_env/lib/python3.12/site-packages/isofit/utils/apply_oe.py'>"
      ]
     },
     "execution_count": 15,
     "metadata": {},
     "output_type": "execute_result"
    }
   ],
   "source": [
    "apply_oe"
   ]
  },
  {
   "cell_type": "code",
   "execution_count": 17,
   "id": "0b0d9b4b-4ec4-4acf-9a55-17d6f3a6f10e",
   "metadata": {},
   "outputs": [
    {
     "data": {
      "text/plain": [
       "<module 'hyperion.hyperion2isofit' from '/home/sam/python_codes/hyperion/hyperion2isofit.py'>"
      ]
     },
     "execution_count": 17,
     "metadata": {},
     "output_type": "execute_result"
    }
   ],
   "source": [
    "import importlib\n",
    "importlib.reload(hyperion2isofit)"
   ]
  },
  {
   "cell_type": "code",
   "execution_count": null,
   "id": "6b9823b7-7cfe-4708-9ab5-c73ef0417232",
   "metadata": {},
   "outputs": [
    {
     "name": "stdout",
     "output_type": "stream",
     "text": [
      "> \u001b[0;32m/home/sam/python_codes/hyperion/hyperion2isofit.py\u001b[0m(179)\u001b[0;36mset_lower_level_paths\u001b[0;34m()\u001b[0m\n",
      "\u001b[0;32m    178 \u001b[0;31m        \u001b[0;32mimport\u001b[0m \u001b[0mipdb\u001b[0m\u001b[0;34m;\u001b[0m \u001b[0mipdb\u001b[0m\u001b[0;34m.\u001b[0m\u001b[0mset_trace\u001b[0m\u001b[0;34m(\u001b[0m\u001b[0;34m)\u001b[0m\u001b[0;34m\u001b[0m\u001b[0;34m\u001b[0m\u001b[0m\n",
      "\u001b[0m\u001b[0;32m--> 179 \u001b[0;31m        \u001b[0mpaths\u001b[0m\u001b[0;34m[\u001b[0m\u001b[0;34m'L1R'\u001b[0m\u001b[0;34m]\u001b[0m \u001b[0;34m=\u001b[0m \u001b[0mglob\u001b[0m\u001b[0;34m(\u001b[0m\u001b[0mos\u001b[0m\u001b[0;34m.\u001b[0m\u001b[0mpath\u001b[0m\u001b[0;34m.\u001b[0m\u001b[0mjoin\u001b[0m\u001b[0;34m(\u001b[0m\u001b[0mpaths\u001b[0m\u001b[0;34m[\u001b[0m\u001b[0;34m'L1dir'\u001b[0m\u001b[0;34m]\u001b[0m\u001b[0;34m,\u001b[0m \u001b[0mpattern\u001b[0m\u001b[0;34m)\u001b[0m\u001b[0;34m)\u001b[0m\u001b[0;34m[\u001b[0m\u001b[0;36m0\u001b[0m\u001b[0;34m]\u001b[0m\u001b[0;34m\u001b[0m\u001b[0;34m\u001b[0m\u001b[0m\n",
      "\u001b[0m\u001b[0;32m    180 \u001b[0;31m    additionalpaths = {key:paths['L1R'].replace('.L1R', key+'.hdr') \n",
      "\u001b[0m\n"
     ]
    },
    {
     "name": "stdin",
     "output_type": "stream",
     "text": [
      "ipdb>  paths\n"
     ]
    },
    {
     "name": "stdout",
     "output_type": "stream",
     "text": [
      "{'L1dir': '/nobackupp10/hyperion/L1', 'wavelength': '/nobackupp10/hyperion/L1/ancillary/Hyperion_wavelengths_forwlwithnooverlapSWIR.txt', 'surface': '/nobackupp10/hyperion/L1/ancillary/surface/surface_v2/surface_forwlwithnooverlapSWIR.json', 'surface_mat': '/nobackupp10/hyperion/L1/ancillary/surface/surface_v2/surface_filtered_forwlwithnooverlapSWIR.mat', 'emulator_base': '/nobackupp13/yshinozu/data/isofit/sRTMnet/sRTMnet_v100', 'working_directory': '/nobackupp13/yshinozu/data/isofit/EO1H0440342016184110KF/', 'demdir': '/nobackupp10/armichae/public/dem/', 'attrfile': '/nobackupp10/hyperion/Hyperion_attributes.csv', 'attrfile_scene': '/nobackupp10/hyperion/Hyperion_attributes_separated/EO1H0440342016184110KF.csv', 'L1R': '/nobackupp10/hyperion/L1/EO1H0440342016184110KF.L1R'}\n"
     ]
    },
    {
     "name": "stdin",
     "output_type": "stream",
     "text": [
      "ipdb>  pattern\n"
     ]
    },
    {
     "name": "stdout",
     "output_type": "stream",
     "text": [
      "'EO1H0440342016184110KF*.L1R'\n"
     ]
    }
   ],
   "source": [
    "scene = 'EO1H0440342016184110KF'#'EO1H0100612008087110KF'#'EO1H0090582008189110P0' # 'EO1H0440342016184110KF' # 'EO1H0010742008014110K0' # 'EO1H0440342016184110KF'\n",
    "paths = hyperion2isofit.readHyperionL2(scene)\n",
    "# a file in my directory\n",
    "key = 'subs_rfl'\n",
    "mine = paths[key] \n",
    "# the counterpart in PT's directory\n",
    "if scene=='EO1H0010742008014110K0':\n",
    "    PT = os.path.join('/nobackupp10/hyperion/pipeline/results/task-data/27-45-level1/st-50', mine[mine.find(scene)+23:])\n",
    "# elif scene=='EO1H0090582008189110P0':  \n",
    "#     PT = os.path.join('/nobackupp10/hyperion/pipeline/results/task-data/29-47-level1/st-168', mine[mine.find(scene)+23:])\n",
    "# /nobackupp10/hyperion/pipeline/results/task-data/29-47-level1/st-199/EO1H0100612008087110KF.L2.tgz\n",
    "    replace = ('', '')\n",
    "elif scene=='EO1H0440342016184110KF':\n",
    "    replace = ('isofit/{}'.format(scene), 'isofit/{}.L2_20211130'.format(scene))\n",
    "else:\n",
    "    replace = ('isofit/{}'.format(scene), 'isofit/{}.L2'.format(scene))\n",
    "PT = mine.replace(replace[0],replace[1]) \n",
    "# mine = mine.replace('isofit/{}'.format(scene),'isofit/{}.L2_20211116'.format(scene)) # !!!!!!!!\n",
    "print(mine+'\\n'+PT)\n",
    "if not os.path.exists(mine):\n",
    "    raise ValueError(mine)\n",
    "if not os.path.exists(PT):\n",
    "    raise ValueError(PT)\n",
    "    \n",
    "# open the files\n",
    "p = envi.open(PT)[:,:,:]\n",
    "m = envi.open(mine)[:,:,:]\n",
    "lwp = len(paths['wp'])\n",
    "idx = np.append(np.isfinite(paths['wp']),[True]*(p.shape[-1]-lwp)).astype(bool)\n",
    "idxf = np.append(np.isfinite(paths['wp']),[False]*(p.shape[-1]-lwp)).astype(bool)\n",
    "idx = (slice(None), slice(None), idx)\n",
    "idxf = (slice(None), slice(None), idxf)\n",
    "# are they identical?\n",
    "if np.all(p==m):\n",
    "    print('Identical.')\n",
    "elif np.all(p[idx]==m[idx]):\n",
    "    print('Identical outside absorption bands.')\n",
    "else:\n",
    "    d = np.abs(p-m)\n",
    "    imax = np.nanargmax(d)\n",
    "    print('{:0.2f} max diff, p={:0.2g}, m={:0.2g}'.format(d.flatten()[imax], p.flatten()[imax], m.flatten()[imax]))\n",
    "    r = d/m\n",
    "    imax = np.nanargmax(r)\n",
    "    print('{:0.2g}% max diff, p={:0.2g}, m={:0.2g}'.format(np.nanmax(d), r.flatten()[imax]*100, p.flatten()[imax], m.flatten()[imax]))\n",
    "    d = np.abs(p[idx]-m[idx])\n",
    "    imax = np.nanargmax(d)\n",
    "    print('{:0.2f} max diff, p={:0.2g}, m={:0.2g}'.format(d.flatten()[imax], p[idx].flatten()[imax], m[idx].flatten()[imax]))\n",
    "    r = d/m[idx]\n",
    "    imax = np.nanargmax(r)\n",
    "    print('{:0.2g}% max diff, p={:0.2g}, m={:0.2g}'.format(np.nanmax(d), r.flatten()[imax]*100, p[idx].flatten()[imax], m[idx].flatten()[imax]))\n"
   ]
  },
  {
   "cell_type": "code",
   "execution_count": null,
   "id": "e1ed0b9a-7acf-4891-8e9c-e25871ac050a",
   "metadata": {},
   "outputs": [],
   "source": []
  }
 ],
 "metadata": {
  "kernelspec": {
   "display_name": "isofit-tutorials",
   "language": "python",
   "name": "isofit-tutorials"
  },
  "language_info": {
   "codemirror_mode": {
    "name": "ipython",
    "version": 3
   },
   "file_extension": ".py",
   "mimetype": "text/x-python",
   "name": "python",
   "nbconvert_exporter": "python",
   "pygments_lexer": "ipython3",
   "version": "3.12.8"
  }
 },
 "nbformat": 4,
 "nbformat_minor": 5
}
