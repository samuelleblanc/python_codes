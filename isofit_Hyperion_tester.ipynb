{
 "cells": [
  {
   "cell_type": "markdown",
   "id": "9b07409b-0046-49fc-b00c-73dc5e593e60",
   "metadata": {},
   "source": [
    "# Info\n",
    "Purpose:\n",
    "\n",
    "    To test out the isofit v3 Hyperion reprocessing\n",
    "\n",
    "\n",
    "Output:\n",
    "\n",
    "    Figure\n",
    "\n",
    "Keywords:\n",
    "\n",
    "    none\n",
    "\n",
    "Dependencies:\n",
    "\n",
    "    - hyperion package built by Yohei SHinozuka\n",
    "    - hyperion L1R files\n",
    "\n",
    "Needed Files:\n",
    "  - hyperion L1R hdf files\n",
    "  - ...\n",
    "\n",
    "Modification History:\n",
    "\n",
    "    Written: Samuel LeBlanc, Santa Cruz, CA, 2025-02-12\n",
    "            - based on test.ipynb file from Yohei Shinozuka\n",
    "    Modified:\n"
   ]
  },
  {
   "cell_type": "markdown",
   "id": "a7446da8-1423-429d-8cef-0ea5b9317fcd",
   "metadata": {},
   "source": [
    "# Prepare python environment"
   ]
  },
  {
   "cell_type": "code",
   "execution_count": 1,
   "id": "73a44349-635e-419a-bd31-b3225fa42b30",
   "metadata": {},
   "outputs": [
    {
     "data": {
      "text/plain": [
       "<Figure size 640x480 with 0 Axes>"
      ]
     },
     "metadata": {},
     "output_type": "display_data"
    }
   ],
   "source": [
    "import sys\n",
    "#sys.path = sys.path[1:]\n",
    "import os\n",
    "from glob import glob\n",
    "from importlib import reload\n",
    "import platform\n",
    "from datetime import datetime\n",
    "import filecmp\n",
    "from IPython.display import HTML, display\n",
    "import numpy as np\n",
    "import matplotlib.pyplot as plt\n",
    "import matplotlib.image as mpimg\n",
    "import matplotlib.ticker as mticker\n",
    "plt.figure() # Run this before importing isofit.utils (via h2i)\n",
    "from netCDF4 import Dataset\n",
    "from spectral.io import envi\n",
    "from scipy.io import loadmat\n",
    "from hyperion import test, testmemory, hyperion, hyperion2isofit"
   ]
  },
  {
   "cell_type": "markdown",
   "id": "f8600966-c3ba-415b-b488-0f2bbcea71cf",
   "metadata": {},
   "source": [
    "## set the paths"
   ]
  },
  {
   "cell_type": "code",
   "execution_count": 2,
   "id": "c28fa1ac-7313-4d83-8bb2-5ca021b38d1a",
   "metadata": {},
   "outputs": [],
   "source": [
    "from path_utils import getpath"
   ]
  },
  {
   "cell_type": "code",
   "execution_count": 4,
   "id": "6ba87334-d6c6-422b-b3cf-5bac69b7cf0d",
   "metadata": {},
   "outputs": [
    {
     "name": "stdout",
     "output_type": "stream",
     "text": [
      "Return path named:  hyperion_fig /data2/SBG/Hyperion_data/fig/\n"
     ]
    }
   ],
   "source": [
    "figdir = getpath('hyperion_fig')\n",
    "figprefix = os.path.join(figdir, '{}')\n",
    "figexts = ('png', 'eps', )"
   ]
  },
  {
   "cell_type": "code",
   "execution_count": 5,
   "id": "e1325477-3321-4436-836c-4e9db6d9be0f",
   "metadata": {},
   "outputs": [],
   "source": [
    "from isofit.utils import apply_oe"
   ]
  },
  {
   "cell_type": "code",
   "execution_count": 6,
   "id": "7fc75b0b-1c26-488c-8ea6-91df09ba1c90",
   "metadata": {},
   "outputs": [
    {
     "data": {
      "text/plain": [
       "<module 'isofit.utils.apply_oe' from '/home/sam/mambaforge/envs/isofit_env/lib/python3.12/site-packages/isofit/utils/apply_oe.py'>"
      ]
     },
     "execution_count": 6,
     "metadata": {},
     "output_type": "execute_result"
    }
   ],
   "source": [
    "apply_oe"
   ]
  },
  {
   "cell_type": "code",
   "execution_count": 63,
   "id": "0b0d9b4b-4ec4-4acf-9a55-17d6f3a6f10e",
   "metadata": {},
   "outputs": [
    {
     "data": {
      "text/plain": [
       "<module 'hyperion.hyperion2isofit' from '/home/sam/python_codes/hyperion/hyperion2isofit.py'>"
      ]
     },
     "execution_count": 63,
     "metadata": {},
     "output_type": "execute_result"
    }
   ],
   "source": [
    "import importlib\n",
    "importlib.reload(hyperion2isofit)"
   ]
  },
  {
   "cell_type": "code",
   "execution_count": null,
   "id": "089fe781-a3bb-4227-acfb-84673cffd3e9",
   "metadata": {},
   "outputs": [],
   "source": [
    "scene = r'EO1H0440342016184110KF'#'EO1H0100612008087110KF'#'EO1H0090582008189110P0' # 'EO1H0440342016184110KF' # 'EO1H0010742008014110K0' # 'EO1H0440342016184110KF'\n",
    "paths = hyperion2isofit.readHyperionL2(scene)"
   ]
  },
  {
   "cell_type": "markdown",
   "id": "27350234-a333-47d2-95c4-029b759bcf73",
   "metadata": {},
   "source": [
    "# Test out the make hyp L2"
   ]
  },
  {
   "cell_type": "code",
   "execution_count": 135,
   "id": "0ef21ac3-11c6-4d6f-97f4-9b49c87f3e0a",
   "metadata": {},
   "outputs": [
    {
     "data": {
      "text/plain": [
       "<module 'hyperion.hyperion2isofit' from '/home/sam/python_codes/hyperion/hyperion2isofit.py'>"
      ]
     },
     "execution_count": 135,
     "metadata": {},
     "output_type": "execute_result"
    }
   ],
   "source": [
    "import importlib; importlib.reload(hyperion2isofit)"
   ]
  },
  {
   "cell_type": "code",
   "execution_count": null,
   "id": "c69ab3ad-c7cc-4cbd-993e-285f25252461",
   "metadata": {},
   "outputs": [
    {
     "name": "stdout",
     "output_type": "stream",
     "text": [
      "/data2/SBG/Hyperion_data/EO1H0440342016184110KF.L1R\n",
      "Path entries: \n",
      "L1dir: /data2/SBG/Hyperion_data\n",
      "wavelength: /data2/SBG/Hyperion_data/wavelengths.txt\n",
      "surface: /data2/SBG/Hyperion_data/surface.json\n",
      "surface_mat: /data2/SBG/Hyperion_data/surface.mat\n",
      "emulator_base: /data2/SBG/isofit/srtmnet\n",
      "working_directory: /data2/SBG/Hyperion_data/EO1H0440342016184110KF\n",
      "demdir: /data2/SBG/Hyperion_data/dem\n",
      "attrfile: /data2/SBG/Hyperion_data/Hyperion_attributes.csv\n",
      "attrfile_scene: /data2/SBG/Hyperion_data/Hyperion_attributes_separated/EO1H0440342016184110KF.csv\n",
      "L1R: /data2/SBG/Hyperion_data/EO1H0440342016184110KF.L1R\n",
      "radiance: /data2/SBG/Hyperion_data/EO1H0440342016184110KFradiance.hdr\n",
      "loc: /data2/SBG/Hyperion_data/EO1H0440342016184110KFloc.hdr\n",
      "obs: /data2/SBG/Hyperion_data/EO1H0440342016184110KFobs.hdr\n",
      "scene: EO1H0440342016184110KF\n",
      "attrs: {'Entity_ID': 'EO1H0440342016184110KF_AK3_01', 'Acquisitio': '7/2/2016 0:00:00', 'Cloud_Cove': '10', 'Orbit_Path': '45', 'Orbit_Row': '34', 'Target_Pat': '44', 'Target_Row': '34', 'Station': 'AK3', 'Processing': 'L1T Product Available', 'Scene_Star': '2016:184:16:47:03.793', 'Scene_Stop': '2016:184:16:47:17.793', 'Sun_Azimut': '93.348256', 'Sun_Elevat': '43.652461', 'Satellite': '97.81', 'Look_Angle': '5.3268', 'Date_Enter': '7/2/2016 0:00:00', 'Center_Lat': '37&deg;50\\'43.59\"\"N', 'Center_Lon': '122&deg;23\\'53.18\"\"W', 'NW_Corner': '38&deg;14\\'42.36\"\"N', 'NW_Corne_1': '122&deg;19\\'16.22\"\"W', 'NE_Corner': '38&deg;13\\'46.04\"\"N', 'NE_Corne_1': '122&deg;14\\'19.97\"\"W', 'SE_Corner': '37&deg;26\\'45.07\"\"N', 'SE_Corne_1': '122&deg;28\\'31.65\"\"W', 'SW_Corner': '37&deg;27\\'40.90\"\"N', 'SW_Corne_1': '122&deg;33\\'24.87\"\"W', 'Center_L_1': '37.845443', 'Center_L_2': '-122.398105', 'NW_Corne_2': '38.2451', 'NW_Corne_3': '-122.321173', 'NE_Corne_2': '38.229456', 'NE_Corne_3': '-122.23888', 'SE_Corne_2': '37.445853', 'SE_Corne_3': '-122.475458', 'SW_Corne_2': '37.461361', 'SW_Corne_3': '-122.556909', 'Shape_Length': '1.983736947652889', 'Shape_Area': '0.074196797317448'}\n",
      "lonlat: [[[-122.32092631 -122.32060603 -122.32028576 ... -122.23991425\n",
      "   -122.23959412 -122.23927398]\n",
      "  [-122.32099989 -122.32067961 -122.32035934 ... -122.23998809\n",
      "   -122.23966796 -122.23934782]\n",
      "  [-122.32107347 -122.3207532  -122.32043292 ... -122.24006193\n",
      "   -122.23974179 -122.23942166]\n",
      "  ...\n",
      "  [-122.55637588 -122.55605889 -122.55574189 ... -122.47619171\n",
      "   -122.47587484 -122.47555798]\n",
      "  [-122.55644793 -122.55613093 -122.55581393 ... -122.47626401\n",
      "   -122.47594714 -122.47563027]\n",
      "  [-122.55651997 -122.55620297 -122.55588597 ... -122.4763363\n",
      "   -122.47601944 -122.47570257]]\n",
      "\n",
      " [[  38.24479729   38.24473653   38.24467576 ...   38.22939704\n",
      "     38.22933605   38.22927507]\n",
      "  [  38.24455533   38.24449457   38.24443381 ...   38.22915512\n",
      "     38.22909414   38.22903316]\n",
      "  [  38.24431338   38.24425262   38.24419186 ...   38.22891321\n",
      "     38.22885223   38.22879125]\n",
      "  ...\n",
      "  [  37.46202716   37.46196693   37.46190669 ...   37.44676063\n",
      "     37.44670018   37.44663972]\n",
      "  [  37.46178503   37.4617248    37.46166456 ...   37.44651853\n",
      "     37.44645808   37.44639763]\n",
      "  [  37.4615429    37.46148266   37.46142243 ...   37.44627644\n",
      "     37.44621599   37.44615554]]]\n",
      "File name for SD read: /data2/SBG/Hyperion_data/dem/DEM.h09v03.hdf\n",
      "0 ['filtered_other']\n",
      "0 ['filtered_veg']\n",
      "0 ['surface_Liquids']\n",
      "1 ['surface_Liquids']\n",
      "namespace(input_radiance='/data2/SBG/Hyperion_data/EO1H0440342016184110KFradiance', input_loc='/data2/SBG/Hyperion_data/EO1H0440342016184110KFloc', input_obs='/data2/SBG/Hyperion_data/EO1H0440342016184110KFobs', working_directory='/data2/SBG/Hyperion_data/EO1H0440342016184110KF', ray_temp_dir='/tmp/ray', logging_level='INFO', log_file=None, sensor='hyp', surface_path='/data2/SBG/Hyperion_data/surface.mat', emulator_base='/data2/SBG/isofit/srtmnet/sRTMnet_v120.h5', surface_category='multicomponent_surface', modtran_path=None, atmosphere_type='ATM_MIDLAT_SUMMER', aerosol_climatology_path=None, rdn_factors_path=None, model_discrepancy_path=None, channelized_uncertainty_path=None, multiple_restarts=False, presolve='1', empirical_line='0', analytical_line='1', segmentation_size=10, num_neighbors=[5], atm_sigma=[0.5, 0.5], pressure_elevation=False, n_cores=15, lut_config_file=None, no_min_lut_spacing=True, copy_input_files=False, inversion_windows=[[350.0, 1360.0], [1410, 1800.0], [1970.0, 2500.0]], wavelength_path=None, prebuilt_lut=None)\n"
     ]
    },
    {
     "name": "stderr",
     "output_type": "stream",
     "text": [
      "2025-03-06 00:47:27,126\tINFO worker.py:1821 -- Started a local Ray instance.\n",
      "INFO:2025-03-06,00:47:27 || apply_oe.py:apply_oe() | namespace(input_radiance='/data2/SBG/Hyperion_data/EO1H0440342016184110KFradiance', input_loc='/data2/SBG/Hyperion_data/EO1H0440342016184110KFloc', input_obs='/data2/SBG/Hyperion_data/EO1H0440342016184110KFobs', working_directory='/data2/SBG/Hyperion_data/EO1H0440342016184110KF', ray_temp_dir='/tmp/ray', logging_level='INFO', log_file=None, sensor='hyp', surface_path='/data2/SBG/Hyperion_data/surface.mat', emulator_base='/data2/SBG/isofit/srtmnet/sRTMnet_v120.h5', surface_category='multicomponent_surface', modtran_path=None, atmosphere_type='ATM_MIDLAT_SUMMER', aerosol_climatology_path=None, rdn_factors_path=None, model_discrepancy_path=None, channelized_uncertainty_path=None, multiple_restarts=False, presolve='1', empirical_line='0', analytical_line='1', segmentation_size=10, num_neighbors=[5], atm_sigma=[0.5, 0.5], pressure_elevation=False, n_cores=15, lut_config_file=None, no_min_lut_spacing=True, copy_input_files=False, inversion_windows=[[350.0, 1360.0], [1410, 1800.0], [1970.0, 2500.0]], wavelength_path=None, prebuilt_lut=None)\n",
      "INFO:2025-03-06,00:47:27 || apply_oe.py:apply_oe() | Checking input data files...\n",
      "INFO:2025-03-06,00:47:27 || apply_oe.py:apply_oe() | ...Data file checks complete\n",
      "INFO:2025-03-06,00:47:27 || apply_oe.py:apply_oe() | Setting up files and directories....\n",
      "INFO:2025-03-06,00:47:27 || template_construction.py:__init__() | Flightline ID: EO1H0440342016184110KF\n",
      "INFO:2025-03-06,00:47:27 || template_construction.py:__init__() | no noise path found, proceeding without\n",
      "INFO:2025-03-06,00:47:27 || apply_oe.py:apply_oe() | ...file/directory setup complete\n",
      "INFO:2025-03-06,00:47:27 || apply_oe.py:apply_oe() | Using inversion windows: [[350.0, 1360.0], [1410, 1800.0], [1970.0, 2500.0]]\n",
      "INFO:2025-03-06,00:47:27 || apply_oe.py:apply_oe() | No wavelength file provided. Obtaining wavelength grid from ENVI header of radiance cube.\n",
      "INFO:2025-03-06,00:47:27 || apply_oe.py:apply_oe() | Wavelength units of nm inferred...converting to microns\n",
      "WARNING:2025-03-06,00:47:27 || template_construction.py:check_surface_model() | Center wavelengths provided in surface model file do not match wavelengths in radiance cube. Please consider rebuilding your surface model for optimal performance.\n",
      "INFO:2025-03-06,00:47:27 || apply_oe.py:apply_oe() | Scene contains target lut grid elements < 0 km, and uses 6s (via sRTMnet).  6s does not support targets below sea level in km units.  Setting grid points [-0.0006] to 0.\n",
      "INFO:2025-03-06,00:47:27 || apply_oe.py:apply_oe() | Observation means:\n",
      "INFO:2025-03-06,00:47:27 || apply_oe.py:apply_oe() | Path (km): 99.89999999999982\n",
      "INFO:2025-03-06,00:47:27 || apply_oe.py:apply_oe() | To-sensor azimuth (deg): 193.08696011205902\n",
      "INFO:2025-03-06,00:47:27 || apply_oe.py:apply_oe() | To-sensor zenith (deg): 5.475433684341058\n",
      "INFO:2025-03-06,00:47:27 || apply_oe.py:apply_oe() | To-sun azimuth (deg): 93.36964969014326\n",
      "INFO:2025-03-06,00:47:27 || apply_oe.py:apply_oe() | To-sun zenith (deg): 46.31226806914555\n",
      "INFO:2025-03-06,00:47:27 || apply_oe.py:apply_oe() | Relative to-sun azimuth (deg): 89.67201875032698\n",
      "INFO:2025-03-06,00:47:27 || apply_oe.py:apply_oe() | Altitude (km): 99.52171535463168\n",
      "INFO:2025-03-06,00:47:27 || apply_oe.py:apply_oe() | Adjusting altitude to 99 km for integration with 6S, because emulator is chosen.\n",
      "INFO:2025-03-06,00:47:27 || apply_oe.py:apply_oe() | Segmenting...\n",
      "2025-03-06 00:47:28,026\tINFO worker.py:1654 -- Calling ray.init() again after it has already been called.\n",
      "\u001b[36m(segment_chunk pid=3172810)\u001b[0m INFO:2025-03-06,00:47:28 ||| 768: starting\n",
      "\u001b[36m(segment_chunk pid=3172812)\u001b[0m INFO:2025-03-06,00:47:29 ||| 1024: completing\n",
      "INFO:2025-03-06,00:47:34 || apply_oe.py:apply_oe() | Extracting /data2/SBG/Hyperion_data/EO1H0440342016184110KF/input/EO1H0440342016184110KF_subs_rdn\n",
      "2025-03-06 00:47:34,283\tINFO worker.py:1654 -- Calling ray.init() again after it has already been called.\n",
      "\u001b[36m(extract_chunk pid=3172808)\u001b[0m INFO:2025-03-06,00:47:34 ||| 1792: starting\u001b[32m [repeated 13x across cluster] (Ray deduplicates logs by default. Set RAY_DEDUP_LOGS=0 to disable log deduplication, or see https://docs.ray.io/en/master/ray-observability/user-guides/configure-logging.html#log-deduplication for more options.)\u001b[0m\n",
      "INFO:2025-03-06,00:47:35 || apply_oe.py:apply_oe() | Extracting /data2/SBG/Hyperion_data/EO1H0440342016184110KF/input/EO1H0440342016184110KF_subs_obs\n",
      "2025-03-06 00:47:35,934\tINFO worker.py:1654 -- Calling ray.init() again after it has already been called.\n",
      "\u001b[36m(segment_chunk pid=3172802)\u001b[0m INFO:2025-03-06,00:47:32 ||| 2816: completing\u001b[32m [repeated 12x across cluster]\u001b[0m\n",
      "INFO:2025-03-06,00:47:37 || apply_oe.py:apply_oe() | Extracting /data2/SBG/Hyperion_data/EO1H0440342016184110KF/input/EO1H0440342016184110KF_subs_loc\n",
      "2025-03-06 00:47:37,525\tINFO worker.py:1654 -- Calling ray.init() again after it has already been called.\n",
      "INFO:2025-03-06,00:47:38 || apply_oe.py:apply_oe() | Pre-solve H2O grid: [0.01 0.67 1.34 2.   2.67 3.33 4.   4.66 5.33 5.99]\n",
      "INFO:2025-03-06,00:47:38 || apply_oe.py:apply_oe() | Writing H2O pre-solve configuration file.\n",
      "INFO:2025-03-06,00:47:38 || apply_oe.py:apply_oe() | Run ISOFIT initial guess\n",
      "WARNING:2025-03-06,00:47:38 || __init__.py:checkNumThreads() | \n",
      "******************************************************************************************\n",
      "! Number of threads is greater than 1, this may greatly impact performance\n",
      "! Please set this the environment variables 'MKL_NUM_THREADS' and 'OMP_NUM_THREADS' to '1'\n",
      "******************************************************************************************\n",
      "INFO:2025-03-06,00:47:38 || configs.py:create_new_config() | Loading config file: /data2/SBG/Hyperion_data/EO1H0440342016184110KF/config/EO1H0440342016184110KF_h2o.json\n",
      "INFO:2025-03-06,00:47:38 || configs.py:get_config_errors() | Checking config sections for configuration issues\n",
      "INFO:2025-03-06,00:47:38 || configs.py:get_config_errors() | Configuration file checks complete, no errors found.\n",
      "2025-03-06 00:47:38,990\tINFO worker.py:1654 -- Calling ray.init() again after it has already been called.\n",
      "INFO:2025-03-06,00:47:38 || isofit.py:run() | Building first forward model, will generate any necessary LUTs\n",
      "INFO:2025-03-06,00:47:38 || radiative_transfer_engine.py:__init__() | Loading from wavelength_file: /data2/SBG/Hyperion_data/EO1H0440342016184110KF/data/wavelengths.txt\n",
      "INFO:2025-03-06,00:47:38 || radiative_transfer_engine.py:__init__() | No LUT store found, beginning initialization and simulations\n",
      "INFO:2025-03-06,00:47:38 || radiative_transfer_engine.py:__init__() | Initializing LUT file\n",
      "INFO:2025-03-06,00:47:39 || radiative_transfer_engine.py:runSimulations() | Running any pre-sim functions\n",
      "INFO:2025-03-06,00:47:39 || sRTMnet.py:preSim() | Creating a simulator configuration\n",
      "INFO:2025-03-06,00:47:39 || sRTMnet.py:preSim() | Building simulator and executing (6S)\n",
      "INFO:2025-03-06,00:47:39 || radiative_transfer_engine.py:__init__() | No LUT store found, beginning initialization and simulations\n",
      "INFO:2025-03-06,00:47:39 || radiative_transfer_engine.py:__init__() | Initializing LUT file\n",
      "INFO:2025-03-06,00:47:39 || radiative_transfer_engine.py:runSimulations() | Running any pre-sim functions\n",
      "INFO:2025-03-06,00:47:39 || radiative_transfer_engine.py:runSimulations() | Executing parallel simulations\n",
      "\u001b[36m(streamSimulation pid=3172808)\u001b[0m INFO:2025-03-06,00:47:40 ||| Loaded ini from: /home/sam/.isofit/isofit.ini\n",
      "\u001b[36m(extract_chunk pid=3172802)\u001b[0m INFO:2025-03-06,00:47:37 ||| 2304: starting\u001b[32m [repeated 38x across cluster]\u001b[0m\n",
      "INFO:2025-03-06,00:47:45 || common.py:__call__() |  20.00% simulations complete (elapsed: 0:00:05.710907, rate: 0:00:00.571091, eta: 0:00:51.398163)\n",
      "INFO:2025-03-06,00:47:45 || radiative_transfer_engine.py:runSimulations() | Flushing netCDF to disk\n",
      "INFO:2025-03-06,00:47:45 || common.py:__call__() |  30.00% simulations complete (elapsed: 0:00:06.014491, rate: 0:00:00.601449, eta: 0:00:24.057964)\n",
      "INFO:2025-03-06,00:47:45 || radiative_transfer_engine.py:runSimulations() | Flushing netCDF to disk\n",
      "INFO:2025-03-06,00:47:45 || common.py:__call__() |  40.00% simulations complete (elapsed: 0:00:06.301701, rate: 0:00:00.630170, eta: 0:00:14.703969)\n",
      "INFO:2025-03-06,00:47:45 || radiative_transfer_engine.py:runSimulations() | Flushing netCDF to disk\n",
      "INFO:2025-03-06,00:47:46 || common.py:__call__() |  50.00% simulations complete (elapsed: 0:00:06.569813, rate: 0:00:00.656981, eta: 0:00:09.854719)\n",
      "INFO:2025-03-06,00:47:46 || radiative_transfer_engine.py:runSimulations() | Flushing netCDF to disk\n",
      "INFO:2025-03-06,00:47:46 || common.py:__call__() |  60.00% simulations complete (elapsed: 0:00:06.838258, rate: 0:00:00.683826, eta: 0:00:06.838258)\n",
      "INFO:2025-03-06,00:47:46 || radiative_transfer_engine.py:runSimulations() | Flushing netCDF to disk\n",
      "INFO:2025-03-06,00:47:46 || common.py:__call__() |  70.00% simulations complete (elapsed: 0:00:07.152619, rate: 0:00:00.715262, eta: 0:00:04.768413)\n",
      "INFO:2025-03-06,00:47:46 || radiative_transfer_engine.py:runSimulations() | Flushing netCDF to disk\n",
      "INFO:2025-03-06,00:47:47 || common.py:__call__() |  80.00% simulations complete (elapsed: 0:00:07.451800, rate: 0:00:00.745180, eta: 0:00:03.193629)\n",
      "INFO:2025-03-06,00:47:47 || radiative_transfer_engine.py:runSimulations() | Flushing netCDF to disk\n",
      "INFO:2025-03-06,00:47:47 || common.py:__call__() |  90.00% simulations complete (elapsed: 0:00:07.716231, rate: 0:00:00.771623, eta: 0:00:01.929058)\n",
      "INFO:2025-03-06,00:47:47 || radiative_transfer_engine.py:runSimulations() | Flushing netCDF to disk\n",
      "INFO:2025-03-06,00:47:47 || common.py:__call__() | 100.00% simulations complete (elapsed: 0:00:07.981431, rate: 0:00:00.798143, eta: 0:00:00.886826)\n",
      "INFO:2025-03-06,00:47:47 || radiative_transfer_engine.py:runSimulations() | Flushing netCDF to disk\n",
      "INFO:2025-03-06,00:47:47 || radiative_transfer_engine.py:runSimulations() | Running any post-sim functions\n",
      "INFO:2025-03-06,00:47:48 || radiative_transfer_engine.py:runSimulations() | Saving post-sim data to index zero of all dimensions except wl\n",
      "INFO:2025-03-06,00:47:48 || luts.py:load() | Loading LUT into memory\n",
      "WARNING:2025-03-06,00:47:48 || luts.py:load() | Detected NaNs in the following LUT variable and may cause issues: thermal_upwelling\n",
      "WARNING:2025-03-06,00:47:48 || luts.py:load() | Detected NaNs in the following LUT variable and may cause issues: thermal_downwelling\n",
      "INFO:2025-03-06,00:47:48 || sRTMnet.py:preSim() | Interpolating simulator quantities to emulator size\n",
      "INFO:2025-03-06,00:47:48 || sRTMnet.py:preSim() | Loading and predicting with emulator\n",
      "INFO:2025-03-06,00:47:52 || sRTMnet.py:preSim() | Saving intermediary prediction results to: /data2/SBG/Hyperion_data/EO1H0440342016184110KF/lut_h2o/sRTMnet.predicts.nc\n",
      "INFO:2025-03-06,00:47:52 || radiative_transfer_engine.py:runSimulations() | Saving pre-sim data to index zero of all dimensions except wl\n",
      "INFO:2025-03-06,00:47:52 || radiative_transfer_engine.py:runSimulations() | Executing parallel simulations\n",
      "\u001b[36m(streamSimulation pid=3172808)\u001b[0m INFO:2025-03-06,00:47:52 ||| Loading LUT into memory\n",
      "\u001b[36m(streamSimulation pid=3172802)\u001b[0m INFO:2025-03-06,00:47:40 ||| Loaded ini from: /home/sam/.isofit/isofit.ini\u001b[32m [repeated 9x across cluster]\u001b[0m\n",
      "INFO:2025-03-06,00:47:53 || common.py:__call__() |  20.00% simulations complete (elapsed: 0:00:00.148768, rate: 0:00:00.014877, eta: 0:00:01.338912)\n",
      "INFO:2025-03-06,00:47:53 || radiative_transfer_engine.py:runSimulations() | Flushing netCDF to disk\n",
      "INFO:2025-03-06,00:47:53 || common.py:__call__() |  30.00% simulations complete (elapsed: 0:00:00.422464, rate: 0:00:00.042246, eta: 0:00:01.689856)\n",
      "INFO:2025-03-06,00:47:53 || radiative_transfer_engine.py:runSimulations() | Flushing netCDF to disk\n",
      "INFO:2025-03-06,00:47:53 || common.py:__call__() |  40.00% simulations complete (elapsed: 0:00:00.694633, rate: 0:00:00.069463, eta: 0:00:01.620810)\n",
      "INFO:2025-03-06,00:47:53 || radiative_transfer_engine.py:runSimulations() | Flushing netCDF to disk\n",
      "INFO:2025-03-06,00:47:53 || common.py:__call__() |  50.00% simulations complete (elapsed: 0:00:00.974111, rate: 0:00:00.097411, eta: 0:00:01.461167)\n",
      "INFO:2025-03-06,00:47:53 || radiative_transfer_engine.py:runSimulations() | Flushing netCDF to disk\n",
      "INFO:2025-03-06,00:47:54 || common.py:__call__() |  60.00% simulations complete (elapsed: 0:00:01.280008, rate: 0:00:00.128001, eta: 0:00:01.280008)\n",
      "INFO:2025-03-06,00:47:54 || radiative_transfer_engine.py:runSimulations() | Flushing netCDF to disk\n",
      "INFO:2025-03-06,00:47:54 || common.py:__call__() |  70.00% simulations complete (elapsed: 0:00:01.596909, rate: 0:00:00.159691, eta: 0:00:01.064606)\n",
      "INFO:2025-03-06,00:47:54 || radiative_transfer_engine.py:runSimulations() | Flushing netCDF to disk\n",
      "INFO:2025-03-06,00:47:54 || common.py:__call__() |  80.00% simulations complete (elapsed: 0:00:01.882068, rate: 0:00:00.188207, eta: 0:00:00.806601)\n",
      "INFO:2025-03-06,00:47:54 || radiative_transfer_engine.py:runSimulations() | Flushing netCDF to disk\n",
      "INFO:2025-03-06,00:47:55 || common.py:__call__() |  90.00% simulations complete (elapsed: 0:00:02.161348, rate: 0:00:00.216135, eta: 0:00:00.540337)\n",
      "INFO:2025-03-06,00:47:55 || radiative_transfer_engine.py:runSimulations() | Flushing netCDF to disk\n",
      "INFO:2025-03-06,00:47:55 || common.py:__call__() | 100.00% simulations complete (elapsed: 0:00:02.433110, rate: 0:00:00.243311, eta: 0:00:00.270346)\n",
      "INFO:2025-03-06,00:47:55 || radiative_transfer_engine.py:runSimulations() | Flushing netCDF to disk\n",
      "INFO:2025-03-06,00:47:55 || radiative_transfer_engine.py:runSimulations() | Running any post-sim functions\n",
      "INFO:2025-03-06,00:47:55 || luts.py:load() | Loading LUT into memory\n",
      "WARNING:2025-03-06,00:47:55 || luts.py:load() | Detected NaNs in the following LUT variable and may cause issues: thermal_upwelling\n",
      "WARNING:2025-03-06,00:47:55 || luts.py:load() | Detected NaNs in the following LUT variable and may cause issues: thermal_downwelling\n",
      "INFO:2025-03-06,00:47:55 || isofit.py:run() | Beginning 30783 inversions in 150 chunks using 15 cores\n",
      "\u001b[33m(raylet)\u001b[0m WARNING: All log messages before absl::InitializeLog() is called are written to STDERR\n",
      "\u001b[33m(raylet)\u001b[0m I0000 00:00:1741222075.902801 3172763 chttp2_transport.cc:1161] ipv4:192.168.10.201:42819: Got goaway [2] err=UNAVAILABLE:GOAWAY received; Error code: 2; Debug Text: Cancelling all calls {grpc_status:14, http2_error:2, created_time:\"2025-03-06T00:47:55.902740444+00:00\"}\n",
      "I0000 00:00:1741222075.962242 3173726 chttp2_transport.cc:1161] ipv4:192.168.10.201:34297: Got goaway [2] err=UNAVAILABLE:GOAWAY received; Error code: 2; Debug Text: Cancelling all calls {grpc_status:14, http2_error:2, created_time:\"2025-03-06T00:47:55.962220074+00:00\"}\n",
      "\u001b[36m(Worker pid=3172815)\u001b[0m INFO:2025-03-06,00:47:57 ||| Worker 1 completed 1/~2052.2:: 0.05% complete\n",
      "\u001b[36m(streamSimulation pid=3172802)\u001b[0m INFO:2025-03-06,00:47:52 ||| Loading LUT into memory\u001b[32m [repeated 9x across cluster]\u001b[0m\n",
      "\u001b[33m(raylet)\u001b[0m I0000 00:00:1741222075.914091 3172768 chttp2_transport.cc:1161] ipv4:192.168.10.201:41189: Got goaway [2] err=UNAVAILABLE:GOAWAY received; Error code: 2; Debug Text: Cancelling all calls {grpc_status:14, http2_error:2, created_time:\"2025-03-06T00:47:55.914066155+00:00\"}\u001b[32m [repeated 4x across cluster]\u001b[0m\n",
      "\u001b[36m(Worker pid=3174110)\u001b[0m INFO:2025-03-06,00:48:14 ||| Worker 9 completed 101/~2052.2:: 4.92% complete\u001b[32m [repeated 15x across cluster]\u001b[0m\n",
      "\u001b[36m(Worker pid=3174110)\u001b[0m INFO:2025-03-06,00:48:31 ||| Worker 9 completed 201/~2052.2:: 9.79% complete\u001b[32m [repeated 15x across cluster]\u001b[0m\n",
      "\u001b[36m(Worker pid=3174110)\u001b[0m INFO:2025-03-06,00:48:32 ||| Worker at start location (1238,0) completed 206/207\n",
      "\u001b[36m(Worker pid=3174110)\u001b[0m INFO:2025-03-06,00:48:48 ||| Worker 9 completed 308/~2052.2:: 15.01% complete\u001b[32m [repeated 30x across cluster]\u001b[0m\n",
      "\u001b[36m(Worker pid=3174108)\u001b[0m INFO:2025-03-06,00:48:35 ||| Worker at start location (2271,0) completed 206/207\u001b[32m [repeated 14x across cluster]\u001b[0m\n",
      "\u001b[36m(Worker pid=3174117)\u001b[0m INFO:2025-03-06,00:48:53 ||| Worker 7 completed 307/~2052.2:: 14.96% complete\u001b[32m [repeated 12x across cluster]\u001b[0m\n",
      "\u001b[36m(Worker pid=3174110)\u001b[0m INFO:2025-03-06,00:49:05 ||| Worker 9 completed 408/~2052.2:: 19.88% complete\u001b[32m [repeated 3x across cluster]\u001b[0m\n",
      "\u001b[36m(Worker pid=3174110)\u001b[0m INFO:2025-03-06,00:49:06 ||| Worker at start location (3511,0) completed 206/207\n",
      "\u001b[36m(Worker pid=3174116)\u001b[0m INFO:2025-03-06,00:49:10 ||| Worker 6 completed 408/~2052.2:: 19.88% complete\u001b[32m [repeated 18x across cluster]\u001b[0m\n",
      "\u001b[36m(Worker pid=3174116)\u001b[0m INFO:2025-03-06,00:49:11 ||| Worker at start location (3717,0) completed 205/206\u001b[32m [repeated 10x across cluster]\u001b[0m\n",
      "\u001b[36m(Worker pid=3174110)\u001b[0m INFO:2025-03-06,00:49:23 ||| Worker 9 completed 515/~2052.2:: 25.1% complete\u001b[32m [repeated 12x across cluster]\u001b[0m\n",
      "\u001b[36m(Worker pid=3174117)\u001b[0m INFO:2025-03-06,00:49:14 ||| Worker at start location (5990,0) completed 206/207\u001b[32m [repeated 4x across cluster]\u001b[0m\n",
      "\u001b[36m(Worker pid=3174119)\u001b[0m INFO:2025-03-06,00:49:29 ||| Worker 10 completed 514/~2052.2:: 25.05% complete\u001b[32m [repeated 6x across cluster]\u001b[0m\n",
      "\u001b[36m(Worker pid=3174110)\u001b[0m INFO:2025-03-06,00:49:41 ||| Worker 9 completed 615/~2052.2:: 29.97% complete\u001b[32m [repeated 9x across cluster]\u001b[0m\n",
      "\u001b[36m(Worker pid=3174110)\u001b[0m INFO:2025-03-06,00:49:42 ||| Worker at start location (6403,0) completed 206/207\n",
      "\u001b[36m(Worker pid=3174115)\u001b[0m INFO:2025-03-06,00:49:46 ||| Worker 8 completed 620/~2052.2:: 30.21% complete\u001b[32m [repeated 10x across cluster]\u001b[0m\n",
      "\u001b[36m(Worker pid=3174114)\u001b[0m INFO:2025-03-06,00:49:47 ||| Worker at start location (7436,0) completed 206/207\u001b[32m [repeated 5x across cluster]\u001b[0m\n",
      "\u001b[36m(Worker pid=3174117)\u001b[0m INFO:2025-03-06,00:49:53 ||| Worker 7 completed 614/~2052.2:: 29.92% complete\u001b[32m [repeated 13x across cluster]\u001b[0m\n",
      "\u001b[36m(Worker pid=3174112)\u001b[0m INFO:2025-03-06,00:49:51 ||| Worker at start location (8882,0) completed 205/206\u001b[32m [repeated 5x across cluster]\u001b[0m\n",
      "\u001b[36m(Worker pid=3174110)\u001b[0m INFO:2025-03-06,00:50:03 ||| Worker 9 completed 722/~2052.2:: 35.18% complete\u001b[32m [repeated 7x across cluster]\u001b[0m\n",
      "\u001b[36m(Worker pid=3174116)\u001b[0m INFO:2025-03-06,00:49:55 ||| Worker at start location (8469,0) completed 206/207\u001b[32m [repeated 4x across cluster]\u001b[0m\n",
      "\u001b[36m(Worker pid=3174111)\u001b[0m INFO:2025-03-06,00:50:09 ||| Worker 3 completed 721/~2052.2:: 35.13% complete\u001b[32m [repeated 8x across cluster]\u001b[0m\n",
      "\u001b[36m(Worker pid=3174116)\u001b[0m INFO:2025-03-06,00:50:15 ||| Worker 6 completed 721/~2052.2:: 35.13% complete\u001b[32m [repeated 6x across cluster]\u001b[0m\n",
      "\u001b[36m(Worker pid=3174114)\u001b[0m INFO:2025-03-06,00:50:24 ||| Worker 5 completed 821/~2052.2:: 40.01% complete\n",
      "\u001b[36m(Worker pid=3174115)\u001b[0m INFO:2025-03-06,00:50:24 ||| Worker 8 completed 820/~2052.2:: 39.96% complete\n",
      "\u001b[36m(Worker pid=3174115)\u001b[0m INFO:2025-03-06,00:50:25 ||| Worker at start location (10328,0) completed 205/206\n",
      "\u001b[36m(Worker pid=3174112)\u001b[0m INFO:2025-03-06,00:50:29 ||| Worker 11 completed 820/~2052.2:: 39.96% complete\u001b[32m [repeated 19x across cluster]\u001b[0m\n",
      "\u001b[36m(Worker pid=3174118)\u001b[0m INFO:2025-03-06,00:50:29 ||| Worker at start location (10122,0) completed 206/207\u001b[32m [repeated 9x across cluster]\u001b[0m\n",
      "\u001b[36m(Worker pid=3174114)\u001b[0m INFO:2025-03-06,00:50:42 ||| Worker 5 completed 928/~2052.2:: 45.22% complete\u001b[32m [repeated 10x across cluster]\u001b[0m\n",
      "\u001b[36m(Worker pid=3174116)\u001b[0m INFO:2025-03-06,00:50:34 ||| Worker at start location (12394,0) completed 205/206\u001b[32m [repeated 5x across cluster]\u001b[0m\n",
      "\u001b[36m(Worker pid=3174111)\u001b[0m INFO:2025-03-06,00:50:51 ||| Worker 3 completed 928/~2052.2:: 45.22% complete\u001b[32m [repeated 8x across cluster]\u001b[0m\n",
      "\u001b[36m(Worker pid=3174115)\u001b[0m INFO:2025-03-06,00:50:59 ||| Worker 8 completed 1026/~2052.2:: 50.0% complete\u001b[32m [repeated 7x across cluster]\u001b[0m\n",
      "\u001b[36m(Worker pid=3174115)\u001b[0m INFO:2025-03-06,00:51:00 ||| Worker at start location (12601,0) completed 206/207\n",
      "\u001b[36m(Worker pid=3172813)\u001b[0m INFO:2025-03-06,00:51:05 ||| Worker 0 completed 1026/~2052.2:: 50.0% complete\u001b[32m [repeated 10x across cluster]\u001b[0m\n",
      "\u001b[36m(Worker pid=3172815)\u001b[0m INFO:2025-03-06,00:51:05 ||| Worker at start location (13634,0) completed 206/207\u001b[32m [repeated 5x across cluster]\u001b[0m\n",
      "\u001b[36m(Worker pid=3174110)\u001b[0m INFO:2025-03-06,00:51:09 ||| Worker 9 completed 1035/~2052.2:: 50.43% complete\u001b[32m [repeated 6x across cluster]\u001b[0m\n",
      "\u001b[36m(Worker pid=3174116)\u001b[0m INFO:2025-03-06,00:51:10 ||| Worker at start location (15493,0) completed 205/206\u001b[32m [repeated 3x across cluster]\u001b[0m\n",
      "\u001b[36m(Worker pid=3174111)\u001b[0m INFO:2025-03-06,00:51:15 ||| Worker 3 completed 1028/~2052.2:: 50.09% complete\u001b[32m [repeated 5x across cluster]\u001b[0m\n",
      "\u001b[36m(Worker pid=3174111)\u001b[0m INFO:2025-03-06,00:51:16 ||| Worker at start location (14254,0) completed 206/207\u001b[32m [repeated 3x across cluster]\u001b[0m\n",
      "\u001b[36m(Worker pid=3174108)\u001b[0m INFO:2025-03-06,00:51:19 ||| Worker 4 completed 1028/~2052.2:: 50.09% complete\u001b[32m [repeated 11x across cluster]\u001b[0m\n",
      "\u001b[36m(Worker pid=3174108)\u001b[0m INFO:2025-03-06,00:51:20 ||| Worker at start location (14874,0) completed 206/207\u001b[32m [repeated 3x across cluster]\u001b[0m\n",
      "\u001b[36m(Worker pid=3174110)\u001b[0m INFO:2025-03-06,00:51:27 ||| Worker 9 completed 1135/~2052.2:: 55.31% complete\u001b[32m [repeated 5x across cluster]\u001b[0m\n",
      "\u001b[36m(Worker pid=3174112)\u001b[0m INFO:2025-03-06,00:51:33 ||| Worker 11 completed 1134/~2052.2:: 55.26% complete\u001b[32m [repeated 3x across cluster]\u001b[0m\n",
      "\u001b[36m(Worker pid=3174115)\u001b[0m INFO:2025-03-06,00:51:36 ||| Worker at start location (15700,0) completed 206/207\n",
      "\u001b[36m(Worker pid=3174107)\u001b[0m INFO:2025-03-06,00:51:41 ||| Worker 2 completed 1231/~2052.2:: 59.98% complete\u001b[32m [repeated 13x across cluster]\u001b[0m\n",
      "\u001b[36m(Worker pid=3174107)\u001b[0m INFO:2025-03-06,00:51:42 ||| Worker at start location (16526,0) completed 205/206\u001b[32m [repeated 4x across cluster]\u001b[0m\n",
      "\u001b[36m(Worker pid=3174116)\u001b[0m INFO:2025-03-06,00:51:45 ||| Worker 6 completed 1233/~2052.2:: 60.08% complete\u001b[32m [repeated 8x across cluster]\u001b[0m\n",
      "\u001b[36m(Worker pid=3174116)\u001b[0m INFO:2025-03-06,00:51:46 ||| Worker at start location (17353,0) completed 206/207\u001b[32m [repeated 4x across cluster]\u001b[0m\n",
      "\u001b[36m(Worker pid=3174112)\u001b[0m INFO:2025-03-06,00:51:51 ||| Worker 11 completed 1234/~2052.2:: 60.13% complete\u001b[32m [repeated 4x across cluster]\u001b[0m\n",
      "\u001b[36m(Worker pid=3174117)\u001b[0m INFO:2025-03-06,00:51:55 ||| Worker at start location (18386,0) completed 206/207\u001b[32m [repeated 5x across cluster]\u001b[0m\n",
      "\u001b[36m(Worker pid=3174108)\u001b[0m INFO:2025-03-06,00:51:57 ||| Worker 4 completed 1235/~2052.2:: 60.18% complete\u001b[32m [repeated 12x across cluster]\u001b[0m\n",
      "\u001b[36m(Worker pid=3174108)\u001b[0m INFO:2025-03-06,00:51:58 ||| Worker at start location (18592,0) completed 205/206\n",
      "\u001b[36m(Worker pid=3174116)\u001b[0m INFO:2025-03-06,00:52:03 ||| Worker 6 completed 1340/~2052.2:: 65.3% complete\u001b[32m [repeated 6x across cluster]\u001b[0m\n",
      "\u001b[36m(Worker pid=3174109)\u001b[0m INFO:2025-03-06,00:52:09 ||| Worker 13 completed 1341/~2052.2:: 65.34% complete\n",
      "\u001b[36m(Worker pid=3174115)\u001b[0m INFO:2025-03-06,00:52:10 ||| Worker 8 completed 1440/~2052.2:: 70.17% complete\n",
      "\u001b[36m(Worker pid=3174115)\u001b[0m INFO:2025-03-06,00:52:11 ||| Worker at start location (18799,0) completed 206/207\n",
      "\u001b[36m(Worker pid=3174108)\u001b[0m INFO:2025-03-06,00:52:16 ||| Worker 4 completed 1341/~2052.2:: 65.34% complete\u001b[32m [repeated 12x across cluster]\u001b[0m\n",
      "\u001b[36m(Worker pid=3174119)\u001b[0m INFO:2025-03-06,00:52:12 ||| Worker at start location (19419,0) completed 206/207\u001b[32m [repeated 3x across cluster]\u001b[0m\n",
      "\u001b[36m(Worker pid=3174107)\u001b[0m INFO:2025-03-06,00:52:20 ||| Worker 2 completed 1443/~2052.2:: 70.31% complete\u001b[32m [repeated 9x across cluster]\u001b[0m\n",
      "\u001b[36m(Worker pid=3174116)\u001b[0m INFO:2025-03-06,00:52:21 ||| Worker at start location (20452,0) completed 206/207\u001b[32m [repeated 5x across cluster]\u001b[0m\n",
      "\u001b[36m(Worker pid=3174109)\u001b[0m INFO:2025-03-06,00:52:27 ||| Worker 13 completed 1441/~2052.2:: 70.22% complete\u001b[32m [repeated 2x across cluster]\u001b[0m\n",
      "\u001b[36m(Worker pid=3174109)\u001b[0m INFO:2025-03-06,00:52:28 ||| Worker at start location (20658,0) completed 205/206\n",
      "\u001b[36m(Worker pid=3174108)\u001b[0m INFO:2025-03-06,00:52:34 ||| Worker 4 completed 1441/~2052.2:: 70.22% complete\u001b[32m [repeated 14x across cluster]\u001b[0m\n",
      "\u001b[36m(Worker pid=3174117)\u001b[0m INFO:2025-03-06,00:52:31 ||| Worker at start location (21485,0) completed 206/207\u001b[32m [repeated 4x across cluster]\u001b[0m\n",
      "\u001b[36m(Worker pid=3174115)\u001b[0m INFO:2025-03-06,00:52:45 ||| Worker 8 completed 1647/~2052.2:: 80.26% complete\u001b[32m [repeated 7x across cluster]\u001b[0m\n",
      "\u001b[36m(Worker pid=3174108)\u001b[0m INFO:2025-03-06,00:52:35 ||| Worker at start location (21691,0) completed 205/206\n",
      "\u001b[36m(Worker pid=3174115)\u001b[0m INFO:2025-03-06,00:52:46 ||| Worker at start location (21898,0) completed 206/207\n",
      "\u001b[36m(Worker pid=3174108)\u001b[0m INFO:2025-03-06,00:52:52 ||| Worker 4 completed 1547/~2052.2:: 75.38% complete\u001b[32m [repeated 13x across cluster]\u001b[0m\n",
      "\u001b[36m(Worker pid=3174113)\u001b[0m INFO:2025-03-06,00:52:48 ||| Worker at start location (22311,0) completed 206/207\u001b[32m [repeated 3x across cluster]\u001b[0m\n",
      "\u001b[36m(Worker pid=3174115)\u001b[0m INFO:2025-03-06,00:53:03 ||| Worker 8 completed 1754/~2052.2:: 85.47% complete\u001b[32m [repeated 11x across cluster]\u001b[0m\n",
      "\u001b[36m(Worker pid=3174116)\u001b[0m INFO:2025-03-06,00:52:57 ||| Worker at start location (23551,0) completed 206/207\u001b[32m [repeated 5x across cluster]\u001b[0m\n",
      "\u001b[36m(Worker pid=3174112)\u001b[0m INFO:2025-03-06,00:53:09 ||| Worker 11 completed 1648/~2052.2:: 80.3% complete\u001b[32m [repeated 12x across cluster]\u001b[0m\n",
      "\u001b[36m(Worker pid=3174117)\u001b[0m INFO:2025-03-06,00:53:06 ||| Worker at start location (24584,0) completed 206/207\u001b[32m [repeated 4x across cluster]\u001b[0m\n",
      "\u001b[36m(Worker pid=3174107)\u001b[0m INFO:2025-03-06,00:53:16 ||| Worker 2 completed 1750/~2052.2:: 85.27% complete\u001b[32m [repeated 7x across cluster]\u001b[0m\n",
      "\u001b[36m(Worker pid=3174108)\u001b[0m INFO:2025-03-06,00:53:11 ||| Worker at start location (24790,0) completed 205/206\u001b[32m [repeated 2x across cluster]\u001b[0m\n",
      "\u001b[36m(Worker pid=3174118)\u001b[0m INFO:2025-03-06,00:53:22 ||| Worker 14 completed 1754/~2052.2:: 85.47% complete\u001b[32m [repeated 4x across cluster]\u001b[0m\n",
      "\u001b[36m(Worker pid=3174115)\u001b[0m INFO:2025-03-06,00:53:20 ||| Worker at start location (24997,0) completed 206/207\n",
      "\u001b[36m(Worker pid=3174114)\u001b[0m INFO:2025-03-06,00:53:23 ||| Worker at start location (25203,0) completed 205/206\n",
      "\u001b[36m(Worker pid=3172813)\u001b[0m INFO:2025-03-06,00:53:28 ||| Worker 0 completed 1852/~2052.2:: 90.24% complete\u001b[32m [repeated 10x across cluster]\u001b[0m\n",
      "\u001b[36m(Worker pid=3172813)\u001b[0m INFO:2025-03-06,00:53:29 ||| Worker at start location (25823,0) completed 205/206\u001b[32m [repeated 3x across cluster]\u001b[0m\n",
      "\u001b[36m(Worker pid=3174107)\u001b[0m INFO:2025-03-06,00:53:34 ||| Worker 2 completed 1850/~2052.2:: 90.15% complete\u001b[32m [repeated 8x across cluster]\u001b[0m\n",
      "\u001b[36m(Worker pid=3172815)\u001b[0m INFO:2025-03-06,00:53:32 ||| Worker at start location (26236,0) completed 205/206\u001b[32m [repeated 2x across cluster]\u001b[0m\n",
      "\u001b[36m(Worker pid=3174118)\u001b[0m INFO:2025-03-06,00:53:39 ||| Worker 14 completed 1854/~2052.2:: 90.34% complete\u001b[32m [repeated 5x across cluster]\u001b[0m\n",
      "\u001b[36m(Worker pid=3174116)\u001b[0m INFO:2025-03-06,00:53:36 ||| Worker at start location (26650,0) completed 206/207\u001b[32m [repeated 2x across cluster]\u001b[0m\n",
      "\u001b[36m(Worker pid=3174111)\u001b[0m INFO:2025-03-06,00:53:46 ||| Worker 3 completed 1854/~2052.2:: 90.34% complete\u001b[32m [repeated 9x across cluster]\u001b[0m\n",
      "\u001b[36m(Worker pid=3174117)\u001b[0m INFO:2025-03-06,00:53:43 ||| Worker at start location (27476,0) completed 206/207\u001b[32m [repeated 3x across cluster]\u001b[0m\n",
      "\u001b[36m(Worker pid=3174107)\u001b[0m INFO:2025-03-06,00:53:55 ||| Worker 2 completed 1957/~2052.2:: 95.36% complete\u001b[32m [repeated 8x across cluster]\u001b[0m\n",
      "\u001b[36m(Worker pid=3174108)\u001b[0m INFO:2025-03-06,00:53:50 ||| Worker at start location (27889,0) completed 205/206\u001b[32m [repeated 3x across cluster]\u001b[0m\n",
      "\u001b[36m(Worker pid=3174118)\u001b[0m INFO:2025-03-06,00:54:00 ||| Worker 14 completed 1960/~2052.2:: 95.51% complete\u001b[32m [repeated 6x across cluster]\u001b[0m\n",
      "\u001b[36m(Worker pid=3174113)\u001b[0m INFO:2025-03-06,00:53:59 ||| Worker at start location (28509,0) completed 206/207\u001b[32m [repeated 2x across cluster]\u001b[0m\n",
      "\u001b[36m(Worker pid=3172813)\u001b[0m INFO:2025-03-06,00:54:05 ||| Worker 0 completed 2058/~2052.2:: 100.28% complete\u001b[32m [repeated 3x across cluster]\u001b[0m\n",
      "\u001b[36m(Worker pid=3174119)\u001b[0m INFO:2025-03-06,00:54:00 ||| Worker at start location (28716,0) completed 206/207\u001b[32m [repeated 2x across cluster]\u001b[0m\n",
      "\u001b[36m(Worker pid=3174107)\u001b[0m INFO:2025-03-06,00:54:13 ||| Worker 2 completed 2057/~2052.2:: 100.23% complete\u001b[32m [repeated 5x across cluster]\u001b[0m\n",
      "\u001b[36m(Worker pid=3172815)\u001b[0m INFO:2025-03-06,00:54:10 ||| Worker at start location (29335,0) completed 205/206\u001b[32m [repeated 3x across cluster]\u001b[0m\n",
      "\u001b[36m(Worker pid=3174118)\u001b[0m INFO:2025-03-06,00:54:18 ||| Worker 14 completed 2060/~2052.2:: 100.38% complete\u001b[32m [repeated 2x across cluster]\u001b[0m\n",
      "\u001b[36m(Worker pid=3174118)\u001b[0m INFO:2025-03-06,00:54:19 ||| Worker at start location (29955,0) completed 205/206\u001b[32m [repeated 3x across cluster]\u001b[0m\n",
      "\u001b[36m(Worker pid=3174112)\u001b[0m INFO:2025-03-06,00:54:28 ||| Worker 11 completed 2062/~2052.2:: 100.48% complete\u001b[32m [repeated 3x across cluster]\u001b[0m\n",
      "\u001b[36m(Worker pid=3174109)\u001b[0m INFO:2025-03-06,00:54:23 ||| Worker at start location (30162,0) completed 206/207\u001b[32m [repeated 2x across cluster]\u001b[0m\n",
      "INFO:2025-03-06,00:54:30 || isofit.py:run() | Inversions complete.  394.57s total, 78.017 spectra/s, 5.2011 spectra/s/core\n",
      "INFO:2025-03-06,00:54:30 || apply_oe.py:apply_oe() | Full (non-aerosol) LUTs:\n",
      "INFO:2025-03-06,00:54:30 || apply_oe.py:apply_oe() | Elevation: [0.     0.1919 0.3843 0.5767]\n",
      "INFO:2025-03-06,00:54:30 || apply_oe.py:apply_oe() | To-sensor zenith: [5.3268 5.624 ]\n",
      "INFO:2025-03-06,00:54:30 || apply_oe.py:apply_oe() | To-sun zenith: [46.2337 46.3923]\n",
      "INFO:2025-03-06,00:54:30 || apply_oe.py:apply_oe() | Relative to-sun azimuth: [  9.745   63.2465 116.748  170.2496]\n",
      "INFO:2025-03-06,00:54:30 || apply_oe.py:apply_oe() | H2O Vapor: [0.7697 1.0126 1.2556 1.4985 1.7415 1.9844 2.2274 2.4703 2.7133]\n",
      "INFO:2025-03-06,00:54:30 || apply_oe.py:apply_oe() | /data2/SBG/Hyperion_data/EO1H0440342016184110KF/output/EO1H0440342016184110KF_subs_state\n",
      "INFO:2025-03-06,00:54:30 || apply_oe.py:apply_oe() | Writing main configuration file.\n",
      "INFO:2025-03-06,00:54:30 || template_construction.py:load_climatology() | Loading Climatology\n",
      "INFO:2025-03-06,00:54:30 || template_construction.py:load_climatology() | Climatology Loaded.  Aerosol State Vector:\n",
      "{'AOT550': {'bounds': [0.001, 1.0], 'scale': 1, 'init': 0.1009, 'prior_sigma': 10.0, 'prior_mean': 0.1009}}\n",
      "Aerosol LUT Grid:\n",
      "{'AOT550': [0.001, 0.1009, 0.2008, 0.3007, 0.4006, 0.5005, 0.6004, 0.7003, 0.8002, 0.9001, 1.0]}\n",
      "Aerosol model path:/data2/SBG/isofit/data/aerosol_model.txt\n",
      "INFO:2025-03-06,00:54:30 || apply_oe.py:apply_oe() | Running ISOFIT with full LUT\n",
      "WARNING:2025-03-06,00:54:30 || __init__.py:checkNumThreads() | \n",
      "******************************************************************************************\n",
      "! Number of threads is greater than 1, this may greatly impact performance\n",
      "! Please set this the environment variables 'MKL_NUM_THREADS' and 'OMP_NUM_THREADS' to '1'\n",
      "******************************************************************************************\n",
      "INFO:2025-03-06,00:54:30 || configs.py:create_new_config() | Loading config file: /data2/SBG/Hyperion_data/EO1H0440342016184110KF/config/EO1H0440342016184110KF_isofit.json\n",
      "INFO:2025-03-06,00:54:30 || configs.py:get_config_errors() | Checking config sections for configuration issues\n",
      "INFO:2025-03-06,00:54:30 || configs.py:get_config_errors() | Configuration file checks complete, no errors found.\n",
      "2025-03-06 00:54:30,359\tINFO worker.py:1654 -- Calling ray.init() again after it has already been called.\n",
      "INFO:2025-03-06,00:54:30 || isofit.py:run() | Building first forward model, will generate any necessary LUTs\n",
      "INFO:2025-03-06,00:54:30 || radiative_transfer_engine.py:__init__() | Loading from wavelength_file: /data2/SBG/Hyperion_data/EO1H0440342016184110KF/data/wavelengths.txt\n",
      "INFO:2025-03-06,00:54:30 || radiative_transfer_engine.py:__init__() | No LUT store found, beginning initialization and simulations\n",
      "INFO:2025-03-06,00:54:30 || radiative_transfer_engine.py:__init__() | Initializing LUT file\n",
      "INFO:2025-03-06,00:54:31 || radiative_transfer_engine.py:runSimulations() | Running any pre-sim functions\n",
      "INFO:2025-03-06,00:54:31 || sRTMnet.py:preSim() | Creating a simulator configuration\n",
      "INFO:2025-03-06,00:54:31 || sRTMnet.py:preSim() | Building simulator and executing (6S)\n",
      "INFO:2025-03-06,00:54:31 || radiative_transfer_engine.py:__init__() | No LUT store found, beginning initialization and simulations\n",
      "INFO:2025-03-06,00:54:31 || radiative_transfer_engine.py:__init__() | Initializing LUT file\n",
      "INFO:2025-03-06,00:54:32 || radiative_transfer_engine.py:runSimulations() | Running any pre-sim functions\n",
      "INFO:2025-03-06,00:54:32 || radiative_transfer_engine.py:runSimulations() | Executing parallel simulations\n",
      "INFO:2025-03-06,00:58:27 || common.py:__call__() |  10.01% simulations complete (elapsed: 0:03:52.363500, rate: 0:00:00.036674, eta: 0:34:51.271500)\n",
      "INFO:2025-03-06,00:58:27 || radiative_transfer_engine.py:runSimulations() | Flushing netCDF to disk\n",
      "INFO:2025-03-06,01:02:16 || common.py:__call__() |  20.01% simulations complete (elapsed: 0:07:41.009927, rate: 0:00:00.072760, eta: 0:30:44.039708)\n",
      "INFO:2025-03-06,01:02:16 || radiative_transfer_engine.py:runSimulations() | Flushing netCDF to disk\n",
      "INFO:2025-03-06,01:06:05 || common.py:__call__() |  30.00% simulations complete (elapsed: 0:11:29.852686, rate: 0:00:00.108878, eta: 0:26:49.656267)\n",
      "INFO:2025-03-06,01:06:05 || radiative_transfer_engine.py:runSimulations() | Flushing netCDF to disk\n",
      "INFO:2025-03-06,01:09:54 || common.py:__call__() |  40.01% simulations complete (elapsed: 0:15:19.348459, rate: 0:00:00.145099, eta: 0:22:59.022689)\n",
      "INFO:2025-03-06,01:09:54 || radiative_transfer_engine.py:runSimulations() | Flushing netCDF to disk\n",
      "INFO:2025-03-06,01:13:46 || common.py:__call__() |  50.00% simulations complete (elapsed: 0:19:10.843114, rate: 0:00:00.181636, eta: 0:19:10.843114)\n",
      "INFO:2025-03-06,01:13:46 || radiative_transfer_engine.py:runSimulations() | Flushing netCDF to disk\n",
      "INFO:2025-03-06,01:17:36 || common.py:__call__() |  60.01% simulations complete (elapsed: 0:23:01.049491, rate: 0:00:00.217969, eta: 0:15:20.699661)\n",
      "INFO:2025-03-06,01:17:36 || radiative_transfer_engine.py:runSimulations() | Flushing netCDF to disk\n",
      "INFO:2025-03-06,01:21:27 || common.py:__call__() |  70.01% simulations complete (elapsed: 0:26:51.703738, rate: 0:00:00.254372, eta: 0:11:30.730173)\n",
      "INFO:2025-03-06,01:21:27 || radiative_transfer_engine.py:runSimulations() | Flushing netCDF to disk\n",
      "INFO:2025-03-06,01:25:18 || common.py:__call__() |  80.00% simulations complete (elapsed: 0:30:43.630620, rate: 0:00:00.290977, eta: 0:07:40.907655)\n",
      "INFO:2025-03-06,01:25:18 || radiative_transfer_engine.py:runSimulations() | Flushing netCDF to disk\n",
      "INFO:2025-03-06,01:29:14 || common.py:__call__() |  90.01% simulations complete (elapsed: 0:34:38.675102, rate: 0:00:00.328074, eta: 0:03:50.963900)\n",
      "INFO:2025-03-06,01:29:14 || radiative_transfer_engine.py:runSimulations() | Flushing netCDF to disk\n",
      "INFO:2025-03-06,01:33:08 || common.py:__call__() | 100.00% simulations complete (elapsed: 0:38:33.149338, rate: 0:00:00.365080, eta: 0:00:00)\n",
      "INFO:2025-03-06,01:33:08 || radiative_transfer_engine.py:runSimulations() | Flushing netCDF to disk\n",
      "INFO:2025-03-06,01:33:09 || radiative_transfer_engine.py:runSimulations() | Running any post-sim functions\n",
      "INFO:2025-03-06,01:33:10 || radiative_transfer_engine.py:runSimulations() | Saving post-sim data to index zero of all dimensions except wl\n",
      "INFO:2025-03-06,01:33:12 || luts.py:load() | Loading LUT into memory\n",
      "WARNING:2025-03-06,01:33:12 || luts.py:load() | Detected NaNs in the following LUT variable and may cause issues: thermal_upwelling\n",
      "WARNING:2025-03-06,01:33:12 || luts.py:load() | Detected NaNs in the following LUT variable and may cause issues: thermal_downwelling\n",
      "INFO:2025-03-06,01:33:12 || sRTMnet.py:preSim() | Interpolating simulator quantities to emulator size\n",
      "INFO:2025-03-06,01:33:14 || sRTMnet.py:preSim() | Loading and predicting with emulator\n",
      "INFO:2025-03-06,01:33:39 || sRTMnet.py:preSim() | Saving intermediary prediction results to: /data2/SBG/Hyperion_data/EO1H0440342016184110KF/lut_full/sRTMnet.predicts.nc\n",
      "INFO:2025-03-06,01:33:41 || radiative_transfer_engine.py:runSimulations() | Saving pre-sim data to index zero of all dimensions except wl\n",
      "INFO:2025-03-06,01:33:42 || radiative_transfer_engine.py:runSimulations() | Executing parallel simulations\n",
      "INFO:2025-03-06,01:34:31 || common.py:__call__() |  10.01% simulations complete (elapsed: 0:00:46.809247, rate: 0:00:00.007388, eta: 0:07:01.283223)\n",
      "INFO:2025-03-06,01:34:31 || radiative_transfer_engine.py:runSimulations() | Flushing netCDF to disk\n",
      "INFO:2025-03-06,01:35:21 || common.py:__call__() |  20.01% simulations complete (elapsed: 0:01:36.822308, rate: 0:00:00.015281, eta: 0:06:27.289232)\n",
      "INFO:2025-03-06,01:35:21 || radiative_transfer_engine.py:runSimulations() | Flushing netCDF to disk\n",
      "INFO:2025-03-06,01:36:13 || common.py:__call__() |  30.00% simulations complete (elapsed: 0:02:28.236417, rate: 0:00:00.023396, eta: 0:05:45.884973)\n",
      "INFO:2025-03-06,01:36:13 || radiative_transfer_engine.py:runSimulations() | Flushing netCDF to disk\n",
      "INFO:2025-03-06,01:37:03 || common.py:__call__() |  40.01% simulations complete (elapsed: 0:03:18.694030, rate: 0:00:00.031360, eta: 0:04:58.041045)\n",
      "INFO:2025-03-06,01:37:03 || radiative_transfer_engine.py:runSimulations() | Flushing netCDF to disk\n",
      "INFO:2025-03-06,01:37:54 || common.py:__call__() |  50.00% simulations complete (elapsed: 0:04:09.638825, rate: 0:00:00.039400, eta: 0:04:09.638825)\n",
      "INFO:2025-03-06,01:37:54 || radiative_transfer_engine.py:runSimulations() | Flushing netCDF to disk\n",
      "INFO:2025-03-06,01:38:46 || common.py:__call__() |  60.01% simulations complete (elapsed: 0:05:01.585272, rate: 0:00:00.047599, eta: 0:03:21.056848)\n",
      "INFO:2025-03-06,01:38:46 || radiative_transfer_engine.py:runSimulations() | Flushing netCDF to disk\n",
      "INFO:2025-03-06,01:39:37 || common.py:__call__() |  70.01% simulations complete (elapsed: 0:05:52.438214, rate: 0:00:00.055625, eta: 0:02:31.044949)\n",
      "INFO:2025-03-06,01:39:37 || radiative_transfer_engine.py:runSimulations() | Flushing netCDF to disk\n",
      "INFO:2025-03-06,01:40:27 || common.py:__call__() |  80.00% simulations complete (elapsed: 0:06:42.692956, rate: 0:00:00.063556, eta: 0:01:40.673239)\n",
      "INFO:2025-03-06,01:40:27 || radiative_transfer_engine.py:runSimulations() | Flushing netCDF to disk\n",
      "INFO:2025-03-06,01:41:19 || common.py:__call__() |  90.01% simulations complete (elapsed: 0:07:33.927154, rate: 0:00:00.071643, eta: 0:00:50.436350)\n",
      "INFO:2025-03-06,01:41:19 || radiative_transfer_engine.py:runSimulations() | Flushing netCDF to disk\n",
      "INFO:2025-03-06,01:42:10 || common.py:__call__() | 100.00% simulations complete (elapsed: 0:08:25.231463, rate: 0:00:00.079740, eta: 0:00:00)\n",
      "INFO:2025-03-06,01:42:10 || radiative_transfer_engine.py:runSimulations() | Flushing netCDF to disk\n",
      "INFO:2025-03-06,01:42:11 || radiative_transfer_engine.py:runSimulations() | Running any post-sim functions\n",
      "INFO:2025-03-06,01:42:11 || luts.py:load() | Loading LUT into memory\n",
      "WARNING:2025-03-06,01:42:12 || luts.py:load() | Detected NaNs in the following LUT variable and may cause issues: thermal_upwelling\n",
      "WARNING:2025-03-06,01:42:12 || luts.py:load() | Detected NaNs in the following LUT variable and may cause issues: thermal_downwelling\n",
      "INFO:2025-03-06,01:42:12 || isofit.py:run() | Beginning 30783 inversions in 150 chunks using 15 cores\n",
      "I0000 00:00:1741225332.291204 3173738 chttp2_transport.cc:1161] ipv4:192.168.10.201:40251: Got goaway [2] err=UNAVAILABLE:GOAWAY received; Error code: 2; Debug Text: Cancelling all calls {grpc_status:14, http2_error:2, created_time:\"2025-03-06T01:42:12.291180899+00:00\"}\n",
      "I0000 00:00:1741225332.295306 3173733 chttp2_transport.cc:1161] ipv4:192.168.10.201:38047: Got goaway [2] err=UNAVAILABLE:GOAWAY received; Error code: 2; Debug Text: Cancelling all calls {created_time:\"2025-03-06T01:42:12.295282841+00:00\", http2_error:2, grpc_status:14}\n",
      "I0000 00:00:1741225332.296737 3173736 chttp2_transport.cc:1161] ipv4:192.168.10.201:34403: Got goaway [2] err=UNAVAILABLE:GOAWAY received; Error code: 2; Debug Text: Cancelling all calls {grpc_status:14, http2_error:2, created_time:\"2025-03-06T01:42:12.29671743+00:00\"}\n",
      "I0000 00:00:1741225332.298379 3173729 chttp2_transport.cc:1161] ipv4:192.168.10.201:44711: Got goaway [2] err=UNAVAILABLE:GOAWAY received; Error code: 2; Debug Text: Cancelling all calls {grpc_status:14, http2_error:2, created_time:\"2025-03-06T01:42:12.298358354+00:00\"}\n",
      "I0000 00:00:1741225332.299506 3173725 chttp2_transport.cc:1161] ipv4:192.168.10.201:43125: Got goaway [2] err=UNAVAILABLE:GOAWAY received; Error code: 2; Debug Text: Cancelling all calls {grpc_status:14, http2_error:2, created_time:\"2025-03-06T01:42:12.299490881+00:00\"}\n",
      "I0000 00:00:1741225332.303062 3173723 chttp2_transport.cc:1161] ipv4:192.168.10.201:43421: Got goaway [2] err=UNAVAILABLE:GOAWAY received; Error code: 2; Debug Text: Cancelling all calls {created_time:\"2025-03-06T01:42:12.303046954+00:00\", http2_error:2, grpc_status:14}\n",
      "\u001b[36m(Worker pid=3201634)\u001b[0m INFO:2025-03-06,01:42:14 ||| Worker 4 completed 1/~2052.2:: 0.05% complete\u001b[32m [repeated 2x across cluster]\u001b[0m\n",
      "\u001b[36m(Worker pid=3174111)\u001b[0m INFO:2025-03-06,00:54:30 ||| Worker at start location (30575,0) completed 206/207\u001b[32m [repeated 2x across cluster]\u001b[0m\n",
      "\u001b[36m(Worker pid=3201643)\u001b[0m INFO:2025-03-06,01:42:38 ||| Worker 9 completed 101/~2052.2:: 4.92% complete\u001b[32m [repeated 15x across cluster]\u001b[0m\n",
      "\u001b[36m(Worker pid=3201643)\u001b[0m INFO:2025-03-06,01:43:02 ||| Worker 9 completed 201/~2052.2:: 9.79% complete\u001b[32m [repeated 15x across cluster]\u001b[0m\n"
     ]
    }
   ],
   "source": [
    "exit_code = hyperion2isofit.MakeHypL2(scene)"
   ]
  },
  {
   "cell_type": "code",
   "execution_count": null,
   "id": "408b155a-4be9-48d8-8244-23862ab22d54",
   "metadata": {},
   "outputs": [],
   "source": [
    "exit_code"
   ]
  },
  {
   "cell_type": "code",
   "execution_count": 122,
   "id": "16d94340-8905-438c-b8bc-32b534a8d349",
   "metadata": {},
   "outputs": [],
   "source": [
    "paths = {'L1R':'/data2/SBG/Hyperion_data/EO1H0440342016184110KF.L1R','radiance':'/data2/SBG/Hyperion_data/EO1H0440342016184110KFradiance.hdr'}"
   ]
  },
  {
   "cell_type": "code",
   "execution_count": 125,
   "id": "aad58a18-b47c-428f-af26-62f51b0b7000",
   "metadata": {},
   "outputs": [],
   "source": [
    "from spectral.io import envi\n",
    "from isofit.core.common import envi_header"
   ]
  },
  {
   "cell_type": "code",
   "execution_count": 130,
   "id": "502564bd-4b7b-42f6-be78-0f3b282b16ec",
   "metadata": {},
   "outputs": [],
   "source": [
    "radiance_dataset = envi.open(envi_header(paths['radiance'][:-4]))"
   ]
  },
  {
   "cell_type": "code",
   "execution_count": 131,
   "id": "ebf138f8-9ff5-4b56-b080-76eb2e133411",
   "metadata": {},
   "outputs": [
    {
     "data": {
      "text/plain": [
       "dict_keys(['samples', 'lines', 'bands', 'header offset', 'file type', 'data type', 'interleave', 'byte order', 'bbl', 'data ignore value'])"
      ]
     },
     "execution_count": 131,
     "metadata": {},
     "output_type": "execute_result"
    }
   ],
   "source": [
    "radiance_dataset.metadata.keys()"
   ]
  },
  {
   "cell_type": "code",
   "execution_count": 70,
   "id": "5223f5e8-efcd-4eab-bcfa-f9d5502fb734",
   "metadata": {},
   "outputs": [
    {
     "data": {
      "text/plain": [
       "'/data2/SBG/Hyperion_data/EO1H0440342016184110KF.AUX'"
      ]
     },
     "execution_count": 70,
     "metadata": {},
     "output_type": "execute_result"
    }
   ],
   "source": [
    "paths['L1R'].replace('L1R','AUX')\n"
   ]
  },
  {
   "cell_type": "code",
   "execution_count": 73,
   "id": "1b92a573-402e-48a1-8de2-02e13c7678d7",
   "metadata": {},
   "outputs": [],
   "source": [
    "file = paths['L1R']\n",
    "dataset = netCDF4.Dataset(file)"
   ]
  },
  {
   "cell_type": "code",
   "execution_count": 80,
   "id": "549baf8f-c668-469e-bd37-fb1fd8a4b3c7",
   "metadata": {},
   "outputs": [
    {
     "name": "stdout",
     "output_type": "stream",
     "text": [
      "a\n"
     ]
    }
   ],
   "source": [
    "if 'EO1H0440342016184110KF.L1R' in dataset.variables: print('a')"
   ]
  },
  {
   "cell_type": "code",
   "execution_count": 83,
   "id": "76a7b36f-80b5-4725-8d87-4c288d9260f7",
   "metadata": {},
   "outputs": [
    {
     "data": {
      "text/plain": [
       "('/data2/SBG/Hyperion_data', 'EO1H0440342016184110KF.L1R')"
      ]
     },
     "execution_count": 83,
     "metadata": {},
     "output_type": "execute_result"
    }
   ],
   "source": [
    "os.path.split(paths['L1R'])"
   ]
  },
  {
   "cell_type": "code",
   "execution_count": 78,
   "id": "2409b077-bf10-408e-96ce-339b22a222e8",
   "metadata": {},
   "outputs": [
    {
     "data": {
      "text/plain": [
       "<class 'netCDF4._netCDF4.Variable'>\n",
       ">i2 EO1H0440342016184110KF.L1R(fakeDim0, fakeDim1, fakeDim2)\n",
       "    Number of Cross Track Pixels: 256\n",
       "    Number of Along Track Pixels: 3237\n",
       "    Number of Bands: 242\n",
       "    VNIR Scaling Factor: w/m^2/sr/micron * 40\n",
       "    SWIR Scaling Factor: w/m^2/sr/micron * 80\n",
       "    Data units: w/m^2/sr/micron\n",
       "unlimited dimensions: \n",
       "current shape = (3237, 242, 256)\n",
       "filling on, default _FillValue of -32767 used"
      ]
     },
     "execution_count": 78,
     "metadata": {},
     "output_type": "execute_result"
    }
   ],
   "source": [
    "dataset['EO1H0440342016184110KF.L1R']"
   ]
  },
  {
   "cell_type": "markdown",
   "id": "c1676889-5e33-4dd7-8f01-6e655508e574",
   "metadata": {},
   "source": [
    "# Old comparison "
   ]
  },
  {
   "cell_type": "code",
   "execution_count": null,
   "id": "928a5098-58a7-4d33-8d5f-8e3c38bc0ba5",
   "metadata": {},
   "outputs": [],
   "source": [
    "if key=='rfl':\n",
    "    ok = 90 # band\n",
    "    sa = np.flip((p-m)[..., ok])\n",
    "    x = np.arange(sa.shape[1])\n",
    "    xscale = 'linear'\n",
    "    xlabel = 'Sample #'\n",
    "elif key in ('subs_rfl', 'subs_h2o'):\n",
    "    x = paths['wp'][idx[-1][:lwp]]\n",
    "    xscale = 'log'\n",
    "    xlabel = 'Wavelength (um)'\n",
    "    sa = np.flip((p-m).squeeze()[:, idxf[-1]])\n",
    "clim = np.percentile(sa, [32.1/2,100-32.1/2])\n",
    "plt.figure()\n",
    "plt.pcolormesh(x, np.flip(np.arange(sa.shape[0])), sa, vmin=clim[0], vmax=clim[-1])\n",
    "plt.xscale(xscale)\n",
    "plt.xlabel(xlabel)\n",
    "plt.ylabel('Line #')\n",
    "plt.colorbar()\n",
    "plt.show()"
   ]
  },
  {
   "cell_type": "code",
   "execution_count": 66,
   "id": "6b9823b7-7cfe-4708-9ab5-c73ef0417232",
   "metadata": {},
   "outputs": [
    {
     "name": "stdout",
     "output_type": "stream",
     "text": [
      "/data2/SBG/Hyperion_data/EO1H0440342016184110KF.L1R\n"
     ]
    },
    {
     "ename": "KeyError",
     "evalue": "'subs_rfl'",
     "output_type": "error",
     "traceback": [
      "\u001b[0;31m---------------------------------------------------------------------------\u001b[0m",
      "\u001b[0;31mKeyError\u001b[0m                                  Traceback (most recent call last)",
      "Cell \u001b[0;32mIn[66], line 5\u001b[0m\n\u001b[1;32m      3\u001b[0m \u001b[38;5;66;03m# a file in my directory\u001b[39;00m\n\u001b[1;32m      4\u001b[0m key \u001b[38;5;241m=\u001b[39m \u001b[38;5;124m'\u001b[39m\u001b[38;5;124msubs_rfl\u001b[39m\u001b[38;5;124m'\u001b[39m\n\u001b[0;32m----> 5\u001b[0m mine \u001b[38;5;241m=\u001b[39m paths[key] \n\u001b[1;32m      6\u001b[0m \u001b[38;5;66;03m# the counterpart in PT's directory\u001b[39;00m\n\u001b[1;32m      7\u001b[0m \u001b[38;5;28;01mif\u001b[39;00m scene\u001b[38;5;241m==\u001b[39m\u001b[38;5;124m'\u001b[39m\u001b[38;5;124mEO1H0010742008014110K0\u001b[39m\u001b[38;5;124m'\u001b[39m:\n",
      "\u001b[0;31mKeyError\u001b[0m: 'subs_rfl'"
     ]
    }
   ],
   "source": [
    "\n",
    "# a file in my directory\n",
    "\n",
    "key = 'subs_rfl'\n",
    "mine = paths[key] \n",
    "# the counterpart in PT's directory\n",
    "if scene=='EO1H0010742008014110K0':\n",
    "    PT = os.path.join('/nobackupp10/hyperion/pipeline/results/task-data/27-45-level1/st-50', mine[mine.find(scene)+23:])\n",
    "# elif scene=='EO1H0090582008189110P0':  \n",
    "#     PT = os.path.join('/nobackupp10/hyperion/pipeline/results/task-data/29-47-level1/st-168', mine[mine.find(scene)+23:])\n",
    "# /nobackupp10/hyperion/pipeline/results/task-data/29-47-level1/st-199/EO1H0100612008087110KF.L2.tgz\n",
    "    replace = ('', '')\n",
    "elif scene=='EO1H0440342016184110KF':\n",
    "    replace = ('isofit/{}'.format(scene), 'isofit/{}.L2_20211130'.format(scene))\n",
    "else:\n",
    "    replace = ('isofit/{}'.format(scene), 'isofit/{}.L2'.format(scene))\n",
    "PT = mine.replace(replace[0],replace[1]) \n",
    "# mine = mine.replace('isofit/{}'.format(scene),'isofit/{}.L2_20211116'.format(scene)) # !!!!!!!!\n",
    "print(mine+'\\n'+PT)\n",
    "if not os.path.exists(mine):\n",
    "    raise ValueError(mine)\n",
    "if not os.path.exists(PT):\n",
    "    raise ValueError(PT)\n",
    "    \n",
    "# open the files\n",
    "p = envi.open(PT)[:,:,:]\n",
    "m = envi.open(mine)[:,:,:]\n",
    "lwp = len(paths['wp'])\n",
    "idx = np.append(np.isfinite(paths['wp']),[True]*(p.shape[-1]-lwp)).astype(bool)\n",
    "idxf = np.append(np.isfinite(paths['wp']),[False]*(p.shape[-1]-lwp)).astype(bool)\n",
    "idx = (slice(None), slice(None), idx)\n",
    "idxf = (slice(None), slice(None), idxf)\n",
    "# are they identical?\n",
    "if np.all(p==m):\n",
    "    print('Identical.')\n",
    "elif np.all(p[idx]==m[idx]):\n",
    "    print('Identical outside absorption bands.')\n",
    "else:\n",
    "    d = np.abs(p-m)\n",
    "    imax = np.nanargmax(d)\n",
    "    print('{:0.2f} max diff, p={:0.2g}, m={:0.2g}'.format(d.flatten()[imax], p.flatten()[imax], m.flatten()[imax]))\n",
    "    r = d/m\n",
    "    imax = np.nanargmax(r)\n",
    "    print('{:0.2g}% max diff, p={:0.2g}, m={:0.2g}'.format(np.nanmax(d), r.flatten()[imax]*100, p.flatten()[imax], m.flatten()[imax]))\n",
    "    d = np.abs(p[idx]-m[idx])\n",
    "    imax = np.nanargmax(d)\n",
    "    print('{:0.2f} max diff, p={:0.2g}, m={:0.2g}'.format(d.flatten()[imax], p[idx].flatten()[imax], m[idx].flatten()[imax]))\n",
    "    r = d/m[idx]\n",
    "    imax = np.nanargmax(r)\n",
    "    print('{:0.2g}% max diff, p={:0.2g}, m={:0.2g}'.format(np.nanmax(d), r.flatten()[imax]*100, p[idx].flatten()[imax], m[idx].flatten()[imax]))\n"
   ]
  },
  {
   "cell_type": "code",
   "execution_count": null,
   "id": "f58aa58b-ce20-4ab2-9c61-bd0303dc906d",
   "metadata": {},
   "outputs": [],
   "source": []
  }
 ],
 "metadata": {
  "kernelspec": {
   "display_name": "isofit-tutorials",
   "language": "python",
   "name": "isofit-tutorials"
  },
  "language_info": {
   "codemirror_mode": {
    "name": "ipython",
    "version": 3
   },
   "file_extension": ".py",
   "mimetype": "text/x-python",
   "name": "python",
   "nbconvert_exporter": "python",
   "pygments_lexer": "ipython3",
   "version": "3.12.8"
  }
 },
 "nbformat": 4,
 "nbformat_minor": 5
}
