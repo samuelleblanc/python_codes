{
 "cells": [
  {
   "cell_type": "markdown",
   "metadata": {},
   "source": [
    "# Intro\n",
    "Name:  \n",
    "\n",
    "    LeBlanc_2015_paper_file_restore\n",
    "\n",
    "Purpose:  \n",
    "\n",
    "    Laod the cloud property retrieval data from the paper, for saving into a shareable format with Kokhanovsky\n",
    "  \n",
    "Input:\n",
    "\n",
    "    none at command line\n",
    "  \n",
    "Output:\n",
    "\n",
    "    ict file save\n",
    "  \n",
    "Keywords:\n",
    "\n",
    "    none\n",
    "  \n",
    "Dependencies:\n",
    "\n",
    "    - Sp_parameters.py : for Sp class definition, and for defining the functions used to build parameters\n",
    "    - matplotlib\n",
    "    - mpltools\n",
    "    - numpy\n",
    "    - scipy : for saving and reading\n",
    "    - plotting_utils (user defined plotting routines)\n",
    "    - hdf5storage\n",
    "  \n",
    "Needed Files:\n",
    "\n",
    "  - file.rc : for consistent creation of look of matplotlib figures\n",
    "  - retrieved_kisq_20120525_v9.out  retrieved_kisq_20120806_v9.out  retrieved_kisq_20130110_v9.out\n",
    "  \n",
    " Modification History:\n",
    " \n",
    "     Written: by Samuel LeBlanc, Santa Cruz, 2019-11-29"
   ]
  },
  {
   "cell_type": "markdown",
   "metadata": {},
   "source": [
    "# Import modules"
   ]
  },
  {
   "cell_type": "code",
   "execution_count": 1,
   "metadata": {
    "ExecuteTime": {
     "end_time": "2019-11-30T02:15:05.006808Z",
     "start_time": "2019-11-30T02:14:48.208713Z"
    }
   },
   "outputs": [
    {
     "name": "stderr",
     "output_type": "stream",
     "text": [
      "/usr/lib/python2.7/dist-packages/h5py/__init__.py:36: FutureWarning: Conversion of the second argument of issubdtype from `float` to `np.floating` is deprecated. In future, it will be treated as `np.float64 == np.dtype(float).type`.\n",
      "  from ._conv import register_converters as _register_converters\n"
     ]
    }
   ],
   "source": [
    "import numpy as np\n",
    "import hdf5storage as hs\n",
    "import os\n",
    "import write_utils as wu\n",
    "import scipy.io as sio\n",
    "from path_utils import getpath\n",
    "import matplotlib.pyplot as plt"
   ]
  },
  {
   "cell_type": "code",
   "execution_count": 42,
   "metadata": {
    "ExecuteTime": {
     "end_time": "2019-11-30T08:01:56.688111Z",
     "start_time": "2019-11-30T08:01:56.683233Z"
    }
   },
   "outputs": [],
   "source": [
    "from Sp_parameters import smooth\n",
    "from load_utils import load_from_json, mat2py_time,toutc\n",
    "import write_utils as wu"
   ]
  },
  {
   "cell_type": "code",
   "execution_count": 3,
   "metadata": {
    "ExecuteTime": {
     "end_time": "2019-11-30T02:15:05.340664Z",
     "start_time": "2019-11-30T02:15:05.335050Z"
    }
   },
   "outputs": [],
   "source": [
    "name = 'SSFR3'"
   ]
  },
  {
   "cell_type": "code",
   "execution_count": 4,
   "metadata": {
    "ExecuteTime": {
     "end_time": "2019-11-30T02:15:13.867863Z",
     "start_time": "2019-11-30T02:15:13.860746Z"
    }
   },
   "outputs": [],
   "source": [
    "vv = 'v9'"
   ]
  },
  {
   "cell_type": "code",
   "execution_count": 102,
   "metadata": {
    "ExecuteTime": {
     "end_time": "2019-12-02T06:53:54.595932Z",
     "start_time": "2019-12-02T06:53:54.577606Z"
    }
   },
   "outputs": [
    {
     "name": "stdout",
     "output_type": "stream",
     "text": [
      "Return path named:  SSFR3 /mnt/c/Users/lebla/Research/SSFR3/\n",
      "Return path named:  SSFR3 /mnt/c/Users/lebla/Research/SSFR3/\n"
     ]
    }
   ],
   "source": [
    "fp = getpath('SSFR3')\n",
    "fp_dat = getpath('SSFR3')+'data/'"
   ]
  },
  {
   "cell_type": "markdown",
   "metadata": {},
   "source": [
    "# Load the files"
   ]
  },
  {
   "cell_type": "code",
   "execution_count": 7,
   "metadata": {
    "ExecuteTime": {
     "end_time": "2019-11-30T02:17:37.734502Z",
     "start_time": "2019-11-30T02:17:37.728144Z"
    }
   },
   "outputs": [],
   "source": [
    "days = ['20120525','20120806','20130110']\n",
    "labels = ['Liquid','Mixed-phase','Ice']"
   ]
  },
  {
   "cell_type": "code",
   "execution_count": 25,
   "metadata": {
    "ExecuteTime": {
     "end_time": "2019-11-30T02:48:30.645447Z",
     "start_time": "2019-11-30T02:48:30.638964Z"
    }
   },
   "outputs": [],
   "source": [
    "times = [[15.0,16.0],[22.0,23.0],[17.5,19.5]]"
   ]
  },
  {
   "cell_type": "markdown",
   "metadata": {},
   "source": [
    "## Load the 15 parameters retrievals"
   ]
  },
  {
   "cell_type": "code",
   "execution_count": 31,
   "metadata": {
    "ExecuteTime": {
     "end_time": "2019-11-30T07:47:24.940065Z",
     "start_time": "2019-11-30T07:47:24.910445Z"
    }
   },
   "outputs": [],
   "source": [
    "f_liq = sio.idl.readsav(fp_dat+'retrieved_kisq_{d}_{v}.out'.format(d=days[0],v=vv))\n",
    "f_mix = sio.idl.readsav(fp_dat+'retrieved_kisq_{d}_{v}.out'.format(d=days[1],v=vv))\n",
    "f_ice = sio.idl.readsav(fp_dat+'retrieved_kisq_{d}_{v}.out'.format(d=days[2],v=vv))"
   ]
  },
  {
   "cell_type": "code",
   "execution_count": 32,
   "metadata": {
    "ExecuteTime": {
     "end_time": "2019-11-30T07:47:25.190552Z",
     "start_time": "2019-11-30T07:47:25.178793Z"
    }
   },
   "outputs": [
    {
     "data": {
      "text/plain": [
       "['wp_err',\n",
       " 'ref_err',\n",
       " 'ki_rtm',\n",
       " 'wp_rtm',\n",
       " 'ref_rtm',\n",
       " 'tau_rtm',\n",
       " 'tau_err',\n",
       " 'tmhrs']"
      ]
     },
     "execution_count": 32,
     "metadata": {},
     "output_type": "execute_result"
    }
   ],
   "source": [
    "f_liq.keys()"
   ]
  },
  {
   "cell_type": "markdown",
   "metadata": {},
   "source": [
    "## Load the slope retrievals"
   ]
  },
  {
   "cell_type": "code",
   "execution_count": 10,
   "metadata": {
    "ExecuteTime": {
     "end_time": "2019-11-30T02:27:05.861235Z",
     "start_time": "2019-11-30T02:27:05.829975Z"
    }
   },
   "outputs": [],
   "source": [
    "sl_liq = sio.idl.readsav(fp_dat+'{d}_cld_parms3_1600nm.out'.format(d=days[0]))\n",
    "sl_mix = sio.idl.readsav(fp_dat+'{d}_cld_parms3_1600nm.out'.format(d=days[1]))\n",
    "sl_ice = sio.idl.readsav(fp_dat+'{d}_cld_parms3_ic_1600nm.out'.format(d=days[2]))"
   ]
  },
  {
   "cell_type": "code",
   "execution_count": 11,
   "metadata": {
    "ExecuteTime": {
     "end_time": "2019-11-30T02:27:10.298734Z",
     "start_time": "2019-11-30T02:27:10.286902Z"
    }
   },
   "outputs": [
    {
     "data": {
      "text/plain": [
       "['tau', 'etau', 'eref', 'ref', 'tmhrs']"
      ]
     },
     "execution_count": 11,
     "metadata": {},
     "output_type": "execute_result"
    }
   ],
   "source": [
    "sl_liq.keys()"
   ]
  },
  {
   "cell_type": "markdown",
   "metadata": {},
   "source": [
    "## Load the 2wvl retrievals"
   ]
  },
  {
   "cell_type": "code",
   "execution_count": 13,
   "metadata": {
    "ExecuteTime": {
     "end_time": "2019-11-30T02:28:32.766517Z",
     "start_time": "2019-11-30T02:28:32.729398Z"
    }
   },
   "outputs": [],
   "source": [
    "twv_liq = sio.idl.readsav(fp_dat+'{d}_cld_parms3_2wvl_1600nm.out'.format(d=days[0]))\n",
    "twv_mix = sio.idl.readsav(fp_dat+'{d}_cld_parms3_2wvl_1600nm.out'.format(d=days[1]))\n",
    "twv_ice = sio.idl.readsav(fp_dat+'{d}_cld_parms3_ic_2wvl_1600nm.out'.format(d=days[2]))"
   ]
  },
  {
   "cell_type": "code",
   "execution_count": 14,
   "metadata": {
    "ExecuteTime": {
     "end_time": "2019-11-30T02:28:37.479555Z",
     "start_time": "2019-11-30T02:28:37.468450Z"
    }
   },
   "outputs": [
    {
     "data": {
      "text/plain": [
       "['tau', 'etau', 'eref', 'ref', 'tmhrs']"
      ]
     },
     "execution_count": 14,
     "metadata": {},
     "output_type": "execute_result"
    }
   ],
   "source": [
    "twv_liq.keys()"
   ]
  },
  {
   "cell_type": "markdown",
   "metadata": {},
   "source": [
    "## Load the spectra"
   ]
  },
  {
   "cell_type": "code",
   "execution_count": 23,
   "metadata": {
    "ExecuteTime": {
     "end_time": "2019-11-30T02:46:17.837804Z",
     "start_time": "2019-11-30T02:46:14.350204Z"
    }
   },
   "outputs": [],
   "source": [
    "sp_liq = sio.idl.readsav(fp_dat+'{d}_calibspcs.out'.format(d=days[0],v=vv))\n",
    "sp_mix = sio.idl.readsav(fp_dat+'{d}_calibspcs.out'.format(d=days[1],v=vv))\n",
    "sp_ice = sio.idl.readsav(fp_dat+'{d}_calibspcs.out'.format(d=days[2],v=vv))"
   ]
  },
  {
   "cell_type": "code",
   "execution_count": 24,
   "metadata": {
    "ExecuteTime": {
     "end_time": "2019-11-30T02:46:18.808550Z",
     "start_time": "2019-11-30T02:46:18.798093Z"
    }
   },
   "outputs": [
    {
     "data": {
      "text/plain": [
       "['status',\n",
       " 'darks',\n",
       " 'zenlambda',\n",
       " 'zer',\n",
       " 'nadlambda',\n",
       " 'nspectra',\n",
       " 'zspectra',\n",
       " 'sat',\n",
       " 'ner',\n",
       " 'tmhrs']"
      ]
     },
     "execution_count": 24,
     "metadata": {},
     "output_type": "execute_result"
    }
   ],
   "source": [
    "sp_liq.keys()"
   ]
  },
  {
   "cell_type": "code",
   "execution_count": 26,
   "metadata": {
    "ExecuteTime": {
     "end_time": "2019-11-30T02:48:51.895768Z",
     "start_time": "2019-11-30T02:48:51.886502Z"
    }
   },
   "outputs": [
    {
     "data": {
      "text/plain": [
       "(53096, 393)"
      ]
     },
     "execution_count": 26,
     "metadata": {},
     "output_type": "execute_result"
    }
   ],
   "source": [
    "sp_liq['zspectra'].shape"
   ]
  },
  {
   "cell_type": "code",
   "execution_count": 28,
   "metadata": {
    "ExecuteTime": {
     "end_time": "2019-11-30T02:48:58.828204Z",
     "start_time": "2019-11-30T02:48:58.816945Z"
    }
   },
   "outputs": [
    {
     "data": {
      "text/plain": [
       "(53096,)"
      ]
     },
     "execution_count": 28,
     "metadata": {},
     "output_type": "execute_result"
    }
   ],
   "source": [
    "sp_liq['tmhrs'].shape"
   ]
  },
  {
   "cell_type": "code",
   "execution_count": 29,
   "metadata": {
    "ExecuteTime": {
     "end_time": "2019-11-30T07:27:27.303159Z",
     "start_time": "2019-11-30T07:27:27.291016Z"
    }
   },
   "outputs": [
    {
     "data": {
      "text/plain": [
       "array(['Measurement date    : 2012 05 25',\n",
       "       'Processing date     : 2012 11 06',\n",
       "       'Platform            : Skywatch', 'Integration times   : ',\n",
       "       '                   25          50         100         300',\n",
       "       'Response functions  :',\n",
       "       'Zenith Si           : /home/leblanc/DC3_SEAC4RS/cal/SSFR3/20120419_765C_resp_25_zensi.dat',\n",
       "       'Zenith InGaAs       : /home/leblanc/DC3_SEAC4RS/cal/SSFR3/20120419_765C_resp_50_zenir.dat',\n",
       "       'Nadir Si            : 20120508_506C_resp_100_nadsi.dat',\n",
       "       'Nadir InGaAs        : 20120508_506C_resp_300_nadir.dat',\n",
       "       'Dark Mode           : I',\n",
       "       'Saturation          :          398 spectra /       53096',\n",
       "       'Joinder Zenith      :       981.000',\n",
       "       'Joinder Nadir       :       981.000',\n",
       "       'Number data files   :          590',\n",
       "       'Number of darks     :       49',\n",
       "       'Data file location  : /argus/SSFR3/data//20120525/*.OSA'],\n",
       "      dtype=object)"
      ]
     },
     "execution_count": 29,
     "metadata": {},
     "output_type": "execute_result"
    }
   ],
   "source": [
    "sp_liq['status']"
   ]
  },
  {
   "cell_type": "markdown",
   "metadata": {},
   "source": [
    "# Verify the results and write out"
   ]
  },
  {
   "cell_type": "code",
   "execution_count": 99,
   "metadata": {
    "ExecuteTime": {
     "end_time": "2019-11-30T22:47:41.639540Z",
     "start_time": "2019-11-30T22:47:41.625882Z"
    }
   },
   "outputs": [],
   "source": [
    "hdict = {'PI':'Samuel LeBlanc',\n",
    "     'Institution':'NASA Ames Research Center',\n",
    "     'Instrument':'Solar Spectral Flux Radiometer - 3 (SSFR3)',\n",
    "     'campaign':'University of Colorado Skywatch Observatory',\n",
    "     'special_comments':'',\n",
    "     'PI_contact':'Samuel.leblanc@nasa.gov',\n",
    "     'platform':'Roof top University of Colorado',\n",
    "     'location':'Boulder, Colorado, USA',\n",
    "     'instrument_info':'Derived product from SSFR with zenith narrow field of view radiance light collector',\n",
    "     'data_info':'Using the cloud property retrieval method based on spectral transmitted light measurements described by LeBlanc, Pileskie, Schmidt, and Coddington (2015), AMT, https://doi.org/10.5194/amt-8-1361-2015',\n",
    "     'uncertainty':'See included variables.',\n",
    "     'DM_contact':'Samuel LeBlanc, samuel.leblanc@nasa.gov',\n",
    "     'project_info':'N/A',\n",
    "     'stipulations':'',\n",
    "     'rev_comments':'R0: Data from LeBlanc et al., 2015 publication, released to A. Kohkanovsky in November, 2019.'\n",
    "    }\n",
    "order = ['COD','COD_err_low','COD_err_up','REF','REF_err_low','REF_err_up','Phase','Ki_square']"
   ]
  },
  {
   "cell_type": "markdown",
   "metadata": {},
   "source": [
    "## 15 parameters retrieval"
   ]
  },
  {
   "cell_type": "code",
   "execution_count": 34,
   "metadata": {
    "ExecuteTime": {
     "end_time": "2019-11-30T07:48:02.472207Z",
     "start_time": "2019-11-30T07:48:02.460420Z"
    }
   },
   "outputs": [
    {
     "data": {
      "text/plain": [
       "['wp_err',\n",
       " 'ref_err',\n",
       " 'ki_rtm',\n",
       " 'wp_rtm',\n",
       " 'ref_rtm',\n",
       " 'tau_rtm',\n",
       " 'tau_err',\n",
       " 'tmhrs']"
      ]
     },
     "execution_count": 34,
     "metadata": {},
     "output_type": "execute_result"
    }
   ],
   "source": [
    "f_liq.keys()"
   ]
  },
  {
   "cell_type": "code",
   "execution_count": 45,
   "metadata": {
    "ExecuteTime": {
     "end_time": "2019-11-30T08:03:14.393891Z",
     "start_time": "2019-11-30T08:03:14.179775Z"
    }
   },
   "outputs": [
    {
     "data": {
      "text/plain": [
       "[<matplotlib.lines.Line2D at 0x7f65c564b410>]"
      ]
     },
     "execution_count": 45,
     "metadata": {},
     "output_type": "execute_result"
    },
    {
     "data": {
      "image/png": "[encoded data removed]",
      "text/plain": [
       "<Figure size 432x288 with 1 Axes>"
      ]
     },
     "metadata": {
      "needs_background": "light"
     },
     "output_type": "display_data"
    }
   ],
   "source": [
    "plt.figure()\n",
    "plt.plot(f_liq['tmhrs'],f_liq['tau_rtm'],'-+')\n",
    "plt.plot(f_liq['tmhrs'],smooth(f_liq['tau_rtm'],4,old=True),'-x')\n"
   ]
  },
  {
   "cell_type": "code",
   "execution_count": 46,
   "metadata": {
    "ExecuteTime": {
     "end_time": "2019-11-30T08:06:37.232983Z",
     "start_time": "2019-11-30T08:06:37.008530Z"
    }
   },
   "outputs": [
    {
     "data": {
      "text/plain": [
       "[<matplotlib.lines.Line2D at 0x7f65c54f2310>]"
      ]
     },
     "execution_count": 46,
     "metadata": {},
     "output_type": "execute_result"
    },
    {
     "data": {
      "image/png": "[encoded data removed]",
      "text/plain": [
       "<Figure size 432x288 with 1 Axes>"
      ]
     },
     "metadata": {
      "needs_background": "light"
     },
     "output_type": "display_data"
    }
   ],
   "source": [
    "plt.figure()\n",
    "plt.plot(f_liq['ki_rtm'])"
   ]
  },
  {
   "cell_type": "code",
   "execution_count": 48,
   "metadata": {
    "ExecuteTime": {
     "end_time": "2019-11-30T08:09:02.826032Z",
     "start_time": "2019-11-30T08:09:02.816279Z"
    }
   },
   "outputs": [
    {
     "data": {
      "text/plain": [
       "(2, 106)"
      ]
     },
     "execution_count": 48,
     "metadata": {},
     "output_type": "execute_result"
    }
   ],
   "source": [
    "f_liq['ref_err'].shape"
   ]
  },
  {
   "cell_type": "code",
   "execution_count": 77,
   "metadata": {
    "ExecuteTime": {
     "end_time": "2019-11-30T19:33:46.758165Z",
     "start_time": "2019-11-30T19:33:46.752906Z"
    }
   },
   "outputs": [],
   "source": [
    "f = [f_liq,f_mix,f_ice]"
   ]
  },
  {
   "cell_type": "code",
   "execution_count": 86,
   "metadata": {
    "ExecuteTime": {
     "end_time": "2019-11-30T19:36:15.939263Z",
     "start_time": "2019-11-30T19:36:15.930715Z"
    }
   },
   "outputs": [],
   "source": [
    "def fo(gu,nn):\n",
    "\n",
    "    gu['tau_rtm'][nn] = np.nan\n",
    "    gu['ref_rtm'][nn] = np.nan\n",
    "    gu['tau_err'][0,nn] = np.nan\n",
    "    gu['ref_err'][0,nn] = np.nan\n",
    "    gu['tau_err'][1,nn] = np.nan\n",
    "    gu['ref_err'][1,nn] = np.nan\n",
    "    gu['ki_rtm'][nn] = np.nan\n",
    "    gu['wp_rtm'][nn] = np.nan\n",
    "    return gu"
   ]
  },
  {
   "cell_type": "code",
   "execution_count": 91,
   "metadata": {
    "ExecuteTime": {
     "end_time": "2019-11-30T20:00:35.287904Z",
     "start_time": "2019-11-30T20:00:35.263508Z"
    }
   },
   "outputs": [
    {
     "name": "stderr",
     "output_type": "stream",
     "text": [
      "/home/samuel/.local/lib/python2.7/site-packages/ipykernel_launcher.py:17: RuntimeWarning: invalid value encountered in greater\n"
     ]
    }
   ],
   "source": [
    "rtr = []\n",
    "for i,g in enumerate(f):\n",
    "    ff = {}\n",
    "    for k in g.keys(): ff[k] = np.array(g[k])\n",
    "    ff['tau_rtm'] = smooth(ff['tau_rtm'],4,old=True)\n",
    "    ff['ref_rtm'] = smooth(ff['ref_rtm'],4,old=True)\n",
    "    tr = ff['tau_rtm']==0\n",
    "    if any(tr): ff = fo(ff,tr)\n",
    "    trm = ff['tau_rtm']>99.0\n",
    "    if any(trm): ff = fo(ff,trm)\n",
    "    rr = ff['ref_rtm']==0\n",
    "    if any(rr): ff = fo(ff,rr)\n",
    "    rrm = ff['ref_rtm']>99.0\n",
    "    if any(rrm): ff = fo(ff,rrm)\n",
    "    kr = ff['ki_rtm']>0.69\n",
    "    if any(kr): ff = fo(ff,kr)\n",
    "    rem = ff['ref_err'][0,:]>3.0\n",
    "    if any(rem): ff['ref_err'][0,rem] = 3.0\n",
    "    if i==0:\n",
    "        wr = ff['wp_rtm']==1\n",
    "        if any(wr): ff = fo(ff,wr)\n",
    "    elif i==2:\n",
    "        wr = ff['wp_rtm']==0\n",
    "        if any(wr): ff = fo(ff,wr)\n",
    "    rtr.append(ff)"
   ]
  },
  {
   "cell_type": "code",
   "execution_count": 93,
   "metadata": {
    "ExecuteTime": {
     "end_time": "2019-11-30T20:00:57.111217Z",
     "start_time": "2019-11-30T20:00:57.098450Z"
    }
   },
   "outputs": [
    {
     "data": {
      "text/plain": [
       "['wp_err',\n",
       " 'ref_err',\n",
       " 'ki_rtm',\n",
       " 'wp_rtm',\n",
       " 'ref_rtm',\n",
       " 'tau_rtm',\n",
       " 'tau_err',\n",
       " 'tmhrs']"
      ]
     },
     "execution_count": 93,
     "metadata": {},
     "output_type": "execute_result"
    }
   ],
   "source": [
    "rtr[0].keys()"
   ]
  },
  {
   "cell_type": "markdown",
   "metadata": {},
   "source": [
    "### save liquid cloud"
   ]
  },
  {
   "cell_type": "code",
   "execution_count": 96,
   "metadata": {
    "ExecuteTime": {
     "end_time": "2019-11-30T21:42:58.316740Z",
     "start_time": "2019-11-30T21:42:58.305658Z"
    }
   },
   "outputs": [],
   "source": [
    "dict_fliq =  {'Start_UTC':{'data':rtr[0]['tmhrs']*3600.0,'unit':'seconds from midnight UTC',\n",
    "                           'long_description':'time keeping, based on UTC midnight'},\n",
    "      'COD':{'data':rtr[0]['tau_rtm'],'unit':'None','long_description':'Cloud Optical Depth of overlying cloud'},\n",
    "      'REF':{'data':rtr[0]['ref_rtm'],'unit':'micrometer',\n",
    "             'long_description':'Cloud drop effective radius for liquid clouds'},\n",
    "      'COD_err_low':{'data':rtr[0]['tau_err'][0,:],'unit':'None',\n",
    "                     'long_description':'Lower value of retrieval uncertainty of Cloud Optical Depth'},\n",
    "      'COD_err_up':{'data':rtr[0]['tau_err'][1,:],'unit':'None',\n",
    "                    'long_description':'Upper value of retrieval uncertainty of Cloud Optical Depth'},\n",
    "      'REF_err_low':{'data':rtr[0]['ref_err'][0,:],'unit':'micrometer',\n",
    "                     'long_description':'Lower value of retrieval uncertainty of Cloud effective radius.'},\n",
    "      'REF_err_up':{'data':rtr[0]['ref_err'][1,:],'unit':'micrometer',\n",
    "                    'long_description':'Upper value of retrieval uncertainty of Cloud effective radius.'},\n",
    "      'Phase':{'data':rtr[0]['wp_rtm'],'unit':'None',\n",
    "               'long_description':'Thermodynamic phase, 0 for liquid cloud, 1 for ice cloud'},\n",
    "      'Ki_square':{'data':rtr[0]['ki_rtm'],'unit':'None',\n",
    "                   'long_description':'Ki square fit parameter. It is the remainder of the ki square fit, values higher than 0.69 are considered to be failed retrievals.'}}"
   ]
  },
  {
   "cell_type": "code",
   "execution_count": 100,
   "metadata": {
    "ExecuteTime": {
     "end_time": "2019-12-02T06:51:56.036995Z",
     "start_time": "2019-12-02T06:51:56.032462Z"
    }
   },
   "outputs": [],
   "source": [
    "hdict_fliq = hdict\n",
    "hdict_fliq['special_comments'] = 'Liquid cloud case from LeBlanc et al., 2015'"
   ]
  },
  {
   "cell_type": "code",
   "execution_count": 104,
   "metadata": {
    "ExecuteTime": {
     "end_time": "2019-12-02T06:55:08.624088Z",
     "start_time": "2019-12-02T06:55:08.603363Z"
    }
   },
   "outputs": [
    {
     "name": "stdout",
     "output_type": "stream",
     "text": [
      "COD\n",
      "COD_err_low\n",
      "COD_err_up\n",
      "REF\n",
      "REF_err_low\n",
      "REF_err_up\n",
      "Phase\n",
      "Ki_square\n",
      "File writing successful to: /mnt/c/Users/lebla/Research/SSFR3/SSFR-15params-CLD_Boulder_20120525_R0.ict\n"
     ]
    }
   ],
   "source": [
    "wu.write_ict(hdict_fliq,dict_fliq,filepath=fp,\n",
    "              data_id='SSFR_15params_CLD',loc_id='Boulder',date=days[0],rev='R0',order=order)    "
   ]
  },
  {
   "cell_type": "markdown",
   "metadata": {},
   "source": [
    "### Save mix phase cloud"
   ]
  },
  {
   "cell_type": "code",
   "execution_count": 105,
   "metadata": {
    "ExecuteTime": {
     "end_time": "2019-12-02T06:55:18.563451Z",
     "start_time": "2019-12-02T06:55:18.546295Z"
    }
   },
   "outputs": [],
   "source": [
    "dict_fmix =  {'Start_UTC':{'data':rtr[1]['tmhrs']*3600.0,'unit':'seconds from midnight UTC',\n",
    "                           'long_description':'time keeping, based on UTC midnight'},\n",
    "      'COD':{'data':rtr[1]['tau_rtm'],'unit':'None',\n",
    "             'long_description':'Cloud Optical Depth of overlying cloud'},\n",
    "      'REF':{'data':rtr[1]['ref_rtm'],'unit':'micrometer',\n",
    "             'long_description':'Cloud drop effective radius for liquid clouds'},\n",
    "      'COD_err_low':{'data':rtr[1]['tau_err'][0,:],'unit':'None',\n",
    "                     'long_description':'Lower value of retrieval uncertainty of Cloud Optical Depth'},\n",
    "      'COD_err_up':{'data':rtr[1]['tau_err'][1,:],'unit':'None',\n",
    "                    'long_description':'Upper value of retrieval uncertainty of Cloud Optical Depth'},\n",
    "      'REF_err_low':{'data':rtr[1]['ref_err'][0,:],'unit':'micrometer',\n",
    "                     'long_description':'Lower value of retrieval uncertainty of Cloud effective radius.'},\n",
    "      'REF_err_up':{'data':rtr[1]['ref_err'][1,:],'unit':'micrometer',\n",
    "                    'long_description':'Upper value of retrieval uncertainty of Cloud effective radius.'},\n",
    "      'Phase':{'data':rtr[1]['wp_rtm'],'unit':'None',\n",
    "               'long_description':'Thermodynamic phase, 0 for liquid cloud, 1 for ice cloud'},\n",
    "      'Ki_square':{'data':rtr[1]['ki_rtm'],'unit':'None',\n",
    "                   'long_description':'Ki square fit parameter. It is the remainder of the ki square fit, values higher than 0.69 are considered to be failed retrievals.'}}"
   ]
  },
  {
   "cell_type": "code",
   "execution_count": 106,
   "metadata": {
    "ExecuteTime": {
     "end_time": "2019-12-02T06:55:38.003754Z",
     "start_time": "2019-12-02T06:55:37.996139Z"
    }
   },
   "outputs": [],
   "source": [
    "hdict_mix = hdict\n",
    "hdict_mix['special_comments'] = 'Mixed-phase cloud case from LeBlanc et al., 2015'"
   ]
  },
  {
   "cell_type": "code",
   "execution_count": 109,
   "metadata": {
    "ExecuteTime": {
     "end_time": "2019-12-02T06:56:44.735927Z",
     "start_time": "2019-12-02T06:56:44.715659Z"
    }
   },
   "outputs": [
    {
     "name": "stdout",
     "output_type": "stream",
     "text": [
      "COD\n",
      "COD_err_low\n",
      "COD_err_up\n",
      "REF\n",
      "REF_err_low\n",
      "REF_err_up\n",
      "Phase\n",
      "Ki_square\n",
      "File writing successful to: /mnt/c/Users/lebla/Research/SSFR3/SSFR-15params-CLD_Boulder_20120806_R0.ict\n"
     ]
    }
   ],
   "source": [
    "wu.write_ict(hdict_mix,dict_fmix,filepath=fp,\n",
    "              data_id='SSFR_15params_CLD',loc_id='Boulder',date=days[1],rev='R0',order=order) "
   ]
  },
  {
   "cell_type": "markdown",
   "metadata": {},
   "source": [
    "### Save ice cloud"
   ]
  },
  {
   "cell_type": "code",
   "execution_count": 111,
   "metadata": {
    "ExecuteTime": {
     "end_time": "2019-12-02T06:57:15.900802Z",
     "start_time": "2019-12-02T06:57:15.883865Z"
    }
   },
   "outputs": [],
   "source": [
    "dict_fice =  {'Start_UTC':{'data':rtr[2]['tmhrs']*3600.0,'unit':'seconds from midnight UTC',\n",
    "                           'long_description':'time keeping, based on UTC midnight'},\n",
    "      'COD':{'data':rtr[2]['tau_rtm'],'unit':'None',\n",
    "             'long_description':'Cloud Optical Depth of overlying cloud'},\n",
    "      'REF':{'data':rtr[2]['ref_rtm'],'unit':'micrometer',\n",
    "             'long_description':'Cloud drop effective radius for liquid clouds'},\n",
    "      'COD_err_low':{'data':rtr[2]['tau_err'][0,:],'unit':'None',\n",
    "                     'long_description':'Lower value of retrieval uncertainty of Cloud Optical Depth'},\n",
    "      'COD_err_up':{'data':rtr[2]['tau_err'][1,:],'unit':'None',\n",
    "                    'long_description':'Upper value of retrieval uncertainty of Cloud Optical Depth'},\n",
    "      'REF_err_low':{'data':rtr[2]['ref_err'][0,:],'unit':'micrometer',\n",
    "                     'long_description':'Lower value of retrieval uncertainty of Cloud effective radius.'},\n",
    "      'REF_err_up':{'data':rtr[2]['ref_err'][1,:],'unit':'micrometer',\n",
    "                    'long_description':'Upper value of retrieval uncertainty of Cloud effective radius.'},\n",
    "      'Phase':{'data':rtr[2]['wp_rtm'],'unit':'None',\n",
    "               'long_description':'Thermodynamic phase, 0 for liquid cloud, 1 for ice cloud'},\n",
    "      'Ki_square':{'data':rtr[2]['ki_rtm'],'unit':'None',\n",
    "                   'long_description':'Ki square fit parameter. It is the remainder of the ki square fit, values higher than 0.69 are considered to be failed retrievals.'}}"
   ]
  },
  {
   "cell_type": "code",
   "execution_count": 110,
   "metadata": {
    "ExecuteTime": {
     "end_time": "2019-12-02T06:57:12.780070Z",
     "start_time": "2019-12-02T06:57:12.772640Z"
    }
   },
   "outputs": [],
   "source": [
    "hdict_ice = hdict\n",
    "hdict_ice['special_comments'] = 'Ice cloud case from LeBlanc et al., 2015'"
   ]
  },
  {
   "cell_type": "code",
   "execution_count": 112,
   "metadata": {
    "ExecuteTime": {
     "end_time": "2019-12-02T06:57:32.891643Z",
     "start_time": "2019-12-02T06:57:32.868123Z"
    }
   },
   "outputs": [
    {
     "name": "stdout",
     "output_type": "stream",
     "text": [
      "COD\n",
      "COD_err_low\n",
      "COD_err_up\n",
      "REF\n",
      "REF_err_low\n",
      "REF_err_up\n",
      "Phase\n",
      "Ki_square\n",
      "File writing successful to: /mnt/c/Users/lebla/Research/SSFR3/SSFR-15params-CLD_Boulder_20130110_R0.ict\n"
     ]
    }
   ],
   "source": [
    "wu.write_ict(hdict_ice,dict_fice,filepath=fp,\n",
    "              data_id='SSFR_15params_CLD',loc_id='Boulder',date=days[2],rev='R0',order=order) "
   ]
  },
  {
   "cell_type": "markdown",
   "metadata": {},
   "source": [
    "## slope retrieval"
   ]
  },
  {
   "cell_type": "code",
   "execution_count": 114,
   "metadata": {
    "ExecuteTime": {
     "end_time": "2019-12-02T07:14:20.158354Z",
     "start_time": "2019-12-02T07:14:20.142664Z"
    }
   },
   "outputs": [
    {
     "data": {
      "text/plain": [
       "{'eref': array([0., 0., 0., ..., 0., 0., 0.], dtype=float32),\n",
       " 'etau': array([0., 0., 0., ..., 0., 0., 0.], dtype=float32),\n",
       " 'ref': array([0., 0., 0., ..., 0., 0., 0.], dtype=float32),\n",
       " 'tau': array([0., 0., 0., ..., 0., 0., 0.], dtype=float32),\n",
       " 'tmhrs': array([0., 0., 0., ..., 0., 0., 0.], dtype=float32)}"
      ]
     },
     "execution_count": 114,
     "metadata": {},
     "output_type": "execute_result"
    }
   ],
   "source": [
    "sl_liq"
   ]
  },
  {
   "cell_type": "code",
   "execution_count": 115,
   "metadata": {
    "ExecuteTime": {
     "end_time": "2019-12-02T08:38:38.542729Z",
     "start_time": "2019-12-02T08:38:38.536970Z"
    }
   },
   "outputs": [],
   "source": [
    "sl = [sl_liq,sl_mix,sl_ice]"
   ]
  },
  {
   "cell_type": "code",
   "execution_count": 133,
   "metadata": {
    "ExecuteTime": {
     "end_time": "2019-12-02T09:30:15.518065Z",
     "start_time": "2019-12-02T09:30:15.506977Z"
    }
   },
   "outputs": [],
   "source": [
    "rsl = []\n",
    "for i,g in enumerate(sl):\n",
    "    fsl = {}\n",
    "    tr = g['tau']!=0\n",
    "    fsl['COD'] = g['tau'][tr]\n",
    "    fsl['REF'] = g['ref'][tr]\n",
    "    fsl['REF_ERR'] = g['eref'][tr]\n",
    "    fsl['COD_ERR'] = g['etau'][tr]\n",
    "    fsl['utc'] = g['tmhrs'][tr]\n",
    "    rsl.append(fsl)"
   ]
  },
  {
   "cell_type": "code",
   "execution_count": 131,
   "metadata": {
    "ExecuteTime": {
     "end_time": "2019-12-02T09:22:23.532708Z",
     "start_time": "2019-12-02T09:22:23.514858Z"
    }
   },
   "outputs": [
    {
     "data": {
      "text/plain": [
       "array([17.519722, 17.528055, 17.536388, 17.544722, 17.553055, 17.561388,\n",
       "       17.569723, 17.578056, 17.58639 , 17.594723, 17.603056, 17.61139 ,\n",
       "       17.619722, 17.628056, 17.636389, 17.644722, 17.653055, 17.661388,\n",
       "       17.669722, 17.678055, 17.686388, 17.694723, 17.703056, 17.71139 ,\n",
       "       17.719723, 17.728056, 17.73639 , 17.744722, 17.775555, 17.78389 ,\n",
       "       17.792223, 17.800556, 17.80889 , 17.817223, 17.825556, 17.833889,\n",
       "       17.842222, 17.850555, 17.858889, 17.867222, 17.875555, 17.883888,\n",
       "       17.892221, 17.900555, 17.90889 , 17.917223, 17.925556, 17.93389 ,\n",
       "       17.942223, 17.950556, 17.958889, 17.967222, 17.975555, 17.983889,\n",
       "       17.992222, 18.020277, 18.02861 , 18.036945, 18.045279, 18.053612,\n",
       "       18.061945, 18.070278, 18.078611, 18.086945, 18.095278, 18.103611,\n",
       "       18.111944, 18.120277, 18.12861 , 18.136944, 18.145277, 18.15361 ,\n",
       "       18.161945, 18.170279, 18.178612, 18.186945, 18.195278, 18.203611,\n",
       "       18.211945, 18.220278, 18.228611, 18.236944, 18.245277, 18.276112,\n",
       "       18.284445, 18.292778, 18.301111, 18.309444, 18.317778, 18.32611 ,\n",
       "       18.334444, 18.342777, 18.35111 , 18.359444, 18.367777, 18.376112,\n",
       "       18.384445, 18.392778, 18.401112, 18.409445, 18.417778, 18.426111,\n",
       "       18.434444, 18.442778, 18.45111 , 18.459444, 18.467777, 18.47611 ,\n",
       "       18.484444, 18.492777, 18.523611, 18.531944, 18.540277, 18.54861 ,\n",
       "       18.556944, 18.565277, 18.57361 , 18.581944, 18.590279, 18.598612,\n",
       "       18.606945, 18.615278, 18.623611, 18.631945, 18.640278, 18.648611,\n",
       "       18.656944, 18.665277, 18.67361 , 18.681944, 18.690277, 18.69861 ,\n",
       "       18.706944, 18.715279, 18.723612, 18.731945, 18.740278, 18.77111 ,\n",
       "       18.779444, 18.787777, 18.796112, 18.804445, 18.812778, 18.821112,\n",
       "       18.829445, 18.837778, 18.846111, 18.854445, 18.862778, 18.87111 ,\n",
       "       18.879444, 18.887777, 18.89611 , 18.904444, 18.912777, 18.921112,\n",
       "       18.929445, 18.937778, 18.946112, 18.954445, 18.962778, 18.971111,\n",
       "       18.979445, 18.987778, 18.99611 , 19.024166, 19.0325  , 19.040833,\n",
       "       19.049166, 19.0575  , 19.065834, 19.074167, 19.0825  , 19.090834,\n",
       "       19.099167, 19.1075  , 19.115833, 19.124166, 19.1325  , 19.140833,\n",
       "       19.149166, 19.1575  , 19.165833, 19.174166, 19.1825  , 19.190834,\n",
       "       19.199167, 19.2075  , 19.215834, 19.224167, 19.2325  , 19.240833,\n",
       "       19.271667, 19.28    , 19.288334, 19.296667, 19.305   , 19.313334,\n",
       "       19.321667, 19.33    , 19.338333, 19.346666, 19.355   , 19.363333,\n",
       "       19.371666, 19.38    , 19.388334, 19.396667, 19.405   , 19.413334,\n",
       "       19.421667, 19.43    , 19.438334, 19.446667, 19.455   , 19.463333,\n",
       "       19.471666, 19.48    , 19.488333, 19.496666], dtype=float32)"
      ]
     },
     "execution_count": 131,
     "metadata": {},
     "output_type": "execute_result"
    }
   ],
   "source": [
    "rsl[2]['utc']"
   ]
  },
  {
   "cell_type": "markdown",
   "metadata": {},
   "source": [
    "### Save liquid cloud"
   ]
  },
  {
   "cell_type": "code",
   "execution_count": 132,
   "metadata": {
    "ExecuteTime": {
     "end_time": "2019-12-02T09:28:56.694096Z",
     "start_time": "2019-12-02T09:28:56.681373Z"
    }
   },
   "outputs": [],
   "source": [
    "hdict_sl = {'PI':'Samuel LeBlanc',\n",
    "     'Institution':'NASA Ames Research Center',\n",
    "     'Instrument':'Solar Spectral Flux Radiometer - 3 (SSFR3)',\n",
    "     'campaign':'University of Colorado Skywatch Observatory',\n",
    "     'special_comments':'',\n",
    "     'PI_contact':'Samuel.leblanc@nasa.gov',\n",
    "     'platform':'Roof top University of Colorado',\n",
    "     'location':'Boulder, Colorado, USA',\n",
    "     'instrument_info':'Derived product from SSFR with zenith narrow field of view radiance light collector',\n",
    "     'data_info':'Using the cloud property retrieval method based on slope at 1600 nm from transmitted light measurements described by McBride et al., 2011, doi:10.5194/acp-11-7235-2011.',\n",
    "     'uncertainty':'See included variables.',\n",
    "     'DM_contact':'Samuel LeBlanc, samuel.leblanc@nasa.gov',\n",
    "     'project_info':'N/A',\n",
    "     'stipulations':'',\n",
    "     'rev_comments':'R0: Data from LeBlanc et al., 2015 publication, released to A. Kohkanovsky in December, 2019.'\n",
    "    }\n",
    "order_sl = ['COD','COD_err','REF','REF_err']"
   ]
  },
  {
   "cell_type": "code",
   "execution_count": 134,
   "metadata": {
    "ExecuteTime": {
     "end_time": "2019-12-02T09:31:28.468130Z",
     "start_time": "2019-12-02T09:31:28.457910Z"
    }
   },
   "outputs": [],
   "source": [
    "dict_sl_liq =  {'Start_UTC':{'data':rsl[0]['utc']*3600.0,'unit':'seconds from midnight UTC',\n",
    "                           'long_description':'time keeping, based on UTC midnight'},\n",
    "      'COD':{'data':rsl[0]['COD'],'unit':'None','long_description':'Cloud Optical Depth of overlying cloud'},\n",
    "      'REF':{'data':rsl[0]['REF'],'unit':'micrometer',\n",
    "             'long_description':'Cloud drop effective radius for liquid clouds'},\n",
    "      'COD_err':{'data':rsl[0]['COD_ERR'],'unit':'None',\n",
    "                     'long_description':'Retrieval uncertainty of Cloud Optical Depth'},\n",
    "      'REF_err':{'data':rsl[0]['REF_ERR'],'unit':'micrometer',\n",
    "                    'long_description':'Retrieval uncertainty of Cloud effective radius.'}}"
   ]
  },
  {
   "cell_type": "code",
   "execution_count": 135,
   "metadata": {
    "ExecuteTime": {
     "end_time": "2019-12-02T09:31:55.596580Z",
     "start_time": "2019-12-02T09:31:55.588372Z"
    }
   },
   "outputs": [],
   "source": [
    "hdict_sl_liq = hdict_sl\n",
    "hdict_sl_liq['special_comments'] = 'Liquid cloud case from LeBlanc et al., 2015'"
   ]
  },
  {
   "cell_type": "code",
   "execution_count": 136,
   "metadata": {
    "ExecuteTime": {
     "end_time": "2019-12-02T09:32:27.727306Z",
     "start_time": "2019-12-02T09:32:27.707298Z"
    }
   },
   "outputs": [
    {
     "name": "stdout",
     "output_type": "stream",
     "text": [
      "COD\n",
      "COD_err\n",
      "REF\n",
      "REF_err\n",
      "File writing successful to: /mnt/c/Users/lebla/Research/SSFR3/SSFR-slope-CLD_Boulder_20120525_R0.ict\n"
     ]
    }
   ],
   "source": [
    "wu.write_ict(hdict_sl_liq,dict_sl_liq,filepath=fp,\n",
    "              data_id='SSFR_slope_CLD',loc_id='Boulder',date=days[0],rev='R0',order=order_sl)    "
   ]
  },
  {
   "cell_type": "markdown",
   "metadata": {},
   "source": [
    "### Save mix-phase cloud"
   ]
  },
  {
   "cell_type": "code",
   "execution_count": 137,
   "metadata": {
    "ExecuteTime": {
     "end_time": "2019-12-02T09:34:52.209656Z",
     "start_time": "2019-12-02T09:34:52.198348Z"
    }
   },
   "outputs": [],
   "source": [
    "dict_sl_mix =  {'Start_UTC':{'data':rsl[1]['utc']*3600.0,'unit':'seconds from midnight UTC',\n",
    "                           'long_description':'time keeping, based on UTC midnight'},\n",
    "      'COD':{'data':rsl[1]['COD'],'unit':'None','long_description':'Cloud Optical Depth of overlying cloud'},\n",
    "      'REF':{'data':rsl[1]['REF'],'unit':'micrometer',\n",
    "             'long_description':'Cloud drop effective radius for liquid clouds'},\n",
    "      'COD_err':{'data':rsl[1]['COD_ERR'],'unit':'None',\n",
    "                     'long_description':'Retrieval uncertainty of Cloud Optical Depth'},\n",
    "      'REF_err':{'data':rsl[1]['REF_ERR'],'unit':'micrometer',\n",
    "                    'long_description':'Retrieval uncertainty of Cloud effective radius.'}}"
   ]
  },
  {
   "cell_type": "code",
   "execution_count": 138,
   "metadata": {
    "ExecuteTime": {
     "end_time": "2019-12-02T09:34:52.962623Z",
     "start_time": "2019-12-02T09:34:52.955613Z"
    }
   },
   "outputs": [],
   "source": [
    "hdict_sl_mix = hdict_sl\n",
    "hdict_sl_mix['special_comments'] = 'Mixed-phase cloud case from LeBlanc et al., 2015'"
   ]
  },
  {
   "cell_type": "code",
   "execution_count": 139,
   "metadata": {
    "ExecuteTime": {
     "end_time": "2019-12-02T09:34:54.056293Z",
     "start_time": "2019-12-02T09:34:54.037896Z"
    }
   },
   "outputs": [
    {
     "name": "stdout",
     "output_type": "stream",
     "text": [
      "COD\n",
      "COD_err\n",
      "REF\n",
      "REF_err\n",
      "File writing successful to: /mnt/c/Users/lebla/Research/SSFR3/SSFR-slope-CLD_Boulder_20120806_R0.ict\n"
     ]
    }
   ],
   "source": [
    "wu.write_ict(hdict_sl_mix,dict_sl_mix,filepath=fp,\n",
    "              data_id='SSFR_slope_CLD',loc_id='Boulder',date=days[1],rev='R0',order=order_sl)    "
   ]
  },
  {
   "cell_type": "markdown",
   "metadata": {},
   "source": [
    "### Save ice cloud"
   ]
  },
  {
   "cell_type": "code",
   "execution_count": 140,
   "metadata": {
    "ExecuteTime": {
     "end_time": "2019-12-02T09:36:02.864729Z",
     "start_time": "2019-12-02T09:36:02.856171Z"
    }
   },
   "outputs": [],
   "source": [
    "dict_sl_ice =  {'Start_UTC':{'data':rsl[2]['utc']*3600.0,'unit':'seconds from midnight UTC',\n",
    "                           'long_description':'time keeping, based on UTC midnight'},\n",
    "      'COD':{'data':rsl[2]['COD'],'unit':'None','long_description':'Cloud Optical Depth of overlying cloud'},\n",
    "      'REF':{'data':rsl[2]['REF'],'unit':'micrometer',\n",
    "             'long_description':'Cloud drop effective radius for liquid clouds'},\n",
    "      'COD_err':{'data':rsl[2]['COD_ERR'],'unit':'None',\n",
    "                     'long_description':'Retrieval uncertainty of Cloud Optical Depth'},\n",
    "      'REF_err':{'data':rsl[2]['REF_ERR'],'unit':'micrometer',\n",
    "                    'long_description':'Retrieval uncertainty of Cloud effective radius.'}}"
   ]
  },
  {
   "cell_type": "code",
   "execution_count": 141,
   "metadata": {
    "ExecuteTime": {
     "end_time": "2019-12-02T09:36:19.543505Z",
     "start_time": "2019-12-02T09:36:19.536631Z"
    }
   },
   "outputs": [],
   "source": [
    "hdict_sl_ice = hdict_sl\n",
    "hdict_sl_ice['special_comments'] = 'Ice cloud case from LeBlanc et al., 2015'"
   ]
  },
  {
   "cell_type": "code",
   "execution_count": 142,
   "metadata": {
    "ExecuteTime": {
     "end_time": "2019-12-02T09:36:36.305825Z",
     "start_time": "2019-12-02T09:36:36.285449Z"
    }
   },
   "outputs": [
    {
     "name": "stdout",
     "output_type": "stream",
     "text": [
      "COD\n",
      "COD_err\n",
      "REF\n",
      "REF_err\n",
      "File writing successful to: /mnt/c/Users/lebla/Research/SSFR3/SSFR-slope-CLD_Boulder_20130110_R0.ict\n"
     ]
    }
   ],
   "source": [
    "wu.write_ict(hdict_sl_ice,dict_sl_ice,filepath=fp,\n",
    "              data_id='SSFR_slope_CLD',loc_id='Boulder',date=days[2],rev='R0',order=order_sl)    "
   ]
  },
  {
   "cell_type": "markdown",
   "metadata": {},
   "source": [
    "## 2wvl retrieval\n"
   ]
  },
  {
   "cell_type": "code",
   "execution_count": 143,
   "metadata": {
    "ExecuteTime": {
     "end_time": "2019-12-02T09:39:23.012640Z",
     "start_time": "2019-12-02T09:39:23.004473Z"
    }
   },
   "outputs": [],
   "source": [
    "twv = [twv_liq,twv_mix,twv_ice]"
   ]
  },
  {
   "cell_type": "code",
   "execution_count": 144,
   "metadata": {
    "ExecuteTime": {
     "end_time": "2019-12-02T09:41:01.717643Z",
     "start_time": "2019-12-02T09:41:01.703709Z"
    }
   },
   "outputs": [
    {
     "data": {
      "text/plain": [
       "['tau', 'etau', 'eref', 'ref', 'tmhrs']"
      ]
     },
     "execution_count": 144,
     "metadata": {},
     "output_type": "execute_result"
    }
   ],
   "source": [
    "twv_liq.keys()"
   ]
  },
  {
   "cell_type": "code",
   "execution_count": 146,
   "metadata": {
    "ExecuteTime": {
     "end_time": "2019-12-02T09:45:14.301099Z",
     "start_time": "2019-12-02T09:45:14.291715Z"
    }
   },
   "outputs": [],
   "source": [
    "rtw = []\n",
    "for i,g in enumerate(twv):\n",
    "    ftw = {}\n",
    "    tr = g['tau']!=0\n",
    "    ftw['COD'] = g['tau'][tr]\n",
    "    ftw['REF'] = g['ref'][tr]\n",
    "    ftw['REF_ERR'] = g['eref'][tr]\n",
    "    ftw['COD_ERR'] = g['etau'][tr]\n",
    "    ftw['utc'] = g['tmhrs'][tr]\n",
    "    rtw.append(ftw)"
   ]
  },
  {
   "cell_type": "code",
   "execution_count": 148,
   "metadata": {
    "ExecuteTime": {
     "end_time": "2019-12-02T09:45:26.938538Z",
     "start_time": "2019-12-02T09:45:26.926243Z"
    }
   },
   "outputs": [
    {
     "data": {
      "text/plain": [
       "array([ 6.,  8.,  6.,  5.,  5.,  5.,  4.,  6.,  9.,  8.,  4.,  4.,  4.,\n",
       "        4.,  3.,  3.,  3.,  3.,  3.,  3.,  4.,  6.,  5.,  7.,  4.,  3.,\n",
       "        5.,  3.,  3.,  3.,  3.,  3.,  3.,  4.,  3.,  3.,  3.,  3.,  3.,\n",
       "        3.,  3.,  3.,  3.,  4.,  4.,  4.,  5.,  6.,  6.,  5.,  4.,  9.,\n",
       "        6.,  4.,  4.,  3.,  5.,  5.,  3.,  3.,  5., 12., 12., 18.,  5.,\n",
       "        6.,  6., 14.,  7.,  9.,  4.,  3.,  4.,  4.,  6.,  5.,  6., 10.,\n",
       "       11.,  4.,  7.,  9., 11.,  6., 11.,  6.,  9.,  3.,  3.,  3.,  4.,\n",
       "        4.,  4.,  4.,  4.,  5.,  4.,  4.,  5.,  7.,  8.,  7., 10.,  8.,\n",
       "        8.,  5.], dtype=float32)"
      ]
     },
     "execution_count": 148,
     "metadata": {},
     "output_type": "execute_result"
    }
   ],
   "source": [
    "rtw[0]['REF']"
   ]
  },
  {
   "cell_type": "code",
   "execution_count": 145,
   "metadata": {
    "ExecuteTime": {
     "end_time": "2019-12-02T09:43:34.331558Z",
     "start_time": "2019-12-02T09:43:34.321335Z"
    }
   },
   "outputs": [],
   "source": [
    "hdict_twv = {'PI':'Samuel LeBlanc',\n",
    "     'Institution':'NASA Ames Research Center',\n",
    "     'Instrument':'Solar Spectral Flux Radiometer - 3 (SSFR3)',\n",
    "     'campaign':'University of Colorado Skywatch Observatory',\n",
    "     'special_comments':'',\n",
    "     'PI_contact':'Samuel.leblanc@nasa.gov',\n",
    "     'platform':'Roof top University of Colorado',\n",
    "     'location':'Boulder, Colorado, USA',\n",
    "     'instrument_info':'Derived product from SSFR with zenith narrow field of view radiance light collector',\n",
    "     'data_info':'Using the 2 wavelength cloud property retrieval method from transmitted light measurements.',\n",
    "     'uncertainty':'See included variables.',\n",
    "     'DM_contact':'Samuel LeBlanc, samuel.leblanc@nasa.gov',\n",
    "     'project_info':'N/A',\n",
    "     'stipulations':'',\n",
    "     'rev_comments':'R0: Data from LeBlanc et al., 2015 publication, released to A. Kohkanovsky in December, 2019.'\n",
    "    }\n",
    "order_twv = ['COD','COD_err','REF','REF_err']"
   ]
  },
  {
   "cell_type": "markdown",
   "metadata": {},
   "source": [
    "### Save liquid cloud"
   ]
  },
  {
   "cell_type": "code",
   "execution_count": 149,
   "metadata": {
    "ExecuteTime": {
     "end_time": "2019-12-02T09:47:15.480561Z",
     "start_time": "2019-12-02T09:47:15.469525Z"
    }
   },
   "outputs": [],
   "source": [
    "dict_tw_liq =  {'Start_UTC':{'data':rtw[0]['utc']*3600.0,'unit':'seconds from midnight UTC',\n",
    "                           'long_description':'time keeping, based on UTC midnight'},\n",
    "      'COD':{'data':rtw[0]['COD'],'unit':'None','long_description':'Cloud Optical Depth of overlying cloud'},\n",
    "      'REF':{'data':rtw[0]['REF'],'unit':'micrometer',\n",
    "             'long_description':'Cloud drop effective radius for liquid clouds'},\n",
    "      'COD_err':{'data':rtw[0]['COD_ERR'],'unit':'None',\n",
    "                     'long_description':'Retrieval uncertainty of Cloud Optical Depth'},\n",
    "      'REF_err':{'data':rtw[0]['REF_ERR'],'unit':'micrometer',\n",
    "                    'long_description':'Retrieval uncertainty of Cloud effective radius.'}}"
   ]
  },
  {
   "cell_type": "code",
   "execution_count": 151,
   "metadata": {
    "ExecuteTime": {
     "end_time": "2019-12-02T09:47:32.000497Z",
     "start_time": "2019-12-02T09:47:31.996342Z"
    }
   },
   "outputs": [],
   "source": [
    "hdict_tw_liq = hdict_twv\n",
    "hdict_tw_liq['special_comments'] = 'Liquid cloud case from LeBlanc et al., 2015'"
   ]
  },
  {
   "cell_type": "code",
   "execution_count": 153,
   "metadata": {
    "ExecuteTime": {
     "end_time": "2019-12-02T09:48:11.051536Z",
     "start_time": "2019-12-02T09:48:11.035152Z"
    }
   },
   "outputs": [
    {
     "name": "stdout",
     "output_type": "stream",
     "text": [
      "COD\n",
      "COD_err\n",
      "REF\n",
      "REF_err\n",
      "File writing successful to: /mnt/c/Users/lebla/Research/SSFR3/SSFR-2wvl-CLD_Boulder_20120525_R0.ict\n"
     ]
    }
   ],
   "source": [
    "wu.write_ict(hdict_tw_liq,dict_tw_liq,filepath=fp,\n",
    "              data_id='SSFR_2wvl_CLD',loc_id='Boulder',date=days[0],rev='R0',order=order_twv)  "
   ]
  },
  {
   "cell_type": "markdown",
   "metadata": {},
   "source": [
    "### Save mix phase cloud"
   ]
  },
  {
   "cell_type": "code",
   "execution_count": 154,
   "metadata": {
    "ExecuteTime": {
     "end_time": "2019-12-02T09:49:16.825708Z",
     "start_time": "2019-12-02T09:49:16.813911Z"
    }
   },
   "outputs": [],
   "source": [
    "dict_tw_mix =  {'Start_UTC':{'data':rtw[1]['utc']*3600.0,'unit':'seconds from midnight UTC',\n",
    "                           'long_description':'time keeping, based on UTC midnight'},\n",
    "      'COD':{'data':rtw[1]['COD'],'unit':'None','long_description':'Cloud Optical Depth of overlying cloud'},\n",
    "      'REF':{'data':rtw[1]['REF'],'unit':'micrometer',\n",
    "             'long_description':'Cloud drop effective radius for liquid clouds'},\n",
    "      'COD_err':{'data':rtw[1]['COD_ERR'],'unit':'None',\n",
    "                     'long_description':'Retrieval uncertainty of Cloud Optical Depth'},\n",
    "      'REF_err':{'data':rtw[1]['REF_ERR'],'unit':'micrometer',\n",
    "                    'long_description':'Retrieval uncertainty of Cloud effective radius.'}}"
   ]
  },
  {
   "cell_type": "code",
   "execution_count": 155,
   "metadata": {
    "ExecuteTime": {
     "end_time": "2019-12-02T09:49:18.412636Z",
     "start_time": "2019-12-02T09:49:18.407098Z"
    }
   },
   "outputs": [],
   "source": [
    "hdict_tw_mix = hdict_twv\n",
    "hdict_tw_mix['special_comments'] = 'Mixed-phase cloud case from LeBlanc et al., 2015'"
   ]
  },
  {
   "cell_type": "code",
   "execution_count": 156,
   "metadata": {
    "ExecuteTime": {
     "end_time": "2019-12-02T09:49:19.956100Z",
     "start_time": "2019-12-02T09:49:19.941064Z"
    }
   },
   "outputs": [
    {
     "name": "stdout",
     "output_type": "stream",
     "text": [
      "COD\n",
      "COD_err\n",
      "REF\n",
      "REF_err\n",
      "File writing successful to: /mnt/c/Users/lebla/Research/SSFR3/SSFR-2wvl-CLD_Boulder_20120806_R0.ict\n"
     ]
    }
   ],
   "source": [
    "wu.write_ict(hdict_tw_mix,dict_tw_mix,filepath=fp,\n",
    "              data_id='SSFR_2wvl_CLD',loc_id='Boulder',date=days[1],rev='R0',order=order_twv) "
   ]
  },
  {
   "cell_type": "markdown",
   "metadata": {},
   "source": [
    "### Save ice cloud"
   ]
  },
  {
   "cell_type": "code",
   "execution_count": 157,
   "metadata": {
    "ExecuteTime": {
     "end_time": "2019-12-02T09:50:46.005966Z",
     "start_time": "2019-12-02T09:50:45.995500Z"
    }
   },
   "outputs": [],
   "source": [
    "dict_tw_ice =  {'Start_UTC':{'data':rtw[2]['utc']*3600.0,'unit':'seconds from midnight UTC',\n",
    "                           'long_description':'time keeping, based on UTC midnight'},\n",
    "      'COD':{'data':rtw[2]['COD'],'unit':'None','long_description':'Cloud Optical Depth of overlying cloud'},\n",
    "      'REF':{'data':rtw[2]['REF'],'unit':'micrometer',\n",
    "             'long_description':'Cloud drop effective radius for liquid clouds'},\n",
    "      'COD_err':{'data':rtw[2]['COD_ERR'],'unit':'None',\n",
    "                     'long_description':'Retrieval uncertainty of Cloud Optical Depth'},\n",
    "      'REF_err':{'data':rtw[2]['REF_ERR'],'unit':'micrometer',\n",
    "                    'long_description':'Retrieval uncertainty of Cloud effective radius.'}}"
   ]
  },
  {
   "cell_type": "code",
   "execution_count": 158,
   "metadata": {
    "ExecuteTime": {
     "end_time": "2019-12-02T09:50:54.613118Z",
     "start_time": "2019-12-02T09:50:54.606112Z"
    }
   },
   "outputs": [],
   "source": [
    "hdict_tw_ice = hdict_twv\n",
    "hdict_tw_ice['special_comments'] = 'Ice cloud case from LeBlanc et al., 2015'"
   ]
  },
  {
   "cell_type": "code",
   "execution_count": 159,
   "metadata": {
    "ExecuteTime": {
     "end_time": "2019-12-02T09:51:00.910434Z",
     "start_time": "2019-12-02T09:51:00.886009Z"
    }
   },
   "outputs": [
    {
     "name": "stdout",
     "output_type": "stream",
     "text": [
      "COD\n",
      "COD_err\n",
      "REF\n",
      "REF_err\n",
      "File writing successful to: /mnt/c/Users/lebla/Research/SSFR3/SSFR-2wvl-CLD_Boulder_20130110_R0.ict\n"
     ]
    }
   ],
   "source": [
    "wu.write_ict(hdict_tw_ice,dict_tw_ice,filepath=fp,\n",
    "              data_id='SSFR_2wvl_CLD',loc_id='Boulder',date=days[2],rev='R0',order=order_twv) "
   ]
  },
  {
   "cell_type": "markdown",
   "metadata": {},
   "source": [
    "## Spectra"
   ]
  },
  {
   "cell_type": "markdown",
   "metadata": {},
   "source": [
    "# Write out the results"
   ]
  },
  {
   "cell_type": "code",
   "execution_count": null,
   "metadata": {},
   "outputs": [],
   "source": []
  }
 ],
 "metadata": {
  "kernelspec": {
   "display_name": "Python 2",
   "language": "python",
   "name": "python2"
  },
  "language_info": {
   "codemirror_mode": {
    "name": "ipython",
    "version": 2
   },
   "file_extension": ".py",
   "mimetype": "text/x-python",
   "name": "python",
   "nbconvert_exporter": "python",
   "pygments_lexer": "ipython2",
   "version": "2.7.15+"
  },
  "toc": {
   "base_numbering": 1,
   "nav_menu": {},
   "number_sections": true,
   "sideBar": false,
   "skip_h1_title": false,
   "title_cell": "Table of Contents",
   "title_sidebar": "Contents",
   "toc_cell": false,
   "toc_position": {
    "height": "453.667px",
    "left": "116px",
    "top": "386px",
    "width": "307.667px"
   },
   "toc_section_display": true,
   "toc_window_display": true
  }
 },
 "nbformat": 4,
 "nbformat_minor": 2
}
