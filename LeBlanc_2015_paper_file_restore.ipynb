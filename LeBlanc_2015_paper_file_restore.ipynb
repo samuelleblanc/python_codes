{
 "cells": [
  {
   "cell_type": "markdown",
   "metadata": {},
   "source": [
    "# Intro\n",
    "Name:  \n",
    "\n",
    "    LeBlanc_2015_paper_file_restore\n",
    "\n",
    "Purpose:  \n",
    "\n",
    "    Laod the cloud property retrieval data from the paper, for saving into a shareable format with Kokhanovsky\n",
    "  \n",
    "Input:\n",
    "\n",
    "    none at command line\n",
    "  \n",
    "Output:\n",
    "\n",
    "    ict file save\n",
    "  \n",
    "Keywords:\n",
    "\n",
    "    none\n",
    "  \n",
    "Dependencies:\n",
    "\n",
    "    - Sp_parameters.py : for Sp class definition, and for defining the functions used to build parameters\n",
    "    - matplotlib\n",
    "    - mpltools\n",
    "    - numpy\n",
    "    - scipy : for saving and reading\n",
    "    - plotting_utils (user defined plotting routines)\n",
    "    - hdf5storage\n",
    "  \n",
    "Needed Files:\n",
    "\n",
    "  - file.rc : for consistent creation of look of matplotlib figures\n",
    "  - retrieved_kisq_20120525_v9.out  retrieved_kisq_20120806_v9.out  retrieved_kisq_20130110_v9.out\n",
    "  \n",
    " Modification History:\n",
    " \n",
    "     Written: by Samuel LeBlanc, Santa Cruz, 2019-11-29"
   ]
  },
  {
   "cell_type": "markdown",
   "metadata": {},
   "source": [
    "# Import modules"
   ]
  },
  {
   "cell_type": "code",
   "execution_count": 73,
   "metadata": {
    "ExecuteTime": {
     "end_time": "2020-01-15T23:48:28.457324Z",
     "start_time": "2020-01-15T23:48:28.448834Z"
    }
   },
   "outputs": [],
   "source": [
    "import numpy as np\n",
    "import hdf5storage as hs\n",
    "import os\n",
    "import write_utils as wu\n",
    "import scipy.io as sio\n",
    "from path_utils import getpath\n",
    "import matplotlib.pyplot as plt"
   ]
  },
  {
   "cell_type": "code",
   "execution_count": 2,
   "metadata": {
    "ExecuteTime": {
     "end_time": "2020-01-14T19:06:08.615335Z",
     "start_time": "2020-01-14T19:06:08.543587Z"
    }
   },
   "outputs": [],
   "source": [
    "%matplotlib notebook"
   ]
  },
  {
   "cell_type": "code",
   "execution_count": 3,
   "metadata": {
    "ExecuteTime": {
     "end_time": "2020-01-14T19:06:08.666358Z",
     "start_time": "2020-01-14T19:06:08.620808Z"
    }
   },
   "outputs": [],
   "source": [
    "from Sp_parameters import smooth\n",
    "from load_utils import load_from_json, mat2py_time,toutc\n",
    "import write_utils as wu"
   ]
  },
  {
   "cell_type": "code",
   "execution_count": 4,
   "metadata": {
    "ExecuteTime": {
     "end_time": "2020-01-14T19:06:08.781629Z",
     "start_time": "2020-01-14T19:06:08.671482Z"
    }
   },
   "outputs": [],
   "source": [
    "import Sun_utils as su\n",
    "from datetime import datetime\n",
    "import pytz\n",
    "import map_utils as mu"
   ]
  },
  {
   "cell_type": "code",
   "execution_count": 5,
   "metadata": {
    "ExecuteTime": {
     "end_time": "2020-01-14T19:06:08.793577Z",
     "start_time": "2020-01-14T19:06:08.787746Z"
    }
   },
   "outputs": [],
   "source": [
    "name = 'SSFR3'"
   ]
  },
  {
   "cell_type": "code",
   "execution_count": 6,
   "metadata": {
    "ExecuteTime": {
     "end_time": "2020-01-14T19:06:08.808720Z",
     "start_time": "2020-01-14T19:06:08.799966Z"
    }
   },
   "outputs": [],
   "source": [
    "vv = 'v9'"
   ]
  },
  {
   "cell_type": "code",
   "execution_count": 7,
   "metadata": {
    "ExecuteTime": {
     "end_time": "2020-01-14T19:06:08.831629Z",
     "start_time": "2020-01-14T19:06:08.815110Z"
    }
   },
   "outputs": [
    {
     "name": "stdout",
     "output_type": "stream",
     "text": [
      "Return path named:  SSFR3 /mnt/c/Users/lebla/Research/SSFR3/\n",
      "Return path named:  SSFR3 /mnt/c/Users/lebla/Research/SSFR3/\n"
     ]
    }
   ],
   "source": [
    "fp = getpath('SSFR3')\n",
    "fp_dat = getpath('SSFR3')+'data/'"
   ]
  },
  {
   "cell_type": "markdown",
   "metadata": {},
   "source": [
    "# Load the files"
   ]
  },
  {
   "cell_type": "code",
   "execution_count": 8,
   "metadata": {
    "ExecuteTime": {
     "end_time": "2020-01-14T19:06:08.846381Z",
     "start_time": "2020-01-14T19:06:08.838831Z"
    }
   },
   "outputs": [],
   "source": [
    "days = ['20120525','20120806','20130110']\n",
    "labels = ['Liquid','Mixed-phase','Ice']"
   ]
  },
  {
   "cell_type": "code",
   "execution_count": 9,
   "metadata": {
    "ExecuteTime": {
     "end_time": "2020-01-14T19:32:24.109342Z",
     "start_time": "2020-01-14T19:32:24.102597Z"
    }
   },
   "outputs": [],
   "source": [
    "times = [[15.0,16.0],[22.0,23.0],[17.5,19.5]]"
   ]
  },
  {
   "cell_type": "markdown",
   "metadata": {},
   "source": [
    "## Load the 15 parameters retrievals"
   ]
  },
  {
   "cell_type": "code",
   "execution_count": 10,
   "metadata": {
    "ExecuteTime": {
     "end_time": "2020-01-14T19:32:26.428718Z",
     "start_time": "2020-01-14T19:32:26.398463Z"
    }
   },
   "outputs": [],
   "source": [
    "f_liq = sio.idl.readsav(fp_dat+'retrieved_kisq_{d}_{v}.out'.format(d=days[0],v=vv))\n",
    "f_mix = sio.idl.readsav(fp_dat+'retrieved_kisq_{d}_{v}.out'.format(d=days[1],v=vv))\n",
    "f_ice = sio.idl.readsav(fp_dat+'retrieved_kisq_{d}_{v}.out'.format(d=days[2],v=vv))"
   ]
  },
  {
   "cell_type": "code",
   "execution_count": 11,
   "metadata": {
    "ExecuteTime": {
     "end_time": "2020-01-14T19:32:26.872053Z",
     "start_time": "2020-01-14T19:32:26.857015Z"
    }
   },
   "outputs": [
    {
     "data": {
      "text/plain": [
       "['wp_err',\n",
       " 'ref_err',\n",
       " 'ki_rtm',\n",
       " 'wp_rtm',\n",
       " 'ref_rtm',\n",
       " 'tau_rtm',\n",
       " 'tau_err',\n",
       " 'tmhrs']"
      ]
     },
     "execution_count": 11,
     "metadata": {},
     "output_type": "execute_result"
    }
   ],
   "source": [
    "f_liq.keys()"
   ]
  },
  {
   "cell_type": "markdown",
   "metadata": {},
   "source": [
    "## Load the slope retrievals"
   ]
  },
  {
   "cell_type": "code",
   "execution_count": 12,
   "metadata": {
    "ExecuteTime": {
     "end_time": "2020-01-14T19:32:28.189443Z",
     "start_time": "2020-01-14T19:32:28.158739Z"
    }
   },
   "outputs": [],
   "source": [
    "sl_liq = sio.idl.readsav(fp_dat+'{d}_cld_parms3_1600nm.out'.format(d=days[0]))\n",
    "sl_mix = sio.idl.readsav(fp_dat+'{d}_cld_parms3_1600nm.out'.format(d=days[1]))\n",
    "sl_ice = sio.idl.readsav(fp_dat+'{d}_cld_parms3_ic_1600nm.out'.format(d=days[2]))"
   ]
  },
  {
   "cell_type": "code",
   "execution_count": 13,
   "metadata": {
    "ExecuteTime": {
     "end_time": "2020-01-14T19:32:28.751579Z",
     "start_time": "2020-01-14T19:32:28.742086Z"
    }
   },
   "outputs": [
    {
     "data": {
      "text/plain": [
       "['tau', 'etau', 'eref', 'ref', 'tmhrs']"
      ]
     },
     "execution_count": 13,
     "metadata": {},
     "output_type": "execute_result"
    }
   ],
   "source": [
    "sl_liq.keys()"
   ]
  },
  {
   "cell_type": "markdown",
   "metadata": {},
   "source": [
    "## Load the 2wvl retrievals"
   ]
  },
  {
   "cell_type": "code",
   "execution_count": 14,
   "metadata": {
    "ExecuteTime": {
     "end_time": "2020-01-14T19:32:30.103261Z",
     "start_time": "2020-01-14T19:32:30.068988Z"
    }
   },
   "outputs": [],
   "source": [
    "twv_liq = sio.idl.readsav(fp_dat+'{d}_cld_parms3_2wvl_1600nm.out'.format(d=days[0]))\n",
    "twv_mix = sio.idl.readsav(fp_dat+'{d}_cld_parms3_2wvl_1600nm.out'.format(d=days[1]))\n",
    "twv_ice = sio.idl.readsav(fp_dat+'{d}_cld_parms3_ic_2wvl_1600nm.out'.format(d=days[2]))"
   ]
  },
  {
   "cell_type": "code",
   "execution_count": 15,
   "metadata": {
    "ExecuteTime": {
     "end_time": "2020-01-14T19:32:30.615850Z",
     "start_time": "2020-01-14T19:32:30.604853Z"
    }
   },
   "outputs": [
    {
     "data": {
      "text/plain": [
       "['tau', 'etau', 'eref', 'ref', 'tmhrs']"
      ]
     },
     "execution_count": 15,
     "metadata": {},
     "output_type": "execute_result"
    }
   ],
   "source": [
    "twv_liq.keys()"
   ]
  },
  {
   "cell_type": "markdown",
   "metadata": {},
   "source": [
    "## Load the spectra"
   ]
  },
  {
   "cell_type": "code",
   "execution_count": 16,
   "metadata": {
    "ExecuteTime": {
     "end_time": "2020-01-14T19:32:34.528210Z",
     "start_time": "2020-01-14T19:32:32.198579Z"
    }
   },
   "outputs": [],
   "source": [
    "sp_liq = sio.idl.readsav(fp_dat+'{d}_calibspcs.out'.format(d=days[0],v=vv))\n",
    "sp_mix = sio.idl.readsav(fp_dat+'{d}_calibspcs.out'.format(d=days[1],v=vv))\n",
    "sp_ice = sio.idl.readsav(fp_dat+'{d}_calibspcs.out'.format(d=days[2],v=vv))"
   ]
  },
  {
   "cell_type": "code",
   "execution_count": 17,
   "metadata": {
    "ExecuteTime": {
     "end_time": "2020-01-14T19:32:34.546761Z",
     "start_time": "2020-01-14T19:32:34.534315Z"
    }
   },
   "outputs": [
    {
     "data": {
      "text/plain": [
       "['status',\n",
       " 'darks',\n",
       " 'zenlambda',\n",
       " 'zer',\n",
       " 'nadlambda',\n",
       " 'nspectra',\n",
       " 'zspectra',\n",
       " 'sat',\n",
       " 'ner',\n",
       " 'tmhrs']"
      ]
     },
     "execution_count": 17,
     "metadata": {},
     "output_type": "execute_result"
    }
   ],
   "source": [
    "sp_liq.keys()"
   ]
  },
  {
   "cell_type": "code",
   "execution_count": 18,
   "metadata": {
    "ExecuteTime": {
     "end_time": "2020-01-14T19:32:34.566852Z",
     "start_time": "2020-01-14T19:32:34.552902Z"
    }
   },
   "outputs": [
    {
     "data": {
      "text/plain": [
       "(53096, 393)"
      ]
     },
     "execution_count": 18,
     "metadata": {},
     "output_type": "execute_result"
    }
   ],
   "source": [
    "sp_liq['zspectra'].shape"
   ]
  },
  {
   "cell_type": "code",
   "execution_count": 19,
   "metadata": {
    "ExecuteTime": {
     "end_time": "2020-01-14T19:32:34.583958Z",
     "start_time": "2020-01-14T19:32:34.573240Z"
    }
   },
   "outputs": [
    {
     "data": {
      "text/plain": [
       "(53096,)"
      ]
     },
     "execution_count": 19,
     "metadata": {},
     "output_type": "execute_result"
    }
   ],
   "source": [
    "sp_liq['tmhrs'].shape"
   ]
  },
  {
   "cell_type": "code",
   "execution_count": 20,
   "metadata": {
    "ExecuteTime": {
     "end_time": "2020-01-14T19:32:34.601582Z",
     "start_time": "2020-01-14T19:32:34.589476Z"
    }
   },
   "outputs": [
    {
     "data": {
      "text/plain": [
       "array(['Measurement date    : 2012 05 25',\n",
       "       'Processing date     : 2012 11 06',\n",
       "       'Platform            : Skywatch', 'Integration times   : ',\n",
       "       '                   25          50         100         300',\n",
       "       'Response functions  :',\n",
       "       'Zenith Si           : /home/leblanc/DC3_SEAC4RS/cal/SSFR3/20120419_765C_resp_25_zensi.dat',\n",
       "       'Zenith InGaAs       : /home/leblanc/DC3_SEAC4RS/cal/SSFR3/20120419_765C_resp_50_zenir.dat',\n",
       "       'Nadir Si            : 20120508_506C_resp_100_nadsi.dat',\n",
       "       'Nadir InGaAs        : 20120508_506C_resp_300_nadir.dat',\n",
       "       'Dark Mode           : I',\n",
       "       'Saturation          :          398 spectra /       53096',\n",
       "       'Joinder Zenith      :       981.000',\n",
       "       'Joinder Nadir       :       981.000',\n",
       "       'Number data files   :          590',\n",
       "       'Number of darks     :       49',\n",
       "       'Data file location  : /argus/SSFR3/data//20120525/*.OSA'],\n",
       "      dtype=object)"
      ]
     },
     "execution_count": 20,
     "metadata": {},
     "output_type": "execute_result"
    }
   ],
   "source": [
    "sp_liq['status']"
   ]
  },
  {
   "cell_type": "markdown",
   "metadata": {},
   "source": [
    "## Load the Kurudz solar downwelling"
   ]
  },
  {
   "cell_type": "code",
   "execution_count": 23,
   "metadata": {
    "ExecuteTime": {
     "end_time": "2020-01-15T21:25:09.697831Z",
     "start_time": "2020-01-15T21:25:09.689583Z"
    }
   },
   "outputs": [
    {
     "name": "stdout",
     "output_type": "stream",
     "text": [
      "Return path named:  uvspec_dat /mnt/c/Users/lebla/Research/libradtran/libRadtran-2.0.2/data/\n"
     ]
    }
   ],
   "source": [
    "fso = getpath('uvspec_dat')"
   ]
  },
  {
   "cell_type": "code",
   "execution_count": 26,
   "metadata": {
    "ExecuteTime": {
     "end_time": "2020-01-15T21:26:31.503125Z",
     "start_time": "2020-01-15T21:26:31.459852Z"
    }
   },
   "outputs": [],
   "source": [
    "ku = np.genfromtxt(fso+'solar_flux/kurudz_1.0nm.dat')  # mW / (m2 nm), with wavelength in nm"
   ]
  },
  {
   "cell_type": "code",
   "execution_count": 27,
   "metadata": {
    "ExecuteTime": {
     "end_time": "2020-01-15T21:27:43.507606Z",
     "start_time": "2020-01-15T21:27:43.497412Z"
    }
   },
   "outputs": [
    {
     "data": {
      "text/plain": [
       "array([[2.500000e+02, 6.352968e+01],\n",
       "       [2.510000e+02, 4.395971e+01],\n",
       "       [2.520000e+02, 2.909898e+01],\n",
       "       ...,\n",
       "       [9.998000e+03, 2.441999e-01],\n",
       "       [9.999000e+03, 2.441391e-01],\n",
       "       [1.000000e+04, 2.436120e-01]])"
      ]
     },
     "execution_count": 27,
     "metadata": {},
     "output_type": "execute_result"
    }
   ],
   "source": [
    "ku"
   ]
  },
  {
   "cell_type": "code",
   "execution_count": 45,
   "metadata": {
    "ExecuteTime": {
     "end_time": "2020-01-15T21:44:43.557334Z",
     "start_time": "2020-01-15T21:44:43.547788Z"
    }
   },
   "outputs": [
    {
     "data": {
      "text/plain": [
       "980.0"
      ]
     },
     "execution_count": 45,
     "metadata": {},
     "output_type": "execute_result"
    }
   ],
   "source": [
    "ku[980-250,0]"
   ]
  },
  {
   "cell_type": "code",
   "execution_count": 29,
   "metadata": {
    "ExecuteTime": {
     "end_time": "2020-01-15T21:28:26.213662Z",
     "start_time": "2020-01-15T21:28:26.202524Z"
    }
   },
   "outputs": [],
   "source": [
    "vis_slit = np.genfromtxt(fp+'pro/rtm2/vis_1nm.dat')"
   ]
  },
  {
   "cell_type": "code",
   "execution_count": 30,
   "metadata": {
    "ExecuteTime": {
     "end_time": "2020-01-15T21:28:46.927229Z",
     "start_time": "2020-01-15T21:28:46.914810Z"
    }
   },
   "outputs": [],
   "source": [
    "nir_slit = np.genfromtxt(fp+'pro/rtm2/nir_1nm.dat')"
   ]
  },
  {
   "cell_type": "markdown",
   "metadata": {},
   "source": [
    "Calculate the downwelling solar irradiance at TOA by convolving the slit functions and the kurudz"
   ]
  },
  {
   "cell_type": "code",
   "execution_count": 36,
   "metadata": {
    "ExecuteTime": {
     "end_time": "2020-01-15T21:37:24.891445Z",
     "start_time": "2020-01-15T21:37:24.884031Z"
    }
   },
   "outputs": [],
   "source": [
    "wvl_vis = sp_liq['zenlambda'][0:194]"
   ]
  },
  {
   "cell_type": "code",
   "execution_count": 38,
   "metadata": {
    "ExecuteTime": {
     "end_time": "2020-01-15T21:37:39.640844Z",
     "start_time": "2020-01-15T21:37:39.634813Z"
    }
   },
   "outputs": [],
   "source": [
    "wvl_nir = sp_liq['zenlambda'][194:]"
   ]
  },
  {
   "cell_type": "code",
   "execution_count": 43,
   "metadata": {
    "ExecuteTime": {
     "end_time": "2020-01-15T21:39:33.496975Z",
     "start_time": "2020-01-15T21:39:33.489910Z"
    }
   },
   "outputs": [],
   "source": [
    "vis_slit[:,1] = vis_slit[:,1]/np.sum(vis_slit[:,1])"
   ]
  },
  {
   "cell_type": "code",
   "execution_count": 44,
   "metadata": {
    "ExecuteTime": {
     "end_time": "2020-01-15T21:39:49.042705Z",
     "start_time": "2020-01-15T21:39:49.035359Z"
    }
   },
   "outputs": [],
   "source": [
    "nir_slit[:,1] = nir_slit[:,1]/np.sum(nir_slit[:,1])"
   ]
  },
  {
   "cell_type": "code",
   "execution_count": 64,
   "metadata": {
    "ExecuteTime": {
     "end_time": "2020-01-15T21:54:21.938717Z",
     "start_time": "2020-01-15T21:54:21.909550Z"
    },
    "scrolled": true
   },
   "outputs": [],
   "source": [
    "ku_vis = np.array([np.sum([ku[i+7+int(j),1]*v for j,v in vis_slit]) for i,k in enumerate(ku[7:980-250,1])])"
   ]
  },
  {
   "cell_type": "code",
   "execution_count": 65,
   "metadata": {
    "ExecuteTime": {
     "end_time": "2020-01-15T21:54:22.502891Z",
     "start_time": "2020-01-15T21:54:22.482800Z"
    }
   },
   "outputs": [
    {
     "data": {
      "text/plain": [
       "array([ 124.10050785,  125.01959358,  115.79841606,  108.61789525,\n",
       "        117.35934043,  151.31395305,  213.44901876,  285.21831327,\n",
       "        340.31193372,  365.62914122,  364.90905455,  354.35178946,\n",
       "        339.92885857,  313.98624979,  274.9636492 ,  234.30685893,\n",
       "        200.38074618,  184.27528518,  187.60689558,  197.30440607,\n",
       "        198.36007712,  181.27817778,  159.44296413,  161.95810871,\n",
       "        200.18652621,  249.20701489,  273.9708007 ,  265.74466571,\n",
       "        257.40240016,  283.6528036 ,  347.87031666,  433.50309005,\n",
       "        516.1850513 ,  582.77745855,  625.32962293,  632.93851016,\n",
       "        618.20923004,  600.08896827,  588.11697965,  580.90806487,\n",
       "        581.33494542,  587.78724946,  599.7816002 ,  620.76525184,\n",
       "        637.28741009,  660.34122574,  684.99130736,  702.52902538,\n",
       "        712.71854836,  714.02320566,  714.5016885 ,  713.81277709,\n",
       "        720.54716707,  740.80602461,  762.32911606,  778.7445344 ,\n",
       "        779.42778434,  763.06840391,  747.57211625,  738.6588626 ,\n",
       "        738.3635105 ,  747.06130302,  759.29089721,  763.91598597,\n",
       "        761.3406165 ,  754.69503789,  763.65363311,  809.30953516,\n",
       "        886.9914161 ,  964.04478154, 1009.06890591, 1021.9507088 ,\n",
       "       1015.54630186, 1002.99834776,  992.60484861,  982.16753325,\n",
       "        965.8206208 ,  935.64760993,  884.687772  ,  836.35647482,\n",
       "        818.03956129,  830.86265699,  860.08576649,  876.82670315,\n",
       "        877.24888439,  874.98943695,  885.88029416,  925.25378377,\n",
       "        980.08381625, 1029.61102148, 1061.37706216, 1076.40253865,\n",
       "       1086.96456794, 1096.41110185, 1100.16920234, 1098.66936075,\n",
       "       1102.154836  , 1101.48847701, 1072.69834976, 1007.02970239,\n",
       "        933.66862441,  899.90453797,  925.33150994,  978.91639024,\n",
       "       1026.27614863, 1059.30730193, 1086.38470958, 1127.80993954,\n",
       "       1180.19813223, 1222.97347683, 1242.75928081, 1236.83415313,\n",
       "       1213.52052329, 1184.15052537, 1148.57855383, 1100.27067315,\n",
       "       1045.3055293 , 1015.17278217, 1032.87742833, 1101.38259562,\n",
       "       1188.71034999, 1231.51206995, 1210.68908362, 1144.16924255,\n",
       "       1044.12147579,  942.50314827,  869.57314116,  849.07954696,\n",
       "        875.34378093,  920.26503586,  965.41292024, 1024.55293746,\n",
       "       1107.12595829, 1173.79527014, 1177.57892891, 1107.05539698,\n",
       "       1025.28952739, 1001.48460432, 1035.89291901, 1101.06789327,\n",
       "       1204.97904868, 1350.56167617, 1518.82850646, 1653.45120014,\n",
       "       1707.75384344, 1718.31856192, 1714.63815251, 1696.7169886 ,\n",
       "       1672.47907271, 1657.46468486, 1664.43843538, 1691.85698459,\n",
       "       1720.39436009, 1749.15961098, 1772.92599426, 1788.99152795,\n",
       "       1798.66727936, 1797.44210659, 1793.34629849, 1785.13284268,\n",
       "       1764.92588911, 1733.81732083, 1705.55998949, 1695.52093514,\n",
       "       1689.07617809, 1673.23856113, 1653.32150636, 1630.11886484,\n",
       "       1613.6632548 , 1591.33819829, 1544.00646702, 1472.26061657,\n",
       "       1393.95658633, 1355.19975411, 1394.59721749, 1485.44654731,\n",
       "       1581.20159411, 1649.96932471, 1693.54483172, 1731.24619089,\n",
       "       1744.49352859, 1734.91328018, 1731.96649499, 1754.42650819,\n",
       "       1797.58733805, 1837.78044929, 1863.43557801, 1878.19847117,\n",
       "       1886.47181047, 1906.24419304, 1940.84016838, 1984.62146658,\n",
       "       2030.14348807, 2059.74017485, 2064.64545231, 2048.04826739,\n",
       "       2027.37452872, 2020.68071435, 2034.81602174, 2052.7477623 ,\n",
       "       2058.70100155, 2055.8896099 , 2051.21749767, 2051.01812477,\n",
       "       2053.73310685, 2054.78167953, 2052.29091234, 2048.04676868,\n",
       "       2047.36014584, 2050.59037463, 2059.36360073, 2068.6334728 ,\n",
       "       2072.75696597, 2072.37409114, 2069.05089425, 2069.38503843,\n",
       "       2076.37840426, 2087.05262224, 2095.39806136, 2100.35324881,\n",
       "       2101.55108974, 2098.20780993, 2094.37495768, 2089.39356682,\n",
       "       2083.60179648, 2073.72493778, 2047.74596471, 1999.12828086,\n",
       "       1935.38827495, 1891.16402017, 1884.90622107, 1911.08467972,\n",
       "       1952.31297635, 1973.93855843, 1979.31510833, 1983.77467262,\n",
       "       1990.32623689, 2006.62147921, 2015.66639554, 2005.04082936,\n",
       "       1980.24459162, 1949.29763315, 1923.81821391, 1906.21053527,\n",
       "       1897.49288923, 1898.72304145, 1908.95101659, 1932.03464464,\n",
       "       1958.85586176, 1973.2479967 , 1973.88872639, 1965.58567505,\n",
       "       1959.24223344, 1960.73489087, 1957.1402258 , 1935.36049102,\n",
       "       1903.24701116, 1866.99807477, 1824.91068294, 1777.12265876,\n",
       "       1741.57828471, 1732.3124055 , 1759.87335598, 1808.66990529,\n",
       "       1845.10422469, 1866.87747445, 1877.18661392, 1876.4063581 ,\n",
       "       1861.00211384, 1840.51872427, 1838.02820187, 1862.149954  ,\n",
       "       1899.77221605, 1926.91377374, 1920.07141365, 1892.78693368,\n",
       "       1870.7869478 , 1867.16672416, 1886.28431751, 1907.44155056,\n",
       "       1914.57216392, 1908.70522202, 1892.61536835, 1874.74704444,\n",
       "       1864.50023015, 1867.97626357, 1883.99011123, 1898.53359306,\n",
       "       1901.72613746, 1898.26850321, 1887.97405651, 1879.4536511 ,\n",
       "       1874.18974925, 1873.47389468, 1879.25733923, 1884.1945863 ,\n",
       "       1889.62783298, 1890.67424913, 1882.57399742, 1868.91984009,\n",
       "       1852.5095156 , 1838.99328267, 1836.78395758, 1845.55571956,\n",
       "       1855.60537293, 1864.55941642, 1865.04945723, 1857.08783362,\n",
       "       1848.01666359, 1842.34045492, 1843.60147929, 1848.77414926,\n",
       "       1852.16177684, 1851.08616765, 1856.59703792, 1868.99538447,\n",
       "       1879.36929701, 1880.05617211, 1870.85432769, 1861.72762232,\n",
       "       1855.53261333, 1852.7396621 , 1852.58449826, 1853.76066664,\n",
       "       1858.26757379, 1861.72114952, 1860.28674521, 1852.76455885,\n",
       "       1838.73892689, 1823.55982695, 1806.07901604, 1785.17239859,\n",
       "       1770.67350898, 1768.77771413, 1780.15143402, 1796.42253955,\n",
       "       1805.26485348, 1808.40029616, 1811.38494514, 1812.1580422 ,\n",
       "       1808.05883625, 1799.83507781, 1788.91385904, 1778.62117059,\n",
       "       1771.87083767, 1770.55913186, 1775.65171892, 1782.71624597,\n",
       "       1785.40931063, 1780.43118371, 1769.33030662, 1756.31242684,\n",
       "       1743.60576369, 1732.13316845, 1720.19926014, 1705.70450403,\n",
       "       1689.37982281, 1674.95179564, 1664.65553251, 1662.28175015,\n",
       "       1668.89034481, 1680.65251052, 1694.76179658, 1701.3654135 ,\n",
       "       1695.56867314, 1683.05238778, 1667.94233994, 1655.54122133,\n",
       "       1650.88412695, 1653.73836075, 1662.62323686, 1671.45663075,\n",
       "       1672.53988435, 1665.42625629, 1653.93272325, 1646.01172291,\n",
       "       1642.03019854, 1639.3698563 , 1637.15198142, 1635.54289448,\n",
       "       1637.19756201, 1637.2846373 , 1632.16846758, 1622.56974475,\n",
       "       1613.93501227, 1610.473437  , 1609.69975945, 1607.6642502 ,\n",
       "       1603.40643029, 1599.24741866, 1596.79577831, 1593.07467759,\n",
       "       1586.15096891, 1580.77016828, 1579.20833238, 1578.92940513,\n",
       "       1570.27863995, 1541.0752771 , 1499.03904116, 1469.28068367,\n",
       "       1470.04235215, 1497.7951828 , 1533.4742615 , 1555.79794225,\n",
       "       1564.07646079, 1565.18840434, 1561.38419547, 1555.90811395,\n",
       "       1551.15100842, 1547.9086761 , 1546.14820846, 1544.58184495,\n",
       "       1541.91937773, 1537.6542906 , 1531.91073611, 1527.09931195,\n",
       "       1524.55606608, 1522.93341751, 1521.23350727, 1518.72986814,\n",
       "       1516.07214054, 1512.2116288 , 1506.66329524, 1501.36884639,\n",
       "       1496.7775165 , 1493.39234173, 1489.33888567, 1483.60498773,\n",
       "       1477.58891466, 1475.24841753, 1476.67418821, 1479.44065654,\n",
       "       1480.45323515, 1476.5846478 , 1470.33229521, 1463.949543  ,\n",
       "       1458.77885965, 1454.72953821, 1451.4025756 , 1447.60263335,\n",
       "       1443.60925336, 1440.20700541, 1434.89574514, 1427.32197048,\n",
       "       1419.47303982, 1414.05245773, 1413.61383588, 1415.88429447,\n",
       "       1416.30012376, 1413.87950113, 1410.31934894, 1406.06418699,\n",
       "       1402.55668073, 1398.00388154, 1391.63376756, 1385.60124963,\n",
       "       1379.57903684, 1374.13055327, 1369.30019797, 1362.83089968,\n",
       "       1355.16034454, 1348.10572857, 1342.81008216, 1341.56330997,\n",
       "       1343.73686679, 1347.23147294, 1349.96427271, 1350.47621715,\n",
       "       1348.93454559, 1345.763051  , 1339.47310437, 1330.82546096,\n",
       "       1323.34033733, 1319.37325111, 1320.12901322, 1322.498087  ,\n",
       "       1323.64920853, 1323.10256095, 1319.97982406, 1315.3225063 ,\n",
       "       1308.35448214, 1299.45956986, 1290.04708276, 1281.1220996 ,\n",
       "       1275.89116454, 1276.16412881, 1278.98344154, 1281.89647865,\n",
       "       1284.0548546 , 1284.5754696 , 1283.65806594, 1280.7796015 ,\n",
       "       1275.0590259 , 1269.72179205, 1267.71342459, 1268.33790079,\n",
       "       1270.23425569, 1270.21008923, 1266.99933099, 1262.36022219,\n",
       "       1257.16289474, 1252.73137611, 1249.38369735, 1245.95195469,\n",
       "       1243.11518039, 1242.37524287, 1241.97030661, 1238.76869485,\n",
       "       1230.35509963, 1220.28350924, 1215.05326316, 1215.34246401,\n",
       "       1217.5383957 , 1216.63877436, 1212.86604748, 1209.14841546,\n",
       "       1205.72510263, 1202.59367478, 1201.83076985, 1202.71844812,\n",
       "       1203.8578308 , 1203.70544   , 1200.53879371, 1196.9672881 ,\n",
       "       1193.71642082, 1190.08713473, 1186.7480074 , 1183.46838173,\n",
       "       1180.63830093, 1179.11738623, 1177.50147606, 1175.55994177,\n",
       "       1172.24492895, 1166.25764807, 1158.22002759, 1149.21924772,\n",
       "       1141.3838768 , 1137.09030175, 1137.60609037, 1141.2293976 ,\n",
       "       1144.92162145, 1145.524545  , 1142.63686433, 1139.21406877,\n",
       "       1136.26355138, 1133.2816213 , 1129.54597816, 1124.6125328 ,\n",
       "       1121.08374894, 1118.84751303, 1116.13147789, 1112.205269  ,\n",
       "       1107.82016467, 1105.99411061, 1106.76260956, 1108.18742604,\n",
       "       1108.04867854, 1105.58910008, 1101.92633509, 1097.4300639 ,\n",
       "       1090.97616196, 1081.70525017, 1071.2949816 , 1063.20946893,\n",
       "       1059.53877828, 1060.8891108 , 1064.70819549, 1068.51714152,\n",
       "       1071.85886108, 1073.08644433, 1072.37735665, 1069.50172284,\n",
       "       1063.68320697, 1056.24564406, 1049.07741466, 1043.15455437,\n",
       "       1039.94489777, 1039.16531293, 1039.93231322, 1040.91446107,\n",
       "       1039.49563571, 1036.00291899, 1033.21627432, 1032.14791066,\n",
       "       1031.37402631, 1028.85262402, 1023.82564224, 1019.4280987 ,\n",
       "       1016.35553423, 1013.30446444, 1008.9312267 ,  999.74440626,\n",
       "        986.56379466,  975.99580114,  966.24005186,  953.0794713 ,\n",
       "        933.53778532,  918.40326384,  923.99190514,  947.24707678,\n",
       "        973.07749518,  985.21920323,  985.0487089 ,  981.97859935,\n",
       "        979.82133182,  978.05677495,  972.51302349,  956.91634628,\n",
       "        931.54899913,  910.15252302,  904.87212322,  916.5977846 ,\n",
       "        936.617036  ,  951.08807793,  957.73612488,  959.0189858 ,\n",
       "        955.50236632,  950.79977488,  947.96673602,  947.7193493 ,\n",
       "        948.40716446,  947.1755386 ,  942.18280935,  935.15668349,\n",
       "        930.43719927,  928.46632977,  928.96154255,  929.29175198,\n",
       "        926.36401261,  923.14408179,  922.22775848,  924.30852362,\n",
       "        927.92028494,  929.35981142,  927.09344329,  922.89853228,\n",
       "        919.07978432,  916.18857634,  915.06730294,  914.19607201,\n",
       "        911.94978025,  907.80884735,  900.08077963,  890.98731169,\n",
       "        884.17090265,  883.7855286 ,  889.24901498,  895.21163391,\n",
       "        896.87704208,  893.33982188,  886.8276774 ,  880.06816547,\n",
       "        875.11815453,  872.81639437,  874.20884131,  877.71218229,\n",
       "        880.21512491,  880.34829626,  878.0042459 ,  873.91205381,\n",
       "        870.04751378,  866.53225675,  861.72128128,  854.78903816,\n",
       "        845.49514419,  836.23251556,  831.54838963,  831.71691749,\n",
       "        834.58218073,  838.92049435,  842.48739656,  845.19372389,\n",
       "        846.6946213 ,  846.11799086,  845.04545459,  844.1356887 ,\n",
       "        842.35940936,  839.34830512,  836.0562373 ,  833.59973329,\n",
       "        831.67600765,  829.12890634,  824.23385885,  816.72828081,\n",
       "        809.59337586,  805.85686621,  805.58143807,  807.95718187,\n",
       "        810.79563251,  812.47498715,  814.09959373,  814.67468774,\n",
       "        813.73904241,  811.57915179,  808.15727063,  803.32829399,\n",
       "        796.5063884 ,  788.83505538,  784.48529253,  784.99703366,\n",
       "        789.17480782,  793.29763387,  793.68518266,  791.79917333,\n",
       "        788.95540746,  785.91645149,  783.23300472,  780.71111474,\n",
       "        778.29160163,  777.06861456,  776.79804761,  777.0822689 ,\n",
       "        777.4452607 ,  776.84403288,  775.73749781,  773.58783975,\n",
       "        770.70984067,  768.22216527,  766.33911349,  764.9202893 ,\n",
       "        763.62186711,  761.73401441,  760.47542476])"
      ]
     },
     "execution_count": 65,
     "metadata": {},
     "output_type": "execute_result"
    }
   ],
   "source": [
    "ku_vis"
   ]
  },
  {
   "cell_type": "code",
   "execution_count": 71,
   "metadata": {
    "ExecuteTime": {
     "end_time": "2020-01-15T21:56:54.136193Z",
     "start_time": "2020-01-15T21:56:53.715046Z"
    }
   },
   "outputs": [],
   "source": [
    "ku_nir = np.array([np.sum([ku[i+980-250+int(j),1]*v for j,v in nir_slit]) for i,k in enumerate(ku[980-250:-15,1])])"
   ]
  },
  {
   "cell_type": "code",
   "execution_count": 72,
   "metadata": {
    "ExecuteTime": {
     "end_time": "2020-01-15T21:56:55.094407Z",
     "start_time": "2020-01-15T21:56:55.048903Z"
    }
   },
   "outputs": [
    {
     "data": {
      "application/javascript": [
       "/* Put everything inside the global mpl namespace */\n",
       "window.mpl = {};\n",
       "\n",
       "\n",
       "mpl.get_websocket_type = function() {\n",
       "    if (typeof(WebSocket) !== 'undefined') {\n",
       "        return WebSocket;\n",
       "    } else if (typeof(MozWebSocket) !== 'undefined') {\n",
       "        return MozWebSocket;\n",
       "    } else {\n",
       "        alert('Your browser does not have WebSocket support.' +\n",
       "              'Please try Chrome, Safari or Firefox ≥ 6. ' +\n",
       "              'Firefox 4 and 5 are also supported but you ' +\n",
       "              'have to enable WebSockets in about:config.');\n",
       "    };\n",
       "}\n",
       "\n",
       "mpl.figure = function(figure_id, websocket, ondownload, parent_element) {\n",
       "    this.id = figure_id;\n",
       "\n",
       "    this.ws = websocket;\n",
       "\n",
       "    this.supports_binary = (this.ws.binaryType != undefined);\n",
       "\n",
       "    if (!this.supports_binary) {\n",
       "        var warnings = document.getElementById(\"mpl-warnings\");\n",
       "        if (warnings) {\n",
       "            warnings.style.display = 'block';\n",
       "            warnings.textContent = (\n",
       "                \"This browser does not support binary websocket messages. \" +\n",
       "                    \"Performance may be slow.\");\n",
       "        }\n",
       "    }\n",
       "\n",
       "    this.imageObj = new Image();\n",
       "\n",
       "    this.context = undefined;\n",
       "    this.message = undefined;\n",
       "    this.canvas = undefined;\n",
       "    this.rubberband_canvas = undefined;\n",
       "    this.rubberband_context = undefined;\n",
       "    this.format_dropdown = undefined;\n",
       "\n",
       "    this.image_mode = 'full';\n",
       "\n",
       "    this.root = $('<div/>');\n",
       "    this._root_extra_style(this.root)\n",
       "    this.root.attr('style', 'display: inline-block');\n",
       "\n",
       "    $(parent_element).append(this.root);\n",
       "\n",
       "    this._init_header(this);\n",
       "    this._init_canvas(this);\n",
       "    this._init_toolbar(this);\n",
       "\n",
       "    var fig = this;\n",
       "\n",
       "    this.waiting = false;\n",
       "\n",
       "    this.ws.onopen =  function () {\n",
       "            fig.send_message(\"supports_binary\", {value: fig.supports_binary});\n",
       "            fig.send_message(\"send_image_mode\", {});\n",
       "            if (mpl.ratio != 1) {\n",
       "                fig.send_message(\"set_dpi_ratio\", {'dpi_ratio': mpl.ratio});\n",
       "            }\n",
       "            fig.send_message(\"refresh\", {});\n",
       "        }\n",
       "\n",
       "    this.imageObj.onload = function() {\n",
       "            if (fig.image_mode == 'full') {\n",
       "                // Full images could contain transparency (where diff images\n",
       "                // almost always do), so we need to clear the canvas so that\n",
       "                // there is no ghosting.\n",
       "                fig.context.clearRect(0, 0, fig.canvas.width, fig.canvas.height);\n",
       "            }\n",
       "            fig.context.drawImage(fig.imageObj, 0, 0);\n",
       "        };\n",
       "\n",
       "    this.imageObj.onunload = function() {\n",
       "        fig.ws.close();\n",
       "    }\n",
       "\n",
       "    this.ws.onmessage = this._make_on_message_function(this);\n",
       "\n",
       "    this.ondownload = ondownload;\n",
       "}\n",
       "\n",
       "mpl.figure.prototype._init_header = function() {\n",
       "    var titlebar = $(\n",
       "        '<div class=\"ui-dialog-titlebar ui-widget-header ui-corner-all ' +\n",
       "        'ui-helper-clearfix\"/>');\n",
       "    var titletext = $(\n",
       "        '<div class=\"ui-dialog-title\" style=\"width: 100%; ' +\n",
       "        'text-align: center; padding: 3px;\"/>');\n",
       "    titlebar.append(titletext)\n",
       "    this.root.append(titlebar);\n",
       "    this.header = titletext[0];\n",
       "}\n",
       "\n",
       "\n",
       "\n",
       "mpl.figure.prototype._canvas_extra_style = function(canvas_div) {\n",
       "\n",
       "}\n",
       "\n",
       "\n",
       "mpl.figure.prototype._root_extra_style = function(canvas_div) {\n",
       "\n",
       "}\n",
       "\n",
       "mpl.figure.prototype._init_canvas = function() {\n",
       "    var fig = this;\n",
       "\n",
       "    var canvas_div = $('<div/>');\n",
       "\n",
       "    canvas_div.attr('style', 'position: relative; clear: both; outline: 0');\n",
       "\n",
       "    function canvas_keyboard_event(event) {\n",
       "        return fig.key_event(event, event['data']);\n",
       "    }\n",
       "\n",
       "    canvas_div.keydown('key_press', canvas_keyboard_event);\n",
       "    canvas_div.keyup('key_release', canvas_keyboard_event);\n",
       "    this.canvas_div = canvas_div\n",
       "    this._canvas_extra_style(canvas_div)\n",
       "    this.root.append(canvas_div);\n",
       "\n",
       "    var canvas = $('<canvas/>');\n",
       "    canvas.addClass('mpl-canvas');\n",
       "    canvas.attr('style', \"left: 0; top: 0; z-index: 0; outline: 0\")\n",
       "\n",
       "    this.canvas = canvas[0];\n",
       "    this.context = canvas[0].getContext(\"2d\");\n",
       "\n",
       "    var backingStore = this.context.backingStorePixelRatio ||\n",
       "\tthis.context.webkitBackingStorePixelRatio ||\n",
       "\tthis.context.mozBackingStorePixelRatio ||\n",
       "\tthis.context.msBackingStorePixelRatio ||\n",
       "\tthis.context.oBackingStorePixelRatio ||\n",
       "\tthis.context.backingStorePixelRatio || 1;\n",
       "\n",
       "    mpl.ratio = (window.devicePixelRatio || 1) / backingStore;\n",
       "\n",
       "    var rubberband = $('<canvas/>');\n",
       "    rubberband.attr('style', \"position: absolute; left: 0; top: 0; z-index: 1;\")\n",
       "\n",
       "    var pass_mouse_events = true;\n",
       "\n",
       "    canvas_div.resizable({\n",
       "        start: function(event, ui) {\n",
       "            pass_mouse_events = false;\n",
       "        },\n",
       "        resize: function(event, ui) {\n",
       "            fig.request_resize(ui.size.width, ui.size.height);\n",
       "        },\n",
       "        stop: function(event, ui) {\n",
       "            pass_mouse_events = true;\n",
       "            fig.request_resize(ui.size.width, ui.size.height);\n",
       "        },\n",
       "    });\n",
       "\n",
       "    function mouse_event_fn(event) {\n",
       "        if (pass_mouse_events)\n",
       "            return fig.mouse_event(event, event['data']);\n",
       "    }\n",
       "\n",
       "    rubberband.mousedown('button_press', mouse_event_fn);\n",
       "    rubberband.mouseup('button_release', mouse_event_fn);\n",
       "    // Throttle sequential mouse events to 1 every 20ms.\n",
       "    rubberband.mousemove('motion_notify', mouse_event_fn);\n",
       "\n",
       "    rubberband.mouseenter('figure_enter', mouse_event_fn);\n",
       "    rubberband.mouseleave('figure_leave', mouse_event_fn);\n",
       "\n",
       "    canvas_div.on(\"wheel\", function (event) {\n",
       "        event = event.originalEvent;\n",
       "        event['data'] = 'scroll'\n",
       "        if (event.deltaY < 0) {\n",
       "            event.step = 1;\n",
       "        } else {\n",
       "            event.step = -1;\n",
       "        }\n",
       "        mouse_event_fn(event);\n",
       "    });\n",
       "\n",
       "    canvas_div.append(canvas);\n",
       "    canvas_div.append(rubberband);\n",
       "\n",
       "    this.rubberband = rubberband;\n",
       "    this.rubberband_canvas = rubberband[0];\n",
       "    this.rubberband_context = rubberband[0].getContext(\"2d\");\n",
       "    this.rubberband_context.strokeStyle = \"#000000\";\n",
       "\n",
       "    this._resize_canvas = function(width, height) {\n",
       "        // Keep the size of the canvas, canvas container, and rubber band\n",
       "        // canvas in synch.\n",
       "        canvas_div.css('width', width)\n",
       "        canvas_div.css('height', height)\n",
       "\n",
       "        canvas.attr('width', width * mpl.ratio);\n",
       "        canvas.attr('height', height * mpl.ratio);\n",
       "        canvas.attr('style', 'width: ' + width + 'px; height: ' + height + 'px;');\n",
       "\n",
       "        rubberband.attr('width', width);\n",
       "        rubberband.attr('height', height);\n",
       "    }\n",
       "\n",
       "    // Set the figure to an initial 600x600px, this will subsequently be updated\n",
       "    // upon first draw.\n",
       "    this._resize_canvas(600, 600);\n",
       "\n",
       "    // Disable right mouse context menu.\n",
       "    $(this.rubberband_canvas).bind(\"contextmenu\",function(e){\n",
       "        return false;\n",
       "    });\n",
       "\n",
       "    function set_focus () {\n",
       "        canvas.focus();\n",
       "        canvas_div.focus();\n",
       "    }\n",
       "\n",
       "    window.setTimeout(set_focus, 100);\n",
       "}\n",
       "\n",
       "mpl.figure.prototype._init_toolbar = function() {\n",
       "    var fig = this;\n",
       "\n",
       "    var nav_element = $('<div/>')\n",
       "    nav_element.attr('style', 'width: 100%');\n",
       "    this.root.append(nav_element);\n",
       "\n",
       "    // Define a callback function for later on.\n",
       "    function toolbar_event(event) {\n",
       "        return fig.toolbar_button_onclick(event['data']);\n",
       "    }\n",
       "    function toolbar_mouse_event(event) {\n",
       "        return fig.toolbar_button_onmouseover(event['data']);\n",
       "    }\n",
       "\n",
       "    for(var toolbar_ind in mpl.toolbar_items) {\n",
       "        var name = mpl.toolbar_items[toolbar_ind][0];\n",
       "        var tooltip = mpl.toolbar_items[toolbar_ind][1];\n",
       "        var image = mpl.toolbar_items[toolbar_ind][2];\n",
       "        var method_name = mpl.toolbar_items[toolbar_ind][3];\n",
       "\n",
       "        if (!name) {\n",
       "            // put a spacer in here.\n",
       "            continue;\n",
       "        }\n",
       "        var button = $('<button/>');\n",
       "        button.addClass('ui-button ui-widget ui-state-default ui-corner-all ' +\n",
       "                        'ui-button-icon-only');\n",
       "        button.attr('role', 'button');\n",
       "        button.attr('aria-disabled', 'false');\n",
       "        button.click(method_name, toolbar_event);\n",
       "        button.mouseover(tooltip, toolbar_mouse_event);\n",
       "\n",
       "        var icon_img = $('<span/>');\n",
       "        icon_img.addClass('ui-button-icon-primary ui-icon');\n",
       "        icon_img.addClass(image);\n",
       "        icon_img.addClass('ui-corner-all');\n",
       "\n",
       "        var tooltip_span = $('<span/>');\n",
       "        tooltip_span.addClass('ui-button-text');\n",
       "        tooltip_span.html(tooltip);\n",
       "\n",
       "        button.append(icon_img);\n",
       "        button.append(tooltip_span);\n",
       "\n",
       "        nav_element.append(button);\n",
       "    }\n",
       "\n",
       "    var fmt_picker_span = $('<span/>');\n",
       "\n",
       "    var fmt_picker = $('<select/>');\n",
       "    fmt_picker.addClass('mpl-toolbar-option ui-widget ui-widget-content');\n",
       "    fmt_picker_span.append(fmt_picker);\n",
       "    nav_element.append(fmt_picker_span);\n",
       "    this.format_dropdown = fmt_picker[0];\n",
       "\n",
       "    for (var ind in mpl.extensions) {\n",
       "        var fmt = mpl.extensions[ind];\n",
       "        var option = $(\n",
       "            '<option/>', {selected: fmt === mpl.default_extension}).html(fmt);\n",
       "        fmt_picker.append(option)\n",
       "    }\n",
       "\n",
       "    // Add hover states to the ui-buttons\n",
       "    $( \".ui-button\" ).hover(\n",
       "        function() { $(this).addClass(\"ui-state-hover\");},\n",
       "        function() { $(this).removeClass(\"ui-state-hover\");}\n",
       "    );\n",
       "\n",
       "    var status_bar = $('<span class=\"mpl-message\"/>');\n",
       "    nav_element.append(status_bar);\n",
       "    this.message = status_bar[0];\n",
       "}\n",
       "\n",
       "mpl.figure.prototype.request_resize = function(x_pixels, y_pixels) {\n",
       "    // Request matplotlib to resize the figure. Matplotlib will then trigger a resize in the client,\n",
       "    // which will in turn request a refresh of the image.\n",
       "    this.send_message('resize', {'width': x_pixels, 'height': y_pixels});\n",
       "}\n",
       "\n",
       "mpl.figure.prototype.send_message = function(type, properties) {\n",
       "    properties['type'] = type;\n",
       "    properties['figure_id'] = this.id;\n",
       "    this.ws.send(JSON.stringify(properties));\n",
       "}\n",
       "\n",
       "mpl.figure.prototype.send_draw_message = function() {\n",
       "    if (!this.waiting) {\n",
       "        this.waiting = true;\n",
       "        this.ws.send(JSON.stringify({type: \"draw\", figure_id: this.id}));\n",
       "    }\n",
       "}\n",
       "\n",
       "\n",
       "mpl.figure.prototype.handle_save = function(fig, msg) {\n",
       "    var format_dropdown = fig.format_dropdown;\n",
       "    var format = format_dropdown.options[format_dropdown.selectedIndex].value;\n",
       "    fig.ondownload(fig, format);\n",
       "}\n",
       "\n",
       "\n",
       "mpl.figure.prototype.handle_resize = function(fig, msg) {\n",
       "    var size = msg['size'];\n",
       "    if (size[0] != fig.canvas.width || size[1] != fig.canvas.height) {\n",
       "        fig._resize_canvas(size[0], size[1]);\n",
       "        fig.send_message(\"refresh\", {});\n",
       "    };\n",
       "}\n",
       "\n",
       "mpl.figure.prototype.handle_rubberband = function(fig, msg) {\n",
       "    var x0 = msg['x0'] / mpl.ratio;\n",
       "    var y0 = (fig.canvas.height - msg['y0']) / mpl.ratio;\n",
       "    var x1 = msg['x1'] / mpl.ratio;\n",
       "    var y1 = (fig.canvas.height - msg['y1']) / mpl.ratio;\n",
       "    x0 = Math.floor(x0) + 0.5;\n",
       "    y0 = Math.floor(y0) + 0.5;\n",
       "    x1 = Math.floor(x1) + 0.5;\n",
       "    y1 = Math.floor(y1) + 0.5;\n",
       "    var min_x = Math.min(x0, x1);\n",
       "    var min_y = Math.min(y0, y1);\n",
       "    var width = Math.abs(x1 - x0);\n",
       "    var height = Math.abs(y1 - y0);\n",
       "\n",
       "    fig.rubberband_context.clearRect(\n",
       "        0, 0, fig.canvas.width, fig.canvas.height);\n",
       "\n",
       "    fig.rubberband_context.strokeRect(min_x, min_y, width, height);\n",
       "}\n",
       "\n",
       "mpl.figure.prototype.handle_figure_label = function(fig, msg) {\n",
       "    // Updates the figure title.\n",
       "    fig.header.textContent = msg['label'];\n",
       "}\n",
       "\n",
       "mpl.figure.prototype.handle_cursor = function(fig, msg) {\n",
       "    var cursor = msg['cursor'];\n",
       "    switch(cursor)\n",
       "    {\n",
       "    case 0:\n",
       "        cursor = 'pointer';\n",
       "        break;\n",
       "    case 1:\n",
       "        cursor = 'default';\n",
       "        break;\n",
       "    case 2:\n",
       "        cursor = 'crosshair';\n",
       "        break;\n",
       "    case 3:\n",
       "        cursor = 'move';\n",
       "        break;\n",
       "    }\n",
       "    fig.rubberband_canvas.style.cursor = cursor;\n",
       "}\n",
       "\n",
       "mpl.figure.prototype.handle_message = function(fig, msg) {\n",
       "    fig.message.textContent = msg['message'];\n",
       "}\n",
       "\n",
       "mpl.figure.prototype.handle_draw = function(fig, msg) {\n",
       "    // Request the server to send over a new figure.\n",
       "    fig.send_draw_message();\n",
       "}\n",
       "\n",
       "mpl.figure.prototype.handle_image_mode = function(fig, msg) {\n",
       "    fig.image_mode = msg['mode'];\n",
       "}\n",
       "\n",
       "mpl.figure.prototype.updated_canvas_event = function() {\n",
       "    // Called whenever the canvas gets updated.\n",
       "    this.send_message(\"ack\", {});\n",
       "}\n",
       "\n",
       "// A function to construct a web socket function for onmessage handling.\n",
       "// Called in the figure constructor.\n",
       "mpl.figure.prototype._make_on_message_function = function(fig) {\n",
       "    return function socket_on_message(evt) {\n",
       "        if (evt.data instanceof Blob) {\n",
       "            /* FIXME: We get \"Resource interpreted as Image but\n",
       "             * transferred with MIME type text/plain:\" errors on\n",
       "             * Chrome.  But how to set the MIME type?  It doesn't seem\n",
       "             * to be part of the websocket stream */\n",
       "            evt.data.type = \"image/png\";\n",
       "\n",
       "            /* Free the memory for the previous frames */\n",
       "            if (fig.imageObj.src) {\n",
       "                (window.URL || window.webkitURL).revokeObjectURL(\n",
       "                    fig.imageObj.src);\n",
       "            }\n",
       "\n",
       "            fig.imageObj.src = (window.URL || window.webkitURL).createObjectURL(\n",
       "                evt.data);\n",
       "            fig.updated_canvas_event();\n",
       "            fig.waiting = false;\n",
       "            return;\n",
       "        }\n",
       "        else if (typeof evt.data === 'string' && evt.data.slice(0, 21) == \"data:image/png;base64\") {\n",
       "            fig.imageObj.src = evt.data;\n",
       "            fig.updated_canvas_event();\n",
       "            fig.waiting = false;\n",
       "            return;\n",
       "        }\n",
       "\n",
       "        var msg = JSON.parse(evt.data);\n",
       "        var msg_type = msg['type'];\n",
       "\n",
       "        // Call the  \"handle_{type}\" callback, which takes\n",
       "        // the figure and JSON message as its only arguments.\n",
       "        try {\n",
       "            var callback = fig[\"handle_\" + msg_type];\n",
       "        } catch (e) {\n",
       "            console.log(\"No handler for the '\" + msg_type + \"' message type: \", msg);\n",
       "            return;\n",
       "        }\n",
       "\n",
       "        if (callback) {\n",
       "            try {\n",
       "                // console.log(\"Handling '\" + msg_type + \"' message: \", msg);\n",
       "                callback(fig, msg);\n",
       "            } catch (e) {\n",
       "                console.log(\"Exception inside the 'handler_\" + msg_type + \"' callback:\", e, e.stack, msg);\n",
       "            }\n",
       "        }\n",
       "    };\n",
       "}\n",
       "\n",
       "// from http://stackoverflow.com/questions/1114465/getting-mouse-location-in-canvas\n",
       "mpl.findpos = function(e) {\n",
       "    //this section is from http://www.quirksmode.org/js/events_properties.html\n",
       "    var targ;\n",
       "    if (!e)\n",
       "        e = window.event;\n",
       "    if (e.target)\n",
       "        targ = e.target;\n",
       "    else if (e.srcElement)\n",
       "        targ = e.srcElement;\n",
       "    if (targ.nodeType == 3) // defeat Safari bug\n",
       "        targ = targ.parentNode;\n",
       "\n",
       "    // jQuery normalizes the pageX and pageY\n",
       "    // pageX,Y are the mouse positions relative to the document\n",
       "    // offset() returns the position of the element relative to the document\n",
       "    var x = e.pageX - $(targ).offset().left;\n",
       "    var y = e.pageY - $(targ).offset().top;\n",
       "\n",
       "    return {\"x\": x, \"y\": y};\n",
       "};\n",
       "\n",
       "/*\n",
       " * return a copy of an object with only non-object keys\n",
       " * we need this to avoid circular references\n",
       " * http://stackoverflow.com/a/24161582/3208463\n",
       " */\n",
       "function simpleKeys (original) {\n",
       "  return Object.keys(original).reduce(function (obj, key) {\n",
       "    if (typeof original[key] !== 'object')\n",
       "        obj[key] = original[key]\n",
       "    return obj;\n",
       "  }, {});\n",
       "}\n",
       "\n",
       "mpl.figure.prototype.mouse_event = function(event, name) {\n",
       "    var canvas_pos = mpl.findpos(event)\n",
       "\n",
       "    if (name === 'button_press')\n",
       "    {\n",
       "        this.canvas.focus();\n",
       "        this.canvas_div.focus();\n",
       "    }\n",
       "\n",
       "    var x = canvas_pos.x * mpl.ratio;\n",
       "    var y = canvas_pos.y * mpl.ratio;\n",
       "\n",
       "    this.send_message(name, {x: x, y: y, button: event.button,\n",
       "                             step: event.step,\n",
       "                             guiEvent: simpleKeys(event)});\n",
       "\n",
       "    /* This prevents the web browser from automatically changing to\n",
       "     * the text insertion cursor when the button is pressed.  We want\n",
       "     * to control all of the cursor setting manually through the\n",
       "     * 'cursor' event from matplotlib */\n",
       "    event.preventDefault();\n",
       "    return false;\n",
       "}\n",
       "\n",
       "mpl.figure.prototype._key_event_extra = function(event, name) {\n",
       "    // Handle any extra behaviour associated with a key event\n",
       "}\n",
       "\n",
       "mpl.figure.prototype.key_event = function(event, name) {\n",
       "\n",
       "    // Prevent repeat events\n",
       "    if (name == 'key_press')\n",
       "    {\n",
       "        if (event.which === this._key)\n",
       "            return;\n",
       "        else\n",
       "            this._key = event.which;\n",
       "    }\n",
       "    if (name == 'key_release')\n",
       "        this._key = null;\n",
       "\n",
       "    var value = '';\n",
       "    if (event.ctrlKey && event.which != 17)\n",
       "        value += \"ctrl+\";\n",
       "    if (event.altKey && event.which != 18)\n",
       "        value += \"alt+\";\n",
       "    if (event.shiftKey && event.which != 16)\n",
       "        value += \"shift+\";\n",
       "\n",
       "    value += 'k';\n",
       "    value += event.which.toString();\n",
       "\n",
       "    this._key_event_extra(event, name);\n",
       "\n",
       "    this.send_message(name, {key: value,\n",
       "                             guiEvent: simpleKeys(event)});\n",
       "    return false;\n",
       "}\n",
       "\n",
       "mpl.figure.prototype.toolbar_button_onclick = function(name) {\n",
       "    if (name == 'download') {\n",
       "        this.handle_save(this, null);\n",
       "    } else {\n",
       "        this.send_message(\"toolbar_button\", {name: name});\n",
       "    }\n",
       "};\n",
       "\n",
       "mpl.figure.prototype.toolbar_button_onmouseover = function(tooltip) {\n",
       "    this.message.textContent = tooltip;\n",
       "};\n",
       "mpl.toolbar_items = [[\"Home\", \"Reset original view\", \"fa fa-home icon-home\", \"home\"], [\"Back\", \"Back to  previous view\", \"fa fa-arrow-left icon-arrow-left\", \"back\"], [\"Forward\", \"Forward to next view\", \"fa fa-arrow-right icon-arrow-right\", \"forward\"], [\"\", \"\", \"\", \"\"], [\"Pan\", \"Pan axes with left mouse, zoom with right\", \"fa fa-arrows icon-move\", \"pan\"], [\"Zoom\", \"Zoom to rectangle\", \"fa fa-square-o icon-check-empty\", \"zoom\"], [\"\", \"\", \"\", \"\"], [\"Download\", \"Download plot\", \"fa fa-floppy-o icon-save\", \"download\"]];\n",
       "\n",
       "mpl.extensions = [\"eps\", \"jpeg\", \"pdf\", \"png\", \"ps\", \"raw\", \"svg\", \"tif\"];\n",
       "\n",
       "mpl.default_extension = \"png\";var comm_websocket_adapter = function(comm) {\n",
       "    // Create a \"websocket\"-like object which calls the given IPython comm\n",
       "    // object with the appropriate methods. Currently this is a non binary\n",
       "    // socket, so there is still some room for performance tuning.\n",
       "    var ws = {};\n",
       "\n",
       "    ws.close = function() {\n",
       "        comm.close()\n",
       "    };\n",
       "    ws.send = function(m) {\n",
       "        //console.log('sending', m);\n",
       "        comm.send(m);\n",
       "    };\n",
       "    // Register the callback with on_msg.\n",
       "    comm.on_msg(function(msg) {\n",
       "        //console.log('receiving', msg['content']['data'], msg);\n",
       "        // Pass the mpl event to the overridden (by mpl) onmessage function.\n",
       "        ws.onmessage(msg['content']['data'])\n",
       "    });\n",
       "    return ws;\n",
       "}\n",
       "\n",
       "mpl.mpl_figure_comm = function(comm, msg) {\n",
       "    // This is the function which gets called when the mpl process\n",
       "    // starts-up an IPython Comm through the \"matplotlib\" channel.\n",
       "\n",
       "    var id = msg.content.data.id;\n",
       "    // Get hold of the div created by the display call when the Comm\n",
       "    // socket was opened in Python.\n",
       "    var element = $(\"#\" + id);\n",
       "    var ws_proxy = comm_websocket_adapter(comm)\n",
       "\n",
       "    function ondownload(figure, format) {\n",
       "        window.open(figure.imageObj.src);\n",
       "    }\n",
       "\n",
       "    var fig = new mpl.figure(id, ws_proxy,\n",
       "                           ondownload,\n",
       "                           element.get(0));\n",
       "\n",
       "    // Call onopen now - mpl needs it, as it is assuming we've passed it a real\n",
       "    // web socket which is closed, not our websocket->open comm proxy.\n",
       "    ws_proxy.onopen();\n",
       "\n",
       "    fig.parent_element = element.get(0);\n",
       "    fig.cell_info = mpl.find_output_cell(\"<div id='\" + id + \"'></div>\");\n",
       "    if (!fig.cell_info) {\n",
       "        console.error(\"Failed to find cell for figure\", id, fig);\n",
       "        return;\n",
       "    }\n",
       "\n",
       "    var output_index = fig.cell_info[2]\n",
       "    var cell = fig.cell_info[0];\n",
       "\n",
       "};\n",
       "\n",
       "mpl.figure.prototype.handle_close = function(fig, msg) {\n",
       "    var width = fig.canvas.width/mpl.ratio\n",
       "    fig.root.unbind('remove')\n",
       "\n",
       "    // Update the output cell to use the data from the current canvas.\n",
       "    fig.push_to_output();\n",
       "    var dataURL = fig.canvas.toDataURL();\n",
       "    // Re-enable the keyboard manager in IPython - without this line, in FF,\n",
       "    // the notebook keyboard shortcuts fail.\n",
       "    IPython.keyboard_manager.enable()\n",
       "    $(fig.parent_element).html('<img src=\"' + dataURL + '\" width=\"' + width + '\">');\n",
       "    fig.close_ws(fig, msg);\n",
       "}\n",
       "\n",
       "mpl.figure.prototype.close_ws = function(fig, msg){\n",
       "    fig.send_message('closing', msg);\n",
       "    // fig.ws.close()\n",
       "}\n",
       "\n",
       "mpl.figure.prototype.push_to_output = function(remove_interactive) {\n",
       "    // Turn the data on the canvas into data in the output cell.\n",
       "    var width = this.canvas.width/mpl.ratio\n",
       "    var dataURL = this.canvas.toDataURL();\n",
       "    this.cell_info[1]['text/html'] = '<img src=\"' + dataURL + '\" width=\"' + width + '\">';\n",
       "}\n",
       "\n",
       "mpl.figure.prototype.updated_canvas_event = function() {\n",
       "    // Tell IPython that the notebook contents must change.\n",
       "    IPython.notebook.set_dirty(true);\n",
       "    this.send_message(\"ack\", {});\n",
       "    var fig = this;\n",
       "    // Wait a second, then push the new image to the DOM so\n",
       "    // that it is saved nicely (might be nice to debounce this).\n",
       "    setTimeout(function () { fig.push_to_output() }, 1000);\n",
       "}\n",
       "\n",
       "mpl.figure.prototype._init_toolbar = function() {\n",
       "    var fig = this;\n",
       "\n",
       "    var nav_element = $('<div/>')\n",
       "    nav_element.attr('style', 'width: 100%');\n",
       "    this.root.append(nav_element);\n",
       "\n",
       "    // Define a callback function for later on.\n",
       "    function toolbar_event(event) {\n",
       "        return fig.toolbar_button_onclick(event['data']);\n",
       "    }\n",
       "    function toolbar_mouse_event(event) {\n",
       "        return fig.toolbar_button_onmouseover(event['data']);\n",
       "    }\n",
       "\n",
       "    for(var toolbar_ind in mpl.toolbar_items){\n",
       "        var name = mpl.toolbar_items[toolbar_ind][0];\n",
       "        var tooltip = mpl.toolbar_items[toolbar_ind][1];\n",
       "        var image = mpl.toolbar_items[toolbar_ind][2];\n",
       "        var method_name = mpl.toolbar_items[toolbar_ind][3];\n",
       "\n",
       "        if (!name) { continue; };\n",
       "\n",
       "        var button = $('<button class=\"btn btn-default\" href=\"#\" title=\"' + name + '\"><i class=\"fa ' + image + ' fa-lg\"></i></button>');\n",
       "        button.click(method_name, toolbar_event);\n",
       "        button.mouseover(tooltip, toolbar_mouse_event);\n",
       "        nav_element.append(button);\n",
       "    }\n",
       "\n",
       "    // Add the status bar.\n",
       "    var status_bar = $('<span class=\"mpl-message\" style=\"text-align:right; float: right;\"/>');\n",
       "    nav_element.append(status_bar);\n",
       "    this.message = status_bar[0];\n",
       "\n",
       "    // Add the close button to the window.\n",
       "    var buttongrp = $('<div class=\"btn-group inline pull-right\"></div>');\n",
       "    var button = $('<button class=\"btn btn-mini btn-primary\" href=\"#\" title=\"Stop Interaction\"><i class=\"fa fa-power-off icon-remove icon-large\"></i></button>');\n",
       "    button.click(function (evt) { fig.handle_close(fig, {}); } );\n",
       "    button.mouseover('Stop Interaction', toolbar_mouse_event);\n",
       "    buttongrp.append(button);\n",
       "    var titlebar = this.root.find($('.ui-dialog-titlebar'));\n",
       "    titlebar.prepend(buttongrp);\n",
       "}\n",
       "\n",
       "mpl.figure.prototype._root_extra_style = function(el){\n",
       "    var fig = this\n",
       "    el.on(\"remove\", function(){\n",
       "\tfig.close_ws(fig, {});\n",
       "    });\n",
       "}\n",
       "\n",
       "mpl.figure.prototype._canvas_extra_style = function(el){\n",
       "    // this is important to make the div 'focusable\n",
       "    el.attr('tabindex', 0)\n",
       "    // reach out to IPython and tell the keyboard manager to turn it's self\n",
       "    // off when our div gets focus\n",
       "\n",
       "    // location in version 3\n",
       "    if (IPython.notebook.keyboard_manager) {\n",
       "        IPython.notebook.keyboard_manager.register_events(el);\n",
       "    }\n",
       "    else {\n",
       "        // location in version 2\n",
       "        IPython.keyboard_manager.register_events(el);\n",
       "    }\n",
       "\n",
       "}\n",
       "\n",
       "mpl.figure.prototype._key_event_extra = function(event, name) {\n",
       "    var manager = IPython.notebook.keyboard_manager;\n",
       "    if (!manager)\n",
       "        manager = IPython.keyboard_manager;\n",
       "\n",
       "    // Check for shift+enter\n",
       "    if (event.shiftKey && event.which == 13) {\n",
       "        this.canvas_div.blur();\n",
       "        event.shiftKey = false;\n",
       "        // Send a \"J\" for go to next cell\n",
       "        event.which = 74;\n",
       "        event.keyCode = 74;\n",
       "        manager.command_mode();\n",
       "        manager.handle_keydown(event);\n",
       "    }\n",
       "}\n",
       "\n",
       "mpl.figure.prototype.handle_save = function(fig, msg) {\n",
       "    fig.ondownload(fig, null);\n",
       "}\n",
       "\n",
       "\n",
       "mpl.find_output_cell = function(html_output) {\n",
       "    // Return the cell and output element which can be found *uniquely* in the notebook.\n",
       "    // Note - this is a bit hacky, but it is done because the \"notebook_saving.Notebook\"\n",
       "    // IPython event is triggered only after the cells have been serialised, which for\n",
       "    // our purposes (turning an active figure into a static one), is too late.\n",
       "    var cells = IPython.notebook.get_cells();\n",
       "    var ncells = cells.length;\n",
       "    for (var i=0; i<ncells; i++) {\n",
       "        var cell = cells[i];\n",
       "        if (cell.cell_type === 'code'){\n",
       "            for (var j=0; j<cell.output_area.outputs.length; j++) {\n",
       "                var data = cell.output_area.outputs[j];\n",
       "                if (data.data) {\n",
       "                    // IPython >= 3 moved mimebundle to data attribute of output\n",
       "                    data = data.data;\n",
       "                }\n",
       "                if (data['text/html'] == html_output) {\n",
       "                    return [cell, data, j];\n",
       "                }\n",
       "            }\n",
       "        }\n",
       "    }\n",
       "}\n",
       "\n",
       "// Register the function which deals with the matplotlib target/channel.\n",
       "// The kernel may be null if the page has been refreshed.\n",
       "if (IPython.notebook.kernel != null) {\n",
       "    IPython.notebook.kernel.comm_manager.register_target('matplotlib', mpl.mpl_figure_comm);\n",
       "}\n"
      ],
      "text/plain": [
       "<IPython.core.display.Javascript object>"
      ]
     },
     "metadata": {},
     "output_type": "display_data"
    },
    {
     "data": {
      "text/html": [
       "<img src=\"data:image/png;base64,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\" width=\"640\">"
      ],
      "text/plain": [
       "<IPython.core.display.HTML object>"
      ]
     },
     "metadata": {},
     "output_type": "display_data"
    },
    {
     "data": {
      "text/plain": [
       "<matplotlib.legend.Legend at 0x7fc62ba036d0>"
      ]
     },
     "execution_count": 72,
     "metadata": {},
     "output_type": "execute_result"
    }
   ],
   "source": [
    "plt.figure()\n",
    "plt.plot(ku[:,0],ku[:,1],'-k',label='orig')\n",
    "plt.plot(ku[7:980-250,0],ku_vis,'-g',label='slit_vis')\n",
    "plt.plot(ku[980-250:-15,0],ku_nir,'-r',label='slit_nir')\n",
    "plt.legend()"
   ]
  },
  {
   "cell_type": "code",
   "execution_count": null,
   "metadata": {},
   "outputs": [],
   "source": []
  },
  {
   "cell_type": "markdown",
   "metadata": {},
   "source": [
    "# Verify the results and write out"
   ]
  },
  {
   "cell_type": "code",
   "execution_count": 160,
   "metadata": {
    "ExecuteTime": {
     "end_time": "2019-12-02T22:49:18.779642Z",
     "start_time": "2019-12-02T22:49:18.767527Z"
    }
   },
   "outputs": [],
   "source": [
    "hdict = {'PI':'Samuel LeBlanc',\n",
    "     'Institution':'NASA Ames Research Center',\n",
    "     'Instrument':'Solar Spectral Flux Radiometer - 3 (SSFR3)',\n",
    "     'campaign':'University of Colorado Skywatch Observatory',\n",
    "     'special_comments':'',\n",
    "     'PI_contact':'Samuel.leblanc@nasa.gov',\n",
    "     'platform':'Roof top University of Colorado',\n",
    "     'location':'University of Colorado, Duane rooftop, Boulder, Colorado, USA, Lat: 40.01 N, Lon: 105.25 W, Alt: 1660 m',\n",
    "     'instrument_info':'Derived product from SSFR with zenith narrow field of view radiance light collector',\n",
    "     'data_info':'Using the cloud property retrieval method based on spectral transmitted light measurements described by LeBlanc, Pileskie, Schmidt, and Coddington (2015), AMT, https://doi.org/10.5194/amt-8-1361-2015',\n",
    "     'uncertainty':'See included variables.',\n",
    "     'DM_contact':'Samuel LeBlanc, samuel.leblanc@nasa.gov',\n",
    "     'project_info':'N/A',\n",
    "     'stipulations':'',\n",
    "     'rev_comments':'R0: Data from LeBlanc et al., 2015 publication, released to A. Kohkanovsky in November, 2019.'\n",
    "    }\n",
    "order = ['COD','COD_err_low','COD_err_up','REF','REF_err_low','REF_err_up','Phase','Ki_square']"
   ]
  },
  {
   "cell_type": "markdown",
   "metadata": {},
   "source": [
    "## 15 parameters retrieval"
   ]
  },
  {
   "cell_type": "code",
   "execution_count": 34,
   "metadata": {
    "ExecuteTime": {
     "end_time": "2019-11-30T07:48:02.472207Z",
     "start_time": "2019-11-30T07:48:02.460420Z"
    }
   },
   "outputs": [
    {
     "data": {
      "text/plain": [
       "['wp_err',\n",
       " 'ref_err',\n",
       " 'ki_rtm',\n",
       " 'wp_rtm',\n",
       " 'ref_rtm',\n",
       " 'tau_rtm',\n",
       " 'tau_err',\n",
       " 'tmhrs']"
      ]
     },
     "execution_count": 34,
     "metadata": {},
     "output_type": "execute_result"
    }
   ],
   "source": [
    "f_liq.keys()"
   ]
  },
  {
   "cell_type": "code",
   "execution_count": 45,
   "metadata": {
    "ExecuteTime": {
     "end_time": "2019-11-30T08:03:14.393891Z",
     "start_time": "2019-11-30T08:03:14.179775Z"
    }
   },
   "outputs": [
    {
     "data": {
      "text/plain": [
       "[<matplotlib.lines.Line2D at 0x7f65c564b410>]"
      ]
     },
     "execution_count": 45,
     "metadata": {},
     "output_type": "execute_result"
    },
    {
     "data": {
      "image/png": "[encoded data removed]",
      "text/plain": [
       "<Figure size 432x288 with 1 Axes>"
      ]
     },
     "metadata": {
      "needs_background": "light"
     },
     "output_type": "display_data"
    }
   ],
   "source": [
    "plt.figure()\n",
    "plt.plot(f_liq['tmhrs'],f_liq['tau_rtm'],'-+')\n",
    "plt.plot(f_liq['tmhrs'],smooth(f_liq['tau_rtm'],4,old=True),'-x')\n"
   ]
  },
  {
   "cell_type": "code",
   "execution_count": 46,
   "metadata": {
    "ExecuteTime": {
     "end_time": "2019-11-30T08:06:37.232983Z",
     "start_time": "2019-11-30T08:06:37.008530Z"
    }
   },
   "outputs": [
    {
     "data": {
      "text/plain": [
       "[<matplotlib.lines.Line2D at 0x7f65c54f2310>]"
      ]
     },
     "execution_count": 46,
     "metadata": {},
     "output_type": "execute_result"
    },
    {
     "data": {
      "image/png": "[encoded data removed]",
      "text/plain": [
       "<Figure size 432x288 with 1 Axes>"
      ]
     },
     "metadata": {
      "needs_background": "light"
     },
     "output_type": "display_data"
    }
   ],
   "source": [
    "plt.figure()\n",
    "plt.plot(f_liq['ki_rtm'])"
   ]
  },
  {
   "cell_type": "code",
   "execution_count": 48,
   "metadata": {
    "ExecuteTime": {
     "end_time": "2019-11-30T08:09:02.826032Z",
     "start_time": "2019-11-30T08:09:02.816279Z"
    }
   },
   "outputs": [
    {
     "data": {
      "text/plain": [
       "(2, 106)"
      ]
     },
     "execution_count": 48,
     "metadata": {},
     "output_type": "execute_result"
    }
   ],
   "source": [
    "f_liq['ref_err'].shape"
   ]
  },
  {
   "cell_type": "code",
   "execution_count": 77,
   "metadata": {
    "ExecuteTime": {
     "end_time": "2019-11-30T19:33:46.758165Z",
     "start_time": "2019-11-30T19:33:46.752906Z"
    }
   },
   "outputs": [],
   "source": [
    "f = [f_liq,f_mix,f_ice]"
   ]
  },
  {
   "cell_type": "code",
   "execution_count": 86,
   "metadata": {
    "ExecuteTime": {
     "end_time": "2019-11-30T19:36:15.939263Z",
     "start_time": "2019-11-30T19:36:15.930715Z"
    }
   },
   "outputs": [],
   "source": [
    "def fo(gu,nn):\n",
    "\n",
    "    gu['tau_rtm'][nn] = np.nan\n",
    "    gu['ref_rtm'][nn] = np.nan\n",
    "    gu['tau_err'][0,nn] = np.nan\n",
    "    gu['ref_err'][0,nn] = np.nan\n",
    "    gu['tau_err'][1,nn] = np.nan\n",
    "    gu['ref_err'][1,nn] = np.nan\n",
    "    gu['ki_rtm'][nn] = np.nan\n",
    "    gu['wp_rtm'][nn] = np.nan\n",
    "    return gu"
   ]
  },
  {
   "cell_type": "code",
   "execution_count": 91,
   "metadata": {
    "ExecuteTime": {
     "end_time": "2019-11-30T20:00:35.287904Z",
     "start_time": "2019-11-30T20:00:35.263508Z"
    }
   },
   "outputs": [
    {
     "name": "stderr",
     "output_type": "stream",
     "text": [
      "/home/samuel/.local/lib/python2.7/site-packages/ipykernel_launcher.py:17: RuntimeWarning: invalid value encountered in greater\n"
     ]
    }
   ],
   "source": [
    "rtr = []\n",
    "for i,g in enumerate(f):\n",
    "    ff = {}\n",
    "    for k in g.keys(): ff[k] = np.array(g[k])\n",
    "    ff['tau_rtm'] = smooth(ff['tau_rtm'],4,old=True)\n",
    "    ff['ref_rtm'] = smooth(ff['ref_rtm'],4,old=True)\n",
    "    tr = ff['tau_rtm']==0\n",
    "    if any(tr): ff = fo(ff,tr)\n",
    "    trm = ff['tau_rtm']>99.0\n",
    "    if any(trm): ff = fo(ff,trm)\n",
    "    rr = ff['ref_rtm']==0\n",
    "    if any(rr): ff = fo(ff,rr)\n",
    "    rrm = ff['ref_rtm']>99.0\n",
    "    if any(rrm): ff = fo(ff,rrm)\n",
    "    kr = ff['ki_rtm']>0.69\n",
    "    if any(kr): ff = fo(ff,kr)\n",
    "    rem = ff['ref_err'][0,:]>3.0\n",
    "    if any(rem): ff['ref_err'][0,rem] = 3.0\n",
    "    if i==0:\n",
    "        wr = ff['wp_rtm']==1\n",
    "        if any(wr): ff = fo(ff,wr)\n",
    "    elif i==2:\n",
    "        wr = ff['wp_rtm']==0\n",
    "        if any(wr): ff = fo(ff,wr)\n",
    "    rtr.append(ff)"
   ]
  },
  {
   "cell_type": "code",
   "execution_count": 93,
   "metadata": {
    "ExecuteTime": {
     "end_time": "2019-11-30T20:00:57.111217Z",
     "start_time": "2019-11-30T20:00:57.098450Z"
    }
   },
   "outputs": [
    {
     "data": {
      "text/plain": [
       "['wp_err',\n",
       " 'ref_err',\n",
       " 'ki_rtm',\n",
       " 'wp_rtm',\n",
       " 'ref_rtm',\n",
       " 'tau_rtm',\n",
       " 'tau_err',\n",
       " 'tmhrs']"
      ]
     },
     "execution_count": 93,
     "metadata": {},
     "output_type": "execute_result"
    }
   ],
   "source": [
    "rtr[0].keys()"
   ]
  },
  {
   "cell_type": "markdown",
   "metadata": {},
   "source": [
    "### save liquid cloud"
   ]
  },
  {
   "cell_type": "code",
   "execution_count": 161,
   "metadata": {
    "ExecuteTime": {
     "end_time": "2019-12-02T22:49:23.256833Z",
     "start_time": "2019-12-02T22:49:23.238993Z"
    }
   },
   "outputs": [],
   "source": [
    "dict_fliq =  {'Start_UTC':{'data':rtr[0]['tmhrs']*3600.0,'unit':'seconds from midnight UTC',\n",
    "                           'long_description':'time keeping, based on UTC midnight'},\n",
    "      'COD':{'data':rtr[0]['tau_rtm'],'unit':'None','long_description':'Cloud Optical Depth of overlying cloud'},\n",
    "      'REF':{'data':rtr[0]['ref_rtm'],'unit':'micrometer',\n",
    "             'long_description':'Cloud drop effective radius for liquid clouds'},\n",
    "      'COD_err_low':{'data':rtr[0]['tau_err'][0,:],'unit':'None',\n",
    "                     'long_description':'Lower value of retrieval uncertainty of Cloud Optical Depth'},\n",
    "      'COD_err_up':{'data':rtr[0]['tau_err'][1,:],'unit':'None',\n",
    "                    'long_description':'Upper value of retrieval uncertainty of Cloud Optical Depth'},\n",
    "      'REF_err_low':{'data':rtr[0]['ref_err'][0,:],'unit':'micrometer',\n",
    "                     'long_description':'Lower value of retrieval uncertainty of Cloud effective radius.'},\n",
    "      'REF_err_up':{'data':rtr[0]['ref_err'][1,:],'unit':'micrometer',\n",
    "                    'long_description':'Upper value of retrieval uncertainty of Cloud effective radius.'},\n",
    "      'Phase':{'data':rtr[0]['wp_rtm'],'unit':'None',\n",
    "               'long_description':'Thermodynamic phase, 0 for liquid cloud, 1 for ice cloud'},\n",
    "      'Ki_square':{'data':rtr[0]['ki_rtm'],'unit':'None',\n",
    "                   'long_description':'Ki square fit parameter. It is the remainder of the ki square fit, values higher than 0.69 are considered to be failed retrievals.'}}"
   ]
  },
  {
   "cell_type": "code",
   "execution_count": 162,
   "metadata": {
    "ExecuteTime": {
     "end_time": "2019-12-02T22:49:24.065909Z",
     "start_time": "2019-12-02T22:49:24.058860Z"
    }
   },
   "outputs": [],
   "source": [
    "hdict_fliq = hdict\n",
    "hdict_fliq['special_comments'] = 'Liquid cloud case from LeBlanc et al., 2015'"
   ]
  },
  {
   "cell_type": "code",
   "execution_count": 163,
   "metadata": {
    "ExecuteTime": {
     "end_time": "2019-12-02T22:49:26.693199Z",
     "start_time": "2019-12-02T22:49:26.672882Z"
    }
   },
   "outputs": [
    {
     "name": "stdout",
     "output_type": "stream",
     "text": [
      "COD\n",
      "COD_err_low\n",
      "COD_err_up\n",
      "REF\n",
      "REF_err_low\n",
      "REF_err_up\n",
      "Phase\n",
      "Ki_square\n",
      "File writing successful to: /mnt/c/Users/lebla/Research/SSFR3/SSFR-15params-CLD_Boulder_20120525_R0.ict\n"
     ]
    }
   ],
   "source": [
    "wu.write_ict(hdict_fliq,dict_fliq,filepath=fp,\n",
    "              data_id='SSFR_15params_CLD',loc_id='Boulder',date=days[0],rev='R0',order=order)    "
   ]
  },
  {
   "cell_type": "markdown",
   "metadata": {},
   "source": [
    "### Save mix phase cloud"
   ]
  },
  {
   "cell_type": "code",
   "execution_count": 164,
   "metadata": {
    "ExecuteTime": {
     "end_time": "2019-12-02T22:49:29.073781Z",
     "start_time": "2019-12-02T22:49:29.058477Z"
    }
   },
   "outputs": [],
   "source": [
    "dict_fmix =  {'Start_UTC':{'data':rtr[1]['tmhrs']*3600.0,'unit':'seconds from midnight UTC',\n",
    "                           'long_description':'time keeping, based on UTC midnight'},\n",
    "      'COD':{'data':rtr[1]['tau_rtm'],'unit':'None',\n",
    "             'long_description':'Cloud Optical Depth of overlying cloud'},\n",
    "      'REF':{'data':rtr[1]['ref_rtm'],'unit':'micrometer',\n",
    "             'long_description':'Cloud drop effective radius for liquid clouds'},\n",
    "      'COD_err_low':{'data':rtr[1]['tau_err'][0,:],'unit':'None',\n",
    "                     'long_description':'Lower value of retrieval uncertainty of Cloud Optical Depth'},\n",
    "      'COD_err_up':{'data':rtr[1]['tau_err'][1,:],'unit':'None',\n",
    "                    'long_description':'Upper value of retrieval uncertainty of Cloud Optical Depth'},\n",
    "      'REF_err_low':{'data':rtr[1]['ref_err'][0,:],'unit':'micrometer',\n",
    "                     'long_description':'Lower value of retrieval uncertainty of Cloud effective radius.'},\n",
    "      'REF_err_up':{'data':rtr[1]['ref_err'][1,:],'unit':'micrometer',\n",
    "                    'long_description':'Upper value of retrieval uncertainty of Cloud effective radius.'},\n",
    "      'Phase':{'data':rtr[1]['wp_rtm'],'unit':'None',\n",
    "               'long_description':'Thermodynamic phase, 0 for liquid cloud, 1 for ice cloud'},\n",
    "      'Ki_square':{'data':rtr[1]['ki_rtm'],'unit':'None',\n",
    "                   'long_description':'Ki square fit parameter. It is the remainder of the ki square fit, values higher than 0.69 are considered to be failed retrievals.'}}"
   ]
  },
  {
   "cell_type": "code",
   "execution_count": 165,
   "metadata": {
    "ExecuteTime": {
     "end_time": "2019-12-02T22:49:29.398701Z",
     "start_time": "2019-12-02T22:49:29.392201Z"
    }
   },
   "outputs": [],
   "source": [
    "hdict_mix = hdict\n",
    "hdict_mix['special_comments'] = 'Mixed-phase cloud case from LeBlanc et al., 2015'"
   ]
  },
  {
   "cell_type": "code",
   "execution_count": 166,
   "metadata": {
    "ExecuteTime": {
     "end_time": "2019-12-02T22:49:30.150816Z",
     "start_time": "2019-12-02T22:49:30.133107Z"
    }
   },
   "outputs": [
    {
     "name": "stdout",
     "output_type": "stream",
     "text": [
      "COD\n",
      "COD_err_low\n",
      "COD_err_up\n",
      "REF\n",
      "REF_err_low\n",
      "REF_err_up\n",
      "Phase\n",
      "Ki_square\n",
      "File writing successful to: /mnt/c/Users/lebla/Research/SSFR3/SSFR-15params-CLD_Boulder_20120806_R0.ict\n"
     ]
    }
   ],
   "source": [
    "wu.write_ict(hdict_mix,dict_fmix,filepath=fp,\n",
    "              data_id='SSFR_15params_CLD',loc_id='Boulder',date=days[1],rev='R0',order=order) "
   ]
  },
  {
   "cell_type": "markdown",
   "metadata": {},
   "source": [
    "### Save ice cloud"
   ]
  },
  {
   "cell_type": "code",
   "execution_count": 167,
   "metadata": {
    "ExecuteTime": {
     "end_time": "2019-12-02T22:49:31.541975Z",
     "start_time": "2019-12-02T22:49:31.524539Z"
    }
   },
   "outputs": [],
   "source": [
    "dict_fice =  {'Start_UTC':{'data':rtr[2]['tmhrs']*3600.0,'unit':'seconds from midnight UTC',\n",
    "                           'long_description':'time keeping, based on UTC midnight'},\n",
    "      'COD':{'data':rtr[2]['tau_rtm'],'unit':'None',\n",
    "             'long_description':'Cloud Optical Depth of overlying cloud'},\n",
    "      'REF':{'data':rtr[2]['ref_rtm'],'unit':'micrometer',\n",
    "             'long_description':'Cloud drop effective radius for liquid clouds'},\n",
    "      'COD_err_low':{'data':rtr[2]['tau_err'][0,:],'unit':'None',\n",
    "                     'long_description':'Lower value of retrieval uncertainty of Cloud Optical Depth'},\n",
    "      'COD_err_up':{'data':rtr[2]['tau_err'][1,:],'unit':'None',\n",
    "                    'long_description':'Upper value of retrieval uncertainty of Cloud Optical Depth'},\n",
    "      'REF_err_low':{'data':rtr[2]['ref_err'][0,:],'unit':'micrometer',\n",
    "                     'long_description':'Lower value of retrieval uncertainty of Cloud effective radius.'},\n",
    "      'REF_err_up':{'data':rtr[2]['ref_err'][1,:],'unit':'micrometer',\n",
    "                    'long_description':'Upper value of retrieval uncertainty of Cloud effective radius.'},\n",
    "      'Phase':{'data':rtr[2]['wp_rtm'],'unit':'None',\n",
    "               'long_description':'Thermodynamic phase, 0 for liquid cloud, 1 for ice cloud'},\n",
    "      'Ki_square':{'data':rtr[2]['ki_rtm'],'unit':'None',\n",
    "                   'long_description':'Ki square fit parameter. It is the remainder of the ki square fit, values higher than 0.69 are considered to be failed retrievals.'}}"
   ]
  },
  {
   "cell_type": "code",
   "execution_count": 168,
   "metadata": {
    "ExecuteTime": {
     "end_time": "2019-12-02T22:49:31.871179Z",
     "start_time": "2019-12-02T22:49:31.864689Z"
    }
   },
   "outputs": [],
   "source": [
    "hdict_ice = hdict\n",
    "hdict_ice['special_comments'] = 'Ice cloud case from LeBlanc et al., 2015'"
   ]
  },
  {
   "cell_type": "code",
   "execution_count": 169,
   "metadata": {
    "ExecuteTime": {
     "end_time": "2019-12-02T22:49:32.300480Z",
     "start_time": "2019-12-02T22:49:32.279174Z"
    }
   },
   "outputs": [
    {
     "name": "stdout",
     "output_type": "stream",
     "text": [
      "COD\n",
      "COD_err_low\n",
      "COD_err_up\n",
      "REF\n",
      "REF_err_low\n",
      "REF_err_up\n",
      "Phase\n",
      "Ki_square\n",
      "File writing successful to: /mnt/c/Users/lebla/Research/SSFR3/SSFR-15params-CLD_Boulder_20130110_R0.ict\n"
     ]
    }
   ],
   "source": [
    "wu.write_ict(hdict_ice,dict_fice,filepath=fp,\n",
    "              data_id='SSFR_15params_CLD',loc_id='Boulder',date=days[2],rev='R0',order=order) "
   ]
  },
  {
   "cell_type": "markdown",
   "metadata": {},
   "source": [
    "## slope retrieval"
   ]
  },
  {
   "cell_type": "code",
   "execution_count": 114,
   "metadata": {
    "ExecuteTime": {
     "end_time": "2019-12-02T07:14:20.158354Z",
     "start_time": "2019-12-02T07:14:20.142664Z"
    }
   },
   "outputs": [
    {
     "data": {
      "text/plain": [
       "{'eref': array([0., 0., 0., ..., 0., 0., 0.], dtype=float32),\n",
       " 'etau': array([0., 0., 0., ..., 0., 0., 0.], dtype=float32),\n",
       " 'ref': array([0., 0., 0., ..., 0., 0., 0.], dtype=float32),\n",
       " 'tau': array([0., 0., 0., ..., 0., 0., 0.], dtype=float32),\n",
       " 'tmhrs': array([0., 0., 0., ..., 0., 0., 0.], dtype=float32)}"
      ]
     },
     "execution_count": 114,
     "metadata": {},
     "output_type": "execute_result"
    }
   ],
   "source": [
    "sl_liq"
   ]
  },
  {
   "cell_type": "code",
   "execution_count": 115,
   "metadata": {
    "ExecuteTime": {
     "end_time": "2019-12-02T08:38:38.542729Z",
     "start_time": "2019-12-02T08:38:38.536970Z"
    }
   },
   "outputs": [],
   "source": [
    "sl = [sl_liq,sl_mix,sl_ice]"
   ]
  },
  {
   "cell_type": "code",
   "execution_count": 133,
   "metadata": {
    "ExecuteTime": {
     "end_time": "2019-12-02T09:30:15.518065Z",
     "start_time": "2019-12-02T09:30:15.506977Z"
    }
   },
   "outputs": [],
   "source": [
    "rsl = []\n",
    "for i,g in enumerate(sl):\n",
    "    fsl = {}\n",
    "    tr = g['tau']!=0\n",
    "    fsl['COD'] = g['tau'][tr]\n",
    "    fsl['REF'] = g['ref'][tr]\n",
    "    fsl['REF_ERR'] = g['eref'][tr]\n",
    "    fsl['COD_ERR'] = g['etau'][tr]\n",
    "    fsl['utc'] = g['tmhrs'][tr]\n",
    "    rsl.append(fsl)"
   ]
  },
  {
   "cell_type": "code",
   "execution_count": 131,
   "metadata": {
    "ExecuteTime": {
     "end_time": "2019-12-02T09:22:23.532708Z",
     "start_time": "2019-12-02T09:22:23.514858Z"
    }
   },
   "outputs": [
    {
     "data": {
      "text/plain": [
       "array([17.519722, 17.528055, 17.536388, 17.544722, 17.553055, 17.561388,\n",
       "       17.569723, 17.578056, 17.58639 , 17.594723, 17.603056, 17.61139 ,\n",
       "       17.619722, 17.628056, 17.636389, 17.644722, 17.653055, 17.661388,\n",
       "       17.669722, 17.678055, 17.686388, 17.694723, 17.703056, 17.71139 ,\n",
       "       17.719723, 17.728056, 17.73639 , 17.744722, 17.775555, 17.78389 ,\n",
       "       17.792223, 17.800556, 17.80889 , 17.817223, 17.825556, 17.833889,\n",
       "       17.842222, 17.850555, 17.858889, 17.867222, 17.875555, 17.883888,\n",
       "       17.892221, 17.900555, 17.90889 , 17.917223, 17.925556, 17.93389 ,\n",
       "       17.942223, 17.950556, 17.958889, 17.967222, 17.975555, 17.983889,\n",
       "       17.992222, 18.020277, 18.02861 , 18.036945, 18.045279, 18.053612,\n",
       "       18.061945, 18.070278, 18.078611, 18.086945, 18.095278, 18.103611,\n",
       "       18.111944, 18.120277, 18.12861 , 18.136944, 18.145277, 18.15361 ,\n",
       "       18.161945, 18.170279, 18.178612, 18.186945, 18.195278, 18.203611,\n",
       "       18.211945, 18.220278, 18.228611, 18.236944, 18.245277, 18.276112,\n",
       "       18.284445, 18.292778, 18.301111, 18.309444, 18.317778, 18.32611 ,\n",
       "       18.334444, 18.342777, 18.35111 , 18.359444, 18.367777, 18.376112,\n",
       "       18.384445, 18.392778, 18.401112, 18.409445, 18.417778, 18.426111,\n",
       "       18.434444, 18.442778, 18.45111 , 18.459444, 18.467777, 18.47611 ,\n",
       "       18.484444, 18.492777, 18.523611, 18.531944, 18.540277, 18.54861 ,\n",
       "       18.556944, 18.565277, 18.57361 , 18.581944, 18.590279, 18.598612,\n",
       "       18.606945, 18.615278, 18.623611, 18.631945, 18.640278, 18.648611,\n",
       "       18.656944, 18.665277, 18.67361 , 18.681944, 18.690277, 18.69861 ,\n",
       "       18.706944, 18.715279, 18.723612, 18.731945, 18.740278, 18.77111 ,\n",
       "       18.779444, 18.787777, 18.796112, 18.804445, 18.812778, 18.821112,\n",
       "       18.829445, 18.837778, 18.846111, 18.854445, 18.862778, 18.87111 ,\n",
       "       18.879444, 18.887777, 18.89611 , 18.904444, 18.912777, 18.921112,\n",
       "       18.929445, 18.937778, 18.946112, 18.954445, 18.962778, 18.971111,\n",
       "       18.979445, 18.987778, 18.99611 , 19.024166, 19.0325  , 19.040833,\n",
       "       19.049166, 19.0575  , 19.065834, 19.074167, 19.0825  , 19.090834,\n",
       "       19.099167, 19.1075  , 19.115833, 19.124166, 19.1325  , 19.140833,\n",
       "       19.149166, 19.1575  , 19.165833, 19.174166, 19.1825  , 19.190834,\n",
       "       19.199167, 19.2075  , 19.215834, 19.224167, 19.2325  , 19.240833,\n",
       "       19.271667, 19.28    , 19.288334, 19.296667, 19.305   , 19.313334,\n",
       "       19.321667, 19.33    , 19.338333, 19.346666, 19.355   , 19.363333,\n",
       "       19.371666, 19.38    , 19.388334, 19.396667, 19.405   , 19.413334,\n",
       "       19.421667, 19.43    , 19.438334, 19.446667, 19.455   , 19.463333,\n",
       "       19.471666, 19.48    , 19.488333, 19.496666], dtype=float32)"
      ]
     },
     "execution_count": 131,
     "metadata": {},
     "output_type": "execute_result"
    }
   ],
   "source": [
    "rsl[2]['utc']"
   ]
  },
  {
   "cell_type": "markdown",
   "metadata": {},
   "source": [
    "### Save liquid cloud"
   ]
  },
  {
   "cell_type": "code",
   "execution_count": 170,
   "metadata": {
    "ExecuteTime": {
     "end_time": "2019-12-02T22:49:43.370537Z",
     "start_time": "2019-12-02T22:49:43.357958Z"
    }
   },
   "outputs": [],
   "source": [
    "hdict_sl = {'PI':'Samuel LeBlanc',\n",
    "     'Institution':'NASA Ames Research Center',\n",
    "     'Instrument':'Solar Spectral Flux Radiometer - 3 (SSFR3)',\n",
    "     'campaign':'University of Colorado Skywatch Observatory',\n",
    "     'special_comments':'',\n",
    "     'PI_contact':'Samuel.leblanc@nasa.gov',\n",
    "     'platform':'Roof top University of Colorado',\n",
    "     'location':'University of Colorado, Duane rooftop, Boulder, Colorado, USA, Lat: 40.01 N, Lon: 105.25 W, Alt: 1660 m',\n",
    "     'instrument_info':'Derived product from SSFR with zenith narrow field of view radiance light collector',\n",
    "     'data_info':'Using the cloud property retrieval method based on slope at 1600 nm from transmitted light measurements described by McBride et al., 2011, doi:10.5194/acp-11-7235-2011.',\n",
    "     'uncertainty':'See included variables.',\n",
    "     'DM_contact':'Samuel LeBlanc, samuel.leblanc@nasa.gov',\n",
    "     'project_info':'N/A',\n",
    "     'stipulations':'',\n",
    "     'rev_comments':'R0: Data from LeBlanc et al., 2015 publication, released to A. Kohkanovsky in December, 2019.'\n",
    "    }\n",
    "order_sl = ['COD','COD_err','REF','REF_err']"
   ]
  },
  {
   "cell_type": "code",
   "execution_count": 171,
   "metadata": {
    "ExecuteTime": {
     "end_time": "2019-12-02T22:49:43.814313Z",
     "start_time": "2019-12-02T22:49:43.803136Z"
    }
   },
   "outputs": [],
   "source": [
    "dict_sl_liq =  {'Start_UTC':{'data':rsl[0]['utc']*3600.0,'unit':'seconds from midnight UTC',\n",
    "                           'long_description':'time keeping, based on UTC midnight'},\n",
    "      'COD':{'data':rsl[0]['COD'],'unit':'None','long_description':'Cloud Optical Depth of overlying cloud'},\n",
    "      'REF':{'data':rsl[0]['REF'],'unit':'micrometer',\n",
    "             'long_description':'Cloud drop effective radius for liquid clouds'},\n",
    "      'COD_err':{'data':rsl[0]['COD_ERR'],'unit':'None',\n",
    "                     'long_description':'Retrieval uncertainty of Cloud Optical Depth'},\n",
    "      'REF_err':{'data':rsl[0]['REF_ERR'],'unit':'micrometer',\n",
    "                    'long_description':'Retrieval uncertainty of Cloud effective radius.'}}"
   ]
  },
  {
   "cell_type": "code",
   "execution_count": 172,
   "metadata": {
    "ExecuteTime": {
     "end_time": "2019-12-02T22:49:44.696955Z",
     "start_time": "2019-12-02T22:49:44.690158Z"
    }
   },
   "outputs": [],
   "source": [
    "hdict_sl_liq = hdict_sl\n",
    "hdict_sl_liq['special_comments'] = 'Liquid cloud case from LeBlanc et al., 2015'"
   ]
  },
  {
   "cell_type": "code",
   "execution_count": 173,
   "metadata": {
    "ExecuteTime": {
     "end_time": "2019-12-02T22:49:45.192891Z",
     "start_time": "2019-12-02T22:49:45.174858Z"
    }
   },
   "outputs": [
    {
     "name": "stdout",
     "output_type": "stream",
     "text": [
      "COD\n",
      "COD_err\n",
      "REF\n",
      "REF_err\n",
      "File writing successful to: /mnt/c/Users/lebla/Research/SSFR3/SSFR-slope-CLD_Boulder_20120525_R0.ict\n"
     ]
    }
   ],
   "source": [
    "wu.write_ict(hdict_sl_liq,dict_sl_liq,filepath=fp,\n",
    "              data_id='SSFR_slope_CLD',loc_id='Boulder',date=days[0],rev='R0',order=order_sl)    "
   ]
  },
  {
   "cell_type": "markdown",
   "metadata": {},
   "source": [
    "### Save mix-phase cloud"
   ]
  },
  {
   "cell_type": "code",
   "execution_count": 174,
   "metadata": {
    "ExecuteTime": {
     "end_time": "2019-12-02T22:49:46.363995Z",
     "start_time": "2019-12-02T22:49:46.355335Z"
    }
   },
   "outputs": [],
   "source": [
    "dict_sl_mix =  {'Start_UTC':{'data':rsl[1]['utc']*3600.0,'unit':'seconds from midnight UTC',\n",
    "                           'long_description':'time keeping, based on UTC midnight'},\n",
    "      'COD':{'data':rsl[1]['COD'],'unit':'None','long_description':'Cloud Optical Depth of overlying cloud'},\n",
    "      'REF':{'data':rsl[1]['REF'],'unit':'micrometer',\n",
    "             'long_description':'Cloud drop effective radius for liquid clouds'},\n",
    "      'COD_err':{'data':rsl[1]['COD_ERR'],'unit':'None',\n",
    "                     'long_description':'Retrieval uncertainty of Cloud Optical Depth'},\n",
    "      'REF_err':{'data':rsl[1]['REF_ERR'],'unit':'micrometer',\n",
    "                    'long_description':'Retrieval uncertainty of Cloud effective radius.'}}"
   ]
  },
  {
   "cell_type": "code",
   "execution_count": 175,
   "metadata": {
    "ExecuteTime": {
     "end_time": "2019-12-02T22:49:46.758108Z",
     "start_time": "2019-12-02T22:49:46.752499Z"
    }
   },
   "outputs": [],
   "source": [
    "hdict_sl_mix = hdict_sl\n",
    "hdict_sl_mix['special_comments'] = 'Mixed-phase cloud case from LeBlanc et al., 2015'"
   ]
  },
  {
   "cell_type": "code",
   "execution_count": 176,
   "metadata": {
    "ExecuteTime": {
     "end_time": "2019-12-02T22:49:47.216242Z",
     "start_time": "2019-12-02T22:49:47.199126Z"
    }
   },
   "outputs": [
    {
     "name": "stdout",
     "output_type": "stream",
     "text": [
      "COD\n",
      "COD_err\n",
      "REF\n",
      "REF_err\n",
      "File writing successful to: /mnt/c/Users/lebla/Research/SSFR3/SSFR-slope-CLD_Boulder_20120806_R0.ict\n"
     ]
    }
   ],
   "source": [
    "wu.write_ict(hdict_sl_mix,dict_sl_mix,filepath=fp,\n",
    "              data_id='SSFR_slope_CLD',loc_id='Boulder',date=days[1],rev='R0',order=order_sl)    "
   ]
  },
  {
   "cell_type": "markdown",
   "metadata": {},
   "source": [
    "### Save ice cloud"
   ]
  },
  {
   "cell_type": "code",
   "execution_count": 177,
   "metadata": {
    "ExecuteTime": {
     "end_time": "2019-12-02T22:49:48.198897Z",
     "start_time": "2019-12-02T22:49:48.189719Z"
    }
   },
   "outputs": [],
   "source": [
    "dict_sl_ice =  {'Start_UTC':{'data':rsl[2]['utc']*3600.0,'unit':'seconds from midnight UTC',\n",
    "                           'long_description':'time keeping, based on UTC midnight'},\n",
    "      'COD':{'data':rsl[2]['COD'],'unit':'None','long_description':'Cloud Optical Depth of overlying cloud'},\n",
    "      'REF':{'data':rsl[2]['REF'],'unit':'micrometer',\n",
    "             'long_description':'Cloud drop effective radius for liquid clouds'},\n",
    "      'COD_err':{'data':rsl[2]['COD_ERR'],'unit':'None',\n",
    "                     'long_description':'Retrieval uncertainty of Cloud Optical Depth'},\n",
    "      'REF_err':{'data':rsl[2]['REF_ERR'],'unit':'micrometer',\n",
    "                    'long_description':'Retrieval uncertainty of Cloud effective radius.'}}"
   ]
  },
  {
   "cell_type": "code",
   "execution_count": 178,
   "metadata": {
    "ExecuteTime": {
     "end_time": "2019-12-02T22:49:48.572121Z",
     "start_time": "2019-12-02T22:49:48.567304Z"
    }
   },
   "outputs": [],
   "source": [
    "hdict_sl_ice = hdict_sl\n",
    "hdict_sl_ice['special_comments'] = 'Ice cloud case from LeBlanc et al., 2015'"
   ]
  },
  {
   "cell_type": "code",
   "execution_count": 179,
   "metadata": {
    "ExecuteTime": {
     "end_time": "2019-12-02T22:49:49.221184Z",
     "start_time": "2019-12-02T22:49:49.206678Z"
    }
   },
   "outputs": [
    {
     "name": "stdout",
     "output_type": "stream",
     "text": [
      "COD\n",
      "COD_err\n",
      "REF\n",
      "REF_err\n",
      "File writing successful to: /mnt/c/Users/lebla/Research/SSFR3/SSFR-slope-CLD_Boulder_20130110_R0.ict\n"
     ]
    }
   ],
   "source": [
    "wu.write_ict(hdict_sl_ice,dict_sl_ice,filepath=fp,\n",
    "              data_id='SSFR_slope_CLD',loc_id='Boulder',date=days[2],rev='R0',order=order_sl)    "
   ]
  },
  {
   "cell_type": "markdown",
   "metadata": {},
   "source": [
    "## 2wvl retrieval\n"
   ]
  },
  {
   "cell_type": "code",
   "execution_count": 143,
   "metadata": {
    "ExecuteTime": {
     "end_time": "2019-12-02T09:39:23.012640Z",
     "start_time": "2019-12-02T09:39:23.004473Z"
    }
   },
   "outputs": [],
   "source": [
    "twv = [twv_liq,twv_mix,twv_ice]"
   ]
  },
  {
   "cell_type": "code",
   "execution_count": 144,
   "metadata": {
    "ExecuteTime": {
     "end_time": "2019-12-02T09:41:01.717643Z",
     "start_time": "2019-12-02T09:41:01.703709Z"
    }
   },
   "outputs": [
    {
     "data": {
      "text/plain": [
       "['tau', 'etau', 'eref', 'ref', 'tmhrs']"
      ]
     },
     "execution_count": 144,
     "metadata": {},
     "output_type": "execute_result"
    }
   ],
   "source": [
    "twv_liq.keys()"
   ]
  },
  {
   "cell_type": "code",
   "execution_count": 146,
   "metadata": {
    "ExecuteTime": {
     "end_time": "2019-12-02T09:45:14.301099Z",
     "start_time": "2019-12-02T09:45:14.291715Z"
    }
   },
   "outputs": [],
   "source": [
    "rtw = []\n",
    "for i,g in enumerate(twv):\n",
    "    ftw = {}\n",
    "    tr = g['tau']!=0\n",
    "    ftw['COD'] = g['tau'][tr]\n",
    "    ftw['REF'] = g['ref'][tr]\n",
    "    ftw['REF_ERR'] = g['eref'][tr]\n",
    "    ftw['COD_ERR'] = g['etau'][tr]\n",
    "    ftw['utc'] = g['tmhrs'][tr]\n",
    "    rtw.append(ftw)"
   ]
  },
  {
   "cell_type": "code",
   "execution_count": 148,
   "metadata": {
    "ExecuteTime": {
     "end_time": "2019-12-02T09:45:26.938538Z",
     "start_time": "2019-12-02T09:45:26.926243Z"
    }
   },
   "outputs": [
    {
     "data": {
      "text/plain": [
       "array([ 6.,  8.,  6.,  5.,  5.,  5.,  4.,  6.,  9.,  8.,  4.,  4.,  4.,\n",
       "        4.,  3.,  3.,  3.,  3.,  3.,  3.,  4.,  6.,  5.,  7.,  4.,  3.,\n",
       "        5.,  3.,  3.,  3.,  3.,  3.,  3.,  4.,  3.,  3.,  3.,  3.,  3.,\n",
       "        3.,  3.,  3.,  3.,  4.,  4.,  4.,  5.,  6.,  6.,  5.,  4.,  9.,\n",
       "        6.,  4.,  4.,  3.,  5.,  5.,  3.,  3.,  5., 12., 12., 18.,  5.,\n",
       "        6.,  6., 14.,  7.,  9.,  4.,  3.,  4.,  4.,  6.,  5.,  6., 10.,\n",
       "       11.,  4.,  7.,  9., 11.,  6., 11.,  6.,  9.,  3.,  3.,  3.,  4.,\n",
       "        4.,  4.,  4.,  4.,  5.,  4.,  4.,  5.,  7.,  8.,  7., 10.,  8.,\n",
       "        8.,  5.], dtype=float32)"
      ]
     },
     "execution_count": 148,
     "metadata": {},
     "output_type": "execute_result"
    }
   ],
   "source": [
    "rtw[0]['REF']"
   ]
  },
  {
   "cell_type": "code",
   "execution_count": 180,
   "metadata": {
    "ExecuteTime": {
     "end_time": "2019-12-02T22:49:59.685010Z",
     "start_time": "2019-12-02T22:49:59.671416Z"
    }
   },
   "outputs": [],
   "source": [
    "hdict_twv = {'PI':'Samuel LeBlanc',\n",
    "     'Institution':'NASA Ames Research Center',\n",
    "     'Instrument':'Solar Spectral Flux Radiometer - 3 (SSFR3)',\n",
    "     'campaign':'University of Colorado Skywatch Observatory',\n",
    "     'special_comments':'',\n",
    "     'PI_contact':'Samuel.leblanc@nasa.gov',\n",
    "     'platform':'Roof top University of Colorado',\n",
    "     'location':'University of Colorado, Duane rooftop, Boulder, Colorado, USA, Lat: 40.01 N, Lon: 105.25 W, Alt: 1660 m',\n",
    "     'instrument_info':'Derived product from SSFR with zenith narrow field of view radiance light collector',\n",
    "     'data_info':'Using the 2 wavelength cloud property retrieval method from transmitted light measurements.',\n",
    "     'uncertainty':'See included variables.',\n",
    "     'DM_contact':'Samuel LeBlanc, samuel.leblanc@nasa.gov',\n",
    "     'project_info':'N/A',\n",
    "     'stipulations':'',\n",
    "     'rev_comments':'R0: Data from LeBlanc et al., 2015 publication, released to A. Kohkanovsky in December, 2019.'\n",
    "    }\n",
    "order_twv = ['COD','COD_err','REF','REF_err']"
   ]
  },
  {
   "cell_type": "markdown",
   "metadata": {},
   "source": [
    "### Save liquid cloud"
   ]
  },
  {
   "cell_type": "code",
   "execution_count": 181,
   "metadata": {
    "ExecuteTime": {
     "end_time": "2019-12-02T22:50:00.716721Z",
     "start_time": "2019-12-02T22:50:00.706571Z"
    }
   },
   "outputs": [],
   "source": [
    "dict_tw_liq =  {'Start_UTC':{'data':rtw[0]['utc']*3600.0,'unit':'seconds from midnight UTC',\n",
    "                           'long_description':'time keeping, based on UTC midnight'},\n",
    "      'COD':{'data':rtw[0]['COD'],'unit':'None','long_description':'Cloud Optical Depth of overlying cloud'},\n",
    "      'REF':{'data':rtw[0]['REF'],'unit':'micrometer',\n",
    "             'long_description':'Cloud drop effective radius for liquid clouds'},\n",
    "      'COD_err':{'data':rtw[0]['COD_ERR'],'unit':'None',\n",
    "                     'long_description':'Retrieval uncertainty of Cloud Optical Depth'},\n",
    "      'REF_err':{'data':rtw[0]['REF_ERR'],'unit':'micrometer',\n",
    "                    'long_description':'Retrieval uncertainty of Cloud effective radius.'}}"
   ]
  },
  {
   "cell_type": "code",
   "execution_count": 182,
   "metadata": {
    "ExecuteTime": {
     "end_time": "2019-12-02T22:50:01.084480Z",
     "start_time": "2019-12-02T22:50:01.078162Z"
    }
   },
   "outputs": [],
   "source": [
    "hdict_tw_liq = hdict_twv\n",
    "hdict_tw_liq['special_comments'] = 'Liquid cloud case from LeBlanc et al., 2015'"
   ]
  },
  {
   "cell_type": "code",
   "execution_count": 183,
   "metadata": {
    "ExecuteTime": {
     "end_time": "2019-12-02T22:50:01.658841Z",
     "start_time": "2019-12-02T22:50:01.642766Z"
    }
   },
   "outputs": [
    {
     "name": "stdout",
     "output_type": "stream",
     "text": [
      "COD\n",
      "COD_err\n",
      "REF\n",
      "REF_err\n",
      "File writing successful to: /mnt/c/Users/lebla/Research/SSFR3/SSFR-2wvl-CLD_Boulder_20120525_R0.ict\n"
     ]
    }
   ],
   "source": [
    "wu.write_ict(hdict_tw_liq,dict_tw_liq,filepath=fp,\n",
    "              data_id='SSFR_2wvl_CLD',loc_id='Boulder',date=days[0],rev='R0',order=order_twv)  "
   ]
  },
  {
   "cell_type": "markdown",
   "metadata": {},
   "source": [
    "### Save mix phase cloud"
   ]
  },
  {
   "cell_type": "code",
   "execution_count": 184,
   "metadata": {
    "ExecuteTime": {
     "end_time": "2019-12-02T22:50:02.359194Z",
     "start_time": "2019-12-02T22:50:02.349330Z"
    }
   },
   "outputs": [],
   "source": [
    "dict_tw_mix =  {'Start_UTC':{'data':rtw[1]['utc']*3600.0,'unit':'seconds from midnight UTC',\n",
    "                           'long_description':'time keeping, based on UTC midnight'},\n",
    "      'COD':{'data':rtw[1]['COD'],'unit':'None','long_description':'Cloud Optical Depth of overlying cloud'},\n",
    "      'REF':{'data':rtw[1]['REF'],'unit':'micrometer',\n",
    "             'long_description':'Cloud drop effective radius for liquid clouds'},\n",
    "      'COD_err':{'data':rtw[1]['COD_ERR'],'unit':'None',\n",
    "                     'long_description':'Retrieval uncertainty of Cloud Optical Depth'},\n",
    "      'REF_err':{'data':rtw[1]['REF_ERR'],'unit':'micrometer',\n",
    "                    'long_description':'Retrieval uncertainty of Cloud effective radius.'}}"
   ]
  },
  {
   "cell_type": "code",
   "execution_count": 185,
   "metadata": {
    "ExecuteTime": {
     "end_time": "2019-12-02T22:50:02.672656Z",
     "start_time": "2019-12-02T22:50:02.666111Z"
    }
   },
   "outputs": [],
   "source": [
    "hdict_tw_mix = hdict_twv\n",
    "hdict_tw_mix['special_comments'] = 'Mixed-phase cloud case from LeBlanc et al., 2015'"
   ]
  },
  {
   "cell_type": "code",
   "execution_count": 186,
   "metadata": {
    "ExecuteTime": {
     "end_time": "2019-12-02T22:50:02.955042Z",
     "start_time": "2019-12-02T22:50:02.939182Z"
    }
   },
   "outputs": [
    {
     "name": "stdout",
     "output_type": "stream",
     "text": [
      "COD\n",
      "COD_err\n",
      "REF\n",
      "REF_err\n",
      "File writing successful to: /mnt/c/Users/lebla/Research/SSFR3/SSFR-2wvl-CLD_Boulder_20120806_R0.ict\n"
     ]
    }
   ],
   "source": [
    "wu.write_ict(hdict_tw_mix,dict_tw_mix,filepath=fp,\n",
    "              data_id='SSFR_2wvl_CLD',loc_id='Boulder',date=days[1],rev='R0',order=order_twv) "
   ]
  },
  {
   "cell_type": "markdown",
   "metadata": {},
   "source": [
    "### Save ice cloud"
   ]
  },
  {
   "cell_type": "code",
   "execution_count": 263,
   "metadata": {
    "ExecuteTime": {
     "end_time": "2019-12-03T00:40:03.484582Z",
     "start_time": "2019-12-03T00:40:03.472622Z"
    }
   },
   "outputs": [],
   "source": [
    "dict_tw_ice =  {'Start_UTC':{'data':rtw[2]['utc']*3600.0,'unit':'seconds from midnight UTC',\n",
    "                           'long_description':'time keeping, based on UTC midnight'},\n",
    "      'COD':{'data':rtw[2]['COD'],'unit':'None','long_description':'Cloud Optical Depth of overlying cloud'},\n",
    "      'REF':{'data':rtw[2]['REF'],'unit':'micrometer',\n",
    "             'long_description':'Cloud drop effective radius for liquid clouds'},\n",
    "      'COD_err':{'data':rtw[2]['COD_ERR'],'unit':'None',\n",
    "                     'long_description':'Retrieval uncertainty of Cloud Optical Depth'},\n",
    "      'REF_err':{'data':rtw[2]['REF_ERR'],'unit':'micrometer',\n",
    "                    'long_description':'Retrieval uncertainty of Cloud effective radius.'}}"
   ]
  },
  {
   "cell_type": "code",
   "execution_count": 188,
   "metadata": {
    "ExecuteTime": {
     "end_time": "2019-12-02T22:50:05.666825Z",
     "start_time": "2019-12-02T22:50:05.661062Z"
    }
   },
   "outputs": [],
   "source": [
    "hdict_tw_ice = hdict_twv\n",
    "hdict_tw_ice['special_comments'] = 'Ice cloud case from LeBlanc et al., 2015'"
   ]
  },
  {
   "cell_type": "code",
   "execution_count": 189,
   "metadata": {
    "ExecuteTime": {
     "end_time": "2019-12-02T22:50:05.978676Z",
     "start_time": "2019-12-02T22:50:05.959083Z"
    }
   },
   "outputs": [
    {
     "name": "stdout",
     "output_type": "stream",
     "text": [
      "COD\n",
      "COD_err\n",
      "REF\n",
      "REF_err\n",
      "File writing successful to: /mnt/c/Users/lebla/Research/SSFR3/SSFR-2wvl-CLD_Boulder_20130110_R0.ict\n"
     ]
    }
   ],
   "source": [
    "wu.write_ict(hdict_tw_ice,dict_tw_ice,filepath=fp,\n",
    "              data_id='SSFR_2wvl_CLD',loc_id='Boulder',date=days[2],rev='R0',order=order_twv) "
   ]
  },
  {
   "cell_type": "markdown",
   "metadata": {},
   "source": [
    "## Spectra"
   ]
  },
  {
   "cell_type": "code",
   "execution_count": 216,
   "metadata": {
    "ExecuteTime": {
     "end_time": "2019-12-02T23:11:37.897469Z",
     "start_time": "2019-12-02T23:11:37.891820Z"
    }
   },
   "outputs": [],
   "source": [
    "lat = 40.01\n",
    "lon = -105.25\n",
    "alt = 1660.0"
   ]
  },
  {
   "cell_type": "code",
   "execution_count": 193,
   "metadata": {
    "ExecuteTime": {
     "end_time": "2019-12-02T23:01:22.935532Z",
     "start_time": "2019-12-02T23:01:22.925069Z"
    }
   },
   "outputs": [
    {
     "data": {
      "text/plain": [
       "['status',\n",
       " 'darks',\n",
       " 'zenlambda',\n",
       " 'zer',\n",
       " 'nadlambda',\n",
       " 'nspectra',\n",
       " 'zspectra',\n",
       " 'sat',\n",
       " 'ner',\n",
       " 'tmhrs']"
      ]
     },
     "execution_count": 193,
     "metadata": {},
     "output_type": "execute_result"
    }
   ],
   "source": [
    "sp_liq.keys()"
   ]
  },
  {
   "cell_type": "code",
   "execution_count": 225,
   "metadata": {
    "ExecuteTime": {
     "end_time": "2019-12-03T00:10:29.875705Z",
     "start_time": "2019-12-03T00:10:29.869430Z"
    }
   },
   "outputs": [],
   "source": [
    "sp = [sp_liq,sp_mix,sp_ice]"
   ]
  },
  {
   "cell_type": "code",
   "execution_count": 230,
   "metadata": {
    "ExecuteTime": {
     "end_time": "2019-12-03T00:14:59.742919Z",
     "start_time": "2019-12-03T00:14:59.738952Z"
    }
   },
   "outputs": [],
   "source": [
    "ut = [[15.0,16.0],[22.0,23.0],[17.5,19.5]]"
   ]
  },
  {
   "cell_type": "code",
   "execution_count": 257,
   "metadata": {
    "ExecuteTime": {
     "end_time": "2019-12-03T00:39:14.821044Z",
     "start_time": "2019-12-03T00:39:13.314495Z"
    }
   },
   "outputs": [],
   "source": [
    "rsp = []\n",
    "for i,g in enumerate(sp):\n",
    "    fsp = {}\n",
    "    dtu = np.array([datetime(int(days[i][0:4]),int(days[i][4:6]),int(days[i][6:8])+(int(u)/24+1),\n",
    "                             int(u%24),int((u-int(u))*60),int(((u-int(u))*60)-int((u-int(u))*60))*60,\n",
    "                             tzinfo=pytz.timezone('UTC')) for u in g['tmhrs']])\n",
    "    sza, azi = mu.get_sza_azi(lat,lon,dtu,alt=alt)\n",
    "    tp = (g['tmhrs']>=ut[i][0]) & (g['tmhrs']<=ut[i][1]) & (g['sat']==0) & (g['zspectra'][:,50]>0.0003)\n",
    "    fsp['utc'] = g['tmhrs'][tp]\n",
    "    fsp['sza'] = np.array(sza)[tp]\n",
    "    fsp['wvl'] = g['zenlambda']\n",
    "    fsp['rad'] = g['zspectra'][tp,:]\n",
    "    rsp.append(fsp)"
   ]
  },
  {
   "cell_type": "code",
   "execution_count": 254,
   "metadata": {
    "ExecuteTime": {
     "end_time": "2019-12-03T00:34:28.238386Z",
     "start_time": "2019-12-03T00:34:28.226200Z"
    }
   },
   "outputs": [],
   "source": [
    "hdict_sp = {'PI':'Samuel LeBlanc',\n",
    "     'Institution':'NASA Ames Research Center',\n",
    "     'Instrument':'Solar Spectral Flux Radiometer - 3 (SSFR3)',\n",
    "     'campaign':'University of Colorado Skywatch Observatory',\n",
    "     'special_comments':'',\n",
    "     'PI_contact':'Samuel.leblanc@nasa.gov',\n",
    "     'platform':'Roof top University of Colorado',\n",
    "     'location':'University of Colorado, Duane rooftop, Boulder, Colorado, USA, Lat: 40.01 N, Lon: 105.25 W, Alt: 1660 m',\n",
    "     'instrument_info':'SSFR spectral radiances with zenith narrow field of view radiance light collector',\n",
    "     'data_info':'Radiance calibrated with lab measurement using NIST traceable lamp and spectralon panel. See details in LeBlanc et al., 2015, AMT, DOI:10.5194/amt-8-1361-2015 ',\n",
    "     'uncertainty':'month to month variability of accuracy at 8% in radiance. spectral and day to day precision at higher than 0.1%',\n",
    "     'DM_contact':'Samuel LeBlanc, samuel.leblanc@nasa.gov',\n",
    "     'project_info':'N/A',\n",
    "     'stipulations':'',\n",
    "     'rev_comments':'R0: Data from LeBlanc et al., 2015 publication, released to A. Kohkanovsky in December, 2019.'\n",
    "    }"
   ]
  },
  {
   "cell_type": "code",
   "execution_count": 259,
   "metadata": {
    "ExecuteTime": {
     "end_time": "2019-12-03T00:39:25.226262Z",
     "start_time": "2019-12-03T00:39:25.208561Z"
    }
   },
   "outputs": [
    {
     "data": {
      "text/plain": [
       "array([ 350.92947,  354.22186,  357.5145 ,  360.8074 ,  364.10052,\n",
       "        367.39383,  370.6874 ,  373.98114,  377.2751 ,  380.56924,\n",
       "        383.86356,  387.15802,  390.45264,  393.7474 ,  397.04233,\n",
       "        400.33737,  403.63254,  406.9278 ,  410.22314,  413.51862,\n",
       "        416.81412,  420.10977,  423.40543,  426.70114,  429.9969 ,\n",
       "        433.2927 ,  436.5885 ,  439.8843 ,  443.18015,  446.47595,\n",
       "        449.7718 ,  453.06757,  456.3633 ,  459.65903,  462.95468,\n",
       "        466.25027,  469.54578,  472.8412 ,  476.13654,  479.43176,\n",
       "        482.7269 ,  486.02188,  489.31677,  492.6115 ,  495.90607,\n",
       "        499.2005 ,  502.49475,  505.78888,  509.08276,  512.3764 ,\n",
       "        515.66986,  518.9632 ,  522.2562 ,  525.549  ,  528.84155,\n",
       "        532.1339 ,  535.4259 ,  538.7177 ,  542.00916,  545.3004 ,\n",
       "        548.5913 ,  551.8819 ,  555.1721 ,  558.46204,  561.7516 ,\n",
       "        565.04083,  568.3298 ,  571.6182 ,  574.90643,  578.1941 ,\n",
       "        581.4815 ,  584.7683 ,  588.05493,  591.34106,  594.6267 ,\n",
       "        597.9119 ,  601.19666,  604.4809 ,  607.7647 ,  611.0481 ,\n",
       "        614.3309 ,  617.6133 ,  620.895  ,  624.1764 ,  627.4571 ,\n",
       "        630.73737,  634.017  ,  637.29614,  640.57465,  643.85266,\n",
       "        647.13   ,  650.4068 ,  653.68304,  656.9585 ,  660.2335 ,\n",
       "        663.50775,  666.7814 ,  670.0544 ,  673.3267 ,  676.5983 ,\n",
       "        679.8693 ,  683.1396 ,  686.4091 ,  689.678  ,  692.9461 ,\n",
       "        696.21356,  699.48016,  702.7461 ,  706.01117,  709.27563,\n",
       "        712.5391 ,  715.802  ,  719.06396,  722.3252 ,  725.5856 ,\n",
       "        728.84515,  732.1038 ,  735.36163,  738.6187 ,  741.8748 ,\n",
       "        745.1301 ,  748.3844 ,  751.638  ,  754.8905 ,  758.1422 ,\n",
       "        761.393  ,  764.6428 ,  767.89166,  771.1396 ,  774.3865 ,\n",
       "        777.6325 ,  780.87756,  784.12146,  787.36456,  790.6065 ,\n",
       "        793.84753,  797.08746,  800.3264 ,  803.5643 ,  806.8011 ,\n",
       "        810.03687,  813.27155,  816.50507,  819.73755,  822.96893,\n",
       "        826.1992 ,  829.42834,  832.65643,  835.8833 ,  839.109  ,\n",
       "        842.33356,  845.5569 ,  848.7791 ,  852.0001 ,  855.2199 ,\n",
       "        858.43854,  861.65594,  864.8721 ,  868.087  ,  871.30066,\n",
       "        874.5131 ,  877.7242 ,  880.9341 ,  884.1427 ,  887.3499 ,\n",
       "        890.5559 ,  893.76056,  896.96387,  900.1659 ,  903.3666 ,\n",
       "        906.5659 ,  909.7638 ,  912.96045,  916.1556 ,  919.3494 ,\n",
       "        922.5418 ,  925.7328 ,  928.92236,  932.1105 ,  935.2972 ,\n",
       "        938.48236,  941.6662 ,  944.8485 ,  948.02936,  951.2087 ,\n",
       "        954.38666,  957.563  ,  960.73785,  963.91113,  967.0829 ,\n",
       "        970.2531 ,  973.4218 ,  976.5889 ,  979.75446,  986.1411 ,\n",
       "        992.3718 ,  998.6005 , 1004.8271 , 1011.0516 , 1017.274  ,\n",
       "       1023.49426, 1029.7123 , 1035.9282 , 1042.142  , 1048.3535 ,\n",
       "       1054.5626 , 1060.7694 , 1066.974  , 1073.1764 , 1079.3762 ,\n",
       "       1085.5736 , 1091.7688 , 1097.9614 , 1104.1515 , 1110.3391 ,\n",
       "       1116.5243 , 1122.707  , 1128.887  , 1135.0643 , 1141.2393 ,\n",
       "       1147.4115 , 1153.5808 , 1159.7477 , 1165.9119 , 1172.0732 ,\n",
       "       1178.2318 , 1184.3876 , 1190.5405 , 1196.6908 , 1202.8379 ,\n",
       "       1208.9822 , 1215.1237 , 1221.2623 , 1227.3978 , 1233.5302 ,\n",
       "       1239.6598 , 1245.7864 , 1251.9095 , 1258.0299 , 1264.147  ,\n",
       "       1270.2611 , 1276.3718 , 1282.4794 , 1288.584  , 1294.6852 ,\n",
       "       1300.783  , 1306.8774 , 1312.9689 , 1319.0569 , 1325.1414 ,\n",
       "       1331.2224 , 1337.3002 , 1343.3745 , 1349.4452 , 1355.5125 ,\n",
       "       1361.5763 , 1367.6365 , 1373.693  , 1379.7461 , 1385.7955 ,\n",
       "       1391.8413 , 1397.8833 , 1403.9215 , 1409.9563 , 1415.9872 ,\n",
       "       1422.0143 , 1428.0375 , 1434.057  , 1440.0726 , 1446.0844 ,\n",
       "       1452.0922 , 1458.0961 , 1464.0961 , 1470.0919 , 1476.0839 ,\n",
       "       1482.0718 , 1488.0557 , 1494.0354 , 1500.011  , 1505.9827 ,\n",
       "       1511.9501 , 1517.9132 , 1523.8722 , 1529.827  , 1535.7775 ,\n",
       "       1541.7236 , 1547.6655 , 1553.6031 , 1559.5365 , 1565.4651 ,\n",
       "       1571.3895 , 1577.3096 , 1583.2252 , 1589.1361 , 1595.0425 ,\n",
       "       1600.9447 , 1606.842  , 1612.7349 , 1618.6229 , 1624.5067 ,\n",
       "       1630.3857 , 1636.2599 , 1642.1293 , 1647.9941 , 1653.8542 ,\n",
       "       1659.7095 , 1665.5597 , 1671.4053 , 1677.2461 , 1683.0819 ,\n",
       "       1688.9126 , 1694.7388 , 1700.5598 , 1706.3757 , 1712.1866 ,\n",
       "       1717.9927 , 1723.7936 , 1729.5894 , 1735.38   , 1741.1655 ,\n",
       "       1746.9459 , 1752.7211 , 1758.491  , 1764.2557 , 1770.0153 ,\n",
       "       1775.7693 , 1781.5181 , 1787.2616 , 1792.9998 , 1798.7324 ,\n",
       "       1804.4596 , 1810.1815 , 1815.8981 , 1821.6089 , 1827.3142 ,\n",
       "       1833.014  , 1838.7084 , 1844.397  , 1850.0798 , 1855.7573 ,\n",
       "       1861.4291 , 1867.0951 , 1872.7552 , 1878.4099 , 1884.0587 ,\n",
       "       1889.7015 , 1895.3387 , 1900.9701 , 1906.5956 , 1912.215  ,\n",
       "       1917.8286 , 1923.4363 , 1929.038  , 1934.6337 , 1940.2234 ,\n",
       "       1945.8069 , 1951.3844 , 1956.9557 , 1962.5211 , 1968.0802 ,\n",
       "       1973.6332 , 1979.1799 , 1984.7205 , 1990.2548 , 1995.7826 ,\n",
       "       2001.3044 , 2006.82   , 2012.3289 , 2017.8314 , 2023.3276 ,\n",
       "       2028.8175 , 2034.3008 , 2039.7773 , 2045.2479 , 2050.712  ,\n",
       "       2056.1692 , 2061.6199 , 2067.064  , 2072.5012 , 2077.932  ,\n",
       "       2083.3562 , 2088.7737 , 2094.1846 , 2099.5884 , 2104.9856 ,\n",
       "       2110.3755 , 2115.7593 , 2121.1357 , 2126.5054 , 2131.8684 ,\n",
       "       2137.2246 , 2142.5735 , 2147.9153 ], dtype=float32)"
      ]
     },
     "execution_count": 259,
     "metadata": {},
     "output_type": "execute_result"
    }
   ],
   "source": [
    "rsp[0]['wvl']"
   ]
  },
  {
   "cell_type": "markdown",
   "metadata": {},
   "source": [
    "### Save the liquid cloud"
   ]
  },
  {
   "cell_type": "code",
   "execution_count": 275,
   "metadata": {
    "ExecuteTime": {
     "end_time": "2019-12-03T01:07:24.644142Z",
     "start_time": "2019-12-03T01:07:24.635635Z"
    }
   },
   "outputs": [],
   "source": [
    "dict_sp_liq =  {'Start_UTC':{'data':rsp[0]['utc']*3600.0,'unit':'seconds from midnight UTC',\n",
    "                           'long_description':'time keeping, based on UTC midnight'},\n",
    "      'SZA':{'data':rsp[0]['sza'],'unit':'degrees','long_description':'Solar Zenith Angle of observations'}}\n",
    "order_sp = ['SZA']"
   ]
  },
  {
   "cell_type": "code",
   "execution_count": 276,
   "metadata": {
    "ExecuteTime": {
     "end_time": "2019-12-03T01:07:25.260083Z",
     "start_time": "2019-12-03T01:07:25.251738Z"
    }
   },
   "outputs": [],
   "source": [
    "for i,n in enumerate(rsp[0]['wvl']):\n",
    "    dict_sp_liq['rad_{:06.1f}'.format(n)]={'data':rsp[0]['rad'][:,i],'unit':'W/m^2/nm/sr','long_description':'Zenith radiance measured at {} nm'.format(n)}\n",
    "    order_sp.append('rad_{:06.1f}'.format(n))"
   ]
  },
  {
   "cell_type": "code",
   "execution_count": 277,
   "metadata": {
    "ExecuteTime": {
     "end_time": "2019-12-03T01:07:29.240212Z",
     "start_time": "2019-12-03T01:07:29.235100Z"
    }
   },
   "outputs": [],
   "source": [
    "hdict_sp_liq = hdict_sp\n",
    "hdict_sp_liq['special_comments'] = 'Liquid cloud case from LeBlanc et al., 2015'"
   ]
  },
  {
   "cell_type": "code",
   "execution_count": 278,
   "metadata": {
    "ExecuteTime": {
     "end_time": "2019-12-03T01:08:14.055851Z",
     "start_time": "2019-12-03T01:08:11.580426Z"
    }
   },
   "outputs": [
    {
     "name": "stdout",
     "output_type": "stream",
     "text": [
      "SZA\n",
      "rad_0350.9\n",
      "rad_0354.2\n",
      "rad_0357.5\n",
      "rad_0360.8\n",
      "rad_0364.1\n",
      "rad_0367.4\n",
      "rad_0370.7\n",
      "rad_0374.0\n",
      "rad_0377.3\n",
      "rad_0380.6\n",
      "rad_0383.9\n",
      "rad_0387.2\n",
      "rad_0390.5\n",
      "rad_0393.7\n",
      "rad_0397.0\n",
      "rad_0400.3\n",
      "rad_0403.6\n",
      "rad_0406.9\n",
      "rad_0410.2\n",
      "rad_0413.5\n",
      "rad_0416.8\n",
      "rad_0420.1\n",
      "rad_0423.4\n",
      "rad_0426.7\n",
      "rad_0430.0\n",
      "rad_0433.3\n",
      "rad_0436.6\n",
      "rad_0439.9\n",
      "rad_0443.2\n",
      "rad_0446.5\n",
      "rad_0449.8\n",
      "rad_0453.1\n",
      "rad_0456.4\n",
      "rad_0459.7\n",
      "rad_0463.0\n",
      "rad_0466.3\n",
      "rad_0469.5\n",
      "rad_0472.8\n",
      "rad_0476.1\n",
      "rad_0479.4\n",
      "rad_0482.7\n",
      "rad_0486.0\n",
      "rad_0489.3\n",
      "rad_0492.6\n",
      "rad_0495.9\n",
      "rad_0499.2\n",
      "rad_0502.5\n",
      "rad_0505.8\n",
      "rad_0509.1\n",
      "rad_0512.4\n",
      "rad_0515.7\n",
      "rad_0519.0\n",
      "rad_0522.3\n",
      "rad_0525.5\n",
      "rad_0528.8\n",
      "rad_0532.1\n",
      "rad_0535.4\n",
      "rad_0538.7\n",
      "rad_0542.0\n",
      "rad_0545.3\n",
      "rad_0548.6\n",
      "rad_0551.9\n",
      "rad_0555.2\n",
      "rad_0558.5\n",
      "rad_0561.8\n",
      "rad_0565.0\n",
      "rad_0568.3\n",
      "rad_0571.6\n",
      "rad_0574.9\n",
      "rad_0578.2\n",
      "rad_0581.5\n",
      "rad_0584.8\n",
      "rad_0588.1\n",
      "rad_0591.3\n",
      "rad_0594.6\n",
      "rad_0597.9\n",
      "rad_0601.2\n",
      "rad_0604.5\n",
      "rad_0607.8\n",
      "rad_0611.0\n",
      "rad_0614.3\n",
      "rad_0617.6\n",
      "rad_0620.9\n",
      "rad_0624.2\n",
      "rad_0627.5\n",
      "rad_0630.7\n",
      "rad_0634.0\n",
      "rad_0637.3\n",
      "rad_0640.6\n",
      "rad_0643.9\n",
      "rad_0647.1\n",
      "rad_0650.4\n",
      "rad_0653.7\n",
      "rad_0657.0\n",
      "rad_0660.2\n",
      "rad_0663.5\n",
      "rad_0666.8\n",
      "rad_0670.1\n",
      "rad_0673.3\n",
      "rad_0676.6\n",
      "rad_0679.9\n",
      "rad_0683.1\n",
      "rad_0686.4\n",
      "rad_0689.7\n",
      "rad_0692.9\n",
      "rad_0696.2\n",
      "rad_0699.5\n",
      "rad_0702.7\n",
      "rad_0706.0\n",
      "rad_0709.3\n",
      "rad_0712.5\n",
      "rad_0715.8\n",
      "rad_0719.1\n",
      "rad_0722.3\n",
      "rad_0725.6\n",
      "rad_0728.8\n",
      "rad_0732.1\n",
      "rad_0735.4\n",
      "rad_0738.6\n",
      "rad_0741.9\n",
      "rad_0745.1\n",
      "rad_0748.4\n",
      "rad_0751.6\n",
      "rad_0754.9\n",
      "rad_0758.1\n",
      "rad_0761.4\n",
      "rad_0764.6\n",
      "rad_0767.9\n",
      "rad_0771.1\n",
      "rad_0774.4\n",
      "rad_0777.6\n",
      "rad_0780.9\n",
      "rad_0784.1\n",
      "rad_0787.4\n",
      "rad_0790.6\n",
      "rad_0793.8\n",
      "rad_0797.1\n",
      "rad_0800.3\n",
      "rad_0803.6\n",
      "rad_0806.8\n",
      "rad_0810.0\n",
      "rad_0813.3\n",
      "rad_0816.5\n",
      "rad_0819.7\n",
      "rad_0823.0\n",
      "rad_0826.2\n",
      "rad_0829.4\n",
      "rad_0832.7\n",
      "rad_0835.9\n",
      "rad_0839.1\n",
      "rad_0842.3\n",
      "rad_0845.6\n",
      "rad_0848.8\n",
      "rad_0852.0\n",
      "rad_0855.2\n",
      "rad_0858.4\n",
      "rad_0861.7\n",
      "rad_0864.9\n",
      "rad_0868.1\n",
      "rad_0871.3\n",
      "rad_0874.5\n",
      "rad_0877.7\n",
      "rad_0880.9\n",
      "rad_0884.1\n",
      "rad_0887.3\n",
      "rad_0890.6\n",
      "rad_0893.8\n",
      "rad_0897.0\n",
      "rad_0900.2\n",
      "rad_0903.4\n",
      "rad_0906.6\n",
      "rad_0909.8\n",
      "rad_0913.0\n",
      "rad_0916.2\n",
      "rad_0919.3\n",
      "rad_0922.5\n",
      "rad_0925.7\n",
      "rad_0928.9\n",
      "rad_0932.1\n",
      "rad_0935.3\n",
      "rad_0938.5\n",
      "rad_0941.7\n",
      "rad_0944.8\n",
      "rad_0948.0\n",
      "rad_0951.2\n",
      "rad_0954.4\n",
      "rad_0957.6\n",
      "rad_0960.7\n",
      "rad_0963.9\n",
      "rad_0967.1\n",
      "rad_0970.3\n",
      "rad_0973.4\n",
      "rad_0976.6\n",
      "rad_0979.8\n",
      "rad_0986.1\n",
      "rad_0992.4\n",
      "rad_0998.6\n",
      "rad_1004.8\n",
      "rad_1011.1\n",
      "rad_1017.3\n",
      "rad_1023.5\n",
      "rad_1029.7\n",
      "rad_1035.9\n",
      "rad_1042.1\n",
      "rad_1048.4\n",
      "rad_1054.6\n",
      "rad_1060.8\n",
      "rad_1067.0\n",
      "rad_1073.2\n",
      "rad_1079.4\n",
      "rad_1085.6\n",
      "rad_1091.8\n",
      "rad_1098.0\n",
      "rad_1104.2\n",
      "rad_1110.3\n",
      "rad_1116.5\n",
      "rad_1122.7\n",
      "rad_1128.9\n",
      "rad_1135.1\n",
      "rad_1141.2\n",
      "rad_1147.4\n",
      "rad_1153.6\n",
      "rad_1159.7\n",
      "rad_1165.9\n",
      "rad_1172.1\n",
      "rad_1178.2\n",
      "rad_1184.4\n",
      "rad_1190.5\n",
      "rad_1196.7\n",
      "rad_1202.8\n",
      "rad_1209.0\n",
      "rad_1215.1\n",
      "rad_1221.3\n",
      "rad_1227.4\n",
      "rad_1233.5\n",
      "rad_1239.7\n",
      "rad_1245.8\n",
      "rad_1251.9\n",
      "rad_1258.0\n",
      "rad_1264.1\n",
      "rad_1270.3\n",
      "rad_1276.4\n",
      "rad_1282.5\n",
      "rad_1288.6\n",
      "rad_1294.7\n",
      "rad_1300.8\n",
      "rad_1306.9\n",
      "rad_1313.0\n",
      "rad_1319.1\n",
      "rad_1325.1\n",
      "rad_1331.2\n",
      "rad_1337.3\n",
      "rad_1343.4\n",
      "rad_1349.4\n",
      "rad_1355.5\n",
      "rad_1361.6\n",
      "rad_1367.6\n",
      "rad_1373.7\n",
      "rad_1379.7\n",
      "rad_1385.8\n",
      "rad_1391.8\n",
      "rad_1397.9\n",
      "rad_1403.9\n",
      "rad_1410.0\n",
      "rad_1416.0\n",
      "rad_1422.0\n",
      "rad_1428.0\n",
      "rad_1434.1\n",
      "rad_1440.1\n",
      "rad_1446.1\n",
      "rad_1452.1\n",
      "rad_1458.1\n",
      "rad_1464.1\n",
      "rad_1470.1\n",
      "rad_1476.1\n",
      "rad_1482.1\n",
      "rad_1488.1\n",
      "rad_1494.0\n",
      "rad_1500.0\n",
      "rad_1506.0\n",
      "rad_1512.0\n",
      "rad_1517.9\n",
      "rad_1523.9\n",
      "rad_1529.8\n",
      "rad_1535.8\n",
      "rad_1541.7\n",
      "rad_1547.7\n",
      "rad_1553.6\n",
      "rad_1559.5\n",
      "rad_1565.5\n",
      "rad_1571.4\n",
      "rad_1577.3\n",
      "rad_1583.2\n",
      "rad_1589.1\n",
      "rad_1595.0\n",
      "rad_1600.9\n",
      "rad_1606.8\n",
      "rad_1612.7\n",
      "rad_1618.6\n",
      "rad_1624.5\n",
      "rad_1630.4\n",
      "rad_1636.3\n",
      "rad_1642.1\n",
      "rad_1648.0\n",
      "rad_1653.9\n",
      "rad_1659.7\n",
      "rad_1665.6\n",
      "rad_1671.4\n",
      "rad_1677.2\n",
      "rad_1683.1\n",
      "rad_1688.9\n",
      "rad_1694.7\n",
      "rad_1700.6\n",
      "rad_1706.4\n",
      "rad_1712.2\n",
      "rad_1718.0\n",
      "rad_1723.8\n",
      "rad_1729.6\n",
      "rad_1735.4\n",
      "rad_1741.2\n",
      "rad_1746.9\n",
      "rad_1752.7\n",
      "rad_1758.5\n",
      "rad_1764.3\n",
      "rad_1770.0\n",
      "rad_1775.8\n",
      "rad_1781.5\n",
      "rad_1787.3\n",
      "rad_1793.0\n",
      "rad_1798.7\n",
      "rad_1804.5\n",
      "rad_1810.2\n",
      "rad_1815.9\n",
      "rad_1821.6\n",
      "rad_1827.3\n",
      "rad_1833.0\n",
      "rad_1838.7\n",
      "rad_1844.4\n",
      "rad_1850.1\n",
      "rad_1855.8\n",
      "rad_1861.4\n",
      "rad_1867.1\n",
      "rad_1872.8\n",
      "rad_1878.4\n",
      "rad_1884.1\n",
      "rad_1889.7\n",
      "rad_1895.3\n",
      "rad_1901.0\n",
      "rad_1906.6\n",
      "rad_1912.2\n",
      "rad_1917.8\n",
      "rad_1923.4\n",
      "rad_1929.0\n",
      "rad_1934.6\n",
      "rad_1940.2\n",
      "rad_1945.8\n",
      "rad_1951.4\n",
      "rad_1957.0\n",
      "rad_1962.5\n",
      "rad_1968.1\n",
      "rad_1973.6\n",
      "rad_1979.2\n",
      "rad_1984.7\n",
      "rad_1990.3\n",
      "rad_1995.8\n",
      "rad_2001.3\n",
      "rad_2006.8\n",
      "rad_2012.3\n",
      "rad_2017.8\n",
      "rad_2023.3\n",
      "rad_2028.8\n",
      "rad_2034.3\n",
      "rad_2039.8\n",
      "rad_2045.2\n",
      "rad_2050.7\n",
      "rad_2056.2\n",
      "rad_2061.6\n",
      "rad_2067.1\n",
      "rad_2072.5\n",
      "rad_2077.9\n",
      "rad_2083.4\n",
      "rad_2088.8\n",
      "rad_2094.2\n",
      "rad_2099.6\n",
      "rad_2105.0\n",
      "rad_2110.4\n",
      "rad_2115.8\n",
      "rad_2121.1\n",
      "rad_2126.5\n",
      "rad_2131.9\n",
      "rad_2137.2\n",
      "rad_2142.6\n",
      "rad_2147.9\n",
      "File writing successful to: /mnt/c/Users/lebla/Research/SSFR3/SSFR-Zenith-radiance_Boulder_20120525_R0.ict\n"
     ]
    }
   ],
   "source": [
    "wu.write_ict(hdict_sp_liq,dict_sp_liq,filepath=fp,\n",
    "              data_id='SSFR_Zenith_radiance',loc_id='Boulder',date=days[0],rev='R0',order=order_sp) "
   ]
  },
  {
   "cell_type": "markdown",
   "metadata": {},
   "source": [
    "### Save the mix phase cloud"
   ]
  },
  {
   "cell_type": "code",
   "execution_count": 279,
   "metadata": {
    "ExecuteTime": {
     "end_time": "2019-12-03T01:09:57.670305Z",
     "start_time": "2019-12-03T01:09:57.662814Z"
    }
   },
   "outputs": [],
   "source": [
    "dict_sp_mix =  {'Start_UTC':{'data':rsp[1]['utc']*3600.0,'unit':'seconds from midnight UTC',\n",
    "                           'long_description':'time keeping, based on UTC midnight'},\n",
    "      'SZA':{'data':rsp[1]['sza'],'unit':'degrees','long_description':'Solar Zenith Angle of observations'}}"
   ]
  },
  {
   "cell_type": "code",
   "execution_count": 280,
   "metadata": {
    "ExecuteTime": {
     "end_time": "2019-12-03T01:10:34.383743Z",
     "start_time": "2019-12-03T01:10:34.375259Z"
    }
   },
   "outputs": [],
   "source": [
    "for i,n in enumerate(rsp[1]['wvl']):\n",
    "    dict_sp_mix['rad_{:06.1f}'.format(n)]={'data':rsp[1]['rad'][:,i],'unit':'W/m^2/nm/sr','long_description':'Zenith radiance measured at {} nm'.format(n)}"
   ]
  },
  {
   "cell_type": "code",
   "execution_count": 281,
   "metadata": {
    "ExecuteTime": {
     "end_time": "2019-12-03T01:10:52.123330Z",
     "start_time": "2019-12-03T01:10:52.119176Z"
    }
   },
   "outputs": [],
   "source": [
    "hdict_sp_mix = hdict_sp\n",
    "hdict_sp_mix['special_comments'] = 'Mixed-phase cloud case from LeBlanc et al., 2015'"
   ]
  },
  {
   "cell_type": "code",
   "execution_count": 282,
   "metadata": {
    "ExecuteTime": {
     "end_time": "2019-12-03T01:11:17.606585Z",
     "start_time": "2019-12-03T01:11:14.863505Z"
    }
   },
   "outputs": [
    {
     "name": "stdout",
     "output_type": "stream",
     "text": [
      "SZA\n",
      "rad_0350.9\n",
      "rad_0354.2\n",
      "rad_0357.5\n",
      "rad_0360.8\n",
      "rad_0364.1\n",
      "rad_0367.4\n",
      "rad_0370.7\n",
      "rad_0374.0\n",
      "rad_0377.3\n",
      "rad_0380.6\n",
      "rad_0383.9\n",
      "rad_0387.2\n",
      "rad_0390.5\n",
      "rad_0393.7\n",
      "rad_0397.0\n",
      "rad_0400.3\n",
      "rad_0403.6\n",
      "rad_0406.9\n",
      "rad_0410.2\n",
      "rad_0413.5\n",
      "rad_0416.8\n",
      "rad_0420.1\n",
      "rad_0423.4\n",
      "rad_0426.7\n",
      "rad_0430.0\n",
      "rad_0433.3\n",
      "rad_0436.6\n",
      "rad_0439.9\n",
      "rad_0443.2\n",
      "rad_0446.5\n",
      "rad_0449.8\n",
      "rad_0453.1\n",
      "rad_0456.4\n",
      "rad_0459.7\n",
      "rad_0463.0\n",
      "rad_0466.3\n",
      "rad_0469.5\n",
      "rad_0472.8\n",
      "rad_0476.1\n",
      "rad_0479.4\n",
      "rad_0482.7\n",
      "rad_0486.0\n",
      "rad_0489.3\n",
      "rad_0492.6\n",
      "rad_0495.9\n",
      "rad_0499.2\n",
      "rad_0502.5\n",
      "rad_0505.8\n",
      "rad_0509.1\n",
      "rad_0512.4\n",
      "rad_0515.7\n",
      "rad_0519.0\n",
      "rad_0522.3\n",
      "rad_0525.5\n",
      "rad_0528.8\n",
      "rad_0532.1\n",
      "rad_0535.4\n",
      "rad_0538.7\n",
      "rad_0542.0\n",
      "rad_0545.3\n",
      "rad_0548.6\n",
      "rad_0551.9\n",
      "rad_0555.2\n",
      "rad_0558.5\n",
      "rad_0561.8\n",
      "rad_0565.0\n",
      "rad_0568.3\n",
      "rad_0571.6\n",
      "rad_0574.9\n",
      "rad_0578.2\n",
      "rad_0581.5\n",
      "rad_0584.8\n",
      "rad_0588.1\n",
      "rad_0591.3\n",
      "rad_0594.6\n",
      "rad_0597.9\n",
      "rad_0601.2\n",
      "rad_0604.5\n",
      "rad_0607.8\n",
      "rad_0611.0\n",
      "rad_0614.3\n",
      "rad_0617.6\n",
      "rad_0620.9\n",
      "rad_0624.2\n",
      "rad_0627.5\n",
      "rad_0630.7\n",
      "rad_0634.0\n",
      "rad_0637.3\n",
      "rad_0640.6\n",
      "rad_0643.9\n",
      "rad_0647.1\n",
      "rad_0650.4\n",
      "rad_0653.7\n",
      "rad_0657.0\n",
      "rad_0660.2\n",
      "rad_0663.5\n",
      "rad_0666.8\n",
      "rad_0670.1\n",
      "rad_0673.3\n",
      "rad_0676.6\n",
      "rad_0679.9\n",
      "rad_0683.1\n",
      "rad_0686.4\n",
      "rad_0689.7\n",
      "rad_0692.9\n",
      "rad_0696.2\n",
      "rad_0699.5\n",
      "rad_0702.7\n",
      "rad_0706.0\n",
      "rad_0709.3\n",
      "rad_0712.5\n",
      "rad_0715.8\n",
      "rad_0719.1\n",
      "rad_0722.3\n",
      "rad_0725.6\n",
      "rad_0728.8\n",
      "rad_0732.1\n",
      "rad_0735.4\n",
      "rad_0738.6\n",
      "rad_0741.9\n",
      "rad_0745.1\n",
      "rad_0748.4\n",
      "rad_0751.6\n",
      "rad_0754.9\n",
      "rad_0758.1\n",
      "rad_0761.4\n",
      "rad_0764.6\n",
      "rad_0767.9\n",
      "rad_0771.1\n",
      "rad_0774.4\n",
      "rad_0777.6\n",
      "rad_0780.9\n",
      "rad_0784.1\n",
      "rad_0787.4\n",
      "rad_0790.6\n",
      "rad_0793.8\n",
      "rad_0797.1\n",
      "rad_0800.3\n",
      "rad_0803.6\n",
      "rad_0806.8\n",
      "rad_0810.0\n",
      "rad_0813.3\n",
      "rad_0816.5\n",
      "rad_0819.7\n",
      "rad_0823.0\n",
      "rad_0826.2\n",
      "rad_0829.4\n",
      "rad_0832.7\n",
      "rad_0835.9\n",
      "rad_0839.1\n",
      "rad_0842.3\n",
      "rad_0845.6\n",
      "rad_0848.8\n",
      "rad_0852.0\n",
      "rad_0855.2\n",
      "rad_0858.4\n",
      "rad_0861.7\n",
      "rad_0864.9\n",
      "rad_0868.1\n",
      "rad_0871.3\n",
      "rad_0874.5\n",
      "rad_0877.7\n",
      "rad_0880.9\n",
      "rad_0884.1\n",
      "rad_0887.3\n",
      "rad_0890.6\n",
      "rad_0893.8\n",
      "rad_0897.0\n",
      "rad_0900.2\n",
      "rad_0903.4\n",
      "rad_0906.6\n",
      "rad_0909.8\n",
      "rad_0913.0\n",
      "rad_0916.2\n",
      "rad_0919.3\n",
      "rad_0922.5\n",
      "rad_0925.7\n",
      "rad_0928.9\n",
      "rad_0932.1\n",
      "rad_0935.3\n",
      "rad_0938.5\n",
      "rad_0941.7\n",
      "rad_0944.8\n",
      "rad_0948.0\n",
      "rad_0951.2\n",
      "rad_0954.4\n",
      "rad_0957.6\n",
      "rad_0960.7\n",
      "rad_0963.9\n",
      "rad_0967.1\n",
      "rad_0970.3\n",
      "rad_0973.4\n",
      "rad_0976.6\n",
      "rad_0979.8\n",
      "rad_0986.1\n",
      "rad_0992.4\n",
      "rad_0998.6\n",
      "rad_1004.8\n",
      "rad_1011.1\n",
      "rad_1017.3\n",
      "rad_1023.5\n",
      "rad_1029.7\n",
      "rad_1035.9\n",
      "rad_1042.1\n",
      "rad_1048.4\n",
      "rad_1054.6\n",
      "rad_1060.8\n",
      "rad_1067.0\n",
      "rad_1073.2\n",
      "rad_1079.4\n",
      "rad_1085.6\n",
      "rad_1091.8\n",
      "rad_1098.0\n",
      "rad_1104.2\n",
      "rad_1110.3\n",
      "rad_1116.5\n",
      "rad_1122.7\n",
      "rad_1128.9\n",
      "rad_1135.1\n",
      "rad_1141.2\n",
      "rad_1147.4\n",
      "rad_1153.6\n",
      "rad_1159.7\n",
      "rad_1165.9\n",
      "rad_1172.1\n",
      "rad_1178.2\n",
      "rad_1184.4\n",
      "rad_1190.5\n",
      "rad_1196.7\n",
      "rad_1202.8\n",
      "rad_1209.0\n",
      "rad_1215.1\n",
      "rad_1221.3\n",
      "rad_1227.4\n",
      "rad_1233.5\n",
      "rad_1239.7\n",
      "rad_1245.8\n",
      "rad_1251.9\n",
      "rad_1258.0\n",
      "rad_1264.1\n",
      "rad_1270.3\n",
      "rad_1276.4\n",
      "rad_1282.5\n",
      "rad_1288.6\n",
      "rad_1294.7\n",
      "rad_1300.8\n",
      "rad_1306.9\n",
      "rad_1313.0\n",
      "rad_1319.1\n",
      "rad_1325.1\n",
      "rad_1331.2\n",
      "rad_1337.3\n",
      "rad_1343.4\n",
      "rad_1349.4\n",
      "rad_1355.5\n",
      "rad_1361.6\n",
      "rad_1367.6\n",
      "rad_1373.7\n",
      "rad_1379.7\n",
      "rad_1385.8\n",
      "rad_1391.8\n",
      "rad_1397.9\n",
      "rad_1403.9\n",
      "rad_1410.0\n",
      "rad_1416.0\n",
      "rad_1422.0\n",
      "rad_1428.0\n",
      "rad_1434.1\n",
      "rad_1440.1\n",
      "rad_1446.1\n",
      "rad_1452.1\n",
      "rad_1458.1\n",
      "rad_1464.1\n",
      "rad_1470.1\n",
      "rad_1476.1\n",
      "rad_1482.1\n",
      "rad_1488.1\n",
      "rad_1494.0\n",
      "rad_1500.0\n",
      "rad_1506.0\n",
      "rad_1512.0\n",
      "rad_1517.9\n",
      "rad_1523.9\n",
      "rad_1529.8\n",
      "rad_1535.8\n",
      "rad_1541.7\n",
      "rad_1547.7\n",
      "rad_1553.6\n",
      "rad_1559.5\n",
      "rad_1565.5\n",
      "rad_1571.4\n",
      "rad_1577.3\n",
      "rad_1583.2\n",
      "rad_1589.1\n",
      "rad_1595.0\n",
      "rad_1600.9\n",
      "rad_1606.8\n",
      "rad_1612.7\n",
      "rad_1618.6\n",
      "rad_1624.5\n",
      "rad_1630.4\n",
      "rad_1636.3\n",
      "rad_1642.1\n",
      "rad_1648.0\n",
      "rad_1653.9\n",
      "rad_1659.7\n",
      "rad_1665.6\n",
      "rad_1671.4\n",
      "rad_1677.2\n",
      "rad_1683.1\n",
      "rad_1688.9\n",
      "rad_1694.7\n",
      "rad_1700.6\n",
      "rad_1706.4\n",
      "rad_1712.2\n",
      "rad_1718.0\n",
      "rad_1723.8\n",
      "rad_1729.6\n",
      "rad_1735.4\n",
      "rad_1741.2\n",
      "rad_1746.9\n",
      "rad_1752.7\n",
      "rad_1758.5\n",
      "rad_1764.3\n",
      "rad_1770.0\n",
      "rad_1775.8\n",
      "rad_1781.5\n",
      "rad_1787.3\n",
      "rad_1793.0\n",
      "rad_1798.7\n",
      "rad_1804.5\n",
      "rad_1810.2\n",
      "rad_1815.9\n",
      "rad_1821.6\n",
      "rad_1827.3\n",
      "rad_1833.0\n",
      "rad_1838.7\n",
      "rad_1844.4\n",
      "rad_1850.1\n",
      "rad_1855.8\n",
      "rad_1861.4\n",
      "rad_1867.1\n",
      "rad_1872.8\n",
      "rad_1878.4\n",
      "rad_1884.1\n",
      "rad_1889.7\n",
      "rad_1895.3\n",
      "rad_1901.0\n",
      "rad_1906.6\n",
      "rad_1912.2\n",
      "rad_1917.8\n",
      "rad_1923.4\n",
      "rad_1929.0\n",
      "rad_1934.6\n",
      "rad_1940.2\n",
      "rad_1945.8\n",
      "rad_1951.4\n",
      "rad_1957.0\n",
      "rad_1962.5\n",
      "rad_1968.1\n",
      "rad_1973.6\n",
      "rad_1979.2\n",
      "rad_1984.7\n",
      "rad_1990.3\n",
      "rad_1995.8\n",
      "rad_2001.3\n",
      "rad_2006.8\n",
      "rad_2012.3\n",
      "rad_2017.8\n",
      "rad_2023.3\n",
      "rad_2028.8\n",
      "rad_2034.3\n",
      "rad_2039.8\n",
      "rad_2045.2\n",
      "rad_2050.7\n",
      "rad_2056.2\n",
      "rad_2061.6\n",
      "rad_2067.1\n",
      "rad_2072.5\n",
      "rad_2077.9\n",
      "rad_2083.4\n",
      "rad_2088.8\n",
      "rad_2094.2\n",
      "rad_2099.6\n",
      "rad_2105.0\n",
      "rad_2110.4\n",
      "rad_2115.8\n",
      "rad_2121.1\n",
      "rad_2126.5\n",
      "rad_2131.9\n",
      "rad_2137.2\n",
      "rad_2142.6\n",
      "rad_2147.9\n",
      "File writing successful to: /mnt/c/Users/lebla/Research/SSFR3/SSFR-Zenith-radiance_Boulder_20120806_R0.ict\n"
     ]
    }
   ],
   "source": [
    "wu.write_ict(hdict_sp_mix,dict_sp_mix,filepath=fp,\n",
    "              data_id='SSFR_Zenith_radiance',loc_id='Boulder',date=days[1],rev='R0',order=order_sp)"
   ]
  },
  {
   "cell_type": "markdown",
   "metadata": {},
   "source": [
    "### Save the ice cloud"
   ]
  },
  {
   "cell_type": "code",
   "execution_count": 287,
   "metadata": {
    "ExecuteTime": {
     "end_time": "2019-12-03T01:13:27.230359Z",
     "start_time": "2019-12-03T01:13:27.222704Z"
    }
   },
   "outputs": [],
   "source": [
    "dict_sp_ice =  {'Start_UTC':{'data':rsp[2]['utc']*3600.0,'unit':'seconds from midnight UTC',\n",
    "                           'long_description':'time keeping, based on UTC midnight'},\n",
    "      'SZA':{'data':rsp[2]['sza'],'unit':'degrees','long_description':'Solar Zenith Angle of observations'}}\n",
    "order_spi = ['SZA']"
   ]
  },
  {
   "cell_type": "code",
   "execution_count": 288,
   "metadata": {
    "ExecuteTime": {
     "end_time": "2019-12-03T01:13:27.777532Z",
     "start_time": "2019-12-03T01:13:27.767727Z"
    }
   },
   "outputs": [],
   "source": [
    "for i,n in enumerate(rsp[2]['wvl']):\n",
    "    dict_sp_ice['rad_{:06.1f}'.format(n)]={'data':rsp[2]['rad'][:,i],'unit':'W/m^2/nm/sr','long_description':'Zenith radiance measured at {} nm'.format(n)}\n",
    "    order_spi.append('rad_{:06.1f}'.format(n))"
   ]
  },
  {
   "cell_type": "code",
   "execution_count": 289,
   "metadata": {
    "ExecuteTime": {
     "end_time": "2019-12-03T01:13:28.350669Z",
     "start_time": "2019-12-03T01:13:28.343404Z"
    }
   },
   "outputs": [],
   "source": [
    "hdict_sp_ice = hdict_sp\n",
    "hdict_sp_ice['special_comments'] = 'Ice cloud case from LeBlanc et al., 2015'"
   ]
  },
  {
   "cell_type": "code",
   "execution_count": 290,
   "metadata": {
    "ExecuteTime": {
     "end_time": "2019-12-03T01:13:36.799016Z",
     "start_time": "2019-12-03T01:13:31.656851Z"
    }
   },
   "outputs": [
    {
     "name": "stdout",
     "output_type": "stream",
     "text": [
      "SZA\n",
      "rad_0350.9\n",
      "rad_0354.2\n",
      "rad_0357.5\n",
      "rad_0360.8\n",
      "rad_0364.1\n",
      "rad_0367.4\n",
      "rad_0370.7\n",
      "rad_0374.0\n",
      "rad_0377.3\n",
      "rad_0380.6\n",
      "rad_0383.9\n",
      "rad_0387.2\n",
      "rad_0390.5\n",
      "rad_0393.7\n",
      "rad_0397.0\n",
      "rad_0400.3\n",
      "rad_0403.6\n",
      "rad_0406.9\n",
      "rad_0410.2\n",
      "rad_0413.5\n",
      "rad_0416.8\n",
      "rad_0420.1\n",
      "rad_0423.4\n",
      "rad_0426.7\n",
      "rad_0430.0\n",
      "rad_0433.3\n",
      "rad_0436.6\n",
      "rad_0439.9\n",
      "rad_0443.2\n",
      "rad_0446.5\n",
      "rad_0449.8\n",
      "rad_0453.1\n",
      "rad_0456.4\n",
      "rad_0459.7\n",
      "rad_0463.0\n",
      "rad_0466.3\n",
      "rad_0469.5\n",
      "rad_0472.8\n",
      "rad_0476.1\n",
      "rad_0479.4\n",
      "rad_0482.7\n",
      "rad_0486.0\n",
      "rad_0489.3\n",
      "rad_0492.6\n",
      "rad_0495.9\n",
      "rad_0499.2\n",
      "rad_0502.5\n",
      "rad_0505.8\n",
      "rad_0509.1\n",
      "rad_0512.4\n",
      "rad_0515.7\n",
      "rad_0519.0\n",
      "rad_0522.3\n",
      "rad_0525.5\n",
      "rad_0528.8\n",
      "rad_0532.1\n",
      "rad_0535.4\n",
      "rad_0538.7\n",
      "rad_0542.0\n",
      "rad_0545.3\n",
      "rad_0548.6\n",
      "rad_0551.9\n",
      "rad_0555.2\n",
      "rad_0558.5\n",
      "rad_0561.8\n",
      "rad_0565.0\n",
      "rad_0568.3\n",
      "rad_0571.6\n",
      "rad_0574.9\n",
      "rad_0578.2\n",
      "rad_0581.5\n",
      "rad_0584.8\n",
      "rad_0588.1\n",
      "rad_0591.3\n",
      "rad_0594.6\n",
      "rad_0597.9\n",
      "rad_0601.2\n",
      "rad_0604.5\n",
      "rad_0607.8\n",
      "rad_0611.0\n",
      "rad_0614.3\n",
      "rad_0617.6\n",
      "rad_0620.9\n",
      "rad_0624.2\n",
      "rad_0627.5\n",
      "rad_0630.7\n",
      "rad_0634.0\n",
      "rad_0637.3\n",
      "rad_0640.6\n",
      "rad_0643.9\n",
      "rad_0647.1\n",
      "rad_0650.4\n",
      "rad_0653.7\n",
      "rad_0657.0\n",
      "rad_0660.2\n",
      "rad_0663.5\n",
      "rad_0666.8\n",
      "rad_0670.1\n",
      "rad_0673.3\n",
      "rad_0676.6\n",
      "rad_0679.9\n",
      "rad_0683.1\n",
      "rad_0686.4\n",
      "rad_0689.7\n",
      "rad_0692.9\n",
      "rad_0696.2\n",
      "rad_0699.5\n",
      "rad_0702.7\n",
      "rad_0706.0\n",
      "rad_0709.3\n",
      "rad_0712.5\n",
      "rad_0715.8\n",
      "rad_0719.1\n",
      "rad_0722.3\n",
      "rad_0725.6\n",
      "rad_0728.8\n",
      "rad_0732.1\n",
      "rad_0735.4\n",
      "rad_0738.6\n",
      "rad_0741.9\n",
      "rad_0745.1\n",
      "rad_0748.4\n",
      "rad_0751.6\n",
      "rad_0754.9\n",
      "rad_0758.1\n",
      "rad_0761.4\n",
      "rad_0764.6\n",
      "rad_0767.9\n",
      "rad_0771.1\n",
      "rad_0774.4\n",
      "rad_0777.6\n",
      "rad_0780.9\n",
      "rad_0784.1\n",
      "rad_0787.4\n",
      "rad_0790.6\n",
      "rad_0793.8\n",
      "rad_0797.1\n",
      "rad_0800.3\n",
      "rad_0803.6\n",
      "rad_0806.8\n",
      "rad_0810.0\n",
      "rad_0813.3\n",
      "rad_0816.5\n",
      "rad_0819.7\n",
      "rad_0823.0\n",
      "rad_0826.2\n",
      "rad_0829.4\n",
      "rad_0832.7\n",
      "rad_0835.9\n",
      "rad_0839.1\n",
      "rad_0842.3\n",
      "rad_0845.6\n",
      "rad_0848.8\n",
      "rad_0852.0\n",
      "rad_0855.2\n",
      "rad_0858.4\n",
      "rad_0861.7\n",
      "rad_0864.9\n",
      "rad_0868.1\n",
      "rad_0871.3\n",
      "rad_0874.5\n",
      "rad_0877.7\n",
      "rad_0880.9\n",
      "rad_0884.1\n",
      "rad_0887.3\n",
      "rad_0890.6\n",
      "rad_0893.8\n",
      "rad_0897.0\n",
      "rad_0900.2\n",
      "rad_0903.4\n",
      "rad_0906.6\n",
      "rad_0909.8\n",
      "rad_0913.0\n",
      "rad_0916.2\n",
      "rad_0919.3\n",
      "rad_0922.5\n",
      "rad_0925.7\n",
      "rad_0928.9\n",
      "rad_0932.1\n",
      "rad_0935.3\n",
      "rad_0938.5\n",
      "rad_0941.7\n",
      "rad_0944.8\n",
      "rad_0948.0\n",
      "rad_0951.2\n",
      "rad_0954.4\n",
      "rad_0957.6\n",
      "rad_0960.7\n",
      "rad_0963.9\n",
      "rad_0967.1\n",
      "rad_0970.3\n",
      "rad_0973.4\n",
      "rad_0976.6\n",
      "rad_0979.8\n",
      "rad_0986.1\n",
      "rad_0992.4\n",
      "rad_0998.6\n",
      "rad_1004.8\n",
      "rad_1011.1\n",
      "rad_1017.3\n",
      "rad_1023.5\n",
      "rad_1029.7\n",
      "rad_1035.9\n",
      "rad_1042.1\n",
      "rad_1048.4\n",
      "rad_1054.6\n",
      "rad_1060.8\n",
      "rad_1067.0\n",
      "rad_1073.2\n",
      "rad_1079.4\n",
      "rad_1085.6\n",
      "rad_1091.8\n",
      "rad_1098.0\n",
      "rad_1104.2\n",
      "rad_1110.3\n",
      "rad_1116.5\n",
      "rad_1122.7\n",
      "rad_1128.9\n",
      "rad_1135.1\n",
      "rad_1141.2\n",
      "rad_1147.4\n",
      "rad_1153.6\n",
      "rad_1159.7\n",
      "rad_1165.9\n",
      "rad_1172.1\n",
      "rad_1178.2\n",
      "rad_1184.4\n",
      "rad_1190.5\n",
      "rad_1196.7\n",
      "rad_1202.8\n",
      "rad_1209.0\n",
      "rad_1215.1\n",
      "rad_1221.3\n",
      "rad_1227.4\n",
      "rad_1233.5\n",
      "rad_1239.7\n",
      "rad_1245.8\n",
      "rad_1251.9\n",
      "rad_1258.0\n",
      "rad_1264.1\n",
      "rad_1270.3\n",
      "rad_1276.4\n",
      "rad_1282.5\n",
      "rad_1288.6\n",
      "rad_1294.7\n",
      "rad_1300.8\n",
      "rad_1306.9\n",
      "rad_1313.0\n",
      "rad_1319.1\n",
      "rad_1325.1\n",
      "rad_1331.2\n",
      "rad_1337.3\n",
      "rad_1343.4\n",
      "rad_1349.4\n",
      "rad_1355.5\n",
      "rad_1361.6\n",
      "rad_1367.6\n",
      "rad_1373.7\n",
      "rad_1379.7\n",
      "rad_1385.8\n",
      "rad_1391.8\n",
      "rad_1397.9\n",
      "rad_1403.9\n",
      "rad_1410.0\n",
      "rad_1416.0\n",
      "rad_1422.0\n",
      "rad_1428.0\n",
      "rad_1434.1\n",
      "rad_1440.1\n",
      "rad_1446.1\n",
      "rad_1452.1\n",
      "rad_1458.1\n",
      "rad_1464.1\n",
      "rad_1470.1\n",
      "rad_1476.1\n",
      "rad_1482.1\n",
      "rad_1488.1\n",
      "rad_1494.0\n",
      "rad_1500.0\n",
      "rad_1506.0\n",
      "rad_1512.0\n",
      "rad_1517.9\n",
      "rad_1523.9\n",
      "rad_1529.8\n",
      "rad_1535.8\n",
      "rad_1541.7\n",
      "rad_1547.7\n",
      "rad_1553.6\n",
      "rad_1559.5\n",
      "rad_1565.5\n",
      "rad_1571.4\n",
      "rad_1577.3\n",
      "rad_1583.2\n",
      "rad_1589.1\n",
      "rad_1595.0\n",
      "rad_1600.9\n",
      "rad_1606.8\n",
      "rad_1612.7\n",
      "rad_1618.6\n",
      "rad_1624.5\n",
      "rad_1630.4\n",
      "rad_1636.3\n",
      "rad_1642.1\n",
      "rad_1648.0\n",
      "rad_1653.9\n",
      "rad_1659.7\n",
      "rad_1665.6\n",
      "rad_1671.4\n",
      "rad_1677.2\n",
      "rad_1683.1\n",
      "rad_1688.9\n",
      "rad_1694.7\n",
      "rad_1700.6\n",
      "rad_1706.4\n",
      "rad_1712.2\n",
      "rad_1718.0\n",
      "rad_1723.8\n",
      "rad_1729.6\n",
      "rad_1735.4\n",
      "rad_1741.2\n",
      "rad_1746.9\n",
      "rad_1752.7\n",
      "rad_1758.5\n",
      "rad_1764.3\n",
      "rad_1770.0\n",
      "rad_1775.8\n",
      "rad_1781.5\n",
      "rad_1787.3\n",
      "rad_1793.0\n",
      "rad_1798.7\n",
      "rad_1804.5\n",
      "rad_1810.2\n",
      "rad_1815.9\n",
      "rad_1821.6\n",
      "rad_1827.3\n",
      "rad_1833.0\n",
      "rad_1838.7\n",
      "rad_1844.4\n",
      "rad_1850.1\n",
      "rad_1855.8\n",
      "rad_1861.4\n",
      "rad_1867.1\n",
      "rad_1872.8\n",
      "rad_1878.4\n",
      "rad_1884.1\n",
      "rad_1889.7\n",
      "rad_1895.3\n",
      "rad_1901.0\n",
      "rad_1906.6\n",
      "rad_1912.2\n",
      "rad_1917.8\n",
      "rad_1923.4\n",
      "rad_1929.0\n",
      "rad_1934.6\n",
      "rad_1940.2\n",
      "rad_1945.8\n",
      "rad_1951.4\n",
      "rad_1957.0\n",
      "rad_1962.5\n",
      "rad_1968.1\n",
      "rad_1973.6\n",
      "rad_1979.2\n",
      "rad_1984.7\n",
      "rad_1990.3\n",
      "rad_1995.8\n",
      "rad_2001.3\n",
      "rad_2006.8\n",
      "rad_2012.3\n",
      "rad_2017.8\n",
      "rad_2023.3\n",
      "rad_2028.8\n",
      "rad_2034.3\n",
      "rad_2039.8\n",
      "rad_2045.2\n",
      "rad_2050.7\n",
      "rad_2056.2\n",
      "rad_2061.6\n",
      "rad_2067.1\n",
      "rad_2072.5\n",
      "rad_2077.9\n",
      "rad_2083.4\n",
      "rad_2088.8\n",
      "rad_2094.2\n",
      "rad_2099.6\n",
      "rad_2105.0\n",
      "rad_2110.4\n",
      "rad_2115.8\n",
      "rad_2121.1\n",
      "rad_2126.5\n",
      "rad_2131.9\n",
      "rad_2137.2\n",
      "rad_2142.6\n",
      "rad_2147.9\n",
      "File writing successful to: /mnt/c/Users/lebla/Research/SSFR3/SSFR-Zenith-radiance_Boulder_20130110_R0.ict\n"
     ]
    }
   ],
   "source": [
    "wu.write_ict(hdict_sp_ice,dict_sp_ice,filepath=fp,\n",
    "              data_id='SSFR_Zenith_radiance',loc_id='Boulder',date=days[2],rev='R0',order=order_spi)"
   ]
  },
  {
   "cell_type": "markdown",
   "metadata": {},
   "source": [
    "# Update for specific format requested by Kokhanovsky"
   ]
  },
  {
   "cell_type": "markdown",
   "metadata": {},
   "source": [
    "From: Kokhanovsky Alexander <a.kokhanovsky@vitrocisetbelgium.com>\n",
    "Sent: Tuesday, December 3, 2019 1:46 AM\n",
    "\n",
    "My ideal format is\n",
    "\n",
    "Date, SZA, T at 3 wavelengths (440, 1020,1640nm), surface albedo at these 3 wavelengths, your results for COT, LWP,a_ef(spectral method)\n",
    "\n",
    " "
   ]
  },
  {
   "cell_type": "code",
   "execution_count": null,
   "metadata": {},
   "outputs": [],
   "source": []
  }
 ],
 "metadata": {
  "kernelspec": {
   "display_name": "Python 2",
   "language": "python",
   "name": "python2"
  },
  "language_info": {
   "codemirror_mode": {
    "name": "ipython",
    "version": 2
   },
   "file_extension": ".py",
   "mimetype": "text/x-python",
   "name": "python",
   "nbconvert_exporter": "python",
   "pygments_lexer": "ipython2",
   "version": "2.7.15+"
  },
  "toc": {
   "base_numbering": 1,
   "nav_menu": {},
   "number_sections": true,
   "sideBar": false,
   "skip_h1_title": false,
   "title_cell": "Table of Contents",
   "title_sidebar": "Contents",
   "toc_cell": false,
   "toc_position": {
    "height": "568.656px",
    "left": "116px",
    "top": "386px",
    "width": "430.99px"
   },
   "toc_section_display": true,
   "toc_window_display": true
  }
 },
 "nbformat": 4,
 "nbformat_minor": 2
}
