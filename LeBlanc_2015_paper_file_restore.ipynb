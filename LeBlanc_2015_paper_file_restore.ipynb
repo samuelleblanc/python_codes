{
 "cells": [
  {
   "cell_type": "markdown",
   "metadata": {},
   "source": [
    "# Intro\n",
    "Name:  \n",
    "\n",
    "    LeBlanc_2015_paper_file_restore\n",
    "\n",
    "Purpose:  \n",
    "\n",
    "    Laod the cloud property retrieval data from the paper, for saving into a shareable format with Kokhanovsky\n",
    "  \n",
    "Input:\n",
    "\n",
    "    none at command line\n",
    "  \n",
    "Output:\n",
    "\n",
    "    ict file save\n",
    "  \n",
    "Keywords:\n",
    "\n",
    "    none\n",
    "  \n",
    "Dependencies:\n",
    "\n",
    "    - Sp_parameters.py : for Sp class definition, and for defining the functions used to build parameters\n",
    "    - matplotlib\n",
    "    - mpltools\n",
    "    - numpy\n",
    "    - scipy : for saving and reading\n",
    "    - plotting_utils (user defined plotting routines)\n",
    "    - hdf5storage\n",
    "  \n",
    "Needed Files:\n",
    "\n",
    "  - file.rc : for consistent creation of look of matplotlib figures\n",
    "  - retrieved_kisq_20120525_v9.out  retrieved_kisq_20120806_v9.out  retrieved_kisq_20130110_v9.out\n",
    "  \n",
    " Modification History:\n",
    " \n",
    "     Written: by Samuel LeBlanc, Santa Cruz, 2019-11-29"
   ]
  },
  {
   "cell_type": "markdown",
   "metadata": {},
   "source": [
    "# Import modules"
   ]
  },
  {
   "cell_type": "code",
   "execution_count": 1,
   "metadata": {
    "ExecuteTime": {
     "end_time": "2020-01-17T21:49:27.692410Z",
     "start_time": "2020-01-17T21:49:21.368606Z"
    }
   },
   "outputs": [
    {
     "name": "stderr",
     "output_type": "stream",
     "text": [
      "/usr/lib/python2.7/dist-packages/h5py/__init__.py:36: FutureWarning: Conversion of the second argument of issubdtype from `float` to `np.floating` is deprecated. In future, it will be treated as `np.float64 == np.dtype(float).type`.\n",
      "  from ._conv import register_converters as _register_converters\n"
     ]
    }
   ],
   "source": [
    "import numpy as np\n",
    "import hdf5storage as hs\n",
    "import os\n",
    "import write_utils as wu\n",
    "import scipy.io as sio\n",
    "from path_utils import getpath\n",
    "import matplotlib.pyplot as plt"
   ]
  },
  {
   "cell_type": "code",
   "execution_count": 2,
   "metadata": {
    "ExecuteTime": {
     "end_time": "2020-01-17T21:49:27.756369Z",
     "start_time": "2020-01-17T21:49:27.698095Z"
    }
   },
   "outputs": [],
   "source": [
    "%matplotlib notebook"
   ]
  },
  {
   "cell_type": "code",
   "execution_count": 3,
   "metadata": {
    "ExecuteTime": {
     "end_time": "2020-01-17T21:49:27.808167Z",
     "start_time": "2020-01-17T21:49:27.762296Z"
    }
   },
   "outputs": [],
   "source": [
    "from Sp_parameters import smooth\n",
    "from load_utils import load_from_json, mat2py_time,toutc\n",
    "import write_utils as wu"
   ]
  },
  {
   "cell_type": "code",
   "execution_count": 4,
   "metadata": {
    "ExecuteTime": {
     "end_time": "2020-01-17T21:49:27.924063Z",
     "start_time": "2020-01-17T21:49:27.814194Z"
    }
   },
   "outputs": [],
   "source": [
    "import Sun_utils as su\n",
    "from datetime import datetime\n",
    "import pytz\n",
    "import map_utils as mu"
   ]
  },
  {
   "cell_type": "code",
   "execution_count": 5,
   "metadata": {
    "ExecuteTime": {
     "end_time": "2020-01-17T21:49:27.934429Z",
     "start_time": "2020-01-17T21:49:27.928281Z"
    }
   },
   "outputs": [],
   "source": [
    "name = 'SSFR3'"
   ]
  },
  {
   "cell_type": "code",
   "execution_count": 6,
   "metadata": {
    "ExecuteTime": {
     "end_time": "2020-01-17T21:49:27.945235Z",
     "start_time": "2020-01-17T21:49:27.940063Z"
    }
   },
   "outputs": [],
   "source": [
    "vv = 'v9'"
   ]
  },
  {
   "cell_type": "code",
   "execution_count": 7,
   "metadata": {
    "ExecuteTime": {
     "end_time": "2020-01-17T21:49:27.964232Z",
     "start_time": "2020-01-17T21:49:27.950768Z"
    }
   },
   "outputs": [
    {
     "name": "stdout",
     "output_type": "stream",
     "text": [
      "Return path named:  SSFR3 /mnt/c/Users/lebla/Research/SSFR3/\n",
      "Return path named:  SSFR3 /mnt/c/Users/lebla/Research/SSFR3/\n"
     ]
    }
   ],
   "source": [
    "fp = getpath('SSFR3')\n",
    "fp_dat = getpath('SSFR3')+'data/'"
   ]
  },
  {
   "cell_type": "markdown",
   "metadata": {},
   "source": [
    "# Load the files"
   ]
  },
  {
   "cell_type": "code",
   "execution_count": 8,
   "metadata": {
    "ExecuteTime": {
     "end_time": "2020-01-17T21:49:27.974865Z",
     "start_time": "2020-01-17T21:49:27.969525Z"
    }
   },
   "outputs": [],
   "source": [
    "days = ['20120525','20120806','20130110']\n",
    "labels = ['Liquid','Mixed-phase','Ice']"
   ]
  },
  {
   "cell_type": "code",
   "execution_count": 9,
   "metadata": {
    "ExecuteTime": {
     "end_time": "2020-01-17T21:49:27.985831Z",
     "start_time": "2020-01-17T21:49:27.980737Z"
    }
   },
   "outputs": [],
   "source": [
    "times = [[15.0,16.0],[22.0,23.0],[17.5,19.5]]"
   ]
  },
  {
   "cell_type": "markdown",
   "metadata": {},
   "source": [
    "## Load the 15 parameters retrievals"
   ]
  },
  {
   "cell_type": "code",
   "execution_count": 10,
   "metadata": {
    "ExecuteTime": {
     "end_time": "2020-01-17T21:49:28.016563Z",
     "start_time": "2020-01-17T21:49:27.991319Z"
    }
   },
   "outputs": [],
   "source": [
    "f_liq = sio.idl.readsav(fp_dat+'retrieved_kisq_{d}_{v}.out'.format(d=days[0],v=vv))\n",
    "f_mix = sio.idl.readsav(fp_dat+'retrieved_kisq_{d}_{v}.out'.format(d=days[1],v=vv))\n",
    "f_ice = sio.idl.readsav(fp_dat+'retrieved_kisq_{d}_{v}.out'.format(d=days[2],v=vv))"
   ]
  },
  {
   "cell_type": "code",
   "execution_count": 11,
   "metadata": {
    "ExecuteTime": {
     "end_time": "2020-01-17T21:49:28.034571Z",
     "start_time": "2020-01-17T21:49:28.021353Z"
    }
   },
   "outputs": [
    {
     "data": {
      "text/plain": [
       "['wp_err',\n",
       " 'ref_err',\n",
       " 'ki_rtm',\n",
       " 'wp_rtm',\n",
       " 'ref_rtm',\n",
       " 'tau_rtm',\n",
       " 'tau_err',\n",
       " 'tmhrs']"
      ]
     },
     "execution_count": 11,
     "metadata": {},
     "output_type": "execute_result"
    }
   ],
   "source": [
    "f_liq.keys()"
   ]
  },
  {
   "cell_type": "markdown",
   "metadata": {},
   "source": [
    "## Load the slope retrievals"
   ]
  },
  {
   "cell_type": "code",
   "execution_count": 12,
   "metadata": {
    "ExecuteTime": {
     "end_time": "2020-01-17T21:49:28.078047Z",
     "start_time": "2020-01-17T21:49:28.039420Z"
    }
   },
   "outputs": [],
   "source": [
    "sl_liq = sio.idl.readsav(fp_dat+'{d}_cld_parms3_1600nm.out'.format(d=days[0]))\n",
    "sl_mix = sio.idl.readsav(fp_dat+'{d}_cld_parms3_1600nm.out'.format(d=days[1]))\n",
    "sl_ice = sio.idl.readsav(fp_dat+'{d}_cld_parms3_ic_1600nm.out'.format(d=days[2]))"
   ]
  },
  {
   "cell_type": "code",
   "execution_count": 13,
   "metadata": {
    "ExecuteTime": {
     "end_time": "2020-01-17T21:49:28.094623Z",
     "start_time": "2020-01-17T21:49:28.083516Z"
    }
   },
   "outputs": [
    {
     "data": {
      "text/plain": [
       "['tau', 'etau', 'eref', 'ref', 'tmhrs']"
      ]
     },
     "execution_count": 13,
     "metadata": {},
     "output_type": "execute_result"
    }
   ],
   "source": [
    "sl_liq.keys()"
   ]
  },
  {
   "cell_type": "markdown",
   "metadata": {},
   "source": [
    "## Load the 2wvl retrievals"
   ]
  },
  {
   "cell_type": "code",
   "execution_count": 14,
   "metadata": {
    "ExecuteTime": {
     "end_time": "2020-01-17T21:49:28.129305Z",
     "start_time": "2020-01-17T21:49:28.099599Z"
    }
   },
   "outputs": [],
   "source": [
    "twv_liq = sio.idl.readsav(fp_dat+'{d}_cld_parms3_2wvl_1600nm.out'.format(d=days[0]))\n",
    "twv_mix = sio.idl.readsav(fp_dat+'{d}_cld_parms3_2wvl_1600nm.out'.format(d=days[1]))\n",
    "twv_ice = sio.idl.readsav(fp_dat+'{d}_cld_parms3_ic_2wvl_1600nm.out'.format(d=days[2]))"
   ]
  },
  {
   "cell_type": "code",
   "execution_count": 15,
   "metadata": {
    "ExecuteTime": {
     "end_time": "2020-01-17T21:49:28.144908Z",
     "start_time": "2020-01-17T21:49:28.134981Z"
    }
   },
   "outputs": [
    {
     "data": {
      "text/plain": [
       "['tau', 'etau', 'eref', 'ref', 'tmhrs']"
      ]
     },
     "execution_count": 15,
     "metadata": {},
     "output_type": "execute_result"
    }
   ],
   "source": [
    "twv_liq.keys()"
   ]
  },
  {
   "cell_type": "markdown",
   "metadata": {},
   "source": [
    "## Load the spectra"
   ]
  },
  {
   "cell_type": "code",
   "execution_count": 16,
   "metadata": {
    "ExecuteTime": {
     "end_time": "2020-01-17T21:49:30.170313Z",
     "start_time": "2020-01-17T21:49:28.151315Z"
    }
   },
   "outputs": [],
   "source": [
    "sp_liq = sio.idl.readsav(fp_dat+'{d}_calibspcs.out'.format(d=days[0],v=vv))\n",
    "sp_mix = sio.idl.readsav(fp_dat+'{d}_calibspcs.out'.format(d=days[1],v=vv))\n",
    "sp_ice = sio.idl.readsav(fp_dat+'{d}_calibspcs.out'.format(d=days[2],v=vv))"
   ]
  },
  {
   "cell_type": "code",
   "execution_count": 17,
   "metadata": {
    "ExecuteTime": {
     "end_time": "2020-01-17T21:49:30.187381Z",
     "start_time": "2020-01-17T21:49:30.176288Z"
    }
   },
   "outputs": [
    {
     "data": {
      "text/plain": [
       "['status',\n",
       " 'darks',\n",
       " 'zenlambda',\n",
       " 'zer',\n",
       " 'nadlambda',\n",
       " 'nspectra',\n",
       " 'zspectra',\n",
       " 'sat',\n",
       " 'ner',\n",
       " 'tmhrs']"
      ]
     },
     "execution_count": 17,
     "metadata": {},
     "output_type": "execute_result"
    }
   ],
   "source": [
    "sp_liq.keys()"
   ]
  },
  {
   "cell_type": "code",
   "execution_count": 18,
   "metadata": {
    "ExecuteTime": {
     "end_time": "2020-01-17T21:49:30.200255Z",
     "start_time": "2020-01-17T21:49:30.190639Z"
    }
   },
   "outputs": [
    {
     "data": {
      "text/plain": [
       "(53096, 393)"
      ]
     },
     "execution_count": 18,
     "metadata": {},
     "output_type": "execute_result"
    }
   ],
   "source": [
    "sp_liq['zspectra'].shape"
   ]
  },
  {
   "cell_type": "code",
   "execution_count": 19,
   "metadata": {
    "ExecuteTime": {
     "end_time": "2020-01-17T21:49:30.219797Z",
     "start_time": "2020-01-17T21:49:30.206705Z"
    }
   },
   "outputs": [
    {
     "data": {
      "text/plain": [
       "(53096,)"
      ]
     },
     "execution_count": 19,
     "metadata": {},
     "output_type": "execute_result"
    }
   ],
   "source": [
    "sp_liq['tmhrs'].shape"
   ]
  },
  {
   "cell_type": "code",
   "execution_count": 20,
   "metadata": {
    "ExecuteTime": {
     "end_time": "2020-01-17T21:49:30.235823Z",
     "start_time": "2020-01-17T21:49:30.224968Z"
    }
   },
   "outputs": [
    {
     "data": {
      "text/plain": [
       "array(['Measurement date    : 2012 05 25',\n",
       "       'Processing date     : 2012 11 06',\n",
       "       'Platform            : Skywatch', 'Integration times   : ',\n",
       "       '                   25          50         100         300',\n",
       "       'Response functions  :',\n",
       "       'Zenith Si           : /home/leblanc/DC3_SEAC4RS/cal/SSFR3/20120419_765C_resp_25_zensi.dat',\n",
       "       'Zenith InGaAs       : /home/leblanc/DC3_SEAC4RS/cal/SSFR3/20120419_765C_resp_50_zenir.dat',\n",
       "       'Nadir Si            : 20120508_506C_resp_100_nadsi.dat',\n",
       "       'Nadir InGaAs        : 20120508_506C_resp_300_nadir.dat',\n",
       "       'Dark Mode           : I',\n",
       "       'Saturation          :          398 spectra /       53096',\n",
       "       'Joinder Zenith      :       981.000',\n",
       "       'Joinder Nadir       :       981.000',\n",
       "       'Number data files   :          590',\n",
       "       'Number of darks     :       49',\n",
       "       'Data file location  : /argus/SSFR3/data//20120525/*.OSA'],\n",
       "      dtype=object)"
      ]
     },
     "execution_count": 20,
     "metadata": {},
     "output_type": "execute_result"
    }
   ],
   "source": [
    "sp_liq['status']"
   ]
  },
  {
   "cell_type": "markdown",
   "metadata": {},
   "source": [
    "## Load the Kurudz solar downwelling"
   ]
  },
  {
   "cell_type": "code",
   "execution_count": 21,
   "metadata": {
    "ExecuteTime": {
     "end_time": "2020-01-17T21:49:30.248284Z",
     "start_time": "2020-01-17T21:49:30.240757Z"
    }
   },
   "outputs": [
    {
     "name": "stdout",
     "output_type": "stream",
     "text": [
      "Return path named:  uvspec_dat /mnt/c/Users/lebla/Research/libradtran/libRadtran-2.0.2/data/\n"
     ]
    }
   ],
   "source": [
    "fso = getpath('uvspec_dat')"
   ]
  },
  {
   "cell_type": "code",
   "execution_count": 22,
   "metadata": {
    "ExecuteTime": {
     "end_time": "2020-01-17T21:49:30.305301Z",
     "start_time": "2020-01-17T21:49:30.251825Z"
    }
   },
   "outputs": [],
   "source": [
    "ku = np.genfromtxt(fso+'solar_flux/kurudz_1.0nm.dat')  # mW / (m2 nm), with wavelength in nm"
   ]
  },
  {
   "cell_type": "code",
   "execution_count": 23,
   "metadata": {
    "ExecuteTime": {
     "end_time": "2020-01-17T21:49:30.319189Z",
     "start_time": "2020-01-17T21:49:30.310372Z"
    }
   },
   "outputs": [
    {
     "data": {
      "text/plain": [
       "array([[2.500000e+02, 6.352968e+01],\n",
       "       [2.510000e+02, 4.395971e+01],\n",
       "       [2.520000e+02, 2.909898e+01],\n",
       "       ...,\n",
       "       [9.998000e+03, 2.441999e-01],\n",
       "       [9.999000e+03, 2.441391e-01],\n",
       "       [1.000000e+04, 2.436120e-01]])"
      ]
     },
     "execution_count": 23,
     "metadata": {},
     "output_type": "execute_result"
    }
   ],
   "source": [
    "ku"
   ]
  },
  {
   "cell_type": "code",
   "execution_count": 24,
   "metadata": {
    "ExecuteTime": {
     "end_time": "2020-01-17T21:49:30.332791Z",
     "start_time": "2020-01-17T21:49:30.324017Z"
    }
   },
   "outputs": [
    {
     "data": {
      "text/plain": [
       "980.0"
      ]
     },
     "execution_count": 24,
     "metadata": {},
     "output_type": "execute_result"
    }
   ],
   "source": [
    "ku[980-250,0]"
   ]
  },
  {
   "cell_type": "code",
   "execution_count": 25,
   "metadata": {
    "ExecuteTime": {
     "end_time": "2020-01-17T21:49:30.350338Z",
     "start_time": "2020-01-17T21:49:30.338099Z"
    }
   },
   "outputs": [],
   "source": [
    "vis_slit = np.genfromtxt(fp+'pro/rtm2/vis_1nm.dat')"
   ]
  },
  {
   "cell_type": "code",
   "execution_count": 26,
   "metadata": {
    "ExecuteTime": {
     "end_time": "2020-01-17T21:49:30.365868Z",
     "start_time": "2020-01-17T21:49:30.355152Z"
    }
   },
   "outputs": [],
   "source": [
    "nir_slit = np.genfromtxt(fp+'pro/rtm2/nir_1nm.dat')"
   ]
  },
  {
   "cell_type": "markdown",
   "metadata": {},
   "source": [
    "Calculate the downwelling solar irradiance at TOA by convolving the slit functions and the kurudz"
   ]
  },
  {
   "cell_type": "code",
   "execution_count": 27,
   "metadata": {
    "ExecuteTime": {
     "end_time": "2020-01-17T21:49:32.846700Z",
     "start_time": "2020-01-17T21:49:32.840779Z"
    }
   },
   "outputs": [],
   "source": [
    "wvl_vis = sp_liq['zenlambda'][0:194]"
   ]
  },
  {
   "cell_type": "code",
   "execution_count": 28,
   "metadata": {
    "ExecuteTime": {
     "end_time": "2020-01-17T21:49:33.088005Z",
     "start_time": "2020-01-17T21:49:33.082100Z"
    }
   },
   "outputs": [],
   "source": [
    "wvl_nir = sp_liq['zenlambda'][194:]"
   ]
  },
  {
   "cell_type": "code",
   "execution_count": 29,
   "metadata": {
    "ExecuteTime": {
     "end_time": "2020-01-17T21:49:33.246274Z",
     "start_time": "2020-01-17T21:49:33.240645Z"
    }
   },
   "outputs": [],
   "source": [
    "vis_slit[:,1] = vis_slit[:,1]/np.sum(vis_slit[:,1])"
   ]
  },
  {
   "cell_type": "code",
   "execution_count": 30,
   "metadata": {
    "ExecuteTime": {
     "end_time": "2020-01-17T21:49:33.462507Z",
     "start_time": "2020-01-17T21:49:33.457243Z"
    }
   },
   "outputs": [],
   "source": [
    "nir_slit[:,1] = nir_slit[:,1]/np.sum(nir_slit[:,1])"
   ]
  },
  {
   "cell_type": "code",
   "execution_count": 31,
   "metadata": {
    "ExecuteTime": {
     "end_time": "2020-01-17T21:49:33.691847Z",
     "start_time": "2020-01-17T21:49:33.663801Z"
    },
    "scrolled": true
   },
   "outputs": [],
   "source": [
    "ku_vis = np.array([np.sum([ku[i+7+int(j),1]*v for j,v in vis_slit]) for i,k in enumerate(ku[7:980-250,1])])"
   ]
  },
  {
   "cell_type": "code",
   "execution_count": 32,
   "metadata": {
    "ExecuteTime": {
     "end_time": "2020-01-17T21:49:34.093127Z",
     "start_time": "2020-01-17T21:49:34.073805Z"
    }
   },
   "outputs": [
    {
     "data": {
      "text/plain": [
       "array([ 124.10050785,  125.01959358,  115.79841606,  108.61789525,\n",
       "        117.35934043,  151.31395305,  213.44901876,  285.21831327,\n",
       "        340.31193372,  365.62914122,  364.90905455,  354.35178946,\n",
       "        339.92885857,  313.98624979,  274.9636492 ,  234.30685893,\n",
       "        200.38074618,  184.27528518,  187.60689558,  197.30440607,\n",
       "        198.36007712,  181.27817778,  159.44296413,  161.95810871,\n",
       "        200.18652621,  249.20701489,  273.9708007 ,  265.74466571,\n",
       "        257.40240016,  283.6528036 ,  347.87031666,  433.50309005,\n",
       "        516.1850513 ,  582.77745855,  625.32962293,  632.93851016,\n",
       "        618.20923004,  600.08896827,  588.11697965,  580.90806487,\n",
       "        581.33494542,  587.78724946,  599.7816002 ,  620.76525184,\n",
       "        637.28741009,  660.34122574,  684.99130736,  702.52902538,\n",
       "        712.71854836,  714.02320566,  714.5016885 ,  713.81277709,\n",
       "        720.54716707,  740.80602461,  762.32911606,  778.7445344 ,\n",
       "        779.42778434,  763.06840391,  747.57211625,  738.6588626 ,\n",
       "        738.3635105 ,  747.06130302,  759.29089721,  763.91598597,\n",
       "        761.3406165 ,  754.69503789,  763.65363311,  809.30953516,\n",
       "        886.9914161 ,  964.04478154, 1009.06890591, 1021.9507088 ,\n",
       "       1015.54630186, 1002.99834776,  992.60484861,  982.16753325,\n",
       "        965.8206208 ,  935.64760993,  884.687772  ,  836.35647482,\n",
       "        818.03956129,  830.86265699,  860.08576649,  876.82670315,\n",
       "        877.24888439,  874.98943695,  885.88029416,  925.25378377,\n",
       "        980.08381625, 1029.61102148, 1061.37706216, 1076.40253865,\n",
       "       1086.96456794, 1096.41110185, 1100.16920234, 1098.66936075,\n",
       "       1102.154836  , 1101.48847701, 1072.69834976, 1007.02970239,\n",
       "        933.66862441,  899.90453797,  925.33150994,  978.91639024,\n",
       "       1026.27614863, 1059.30730193, 1086.38470958, 1127.80993954,\n",
       "       1180.19813223, 1222.97347683, 1242.75928081, 1236.83415313,\n",
       "       1213.52052329, 1184.15052537, 1148.57855383, 1100.27067315,\n",
       "       1045.3055293 , 1015.17278217, 1032.87742833, 1101.38259562,\n",
       "       1188.71034999, 1231.51206995, 1210.68908362, 1144.16924255,\n",
       "       1044.12147579,  942.50314827,  869.57314116,  849.07954696,\n",
       "        875.34378093,  920.26503586,  965.41292024, 1024.55293746,\n",
       "       1107.12595829, 1173.79527014, 1177.57892891, 1107.05539698,\n",
       "       1025.28952739, 1001.48460432, 1035.89291901, 1101.06789327,\n",
       "       1204.97904868, 1350.56167617, 1518.82850646, 1653.45120014,\n",
       "       1707.75384344, 1718.31856192, 1714.63815251, 1696.7169886 ,\n",
       "       1672.47907271, 1657.46468486, 1664.43843538, 1691.85698459,\n",
       "       1720.39436009, 1749.15961098, 1772.92599426, 1788.99152795,\n",
       "       1798.66727936, 1797.44210659, 1793.34629849, 1785.13284268,\n",
       "       1764.92588911, 1733.81732083, 1705.55998949, 1695.52093514,\n",
       "       1689.07617809, 1673.23856113, 1653.32150636, 1630.11886484,\n",
       "       1613.6632548 , 1591.33819829, 1544.00646702, 1472.26061657,\n",
       "       1393.95658633, 1355.19975411, 1394.59721749, 1485.44654731,\n",
       "       1581.20159411, 1649.96932471, 1693.54483172, 1731.24619089,\n",
       "       1744.49352859, 1734.91328018, 1731.96649499, 1754.42650819,\n",
       "       1797.58733805, 1837.78044929, 1863.43557801, 1878.19847117,\n",
       "       1886.47181047, 1906.24419304, 1940.84016838, 1984.62146658,\n",
       "       2030.14348807, 2059.74017485, 2064.64545231, 2048.04826739,\n",
       "       2027.37452872, 2020.68071435, 2034.81602174, 2052.7477623 ,\n",
       "       2058.70100155, 2055.8896099 , 2051.21749767, 2051.01812477,\n",
       "       2053.73310685, 2054.78167953, 2052.29091234, 2048.04676868,\n",
       "       2047.36014584, 2050.59037463, 2059.36360073, 2068.6334728 ,\n",
       "       2072.75696597, 2072.37409114, 2069.05089425, 2069.38503843,\n",
       "       2076.37840426, 2087.05262224, 2095.39806136, 2100.35324881,\n",
       "       2101.55108974, 2098.20780993, 2094.37495768, 2089.39356682,\n",
       "       2083.60179648, 2073.72493778, 2047.74596471, 1999.12828086,\n",
       "       1935.38827495, 1891.16402017, 1884.90622107, 1911.08467972,\n",
       "       1952.31297635, 1973.93855843, 1979.31510833, 1983.77467262,\n",
       "       1990.32623689, 2006.62147921, 2015.66639554, 2005.04082936,\n",
       "       1980.24459162, 1949.29763315, 1923.81821391, 1906.21053527,\n",
       "       1897.49288923, 1898.72304145, 1908.95101659, 1932.03464464,\n",
       "       1958.85586176, 1973.2479967 , 1973.88872639, 1965.58567505,\n",
       "       1959.24223344, 1960.73489087, 1957.1402258 , 1935.36049102,\n",
       "       1903.24701116, 1866.99807477, 1824.91068294, 1777.12265876,\n",
       "       1741.57828471, 1732.3124055 , 1759.87335598, 1808.66990529,\n",
       "       1845.10422469, 1866.87747445, 1877.18661392, 1876.4063581 ,\n",
       "       1861.00211384, 1840.51872427, 1838.02820187, 1862.149954  ,\n",
       "       1899.77221605, 1926.91377374, 1920.07141365, 1892.78693368,\n",
       "       1870.7869478 , 1867.16672416, 1886.28431751, 1907.44155056,\n",
       "       1914.57216392, 1908.70522202, 1892.61536835, 1874.74704444,\n",
       "       1864.50023015, 1867.97626357, 1883.99011123, 1898.53359306,\n",
       "       1901.72613746, 1898.26850321, 1887.97405651, 1879.4536511 ,\n",
       "       1874.18974925, 1873.47389468, 1879.25733923, 1884.1945863 ,\n",
       "       1889.62783298, 1890.67424913, 1882.57399742, 1868.91984009,\n",
       "       1852.5095156 , 1838.99328267, 1836.78395758, 1845.55571956,\n",
       "       1855.60537293, 1864.55941642, 1865.04945723, 1857.08783362,\n",
       "       1848.01666359, 1842.34045492, 1843.60147929, 1848.77414926,\n",
       "       1852.16177684, 1851.08616765, 1856.59703792, 1868.99538447,\n",
       "       1879.36929701, 1880.05617211, 1870.85432769, 1861.72762232,\n",
       "       1855.53261333, 1852.7396621 , 1852.58449826, 1853.76066664,\n",
       "       1858.26757379, 1861.72114952, 1860.28674521, 1852.76455885,\n",
       "       1838.73892689, 1823.55982695, 1806.07901604, 1785.17239859,\n",
       "       1770.67350898, 1768.77771413, 1780.15143402, 1796.42253955,\n",
       "       1805.26485348, 1808.40029616, 1811.38494514, 1812.1580422 ,\n",
       "       1808.05883625, 1799.83507781, 1788.91385904, 1778.62117059,\n",
       "       1771.87083767, 1770.55913186, 1775.65171892, 1782.71624597,\n",
       "       1785.40931063, 1780.43118371, 1769.33030662, 1756.31242684,\n",
       "       1743.60576369, 1732.13316845, 1720.19926014, 1705.70450403,\n",
       "       1689.37982281, 1674.95179564, 1664.65553251, 1662.28175015,\n",
       "       1668.89034481, 1680.65251052, 1694.76179658, 1701.3654135 ,\n",
       "       1695.56867314, 1683.05238778, 1667.94233994, 1655.54122133,\n",
       "       1650.88412695, 1653.73836075, 1662.62323686, 1671.45663075,\n",
       "       1672.53988435, 1665.42625629, 1653.93272325, 1646.01172291,\n",
       "       1642.03019854, 1639.3698563 , 1637.15198142, 1635.54289448,\n",
       "       1637.19756201, 1637.2846373 , 1632.16846758, 1622.56974475,\n",
       "       1613.93501227, 1610.473437  , 1609.69975945, 1607.6642502 ,\n",
       "       1603.40643029, 1599.24741866, 1596.79577831, 1593.07467759,\n",
       "       1586.15096891, 1580.77016828, 1579.20833238, 1578.92940513,\n",
       "       1570.27863995, 1541.0752771 , 1499.03904116, 1469.28068367,\n",
       "       1470.04235215, 1497.7951828 , 1533.4742615 , 1555.79794225,\n",
       "       1564.07646079, 1565.18840434, 1561.38419547, 1555.90811395,\n",
       "       1551.15100842, 1547.9086761 , 1546.14820846, 1544.58184495,\n",
       "       1541.91937773, 1537.6542906 , 1531.91073611, 1527.09931195,\n",
       "       1524.55606608, 1522.93341751, 1521.23350727, 1518.72986814,\n",
       "       1516.07214054, 1512.2116288 , 1506.66329524, 1501.36884639,\n",
       "       1496.7775165 , 1493.39234173, 1489.33888567, 1483.60498773,\n",
       "       1477.58891466, 1475.24841753, 1476.67418821, 1479.44065654,\n",
       "       1480.45323515, 1476.5846478 , 1470.33229521, 1463.949543  ,\n",
       "       1458.77885965, 1454.72953821, 1451.4025756 , 1447.60263335,\n",
       "       1443.60925336, 1440.20700541, 1434.89574514, 1427.32197048,\n",
       "       1419.47303982, 1414.05245773, 1413.61383588, 1415.88429447,\n",
       "       1416.30012376, 1413.87950113, 1410.31934894, 1406.06418699,\n",
       "       1402.55668073, 1398.00388154, 1391.63376756, 1385.60124963,\n",
       "       1379.57903684, 1374.13055327, 1369.30019797, 1362.83089968,\n",
       "       1355.16034454, 1348.10572857, 1342.81008216, 1341.56330997,\n",
       "       1343.73686679, 1347.23147294, 1349.96427271, 1350.47621715,\n",
       "       1348.93454559, 1345.763051  , 1339.47310437, 1330.82546096,\n",
       "       1323.34033733, 1319.37325111, 1320.12901322, 1322.498087  ,\n",
       "       1323.64920853, 1323.10256095, 1319.97982406, 1315.3225063 ,\n",
       "       1308.35448214, 1299.45956986, 1290.04708276, 1281.1220996 ,\n",
       "       1275.89116454, 1276.16412881, 1278.98344154, 1281.89647865,\n",
       "       1284.0548546 , 1284.5754696 , 1283.65806594, 1280.7796015 ,\n",
       "       1275.0590259 , 1269.72179205, 1267.71342459, 1268.33790079,\n",
       "       1270.23425569, 1270.21008923, 1266.99933099, 1262.36022219,\n",
       "       1257.16289474, 1252.73137611, 1249.38369735, 1245.95195469,\n",
       "       1243.11518039, 1242.37524287, 1241.97030661, 1238.76869485,\n",
       "       1230.35509963, 1220.28350924, 1215.05326316, 1215.34246401,\n",
       "       1217.5383957 , 1216.63877436, 1212.86604748, 1209.14841546,\n",
       "       1205.72510263, 1202.59367478, 1201.83076985, 1202.71844812,\n",
       "       1203.8578308 , 1203.70544   , 1200.53879371, 1196.9672881 ,\n",
       "       1193.71642082, 1190.08713473, 1186.7480074 , 1183.46838173,\n",
       "       1180.63830093, 1179.11738623, 1177.50147606, 1175.55994177,\n",
       "       1172.24492895, 1166.25764807, 1158.22002759, 1149.21924772,\n",
       "       1141.3838768 , 1137.09030175, 1137.60609037, 1141.2293976 ,\n",
       "       1144.92162145, 1145.524545  , 1142.63686433, 1139.21406877,\n",
       "       1136.26355138, 1133.2816213 , 1129.54597816, 1124.6125328 ,\n",
       "       1121.08374894, 1118.84751303, 1116.13147789, 1112.205269  ,\n",
       "       1107.82016467, 1105.99411061, 1106.76260956, 1108.18742604,\n",
       "       1108.04867854, 1105.58910008, 1101.92633509, 1097.4300639 ,\n",
       "       1090.97616196, 1081.70525017, 1071.2949816 , 1063.20946893,\n",
       "       1059.53877828, 1060.8891108 , 1064.70819549, 1068.51714152,\n",
       "       1071.85886108, 1073.08644433, 1072.37735665, 1069.50172284,\n",
       "       1063.68320697, 1056.24564406, 1049.07741466, 1043.15455437,\n",
       "       1039.94489777, 1039.16531293, 1039.93231322, 1040.91446107,\n",
       "       1039.49563571, 1036.00291899, 1033.21627432, 1032.14791066,\n",
       "       1031.37402631, 1028.85262402, 1023.82564224, 1019.4280987 ,\n",
       "       1016.35553423, 1013.30446444, 1008.9312267 ,  999.74440626,\n",
       "        986.56379466,  975.99580114,  966.24005186,  953.0794713 ,\n",
       "        933.53778532,  918.40326384,  923.99190514,  947.24707678,\n",
       "        973.07749518,  985.21920323,  985.0487089 ,  981.97859935,\n",
       "        979.82133182,  978.05677495,  972.51302349,  956.91634628,\n",
       "        931.54899913,  910.15252302,  904.87212322,  916.5977846 ,\n",
       "        936.617036  ,  951.08807793,  957.73612488,  959.0189858 ,\n",
       "        955.50236632,  950.79977488,  947.96673602,  947.7193493 ,\n",
       "        948.40716446,  947.1755386 ,  942.18280935,  935.15668349,\n",
       "        930.43719927,  928.46632977,  928.96154255,  929.29175198,\n",
       "        926.36401261,  923.14408179,  922.22775848,  924.30852362,\n",
       "        927.92028494,  929.35981142,  927.09344329,  922.89853228,\n",
       "        919.07978432,  916.18857634,  915.06730294,  914.19607201,\n",
       "        911.94978025,  907.80884735,  900.08077963,  890.98731169,\n",
       "        884.17090265,  883.7855286 ,  889.24901498,  895.21163391,\n",
       "        896.87704208,  893.33982188,  886.8276774 ,  880.06816547,\n",
       "        875.11815453,  872.81639437,  874.20884131,  877.71218229,\n",
       "        880.21512491,  880.34829626,  878.0042459 ,  873.91205381,\n",
       "        870.04751378,  866.53225675,  861.72128128,  854.78903816,\n",
       "        845.49514419,  836.23251556,  831.54838963,  831.71691749,\n",
       "        834.58218073,  838.92049435,  842.48739656,  845.19372389,\n",
       "        846.6946213 ,  846.11799086,  845.04545459,  844.1356887 ,\n",
       "        842.35940936,  839.34830512,  836.0562373 ,  833.59973329,\n",
       "        831.67600765,  829.12890634,  824.23385885,  816.72828081,\n",
       "        809.59337586,  805.85686621,  805.58143807,  807.95718187,\n",
       "        810.79563251,  812.47498715,  814.09959373,  814.67468774,\n",
       "        813.73904241,  811.57915179,  808.15727063,  803.32829399,\n",
       "        796.5063884 ,  788.83505538,  784.48529253,  784.99703366,\n",
       "        789.17480782,  793.29763387,  793.68518266,  791.79917333,\n",
       "        788.95540746,  785.91645149,  783.23300472,  780.71111474,\n",
       "        778.29160163,  777.06861456,  776.79804761,  777.0822689 ,\n",
       "        777.4452607 ,  776.84403288,  775.73749781,  773.58783975,\n",
       "        770.70984067,  768.22216527,  766.33911349,  764.9202893 ,\n",
       "        763.62186711,  761.73401441,  760.47542476])"
      ]
     },
     "execution_count": 32,
     "metadata": {},
     "output_type": "execute_result"
    }
   ],
   "source": [
    "ku_vis"
   ]
  },
  {
   "cell_type": "code",
   "execution_count": 33,
   "metadata": {
    "ExecuteTime": {
     "end_time": "2020-01-17T21:49:34.968603Z",
     "start_time": "2020-01-17T21:49:34.583648Z"
    }
   },
   "outputs": [],
   "source": [
    "ku_nir = np.array([np.sum([ku[i+980-250+int(j),1]*v for j,v in nir_slit]) for i,k in enumerate(ku[980-250:-15,1])])"
   ]
  },
  {
   "cell_type": "code",
   "execution_count": 34,
   "metadata": {
    "ExecuteTime": {
     "end_time": "2020-01-17T21:49:35.592491Z",
     "start_time": "2020-01-17T21:49:35.523955Z"
    }
   },
   "outputs": [
    {
     "data": {
      "application/javascript": [
       "/* Put everything inside the global mpl namespace */\n",
       "window.mpl = {};\n",
       "\n",
       "\n",
       "mpl.get_websocket_type = function() {\n",
       "    if (typeof(WebSocket) !== 'undefined') {\n",
       "        return WebSocket;\n",
       "    } else if (typeof(MozWebSocket) !== 'undefined') {\n",
       "        return MozWebSocket;\n",
       "    } else {\n",
       "        alert('Your browser does not have WebSocket support.' +\n",
       "              'Please try Chrome, Safari or Firefox ≥ 6. ' +\n",
       "              'Firefox 4 and 5 are also supported but you ' +\n",
       "              'have to enable WebSockets in about:config.');\n",
       "    };\n",
       "}\n",
       "\n",
       "mpl.figure = function(figure_id, websocket, ondownload, parent_element) {\n",
       "    this.id = figure_id;\n",
       "\n",
       "    this.ws = websocket;\n",
       "\n",
       "    this.supports_binary = (this.ws.binaryType != undefined);\n",
       "\n",
       "    if (!this.supports_binary) {\n",
       "        var warnings = document.getElementById(\"mpl-warnings\");\n",
       "        if (warnings) {\n",
       "            warnings.style.display = 'block';\n",
       "            warnings.textContent = (\n",
       "                \"This browser does not support binary websocket messages. \" +\n",
       "                    \"Performance may be slow.\");\n",
       "        }\n",
       "    }\n",
       "\n",
       "    this.imageObj = new Image();\n",
       "\n",
       "    this.context = undefined;\n",
       "    this.message = undefined;\n",
       "    this.canvas = undefined;\n",
       "    this.rubberband_canvas = undefined;\n",
       "    this.rubberband_context = undefined;\n",
       "    this.format_dropdown = undefined;\n",
       "\n",
       "    this.image_mode = 'full';\n",
       "\n",
       "    this.root = $('<div/>');\n",
       "    this._root_extra_style(this.root)\n",
       "    this.root.attr('style', 'display: inline-block');\n",
       "\n",
       "    $(parent_element).append(this.root);\n",
       "\n",
       "    this._init_header(this);\n",
       "    this._init_canvas(this);\n",
       "    this._init_toolbar(this);\n",
       "\n",
       "    var fig = this;\n",
       "\n",
       "    this.waiting = false;\n",
       "\n",
       "    this.ws.onopen =  function () {\n",
       "            fig.send_message(\"supports_binary\", {value: fig.supports_binary});\n",
       "            fig.send_message(\"send_image_mode\", {});\n",
       "            if (mpl.ratio != 1) {\n",
       "                fig.send_message(\"set_dpi_ratio\", {'dpi_ratio': mpl.ratio});\n",
       "            }\n",
       "            fig.send_message(\"refresh\", {});\n",
       "        }\n",
       "\n",
       "    this.imageObj.onload = function() {\n",
       "            if (fig.image_mode == 'full') {\n",
       "                // Full images could contain transparency (where diff images\n",
       "                // almost always do), so we need to clear the canvas so that\n",
       "                // there is no ghosting.\n",
       "                fig.context.clearRect(0, 0, fig.canvas.width, fig.canvas.height);\n",
       "            }\n",
       "            fig.context.drawImage(fig.imageObj, 0, 0);\n",
       "        };\n",
       "\n",
       "    this.imageObj.onunload = function() {\n",
       "        fig.ws.close();\n",
       "    }\n",
       "\n",
       "    this.ws.onmessage = this._make_on_message_function(this);\n",
       "\n",
       "    this.ondownload = ondownload;\n",
       "}\n",
       "\n",
       "mpl.figure.prototype._init_header = function() {\n",
       "    var titlebar = $(\n",
       "        '<div class=\"ui-dialog-titlebar ui-widget-header ui-corner-all ' +\n",
       "        'ui-helper-clearfix\"/>');\n",
       "    var titletext = $(\n",
       "        '<div class=\"ui-dialog-title\" style=\"width: 100%; ' +\n",
       "        'text-align: center; padding: 3px;\"/>');\n",
       "    titlebar.append(titletext)\n",
       "    this.root.append(titlebar);\n",
       "    this.header = titletext[0];\n",
       "}\n",
       "\n",
       "\n",
       "\n",
       "mpl.figure.prototype._canvas_extra_style = function(canvas_div) {\n",
       "\n",
       "}\n",
       "\n",
       "\n",
       "mpl.figure.prototype._root_extra_style = function(canvas_div) {\n",
       "\n",
       "}\n",
       "\n",
       "mpl.figure.prototype._init_canvas = function() {\n",
       "    var fig = this;\n",
       "\n",
       "    var canvas_div = $('<div/>');\n",
       "\n",
       "    canvas_div.attr('style', 'position: relative; clear: both; outline: 0');\n",
       "\n",
       "    function canvas_keyboard_event(event) {\n",
       "        return fig.key_event(event, event['data']);\n",
       "    }\n",
       "\n",
       "    canvas_div.keydown('key_press', canvas_keyboard_event);\n",
       "    canvas_div.keyup('key_release', canvas_keyboard_event);\n",
       "    this.canvas_div = canvas_div\n",
       "    this._canvas_extra_style(canvas_div)\n",
       "    this.root.append(canvas_div);\n",
       "\n",
       "    var canvas = $('<canvas/>');\n",
       "    canvas.addClass('mpl-canvas');\n",
       "    canvas.attr('style', \"left: 0; top: 0; z-index: 0; outline: 0\")\n",
       "\n",
       "    this.canvas = canvas[0];\n",
       "    this.context = canvas[0].getContext(\"2d\");\n",
       "\n",
       "    var backingStore = this.context.backingStorePixelRatio ||\n",
       "\tthis.context.webkitBackingStorePixelRatio ||\n",
       "\tthis.context.mozBackingStorePixelRatio ||\n",
       "\tthis.context.msBackingStorePixelRatio ||\n",
       "\tthis.context.oBackingStorePixelRatio ||\n",
       "\tthis.context.backingStorePixelRatio || 1;\n",
       "\n",
       "    mpl.ratio = (window.devicePixelRatio || 1) / backingStore;\n",
       "\n",
       "    var rubberband = $('<canvas/>');\n",
       "    rubberband.attr('style', \"position: absolute; left: 0; top: 0; z-index: 1;\")\n",
       "\n",
       "    var pass_mouse_events = true;\n",
       "\n",
       "    canvas_div.resizable({\n",
       "        start: function(event, ui) {\n",
       "            pass_mouse_events = false;\n",
       "        },\n",
       "        resize: function(event, ui) {\n",
       "            fig.request_resize(ui.size.width, ui.size.height);\n",
       "        },\n",
       "        stop: function(event, ui) {\n",
       "            pass_mouse_events = true;\n",
       "            fig.request_resize(ui.size.width, ui.size.height);\n",
       "        },\n",
       "    });\n",
       "\n",
       "    function mouse_event_fn(event) {\n",
       "        if (pass_mouse_events)\n",
       "            return fig.mouse_event(event, event['data']);\n",
       "    }\n",
       "\n",
       "    rubberband.mousedown('button_press', mouse_event_fn);\n",
       "    rubberband.mouseup('button_release', mouse_event_fn);\n",
       "    // Throttle sequential mouse events to 1 every 20ms.\n",
       "    rubberband.mousemove('motion_notify', mouse_event_fn);\n",
       "\n",
       "    rubberband.mouseenter('figure_enter', mouse_event_fn);\n",
       "    rubberband.mouseleave('figure_leave', mouse_event_fn);\n",
       "\n",
       "    canvas_div.on(\"wheel\", function (event) {\n",
       "        event = event.originalEvent;\n",
       "        event['data'] = 'scroll'\n",
       "        if (event.deltaY < 0) {\n",
       "            event.step = 1;\n",
       "        } else {\n",
       "            event.step = -1;\n",
       "        }\n",
       "        mouse_event_fn(event);\n",
       "    });\n",
       "\n",
       "    canvas_div.append(canvas);\n",
       "    canvas_div.append(rubberband);\n",
       "\n",
       "    this.rubberband = rubberband;\n",
       "    this.rubberband_canvas = rubberband[0];\n",
       "    this.rubberband_context = rubberband[0].getContext(\"2d\");\n",
       "    this.rubberband_context.strokeStyle = \"#000000\";\n",
       "\n",
       "    this._resize_canvas = function(width, height) {\n",
       "        // Keep the size of the canvas, canvas container, and rubber band\n",
       "        // canvas in synch.\n",
       "        canvas_div.css('width', width)\n",
       "        canvas_div.css('height', height)\n",
       "\n",
       "        canvas.attr('width', width * mpl.ratio);\n",
       "        canvas.attr('height', height * mpl.ratio);\n",
       "        canvas.attr('style', 'width: ' + width + 'px; height: ' + height + 'px;');\n",
       "\n",
       "        rubberband.attr('width', width);\n",
       "        rubberband.attr('height', height);\n",
       "    }\n",
       "\n",
       "    // Set the figure to an initial 600x600px, this will subsequently be updated\n",
       "    // upon first draw.\n",
       "    this._resize_canvas(600, 600);\n",
       "\n",
       "    // Disable right mouse context menu.\n",
       "    $(this.rubberband_canvas).bind(\"contextmenu\",function(e){\n",
       "        return false;\n",
       "    });\n",
       "\n",
       "    function set_focus () {\n",
       "        canvas.focus();\n",
       "        canvas_div.focus();\n",
       "    }\n",
       "\n",
       "    window.setTimeout(set_focus, 100);\n",
       "}\n",
       "\n",
       "mpl.figure.prototype._init_toolbar = function() {\n",
       "    var fig = this;\n",
       "\n",
       "    var nav_element = $('<div/>')\n",
       "    nav_element.attr('style', 'width: 100%');\n",
       "    this.root.append(nav_element);\n",
       "\n",
       "    // Define a callback function for later on.\n",
       "    function toolbar_event(event) {\n",
       "        return fig.toolbar_button_onclick(event['data']);\n",
       "    }\n",
       "    function toolbar_mouse_event(event) {\n",
       "        return fig.toolbar_button_onmouseover(event['data']);\n",
       "    }\n",
       "\n",
       "    for(var toolbar_ind in mpl.toolbar_items) {\n",
       "        var name = mpl.toolbar_items[toolbar_ind][0];\n",
       "        var tooltip = mpl.toolbar_items[toolbar_ind][1];\n",
       "        var image = mpl.toolbar_items[toolbar_ind][2];\n",
       "        var method_name = mpl.toolbar_items[toolbar_ind][3];\n",
       "\n",
       "        if (!name) {\n",
       "            // put a spacer in here.\n",
       "            continue;\n",
       "        }\n",
       "        var button = $('<button/>');\n",
       "        button.addClass('ui-button ui-widget ui-state-default ui-corner-all ' +\n",
       "                        'ui-button-icon-only');\n",
       "        button.attr('role', 'button');\n",
       "        button.attr('aria-disabled', 'false');\n",
       "        button.click(method_name, toolbar_event);\n",
       "        button.mouseover(tooltip, toolbar_mouse_event);\n",
       "\n",
       "        var icon_img = $('<span/>');\n",
       "        icon_img.addClass('ui-button-icon-primary ui-icon');\n",
       "        icon_img.addClass(image);\n",
       "        icon_img.addClass('ui-corner-all');\n",
       "\n",
       "        var tooltip_span = $('<span/>');\n",
       "        tooltip_span.addClass('ui-button-text');\n",
       "        tooltip_span.html(tooltip);\n",
       "\n",
       "        button.append(icon_img);\n",
       "        button.append(tooltip_span);\n",
       "\n",
       "        nav_element.append(button);\n",
       "    }\n",
       "\n",
       "    var fmt_picker_span = $('<span/>');\n",
       "\n",
       "    var fmt_picker = $('<select/>');\n",
       "    fmt_picker.addClass('mpl-toolbar-option ui-widget ui-widget-content');\n",
       "    fmt_picker_span.append(fmt_picker);\n",
       "    nav_element.append(fmt_picker_span);\n",
       "    this.format_dropdown = fmt_picker[0];\n",
       "\n",
       "    for (var ind in mpl.extensions) {\n",
       "        var fmt = mpl.extensions[ind];\n",
       "        var option = $(\n",
       "            '<option/>', {selected: fmt === mpl.default_extension}).html(fmt);\n",
       "        fmt_picker.append(option)\n",
       "    }\n",
       "\n",
       "    // Add hover states to the ui-buttons\n",
       "    $( \".ui-button\" ).hover(\n",
       "        function() { $(this).addClass(\"ui-state-hover\");},\n",
       "        function() { $(this).removeClass(\"ui-state-hover\");}\n",
       "    );\n",
       "\n",
       "    var status_bar = $('<span class=\"mpl-message\"/>');\n",
       "    nav_element.append(status_bar);\n",
       "    this.message = status_bar[0];\n",
       "}\n",
       "\n",
       "mpl.figure.prototype.request_resize = function(x_pixels, y_pixels) {\n",
       "    // Request matplotlib to resize the figure. Matplotlib will then trigger a resize in the client,\n",
       "    // which will in turn request a refresh of the image.\n",
       "    this.send_message('resize', {'width': x_pixels, 'height': y_pixels});\n",
       "}\n",
       "\n",
       "mpl.figure.prototype.send_message = function(type, properties) {\n",
       "    properties['type'] = type;\n",
       "    properties['figure_id'] = this.id;\n",
       "    this.ws.send(JSON.stringify(properties));\n",
       "}\n",
       "\n",
       "mpl.figure.prototype.send_draw_message = function() {\n",
       "    if (!this.waiting) {\n",
       "        this.waiting = true;\n",
       "        this.ws.send(JSON.stringify({type: \"draw\", figure_id: this.id}));\n",
       "    }\n",
       "}\n",
       "\n",
       "\n",
       "mpl.figure.prototype.handle_save = function(fig, msg) {\n",
       "    var format_dropdown = fig.format_dropdown;\n",
       "    var format = format_dropdown.options[format_dropdown.selectedIndex].value;\n",
       "    fig.ondownload(fig, format);\n",
       "}\n",
       "\n",
       "\n",
       "mpl.figure.prototype.handle_resize = function(fig, msg) {\n",
       "    var size = msg['size'];\n",
       "    if (size[0] != fig.canvas.width || size[1] != fig.canvas.height) {\n",
       "        fig._resize_canvas(size[0], size[1]);\n",
       "        fig.send_message(\"refresh\", {});\n",
       "    };\n",
       "}\n",
       "\n",
       "mpl.figure.prototype.handle_rubberband = function(fig, msg) {\n",
       "    var x0 = msg['x0'] / mpl.ratio;\n",
       "    var y0 = (fig.canvas.height - msg['y0']) / mpl.ratio;\n",
       "    var x1 = msg['x1'] / mpl.ratio;\n",
       "    var y1 = (fig.canvas.height - msg['y1']) / mpl.ratio;\n",
       "    x0 = Math.floor(x0) + 0.5;\n",
       "    y0 = Math.floor(y0) + 0.5;\n",
       "    x1 = Math.floor(x1) + 0.5;\n",
       "    y1 = Math.floor(y1) + 0.5;\n",
       "    var min_x = Math.min(x0, x1);\n",
       "    var min_y = Math.min(y0, y1);\n",
       "    var width = Math.abs(x1 - x0);\n",
       "    var height = Math.abs(y1 - y0);\n",
       "\n",
       "    fig.rubberband_context.clearRect(\n",
       "        0, 0, fig.canvas.width, fig.canvas.height);\n",
       "\n",
       "    fig.rubberband_context.strokeRect(min_x, min_y, width, height);\n",
       "}\n",
       "\n",
       "mpl.figure.prototype.handle_figure_label = function(fig, msg) {\n",
       "    // Updates the figure title.\n",
       "    fig.header.textContent = msg['label'];\n",
       "}\n",
       "\n",
       "mpl.figure.prototype.handle_cursor = function(fig, msg) {\n",
       "    var cursor = msg['cursor'];\n",
       "    switch(cursor)\n",
       "    {\n",
       "    case 0:\n",
       "        cursor = 'pointer';\n",
       "        break;\n",
       "    case 1:\n",
       "        cursor = 'default';\n",
       "        break;\n",
       "    case 2:\n",
       "        cursor = 'crosshair';\n",
       "        break;\n",
       "    case 3:\n",
       "        cursor = 'move';\n",
       "        break;\n",
       "    }\n",
       "    fig.rubberband_canvas.style.cursor = cursor;\n",
       "}\n",
       "\n",
       "mpl.figure.prototype.handle_message = function(fig, msg) {\n",
       "    fig.message.textContent = msg['message'];\n",
       "}\n",
       "\n",
       "mpl.figure.prototype.handle_draw = function(fig, msg) {\n",
       "    // Request the server to send over a new figure.\n",
       "    fig.send_draw_message();\n",
       "}\n",
       "\n",
       "mpl.figure.prototype.handle_image_mode = function(fig, msg) {\n",
       "    fig.image_mode = msg['mode'];\n",
       "}\n",
       "\n",
       "mpl.figure.prototype.updated_canvas_event = function() {\n",
       "    // Called whenever the canvas gets updated.\n",
       "    this.send_message(\"ack\", {});\n",
       "}\n",
       "\n",
       "// A function to construct a web socket function for onmessage handling.\n",
       "// Called in the figure constructor.\n",
       "mpl.figure.prototype._make_on_message_function = function(fig) {\n",
       "    return function socket_on_message(evt) {\n",
       "        if (evt.data instanceof Blob) {\n",
       "            /* FIXME: We get \"Resource interpreted as Image but\n",
       "             * transferred with MIME type text/plain:\" errors on\n",
       "             * Chrome.  But how to set the MIME type?  It doesn't seem\n",
       "             * to be part of the websocket stream */\n",
       "            evt.data.type = \"image/png\";\n",
       "\n",
       "            /* Free the memory for the previous frames */\n",
       "            if (fig.imageObj.src) {\n",
       "                (window.URL || window.webkitURL).revokeObjectURL(\n",
       "                    fig.imageObj.src);\n",
       "            }\n",
       "\n",
       "            fig.imageObj.src = (window.URL || window.webkitURL).createObjectURL(\n",
       "                evt.data);\n",
       "            fig.updated_canvas_event();\n",
       "            fig.waiting = false;\n",
       "            return;\n",
       "        }\n",
       "        else if (typeof evt.data === 'string' && evt.data.slice(0, 21) == \"data:image/png;base64\") {\n",
       "            fig.imageObj.src = evt.data;\n",
       "            fig.updated_canvas_event();\n",
       "            fig.waiting = false;\n",
       "            return;\n",
       "        }\n",
       "\n",
       "        var msg = JSON.parse(evt.data);\n",
       "        var msg_type = msg['type'];\n",
       "\n",
       "        // Call the  \"handle_{type}\" callback, which takes\n",
       "        // the figure and JSON message as its only arguments.\n",
       "        try {\n",
       "            var callback = fig[\"handle_\" + msg_type];\n",
       "        } catch (e) {\n",
       "            console.log(\"No handler for the '\" + msg_type + \"' message type: \", msg);\n",
       "            return;\n",
       "        }\n",
       "\n",
       "        if (callback) {\n",
       "            try {\n",
       "                // console.log(\"Handling '\" + msg_type + \"' message: \", msg);\n",
       "                callback(fig, msg);\n",
       "            } catch (e) {\n",
       "                console.log(\"Exception inside the 'handler_\" + msg_type + \"' callback:\", e, e.stack, msg);\n",
       "            }\n",
       "        }\n",
       "    };\n",
       "}\n",
       "\n",
       "// from http://stackoverflow.com/questions/1114465/getting-mouse-location-in-canvas\n",
       "mpl.findpos = function(e) {\n",
       "    //this section is from http://www.quirksmode.org/js/events_properties.html\n",
       "    var targ;\n",
       "    if (!e)\n",
       "        e = window.event;\n",
       "    if (e.target)\n",
       "        targ = e.target;\n",
       "    else if (e.srcElement)\n",
       "        targ = e.srcElement;\n",
       "    if (targ.nodeType == 3) // defeat Safari bug\n",
       "        targ = targ.parentNode;\n",
       "\n",
       "    // jQuery normalizes the pageX and pageY\n",
       "    // pageX,Y are the mouse positions relative to the document\n",
       "    // offset() returns the position of the element relative to the document\n",
       "    var x = e.pageX - $(targ).offset().left;\n",
       "    var y = e.pageY - $(targ).offset().top;\n",
       "\n",
       "    return {\"x\": x, \"y\": y};\n",
       "};\n",
       "\n",
       "/*\n",
       " * return a copy of an object with only non-object keys\n",
       " * we need this to avoid circular references\n",
       " * http://stackoverflow.com/a/24161582/3208463\n",
       " */\n",
       "function simpleKeys (original) {\n",
       "  return Object.keys(original).reduce(function (obj, key) {\n",
       "    if (typeof original[key] !== 'object')\n",
       "        obj[key] = original[key]\n",
       "    return obj;\n",
       "  }, {});\n",
       "}\n",
       "\n",
       "mpl.figure.prototype.mouse_event = function(event, name) {\n",
       "    var canvas_pos = mpl.findpos(event)\n",
       "\n",
       "    if (name === 'button_press')\n",
       "    {\n",
       "        this.canvas.focus();\n",
       "        this.canvas_div.focus();\n",
       "    }\n",
       "\n",
       "    var x = canvas_pos.x * mpl.ratio;\n",
       "    var y = canvas_pos.y * mpl.ratio;\n",
       "\n",
       "    this.send_message(name, {x: x, y: y, button: event.button,\n",
       "                             step: event.step,\n",
       "                             guiEvent: simpleKeys(event)});\n",
       "\n",
       "    /* This prevents the web browser from automatically changing to\n",
       "     * the text insertion cursor when the button is pressed.  We want\n",
       "     * to control all of the cursor setting manually through the\n",
       "     * 'cursor' event from matplotlib */\n",
       "    event.preventDefault();\n",
       "    return false;\n",
       "}\n",
       "\n",
       "mpl.figure.prototype._key_event_extra = function(event, name) {\n",
       "    // Handle any extra behaviour associated with a key event\n",
       "}\n",
       "\n",
       "mpl.figure.prototype.key_event = function(event, name) {\n",
       "\n",
       "    // Prevent repeat events\n",
       "    if (name == 'key_press')\n",
       "    {\n",
       "        if (event.which === this._key)\n",
       "            return;\n",
       "        else\n",
       "            this._key = event.which;\n",
       "    }\n",
       "    if (name == 'key_release')\n",
       "        this._key = null;\n",
       "\n",
       "    var value = '';\n",
       "    if (event.ctrlKey && event.which != 17)\n",
       "        value += \"ctrl+\";\n",
       "    if (event.altKey && event.which != 18)\n",
       "        value += \"alt+\";\n",
       "    if (event.shiftKey && event.which != 16)\n",
       "        value += \"shift+\";\n",
       "\n",
       "    value += 'k';\n",
       "    value += event.which.toString();\n",
       "\n",
       "    this._key_event_extra(event, name);\n",
       "\n",
       "    this.send_message(name, {key: value,\n",
       "                             guiEvent: simpleKeys(event)});\n",
       "    return false;\n",
       "}\n",
       "\n",
       "mpl.figure.prototype.toolbar_button_onclick = function(name) {\n",
       "    if (name == 'download') {\n",
       "        this.handle_save(this, null);\n",
       "    } else {\n",
       "        this.send_message(\"toolbar_button\", {name: name});\n",
       "    }\n",
       "};\n",
       "\n",
       "mpl.figure.prototype.toolbar_button_onmouseover = function(tooltip) {\n",
       "    this.message.textContent = tooltip;\n",
       "};\n",
       "mpl.toolbar_items = [[\"Home\", \"Reset original view\", \"fa fa-home icon-home\", \"home\"], [\"Back\", \"Back to  previous view\", \"fa fa-arrow-left icon-arrow-left\", \"back\"], [\"Forward\", \"Forward to next view\", \"fa fa-arrow-right icon-arrow-right\", \"forward\"], [\"\", \"\", \"\", \"\"], [\"Pan\", \"Pan axes with left mouse, zoom with right\", \"fa fa-arrows icon-move\", \"pan\"], [\"Zoom\", \"Zoom to rectangle\", \"fa fa-square-o icon-check-empty\", \"zoom\"], [\"\", \"\", \"\", \"\"], [\"Download\", \"Download plot\", \"fa fa-floppy-o icon-save\", \"download\"]];\n",
       "\n",
       "mpl.extensions = [\"eps\", \"jpeg\", \"pdf\", \"png\", \"ps\", \"raw\", \"svg\", \"tif\"];\n",
       "\n",
       "mpl.default_extension = \"png\";var comm_websocket_adapter = function(comm) {\n",
       "    // Create a \"websocket\"-like object which calls the given IPython comm\n",
       "    // object with the appropriate methods. Currently this is a non binary\n",
       "    // socket, so there is still some room for performance tuning.\n",
       "    var ws = {};\n",
       "\n",
       "    ws.close = function() {\n",
       "        comm.close()\n",
       "    };\n",
       "    ws.send = function(m) {\n",
       "        //console.log('sending', m);\n",
       "        comm.send(m);\n",
       "    };\n",
       "    // Register the callback with on_msg.\n",
       "    comm.on_msg(function(msg) {\n",
       "        //console.log('receiving', msg['content']['data'], msg);\n",
       "        // Pass the mpl event to the overridden (by mpl) onmessage function.\n",
       "        ws.onmessage(msg['content']['data'])\n",
       "    });\n",
       "    return ws;\n",
       "}\n",
       "\n",
       "mpl.mpl_figure_comm = function(comm, msg) {\n",
       "    // This is the function which gets called when the mpl process\n",
       "    // starts-up an IPython Comm through the \"matplotlib\" channel.\n",
       "\n",
       "    var id = msg.content.data.id;\n",
       "    // Get hold of the div created by the display call when the Comm\n",
       "    // socket was opened in Python.\n",
       "    var element = $(\"#\" + id);\n",
       "    var ws_proxy = comm_websocket_adapter(comm)\n",
       "\n",
       "    function ondownload(figure, format) {\n",
       "        window.open(figure.imageObj.src);\n",
       "    }\n",
       "\n",
       "    var fig = new mpl.figure(id, ws_proxy,\n",
       "                           ondownload,\n",
       "                           element.get(0));\n",
       "\n",
       "    // Call onopen now - mpl needs it, as it is assuming we've passed it a real\n",
       "    // web socket which is closed, not our websocket->open comm proxy.\n",
       "    ws_proxy.onopen();\n",
       "\n",
       "    fig.parent_element = element.get(0);\n",
       "    fig.cell_info = mpl.find_output_cell(\"<div id='\" + id + \"'></div>\");\n",
       "    if (!fig.cell_info) {\n",
       "        console.error(\"Failed to find cell for figure\", id, fig);\n",
       "        return;\n",
       "    }\n",
       "\n",
       "    var output_index = fig.cell_info[2]\n",
       "    var cell = fig.cell_info[0];\n",
       "\n",
       "};\n",
       "\n",
       "mpl.figure.prototype.handle_close = function(fig, msg) {\n",
       "    var width = fig.canvas.width/mpl.ratio\n",
       "    fig.root.unbind('remove')\n",
       "\n",
       "    // Update the output cell to use the data from the current canvas.\n",
       "    fig.push_to_output();\n",
       "    var dataURL = fig.canvas.toDataURL();\n",
       "    // Re-enable the keyboard manager in IPython - without this line, in FF,\n",
       "    // the notebook keyboard shortcuts fail.\n",
       "    IPython.keyboard_manager.enable()\n",
       "    $(fig.parent_element).html('<img src=\"' + dataURL + '\" width=\"' + width + '\">');\n",
       "    fig.close_ws(fig, msg);\n",
       "}\n",
       "\n",
       "mpl.figure.prototype.close_ws = function(fig, msg){\n",
       "    fig.send_message('closing', msg);\n",
       "    // fig.ws.close()\n",
       "}\n",
       "\n",
       "mpl.figure.prototype.push_to_output = function(remove_interactive) {\n",
       "    // Turn the data on the canvas into data in the output cell.\n",
       "    var width = this.canvas.width/mpl.ratio\n",
       "    var dataURL = this.canvas.toDataURL();\n",
       "    this.cell_info[1]['text/html'] = '<img src=\"' + dataURL + '\" width=\"' + width + '\">';\n",
       "}\n",
       "\n",
       "mpl.figure.prototype.updated_canvas_event = function() {\n",
       "    // Tell IPython that the notebook contents must change.\n",
       "    IPython.notebook.set_dirty(true);\n",
       "    this.send_message(\"ack\", {});\n",
       "    var fig = this;\n",
       "    // Wait a second, then push the new image to the DOM so\n",
       "    // that it is saved nicely (might be nice to debounce this).\n",
       "    setTimeout(function () { fig.push_to_output() }, 1000);\n",
       "}\n",
       "\n",
       "mpl.figure.prototype._init_toolbar = function() {\n",
       "    var fig = this;\n",
       "\n",
       "    var nav_element = $('<div/>')\n",
       "    nav_element.attr('style', 'width: 100%');\n",
       "    this.root.append(nav_element);\n",
       "\n",
       "    // Define a callback function for later on.\n",
       "    function toolbar_event(event) {\n",
       "        return fig.toolbar_button_onclick(event['data']);\n",
       "    }\n",
       "    function toolbar_mouse_event(event) {\n",
       "        return fig.toolbar_button_onmouseover(event['data']);\n",
       "    }\n",
       "\n",
       "    for(var toolbar_ind in mpl.toolbar_items){\n",
       "        var name = mpl.toolbar_items[toolbar_ind][0];\n",
       "        var tooltip = mpl.toolbar_items[toolbar_ind][1];\n",
       "        var image = mpl.toolbar_items[toolbar_ind][2];\n",
       "        var method_name = mpl.toolbar_items[toolbar_ind][3];\n",
       "\n",
       "        if (!name) { continue; };\n",
       "\n",
       "        var button = $('<button class=\"btn btn-default\" href=\"#\" title=\"' + name + '\"><i class=\"fa ' + image + ' fa-lg\"></i></button>');\n",
       "        button.click(method_name, toolbar_event);\n",
       "        button.mouseover(tooltip, toolbar_mouse_event);\n",
       "        nav_element.append(button);\n",
       "    }\n",
       "\n",
       "    // Add the status bar.\n",
       "    var status_bar = $('<span class=\"mpl-message\" style=\"text-align:right; float: right;\"/>');\n",
       "    nav_element.append(status_bar);\n",
       "    this.message = status_bar[0];\n",
       "\n",
       "    // Add the close button to the window.\n",
       "    var buttongrp = $('<div class=\"btn-group inline pull-right\"></div>');\n",
       "    var button = $('<button class=\"btn btn-mini btn-primary\" href=\"#\" title=\"Stop Interaction\"><i class=\"fa fa-power-off icon-remove icon-large\"></i></button>');\n",
       "    button.click(function (evt) { fig.handle_close(fig, {}); } );\n",
       "    button.mouseover('Stop Interaction', toolbar_mouse_event);\n",
       "    buttongrp.append(button);\n",
       "    var titlebar = this.root.find($('.ui-dialog-titlebar'));\n",
       "    titlebar.prepend(buttongrp);\n",
       "}\n",
       "\n",
       "mpl.figure.prototype._root_extra_style = function(el){\n",
       "    var fig = this\n",
       "    el.on(\"remove\", function(){\n",
       "\tfig.close_ws(fig, {});\n",
       "    });\n",
       "}\n",
       "\n",
       "mpl.figure.prototype._canvas_extra_style = function(el){\n",
       "    // this is important to make the div 'focusable\n",
       "    el.attr('tabindex', 0)\n",
       "    // reach out to IPython and tell the keyboard manager to turn it's self\n",
       "    // off when our div gets focus\n",
       "\n",
       "    // location in version 3\n",
       "    if (IPython.notebook.keyboard_manager) {\n",
       "        IPython.notebook.keyboard_manager.register_events(el);\n",
       "    }\n",
       "    else {\n",
       "        // location in version 2\n",
       "        IPython.keyboard_manager.register_events(el);\n",
       "    }\n",
       "\n",
       "}\n",
       "\n",
       "mpl.figure.prototype._key_event_extra = function(event, name) {\n",
       "    var manager = IPython.notebook.keyboard_manager;\n",
       "    if (!manager)\n",
       "        manager = IPython.keyboard_manager;\n",
       "\n",
       "    // Check for shift+enter\n",
       "    if (event.shiftKey && event.which == 13) {\n",
       "        this.canvas_div.blur();\n",
       "        event.shiftKey = false;\n",
       "        // Send a \"J\" for go to next cell\n",
       "        event.which = 74;\n",
       "        event.keyCode = 74;\n",
       "        manager.command_mode();\n",
       "        manager.handle_keydown(event);\n",
       "    }\n",
       "}\n",
       "\n",
       "mpl.figure.prototype.handle_save = function(fig, msg) {\n",
       "    fig.ondownload(fig, null);\n",
       "}\n",
       "\n",
       "\n",
       "mpl.find_output_cell = function(html_output) {\n",
       "    // Return the cell and output element which can be found *uniquely* in the notebook.\n",
       "    // Note - this is a bit hacky, but it is done because the \"notebook_saving.Notebook\"\n",
       "    // IPython event is triggered only after the cells have been serialised, which for\n",
       "    // our purposes (turning an active figure into a static one), is too late.\n",
       "    var cells = IPython.notebook.get_cells();\n",
       "    var ncells = cells.length;\n",
       "    for (var i=0; i<ncells; i++) {\n",
       "        var cell = cells[i];\n",
       "        if (cell.cell_type === 'code'){\n",
       "            for (var j=0; j<cell.output_area.outputs.length; j++) {\n",
       "                var data = cell.output_area.outputs[j];\n",
       "                if (data.data) {\n",
       "                    // IPython >= 3 moved mimebundle to data attribute of output\n",
       "                    data = data.data;\n",
       "                }\n",
       "                if (data['text/html'] == html_output) {\n",
       "                    return [cell, data, j];\n",
       "                }\n",
       "            }\n",
       "        }\n",
       "    }\n",
       "}\n",
       "\n",
       "// Register the function which deals with the matplotlib target/channel.\n",
       "// The kernel may be null if the page has been refreshed.\n",
       "if (IPython.notebook.kernel != null) {\n",
       "    IPython.notebook.kernel.comm_manager.register_target('matplotlib', mpl.mpl_figure_comm);\n",
       "}\n"
      ],
      "text/plain": [
       "<IPython.core.display.Javascript object>"
      ]
     },
     "metadata": {},
     "output_type": "display_data"
    },
    {
     "data": {
      "text/html": [
       "<img src=\"data:image/png;base64,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\" width=\"640\">"
      ],
      "text/plain": [
       "<IPython.core.display.HTML object>"
      ]
     },
     "metadata": {},
     "output_type": "display_data"
    },
    {
     "data": {
      "text/plain": [
       "<matplotlib.legend.Legend at 0x7f632b470910>"
      ]
     },
     "execution_count": 34,
     "metadata": {},
     "output_type": "execute_result"
    }
   ],
   "source": [
    "plt.figure()\n",
    "plt.plot(ku[:,0],ku[:,1],'-k',label='orig')\n",
    "plt.plot(ku[7:980-250,0],ku_vis,'-g',label='slit_vis')\n",
    "plt.plot(ku[980-250:-15,0],ku_nir,'-r',label='slit_nir')\n",
    "plt.legend()"
   ]
  },
  {
   "cell_type": "code",
   "execution_count": 35,
   "metadata": {
    "ExecuteTime": {
     "end_time": "2020-01-17T21:55:57.816206Z",
     "start_time": "2020-01-17T21:55:57.811380Z"
    }
   },
   "outputs": [],
   "source": [
    "from scipy import interpolate"
   ]
  },
  {
   "cell_type": "code",
   "execution_count": 38,
   "metadata": {
    "ExecuteTime": {
     "end_time": "2020-01-17T21:57:09.570466Z",
     "start_time": "2020-01-17T21:57:09.557593Z"
    }
   },
   "outputs": [
    {
     "data": {
      "text/plain": [
       "array([350.92947, 354.22186, 357.5145 , 360.8074 , 364.10052, 367.39383,\n",
       "       370.6874 , 373.98114, 377.2751 , 380.56924, 383.86356, 387.15802,\n",
       "       390.45264, 393.7474 , 397.04233, 400.33737, 403.63254, 406.9278 ,\n",
       "       410.22314, 413.51862, 416.81412, 420.10977, 423.40543, 426.70114,\n",
       "       429.9969 , 433.2927 , 436.5885 , 439.8843 , 443.18015, 446.47595,\n",
       "       449.7718 , 453.06757, 456.3633 , 459.65903, 462.95468, 466.25027,\n",
       "       469.54578, 472.8412 , 476.13654, 479.43176, 482.7269 , 486.02188,\n",
       "       489.31677, 492.6115 , 495.90607, 499.2005 , 502.49475, 505.78888,\n",
       "       509.08276, 512.3764 , 515.66986, 518.9632 , 522.2562 , 525.549  ,\n",
       "       528.84155, 532.1339 , 535.4259 , 538.7177 , 542.00916, 545.3004 ,\n",
       "       548.5913 , 551.8819 , 555.1721 , 558.46204, 561.7516 , 565.04083,\n",
       "       568.3298 , 571.6182 , 574.90643, 578.1941 , 581.4815 , 584.7683 ,\n",
       "       588.05493, 591.34106, 594.6267 , 597.9119 , 601.19666, 604.4809 ,\n",
       "       607.7647 , 611.0481 , 614.3309 , 617.6133 , 620.895  , 624.1764 ,\n",
       "       627.4571 , 630.73737, 634.017  , 637.29614, 640.57465, 643.85266,\n",
       "       647.13   , 650.4068 , 653.68304, 656.9585 , 660.2335 , 663.50775,\n",
       "       666.7814 , 670.0544 , 673.3267 , 676.5983 , 679.8693 , 683.1396 ,\n",
       "       686.4091 , 689.678  , 692.9461 , 696.21356, 699.48016, 702.7461 ,\n",
       "       706.01117, 709.27563, 712.5391 , 715.802  , 719.06396, 722.3252 ,\n",
       "       725.5856 , 728.84515, 732.1038 , 735.36163, 738.6187 , 741.8748 ,\n",
       "       745.1301 , 748.3844 , 751.638  , 754.8905 , 758.1422 , 761.393  ,\n",
       "       764.6428 , 767.89166, 771.1396 , 774.3865 , 777.6325 , 780.87756,\n",
       "       784.12146, 787.36456, 790.6065 , 793.84753, 797.08746, 800.3264 ,\n",
       "       803.5643 , 806.8011 , 810.03687, 813.27155, 816.50507, 819.73755,\n",
       "       822.96893, 826.1992 , 829.42834, 832.65643, 835.8833 , 839.109  ,\n",
       "       842.33356, 845.5569 , 848.7791 , 852.0001 , 855.2199 , 858.43854,\n",
       "       861.65594, 864.8721 , 868.087  , 871.30066, 874.5131 , 877.7242 ,\n",
       "       880.9341 , 884.1427 , 887.3499 , 890.5559 , 893.76056, 896.96387,\n",
       "       900.1659 , 903.3666 , 906.5659 , 909.7638 , 912.96045, 916.1556 ,\n",
       "       919.3494 , 922.5418 , 925.7328 , 928.92236, 932.1105 , 935.2972 ,\n",
       "       938.48236, 941.6662 , 944.8485 , 948.02936, 951.2087 , 954.38666,\n",
       "       957.563  , 960.73785, 963.91113, 967.0829 , 970.2531 , 973.4218 ,\n",
       "       976.5889 , 979.75446], dtype=float32)"
      ]
     },
     "execution_count": 38,
     "metadata": {},
     "output_type": "execute_result"
    }
   ],
   "source": [
    "sp_liq['zenlambda'][0:194]"
   ]
  },
  {
   "cell_type": "code",
   "execution_count": 43,
   "metadata": {
    "ExecuteTime": {
     "end_time": "2020-01-17T22:05:14.038173Z",
     "start_time": "2020-01-17T22:05:14.030340Z"
    }
   },
   "outputs": [],
   "source": [
    "sun_vis_fx = interpolate.interp1d(ku[7:980-250,0],ku_vis,fill_value='extrapolate')\n",
    "sun_vis = sun_vis_fx(sp_liq['zenlambda'][0:194])\n",
    "\n",
    "sun_nir_fx = interpolate.interp1d(ku[980-250:-15,0],ku_nir,fill_value='extrapolate')\n",
    "sun_nir = sun_nir_fx(sp_liq['zenlambda'][194:])"
   ]
  },
  {
   "cell_type": "code",
   "execution_count": 46,
   "metadata": {
    "ExecuteTime": {
     "end_time": "2020-01-17T22:05:59.096832Z",
     "start_time": "2020-01-17T22:05:59.091981Z"
    }
   },
   "outputs": [],
   "source": [
    "sun = np.append(sun_vis,sun_nir)"
   ]
  },
  {
   "cell_type": "code",
   "execution_count": 47,
   "metadata": {
    "ExecuteTime": {
     "end_time": "2020-01-17T22:06:31.432099Z",
     "start_time": "2020-01-17T22:06:31.427029Z"
    }
   },
   "outputs": [],
   "source": [
    "wvl = sp_liq['zenlambda']"
   ]
  },
  {
   "cell_type": "code",
   "execution_count": 50,
   "metadata": {
    "ExecuteTime": {
     "end_time": "2020-01-17T22:07:07.498096Z",
     "start_time": "2020-01-17T22:07:07.452122Z"
    }
   },
   "outputs": [
    {
     "data": {
      "application/javascript": [
       "/* Put everything inside the global mpl namespace */\n",
       "window.mpl = {};\n",
       "\n",
       "\n",
       "mpl.get_websocket_type = function() {\n",
       "    if (typeof(WebSocket) !== 'undefined') {\n",
       "        return WebSocket;\n",
       "    } else if (typeof(MozWebSocket) !== 'undefined') {\n",
       "        return MozWebSocket;\n",
       "    } else {\n",
       "        alert('Your browser does not have WebSocket support.' +\n",
       "              'Please try Chrome, Safari or Firefox ≥ 6. ' +\n",
       "              'Firefox 4 and 5 are also supported but you ' +\n",
       "              'have to enable WebSockets in about:config.');\n",
       "    };\n",
       "}\n",
       "\n",
       "mpl.figure = function(figure_id, websocket, ondownload, parent_element) {\n",
       "    this.id = figure_id;\n",
       "\n",
       "    this.ws = websocket;\n",
       "\n",
       "    this.supports_binary = (this.ws.binaryType != undefined);\n",
       "\n",
       "    if (!this.supports_binary) {\n",
       "        var warnings = document.getElementById(\"mpl-warnings\");\n",
       "        if (warnings) {\n",
       "            warnings.style.display = 'block';\n",
       "            warnings.textContent = (\n",
       "                \"This browser does not support binary websocket messages. \" +\n",
       "                    \"Performance may be slow.\");\n",
       "        }\n",
       "    }\n",
       "\n",
       "    this.imageObj = new Image();\n",
       "\n",
       "    this.context = undefined;\n",
       "    this.message = undefined;\n",
       "    this.canvas = undefined;\n",
       "    this.rubberband_canvas = undefined;\n",
       "    this.rubberband_context = undefined;\n",
       "    this.format_dropdown = undefined;\n",
       "\n",
       "    this.image_mode = 'full';\n",
       "\n",
       "    this.root = $('<div/>');\n",
       "    this._root_extra_style(this.root)\n",
       "    this.root.attr('style', 'display: inline-block');\n",
       "\n",
       "    $(parent_element).append(this.root);\n",
       "\n",
       "    this._init_header(this);\n",
       "    this._init_canvas(this);\n",
       "    this._init_toolbar(this);\n",
       "\n",
       "    var fig = this;\n",
       "\n",
       "    this.waiting = false;\n",
       "\n",
       "    this.ws.onopen =  function () {\n",
       "            fig.send_message(\"supports_binary\", {value: fig.supports_binary});\n",
       "            fig.send_message(\"send_image_mode\", {});\n",
       "            if (mpl.ratio != 1) {\n",
       "                fig.send_message(\"set_dpi_ratio\", {'dpi_ratio': mpl.ratio});\n",
       "            }\n",
       "            fig.send_message(\"refresh\", {});\n",
       "        }\n",
       "\n",
       "    this.imageObj.onload = function() {\n",
       "            if (fig.image_mode == 'full') {\n",
       "                // Full images could contain transparency (where diff images\n",
       "                // almost always do), so we need to clear the canvas so that\n",
       "                // there is no ghosting.\n",
       "                fig.context.clearRect(0, 0, fig.canvas.width, fig.canvas.height);\n",
       "            }\n",
       "            fig.context.drawImage(fig.imageObj, 0, 0);\n",
       "        };\n",
       "\n",
       "    this.imageObj.onunload = function() {\n",
       "        fig.ws.close();\n",
       "    }\n",
       "\n",
       "    this.ws.onmessage = this._make_on_message_function(this);\n",
       "\n",
       "    this.ondownload = ondownload;\n",
       "}\n",
       "\n",
       "mpl.figure.prototype._init_header = function() {\n",
       "    var titlebar = $(\n",
       "        '<div class=\"ui-dialog-titlebar ui-widget-header ui-corner-all ' +\n",
       "        'ui-helper-clearfix\"/>');\n",
       "    var titletext = $(\n",
       "        '<div class=\"ui-dialog-title\" style=\"width: 100%; ' +\n",
       "        'text-align: center; padding: 3px;\"/>');\n",
       "    titlebar.append(titletext)\n",
       "    this.root.append(titlebar);\n",
       "    this.header = titletext[0];\n",
       "}\n",
       "\n",
       "\n",
       "\n",
       "mpl.figure.prototype._canvas_extra_style = function(canvas_div) {\n",
       "\n",
       "}\n",
       "\n",
       "\n",
       "mpl.figure.prototype._root_extra_style = function(canvas_div) {\n",
       "\n",
       "}\n",
       "\n",
       "mpl.figure.prototype._init_canvas = function() {\n",
       "    var fig = this;\n",
       "\n",
       "    var canvas_div = $('<div/>');\n",
       "\n",
       "    canvas_div.attr('style', 'position: relative; clear: both; outline: 0');\n",
       "\n",
       "    function canvas_keyboard_event(event) {\n",
       "        return fig.key_event(event, event['data']);\n",
       "    }\n",
       "\n",
       "    canvas_div.keydown('key_press', canvas_keyboard_event);\n",
       "    canvas_div.keyup('key_release', canvas_keyboard_event);\n",
       "    this.canvas_div = canvas_div\n",
       "    this._canvas_extra_style(canvas_div)\n",
       "    this.root.append(canvas_div);\n",
       "\n",
       "    var canvas = $('<canvas/>');\n",
       "    canvas.addClass('mpl-canvas');\n",
       "    canvas.attr('style', \"left: 0; top: 0; z-index: 0; outline: 0\")\n",
       "\n",
       "    this.canvas = canvas[0];\n",
       "    this.context = canvas[0].getContext(\"2d\");\n",
       "\n",
       "    var backingStore = this.context.backingStorePixelRatio ||\n",
       "\tthis.context.webkitBackingStorePixelRatio ||\n",
       "\tthis.context.mozBackingStorePixelRatio ||\n",
       "\tthis.context.msBackingStorePixelRatio ||\n",
       "\tthis.context.oBackingStorePixelRatio ||\n",
       "\tthis.context.backingStorePixelRatio || 1;\n",
       "\n",
       "    mpl.ratio = (window.devicePixelRatio || 1) / backingStore;\n",
       "\n",
       "    var rubberband = $('<canvas/>');\n",
       "    rubberband.attr('style', \"position: absolute; left: 0; top: 0; z-index: 1;\")\n",
       "\n",
       "    var pass_mouse_events = true;\n",
       "\n",
       "    canvas_div.resizable({\n",
       "        start: function(event, ui) {\n",
       "            pass_mouse_events = false;\n",
       "        },\n",
       "        resize: function(event, ui) {\n",
       "            fig.request_resize(ui.size.width, ui.size.height);\n",
       "        },\n",
       "        stop: function(event, ui) {\n",
       "            pass_mouse_events = true;\n",
       "            fig.request_resize(ui.size.width, ui.size.height);\n",
       "        },\n",
       "    });\n",
       "\n",
       "    function mouse_event_fn(event) {\n",
       "        if (pass_mouse_events)\n",
       "            return fig.mouse_event(event, event['data']);\n",
       "    }\n",
       "\n",
       "    rubberband.mousedown('button_press', mouse_event_fn);\n",
       "    rubberband.mouseup('button_release', mouse_event_fn);\n",
       "    // Throttle sequential mouse events to 1 every 20ms.\n",
       "    rubberband.mousemove('motion_notify', mouse_event_fn);\n",
       "\n",
       "    rubberband.mouseenter('figure_enter', mouse_event_fn);\n",
       "    rubberband.mouseleave('figure_leave', mouse_event_fn);\n",
       "\n",
       "    canvas_div.on(\"wheel\", function (event) {\n",
       "        event = event.originalEvent;\n",
       "        event['data'] = 'scroll'\n",
       "        if (event.deltaY < 0) {\n",
       "            event.step = 1;\n",
       "        } else {\n",
       "            event.step = -1;\n",
       "        }\n",
       "        mouse_event_fn(event);\n",
       "    });\n",
       "\n",
       "    canvas_div.append(canvas);\n",
       "    canvas_div.append(rubberband);\n",
       "\n",
       "    this.rubberband = rubberband;\n",
       "    this.rubberband_canvas = rubberband[0];\n",
       "    this.rubberband_context = rubberband[0].getContext(\"2d\");\n",
       "    this.rubberband_context.strokeStyle = \"#000000\";\n",
       "\n",
       "    this._resize_canvas = function(width, height) {\n",
       "        // Keep the size of the canvas, canvas container, and rubber band\n",
       "        // canvas in synch.\n",
       "        canvas_div.css('width', width)\n",
       "        canvas_div.css('height', height)\n",
       "\n",
       "        canvas.attr('width', width * mpl.ratio);\n",
       "        canvas.attr('height', height * mpl.ratio);\n",
       "        canvas.attr('style', 'width: ' + width + 'px; height: ' + height + 'px;');\n",
       "\n",
       "        rubberband.attr('width', width);\n",
       "        rubberband.attr('height', height);\n",
       "    }\n",
       "\n",
       "    // Set the figure to an initial 600x600px, this will subsequently be updated\n",
       "    // upon first draw.\n",
       "    this._resize_canvas(600, 600);\n",
       "\n",
       "    // Disable right mouse context menu.\n",
       "    $(this.rubberband_canvas).bind(\"contextmenu\",function(e){\n",
       "        return false;\n",
       "    });\n",
       "\n",
       "    function set_focus () {\n",
       "        canvas.focus();\n",
       "        canvas_div.focus();\n",
       "    }\n",
       "\n",
       "    window.setTimeout(set_focus, 100);\n",
       "}\n",
       "\n",
       "mpl.figure.prototype._init_toolbar = function() {\n",
       "    var fig = this;\n",
       "\n",
       "    var nav_element = $('<div/>')\n",
       "    nav_element.attr('style', 'width: 100%');\n",
       "    this.root.append(nav_element);\n",
       "\n",
       "    // Define a callback function for later on.\n",
       "    function toolbar_event(event) {\n",
       "        return fig.toolbar_button_onclick(event['data']);\n",
       "    }\n",
       "    function toolbar_mouse_event(event) {\n",
       "        return fig.toolbar_button_onmouseover(event['data']);\n",
       "    }\n",
       "\n",
       "    for(var toolbar_ind in mpl.toolbar_items) {\n",
       "        var name = mpl.toolbar_items[toolbar_ind][0];\n",
       "        var tooltip = mpl.toolbar_items[toolbar_ind][1];\n",
       "        var image = mpl.toolbar_items[toolbar_ind][2];\n",
       "        var method_name = mpl.toolbar_items[toolbar_ind][3];\n",
       "\n",
       "        if (!name) {\n",
       "            // put a spacer in here.\n",
       "            continue;\n",
       "        }\n",
       "        var button = $('<button/>');\n",
       "        button.addClass('ui-button ui-widget ui-state-default ui-corner-all ' +\n",
       "                        'ui-button-icon-only');\n",
       "        button.attr('role', 'button');\n",
       "        button.attr('aria-disabled', 'false');\n",
       "        button.click(method_name, toolbar_event);\n",
       "        button.mouseover(tooltip, toolbar_mouse_event);\n",
       "\n",
       "        var icon_img = $('<span/>');\n",
       "        icon_img.addClass('ui-button-icon-primary ui-icon');\n",
       "        icon_img.addClass(image);\n",
       "        icon_img.addClass('ui-corner-all');\n",
       "\n",
       "        var tooltip_span = $('<span/>');\n",
       "        tooltip_span.addClass('ui-button-text');\n",
       "        tooltip_span.html(tooltip);\n",
       "\n",
       "        button.append(icon_img);\n",
       "        button.append(tooltip_span);\n",
       "\n",
       "        nav_element.append(button);\n",
       "    }\n",
       "\n",
       "    var fmt_picker_span = $('<span/>');\n",
       "\n",
       "    var fmt_picker = $('<select/>');\n",
       "    fmt_picker.addClass('mpl-toolbar-option ui-widget ui-widget-content');\n",
       "    fmt_picker_span.append(fmt_picker);\n",
       "    nav_element.append(fmt_picker_span);\n",
       "    this.format_dropdown = fmt_picker[0];\n",
       "\n",
       "    for (var ind in mpl.extensions) {\n",
       "        var fmt = mpl.extensions[ind];\n",
       "        var option = $(\n",
       "            '<option/>', {selected: fmt === mpl.default_extension}).html(fmt);\n",
       "        fmt_picker.append(option)\n",
       "    }\n",
       "\n",
       "    // Add hover states to the ui-buttons\n",
       "    $( \".ui-button\" ).hover(\n",
       "        function() { $(this).addClass(\"ui-state-hover\");},\n",
       "        function() { $(this).removeClass(\"ui-state-hover\");}\n",
       "    );\n",
       "\n",
       "    var status_bar = $('<span class=\"mpl-message\"/>');\n",
       "    nav_element.append(status_bar);\n",
       "    this.message = status_bar[0];\n",
       "}\n",
       "\n",
       "mpl.figure.prototype.request_resize = function(x_pixels, y_pixels) {\n",
       "    // Request matplotlib to resize the figure. Matplotlib will then trigger a resize in the client,\n",
       "    // which will in turn request a refresh of the image.\n",
       "    this.send_message('resize', {'width': x_pixels, 'height': y_pixels});\n",
       "}\n",
       "\n",
       "mpl.figure.prototype.send_message = function(type, properties) {\n",
       "    properties['type'] = type;\n",
       "    properties['figure_id'] = this.id;\n",
       "    this.ws.send(JSON.stringify(properties));\n",
       "}\n",
       "\n",
       "mpl.figure.prototype.send_draw_message = function() {\n",
       "    if (!this.waiting) {\n",
       "        this.waiting = true;\n",
       "        this.ws.send(JSON.stringify({type: \"draw\", figure_id: this.id}));\n",
       "    }\n",
       "}\n",
       "\n",
       "\n",
       "mpl.figure.prototype.handle_save = function(fig, msg) {\n",
       "    var format_dropdown = fig.format_dropdown;\n",
       "    var format = format_dropdown.options[format_dropdown.selectedIndex].value;\n",
       "    fig.ondownload(fig, format);\n",
       "}\n",
       "\n",
       "\n",
       "mpl.figure.prototype.handle_resize = function(fig, msg) {\n",
       "    var size = msg['size'];\n",
       "    if (size[0] != fig.canvas.width || size[1] != fig.canvas.height) {\n",
       "        fig._resize_canvas(size[0], size[1]);\n",
       "        fig.send_message(\"refresh\", {});\n",
       "    };\n",
       "}\n",
       "\n",
       "mpl.figure.prototype.handle_rubberband = function(fig, msg) {\n",
       "    var x0 = msg['x0'] / mpl.ratio;\n",
       "    var y0 = (fig.canvas.height - msg['y0']) / mpl.ratio;\n",
       "    var x1 = msg['x1'] / mpl.ratio;\n",
       "    var y1 = (fig.canvas.height - msg['y1']) / mpl.ratio;\n",
       "    x0 = Math.floor(x0) + 0.5;\n",
       "    y0 = Math.floor(y0) + 0.5;\n",
       "    x1 = Math.floor(x1) + 0.5;\n",
       "    y1 = Math.floor(y1) + 0.5;\n",
       "    var min_x = Math.min(x0, x1);\n",
       "    var min_y = Math.min(y0, y1);\n",
       "    var width = Math.abs(x1 - x0);\n",
       "    var height = Math.abs(y1 - y0);\n",
       "\n",
       "    fig.rubberband_context.clearRect(\n",
       "        0, 0, fig.canvas.width, fig.canvas.height);\n",
       "\n",
       "    fig.rubberband_context.strokeRect(min_x, min_y, width, height);\n",
       "}\n",
       "\n",
       "mpl.figure.prototype.handle_figure_label = function(fig, msg) {\n",
       "    // Updates the figure title.\n",
       "    fig.header.textContent = msg['label'];\n",
       "}\n",
       "\n",
       "mpl.figure.prototype.handle_cursor = function(fig, msg) {\n",
       "    var cursor = msg['cursor'];\n",
       "    switch(cursor)\n",
       "    {\n",
       "    case 0:\n",
       "        cursor = 'pointer';\n",
       "        break;\n",
       "    case 1:\n",
       "        cursor = 'default';\n",
       "        break;\n",
       "    case 2:\n",
       "        cursor = 'crosshair';\n",
       "        break;\n",
       "    case 3:\n",
       "        cursor = 'move';\n",
       "        break;\n",
       "    }\n",
       "    fig.rubberband_canvas.style.cursor = cursor;\n",
       "}\n",
       "\n",
       "mpl.figure.prototype.handle_message = function(fig, msg) {\n",
       "    fig.message.textContent = msg['message'];\n",
       "}\n",
       "\n",
       "mpl.figure.prototype.handle_draw = function(fig, msg) {\n",
       "    // Request the server to send over a new figure.\n",
       "    fig.send_draw_message();\n",
       "}\n",
       "\n",
       "mpl.figure.prototype.handle_image_mode = function(fig, msg) {\n",
       "    fig.image_mode = msg['mode'];\n",
       "}\n",
       "\n",
       "mpl.figure.prototype.updated_canvas_event = function() {\n",
       "    // Called whenever the canvas gets updated.\n",
       "    this.send_message(\"ack\", {});\n",
       "}\n",
       "\n",
       "// A function to construct a web socket function for onmessage handling.\n",
       "// Called in the figure constructor.\n",
       "mpl.figure.prototype._make_on_message_function = function(fig) {\n",
       "    return function socket_on_message(evt) {\n",
       "        if (evt.data instanceof Blob) {\n",
       "            /* FIXME: We get \"Resource interpreted as Image but\n",
       "             * transferred with MIME type text/plain:\" errors on\n",
       "             * Chrome.  But how to set the MIME type?  It doesn't seem\n",
       "             * to be part of the websocket stream */\n",
       "            evt.data.type = \"image/png\";\n",
       "\n",
       "            /* Free the memory for the previous frames */\n",
       "            if (fig.imageObj.src) {\n",
       "                (window.URL || window.webkitURL).revokeObjectURL(\n",
       "                    fig.imageObj.src);\n",
       "            }\n",
       "\n",
       "            fig.imageObj.src = (window.URL || window.webkitURL).createObjectURL(\n",
       "                evt.data);\n",
       "            fig.updated_canvas_event();\n",
       "            fig.waiting = false;\n",
       "            return;\n",
       "        }\n",
       "        else if (typeof evt.data === 'string' && evt.data.slice(0, 21) == \"data:image/png;base64\") {\n",
       "            fig.imageObj.src = evt.data;\n",
       "            fig.updated_canvas_event();\n",
       "            fig.waiting = false;\n",
       "            return;\n",
       "        }\n",
       "\n",
       "        var msg = JSON.parse(evt.data);\n",
       "        var msg_type = msg['type'];\n",
       "\n",
       "        // Call the  \"handle_{type}\" callback, which takes\n",
       "        // the figure and JSON message as its only arguments.\n",
       "        try {\n",
       "            var callback = fig[\"handle_\" + msg_type];\n",
       "        } catch (e) {\n",
       "            console.log(\"No handler for the '\" + msg_type + \"' message type: \", msg);\n",
       "            return;\n",
       "        }\n",
       "\n",
       "        if (callback) {\n",
       "            try {\n",
       "                // console.log(\"Handling '\" + msg_type + \"' message: \", msg);\n",
       "                callback(fig, msg);\n",
       "            } catch (e) {\n",
       "                console.log(\"Exception inside the 'handler_\" + msg_type + \"' callback:\", e, e.stack, msg);\n",
       "            }\n",
       "        }\n",
       "    };\n",
       "}\n",
       "\n",
       "// from http://stackoverflow.com/questions/1114465/getting-mouse-location-in-canvas\n",
       "mpl.findpos = function(e) {\n",
       "    //this section is from http://www.quirksmode.org/js/events_properties.html\n",
       "    var targ;\n",
       "    if (!e)\n",
       "        e = window.event;\n",
       "    if (e.target)\n",
       "        targ = e.target;\n",
       "    else if (e.srcElement)\n",
       "        targ = e.srcElement;\n",
       "    if (targ.nodeType == 3) // defeat Safari bug\n",
       "        targ = targ.parentNode;\n",
       "\n",
       "    // jQuery normalizes the pageX and pageY\n",
       "    // pageX,Y are the mouse positions relative to the document\n",
       "    // offset() returns the position of the element relative to the document\n",
       "    var x = e.pageX - $(targ).offset().left;\n",
       "    var y = e.pageY - $(targ).offset().top;\n",
       "\n",
       "    return {\"x\": x, \"y\": y};\n",
       "};\n",
       "\n",
       "/*\n",
       " * return a copy of an object with only non-object keys\n",
       " * we need this to avoid circular references\n",
       " * http://stackoverflow.com/a/24161582/3208463\n",
       " */\n",
       "function simpleKeys (original) {\n",
       "  return Object.keys(original).reduce(function (obj, key) {\n",
       "    if (typeof original[key] !== 'object')\n",
       "        obj[key] = original[key]\n",
       "    return obj;\n",
       "  }, {});\n",
       "}\n",
       "\n",
       "mpl.figure.prototype.mouse_event = function(event, name) {\n",
       "    var canvas_pos = mpl.findpos(event)\n",
       "\n",
       "    if (name === 'button_press')\n",
       "    {\n",
       "        this.canvas.focus();\n",
       "        this.canvas_div.focus();\n",
       "    }\n",
       "\n",
       "    var x = canvas_pos.x * mpl.ratio;\n",
       "    var y = canvas_pos.y * mpl.ratio;\n",
       "\n",
       "    this.send_message(name, {x: x, y: y, button: event.button,\n",
       "                             step: event.step,\n",
       "                             guiEvent: simpleKeys(event)});\n",
       "\n",
       "    /* This prevents the web browser from automatically changing to\n",
       "     * the text insertion cursor when the button is pressed.  We want\n",
       "     * to control all of the cursor setting manually through the\n",
       "     * 'cursor' event from matplotlib */\n",
       "    event.preventDefault();\n",
       "    return false;\n",
       "}\n",
       "\n",
       "mpl.figure.prototype._key_event_extra = function(event, name) {\n",
       "    // Handle any extra behaviour associated with a key event\n",
       "}\n",
       "\n",
       "mpl.figure.prototype.key_event = function(event, name) {\n",
       "\n",
       "    // Prevent repeat events\n",
       "    if (name == 'key_press')\n",
       "    {\n",
       "        if (event.which === this._key)\n",
       "            return;\n",
       "        else\n",
       "            this._key = event.which;\n",
       "    }\n",
       "    if (name == 'key_release')\n",
       "        this._key = null;\n",
       "\n",
       "    var value = '';\n",
       "    if (event.ctrlKey && event.which != 17)\n",
       "        value += \"ctrl+\";\n",
       "    if (event.altKey && event.which != 18)\n",
       "        value += \"alt+\";\n",
       "    if (event.shiftKey && event.which != 16)\n",
       "        value += \"shift+\";\n",
       "\n",
       "    value += 'k';\n",
       "    value += event.which.toString();\n",
       "\n",
       "    this._key_event_extra(event, name);\n",
       "\n",
       "    this.send_message(name, {key: value,\n",
       "                             guiEvent: simpleKeys(event)});\n",
       "    return false;\n",
       "}\n",
       "\n",
       "mpl.figure.prototype.toolbar_button_onclick = function(name) {\n",
       "    if (name == 'download') {\n",
       "        this.handle_save(this, null);\n",
       "    } else {\n",
       "        this.send_message(\"toolbar_button\", {name: name});\n",
       "    }\n",
       "};\n",
       "\n",
       "mpl.figure.prototype.toolbar_button_onmouseover = function(tooltip) {\n",
       "    this.message.textContent = tooltip;\n",
       "};\n",
       "mpl.toolbar_items = [[\"Home\", \"Reset original view\", \"fa fa-home icon-home\", \"home\"], [\"Back\", \"Back to  previous view\", \"fa fa-arrow-left icon-arrow-left\", \"back\"], [\"Forward\", \"Forward to next view\", \"fa fa-arrow-right icon-arrow-right\", \"forward\"], [\"\", \"\", \"\", \"\"], [\"Pan\", \"Pan axes with left mouse, zoom with right\", \"fa fa-arrows icon-move\", \"pan\"], [\"Zoom\", \"Zoom to rectangle\", \"fa fa-square-o icon-check-empty\", \"zoom\"], [\"\", \"\", \"\", \"\"], [\"Download\", \"Download plot\", \"fa fa-floppy-o icon-save\", \"download\"]];\n",
       "\n",
       "mpl.extensions = [\"eps\", \"jpeg\", \"pdf\", \"png\", \"ps\", \"raw\", \"svg\", \"tif\"];\n",
       "\n",
       "mpl.default_extension = \"png\";var comm_websocket_adapter = function(comm) {\n",
       "    // Create a \"websocket\"-like object which calls the given IPython comm\n",
       "    // object with the appropriate methods. Currently this is a non binary\n",
       "    // socket, so there is still some room for performance tuning.\n",
       "    var ws = {};\n",
       "\n",
       "    ws.close = function() {\n",
       "        comm.close()\n",
       "    };\n",
       "    ws.send = function(m) {\n",
       "        //console.log('sending', m);\n",
       "        comm.send(m);\n",
       "    };\n",
       "    // Register the callback with on_msg.\n",
       "    comm.on_msg(function(msg) {\n",
       "        //console.log('receiving', msg['content']['data'], msg);\n",
       "        // Pass the mpl event to the overridden (by mpl) onmessage function.\n",
       "        ws.onmessage(msg['content']['data'])\n",
       "    });\n",
       "    return ws;\n",
       "}\n",
       "\n",
       "mpl.mpl_figure_comm = function(comm, msg) {\n",
       "    // This is the function which gets called when the mpl process\n",
       "    // starts-up an IPython Comm through the \"matplotlib\" channel.\n",
       "\n",
       "    var id = msg.content.data.id;\n",
       "    // Get hold of the div created by the display call when the Comm\n",
       "    // socket was opened in Python.\n",
       "    var element = $(\"#\" + id);\n",
       "    var ws_proxy = comm_websocket_adapter(comm)\n",
       "\n",
       "    function ondownload(figure, format) {\n",
       "        window.open(figure.imageObj.src);\n",
       "    }\n",
       "\n",
       "    var fig = new mpl.figure(id, ws_proxy,\n",
       "                           ondownload,\n",
       "                           element.get(0));\n",
       "\n",
       "    // Call onopen now - mpl needs it, as it is assuming we've passed it a real\n",
       "    // web socket which is closed, not our websocket->open comm proxy.\n",
       "    ws_proxy.onopen();\n",
       "\n",
       "    fig.parent_element = element.get(0);\n",
       "    fig.cell_info = mpl.find_output_cell(\"<div id='\" + id + \"'></div>\");\n",
       "    if (!fig.cell_info) {\n",
       "        console.error(\"Failed to find cell for figure\", id, fig);\n",
       "        return;\n",
       "    }\n",
       "\n",
       "    var output_index = fig.cell_info[2]\n",
       "    var cell = fig.cell_info[0];\n",
       "\n",
       "};\n",
       "\n",
       "mpl.figure.prototype.handle_close = function(fig, msg) {\n",
       "    var width = fig.canvas.width/mpl.ratio\n",
       "    fig.root.unbind('remove')\n",
       "\n",
       "    // Update the output cell to use the data from the current canvas.\n",
       "    fig.push_to_output();\n",
       "    var dataURL = fig.canvas.toDataURL();\n",
       "    // Re-enable the keyboard manager in IPython - without this line, in FF,\n",
       "    // the notebook keyboard shortcuts fail.\n",
       "    IPython.keyboard_manager.enable()\n",
       "    $(fig.parent_element).html('<img src=\"' + dataURL + '\" width=\"' + width + '\">');\n",
       "    fig.close_ws(fig, msg);\n",
       "}\n",
       "\n",
       "mpl.figure.prototype.close_ws = function(fig, msg){\n",
       "    fig.send_message('closing', msg);\n",
       "    // fig.ws.close()\n",
       "}\n",
       "\n",
       "mpl.figure.prototype.push_to_output = function(remove_interactive) {\n",
       "    // Turn the data on the canvas into data in the output cell.\n",
       "    var width = this.canvas.width/mpl.ratio\n",
       "    var dataURL = this.canvas.toDataURL();\n",
       "    this.cell_info[1]['text/html'] = '<img src=\"' + dataURL + '\" width=\"' + width + '\">';\n",
       "}\n",
       "\n",
       "mpl.figure.prototype.updated_canvas_event = function() {\n",
       "    // Tell IPython that the notebook contents must change.\n",
       "    IPython.notebook.set_dirty(true);\n",
       "    this.send_message(\"ack\", {});\n",
       "    var fig = this;\n",
       "    // Wait a second, then push the new image to the DOM so\n",
       "    // that it is saved nicely (might be nice to debounce this).\n",
       "    setTimeout(function () { fig.push_to_output() }, 1000);\n",
       "}\n",
       "\n",
       "mpl.figure.prototype._init_toolbar = function() {\n",
       "    var fig = this;\n",
       "\n",
       "    var nav_element = $('<div/>')\n",
       "    nav_element.attr('style', 'width: 100%');\n",
       "    this.root.append(nav_element);\n",
       "\n",
       "    // Define a callback function for later on.\n",
       "    function toolbar_event(event) {\n",
       "        return fig.toolbar_button_onclick(event['data']);\n",
       "    }\n",
       "    function toolbar_mouse_event(event) {\n",
       "        return fig.toolbar_button_onmouseover(event['data']);\n",
       "    }\n",
       "\n",
       "    for(var toolbar_ind in mpl.toolbar_items){\n",
       "        var name = mpl.toolbar_items[toolbar_ind][0];\n",
       "        var tooltip = mpl.toolbar_items[toolbar_ind][1];\n",
       "        var image = mpl.toolbar_items[toolbar_ind][2];\n",
       "        var method_name = mpl.toolbar_items[toolbar_ind][3];\n",
       "\n",
       "        if (!name) { continue; };\n",
       "\n",
       "        var button = $('<button class=\"btn btn-default\" href=\"#\" title=\"' + name + '\"><i class=\"fa ' + image + ' fa-lg\"></i></button>');\n",
       "        button.click(method_name, toolbar_event);\n",
       "        button.mouseover(tooltip, toolbar_mouse_event);\n",
       "        nav_element.append(button);\n",
       "    }\n",
       "\n",
       "    // Add the status bar.\n",
       "    var status_bar = $('<span class=\"mpl-message\" style=\"text-align:right; float: right;\"/>');\n",
       "    nav_element.append(status_bar);\n",
       "    this.message = status_bar[0];\n",
       "\n",
       "    // Add the close button to the window.\n",
       "    var buttongrp = $('<div class=\"btn-group inline pull-right\"></div>');\n",
       "    var button = $('<button class=\"btn btn-mini btn-primary\" href=\"#\" title=\"Stop Interaction\"><i class=\"fa fa-power-off icon-remove icon-large\"></i></button>');\n",
       "    button.click(function (evt) { fig.handle_close(fig, {}); } );\n",
       "    button.mouseover('Stop Interaction', toolbar_mouse_event);\n",
       "    buttongrp.append(button);\n",
       "    var titlebar = this.root.find($('.ui-dialog-titlebar'));\n",
       "    titlebar.prepend(buttongrp);\n",
       "}\n",
       "\n",
       "mpl.figure.prototype._root_extra_style = function(el){\n",
       "    var fig = this\n",
       "    el.on(\"remove\", function(){\n",
       "\tfig.close_ws(fig, {});\n",
       "    });\n",
       "}\n",
       "\n",
       "mpl.figure.prototype._canvas_extra_style = function(el){\n",
       "    // this is important to make the div 'focusable\n",
       "    el.attr('tabindex', 0)\n",
       "    // reach out to IPython and tell the keyboard manager to turn it's self\n",
       "    // off when our div gets focus\n",
       "\n",
       "    // location in version 3\n",
       "    if (IPython.notebook.keyboard_manager) {\n",
       "        IPython.notebook.keyboard_manager.register_events(el);\n",
       "    }\n",
       "    else {\n",
       "        // location in version 2\n",
       "        IPython.keyboard_manager.register_events(el);\n",
       "    }\n",
       "\n",
       "}\n",
       "\n",
       "mpl.figure.prototype._key_event_extra = function(event, name) {\n",
       "    var manager = IPython.notebook.keyboard_manager;\n",
       "    if (!manager)\n",
       "        manager = IPython.keyboard_manager;\n",
       "\n",
       "    // Check for shift+enter\n",
       "    if (event.shiftKey && event.which == 13) {\n",
       "        this.canvas_div.blur();\n",
       "        event.shiftKey = false;\n",
       "        // Send a \"J\" for go to next cell\n",
       "        event.which = 74;\n",
       "        event.keyCode = 74;\n",
       "        manager.command_mode();\n",
       "        manager.handle_keydown(event);\n",
       "    }\n",
       "}\n",
       "\n",
       "mpl.figure.prototype.handle_save = function(fig, msg) {\n",
       "    fig.ondownload(fig, null);\n",
       "}\n",
       "\n",
       "\n",
       "mpl.find_output_cell = function(html_output) {\n",
       "    // Return the cell and output element which can be found *uniquely* in the notebook.\n",
       "    // Note - this is a bit hacky, but it is done because the \"notebook_saving.Notebook\"\n",
       "    // IPython event is triggered only after the cells have been serialised, which for\n",
       "    // our purposes (turning an active figure into a static one), is too late.\n",
       "    var cells = IPython.notebook.get_cells();\n",
       "    var ncells = cells.length;\n",
       "    for (var i=0; i<ncells; i++) {\n",
       "        var cell = cells[i];\n",
       "        if (cell.cell_type === 'code'){\n",
       "            for (var j=0; j<cell.output_area.outputs.length; j++) {\n",
       "                var data = cell.output_area.outputs[j];\n",
       "                if (data.data) {\n",
       "                    // IPython >= 3 moved mimebundle to data attribute of output\n",
       "                    data = data.data;\n",
       "                }\n",
       "                if (data['text/html'] == html_output) {\n",
       "                    return [cell, data, j];\n",
       "                }\n",
       "            }\n",
       "        }\n",
       "    }\n",
       "}\n",
       "\n",
       "// Register the function which deals with the matplotlib target/channel.\n",
       "// The kernel may be null if the page has been refreshed.\n",
       "if (IPython.notebook.kernel != null) {\n",
       "    IPython.notebook.kernel.comm_manager.register_target('matplotlib', mpl.mpl_figure_comm);\n",
       "}\n"
      ],
      "text/plain": [
       "<IPython.core.display.Javascript object>"
      ]
     },
     "metadata": {},
     "output_type": "display_data"
    },
    {
     "data": {
      "text/html": [
       "<img src=\"data:image/png;base64,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\" width=\"640\">"
      ],
      "text/plain": [
       "<IPython.core.display.HTML object>"
      ]
     },
     "metadata": {},
     "output_type": "display_data"
    },
    {
     "data": {
      "text/plain": [
       "[<matplotlib.lines.Line2D at 0x7f62e734bf50>]"
      ]
     },
     "execution_count": 50,
     "metadata": {},
     "output_type": "execute_result"
    }
   ],
   "source": [
    "plt.figure()\n",
    "plt.plot(wvl,sun)\n",
    "plt.plot(ku[:,0],ku[:,1],zorder=-1)"
   ]
  },
  {
   "cell_type": "markdown",
   "metadata": {},
   "source": [
    "# Verify the results and write out"
   ]
  },
  {
   "cell_type": "code",
   "execution_count": 160,
   "metadata": {
    "ExecuteTime": {
     "end_time": "2019-12-02T22:49:18.779642Z",
     "start_time": "2019-12-02T22:49:18.767527Z"
    }
   },
   "outputs": [],
   "source": [
    "hdict = {'PI':'Samuel LeBlanc',\n",
    "     'Institution':'NASA Ames Research Center',\n",
    "     'Instrument':'Solar Spectral Flux Radiometer - 3 (SSFR3)',\n",
    "     'campaign':'University of Colorado Skywatch Observatory',\n",
    "     'special_comments':'',\n",
    "     'PI_contact':'Samuel.leblanc@nasa.gov',\n",
    "     'platform':'Roof top University of Colorado',\n",
    "     'location':'University of Colorado, Duane rooftop, Boulder, Colorado, USA, Lat: 40.01 N, Lon: 105.25 W, Alt: 1660 m',\n",
    "     'instrument_info':'Derived product from SSFR with zenith narrow field of view radiance light collector',\n",
    "     'data_info':'Using the cloud property retrieval method based on spectral transmitted light measurements described by LeBlanc, Pileskie, Schmidt, and Coddington (2015), AMT, https://doi.org/10.5194/amt-8-1361-2015',\n",
    "     'uncertainty':'See included variables.',\n",
    "     'DM_contact':'Samuel LeBlanc, samuel.leblanc@nasa.gov',\n",
    "     'project_info':'N/A',\n",
    "     'stipulations':'',\n",
    "     'rev_comments':'R0: Data from LeBlanc et al., 2015 publication, released to A. Kohkanovsky in November, 2019.'\n",
    "    }\n",
    "order = ['COD','COD_err_low','COD_err_up','REF','REF_err_low','REF_err_up','Phase','Ki_square']"
   ]
  },
  {
   "cell_type": "markdown",
   "metadata": {},
   "source": [
    "## 15 parameters retrieval"
   ]
  },
  {
   "cell_type": "code",
   "execution_count": 53,
   "metadata": {
    "ExecuteTime": {
     "end_time": "2020-01-17T22:56:32.203988Z",
     "start_time": "2020-01-17T22:56:32.192607Z"
    }
   },
   "outputs": [
    {
     "data": {
      "text/plain": [
       "['wp_err',\n",
       " 'ref_err',\n",
       " 'ki_rtm',\n",
       " 'wp_rtm',\n",
       " 'ref_rtm',\n",
       " 'tau_rtm',\n",
       " 'tau_err',\n",
       " 'tmhrs']"
      ]
     },
     "execution_count": 53,
     "metadata": {},
     "output_type": "execute_result"
    }
   ],
   "source": [
    "f_liq.keys()"
   ]
  },
  {
   "cell_type": "code",
   "execution_count": 54,
   "metadata": {
    "ExecuteTime": {
     "end_time": "2020-01-17T22:56:33.251166Z",
     "start_time": "2020-01-17T22:56:33.210916Z"
    }
   },
   "outputs": [
    {
     "data": {
      "application/javascript": [
       "/* Put everything inside the global mpl namespace */\n",
       "window.mpl = {};\n",
       "\n",
       "\n",
       "mpl.get_websocket_type = function() {\n",
       "    if (typeof(WebSocket) !== 'undefined') {\n",
       "        return WebSocket;\n",
       "    } else if (typeof(MozWebSocket) !== 'undefined') {\n",
       "        return MozWebSocket;\n",
       "    } else {\n",
       "        alert('Your browser does not have WebSocket support.' +\n",
       "              'Please try Chrome, Safari or Firefox ≥ 6. ' +\n",
       "              'Firefox 4 and 5 are also supported but you ' +\n",
       "              'have to enable WebSockets in about:config.');\n",
       "    };\n",
       "}\n",
       "\n",
       "mpl.figure = function(figure_id, websocket, ondownload, parent_element) {\n",
       "    this.id = figure_id;\n",
       "\n",
       "    this.ws = websocket;\n",
       "\n",
       "    this.supports_binary = (this.ws.binaryType != undefined);\n",
       "\n",
       "    if (!this.supports_binary) {\n",
       "        var warnings = document.getElementById(\"mpl-warnings\");\n",
       "        if (warnings) {\n",
       "            warnings.style.display = 'block';\n",
       "            warnings.textContent = (\n",
       "                \"This browser does not support binary websocket messages. \" +\n",
       "                    \"Performance may be slow.\");\n",
       "        }\n",
       "    }\n",
       "\n",
       "    this.imageObj = new Image();\n",
       "\n",
       "    this.context = undefined;\n",
       "    this.message = undefined;\n",
       "    this.canvas = undefined;\n",
       "    this.rubberband_canvas = undefined;\n",
       "    this.rubberband_context = undefined;\n",
       "    this.format_dropdown = undefined;\n",
       "\n",
       "    this.image_mode = 'full';\n",
       "\n",
       "    this.root = $('<div/>');\n",
       "    this._root_extra_style(this.root)\n",
       "    this.root.attr('style', 'display: inline-block');\n",
       "\n",
       "    $(parent_element).append(this.root);\n",
       "\n",
       "    this._init_header(this);\n",
       "    this._init_canvas(this);\n",
       "    this._init_toolbar(this);\n",
       "\n",
       "    var fig = this;\n",
       "\n",
       "    this.waiting = false;\n",
       "\n",
       "    this.ws.onopen =  function () {\n",
       "            fig.send_message(\"supports_binary\", {value: fig.supports_binary});\n",
       "            fig.send_message(\"send_image_mode\", {});\n",
       "            if (mpl.ratio != 1) {\n",
       "                fig.send_message(\"set_dpi_ratio\", {'dpi_ratio': mpl.ratio});\n",
       "            }\n",
       "            fig.send_message(\"refresh\", {});\n",
       "        }\n",
       "\n",
       "    this.imageObj.onload = function() {\n",
       "            if (fig.image_mode == 'full') {\n",
       "                // Full images could contain transparency (where diff images\n",
       "                // almost always do), so we need to clear the canvas so that\n",
       "                // there is no ghosting.\n",
       "                fig.context.clearRect(0, 0, fig.canvas.width, fig.canvas.height);\n",
       "            }\n",
       "            fig.context.drawImage(fig.imageObj, 0, 0);\n",
       "        };\n",
       "\n",
       "    this.imageObj.onunload = function() {\n",
       "        fig.ws.close();\n",
       "    }\n",
       "\n",
       "    this.ws.onmessage = this._make_on_message_function(this);\n",
       "\n",
       "    this.ondownload = ondownload;\n",
       "}\n",
       "\n",
       "mpl.figure.prototype._init_header = function() {\n",
       "    var titlebar = $(\n",
       "        '<div class=\"ui-dialog-titlebar ui-widget-header ui-corner-all ' +\n",
       "        'ui-helper-clearfix\"/>');\n",
       "    var titletext = $(\n",
       "        '<div class=\"ui-dialog-title\" style=\"width: 100%; ' +\n",
       "        'text-align: center; padding: 3px;\"/>');\n",
       "    titlebar.append(titletext)\n",
       "    this.root.append(titlebar);\n",
       "    this.header = titletext[0];\n",
       "}\n",
       "\n",
       "\n",
       "\n",
       "mpl.figure.prototype._canvas_extra_style = function(canvas_div) {\n",
       "\n",
       "}\n",
       "\n",
       "\n",
       "mpl.figure.prototype._root_extra_style = function(canvas_div) {\n",
       "\n",
       "}\n",
       "\n",
       "mpl.figure.prototype._init_canvas = function() {\n",
       "    var fig = this;\n",
       "\n",
       "    var canvas_div = $('<div/>');\n",
       "\n",
       "    canvas_div.attr('style', 'position: relative; clear: both; outline: 0');\n",
       "\n",
       "    function canvas_keyboard_event(event) {\n",
       "        return fig.key_event(event, event['data']);\n",
       "    }\n",
       "\n",
       "    canvas_div.keydown('key_press', canvas_keyboard_event);\n",
       "    canvas_div.keyup('key_release', canvas_keyboard_event);\n",
       "    this.canvas_div = canvas_div\n",
       "    this._canvas_extra_style(canvas_div)\n",
       "    this.root.append(canvas_div);\n",
       "\n",
       "    var canvas = $('<canvas/>');\n",
       "    canvas.addClass('mpl-canvas');\n",
       "    canvas.attr('style', \"left: 0; top: 0; z-index: 0; outline: 0\")\n",
       "\n",
       "    this.canvas = canvas[0];\n",
       "    this.context = canvas[0].getContext(\"2d\");\n",
       "\n",
       "    var backingStore = this.context.backingStorePixelRatio ||\n",
       "\tthis.context.webkitBackingStorePixelRatio ||\n",
       "\tthis.context.mozBackingStorePixelRatio ||\n",
       "\tthis.context.msBackingStorePixelRatio ||\n",
       "\tthis.context.oBackingStorePixelRatio ||\n",
       "\tthis.context.backingStorePixelRatio || 1;\n",
       "\n",
       "    mpl.ratio = (window.devicePixelRatio || 1) / backingStore;\n",
       "\n",
       "    var rubberband = $('<canvas/>');\n",
       "    rubberband.attr('style', \"position: absolute; left: 0; top: 0; z-index: 1;\")\n",
       "\n",
       "    var pass_mouse_events = true;\n",
       "\n",
       "    canvas_div.resizable({\n",
       "        start: function(event, ui) {\n",
       "            pass_mouse_events = false;\n",
       "        },\n",
       "        resize: function(event, ui) {\n",
       "            fig.request_resize(ui.size.width, ui.size.height);\n",
       "        },\n",
       "        stop: function(event, ui) {\n",
       "            pass_mouse_events = true;\n",
       "            fig.request_resize(ui.size.width, ui.size.height);\n",
       "        },\n",
       "    });\n",
       "\n",
       "    function mouse_event_fn(event) {\n",
       "        if (pass_mouse_events)\n",
       "            return fig.mouse_event(event, event['data']);\n",
       "    }\n",
       "\n",
       "    rubberband.mousedown('button_press', mouse_event_fn);\n",
       "    rubberband.mouseup('button_release', mouse_event_fn);\n",
       "    // Throttle sequential mouse events to 1 every 20ms.\n",
       "    rubberband.mousemove('motion_notify', mouse_event_fn);\n",
       "\n",
       "    rubberband.mouseenter('figure_enter', mouse_event_fn);\n",
       "    rubberband.mouseleave('figure_leave', mouse_event_fn);\n",
       "\n",
       "    canvas_div.on(\"wheel\", function (event) {\n",
       "        event = event.originalEvent;\n",
       "        event['data'] = 'scroll'\n",
       "        if (event.deltaY < 0) {\n",
       "            event.step = 1;\n",
       "        } else {\n",
       "            event.step = -1;\n",
       "        }\n",
       "        mouse_event_fn(event);\n",
       "    });\n",
       "\n",
       "    canvas_div.append(canvas);\n",
       "    canvas_div.append(rubberband);\n",
       "\n",
       "    this.rubberband = rubberband;\n",
       "    this.rubberband_canvas = rubberband[0];\n",
       "    this.rubberband_context = rubberband[0].getContext(\"2d\");\n",
       "    this.rubberband_context.strokeStyle = \"#000000\";\n",
       "\n",
       "    this._resize_canvas = function(width, height) {\n",
       "        // Keep the size of the canvas, canvas container, and rubber band\n",
       "        // canvas in synch.\n",
       "        canvas_div.css('width', width)\n",
       "        canvas_div.css('height', height)\n",
       "\n",
       "        canvas.attr('width', width * mpl.ratio);\n",
       "        canvas.attr('height', height * mpl.ratio);\n",
       "        canvas.attr('style', 'width: ' + width + 'px; height: ' + height + 'px;');\n",
       "\n",
       "        rubberband.attr('width', width);\n",
       "        rubberband.attr('height', height);\n",
       "    }\n",
       "\n",
       "    // Set the figure to an initial 600x600px, this will subsequently be updated\n",
       "    // upon first draw.\n",
       "    this._resize_canvas(600, 600);\n",
       "\n",
       "    // Disable right mouse context menu.\n",
       "    $(this.rubberband_canvas).bind(\"contextmenu\",function(e){\n",
       "        return false;\n",
       "    });\n",
       "\n",
       "    function set_focus () {\n",
       "        canvas.focus();\n",
       "        canvas_div.focus();\n",
       "    }\n",
       "\n",
       "    window.setTimeout(set_focus, 100);\n",
       "}\n",
       "\n",
       "mpl.figure.prototype._init_toolbar = function() {\n",
       "    var fig = this;\n",
       "\n",
       "    var nav_element = $('<div/>')\n",
       "    nav_element.attr('style', 'width: 100%');\n",
       "    this.root.append(nav_element);\n",
       "\n",
       "    // Define a callback function for later on.\n",
       "    function toolbar_event(event) {\n",
       "        return fig.toolbar_button_onclick(event['data']);\n",
       "    }\n",
       "    function toolbar_mouse_event(event) {\n",
       "        return fig.toolbar_button_onmouseover(event['data']);\n",
       "    }\n",
       "\n",
       "    for(var toolbar_ind in mpl.toolbar_items) {\n",
       "        var name = mpl.toolbar_items[toolbar_ind][0];\n",
       "        var tooltip = mpl.toolbar_items[toolbar_ind][1];\n",
       "        var image = mpl.toolbar_items[toolbar_ind][2];\n",
       "        var method_name = mpl.toolbar_items[toolbar_ind][3];\n",
       "\n",
       "        if (!name) {\n",
       "            // put a spacer in here.\n",
       "            continue;\n",
       "        }\n",
       "        var button = $('<button/>');\n",
       "        button.addClass('ui-button ui-widget ui-state-default ui-corner-all ' +\n",
       "                        'ui-button-icon-only');\n",
       "        button.attr('role', 'button');\n",
       "        button.attr('aria-disabled', 'false');\n",
       "        button.click(method_name, toolbar_event);\n",
       "        button.mouseover(tooltip, toolbar_mouse_event);\n",
       "\n",
       "        var icon_img = $('<span/>');\n",
       "        icon_img.addClass('ui-button-icon-primary ui-icon');\n",
       "        icon_img.addClass(image);\n",
       "        icon_img.addClass('ui-corner-all');\n",
       "\n",
       "        var tooltip_span = $('<span/>');\n",
       "        tooltip_span.addClass('ui-button-text');\n",
       "        tooltip_span.html(tooltip);\n",
       "\n",
       "        button.append(icon_img);\n",
       "        button.append(tooltip_span);\n",
       "\n",
       "        nav_element.append(button);\n",
       "    }\n",
       "\n",
       "    var fmt_picker_span = $('<span/>');\n",
       "\n",
       "    var fmt_picker = $('<select/>');\n",
       "    fmt_picker.addClass('mpl-toolbar-option ui-widget ui-widget-content');\n",
       "    fmt_picker_span.append(fmt_picker);\n",
       "    nav_element.append(fmt_picker_span);\n",
       "    this.format_dropdown = fmt_picker[0];\n",
       "\n",
       "    for (var ind in mpl.extensions) {\n",
       "        var fmt = mpl.extensions[ind];\n",
       "        var option = $(\n",
       "            '<option/>', {selected: fmt === mpl.default_extension}).html(fmt);\n",
       "        fmt_picker.append(option)\n",
       "    }\n",
       "\n",
       "    // Add hover states to the ui-buttons\n",
       "    $( \".ui-button\" ).hover(\n",
       "        function() { $(this).addClass(\"ui-state-hover\");},\n",
       "        function() { $(this).removeClass(\"ui-state-hover\");}\n",
       "    );\n",
       "\n",
       "    var status_bar = $('<span class=\"mpl-message\"/>');\n",
       "    nav_element.append(status_bar);\n",
       "    this.message = status_bar[0];\n",
       "}\n",
       "\n",
       "mpl.figure.prototype.request_resize = function(x_pixels, y_pixels) {\n",
       "    // Request matplotlib to resize the figure. Matplotlib will then trigger a resize in the client,\n",
       "    // which will in turn request a refresh of the image.\n",
       "    this.send_message('resize', {'width': x_pixels, 'height': y_pixels});\n",
       "}\n",
       "\n",
       "mpl.figure.prototype.send_message = function(type, properties) {\n",
       "    properties['type'] = type;\n",
       "    properties['figure_id'] = this.id;\n",
       "    this.ws.send(JSON.stringify(properties));\n",
       "}\n",
       "\n",
       "mpl.figure.prototype.send_draw_message = function() {\n",
       "    if (!this.waiting) {\n",
       "        this.waiting = true;\n",
       "        this.ws.send(JSON.stringify({type: \"draw\", figure_id: this.id}));\n",
       "    }\n",
       "}\n",
       "\n",
       "\n",
       "mpl.figure.prototype.handle_save = function(fig, msg) {\n",
       "    var format_dropdown = fig.format_dropdown;\n",
       "    var format = format_dropdown.options[format_dropdown.selectedIndex].value;\n",
       "    fig.ondownload(fig, format);\n",
       "}\n",
       "\n",
       "\n",
       "mpl.figure.prototype.handle_resize = function(fig, msg) {\n",
       "    var size = msg['size'];\n",
       "    if (size[0] != fig.canvas.width || size[1] != fig.canvas.height) {\n",
       "        fig._resize_canvas(size[0], size[1]);\n",
       "        fig.send_message(\"refresh\", {});\n",
       "    };\n",
       "}\n",
       "\n",
       "mpl.figure.prototype.handle_rubberband = function(fig, msg) {\n",
       "    var x0 = msg['x0'] / mpl.ratio;\n",
       "    var y0 = (fig.canvas.height - msg['y0']) / mpl.ratio;\n",
       "    var x1 = msg['x1'] / mpl.ratio;\n",
       "    var y1 = (fig.canvas.height - msg['y1']) / mpl.ratio;\n",
       "    x0 = Math.floor(x0) + 0.5;\n",
       "    y0 = Math.floor(y0) + 0.5;\n",
       "    x1 = Math.floor(x1) + 0.5;\n",
       "    y1 = Math.floor(y1) + 0.5;\n",
       "    var min_x = Math.min(x0, x1);\n",
       "    var min_y = Math.min(y0, y1);\n",
       "    var width = Math.abs(x1 - x0);\n",
       "    var height = Math.abs(y1 - y0);\n",
       "\n",
       "    fig.rubberband_context.clearRect(\n",
       "        0, 0, fig.canvas.width, fig.canvas.height);\n",
       "\n",
       "    fig.rubberband_context.strokeRect(min_x, min_y, width, height);\n",
       "}\n",
       "\n",
       "mpl.figure.prototype.handle_figure_label = function(fig, msg) {\n",
       "    // Updates the figure title.\n",
       "    fig.header.textContent = msg['label'];\n",
       "}\n",
       "\n",
       "mpl.figure.prototype.handle_cursor = function(fig, msg) {\n",
       "    var cursor = msg['cursor'];\n",
       "    switch(cursor)\n",
       "    {\n",
       "    case 0:\n",
       "        cursor = 'pointer';\n",
       "        break;\n",
       "    case 1:\n",
       "        cursor = 'default';\n",
       "        break;\n",
       "    case 2:\n",
       "        cursor = 'crosshair';\n",
       "        break;\n",
       "    case 3:\n",
       "        cursor = 'move';\n",
       "        break;\n",
       "    }\n",
       "    fig.rubberband_canvas.style.cursor = cursor;\n",
       "}\n",
       "\n",
       "mpl.figure.prototype.handle_message = function(fig, msg) {\n",
       "    fig.message.textContent = msg['message'];\n",
       "}\n",
       "\n",
       "mpl.figure.prototype.handle_draw = function(fig, msg) {\n",
       "    // Request the server to send over a new figure.\n",
       "    fig.send_draw_message();\n",
       "}\n",
       "\n",
       "mpl.figure.prototype.handle_image_mode = function(fig, msg) {\n",
       "    fig.image_mode = msg['mode'];\n",
       "}\n",
       "\n",
       "mpl.figure.prototype.updated_canvas_event = function() {\n",
       "    // Called whenever the canvas gets updated.\n",
       "    this.send_message(\"ack\", {});\n",
       "}\n",
       "\n",
       "// A function to construct a web socket function for onmessage handling.\n",
       "// Called in the figure constructor.\n",
       "mpl.figure.prototype._make_on_message_function = function(fig) {\n",
       "    return function socket_on_message(evt) {\n",
       "        if (evt.data instanceof Blob) {\n",
       "            /* FIXME: We get \"Resource interpreted as Image but\n",
       "             * transferred with MIME type text/plain:\" errors on\n",
       "             * Chrome.  But how to set the MIME type?  It doesn't seem\n",
       "             * to be part of the websocket stream */\n",
       "            evt.data.type = \"image/png\";\n",
       "\n",
       "            /* Free the memory for the previous frames */\n",
       "            if (fig.imageObj.src) {\n",
       "                (window.URL || window.webkitURL).revokeObjectURL(\n",
       "                    fig.imageObj.src);\n",
       "            }\n",
       "\n",
       "            fig.imageObj.src = (window.URL || window.webkitURL).createObjectURL(\n",
       "                evt.data);\n",
       "            fig.updated_canvas_event();\n",
       "            fig.waiting = false;\n",
       "            return;\n",
       "        }\n",
       "        else if (typeof evt.data === 'string' && evt.data.slice(0, 21) == \"data:image/png;base64\") {\n",
       "            fig.imageObj.src = evt.data;\n",
       "            fig.updated_canvas_event();\n",
       "            fig.waiting = false;\n",
       "            return;\n",
       "        }\n",
       "\n",
       "        var msg = JSON.parse(evt.data);\n",
       "        var msg_type = msg['type'];\n",
       "\n",
       "        // Call the  \"handle_{type}\" callback, which takes\n",
       "        // the figure and JSON message as its only arguments.\n",
       "        try {\n",
       "            var callback = fig[\"handle_\" + msg_type];\n",
       "        } catch (e) {\n",
       "            console.log(\"No handler for the '\" + msg_type + \"' message type: \", msg);\n",
       "            return;\n",
       "        }\n",
       "\n",
       "        if (callback) {\n",
       "            try {\n",
       "                // console.log(\"Handling '\" + msg_type + \"' message: \", msg);\n",
       "                callback(fig, msg);\n",
       "            } catch (e) {\n",
       "                console.log(\"Exception inside the 'handler_\" + msg_type + \"' callback:\", e, e.stack, msg);\n",
       "            }\n",
       "        }\n",
       "    };\n",
       "}\n",
       "\n",
       "// from http://stackoverflow.com/questions/1114465/getting-mouse-location-in-canvas\n",
       "mpl.findpos = function(e) {\n",
       "    //this section is from http://www.quirksmode.org/js/events_properties.html\n",
       "    var targ;\n",
       "    if (!e)\n",
       "        e = window.event;\n",
       "    if (e.target)\n",
       "        targ = e.target;\n",
       "    else if (e.srcElement)\n",
       "        targ = e.srcElement;\n",
       "    if (targ.nodeType == 3) // defeat Safari bug\n",
       "        targ = targ.parentNode;\n",
       "\n",
       "    // jQuery normalizes the pageX and pageY\n",
       "    // pageX,Y are the mouse positions relative to the document\n",
       "    // offset() returns the position of the element relative to the document\n",
       "    var x = e.pageX - $(targ).offset().left;\n",
       "    var y = e.pageY - $(targ).offset().top;\n",
       "\n",
       "    return {\"x\": x, \"y\": y};\n",
       "};\n",
       "\n",
       "/*\n",
       " * return a copy of an object with only non-object keys\n",
       " * we need this to avoid circular references\n",
       " * http://stackoverflow.com/a/24161582/3208463\n",
       " */\n",
       "function simpleKeys (original) {\n",
       "  return Object.keys(original).reduce(function (obj, key) {\n",
       "    if (typeof original[key] !== 'object')\n",
       "        obj[key] = original[key]\n",
       "    return obj;\n",
       "  }, {});\n",
       "}\n",
       "\n",
       "mpl.figure.prototype.mouse_event = function(event, name) {\n",
       "    var canvas_pos = mpl.findpos(event)\n",
       "\n",
       "    if (name === 'button_press')\n",
       "    {\n",
       "        this.canvas.focus();\n",
       "        this.canvas_div.focus();\n",
       "    }\n",
       "\n",
       "    var x = canvas_pos.x * mpl.ratio;\n",
       "    var y = canvas_pos.y * mpl.ratio;\n",
       "\n",
       "    this.send_message(name, {x: x, y: y, button: event.button,\n",
       "                             step: event.step,\n",
       "                             guiEvent: simpleKeys(event)});\n",
       "\n",
       "    /* This prevents the web browser from automatically changing to\n",
       "     * the text insertion cursor when the button is pressed.  We want\n",
       "     * to control all of the cursor setting manually through the\n",
       "     * 'cursor' event from matplotlib */\n",
       "    event.preventDefault();\n",
       "    return false;\n",
       "}\n",
       "\n",
       "mpl.figure.prototype._key_event_extra = function(event, name) {\n",
       "    // Handle any extra behaviour associated with a key event\n",
       "}\n",
       "\n",
       "mpl.figure.prototype.key_event = function(event, name) {\n",
       "\n",
       "    // Prevent repeat events\n",
       "    if (name == 'key_press')\n",
       "    {\n",
       "        if (event.which === this._key)\n",
       "            return;\n",
       "        else\n",
       "            this._key = event.which;\n",
       "    }\n",
       "    if (name == 'key_release')\n",
       "        this._key = null;\n",
       "\n",
       "    var value = '';\n",
       "    if (event.ctrlKey && event.which != 17)\n",
       "        value += \"ctrl+\";\n",
       "    if (event.altKey && event.which != 18)\n",
       "        value += \"alt+\";\n",
       "    if (event.shiftKey && event.which != 16)\n",
       "        value += \"shift+\";\n",
       "\n",
       "    value += 'k';\n",
       "    value += event.which.toString();\n",
       "\n",
       "    this._key_event_extra(event, name);\n",
       "\n",
       "    this.send_message(name, {key: value,\n",
       "                             guiEvent: simpleKeys(event)});\n",
       "    return false;\n",
       "}\n",
       "\n",
       "mpl.figure.prototype.toolbar_button_onclick = function(name) {\n",
       "    if (name == 'download') {\n",
       "        this.handle_save(this, null);\n",
       "    } else {\n",
       "        this.send_message(\"toolbar_button\", {name: name});\n",
       "    }\n",
       "};\n",
       "\n",
       "mpl.figure.prototype.toolbar_button_onmouseover = function(tooltip) {\n",
       "    this.message.textContent = tooltip;\n",
       "};\n",
       "mpl.toolbar_items = [[\"Home\", \"Reset original view\", \"fa fa-home icon-home\", \"home\"], [\"Back\", \"Back to  previous view\", \"fa fa-arrow-left icon-arrow-left\", \"back\"], [\"Forward\", \"Forward to next view\", \"fa fa-arrow-right icon-arrow-right\", \"forward\"], [\"\", \"\", \"\", \"\"], [\"Pan\", \"Pan axes with left mouse, zoom with right\", \"fa fa-arrows icon-move\", \"pan\"], [\"Zoom\", \"Zoom to rectangle\", \"fa fa-square-o icon-check-empty\", \"zoom\"], [\"\", \"\", \"\", \"\"], [\"Download\", \"Download plot\", \"fa fa-floppy-o icon-save\", \"download\"]];\n",
       "\n",
       "mpl.extensions = [\"eps\", \"jpeg\", \"pdf\", \"png\", \"ps\", \"raw\", \"svg\", \"tif\"];\n",
       "\n",
       "mpl.default_extension = \"png\";var comm_websocket_adapter = function(comm) {\n",
       "    // Create a \"websocket\"-like object which calls the given IPython comm\n",
       "    // object with the appropriate methods. Currently this is a non binary\n",
       "    // socket, so there is still some room for performance tuning.\n",
       "    var ws = {};\n",
       "\n",
       "    ws.close = function() {\n",
       "        comm.close()\n",
       "    };\n",
       "    ws.send = function(m) {\n",
       "        //console.log('sending', m);\n",
       "        comm.send(m);\n",
       "    };\n",
       "    // Register the callback with on_msg.\n",
       "    comm.on_msg(function(msg) {\n",
       "        //console.log('receiving', msg['content']['data'], msg);\n",
       "        // Pass the mpl event to the overridden (by mpl) onmessage function.\n",
       "        ws.onmessage(msg['content']['data'])\n",
       "    });\n",
       "    return ws;\n",
       "}\n",
       "\n",
       "mpl.mpl_figure_comm = function(comm, msg) {\n",
       "    // This is the function which gets called when the mpl process\n",
       "    // starts-up an IPython Comm through the \"matplotlib\" channel.\n",
       "\n",
       "    var id = msg.content.data.id;\n",
       "    // Get hold of the div created by the display call when the Comm\n",
       "    // socket was opened in Python.\n",
       "    var element = $(\"#\" + id);\n",
       "    var ws_proxy = comm_websocket_adapter(comm)\n",
       "\n",
       "    function ondownload(figure, format) {\n",
       "        window.open(figure.imageObj.src);\n",
       "    }\n",
       "\n",
       "    var fig = new mpl.figure(id, ws_proxy,\n",
       "                           ondownload,\n",
       "                           element.get(0));\n",
       "\n",
       "    // Call onopen now - mpl needs it, as it is assuming we've passed it a real\n",
       "    // web socket which is closed, not our websocket->open comm proxy.\n",
       "    ws_proxy.onopen();\n",
       "\n",
       "    fig.parent_element = element.get(0);\n",
       "    fig.cell_info = mpl.find_output_cell(\"<div id='\" + id + \"'></div>\");\n",
       "    if (!fig.cell_info) {\n",
       "        console.error(\"Failed to find cell for figure\", id, fig);\n",
       "        return;\n",
       "    }\n",
       "\n",
       "    var output_index = fig.cell_info[2]\n",
       "    var cell = fig.cell_info[0];\n",
       "\n",
       "};\n",
       "\n",
       "mpl.figure.prototype.handle_close = function(fig, msg) {\n",
       "    var width = fig.canvas.width/mpl.ratio\n",
       "    fig.root.unbind('remove')\n",
       "\n",
       "    // Update the output cell to use the data from the current canvas.\n",
       "    fig.push_to_output();\n",
       "    var dataURL = fig.canvas.toDataURL();\n",
       "    // Re-enable the keyboard manager in IPython - without this line, in FF,\n",
       "    // the notebook keyboard shortcuts fail.\n",
       "    IPython.keyboard_manager.enable()\n",
       "    $(fig.parent_element).html('<img src=\"' + dataURL + '\" width=\"' + width + '\">');\n",
       "    fig.close_ws(fig, msg);\n",
       "}\n",
       "\n",
       "mpl.figure.prototype.close_ws = function(fig, msg){\n",
       "    fig.send_message('closing', msg);\n",
       "    // fig.ws.close()\n",
       "}\n",
       "\n",
       "mpl.figure.prototype.push_to_output = function(remove_interactive) {\n",
       "    // Turn the data on the canvas into data in the output cell.\n",
       "    var width = this.canvas.width/mpl.ratio\n",
       "    var dataURL = this.canvas.toDataURL();\n",
       "    this.cell_info[1]['text/html'] = '<img src=\"' + dataURL + '\" width=\"' + width + '\">';\n",
       "}\n",
       "\n",
       "mpl.figure.prototype.updated_canvas_event = function() {\n",
       "    // Tell IPython that the notebook contents must change.\n",
       "    IPython.notebook.set_dirty(true);\n",
       "    this.send_message(\"ack\", {});\n",
       "    var fig = this;\n",
       "    // Wait a second, then push the new image to the DOM so\n",
       "    // that it is saved nicely (might be nice to debounce this).\n",
       "    setTimeout(function () { fig.push_to_output() }, 1000);\n",
       "}\n",
       "\n",
       "mpl.figure.prototype._init_toolbar = function() {\n",
       "    var fig = this;\n",
       "\n",
       "    var nav_element = $('<div/>')\n",
       "    nav_element.attr('style', 'width: 100%');\n",
       "    this.root.append(nav_element);\n",
       "\n",
       "    // Define a callback function for later on.\n",
       "    function toolbar_event(event) {\n",
       "        return fig.toolbar_button_onclick(event['data']);\n",
       "    }\n",
       "    function toolbar_mouse_event(event) {\n",
       "        return fig.toolbar_button_onmouseover(event['data']);\n",
       "    }\n",
       "\n",
       "    for(var toolbar_ind in mpl.toolbar_items){\n",
       "        var name = mpl.toolbar_items[toolbar_ind][0];\n",
       "        var tooltip = mpl.toolbar_items[toolbar_ind][1];\n",
       "        var image = mpl.toolbar_items[toolbar_ind][2];\n",
       "        var method_name = mpl.toolbar_items[toolbar_ind][3];\n",
       "\n",
       "        if (!name) { continue; };\n",
       "\n",
       "        var button = $('<button class=\"btn btn-default\" href=\"#\" title=\"' + name + '\"><i class=\"fa ' + image + ' fa-lg\"></i></button>');\n",
       "        button.click(method_name, toolbar_event);\n",
       "        button.mouseover(tooltip, toolbar_mouse_event);\n",
       "        nav_element.append(button);\n",
       "    }\n",
       "\n",
       "    // Add the status bar.\n",
       "    var status_bar = $('<span class=\"mpl-message\" style=\"text-align:right; float: right;\"/>');\n",
       "    nav_element.append(status_bar);\n",
       "    this.message = status_bar[0];\n",
       "\n",
       "    // Add the close button to the window.\n",
       "    var buttongrp = $('<div class=\"btn-group inline pull-right\"></div>');\n",
       "    var button = $('<button class=\"btn btn-mini btn-primary\" href=\"#\" title=\"Stop Interaction\"><i class=\"fa fa-power-off icon-remove icon-large\"></i></button>');\n",
       "    button.click(function (evt) { fig.handle_close(fig, {}); } );\n",
       "    button.mouseover('Stop Interaction', toolbar_mouse_event);\n",
       "    buttongrp.append(button);\n",
       "    var titlebar = this.root.find($('.ui-dialog-titlebar'));\n",
       "    titlebar.prepend(buttongrp);\n",
       "}\n",
       "\n",
       "mpl.figure.prototype._root_extra_style = function(el){\n",
       "    var fig = this\n",
       "    el.on(\"remove\", function(){\n",
       "\tfig.close_ws(fig, {});\n",
       "    });\n",
       "}\n",
       "\n",
       "mpl.figure.prototype._canvas_extra_style = function(el){\n",
       "    // this is important to make the div 'focusable\n",
       "    el.attr('tabindex', 0)\n",
       "    // reach out to IPython and tell the keyboard manager to turn it's self\n",
       "    // off when our div gets focus\n",
       "\n",
       "    // location in version 3\n",
       "    if (IPython.notebook.keyboard_manager) {\n",
       "        IPython.notebook.keyboard_manager.register_events(el);\n",
       "    }\n",
       "    else {\n",
       "        // location in version 2\n",
       "        IPython.keyboard_manager.register_events(el);\n",
       "    }\n",
       "\n",
       "}\n",
       "\n",
       "mpl.figure.prototype._key_event_extra = function(event, name) {\n",
       "    var manager = IPython.notebook.keyboard_manager;\n",
       "    if (!manager)\n",
       "        manager = IPython.keyboard_manager;\n",
       "\n",
       "    // Check for shift+enter\n",
       "    if (event.shiftKey && event.which == 13) {\n",
       "        this.canvas_div.blur();\n",
       "        event.shiftKey = false;\n",
       "        // Send a \"J\" for go to next cell\n",
       "        event.which = 74;\n",
       "        event.keyCode = 74;\n",
       "        manager.command_mode();\n",
       "        manager.handle_keydown(event);\n",
       "    }\n",
       "}\n",
       "\n",
       "mpl.figure.prototype.handle_save = function(fig, msg) {\n",
       "    fig.ondownload(fig, null);\n",
       "}\n",
       "\n",
       "\n",
       "mpl.find_output_cell = function(html_output) {\n",
       "    // Return the cell and output element which can be found *uniquely* in the notebook.\n",
       "    // Note - this is a bit hacky, but it is done because the \"notebook_saving.Notebook\"\n",
       "    // IPython event is triggered only after the cells have been serialised, which for\n",
       "    // our purposes (turning an active figure into a static one), is too late.\n",
       "    var cells = IPython.notebook.get_cells();\n",
       "    var ncells = cells.length;\n",
       "    for (var i=0; i<ncells; i++) {\n",
       "        var cell = cells[i];\n",
       "        if (cell.cell_type === 'code'){\n",
       "            for (var j=0; j<cell.output_area.outputs.length; j++) {\n",
       "                var data = cell.output_area.outputs[j];\n",
       "                if (data.data) {\n",
       "                    // IPython >= 3 moved mimebundle to data attribute of output\n",
       "                    data = data.data;\n",
       "                }\n",
       "                if (data['text/html'] == html_output) {\n",
       "                    return [cell, data, j];\n",
       "                }\n",
       "            }\n",
       "        }\n",
       "    }\n",
       "}\n",
       "\n",
       "// Register the function which deals with the matplotlib target/channel.\n",
       "// The kernel may be null if the page has been refreshed.\n",
       "if (IPython.notebook.kernel != null) {\n",
       "    IPython.notebook.kernel.comm_manager.register_target('matplotlib', mpl.mpl_figure_comm);\n",
       "}\n"
      ],
      "text/plain": [
       "<IPython.core.display.Javascript object>"
      ]
     },
     "metadata": {},
     "output_type": "display_data"
    },
    {
     "data": {
      "text/html": [
       "<img src=\"data:image/png;base64,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\" width=\"640\">"
      ],
      "text/plain": [
       "<IPython.core.display.HTML object>"
      ]
     },
     "metadata": {},
     "output_type": "display_data"
    },
    {
     "data": {
      "text/plain": [
       "[<matplotlib.lines.Line2D at 0x7f62e29f27d0>]"
      ]
     },
     "execution_count": 54,
     "metadata": {},
     "output_type": "execute_result"
    }
   ],
   "source": [
    "plt.figure()\n",
    "plt.plot(f_liq['tmhrs'],f_liq['tau_rtm'],'-+')\n",
    "plt.plot(f_liq['tmhrs'],smooth(f_liq['tau_rtm'],4,old=True),'-x')\n"
   ]
  },
  {
   "cell_type": "code",
   "execution_count": 46,
   "metadata": {
    "ExecuteTime": {
     "end_time": "2019-11-30T08:06:37.232983Z",
     "start_time": "2019-11-30T08:06:37.008530Z"
    }
   },
   "outputs": [
    {
     "data": {
      "text/plain": [
       "[<matplotlib.lines.Line2D at 0x7f65c54f2310>]"
      ]
     },
     "execution_count": 46,
     "metadata": {},
     "output_type": "execute_result"
    },
    {
     "data": {
      "image/png": "[encoded data removed]",
      "text/plain": [
       "<Figure size 432x288 with 1 Axes>"
      ]
     },
     "metadata": {
      "needs_background": "light"
     },
     "output_type": "display_data"
    }
   ],
   "source": [
    "plt.figure()\n",
    "plt.plot(f_liq['ki_rtm'])"
   ]
  },
  {
   "cell_type": "code",
   "execution_count": 48,
   "metadata": {
    "ExecuteTime": {
     "end_time": "2019-11-30T08:09:02.826032Z",
     "start_time": "2019-11-30T08:09:02.816279Z"
    }
   },
   "outputs": [
    {
     "data": {
      "text/plain": [
       "(2, 106)"
      ]
     },
     "execution_count": 48,
     "metadata": {},
     "output_type": "execute_result"
    }
   ],
   "source": [
    "f_liq['ref_err'].shape"
   ]
  },
  {
   "cell_type": "code",
   "execution_count": 55,
   "metadata": {
    "ExecuteTime": {
     "end_time": "2020-01-17T22:56:41.637607Z",
     "start_time": "2020-01-17T22:56:41.632264Z"
    }
   },
   "outputs": [],
   "source": [
    "f = [f_liq,f_mix,f_ice]"
   ]
  },
  {
   "cell_type": "code",
   "execution_count": 56,
   "metadata": {
    "ExecuteTime": {
     "end_time": "2020-01-17T22:56:42.151314Z",
     "start_time": "2020-01-17T22:56:42.141787Z"
    }
   },
   "outputs": [],
   "source": [
    "def fo(gu,nn):\n",
    "\n",
    "    gu['tau_rtm'][nn] = np.nan\n",
    "    gu['ref_rtm'][nn] = np.nan\n",
    "    gu['tau_err'][0,nn] = np.nan\n",
    "    gu['ref_err'][0,nn] = np.nan\n",
    "    gu['tau_err'][1,nn] = np.nan\n",
    "    gu['ref_err'][1,nn] = np.nan\n",
    "    gu['ki_rtm'][nn] = np.nan\n",
    "    gu['wp_rtm'][nn] = np.nan\n",
    "    return gu"
   ]
  },
  {
   "cell_type": "code",
   "execution_count": 57,
   "metadata": {
    "ExecuteTime": {
     "end_time": "2020-01-17T22:56:44.088725Z",
     "start_time": "2020-01-17T22:56:44.069959Z"
    }
   },
   "outputs": [
    {
     "name": "stderr",
     "output_type": "stream",
     "text": [
      "/home/samuel/.local/lib/python2.7/site-packages/ipykernel_launcher.py:17: RuntimeWarning: invalid value encountered in greater\n"
     ]
    }
   ],
   "source": [
    "rtr = []\n",
    "for i,g in enumerate(f):\n",
    "    ff = {}\n",
    "    for k in g.keys(): ff[k] = np.array(g[k])\n",
    "    ff['tau_rtm'] = smooth(ff['tau_rtm'],4,old=True)\n",
    "    ff['ref_rtm'] = smooth(ff['ref_rtm'],4,old=True)\n",
    "    tr = ff['tau_rtm']==0\n",
    "    if any(tr): ff = fo(ff,tr)\n",
    "    trm = ff['tau_rtm']>99.0\n",
    "    if any(trm): ff = fo(ff,trm)\n",
    "    rr = ff['ref_rtm']==0\n",
    "    if any(rr): ff = fo(ff,rr)\n",
    "    rrm = ff['ref_rtm']>99.0\n",
    "    if any(rrm): ff = fo(ff,rrm)\n",
    "    kr = ff['ki_rtm']>0.69\n",
    "    if any(kr): ff = fo(ff,kr)\n",
    "    rem = ff['ref_err'][0,:]>3.0\n",
    "    if any(rem): ff['ref_err'][0,rem] = 3.0\n",
    "    if i==0:\n",
    "        wr = ff['wp_rtm']==1\n",
    "        if any(wr): ff = fo(ff,wr)\n",
    "    elif i==2:\n",
    "        wr = ff['wp_rtm']==0\n",
    "        if any(wr): ff = fo(ff,wr)\n",
    "    rtr.append(ff)"
   ]
  },
  {
   "cell_type": "code",
   "execution_count": 58,
   "metadata": {
    "ExecuteTime": {
     "end_time": "2020-01-17T22:56:45.047716Z",
     "start_time": "2020-01-17T22:56:45.036734Z"
    }
   },
   "outputs": [
    {
     "data": {
      "text/plain": [
       "['wp_err',\n",
       " 'ref_err',\n",
       " 'ki_rtm',\n",
       " 'wp_rtm',\n",
       " 'ref_rtm',\n",
       " 'tau_rtm',\n",
       " 'tau_err',\n",
       " 'tmhrs']"
      ]
     },
     "execution_count": 58,
     "metadata": {},
     "output_type": "execute_result"
    }
   ],
   "source": [
    "rtr[0].keys()"
   ]
  },
  {
   "cell_type": "markdown",
   "metadata": {},
   "source": [
    "### save liquid cloud"
   ]
  },
  {
   "cell_type": "code",
   "execution_count": 161,
   "metadata": {
    "ExecuteTime": {
     "end_time": "2019-12-02T22:49:23.256833Z",
     "start_time": "2019-12-02T22:49:23.238993Z"
    }
   },
   "outputs": [],
   "source": [
    "dict_fliq =  {'Start_UTC':{'data':rtr[0]['tmhrs']*3600.0,'unit':'seconds from midnight UTC',\n",
    "                           'long_description':'time keeping, based on UTC midnight'},\n",
    "      'COD':{'data':rtr[0]['tau_rtm'],'unit':'None','long_description':'Cloud Optical Depth of overlying cloud'},\n",
    "      'REF':{'data':rtr[0]['ref_rtm'],'unit':'micrometer',\n",
    "             'long_description':'Cloud drop effective radius for liquid clouds'},\n",
    "      'COD_err_low':{'data':rtr[0]['tau_err'][0,:],'unit':'None',\n",
    "                     'long_description':'Lower value of retrieval uncertainty of Cloud Optical Depth'},\n",
    "      'COD_err_up':{'data':rtr[0]['tau_err'][1,:],'unit':'None',\n",
    "                    'long_description':'Upper value of retrieval uncertainty of Cloud Optical Depth'},\n",
    "      'REF_err_low':{'data':rtr[0]['ref_err'][0,:],'unit':'micrometer',\n",
    "                     'long_description':'Lower value of retrieval uncertainty of Cloud effective radius.'},\n",
    "      'REF_err_up':{'data':rtr[0]['ref_err'][1,:],'unit':'micrometer',\n",
    "                    'long_description':'Upper value of retrieval uncertainty of Cloud effective radius.'},\n",
    "      'Phase':{'data':rtr[0]['wp_rtm'],'unit':'None',\n",
    "               'long_description':'Thermodynamic phase, 0 for liquid cloud, 1 for ice cloud'},\n",
    "      'Ki_square':{'data':rtr[0]['ki_rtm'],'unit':'None',\n",
    "                   'long_description':'Ki square fit parameter. It is the remainder of the ki square fit, values higher than 0.69 are considered to be failed retrievals.'}}"
   ]
  },
  {
   "cell_type": "code",
   "execution_count": 162,
   "metadata": {
    "ExecuteTime": {
     "end_time": "2019-12-02T22:49:24.065909Z",
     "start_time": "2019-12-02T22:49:24.058860Z"
    }
   },
   "outputs": [],
   "source": [
    "hdict_fliq = hdict\n",
    "hdict_fliq['special_comments'] = 'Liquid cloud case from LeBlanc et al., 2015'"
   ]
  },
  {
   "cell_type": "code",
   "execution_count": 163,
   "metadata": {
    "ExecuteTime": {
     "end_time": "2019-12-02T22:49:26.693199Z",
     "start_time": "2019-12-02T22:49:26.672882Z"
    }
   },
   "outputs": [
    {
     "name": "stdout",
     "output_type": "stream",
     "text": [
      "COD\n",
      "COD_err_low\n",
      "COD_err_up\n",
      "REF\n",
      "REF_err_low\n",
      "REF_err_up\n",
      "Phase\n",
      "Ki_square\n",
      "File writing successful to: /mnt/c/Users/lebla/Research/SSFR3/SSFR-15params-CLD_Boulder_20120525_R0.ict\n"
     ]
    }
   ],
   "source": [
    "wu.write_ict(hdict_fliq,dict_fliq,filepath=fp,\n",
    "              data_id='SSFR_15params_CLD',loc_id='Boulder',date=days[0],rev='R0',order=order)    "
   ]
  },
  {
   "cell_type": "markdown",
   "metadata": {},
   "source": [
    "### Save mix phase cloud"
   ]
  },
  {
   "cell_type": "code",
   "execution_count": 164,
   "metadata": {
    "ExecuteTime": {
     "end_time": "2019-12-02T22:49:29.073781Z",
     "start_time": "2019-12-02T22:49:29.058477Z"
    }
   },
   "outputs": [],
   "source": [
    "dict_fmix =  {'Start_UTC':{'data':rtr[1]['tmhrs']*3600.0,'unit':'seconds from midnight UTC',\n",
    "                           'long_description':'time keeping, based on UTC midnight'},\n",
    "      'COD':{'data':rtr[1]['tau_rtm'],'unit':'None',\n",
    "             'long_description':'Cloud Optical Depth of overlying cloud'},\n",
    "      'REF':{'data':rtr[1]['ref_rtm'],'unit':'micrometer',\n",
    "             'long_description':'Cloud drop effective radius for liquid clouds'},\n",
    "      'COD_err_low':{'data':rtr[1]['tau_err'][0,:],'unit':'None',\n",
    "                     'long_description':'Lower value of retrieval uncertainty of Cloud Optical Depth'},\n",
    "      'COD_err_up':{'data':rtr[1]['tau_err'][1,:],'unit':'None',\n",
    "                    'long_description':'Upper value of retrieval uncertainty of Cloud Optical Depth'},\n",
    "      'REF_err_low':{'data':rtr[1]['ref_err'][0,:],'unit':'micrometer',\n",
    "                     'long_description':'Lower value of retrieval uncertainty of Cloud effective radius.'},\n",
    "      'REF_err_up':{'data':rtr[1]['ref_err'][1,:],'unit':'micrometer',\n",
    "                    'long_description':'Upper value of retrieval uncertainty of Cloud effective radius.'},\n",
    "      'Phase':{'data':rtr[1]['wp_rtm'],'unit':'None',\n",
    "               'long_description':'Thermodynamic phase, 0 for liquid cloud, 1 for ice cloud'},\n",
    "      'Ki_square':{'data':rtr[1]['ki_rtm'],'unit':'None',\n",
    "                   'long_description':'Ki square fit parameter. It is the remainder of the ki square fit, values higher than 0.69 are considered to be failed retrievals.'}}"
   ]
  },
  {
   "cell_type": "code",
   "execution_count": 165,
   "metadata": {
    "ExecuteTime": {
     "end_time": "2019-12-02T22:49:29.398701Z",
     "start_time": "2019-12-02T22:49:29.392201Z"
    }
   },
   "outputs": [],
   "source": [
    "hdict_mix = hdict\n",
    "hdict_mix['special_comments'] = 'Mixed-phase cloud case from LeBlanc et al., 2015'"
   ]
  },
  {
   "cell_type": "code",
   "execution_count": 166,
   "metadata": {
    "ExecuteTime": {
     "end_time": "2019-12-02T22:49:30.150816Z",
     "start_time": "2019-12-02T22:49:30.133107Z"
    }
   },
   "outputs": [
    {
     "name": "stdout",
     "output_type": "stream",
     "text": [
      "COD\n",
      "COD_err_low\n",
      "COD_err_up\n",
      "REF\n",
      "REF_err_low\n",
      "REF_err_up\n",
      "Phase\n",
      "Ki_square\n",
      "File writing successful to: /mnt/c/Users/lebla/Research/SSFR3/SSFR-15params-CLD_Boulder_20120806_R0.ict\n"
     ]
    }
   ],
   "source": [
    "wu.write_ict(hdict_mix,dict_fmix,filepath=fp,\n",
    "              data_id='SSFR_15params_CLD',loc_id='Boulder',date=days[1],rev='R0',order=order) "
   ]
  },
  {
   "cell_type": "markdown",
   "metadata": {},
   "source": [
    "### Save ice cloud"
   ]
  },
  {
   "cell_type": "code",
   "execution_count": 167,
   "metadata": {
    "ExecuteTime": {
     "end_time": "2019-12-02T22:49:31.541975Z",
     "start_time": "2019-12-02T22:49:31.524539Z"
    }
   },
   "outputs": [],
   "source": [
    "dict_fice =  {'Start_UTC':{'data':rtr[2]['tmhrs']*3600.0,'unit':'seconds from midnight UTC',\n",
    "                           'long_description':'time keeping, based on UTC midnight'},\n",
    "      'COD':{'data':rtr[2]['tau_rtm'],'unit':'None',\n",
    "             'long_description':'Cloud Optical Depth of overlying cloud'},\n",
    "      'REF':{'data':rtr[2]['ref_rtm'],'unit':'micrometer',\n",
    "             'long_description':'Cloud drop effective radius for liquid clouds'},\n",
    "      'COD_err_low':{'data':rtr[2]['tau_err'][0,:],'unit':'None',\n",
    "                     'long_description':'Lower value of retrieval uncertainty of Cloud Optical Depth'},\n",
    "      'COD_err_up':{'data':rtr[2]['tau_err'][1,:],'unit':'None',\n",
    "                    'long_description':'Upper value of retrieval uncertainty of Cloud Optical Depth'},\n",
    "      'REF_err_low':{'data':rtr[2]['ref_err'][0,:],'unit':'micrometer',\n",
    "                     'long_description':'Lower value of retrieval uncertainty of Cloud effective radius.'},\n",
    "      'REF_err_up':{'data':rtr[2]['ref_err'][1,:],'unit':'micrometer',\n",
    "                    'long_description':'Upper value of retrieval uncertainty of Cloud effective radius.'},\n",
    "      'Phase':{'data':rtr[2]['wp_rtm'],'unit':'None',\n",
    "               'long_description':'Thermodynamic phase, 0 for liquid cloud, 1 for ice cloud'},\n",
    "      'Ki_square':{'data':rtr[2]['ki_rtm'],'unit':'None',\n",
    "                   'long_description':'Ki square fit parameter. It is the remainder of the ki square fit, values higher than 0.69 are considered to be failed retrievals.'}}"
   ]
  },
  {
   "cell_type": "code",
   "execution_count": 168,
   "metadata": {
    "ExecuteTime": {
     "end_time": "2019-12-02T22:49:31.871179Z",
     "start_time": "2019-12-02T22:49:31.864689Z"
    }
   },
   "outputs": [],
   "source": [
    "hdict_ice = hdict\n",
    "hdict_ice['special_comments'] = 'Ice cloud case from LeBlanc et al., 2015'"
   ]
  },
  {
   "cell_type": "code",
   "execution_count": 169,
   "metadata": {
    "ExecuteTime": {
     "end_time": "2019-12-02T22:49:32.300480Z",
     "start_time": "2019-12-02T22:49:32.279174Z"
    }
   },
   "outputs": [
    {
     "name": "stdout",
     "output_type": "stream",
     "text": [
      "COD\n",
      "COD_err_low\n",
      "COD_err_up\n",
      "REF\n",
      "REF_err_low\n",
      "REF_err_up\n",
      "Phase\n",
      "Ki_square\n",
      "File writing successful to: /mnt/c/Users/lebla/Research/SSFR3/SSFR-15params-CLD_Boulder_20130110_R0.ict\n"
     ]
    }
   ],
   "source": [
    "wu.write_ict(hdict_ice,dict_fice,filepath=fp,\n",
    "              data_id='SSFR_15params_CLD',loc_id='Boulder',date=days[2],rev='R0',order=order) "
   ]
  },
  {
   "cell_type": "markdown",
   "metadata": {},
   "source": [
    "## slope retrieval"
   ]
  },
  {
   "cell_type": "code",
   "execution_count": 114,
   "metadata": {
    "ExecuteTime": {
     "end_time": "2019-12-02T07:14:20.158354Z",
     "start_time": "2019-12-02T07:14:20.142664Z"
    }
   },
   "outputs": [
    {
     "data": {
      "text/plain": [
       "{'eref': array([0., 0., 0., ..., 0., 0., 0.], dtype=float32),\n",
       " 'etau': array([0., 0., 0., ..., 0., 0., 0.], dtype=float32),\n",
       " 'ref': array([0., 0., 0., ..., 0., 0., 0.], dtype=float32),\n",
       " 'tau': array([0., 0., 0., ..., 0., 0., 0.], dtype=float32),\n",
       " 'tmhrs': array([0., 0., 0., ..., 0., 0., 0.], dtype=float32)}"
      ]
     },
     "execution_count": 114,
     "metadata": {},
     "output_type": "execute_result"
    }
   ],
   "source": [
    "sl_liq"
   ]
  },
  {
   "cell_type": "code",
   "execution_count": 115,
   "metadata": {
    "ExecuteTime": {
     "end_time": "2019-12-02T08:38:38.542729Z",
     "start_time": "2019-12-02T08:38:38.536970Z"
    }
   },
   "outputs": [],
   "source": [
    "sl = [sl_liq,sl_mix,sl_ice]"
   ]
  },
  {
   "cell_type": "code",
   "execution_count": 133,
   "metadata": {
    "ExecuteTime": {
     "end_time": "2019-12-02T09:30:15.518065Z",
     "start_time": "2019-12-02T09:30:15.506977Z"
    }
   },
   "outputs": [],
   "source": [
    "rsl = []\n",
    "for i,g in enumerate(sl):\n",
    "    fsl = {}\n",
    "    tr = g['tau']!=0\n",
    "    fsl['COD'] = g['tau'][tr]\n",
    "    fsl['REF'] = g['ref'][tr]\n",
    "    fsl['REF_ERR'] = g['eref'][tr]\n",
    "    fsl['COD_ERR'] = g['etau'][tr]\n",
    "    fsl['utc'] = g['tmhrs'][tr]\n",
    "    rsl.append(fsl)"
   ]
  },
  {
   "cell_type": "code",
   "execution_count": 131,
   "metadata": {
    "ExecuteTime": {
     "end_time": "2019-12-02T09:22:23.532708Z",
     "start_time": "2019-12-02T09:22:23.514858Z"
    }
   },
   "outputs": [
    {
     "data": {
      "text/plain": [
       "array([17.519722, 17.528055, 17.536388, 17.544722, 17.553055, 17.561388,\n",
       "       17.569723, 17.578056, 17.58639 , 17.594723, 17.603056, 17.61139 ,\n",
       "       17.619722, 17.628056, 17.636389, 17.644722, 17.653055, 17.661388,\n",
       "       17.669722, 17.678055, 17.686388, 17.694723, 17.703056, 17.71139 ,\n",
       "       17.719723, 17.728056, 17.73639 , 17.744722, 17.775555, 17.78389 ,\n",
       "       17.792223, 17.800556, 17.80889 , 17.817223, 17.825556, 17.833889,\n",
       "       17.842222, 17.850555, 17.858889, 17.867222, 17.875555, 17.883888,\n",
       "       17.892221, 17.900555, 17.90889 , 17.917223, 17.925556, 17.93389 ,\n",
       "       17.942223, 17.950556, 17.958889, 17.967222, 17.975555, 17.983889,\n",
       "       17.992222, 18.020277, 18.02861 , 18.036945, 18.045279, 18.053612,\n",
       "       18.061945, 18.070278, 18.078611, 18.086945, 18.095278, 18.103611,\n",
       "       18.111944, 18.120277, 18.12861 , 18.136944, 18.145277, 18.15361 ,\n",
       "       18.161945, 18.170279, 18.178612, 18.186945, 18.195278, 18.203611,\n",
       "       18.211945, 18.220278, 18.228611, 18.236944, 18.245277, 18.276112,\n",
       "       18.284445, 18.292778, 18.301111, 18.309444, 18.317778, 18.32611 ,\n",
       "       18.334444, 18.342777, 18.35111 , 18.359444, 18.367777, 18.376112,\n",
       "       18.384445, 18.392778, 18.401112, 18.409445, 18.417778, 18.426111,\n",
       "       18.434444, 18.442778, 18.45111 , 18.459444, 18.467777, 18.47611 ,\n",
       "       18.484444, 18.492777, 18.523611, 18.531944, 18.540277, 18.54861 ,\n",
       "       18.556944, 18.565277, 18.57361 , 18.581944, 18.590279, 18.598612,\n",
       "       18.606945, 18.615278, 18.623611, 18.631945, 18.640278, 18.648611,\n",
       "       18.656944, 18.665277, 18.67361 , 18.681944, 18.690277, 18.69861 ,\n",
       "       18.706944, 18.715279, 18.723612, 18.731945, 18.740278, 18.77111 ,\n",
       "       18.779444, 18.787777, 18.796112, 18.804445, 18.812778, 18.821112,\n",
       "       18.829445, 18.837778, 18.846111, 18.854445, 18.862778, 18.87111 ,\n",
       "       18.879444, 18.887777, 18.89611 , 18.904444, 18.912777, 18.921112,\n",
       "       18.929445, 18.937778, 18.946112, 18.954445, 18.962778, 18.971111,\n",
       "       18.979445, 18.987778, 18.99611 , 19.024166, 19.0325  , 19.040833,\n",
       "       19.049166, 19.0575  , 19.065834, 19.074167, 19.0825  , 19.090834,\n",
       "       19.099167, 19.1075  , 19.115833, 19.124166, 19.1325  , 19.140833,\n",
       "       19.149166, 19.1575  , 19.165833, 19.174166, 19.1825  , 19.190834,\n",
       "       19.199167, 19.2075  , 19.215834, 19.224167, 19.2325  , 19.240833,\n",
       "       19.271667, 19.28    , 19.288334, 19.296667, 19.305   , 19.313334,\n",
       "       19.321667, 19.33    , 19.338333, 19.346666, 19.355   , 19.363333,\n",
       "       19.371666, 19.38    , 19.388334, 19.396667, 19.405   , 19.413334,\n",
       "       19.421667, 19.43    , 19.438334, 19.446667, 19.455   , 19.463333,\n",
       "       19.471666, 19.48    , 19.488333, 19.496666], dtype=float32)"
      ]
     },
     "execution_count": 131,
     "metadata": {},
     "output_type": "execute_result"
    }
   ],
   "source": [
    "rsl[2]['utc']"
   ]
  },
  {
   "cell_type": "markdown",
   "metadata": {},
   "source": [
    "### Save liquid cloud"
   ]
  },
  {
   "cell_type": "code",
   "execution_count": 170,
   "metadata": {
    "ExecuteTime": {
     "end_time": "2019-12-02T22:49:43.370537Z",
     "start_time": "2019-12-02T22:49:43.357958Z"
    }
   },
   "outputs": [],
   "source": [
    "hdict_sl = {'PI':'Samuel LeBlanc',\n",
    "     'Institution':'NASA Ames Research Center',\n",
    "     'Instrument':'Solar Spectral Flux Radiometer - 3 (SSFR3)',\n",
    "     'campaign':'University of Colorado Skywatch Observatory',\n",
    "     'special_comments':'',\n",
    "     'PI_contact':'Samuel.leblanc@nasa.gov',\n",
    "     'platform':'Roof top University of Colorado',\n",
    "     'location':'University of Colorado, Duane rooftop, Boulder, Colorado, USA, Lat: 40.01 N, Lon: 105.25 W, Alt: 1660 m',\n",
    "     'instrument_info':'Derived product from SSFR with zenith narrow field of view radiance light collector',\n",
    "     'data_info':'Using the cloud property retrieval method based on slope at 1600 nm from transmitted light measurements described by McBride et al., 2011, doi:10.5194/acp-11-7235-2011.',\n",
    "     'uncertainty':'See included variables.',\n",
    "     'DM_contact':'Samuel LeBlanc, samuel.leblanc@nasa.gov',\n",
    "     'project_info':'N/A',\n",
    "     'stipulations':'',\n",
    "     'rev_comments':'R0: Data from LeBlanc et al., 2015 publication, released to A. Kohkanovsky in December, 2019.'\n",
    "    }\n",
    "order_sl = ['COD','COD_err','REF','REF_err']"
   ]
  },
  {
   "cell_type": "code",
   "execution_count": 171,
   "metadata": {
    "ExecuteTime": {
     "end_time": "2019-12-02T22:49:43.814313Z",
     "start_time": "2019-12-02T22:49:43.803136Z"
    }
   },
   "outputs": [],
   "source": [
    "dict_sl_liq =  {'Start_UTC':{'data':rsl[0]['utc']*3600.0,'unit':'seconds from midnight UTC',\n",
    "                           'long_description':'time keeping, based on UTC midnight'},\n",
    "      'COD':{'data':rsl[0]['COD'],'unit':'None','long_description':'Cloud Optical Depth of overlying cloud'},\n",
    "      'REF':{'data':rsl[0]['REF'],'unit':'micrometer',\n",
    "             'long_description':'Cloud drop effective radius for liquid clouds'},\n",
    "      'COD_err':{'data':rsl[0]['COD_ERR'],'unit':'None',\n",
    "                     'long_description':'Retrieval uncertainty of Cloud Optical Depth'},\n",
    "      'REF_err':{'data':rsl[0]['REF_ERR'],'unit':'micrometer',\n",
    "                    'long_description':'Retrieval uncertainty of Cloud effective radius.'}}"
   ]
  },
  {
   "cell_type": "code",
   "execution_count": 172,
   "metadata": {
    "ExecuteTime": {
     "end_time": "2019-12-02T22:49:44.696955Z",
     "start_time": "2019-12-02T22:49:44.690158Z"
    }
   },
   "outputs": [],
   "source": [
    "hdict_sl_liq = hdict_sl\n",
    "hdict_sl_liq['special_comments'] = 'Liquid cloud case from LeBlanc et al., 2015'"
   ]
  },
  {
   "cell_type": "code",
   "execution_count": 173,
   "metadata": {
    "ExecuteTime": {
     "end_time": "2019-12-02T22:49:45.192891Z",
     "start_time": "2019-12-02T22:49:45.174858Z"
    }
   },
   "outputs": [
    {
     "name": "stdout",
     "output_type": "stream",
     "text": [
      "COD\n",
      "COD_err\n",
      "REF\n",
      "REF_err\n",
      "File writing successful to: /mnt/c/Users/lebla/Research/SSFR3/SSFR-slope-CLD_Boulder_20120525_R0.ict\n"
     ]
    }
   ],
   "source": [
    "wu.write_ict(hdict_sl_liq,dict_sl_liq,filepath=fp,\n",
    "              data_id='SSFR_slope_CLD',loc_id='Boulder',date=days[0],rev='R0',order=order_sl)    "
   ]
  },
  {
   "cell_type": "markdown",
   "metadata": {},
   "source": [
    "### Save mix-phase cloud"
   ]
  },
  {
   "cell_type": "code",
   "execution_count": 174,
   "metadata": {
    "ExecuteTime": {
     "end_time": "2019-12-02T22:49:46.363995Z",
     "start_time": "2019-12-02T22:49:46.355335Z"
    }
   },
   "outputs": [],
   "source": [
    "dict_sl_mix =  {'Start_UTC':{'data':rsl[1]['utc']*3600.0,'unit':'seconds from midnight UTC',\n",
    "                           'long_description':'time keeping, based on UTC midnight'},\n",
    "      'COD':{'data':rsl[1]['COD'],'unit':'None','long_description':'Cloud Optical Depth of overlying cloud'},\n",
    "      'REF':{'data':rsl[1]['REF'],'unit':'micrometer',\n",
    "             'long_description':'Cloud drop effective radius for liquid clouds'},\n",
    "      'COD_err':{'data':rsl[1]['COD_ERR'],'unit':'None',\n",
    "                     'long_description':'Retrieval uncertainty of Cloud Optical Depth'},\n",
    "      'REF_err':{'data':rsl[1]['REF_ERR'],'unit':'micrometer',\n",
    "                    'long_description':'Retrieval uncertainty of Cloud effective radius.'}}"
   ]
  },
  {
   "cell_type": "code",
   "execution_count": 175,
   "metadata": {
    "ExecuteTime": {
     "end_time": "2019-12-02T22:49:46.758108Z",
     "start_time": "2019-12-02T22:49:46.752499Z"
    }
   },
   "outputs": [],
   "source": [
    "hdict_sl_mix = hdict_sl\n",
    "hdict_sl_mix['special_comments'] = 'Mixed-phase cloud case from LeBlanc et al., 2015'"
   ]
  },
  {
   "cell_type": "code",
   "execution_count": 176,
   "metadata": {
    "ExecuteTime": {
     "end_time": "2019-12-02T22:49:47.216242Z",
     "start_time": "2019-12-02T22:49:47.199126Z"
    }
   },
   "outputs": [
    {
     "name": "stdout",
     "output_type": "stream",
     "text": [
      "COD\n",
      "COD_err\n",
      "REF\n",
      "REF_err\n",
      "File writing successful to: /mnt/c/Users/lebla/Research/SSFR3/SSFR-slope-CLD_Boulder_20120806_R0.ict\n"
     ]
    }
   ],
   "source": [
    "wu.write_ict(hdict_sl_mix,dict_sl_mix,filepath=fp,\n",
    "              data_id='SSFR_slope_CLD',loc_id='Boulder',date=days[1],rev='R0',order=order_sl)    "
   ]
  },
  {
   "cell_type": "markdown",
   "metadata": {},
   "source": [
    "### Save ice cloud"
   ]
  },
  {
   "cell_type": "code",
   "execution_count": 177,
   "metadata": {
    "ExecuteTime": {
     "end_time": "2019-12-02T22:49:48.198897Z",
     "start_time": "2019-12-02T22:49:48.189719Z"
    }
   },
   "outputs": [],
   "source": [
    "dict_sl_ice =  {'Start_UTC':{'data':rsl[2]['utc']*3600.0,'unit':'seconds from midnight UTC',\n",
    "                           'long_description':'time keeping, based on UTC midnight'},\n",
    "      'COD':{'data':rsl[2]['COD'],'unit':'None','long_description':'Cloud Optical Depth of overlying cloud'},\n",
    "      'REF':{'data':rsl[2]['REF'],'unit':'micrometer',\n",
    "             'long_description':'Cloud drop effective radius for liquid clouds'},\n",
    "      'COD_err':{'data':rsl[2]['COD_ERR'],'unit':'None',\n",
    "                     'long_description':'Retrieval uncertainty of Cloud Optical Depth'},\n",
    "      'REF_err':{'data':rsl[2]['REF_ERR'],'unit':'micrometer',\n",
    "                    'long_description':'Retrieval uncertainty of Cloud effective radius.'}}"
   ]
  },
  {
   "cell_type": "code",
   "execution_count": 178,
   "metadata": {
    "ExecuteTime": {
     "end_time": "2019-12-02T22:49:48.572121Z",
     "start_time": "2019-12-02T22:49:48.567304Z"
    }
   },
   "outputs": [],
   "source": [
    "hdict_sl_ice = hdict_sl\n",
    "hdict_sl_ice['special_comments'] = 'Ice cloud case from LeBlanc et al., 2015'"
   ]
  },
  {
   "cell_type": "code",
   "execution_count": 179,
   "metadata": {
    "ExecuteTime": {
     "end_time": "2019-12-02T22:49:49.221184Z",
     "start_time": "2019-12-02T22:49:49.206678Z"
    }
   },
   "outputs": [
    {
     "name": "stdout",
     "output_type": "stream",
     "text": [
      "COD\n",
      "COD_err\n",
      "REF\n",
      "REF_err\n",
      "File writing successful to: /mnt/c/Users/lebla/Research/SSFR3/SSFR-slope-CLD_Boulder_20130110_R0.ict\n"
     ]
    }
   ],
   "source": [
    "wu.write_ict(hdict_sl_ice,dict_sl_ice,filepath=fp,\n",
    "              data_id='SSFR_slope_CLD',loc_id='Boulder',date=days[2],rev='R0',order=order_sl)    "
   ]
  },
  {
   "cell_type": "markdown",
   "metadata": {},
   "source": [
    "## 2wvl retrieval\n"
   ]
  },
  {
   "cell_type": "code",
   "execution_count": 143,
   "metadata": {
    "ExecuteTime": {
     "end_time": "2019-12-02T09:39:23.012640Z",
     "start_time": "2019-12-02T09:39:23.004473Z"
    }
   },
   "outputs": [],
   "source": [
    "twv = [twv_liq,twv_mix,twv_ice]"
   ]
  },
  {
   "cell_type": "code",
   "execution_count": 144,
   "metadata": {
    "ExecuteTime": {
     "end_time": "2019-12-02T09:41:01.717643Z",
     "start_time": "2019-12-02T09:41:01.703709Z"
    }
   },
   "outputs": [
    {
     "data": {
      "text/plain": [
       "['tau', 'etau', 'eref', 'ref', 'tmhrs']"
      ]
     },
     "execution_count": 144,
     "metadata": {},
     "output_type": "execute_result"
    }
   ],
   "source": [
    "twv_liq.keys()"
   ]
  },
  {
   "cell_type": "code",
   "execution_count": 146,
   "metadata": {
    "ExecuteTime": {
     "end_time": "2019-12-02T09:45:14.301099Z",
     "start_time": "2019-12-02T09:45:14.291715Z"
    }
   },
   "outputs": [],
   "source": [
    "rtw = []\n",
    "for i,g in enumerate(twv):\n",
    "    ftw = {}\n",
    "    tr = g['tau']!=0\n",
    "    ftw['COD'] = g['tau'][tr]\n",
    "    ftw['REF'] = g['ref'][tr]\n",
    "    ftw['REF_ERR'] = g['eref'][tr]\n",
    "    ftw['COD_ERR'] = g['etau'][tr]\n",
    "    ftw['utc'] = g['tmhrs'][tr]\n",
    "    rtw.append(ftw)"
   ]
  },
  {
   "cell_type": "code",
   "execution_count": 148,
   "metadata": {
    "ExecuteTime": {
     "end_time": "2019-12-02T09:45:26.938538Z",
     "start_time": "2019-12-02T09:45:26.926243Z"
    }
   },
   "outputs": [
    {
     "data": {
      "text/plain": [
       "array([ 6.,  8.,  6.,  5.,  5.,  5.,  4.,  6.,  9.,  8.,  4.,  4.,  4.,\n",
       "        4.,  3.,  3.,  3.,  3.,  3.,  3.,  4.,  6.,  5.,  7.,  4.,  3.,\n",
       "        5.,  3.,  3.,  3.,  3.,  3.,  3.,  4.,  3.,  3.,  3.,  3.,  3.,\n",
       "        3.,  3.,  3.,  3.,  4.,  4.,  4.,  5.,  6.,  6.,  5.,  4.,  9.,\n",
       "        6.,  4.,  4.,  3.,  5.,  5.,  3.,  3.,  5., 12., 12., 18.,  5.,\n",
       "        6.,  6., 14.,  7.,  9.,  4.,  3.,  4.,  4.,  6.,  5.,  6., 10.,\n",
       "       11.,  4.,  7.,  9., 11.,  6., 11.,  6.,  9.,  3.,  3.,  3.,  4.,\n",
       "        4.,  4.,  4.,  4.,  5.,  4.,  4.,  5.,  7.,  8.,  7., 10.,  8.,\n",
       "        8.,  5.], dtype=float32)"
      ]
     },
     "execution_count": 148,
     "metadata": {},
     "output_type": "execute_result"
    }
   ],
   "source": [
    "rtw[0]['REF']"
   ]
  },
  {
   "cell_type": "code",
   "execution_count": 180,
   "metadata": {
    "ExecuteTime": {
     "end_time": "2019-12-02T22:49:59.685010Z",
     "start_time": "2019-12-02T22:49:59.671416Z"
    }
   },
   "outputs": [],
   "source": [
    "hdict_twv = {'PI':'Samuel LeBlanc',\n",
    "     'Institution':'NASA Ames Research Center',\n",
    "     'Instrument':'Solar Spectral Flux Radiometer - 3 (SSFR3)',\n",
    "     'campaign':'University of Colorado Skywatch Observatory',\n",
    "     'special_comments':'',\n",
    "     'PI_contact':'Samuel.leblanc@nasa.gov',\n",
    "     'platform':'Roof top University of Colorado',\n",
    "     'location':'University of Colorado, Duane rooftop, Boulder, Colorado, USA, Lat: 40.01 N, Lon: 105.25 W, Alt: 1660 m',\n",
    "     'instrument_info':'Derived product from SSFR with zenith narrow field of view radiance light collector',\n",
    "     'data_info':'Using the 2 wavelength cloud property retrieval method from transmitted light measurements.',\n",
    "     'uncertainty':'See included variables.',\n",
    "     'DM_contact':'Samuel LeBlanc, samuel.leblanc@nasa.gov',\n",
    "     'project_info':'N/A',\n",
    "     'stipulations':'',\n",
    "     'rev_comments':'R0: Data from LeBlanc et al., 2015 publication, released to A. Kohkanovsky in December, 2019.'\n",
    "    }\n",
    "order_twv = ['COD','COD_err','REF','REF_err']"
   ]
  },
  {
   "cell_type": "markdown",
   "metadata": {},
   "source": [
    "### Save liquid cloud"
   ]
  },
  {
   "cell_type": "code",
   "execution_count": 181,
   "metadata": {
    "ExecuteTime": {
     "end_time": "2019-12-02T22:50:00.716721Z",
     "start_time": "2019-12-02T22:50:00.706571Z"
    }
   },
   "outputs": [],
   "source": [
    "dict_tw_liq =  {'Start_UTC':{'data':rtw[0]['utc']*3600.0,'unit':'seconds from midnight UTC',\n",
    "                           'long_description':'time keeping, based on UTC midnight'},\n",
    "      'COD':{'data':rtw[0]['COD'],'unit':'None','long_description':'Cloud Optical Depth of overlying cloud'},\n",
    "      'REF':{'data':rtw[0]['REF'],'unit':'micrometer',\n",
    "             'long_description':'Cloud drop effective radius for liquid clouds'},\n",
    "      'COD_err':{'data':rtw[0]['COD_ERR'],'unit':'None',\n",
    "                     'long_description':'Retrieval uncertainty of Cloud Optical Depth'},\n",
    "      'REF_err':{'data':rtw[0]['REF_ERR'],'unit':'micrometer',\n",
    "                    'long_description':'Retrieval uncertainty of Cloud effective radius.'}}"
   ]
  },
  {
   "cell_type": "code",
   "execution_count": 182,
   "metadata": {
    "ExecuteTime": {
     "end_time": "2019-12-02T22:50:01.084480Z",
     "start_time": "2019-12-02T22:50:01.078162Z"
    }
   },
   "outputs": [],
   "source": [
    "hdict_tw_liq = hdict_twv\n",
    "hdict_tw_liq['special_comments'] = 'Liquid cloud case from LeBlanc et al., 2015'"
   ]
  },
  {
   "cell_type": "code",
   "execution_count": 183,
   "metadata": {
    "ExecuteTime": {
     "end_time": "2019-12-02T22:50:01.658841Z",
     "start_time": "2019-12-02T22:50:01.642766Z"
    }
   },
   "outputs": [
    {
     "name": "stdout",
     "output_type": "stream",
     "text": [
      "COD\n",
      "COD_err\n",
      "REF\n",
      "REF_err\n",
      "File writing successful to: /mnt/c/Users/lebla/Research/SSFR3/SSFR-2wvl-CLD_Boulder_20120525_R0.ict\n"
     ]
    }
   ],
   "source": [
    "wu.write_ict(hdict_tw_liq,dict_tw_liq,filepath=fp,\n",
    "              data_id='SSFR_2wvl_CLD',loc_id='Boulder',date=days[0],rev='R0',order=order_twv)  "
   ]
  },
  {
   "cell_type": "markdown",
   "metadata": {},
   "source": [
    "### Save mix phase cloud"
   ]
  },
  {
   "cell_type": "code",
   "execution_count": 184,
   "metadata": {
    "ExecuteTime": {
     "end_time": "2019-12-02T22:50:02.359194Z",
     "start_time": "2019-12-02T22:50:02.349330Z"
    }
   },
   "outputs": [],
   "source": [
    "dict_tw_mix =  {'Start_UTC':{'data':rtw[1]['utc']*3600.0,'unit':'seconds from midnight UTC',\n",
    "                           'long_description':'time keeping, based on UTC midnight'},\n",
    "      'COD':{'data':rtw[1]['COD'],'unit':'None','long_description':'Cloud Optical Depth of overlying cloud'},\n",
    "      'REF':{'data':rtw[1]['REF'],'unit':'micrometer',\n",
    "             'long_description':'Cloud drop effective radius for liquid clouds'},\n",
    "      'COD_err':{'data':rtw[1]['COD_ERR'],'unit':'None',\n",
    "                     'long_description':'Retrieval uncertainty of Cloud Optical Depth'},\n",
    "      'REF_err':{'data':rtw[1]['REF_ERR'],'unit':'micrometer',\n",
    "                    'long_description':'Retrieval uncertainty of Cloud effective radius.'}}"
   ]
  },
  {
   "cell_type": "code",
   "execution_count": 185,
   "metadata": {
    "ExecuteTime": {
     "end_time": "2019-12-02T22:50:02.672656Z",
     "start_time": "2019-12-02T22:50:02.666111Z"
    }
   },
   "outputs": [],
   "source": [
    "hdict_tw_mix = hdict_twv\n",
    "hdict_tw_mix['special_comments'] = 'Mixed-phase cloud case from LeBlanc et al., 2015'"
   ]
  },
  {
   "cell_type": "code",
   "execution_count": 186,
   "metadata": {
    "ExecuteTime": {
     "end_time": "2019-12-02T22:50:02.955042Z",
     "start_time": "2019-12-02T22:50:02.939182Z"
    }
   },
   "outputs": [
    {
     "name": "stdout",
     "output_type": "stream",
     "text": [
      "COD\n",
      "COD_err\n",
      "REF\n",
      "REF_err\n",
      "File writing successful to: /mnt/c/Users/lebla/Research/SSFR3/SSFR-2wvl-CLD_Boulder_20120806_R0.ict\n"
     ]
    }
   ],
   "source": [
    "wu.write_ict(hdict_tw_mix,dict_tw_mix,filepath=fp,\n",
    "              data_id='SSFR_2wvl_CLD',loc_id='Boulder',date=days[1],rev='R0',order=order_twv) "
   ]
  },
  {
   "cell_type": "markdown",
   "metadata": {},
   "source": [
    "### Save ice cloud"
   ]
  },
  {
   "cell_type": "code",
   "execution_count": 263,
   "metadata": {
    "ExecuteTime": {
     "end_time": "2019-12-03T00:40:03.484582Z",
     "start_time": "2019-12-03T00:40:03.472622Z"
    }
   },
   "outputs": [],
   "source": [
    "dict_tw_ice =  {'Start_UTC':{'data':rtw[2]['utc']*3600.0,'unit':'seconds from midnight UTC',\n",
    "                           'long_description':'time keeping, based on UTC midnight'},\n",
    "      'COD':{'data':rtw[2]['COD'],'unit':'None','long_description':'Cloud Optical Depth of overlying cloud'},\n",
    "      'REF':{'data':rtw[2]['REF'],'unit':'micrometer',\n",
    "             'long_description':'Cloud drop effective radius for liquid clouds'},\n",
    "      'COD_err':{'data':rtw[2]['COD_ERR'],'unit':'None',\n",
    "                     'long_description':'Retrieval uncertainty of Cloud Optical Depth'},\n",
    "      'REF_err':{'data':rtw[2]['REF_ERR'],'unit':'micrometer',\n",
    "                    'long_description':'Retrieval uncertainty of Cloud effective radius.'}}"
   ]
  },
  {
   "cell_type": "code",
   "execution_count": 188,
   "metadata": {
    "ExecuteTime": {
     "end_time": "2019-12-02T22:50:05.666825Z",
     "start_time": "2019-12-02T22:50:05.661062Z"
    }
   },
   "outputs": [],
   "source": [
    "hdict_tw_ice = hdict_twv\n",
    "hdict_tw_ice['special_comments'] = 'Ice cloud case from LeBlanc et al., 2015'"
   ]
  },
  {
   "cell_type": "code",
   "execution_count": 189,
   "metadata": {
    "ExecuteTime": {
     "end_time": "2019-12-02T22:50:05.978676Z",
     "start_time": "2019-12-02T22:50:05.959083Z"
    }
   },
   "outputs": [
    {
     "name": "stdout",
     "output_type": "stream",
     "text": [
      "COD\n",
      "COD_err\n",
      "REF\n",
      "REF_err\n",
      "File writing successful to: /mnt/c/Users/lebla/Research/SSFR3/SSFR-2wvl-CLD_Boulder_20130110_R0.ict\n"
     ]
    }
   ],
   "source": [
    "wu.write_ict(hdict_tw_ice,dict_tw_ice,filepath=fp,\n",
    "              data_id='SSFR_2wvl_CLD',loc_id='Boulder',date=days[2],rev='R0',order=order_twv) "
   ]
  },
  {
   "cell_type": "markdown",
   "metadata": {},
   "source": [
    "## Spectra"
   ]
  },
  {
   "cell_type": "code",
   "execution_count": 216,
   "metadata": {
    "ExecuteTime": {
     "end_time": "2019-12-02T23:11:37.897469Z",
     "start_time": "2019-12-02T23:11:37.891820Z"
    }
   },
   "outputs": [],
   "source": [
    "lat = 40.01\n",
    "lon = -105.25\n",
    "alt = 1660.0"
   ]
  },
  {
   "cell_type": "code",
   "execution_count": 193,
   "metadata": {
    "ExecuteTime": {
     "end_time": "2019-12-02T23:01:22.935532Z",
     "start_time": "2019-12-02T23:01:22.925069Z"
    }
   },
   "outputs": [
    {
     "data": {
      "text/plain": [
       "['status',\n",
       " 'darks',\n",
       " 'zenlambda',\n",
       " 'zer',\n",
       " 'nadlambda',\n",
       " 'nspectra',\n",
       " 'zspectra',\n",
       " 'sat',\n",
       " 'ner',\n",
       " 'tmhrs']"
      ]
     },
     "execution_count": 193,
     "metadata": {},
     "output_type": "execute_result"
    }
   ],
   "source": [
    "sp_liq.keys()"
   ]
  },
  {
   "cell_type": "code",
   "execution_count": 225,
   "metadata": {
    "ExecuteTime": {
     "end_time": "2019-12-03T00:10:29.875705Z",
     "start_time": "2019-12-03T00:10:29.869430Z"
    }
   },
   "outputs": [],
   "source": [
    "sp = [sp_liq,sp_mix,sp_ice]"
   ]
  },
  {
   "cell_type": "code",
   "execution_count": 230,
   "metadata": {
    "ExecuteTime": {
     "end_time": "2019-12-03T00:14:59.742919Z",
     "start_time": "2019-12-03T00:14:59.738952Z"
    }
   },
   "outputs": [],
   "source": [
    "ut = [[15.0,16.0],[22.0,23.0],[17.5,19.5]]"
   ]
  },
  {
   "cell_type": "code",
   "execution_count": 257,
   "metadata": {
    "ExecuteTime": {
     "end_time": "2019-12-03T00:39:14.821044Z",
     "start_time": "2019-12-03T00:39:13.314495Z"
    }
   },
   "outputs": [],
   "source": [
    "rsp = []\n",
    "for i,g in enumerate(sp):\n",
    "    fsp = {}\n",
    "    dtu = np.array([datetime(int(days[i][0:4]),int(days[i][4:6]),int(days[i][6:8])+(int(u)/24+1),\n",
    "                             int(u%24),int((u-int(u))*60),int(((u-int(u))*60)-int((u-int(u))*60))*60,\n",
    "                             tzinfo=pytz.timezone('UTC')) for u in g['tmhrs']])\n",
    "    sza, azi,solfac = mu.get_sza_azi(lat,lon,dtu,alt=alt,return_sunearthfactor=True)\n",
    "    tp = (g['tmhrs']>=ut[i][0]) & (g['tmhrs']<=ut[i][1]) & (g['sat']==0) & (g['zspectra'][:,50]>0.0003)\n",
    "    fsp['utc'] = g['tmhrs'][tp]\n",
    "    fsp['sza'] = np.array(sza)[tp]\n",
    "    fsp['wvl'] = g['zenlambda']\n",
    "    fsp['rad'] = g['zspectra'][tp,:]\n",
    "    rsp.append(fsp)"
   ]
  },
  {
   "cell_type": "code",
   "execution_count": 254,
   "metadata": {
    "ExecuteTime": {
     "end_time": "2019-12-03T00:34:28.238386Z",
     "start_time": "2019-12-03T00:34:28.226200Z"
    }
   },
   "outputs": [],
   "source": [
    "hdict_sp = {'PI':'Samuel LeBlanc',\n",
    "     'Institution':'NASA Ames Research Center',\n",
    "     'Instrument':'Solar Spectral Flux Radiometer - 3 (SSFR3)',\n",
    "     'campaign':'University of Colorado Skywatch Observatory',\n",
    "     'special_comments':'',\n",
    "     'PI_contact':'Samuel.leblanc@nasa.gov',\n",
    "     'platform':'Roof top University of Colorado',\n",
    "     'location':'University of Colorado, Duane rooftop, Boulder, Colorado, USA, Lat: 40.01 N, Lon: 105.25 W, Alt: 1660 m',\n",
    "     'instrument_info':'SSFR spectral radiances with zenith narrow field of view radiance light collector',\n",
    "     'data_info':'Radiance calibrated with lab measurement using NIST traceable lamp and spectralon panel. See details in LeBlanc et al., 2015, AMT, DOI:10.5194/amt-8-1361-2015 ',\n",
    "     'uncertainty':'month to month variability of accuracy at 8% in radiance. spectral and day to day precision at higher than 0.1%',\n",
    "     'DM_contact':'Samuel LeBlanc, samuel.leblanc@nasa.gov',\n",
    "     'project_info':'N/A',\n",
    "     'stipulations':'',\n",
    "     'rev_comments':'R0: Data from LeBlanc et al., 2015 publication, released to A. Kohkanovsky in December, 2019.'\n",
    "    }"
   ]
  },
  {
   "cell_type": "code",
   "execution_count": 259,
   "metadata": {
    "ExecuteTime": {
     "end_time": "2019-12-03T00:39:25.226262Z",
     "start_time": "2019-12-03T00:39:25.208561Z"
    }
   },
   "outputs": [
    {
     "data": {
      "text/plain": [
       "array([ 350.92947,  354.22186,  357.5145 ,  360.8074 ,  364.10052,\n",
       "        367.39383,  370.6874 ,  373.98114,  377.2751 ,  380.56924,\n",
       "        383.86356,  387.15802,  390.45264,  393.7474 ,  397.04233,\n",
       "        400.33737,  403.63254,  406.9278 ,  410.22314,  413.51862,\n",
       "        416.81412,  420.10977,  423.40543,  426.70114,  429.9969 ,\n",
       "        433.2927 ,  436.5885 ,  439.8843 ,  443.18015,  446.47595,\n",
       "        449.7718 ,  453.06757,  456.3633 ,  459.65903,  462.95468,\n",
       "        466.25027,  469.54578,  472.8412 ,  476.13654,  479.43176,\n",
       "        482.7269 ,  486.02188,  489.31677,  492.6115 ,  495.90607,\n",
       "        499.2005 ,  502.49475,  505.78888,  509.08276,  512.3764 ,\n",
       "        515.66986,  518.9632 ,  522.2562 ,  525.549  ,  528.84155,\n",
       "        532.1339 ,  535.4259 ,  538.7177 ,  542.00916,  545.3004 ,\n",
       "        548.5913 ,  551.8819 ,  555.1721 ,  558.46204,  561.7516 ,\n",
       "        565.04083,  568.3298 ,  571.6182 ,  574.90643,  578.1941 ,\n",
       "        581.4815 ,  584.7683 ,  588.05493,  591.34106,  594.6267 ,\n",
       "        597.9119 ,  601.19666,  604.4809 ,  607.7647 ,  611.0481 ,\n",
       "        614.3309 ,  617.6133 ,  620.895  ,  624.1764 ,  627.4571 ,\n",
       "        630.73737,  634.017  ,  637.29614,  640.57465,  643.85266,\n",
       "        647.13   ,  650.4068 ,  653.68304,  656.9585 ,  660.2335 ,\n",
       "        663.50775,  666.7814 ,  670.0544 ,  673.3267 ,  676.5983 ,\n",
       "        679.8693 ,  683.1396 ,  686.4091 ,  689.678  ,  692.9461 ,\n",
       "        696.21356,  699.48016,  702.7461 ,  706.01117,  709.27563,\n",
       "        712.5391 ,  715.802  ,  719.06396,  722.3252 ,  725.5856 ,\n",
       "        728.84515,  732.1038 ,  735.36163,  738.6187 ,  741.8748 ,\n",
       "        745.1301 ,  748.3844 ,  751.638  ,  754.8905 ,  758.1422 ,\n",
       "        761.393  ,  764.6428 ,  767.89166,  771.1396 ,  774.3865 ,\n",
       "        777.6325 ,  780.87756,  784.12146,  787.36456,  790.6065 ,\n",
       "        793.84753,  797.08746,  800.3264 ,  803.5643 ,  806.8011 ,\n",
       "        810.03687,  813.27155,  816.50507,  819.73755,  822.96893,\n",
       "        826.1992 ,  829.42834,  832.65643,  835.8833 ,  839.109  ,\n",
       "        842.33356,  845.5569 ,  848.7791 ,  852.0001 ,  855.2199 ,\n",
       "        858.43854,  861.65594,  864.8721 ,  868.087  ,  871.30066,\n",
       "        874.5131 ,  877.7242 ,  880.9341 ,  884.1427 ,  887.3499 ,\n",
       "        890.5559 ,  893.76056,  896.96387,  900.1659 ,  903.3666 ,\n",
       "        906.5659 ,  909.7638 ,  912.96045,  916.1556 ,  919.3494 ,\n",
       "        922.5418 ,  925.7328 ,  928.92236,  932.1105 ,  935.2972 ,\n",
       "        938.48236,  941.6662 ,  944.8485 ,  948.02936,  951.2087 ,\n",
       "        954.38666,  957.563  ,  960.73785,  963.91113,  967.0829 ,\n",
       "        970.2531 ,  973.4218 ,  976.5889 ,  979.75446,  986.1411 ,\n",
       "        992.3718 ,  998.6005 , 1004.8271 , 1011.0516 , 1017.274  ,\n",
       "       1023.49426, 1029.7123 , 1035.9282 , 1042.142  , 1048.3535 ,\n",
       "       1054.5626 , 1060.7694 , 1066.974  , 1073.1764 , 1079.3762 ,\n",
       "       1085.5736 , 1091.7688 , 1097.9614 , 1104.1515 , 1110.3391 ,\n",
       "       1116.5243 , 1122.707  , 1128.887  , 1135.0643 , 1141.2393 ,\n",
       "       1147.4115 , 1153.5808 , 1159.7477 , 1165.9119 , 1172.0732 ,\n",
       "       1178.2318 , 1184.3876 , 1190.5405 , 1196.6908 , 1202.8379 ,\n",
       "       1208.9822 , 1215.1237 , 1221.2623 , 1227.3978 , 1233.5302 ,\n",
       "       1239.6598 , 1245.7864 , 1251.9095 , 1258.0299 , 1264.147  ,\n",
       "       1270.2611 , 1276.3718 , 1282.4794 , 1288.584  , 1294.6852 ,\n",
       "       1300.783  , 1306.8774 , 1312.9689 , 1319.0569 , 1325.1414 ,\n",
       "       1331.2224 , 1337.3002 , 1343.3745 , 1349.4452 , 1355.5125 ,\n",
       "       1361.5763 , 1367.6365 , 1373.693  , 1379.7461 , 1385.7955 ,\n",
       "       1391.8413 , 1397.8833 , 1403.9215 , 1409.9563 , 1415.9872 ,\n",
       "       1422.0143 , 1428.0375 , 1434.057  , 1440.0726 , 1446.0844 ,\n",
       "       1452.0922 , 1458.0961 , 1464.0961 , 1470.0919 , 1476.0839 ,\n",
       "       1482.0718 , 1488.0557 , 1494.0354 , 1500.011  , 1505.9827 ,\n",
       "       1511.9501 , 1517.9132 , 1523.8722 , 1529.827  , 1535.7775 ,\n",
       "       1541.7236 , 1547.6655 , 1553.6031 , 1559.5365 , 1565.4651 ,\n",
       "       1571.3895 , 1577.3096 , 1583.2252 , 1589.1361 , 1595.0425 ,\n",
       "       1600.9447 , 1606.842  , 1612.7349 , 1618.6229 , 1624.5067 ,\n",
       "       1630.3857 , 1636.2599 , 1642.1293 , 1647.9941 , 1653.8542 ,\n",
       "       1659.7095 , 1665.5597 , 1671.4053 , 1677.2461 , 1683.0819 ,\n",
       "       1688.9126 , 1694.7388 , 1700.5598 , 1706.3757 , 1712.1866 ,\n",
       "       1717.9927 , 1723.7936 , 1729.5894 , 1735.38   , 1741.1655 ,\n",
       "       1746.9459 , 1752.7211 , 1758.491  , 1764.2557 , 1770.0153 ,\n",
       "       1775.7693 , 1781.5181 , 1787.2616 , 1792.9998 , 1798.7324 ,\n",
       "       1804.4596 , 1810.1815 , 1815.8981 , 1821.6089 , 1827.3142 ,\n",
       "       1833.014  , 1838.7084 , 1844.397  , 1850.0798 , 1855.7573 ,\n",
       "       1861.4291 , 1867.0951 , 1872.7552 , 1878.4099 , 1884.0587 ,\n",
       "       1889.7015 , 1895.3387 , 1900.9701 , 1906.5956 , 1912.215  ,\n",
       "       1917.8286 , 1923.4363 , 1929.038  , 1934.6337 , 1940.2234 ,\n",
       "       1945.8069 , 1951.3844 , 1956.9557 , 1962.5211 , 1968.0802 ,\n",
       "       1973.6332 , 1979.1799 , 1984.7205 , 1990.2548 , 1995.7826 ,\n",
       "       2001.3044 , 2006.82   , 2012.3289 , 2017.8314 , 2023.3276 ,\n",
       "       2028.8175 , 2034.3008 , 2039.7773 , 2045.2479 , 2050.712  ,\n",
       "       2056.1692 , 2061.6199 , 2067.064  , 2072.5012 , 2077.932  ,\n",
       "       2083.3562 , 2088.7737 , 2094.1846 , 2099.5884 , 2104.9856 ,\n",
       "       2110.3755 , 2115.7593 , 2121.1357 , 2126.5054 , 2131.8684 ,\n",
       "       2137.2246 , 2142.5735 , 2147.9153 ], dtype=float32)"
      ]
     },
     "execution_count": 259,
     "metadata": {},
     "output_type": "execute_result"
    }
   ],
   "source": [
    "rsp[0]['wvl']"
   ]
  },
  {
   "cell_type": "markdown",
   "metadata": {},
   "source": [
    "### Save the liquid cloud"
   ]
  },
  {
   "cell_type": "code",
   "execution_count": 275,
   "metadata": {
    "ExecuteTime": {
     "end_time": "2019-12-03T01:07:24.644142Z",
     "start_time": "2019-12-03T01:07:24.635635Z"
    }
   },
   "outputs": [],
   "source": [
    "dict_sp_liq =  {'Start_UTC':{'data':rsp[0]['utc']*3600.0,'unit':'seconds from midnight UTC',\n",
    "                           'long_description':'time keeping, based on UTC midnight'},\n",
    "      'SZA':{'data':rsp[0]['sza'],'unit':'degrees','long_description':'Solar Zenith Angle of observations'}}\n",
    "order_sp = ['SZA']"
   ]
  },
  {
   "cell_type": "code",
   "execution_count": 276,
   "metadata": {
    "ExecuteTime": {
     "end_time": "2019-12-03T01:07:25.260083Z",
     "start_time": "2019-12-03T01:07:25.251738Z"
    }
   },
   "outputs": [],
   "source": [
    "for i,n in enumerate(rsp[0]['wvl']):\n",
    "    dict_sp_liq['rad_{:06.1f}'.format(n)]={'data':rsp[0]['rad'][:,i],'unit':'W/m^2/nm/sr','long_description':'Zenith radiance measured at {} nm'.format(n)}\n",
    "    order_sp.append('rad_{:06.1f}'.format(n))"
   ]
  },
  {
   "cell_type": "code",
   "execution_count": 277,
   "metadata": {
    "ExecuteTime": {
     "end_time": "2019-12-03T01:07:29.240212Z",
     "start_time": "2019-12-03T01:07:29.235100Z"
    }
   },
   "outputs": [],
   "source": [
    "hdict_sp_liq = hdict_sp\n",
    "hdict_sp_liq['special_comments'] = 'Liquid cloud case from LeBlanc et al., 2015'"
   ]
  },
  {
   "cell_type": "code",
   "execution_count": 278,
   "metadata": {
    "ExecuteTime": {
     "end_time": "2019-12-03T01:08:14.055851Z",
     "start_time": "2019-12-03T01:08:11.580426Z"
    }
   },
   "outputs": [
    {
     "name": "stdout",
     "output_type": "stream",
     "text": [
      "SZA\n",
      "rad_0350.9\n",
      "rad_0354.2\n",
      "rad_0357.5\n",
      "rad_0360.8\n",
      "rad_0364.1\n",
      "rad_0367.4\n",
      "rad_0370.7\n",
      "rad_0374.0\n",
      "rad_0377.3\n",
      "rad_0380.6\n",
      "rad_0383.9\n",
      "rad_0387.2\n",
      "rad_0390.5\n",
      "rad_0393.7\n",
      "rad_0397.0\n",
      "rad_0400.3\n",
      "rad_0403.6\n",
      "rad_0406.9\n",
      "rad_0410.2\n",
      "rad_0413.5\n",
      "rad_0416.8\n",
      "rad_0420.1\n",
      "rad_0423.4\n",
      "rad_0426.7\n",
      "rad_0430.0\n",
      "rad_0433.3\n",
      "rad_0436.6\n",
      "rad_0439.9\n",
      "rad_0443.2\n",
      "rad_0446.5\n",
      "rad_0449.8\n",
      "rad_0453.1\n",
      "rad_0456.4\n",
      "rad_0459.7\n",
      "rad_0463.0\n",
      "rad_0466.3\n",
      "rad_0469.5\n",
      "rad_0472.8\n",
      "rad_0476.1\n",
      "rad_0479.4\n",
      "rad_0482.7\n",
      "rad_0486.0\n",
      "rad_0489.3\n",
      "rad_0492.6\n",
      "rad_0495.9\n",
      "rad_0499.2\n",
      "rad_0502.5\n",
      "rad_0505.8\n",
      "rad_0509.1\n",
      "rad_0512.4\n",
      "rad_0515.7\n",
      "rad_0519.0\n",
      "rad_0522.3\n",
      "rad_0525.5\n",
      "rad_0528.8\n",
      "rad_0532.1\n",
      "rad_0535.4\n",
      "rad_0538.7\n",
      "rad_0542.0\n",
      "rad_0545.3\n",
      "rad_0548.6\n",
      "rad_0551.9\n",
      "rad_0555.2\n",
      "rad_0558.5\n",
      "rad_0561.8\n",
      "rad_0565.0\n",
      "rad_0568.3\n",
      "rad_0571.6\n",
      "rad_0574.9\n",
      "rad_0578.2\n",
      "rad_0581.5\n",
      "rad_0584.8\n",
      "rad_0588.1\n",
      "rad_0591.3\n",
      "rad_0594.6\n",
      "rad_0597.9\n",
      "rad_0601.2\n",
      "rad_0604.5\n",
      "rad_0607.8\n",
      "rad_0611.0\n",
      "rad_0614.3\n",
      "rad_0617.6\n",
      "rad_0620.9\n",
      "rad_0624.2\n",
      "rad_0627.5\n",
      "rad_0630.7\n",
      "rad_0634.0\n",
      "rad_0637.3\n",
      "rad_0640.6\n",
      "rad_0643.9\n",
      "rad_0647.1\n",
      "rad_0650.4\n",
      "rad_0653.7\n",
      "rad_0657.0\n",
      "rad_0660.2\n",
      "rad_0663.5\n",
      "rad_0666.8\n",
      "rad_0670.1\n",
      "rad_0673.3\n",
      "rad_0676.6\n",
      "rad_0679.9\n",
      "rad_0683.1\n",
      "rad_0686.4\n",
      "rad_0689.7\n",
      "rad_0692.9\n",
      "rad_0696.2\n",
      "rad_0699.5\n",
      "rad_0702.7\n",
      "rad_0706.0\n",
      "rad_0709.3\n",
      "rad_0712.5\n",
      "rad_0715.8\n",
      "rad_0719.1\n",
      "rad_0722.3\n",
      "rad_0725.6\n",
      "rad_0728.8\n",
      "rad_0732.1\n",
      "rad_0735.4\n",
      "rad_0738.6\n",
      "rad_0741.9\n",
      "rad_0745.1\n",
      "rad_0748.4\n",
      "rad_0751.6\n",
      "rad_0754.9\n",
      "rad_0758.1\n",
      "rad_0761.4\n",
      "rad_0764.6\n",
      "rad_0767.9\n",
      "rad_0771.1\n",
      "rad_0774.4\n",
      "rad_0777.6\n",
      "rad_0780.9\n",
      "rad_0784.1\n",
      "rad_0787.4\n",
      "rad_0790.6\n",
      "rad_0793.8\n",
      "rad_0797.1\n",
      "rad_0800.3\n",
      "rad_0803.6\n",
      "rad_0806.8\n",
      "rad_0810.0\n",
      "rad_0813.3\n",
      "rad_0816.5\n",
      "rad_0819.7\n",
      "rad_0823.0\n",
      "rad_0826.2\n",
      "rad_0829.4\n",
      "rad_0832.7\n",
      "rad_0835.9\n",
      "rad_0839.1\n",
      "rad_0842.3\n",
      "rad_0845.6\n",
      "rad_0848.8\n",
      "rad_0852.0\n",
      "rad_0855.2\n",
      "rad_0858.4\n",
      "rad_0861.7\n",
      "rad_0864.9\n",
      "rad_0868.1\n",
      "rad_0871.3\n",
      "rad_0874.5\n",
      "rad_0877.7\n",
      "rad_0880.9\n",
      "rad_0884.1\n",
      "rad_0887.3\n",
      "rad_0890.6\n",
      "rad_0893.8\n",
      "rad_0897.0\n",
      "rad_0900.2\n",
      "rad_0903.4\n",
      "rad_0906.6\n",
      "rad_0909.8\n",
      "rad_0913.0\n",
      "rad_0916.2\n",
      "rad_0919.3\n",
      "rad_0922.5\n",
      "rad_0925.7\n",
      "rad_0928.9\n",
      "rad_0932.1\n",
      "rad_0935.3\n",
      "rad_0938.5\n",
      "rad_0941.7\n",
      "rad_0944.8\n",
      "rad_0948.0\n",
      "rad_0951.2\n",
      "rad_0954.4\n",
      "rad_0957.6\n",
      "rad_0960.7\n",
      "rad_0963.9\n",
      "rad_0967.1\n",
      "rad_0970.3\n",
      "rad_0973.4\n",
      "rad_0976.6\n",
      "rad_0979.8\n",
      "rad_0986.1\n",
      "rad_0992.4\n",
      "rad_0998.6\n",
      "rad_1004.8\n",
      "rad_1011.1\n",
      "rad_1017.3\n",
      "rad_1023.5\n",
      "rad_1029.7\n",
      "rad_1035.9\n",
      "rad_1042.1\n",
      "rad_1048.4\n",
      "rad_1054.6\n",
      "rad_1060.8\n",
      "rad_1067.0\n",
      "rad_1073.2\n",
      "rad_1079.4\n",
      "rad_1085.6\n",
      "rad_1091.8\n",
      "rad_1098.0\n",
      "rad_1104.2\n",
      "rad_1110.3\n",
      "rad_1116.5\n",
      "rad_1122.7\n",
      "rad_1128.9\n",
      "rad_1135.1\n",
      "rad_1141.2\n",
      "rad_1147.4\n",
      "rad_1153.6\n",
      "rad_1159.7\n",
      "rad_1165.9\n",
      "rad_1172.1\n",
      "rad_1178.2\n",
      "rad_1184.4\n",
      "rad_1190.5\n",
      "rad_1196.7\n",
      "rad_1202.8\n",
      "rad_1209.0\n",
      "rad_1215.1\n",
      "rad_1221.3\n",
      "rad_1227.4\n",
      "rad_1233.5\n",
      "rad_1239.7\n",
      "rad_1245.8\n",
      "rad_1251.9\n",
      "rad_1258.0\n",
      "rad_1264.1\n",
      "rad_1270.3\n",
      "rad_1276.4\n",
      "rad_1282.5\n",
      "rad_1288.6\n",
      "rad_1294.7\n",
      "rad_1300.8\n",
      "rad_1306.9\n",
      "rad_1313.0\n",
      "rad_1319.1\n",
      "rad_1325.1\n",
      "rad_1331.2\n",
      "rad_1337.3\n",
      "rad_1343.4\n",
      "rad_1349.4\n",
      "rad_1355.5\n",
      "rad_1361.6\n",
      "rad_1367.6\n",
      "rad_1373.7\n",
      "rad_1379.7\n",
      "rad_1385.8\n",
      "rad_1391.8\n",
      "rad_1397.9\n",
      "rad_1403.9\n",
      "rad_1410.0\n",
      "rad_1416.0\n",
      "rad_1422.0\n",
      "rad_1428.0\n",
      "rad_1434.1\n",
      "rad_1440.1\n",
      "rad_1446.1\n",
      "rad_1452.1\n",
      "rad_1458.1\n",
      "rad_1464.1\n",
      "rad_1470.1\n",
      "rad_1476.1\n",
      "rad_1482.1\n",
      "rad_1488.1\n",
      "rad_1494.0\n",
      "rad_1500.0\n",
      "rad_1506.0\n",
      "rad_1512.0\n",
      "rad_1517.9\n",
      "rad_1523.9\n",
      "rad_1529.8\n",
      "rad_1535.8\n",
      "rad_1541.7\n",
      "rad_1547.7\n",
      "rad_1553.6\n",
      "rad_1559.5\n",
      "rad_1565.5\n",
      "rad_1571.4\n",
      "rad_1577.3\n",
      "rad_1583.2\n",
      "rad_1589.1\n",
      "rad_1595.0\n",
      "rad_1600.9\n",
      "rad_1606.8\n",
      "rad_1612.7\n",
      "rad_1618.6\n",
      "rad_1624.5\n",
      "rad_1630.4\n",
      "rad_1636.3\n",
      "rad_1642.1\n",
      "rad_1648.0\n",
      "rad_1653.9\n",
      "rad_1659.7\n",
      "rad_1665.6\n",
      "rad_1671.4\n",
      "rad_1677.2\n",
      "rad_1683.1\n",
      "rad_1688.9\n",
      "rad_1694.7\n",
      "rad_1700.6\n",
      "rad_1706.4\n",
      "rad_1712.2\n",
      "rad_1718.0\n",
      "rad_1723.8\n",
      "rad_1729.6\n",
      "rad_1735.4\n",
      "rad_1741.2\n",
      "rad_1746.9\n",
      "rad_1752.7\n",
      "rad_1758.5\n",
      "rad_1764.3\n",
      "rad_1770.0\n",
      "rad_1775.8\n",
      "rad_1781.5\n",
      "rad_1787.3\n",
      "rad_1793.0\n",
      "rad_1798.7\n",
      "rad_1804.5\n",
      "rad_1810.2\n",
      "rad_1815.9\n",
      "rad_1821.6\n",
      "rad_1827.3\n",
      "rad_1833.0\n",
      "rad_1838.7\n",
      "rad_1844.4\n",
      "rad_1850.1\n",
      "rad_1855.8\n",
      "rad_1861.4\n",
      "rad_1867.1\n",
      "rad_1872.8\n",
      "rad_1878.4\n",
      "rad_1884.1\n",
      "rad_1889.7\n",
      "rad_1895.3\n",
      "rad_1901.0\n",
      "rad_1906.6\n",
      "rad_1912.2\n",
      "rad_1917.8\n",
      "rad_1923.4\n",
      "rad_1929.0\n",
      "rad_1934.6\n",
      "rad_1940.2\n",
      "rad_1945.8\n",
      "rad_1951.4\n",
      "rad_1957.0\n",
      "rad_1962.5\n",
      "rad_1968.1\n",
      "rad_1973.6\n",
      "rad_1979.2\n",
      "rad_1984.7\n",
      "rad_1990.3\n",
      "rad_1995.8\n",
      "rad_2001.3\n",
      "rad_2006.8\n",
      "rad_2012.3\n",
      "rad_2017.8\n",
      "rad_2023.3\n",
      "rad_2028.8\n",
      "rad_2034.3\n",
      "rad_2039.8\n",
      "rad_2045.2\n",
      "rad_2050.7\n",
      "rad_2056.2\n",
      "rad_2061.6\n",
      "rad_2067.1\n",
      "rad_2072.5\n",
      "rad_2077.9\n",
      "rad_2083.4\n",
      "rad_2088.8\n",
      "rad_2094.2\n",
      "rad_2099.6\n",
      "rad_2105.0\n",
      "rad_2110.4\n",
      "rad_2115.8\n",
      "rad_2121.1\n",
      "rad_2126.5\n",
      "rad_2131.9\n",
      "rad_2137.2\n",
      "rad_2142.6\n",
      "rad_2147.9\n",
      "File writing successful to: /mnt/c/Users/lebla/Research/SSFR3/SSFR-Zenith-radiance_Boulder_20120525_R0.ict\n"
     ]
    }
   ],
   "source": [
    "wu.write_ict(hdict_sp_liq,dict_sp_liq,filepath=fp,\n",
    "              data_id='SSFR_Zenith_radiance',loc_id='Boulder',date=days[0],rev='R0',order=order_sp) "
   ]
  },
  {
   "cell_type": "markdown",
   "metadata": {},
   "source": [
    "### Save the mix phase cloud"
   ]
  },
  {
   "cell_type": "code",
   "execution_count": 279,
   "metadata": {
    "ExecuteTime": {
     "end_time": "2019-12-03T01:09:57.670305Z",
     "start_time": "2019-12-03T01:09:57.662814Z"
    }
   },
   "outputs": [],
   "source": [
    "dict_sp_mix =  {'Start_UTC':{'data':rsp[1]['utc']*3600.0,'unit':'seconds from midnight UTC',\n",
    "                           'long_description':'time keeping, based on UTC midnight'},\n",
    "      'SZA':{'data':rsp[1]['sza'],'unit':'degrees','long_description':'Solar Zenith Angle of observations'}}"
   ]
  },
  {
   "cell_type": "code",
   "execution_count": 280,
   "metadata": {
    "ExecuteTime": {
     "end_time": "2019-12-03T01:10:34.383743Z",
     "start_time": "2019-12-03T01:10:34.375259Z"
    }
   },
   "outputs": [],
   "source": [
    "for i,n in enumerate(rsp[1]['wvl']):\n",
    "    dict_sp_mix['rad_{:06.1f}'.format(n)]={'data':rsp[1]['rad'][:,i],'unit':'W/m^2/nm/sr','long_description':'Zenith radiance measured at {} nm'.format(n)}"
   ]
  },
  {
   "cell_type": "code",
   "execution_count": 281,
   "metadata": {
    "ExecuteTime": {
     "end_time": "2019-12-03T01:10:52.123330Z",
     "start_time": "2019-12-03T01:10:52.119176Z"
    }
   },
   "outputs": [],
   "source": [
    "hdict_sp_mix = hdict_sp\n",
    "hdict_sp_mix['special_comments'] = 'Mixed-phase cloud case from LeBlanc et al., 2015'"
   ]
  },
  {
   "cell_type": "code",
   "execution_count": 282,
   "metadata": {
    "ExecuteTime": {
     "end_time": "2019-12-03T01:11:17.606585Z",
     "start_time": "2019-12-03T01:11:14.863505Z"
    }
   },
   "outputs": [
    {
     "name": "stdout",
     "output_type": "stream",
     "text": [
      "SZA\n",
      "rad_0350.9\n",
      "rad_0354.2\n",
      "rad_0357.5\n",
      "rad_0360.8\n",
      "rad_0364.1\n",
      "rad_0367.4\n",
      "rad_0370.7\n",
      "rad_0374.0\n",
      "rad_0377.3\n",
      "rad_0380.6\n",
      "rad_0383.9\n",
      "rad_0387.2\n",
      "rad_0390.5\n",
      "rad_0393.7\n",
      "rad_0397.0\n",
      "rad_0400.3\n",
      "rad_0403.6\n",
      "rad_0406.9\n",
      "rad_0410.2\n",
      "rad_0413.5\n",
      "rad_0416.8\n",
      "rad_0420.1\n",
      "rad_0423.4\n",
      "rad_0426.7\n",
      "rad_0430.0\n",
      "rad_0433.3\n",
      "rad_0436.6\n",
      "rad_0439.9\n",
      "rad_0443.2\n",
      "rad_0446.5\n",
      "rad_0449.8\n",
      "rad_0453.1\n",
      "rad_0456.4\n",
      "rad_0459.7\n",
      "rad_0463.0\n",
      "rad_0466.3\n",
      "rad_0469.5\n",
      "rad_0472.8\n",
      "rad_0476.1\n",
      "rad_0479.4\n",
      "rad_0482.7\n",
      "rad_0486.0\n",
      "rad_0489.3\n",
      "rad_0492.6\n",
      "rad_0495.9\n",
      "rad_0499.2\n",
      "rad_0502.5\n",
      "rad_0505.8\n",
      "rad_0509.1\n",
      "rad_0512.4\n",
      "rad_0515.7\n",
      "rad_0519.0\n",
      "rad_0522.3\n",
      "rad_0525.5\n",
      "rad_0528.8\n",
      "rad_0532.1\n",
      "rad_0535.4\n",
      "rad_0538.7\n",
      "rad_0542.0\n",
      "rad_0545.3\n",
      "rad_0548.6\n",
      "rad_0551.9\n",
      "rad_0555.2\n",
      "rad_0558.5\n",
      "rad_0561.8\n",
      "rad_0565.0\n",
      "rad_0568.3\n",
      "rad_0571.6\n",
      "rad_0574.9\n",
      "rad_0578.2\n",
      "rad_0581.5\n",
      "rad_0584.8\n",
      "rad_0588.1\n",
      "rad_0591.3\n",
      "rad_0594.6\n",
      "rad_0597.9\n",
      "rad_0601.2\n",
      "rad_0604.5\n",
      "rad_0607.8\n",
      "rad_0611.0\n",
      "rad_0614.3\n",
      "rad_0617.6\n",
      "rad_0620.9\n",
      "rad_0624.2\n",
      "rad_0627.5\n",
      "rad_0630.7\n",
      "rad_0634.0\n",
      "rad_0637.3\n",
      "rad_0640.6\n",
      "rad_0643.9\n",
      "rad_0647.1\n",
      "rad_0650.4\n",
      "rad_0653.7\n",
      "rad_0657.0\n",
      "rad_0660.2\n",
      "rad_0663.5\n",
      "rad_0666.8\n",
      "rad_0670.1\n",
      "rad_0673.3\n",
      "rad_0676.6\n",
      "rad_0679.9\n",
      "rad_0683.1\n",
      "rad_0686.4\n",
      "rad_0689.7\n",
      "rad_0692.9\n",
      "rad_0696.2\n",
      "rad_0699.5\n",
      "rad_0702.7\n",
      "rad_0706.0\n",
      "rad_0709.3\n",
      "rad_0712.5\n",
      "rad_0715.8\n",
      "rad_0719.1\n",
      "rad_0722.3\n",
      "rad_0725.6\n",
      "rad_0728.8\n",
      "rad_0732.1\n",
      "rad_0735.4\n",
      "rad_0738.6\n",
      "rad_0741.9\n",
      "rad_0745.1\n",
      "rad_0748.4\n",
      "rad_0751.6\n",
      "rad_0754.9\n",
      "rad_0758.1\n",
      "rad_0761.4\n",
      "rad_0764.6\n",
      "rad_0767.9\n",
      "rad_0771.1\n",
      "rad_0774.4\n",
      "rad_0777.6\n",
      "rad_0780.9\n",
      "rad_0784.1\n",
      "rad_0787.4\n",
      "rad_0790.6\n",
      "rad_0793.8\n",
      "rad_0797.1\n",
      "rad_0800.3\n",
      "rad_0803.6\n",
      "rad_0806.8\n",
      "rad_0810.0\n",
      "rad_0813.3\n",
      "rad_0816.5\n",
      "rad_0819.7\n",
      "rad_0823.0\n",
      "rad_0826.2\n",
      "rad_0829.4\n",
      "rad_0832.7\n",
      "rad_0835.9\n",
      "rad_0839.1\n",
      "rad_0842.3\n",
      "rad_0845.6\n",
      "rad_0848.8\n",
      "rad_0852.0\n",
      "rad_0855.2\n",
      "rad_0858.4\n",
      "rad_0861.7\n",
      "rad_0864.9\n",
      "rad_0868.1\n",
      "rad_0871.3\n",
      "rad_0874.5\n",
      "rad_0877.7\n",
      "rad_0880.9\n",
      "rad_0884.1\n",
      "rad_0887.3\n",
      "rad_0890.6\n",
      "rad_0893.8\n",
      "rad_0897.0\n",
      "rad_0900.2\n",
      "rad_0903.4\n",
      "rad_0906.6\n",
      "rad_0909.8\n",
      "rad_0913.0\n",
      "rad_0916.2\n",
      "rad_0919.3\n",
      "rad_0922.5\n",
      "rad_0925.7\n",
      "rad_0928.9\n",
      "rad_0932.1\n",
      "rad_0935.3\n",
      "rad_0938.5\n",
      "rad_0941.7\n",
      "rad_0944.8\n",
      "rad_0948.0\n",
      "rad_0951.2\n",
      "rad_0954.4\n",
      "rad_0957.6\n",
      "rad_0960.7\n",
      "rad_0963.9\n",
      "rad_0967.1\n",
      "rad_0970.3\n",
      "rad_0973.4\n",
      "rad_0976.6\n",
      "rad_0979.8\n",
      "rad_0986.1\n",
      "rad_0992.4\n",
      "rad_0998.6\n",
      "rad_1004.8\n",
      "rad_1011.1\n",
      "rad_1017.3\n",
      "rad_1023.5\n",
      "rad_1029.7\n",
      "rad_1035.9\n",
      "rad_1042.1\n",
      "rad_1048.4\n",
      "rad_1054.6\n",
      "rad_1060.8\n",
      "rad_1067.0\n",
      "rad_1073.2\n",
      "rad_1079.4\n",
      "rad_1085.6\n",
      "rad_1091.8\n",
      "rad_1098.0\n",
      "rad_1104.2\n",
      "rad_1110.3\n",
      "rad_1116.5\n",
      "rad_1122.7\n",
      "rad_1128.9\n",
      "rad_1135.1\n",
      "rad_1141.2\n",
      "rad_1147.4\n",
      "rad_1153.6\n",
      "rad_1159.7\n",
      "rad_1165.9\n",
      "rad_1172.1\n",
      "rad_1178.2\n",
      "rad_1184.4\n",
      "rad_1190.5\n",
      "rad_1196.7\n",
      "rad_1202.8\n",
      "rad_1209.0\n",
      "rad_1215.1\n",
      "rad_1221.3\n",
      "rad_1227.4\n",
      "rad_1233.5\n",
      "rad_1239.7\n",
      "rad_1245.8\n",
      "rad_1251.9\n",
      "rad_1258.0\n",
      "rad_1264.1\n",
      "rad_1270.3\n",
      "rad_1276.4\n",
      "rad_1282.5\n",
      "rad_1288.6\n",
      "rad_1294.7\n",
      "rad_1300.8\n",
      "rad_1306.9\n",
      "rad_1313.0\n",
      "rad_1319.1\n",
      "rad_1325.1\n",
      "rad_1331.2\n",
      "rad_1337.3\n",
      "rad_1343.4\n",
      "rad_1349.4\n",
      "rad_1355.5\n",
      "rad_1361.6\n",
      "rad_1367.6\n",
      "rad_1373.7\n",
      "rad_1379.7\n",
      "rad_1385.8\n",
      "rad_1391.8\n",
      "rad_1397.9\n",
      "rad_1403.9\n",
      "rad_1410.0\n",
      "rad_1416.0\n",
      "rad_1422.0\n",
      "rad_1428.0\n",
      "rad_1434.1\n",
      "rad_1440.1\n",
      "rad_1446.1\n",
      "rad_1452.1\n",
      "rad_1458.1\n",
      "rad_1464.1\n",
      "rad_1470.1\n",
      "rad_1476.1\n",
      "rad_1482.1\n",
      "rad_1488.1\n",
      "rad_1494.0\n",
      "rad_1500.0\n",
      "rad_1506.0\n",
      "rad_1512.0\n",
      "rad_1517.9\n",
      "rad_1523.9\n",
      "rad_1529.8\n",
      "rad_1535.8\n",
      "rad_1541.7\n",
      "rad_1547.7\n",
      "rad_1553.6\n",
      "rad_1559.5\n",
      "rad_1565.5\n",
      "rad_1571.4\n",
      "rad_1577.3\n",
      "rad_1583.2\n",
      "rad_1589.1\n",
      "rad_1595.0\n",
      "rad_1600.9\n",
      "rad_1606.8\n",
      "rad_1612.7\n",
      "rad_1618.6\n",
      "rad_1624.5\n",
      "rad_1630.4\n",
      "rad_1636.3\n",
      "rad_1642.1\n",
      "rad_1648.0\n",
      "rad_1653.9\n",
      "rad_1659.7\n",
      "rad_1665.6\n",
      "rad_1671.4\n",
      "rad_1677.2\n",
      "rad_1683.1\n",
      "rad_1688.9\n",
      "rad_1694.7\n",
      "rad_1700.6\n",
      "rad_1706.4\n",
      "rad_1712.2\n",
      "rad_1718.0\n",
      "rad_1723.8\n",
      "rad_1729.6\n",
      "rad_1735.4\n",
      "rad_1741.2\n",
      "rad_1746.9\n",
      "rad_1752.7\n",
      "rad_1758.5\n",
      "rad_1764.3\n",
      "rad_1770.0\n",
      "rad_1775.8\n",
      "rad_1781.5\n",
      "rad_1787.3\n",
      "rad_1793.0\n",
      "rad_1798.7\n",
      "rad_1804.5\n",
      "rad_1810.2\n",
      "rad_1815.9\n",
      "rad_1821.6\n",
      "rad_1827.3\n",
      "rad_1833.0\n",
      "rad_1838.7\n",
      "rad_1844.4\n",
      "rad_1850.1\n",
      "rad_1855.8\n",
      "rad_1861.4\n",
      "rad_1867.1\n",
      "rad_1872.8\n",
      "rad_1878.4\n",
      "rad_1884.1\n",
      "rad_1889.7\n",
      "rad_1895.3\n",
      "rad_1901.0\n",
      "rad_1906.6\n",
      "rad_1912.2\n",
      "rad_1917.8\n",
      "rad_1923.4\n",
      "rad_1929.0\n",
      "rad_1934.6\n",
      "rad_1940.2\n",
      "rad_1945.8\n",
      "rad_1951.4\n",
      "rad_1957.0\n",
      "rad_1962.5\n",
      "rad_1968.1\n",
      "rad_1973.6\n",
      "rad_1979.2\n",
      "rad_1984.7\n",
      "rad_1990.3\n",
      "rad_1995.8\n",
      "rad_2001.3\n",
      "rad_2006.8\n",
      "rad_2012.3\n",
      "rad_2017.8\n",
      "rad_2023.3\n",
      "rad_2028.8\n",
      "rad_2034.3\n",
      "rad_2039.8\n",
      "rad_2045.2\n",
      "rad_2050.7\n",
      "rad_2056.2\n",
      "rad_2061.6\n",
      "rad_2067.1\n",
      "rad_2072.5\n",
      "rad_2077.9\n",
      "rad_2083.4\n",
      "rad_2088.8\n",
      "rad_2094.2\n",
      "rad_2099.6\n",
      "rad_2105.0\n",
      "rad_2110.4\n",
      "rad_2115.8\n",
      "rad_2121.1\n",
      "rad_2126.5\n",
      "rad_2131.9\n",
      "rad_2137.2\n",
      "rad_2142.6\n",
      "rad_2147.9\n",
      "File writing successful to: /mnt/c/Users/lebla/Research/SSFR3/SSFR-Zenith-radiance_Boulder_20120806_R0.ict\n"
     ]
    }
   ],
   "source": [
    "wu.write_ict(hdict_sp_mix,dict_sp_mix,filepath=fp,\n",
    "              data_id='SSFR_Zenith_radiance',loc_id='Boulder',date=days[1],rev='R0',order=order_sp)"
   ]
  },
  {
   "cell_type": "markdown",
   "metadata": {},
   "source": [
    "### Save the ice cloud"
   ]
  },
  {
   "cell_type": "code",
   "execution_count": 287,
   "metadata": {
    "ExecuteTime": {
     "end_time": "2019-12-03T01:13:27.230359Z",
     "start_time": "2019-12-03T01:13:27.222704Z"
    }
   },
   "outputs": [],
   "source": [
    "dict_sp_ice =  {'Start_UTC':{'data':rsp[2]['utc']*3600.0,'unit':'seconds from midnight UTC',\n",
    "                           'long_description':'time keeping, based on UTC midnight'},\n",
    "      'SZA':{'data':rsp[2]['sza'],'unit':'degrees','long_description':'Solar Zenith Angle of observations'}}\n",
    "order_spi = ['SZA']"
   ]
  },
  {
   "cell_type": "code",
   "execution_count": 288,
   "metadata": {
    "ExecuteTime": {
     "end_time": "2019-12-03T01:13:27.777532Z",
     "start_time": "2019-12-03T01:13:27.767727Z"
    }
   },
   "outputs": [],
   "source": [
    "for i,n in enumerate(rsp[2]['wvl']):\n",
    "    dict_sp_ice['rad_{:06.1f}'.format(n)]={'data':rsp[2]['rad'][:,i],'unit':'W/m^2/nm/sr','long_description':'Zenith radiance measured at {} nm'.format(n)}\n",
    "    order_spi.append('rad_{:06.1f}'.format(n))"
   ]
  },
  {
   "cell_type": "code",
   "execution_count": 289,
   "metadata": {
    "ExecuteTime": {
     "end_time": "2019-12-03T01:13:28.350669Z",
     "start_time": "2019-12-03T01:13:28.343404Z"
    }
   },
   "outputs": [],
   "source": [
    "hdict_sp_ice = hdict_sp\n",
    "hdict_sp_ice['special_comments'] = 'Ice cloud case from LeBlanc et al., 2015'"
   ]
  },
  {
   "cell_type": "code",
   "execution_count": 290,
   "metadata": {
    "ExecuteTime": {
     "end_time": "2019-12-03T01:13:36.799016Z",
     "start_time": "2019-12-03T01:13:31.656851Z"
    }
   },
   "outputs": [
    {
     "name": "stdout",
     "output_type": "stream",
     "text": [
      "SZA\n",
      "rad_0350.9\n",
      "rad_0354.2\n",
      "rad_0357.5\n",
      "rad_0360.8\n",
      "rad_0364.1\n",
      "rad_0367.4\n",
      "rad_0370.7\n",
      "rad_0374.0\n",
      "rad_0377.3\n",
      "rad_0380.6\n",
      "rad_0383.9\n",
      "rad_0387.2\n",
      "rad_0390.5\n",
      "rad_0393.7\n",
      "rad_0397.0\n",
      "rad_0400.3\n",
      "rad_0403.6\n",
      "rad_0406.9\n",
      "rad_0410.2\n",
      "rad_0413.5\n",
      "rad_0416.8\n",
      "rad_0420.1\n",
      "rad_0423.4\n",
      "rad_0426.7\n",
      "rad_0430.0\n",
      "rad_0433.3\n",
      "rad_0436.6\n",
      "rad_0439.9\n",
      "rad_0443.2\n",
      "rad_0446.5\n",
      "rad_0449.8\n",
      "rad_0453.1\n",
      "rad_0456.4\n",
      "rad_0459.7\n",
      "rad_0463.0\n",
      "rad_0466.3\n",
      "rad_0469.5\n",
      "rad_0472.8\n",
      "rad_0476.1\n",
      "rad_0479.4\n",
      "rad_0482.7\n",
      "rad_0486.0\n",
      "rad_0489.3\n",
      "rad_0492.6\n",
      "rad_0495.9\n",
      "rad_0499.2\n",
      "rad_0502.5\n",
      "rad_0505.8\n",
      "rad_0509.1\n",
      "rad_0512.4\n",
      "rad_0515.7\n",
      "rad_0519.0\n",
      "rad_0522.3\n",
      "rad_0525.5\n",
      "rad_0528.8\n",
      "rad_0532.1\n",
      "rad_0535.4\n",
      "rad_0538.7\n",
      "rad_0542.0\n",
      "rad_0545.3\n",
      "rad_0548.6\n",
      "rad_0551.9\n",
      "rad_0555.2\n",
      "rad_0558.5\n",
      "rad_0561.8\n",
      "rad_0565.0\n",
      "rad_0568.3\n",
      "rad_0571.6\n",
      "rad_0574.9\n",
      "rad_0578.2\n",
      "rad_0581.5\n",
      "rad_0584.8\n",
      "rad_0588.1\n",
      "rad_0591.3\n",
      "rad_0594.6\n",
      "rad_0597.9\n",
      "rad_0601.2\n",
      "rad_0604.5\n",
      "rad_0607.8\n",
      "rad_0611.0\n",
      "rad_0614.3\n",
      "rad_0617.6\n",
      "rad_0620.9\n",
      "rad_0624.2\n",
      "rad_0627.5\n",
      "rad_0630.7\n",
      "rad_0634.0\n",
      "rad_0637.3\n",
      "rad_0640.6\n",
      "rad_0643.9\n",
      "rad_0647.1\n",
      "rad_0650.4\n",
      "rad_0653.7\n",
      "rad_0657.0\n",
      "rad_0660.2\n",
      "rad_0663.5\n",
      "rad_0666.8\n",
      "rad_0670.1\n",
      "rad_0673.3\n",
      "rad_0676.6\n",
      "rad_0679.9\n",
      "rad_0683.1\n",
      "rad_0686.4\n",
      "rad_0689.7\n",
      "rad_0692.9\n",
      "rad_0696.2\n",
      "rad_0699.5\n",
      "rad_0702.7\n",
      "rad_0706.0\n",
      "rad_0709.3\n",
      "rad_0712.5\n",
      "rad_0715.8\n",
      "rad_0719.1\n",
      "rad_0722.3\n",
      "rad_0725.6\n",
      "rad_0728.8\n",
      "rad_0732.1\n",
      "rad_0735.4\n",
      "rad_0738.6\n",
      "rad_0741.9\n",
      "rad_0745.1\n",
      "rad_0748.4\n",
      "rad_0751.6\n",
      "rad_0754.9\n",
      "rad_0758.1\n",
      "rad_0761.4\n",
      "rad_0764.6\n",
      "rad_0767.9\n",
      "rad_0771.1\n",
      "rad_0774.4\n",
      "rad_0777.6\n",
      "rad_0780.9\n",
      "rad_0784.1\n",
      "rad_0787.4\n",
      "rad_0790.6\n",
      "rad_0793.8\n",
      "rad_0797.1\n",
      "rad_0800.3\n",
      "rad_0803.6\n",
      "rad_0806.8\n",
      "rad_0810.0\n",
      "rad_0813.3\n",
      "rad_0816.5\n",
      "rad_0819.7\n",
      "rad_0823.0\n",
      "rad_0826.2\n",
      "rad_0829.4\n",
      "rad_0832.7\n",
      "rad_0835.9\n",
      "rad_0839.1\n",
      "rad_0842.3\n",
      "rad_0845.6\n",
      "rad_0848.8\n",
      "rad_0852.0\n",
      "rad_0855.2\n",
      "rad_0858.4\n",
      "rad_0861.7\n",
      "rad_0864.9\n",
      "rad_0868.1\n",
      "rad_0871.3\n",
      "rad_0874.5\n",
      "rad_0877.7\n",
      "rad_0880.9\n",
      "rad_0884.1\n",
      "rad_0887.3\n",
      "rad_0890.6\n",
      "rad_0893.8\n",
      "rad_0897.0\n",
      "rad_0900.2\n",
      "rad_0903.4\n",
      "rad_0906.6\n",
      "rad_0909.8\n",
      "rad_0913.0\n",
      "rad_0916.2\n",
      "rad_0919.3\n",
      "rad_0922.5\n",
      "rad_0925.7\n",
      "rad_0928.9\n",
      "rad_0932.1\n",
      "rad_0935.3\n",
      "rad_0938.5\n",
      "rad_0941.7\n",
      "rad_0944.8\n",
      "rad_0948.0\n",
      "rad_0951.2\n",
      "rad_0954.4\n",
      "rad_0957.6\n",
      "rad_0960.7\n",
      "rad_0963.9\n",
      "rad_0967.1\n",
      "rad_0970.3\n",
      "rad_0973.4\n",
      "rad_0976.6\n",
      "rad_0979.8\n",
      "rad_0986.1\n",
      "rad_0992.4\n",
      "rad_0998.6\n",
      "rad_1004.8\n",
      "rad_1011.1\n",
      "rad_1017.3\n",
      "rad_1023.5\n",
      "rad_1029.7\n",
      "rad_1035.9\n",
      "rad_1042.1\n",
      "rad_1048.4\n",
      "rad_1054.6\n",
      "rad_1060.8\n",
      "rad_1067.0\n",
      "rad_1073.2\n",
      "rad_1079.4\n",
      "rad_1085.6\n",
      "rad_1091.8\n",
      "rad_1098.0\n",
      "rad_1104.2\n",
      "rad_1110.3\n",
      "rad_1116.5\n",
      "rad_1122.7\n",
      "rad_1128.9\n",
      "rad_1135.1\n",
      "rad_1141.2\n",
      "rad_1147.4\n",
      "rad_1153.6\n",
      "rad_1159.7\n",
      "rad_1165.9\n",
      "rad_1172.1\n",
      "rad_1178.2\n",
      "rad_1184.4\n",
      "rad_1190.5\n",
      "rad_1196.7\n",
      "rad_1202.8\n",
      "rad_1209.0\n",
      "rad_1215.1\n",
      "rad_1221.3\n",
      "rad_1227.4\n",
      "rad_1233.5\n",
      "rad_1239.7\n",
      "rad_1245.8\n",
      "rad_1251.9\n",
      "rad_1258.0\n",
      "rad_1264.1\n",
      "rad_1270.3\n",
      "rad_1276.4\n",
      "rad_1282.5\n",
      "rad_1288.6\n",
      "rad_1294.7\n",
      "rad_1300.8\n",
      "rad_1306.9\n",
      "rad_1313.0\n",
      "rad_1319.1\n",
      "rad_1325.1\n",
      "rad_1331.2\n",
      "rad_1337.3\n",
      "rad_1343.4\n",
      "rad_1349.4\n",
      "rad_1355.5\n",
      "rad_1361.6\n",
      "rad_1367.6\n",
      "rad_1373.7\n",
      "rad_1379.7\n",
      "rad_1385.8\n",
      "rad_1391.8\n",
      "rad_1397.9\n",
      "rad_1403.9\n",
      "rad_1410.0\n",
      "rad_1416.0\n",
      "rad_1422.0\n",
      "rad_1428.0\n",
      "rad_1434.1\n",
      "rad_1440.1\n",
      "rad_1446.1\n",
      "rad_1452.1\n",
      "rad_1458.1\n",
      "rad_1464.1\n",
      "rad_1470.1\n",
      "rad_1476.1\n",
      "rad_1482.1\n",
      "rad_1488.1\n",
      "rad_1494.0\n",
      "rad_1500.0\n",
      "rad_1506.0\n",
      "rad_1512.0\n",
      "rad_1517.9\n",
      "rad_1523.9\n",
      "rad_1529.8\n",
      "rad_1535.8\n",
      "rad_1541.7\n",
      "rad_1547.7\n",
      "rad_1553.6\n",
      "rad_1559.5\n",
      "rad_1565.5\n",
      "rad_1571.4\n",
      "rad_1577.3\n",
      "rad_1583.2\n",
      "rad_1589.1\n",
      "rad_1595.0\n",
      "rad_1600.9\n",
      "rad_1606.8\n",
      "rad_1612.7\n",
      "rad_1618.6\n",
      "rad_1624.5\n",
      "rad_1630.4\n",
      "rad_1636.3\n",
      "rad_1642.1\n",
      "rad_1648.0\n",
      "rad_1653.9\n",
      "rad_1659.7\n",
      "rad_1665.6\n",
      "rad_1671.4\n",
      "rad_1677.2\n",
      "rad_1683.1\n",
      "rad_1688.9\n",
      "rad_1694.7\n",
      "rad_1700.6\n",
      "rad_1706.4\n",
      "rad_1712.2\n",
      "rad_1718.0\n",
      "rad_1723.8\n",
      "rad_1729.6\n",
      "rad_1735.4\n",
      "rad_1741.2\n",
      "rad_1746.9\n",
      "rad_1752.7\n",
      "rad_1758.5\n",
      "rad_1764.3\n",
      "rad_1770.0\n",
      "rad_1775.8\n",
      "rad_1781.5\n",
      "rad_1787.3\n",
      "rad_1793.0\n",
      "rad_1798.7\n",
      "rad_1804.5\n",
      "rad_1810.2\n",
      "rad_1815.9\n",
      "rad_1821.6\n",
      "rad_1827.3\n",
      "rad_1833.0\n",
      "rad_1838.7\n",
      "rad_1844.4\n",
      "rad_1850.1\n",
      "rad_1855.8\n",
      "rad_1861.4\n",
      "rad_1867.1\n",
      "rad_1872.8\n",
      "rad_1878.4\n",
      "rad_1884.1\n",
      "rad_1889.7\n",
      "rad_1895.3\n",
      "rad_1901.0\n",
      "rad_1906.6\n",
      "rad_1912.2\n",
      "rad_1917.8\n",
      "rad_1923.4\n",
      "rad_1929.0\n",
      "rad_1934.6\n",
      "rad_1940.2\n",
      "rad_1945.8\n",
      "rad_1951.4\n",
      "rad_1957.0\n",
      "rad_1962.5\n",
      "rad_1968.1\n",
      "rad_1973.6\n",
      "rad_1979.2\n",
      "rad_1984.7\n",
      "rad_1990.3\n",
      "rad_1995.8\n",
      "rad_2001.3\n",
      "rad_2006.8\n",
      "rad_2012.3\n",
      "rad_2017.8\n",
      "rad_2023.3\n",
      "rad_2028.8\n",
      "rad_2034.3\n",
      "rad_2039.8\n",
      "rad_2045.2\n",
      "rad_2050.7\n",
      "rad_2056.2\n",
      "rad_2061.6\n",
      "rad_2067.1\n",
      "rad_2072.5\n",
      "rad_2077.9\n",
      "rad_2083.4\n",
      "rad_2088.8\n",
      "rad_2094.2\n",
      "rad_2099.6\n",
      "rad_2105.0\n",
      "rad_2110.4\n",
      "rad_2115.8\n",
      "rad_2121.1\n",
      "rad_2126.5\n",
      "rad_2131.9\n",
      "rad_2137.2\n",
      "rad_2142.6\n",
      "rad_2147.9\n",
      "File writing successful to: /mnt/c/Users/lebla/Research/SSFR3/SSFR-Zenith-radiance_Boulder_20130110_R0.ict\n"
     ]
    }
   ],
   "source": [
    "wu.write_ict(hdict_sp_ice,dict_sp_ice,filepath=fp,\n",
    "              data_id='SSFR_Zenith_radiance',loc_id='Boulder',date=days[2],rev='R0',order=order_spi)"
   ]
  },
  {
   "cell_type": "markdown",
   "metadata": {},
   "source": [
    "# Update for specific format requested by Kokhanovsky"
   ]
  },
  {
   "cell_type": "markdown",
   "metadata": {},
   "source": [
    "From: Kokhanovsky Alexander <a.kokhanovsky@vitrocisetbelgium.com>\n",
    "Sent: Tuesday, December 3, 2019 1:46 AM\n",
    "\n",
    "My ideal format is\n",
    "\n",
    "Date, SZA, T at 3 wavelengths (440, 1020,1640nm), surface albedo at these 3 wavelengths, your results for COT, LWP,a_ef(spectral method)\n",
    "\n",
    " "
   ]
  },
  {
   "cell_type": "code",
   "execution_count": 52,
   "metadata": {
    "ExecuteTime": {
     "end_time": "2020-01-17T22:56:14.980738Z",
     "start_time": "2020-01-17T22:56:14.972645Z"
    }
   },
   "outputs": [],
   "source": [
    "hdict = {'PI':'Samuel LeBlanc',\n",
    "     'Institution':'NASA Ames Research Center',\n",
    "     'Instrument':'Solar Spectral Flux Radiometer - 3 (SSFR3)',\n",
    "     'campaign':'University of Colorado Skywatch Observatory',\n",
    "     'special_comments':'For Alexander Kokhanovsky',\n",
    "     'PI_contact':'Samuel.leblanc@nasa.gov',\n",
    "     'platform':'Roof top, University of Colorado',\n",
    "     'location':'University of Colorado, Duane rooftop, Boulder, Colorado, USA, Lat: 40.01 N, Lon: 105.25 W, Alt: 1660 m',\n",
    "     'instrument_info':'Selected Transmittances and derived product from SSFR with zenith narrow field of view radiance light collector',\n",
    "     'data_info':'Using the cloud property retrieval method based on spectral transmitted light measurements described by LeBlanc, Pileskie, Schmidt, and Coddington (2015), AMT, https://doi.org/10.5194/amt-8-1361-2015',\n",
    "     'uncertainty':'See included variables.',\n",
    "     'DM_contact':'Samuel LeBlanc, samuel.leblanc@nasa.gov',\n",
    "     'project_info':'N/A',\n",
    "     'stipulations':'',\n",
    "     'rev_comments':'R0: Data from LeBlanc et al., 2015 publication, released to A. Kohkanovsky in January, 2020.'\n",
    "    }\n",
    "order = ['SZA','T0440','T1020','T1640','COD','COD_err_low','COD_err_up','REF','REF_err_low','REF_err_up','Phase','Ki_square']"
   ]
  },
  {
   "cell_type": "code",
   "execution_count": 59,
   "metadata": {
    "ExecuteTime": {
     "end_time": "2020-01-17T22:57:02.426912Z",
     "start_time": "2020-01-17T22:57:02.421772Z"
    }
   },
   "outputs": [],
   "source": [
    "f = [f_liq,f_mix,f_ice]"
   ]
  },
  {
   "cell_type": "code",
   "execution_count": 61,
   "metadata": {
    "ExecuteTime": {
     "end_time": "2020-01-17T22:57:29.455978Z",
     "start_time": "2020-01-17T22:57:29.446027Z"
    }
   },
   "outputs": [],
   "source": [
    "def fo(gu,nn):\n",
    "\n",
    "    gu['tau_rtm'][nn] = np.nan\n",
    "    gu['ref_rtm'][nn] = np.nan\n",
    "    gu['tau_err'][0,nn] = np.nan\n",
    "    gu['ref_err'][0,nn] = np.nan\n",
    "    gu['tau_err'][1,nn] = np.nan\n",
    "    gu['ref_err'][1,nn] = np.nan\n",
    "    gu['ki_rtm'][nn] = np.nan\n",
    "    gu['wp_rtm'][nn] = np.nan\n",
    "    return gu"
   ]
  },
  {
   "cell_type": "code",
   "execution_count": 62,
   "metadata": {
    "ExecuteTime": {
     "end_time": "2020-01-17T22:57:31.664364Z",
     "start_time": "2020-01-17T22:57:31.644384Z"
    }
   },
   "outputs": [
    {
     "name": "stderr",
     "output_type": "stream",
     "text": [
      "/home/samuel/.local/lib/python2.7/site-packages/ipykernel_launcher.py:17: RuntimeWarning: invalid value encountered in greater\n"
     ]
    }
   ],
   "source": [
    "rtr = []\n",
    "for i,g in enumerate(f):\n",
    "    ff = {}\n",
    "    for k in g.keys(): ff[k] = np.array(g[k])\n",
    "    ff['tau_rtm'] = smooth(ff['tau_rtm'],4,old=True)\n",
    "    ff['ref_rtm'] = smooth(ff['ref_rtm'],4,old=True)\n",
    "    tr = ff['tau_rtm']==0\n",
    "    if any(tr): ff = fo(ff,tr)\n",
    "    trm = ff['tau_rtm']>99.0\n",
    "    if any(trm): ff = fo(ff,trm)\n",
    "    rr = ff['ref_rtm']==0\n",
    "    if any(rr): ff = fo(ff,rr)\n",
    "    rrm = ff['ref_rtm']>99.0\n",
    "    if any(rrm): ff = fo(ff,rrm)\n",
    "    kr = ff['ki_rtm']>0.69\n",
    "    if any(kr): ff = fo(ff,kr)\n",
    "    rem = ff['ref_err'][0,:]>3.0\n",
    "    if any(rem): ff['ref_err'][0,rem] = 3.0\n",
    "    if i==0:\n",
    "        wr = ff['wp_rtm']==1\n",
    "        if any(wr): ff = fo(ff,wr)\n",
    "    elif i==2:\n",
    "        wr = ff['wp_rtm']==0\n",
    "        if any(wr): ff = fo(ff,wr)\n",
    "    rtr.append(ff)"
   ]
  },
  {
   "cell_type": "code",
   "execution_count": 63,
   "metadata": {
    "ExecuteTime": {
     "end_time": "2020-01-17T22:57:43.842212Z",
     "start_time": "2020-01-17T22:57:43.833144Z"
    }
   },
   "outputs": [
    {
     "data": {
      "text/plain": [
       "['wp_err',\n",
       " 'ref_err',\n",
       " 'ki_rtm',\n",
       " 'wp_rtm',\n",
       " 'ref_rtm',\n",
       " 'tau_rtm',\n",
       " 'tau_err',\n",
       " 'tmhrs']"
      ]
     },
     "execution_count": 63,
     "metadata": {},
     "output_type": "execute_result"
    }
   ],
   "source": [
    "rtr[0].keys()"
   ]
  },
  {
   "cell_type": "code",
   "execution_count": 68,
   "metadata": {
    "ExecuteTime": {
     "end_time": "2020-01-17T23:04:14.010761Z",
     "start_time": "2020-01-17T23:04:14.003487Z"
    }
   },
   "outputs": [],
   "source": [
    "lat = 40.01\n",
    "lon = -105.25\n",
    "alt = 1660.0"
   ]
  },
  {
   "cell_type": "code",
   "execution_count": 69,
   "metadata": {
    "ExecuteTime": {
     "end_time": "2020-01-17T23:04:14.447642Z",
     "start_time": "2020-01-17T23:04:14.442509Z"
    }
   },
   "outputs": [],
   "source": [
    "sp = [sp_liq,sp_mix,sp_ice]"
   ]
  },
  {
   "cell_type": "code",
   "execution_count": 70,
   "metadata": {
    "ExecuteTime": {
     "end_time": "2020-01-17T23:04:14.860698Z",
     "start_time": "2020-01-17T23:04:14.855926Z"
    }
   },
   "outputs": [],
   "source": [
    "ut = [[15.0,16.0],[22.0,23.0],[17.5,19.5]]"
   ]
  },
  {
   "cell_type": "code",
   "execution_count": 71,
   "metadata": {
    "ExecuteTime": {
     "end_time": "2020-01-17T23:05:02.534820Z",
     "start_time": "2020-01-17T23:05:01.212463Z"
    }
   },
   "outputs": [],
   "source": [
    "rsp = []\n",
    "for i,g in enumerate(sp):\n",
    "    fsp = {}\n",
    "    dtu = np.array([datetime(int(days[i][0:4]),int(days[i][4:6]),int(days[i][6:8])+(int(u)/24+1),\n",
    "                             int(u%24),int((u-int(u))*60),int(((u-int(u))*60)-int((u-int(u))*60))*60,\n",
    "                             tzinfo=pytz.timezone('UTC')) for u in g['tmhrs']])\n",
    "    sza, azi,solfac = mu.get_sza_azi(lat,lon,dtu,alt=alt,return_sunearthfactor=True)\n",
    "    tp = (g['tmhrs']>=ut[i][0]) & (g['tmhrs']<=ut[i][1]) & (g['sat']==0) & (g['zspectra'][:,50]>0.0003)\n",
    "    fsp['utc'] = g['tmhrs'][tp]\n",
    "    fsp['sza'] = np.array(sza)[tp]\n",
    "    fsp['wvl'] = g['zenlambda']\n",
    "    fsp['rad'] = g['zspectra'][tp,:]\n",
    "    rsp.append(fsp)"
   ]
  },
  {
   "cell_type": "markdown",
   "metadata": {},
   "source": [
    "## Save liquid cloud in format"
   ]
  },
  {
   "cell_type": "code",
   "execution_count": 67,
   "metadata": {
    "ExecuteTime": {
     "end_time": "2020-01-17T23:02:31.410881Z",
     "start_time": "2020-01-17T23:02:31.397954Z"
    }
   },
   "outputs": [
    {
     "data": {
      "text/plain": [
       "['status',\n",
       " 'darks',\n",
       " 'zenlambda',\n",
       " 'zer',\n",
       " 'nadlambda',\n",
       " 'nspectra',\n",
       " 'zspectra',\n",
       " 'sat',\n",
       " 'ner',\n",
       " 'tmhrs']"
      ]
     },
     "execution_count": 67,
     "metadata": {},
     "output_type": "execute_result"
    }
   ],
   "source": [
    "s0440 = "
   ]
  },
  {
   "cell_type": "code",
   "execution_count": 66,
   "metadata": {
    "ExecuteTime": {
     "end_time": "2020-01-17T23:01:24.693374Z",
     "start_time": "2020-01-17T23:01:24.680737Z"
    }
   },
   "outputs": [
    {
     "data": {
      "text/plain": [
       "array([15.055     , 15.06333333, 15.07166667, 15.08      , 15.08833333,\n",
       "       15.09666667, 15.105     , 15.11333333, 15.12166667, 15.13      ,\n",
       "       15.13833333, 15.14666667, 15.155     , 15.16333333, 15.17166667,\n",
       "       15.18      , 15.18833333, 15.19666667, 15.205     , 15.21333333,\n",
       "       15.22166667, 15.23      , 15.23833333, 15.24666667, 15.2775    ,\n",
       "       15.28583333, 15.29416667, 15.3025    , 15.31083333, 15.31916667,\n",
       "       15.3275    , 15.33583333, 15.34416667, 15.3525    , 15.36083333,\n",
       "       15.36916667, 15.3775    , 15.38583333, 15.39416667, 15.4025    ,\n",
       "       15.41083333, 15.41916667, 15.4275    , 15.43583333, 15.44416667,\n",
       "       15.4525    , 15.46083333, 15.46916667, 15.4775    , 15.48583333,\n",
       "       15.49416667, 15.525     , 15.53333333, 15.54166667, 15.55      ,\n",
       "       15.55833333, 15.56666667, 15.575     , 15.58333333, 15.59166667,\n",
       "       15.6       , 15.60833333, 15.61666667, 15.625     , 15.63333333,\n",
       "       15.64166667, 15.65      , 15.65833333, 15.66666667, 15.675     ,\n",
       "       15.68333333, 15.69166667, 15.7       , 15.70833333, 15.71666667,\n",
       "       15.725     , 15.73333333, 15.74166667, 15.7725    , 15.78083333,\n",
       "       15.78916667, 15.7975    , 15.80583333, 15.81416667, 15.8225    ,\n",
       "       15.83083333, 15.83916667, 15.8475    , 15.85583333, 15.86416667,\n",
       "       15.8725    , 15.88083333, 15.88916667, 15.8975    , 15.90583333,\n",
       "       15.91416667, 15.9225    , 15.93083333, 15.93916667, 15.9475    ,\n",
       "       15.95583333, 15.96416667, 15.9725    , 15.98083333, 15.98916667,\n",
       "       15.9975    ])"
      ]
     },
     "execution_count": 66,
     "metadata": {},
     "output_type": "execute_result"
    }
   ],
   "source": [
    "T0440 = "
   ]
  },
  {
   "cell_type": "code",
   "execution_count": 64,
   "metadata": {
    "ExecuteTime": {
     "end_time": "2020-01-17T22:57:55.213677Z",
     "start_time": "2020-01-17T22:57:55.196897Z"
    }
   },
   "outputs": [],
   "source": [
    "dict_fliq =  {'Start_UTC':{'data':rtr[0]['tmhrs']*3600.0,'unit':'seconds from midnight UTC',\n",
    "                           'long_description':'time keeping, based on UTC midnight'},\n",
    "      'COD':{'data':rtr[0]['tau_rtm'],'unit':'None','long_description':'Cloud Optical Depth of overlying cloud'},\n",
    "      'REF':{'data':rtr[0]['ref_rtm'],'unit':'micrometer',\n",
    "             'long_description':'Cloud drop effective radius for liquid clouds'},\n",
    "      'COD_err_low':{'data':rtr[0]['tau_err'][0,:],'unit':'None',\n",
    "                     'long_description':'Lower value of retrieval uncertainty of Cloud Optical Depth'},\n",
    "      'COD_err_up':{'data':rtr[0]['tau_err'][1,:],'unit':'None',\n",
    "                    'long_description':'Upper value of retrieval uncertainty of Cloud Optical Depth'},\n",
    "      'REF_err_low':{'data':rtr[0]['ref_err'][0,:],'unit':'micrometer',\n",
    "                     'long_description':'Lower value of retrieval uncertainty of Cloud effective radius.'},\n",
    "      'REF_err_up':{'data':rtr[0]['ref_err'][1,:],'unit':'micrometer',\n",
    "                    'long_description':'Upper value of retrieval uncertainty of Cloud effective radius.'},\n",
    "      'Phase':{'data':rtr[0]['wp_rtm'],'unit':'None',\n",
    "               'long_description':'Thermodynamic phase, 0 for liquid cloud, 1 for ice cloud'},\n",
    "      'Ki_square':{'data':rtr[0]['ki_rtm'],'unit':'None',\n",
    "                   'long_description':'Ki square fit parameter. It is the remainder of the ki square fit, values higher than 0.69 are considered to be failed retrievals.'}}"
   ]
  },
  {
   "cell_type": "code",
   "execution_count": 65,
   "metadata": {
    "ExecuteTime": {
     "end_time": "2020-01-17T22:58:05.687142Z",
     "start_time": "2020-01-17T22:58:05.680765Z"
    }
   },
   "outputs": [],
   "source": [
    "hdict_fliq = hdict\n",
    "hdict_fliq['special_comments'] = 'Liquid cloud case from LeBlanc et al., 2015'"
   ]
  },
  {
   "cell_type": "code",
   "execution_count": null,
   "metadata": {},
   "outputs": [],
   "source": [
    "wu.write_ict(hdict_fliq,dict_fliq,filepath=fp,\n",
    "              data_id='SSFR_15params_CLD',loc_id='Boulder',date=days[0],rev='R0',order=order,delim=' ')  "
   ]
  }
 ],
 "metadata": {
  "kernelspec": {
   "display_name": "Python 2",
   "language": "python",
   "name": "python2"
  },
  "language_info": {
   "codemirror_mode": {
    "name": "ipython",
    "version": 2
   },
   "file_extension": ".py",
   "mimetype": "text/x-python",
   "name": "python",
   "nbconvert_exporter": "python",
   "pygments_lexer": "ipython2",
   "version": "2.7.15+"
  },
  "toc": {
   "base_numbering": 1,
   "nav_menu": {},
   "number_sections": true,
   "sideBar": false,
   "skip_h1_title": false,
   "title_cell": "Table of Contents",
   "title_sidebar": "Contents",
   "toc_cell": false,
   "toc_position": {
    "height": "568.656px",
    "left": "116px",
    "top": "386px",
    "width": "430.99px"
   },
   "toc_section_display": true,
   "toc_window_display": true
  }
 },
 "nbformat": 4,
 "nbformat_minor": 2
}
