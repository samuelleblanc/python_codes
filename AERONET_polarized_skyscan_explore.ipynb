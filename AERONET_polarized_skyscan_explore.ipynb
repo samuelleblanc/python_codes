{
 "cells": [
  {
   "cell_type": "markdown",
   "metadata": {},
   "source": [
    "# Info\n",
    "Purpose:\n",
    "\n",
    "    To go through and process and explore the AERONET polarized skyscans for the Ames' aeronet\n",
    "\n",
    "Input:\n",
    "\n",
    "    None\n",
    "\n",
    "Output:\n",
    "\n",
    "    Figure and save files\n",
    "\n",
    "Keywords:\n",
    "\n",
    "    none\n",
    "\n",
    "Dependencies:\n",
    "\n",
    "    - load_utils.py\n",
    "    - matplotlib\n",
    "    - numpy\n",
    "    - Sp_parameters\n",
    "    - write_utils\n",
    "    - path_utils\n",
    "    - hdf5storage\n",
    "    - scipy\n",
    "    - pandas\n",
    "\n",
    "Needed Files:\n",
    "  - file.rc : for consistent creation of look of matplotlib figures\n",
    "  - output from the command: wget --no-check-certificate -q -O NASA_Ames_PPP_ALP_HYP_alltime.dat \"https://aeronet.gsfc.nasa.gov/cgi-bin/print_web_data_raw_sky_v3?site=NASA_Ames&year=2013&month=6&day=1&year2=2021&month2=1&day2=14&HYP00=1&PPP00=1&ALP00=1&AVG=10\"\n",
    "\n",
    "Modification History:\n",
    "\n",
    "    Written: Samuel LeBlanc, Santa Cruz, CA, 2021-02-18\n",
    "    Modified:\n"
   ]
  },
  {
   "cell_type": "markdown",
   "metadata": {},
   "source": [
    "# Prepare python environment"
   ]
  },
  {
   "cell_type": "code",
   "execution_count": 3,
   "metadata": {
    "ExecuteTime": {
     "end_time": "2021-02-18T18:19:05.236708Z",
     "start_time": "2021-02-18T18:19:05.013771Z"
    }
   },
   "outputs": [],
   "source": [
    "import numpy as np\n",
    "import Sp_parameters as Sp\n",
    "import load_utils as lu\n",
    "import write_utils as wu\n",
    "from path_utils import getpath\n",
    "import hdf5storage as hs\n",
    "import scipy.io as sio\n",
    "import matplotlib.pyplot as plt\n",
    "%matplotlib notebook\n",
    "import os\n",
    "import pandas as pd"
   ]
  },
  {
   "cell_type": "code",
   "execution_count": 8,
   "metadata": {
    "ExecuteTime": {
     "end_time": "2021-02-18T18:22:27.595697Z",
     "start_time": "2021-02-18T18:22:27.584701Z"
    }
   },
   "outputs": [
    {
     "name": "stdout",
     "output_type": "stream",
     "text": [
      "Return path named:  rooftop /data/sunsat/rooftop/\n",
      "Return path named:  aeronet /data/sam/aeronet/\n"
     ]
    }
   ],
   "source": [
    "name = 'rooftop'\n",
    "vv = 'v1'\n",
    "fp_dat = getpath(name)\n",
    "fp = getpath('aeronet')\n",
    "fp_pl = fp+'plot/'"
   ]
  },
  {
   "cell_type": "markdown",
   "metadata": {},
   "source": [
    "# Load files"
   ]
  },
  {
   "cell_type": "code",
   "execution_count": 16,
   "metadata": {
    "ExecuteTime": {
     "end_time": "2021-02-18T18:42:30.204613Z",
     "start_time": "2021-02-18T18:42:29.008659Z"
    }
   },
   "outputs": [],
   "source": [
    "d = pd.read_csv(fp_dat+'NASA_Ames_PPP_ALP_HYP_alltime.dat',header=7)"
   ]
  },
  {
   "cell_type": "code",
   "execution_count": 17,
   "metadata": {
    "ExecuteTime": {
     "end_time": "2021-02-18T18:42:33.461015Z",
     "start_time": "2021-02-18T18:42:33.449608Z"
    }
   },
   "outputs": [
    {
     "data": {
      "text/plain": [
       "Index([u'AERONET_Site', u'Date(dd-mm-yyyy)', u'Time(hh:mm:ss)',\n",
       "       u'Device_Number', u'Nominal_Wavelength(nm)', u'Exact_Wavelength(um)',\n",
       "       u'Solar_Zenith_Angle', u'Sky_Scan_Type', u'Latitude(Degrees)',\n",
       "       u'Longitude(Degrees)',\n",
       "       ...\n",
       "       u'50.6', u'60.6', u'70.6', u'80.6', u'90.6', u'100.6', u'110.6',\n",
       "       u'120.6', u'140.6', u'160.6'],\n",
       "      dtype='object', length=221)"
      ]
     },
     "execution_count": 17,
     "metadata": {},
     "output_type": "execute_result"
    }
   ],
   "source": [
    "d.keys()"
   ]
  },
  {
   "cell_type": "markdown",
   "metadata": {},
   "source": [
    "# Plot out data"
   ]
  },
  {
   "cell_type": "code",
   "execution_count": null,
   "metadata": {},
   "outputs": [],
   "source": []
  }
 ],
 "metadata": {
  "kernelspec": {
   "display_name": "Python 2",
   "language": "python",
   "name": "python2"
  },
  "language_info": {
   "codemirror_mode": {
    "name": "ipython",
    "version": 2
   },
   "file_extension": ".py",
   "mimetype": "text/x-python",
   "name": "python",
   "nbconvert_exporter": "python",
   "pygments_lexer": "ipython2",
   "version": "2.7.18"
  },
  "toc": {
   "base_numbering": 1,
   "nav_menu": {},
   "number_sections": true,
   "sideBar": true,
   "skip_h1_title": false,
   "title_cell": "Table of Contents",
   "title_sidebar": "Contents",
   "toc_cell": false,
   "toc_position": {},
   "toc_section_display": true,
   "toc_window_display": false
  }
 },
 "nbformat": 4,
 "nbformat_minor": 2
}
