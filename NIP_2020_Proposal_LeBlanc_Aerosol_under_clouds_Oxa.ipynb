{
 "cells": [
  {
   "cell_type": "markdown",
   "metadata": {},
   "source": [
    "# Info\n",
    "Purpose:\n",
    "\n",
    "    Describe the details ...\n",
    "\n",
    "Input:\n",
    "\n",
    "    arguments\n",
    "\n",
    "Output:\n",
    "\n",
    "    Figure and save files\n",
    "\n",
    "Keywords:\n",
    "\n",
    "    none\n",
    "\n",
    "Dependencies:\n",
    "\n",
    "    - load_utils.py\n",
    "    - matplotlib\n",
    "    - numpy\n",
    "\n",
    "Needed Files:\n",
    "  - file.rc : for consistent creation of look of matplotlib figures\n",
    "  - ...\n",
    "\n",
    "Modification History:\n",
    "    \n",
    "    Written: Samuel LeBlanc, Santa Cruz, CA, 2020-09-17\n",
    "    Modified:\n"
   ]
  },
  {
   "cell_type": "markdown",
   "metadata": {},
   "source": [
    "# Prepare python environment"
   ]
  },
  {
   "cell_type": "code",
   "execution_count": 2,
   "metadata": {
    "ExecuteTime": {
     "end_time": "2020-09-17T23:17:47.529044Z",
     "start_time": "2020-09-17T23:17:47.201594Z"
    }
   },
   "outputs": [],
   "source": [
    "import numpy as np\n",
    "import Sp_parameters as Sp\n",
    "import load_utils as lu\n",
    "import write_utils as wu\n",
    "from path_utils import getpath\n",
    "import hdf5storage as hs\n",
    "import scipy.io as sio\n",
    "import matplotlib.pyplot as plt\n",
    "%matplotlib notebook\n",
    "import os\n"
   ]
  },
  {
   "cell_type": "code",
   "execution_count": 4,
   "metadata": {
    "ExecuteTime": {
     "end_time": "2020-09-17T23:17:57.359048Z",
     "start_time": "2020-09-17T23:17:57.353181Z"
    }
   },
   "outputs": [
    {
     "name": "stdout",
     "output_type": "stream",
     "text": [
      "Return path named:  KORUS /data/sam/KORUS-AQ/\n"
     ]
    }
   ],
   "source": [
    "name = 'KORUS'\n",
    "vv = 'v1'\n",
    "fp = getpath(name)\n"
   ]
  },
  {
   "cell_type": "markdown",
   "metadata": {},
   "source": [
    "# Load files"
   ]
  },
  {
   "cell_type": "markdown",
   "metadata": {},
   "source": [
    "# Plot out data"
   ]
  },
  {
   "cell_type": "code",
   "execution_count": null,
   "metadata": {},
   "outputs": [],
   "source": []
  }
 ],
 "metadata": {
  "kernelspec": {
   "display_name": "Python 2",
   "language": "python",
   "name": "python2"
  },
  "language_info": {
   "codemirror_mode": {
    "name": "ipython",
    "version": 2
   },
   "file_extension": ".py",
   "mimetype": "text/x-python",
   "name": "python",
   "nbconvert_exporter": "python",
   "pygments_lexer": "ipython2",
   "version": "2.7.17"
  },
  "toc": {
   "base_numbering": 1,
   "nav_menu": {},
   "number_sections": true,
   "sideBar": true,
   "skip_h1_title": false,
   "title_cell": "Table of Contents",
   "title_sidebar": "Contents",
   "toc_cell": false,
   "toc_position": {},
   "toc_section_display": true,
   "toc_window_display": false
  }
 },
 "nbformat": 4,
 "nbformat_minor": 2
}
